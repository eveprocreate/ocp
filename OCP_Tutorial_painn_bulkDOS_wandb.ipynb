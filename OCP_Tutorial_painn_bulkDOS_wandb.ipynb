{
 "cells": [
  {
   "cell_type": "markdown",
   "metadata": {
    "colab_type": "text",
    "id": "view-in-github"
   },
   "source": [
    "<a href=\"https://colab.research.google.com/github/Open-Catalyst-Project/ocp/blob/tutorials_01_11/tutorials/OCP_Tutorial.ipynb\" target=\"_parent\"><img src=\"https://colab.research.google.com/assets/colab-badge.svg\" alt=\"Open In Colab\"/></a>"
   ]
  },
  {
   "cell_type": "code",
   "execution_count": 1,
   "metadata": {},
   "outputs": [],
   "source": [
    "import os\n",
    "os.chdir(\"/l/users/elizaveta.starykh/OCP_project/ocp-git/\")"
   ]
  },
  {
   "cell_type": "code",
   "execution_count": 2,
   "metadata": {},
   "outputs": [
    {
     "name": "stdout",
     "output_type": "stream",
     "text": [
      "/l/users/elizaveta.starykh/OCP_project/ocp-git\n"
     ]
    }
   ],
   "source": [
    "!pwd"
   ]
  },
  {
   "cell_type": "code",
   "execution_count": null,
   "metadata": {},
   "outputs": [],
   "source": []
  },
  {
   "cell_type": "code",
   "execution_count": 4,
   "metadata": {},
   "outputs": [
    {
     "name": "stdout",
     "output_type": "stream",
     "text": [
      "The autoreload extension is already loaded. To reload it, use:\n",
      "  %reload_ext autoreload\n",
      "3.9.18 | packaged by conda-forge | (main, Aug 30 2023, 03:49:32) \n",
      "[GCC 12.3.0]\n",
      "2.0.1+cu118\n"
     ]
    },
    {
     "name": "stderr",
     "output_type": "stream",
     "text": [
      "/l/users/elizaveta.starykh/conda_envs/python9/lib/python3.9/site-packages/tqdm/auto.py:21: TqdmWarning: IProgress not found. Please update jupyter and ipywidgets. See https://ipywidgets.readthedocs.io/en/stable/user_install.html\n",
      "  from .autonotebook import tqdm as notebook_tqdm\n"
     ]
    }
   ],
   "source": [
    "##### all imports collected\n",
    "\n",
    "\n",
    "%load_ext autoreload\n",
    "%autoreload 2\n",
    "\n",
    "import os\n",
    "# os.chdir(\"/l/users/elizaveta.starykh/OCP_project/ocp-git/\")\n",
    "\n",
    "import sys\n",
    "print(sys.version)\n",
    "import torch\n",
    "print(torch.__version__)\n",
    "\n",
    "import torch\n",
    "import matplotlib\n",
    "matplotlib.use('Agg')\n",
    "import numpy as np\n",
    "import matplotlib.pyplot as plt\n",
    "%matplotlib inline\n",
    "import ase.io\n",
    "from ase.io.trajectory import Trajectory\n",
    "from ase.io import extxyz\n",
    "from ase.calculators.emt import EMT\n",
    "from ase.build import fcc100, add_adsorbate, molecule\n",
    "from ase.constraints import FixAtoms\n",
    "from ase.optimize import LBFGS\n",
    "from ase.visualize.plot import plot_atoms\n",
    "from ase import Atoms\n",
    "from IPython.display import Image\n",
    "\n",
    "import ocpmodels\n",
    "import lmdb\n",
    "import torch_geometric\n",
    "\n",
    "from ocpmodels.datasets import LmdbDataset\n",
    "\n",
    "### April 2024, python9_kernel, python9 env, python=3.9.18, CSCC\n",
    "import e3nn\n",
    "from ocpmodels.trainers import OCPTrainer\n",
    "from ocpmodels.datasets import LmdbDataset\n",
    "from ocpmodels import models\n",
    "from ocpmodels.common import logger\n",
    "from ocpmodels.common.utils import setup_logging, setup_imports\n",
    "setup_imports()\n",
    "setup_logging()\n",
    "import copy\n",
    "\n",
    "from torch.utils.data import DataLoader, SubsetRandomSampler\n",
    "import torch_geometric.loader  \n",
    "\n",
    "import yaml\n",
    "\n",
    "from tqdm.auto import tqdm\n",
    "import pickle as pkl\n",
    "\n",
    "import wandb\n",
    "import random\n"
   ]
  },
  {
   "cell_type": "code",
   "execution_count": 5,
   "metadata": {},
   "outputs": [
    {
     "name": "stderr",
     "output_type": "stream",
     "text": [
      "ERROR:wandb.jupyter:Failed to detect the name of this notebook, you can set it manually with the WANDB_NOTEBOOK_NAME environment variable to enable code saving.\n",
      "\u001b[34m\u001b[1mwandb\u001b[0m: Currently logged in as: \u001b[33mml-mbzuai\u001b[0m (use `wandb login --relogin` to force relogin)\n"
     ]
    },
    {
     "data": {
      "text/plain": [
       "True"
      ]
     },
     "execution_count": 5,
     "metadata": {},
     "output_type": "execute_result"
    }
   ],
   "source": [
    "import wandb\n",
    "import random\n",
    "\n",
    "# wandb.login(key=\"1328f64c6e0b320e2120c10c420b1008f0e5be5d\")\n",
    "wandb.login()"
   ]
  },
  {
   "cell_type": "code",
   "execution_count": 5,
   "metadata": {},
   "outputs": [],
   "source": [
    "from ocpmodels.common import logger"
   ]
  },
  {
   "cell_type": "code",
   "execution_count": 10,
   "metadata": {},
   "outputs": [],
   "source": [
    "sweep_configuration = {\n",
    "    # \"logger\" : \"wandb\",\n",
    "    \"method\": \"random\",\n",
    "    \"name\": \"sweep-PaiNN-20K\",\n",
    "    \"metric\": {\"goal\": \"minimize\", \"name\": \"loss\"},\n",
    "    \"parameters\": {\n",
    "        # \"batch_size\": {\"values\": [16, 32, 64]},  ### given\n",
    "        \"batch_size\": {\"values\": [2, 4, 8]},\n",
    "        # \"epochs\": {\"values\": [5, 10, 15]},   ### given\n",
    "        \"epochs\": {\"value\": 1},\n",
    "        \"lr\" : {\"value\": 1}\n",
    "        # \"lr\": {\n",
    "        #     \"distribution\": \"log_uniform_values\",\n",
    "        #     \"max\": 0.1, \n",
    "        #     \"min\": 0.001 },\n",
    "    },\n",
    "}"
   ]
  },
  {
   "cell_type": "code",
   "execution_count": null,
   "metadata": {},
   "outputs": [],
   "source": [
    "# wandb_logger = logger.WandBLogger(sweep_configuration)"
   ]
  },
  {
   "cell_type": "code",
   "execution_count": 7,
   "metadata": {},
   "outputs": [],
   "source": [
    "sweep_configuration = {\n",
    "    \"method\": \"random\",\n",
    "    \"name\": \"sweep-PaiNN-20K\",\n",
    "    \"metric\": {\"goal\": \"minimize\", \"name\": \"loss\"},\n",
    "    \"parameters\": {\n",
    "        # \"batch_size\": {\"values\": [16, 32, 64]},  ### given\n",
    "        \"batch_size\": {\"values\": [2, 4, 8]},\n",
    "        # \"epochs\": {\"values\": [5, 10, 15]},   ### given\n",
    "        \"epochs\": {\"value\": 1},\n",
    "        \"lr\" : {\"value\": 1}\n",
    "        # \"lr\": {\n",
    "        #     \"distribution\": \"log_uniform_values\",\n",
    "        #     \"max\": 0.1, \n",
    "        #     \"min\": 0.001 },\n",
    "    },\n",
    "}"
   ]
  },
  {
   "cell_type": "code",
   "execution_count": 8,
   "metadata": {},
   "outputs": [
    {
     "name": "stdout",
     "output_type": "stream",
     "text": [
      "{'method': 'random',\n",
      " 'metric': {'goal': 'minimize', 'name': 'loss'},\n",
      " 'name': 'sweep-PaiNN-20K',\n",
      " 'parameters': {'batch_size': {'values': [2, 4, 8]},\n",
      "                'epochs': {'value': 1},\n",
      "                'lr': {'value': 1}}}\n"
     ]
    }
   ],
   "source": [
    "from pprint import pprint\n",
    "\n",
    "pprint(sweep_configuration)"
   ]
  },
  {
   "cell_type": "code",
   "execution_count": 16,
   "metadata": {},
   "outputs": [
    {
     "data": {
      "text/plain": [
       "[2, 4, 8]"
      ]
     },
     "execution_count": 16,
     "metadata": {},
     "output_type": "execute_result"
    }
   ],
   "source": [
    "sweep_configuration[\"parameters\"]['batch_size']['values']"
   ]
  },
  {
   "cell_type": "code",
   "execution_count": 17,
   "metadata": {},
   "outputs": [
    {
     "name": "stdout",
     "output_type": "stream",
     "text": [
      "Create sweep with ID: 8zsympm1\n",
      "Sweep URL: https://wandb.ai/ml-mbzuai/PaiNN-DOS-efermi/sweeps/8zsympm1\n"
     ]
    }
   ],
   "source": [
    "sweep_id = wandb.sweep(sweep=sweep_configuration, project=\"PaiNN-DOS-efermi\")"
   ]
  },
  {
   "cell_type": "code",
   "execution_count": null,
   "metadata": {},
   "outputs": [],
   "source": []
  },
  {
   "cell_type": "code",
   "execution_count": 7,
   "metadata": {},
   "outputs": [
    {
     "name": "stdout",
     "output_type": "stream",
     "text": [
      "Size of the dataset created: 176027\n",
      "Data(edge_index=[2, 2118], y=-3.5712656599999946, pos=[72, 3], cell=[1, 3, 3], atomic_numbers=[72], natoms=72, tags=[72], cell_offsets=[2118, 3], force=[72, 3], fixed=[72], sid=858780, fid=198, id='0_2', energies=[2001], efermi=4.63964884, bulk_total_dos=[2001])\n"
     ]
    }
   ],
   "source": [
    "# LmdbDataset is our custom Dataset method to read the lmdbs as Data objects. Note that we need to give the path to the folder containing lmdbs for S2EF\n",
    "# dataset = LmdbDataset({\"src\": \"./data/s2ef/200k/train/\"})\n",
    "# dataset = LmdbDataset({\"src\": \"./data/s2ef/200k/train/output_lmdb/normalized_efermi/train_20000_systems/\"})\n",
    "# dataset = LmdbDataset({\"src\": \"./data/s2ef/200k/train/output_lmdb/normalized_efermi/\"})\n",
    "dataset = LmdbDataset({\"src\": \"./data/s2ef/200k/train/output_lmdb/\"})\n",
    "\n",
    "# dataset = LmdbDataset({\"src\": \"/home/elizaveta.starykh/OCP_project/ocp-git/data/s2ef/200k/train/output_lmdb/train_20000_systems\"})\n",
    "\n",
    "\n",
    "print(\"Size of the dataset created:\", len(dataset))\n",
    "print(dataset[2])"
   ]
  },
  {
   "cell_type": "code",
   "execution_count": 18,
   "metadata": {},
   "outputs": [
    {
     "data": {
      "text/plain": [
       "array([0., 0., 0., ..., 0., 0., 0.])"
      ]
     },
     "execution_count": 18,
     "metadata": {},
     "output_type": "execute_result"
    }
   ],
   "source": [
    "dataset[125106][\"bulk_total_dos\"]"
   ]
  },
  {
   "cell_type": "code",
   "execution_count": 6,
   "metadata": {},
   "outputs": [
    {
     "data": {
      "text/plain": [
       "-4.39953405"
      ]
     },
     "execution_count": 6,
     "metadata": {},
     "output_type": "execute_result"
    }
   ],
   "source": [
    "dataset[0]['y']"
   ]
  },
  {
   "cell_type": "code",
   "execution_count": null,
   "metadata": {},
   "outputs": [],
   "source": [
    "dataset[0].y"
   ]
  },
  {
   "cell_type": "code",
   "execution_count": null,
   "metadata": {},
   "outputs": [],
   "source": [
    "energies = torch.tensor([data.y for data in dataset])\n",
    "energies"
   ]
  },
  {
   "cell_type": "markdown",
   "metadata": {},
   "source": [
    "### mean, std"
   ]
  },
  {
   "cell_type": "code",
   "execution_count": 23,
   "metadata": {},
   "outputs": [
    {
     "data": {
      "text/plain": [
       "(2.8471219290033876, -0.7877437496095779)"
      ]
     },
     "execution_count": 23,
     "metadata": {},
     "output_type": "execute_result"
    }
   ],
   "source": [
    "# train_dataset = LmdbDataset({\"src\": \"./data/s2ef/200k/train/output_lmdb\"})\n",
    "\n",
    "energies = []\n",
    "for data in dataset:\n",
    "    energies.append(data.y)\n",
    "\n",
    "mean = np.mean(energies)\n",
    "stdev = np.std(energies)\n",
    "\n",
    "stdev, mean \n",
    "## == (2.8471219290033876, -0.7877437496095779) for /normalized_efermi/ 176k dataset\n",
    "## == (2.8412495666979143, -0.78793442576679) for ??\n",
    "## == (2.8392264933285123, -0.7946160068500009) for 20k dataset"
   ]
  },
  {
   "cell_type": "code",
   "execution_count": null,
   "metadata": {},
   "outputs": [],
   "source": [
    "# train_dataset = LmdbDataset({\"src\": \"./data/s2ef/200k/train/output_lmdb\"})\n",
    "\n",
    "efermi_info = []\n",
    "# for data in train_dataset:\n",
    "for data in dataset:\n",
    "    efermi_info.append(data.efermi)\n"
   ]
  },
  {
   "cell_type": "code",
   "execution_count": null,
   "metadata": {},
   "outputs": [],
   "source": [
    "def sigmoid(z):\n",
    "  return 1.0 / (1 + np.exp(-z)) \n",
    "\n",
    "def tanh(z):\n",
    "\treturn (np.exp(z) - np.exp(-z)) / (np.exp(z) + np.exp(-z))\n",
    "\n",
    "\n",
    "efermi_info = np.array(efermi_info)\n",
    "efermi_tanh = tanh(efermi_info)\n",
    "\n",
    "\n",
    "########\n",
    "# efermi_normalized = (efermi_info - efermi_info.min()) / (efermi_info.max() - efermi_info.min()) \n",
    "\n",
    "# efermi_normalized.min(), efermi_normalized.max(), efermi_normalized.std()\n",
    "# efermi_sigmoid = sigmoid(efermi_info)\n",
    "\n",
    "# mean = np.mean(efermi_info)\n",
    "# stdev = np.std(efermi_info)\n",
    "\n",
    "# stdev, mean \n",
    "## == (2.8471219290033876, -0.7877437496095779) for /output_lmdb/ full dataset\n",
    "## == (2.8412495666979143, -0.78793442576679)"
   ]
  },
  {
   "cell_type": "code",
   "execution_count": null,
   "metadata": {},
   "outputs": [],
   "source": [
    "efermi_tanh.min(), efermi_tanh.max(), efermi_tanh.std()\n",
    "len(efermi_tanh)"
   ]
  },
  {
   "cell_type": "code",
   "execution_count": null,
   "metadata": {},
   "outputs": [],
   "source": [
    "plt.plot(efermi_info, efermi_tanh, 'bo')\n",
    "# plt.yscale(\"log\")\n",
    "plt.xlabel(\"efermi\")\n",
    "\n",
    "plt.ylabel(\"efermi tanh\")\n",
    "plt.show()"
   ]
  },
  {
   "cell_type": "markdown",
   "metadata": {},
   "source": [
    "### Training"
   ]
  },
  {
   "cell_type": "code",
   "execution_count": 10,
   "metadata": {},
   "outputs": [],
   "source": [
    "# train_src = \"data/s2ef/train_100\"\n",
    "\n",
    "# train_src = \"./data/s2ef/200k/train/output_lmdb\"\n",
    "# train_src = \"/home/elizaveta.starykh/OCP_project/ocp-git/data/s2ef/200k/train/output_lmdb/train_20000_systems\"\n",
    "train_src = \"./data/s2ef/200k/train/output_lmdb/normalized_efermi/\"\n",
    "val_src = \"./data/s2ef/200k/train/output_lmdb/normalized_efermi/train_20000_systems/\""
   ]
  },
  {
   "cell_type": "code",
   "execution_count": 11,
   "metadata": {},
   "outputs": [
    {
     "data": {
      "text/plain": [
       "{'name': 'ocpmodels.models.painn.painn.PaiNN',\n",
       " 'hidden_channels': 512,\n",
       " 'num_layers': 6,\n",
       " 'num_rbf': 128,\n",
       " 'cutoff': 12.0,\n",
       " 'max_neighbors': 50,\n",
       " 'scale_file': 'configs/oc22/s2ef/painn/nb6_h512_n50_c12_oc22.pt',\n",
       " 'regress_forces': True,\n",
       " 'direct_forces': True,\n",
       " 'use_pbc': True,\n",
       " 'otf_graph': True,\n",
       " 'efermi_length': 128}"
      ]
     },
     "execution_count": 11,
     "metadata": {},
     "output_type": "execute_result"
    }
   ],
   "source": [
    "# Model\n",
    "# /configs/oc22/s2ef/painn\n",
    "\n",
    "with open('configs/oc22/s2ef/painn/painn.yml', 'r') as file:\n",
    "    model = yaml.safe_load(file)\n",
    "\n",
    "model = model[\"model\"]\n",
    "model['name'] = 'ocpmodels.models.painn.painn.PaiNN'\n",
    "model['hidden_channels'] = 512\n",
    "\n",
    "model['efermi_length'] = 128\n",
    "# model['checkpoint_every'] = 1000\n",
    "model[\"multiply_efermi\"] = False\n",
    "model[\"concatenate_efermi\"] = True\n",
    "\n",
    "model"
   ]
  },
  {
   "cell_type": "code",
   "execution_count": 12,
   "metadata": {},
   "outputs": [],
   "source": [
    "# Task\n",
    "task = {\n",
    "    'dataset': 'lmdb', # dataset used for the S2EF task\n",
    "    'description': 'Regressing to energies and forces for DFT trajectories from OCP',\n",
    "    'type': 'regression',\n",
    "    'metric': 'mae',\n",
    "    'labels': ['potential energy'],\n",
    "    'grad_input': 'atomic forces',\n",
    "    'train_on_free_atoms': True,\n",
    "    'eval_on_free_atoms': True\n",
    "}\n",
    "\n",
    "# Optimizer\n",
    "optimizer = {\n",
    "    'batch_size': 32,         # originally 32\n",
    "    'eval_batch_size': 32,    # originally 32\n",
    "    'num_workers': 2,\n",
    "    'lr_initial': 5.e-4,\n",
    "    'optimizer': 'AdamW',\n",
    "    'optimizer_params': {\"amsgrad\": True},\n",
    "    'scheduler': \"ReduceLROnPlateau\",\n",
    "    'mode': \"min\",\n",
    "    'factor': 0.8,\n",
    "    'patience': 3,\n",
    "    'max_epochs': 1,         # used for demonstration purposes\n",
    "    'force_coefficient': 100,\n",
    "    'ema_decay': 0.999,\n",
    "    'clip_grad_norm': 10,\n",
    "    'loss_energy': 'mae',\n",
    "    'loss_force': 'l2mae',\n",
    "    # 'eval_every': 500\n",
    "}\n",
    "# Dataset\n",
    "# stdev, mean = (2.8471219290033876, -0.7877437496095779)\n",
    "## == (2.8471219290033876, -0.7877437496095779) for /normalized_efermi/ 176k dataset\n",
    "## == (2.8392264933285123, -0.7946160068500009) for 20k dataset\n",
    "dataset = [\n",
    "{'src': train_src,\n",
    "'normalize_labels': True,\n",
    "#  \"target_mean\": mean,\n",
    "\"target_mean\": -0.7877437496095779,\n",
    "#  \"target_std\": stdev,\n",
    "\"target_std\": 2.8471219290033876,\n",
    "\"grad_target_mean\": 0.0,\n",
    "#  \"grad_target_std\": stdev\n",
    "\"grad_target_std\": 2.8471219290033876\n",
    "}, # train set\n",
    "{'src': val_src}, # val set (optional)\n",
    "]\n"
   ]
  },
  {
   "cell_type": "code",
   "execution_count": 21,
   "metadata": {},
   "outputs": [],
   "source": [
    "# def task_optim_dataset(batch_size_sweep):\n",
    "\n",
    "#   # Task\n",
    "#   task = {\n",
    "#       'dataset': 'lmdb', # dataset used for the S2EF task\n",
    "#       'description': 'Regressing to energies and forces for DFT trajectories from OCP',\n",
    "#       'type': 'regression',\n",
    "#       'metric': 'mae',\n",
    "#       'labels': ['potential energy'],\n",
    "#       'grad_input': 'atomic forces',\n",
    "#       'train_on_free_atoms': True,\n",
    "#       'eval_on_free_atoms': True\n",
    "#   }\n",
    "\n",
    "#   # Optimizer\n",
    "#   optimizer = {\n",
    "#       'batch_size': batch_size_sweep,         # originally 32\n",
    "#       'eval_batch_size': batch_size_sweep,    # originally 32\n",
    "#       'num_workers': 2,\n",
    "#       'lr_initial': 5.e-4,\n",
    "#       'optimizer': 'AdamW',\n",
    "#       'optimizer_params': {\"amsgrad\": True},\n",
    "#       'scheduler': \"ReduceLROnPlateau\",\n",
    "#       'mode': \"min\",\n",
    "#       'factor': 0.8,\n",
    "#       'patience': 3,\n",
    "#       'max_epochs': 1,         # used for demonstration purposes\n",
    "#       'force_coefficient': 100,\n",
    "#       'ema_decay': 0.999,\n",
    "#       'clip_grad_norm': 10,\n",
    "#       'loss_energy': 'mae',\n",
    "#       'loss_force': 'l2mae',\n",
    "#       'eval_every': 500\n",
    "#   }\n",
    "#   # Dataset\n",
    "#   # stdev, mean = (2.8471219290033876, -0.7877437496095779)\n",
    "\n",
    "#   dataset = [\n",
    "#     {'src': train_src,\n",
    "#     'normalize_labels': True,\n",
    "#     #  \"target_mean\": mean,\n",
    "#     \"target_mean\": -0.7946160068500009,\n",
    "#     #  \"target_std\": stdev,\n",
    "#     \"target_std\": 2.8392264933285123,\n",
    "#     \"grad_target_mean\": 0.0,\n",
    "#     #  \"grad_target_std\": stdev\n",
    "#     \"grad_target_std\": 2.8392264933285123\n",
    "#     }, # train set\n",
    "#     # {'src': val_src}, # val set (optional)\n",
    "#   ]\n",
    "\n",
    "#   # (2.8392264933285123, -0.7946160068500009)\n",
    "\n",
    "#   return task, optimizer, dataset"
   ]
  },
  {
   "cell_type": "code",
   "execution_count": 35,
   "metadata": {},
   "outputs": [],
   "source": [
    "# wandb.config[\"batch_size\"]"
   ]
  },
  {
   "cell_type": "code",
   "execution_count": 33,
   "metadata": {},
   "outputs": [],
   "source": [
    "def train_wandb(config=None):\n",
    "    with wandb.init(project=\"PaiNN-DOS-efermi\", config = sweep_configuration):\n",
    "        config = wandb.config\n",
    "\n",
    "        for epoch in range(config.epochs):\n",
    "\n",
    "            print(wandb.config[\"batch_size\"])\n",
    "            batch_size = config['batch_size']\n",
    "\n",
    "            task, optimizer, dataset = task_optim_dataset(batch_size)\n",
    "\n",
    "\n",
    "            trainer = OCPTrainer(\n",
    "                task=task,\n",
    "                model=copy.deepcopy(model), # copied for later use, not necessary in practice.\n",
    "                dataset=dataset,\n",
    "                optimizer=optimizer,\n",
    "                outputs={},\n",
    "                loss_fns={},\n",
    "                eval_metrics={},\n",
    "                name=\"s2ef\",\n",
    "                identifier=\"S2EF-example\",\n",
    "                run_dir=\".\", # directory to save results if is_debug=False. Prediction files are saved here so be careful not to override!\n",
    "                is_debug=False, # if True, do not save checkpoint, logs, or results\n",
    "                print_every=5,\n",
    "                seed=0, # random seed to use\n",
    "                logger=\"tensorboard\", # logger of choice (tensorboard and wandb supported)\n",
    "                local_rank=0,\n",
    "                amp=True, # use PyTorch Automatic Mixed Precision (faster training and less memory usage),\n",
    "            )\n",
    "\n",
    "\n",
    "\n",
    "            trainer.train()\n",
    "            avg_loss = trainer.final_loss\n",
    "            wandb.log({\"loss\": avg_loss, \"epoch\": epoch}) "
   ]
  },
  {
   "cell_type": "code",
   "execution_count": 9,
   "metadata": {},
   "outputs": [
    {
     "name": "stdout",
     "output_type": "stream",
     "text": [
      "/l/users/elizaveta.starykh/OCP_project/ocp-git\n"
     ]
    }
   ],
   "source": [
    "!pwd"
   ]
  },
  {
   "cell_type": "code",
   "execution_count": 13,
   "metadata": {},
   "outputs": [
    {
     "name": "stderr",
     "output_type": "stream",
     "text": [
      "fatal: not a git repository (or any parent up to mount point /)\n",
      "Stopping at filesystem boundary (GIT_DISCOVERY_ACROSS_FILESYSTEM not set).\n",
      "WARNING:root:Detected old config, converting to new format. Consider updating to avoid potential incompatibilities.\n",
      "/l/users/elizaveta.starykh/conda_envs/python9/lib/python3.9/site-packages/torch_geometric/nn/conv/message_passing.py:988: UserWarning: 'PaiNNMessage.jittable' is deprecated and a no-op. Please remove its usage.\n",
      "  warnings.warn(f\"'{self.__class__.__name__}.jittable' is deprecated \"\n",
      "WARNING:root:Model gradient logging to tensorboard not yet supported.\n"
     ]
    }
   ],
   "source": [
    "torch.manual_seed(0)\n",
    "\n",
    "trainer = OCPTrainer(\n",
    "    task=task,\n",
    "    model=copy.deepcopy(model), # copied for later use, not necessary in practice.\n",
    "    dataset=dataset,\n",
    "    optimizer=optimizer,\n",
    "    outputs={},\n",
    "    loss_fns={},\n",
    "    eval_metrics={},\n",
    "    name=\"s2ef\",\n",
    "    identifier=\"S2EF-20k-train\",\n",
    "    run_dir=\".\", # directory to save results if is_debug=False. Prediction files are saved here so be careful not to override!\n",
    "    is_debug=False, # if True, do not save checkpoint, logs, or results\n",
    "    print_every=5,\n",
    "    seed=0, # random seed to use\n",
    "    logger=\"tensorboard\", # logger of choice (tensorboard and wandb supported)\n",
    "    local_rank=0,\n",
    "    amp=True, # use PyTorch Automatic Mixed Precision (faster training and less memory usage),\n",
    ")"
   ]
  },
  {
   "cell_type": "code",
   "execution_count": 14,
   "metadata": {},
   "outputs": [
    {
     "ename": "KeyboardInterrupt",
     "evalue": "",
     "output_type": "error",
     "traceback": [
      "\u001b[0;31m---------------------------------------------------------------------------\u001b[0m",
      "\u001b[0;31mKeyboardInterrupt\u001b[0m                         Traceback (most recent call last)",
      "Cell \u001b[0;32mIn[14], line 1\u001b[0m\n\u001b[0;32m----> 1\u001b[0m \u001b[43mtrainer\u001b[49m\u001b[38;5;241;43m.\u001b[39;49m\u001b[43mtrain\u001b[49m\u001b[43m(\u001b[49m\u001b[43m)\u001b[49m\n",
      "File \u001b[0;32m/l/users/elizaveta.starykh/OCP_project/ocp-git/ocpmodels/trainers/ocp_trainer.py:154\u001b[0m, in \u001b[0;36mOCPTrainer.train\u001b[0;34m(self, disable_eval_tqdm)\u001b[0m\n\u001b[1;32m    151\u001b[0m \u001b[38;5;28mself\u001b[39m\u001b[38;5;241m.\u001b[39mmodel\u001b[38;5;241m.\u001b[39mtrain()\n\u001b[1;32m    153\u001b[0m \u001b[38;5;66;03m# Get a batch.\u001b[39;00m\n\u001b[0;32m--> 154\u001b[0m batch \u001b[38;5;241m=\u001b[39m \u001b[38;5;28;43mnext\u001b[39;49m\u001b[43m(\u001b[49m\u001b[43mtrain_loader_iter\u001b[49m\u001b[43m)\u001b[49m\n\u001b[1;32m    156\u001b[0m \u001b[38;5;66;03m# Forward, loss, backward.\u001b[39;00m\n\u001b[1;32m    157\u001b[0m \u001b[38;5;28;01mwith\u001b[39;00m torch\u001b[38;5;241m.\u001b[39mcuda\u001b[38;5;241m.\u001b[39mamp\u001b[38;5;241m.\u001b[39mautocast(enabled\u001b[38;5;241m=\u001b[39m\u001b[38;5;28mself\u001b[39m\u001b[38;5;241m.\u001b[39mscaler \u001b[38;5;129;01mis\u001b[39;00m \u001b[38;5;129;01mnot\u001b[39;00m \u001b[38;5;28;01mNone\u001b[39;00m):\n",
      "File \u001b[0;32m/l/users/elizaveta.starykh/conda_envs/python9/lib/python3.9/site-packages/torch/utils/data/dataloader.py:633\u001b[0m, in \u001b[0;36m_BaseDataLoaderIter.__next__\u001b[0;34m(self)\u001b[0m\n\u001b[1;32m    630\u001b[0m \u001b[38;5;28;01mif\u001b[39;00m \u001b[38;5;28mself\u001b[39m\u001b[38;5;241m.\u001b[39m_sampler_iter \u001b[38;5;129;01mis\u001b[39;00m \u001b[38;5;28;01mNone\u001b[39;00m:\n\u001b[1;32m    631\u001b[0m     \u001b[38;5;66;03m# TODO(https://github.com/pytorch/pytorch/issues/76750)\u001b[39;00m\n\u001b[1;32m    632\u001b[0m     \u001b[38;5;28mself\u001b[39m\u001b[38;5;241m.\u001b[39m_reset()  \u001b[38;5;66;03m# type: ignore[call-arg]\u001b[39;00m\n\u001b[0;32m--> 633\u001b[0m data \u001b[38;5;241m=\u001b[39m \u001b[38;5;28;43mself\u001b[39;49m\u001b[38;5;241;43m.\u001b[39;49m\u001b[43m_next_data\u001b[49m\u001b[43m(\u001b[49m\u001b[43m)\u001b[49m\n\u001b[1;32m    634\u001b[0m \u001b[38;5;28mself\u001b[39m\u001b[38;5;241m.\u001b[39m_num_yielded \u001b[38;5;241m+\u001b[39m\u001b[38;5;241m=\u001b[39m \u001b[38;5;241m1\u001b[39m\n\u001b[1;32m    635\u001b[0m \u001b[38;5;28;01mif\u001b[39;00m \u001b[38;5;28mself\u001b[39m\u001b[38;5;241m.\u001b[39m_dataset_kind \u001b[38;5;241m==\u001b[39m _DatasetKind\u001b[38;5;241m.\u001b[39mIterable \u001b[38;5;129;01mand\u001b[39;00m \\\n\u001b[1;32m    636\u001b[0m         \u001b[38;5;28mself\u001b[39m\u001b[38;5;241m.\u001b[39m_IterableDataset_len_called \u001b[38;5;129;01mis\u001b[39;00m \u001b[38;5;129;01mnot\u001b[39;00m \u001b[38;5;28;01mNone\u001b[39;00m \u001b[38;5;129;01mand\u001b[39;00m \\\n\u001b[1;32m    637\u001b[0m         \u001b[38;5;28mself\u001b[39m\u001b[38;5;241m.\u001b[39m_num_yielded \u001b[38;5;241m>\u001b[39m \u001b[38;5;28mself\u001b[39m\u001b[38;5;241m.\u001b[39m_IterableDataset_len_called:\n",
      "File \u001b[0;32m/l/users/elizaveta.starykh/conda_envs/python9/lib/python3.9/site-packages/torch/utils/data/dataloader.py:1328\u001b[0m, in \u001b[0;36m_MultiProcessingDataLoaderIter._next_data\u001b[0;34m(self)\u001b[0m\n\u001b[1;32m   1325\u001b[0m     \u001b[38;5;28;01mreturn\u001b[39;00m \u001b[38;5;28mself\u001b[39m\u001b[38;5;241m.\u001b[39m_process_data(data)\n\u001b[1;32m   1327\u001b[0m \u001b[38;5;28;01massert\u001b[39;00m \u001b[38;5;129;01mnot\u001b[39;00m \u001b[38;5;28mself\u001b[39m\u001b[38;5;241m.\u001b[39m_shutdown \u001b[38;5;129;01mand\u001b[39;00m \u001b[38;5;28mself\u001b[39m\u001b[38;5;241m.\u001b[39m_tasks_outstanding \u001b[38;5;241m>\u001b[39m \u001b[38;5;241m0\u001b[39m\n\u001b[0;32m-> 1328\u001b[0m idx, data \u001b[38;5;241m=\u001b[39m \u001b[38;5;28;43mself\u001b[39;49m\u001b[38;5;241;43m.\u001b[39;49m\u001b[43m_get_data\u001b[49m\u001b[43m(\u001b[49m\u001b[43m)\u001b[49m\n\u001b[1;32m   1329\u001b[0m \u001b[38;5;28mself\u001b[39m\u001b[38;5;241m.\u001b[39m_tasks_outstanding \u001b[38;5;241m-\u001b[39m\u001b[38;5;241m=\u001b[39m \u001b[38;5;241m1\u001b[39m\n\u001b[1;32m   1330\u001b[0m \u001b[38;5;28;01mif\u001b[39;00m \u001b[38;5;28mself\u001b[39m\u001b[38;5;241m.\u001b[39m_dataset_kind \u001b[38;5;241m==\u001b[39m _DatasetKind\u001b[38;5;241m.\u001b[39mIterable:\n\u001b[1;32m   1331\u001b[0m     \u001b[38;5;66;03m# Check for _IterableDatasetStopIteration\u001b[39;00m\n",
      "File \u001b[0;32m/l/users/elizaveta.starykh/conda_envs/python9/lib/python3.9/site-packages/torch/utils/data/dataloader.py:1284\u001b[0m, in \u001b[0;36m_MultiProcessingDataLoaderIter._get_data\u001b[0;34m(self)\u001b[0m\n\u001b[1;32m   1282\u001b[0m \u001b[38;5;28;01melif\u001b[39;00m \u001b[38;5;28mself\u001b[39m\u001b[38;5;241m.\u001b[39m_pin_memory:\n\u001b[1;32m   1283\u001b[0m     \u001b[38;5;28;01mwhile\u001b[39;00m \u001b[38;5;28mself\u001b[39m\u001b[38;5;241m.\u001b[39m_pin_memory_thread\u001b[38;5;241m.\u001b[39mis_alive():\n\u001b[0;32m-> 1284\u001b[0m         success, data \u001b[38;5;241m=\u001b[39m \u001b[38;5;28;43mself\u001b[39;49m\u001b[38;5;241;43m.\u001b[39;49m\u001b[43m_try_get_data\u001b[49m\u001b[43m(\u001b[49m\u001b[43m)\u001b[49m\n\u001b[1;32m   1285\u001b[0m         \u001b[38;5;28;01mif\u001b[39;00m success:\n\u001b[1;32m   1286\u001b[0m             \u001b[38;5;28;01mreturn\u001b[39;00m data\n",
      "File \u001b[0;32m/l/users/elizaveta.starykh/conda_envs/python9/lib/python3.9/site-packages/torch/utils/data/dataloader.py:1132\u001b[0m, in \u001b[0;36m_MultiProcessingDataLoaderIter._try_get_data\u001b[0;34m(self, timeout)\u001b[0m\n\u001b[1;32m   1119\u001b[0m \u001b[38;5;28;01mdef\u001b[39;00m \u001b[38;5;21m_try_get_data\u001b[39m(\u001b[38;5;28mself\u001b[39m, timeout\u001b[38;5;241m=\u001b[39m_utils\u001b[38;5;241m.\u001b[39mMP_STATUS_CHECK_INTERVAL):\n\u001b[1;32m   1120\u001b[0m     \u001b[38;5;66;03m# Tries to fetch data from `self._data_queue` once for a given timeout.\u001b[39;00m\n\u001b[1;32m   1121\u001b[0m     \u001b[38;5;66;03m# This can also be used as inner loop of fetching without timeout, with\u001b[39;00m\n\u001b[0;32m   (...)\u001b[0m\n\u001b[1;32m   1129\u001b[0m     \u001b[38;5;66;03m# Returns a 2-tuple:\u001b[39;00m\n\u001b[1;32m   1130\u001b[0m     \u001b[38;5;66;03m#   (bool: whether successfully get data, any: data if successful else None)\u001b[39;00m\n\u001b[1;32m   1131\u001b[0m     \u001b[38;5;28;01mtry\u001b[39;00m:\n\u001b[0;32m-> 1132\u001b[0m         data \u001b[38;5;241m=\u001b[39m \u001b[38;5;28;43mself\u001b[39;49m\u001b[38;5;241;43m.\u001b[39;49m\u001b[43m_data_queue\u001b[49m\u001b[38;5;241;43m.\u001b[39;49m\u001b[43mget\u001b[49m\u001b[43m(\u001b[49m\u001b[43mtimeout\u001b[49m\u001b[38;5;241;43m=\u001b[39;49m\u001b[43mtimeout\u001b[49m\u001b[43m)\u001b[49m\n\u001b[1;32m   1133\u001b[0m         \u001b[38;5;28;01mreturn\u001b[39;00m (\u001b[38;5;28;01mTrue\u001b[39;00m, data)\n\u001b[1;32m   1134\u001b[0m     \u001b[38;5;28;01mexcept\u001b[39;00m \u001b[38;5;167;01mException\u001b[39;00m \u001b[38;5;28;01mas\u001b[39;00m e:\n\u001b[1;32m   1135\u001b[0m         \u001b[38;5;66;03m# At timeout and error, we manually check whether any worker has\u001b[39;00m\n\u001b[1;32m   1136\u001b[0m         \u001b[38;5;66;03m# failed. Note that this is the only mechanism for Windows to detect\u001b[39;00m\n\u001b[1;32m   1137\u001b[0m         \u001b[38;5;66;03m# worker failures.\u001b[39;00m\n",
      "File \u001b[0;32m/l/users/elizaveta.starykh/conda_envs/python9/lib/python3.9/queue.py:180\u001b[0m, in \u001b[0;36mQueue.get\u001b[0;34m(self, block, timeout)\u001b[0m\n\u001b[1;32m    178\u001b[0m         \u001b[38;5;28;01mif\u001b[39;00m remaining \u001b[38;5;241m<\u001b[39m\u001b[38;5;241m=\u001b[39m \u001b[38;5;241m0.0\u001b[39m:\n\u001b[1;32m    179\u001b[0m             \u001b[38;5;28;01mraise\u001b[39;00m Empty\n\u001b[0;32m--> 180\u001b[0m         \u001b[38;5;28;43mself\u001b[39;49m\u001b[38;5;241;43m.\u001b[39;49m\u001b[43mnot_empty\u001b[49m\u001b[38;5;241;43m.\u001b[39;49m\u001b[43mwait\u001b[49m\u001b[43m(\u001b[49m\u001b[43mremaining\u001b[49m\u001b[43m)\u001b[49m\n\u001b[1;32m    181\u001b[0m item \u001b[38;5;241m=\u001b[39m \u001b[38;5;28mself\u001b[39m\u001b[38;5;241m.\u001b[39m_get()\n\u001b[1;32m    182\u001b[0m \u001b[38;5;28mself\u001b[39m\u001b[38;5;241m.\u001b[39mnot_full\u001b[38;5;241m.\u001b[39mnotify()\n",
      "File \u001b[0;32m/l/users/elizaveta.starykh/conda_envs/python9/lib/python3.9/threading.py:316\u001b[0m, in \u001b[0;36mCondition.wait\u001b[0;34m(self, timeout)\u001b[0m\n\u001b[1;32m    314\u001b[0m \u001b[38;5;28;01melse\u001b[39;00m:\n\u001b[1;32m    315\u001b[0m     \u001b[38;5;28;01mif\u001b[39;00m timeout \u001b[38;5;241m>\u001b[39m \u001b[38;5;241m0\u001b[39m:\n\u001b[0;32m--> 316\u001b[0m         gotit \u001b[38;5;241m=\u001b[39m \u001b[43mwaiter\u001b[49m\u001b[38;5;241;43m.\u001b[39;49m\u001b[43macquire\u001b[49m\u001b[43m(\u001b[49m\u001b[38;5;28;43;01mTrue\u001b[39;49;00m\u001b[43m,\u001b[49m\u001b[43m \u001b[49m\u001b[43mtimeout\u001b[49m\u001b[43m)\u001b[49m\n\u001b[1;32m    317\u001b[0m     \u001b[38;5;28;01melse\u001b[39;00m:\n\u001b[1;32m    318\u001b[0m         gotit \u001b[38;5;241m=\u001b[39m waiter\u001b[38;5;241m.\u001b[39macquire(\u001b[38;5;28;01mFalse\u001b[39;00m)\n",
      "\u001b[0;31mKeyboardInterrupt\u001b[0m: "
     ]
    }
   ],
   "source": [
    "trainer.train()"
   ]
  },
  {
   "cell_type": "code",
   "execution_count": null,
   "metadata": {},
   "outputs": [],
   "source": [
    "# def train_wandb(config=None):\n",
    "#     with wandb.init(project=\"PaiNN-DOS-efermi\", config = sweep_configuration):\n",
    "#         # config = wandb.config\n",
    "#         config = wandb.config\n",
    "\n",
    "#         # loader = build_dataset(config.batch_size)\n",
    "#         # network = build_network(config.fc_layer_size, config.dropout)\n",
    "#         optimizer = OCPTrainer.optimizer\n",
    "\n",
    "#         for epoch in range(config.epochs):\n",
    "#             avg_loss = train_epoch(network, loader, optimizer)\n",
    "#             wandb.log({\"loss\": avg_loss, \"epoch\": epoch}) "
   ]
  },
  {
   "cell_type": "code",
   "execution_count": 21,
   "metadata": {},
   "outputs": [],
   "source": [
    "def train_wandb(config=None):\n",
    "    with wandb.init(project=\"PaiNN-DOS-efermi\", config = sweep_configuration):\n",
    "        config = wandb.config\n",
    "\n",
    "        for epoch in range(config.epochs):\n",
    "            trainer.train()\n",
    "            avg_loss = trainer.final_loss\n",
    "            wandb.log({\"loss\": avg_loss, \"epoch\": epoch}) "
   ]
  },
  {
   "cell_type": "code",
   "execution_count": null,
   "metadata": {},
   "outputs": [],
   "source": [
    "wandb.agent(sweep_id, train_wandb, count=5)"
   ]
  },
  {
   "cell_type": "code",
   "execution_count": null,
   "metadata": {},
   "outputs": [],
   "source": []
  },
  {
   "cell_type": "code",
   "execution_count": null,
   "metadata": {},
   "outputs": [],
   "source": [
    "def train_epoch(network, loader, optimizer):\n",
    "    cumu_loss = 0\n",
    "    for _, (data, target) in enumerate(loader):\n",
    "        \n",
    "        data, target = data.to(device), target.to(device)\n",
    "\n",
    "\n",
    "        optimizer.zero_grad()\n",
    "\n",
    "        # ➡ Forward pass\n",
    "        loss = F.nll_loss(network(data), target)\n",
    "        cumu_loss += loss.item()\n",
    "\n",
    "        # ⬅ Backward pass + weight update\n",
    "        loss.backward()\n",
    "        optimizer.step()\n",
    "\n",
    "        wandb.log({\"batch loss\": loss.item()})\n",
    "\n",
    "    return cumu_loss / len(loader)"
   ]
  },
  {
   "cell_type": "markdown",
   "metadata": {},
   "source": []
  },
  {
   "cell_type": "code",
   "execution_count": 10,
   "metadata": {},
   "outputs": [
    {
     "name": "stderr",
     "output_type": "stream",
     "text": [
      "/l/users/elizaveta.starykh/conda_envs/python9/lib/python3.9/site-packages/torch/amp/autocast_mode.py:204: UserWarning: User provided device_type of 'cuda', but CUDA is not available. Disabling\n",
      "  warnings.warn('User provided device_type of \\'cuda\\', but CUDA is not available. Disabling')\n"
     ]
    }
   ],
   "source": [
    "trainer.train()"
   ]
  },
  {
   "cell_type": "code",
   "execution_count": null,
   "metadata": {},
   "outputs": [],
   "source": []
  },
  {
   "cell_type": "code",
   "execution_count": null,
   "metadata": {},
   "outputs": [],
   "source": []
  },
  {
   "cell_type": "code",
   "execution_count": null,
   "metadata": {},
   "outputs": [],
   "source": []
  },
  {
   "cell_type": "code",
   "execution_count": null,
   "metadata": {},
   "outputs": [],
   "source": []
  },
  {
   "cell_type": "markdown",
   "metadata": {},
   "source": [
    "### Values testing:"
   ]
  },
  {
   "cell_type": "code",
   "execution_count": null,
   "metadata": {},
   "outputs": [],
   "source": [
    "tst_dataset = LmdbDataset({\"src\": \"./data/s2ef/200k/train/output_lmdb/\"})\n",
    "\n",
    "# tst_efermi = torch.FloatTensor([train_dataset[9].efermi])\n",
    "# tst_efermi.dim(), tst_efermi.shape\n",
    "# tst_efermi\n",
    "\n",
    "values_efermi = [6.7264, 8.2544, 1.5132]\n",
    "\n",
    "long_efermi = torch.FloatTensor([tst_dataset[0].efermi, tst_dataset[5].efermi, tst_dataset[7].efermi])\n",
    "long_efermi.dim(), long_efermi.shape\n",
    "long_efermi\n",
    "\n",
    "\n",
    "\n",
    "batch_efermi = [torch.FloatTensor([tst_dataset[x].efermi]) for x in range(3)]\n",
    "\n",
    "batch_efermi\n",
    "\n",
    "\n",
    "# tst_dataset[9].efermi\n"
   ]
  },
  {
   "cell_type": "code",
   "execution_count": null,
   "metadata": {},
   "outputs": [],
   "source": [
    "torch.manual_seed(0)\n",
    "rand_tensor = torch.rand([3, 4])\n",
    "rand_tensor.shape # = [3, 4]\n",
    "## embedding.shape = [153, 512]  ### 153 elements, each has a vactor of size 512\n",
    "\n",
    "\n",
    "float_number = -1.1\n",
    "\n",
    "# rand_tensor[1] = torch.tensor([1, 2, 3, 4])\n",
    "# rand_tensor[1] = torch.mul(rand_tensor[1], float_number)\n",
    "# rand_tensor[1], rand_tensor \n",
    "\n",
    "obj = torch.mul(rand_tensor[:2], float_number)\n",
    "obj.type()"
   ]
  },
  {
   "cell_type": "markdown",
   "metadata": {},
   "source": [
    "---\n"
   ]
  },
  {
   "cell_type": "markdown",
   "metadata": {},
   "source": [
    "## Normalization of `efermi`"
   ]
  },
  {
   "cell_type": "code",
   "execution_count": null,
   "metadata": {},
   "outputs": [],
   "source": [
    "# initial_lmdb = LmdbDataset({\"src\": \"./data/s2ef/200k/train/output_lmdb/\"})\n",
    "os.makedirs(\"./data/s2ef/200k/train/output_lmdb/normalized_efermi\", exist_ok=True)"
   ]
  },
  {
   "cell_type": "code",
   "execution_count": null,
   "metadata": {},
   "outputs": [],
   "source": [
    "# len(train_dataset), len(efermi_tanh), train_dataset[0].efermi, efermi_tanh[0] \n",
    "len(dataset), len(efermi_tanh), dataset[0].efermi, efermi_tanh[0] "
   ]
  },
  {
   "cell_type": "code",
   "execution_count": null,
   "metadata": {},
   "outputs": [],
   "source": [
    "db = lmdb.open(\n",
    "    \"./data/s2ef/200k/train/output_lmdb/normalized_efermi/train_data_200k_efermi.lmdb\",\n",
    "    map_size=1099511627776 * 2,\n",
    "    subdir=False,\n",
    "    meminit=False,\n",
    "    map_async=True,\n",
    ")"
   ]
  },
  {
   "cell_type": "code",
   "execution_count": null,
   "metadata": {},
   "outputs": [],
   "source": [
    "correct_sys_nr=0\n",
    "# no_dos_count=0\n",
    "\n",
    "# for system_nr, system in tqdm(enumerate(train_dataset), total=10):\n",
    "for system_nr, system in tqdm(enumerate(dataset), total=len(dataset)):\n",
    "    \n",
    "    if system_nr%100==0:\n",
    "        print(\"running nr: \", system_nr, \"\\tcorrect system number: \", correct_sys_nr)\n",
    "\n",
    "    system.efermi = efermi_tanh[system_nr]\n",
    "\n",
    "\n",
    "    # system_bulk_id = log_ids.loc[system_nr, \"bulk_mpid\"]\n",
    "    \n",
    "    # if system_bulk_id in unique_dos_postprocessed.keys():\n",
    "        \n",
    "\n",
    "\n",
    "    #     full_system_dos = unique_dos_postprocessed[system_bulk_id]\n",
    "    #     system.energies = full_system_dos[0]\n",
    "    #     system.efermi = full_system_dos[1]\n",
    "    #     system.bulk_total_dos = full_system_dos[2]\n",
    "    \n",
    "    \n",
    "    # else:\n",
    "    #     no_dos_count+=1\n",
    "    #     continue\n",
    "#     #### adding to the new lmdb file:\n",
    "    \n",
    "    txn = db.begin(write=True)\n",
    "    txn.put(f\"{correct_sys_nr}\".encode(\"ascii\"), pkl.dumps(system, protocol=-1))\n",
    "    txn.commit()\n",
    "    db.sync()\n",
    "    correct_sys_nr+=1\n",
    "\n",
    "db.sync()\n",
    "db.close()"
   ]
  },
  {
   "cell_type": "code",
   "execution_count": null,
   "metadata": {},
   "outputs": [],
   "source": [
    "dta = LmdbDataset({\"src\": \"./data/s2ef/200k/train/output_lmdb/normalized_efermi\"})"
   ]
  },
  {
   "cell_type": "code",
   "execution_count": null,
   "metadata": {},
   "outputs": [],
   "source": [
    "len(dta), dta[10].efermi, dta[0]"
   ]
  },
  {
   "cell_type": "code",
   "execution_count": null,
   "metadata": {},
   "outputs": [],
   "source": []
  },
  {
   "cell_type": "markdown",
   "metadata": {},
   "source": [
    "-----"
   ]
  },
  {
   "cell_type": "code",
   "execution_count": null,
   "metadata": {},
   "outputs": [],
   "source": []
  },
  {
   "cell_type": "code",
   "execution_count": null,
   "metadata": {},
   "outputs": [],
   "source": [
    "!hostname"
   ]
  },
  {
   "cell_type": "code",
   "execution_count": null,
   "metadata": {},
   "outputs": [],
   "source": [
    "!nvidia-smi"
   ]
  },
  {
   "cell_type": "code",
   "execution_count": null,
   "metadata": {},
   "outputs": [],
   "source": [
    "!nvcc --version"
   ]
  },
  {
   "cell_type": "code",
   "execution_count": null,
   "metadata": {
    "scrolled": true
   },
   "outputs": [],
   "source": [
    "# %cd ~/OCP_project/ocp-git/s2ef_200k_dataset\n",
    "# !tar -xvf s2ef_train_200K.tar"
   ]
  },
  {
   "cell_type": "code",
   "execution_count": null,
   "metadata": {},
   "outputs": [],
   "source": [
    "# %cd ~OCP_project/ocp-git/s2ef_200k_dataset/s2ef_train_200K/s2ef_train_200K\n",
    "# !tar -xvf 0.txt.tar"
   ]
  },
  {
   "cell_type": "code",
   "execution_count": null,
   "metadata": {},
   "outputs": [],
   "source": [
    "# %cd ~/OCP_project/ocp-git\n",
    "# !pip install -e ."
   ]
  },
  {
   "cell_type": "code",
   "execution_count": null,
   "metadata": {
    "id": "58AKzWydvkVu"
   },
   "outputs": [],
   "source": [
    "%%bash\n",
    "pip install torch==1.7.1+cu110 -f https://download.pytorch.org/whl/torch_stable.html \n",
    "# pip install torch==2.0.1+cu118 -f https://download.pytorch.org/whl/torch_stable.html \n",
    "pip install demjson==2.2.4 lmdb==1.1.1 ase==3.21 pymatgen==2020.12.31 pyyaml==5.4 tensorboard==2.4 wandb==0.11.2\n",
    "pip install torch-scatter==2.0.6 torch-sparse==0.6.9 torch-cluster==1.5.9 torch-spline-conv==1.2.1 torch-geometric==1.6.3 -f https://data.pyg.org/whl/torch-1.7.1+cu110.html\n",
    "# git clone https://github.com/Open-Catalyst-Project/ocp.git"
   ]
  },
  {
   "cell_type": "code",
   "execution_count": null,
   "metadata": {},
   "outputs": [],
   "source": [
    "# !pip install lmdb\n",
    "!pip install orjson"
   ]
  },
  {
   "cell_type": "code",
   "execution_count": null,
   "metadata": {
    "colab": {
     "base_uri": "https://localhost:8080/"
    },
    "id": "0NDOYuyAvmtO",
    "outputId": "e3508b8f-8ade-4000-cdd8-7c5f75865a96"
   },
   "outputs": [],
   "source": [
    "# %cd ocp\n",
    "!pip install -e ."
   ]
  },
  {
   "cell_type": "markdown",
   "metadata": {
    "id": "jXoiLncsU3pe"
   },
   "source": [
    "<a name=\"data-description\"></a>\n",
    "# Dataset Overview\n",
    "\n",
    "The Open Catalyst 2020 Dataset (OC20) will be used throughout this tutorial. More details can be found [here](https://github.com/Open-Catalyst-Project/ocp/blob/master/DATASET.md) and the corresponding [paper](https://arxiv.org/abs/2010.09990). Data is stored in PyTorch Geometric [Data](https://pytorch-geometric.readthedocs.io/en/latest/modules/data.html) objects and stored in LMDB files. For each task we include several sized training splits. Validation/Test splits are broken into several subsplits: In Domain (ID), Out of Domain Adsorbate (OOD-Ads), Out of Domain Catalyast (OOD-Cat) and Out of Domain Adsorbate and Catalyst (OOD-Both). Split sizes are summarized below:\n",
    "\n",
    "Train\n",
    "* S2EF - 200k, 2M, 20M, 134M(All)\n",
    "* IS2RE/IS2RS - 10k, 100k, 460k(All)\n",
    "\n",
    "Val/Test\n",
    "* S2EF - ~1M across all subsplits\n",
    "* IS2RE/IS2RS - ~25k across all splits\n",
    "\n",
    "#### **Tutorial Use**\n",
    "\n",
    "For the sake of this tutorial we provide much smaller splits (100 train, 20 val for all tasks) to allow users to easily store, train, and predict across the various tasks. Please refer [here](https://github.com/Open-Catalyst-Project/ocp#download-data) for details on how to download the full datasets for general use.\n",
    "\n",
    " "
   ]
  },
  {
   "cell_type": "markdown",
   "metadata": {
    "id": "bSt6h_Q-oqjK"
   },
   "source": [
    "## Data Visualization <a name=\"visual\"></a>"
   ]
  },
  {
   "cell_type": "code",
   "execution_count": null,
   "metadata": {
    "id": "HodnfJpE8D0u"
   },
   "outputs": [],
   "source": [
    "import matplotlib\n",
    "matplotlib.use('Agg')\n",
    "\n",
    "import os\n",
    "import numpy as np\n",
    "\n",
    "import matplotlib.pyplot as plt\n",
    "%matplotlib inline\n",
    "\n",
    "params = {\n",
    "   'axes.labelsize': 14,\n",
    "   'font.size': 14,\n",
    "   'font.family': ' DejaVu Sans',\n",
    "   'legend.fontsize': 20,\n",
    "   'xtick.labelsize': 20,\n",
    "   'ytick.labelsize': 20,\n",
    "   'axes.labelsize': 25,\n",
    "   'axes.titlesize': 25,\n",
    "   'text.usetex': False,\n",
    "   'figure.figsize': [12, 12]\n",
    "}\n",
    "matplotlib.rcParams.update(params)\n",
    "\n",
    "\n",
    "import ase.io\n",
    "from ase.io.trajectory import Trajectory\n",
    "from ase.io import extxyz\n",
    "from ase.calculators.emt import EMT\n",
    "from ase.build import fcc100, add_adsorbate, molecule\n",
    "from ase.constraints import FixAtoms\n",
    "from ase.optimize import LBFGS\n",
    "from ase.visualize.plot import plot_atoms\n",
    "from ase import Atoms\n",
    "from IPython.display import Image"
   ]
  },
  {
   "cell_type": "markdown",
   "metadata": {
    "id": "VRR5C88U8mH1"
   },
   "source": [
    "### Understanding the data\n",
    "We use the Atomic Simulation Environment (ASE) library to interact with our data. This notebook will provide you with some intuition on how atomic data is generated, how the data is structured, how to visualize the data, and the specific properties that are passed on to our models."
   ]
  },
  {
   "cell_type": "markdown",
   "metadata": {
    "id": "hEDcCSGD86Hg"
   },
   "source": [
    "### Generating sample data\n",
    "\n",
    "The OC20 dataset was generated using density functional theory (DFT), a quantum chemistry method for modeling atomistic environments. For more details, please see our dataset paper.  In this notebook, we generate sample data in the same format as the OC20 dataset; however, we use a faster method that is less accurate called effective-medium theory (EMT) because our DFT calculations are too computationally expensive to run here. EMT is great for demonstration purposes but not accurate enough for our actual catalysis applications. Below is a structural relaxation of a catalyst system, a propane (C3H8) adsorbate on a copper (Cu) surface. Throughout this tutorial a surface may be referred to as a slab and the combination of an adsorbate and a surface as an adslab."
   ]
  },
  {
   "cell_type": "markdown",
   "metadata": {
    "id": "y6Hx8JtXEbW-"
   },
   "source": [
    "### Structural relaxations\n",
    "\n",
    "A structural relaxation or structure optimization is the process of iteratively updating atom positions to find the atom positions that minimize the energy of the structure. Standard optimization methods are used in structural relaxations — below we use the Limited-Memory Broyden–Fletcher–Goldfarb–Shanno (LBFGS) algorithm. The step number, time, energy, and force max are printed at each optimization step. Each step is considered one example because it provides all the information we need to train models for the S2EF task and the entire set of steps is referred to as a trajectory. Visualizing intermediate structures or viewing the entire trajectory can be illuminating to understand what is physically happening and to look for problems in the simulation, especially when we run ML-driven relaxations. Common problems one may look out for - atoms excessively overlapping/colliding with each other and atoms flying off into random directions."
   ]
  },
  {
   "cell_type": "markdown",
   "metadata": {
    "id": "Kb77jRtz9fws"
   },
   "source": [
    "### Reading a trajectory"
   ]
  },
  {
   "cell_type": "code",
   "execution_count": null,
   "metadata": {
    "id": "mUbvcij59d6I"
   },
   "outputs": [],
   "source": [
    "identifier = \"toy_c3h8_relax.extxyz\"\n",
    "\n",
    "# the `index` argument corresponds to what frame of the trajectory to read in, specifiying \":\" reads in the full trajectory.\n",
    "traj = ase.io.read(f\"data/{identifier}\", index=\":\")"
   ]
  },
  {
   "cell_type": "markdown",
   "metadata": {
    "id": "b_e6zDVx9pTC"
   },
   "source": [
    "### Viewing a trajectory\n",
    "\n",
    "Below we visualize the initial, middle, and final steps in the structural relaxation trajectory from above. Copper atoms in the surface are colored orange, the propane adsorbate on the surface has grey colored carbon atoms and white colored hydrogen atoms. The adsorbate’s structure changes during the simulation and you can see how it relaxes on the surface. In this case, the relaxation looks normal; however, there can be instances where the adsorbate flies away (desorbs) from the surface or the adsorbate can break apart (dissociation), which are hard to detect without visualization. Additionally, visualizations can be used as a quick sanity check to ensure the initial system is set up correctly and there are no major issues with the simulation.\n"
   ]
  },
  {
   "cell_type": "markdown",
   "metadata": {
    "id": "uzDp10XsoHdo"
   },
   "source": [
    "### Interacting with the OC20 datasets\n",
    "\n",
    "The OC20 datasets are stored in LMDBs. Here we show how to interact with the datasets directly in order to better understand the data. We use [LmdbDataset](https://github.com/Open-Catalyst-Project/ocp/blob/main/ocpmodels/datasets/lmdb_dataset.py) to read in a directory of LMDB files or a single LMDB file."
   ]
  },
  {
   "cell_type": "code",
   "execution_count": null,
   "metadata": {},
   "outputs": [],
   "source": [
    "import os\n",
    "os.chdir(\"/l/users/elizaveta.starykh/OCP_project/ocp-git/\")\n",
    "%pwd"
   ]
  },
  {
   "cell_type": "code",
   "execution_count": null,
   "metadata": {},
   "outputs": [],
   "source": [
    "import sys\n",
    "print(sys.version)"
   ]
  },
  {
   "cell_type": "code",
   "execution_count": null,
   "metadata": {},
   "outputs": [],
   "source": [
    "import torch\n",
    "import matplotlib\n",
    "matplotlib.use('Agg')\n",
    "import os\n",
    "import numpy as np\n",
    "import matplotlib.pyplot as plt\n",
    "%matplotlib inline\n",
    "import ase.io\n",
    "from ase.io.trajectory import Trajectory\n",
    "from ase.io import extxyz\n",
    "from ase.calculators.emt import EMT\n",
    "from ase.build import fcc100, add_adsorbate, molecule\n",
    "from ase.constraints import FixAtoms\n",
    "from ase.optimize import LBFGS\n",
    "from ase.visualize.plot import plot_atoms\n",
    "from ase import Atoms\n",
    "from IPython.display import Image"
   ]
  },
  {
   "cell_type": "code",
   "execution_count": null,
   "metadata": {},
   "outputs": [],
   "source": [
    "%load_ext autoreload\n",
    "%autoreload 2\n",
    "import ocpmodels\n",
    "import lmdb\n",
    "import torch_geometric\n"
   ]
  },
  {
   "cell_type": "code",
   "execution_count": null,
   "metadata": {},
   "outputs": [],
   "source": [
    "# torch.__version__\n",
    "torch_geometric.__version__\n",
    "# %pwd"
   ]
  },
  {
   "cell_type": "code",
   "execution_count": null,
   "metadata": {},
   "outputs": [],
   "source": [
    "from torch_geometric.data.data import BaseData"
   ]
  },
  {
   "cell_type": "code",
   "execution_count": null,
   "metadata": {
    "colab": {
     "base_uri": "https://localhost:8080/"
    },
    "id": "7F7BjxNQoGLn",
    "outputId": "36fcd255-facc-43dd-efda-c238cac9c5d9",
    "scrolled": true
   },
   "outputs": [],
   "source": [
    "from ocpmodels.datasets import LmdbDataset\n",
    "\n",
    "# LmdbDataset is our custom Dataset method to read the lmdbs as Data objects. Note that we need to give the path to the folder containing lmdbs for S2EF\n",
    "# dataset = LmdbDataset({\"src\": \"./data/s2ef/200k/train/\"})\n",
    "dataset = LmdbDataset({\"src\": \"./data/s2ef/200k/train/output_lmdb/\"})\n",
    "\n",
    "print(\"Size of the dataset created:\", len(dataset))\n",
    "print(dataset[0])"
   ]
  },
  {
   "cell_type": "code",
   "execution_count": null,
   "metadata": {
    "colab": {
     "base_uri": "https://localhost:8080/"
    },
    "id": "pD5B_TymoJ8S",
    "outputId": "72b21c2a-9472-4b08-afe9-c1bd28a5b399"
   },
   "outputs": [],
   "source": [
    "data = dataset[0]\n",
    "data.efermi\n",
    "# data"
   ]
  },
  {
   "cell_type": "code",
   "execution_count": null,
   "metadata": {
    "colab": {
     "base_uri": "https://localhost:8080/"
    },
    "id": "rL4u0glIoL8h",
    "outputId": "a29c8dfc-617f-48fa-9195-e851b23033e1"
   },
   "outputs": [],
   "source": [
    "energies = torch.tensor([data.y for data in dataset])\n",
    "energies"
   ]
  },
  {
   "cell_type": "code",
   "execution_count": null,
   "metadata": {
    "colab": {
     "base_uri": "https://localhost:8080/",
     "height": 737
    },
    "id": "mkOm2roAoNY2",
    "outputId": "aed9b4de-99de-49ab-a21c-3a372166747a"
   },
   "outputs": [],
   "source": [
    "plt.hist(energies, bins = 50)\n",
    "plt.yscale(\"log\")\n",
    "plt.xlabel(\"Energies\")\n",
    "plt.show()"
   ]
  },
  {
   "cell_type": "markdown",
   "metadata": {
    "id": "RtECvWIPCu0b"
   },
   "source": [
    "### Additional Resources\n",
    "\n",
    "More helpful resources, tutorials, and documentation can be found at ASE's webpage: https://wiki.fysik.dtu.dk/ase/index.html. We point to specific pages that may be of interest:\n",
    "\n",
    "* Interacting with Atoms Object: https://wiki.fysik.dtu.dk/ase/ase/atoms.html\n",
    "* Visualization: https://wiki.fysik.dtu.dk/ase/ase/visualize/visualize.html\n",
    "* Structure optimization: https://wiki.fysik.dtu.dk/ase/ase/optimize.html\n",
    "* More ASE Tutorials: https://wiki.fysik.dtu.dk/ase/tutorials/tutorials.html"
   ]
  },
  {
   "cell_type": "markdown",
   "metadata": {
    "id": "qa9Iuu2GU52Z"
   },
   "source": [
    "<a name=\"tasks\"></a>\n",
    "# Tasks\n",
    "\n",
    "In this section, we cover the different types of tasks the OC20 dataset presents and how to train and predict their corresponding models.\n",
    "\n",
    "1. Structure to Energy and Forces (S2EF)\n",
    "2. Initial Structure to Relaxed Energy (IS2RE)\n",
    "3. Initial Structure to Relaxed Structure (IS2RS)\n",
    "\n",
    "Tasks can be interrelated. The figure below illustrates several approaches to solving the IS2RE task:\n",
    "\n",
    "(a) the traditional approach uses DFT along with an optimizer,\n",
    "such as BFGS or conjugate gradient, to iteratively update\n",
    "the atom positions until the relaxed structure and energy are found.\n",
    "\n",
    "(b) using ML models trained to predict the energy and forces of a\n",
    "structure, S2EF can be used as a direct replacement for DFT. \n",
    "\n",
    "(c) the relaxed structure could potentially be directly regressed from\n",
    "the initial structure and S2EF used to find the energy.\n",
    "\n",
    "(d) directly compute the relaxed energy from the initial state.\n",
    "\n",
    "\n",
    "**NOTE** The following sections are intended to demonstrate the inner workings of our codebase and what goes into running the various tasks. We do not recommend training to completion within a notebook setting. Please see the [running on command line](#cmd) section for the preferred way to train/evaluate models."
   ]
  },
  {
   "cell_type": "markdown",
   "metadata": {
    "id": "W7aZpLzmuNra"
   },
   "source": [
    "![tasks.png](data:image/png;base64,iVBORw0KGgoAAAANSUhEUgAAAhwAAAHiCAYAAACjjhWIAAAABHNCSVQICAgIfAhkiAAAAAlwSFlzAAAuIwAALiMBeKU/dgAAABl0RVh0U29mdHdhcmUAd3d3Lmlua3NjYXBlLm9yZ5vuPBoAACAASURBVHic7L15lFxnfef9uWvtW2+SWlJrt2xJloW84gVjg2NslhiDgwmQF4aTMMybhHkzOTM5cIKHeYecQyCEbCwvTGZY4rDYEGLjBQzC2GBb3oQla9+sVrfUaqn3rqq7Pc/7x3PvrVutljHGalnifn3KVaq6de+t6np+9/v7/jZNSilJkSJFihQpUqQ4jdDP9AmkSJHi9KHRaNBoNM70abxkSCk5dOgQBw4cQAhxpk8nRYoUryBSwpEixTkKz/P48pe/zFe+8pU20hEEAZ7nncEzU3Bdl5kC6/j4OHfeeSdf+9rXGB8fP0NnliJFitOBlHCkSHGOQkpJs9nEcZxYLQiCgK9//ev8wz/8AxMTE2fs3LZv386nP/1pHnnkkbbnbdtmwYIF9Pb2kslkztDZpUiR4nTAPNMnkCJFirmF67q4rvsrQxZSSjRNe0n7nG3bF3u/7/t4nneS0pLP53nve98LgGEYL+nYL/V8UqRIcWaREo4UKX5LcPToUbZs2cL4+Die5/Gzn/2MbDZLb28v69atA9SFeteuXWzfvp16vU6hUGDNmjWcd9558QXcdV0eeughlixZQrFY5IknnkAIwbXXXktXVxe7d+9m3759TE5OxvvfsGEDuVyOIAh44okn2L9/PwD79+8nCAIMw+C1r30tmUyGX/ziF/i+zzXXXMOBAwfYtWsX69atY+nSpW2fZ9u2bbzwwgu89rWvpaOjA4CDBw+ydetWJiYmyGQyrFixgosuughdT8XcFCnONFLCkSLFbwmOHTvGli1bYnXj+eefR9d16vU669atQwjBfffdxzPPPEMmkyGfz9Pf38+2bdu48sorecMb3gCA4zhs3ryZgwcPMjExEasUq1ev5tFHH2X79u3kcjkymQzNZpOtW7eyc+dO/uAP/gDf99m2bRvDw8MADA0NMTIygmmaXHTRRZimyZYtW2g2m1xxxRXU63WeeuopRkZG2giH7/v85Cc/YWxsjCuuuAIpJb/4xS/YtGkThmFQKBRoNps8//zzHDx4kLe+9a2YZmruUqQ4k0hXYIoUvyVYs2YNCxcu5Fvf+hZjY2O85z3voVwux7kSe/bs4ZlnnmHevHn83u/9HpVKhWPHjnHnnXfy2GOPsX79erq7u+P9HTt2jFqtxu23345hGFQqFYaGhrjxxhtZs2YNhUKB8fFxvvGNb9Df38/hw4dZsmQJv//7v8/WrVt58MEH2bBhA1dffTWaplEul08KsaxevRrTNBkYGGBsbIxqtQrAwMAA4+PjzJ8/n87OToaGhnj44YcpFovcdtttLFiwgPHxcb7zne/w3HPPsW7dOlatWjV3X3aKFClOQqozpkjxWwLTNKlWq5imia7rlMtlqtUquVwOKSVPP/00ADfccAO1Wg1d15k/fz6XXHIJvu9z4MCBtv1lMhluu+02li5dyuLFiymXy7zpTW/iiiuuoFwuYxgGHR0dXHDBBQghGBsbA6BYLFIoFADI5XJUq1UqlcqsORfZbJbVq1fjOA67du2Kn9++fTtBEHDRRRcBxMrNNddcw8KFC9F1nVqtxtVXX42Ukj179pyW7zRFihQvHanCkSJFCqSUjIyMAPDYY4/x7LPPxq+Njo4CnFSm2tXVRW9v70n7mZ6eZt++fYyPj9NoNOjv7wdUGOTlYN26dWzfvp0dO3Zw2WWX4fs+u3fvJpvNxqrFiRMnANi6dSsHDx6M31uv1wHOaEVOihQpFFLCkSJFCqSU8cV5cnLypGZhixcvZtGiRW3PzaZIPPfcczzwwAM0Gg0KhQK5XC7e78vF0qVLKZfL9Pf3MzExwdjYGKOjo6xcuZJarQbA9PR0fD+T2CxatOikhNMUKVLMPVLCkSLFbyFmNtzSNI1SqYTv+9x66610dXWd9J5fVekxNjbG/fffjxCC973vfSxZsgRN03jkkUf46U9/+pLOYzbkcjnOO+88nnzySbZv3x4rMevXr49JT7lcZmBggBtvvJHly5f/2ueeIkWK0490FaZI8VsGXdfxfb9NCdA0jc7OTlzXZd++fei63nZ7KRgfH8d1XRYsWMCKFSviXJGpqamTto16bDSbzZe076hsd8uWLezZs4d8Ps+KFSvi1yOCtHPnTjRNazt3TdNeErFJkSLF6UWqcKRI8VsEwzAolUocPnyYRx99NM6BWLt2LRs2bGDXrl385Cc/wfM8+vr6ADhy5Ah79+7lzW9+c9zvYjZUKhUsy2JwcJBt27ZRq9XYunVrnIyaRLlcRtd1du7cydKlS6nX66xduxbLsmbdd29vL93d3QwNDQFw0UUXkc/n49cvvPBCNm/ezLPPPothGHF1y/DwMDt37uSqq65KwyopUpxhpIQjRYpzFJqmtd0iXHLJJRw4cIAtW7awZcsWLrzwQtauXcuqVau4+eab+elPf8pPfvKTNmWjVqud1MdiZg5HpVLhyiuv5NFHH+Xuu+9G13VM02Tt2rVs27atbfve3l6WLVvG/v37ueuuu7Btm+XLl8eEY+Y5W5bFmjVrePjhh9F1nXXr1rW93tPTwzvf+U7uv/9+Nm/ezObNm2Nlo1QqnZLIpEiRYu6gpePpU6Q4NyGljCtEFi1a1EYgjh8/ztGjRxFCsGTJEiqVSvzaxMQEAwMDTE9PY1kWHR0ddHd3k81mARBCcPDgQfL5PPPnzz/pmENDQwwNDSGlZNGiRRSLRQYGBpg/f35cDguqY2mUCFqr1ejr60PTNAYGBhBCnHTOzWaTgYEBDMNg8eLFs7Y+r9frHD58mMnJSQzDoFqt0tPT06aGpEiR4swgJRwpUqRIkSJFitOONGk0RYoUKVKkSHHakRKOFClSpEiRIsVpR0o4UqRIkSJFihSnHSnhSJEiRYoUKVKcdqSEI0WKFClSpEhx2pESjhQpUqRIkSLFaUdKOFKkSJEiRYoUpx0p4UiRIkWKFClSnHbMaWvzo8dO8P0fbMJ361RLFqViAdu2sSwL0zQxDCO+JQcvRfdRK+PoPupZJqVESokQAiEEQRDg+z6e5+G6Lo7jMN1wcUQBM1PEsjIYpoVuWOi6ia4baOFNHUtH03U0NJjRYjmClBKkREqBlAIhJFIGyCAgED4i8PA9B6c+ge+72Nk8pmljmOrYmm5i6AYkj6lpSLXzcP8CIQJEEBAEHq4zTX3iOK4zjec0kFJQqHSTyZUwzcRnMkx0zeDN165A108+9xQpUpw+/Ot3NzF05BAEdbo6ShQKBTKZDKZpxreZdi5p42a2dYd2WzfTzvm+H9u5ZrPJdMMnMKpYmSJmaOuMyC7E9i60cZqhjhUfUyM6soz+LyUSiRQytHUBUgSIwCcIPHzPxW1O4TrT2Jk8ppXFtDLohoVhmMq2RjY1absj+ykEQvgEvkdjaoRmYxLfbeB7Dq5bx7JzlKrzsTKRDbVD222wcc18lvSWT/m3GB1/acMBU5weZGyDfK41VmBOCcfQ8Dhf/N/fxZ8eZPmiCh0dHZRKJfL5PNlslkwmg2VZMQGJFuZsizJCcgFGJMPzPJrNJlNTU0xOTjI6OsqREz6etZB8uYtstoSVzWPZeUwroxalYasLtql+yLpuosXH1IGkAUgSHB8Z+Ipk+Grx+V4Tz23iOpNMjw8zeryfQrmLXL5CJlfCzpYSx7UwLDs0Bkb8maQIECLA9xwCz8FzmzjNCU4c2ceJof1Mjw9jZwt0LVhJvtxFJlvCjj9TFt2wuema5SnhSJFijvH9BzezY9tT6M4gy5fMp6Ojg2KxGNu42excNFn3xexcZHMiohGRjEajwcTEBBMTE4yOjnJ03MQsLqVQ7sLOFrEzOUw7HzpadnhrERBthtNDgnJEx1VEw4+dH+G7+K6D5zaUIzQ1ytjwIexsnnypg0yujJ0tYkXkQzfRDUV01P7VfgPfC50zF89tMDV2lONH9tKYHqU5PYbr1Omcv4Jq12KyhSp2pqCcNyuHYWbo7iieknAIIfkvf/3j0/3nTvEiuP6KJbz3revif88p4dB1g2y+jAyOYds2uq6fpE4kHwshZlUXoF3liBZh8pZUOOoNh7qXJZOzFXmY6UEoWUH9l1hgSBBCQ9cF7YQD9ToiZv+xKkGrU7ym6ZhWFk3TcBuTWHYWw7PUYtd1RMj8dSEQWgBINDQU+RdIEcT7VUoK5ApVMtki9ckTZPNldMNKHDLpm6Qd61OkOBMQQmDZGfJmFtM0Yxt1KkU2sl8RpJQx6Ug+l9z2VLZuqu7hUyFj2qGdg8gutIZYJGwWEo2Ztku2HbdlDyWxzZNqL6BssWlaWJkcjelx7ExeOXCGhR6RGDPcr2hXOaQICAJfOW4yiBUZpESIgGyhQiZfRjfMdkKkgabJmWY5xascc0o4pJTIwCVja22Dl2ayd13X48WV3CZJQF6McEQLMLofm2gitIpaxOpN6pjhhbmdaARIqSGlFq87IfQZxCfcVog4pBItyHhxxotRx7JzNKfHyeTKoZLigBbKjJpOoGkYWAiZ+E6EQAStcIryLnyEFGSySiq17FyovkTfUfJ8UsKRIsWZgAg83PoY1bLRfnGdQTKSzyW3ixyxSOVo2aZ2WxeFUyJV13VdJqYFWj6LpmszgiPhTcq2/WlCINES2Xxa4r7dAZNJuxn9m9BNCu3c1PgxPLehVBTLRtMNiD6boRwtGRMgoWxbEIShYx8pBaaViW2ysplWuA8Zk5zwoyRZVIqzAHNMOALcxhh5W866iGZj+4ZhxItvJutX+2wPqSQXYBRamaz7mCU7vjirH7NQiyZJGoIAqWlIAgRqDUpNomlyluNGuRvhYhGtx60FKpCAaWXwvCa+18S0Mvieg66b+LpSWyJzYCSUFLUY/ZBsBIjAI/BdFbbxXXTNQDfM9vMRIgzFCDTNf+X/gClSpPiV8N0mgTeFoWfi56SUbU5RFDpJYiYBSYZVZrNzSWXD8zzq9SYNT6NgWKFSKmKC0AqLCDQhIFJVpYYmQEeGtm4WySC2LepGpNbEjpU6hgoJS9zmNKaVxXAbKl8k3KUhJTJps4QiHCofxCXwXQLfQzdMpBAYholpZVuERUZER8T2O8XZhTklHCLwCdxp9Kw2K8nwfX9WQhEtztlCLLPFNZOMf2pqGsfXMNuUABkmKgUIKdBFgIiSNgMNddkPKbSmnSTltZKowgt8ECD8UBYME6oiAoCUaJqOFAGe08DK5Ag8C9+w0AxDLcjweDLyBsIQj0rKcgl8B9931aIMPJr1cdBaBorI4wgJjyZ8NPQ0qJIixRmA05wC4QKZk1SNpIp7Kls2k2xEKkdS3Ug6VdFtcmqaQBbjsDGxjYoSMwW6HijFNtCUQwWgGwihHCupaSdFKWLnqi2J3U84WFG4RWKYtkoezRbjHBG1D7UfXQQtEhUliwYqYVTd3Niuqffr6s2hLZVCtpJWRarknm2YW8IhAkTgIKVxEtEwDCMmHDNlyGQiVRLRv6MFOFNedF2XqelphMwk1IxQVhRChSh0DxEnhYYLXEo0Q0dqIsysnj2ZSgiBFD7CD+KQh4wVDz9cjEFMcFy3Qcb38A0X3QuTxEIiJKQMk1XVuUgp1AIMHALPJfBcfN/Dd5s4jcmW1CqChDELCHxPGRwzDW6mSHEm4Dp1tHDdvxjZmM3OzVaVF22TVDgi+xY5WK7rMF1voumVeHsSuWBS+EhhIIQOMSFR22mGRNcMtFBhVWkf7dUkIqrACyI758cXfpkgHxoarlPH95oYpoXvOa2cOSmQRtDmVKmQih8n2/u+Q+B7SClUdUt4DkFsV4M470PTjVTlOMswp4QDKVVFR0BbroVpmvi+j67r+L4KBSQTSGeWjEVIMv/ZCEez2aTZdJAy8jSSREDEpEMaJnEURwo0XaDLsHQsyt+IbvFmYQhGKo8jWoCBUEqH8MOci+gmfHy3TuC56IaFr7sxmZGArguEpitZUtOQwsf3HYTv44dSY+C7OM0pfN/BMOzwmKoEV92baJqPiOOkKftPkWKuEfhOm4KbzLkwDKPNliXDKDNbASQRbdfb28vw8DBTU1MJsuHSaDRpuj5ktdjBEXHYVykJBMq2aGiIUMHVpQqxSD0IK0gATWPJghLTdY/jY02S5fkiJC8R8QgCL36scjAkntvA91wM04kVDkAly8vQ0EoVYo/y1HzfwfccVa3i1PGcOlYmFxMepGzlsQXKqQp0HZESjrMKc5vDgSQQEt/3T0rwjBabbdssW7aMQ4cO4bruKUvFNE1j1apVeJ7Hnj174phmpHZYlsW1117LvT+4n7GjfhxCCQIPI2TkmghYMr+T/+c/XMenv/IIJ8Yd5WmEOR6KbLQIR3jkVjglXtDRQmjlWgS+qx7HN0WkfM9JZFzrRNla0gzQ0BGhwiECpWjIMGk0CFxVl96cQgQ+umaEn6e16HXdRxe6Yv+vcq7hOA6Dg4MvefuXKp2+2HazvXaq7V/qti/lueS/f5PHM5+bbbsXe+5U5/VS72d7/Ovso1KpcMkll5yy8uxcQeR8JHMtZtqya665hnnz5gFqLezatYuBgQGCIGizcdG9lBLTNLn55pt5+OGHGRwcbAunNBoNgkCghaqnlEFCbQ0fax5aAD6gS4E0JFIaaJqIHavI1r3nphU8t/s439+0Lw7HRPsMknbOU86Q77txcrtyjhwC38aPwsSaFivLcW5J9FgEBL4bEg4HtzlJEHhY5Nry5Fr9OvwwbKSrcE6KswZzrnAEQYDng+d52LYdk46IUHR1dfGBD3yAz372s5w4cWJWiTF6fNlllzE5Ocnzzz9Pb28v5513Hg8++CCu69LZ2cn73/9+tm/fyd7D29tIQRC46L7yNEwDOqt5NE0okqAH6CLMrYhIQVheFiedRkmh4YIRsaToq4XjtxZh1Ecj8F00TQvjlW7c4wMkmgaGFET9PiQikROiEqsC38VzpnGdekycIq8i8H0Cz4kbmBHoaK/y2KZt2xiGQbP50hvz/Kak4zchHL/Jv1+Jxy/19V+XePy6pOFX3b/Yc41Gg7GxMWq1GucyVNijnXAYhhE7VplMhvXr1+N5Hv39/SxZsoSLL76Yb37zm+zbt2/WhNE4hCvlSVV4UcOvIAgw4ooPZSP0wEToHoGmo5MIkximIgC6UGHdk0LWirj4rhM7WFGIWDlWLr7nEoQkQREGL7Z/IgjDu7oRKydSSjTfjcMpEIWlg7B3UQPPqeM0p1RYJSI6YQVLi3QEBL4fKsEp4TibMOdlsb4f4DoBruti23Zbcy9QRARaIZd8Ph+Tk0wmw+TkZJxY9bWvfS3erre3l4svvpiHH36Yer3Orl27+MAHPsD+AwcRfgYRuNQqeXL5AtPNICYAwlfHk6FSoMsAKXREWLYaxx9JhnMSpWIh647KukSobvheE9+NGoCpmKZp2iq04rtxMqoIE65EYIOmo2tKQVHypR96FJ5q/NWYCsMnqj+H7zmYVjb0Nkw03Qm/Z9EmZb4aoWkatVqNI0eOnOlTSTFHkFKyb98+Lr744nNa5RAiwPNFnGMRkevIcbIsCyklO3fu5Ic//CHZbJa//Mu/ZMWKFezYsQNN0+jt7aWvr49ms8n+/fuZmJhoIxyu61IqlVi7di2mabJz505+9ONHkZrguqvWc+jIOEeOTWDlclyxcTl7DgwzNuWyeEGV81fMx/Mluw4cZ2TcIdB0TNPg/OXdzO8usr9/BJBhQ66GogaRcxVXzLWU3CAOhzTwnIZq5iUiZ8hTCo0QiMBD141WuDe0oSII8MJmiU5zEt914mTSeD+ho6brBloYlsInVTjOMsz5VckXAsdtJXVGHfaAeDFBi3h84AMf4MiRIyxfvpxsNsvBgwf51re+RaPR4JZbbqFer3P48GHe+MY3ksvl+MhHPsKWLVv45je/ycc+9jHuuOMOduwd4lP//f9mzfkrMQyD8ck6n/nCv3PoyKi6+CPxXEUQkkmiyWRRJTWq89SiCpEoTpqIawa+11p8IWP3nGk8p04mW1SEQTcINANdVxnZhKw9aqfe8ihai81z6nhuAxGEyVv4oWehpEvdsNCixS0luh7M9vW/qlAoqNb2ruue6VNJMUc4duwYk5OTlMunbkd9tkOIAM/zcZxWYmcyLOy6rUqMIAjI5/Nomsbk5CSu63LppZfy1re+lYGBAcrlMtdddx3/9E//RKPRiN/j+z4f+chH8DyP4eFh3vOe97B85b/wD//fXdz2u9dSyBf5k499kTe/YQO///Zr+NM7/oXL1/fxH9/3eg4NjlLKZ7jtJpv/9x9/yLETk7zjhou56drzGR6Z4u1vXE3GtgiEj+c2YucKGSW+qq7KsfLqNvEcZetct44QXqz4aoFBEBIOLfBb7c1l2MMjTHr3nUacu6HC0WFuWuQIhk5VrDyH33WqcJxdmGOFQxAEgkZTteS1LCtOoooWYEQ0omSoYrHI2rVr+f73v49hGLzjHe9gxYoVPPXUU2SzWYIg4JlnnqGjo4OrrrqKr3zlKxw+fBghBJ2dnZimgan77Nt/kP995w8wzSz//b/9B952w8X87ZfvwfeaIFEteptTcUvzdtJBW2Z3+GFaCodsyX6+56gEKLeJ66i2v05jMpx9orKydcNEEwaBr6syr5BU6IYRJkeFqkfYG0SECz8KzUTVKL7n4LlOPFsgLq8NpdJXe86orutUq1WOHTt2pk8lxRzB930OHjzI+vXrz/SpnDYI38MPAur1BrlcNu6qnMzFkFJy6aWXsnLlShYsWMALL7zAz372MwBuuOEGfvGLX3DPPfdQKBT48z//c9atW8fDDz8c28h6vc4//uM/smPHDo4fP86HP/xh3nDdtXzm7/8Pf/MPX+MLf/sx/viDb+Xqy9dw5/ce5fiJUf7yT9/Go5t38+V/fYR8LsOnP/pOrr64j3seeo6bXreaex56jm/e+zQXXbCIP/vg9YjAx3ObxD2FhCq/j/PSfC8cu+DguYoseM1pZbMCL1ZylQMUzVNpVagkQzUqpDKtnKg2BcUjMD2MwEMEJkEQho2R6KHqkuLswZyHVEQQ0PBVVnVS3YiSSB1HhQWazWbM6B944AF+9rOfoes6v/M7v0OlUqHZbMYZ4MPDwwwODuK6Ltu3b2dsbIxqtRruV3D48CH+7p/+mQvWrGf+/ArHR8aoVfJ4bpPAU951JAtqmoqzRgOH2hCXd0WfR8TsXwR+XNIVhHMBXGcatzlFsz6BHyivJpIFw0Ya6EaApunogZ+ouglCwtHqwOc1p1ROSOCGUqXT6uhnqiRU1WhMYggRL8pXO0qlEiMjI7GyleLcR39/P6tXryaTyfzqjc9CBGGu2HTDo9BsYllqeFWkTkTNDPv7+9m/fz89PT1MTk5y4sQJuru7KRQKnH/++SxcuBBN08hms5TLZZrNZkw4Go0Gk5OTvPOd76Szs5Nly5aRy2Xx3TrPbNnGPfc/wrtuvYG9Bwb5t/t/Tq1WoaNaYM2qXj7+kbeAplEoZOiq5umuZbFtk0c378B16jz9yz0Mn7iUwPdwnTpx+EMkQiqRmuu7+G4DtzmN60zTrI+jGyZuczq2jYYRxHOiZnPaFLFR4ZgoH0TESrGDaVoERqRuGK0S2zBBNsXZgzlPGhWBi+u4TNensW0rZv6RTBgRjkajQb1eR0rJ5OQkjUYDTdNwHFVyFt0HQUCz2cTzPKSUNJtN6vU6hUIBUAlcPZ0VPv/5v2LliuUceGGQvoU97Nk/oKauuk1A4jlq0Wgh2dC1iHSoTqDxMolmE8RJca3+F2qokRcqHC11oz51QpV+ec22pjfSCtCFFSspUX16e4a5khY9t6HK7XyPaKib59QxLRu3qRazGW5vGBaJXsWvahiGQblcZmRk5Eyfikpqe4VzC15qoutvEyKVY/Xq1Wf6VE4Louo0r9lgOqfy1CJnIiIcQgh2797Nt7/9bYaGhvjgBz9Ib28vU1NTSCl56qmnOHjwYKz89vf3txGOTCbDJz7xCXbs2MFDDz2E67pcdNFFeM1JfK9BuZRHSkkhn8XSZZz8+cSzO9m241Ac2hg4OkYhnwVQuWduAwjtWmh3ItU0yitrJd9HKqtK9HQaU/ieQz5bVDbKbaqKOsNUKmxiEGacAxcfpxmTjSDwCISnCEi2gWdareRTTTlS0pIYkRqc4qzB3Db+kkLF+zyXiQkPO0yeEkJgmiq8Um+oqoWpusPEVAMhJI1Gg/Hx8dgzaJWBKVWk0Wjgui6WZcXTEx3HiRf49ddfx4VrL+CNb34v49Men/nkf6VUKuE2p/HcOhJwGkqJ0A0jnGxoxotS042TP4yMasODOCQSV6m4KuPaaU7SmB6jPjlCvtShElWjpl6Gi+lnMMxM6zihShE31AnzOFRTnEa4KF01qdFr0mxMYJg2mmaApmLHhq/6fEh5NugbCrVajbGxsZdtPAYGBrjnnnu48MILueqqq+LnBwcH2bRpE4cPHyYIAvr6+rjyyitZtmxZvM3ExARPPPEE27dvZ2pqiu7ubi6++GI2bNjQ1gth9+7dPPHEE/G/dV2no6ODCy+8kN7e3rbzkVKye/duHn/8cY4ePYppmixfvpyrrrqKzs7Ol/UZzzW88MILLFu2DNu2z/SpvOKIlE7f95muO9h2I3aqLEs5GEKopNLJyUkeeOABbrvtNq655hq+8IUvMDExQaVS4bHHHiMIAjo7O6nX622EY968eVQqFb70pS+xdetWNmzYgJQSpzHB66/awPWvu5RPfOrL/Ol/vJ0P3P5GPvel73LixDg9nWUef2obnifo6qzgB4LjgOv6XH3ZKnbvO8TVl69hfndF5Y41p9tyymRi7kkQEhLPqeM2phDCp3fZayjVFmCYKsQbiCCsrpvGa9bjXLUIUTKp5zptjb+E7+GIAMvJo+tW6JBFKnlGOVemsrkpzh7MbUhFqGxkKQKkVqDe8NANHzObJ1taSKbQRa57LQD5eZeTsybQjAzSnoej9yCcMQIhcV2X6enpmHA0WnB70AAAIABJREFUm00GBwepVCq8973vZceOHWzevBlQuSDHjx/HNA3e/75byWZzvP7qS3jymedx6uN4zSlAErgTeM3RkFzooJsx8dD15KRCUOVcasqiSPThiOrPVS35NM36BEHg07tsA6XafOxsAV0z4lyOiJioHho6s5XdKsLh4HlNArehYp3xwnQxTSVLR9sZhoVuWPFcg7MBhmFQKpUYHx9/We8/dOgQ9913H41GIyYczz33HJ/61KeYnp6mWCwCsHnzZu69917++Z//mVwux8jICB/72Mc4evRofCFwHIcf/ehH3HrrrbzrXe+K/+abNm3ihz/8YZx3FPV7yeVy3HLLLbz97W+Pt33wwQf5xje+ged5FItFfN/n8ccf58knn+SOO+7ANF/dFURzgUajweDgIEuXLj3Tp/KKw3ebSASFcjeabTMdKrW+72NnshhWASk1pJ5H2L00Mfjpz7dw4/WX45Plq1+7kw/90Qf57Gc/S6PRoKOjg8985jM899xzMeHYuXMng4ODfPrTn2ZycpJisUij0SSXy/Df/st/4oEf/Yy7v3cfxXyW//yf3sN3793El7/2ff7rn76Hf/67P2NqqkFXZ5m/+9J32fToFu6+92e8/c1Xc81lF6DrGpNTqkmh05xqnzcVz4yK1I0mnlNHyoCeRRfQMW85diYfNzAE4oq6xvQYU2NDTE0cJ/CUYynCjsrtfT1c/MBDuB5upohh2KG6ERIUUyktumcgAu8M/qVT/LqY86RRpKRQ7iZXqFGq9tCzcCXlzj6yhZoa5Z6r8eS2oxiFhZS0brbuHWVS9NCx7PW4jXGe3THEvkOjTNddnnzyyTjX44knnuDrX/86q1atYufOnZw4cYL777+fgYEB9u7dyyf/6q+57rrXMzA4xBe/8nWq5SIrF5dY0Gmya+dOzl9WobdTJwgkjabLVN3lxHid6UaAI3R1ETdMpSZEs0sSdeQqSaqVv+E0lbzYNX85nfNXkc2XMSxb1bxrehy/dJpTTE8MMzl2FKehFnf7wCYP33XCxd3Ac5UqE3guGdskcKfwDBM7kydXqJEvdZAv1jDtAtpZElYBqFarccnzbwohBF/96leZmpriXe96FzfeeCMA27Zt44EHHoi3GxkZoV6vc/vtt3PZZZehaRrf//732bRpEz/4wQ+47rrr4uZMUWjk9ttv55JLLqHZbPLkk0/y3e9+l7vuuosLL7yQVatW0Wg0uPPOO5FS8qEPfYiNGzfSaDR4+umn2b1792/82c4lHDhwgMWLF7dNjj4XoBsmpeoCrEwOTULggi90yuUlVHpWUqj08tV7djIxbdFz3pvQdZ1NWxrsP7aFXO/r+fnzx9h9xxdZ2GUj3TEOHz7Enj17kFLyiU98gv7+foaGhnj/+9/PmjVrGBsbY/v27czv7cPKdfKxj3+Krdt303QE//Kt77Nn30EGB4/yy63b2fr8Ls5b2UcmY9N/eIjd+/oJ/IC//9Kd/Pinj9HVWWXH7oOUinkaDRenMUk0/VoKiSRs1OWpPhye10BKwbxFa+lcsBw7W8Q07TgHLpmXZmcL5ApV8qVORo4dYGpsKDEt1g/HN6hwdOA5COHhNSMVVynDwvQwTNXfQ3WmTivczibMKeEwDItadx/ljoV0L1xNpXMR2XwZO1PAMDOYpsVEQ+d/fW8nmmZj2Dbf/uF+pAjIFzqxMyW+/eAemvU8+fmX8y93/Qh36gjIgHq9zt/8zd/E1S2O4/Anf/IneH6AbhX4X1+7m3vu+zFLFvXQ17eQWrXMZRvPx7IsfvKTn9DVUaarQ5XqRbkhjWaTsfFp+gdHGDw2yfS0QDPCnItofLMQqp25r8IpntfAdRrIwKdn8QV0L1hJtlBV0xMNM84LUaW2kCtUKZS7qHQsZOzEYUaHDtBsTIQRGxHWwod17m5dKUSBR7mUp1rtIFOcR3neGmo9S8kVaph2LhFmOXt6HWQyGfL5PFNTU7/xvsbGxhgeHiabzfL2t7+dXC4HwOte9zquueaamNAtX76cL37xi2Sz2fi9f/RHf8Tjjz9OvV7n6NGjMeGI0NnZyaJFi5BSsmLFCg4ePMhTTz3Frl27WLVqFQMDAzQaDZYtW8Z1110HQLlc5uabb+amm276jT/buYSJiQmOHj3KwoULz/SpvKKodi7GlaOg6RiGRbm2llrPEkrVedi5EpaV4/BwgG5Y5IsdaJqGB+wdaJItLcDKddHwmmwbGGXqRIOJoeM0puogAx577LHYPk1OTrJnzx4c10MzCgxPDKJbRX7x5C9xG9PohokQAT99+FFVxaZpHDwwzbGj/eRzNqVChqXzbSzTwDAMGhNH2DXUT6PhMnx0kLrjRalqCnHlnK+cK9/BsGzmL1pH5/wV2NkCppUJFVYzMaZBdSk1DAvDsjFMCyuTw87kGR7cjeeEanXY08PzGpiGpFwpITWJ25wkmqmt6zqmlsGys+qaYZx7IblzGXNKOCw7x/wl6+mct5xCuRM7W8TK5NXF2LTDcECrLBWIZTzdDOKBZ6pLp4GRKTN29HnGj27Hd6fbWqW7rouQGtliD51d81i5rJcVSxdSqZTIZrMnNR1LDoeL8kpyuRzlUonuripLR8bZe/AoBw+P4gSobOnw/IIwUTSqSQfoWbia7oXnK0KVzWOYmVZuSEQ4UHkXuqkWoWlnsTMFhgd3MXa8P5Qa/VZjHd/F1CW1zhqVzl4q89dR6lpGNl+LF7thZmIl5uyhGwq1Wu0VIRzR33ZiYoJt27Zx6aWXxq8lk0J1XW8jG9F7M5kMzWbzpHkWsyEiM5ECks/nARgeHqa/v5/Fixe3HTtNIm1BSsn+/fvp7e09pxqBZXIlrIxLrlCh2q2IRjZfwcrksawsuqEqy+IRB7oGUosrzETgYVo2hmlj2XkyhXmMDG5l9Mg2vOZ4nJvmui6B0LEL88gWutRYd4hHH9SnRhAiwLKz5HJZ5vd0sHhhF/O7OygUc9iWjWlGXZXVuQdC4Douk1MNjgyNcvjoCMdOTOJ5fth4TMTD0+xsgQVLLqTatRgrk1P2x8iomSlxKJpY4dBCEqKF9KHavQQJDOx7Brc5GufB5bMm1UoRyzQRQlJ3TQq1BXTOX6G+y0IF08ygGSaFSs8Z/Eun+HUxt4QjU6BrwUpyhRpWtohl5zGtXLy4dCPR2EWLu0oowhGONY7DgllBQQo0bR1oNkMHN9OoT4akI0A3s5SrvfQumMea8xbT012jUCiQyWSwLCuOxSc7AM6czhgEAaZpYpomGdumUi7Q1XGU57YfYmR8GhVUDEK2r2rGTTtLT+9qOhesIFeoJhaiHYZljFZZLCommfzcpZpEN9SiPNr/PJ5Tj3NEclmTnp4eyp0rKM5bQ6HcE5K2AlZE2iw7NmRnG+PIZrPkcjkajcZvtJ9iscj69evZtGkTf/u3f8vb3/52brrpprhy6cXQ39/P2NgY+Xye+fPnv+i2u3bt4umnn8ayrLjioqenh2XLlnHgwAH+6q/+ine/+91cfvnl52Ry5CuB48ePMzo6SkdHx5k+lVcMpp2lVJtPrWsx+VKnIiB2HsvOKQ8/dqyMhKOjbJ1KRDdbTkM0x8nciJEpc3Tvo0yPH8UPAnSzQK66gGyhppLP435GAaZpg6bhNUZZOK/E2vNXMK+ni3w+h23bWJYVtyVIEmspJbIgKZdL9HTXWLFsPocHh9m5p5+BI8NhNaCgUOpk/pL1lGvzMe0sphkqG6bZZsujfUbVKRoSIbJYto/IepRrC2jOX8ELu4dAuHSUi1SrJWWXjQx2sZdF3edTqC0kkysrZcOwY8fUtLOz/xFSvCoxxyEVk0y2pC7CZibsIWElLsRmK3kybLglpURqOjKRgCSEwAx8AjuHnS1R6lqK4zSY2v0orutg52qUar0sWdTF6hW9dHRUyeVaCy1abBHhSM5rUYdQXqiu6ycRkmV9vRRzWTY/u5P+weFEC3JJtlChZ9H5VDoXkckWYyJlmJnYyBiGFRuaqFuplliYdlblg3QuWInr1jlycAsy8KiWC3R0dlHsXkOxcyW5Yk2RDTuPZWVCdcNGNy0M3Qi7op5djEPTNKrV6m9MOEB1qB0fH+fZZ5/lG9/4Bvfddx9vectbeNOb3hSrEDMRBAF33303AOvXr6e7u/ukbe6++25+/OMfMzY2xtGjRzEMg9tuu41Vq1YBYJomf/zHf8zf//3f88ILL/D5z3+e733ve9xyyy1ceeWV51y+wiuBvXv3cumll54zKkeuUINshlyxI1Qec6GKayk7YJpxyEGLkislcdhAm7F2I5W30r0cKSTO7kcRzQb58jwyuQp2RhEZwgo4DQgsj1Ixx7KFy+hb2EOpVCKTybSRjaS6m4SqGjSxLAvbtinkc8zrrvL89r1s23EAPVOjq/c88sUqhhXZNgNdMzAMM7RzihBIGTYyj8lQeEzDRDcsLDtHpWMh5eoCdH+EaqVIJpPFzNXI1c6n0LmEbL6qckOsrArLmFb83aXr6ezCnBIOxUjVDzS6AOuaEZOMqH14MqSiFqBEAJqUaOGP2TeM+MdnWllKtcVU561mYuQIuWKNRb0drFw6j3K5GKsakVoRLbSZ4ZSZCsdsA5SklHR11bh0w3l4Tp0DLwyg6waFche1ecspVuaFnkymRTTCUErE/A3DDDvwibg1rxAWuqHinKaVJZMt0jlvBc2pE+j+CUqlCvnaKvK1ZaHHlMNsI2zhMXQDTTfjNuxnG4rFIpZlxR1nXy4qlQp/8Rd/wc9//nO+973v0d/fz9e//vW4UmRmKAVUFctjjz1GqVTi9ttvn3W/IyMjjIyM0Gg0EEJwySWX8La3va3tt9PX18fHP/5xNm3axL333svAwACf//zn2bVrF+9///vTKpUZGBoaOqfaneeKNaRrYtoqfBInnOuRqtEiG8lp1NGMJnSV7i2lwDAFpsiqEEbgUexYyLyll3LiyF4My245NYa6jxSOim2xbH6Grs5yrOwmHa7Z1N1kx+eoEitpH19z0fnUOqrsP+KjZ4ph2FYLexdZLWU1gTiMmJhJpZQOLfwO1DWhVFvAxNAYum5gFRaQ715LvhyFogrKppqtUFTLOU0Jx9mEOb0qaZoWevjt7cOjH6BKxjz5PUm2H/3AjTD5Uj02MSybStcSrEyejkqWFX1dlEqFtlyNJMGYudCiW/R88vWInMThlUyGjo4qF2+4gJ7uKvlSB8XKPAqlTiw7E8qLZmxkdMNIqDlm3FhM14y40ZjyDCK1xUA3TSw7R61nOehZrNJistU+rEyUq2GhJciMHhmPxO1sRDTU7ZVAJpPh+uuv53Of+xwf/vCHyefz7NixI1Yxkti1axdf+MIX4uqSvr6+Wff5h3/4h3z1q1/l4x//OB0dHTz++OP8/Oc/P2m7UqnE2972Nj73uc9x6623ous6P/7xj3n66adfkc92LsH3ffbt23emT+MVQ5s3boTjGyKbo0fqRXIibDSNOnpOb92ifDUzyunIUaz0UO7oDavQlA3UDUVidd2gkoNlC2w6O0rkcrk2VXc2WzjzcXSLVA7LsshkMhQKBZb1LWDt8ho5W8bVK7H9JlHSL6OR9iGJSk4PJqx6CQmWpunkijWEUcA3u8l1ryNX6sHORTl+kZNqtjmrmh7lw6U4WzDHV6VwceihkpF4RRL9GGXbj7Q13lqNcY86fcrwpiXuTStDZ1c3fb018vncSaGTU5GMmepG9Dj5fPQ42pdlWXR21thw4fnkCwWyhXJb7kRS8tMTPTxaHUsjr0aLP5OGek5Gx9N1TDtPprwYu9iLGaoaehiW0RJqUNypNBowd5r+gnOBUqkUt4N+JWAYBjfeeCPvete7ANi5c2db8uYLL7zAZz7zGer1Ou95z3u48sorX3R/mqaxbt063v3udyOl5N///d9P2Zo9n89z2223cdVVV8UNwVKcjKi651yAEeYvRHOZkuHNNpsniW3bbIjIh67rykHRVf6XaWXIFWuoBmJ+2wU9a7rMrwrKxVzsbJ3K4Uo6XjNtY/L1yN7Ztk02m6W7I0dv1UOXYXdQzyEIwt4ZccNCoYZSBj4yUFOvpQwg0UVZhtOwReBjGDa17qXUFqwlm6uECm4mVoP0kHgl7V1s81KcNTgDbrAO6NGAYqCdFctEJrSQosWipYwXaPScFo81keE8IMG8ziLVSrktIepUxCIJmWDgMzHzvRHxsCyLBfO7Wbyghh6FXkhUQkQsP0x8JSRUsXQaHUskPmdUbqsYGBpQKM+L69tPXnSt9uutluty1s9xtiBqd/5Ko6dHZbQHQWv+wpEjR/jrv/5rjh8/zjve8Q5+93d/9yV7TVdffTUdHR0cPnyY559//pTb6boedxhNHjtFC67rcvDgwTN9Gq8ItGRuxgzqL+P12VrzyXBt0sEK36EcKk0L13pIAkwbK5PDqU+oRlm+iyZdajmHUjETh01ORTBezOmaTfGNbF6k8HZVbcrmKL47je828b1m2PgwGk3vxT02grArqZq/EpbURt2Zw9ckgkrXInLFGkaY76KHCkYcckp8nxpnP9fYcME8XndJn3LAzyBsy+CqjYs4b+npT9ye22ByWGUiE3KaEAG6piE1EICuheRC19Bka46JIh+tlt9EazLuyuljyDqlnIZlmSctsNnQvsBP/dps20UL0LZtFvaUmDhYj1uSi8SQI92wEEKg6yL8rLqSFDUtJlcRsWrrMBr4+GFdupkpxL012slGSNsSc12kVCV26ts8e1GpVBgdHX1ZjcAee+wx7rnnHm699VZWr15NNptlcHCQ73znO4BKCNU0jdHRUT75yU8yODjIddddxw033MDY2BgQJvDadtyldDZYlsV1113H3XffzUMPPcT69eu566676O/v5+abb2bx4sWYpsnu3bvZtGkThmGwZs2al/eF/BbgwIEDrFy58hVVt84ElKIZORDh+oycKV05U+hAZMY0DS1hgtocr0jpVa8Q57lpOlYmz8TIIJ5TxzAMCmaDcjF/EtmYSSZeDMnS7dkISKSUZDI2PVWdySPDuIYqUY22CTRNTavWWv2KVINEP5wH5RJ4zZgo+Z4DUmJninGeW0uxnTnsLfomaHGyOUQua/LW16/CspSvLoRkeKTO1t3DDJ2Y/rX29cYrlrJ4QZknnhvAcc+cI1IuZnj3zWt4bvcwuw+e3plWcz+8TQg1VlgIpB4gRIu9ahKkLtTFVCR+aOF1Nb6gy4Bo5kjc199rktGmsO1c2yjo9sPPTiJE2N0zShRNqh3R66ciJ7quUyjkKGYnmHIbBNkCge8Q+GFpWOCh64aaAEu0gFRZrGrspYhJS2YMQs9ATVD0A4+MadLKbolCMC0lQ0iBJkSYCa6BONmzOttgmubLbnduWRa7du3ik5/8JNVqFdu2mZiYoNFocN5553HLLbcA8PjjjzMwMACohNFnnnmmbT8LFy7kf/yP//Gi/TiuvPJK7r33Xp599llGR0cxTZPHH3+cp556ikqlgq7rjI6OEgQB1157LRs3bvy1P89vCxqNBv39/SxfvvxMn8pvBJlUMJN2RqowA1EPYF1dsJIJ3upCKkPnSsROWTQVVbZk3TDXy6IxPUY+a1LOmVizKLtt53YK5TP5/Is5WkCsfGSzGcqZEYYboyqnLCRCUspEUixxiEWEhCMiGYGn5k65znSYFGrR6h+U+P6EjMkaoXOmyUhFfrl/pZeHno4Cb7pmOa4X4LgBuq6Ry5r87ht8vnLXFn6589jcntBZhrkfTy/88GagBe3stZWTkGC2IbvXiH64Aa1+/iHZ8F18Z4KC6aHrhZOOOfPfSSIBJ+dqtJ+viO9PRTwMw6BaNBk/Po3wK+HwIRdhmASJbHTQwAepBfEgIpmUHBP9PHzPoVkfj/K5EVKGX4IEEZ6DaCkiMvBV0x8Jmt4KzZzNxKNarTIxMfErw0Pd3d1s3LiR8847D4CNGzfysY99jEceeYT+/n48z2PRokW85jWv4frrr48rVJYsWcIVV1wx6z6llG1dRlesWMHx48fjsEyExYsXc+ONN3Lo0CEajQZvfetb6ejo4Mknn2R4eBiApUuX8trXvpbLL7/8JTUT+23G/v376evrO6sreSKlUsSh4gAhlF0T8XqUqupO00FrjTOIwq4R0RCBH9q6MAQjJRApH2CaGaZGj5DrKZCxq6fsK9R+bqcmE8ltZtq75PYR6SgXTIbHj+HZJXTNwNPAtCQyCivRUmyirsmB56i26CHZEL6HkauEDdDC705EM6rU5xHSQIuV4tBu63Ewfc4QfaMPP3mIf/3BdrIZk6s2LuLdN6/hljecx459J3C9NGx6KszxqpZqAek+Iuo4JyXSCEMruo4monABxM2xZOg1CKVsBHF8UCkBvufgN0ewqq2a8uSimUkWIkVD1/U20pG8j/aRJByn2idANmNCMInvuxiBje87YXJnq8TXkBJptDKrY4UjmjLrRyOaHVxnGrc5TTZfDrcNlEIkgxbZkgFa4CdMGOhSosmzrwfHbIgy439V99GVK1dyxx13xN+rruts3LiRjRs34vsqqW62C9iaNWu44IILZt3nTEN8ww038MY3vvEkI67rOu973/tidQzg2muv5ZprronzNWbr8ZJidkTtzhctWnSmT+VlQwZBmCjpI4SJJvzYgQqHqxOIhHPFySX5RIQjnhydnCAtQ0U0TFSWLjlbxj0pZiMTs6m6Scw8/kw7dypny7JM8uY4E/URDMOMyZIR2r748yBjR8rz1GRYz23g1CfU8XUdZKtVgLpOGAjdVPZa+KofU6CKBAQSPQxVnUk0HZ/Htgxw41XL6ajkyGbMmHAsml/iqtcsplbJcHy0wS93HmPvoRFOZQKyGZP15/WwelkHxbzNyESTLduPsvsF9Z5L1i1g+aIqjzzdz5FhZRP7FpR57YaFPPX8UfYdGqVczHD1xkX0LSgzVXfZ88IoTz9/FD9ofU/VcpY3XLGEno4CI+MNtuwcOu3fU4Q5DqmgLrC6RxCyWVXOpZi+FK2ysfYFQNihLiIcfhgHVJMF3eYU+FMYRil+T3KhJOvJ205HypM8gdkIBxC3TY/2FwRB2yLUdR0TTw0dsrNKrTBdND8iHK08i+TFR4jWDIHAbYZzU1ya0+NqEqJG7NlEHo8UyqAJ3YtDLXHyrBCt0rtz4NpWq9WYnp7+lRfqU8Wmk0TjN73Yn+oYsz2vaVp87JRkvHRIKdmzZ89ZTTiEUIql7psEkc2RgBESCT1QIQfRIhytSrXwgo+Mw61Ry+9ICRXCi48hpQj7bFgviTRETpaqcGldhGZ778z3J21e0tnKZTROjIzgZUpxSEgY6jOGKa+h3XbDIZR1PKeB25zCaUyRLVbUe4LW59J0AxnOghHCh0BHwydOGpUG6K0+RmcSpbxNNmMwVXdjsrHhgnl84Nb1mLrO4LFJ1qzo4g1XLOVr39/KY1sGZt3P773pfF53SR9jE00m6y4bzu/h+sv6+OxXn2TXgROYhs7vXLWMxQvKfPb/bMYydd77tnUs7Cny2JYBOqs5PvK+S1nQXaT/6ATLFlW57vIl/HTzIf7l3ucRQlKrZPmz/+syentKTNXdOGE0m5kbKjC3IRUEge+AaquHZrZyP/UwSaiVu9FqRANRhYoqpYoH/QTq5jQmMPBj8pBcLNEiCYJgVjJxqrLYaDFFCysiGb7vx7fo30GgiJCp+zS9JoGXR9dNfM9pJXdKqRi8EZ2H3lJrfEUy/JD5+26DRn2MmcljIgizv30vEaZJyIpSoukCXejIc0DhgFa783q9fqZPJcUcYWRkhOHh4Vk7vZ4NUCEBdeHEa7kEQgoMXXUWlnoQJ0Ymew217JeIHYyokiMe4e57iPAmhU+llMM0zTZH5lSEI1klFXU7jo47M39ttvdGs6o8z4sdMNPQEN44rlMHTdk1PfBjxSPK8PTDSdqeU8dzGzSmRhS50LRWeDwkarpuEgQ+mu4RhJ8rCImZRKJLodSOM0Tm+xaUuf6KpVRLGS5f30sua3HXD3fRdHxsy+DdN6/B8wT/8ys/Z3ikTq2c5aMfupK3Xb+KZ3cM0XROLqOP1Igd+08ghOTC87r5z39wKVduWMiuAyfY/Nwgl63v5aLze3jthl6KeZuVfTX+7aHd9B+d5P23XMi8rgJf+vazPLXtCJap80e/9xquuWQxv3j2MPv6x7j+8iX0zitx38P7+LeHdlEpZfjw7RtZ0ffK9D76VZjzHI7AVx0ko0WmG2FMUlOJlK1QSpSDIBML0I89/agEy3ebeM4UJokmM7QvGN/324hFpEhE5xGFV5L/jth/krjMRjaix0EQoOPjOdNYmYJqxBV33tOUjKZpcSwXTUsQiNCghOPtXUd5AESqjhDIKPQS+OihIQMwtbggVi10KZT0eI441Zqm2p2nhOO3B1JK9u7dS1dX16+sqng1QoggdHDU6HQJmFIqWyclWiKnQ0MHvdWDJ1Y4ZJSvFuZ3eS1Ft+VsKQJiGe2VeEmbZRjGSUQDWqRkZiVK0tGa6WwlbV6SdABIv47bVBNqpRTomocIOypH7QEC3w1LaB18r0GzMRFW6yUIlu8RxA0Rk5Uq4XelqbCxFFGC6plROFYsrtHXWyFrq7YEd/9wF488dQhQZKSzluOnmw/h+YJqOYsEdh44wSVrF9BZyTFwbPKkfUbKh2noZLMmx07UaTR9KuUMAEJK7npwByv7qtx24wVYls7hoUke/Pl+bEtn7aouho5Ps79/jGpZ5an9ctcxLl47n77eCvv6x1i7qhvH8bn/kX0EQjIy3uSr/7aVj37oxXsPvVI4A0mjHgTJpFARhwH0sOQr3Lj9fTIIGX2LfAS+ujj7noM0Zo83zqZuzFYum4z/R8w/KR+easElF14QeHheQ+VxGBa64RI179E0jQBaiygkXyqBNkAEAX7g4vsOTnMKETJ/GWV3Cx8jzH8JfFdJlVqSoIEeLloNs46iAAAgAElEQVQtrFY5RzgHhUIBy7JwXfdMn8qrDkIINm/eTKPRwDAMent76evri+P5x48f5/nnn4/XQ1TqOzIyclKMf8mSJafssDrXOHLkyFnb7lyEyd9abM80fCSGFLGyoelG/LoW2sN20hBVsCVJRqhweMnE8jG0avWkHI2Ztm8mIYmIyGwK70x1ZKbtc103vnmeCvno0qVZH8MwLITlJ6pUwgkxUeg4ylFrTuM5DUw7SzScMsrHkxCTjGg2jAaq3BaJDNuaMyMsNJd4/JeD/ODhvaxZ2cXtN13AdZf3semJF6g3PbpqeXRN43WXLObKDQvj95imurZFJbUzUchZ/M5Vy1i3qpti3sa2DHJZK+7xBDB4bIqfbj7EW16/EiEk//bQbhw3oFSwqZay1MrwPz/yunj7qMdHLmOiAZ2VHKMTTeqN1uiIphsgxNxcLeY4h0Pgex5RkWeAyunQDSMcXdwa2oZsDxWIMIwS5XFIGeB5TdzmtPICaOVVzFwks6kbs5XORq8lVQ7TCzAaLkIH19RmXXiO4+C6rpIYAx/hOwRxwmgUo40WjxY3KRPhmGciAuU5eE4Drzmt5MSECqKUkGictboFfkhKJOghaYsaA0l57lRDaJpqdz40NHfJTWcLRkdHueOOO1i4cCG2bTM4OEitVuOjH/0oK1eu5OGHH+aLX/xiPM22WCzS09PDvn37aDQa7N27lzVr1mAYBjfccMOrhnAEQcCePXu4+OKLz/Sp/Nrww6R2pWC0UrplEKDrfjzOoK2fTqRuEG9OIDwCrxVKUcqAE/fnadbH8d1p0KqzhkCShOOkibCJ/LUk4ZgZSj4V4YgcLcdxcBx1bs1gHNPOYQQZdN0gA5x/YoI1o9NoQvBcJcvWSgbXd2nWJ/A9B8O0YsVG81ohnsghjdwmVZUXoIWtzTVdD3NDzkxFSMPxGDoxzdCJabqqOW563Qpef3kf9z28L07QfOzZAR5/rj1fw/ME/UcmTtqfrmv84W0bWLuyi8efG2THvhNowO+/ZW3bdpaps3xRNX7PBSs6eXbHUYT4/9l782DLrurM83fGO983T/lyVGYqR0lIaCgxWTZGxhgzOXC7qQLaQCmwiWqiAkeHiXbbjipXEIqwy11Buwy0jR1dxoYqMMaFDcJmEGAwSAIJZUrKVCrn917mm999dzjj3v3H3vucczNTE+RsLcVTZr58d8y71/nWt771LYmQkrn5Np/++yf6biMlnJxtZW7ernPlrg2Xl+EQgiQOzJ/UBdh2sIWDZcUZIjZTKkq3odoqeR8zyei3KOgQR13SNCVO4z7qL2tznDOTXtRuQH7Azj2ETirY9ORZXv7wDKNLPbo1n8f3jPCDl02SOPQhfPP7IAhJpem55oJRk0SEdh9ULKPM2A1TzRQZG5Emuu0SkyQxThJlScp2XHVfugUlhOqZmqpCZPsarheOQ9mdLy8v/8RL3a7W6LTbHD58mMmpKQYGBvB9/wVvwrQsi3//7/89+/btY2Fhgfvvv5/777+f//Jf/gug/EQ++tGP9n3WQe2P+cAHPsBHPvIR6vX6VSdunZmZYffu3dRqtef/4asoTGvUtqy8KhdC+fFohiMrropFSRZK96CKkDgDHjnoCIjCHkGvrVmQ/kLrQqCjOL3nOM55gOO81/AsgKOY70yxFQQ9oigkTtXkSZomNAS8+ekZ3jHbYlCox16z4dMTVT65qU4S97RINNVsjc5vwiZNNPNjdHzmLREptqvaTMYEUYgrP4L6rUdO8dN3beHuW6b52j+fYHGlixCSUsnhqWeWXlAWLvkOe3eM8vSJFf7sr3+EEJJmvdQ3XQLwils3snv7CF//3gm2bx7ip+7YzD8/OsupMy1W1gIqJZeTcy063QvnyaXVgI2TDUaHqiyuqDb15qkmvnd5luBd9pZKEoVZj9JxFLshtGVvptQ+B3Rk47SZKZYSGEVBmySOEGlKJPL2RtFp79wDde6Iojl4fT1NIdn8/Wf4uW8cZzzRF++1LptmV3HnV/nqqzcTiKQANAKCIKAXhAhPZO2P1E6wrEi1RZJYLxwyyFzm9u16zj6JAqKgrZXoapwzjgMc1ydxlQrdtvLFbI7UPWE7Bxu2BiXXi2jUhOM4DAwMsLi4eKWfyiWJaq3Gww89xIHHH6derzM6NsbExATTGzcyOTXFxo0bL7jhthiWZTE2NsYHPvABfvVXf5WjR49epmd/aSIMQ44fP86+ffue/4evokhiZfVdZB9tfUaVrstBmLykcx2Q1Qj9RVZuE64Elz2SqEfYW1dunWm/jsywEMYR1BRXStgus3axYT0uxG6Y35+r3yiyuQpoBPorJIpChJUojZ5IueXYLG86vcow1ew+hwT867k1fmR1+cqgra3OVXvIiEUts22joC0xY8JSChwhlPBes0TyKgAc80tdDh1b5uZd49y4ZZiDRxY4MbvGbXsn+YV7dvDDJ88ihGTbxkGmxmp87iuHzruPNJXEsWBsuMqWDQNIKfmFn9pBo+ZnPzMyWOEtP3sjK2sBn/3KU2zfNMQH33UHv/KGPfzBn3+f7/1oll+4ZwfvevNNfPmbR+kEMePDVW7ZNc4XHzzC2nrIIwfn2LZxgHe+aT9/9+ARpsbq/PLr92TtnksdlxlwCJIkJNuV4rhY2aIjp+8AKssqdQKzzYMGcCQxSRyoQ5eECCmU81sYnnfgztVqXAhw5M9P/d5dbbPju08zkDioyXkVDnDrE2f43qTH4nSDWB+8Xq9Ht9ul1wvwPakqHCfCsmwSwLZTrNTue43544tsgVEUdomjQI276Z5nEpdIvDJOEme9X4PEDGhRjIemZ8nfv+stjN359biPxLIs3vLWt3Li+HHW19dpt9scP3YMUJ/Z9/7bf8ueF2iLvmXLFjzPY3Z2FoD5+Xk+8pGPADA6Osp73/veH/t5Sik5eOAAo6OjjBeM0S5VHDlyhF27dl1TRmBq9DNQ9LUQeku0ZidThz4NB8WR1P680DelkoQ6Pyh/HqXzUntJinnPgA6T/wygMN8rMrznCuUvBDiM6N60T3q9Xt9XEAT615DUVQyMJyQ7Fpdwycdi9b3iIrh1cYV/8EuINCaOAjxfaTtsLTA1nkPmOXh68ZsQCanekO04Llg24jLnAvMOFclAISXffPgkt+we546bp/jR4Xn+/G8e511vvok3v/ZG3vTTO7PbHXh64Zz7Uv+P45S/e/AIv/gzO/nwfXcDMLfQZnGlqwEivPlndlKv+vzJ/3iUXpDwxDOLfO+xGe5+2Ubuftk0X/7WUUaHKty2d5Lb9kwgJNiWxcJKl7//ptrG/I2HTrJ98xAv2z3Ovh2jpELy7UdOceveicvCcJ53ildWVvjEJz7BO9/5TjZs2PCcNz5+/Dif/exnue+++16QuEtNqYS56FMjfkdvP7Ud0yYwYiuD9I3/RG76FQcdkqinjLLShCRK6fV6VKvVbEusod+L/U0DQsz3za99ZjZnV/A7PWKqlPrcOrVb3ok5VmspFqq1YgBHtxfi1lM1Dqsfw5Yi2xwpbSf/kGnmxnhxiDQmDjtKp6KpxiQOSaKQ1I+0CM14elh5QjIr7y0nW+xmBFfXG+owdudm38n1FmPj47zu3nv56899ru/7L3aZXRzHCKH8GdbX1/E8jx07diClZHBw8Cd6jgcPHOB/fuELVGs1/td3vIPRSzy6aliOHTt2XNLHuZihCoVAC+JT0kS1x/qKq4Ih4LmeQyrPpAXAEZMkkRonDXsEvXW9oVW1Inq9biZcP7fgutD0iSm6DHC/UEvl3Ok8w+TmxVUOOIIgoNPt4tUSkqhHmqQQR6zhUSOiihIshqTMEbIad1hbWiB0LCr1EZIkhFDlNCdN8XQ+doSyMkcqfYJwBLaTaCbX1SsjLryl+VLF3EKbj3ziuyyt9k/N/ejwAh/5xHdZ74QAnJpr8Qef/B6TYzXGhqukqWR+ucPZxXzfyl9+8aA2ChNI4EvfOsqPDs0zOVYnjJJs2kQIZQvxwD8d4xvfP8kJrQERQvJXf/cE33r4FIurPbpBzJ9+9jG+OHqE8ZEanmuzshYwt9Cmo0Wi3V7Mxz/zQ7ZvHqJZ85lf7nJido1vPnyK3gVGdS92nAc4/vZv/5aHHnqIX//1X3/eGw8PD/P1r3+dLVu28Pa3v/15f17KlDjs6taCoyc5PFJbtRtsx836dtlttNgqFbk2Ik1ioqBNHKmeYRIFhGFMu9PJJhqK/e8i4DBbZM0hLOo6DPCwg4AOKSvE2ICn/QG7pMwSsrwec2YuxfNUm6PX67HWahEnaoTVgAMpBLabqNepD4hhN4TI9wIYlXYc9bQqvdjbVEIx1/WzqRTLMip2RUnajoej31MziltEz9dTDA0Nsba2dtXpDS5WVKrV875XKpVoDgy84Pv4wQ9+gG3bbNq0iTNnzjA0NMTb3/728zQcLzZmZ2b4n1/4QtZK/Nz/+B/8m3e/m+oFnvPFjGeeeYatW7deMyxHogGHYWRtO9Qsh5+fU7uf5YBiK0WJyYt7lcxkR9BrEQZt4jggSULiKKTd7hCGIaVSqW8VfdF51HXdrKVS1LCdG+dOuKRp2sduBEFAt9stMBv6116IW0mI4xAnSlglYQaJAHwiYiRrpJwg5CGrRy8JSWKBX26QJmrfVBKrEVnQe7NczWykeoeWk+C4+ftna2OwyxlRnPL0ifMXnKWpOO/7QZRwfGaN4zMX3gdl3EJNSCk5fXad02fzkdlOYZpk5uz5o7SdXsyhwsK1VEhm59vMzj+7O3MUpzz5TH9r+sTsi99Z9eNE3wnu9Xp87Wtf41WvehWNRuPZbpNFo9HgVa96FQ888ABvfetbnzchSCGIwg627eG4nvoAOYmiGxO7sCXQVlBfDaXrC3Kq59HVBTgMOpk9bhz1iOOI9fWIWrWdMRznmoBdiOUwUXTRSwYqHCtBM4wIkfhYhEiWiXnUCjjk+ay3lWDLcRySJKG1tg5OXanTk5yF6Os5WnYGOlQ7RBnnZPtgjAI9jhCJAldx1MUNfcX+WJYWTykgY3QbrusjUlcvi3PBtvs5v+sozFjn+vr5h+9aj6eefJLP6Y22xShXKs8rnFxdXWV2dpZDhw7xR3/0R7zuda9j48aNPPTQQxft+U1MTrL/ppv44Q9+gJSS+fl5HvjSl3jzW996SXfErK2tMTc3x6ZNmy7ZY1zMUN5AXVLbVUDD9RAixnZiUluZWvUJ5G19rosGfyJnNsw4aRT2CLotXWz1NMuR0AtCer2AcrmcAY5zW8lGLPpcS92Kuo1iKyVJkgxYGIZDCMHw8DDNZpM4jvFLR1kPbKaDgP/l5BokCY8TsUSCh0UbwYydcqReYXbrbewbn6bWHKNcHcD1SoAkCrqEvXV67WXCoK3b71Lr2VIct4SUitEVlo2lQdlLce1EH0I4evQoc3Nz3HfffX0/JIRgaWkJ3/dpNpt9vcc777yTBx98kGPHjrFz587nfDAhBXEU4DgKuVqpQ2KFCvU7ueCxX2NRXNce6/XGMSKNkFJg2y6up2a5w7jL+noH3/f7bKUNwi+a4ZjDV2Q3DKKXJYeDu8exHp9hWsRUsOkhOGElfK2ectqxiLtRn7FYtxdQHxxWAq9Cz1KkaV7RaGGsEUYZZkPKBJEEyCTEI8L2ElzAli5xEhCHPSxbsT+q6vGwYxfHU8yJ0XFYiWI4bMtGyOuR31AxODhIu92+rliOtdVV/upTnyIIgvP+bmR4+Fkv6J7nYds2v/3bv43neYyPj/PGN76Rt7/97dnF5dlue+5F6fnCcRx+7ud/nlarxZGnnwbgiYMH2b1nzwvWl/y4cfjwYTZu3Piinu+VijgOiMIujuMihI+dJqSOi+3Emf4gZzcKok3juZPGWgzu4HllypVmJijttpdYOnMUIVJC1tVt7RLtdodKpdzH4BbzaHFa5UKjsM9mcGi+DLPR7XaxLIu9e/eyY8cO6vU6aZqye88eTp6cZevpVTY9s8z3rZSDNZuRMMSxHDoj4/S278fevp8bxjbjlaqa+XUKmjaRMb3d1iKriydZW55V3hxZwZioFfb6WnGlfDheih8v+gDH448/juM47N69O/ve5z//eT71qU+xsrKClJKtW7fy27/922zduhWAnTt3Yts2Tz755PMCDltX40kak4ZxVqGnBdGopcc9M7Gonk6xLRu/XKc5NEWp0sC2HbXgLOwq5iMKFNXYW2G908G2VQV8LnJ3HKfv4MH59uVpmrK2ZYizacjU3BqNlS6hSOnu2ULjth1Mn1llaU1RnFHYpbsyD5ZKIkkSo6bH870mtu1mycVsibWkwHclw3Wf4YEa5dIAQqQEQS/rwcdxTLfbZXWtSzfqEgZK7+G4ippVc+mOaquYKRXHwbKc6+pifG5UKpXryu48SRL++2c+k2lTLMvi9W94A489+iizMzOMnbOhthjNZpMvfvGLff/exZ79W97yFt74xjde8LY7duzgi1/8Ip7nveDn6vs+b3nb2/j4H/8x63qT79f+8R/ZvGXLJW2tLC8vc/bsWSYnJy/ZY1ysMBoOITydayLlPKwZj6RYgKBbKVL18V23RLU+TKU2RLnaxPXL2LYpntQFd2BkM6sLJ+iuL7G+eoYo6tJqB1Qq7T6Lc3PfRrdh2/YF2Y8i0LiQwaHRb3S7XaIo4sYbb2Tz5s3U6/WsVVOtVBgcqHE87HJwW4mVSo10bJT5uEJ9dCfNDTdSa47g+VUct4TjulnOolCgSZHil2tUqgM0R6bpri+xOHeElYXj2gLBxUljHEexvi8xHNdWnMdw1Go1hoeHAfVhPXr0KL/yK7/C7bffztzcHPfffz+f/vSn+c3f/E0AxsfHqVQqL2gEr94c4+ZX/jLttQVWFo6zunCSKOhkkylZJWZaB1LNrFfqQwwMT1MfGMMvN3A8H9dVdq9R2KHTWiTorZNEPeJwnKCzzHowj6RNowA2XNc9z3mvCEiKxjZhlFDZMklw180sfv8A9lILe+cUe2/az859NodPS9ppA8t26LSWWF08RWt5htbyHEkcYutNjwpIRfnoG1ByJSODZcZGmgwONCmXy1kbSEpod7q01gNi4TCAz2giaXcC1ts99fzCjkb7PeX1URiHNYnMLFG6HsMYgV0vgONHjz7KEwcPZn++/c47+dnXvY4tW7fyiT/+Y0ZGR5/z9sWdGOcCTdu2nxVQWJaF7/svGpxWq1Ved++9/M1f/zVCCFZWVnjshz/k7le+8kXdz4sJIQRHjhxhYmLiqmc5dt7ys9Rnz9JamaXTWiQM1klTxTQliYNtmUkVKzM4LJXrNAYnaAxOUK4N4pWquK6PbRsDwRw8+KU6jutTqjap1Adpry2wvjrLWquN76sxyiJjEcdxxnyc67JcbJ8osCFysJHEJOfoN3zfZ0DriZTLaK7xOHPmDEeOHIHhErWBSbzmdsZGb6DaGMUv1XC9Mq5XwnG9PGdpmwAykKxAR6r1fY7jUSo3qDVGOHvqCYJeS7WgnQjHdpVf0UtxzUQf4FhdXWVwcLCvZfKhD30o+/utW7eyd+9e5ubmMragXC5TKpVe0OSA4/oMjm6mObyBselddFoLnDlxgDMnHycK29kHz0xwlKsDDE9sozk8TbnaxCtVcL2yRrcKIVdqg9QHxumuL7K+Ok/YW8crVQk6ddrtOZK1Do1agud5Gf18IcBhDk4viJHuAKX6FKMjgoGRJsHLbmS91WJq4xSVSgUhBFNDXc5Gg1hek/rAJGPTuwiDDq2lU8wdf4zFuaMkSU9PjdhYKGnFcNNncmyQoaEBarUa5XJZmzy5JNKnJxqk9QZerYrvlLHdErbtMmEpQZVIY8JgnW57heWzx2gtnabXXcv+vfr9S67fUBsyS4RheKWfyk8UQa/Hl770pYwaHhkZ4S1veQuO47Br1y7uuPPOq3KJ2d69e/nhD37AMV1oPPzww9x+552XVNg5OztLq9XKLnhXa2zYegvlwZ5aU9BtsbJ4krOnnqC1dJo06mWTZpYFnl+lMbSB4fEtVOpD6sLslzUL4OFkeg89sycEnldmbHonIHFdP/vZzuoMq2utPubWFFpFbQeQ5bwkSUmEhbTKSKcBdhnp+VglFxuwwg7YK4hojiDq4nkKpBiwr0BUwsrKCu12myAMqTQ3Uh59GfXhacrVATy/iuuXcd0Stpmqs93MU+g8W3U9jScKE3dD49tw/Qpzxx+lvTqPZdnEtkWavrTu4FqKvuwQBMF51dDp06f57Gc/yxNPPMHa2hqrq6vs3LmzryryfZ84jrOpj2cLy7bxShXVFnB8PK9MtT7C0PgWThz6LktzRxDaRW5gZJqRyR3UBsYoV5r45SqeV8Z2fT3dktt8u14Jv1SjXB1ibek03c6Kpi99uq2zhKtL1Mshvu/1jYpBvqQojmNiWaI0sIvGyDYqbkDJmwNganoD05s2MjQ0lN3Gll3SYAGvNIjnevo1efilCo2hKUamnuHk4X+mtXwGC4nnWYwNNZgYH6LZbFCpVJSq3POJRZmVeIAABWA8v0rJ9dXhLIzQScCSkkp9mObwNGNTO+l1VlmYeYqZY4/SbSu1soWaDb9+VRz5Urdr3e784YcfZl6/Btu2eeOb3kStXgfUa3zDG994VVb0tuPwyle/muPHjiGlZL3V4vChQ+y9hCZdQggOHz7MHXfcccke42KE51fwyzauLOOXa1QbI4xMbGfpzBFOHv4erZU5pEip1IYYGt/KwIi6MPvlGp6viirXLWWTexRHW6VE2C7V+gjD41tZmT/e51baWT2FtdYqAIrkgmAjSSWJVcMpT+E3pyjVRvDLDVyvpACObgsLkart1e1lFmaeYv3MY7RaLcrlMmEYYlkWcRyztLREp9PFr08zvOku6oMT+OW6KhBdH8dWXiTOOWPBtm3AlzJJsyyJlBZCK91c18PYI9QHxtmw9WWcfPp7rC/PIUG3sF+KayX6AEe1WmVubi77c5qm/NZv/RZCCN75zncyNTXFJz/5yb4lWlJKgkAppJ8vMVqWrdgJO802AmLZjExup1wd4Kj/IHPHHqU5NMnQ2FbKtSaeX8b1S0ooZMZLnaLwKm9VVBsjirJbPEXHtrMPdWfNZrm9QMVZp1TyOFe/EccJ0h2iMbmfxtBGSpUGVjCrBZ0Sz/Myl0fjstfrdgm7q7gNge2VsAxNqr/GpndTKjc4/tQ/sXb2EKNDDYaHmlQqefsEy2G1V6Ejx7BLg3i+SjiO6ytBqBZVFYW06j3XZmGuj+OVKFWbDIxu4vSRh5k78SPiOPwXIaZqNpssLi5es0ZgQgi+/c1vZuB9y9at3HTzzX0/Y/w3rkZNzqZNm5iYnOTM3BxSSp568kn27N17SQHS6dOn2b9/P5VK5ZI9xk8a6vxKbCEQOl/Zjovn30StOcbJw//MysIJhse3Uq0PqZzlmRznZjlOFRx2tgBODe0JHJ2/agMThMG6WmypW7hpGrO+NoOUa9RrtUxAb8CGEBLhNCkP7qA2tJlyfRi/XMfzymqixnYzAGM8gtKSyku27ZFEbeYXF7Asi2q1imVZhGHI0tIS3chlaMMtVBrDaqeKW8pzmKOXuWX7svIvo+HIPza6ILQdLONj5Hq4okSlPsTkpn101hfptpYRLwGOayr6AMfY2BgHDx4kiiJ832d5eZkTJ07wgQ98gNe97nX0er1sHbGJtbU1er0eo8/TZzZhOw5SWhlqByWxrDVH2b7/p6k3xwh66/jlqkbGmsmwcutudSi0GruwN0RKiV+uMzyxDcf1aDGnTWMEXSxa62dwem3Kvp2JnZIkxalOMjR1KzWNyh2vhEzrBB3lN+C6LkEQEIZqTKvX67G4tEzsDGlRqIO0JJZtZZMoUgoaQ1PcsO81LNVL+HKRUsnPGJZUOiy3m8TOKKVKU9OOKuk4rpd5lJh5fUPBgqYdhcCy0+w9cUY2Ua4OUqkP8cyBb1Ap1+nfz3D9RRRF1zSwOnH8eOYGCvBT99yD53lXJbi4ULiuy569ezmji5STJ04QhuHzWrD/JFGtVjOdwtUatuMoUbctsYTaD6JWq1s0h6e4Yf89LJ89Sthdx3b9cxa5FR2XLczOkLxAAiktbBc8WaY5tEEJ55MEUYmpJSOkSUSrNUcSr1GtVjK/IGl5VIZ20JzYQ605TqnSwC9Vs5aMAkZOAQRIPfpvCh+HjTe+kvkTP+DkzHEa1RUcxyEIAlrrPcpjN1Ouj+B65Qxo2AVXVWPoeN4OFyv7nyZljd27zPbNmLzvuD61gTEmNu7l2JPfxnFfuOD5pbjy0Qc4du7cyQMPPMDMzAzbtm1jcHCQsbExPv/5z9Nut3nkkUd4+umn+1z/zpw5Q6/Xe94JFaCwN8DC6EOlVBd+V0rK1Sbjm/awunCSOAq1B4fAtAaMbXf+4dVjZWY/ABLblrheiYHhaSzLYsX49VcbpGlMZy2l213Fc5QbX6mxgeHJm6g0RimVqjierx7DH6Kz7OKurSGEyC4EYRjSarVYWAmpTQ/iOOoDb9k2lrSy12QU6eVKk4Gpm4hXnsCyuooGlA6r3QGEN0TJr+jqxstaRebg25n7qnnN5j1Tfc4MtFkAkhKS6Rtuwy9VWVs5UywZrstYXV29Zi7OF4pHH300+32z2WTf/v1X8Nn8eHHD9u08+PWvI4Sg2+2yuLjIxo0bL9nj7dy58wUvtbtSYYADSMx6cMtV4lCkpFIdYHh8K2tLs8RxT4/5x3qRY74hW/9G36dpOdhYCIRuR5QqTerNMeKwSxKX8EpVqrUh4rDH6voZgiCgUilTqgwyOH0Tw5O7qBhWw6/geD6O4xfs14usscBsunZ1e6XWHGNi6+3MnyozM/sj0mCJKAyoj+5iqDGJ65b6bAAysGRy9fnvFs9fGOXjw2oST2kBp7bcpD08rlzcsmucLdPna4oWlrt899GZC9ziX3b0AY59+/Zh2zYHDhxg27ZteJ7H79RNBPoAACAASURBVP3e7/G5z32OgwcPcvvtt/OGN7yB+fn5jKI7cOAAvu/3jdI+V+RizXwyRWimwnY8vFKN2sAYa4un1bSH4+HGPo7rI6SHrft56H5mvutH9RzNB9t2PBqDk9oiPMCNfPxSlbjcoBMFdFoLVOsDjI3tplwbxvfLmWbCth2wK9gDe1icf5hut0upVEZKlVTX2hF2YzfVgYnMwtwCZCbazNdOW7aN61eJytP0es/guIL1tA7lBmWvpN0H/cyJ1AANq9DntCy7cGCNNkNi2yol2FIiXYGrKdCRqR04Xvm65jfiOL6mzb+SJMm8LAD27tt31VfuF4rx8XF838/8Q86eOXPJAEe1WmXz5s2X5L4vbhSNtdR0ipAq10lHVel+uU61OcL68ixR1M0mMhzHQzgutrb0ln1rGKUWj+oLuGVh2w7VxgjttQXisIvrlnD9MuVqgyho02ovIiyfiR0vZ2hiB6XqgBLf63aHY3vYbqFFbZZLKpk7NikgkbajLu5SiflHN+zBcnxOHvoOYSQYH9qc6T8ysPGCCh4DrKzC79X3jfdj9q7qAsvWur2BkY263XRlwrYtXv/q7ezaNnze3x0+vvwS4LhA9AGOLVu2sGPHDr797W/zhje8AcdxuPHGG/nwhz98wRsLIfjWt77Frl27mJ6eft4Hs7L/ywyxG9RrNqHatotfqlOuDtBem8dxPBLX12YvChAI28GypCns9cVYqguzrS7ASBuhD2MUtInCLrbTxSuV8UpV0qTJ8Ib9VJvjeH45G9WyrNwzo9zchJA2Z089jIyXlRCLEpWh3Qxt2Ee50tSPmdE1hRdqxm01M+OU6aRNoo7EbdQp2y4qGWnvDNvJ6UZbU7AFZJ+3VPJ+pxA5NWl2qTiOh+dXqDVHr2uGY3V19Zpup6y3WizMz2d/3r1nzxV8Nj9+uK7LyMgIMzMquS4vLV2yx9qxY8c1YW9+7nmV0vw5dxt2HI9SqUZcG2R95Syx3c3aqcaJ1LYdbFQhY3KlzLbJ5uE4HpX6EL3OKmYjreuVtUB/iImtL6c5tk2JOP18yk/td9EFVsZG6PaHvm+BqumkLcGRSNfDcXwljh+cpDE4pdszzayFckHWorA7ytKGjsUrwvlgQ/b9mv1eKsBl2cqXyfevrJbHsmBtPeR3/59vsd7t1za+FOdH3+l1XZc3v/nN/MEf/AHz8/NMTU09541nZmY4ePAgv/M7v/OihWL5v0cB4RoE6zj4lTpWa5EwaON4JdwkxHZ97NTFtpNMK2FbNlbBBl1KNaEhCx/QSn2YRtAlCtrqsLs+jcEpGoNT+gB6hT5q/rziqIO0PKpjN5HEPa0+b1CqNClV6hnzoA6oBYhMX9G3CVZbFqdWGcvx8G0vryZsdVurkJCK70WhUDpv5bzZO5N/5b1Oz790ffQrHUmS0Gq1rvTT+IliaXk5YwV832fqeRYlXs3RHBjIAEf7ErFOpVKJbdu2XZL7viyRnWNzthUw8EtVXM+n122p9oYRi6fKEBHLQqYWSCtjcTOjMJNjpKRUqeP5ZcJgXT+MheOWGJ/eyMjUjqyocvrY0yKLWmhbFHK5Ymek+jlRKIhsB9ctUakPK/dPxznnGlDwhSmAB6kNHZEqXxpAlreLc4v3/Nf8S2VBxWTblo19lWg4hJQIcWGQ8YqXTRPGKUdPr3L3LdMMNEocn1njB0+cIYxywbtjW+zbOcbuG0aQEk7OrvHoU/OEkdJNNmo+r7h1I48fnmfLhgG2bxriyaOLPHLwDJWSy237Jtk40SBJJa220hsurQXML3a4Zfc4jz51tm/HyvBAmbtunubA0wucOnN58ul55cI999xDvV6nrkfznisajQb/6T/9J2677bYX9GD6Y0cfYtXfM983VYHjeJSrDVrLs/ilKolrjGBctdZemIt9ijDshgVIkY2FSpEqUOI4VBvD9DorhN0Wtm3TGJzAK1VzF9C+KRCIww5JFIAEv1yjVK7jlaqZy6nrlfQ8uVJd54dCrVfOwIaISeJAr5NOcctNpbh21T4Z27RLCr3OHMCo94Lsd/Ic0HHOB1xRRTppuH23vZ5ifX39PPHytRaLC/ma6lKp9BNvcb2SUS5MjITRpfFF2Lx581U9mVKMYnWeVejn7jW3UCyG61OqNNSOlLCD65YKIk1tTS8hdWQ2QgqmqNEbo4XAshz8sirSzGOXKw2GxrcqrYYpquxchKrSjRFunstKmBaHAhi2sBE6N2cAxVL7WQw7bPK7JM+FZIWXQFoCaaVIGxAooX028nuOF4e5jV5wif4SUmv6dJFpXcGWyguN1796O6WSg2vb1Guqbeq5Nt//0Swf+8wPAdWe+Tdv2s+rX76JVjskTgSvf9U2Dh9f4f/+/x4ijBJGh6r80r27uOvmDWzVupGRoQpPPrPE//7O29mxZYi5hTaDjTK1ikeSCp46usQ/fOcYb7t3FxvG6/zp5x7LPoKvuWMzb/rpncwvd64c4PA8j7vvvvsF3XhwcJC77rrrhT9aHzLPf68+qeceUKl2pEhBFLT1Bd7LdBamd2cBlnSw7Fxsld9P/meQVGpDtEvzOEEbv1xX9wPqIp0po0GkEULbhjuZ+Qy4nq8ZERfbUeJSRamkSuCqV0or33+1WjqJQ+KwSxSs6/EuTWVmGyOLi5wMzDC9W0M92qYRRRGsqbftQvQjysXwOgwpJSsrK1f6afzEsV5gaMrl8iWd7LjUYRfB+iVoc7mue02tpy/moOzrnPNpfrUtKxONh911NX4aKS2HubBLFxwkqSjumRJKaKoXvUmpDMEs20YKlTeqzVH8UlWBlyy/2Vkjw+QP85yx8rxpWfTlYllkLFC5SO09CfArjRyEaEYj24ElUzWpY6VI20aIvCVsWWoKRRanVLL3T+RFW5oiUuWXZHaqqL+/NP98LzYqZZdffv0eokSzFRI+95VDdIN8ZHdsqMrjTy/w377wOEkq+dCv3snL9kwwPd5gZn6dW3aP85rbN/OtR07x6b9/gjSV/PxrbuAtr72RV798I//43ePZfW3ZMMD//PrTfP17JymXHG7eNcbOLcN87itP8ZXvHGOgXuL/+vVXsbjc5aN/8TCOYzO/1OWW3RNUyx6dXozjWNy+b4puL+bxwwtcrrjs8FDoi7HUyDz78GQfovxiatk2nl8h7K2TxKGaNkli0jRCJJFeV682Bkq9wlgaZkMWKoAkVj+HpFRp4vsVJXAyEx5ZT9FsJpS4rpfNx7ueMuhyPV0pmNG1rNLQC+CyWfhULXFLIpIkIgq6xGHvfIGTEZfq//oARB+dmFOMWdtG5u9X3t809CXnkR/XS7TbbeL42p+9LzIB1zLYAPr+PdwXsZflhcaGDRte0PbqqyWEFIXzmVfo2XkW5twCqNaA55eJwi5JFJDEQb45OlF5JE3jbNmjyi1xtmfKrLHHAtf1kVIxHqVyXe1hsazz04HMc0b/c+z/EsW8LARq4bwqhtIkJhUpZhkl2qZdmlxo8rrOi9maeZGq16J/lfo1qC/z/ZQ0VVvCZWp+Pn+95npxNaAOz7XZu2OUm28c5+Ybx7npxnFKfv8k1Xon4uOf+SGLKz1WWwHfe2wWz3UYHFBn/479U6Sp4IFvH0UIxfR/94czhFHKzq39otQDTy/wha89zep6wJnFDqNDVVIhePLoIkkiWF4LOLvYZqBRQkoIwoQfPnGGWsVj/07lWrxlwwDjw1V+8MQZovjy+RhdVgWWca7LP9hqa6w8B3QUr5a249FrLxPHIa5XUiuZHRewC6BYKi8MmaPwvg+oXgIn9cSKMdfBmNtkBypVzIKpBCwLW3MNlmXheD7Zg0qJFKoqIFX3YVgNkxCSOCSNI3ptJThVtGa+98IAnryvmfc4pbR0nxNUnzMX2uY7B0QG3M6vqK6/uF7Yjest2u28L3yxF7hZlsWuXbtetEbsSoYpdLLzLExue5ZcZ1lq5bpI1JZZr0TiBtiOQ2JZOJplsJ0iayv0BTkpFGCxvp8U11MCVMzUPMWCRQMHAyJslW+EMKyDhVTjMP1MQ3ahVzkmjnrKGETft5Aiu40QAitNSHXL2BgbgMwYacsSZOss0JOGfQyJAimqgNNMzrnA4yoAHK12pESjnWdvJ0ZxSreXA/O1dohlge8p2/rxkRqua/N/vv+VfSyT7znUK/0g/vjMap9e5MxiG9u2eOWtm1hthUxPNNiyYYCnT6yQpIpx/M6jM9z7qhv4Vy+b5vuPz/LyfZNYtsU/PzbL5YzLK/k2F/WMbhOaLjPAoNAO0b/atqPQftQj9ct6VFbpLlJ9AXakQBbMsYTU6FvPt5tqIE0iwm5LAw114EzbQmqwkO0tyK71qm1i255G8qqvqV6OyNqzBpGnaay+EsXIxFGPXneNcqWRrY4vrqMuvlYphELzWuVto/qk0rSP+nQmRZajUEUU+57XGezo9Xr0er0r/TQuSpQKI7DBNbwPRkrZN5lysfecjI2NZSsFrpUw+Sw71/p85pV6IQdqMGIuxmGvjV+qkTgBlp5kM+0NW6aZtksKQSqKxY1iU83fmZZMxr7q3JumiZ6CEViWWmQpEsCRmYC0ONZr3EZNfiwyFkkc9hdLGZgyuSlBChuRqmedGsCht2hnovscFZ3zngnNYCc6t+Zfht1WwtNrL87FSVIqUPLfv/QEvbBfnza30Oa5ohckCCF5zR2buPtl03iuzep6wF//w6HsZ84sdjh6aoUdm4eYHK1z655JFpY7PHPq8hZwlxlwkLUsRHYA0xytFr6ErgZA7wSIQ5IkwXZj0jjUH1ZD5SkjHDNWKkRKmkQIkegWjKIj4yggjrr45Vr2HIRIQbd5rNTGNgKmwsXdsmxtwJWPc4m+tchav5FGGnBE2eNGQZs0CbGdoWxkzbjoZZWOec3Z5I2lRK/a1heEVqhjmqsYhiMHbeZ9TApJ7PqK64ndaGjLclAL3MIwpFS6siZGP0602+0+hmP0Ii6asyzrhRkKXmWhwEVCpt3I2gmmJXJ+O0Ho1kQSdUmTkCTxsOIwE5LbjkQKJzv/ZlV9mqh8mCYhSRyRJupxLcesfZdIWSjq9MU7N+QCW4+sWtLBskQOAshbJEK3N3J2Qag2jmaPU5HimFaJTLFFihQOwkoxaMKWgM5pliyAjXMAh2ptF4soDTKMQVqSaP1KfE2PxpuQEpZWumybHuDYzBqn5l6cgPOOmzYQJ4KP/sXDDA9U6HQjjs2s0WrnhUyaCr7/+Bz/+o3DvOE125kcrfGlbz7TNyVzOeIyt1QEaaKWvMnU9PjSDK1m7EAaIzWFZhiQJA4QSUSauCQFzwqkVL4cWNrLgvzDmKZZDzSJI3Xx1yjd9BRFmpKKBCvVDnupZhdsDQrIFwwJkWJJgWUZAx5DA4oMYKS6jZLEIUkc0OuoLbqWbdgRMLsRFOiJSdMCeNL0qaUPperH5iuc1Y8UWi8GtBWZIn1Ir6cIgoBOp3Oln8ZFi+IqgDAMWVlZYXJy8go+ox8vTp08me2ysR3noo73Dg4OPu9o/tUYJpdlrKXIC6ss1xn2VX+JNEai2hSxNjxUE3QAFo4rlEEiht3M85fKNQp0RKEqcPxSJWeMhQInIolJHRfLikjNVIrU/hrS0axHDkTM32e3N4BJJKRJmIGqNIkUGPDUa7PTWOVkkagCkJwtUW10pzBl2K9ry/Vroh906PcpSSLSVLE5SRxeFYWV41hs2zjYJxINgoTTZ1/4iPh3H53hjps28M437eczf/8ES2sBtbLH7htGOD67xjMnn73Yanciyr7Lv37jPs4sdgjjlBu3DXPwyCJPHV3K2i8PH5jjbT+7i1fetpFUSL772OU3Jru8gEO3OvpEolkrItK9yFiLPOPscJppjySOlBOnlY+MISWWbrFYQikuREFQZTQVSRwQhZ3swOQHJ8oPtx6jVc/VwbYNzncyEZTapGiqAEXoKbQf5rqNJFLtlDAgjnrnaEuMhiWvHNKMnSHLAbapOITIR377lNy5oKvIEAk9inu9AY5r3cb83BgZGaFcLhMEAVEUMTc7e80BDiklhw8dyv5dxsfGqNVqF+3+t2/fnjkaX0sh0pg0jrLWZj5dYap1w4ImuShU56w4DvMiyXFyFkCKTP+Vizjz1oZqO4eEvXUFdsi1FOYrFQlWHPUXL1pwbtkCWxoxfNG0TGY5RohEtXGEysemVZPEgQYdEcJxSZOiPbqF4mglNpJU2qpws/LJPBO5Nk2e894lqjCL9XsVqwJSPYcrm+eSRFCv+nzwnXdQbGGfnGvxex/7Dmkq+qeBTBSng4DHn17gK/90lHvu3ML/8b67CcIE31PC009+7jGeucBNTZw601JeKZZFtewyOlThtj0T/Ozd2/hvf3uAbz9yClAGZQePLHD7/imOz6xxZvHyF3CXH3DEUV6dF1C/ELoXmUQk2a+R1kKEBYTrYtkh2IYulDhCZGOgxZFUwzwkcUgUKF8N1W5JCog/xnaizI5X3QlYQiALy+GkSLX5Te7bYaqNNI0V+5ImBUYlJAzapHGY9zhlPjqr6FRX0Y5pYt4gHKn2wUhNb6pdDLaeOS8wHFkiMGK0NH/8NL6utigmSXJN25hfKBrNJqNjY5w+pZLBoaee4tYX6GdztUSn0+HIkSPZn7dfRCfQer1+SXeyXMpIooA47mmysjAiqouBNFEFVgYUkhxkGHY2TaLCNmzVYsgm4yAHHGlCHAfEYY8o7BAF3fOnPnTxJrWgND0nN0hbFVLSbHM1gMNMnUiBTHVbRbMZcRxi2FjVqu5h9xkomlylgI/tuEhpgIYNKFbMvCbIL8q5h4d5z1JE9p7l7HES9RBXcFO0EJJPffEgo0Pn+8N0ejGpFmz+5RcPKHuFQhw4ssgf/eUjHNHMhRCSz3zpSf7ph6fZMN5goF5irR1yaq7FGa3hmFto87FP/4CZs/2ajrf87I0srfb4yCe+Q0cLU7dvGuQ33vOvuHXPRAY4AI7NrHH7/ikePjBHklx+dujyAg4hSJLgvEOYiYI0SlbTHUooqpYShXrCRYuFklgdDMMSuDFmG2OO/IvsSFRgN9KMgRCeGTWLSRLNZcgSOJpalLqtkYmcLCw7ztB5ztConq1hZJI4JI56RMF61qfNFN768c02RYzxV4YlBLaTZtsZhW3p10Y2Omtlxjoyb0uZ9ybVFUByaQyYrkSsrKxcV+wGKG+JG2+8MQMcBx5//JrTcTz2wx/S63YB9Xr2XsTlczfccAPeJRixvRwRxwFxFGSlqDqnOkeItK8oSRLFTKgLaJAVJGmaYMWqBy/ShNTRAEQ/RqZBSxPVhol6hL31zC6gj8lNE60vU94/wrSOLZ1vbDW1J4q7m9RsXuYfkt1HEhNHqgg0+nnz+I5Xwo5yjyTD4trSwxEp0nb1hmsNaiC7fyAr4PKCKu17P0RiWikBcdglDDqI9MoWVnML7ecVdR46tnze91ZbAY8cPHPe90+fWef0mQsXV0GY8IMnzvZ9z7IsGjWf9U5EreIRRCmea7Nxsonr2CyudLOftS2LO/ZPEcUpDx+YeyEv76LHZWY4BEncDzjyXmSi0WugP1CBvmh3SOJAffizC6tDmjhKvyFS7DRH1eaDmqb5fLoBLebin/U8vTKOY/qatmptgO5nuthSYguzct60PCwNdjj/NWgRlzkQcaRoRzMho6jUBDtNsJMo04YU2M0skdiF5W1YljZX6qdB8/6sATSxFpFFpHF4XQyppGl63bEbJl5266187atfBZR76oHHH+flt99+hZ/VhePUqVN9jEN7fZ1HHn44+/PmLVsYHx+/KMDQ8zy2bt36E9/PlQozVQfFsVJdHBRY0NgUVVGPOOoSRV0tptfFgz7zUqRYaZIxq/qOs9wSRz2iSHl45JMcuT7ETl3sxOxnUSP/WECi84ed5kUOQNZWUY+lHifXmqSakZF6RC9JlLmh65Wy4sgIW6UUaoowTbHsRG+kLS52y5nq/DbnskJ5oakeq6f2YwXr11Vh9eOElJIHHzrFva/Yym/92itptSNc12ZkoMzM/Dr/8J1j2c9u3TjApskGTx1bZmn1ykz7XWaGIyUKOqgPGP0fqlQfwDgiiXpEUYcwaOueZIoUMjs82Wy3cFQrRW+dNQAEScYqpGlCFHYUY5KNyiaK9nR9LMcF28npQyGwhYftCKSdKpox29ZqcLkSwD6bKCyOApU8NJVpAE5Ol+buoqq/GmPbXmFjo9aPWLmwKmv3mOch9XMQpnpKM4bDMCzXA+JotVrXvI35s8WWrVuZ3riRmdOnAfjG177GTTfffNVV9kIIvvLlL/Pzv/ALmYjzW9/8JmtrawA4jsPdr3jFRXu8rVu3XlNMz7mhzl9eWBU1W5lezRQmenJOXUQ7OI5LotspRT2Z8QVSf869L1INOJKwqwWVcYEt1i1jzWDYji7UjGOxowXqJoedKxi1rGyCr5hP46indHLat0ikCUG3le01kYhMsO+4kbJqdxxtC1Dc32J4FJ2piqP+egJP6vyo9C4RSRTo1lGboLtGEgeX+V/36ovPPvAUDx+YY/umQZr1Er0gYW6hzcEjC8SFtkkUp/z9N585jyW5nHHZGY446mUXdyN8FEZ9rPUWcdQj1h+qXmdVT3LocVgjnBIiR8u2XqIsih9WwzrExFFXi1LjPhrScX11H1qUJaVAugJbpNjCyVbVW3oKxiD6bKQ1E2zm4qZUg5kk7GViMKUhUeO4tuP1tX4c10OkPraTkOqxWbtIbRphVV9VYKha1PMWhl5VFUAaR0Thte9XIYRgdXX1Sj+NSxaWZfFT99zDX33qU0gpOXXqFA8/9NBzXrzX1tb4m7/5G4QQOI7Drl27uPXWW3Ech9OnT/PVr341Yxlc1+Vtb3sbpVKJIAh48MEHOXz4MJZlsXv3bu666y6q1SorKyt89atfZWZmhk2bNvHa1762z9kzDEPWWy2+9MUv8m/e9S5Onz7dx27svPFGNm/ZclHeE8/zru0lbaBzlxHkFfVWaWE6RRc9msU1F9BKdZAo6CClwJMpwklxHJOmrYw9KE74xVGXOOplerc0jogj5VbquB5p6mKnDnZsdrGoytj4F1m2A2nOaBTzjBASpHGFTrUYvkuiCzcTYW9dGY1J3QLyIlzXV34gjodjAIfJp8Zl2bA2EvqXX4qMqRaJuT5E+trQJey16KyvqH1X/8JDSsmx06scO/3cufK52jWXKy67hkMBjuIhTJSIM02y/lwS9Qh7it3otpfxShXiqIu50AsvRrolbOH1z4xLdThSffGXIiFJYuKwRxIrfYhqqfT0unovM7oRMsURCU4a6WrA7Qcc57Q0spGtNPcMMdRfHPXyaRWtSg+DNn5Qy3w1svEvYUCOPoypky1usm07qwA4LxnoZ5JVAQXBahIRh71rnt+4XmzMnytuve02vvH1rzM7M4OUki/93d+xe8+eZzW7OnXqFB//+Md529veRqfT4c/+7M94z3vewzve8Q5+9KMf8Rd/8Rfce++9gLp4CyFYWlrid3/3d5mdneXuu+/G8zw++clPcujQIe677z5+53d+hziOueuuu/jGN75BtVrN7gMU4AiCgNXVVf7hK1/hmSNHMv+DUqnEz7z2tThO7vT7k8Tk5CTNgkfJtRimxWEV2gVZq0SDhCRRoCAO20RBmzBoY1kOrl/GsiCNQ0SaaGbA19tY9fbYzLFUARiV34p26KECPaUqtuNSXKFg8oijc6RlmwJH69J0UdVvcZ4zuaYNZJxNjWgzDrv0jFeRSHHSBOHGuqjzSB1TwLlYjpMvrcRk1XPaxdrEMANnidL1KYDWptdZo9Oav+JTKi/Fi4vLCjiETInDbqFHZ6xrjWOeFgRFPYJui+76MlHQoVwbzERUUgisOMR1QxzP18JLvYvk3PntgoAziYM+lBx01/JtrUicNNbUXxFouJlZl11wMlXEQqqZhdzEx4zgRqHqyyaG1kwiwl6LUrmK7eTufyJNcJJIb1t0s5aK0W9kkzOWndOOWZVDgarV76FIMtFtFHaf9d/hWggp5XXNbpgolUq86c1v5v/9+MdJ05RWq8VffepTvO+++/ALbqTF8DyPX/u1X6NSqdBsNvnmN7/JO97xDkA5ff7Gb/xG38X/D//wD1lfX+dP//RPGRgYQErJ+9//fpaXl1lYWODIkSPcf//97N+/n3e9613nAYcgCAi1G+rDDz2Ufd+2bV77utcxPDJyUd6La9Xo69wwGo6iAFKkKVImWb5Lk1C3UrpEQRvH9dm6+xVU60NqogM1XmsusGFvXTkhFwofIYQ2/AozsCFNDgo6eKU6jp1vjTa50XFjtXnbdbEsp5BnzH33j94ad2ghRFZImXZQmqjx31Qk9Nqrin1JU1y/TOL4OJ6n8+o5uTVrreSP2cd8F6ZwjHNzottPQXedTmuR3vqKAmEvxTUTl53hUHRhoSVR2AeQatRv6EXH9dm655XUmqN4flVV/FJmIqUo7BDFUcGS13xgTb80zkao4ijoW4wkxLJedKQ0EE6iwIvjuDiun7MaGsyYVgeWUYqbyiVfNiRTRTlmgEPPpyfaetgv17BdHynBTROEG5HaLlZ2EAvMiuPqlpEWemmL9YKxel45ZX4jOUsUhd3zB7avoej1egTBvwy6dPeePdx511189zvfAeDwoUN84fOf562/9Es4zvkJVUpJu92m2+1y5MgRtpzTzkhTtSbAsix6vR7f+c53+OAHP8jAwEDmyWDbNuPj44RhyODgIH/+53/OBz/4QTZu3Hgei7beal2Qvbjp5pt52a23XrT3YXx8nMHBwYt2f1cqwl6bsNvOpkCKbQLjNWR0HrFmWic376c5vAHXr+jznotDkzik115hffUM7bUFJUi1LJXjjG4jibROLSLRxlh+pYHrejo/miIpIU3U+Krt6JxjHJBtO+MZ8qWaeTsl8zTSF/8k6mmtSKLZa8VCC5HiJRGu52PHHo6tGpUmSwAAIABJREFUNByWo4qqPq1aNiYLWkWH2T2TTxqqdnocq2tDd32F9tpZZcvoXF6z7JfiJ4vLLxoNu4UPVXGcMyaJFOoPe+tYls3Y9G6GxjZTqtSz9odVWCoUBm3aa/Osr8wR9FrqAlvYU6L0G4aK6xKFXaI4QIqEctkljdskjodfqlGuNqk1x6nWB/FKNdQeAlFgRFqEBZGSZSmTMYTQI7tKgW6o0iTuZT3aVNOBvbZabS9FQuqUMlBhRmQzMZV2TXVcH8fJQUgGqqRRdYusl5saXxFd8QS95x7VutrjerIxf76wbZs3v+UtHD9+nLlZtUzp0KFDtNvtC+4miaKI9773vfR6PbrdLr/5m7+Z/d3i4iL/7t/9O6SUDA0N8b73vY8kSTJQ8rGPfYyDBw8CcM899/BLv/RLfPjDH+YP//APef/738+9997Le97zHur1enafRhxajPGJCe59/esvWivFsiy2b99+Hti5FiPsrRH0Vgu+PmafSVooCiKSuIfvV5naejONoQ345Qq242e5AM3a+iLFK1Up1wap1IdZPnuMzto8SRL25R3Tjk7jCNuSJME6keMV9GKq8LFtO5tYMXoKBQLcjDHOPUT6N7waK3UzUaicUYOM9TDun2kS6fzlKSa54A5tCqucUTbPg8IwQZq7N2tmOgq7BJ011lfPYMmY8fEp6rVre9Pyv7S4vC0VkRIG63n7I0OxsRY69YiiHq7jM7llPwOjmyiVG7heKROImqkNkJSqDar1IRqDk6wtnWZ5/hhhb72wvyCfEIkjBQBsEgYHm9SbQ/j1KZrjuxgc20y1NqirC1cvNzIXd5GN0ga9Fu3Vs6wtnabTWlR+IH1LjhJ9CDWrEnaIQpUAHH3ww14bz69SbjRpDE1RqQ/hm16rtk9PtJAs6LXU6xFCgxMDPHIHwKJ5mhHWRlGPoLvOtTqlEgQB3e613RJ6sVGpVvnf3vMePv5f/yuu5/G+++5jcHDwghdz3/f5kz/5EyzL4gtf+AIf/ehH2bdvH6AMs9797ncDau292d7aaqn9DK9//eu58847+cu//EuOHVMjczfddBMf+9jH+NrXvsbHP/5x4jjmQx/6UPZ4axdoba2srLAwP8+mzZsvyusfGBhgYmLiotzXlQ6HiDhokwrZlx+kXtVgdFbV+hCTW26mOTSJV6riuKXs4mwu/GaKz9bMq+24eH6ZlVKV+dNPEgXtvpHRNAmplByajRpxmhB2W9q00MJxS3ilCn6phleqZtow5a3RJQ7biFStWMsAj2aMTZtaPfcwz9dBV9sOqJHcSnWAxtAUA8NTVJujlCoqf1uWTRqHhEGHXmeFoLNGGLQ022ZYDzsr9HKbAe29EfYIei2i3ipTEyNs3bqFsbExhocu7rLAl+LSxuUFHGlC2F3DslxFNxZNcLQBjleqMLXlZgbHNlMq1/FKOeq39aiY+lCCTJNM1Ol6JfxylYWZQ6wtzShWIU3yA5LElH2boaFxagMbGJjaT2N4M+XaIL457OaCntmnKwc4KVM8v4pfqlGpDlAfGGd18RSLc0/Tay/rn1EirCRSZj7GDCdNY0qVBpX6MPXmGMOT2xiZ3EG9OYZfrmdJJKNR9UhvKhKSqEd3fZnWyhyt5VmC7mrhfbD7GY5E6Tci7QEik2v3gn292Zi/0JicnOR9992H5/uMPccSNMuyaDQaVKtVfvEXf5HPfOYznDmjTITK5TJ33XVX9v6lacro6CgPPPAAt956KzfccAPbtm3jy1/+MpCzZb7v83M/93OcOHGCRx55pO/9b3c6yjCqsLcijiIe+PKXeee73/2sWpMXE9eqjfmF4u7btjE64HD81AILy22iuLBlVQs+a80xNmy9WbWLS2Vcr5QJLA3bYIywMl8eo1eQAjmmWOLTzzxCFKwrjRuCoWaFeq2C4zikQtJLqwyMbWdkcrvKOZU6rlvSyyj1/Wu30qjXpru+RGtljqC7pk21ikJ5PQlnpmC0f0iaRFQbI0xs2svEpr00h6fxy3VdKLoFZlrdRxKHhL0WrZU5FueOsLZ0mjBYz1jcvJhKMlFsGLSwZcSWzRu4Yds2hoaGqNVqF+Wz91JcvrisgKNSdqmXJMutFqaaV2Niany02hhhYuNemiPTlCoNPL+M4+rWg+0W2g66wndcMPoGy6IuJ1CmNjZnTz6uRE0iwZIpA/UqI6NjVAZvoDmxl1pzDL+skL7nlbODbtocuRBVZqIp0/u0LKUc98t1FmcPsTj7NHEc6OrFiKqUO2q9OUZzeJrRqR2MTe/K9CiuqWb0jHo2+oqphgSiVKdcHaQ5vIHu+DYW5w6zdOYIURLno7pSZLRjoufUfUdww/apa5KejuP4ujX6eiExvXHj84ItIQRPPPEEjuPw1a9+Fdd12bx58wXbUI7jcN999/Ef/sN/UBMlP/MzAJw8eZIdO3Zw4MABHnzwQV7zmtcghOChhx5i9+7d2RkD+JnXvpZbbrmFxcVFFhcWWFpaYnVlhaXFRb79rW+p+/wJPmv1ep0NF3Hp25WOqYlRyr7Dts0TnJ6d5/EnjnFmfpk0ScCyGRiZZmLTPir1IVy/jOOUdJvBw9UFSLEdY9n5inrplkj9MqVynebIBobWFzn9zDyeA0ODTRp1NQnneDVKg9tojO6k2hzXeo5SluP6jRJ1DqkNUR+cYGB0I+urZ1k+8wzttbNaE5S3OcyiuCQO8fwK09tvY/qGW2kMTuCVago8OX7GyhZ3pkhdwFXrwzSGphid2sna0gynn3mYxdmnSbWRl1kZEYUd0qhDreqzedMWNm7cyODgIPV6nXK5fNGs9F+KyxOX9V+rVi1z563beeTRw5yaXSDVgkfLsqkPjDO+cQ/1gXE8v6L7f37e53M8bNvOpkVAqoU1tq2tvgWiVKFSG2Rk4gbC7hpnTh7AdWBkeJDGwAhecyuVoS1UG8MKbPgKbLheCdv1cDIBZ7962jAYWX/TiJtkmv3c3PHHCHstNSomUhzXpzE0xeDIRia33MTA8AZK1SauV8X1fJVYXK9ghpO7++UI38NOlcrbcXz8Sp1ac5TZ44+xvqIqWmP+o8bUIqolm503bGB6w+Q1CTj+pbIbLzQGBgaYnp7mP//n/4xt20xMTPAf/+N/ZHp6mqNHj17wwv2qV72K+++/n0996lP8/u//PkII/n/23j1Krqu+8/2cfV717q7ullqtt2RZtkYGBzsQMGTAcUhgwmDuvWRlxbnJDJMxhDzhkpu17kzWJDC5JCEsWPcCed6skDCBDIQwCQsYGOJgMHiwcWQMOPghG1uyLMlSS91dXVXnsfe+f+y9zznVkomNrZbbPt/lsvpRdc6prtq/+u7v7/v7/bZv384rX/lKtmzZwokTJ/jd3/1dhBAcPHiQN7zhDROP73a7dLtddtnun1prsiwjS1NWh8OKkfl7w+7du59xzc6eCuI4ptlsEgQBzUbM3EyPu//pMP903xHC1hwzm/cQN9rFhsMrKuECSuO4KNQnoU1MEL4rmzcxIYyaTM/tYOn0wzTFkE67RRQ1iLrbaM5cRmtqK41WjzCubnCqvTCq6WCJCtOid0cYNWk0uyye/A6PHbuH0fJZ2/jLNGlUStLtb2H35S+lv2kXcatnNlJWqSmITdHdtJJasj1J/CAkCGKiuE1nahMn5nZw/zf+geXFY4UnxRea/vQUW7duZevWrUxNTdHpdGg2mzQajfOaqms8c7GuhEMIwezMNC94/iUMh8scfeQkQRjT6W+mv3k3zXafMGoYd7Mfmimwwq+UVZl0gssrelojPDPrxJfSLsKYqNFmZv4SkuEiDbFKsz1N0NlJ1J43ykncIghLGbNUGkoVpdraVwi7IIGgMqsljJrEjQ79TbvI0hFH7ruNPM9otqfpTG1metNONm+7nF5/i9lhhM01ZCOcyF0WZbeuuZgyQ5WUL8wuR3iIzXsIoxZH7r+dk0f/qZgP4+mcfi9m755tbJnfTLN57kChZzpcWWiNx8eOHTv4yEc+UnxfHXj1spe9jGvO0zRMCMHVV1/NVVddRZIYo2Gj0Sge9453vIPRaITnecRx/IQIXxiG5gO11XpKBDEMw3OqbDY6giAgiiK7QTK3q77vADMzMzx4EvyoYXb9CIQnJpSAiSGNnuswVOk0DIUaiucRRi06Uwusnr6PKT8i6u2hvekAza7xT0Q21vl+hAgqFSJrGgkqpcxI+UpjLq01M3gEQcTRw3ewdPqoiTVoZrdexs79P0Cvv2DVaBtTA1MKW/rNKvEUimFwQvn2fKK4bd17FWGjy9e/9BEeO3YvYejTn5ljfn6+6M/SarVoNBrFrSYcGwvrSjhcQOtPT/GC51/GeJyS0jbmyfY0YVSapgJXQhVEJrcpBBSLgaL0VeEVZMFzvTP8gDBuMTW3m9HiYfz2DqL2ZhqtHq1O36ZqwjUsvOy9MTk22QNPGSOV1ra0y4yz94MQPzRGrKnZ7awun2Jw9jjNzgxTM1vZtNWmUOIWQeDOGVqHdnDObqOqqmit0a4sd80I587UZnZc+iLS8SrHH7qLMNDM9Tts376FTXOzNJvNDdkaenl5GXkRpz9udJgKgO/ug3g8QtFsNi+KsrR79+5nXR7e932CYE0qQWv27NpC3FzhoVPGe2WL+G2nY4r7aaVMqhjXzBBs2YgtjTdj3D2MwtvsTDM428Hr7KU1dzmNtlNwm4U3zQ8Cs8mpeMCqE109T03GvaIPRkZnajMLu59Plo44e+phNm//F+za/2LaU5sKQhOEduNWqCiTxMbdjMIh0O582Jhnn/+mrft5wSv+d+665SOo8WP0+33m5uZot9tFXIvjmCiKir9xjY2DdSccQRAQxzGbN81x4LI93PfwKlHcLgyh2J4Xnh9Myn54CMoPYI02QwmVLN7MroJDCNPJLoxayN4OotYsUdwySkfUxPOqC8LOKhFuUUymo43isKYjnifM4z23QzG51+m5HSSjAXGry/TmXTRaPZOjDWKz4C0Z8pwpzLH7yqKkOJMJRUKA0hohArSv8IMQrWKa7T47Ln0h+XiRIH+Mudlppnq9YiFuNOavlDpv+WWNZy82+pC2x4NTNbTWBflwRG/zTE6arfLoICHLkqI3RbWtuJ7o+Gk+iYteGMX0aVX8LIwazG29nN6mfUQN430LAme0F5WeF2UZrFdJc5jBTAKBiRm+TXv4MscPIoKoQaM1xaat+wnCBtsuuYpGu0fojK6iLKl1KnRRdlsZ0QCm7sXzNEph7HZaI/DRKsDXEWHUoL9pJ1f8wP/CI9/+HN2W2aQ6Rc33/Uq8FzXh2GBYd1u4EKKQHHds38Lm2WbRMdMwbcvslZpogW5+CW73D6XD3jU5qjIFKTNGw7M02n3CqE3U7BBGzXIRem5Kq9uBlPlFc/zJc7jze46KO3buUiHCJ4wadKZm6fW30mhNG9ZfpExK+bA8/yT7L0hH9Wsqv3NKjB8QBDHt3ia27XsJrc4M7Xb7nMW4kTAYDEjT5/bkx+catmzZMtHv49mE6geiIyCOeMxNBXT9RbLxatmMsDp4TeaoPC+a+hWD2CZGzmfFSAhnRI2bncKP5nmT80qqTQxZE1dwKoONSeZ6nQpbeujiZo+F3VeaFgKBPY8jGl5181SNb2tjnCjO4VUf4wuEZ3oPBWGDqbldzO95MWHUnFCJynjMmk1ajY2Adf1Uqr7xfN8njiIW5trofFhOW7W16obJK1shUsqJaF2YREsycu7k1iwd4iGI4hZh1CAMm5MLzPMK5aJIYRTj5lXZac+RHfdmd9ImusLaS3Sm5mn3NtkOf1bJcP1DKBWMSTWj/FdTCQBQBAojvNpKFk8gfJ8gjOhML9Ca3Y97KTeq4fK51Oirhtl4XHLJJRf7Mi4Iqh+CazcTvu/TaMTMdSQkJ21pqWmcVRIJN+AtKzowS5kWv8uzpGj3naUjhOebPh5+WeFS3YCVm6lyI1XGvPL74lfFBsc2BLPVcEpJ4mbbdGL2bVt0p5YUZALOiV+VmFb+aSZjsWl26MhIQBDF9Ob2IppbkNKaVZXifJvNGhsHF3UbLISg22nQ8G3jGNsCXNqx7lKVLL9oH26lRGyHPSXLtt7FIrU7AtNfwxg0z8mVFGOjz0MylP2dmyOgZHk/2zGQ4o1uOwjakrEgMsZQUfGCeM78NUE6igvBVb0oXX5fDQznNvAyz0WIgCCMiHrbGaaiWJTu342C4XBYzOqo8dzA3Nzchh/S9niofiiuhSMdzWZML14lGy8X4xdcv6BC7bDl9aYE1RIPW3ZvyIaZLWLKUANE1TNS2SQVG6SJTVWpHJdExN3fuUswGzMgz8b22qNS0ZiIqWv/rf4Nyms4Hz9wsdH9fZzCEoQNwu5Oxqkmz/OiZb+7ue9rbBxclCLm6pskDEN6LcFjw1Wk7BazBqQf4OVGFlRKlmxdSbDd6LTtsDceLjEaLJKlI5TKzTyWdGRTKFZh0NrWgBuCYGaoKDwlUZYQCOGj0Hiempis6N7gyk2HdQvWEiApc6TddcTNni11E5MExxypMHy5QKCURgiNh8JmOMteHOe5FXEADIERPmHUYSymGY+XaDabZFm2YcoMtda1uvEcg2tjvtHSfk8U1Z33+XbhzsvWbXqcfuwkeeSmSANofD9ESa9CGsquyTJLbeOthHQ8AK3xg8jExOJ8ag3JsOqvJ1HKhCXhFFptVdVK+lprBap8nFKSdLxa9ig6TxF0QXPWnNfzHMko7LFr1IlJpcImSwqFJWr2WV3uWRI2uaGqycbGw/rOUtG6/LC2vgvP82g1AtTSAGWlxNxOUFUiQwkfaR+rffOhbNzOZvDbeLTMYOlE0QpcS0marJJnY6JGx6ZO1ES7c+VLm/usJDmURgtlTVbVyYlQLCBZKh7K5lPdcKE0WTWL3w9KWdGVt1qeMOkTUWBTOiYI2N2Jdi6RtWRDoTHpo+pOBGeWjaYZjE7R7ebkubltBCRJ8pxrY/5cR6/X+66dVDc6XJxzt7Wkw8W+KAqIvWXGoxWEH+I+bqWfl6qovb/Ms8LvYcbPj0jGA8KogRv1oAtVtlRsPSHxtLAEBoQGT5hKkapHzMQT55szVTRFmtuOTAjjNpP9NNxt7fcmTqNVEdvMg9bGttKnx5rvtTaESAQRRDMk6dEirkkpyfOcIAhq0rHBsO4Kx/mYqe8LkAPyPCMoZg1EhSFTa22d00GxSLRW5NmY0cqikSKlGwO/YsYkYx3fRU8LWTSuETJDeqLgE9qqGkILsxDVuYvRSZGFsUtlBdnI7fj5IGwUM1gKibLwgkibprE3bMrDNRTEw3OeElukonH3X5PSqR5TKfDAD1qMlynUjY1iwKwbfT33sHfv3me12a9KNr7bzfM8mqFkefU0YdwqiIpvy0oBGwu0aYSVm8qWLB2TjJbIkiFRo12mm7Xb+ZvvhZJoJVBFNw/TLFFogXZ+C6/SI8P64kqikds5UilS5sTCEptCpVWgJaDKWCUUSnl4AoTSaM9qthWDfjW9U163nPDgOfLhASLskKxCnuem4VyWEQQBeZ5vqNRxjYugcJTpCVXIY6DxlM1jZqbNr8ySidwemOFoRYmVViTDJTuNNbOTUvNiqFAQxQVrd0PilMpQMkDmdhaJuyYRIIRCa79CNih2DsX97IwTk0PNijRKOl4lS0ZEjW7luKrYKWiVo5RfXL+SzgRqmpcVbYa9SYdH2ZXPeVUqxlrlgotVSzyPRPokSUIcxxtC4UjTlMFgY0+1rfHk0Ol0WFhYuNiXcUFRjW3Vr6vfu41XEEA+PkOazBJqE+OUrQpxJkujcDjPxogsMTOWzG7KKriyNNsrKVEiR3o+GvB9bRtuaYTWaFXxX1SN9I5wyBwtM6Pg2plOhWoBNhVcHRwp8TzTMdqTJjks0ChPA4qioVlhHtWV2GYer51ibMt+nc8ENJ4ISXKfLMtI07QokV0736fGMx/rrnCslcXcIvSQ5NkIlTeRQUCeB9ajIGwpqkvBmA90maeMRysomRkiIKUhFCqnMHUWC6icpmpmkGBrz61059vud1qd45ymFAFR0oy8L5zjuXGNJ6MV04GvUmpb5E2lRPkSIRXKy6n6dD3t4wlVlIrBpMNdq3I424Q5tjCz5qWvRGukNoQjz/MNkR9fWlqqA8ZzDLt27dow/qLvFS7GVYmGu1VjnlIKNKhsQJYMjSlThSiZ4/vGq+ZZRSHPEpNSScakyYA0GRBGTWOeV+74OX6eISv9iyYM5/ZDvlq2CkzEOjep1am3WuZklnDoyuYLVUm5qNxs1OxGygeULvtvuAZfulI1Y8z2qhKbraLiSFOl3whArkShbjiFw/f9On5sMKzzeHpVLEb3xikWoLQTCOMUkYUIkU4sCq108ebVWpMlQ7J0PFlGa1UAKXMCt4uwH8pS5giZI73UvOMLLmHJjJKoSt14eS578XZmidZ5QTSk7fefjgeVPGTFqKUVSrsFlIH08LwM00tT42mFp6vnrJIEt6jVmkqd3C7QiofE1eYrj9E4oZNlz3jCUbcxf+4hiiK2b99+sS/jgsMRi6q6Ud1kVWOfMWgmpMmqGdsQ2HEGdsYUAFqRWcKRZSPGQ1PZEoQNq9qWGyopA7ysnMOiMelotPGoeULaTZyoqBsUcdVV4cmiUsaMrp/wV1T8IsUmruqHQ4NyPTYm+wlBSTiUkkXMrsa0QsGV5de51MXfrEo46nTsxsK6p1SqLDVNU9I0Ld5IitSqB2HxZnUQolKpohVJsmpr0/OyjNbKgGrijWt+LnKBrCwAmYvC7CSUrDSt8SfZf4X5S5kVDFzmKblMSZMheZYWpk6XRsGV2Sq7Y7DqRu5h+/lpo6goAV61tXn5t9LalQGX/5rnalSWPEuRtlxOyQypNEmSkGXZM34xKqWYm5s77++KRm6Vr5+O5/JkjvFkz/fd7v9EjvV493myx32q93+ix/znHne+x2zUlvtPFo5YuNLNqrpR/dB0N1RGNh4SBCYN7AkfIXM8260UrSzZGJMlQ9LxwKQhtEvb2JiXp+S2WiWwGymlJCrIUXYcQzmzRSCqPX68qqldmqoQ2/MjT8eVOCQL5VW4tEqeIismezfo0ptI3YhKuthVvyirZBiyIfOyrYHMjGclz2xpsFRkWblZ9X0f3/frUQgbDOtOOPI8nyAaaZraD8kcJZTxYohkYgy9yeP5hflISpNXVNU+HKpslqPsm1fZN7CQGXmxuGxL36JyRCKka8Xrl4PUJnpmWM9JnhWM2ywKU5pmUjkuF2nVCK0QlqV7QiCUQHketuQGLTSqIDmyVFWKv1WlN4gzgklLOPJ0clGmxv8iZYqkXJTPZIRhyNTU1MW+jBo1nnY4Fdd51dz31ZhXvWVZSsaYMEvMwEbbvKucGKvI05FVU1fJbZMwLct252YTlFF4OuzPfd/6IwJpylqVb6dTC9TEpgpKb4U0/rQsLfojnZvONYqrpxSeJ6E4t0b4yk4Bn5yCPWHA12WbAa0qaq2sqsc2xmUJue20WlWKatPoxsO6E44kSYqFliQJ4/G4uIWRURE8GeLlpsrCNdRyI5sBcksmyoVmFQfLypXMzW4gG+NnUdGHo4BnFpavzYe+a3euPB8cCaj04QBdOLZd3lLmxpyaZyNDBFz3P1UhQcJHWjIjvbwstbVG1lJyrBCciQqVsoRWF+pGXuw8smxsdj7pyFxLOkZGcsN4OGrUeDai+mHoCEeWZSRJUsS86tfjcQLCbI40ZqNCobIaI6nrSJqlQ+sfsw0SXVfSygd+WbXiNishvlYoGRRxdGJj5VX6cGDK/53aYNLWsuh+6kiHUuY6tczNRsoDctDWfK89H09IUOWANtdXBK1LNdilVawS7cp/TWx1hQQjsmRI3jCKjlM40jStCccGw7p7OEajUbH4RqMRw+GQ1dVVxuMEv+PIhZPorHFSSCMx2q53hhE7iS9HVUycShq1QafmwzgPoskSPNsQQ4dmYfq+j3JzTpxZdA0JcKy/9IQoZJ6QjAZkybhcLFl5DTIvxzNLKyd6mHyKqYGXheQ4ca7iOivn1OWOwpAr41jPLdEwzvUh6XgFHZY54xo1aqw/XKrE+Tfc5qpKNkajEaPRiPF4zGg0JArHyGyMkqXSakYvmDiXJSPbhyMtupEa9aFJlppmXM4v5gdRMYtK+fbDXOR2sJpp3jWROq6GR132K8rzzCjJSppup7k5fxBmKD9AKYGnJMiyesUY9QOUJyfT4oVfzqXbNFWPXbGRypNyvoyLa8mQPB0i83DCA+h5Xk04NhjWnXCMx2PSNLULzRGOIUkmadpuep4QhaPaDQ/S2lxqtRW51tLm/tIihVKwe5nbN21sJ9G69uJGPVDKSIzSjoh3ixwEQlSafnluEVaVhpw8HZMmq8g8NTuCLLG7jwSZx+bYshzPXK5JNZFHdflTz3PTG53xtFpWa1q5G0nRLcikXJDjAcl4QDpegU6TPM+f1X0OatR4JsNtqJx3w8W7KulwhGM4GjEepwRtSZaO7fyScMKvpqQkHQ9sm3PT1lzlRn0I4wRnwPBdX54ibSERfo6SISLIETIo2oa7mChszDPnc92PKz61PDW9OHLT3TSKxuR5o5wRZfULpTVa+GjflN56ngBVVvk5lB1YXdrHlfTmlkRZVcOqOcl4QDoakKer5HmbNE2LoXjOI1Nj42BdCUej0WDv3r0T3o3RaMTS8jJJHtCZmkf4IX4QTk4qtAoEVemvMFW6tr9j0sTlOYdImRA3e0Rxhyhq2Jkq9piOYHgmneL5QWV0c7U2fQ3ZcOzfplSS0bRl4KskowGN9hSt7ixRo00YNs3zCMJiVyFEWI5vro5sLtIobjFSlPS64KGUKpqMuXytzBKybEQ6miEZzzFa7rFptkej0SAIgpp01KhxEbCwsECn0ykUjqpJvurhGI/HDIdDduwa0u1vM0PRPK8Yx1A2HDRkpEyppuT5GN+PaLSmzOwmPzI+oHkXAAAgAElEQVQj6QMby2zzMOEHRSMxzzczULD+kLJyxDNeC8sNlDWryzwjGfcYr/YZDc4QN3vErS5xo0MQ2phqN2yeTU171TgKUI1p7gS69KjpilKdF6ZRG9vSEel4hvFwBjnu05/uEkURURQVvTj+OR/Ygb2zF+AVrvFEsWVuchq0p5/JpQw1atSoUaNGjWcFamdhjRo1atSoUeOCoyYcNWrUqFGjRo0Ljppw1KhRo0aNGjUuOGrCUaNGjRo1atS44KgJR40aNWrUqFHjgqMmHDVq1KhRo0aNC46acNSoUaNGjRo1LjhqwlGjRo0aNWrUuOCoCUeNGjVq1KhR44KjJhw1atSoUaNGjQuOmnDUqFGjRo0aNS44asJRo0aNGjVq1LjgqAlHjRo1atSoUeOCoyYcNWrUqFGjRo0Ljppw1KhRo0aNGjUuOGrCUaNGjRo1atS44KgJR40aNWrUqFHjgqMmHDVq1KhRo0aNC46acNSoUaNGjRo1LjhqwlGjRo0aNWrUuOCoCUeNGjVq1KhR44IjuNgXUKNGjRo1ajzd0Bq+cNtDF/syntPYNt9l/+6Z4vt1JRzfOfIof/D//VfyZIVN/ZjpqR7NZpMoioiiiCAICIIA3/fxfR8hRHHzPA8hjCDjeV5xTK11cZNSFrcsyxiPxyRJwurqKsuDhJGaImpNE0VNgjBGBBF+EOL7IUIEeL6PEObmeQJPeHgI8DzMKT3QGm1OjEajlUIriVQSrSRK5sg8I89T8mzEcOU0WTKi0eoSRk2CqIkfxPh+gB+EeJ6P8H084ZfPS4PSErRC5jlK5uR5SjJaZmnxEZLVZZLxClorpma30+z0zbHDCN+PzXFFwL9//ZX4wlv7MtSoUeMC4t2//9c8/OC30dkK27b06fXKOBeGYRHnXKwTQuD7fhHjPM+biHEO1TinlCLPc7IsI01TxuMxo9GI4XDI0iAjDzbRaE0TRk38MCYIIkQR63yEH5g4Z+OO55nz4nl4YGIc5guNMudWCqUkSkl0Nc6lI8bDJUarZ4mbXaJG25w3iAmCMrZ69rm5g2utimPKPEPmCYOlkwxXTpMmq6TjIel4QNzqMT23k7jZIYgaBEEDP4jw/ZBrf2AXB/bOnPO3cn+vD/3dNy/Ia1zjieGHXrzr4hGO5ZUxn7/5a+SDo+zZPs3MzAydTodWq0UcxzQajWJBhmFYEA+3KN1CPB/hkFKS53mxCEejEYPBgJWVFc6cOcOx0xIZb6fdnSNudAgbLcKoRRg28MMI3zfkQwQBQpSL0ZzXZZ7ceTVaK5RdLFrmSJWj8ow8S8mzMVk6Jk0GDFdOsXjiIVrdGZrtaeJml7jZJQgbBGGM74f4YWRIh2cWv1nchrzkWYrME7J0TDJe4czJ73Dq0fsYnD1Jo9Vjdn6JZm+WuFEu9CBsIPyIn/1fnw814ahRY13xta8f5p67v4lIHmHPznn6/T6dTodGo0Ecx8RxTBiG55CPtRusx4tzLtalaUqapgyHQ1ZWVlhaWmJx8QwnlmOi3i5a3VkT6+ImQdQiDGPzQW03WoZ0BBNxbi3RMedVNt7ZDZXMUXlKniZk6Yg0XWU0OMvZxx4mCCNavTkT5xpdSxDMBsvzg/J5aUM4ZJ4hZRk3B0snOXXsXkarZxgPzpLlY+YW9tGbSWm0pokbLcK4RRAaQvP8y+fX++Wt8RSwroTD84T5YMwNoSg+XO3NfICr4mshBEqpYhFU/3Vfu/s71l9dkI58rA4TRnmLZisEy+KtZIE2FN5+pSsLTIBWKOXuXuX95TU7pQP3fbk3wPM8/CBC+IJ0tEIUN8mz0CobomD8QvooPIQA7VkVxbJ/R27cLW50iBs9huIUcbOD5weT25Hi3/I6atSosX5QSuL7gnYrxvf9Ip6Z+MBEjHM3KWXxeK31xObqfDHyfHEuTVMGwwzp9RF+CJ6weyQb6ypxQldimIeLXYq1tr7quanctIt7gIeH7weEcZPh4AxRo2M2UkFUqhqAD2jPKMbuOIbEGHVY65wgMI9Da6SSNFvTRHHHqs6efS6e+c/TdZjbYFhXwqG1QmZDmqGH7/vFz9cuQCklQoiJRegIiIN7E7vHVRdglmXFLU1TziyP0WLGyIfmQWVKpMLgtVJoT6E9D63lxPrTevKc5hgKraWVBUtSoLUhCmjwEIRRi+HKaeK0h/Aj/CCxUqbAswvIR4MOzOM8zy5Cs5swtwyV5ygliRoto5BEzYr6AlqZBeyeR40aNdYfMs9IhmfoT4kiZq0lGE+UbDjCART3z/P8nHiXpilJkrI81Ih2w3zQn7MBKcmDVho8p1yAEBoQ9lwuhTypcJibnrzZI3ueIIiayOw4WTI0qeosQggfk4o2xxIVAmKee4ZSOUrlJn2sFEEY278DRM0uwg/AE44mFU9p7QavxjMf60o4lJKkoyXazZLxr5UKq3Ki+52TGZ3aUV2E1YXs2H6VdIxGI1ZHkrAXloTBqgaochGZYyu0MAsQrLKBxvMUhsdXUyourSJR2jJ0Jc8hHhrwg4g8S8izMUHYIM8SK2datu92IL7Cs2FCa2Xlywwlc5TMkHmKlBlZMgRP2MVsr8gRHXtNiHxdXtMaNWpMIk9HqGyIEI3zkgUhBHmen9er4TZWa1XdtRuytRurLMsYDkeMM0HHD40Po0oMlCr8Zlr5aE+iPA/hmY2VBrRVQzxPo3XBOCqxzsU14y8rbpYICJuSSZNVgriJn44nYpSvNdoPSo+IViiZoaSsxLcU4ftorRB+QBDGE4qIO7+JdTXh2GhYd8IhsyGi5U2QjCpb/26Eo6pwOLj7rJUW3SIcDFZJc49wIh9a+i+ENUF5nofyBJ4EtI/CSHaerlwP3przmscqa+yUThp03g67IM1zUWTJmDC2CysLrUzoI43sglJV2dAaRnPj4XBkQ+YZ4+GyXYO6UFPMc8qRSuIpCVLUS7FGjYuAZDwAlQKNiXTKWgW3SiygVDf+OcJxPhU3yzJWBkMUvcL8iTO1Ow+Glnjax1MSDw+ngQoBCmXVUs8qFpUUTGVzpWWOltL4ONwGS9nNGxo/CMmSITJNyIX1iBRyiSUrRYrHbKqMupFa42hqr1mXj62oLCiXhslRwi8IXY2NgfVNqSiJkglKBeeQDbcIsywz99W6yH+eb3FCuRhdVUp1IRqJMWGwOkTRKHb+jhkbUpAjpfFS2AMCGqE1nlbGxCk8KMxUTuMo86nO3OlkQXMzxMMtSm1zlWk6JM67SD8gF4GRPe25ldK2QsaoHlqpgvHnWYrMUvI8IU/HpOMBCFEqLC6NIo3b+3wO9xo1aqwPsmSIR0kynL+sSjiqmyr387WG0bVkpEo4nGHUkY0kSVgdjvGC6eL+WlMSBZWbDY09N4Ao0izKEBGn5E74Pux9rNdiMtbJya+lIRNpskqWjRFBiMiSQsXVWiGUrJAoZWKkzJFWAc4zs7lSSuLZtLuLn1ra80mJ8mrCsRGxvn04bPWFlFCVBvM8n6hEMXctP9SfLOFwC3I8HpOmCVqbnYa2xMZXCmFVDl9L4sAjyXPIAd+qKlrgeQpPicJkOhEAHNmwxMWx/0IelJn5XuVWNsyR6ciQCD9EiNQaqgSEIHyFUiZN4uGhlSk5k3k+oW4k4xXyPMUPIqOmuCAgM5Tw8WSOKlSSejHWqLHekNJ8YDqvhSMJ56u2q8a5taWxVbj7+b6PlHKCbLjUcZpJdOCVfjS3EXE+ES83ieEyp2FkDKHwPFlJ8UIU+iilkVJVYp0sSUbu0r1pWbkic5RWZOkYmadF6th6PPHDEC2cIotJjUhzTEM0DNlIkyFZMiRqtCpGVVs+K3OEzFFCIKWwCm+NjYL1VTjQdvFRLEZHEtwia7fbXH311dx5552kaXreRegW6wtf+EKSJOGOO+6YOF6aprRaLV7zmtfwoQ/9JWceWCkXjEyRMsSXAVoIdm/bxG/80qv4D+/9H5xcHGEUDoXWZX26q00vnVR252B9IIZU5HZBZEiZTpAEmRvCkYFZhBV1o3Bwa4nnCZQ1gSr7WJOyyYoFnI4HKJnjeaIwk8o8QwY5ws8RykdJj2c68U/TlNOnTz+pxzzV3czjPf6JHPd89/luj6v+7omc93u9z9qfVb1Nj3ffJ/qYJ/PzJ3LfZrPJgQMHnvUKnFqTJq7GOBfHDhw4wMzMDJ7nkSQJR48eZXV1dULZWPt3CoKAN7zhDdx888185StfmUghj0YjpFR4arJfhks/COGjpFWPAd9XaB2ghdlUeUKgZbmx+j/e8H3cde8pPvmFw0XaxHnVzPPLyjRIVsY7bWNSnqX4QUqe2jhqamEQQoLSaBRKVYhEnpKlpp1AMlopr1Urs4mz6rRWVRW3JhwbDeuucORSkeWlIrGW+U9NTfGa17yGe++9l+FwWBhF11aoeJ7HwsICg8GAJEm45JJLuOqqq/jIRz5Cmqb0ej2e97zn0ZuaQsnTZc5RGtKR575NXUj7b46SJn8ohDBVJG43grBlWGXJSlmb7giHY/6pVSZc8y8jFco8wRPCNgZLi2OXATkqjm92PIbEaOvkzvOUdDwgS0YoleMpr5L/zMjzxP4NfTQe4hlOOMIwJEkS0jR9wo95ooTjyRCLJ3rfp/L90/H1E/39EyEDa3/3zx3jyfz73X4GsLCwQL/f59kMraSJcxXVtepDi6KIH/mRH6HdbrO8vEy/30dKyUc+8hGOHz9+TkqlaqyHcxVd1+Awlzm+2/wUN6N8ygn/m6mI05Z0eJ4olVz7e9O+R5KlCcZfJkvS4TY6Ls2b2ZhX+dcpu3lu4qjbpOGVjb+qx82zMXk6JkuGpMkqucxKwqRzS3JyhB/gWRJVxO8aGwbrXBaryXNJmhgVotpdNM9NVYXzcDjFotfrsbq6SqPRoNvtcuLEicLh/bd/+7fGqKk1W7ZsYc+ePXS7XZIk4YEHHuDXf/3Xuf/+w8g8ApWxa9scnW6PE6cHjNPUGEWlOa/xc2R4nkQpH+EJqHYaxRlHwUmRhXO7yGEaMmG6742RqWsANiTLEoIwLgmHVU9MilSjpFE4zDlcztISCpmbBjvjVZu+UegsI88SgqhhgkoeknkpIPC1Qolndtd6Ry4fe+yxi30pNdYJWmseeOABrr766ot9KRcUSiuyTBYpj7WbqjAMAfjqV7/KZz/7WTZt2sTb3vY2Dh48yMMPP1zcZ/PmzSRJwuLiYuHfcAb5NE2RUtLv95menmY0GnH85BKeTJnfPMVwDLnM8FXAbL/JYJib7wPB9vkOuYSTi8Mi7uB5dFoRm2faPHJy2SgQMifPjOqrlDHJa6UK9bWIdbnZVGXZiCwZ2VJXo/B4Ikdmqd04pQhhNkTOC+c2bK6JWDIekGeJTU+XN5nn+H6KtJ2glfIg9ybIbI1nPtY9pSKlIkmzIgfpOuxVq03AEA+tNW984xs5c+YM27dvx/M8Tp8+zR/90R+xvLzMDTfcwHA45IEHHuC6664jiiLe+ta3cscdd/CXf/mXvPvd7+atb30r/3T/cT70p79Ff3oKqRStZoN3vPdj3PVPR8myMaDJkhHZeFRJdTh1o+Lf8MrW6kbe02VJrFU4qqpGlo7IktXi1mh2DanxfTzp4+Wp9bUYYuG5ErKKK9wtuDwZkaVDpMyNrKkN4ZBZQh5EiDzEE4LcXpsQz3zm3+v1OHPmTPGa13j248SJEywvL9Pr9S72pVwwKJmT5ZLxOCFJEsIwnEinpGlaKBZpmnL27NmJkQx79+7lhhtuQClFo9HgkUce4U//9E8Zj8dFjMyyjF/91V9lYWGB1dVVpqen+a13vou//e9f5b2/9Ys8evIsv/7bH+JlL9zPr/7c9fzaO/+KMIx42xtfReALoijgkRNL/N4f/z2DYcK1L97PG17/IqRUpJkkCgOUzMjSEa7arjCuOsJh0ypZOjbxM1klTVatMmvVFU+QA0JJhPKLzRtQjoaQ0h7DeDdMesZ0bi5UGpkipYubVq3xqRWODYZ1T6lIKRmNUpJWUrQvN78yhMMpHC43CdDtdvn93/99wjDkxhtv5JJLLuHWW28tFsCXvvQlfN/nh3/4h/nt3/5tTp48WRxXKcV4uMQf/9l/5dA3HyJutPjd33gz173sCu74+n3ILAENeTYmTVYr8wXWuMVdlYpVINDY7nhVcmBIgFM40rGRB8ejFbLUBAslM7QMUJ6P9AzR8qQoqnTMNUujehRmrZzULcTcmbQyK0OadsW5UzSsyUoJ9Yz3jPq+T6/XY3Fx8WJfSo11Qp7nPPTQQzzvec+72JdywWBSoJLhKKc1HhNFUWVtK4IgQGvN5ZdfTqPR4NJLL2U4HHLrrbeS5zmvfe1rOXz4MB/72MeYmZnh53/+5zl48CC33XZbESNHoxFf+MIXuO222zh+/Di//Mu/zE/8+P/Gh//6c7zvDz/M//0bv8xrfuRF/Phrf5DPffFODn/nGL/9f/0kR46d4v0fvIlet8V/ftvr+MHv38Vnv/gtfvJfv4Db7nyQ//LfbuOl338JN7z2hSgpDeFQGlBFia0hGrnxqmVphSyMDOGwZa6uO6hGG0N7vsZ4bwmHmRU1JktWrXk0M2MinEdEZgiZIfLAxmbfxLiiyWKNjYJ1T6koJRllxuTk1A0oq1aSJAEohhFprfn85z/P3Xffjed5rKys0G63GY/Hxa5geXmZpaUlpJQcP36cM2fOFHlipRSPnXyUv7/pi/zQD/0QW7ZsQQiPbjsmS0fkuSE1TpXwbEOtYqiRKXArWHnZJ2OyS6kbsCbz6iIckI4GjIdLRX15nqdWyXB18sZDIqRvUyzlwjb5UoVSGel4tTBnKZWTZ2a+ih/EiKDSJh4jvZpzPMMZBzA1NcXZs2dRqg4czxUcOXKE/fv3E8fxxb6UCwLTEThndZjRbo0Iw7DYHEkpCYKgqL7r9/ssLCzwhS98gQceeIC5uTlmZ2c5efIkL3/5y/E8jyzLmJ+fLxQO0+RryE033cRll13GwYMHabVaTPenyNNVPnfTLbzqlS/jV268nkdPLvLnf/V5uq2I7Qsz3Hv4Uf7VD12B53mM05SdC9Nsmm4y1W3yyc8f4viJU/zNp0/z8h+41KgXyZCiqqRikHdm9WJzlaySjgckwyWEH5GOh/Y5a/wgX9Oa3KDoZeRSxqnxukmZlhuqPMHPQzvfKqAcclkOlKuxcbDuhMOUPaUMBhRSIzBhgAIYDocMBgO01gX5cItPKUWSJMUCHo1GRQpmPB4zHA7pdDqAIRx79+zgL//yDzlzdsDd9zxIFPpoJUnHq2TJCI0mTYak41WbUjEeDq9g6LYDhzfxZOw/quLaNsZTQwaM5yIZrzBcPgV4Jn1jWgBa5SJC+FFFSRHFIizL0Iy0mCUj8tyyfylNyiZZJQhCUmvKCpREyRjfN16OjYAwDOl2uywtLV3sS6mxTsiyjIceeoj9+/df7Eu5IDBjCDKG2ZDBwAxoq7bzdv2FvvrVr/LRj36U17/+9Vx//fV87nOfw/UdSpKk2HzdfPPNfOMb3yg2YFlmqjTe+c534vs+d9xxB81mE7QmG60wGq7w6PGTAKyujlleXmJutk/gC5LU9PLB87jpS3fxrfuOEvjmQ3tlZYUsdZ4NY9JM05ENWarsw+Eq8qxZPU1WSUYrpuEZ0GxPI/zAbLDSETIfTwyJMz05qpu1jDwdF304TColI01GRMnQGEU9az6tdh31bVflGhsG6974K8vGZFnKykpGFEWAcV2HoZlgOE5MPn84VqyOTOnUaDRmaWkZ3zftzZ2k6AiHc2k3Go2iCU6SJEW+85qXvIR+f5rX/cSbSDLB//Ou/0AUx6ZBTToEIB0NGK0uIfwAvxjdHJQVMi6V4vpbaGxJl2tBbg2eFf9GMhowGpwhGa3Q7m0ybD7PyPBQMkPYyY2iksLRjoxUStBKT8i4SKvkecJ4uIQfxIX3Q6kcP0gRfmjW5Hq+uE8B/X7/KRGO5eVl7rjjDnbu3Mkll1xS/DxNU+666y6OHj1Knufs2rWLK664gkajUdxHKcWRI0e4++67GQwGbN68mYMHDzI7OztxjsXFRe67777ieyEEMzMz7NixozABVjEYDPjmN7/Jo48+iu/77Nu3j0svvXRihtBzGQ899BB79uw5799uo0Pmia2ygFGSE9vNUp7nRJHZYCilSNOU5eUVPvGJT/Da176WF73oRXz843/NeDzmwQcf5OMf/zjV3hvO65ZlGdu3b2fPnj3823/7bzl06BC/8Au/wKtf/WqS8TJXX7KV63/sWj76ic/xmlf9S177Iy/iv33mywxWRxx95CR/8qFPAx5BEIDnMdvvorXmwCWbuf+Bh9m9c56ZqY7xcIyHZjy9UsWQtXJqbGp9amazhuexbe/VdKfnjeqKh1KyMIMmw2WyceJmRuDmoRivSNn0yxQM5Ei1Spq2TYy0g+jM/U2s9f2wJhwbDOs+vC23jNmLOowSSRh7NHrzNGd3Erc30dlqdj3d7f+ScWsFETQQ7Z3I5l7S0WmUNnXrg8GgKKsdjUY8+OCDdLtdfu3Xfo0777yTT33qU4DZTd133334QvDbb/8/ieIG1/zAC7j1tq+TDpeQySqg8eQAL19CS59Ug8IQDuGH+BNSHjjXNm6Sq5TIoj1vQp4a1j9aXQI8dl3+UrrT84RxyzjCtTYzUdIRyXCZJDGkpzqIDZt+Mk1xxmXZWDoiy0aFYTQIY3M90qRZgiAyRMYP2SiUI4oi2u02q6ur39Pjv/Wtb/He976Xa6+9lre+9a0AHDt2jN/5nd/hoYcemrjv/Pw873vf+4iiiNXVVd7znvdw6NChiZROp9PhjW98Iy972cuKn33iE5/g05/+9DnnXlhY4N/8m38zUXlx11138YEPfOAcb8oLX/hC3vKWt9SkA6NgHjt2jF27dl3sS3nakWVjPM+jMz2PHwQMR4OiQk9qn7ARo/Hxohn8qQMM8Pmf/3gPr7j2h/iLv/oUn/rM3/P617++MIRefvnlfPCDH+TQoUMF4Thy5Ajj8Zhf+ZVf4dixY7zyla/kxIkTCN/nN/7DW/j2PYf5z7/z++R5zhtueDWf/Yev8PG/u4kbf+Z65jdNc2ZphX+xfzf/9RM38fmb7+CWr36Dn73hlVxx2Q6e/y/2EIaCPE9JxivlHBbnuXAlrzatm6VDPCHYuuMKpud2EEbNiXip0Sg7kmGwdJLlM4+SjgbF8UwDsbLXkCpGOaSkcRvfD8uWAUqiA0M4hOcj8ydeVl/j4mPdCYfwA1q9GVq9OfpzO5hbuITO9BaiZpcgaJB6HT75hcPIYIbWVJe//+pRTgw6zO66hnQ84LO3HOZb9y4ySgWf+tSnSdOE8XjMHXfcwdvf/nYuvfRSvvWtb/Hoo4/ygQ98gPvuu4+HHz7Cv3/jL/KKV7yC4ydO8qlPf5Yd2+Z5wYF5dmyJufUrt3Jw3wx7tjaRSpEkGYNhwqkzI86urDAcajwvMNJetZLEtfytlsRmKVk6JBkNAM38jgP0N+8mbnbNuGZPVPptKLJ0xHBlkeUzxxiuLBYls+b3lv1nY+sLsVUv6QgtM5qNGOQIpdrEzS7d/gKt7izN9hRBODlJ9pmOfr/PcDh8WsrctNb8yZ/8CQ899BAveclL+LEf+7FCwv7yl79clGQfO3aMb37zm1x99dVcc801CCH49Kc/zT333MMHP/hBrrjiCqanTatoZ2Z+9atfzYEDB1hdXeX222/n0KFDvP/97+ed73wnCwsLpGnKH/zBH7C0tMSrX/1qXvrSl7KyssItt9zCY489VkjqNeCBBx5g+/btz7q/RxQ2mZrZXmwGZBYg4piphf30Nu2lMzXPzf/4GMcWO2ze+3I84XHT186yND7Jpn2v4u9uOcnDpz7DpbumkYnkox/9GLfeeitpmvLhD3+YO++8k+985zu8+c1v5gd/8AdZWlriL/7iQ+y//Armt17CzV+6jU/9988zGi7x/j/8EIuLZ2mE8Gf/5RN8+57DXPV9lxPHER//u89y85duJxkOecfv/iGvvu4a5udn+cQn/wdTvQ6nFpdIhst2TboUiIl5ufWTZdkI3w9Z2H2lIRtxiyCITCWenYbtvHth1CRudml2+px97CHOnjpKlgyL1LHMXIWfSR97WiKTZVLrUVNKEsgM6ae2T1JNODYa1pVw+EFEf9Nu+pt2smnrZXSm54mbPaK4hR9G+H7EMAv49C1H8byIIIr4wh0nTHlYy3yI3nzHcZLRFJ2tL+Gmr9zNeOk7aJWilObjH/94UW6bJAnvec97yKUiiKf50v+8kwe+c5S9u7awdWGes4tw8MBewjDk61+/k6leh+mpLlAaWNM0ZXkw5NjxMzz0yBnOrgxAhLZsFlupoormW65ELE2HeBq27HoeM5v30Gj1CMLYMHXfL0ttAaW6NFpTdKY2sXzmUU4fP8zqyim00mV+M0utwjEyxlad05/qMtWfozm9k6nNB+jNbqfR6hKETYQfmgU5YTp5ZqPZbBLHceHheSpYWVnhwQcfJI5j3vzmNzM1NQXA8573PH78x3+88Pfs2LGjIKnOS3Tw4EF+7ud+jrNnz/LII48UhMPhsssu46UvfSlaa6699lr+03/6T9x777184xvfYGFhgePHj3Pq1Cl27tzJz/zMzxT5+quuuoqlpaVnZQrhe8Xy8jInT55kYWHhYl/K04re7DbG6gx4HmHUZHpuJ9NzO2j3ZokaHYKwwS13nsD3QxotM2zt1Irmv3/lEbxomuZUi7sfTjh0z2FWzxzl7PG7WT2zjFYZf/7nf16kir/85S/zD//wD6RZjoimuf2bjyBEwAf++L+QjE3X0uPHJf/v7/+Z9UF43PylL3PnoX+k123Q6zTYu7VBELTxfZ9vf+sf+cevZawME84uDVleTZDKpZEpVFdtO4PmeULU6LKw6wqm53YSNVr4QQPfDxG+X4ymd/2KfD8w81V8Hz+ICMIGJ4/+E1Y6EfUAACAASURBVMnKijXdZ8jcqLlxKJjqdlDaY5wMij5IYdQgbLSJ4jZB2CCKWxfzpa7xJLGuhCOKW2zbexX9TbtodqaJ4rZhxKF5k/phWLb9rnTdNCqCcyr7hbEziDucPTHNmUcOkY7OnjOaHi+k059ny/w8l+/bzo7tW2i3W8RxTBgaM5dryLN2jourgW+328xMT7Fz2yzfefgE9zxwgsFQ2qFrXtHQxjD+hDxL8P2IhT3PY3Z+L3GzSxg3TTWJ8O3CN4/FAy0lvh8T2AUYxW1OHbuPU8fvM11FZW6Oa0vEGrFgpj9Pb243U1uuoNPfTtzs2Z2FKZH1/QCEzwbiG3ieR7/f59FHH33Kx3IqSZqmLC4uFoQDmPi60Whw2WWXTTy23+8XpbpO1Xg8BEHA9u3buffee4t0kEvNDAYDBoPBOeeuGxWV0Fpz//33P+sIR9zoEDUy2r05+pt2GaLR7BJGLcKwgQjCYvNhzOkeaOMR09qkH2TQMKnRsEHUnuNMe57TR/+R0fIJW5oqSbMMTUhzaidxq2/KRdG2I2fIcOUU49UlwrjJ9FSXXdvn2bFtE3OzUzQbDcIgRPjnxr48zxmOxpx8bImHj53iyLHTDIeJKUO1LcaVlLS6MyzsvpLu9BbCuIHv4k8QWh+c+3hxJlS/3AhpYNaQmSP3385odRGZ54Bkqttkqte2nhWPULfozu1nduESOr05o4b7EZ4QtHqbLs6LXON7wroSjjBqMb1pJ41WjzBqEURNgiC2voMQ4YclobAqAFqhhcBzo9u9SsMYJdGb9wE+xx+4leHwuDVvaoK4R7e/wK4d8xzYt51+f4pWqyQbrgfI4w1Mqk529H2fIPBpNmL60y3u+tZDHDt5FqU9tJaFuqFkTqM1xebtl9PftIu41SWMmuVCtMzf83xLOozT2vMDMyPa82irWdhqruGRBw+RjFdQKget6HUabNq8he7cfjqbLqPZmSVqlKQtCOKCtLGB0ikO7XabKIqeVLvz86HX67Fz507OnDnDu9/9bm688UauuOKKJyTdLy4ucvbsWeI4Psc4uhZnz57lG9/4BkKIwouwsLDAzMwMi4uLvPe97+Xf/bt/x7Zt2yZa89cocfr0aRYXF5mZmbnYl/K0IYia9GaaTM9tp9npEze6Nt41COwHsueM6ZVJ1K7UXgnfxomySVZ/4XJE2OT4/bdw9rHvmPLaxjSt7hbi1pQxj9sCjkBLk9YQAtIl9u7ewmX79zAzM02z0SCKoiL+VTdbjgwrpWg2m/S6HbYtzHLJzkW+ff8RDj/4CMl4DHh0+wts2XUF7e4sQWjN79Zw7/vma+H7tomhNqZPMEb7IMKPGoR5i3ZvjrmFfaycfRRfKGame/R6HYQQ+GGHxtRuOpv20+xtJrbqkB+UG9MgiC7Ka1zje8O6Eg7h+8RxmzBqmhSDNTiaN2dgx7OvJRzCLgTjRva1RkmFCjKCyCgC7f5W+tuuZGXlLHk6oNGeo9tfYN+uTezbs8DUVI9ms1ksNKdsuFt1gmNxrUIUtfLV32/dsplmHPG1O+/h/gceIbdlYuDR7s2xefsBuv0thHHLsv2IIIgRQWAIh3BeEFE09zLP1zbsauQ0ZEZ/8y7SdJWj99+OQNKf7jI9s5nO5itoz+ym0Z4marSKv6X7e5rF6GPKYjeQxIH5m09PT3Py5MmndBzP8/jZn/1Zfuu3foujR4/y9re/nSuvvJLXve51PP/5z594ndfiM5/5DEopdu/ezbZt2875/Ze//GWOHDnCmTNnuOuuuzh16hTXXHMNV155JQBxHHPjjTfy/ve/n7vvvpv/+B//Iy984Qu5/vrr2blz51N6Xs9GaK05fPgw/X7/u74uGwmtzgxeM6bRmjJxIGzg25Sq8ANLNgJLKs4lHBMVa4AbWtab2Y7eew1pphmNBjQ7myoKalT08fEAFWbMTLfYt3MfWzbP0G63ieP4nBjo4lsV1X4hYRgSxxH96S6z0y3u/Mb9qGCK2S17iZudSswJCgXXpEyC4jmYslqjBpuWA769b0gQNehOb2F6djskJ+l220RRTNiepzl7gPb0drNBjds2LR2ZWCp8sOersXGwrq+W5wmCKLZqhiMYlVbidpdfTGk1jwJP46HxtGnK5Qc+MneLNiQIYtpTW5jdepAzjx2h1Zli745Z9uzcTKfTPieFspZsnI9wmOs9d4CS1prp6SmuvnI/eTbm7nsO4/sRnal5Zub30urNVAhVXPgpfD8sFkuxSLQGz0jwQkkz7dUPCIKYMG4zPbeLZHURPX6UTrdPa/ZyWtM7TB44athdhZFnfRvAHGnTG6QPx1r0ej1Onz5dDKr6XrFr1y7e9a538bGPfYwvfvGLHDp0iLvuuovrrruON73pTedVO+655x4+85nPEEURN9xww3lViUOHDnHo0KGiHftLX/pSfuEXfmHieN///d/PO97xDv76r/+aO+64g1tuuYXbbruNG264gR/90R991nywPl04fvw4Kysrz5p2581OH5X4Zo36UVFmL4RfKBuiGJ9Qxh4jMCgQIDAfpr5SqCAmiJqEMqPV28z87qt57Ni9Nhaa9R/YWGAk4JypZsCehSbT091C2a2SDdd00Sm8a9Xdaimuux08sI+ZmT73HRmTiVbpEfNEEYurxAmoKCcuppvfe5Sqsh+EdKa3sHjsFHg+UW8PrbnLaXXniFs9wqhNaOOdbzennh+YdNQGVHKfy1jXV8ukLqpSYqlkOI5fFJ66XPc5sdmz3UDtQhWiUEg60wuEUYO56QY7ts7QajXPy+arBMN9vfbf6s09xqRWAtusqsOVV+xnx7Z5Wp0Z2r05Gu0p66NwhMo8V7NIQkQQFE3FSi+KuRVd9HDPyciF3f52JE3Czg7i7habhopKtcR1RXX5YE/YALAxF6IQYsL38FTQ7/e58cYbefe7380rX/lKAD73uc/x+c9//pz7nj59mg984AOMx2Ne97rXcfDgwfMe86d+6qf4vd/7PX76p3+aRqPB1772tYn+HA47duzgLW95C7/5m7/JC17wArIs48Mf/jDf/va3n5bn9mxCnuc8+OCDF/synjaEUatIMZy7sSojXflB77oYu01OuYY9S1QMcTE+r2Znht7M1vI4QuBZv4TnQb+t2Dkf0+u1aTQaRQq5uuFy8awaE6txTghRxLowDImiiEajwZbNM1y+u0s7suPisRUsYJshWrKhyk6g2jbqKrqDugo/W/WCJ2i0eoiwi4630ZzdT6PdJ2y4VHGEEEFBNtzf1I2gqLFxsM6vllcZjGYrPaDso1VRESZbh5vvzdo0bFm7xYYVChD4Qcj8/Dy7ts3QbDa+K9Gosvpq/tJ97/51X69dkGEYMj09xfddcRmdboe41au076XojOd+VrRGp9odY42iYh5o2otZMhVETdoze4i7CwXZEIFRTfAqXVHtcLlnw+55amrqaSuV9DyPLVu28Iu/+Iu85jWvAcyUzurrvby8zLve9S6OHDnCy1/+cn7iJ37icQlbv99n586dXH/99bzuda8jSRI++tGPntcM6nke+/bt421vexvPf/7zSdOUr3/960/L83q24ciRI4xGo4t9GU8L/CAoNhyOPOjK+ncRoBrrzg+34fHwhFd06vSDkEZrCk8IOzJB25kimnaYMj8NnXZjwqe2lkycLxaeb5PlbmV6JaY/1WL7bI6vh6ZDaDpGVeY8aTfZthg+aYewKWWaHyo3BVbaIW85QoTMbrmE/sIB4kbPqMRBXHg1CsI28fkhNlrWeAKX7Znl6oNm1MbFRBgIvu/yeXYuXHiFcf3poVd6C0w3TF3OD7EO6OIN6+q+tZogI25xObOzbS0DWrKp36DT6Uyw+fORjMfDE6kicAsyCAJmZ/vs3jaNwFyT1o6wuOqa8jm43h2seR5udoo9OmvntDTbfZMLduWuE+qMKEhKef36CT2PZyrCMCxKV59OONXCtYgGU0L7nve8h3vvvZdrrrmGN73pTU9YHXrVq15Fq9Xi3nvv5fDhw497vzAMufTSSwHT8KrGuUjT9JwmbRsVRXp4UrO1A8fW9LSwt+r4eacIFEqA0T2LD1nnf4gaLcajZTvyIEHoMf12SrtVppDXEofvRjLOt9E6n8IbRSH9Xkw/PotMV+xo+rGppHNNvIqJsq4rqWvuldmvc/t9jspTtJZ0p7cQt7r4YZmKLjwuRdwuidvF2FvFUcC/+peXcP11+7n+uv285hX7ePGVW5nuPvm5QP/6Ffv4meufRxhcXJVmqtvgZ19/Ja962d4Lfq71ddzY1ImmQh6UQnsK5UnDIRR4njKqwzmDfiwpsdNUrSxix8PnBHqVdkMQhsETIhmTisrkz6u/P9993UIMw5D52S6nl5ZRcto2ASvnoGgtUVoh7ERZ4XloYfO1utwJVMlV0UgsS5FZQtTs2gXoAobLXU7mS80xTIkdbOyhRtPT0ywvL5/z2jwR3H333dx+++1cf/31E427br75ZgC2b9+OEIIsy3jf+97H17/+dV7wghfw8z//8zQajSd8zk6nw4tf/GJuuukmvvjFL7Jv3z5uvvlmVlZWuO6664oW6svLy3zta18DTKqlxvnx4IMPsm/fPtNyewPDpIrtpsgSDUc2fK3QygPhmSUqNFpXvWJgUg9q4rGlylv63MKwicwSM1PJ9+m0cjrNTkE01qaIzbU9sU/px1PsHPGIoojZqYizg1OkSaNsZ2CJlhCK0vxaDriUrotoVo5pyLIE8AjjNr4fVbqUehN8jWo8Lv63vpifbfH6H728uAZ3eWdXxvzhXx3i3u9szMnXTl2/0Fj38fRKSYSShbTm3lgCUBWH9vmevJHo7PwS1/rbzjHJszGxWCUMWxUT1rlE4nw3pdTE/dcaRSd2HmsghKDVajDVOsvZdIhqtM2iysyMFCnNpESlKjseI4NYJccMSXLzAZQ0w9pknpOmQ1tTX32ZynbB5U7JtFfXnodSnpWtNrDWiKn2aLfbDAaDJ/3YxcVF/uZv/oZPfvKTXHbZZfR6PQ4fPsyJEyeYmZnhJ3/yJwEzFOv2228H4OTJk/zmb/7mxHG2bdvGL/3SL31XxePaa6/l/2fvzaMsu6ozz9+d3hxzRkTO86QpJaEJIQkkEAgzY5BpMDb2Mq6uZXtRRS2vdtfq8iq7uturXf7DrqbKxtWAy20w2I0xgy0GMUpCQlIqpUxJmcqUcp4jM+Y33Omc03+cc+69LyI0AMrIjLT2ysiY3rvv3hvv7LP3t7/97QceeICHHnqIX/qlX+LEiRN89atf5ctf/jKbN2+mXC6zb98+ZmdnufLKK7njjjt+6uv5l2Ltdptjx46xceOFz7QupFnUNg8WZI7cGjK0ztAVjpJZEAEFhNL4BissmKGh+kH6GK6L55dpNydpVH16qyWCYGFtoezcFvBhL5dwzf29DTzKpYD+6ixnmuOkfkmXkc35SUe39gIZei2lmaid6CDDDrlMoialciMTJ7NJKRYVlhLlCqTycJUuy+ikKr8Xi2WuuZ/3P3yYL/7zXmrVgDffso733b2VD/3CFfxf/88jJOnSTvYupC3+eHqRIr0UKfSbS+JkC1QPSbNkUCfjdpgnZ9l/Xhu0o5Jj0mianiCdV/u3wULxHGwQYe2lon/7/LmQZ/GYruvS0wgYP9tCpP2kaYKXxni+j0w9hKnjYq5VCgfHDiKSOeRo5YJFmiCSiLA1nbUIZ69nnBfmnFy7mE29FxdkccjcEg48+vv7abVaL4s4VKtV+vr6si6HG2+8kY9+9KP88Ic/5MiRI0gpKZfLvOlNb+Lee+/NNB+q1SqDg4MopWi32/PKHdVqNfu6p6eHvr6+rp8BbN68mSuuuIJjx44xNjbGO9/5zkxq35JJq9Uq73znO3nve9/bNTjuNZtvhw8fZu3atUsa5ch8jA00lJ1qmmfsjlJ5eRSL6GYHKJSWc8RUBx22dKt9kecHtGfPUfV7KQW1BYOMhc5tbrI19zFFvzf3OdZc16VRC3AmzxNHvYZXpp/vej5SaiEyzL3QU2EjI5BoVJnDlu6G8QPj8/P5VNLTyaTjGB0maZIqx8FFgKMu+rSodifhB48d5U03rWXZQI1q2ScxcuvLBmrcsmMlA70Vzk+2eeb5c5w8O/ui5xz4LlvWDbJtwyCNWomJ6ZDd+89y4swsANdsHWbN8l4e3XOK8SnNdxpdVufGq5bz9IFzHDs9Q7Xic9PVK1izopdmO+GFo5PsO3TezP7SVq8G3H7DGkYGa0xMd9h78PwFvUdFW+RVrcyIY4F0ExDmzal8HcFKM77YcXBEvjhVBqeJ7mE/ItHoRhwiwgmCmjcPnSgGC1ZXoxhsWFso6Ji78Bb6sAuwUvJBzJCmMb4oGegwIBf50teg0Yr8wiyqkaa5UqlII6KoSRK1qNT7KfI8pBR6McoUV/pIKfS9AkjBcfU1qsuAvV2tVqlUKi9LJrzuuuv47Gc/m21SlUqFe++9lw984ANMT0+Tpin9/f3zNrHbbruNN7zhDQsec26Q85GPfIR77703m3BsLQgCfv/3f58kyacf/8Zv/Aa/+qu/yszMDKBbfW0gvJS5NYth09PTnD17dkENlKVicwmRXS3+AEq3+DvSohua/q6My8t8l+E/KDs5uuh3zJRqAJeUaglcL1dnhoWDCztx1vpA+/1cv/divm9u0OH7HvUgYrI1qQdGmt97pgRsjqiPYxKppDBRO+zM5Fw0BVbF1CalrpuilGeuXz9OOgYlcgwKcpGtUvIJAo9OmJAIfT5XbBziN++9jno1YGyyzRv6V/Ouuzbz2S/v4cl9ZxY8zgfv2c7dt26g1YlpdRKGB2q8687N/MnnfsKh41MM9Fb5xbdtY9PaAT71+Z0EvsuvvudqNq4ZYN+hcfp6yvzOR25g45oBzo63qFZ83nPXZr754CG+8p39SKXobZT5xEdvZOOafqJY4Hsub3n9esrlxQkFFh/hMFNVbYavvMAEHS6OI5HS6WqVhZwYKoUpxRhUI5soGM6CaOG6vdnCKSqFSilJ07SrlrlQhD+3a6X4IYTo+tAjlHNSqOM4BK5eUKJUIRUa5chJnToad6UoOCCVD31LI834TvSY5k5zCiG1Q8mIZibQsKiIdJKcoKoUytMQrZKGFb/E9zbHcejv739F3QtzAwHQznRgYCD7/ufZ7B3HWfA17OvM/Z3v+xmS8lqQ8cpNKcXzzz/PypUrl2zHlZ014nq6kyxTR1YKPB8lRTch0iAfTrFcatBPTbK05VZNusw7PxKUkjQaDcrlYMGgYW6wMRfRKAYbC/nGuR/W59nPAJWyQzo7TlLpyboNpZeipc3z4EemMUkSkkQdkqhD1JklDpvUGgNZIilEiisSXOHroEP6RpMnNXuCg6MUePq8F0oeF8OWDze4eYcmi972utU0qgHffOAgnTDF911++d1X47oO/8dfPszpsSbLBqr83sdv5QNv28beg+eI4vk6Q2fOt/j03+3i6f3nSIXk+itH+dcfeh23v24Nh45P8eMnj3PzjhVct32EG65aTqNWYvvGZXzrwYMcPjHNR955JetW9fE/vrqHR548Sbnk8a9+6Xreeut6Hn/6NEdPTXPnTWvZuKaf7//kKP9w/3MM9Fb41x+6nv7exUFeFx3hEGmkI/yiM1EKpTxNFsUUAuwslYw4BVlLlVnQ0kiKR51ZfMSLLhgrYCOE6FpcdvHZGv1C0OLcgMPOa5kbgCgl8R1BO+kg0hqu55N6caFV1bTzFrpMlFIZcUoPaNMk0SQOCTvTGaqDzWikhhg9kRRKNWZDM39JR0lUoQ1vqdurJXf+mi0ds3LnLyctf6maRSJFqhMCgfElrjSlY10e0OXSHOGgy3/lbaVC2OGQCTJLtJKspNzXqGTdePnz1bxAYS6J3gYbc4n1c/1e8RjW/xUTLs91kMkMcdTRZRWlcKWfBRzKEGFTO/E67pDGHTqtCc1pMcTSvEyeIIVvZq8kGa8j4/spg2wYZdWLYVdtXsaVG4fwDKr0te8d4P4fay2ZNct7WT5c5/s/OcrZ8y1c12FyJmTPgTFuvmYFg31VTp+bz037waO6S8s1rdDPH52kEyYM9ulgQAjF//et5/hfPv56PvQLV1IqeZybbPPPPzpIKXC5dvsop881eeKZM7iuQ5JKHn7yBNdsHWb9qj6Onppmx/YRoljwte8foBOmdMImn/vKHn7v47cuyn1bdIQjTRPAgUTXLD2lUJ7EVXqyoO49h+72UMvfSLPIX6YJaRqTxiFJ1MRHdMF9cwOO4oKy0f5LtYQtVJKxg+GKC674NSQkUYtSpYHreaSubxjlLhpQ1/VHCzVKoa9D2BYxoa8pjlqkUQiOeW0l8lquSEhTXZbJ8mZDW1GeNDNn3KUObmT2asmdv2ZLxyzKMTg4uCRRDotICOFmOkGeQSB14CEK3SY5ypFfq/E79jhpbEquBY5XGmfTVX3XX7AUXEy2bMJlf7+QwvJLJWxFVDdJkmwqt1XcRbSJw1k8z0f5Aic1pFENZevjGBRXl1U6RO1ZHNdDSttpKAz6nQsYmjsDXQGZNAmqc9FKKo/uPsW3HjrEjq0jvPfNW7j1+tV8+8eHCaOUkaEaruPwppvW8obr8tJgEHg4DlRepHxRLfvcceMadmwboa+nTDnwqVb8Lp2Oo6em+dFjx3j7HRuRSvGFbzxDO0zoqZcY6Ksw6FT4z797V/Z4+9x6TU+pXtZfZWK6w2wrT+Ca7QQhFuc+LnLAoYlDogvdkF0BAIVyQ/48ZWDKJFOu0wsx0qSjNEa5C3Ms7IJbSMSruEjn9p1DN2F0LsKRpmm26Ox0WpGmWUnEdQNcN8K2sdpLcty8U8U6Jl2fNCOfk4gobCJEguM6pg3YOrAER3g4TmxPOmvm0ZCtj+MIbEvx5RJ0WLnzzLn9C7eTJ0/y7W9/m4mJCbZv387dd9+N67o88sgjPPnkk/i+z5133sm2bdtwHIdHH32U5557LgvGy+Uy9957L08//TRPPfVUdtyhoaFLRnr91KlTS1buXJc+YjD6GSpLnky3xTzxKquzYdesRnWFTDMUVyYFJDSNECLRHIjWJM7A4IIllLn+r2jFMgvM5669WMBR9HtxHBNFkV6XMiFsTWlFVL+k58S4ns7WpU4SU5NQpUlI1JkliTsE5ZpGNAx6SxLpkzAVYY1gdJe6Xdc3QdvFK6k02zHHT89w4swM/b1l3vL69dx+w2q++/CRLAZ64tnTPLn3bNfzokRw4szMvOO5jsPH3ncNN1y9gqf3j/HgzuMoBe+/e2vX43zPZXRZPXvOupV9PP70aSzP8cz5Nl/73oGu50ileOHoJGD3t4u3vhc34JCKNNEIh71kKQX50La8rqmyFhX75jdlFCFQaLhRt1W1dOaP7IL/XmzBFaN7+33xczE4UVJS7iRUZjtEgctMxUeoHOmwwYb9nBbqq0LEuEm3Q7GDlTQ6YchRIs3QmzSJTH2zrcmgSqMgVizHEz4iMcI/0tMBSCHql45hdLvukp2lspBZufPx8fGLfSoX3WZmZvjEJz7BunXr2LZtG1/84hdZv34909PT/Nmf/Rm33nore/bs4Rvf+AZ//ud/zrp167jvvvs4duxYNmDOdsr84Ac/4LHHHuPGG28EwPO8eQTCi2VCCA4ePMj1119/sU/lpzaRpqac4nYlV0pKpJviOJ4meBZnqRQ0SG1bqDSlFGk2apuQaB2LiKg9jUhC/bxCYjSX7FksKdtgooh6vFxJpfjR7e/SPOhIIiIxqwUKRRnX9WhIxa0nznPdZAtXSnYO1PjRaIOOSIg6s4g0xg/KmUqpnaCdoxlOl39TUuCY2VG2uUDJn2/m0s9rSsEPHzvGHTes4bbrV/PA48cZn2ojlUIIxePPnH5FxymXPK6/cpSDxyb5b198AiEU9WrAO9+0qetxN1y1nGu3jfDo7lOsX9XH3beu5ye7T3Juos3UbITnOjz9/DnCaOHkbHImZPmyOv09ZaZmdXA3MlgjCF4dZeeXs0VHONIkxMSuuFLXM6UNNLqErUyLlKkB2pJDRhyVgihsEscdhEiJRTyPX2GJokUdBbvY7NfFnxdrmn6UcMWjR7ll12kGpmPCSsDeLf388I51dKpeV4QfhiFRFNHpRKQYnkUak2aKg+i6putlqIQyUb9td9OBhUY30iRCCh2YdUGojp4Cq/vVde1XYIYtuQmOV5wvYHkjl4f19fUxNTX1cw91uxRtz+7dJEnC6OgoAwMDVGu1F33skSNHOH36NJ/5zGeyWTEArVaLv/3bv6VUKjE+Ps4HP/hBnnvuOdatWwfoTp5PfOITQPf7fvv27fzbf/tvu35+qZBcjx07xtatW6nX6xf7VH4q0zo8cb6Jm4TJc3094dRNkSKX6aZAkAebZ6mCQmdqkIFcuyIO24RhM/MhRSRibuJlgwrdPeLNS7oWCjAXQjgsklv0fdrvdYjjiFSEJHGIEClDieBjzx7j/RMRZVPzfdupCa49GfCfN/WRJvpxlp+SpnHuuxwXJ8nL68py+KTE81OUTLPHXiyEo2inzzU5cGSCqzYPs3ntAPuPTHDqbJObd6zk0IkpnjlwDqkUq0Z7WDnS4FsPHpp3DCkVQir6e8qMDtVRCt7xxk30NnIF076eMr/09iuYbcV84Z+eYfO6QX7nIzfwy++6ij/768fZ+ewZ3vaGDfxP77iSbz90iDBKGeircPWWYX7w6FFmWzFPPHuG99+9lQ+/6yr+6YcvMDpUX1S104sQcEQZJ0OPa/bQc0ecrlrdXHKTrmcKA7/prD/uNEnjCCkFsejmVxTFb4pQvOd52Zu0+GbtcrJCsv4H+7jz8VMMSF37qrYFt+4+g5xp8fW3biB0ZNeiC8OQMIxQZeMoZIojUtIkNvXLJIMZ89a3vNdeSUEShyRRC2mQEqUUSRJmI6Adw/9wkjxgUkrhOinS9XCFlzuxy4Q0ak0P3OuK1AAAIABJREFUzOthamrqYp/Kq279/f186r/8F6SUVKtV+gcGWLVqFStWrmT9+vWsLqiTjoyMUK1W+a//9b/ym7/5m4yOjgJkm7JSWlNEKZWprAJEUZTdu0qlQrlczh5vg7iXUuW9GBbHMUeOHHnRQXqXqqVJRJKEpjvNcsY8pKtF/LKSis3gbcDhGH58pkIsTKKVmhJKSBLp+SVRZwZpeBxJ0k1iT9O0S9bccZx5/I2FVEgXSsCKZNE4jgnDsCvRsh9xHCEcje46QnDDC8e4Y6JFmTx4LuFwz1SHHx8P+epQkJWerAy6Ff4qhrsZ315ZWYQSriczVdPFRjjsuRW3CykVP951gqu3DHPLjpXsPXiev/n60/za+3fwy++6ijBOUUqjGC8cncwCjuJ1xqng+z85yttu28D/9j/fhuPAbCtmciZEaZ1I3n3nZvp6yvy/X3uGZjvh6QPneOq5s1x/xSg3XbOCbz5wkJXDDW67fhU371hBmkrKJZ9WJ+HHu04A8KPHj3HlpiFuvGoF124bwXUcdu07w/YNQyxGgrroSqO6S8UwsD3zJstKKnqjzJ1eofaZRfGJJowmHeKwiUxjpFLEiSCKoizosAHHS7XBFn9eNP/8DOueOkpNdt8eF9h2ZJzGgQpj6/pIzMLrdDpaOKrToVxSWUuc1fxU0tRt00KHirkfRSnzJGppyFRqrkqaRqRJGRFUNETrujiOZYha8R+BnhrrIk2g4bgu6tJIUl9V6+/vZ3p6+pLJwF8tW7N2LXe86U189zvfIUkSZmZmOGbmimzavJnf+p3fyd6zo6Oj/If/8B/40z/9Ux566CHuvfdefuVXfoUg0IGxlJK///u/Z+3atV0b9Xe+8x0efPBBQGuKfOhDHwJg165dfPKTnwRgx44d/MZv/MaLnufM9DRP7trFG26/fdGEuQ4ePMj27dtftWF+i2FpqlGIDNnwS3rcu+PqpKCI5hbLBhaVVEYoS0qU0PNIRBoRRy2SuE0cNomjdrZRW79XJHamadqFYkB3sFFEfuc+xn62/tKWkG1w0W636XQ6XQFHGEYIX4t5BVKxZnIahY9EYinz6EIy2yebqHKAkAlJEhKkMW4SmTK2wPOlPZk8KTMdisK023omeZNycXldZ8+3+NQXdnJ6rLvL5Im9Z/jU53cyOaNLXM8fneSP/vJh1q/uZ2SwhhCKs+NNjpyczp7zlfv3U68GJIlEKfjKd/az+7kxVo/2EMYpe184z/BgDWFEux7dc4rd+8fYd0iXloWQ/M3XnuGRp05yaqzJTDPiU5/fyfpVfSwfbhD4LhPTHY6cnGbalE9mmhH/99/s5Ootw/Q2ypwdb7Hv4Hm2bRii2b7wnYAXBeGQUuCkiQkKAjzfx8nG1ucIh3lS3ocuZdaLrhdfx9Q0E9JY0G63qdVq2ZTELoTEwIM2ECnaXDVSf2wCL4oIcSkh88ABSaQSoqOnOF9P8Mw8jna7TavVohMmlHo0t8QSRaUJCDwTWBV5KUV+ihT6mmy7rzQclTSOSEsxfhprFCjjg+TdOnbOiuXC2PrnZVRRATTZsdFoMDs7e7FP5VU1x3G455572LN7N2Nnu0lmQ0NDmTiTfexdd93FTTfdxNe//nX++3//71QqFT7ykY8AcN9993H//ffzx3/8x10D8N7xjnfwW7/1WwBdm/e6dev45V/+5ey1XsxmZmb4wuc/z7mxMaZnZnjnu961KGhIGIYcOXKETZs2vfyDLxGzs0LIyO2J2SCtH3Cz5CHvyAO7YLsQ3TTNOBxJ3CaO2oSd2czvJXFEu93Kyh1BEJAkyYLE+Lll47kyAfYx0K1jVEQ3bHJVDDg6nQ6tVptSw5DmU0EsE6ZQVHGpoVHdDoJTxJxO20xNNAldqPcOk5Y1CqKkxA/KebDjFWZMSYn0BZ6neWqp5+O5HnKREY4wTucRQQHSVPLkvu6ftzoJzz5/jmdf5FiHT3SjtVIpnj86wfNH83ks080o+/p5Q/ws2nQz4olncyGxVEheODbJC8fmP9ZaJ0rncUsWS210XsBx7tw5zp8/z/bt23Ech9nZWarV6oIZjVKKZ599lhUrVryinnklJUnUwvUCDTF6Pp6nFUazxdiFbgBWndR0aVgILg51wBGbnu4oimm2FPV6J5uUWDxPu4CKg42KViRauWnKDIJJUhygjIdC0URwnJDzYcK5MZVNo+10OkxPz5AKjThYwphSuuboegFSGBTHtKxqefK8nGIhU5u1SPMz3fUSmlkFJpDAwVMGbjX3zfUCHM/L0A51saYbXWDr7++/7AIOgE4YohaoRy9btqzre7shNBoNPvzhD/PUU0/x3HPPAXo2zKc//Wk++clPsmPHjq7neZ7XVUYpHv+mm26a9/OiSSn55j//cxYMPfnEEwwPD3PL61//s1zqT20HDx5k3bp1S0bu3M4K0Rt2jOfFCC/QfsAQHm2CkHfl0YV4CpEWdDi0oGActQjbM0SdJmnS0W2maUyr1SKKIsrlMkmSZH7JJl1Fomhxenb+si9dSknTtCu4sB+WuxZFEWEUE9QEaRzR6MS0ZMJxJAmKEi4xkikEh4l4zA2Jzcvr0pJrOk5SbPVbSYnyzfBLcy88mer753k4IkF6/qIHHK/Zz2ddK1hKyZ/+6Z8ihOCP/uiPiKKI973vffybf/NveM973jPvyUop/vIv/5Jly5bxH//jf3zZF5NKEkdtnfH7dgGmGQlSGD6HYQqZz4XpqWbhpXFEFLW0PG6khWSSNGZ2NqJeq1IqlTLntJAIjl2M9vdAF7s76a/yQs2hpx3SIaCES4TkHAlPOCH7SmWazWYX+3tmZhYn6EOkSa4uaOBA18tJTpZdbeHW4mTY1Eibp0mcKanGURvfL2sRHafQIuwHBtHwkX5Jq/N5vpna6F12ZQdrtVqNarX6itRHl4qFnQ5//bnPce7cuXm/WzY83PX9/fffz9GjR3nDG97A9PQ0e/fu5cMf/jDPPvss/+k//SfuuusuRkdH2b17N729vWzYsAHQYlrPPPMMoCH07du3v+Lzc12XN7/lLZw4cYJZI9f+g+99j+XLl7Nu/fqf8apfuU1NTXHmzBlWr159wV/r1TDLxRKuj+eXEH5i+GoBwrVrdA5BnpzXVZwRpTvUzMCzOCTuzJIU0V2R0gkT2u0OlUqlK6GaW062/LWFuDoLtcLaYCNJdNnGIhutVgvf91m7di2Dg4Okacq+555nbDJicyfmI0cnmBGCJ4lZSUKAwyyS4z4cGRpkZuvt3DS8mnrvMOVKA9cLAL03RO1ZWjNjtGcnECIx52U6+ZTEkxJP6vtng7LXbOlYV8Bx+PBhnnrqKX73d383YzPbN+BC5roub3/72/n0pz/N8ePHX3b0tiZGdvC8AKUkTpqQuq7ZKL18IUJhc5VdpRQlBVJp4RzPD3BdHz+o6IUdN5ltdgiCZldAoZTC9/1sIdmAozhXoNgCJn2HZ3esJN11lDVxQhWXDpKjvuJHgz5nvJQ01LobtsbZCWN6aiWESDKBGhtUuKnbTea0vxYCpVJcBK6MCFREECRUPRBJiTCoEcUJadLGiTT8qoRAiAA30UGb5wVImWaBhi2rSHU54hvaBgYGLpuAQ0rJN77+dQ4ePJj9zPO8LJidixxu2LCBr33ta3zrW9/C8zzuuece3v/+93P//fczPDzMvn372LdvHwBXX301v/d7v8eaNWv44Q9/yJ/8yZ8AmoD7F3/xFwwODmbcj5ez4ZERfvGDH+RLX/hCxhn41je/ya/9+q9TKpdf/gA/px04cIBVq1ZdUqTWF7Mk6RBHbb02hdDt7K5JCEwpwDG+DnIsV5pgQxkVUs8vU6724gflzKeErUnOnXqB1vSY0f2Jcf0qs8021Wqli7s2t6Q8V5NoIX5bUWeoGHDkpZMWlUqFa6+9lvXr11OtVhFCsGbNWk6dPsPoiUmcw+PsDyT7Byr0tWI8r0K8Yj1i6w5Kq7eyoW8EPyjn81bm+EuRRITtaaYnTjI5dpSwPZ0NsJNegAzKxs+52fTd12xpWFfA8ZOf/ATHcbK+/Lm2UI/+DTfcgFKKxx9//GUDDj8oUa0PaP5F1Dawop8RRp1CX7qyI5pFilQS3w+oNgao9wxRrvbgur6GGE0/t9awaBK1p2iF03izzeyciwvKIhLFssrcFrI0TZkebjB2zSijY00apydJREpyzRbW3HwlztgsZ8YjolBfx8T5k3iB0iiNVVJFw4KO6+JZ6NSw0bUeh6RWdhjsqzLQ10O1EqCkpN3pEEVR1oYWhiFT001m2iFRCLIk8aUu09hsyEndTMfE9XxcxzXzVy5Pq9frlMtloih6+Qdf4vbsM8/wyMMPZ9+vW7+e191wA1/7x3/EcRyG5pRUtmzZwqc+9Sk6nQ6+72cBw7vf/W7e/e53d5H+rH384x/n4x//+LzfffSjH/2pkLD169fzxjvv5P5vfxuAc2Nj7Ny5kzfcdtvPcOU/nY2Pj3Pu3DlGRkYu+Gv93KZkJlIoRIqbehmHy/MCjeS6BY6Z1MgGjkO50qDWP0q1PkCl2sAzmyvk3I6evuVMjB2m3ZygOT1G2JpmthVSqzYzhCM7lYLfsyWVuSVlG2jM7XSxBHzbkdJut0mShE2bNjEyMkK5XM78aRD4BL7L/krC41uqhPV+ZN8gTWeQnuEt9Iysp1brJyhVtTCYbzl7c3gmUiJLVUrlOrXGEP3L1jI5doTzpw6QxB2klyBlguuVcT0PpV4LOJaSdQUcjz76KFu3bp2n7jc9Pc1nPvMZ9u7dy6pVq/jFX/zFDKpdvnw5q1at4rHHHuP973//S2Yg9d4Rrrvjw3Sak0yeO8r508/TmjlnApmCAI7V4FASzy/RMzBK7+Bq6j2DWljGL+P7JRzXJU0imjPn6DQnSaMOcc8wUXuKZku3sNoFZ4mkRTJV0QEX2dhxHBMl0LdmBcGtKzj9xLNwfhp/03J2bNnMxi0Oz59UzMhhXM8nbM8yO3maybGjTJw9RGT64zVy4+qZJ6an3HGgXnYYGaqzbLCPnp4G5XI55504Lq12zNRsTKpKSKfKsHLphBHNZps4jui0JhGpnkugW2Vzfoidz2C7YC5Hs3LnZ8/OJ28tJYuiiH/48peztu2+vj5+5Vd/laFlyziwfz/Hjh5dUIPCcRxqRqvj5ymdWYTvpznGzbfcwvMHDnDk8GGUUvzk4Ye5/vrrX1I75NUwKSUHDhxgeHj4kkc5rn79B1h2ZoyZiZPMTJ6mOXOeJA61v3IiExBoP6TQvq/WGKR3cAX13hHKtR69MXulrNxcTMLK1R5cv8Ts5Ckq9X5a0+eYmTjJ9EyLUqmEVeC0gYP1fcVgww5ymy9drkiFIE1t0BEThR3CUPM2qtUq9XodIbq7AjudDqdPn+bAgQP4jRKNgTVUBrYxOLSWar2foFTTSHRQMsi0JbgXBtgVO3Q8Xwclnk+pXKPWM8SZo8/QnDmLEAmuF+O6vlYnfc2WjGUBR5qmHD58mLe+9a3zHvSlL32JVatWsW3bNh588EF27tzJpz/9afr6+gAN8+7cuXNBBKRorudT711Gtd5P7+BKRtdcyblTBzh5cCetmXEylTmzCOt9wwyNbqTRP0q52mPetGWzEPUbtlRpUK3302lNMzt5mrA9TRBUCEtVOrNnSaen6amllMull6xvCiE0EzsBtzxCdWg5y/o71Go1OldsZHZ2ltHVqyiVSkgpWdZokoQeTnmAcrWPnv7lDK+6gvbMGGeOPcOZY88SR20TZOiMI/Aclg1WGR3up6+vl1qtRqVS0U7C9YlElbbsIy334ldrlLwyrl8Yca8UUumyVNSeYfLcMSbPHWF28gxxksuoO4C8PGONzHp6epa83PkDP/oRE0Y91XEc3vWe9zA8MoJSine/973809e/fpHPcL75vs9db34z/+Nzn8NqfuzZvZtbbr3ww5+Witz54Mh6KI8yvHo7SdRmduoMZ4/vZfz0C0RhszAN26FS76V/2Rr6hlZTqfVRqtTwg2qmvWMRYJ2EgVICzy+zbMUmTaQ0ypue5zM7eYLJqZksmSoGHUVdDiD/nVCkKsDxe3CCHpyghuOV8N0AH4Uft3FaU6STJ5Ghltu2nXmWF5IkCePj47TbbYRUVOprqI1cR6N/lFK1N/fbge5InI9q24ADQIGUhXZh/fOe/uW4XsCZo3uYOncMkcTgOEZC/jVbKpYFHFNTU0RRtCBkedVVV/EHf/AHNBoNbrrpJv7wD/+QRx55hLe//e2A1gawzv/FRniD3nj9oILyBa4X6BplpYe+wZUcO/Aop4/sJk1jPDdgYHQ9g6MbqfUMUa7oYCMoVXC9Er4fdGX1AEGpSrnWy8z4CVoz53XHhhfQnikxPj1GvRJRLuUohzUb5cdJgnR7qA5dQWNgLWWnie+19fUtH2XV6lVZgCWEANkh7ZyjVBnC88paeMvzddmoMcjAyAaO7n+E8TOHQEkqZZfRoT6Gl/VnqEapVMLzAtpJlaYYIPH68Uo6uyl5JdMuXGx1BZSiXOmh1hiib3AVy9ddw8TZg5x4YSfTEycNqmFnDFy+UYfneUta7rzZbPKQ0cUArbdxo+kWAY0cvud977sYp/aytmbtWtavX8/hw3o65tN79vC6G2+84F0kFuV4sZLvpWJ+qUJQdvCVIChVKFd76B1YyfDKbRzb/wjjZw4iREqjb4TBkQ30DKygUuslqNTwS1WCoILnlzNum9UnAoWSHo4rcd1+BkbW65KCY8XQYXbiGFPTM/NQ26Lfk1KRSgfpDxDUV1LpWU65NkBQrmfIsZ4Bo7L2/LA1SfnUfiZP7GRmZoZKpUIU6SQnjmMmJiZoNltU+zcwuPp11HqHCco1TXj3gozQbrkXti3YdbsDC91NAxLQIz8USpVRKGqNAZavu5o07jAxdkQnimlyMf7Er9nPaJmHaLV0+aFarc570G233Zb19N9www2Uy2WOHz+e/d4+p9PpvEzA4eD5AXrSn4lwXYfewVVs3vEWSpUGxw88Ss/gCvqG1lCuNgiCMn5gBgK5JmDwdCso9hjorbXq+fj+RvygzOzUmQwZaDseU62zlDpNKiUf38/rp5orIXBrK+lbfjX1vlHKlQaETUQqsq6WUqmU1TmjKKLZbBJ1AoI+iRsY4S0pcA0PpX94HaVynXL1UcZPPMXIUJ3+vp6MSR4EPkIFTLV6CN1hgkofQblmnE0JLwiy9uGueSxa41fXh/0ANyhRKtfoG1zNqSN7OHbgEcLW9GUznv6lrK+vj8nJyUtC3vintd1PPcXkhO63932ft//CL8zThxkxaMelaDfefDNHjminPzY2xtjZs6xcterln/hz2vHjx7nqqqsW9FOXinl+gO+bjhPXzzbboeUlao1BTh7axfnTL9A3tIpyrc+gGSUzI8Q3G7GXBxyOY9pn9Yh7V0qE41DvXUYUzprWeuMTREJr8gRycpqenpRyuYzv53IDUjpQHqG+bCs9/auo1LTfKSLHWcBR0Ajyg4ruKkxDzp47gpSSer2O4zhEUcT4+DihrNO/YgeVej9+qaIHuWUNAQUV5OIMmSKRXtm8ytVBh1T6XngSTwZIQ6IdXXsVzZnzzEycMiMgXrOlYlnAYclnSTL/D1gsk1jiUdHJ2+e8kgzHdX1D9ClsiEpRqfayZstNVOt9tGYnCEoVoy/h5W/QLCr2wMkjZexWrByCUoW+oTW4no9SJ3Qft0yRStGeOUOnM005gCDwTSlFUepdR9/ya6j1DlMq13D9EsrvoTMbUYuirGMnDEOklHQ6Hc6fnyApDeN6pharHFyzeHx0R061McCaLTfRqPp48QmCIMhKOlEaMB32IYMhyqU6fqmC75dw/UB/2KzAKSzU7HaZEddZpqA/1m65mXK1zgu7v4dfruWoyGVqSZJcshvyS5pSPP7oo9m3a9auZdPmzRfxhH56W7d+fSbCJqXk8OHDixJwVKvVV9xZc7HMBgs5N01zNgCcHofVm2+k0TdCuzlhlJaLo+rt1GztT7rLDqCUk0kR+qpET/9y4k4TkSYEaY1aYwCRRDSnTpGmU9TrWgjRcRwcr0Zj5Ep6h7dS6xmiVGkQlKsZCmER1eIsJikFSuggyAFWbrqJsWNlTpx9jnppCt/3CMOQZjulsXwb5VqvmRarxRyt3864Gk5e0s72FduWaDNHU1rPRSBz3RLPC6jU+hldcyXt2XH8oLKof9u5tnX9IKuX98z7+fhUh93PjV2EM7q0LYsQenp6cF2Xycn5CmVFct7JkyfpdDrZDAfQ5ZhSqZRNoXxRy95kHjqZ88AQoTxfUio3GFy+Cc8rGeKlrjP6RpXTynZbAqb5z0h5m4HsjsLzA3r6l+M4LhNnDyOSmHK1jkgHaU2ntGcm8J1ZPM+jMbiRvuVXUakPUCpX85kl5QFaE1XcySnDwg5QSpmZFNNMzCp61w7iehrRcVwXRykcx0cpmbXAlco1GsPbiCclOFqWOxY+zbQfp9xHycCntk/fBlmu6+E6npk1013n1LwTO/a6WP+EkdVXUirXmBw73vXzy9EmJyeXZMBx7vx5Tpw4kX1/y+tfPw/duNStVquxctUq9hvRsWNHj3Lb7bdf8NfdsmXLJS8AlgcZCrQkDx4KVGCSqx76lq3GcV09NTWJkUGC9FOUb0qhSg+udJQy46UcwwF3cB0HaTbhcqVBo2+EOGzi+2WCUo1qvV9zR6ZPE4YTVKtVar2jLFt9A/0jG6nU+ymV6/ilapbkzOOLABhOngA8pfBLFaoMMrL2Os77VcaO7iKcOU4cdRhcfR2VxnBeCnKMwJjtiDFBxXyP1O2/XuKuGrKrh+cH9A6uZOWGa/H8ixd8uq7D++/eyrYN80Uvnz868VrAsYB1BRzLli3jqJnhULSvfOUrlEolduzYwV/91V9Rq9W4tUASO3LkCOvXr39FTjOP1F0cR+VvStfF83yCoEq9b5kWtolDXC/A9wOE75tyjM4c7EAfO4U9m0/iuDiOxHE8aj1DWr0uCUniNkG5SqnSQxKHzDSb9PQto3d0O+VqLyWDqOjWNR9cn/LQNUycfoxm8zSVShkpJe1OSDN0qAxdQ71veXY9+XyUHCa0kKHvl4jKy2m3WjguRKIXr1annC32UqFe682DIHOWukZydBOPq+ucmPvg+Si/RFCq0Du4CoW74PK+XCyKIlqt1sU+jZ/JDh08mLX0VioVrrjiiot8Rj+brVmzJgs4xs6eveDBX61WY+3atRf0NV4V62r1dHFdhVSae6G5ZSWCUo1aY5A0ibQYolELdj278QtdOlUu+Tgz89m2u6H9S7UxQGm6obU//BJ+UKZc7SEKm7RmzuGWSqxddwu9Q2spVXuMblE5Uyj2vADPtWhy90gIlIOndCnH98uauF5pMDiyAcf1OLovRooZ6v2rddDi5AnSSzUQaPSncE35b7LPJtYq3Fdz3Y6L55do9C/X4yIuojmOw0wz4j9/9ic023l1IE2XXpl3MawrVbj66qvZtWtXxmp2HAfP83j729/ON77xDT7/+c/T29vLv/t3/y4jl7ZaLY4ePcodd9zxsu1qpv9E/++QRewarLCBh4dfqlKp9zEzcRovKJEmJbwgQXgJjqOjZ2VayxxFRppyHAdcF6Vcw6lwKVd76elfThS2cKMWQalMUKoiKv0MrdTIhiajWiKquSWOQ1AbpjJyExMnniSdmQQUymtQH9xI/+hWSuW6Di4KAj4FkeBcAwQHxy3Tlr3EHUmpp4bveuhsxbaqFZUHLaRpnYpjHqtfxYqwZhCl64LU1+x6AX5QptYYuKwBjqmpqSWJbgAZ2RJg+YoV9Boy8lKzogpqFEW0Wy1qF3CU/MaNGy/5cgrYZedkG6pSToZSOI6L6+ksPShXqdT6mJk4ZRSFS0bMz0d4evqzi4Ny9EcR4SxuzK7rUan3054dx3VM6cEv4QcVqj3DrNx0E/X+FYbEafhw2RgEQ0p1C6XrLIkyJRylcD09isGVviHHl6k1Bqn3DZvyTD3nmxTuQmbFGVJK4Th5O/ZcN5W1amct2+bDJJq2gyUoVQlKF5/Lo5Se7DrbWrhj5trtIySJ5PDJKW66egV9PWWOnJxm78FxhOgOTDat6WfbhiEUcOzUNM8dGs+Gt9WqAddfMcr+w+OsGG6wac0AB45OsPeF83iew9Vbhlk92ksqZDasbWo2ZGKqw7aNQ+w7eJ7zk7lgYk+9xHXbR3n+6ARnzi9O8tYVcNxxxx18//vfZ+/evezYsYNarcZ9991HEAT89m//NtPT09kwKWv79u1jdnaW216B+E/e9FqUiLBf5JurbXf1/ICoPasXT1LS8whcvRgd6WaLUaMKdmaALIh9SVBQqffRN7BCT1l0W3h+QN/QShp9ozrYsKp/GU/CQSlJHDYRUlIf3o5ME4JynXK1gV+qUirXCrVIS1yV3edg5qTYD0kJZVnbC0zIzeBH2zbnWKelfzSXCOrY6ycP2LTD0Q7hcrUkSZbsPBUpJWdOncq+X7NmTcYRWmrW19+ffS2lpNVuX7CAo1wuL6kBbi9qdr2ik4NSuUZQrhK1Z/CDEq5fypIfx/HwDb6hANegqMXN2H6Uqw2CSo2wM6v9rOPgB2WGlm9iYGSdJqNnvLACcupa/5X73+7E0fAnlKd5Y45reGVatr3WGNLiZq7fxRlThUF0SukyUe6THaS0eZrmv9lbU/TduS/PfXoWfNjyinfpB6AfeOt2fN/FdR0G+zTtwPdcHtx5nL/6xz2A/tt+8J7tvPW2DXTChDSV9PWUefrAOf78i7uIE8HoUJ2Pve8aDh2fYsv6QRxg9/4xDh2f4rc+/Dqu2ryM8akO9VqJatlHCMX+I+N89+Ej/Nr7ruGhJ07wP/5xT7bj3nnzOt5/91Y+/aVdFyfguO6661i5ciXf+973uOaaa3AcJ+s6KZVKDM+Z66CU4rvf/S5r1qzhmmuueUUvaN/BrcEEAAAgAElEQVR8ebSr35wqW1YA+s1UrvYwff44pUqN1JYdvABX+EhHIwSOsMQj176A1qEw3BAcza8o13qp9y4jbE3juB713hH8oELWLdOVQUjiUE9udRyPoFSDEgTlGpVqL67nZaxti26owoJSUk85lMoMZUs6hJ0ZM6q6rLOYTG1vruy5EQhb4N5ZaFXlr0i+tO2DbPDis/BRlr5NT0/r1uQlaEKILp7USIELtdSsUpA0V0qRxBdOE2HNmjWXdGdK0YqToLNNMgMkbFkEg3b4lCs9dJpTxGEL3/gH2z4qHAcPPUlUWcFCMF0phhAvNQlfI65OFoxU6v30Da7C9yuZCGHR3zmWrFn4lFuO1+aIq/2Vk70OKPygpAMkcj+IMv5Xyexr5UidIEkHXJASHCcniKoCCpIHHEIrsUr9fTbZ297bS4AYXyn7vPPOzcSx9klKwTcfPEgY5RpBy5fVeeHoJH/+t0+QCsknPnoTN+9YyTcfPMiZ8y2u2DzEPbdv4PFnzvCl+/aSppJ33bmJt922kddfu4oHdh7LjrVl/SDf/8kRfvjYMQLf5eotw1y1eRn3/egg33zwEAN9Ff7X37yVsfEWn/7SLqSE85Mdrt0+QqXi0wlTXNfhxquWE0Ype/bPn+F0oayLdNFoNPjYxz5GrVZ7RQ5dKUWtVuPXf/3Xs0mUL/ME7HwUOy21yMeYC5/5vj5mHLb0oKIkNtNi9cRYKVOEGX5mF56SBYSD/I2vjH5FudrAD0qUKrVsloEF9vJW2RgNVfpZcOAFJXxTH/VNtuA4jl41pk3VzkEoDmBKk5gk6hBHTVPyyCV9M86GaXvtzhD0/93wYtGZ5X8DVO7gcifx8n+OpWhSSqanpy/2afzMJqXs4p70LdFyCsDcEuqFQmk8z2PzEuriKSIPuS+S3cGHLSc4Tsa7iDqzJElIGod6XEPm61KUTM2oeoFKU5RIEcbHSClQSuAbGXTrY2uNQfxSxQQDtrU2h0wN7kBWriic+1zfY31Ops4MCJGSJKFp5dX+ay5CoXWORDYVWwcMBdQ3+5yaFlz7O/s8WXiMMM81+0d2JhfXSoHH7a9bzV03r9Mft6ylVulGXlqdhE99YSfHTs9waqzJw0+doBS4DPXrIPrWa1cjpOIr9z/H1ExIsx3zrYcOEyeCKzd1k1IPHB7nS/ft5eTZWY6cnGb5sjpCKp7Ye4Z2mHBqrMnJs7P0NsqEkaAdJjz13Fl6G2Wu3KRHJaxZ3svy4QZPPXeWMF488cR5dO83v/nNvPnNb35FT3Zdl0984hM/1QvaN4w0JQepBHaqalc5BHBcB79UJWxPU6o28NISXhobuV8n54F4Pm7m7JzsDYqyfeQpUiQoFEG5rpXv/LKO3B1wMthP6pqaImM/W/VUhSIo1TSEV1hc5kFZH7w0jkCIFJFEiDQiCpskUYhfr+RaGpgyCDn/IzuWUjhKGqhRoWVwimzuOVlAMavIzumn+rMsGZuenl7S6qJKqayN3HGcVxaoX6IWFxANDeFfGHh71apVl7y6aNHsiHn7tZISZLE0kGfpusvOISiV9XiGOCQxPAurh6FjAk1oRzkFf5OYKddpprjp+SV0l1ygJ7G6HvYQXf/b15cK5ealDlO8Mb6ngCZk/llmzxVplKErhQNn1y+lwJECR+Y6Qi4YAq3S5H5TFs6Jqvo/hR3aqYMraYMSIZEqzfztpeDnZpoRf/jfHmK2na+HudyMMEq7OB5TM6GuIAQ+jgOjy2r4nsu//803ZD7ccRwC36Wn0a1tdeDIBELkF35uoo3nOtx49QrOT3YYHaqzdkUvR05Ok5rzePjJk7zl9et5/XWr2LX3DK+7cjme6/DIU6dYTFvU/jKrfmcXocxgwe6go/gu8jyfdtwhjSN8v4xIoizgAAfPw2hweIXXyRGGPHLWXydR25QxvCxosDCdksLUSs2CczRR0/7M9f2Mh5JF/SiUmBts6JHSaRqTJjGd5gQ4mN70bmgy8ydKaaQElY2QttCjUgtPd7TISjFYy1CkC/3HvAi21NGNhWwp/52azWb2teO6F6Tk4TgOW7ZseVlC+qVkWvtH2G+w5dXutSpzFBZwXB+pBHHUwg/KpH5oWuLzNe96prNDqWyyrJQpMtWTtEWa4HoeUqRGOLDo3m2gY87DtQizOadMectFOTlbzPpHqSRKpCbB0clZmoRmhoK9RmnAkrzc40jXlL3NnCx0q6+jrAiY5Y4UijiF/cH6biESMzHWfDbXfqlwn4SU84KMl7Js9IQpa7mOQ5IIvvPjQ0Rxd3Xh+JmZlzzW1GyEkIp7bt/Irdeuolr1SVPJ13/wfPaYk2OzHD01zdZ1gywbqPG6K0cZn+rwwtGJV3zOr4YtckO7Qpk3iYXWpBAoYYOO+YQhx/VIk4g07iDKVdI0wkkMwpGF7gpHChNF60ViN32RJkiRmLHHMVFnxuh2FOqLSuo3sePgeH43mODo1/C8wMTnOuSwip/29aWZDCmFfj2NbiQkcZuwPUu13qc1Piy8CVmpJwsSpD4P1wMpNALqGoKUXlfOnHuZw405BJkHb0t7O5tvrVZryU+IdRyHUrlM2OmglCLsdF7+SZeonT9/Pvva97xMjfjVtGXLljE0NF/n4FI2WxYoIpF5hp5m61RmCUOOlMadJuVKnTQOzJRY4ytQKCUyroNNqoRIdJk5iUnTKCt7WD2hYglb+whTnpEejvTASc1LK1wjVYBT3DiNr7bj4TNfI0njyJSK7HXokgfZ62n/7hQcqkZvFa7MBc6s37bXqREVPTcqSxytb5VpVzKJeuWb/KVqSinOT3ZYu7KPPfvPcXLspyPE37JjJWkq+cyXd7NsoEqrk7Dv4DgT07lvSVPJY3tO8aF3XMk9t29k1WgP3/nxYTrR4qLFi45wCJHmaIIsROk2Yi1soMWySJJElFLdGuu6+aAyjQ5IMkU7HJS0EXGaRf5CJCRxhyTuUK7Ws80936BThHTxXIlU3Uxt2zkDUr+/XVAih71swGK5JSKNzetGRJ1ZpLBlILdr/kueCQgcmYLj4JnaqhYMUmi9ku55A/ZeFp9vF2Gx1nk5mVJqQVG6pWau69JoNLJAY2pq6iKf0c9up06ezL4eWrbsVe+2cRyHrVu3vmrHWyzTqGpaKEeIQqaer1NlH2f8n+O4Wn8oifU01CTICJpKKaTj2fwnCx6kSHRClkYmyYm1P8w6Cc3rizTzd8K8VubjlC0rF3xNUYtDWv+W+xd9HK30axM6aX2qJ3Gk1LojUidy9ljKk7hKogpaHSrDPqzPk0ipul5LisT4VvPZfC0vgYDDdR1Gh+o0annpI04E41OvPJnY+expbrpmBR96xxV88Z/3MtOMKJd8tqwb4PS5JsdOvzjKESeCcsnjbbdt4PS5JlEs6G2U2XfwPEdPzWRr8vFnz/Deu7dy581rkVLx6O6TL3rMC2WLjnDINMkRDrMxiizoKKASMim82bR4l0hjRGGgkW7PVSipyyOWKW3fnBp601+naUwctkyErrozDpEiXQ9kiiM0jqEFZRQqGyONDgwcq/6XddujlDQLITYLP0akkR561NZvlJzVTV7yNItVmP51B6Pqh0IWYMfcAcxFOPJFrmQhczLXdjlZp9MhDMOLfRo/t3mex+DAAOfPaWb4mTNnLvIZ/WyWpmnXPKVVF0DWvLe3l+XLl7/qx73QJoUuc0i7WStRQAnS7g3TJEVSpCiUCTgiPD8gNWir47h4JqkCm2xoZFiY4Woi1cFGHGmCfalcM4mdKb9InRC5qYcoaP3YhM1VEkd6pk22G5HIOu9kwVcnhr+hFGkaZwiEkD6u0B0xynWRjqtLw9hgQqAMWT6bCFsMbujmi+h9onjPYmSW0MUGSbp4JqWip17i3/+rW7vw5GOnZvg///Lhly+zmCft2nuWH+86wa3XreL3f+s2mq2EasWnWvH53D/s6Qo45ob0B45M8JZb1zM8WKNa8alXAvr7KiTJFj73ld08/vRpACamOuw/NMG120c4dnqGE2ebLLYtLsIhlYnAVQFOFFkpQqRzPrKIVhMw0yTKtSus9oVSplZpJM5lkb+RE6pS0ymSBSMm2NCoRKDrpcJFYmBIVxkhMlDKM1mJCWqKMKBCt7+mcc4sN9yNJOqQxG1T3tDhixApflZCMeiGiBFmgVvlUFcpI+blZNfa1cVS4G8Ug4y8rHN5BRxLVcZ8rrmuy8pVqzhw4AAAJ44dI0mSS16ue66dPnWKqQLitPECaGRs2bIFz7u4SpI/i0mz/rPSsOWrqZyPoDfOxJRCTNedQStEmpAmcb4p46CkxHHzLhCyDpCUNI1I44gkDonaMyZ4sfwLUUBYtJ/K/YjhoLk+yrWIhPVtcwIOJbJysRQJSRJlgUEah1mQZGXNKaAnePp8HaXRXSUFmEmxRSK8/peXl1E2WBP5/pDoe6vL7CHyIrbHS6n4+2/tY8Xw/FLibCvOgo2vfHc/vtetwr3/0Dh//dWnOXJSI5xCSD77D7v50ePHWLeyj95GielmzKHjkxw9pXlrY+Mt/ubrz3D4RDeP7Rffuo2pmZD//S9+zExTl5y3bRjikx+7iVt2rMwCDoD9h8e5dvsIjz9ziiRd/Hu3yCUVSZomOW+isFFm6EaSR696MYY6ejcBQpomhbKE7nbxvCBvce3qT5dm84+yyD8jHBl4001ThBfnI6A1TxOppCY8eZ45X50VuMoDisOUZOYsdNuaPfeIKJxFpEm+iDKehkVVfBxXZFoiCqVlhD0/KxMpWRQDy25kF9dFFrMPyyG5jMY2L2UZ84Vs46ZN/OiHP0QpxdmzZ5mYmMiUe5eKPb1nT9Y639fXx8qVK1/V49fr9QuCmiyGJXFEmnQyPkVxncoM2UhIk1Ajommkg44kzhAEkSaZPo8mkovc55jN2SZNSRISRx3isEUSdQxB1X7oY3m+9jdSSij4Bs+UOZTSnA7XdbsSG+trbCnGItBpEmFzbVuqzjhqTn4M7dMkyvNxlQ40tO8WBviwxZS8LVejHDmyIsx9k2liiPihGVfRuehI7pGT0xw5+dJE9qf2nZ33s3OTbX70+LF5P3/h2CQvHFu4dNzqJDy483jXzxzHYaCvwuS0Rn9d18FzHXobJVzXyRRH9WPhdVcuJ0klO5+5OMjqonM40iSkCJsVSxtWZyM15Ygk7pBE7ezNLQsLyMn6zRXSTzWhMxO9sZtvroURR62M+GRRCCkSlEgQwsdJ8tkjOto3kuNKM7qtkqd0HBzHdrjkxChpeuVTobkbcawdQMarKNQ/bYaTT3u1sGJsMhdR0OgwCMc8zQNp+C0yuy8ZmmOu73KxpcxzWMg2btxIpVKh0+mQJAlP79nDW+6++2Kf1iu2drvNnj17su83bd5MrV5/VRGoDRs2ZKKDS830Zhjmm2eWYKUGZUiyREj7OU2KT+KO4XPYwET7JClSra5cJJwrlXFFkkjPiorDJkLEBSTCJFUGVXFdD2kQWmkFE60PM2rLWklUBzlFETHrW2SaZCUci+2nsd78/aCcI8AUyzESz7yG64mugMQePzcbbChsU0EXwpHGJsCy13v5JFY/iymleHT3Ke68eS1/8Nu3c26yTSnwWD3aw8R0yP2PHMkeu2ZFL+tX93Ho+BRnxy9OArfIAYcgjTsm45fmjSWyBaahMhO9RjrYiMImaRzqhWcXo5sawpKu7zlCywA7DqY1S+p+bZki0pTEoBvClFn0AonwgwjhB7ipb+qapp7p+biuj3J1G6sjBRrVwJC4DHdE6f76jE0thYn+Q5KoSWpgxwyxESlumuB6vkZVUguzlfTCc027mpN2DW+z5aICwJG9vrItazZoy5xZeFk0qSxlGfMXs77+fjZv2cLTZtN+9JFHuOONb7wkN9gzZ85QrVSyeS9KKR564AFi0y3kui433Xzzq/qaQRCwcePGV/WYi2k2+85bUW1HmcwSJr1xmqQqbpNEbeKobQITnQRZ9WRXCuPjbAlCk1Fta2wSd4ijNkkcGhRCkBpOmSu0MrObxNm4+4wPZs7LdYUOBIzuh45F8iTHbvh5Ahdq5FZJlII0jYxKagmrJVkMNpQnkGYwZu7XsiZZfdOKGkwFiYQ8IRVZkKb3hVnCzgwiuXwSq5/VPv+NZ3j86VNs3TBEb71EJ0q5/+HD7Np7tkvt1HUcHth5nEd3L672RtEWmcMhiaM2eiGSQ40i1XVP+4YyCyiKmsSd2QIDOkFkmv2OjtbtLABXa+VK0w6aowkpcdTKFErtwtFOwcwtcLxMDMdVKpuOKF2RL5BMAtihmLXkJRzLR0lI4pA47mSZhs5kQqSIkbKks4SsBKQXlOv62bRat3BdZGxuIxDWxeMoBB2GhS6EvYcaSVrqNj09bf6ml5e9/tZbeebpp1FKMTY2xu6nnnrVN+65JqVccKLzSyETZ8+c4bl9+/jAvffiui6nT5/myV27st9v2769a4jbq2Hr1q1b0oJoSRLr9VcQ+kLlIoSpKCAcccdwvTrEYRMv0FpDNoEChTKaQV3No1k7f0oat0njdk64twlOmuD5CVL4SOEjhIeTmlZbpcALMtFDXbKZM0recbpa72XBv2liv279lVIQdWa0WKKjE0uZmlKOF5gRDtq/uXZInOua2TC5lMFcv2q1SzJ9o0SXqmKTiIbtGYOY/8s2KRX7Do2z79D4Sz7ulZR/LrQtOocjidvkinQqi57TAsyoSylN4k6TdnPKZO6xRjocFysM43p2AJEmlnX3m4uM3ZzGnWwBSimRaZzVHF37XPPm9qRAemkmQZ7NH3Cs9oY99+Lr5MI4QqakBiJN05jUBBxx2KZUCc2ME/Ksx09xhcDzfB1AeV7GUbHQo46v5pRVCvcwI46abhyRRCTR0tV3sCaEYGbmpUVvlqpt276dVatXc+L4cZRSfPO++7jmmmuovIR41t/93d/x7LPPAtDf388999zDFVdcQZqmfPazn+XUqVNZ8PDGN76Ru+66C6UUDzzwAN///vez4YtvfOMbue222xBC8NWvfpXHH38cx3G46667eMtb3tL1mtPT0zy3bx97du/myquu4pv/9E+ZFkqpXOaON73pVRXl8n1/SaMbgPZdYaEDQGmuWS5gZf1SpEshUTPbQKuNAaKwZTpLKnqsgmfnIll1rGKJJjXlmLDQrRJ1dbtkU2G7fIg+hi3dZu2wmbKhk6EoGFEv64eTqG18aZp13kWdWTNITV+nDGI8Uc4Hxrm+nlDr5aWbbEI2+ZSouYmc5aVlfi0JScIWUWeW9uw4SbL0/dy/JFvUgENKoeuUmdhVHr1qQmhsGM8dvQA7M7Sb45SrvSZQ0eUL3y/jBymuDLLMH9OeihIIA10qw9dIov+fvTeNkuwqrwX3uWNMGZFzZWbNVZJKqtJQRiAkaIEAMzSSEQIj2wy2unuZ5WX72V548eD16mUzuBu728t2Pws/3JZpMGDz3B6wzfiEEbKEQAjxZA1oKpVKpSpljTlGxL33jP3jDPdGVpXmylKWzl4rV2ZGRtx7IzLOF/vs7/v2p3vbhWnfYjQHzbvOGwNEX1soOEIeVchGNEAAVj4XpyyoQU8RZpxRBaMuuBR5F0ne1EqMqTK3joRhJCClXpRElF4dgS1krRSMDvhxKFNlXnHjswVdNM/WvL6xtLS0pm3Mnw5pmuItb30rPnvTTQCA48eO4etf+xre+a53nfID/LbbbkO9Xsfll1+Ou+66Cx/60IfwhS98AY1GA7fccgt27dqFHTt2AADWrVsHKSX+9E//FN/+9rfxlre8BZdddhmefPJJfOYzn8Ell1yCW2+9FV/60pdwww03gHOOu+66C6973esGRsAvLixASombv/Ut7Hn0URw4cMD97fIrrnjRi12np6fXlI35ycCorqkoW0vNxsR6YQgOLqjZWPX0FOu8h6Q+hEZr1I1c1/OjChAzeE13fwTabMt0vQjOTHyzhIOZmNcDSxq6g6/i6KmvR8eMwCmqgatLM3cYSGtUu22YNWEUhW79NW2prMjQJwu6wNV4doQRc4RJT+QOEQYhiIm77n3ujL+08m3jfKluMOczYudS9XsL6C4ecR2AHmsDq69wFFmFxQr35pSm2NLWb+T9JWRG3UiSOgBi6i8oBGOGvScu/QDbzlpRHsq6kKz08RBUT2/tLyGMEz04DQphzBFy3XarLYUjx/41SzfTaUnJ/J35TiXPKAVzEqnebWgSUGRLSGsNfRznFCiM7BiBhDalEpnzByYQBCeQHev+UwYCASHNQCdLOOja7upQSp11NuYrcfEll+C8HTvwyMMPAwC+d/vt2LptG3b/1E+d8jEXXHAB3vWud+GKK67ADTfcgH379mHnzp0AgMsvv9wpFEop3HPPPfinf/on/N7v/R6uuOIKp3783M/9HFqtFh5++GGce+65uPrqqxEEAa699lpnMmVhFaZ+v48H7r/f3b5x0yZcfsUVJ9z/hYAQsqaGtJ0K3HwwOtdMpT+Ebb2aMLGuJBw9pLUmJjfsRK3RcZbkUuo0Qp4tI+vOg7LeQHt8tQuPG9Mv64dB8z6SNNcpY5e2kG5jFYQRwigyo+ZLwqGHvFWL+q1fkn4sdx5DOagZMmfTH3l/UYcmk3oJw9gMv4z1lO9Ab+bCIAQGFBdbl2I7cEqCoz8bqNuMsqKPPFtCb+kY8v6SU7c91gZWv4Yj7w0w5tIPQ9uBW/Uh7y0iqbUws+USNIZGESV1Vz0tWIGi6KPoL6LIlgGo0pfDnUsTGVs/YVu3uCECeY8hihNnAhaywi2QKKkhCITxxtCs2xGASvssTPV2md/U9unMSJzMSpxCk54kbSIIY31OwUwbmVVTwvJnQz7sDqQsHoWTMKspKVWZLWA7fIq8X7nv2kO32x0YDnY2IggCvOf66/Gf/+RPsLy8DM45vvzXf42hoSFsP8UH78LCAvbu3Yvbb78dURRhy5Yt7m+MMWeOFscxfvCDH+D888/HZZddBqWU+1utVgMhBBdffDF+//d/HzfddBOuu+46jI+PD5xLCDEwL8Wi2Wrhune960Wvs5icnMTIyMiLeswzgSJbRp4tO1PAsiXeuBEbnw5ulJCk1sL0lovRak+a6a7VtnvtXZT3l9BdOIyluVkUmSaBepwCLVPOFQMwzgoktZZJqQQAMbFKcAiua0SqSm4QlYX3MO28smr45dxKmfH9yHXa2KgqUkqwouvU1phRhHGiN2s2nWK+h2FcKsdBZDZ9MM+3+tlgPJg4dwSN5l30l46ju3gIAQlNusljrWDVUyq06JmC0aohTSUVYBh/nDawbuNOtEfXa2UgsDa/pWUvo330lo9j6fhT6C0fgxSs7P82RabMyJKukpvlIEqi2axBiQxKNZHUWmgNT2KoM4las4Morrt5K5IzUJqj6C+i351D0V+GUhxVudQpFpK7gk3OctfqZqXRrDuPIIxMN0uq5cYorig13HTKKBBoD5AyBxq62QqD82ZWmqfpgjVNxNYmlFJnXSvsqbBuagrXvfvd+NIXvmC6CzgOHz58SsLxrW99C9///vexsLCAsbExUErRaDQAAH/2Z3+Gz33ucwCAX/3VX8VTTz2FyclJhGGIhx56CJ/4xCcgpQSlFJ///Ofxhje8AcvLy/ibv/kbfPOb38QNN9yAq6++2n3Ycc5PIByEELzlrW/F8MjIi6Zs2ONu3779Ra0HOVMo+oso+gtmE0TKtKdJ9XJr9sUKNFojmN5yCZrtccRpHUFoY4FxAjXrO4prSGst1JvDmD+yD4vHD4LSnnEwtccsdPEop4hCAkG7oFHsYlMYMfCwqGxuAle/4drwg8h5f2BlnLYdNqxwHYXMEA/rrMypJrVSCEQ8RRiniKIYgYxcd50d8RCEkVE+yusAUKnfKFthOdfdKVlvAb2lI2jUEkxNr0dnqHnG/s8ezx2rrHBwFNmyk2GVexNXGCzNkNZamN58Cdqj00hqLURRUqm3IE7pSGpNpPUhNFpjWJ6fxfFDe9DrzpVyoOsQKYuoIqLQGRtGqz2OWmczhtedh6HRGdTqQ3pkvbVOJ1aqk066pHkXvaVjWDi2H0tzT4HR3BRb6UphaQtGWa6Lm4qeSa1QxGkDJAjBaIZGawTt0fVoj86g3uwgTuoIQp03l1JCsAxF3kPeW0CvOweRLZsFGrsJkq7LZyAYaPMgWvSRW+VnDeJssTF/tnjFpZfi6NGjuPlb38K173wnXvPa157yvj/7sz+LX/qlX8KRI0fwO7/zO/iLv/gLfPjDHwYA/MIv/AKuuOIKAMDExAR+/OMf49FHH4UQAtu3b8enPvUpzM7O4sMf/jAYY2g2m7juuutw1VVX4a//+q9x4403YteuXdi6dSsATTh6KwiHUgr33XsvLrroohf1NWi321i3bt2LeswzhXoiIVkflMtBT4pK67wQFEMj05jadCFa7QnEaR1hlLr0rfXcsKnbIIj0xiTU36OkjkP77wfLl/Vmg1MwXkAJilYjxVCrAcYFsv4SlJIIoxhpXEO9NYKk1kKS1k2BKDFjH3QdCeVd42oaokyXrShMr8RUmvdAaR+c5lBKYqizDmPT56Azuh7NzgSStIkwSkAIMdbrepPYX55D1j0O3l8qyUflnFWCY7t5st4CBOti6+YN2LRpE8bGxtDpDJ3R/7XHc8OqKxxFf7EcDW8XHy8c6280RzCz9RIMjcwgSRuI0hrCMHEFR1blsGY0lplHUYI4beDYU4/g+KG9YLRv5LjS5GuokWJ0dAyN4c0YnrkQzc4U0voQ4qSh5T9bP2FkPu3rUbbYxkkdSa2FxtAYWp11ODb7KJbmnjJuoqbAyS3GHIxlUFKiOTSGxtAYOqPrMT5zHkYmNqPWHEac1F0VuZNRFVzHC+cURX8JywuHsHBsP3pLx6B9wCITyMqZNHY3wEybXYS1O1X1bLExf7YIggBvfdvbsHPnTmzctOlp7xuGIeI4xvr163H++XHlyXkAACAASURBVOdj3759rm14cnLSpViUUnjFK16Br3zlK7jnnntw6aWXYtOKY1NKEccxhoeHccMNN+Af/uEfcOzYMUc48ixDGEXOUdRiz6OP4u6778YrLr30RXoFgHPOOeekLbtrEVdedi42TDbw+JOHcWB2Dr1+YWo4bPspQWdsI6Y27UK9NYwoqWmyYRRP3VWi56iE5sO3TOfqdHFnbD2gFPY/eif63TlIyRGFBKOjbTQaOmVWQ4haMILhqR0YndyKRmtEx7ooPkFB4ab7JOvOYfH4U+gtHTVeIgbObbRs8+emVk0pibGpbZjZuhsT0+ei3h43sS0Z6I6xyrY0VgW9paM4PvsYjh3ag2x5DrCp40qrrmC6AJYWy0hjgnPO3YZNmzah0+mg0Wi8JL1rPE6NVSUczXqMieEYTx1dMrUTxhacU0gp0R6ZxuSG89HsrENSayCKawjD1NUzuB5u54BXqh4A0JAjGJs+BwDBU4//GDTv6voMojA2MoSRsUnUR85FZ90O1JujSGpNxGkDUVy2b+kCztJkJzCEQyml/0bKQs4oThEndRx+8id6KqwsCQ7nFEEQotmZwvDERkzM7MDo1DbUm8OIkwaiKHE7liCsPC/ALG6JWHIkaRN1o4jMHXkcRw/8BEW2VLbqGmt1N5OB5WjUCM7dumlNytNFUaDf75/py1h1EEKwafNmAE/vi/Hoo4/iG9/4BmZnZ/Gd73wH733ve0/5QX355Zfjta99LT7xiU/g6quvxtatW3Hfffe5FsiPf/zj2LZtG7Zv344f/OAH6HQ6Ay2pI6Oj+LVf/3UsLi7i2LFjOHr0KI4dPYrjx47h+3fcga3btr0oNRfNZhPT09Mv+DgvFYwMd0C2KEytG8GRo3O47yePY9+Th0ALPTV6ZHILJtafh6TeckTDxp4wNDHBDIw0BWQAgFBJyChGGKeI0waanQmMrtuG7uJh1NMQI8NDaDYa+jjpMOqj56E1thX11qhRGtIyxlmjQ8AVZ4raEGqNYTQ7k+gtHcfc4b1YPPYkGMsH0hy2QFVwisbQGGa2XoJ1G3ehMTSqY5uLp1aRNYQDcKPr01oLjeYo2qPrMbHhfMw+fg9mn7gPeW8eMMqOHUYHkaPdbmLzpk2YmZlBp9NBs9lEvV5fk7N2Xs5YVcLRqNfwykvOwX+/7xE88tgBCKHzg2EUozO6HhPrd6AxNIY4qbnahjCMDOuPje9GKbsppVB1/ZRpAzXOMDyxCXm2iKf2/hhpRDA+NoLG0Dji9jbU2utRa3SQ1BqIkzriWOcZXa3EypYtWIMtAelc+so++LGp7QAIDu69G9nivGuTTdIm2qMzGJnYjOlNF6HZmURSbyGO63pBmsrtMIrcc7Ikx85UkVIgCDmCSL8GcdpAY2gUs/v+HXOHH3feIbZ+QwmG4aEY527fiHWTE2uScCwsLLys1I3ngiuuuAL33nsvbr31VjQaDfzGb/wG3vzmN0MIgUsvvfSEFtU4jvG7v/u7+OY3v4m7774b//7v/47R0VF89KMfRbvdxjve8Q589atfxT333IPJyUl86lOfwvj4uHv9gyDA8MgIOsPD2LR5s7tdKfWiksLNmzefVTvVNE1Rq9UQRRHSJMFIp4WpiTbufXAfgmQcw+MbESc1RGFsPvwr9QxhaLrVKt0/uvXD2JKXReVRnKI9MoP26AxSLKJRryNO6qgNb0V99Dw02pNI623ESd1scHTMsYXogSUBNoXBGbi5XxSlSNIGao0Ojhz4CZbnZvWGynTiaVVjOzaf/xq0R6aQ1KxSbGo2KpvEqsJRxk6hiVYUI04aaLRGMTy+CQ/f899w7KlHtIrCc6RxhLGxUaxfvx5TU1Not9toNptoNBpI09QTjjWGVSUchBC02y1csms7sn4Xe/Y+iThtYmhkGsMTm5E22o5sBCaNot+4tpc7BAkDV0UN6Imu0rSYBmGBKE6RpHWMTGwG7c8hlguoNUcRtrYgbY6j1mwbVaOu0yiRqaSO4vIctjC10rIlpb4tNC1ukeCIkzpEStEenQanO5H1FsA5RXNoHK3OJEYnt2F85lydy6w1EcU1RHH1fHa6YuBSRRqmM8YUigYmOBBCQEZmEMdagj3w2I/0xEQpEAUSk2MtbNu6EeNjY6g/jYHUSxVno435i4n3ve99eN/73jdAyLTyFuK3f/u3T9qiGscxrrnmGlxzzTXgnA+oIa9+9avxqle9CkIIhGH4nIheo9F4UYhhHMcuhXO2IIoiJEli2toJgiDAzvO3Y2RkGHsOcvAwNY2qpIxxQSUUG+XBVJDrjUOlk0M/VseMOKmh1VmHxcPzaHdqqI2ej+bYuag3RzTZSOuIrIoSDZKAqu9GoCSENQGrDI0bVgphFENJgWOze0y7a4jpLa/A+m0/hWZn3JANu5FKEMU2TVweq6xl0bVneq6LAALi4tvE+vMR15q493t/iwOP3Y00iTA6Oop169ZhcnISQ0NDqNfrqNVqqNVqnnCsQaw64UiSBK1WExftPAfdXo6Mp2i2J5DWW4iM5FfKi0YFCCOXwySmU4OYdjOi4Jz0AhK49qswStEa3oDeXIGwuQFpYwRpYwj1xrCR/CIzZdZWZ5v8YVCmU+w128mthIQggUQYxuBBZBSKGFGcotmZwNjUdizNPYVacxjt0RmMrtuCetPmaBNEtkUsigbSRGWaBrAER6sqBFKPpXNTnmOloJrDmN5yMfL+Ig7u+SHSSGFitI0N69dhuNNBmqYD5k1rBWerjflq4NmoWTY4V4kCIeSMBu1NmzadVeoGoJWhla+plBJTk6MIgmU8fpRDKKkNvJR5vysJIHDeF5YYWpNEGxOgpO4ggdL+nISg1uigmw4jap+L+sg2QzS02hDYTY0lG6GtT1sxUwW6wFVURjdIwSFqFHU+gskNO1HkXcwdfhxTmy7CzJaLUW/ZOrQyLRRE2kuI2PNU50ERSzgIlApgp0NZa/NEKXTG1uOi1/wswgDIF/djeLiD0dFRRzTSNEWSJIiiCGEYnjV1Py8XrDrhsOx/dHQEu87fip88voQkqbvUCEBKduxyf8p47ptdASFQCECg56bYaauOjAR64mEYp6gPb0ZS1zlM++Ff2vlW7HXtl3LF2yjnwZcLQ881Iq6iWhuDaaWkMzqDrLuAenMYw+ObkNaHECWpqz4nQXRSqVH3yVfmtUCZxamfn0SAQIVQYYRQaoJTq7excfsrIYsFIH8So6PDaLVaiOPYLca1hLPZxtzj5Iii6KxTNwBNOKqEQUqJJEkgpcTYiEDBlnBwsa9nOZkCUecqTgIoCMhK+soZh5nOjarvjxQcUZxicsMutMe3IElbboNjr8Nu1AIzCVZvnMri+/LkQBAoqDBGFEnImCNkCeI4RVofwvj0eUjrbUxvuRhpYwhRnOpUjfHUqLbvE0c2wjI+w4o2ehMnoRPIRCkEoUQYJYhlHe2RaVzwqmtx4MFvoRnTEwiGjdWebKw9rPp/LAgCRzqmpsYxNVbXtQhKmgVXVk4r045lGX45R6A66EcZBYKUDpzQEwyz7pzuQknrpn4iXUEyyutSJk2jDIlZeQ6d47B3hkmB2JoLgJAQYZSiPbIOndH1SOtDZtFXCk0HxtFXh7KVixH2eQD6dkNEysdbBSdBrTmMqa2vQr01gUajMbAY1xrhOJttzD1OjqmpKQwNnZ1tjdVNjFU83GarnaAdzYPly8azR49ekILpAvDKeHltjFj+zU6EtpNbheAAIWgNT+quvjg5obidGFNEED0sDZXNFKnEGhBjcBiWM520SZcmEnFSw8TMDqT1llE0YoCUm7fghA1cMPDdKioDGzx7HxvbwghRlKLZWYfJLa9GnDTca1rGezXwGnusHawq4Vi5CJM4wbqxBhTvuRkDQvAKkx/08bfEg0Dp0fayvN35epi2KzucTVdN1xDFKcqRy6W8B6OfDA4NGpwhYGVMZWaXwCgPVeXDHqcxNIZ6a8QNhnOGNqQ67bH8qfLqrPi58jux5yGu1iMIQoRRjMbQOBqj50HKst+/+n0t4OVk9OWhYY2+zkZUPwSrH4ou7iUJxoaAgB4zk161G7EwZEKTDu78NXTXW0k2ql0ijPYRBJFrsSfVTr6qB4gtsi+9mAc+vN1OzV63VYqDEARwE7uTtGHcQ21tWSU9U9mEnZTQoLrJG3xdSrXXko4EreENCBoz4Fwb4kk3DfxE8uGxNnBGfGGrDLXVrKERLaGgGeK0AcEohMkHyoDpN6MMQYiEEAKB6UxxY+2lHVpWLkLBKSRnSJKG622HY/bAgDpiiIuEHrWsVToFqMpuoNIXroQwExSN6qKkIzmCU9OFkpQpF/sFewnkhNeCEEN2EIDYnI5d/S6HW7lNv3iGdCRIh2bQP3oILc6dW+VK74SXMpaXl8EYO9OX4bGKmJiYwPDw8Jm+jNOCKulf+YFo1cdaLcVwfR7H8gWEUWqMvgDbxaHMjJByNLwZ02Cty7meQM1phnpr1Cip5Yd4OSDTfHfdIVLvMqtFoyAunlXvby4YCgqMZpqA2I0UsSMeiLtf5RWAJTA6vsHtzwZfjpOTBZeqjhLEQxuRHz+GltApJJdiktL97rF2cMaN6KMoQrsZ4tByD1K0DdNnCEQMEjAttZkOEe2JQUrCYWyCs+4c+t15MNqHUkpPFKR9JLWmswOHUuUYebPwSCCgVAAlSo1CKjOXxaY3bE2XIRzVcfTSfje96VIwhI1OaQ+8Uu5zC7mSpoGqLEppalVssNJjrUsFBm7FWomUBAHCpAERjSDLjqPRaIBzvmbSEy+HIW0egyCEYOvWrWetHG4/EKu78JMV6jbrIY4uHgVL2m4ImQIQhhKSlC6fUpYxRpip15wWoEUXAEEYJZoYKDgjwPJDv1SIFQgU4ZAyBCHGUsDuhKqjEiobMT0iQoAVfW2M6CZYD4KYwWs2ThGloMjKzVLZFaPPo2+vvj76G3FplrjWAY2GwVjfqRxCCKd2eMKxtrDK02IHF6Jl5LU0hJrvllIipwijBIJQvSgUgMikMuyQNqX9J/L+AnrLx8GKHvL+krPPFZwiCDpmIeqKcGkHEAVc7yhEuRsgSkIFlVoLk+90ZRuV6bb2OEra+SVML35F9DAhV/2NMt2DyoKUEopIQOmjS1mRXivKZpnmUe45nBjEtNU7STro9Q+hzRiiKFozXSpZliHLsme+o8dZg6GhobPGxvxksDHuVKTDxr4kjlALu+j1F82EWEMwQobqhGillPbIYLkbQ8+KPoqsi6TWQNnZVhIGKa2raQgEEkRwU4hqyYbuuKsWprlNjpsUK5yCzHmBJG25+698XkpVUttKQiliUs+6SNSpHANdeOX1WsIDVG4jJp4moyjoslNv7VcURZ5wrDGsusJxMlYaBgGI6EMwBhmXM0FcR4p5I1vXOg0t82XdeW2Nbob85NkSsuX5Cpk2EqGVJgWHsMqJvQBLOKSpgpaDBU52QUgzwVBWiresNXvRX0Jca5qdigJM8am0BbFSQMlQfw8CbeoFAETvBE5WAFUuSnsMWf4uZWWRAmFUQ84IGGNIkmTNTFqdn58/05fgsco4W4a0nQrlB748YUde/R0AarHE/NJxxLUmoMzkatM+D8CldO0EWGYmX2e9BXCWI20MuY2QjXH6yyoZHDpbrLRC7OKoBGS17gKl8mA3ZnZSLCsghfVwqSquAkqJyuMkFBFWFNYdKKQkNYNmioYYico8KPc6CUdgACCImyhy7dPDGBsgHZ5wrC2cEYWjuvB0rYECUQyc54h4Ch5GCMLCpAirDLzs6VZKIu8vgrPcOG1yV3TFOUWUpANko6z45trghgRQiiBUgAqlrg0JJJSyPePVwk39pi4n2xobca7TKEXeA2M50kbHPc4pGbJMxQRSQMoARAQIoCmJ3m1o5cZ26VhIJQE3NMkW0vKyOFaKUgoFQcEjUEpRq9XWRA1HnucvSxvzlzPONhvzk6FKKk5FNuzGKwoBUSyAFRMAoGNEyBGGcVkXoZSeBGums7IiQ9abNx/IxNV42M4VKThEGIKIiu9KqL+HSo+dLzdUAUhQqfuQFSXYKM6M5k5N1XesjpDX5yYyADFzYkC0ahsoCVU1/SJlutipHO5cVeXYkCZDOgISohARGOegtGyTpZSuiTjnUWLVCYclGVWWKoQAlO4s0ZNTI/Aggl0QVi6UtiIaCpxRFJmelKgqC82+WVGR6WzPesCZS9FYdw8t4UVQgTyxo6TUAd3uQ5qharp6nIFzhiJb1hMWBxh8pdDU9c3zSnGV7j+3KRwQac5ZPaVZ2LZgyloLVybEljsRCaFCZFkf9Xp9TewgvY35yw+bN29eM+m+5wsb16okg68o6LbEQykFyXp6ZgghutNEcMiQl+ljKAg78brI9WTXoockaVTUAb3hCjgzM6d0ejZSCsp0yAem444oSwLMPBVh07mqEi/LNlxdG2cNx2xotfVs+rxV51K9eVNQgY2jVVNDA0N8pOC6EN9uCCWvxDddoC8BMEHAKANLGCilzpPDx4+1hVUnHFYWq8pj2sCGgptR7kEYIwjoYNW1lO5NrZQCLXquUHPlB7AQDKFMKjlIgcAtDGI3BohsjUWo5UEiyxavknDYa5fluUzrGucUnOWgec9JhGUapJQZpVmQhBBXNwIFBJbkqOo5Yeo47G6jOoLePh9epnXsz5JDKiAvCjDGXvKmOIwxdFeMPvc4u5EkCTZu3HimL+O0o0oopJQDJINzPhD7pJQgqgDLdXurHkUfatWAhHpjpCQYK8CNZ4dWdinipO42HDbuBSIC4UFZVwGtatiNlZ08q+NNSRIs4ZAmpaInbHM3gdrZA7i0rtIbIc5BCINwfkI6gBElTTytpG2cwnFiTdxgTGMVtUb/zIUEYxScp2CmTi2KIu9MvMaw6oSjuuAY02zVEQ/oN3gQUmdiBejFoGy3CXSqgRU9syj0m16eYJbDB960gocIiLHuJQRClGw8lHowmy6kqrL/SnrDpFNsasNWi7NcX4crfJIl2SjJAgcRZTqoLJoKTliY5Qk1CRoo4DKDk4RJ67iKdaO2SClBCwrO+XOejbHaCIIA69evf06PWc3n80LP9Vwf/1zu/2zv+2zu93T3eabHP9fHxnGMNE2f8ZrWOk6lcKysQaCUgjMGJTko7SGMdRo4CHQ6hATlqHZbMEqLPmjRdz5Frs5CcAScliPsrXeQlBARRyhiN7PF+V4EpWcGse3/0LGutBgoIFjuiEHVn0hKicCoIaW5mD639goKSk8Q58ExSGwsYbINA9JYGnCma1Y4oxCsgJDK+XHY19ITjrWHVScclNKBr6IoUBQFKOVQgYAQFAEv+7xt5bK2yNWLSUgGRnOXQhHuQ9jIgJxDhKVrXyAYwGzra6kwwEqDInQmXY79u+JUQxCkJjbKSH7cFHEVRbdUGpzMWH5JYTpiCHftvVDSSI4BCBEuSDiVA5V0ygDh4I5w2AVZ7nxyTTxCsSYUjjAM1+SAOQ+PZ8JKwlElGNWYVxQFCkpBaQGuCvC0gB5sFrm2UEATAKtu0LxrfIb4QEyQIobgDLqmQ5apiZAjlBwq5IPTsCszo1w6BTYVrAtFtbFY7kzHqoWkuvhdxzsi9QZO98AoKBNHpbQup1blWNHdsjI1LDiEKOvjtMFZ4TpzqmkpTzjWJs4I4dAEQ3/P89y0RuZIU2lkPA5CdJeF/qBnhp1rEmKJhap+CJtdvmXKhOXgNNc5UVOLQaz3FwFstXVAApTD20LH/jGgOGj5sJpbFJyCFRk4y83vhZMh3VfAIYJA71YqJMa24UqppySWNueWFMF0xVTrUErlhjOmc7rMLEaag9NMp6RSLd16Iy0PjzMD+4FYJRwnEA0TA/M8R54XIIFWaPUYeuHGGdh2fk4zXTBq0s423snKpoqjHAuxUo1QRo0IhNBzVCqznMq6MWOqJYQ7NqeZibOVTV0kEIRCF4lKYTZS3GziJKTx66hamhN7bdbUUMlS5ajEcc4ZONXFsZbwMJaDFX2IWknmwjAEpdQTjjWGVSUcQghkWQbGWIVoZOj1+8iLArHQyoGe4Fru9INAt5MKm1KRfCDNMOAwKjiUEmBmgYZRUklllPlDSInAsH5CQkdmqjlHp7LAsnGpu0SU1OpGvgxeaKXFyoA2EARhOZ5ZDFgN624YonTaRlZsfcuqdGBQuiwLT6XpwtEEQy9ESvugRQ80W4ZKdGHuWiga9fA4G2FTJzadUiUbmmDkrkMryzL0+z2ksd446HkioStuV9DF6qzo642F3ViZ+jHO6wioTjeHEYdSCZSUCE2Hh1U5RMDK4WpmkitswXoVRnkQRm1gNHeKrmCaBGhrAK2UBCSABAFC6zckdXfKQD2crYNXLrYB1iKBm6J47tLDVrFlRabjW9EHp30IkTgyZ4tGfZfK2sKqEg4pJfI8H1A2+v0+ut0uKDfOoTTXEpySUJFAIPUwImmc+Fz+z+UAmVuALg9oqp71UKTELOCKqbjNP4ahy2sGLp1S5hwrrl/GXVRbmwtznbTo6Y4VKcBZAVr0kPIhRDx1x7VkgwMIzXGqao1dkK6wypENNbA7sUGAs1JiZDQDK3qgeRdF1gUtlqBk06sbHh5nEIwxFEXh5P9TEQ4bA/OCIZYSjOYgtlPFTHJV0GPiad7TFgDG1lwIXcwZs4ZRDxSUSgfbVQVHwGPIiCMIYz3UzcxHCczMlZVxSFsX8LKOQ1BdB8IKMJojZjkiljo3ZWEUEqUkgtDErFCVNR2A8xhVlnDoIFemoE1tmk1TW9WWFX0U+TKK/jI47YHzAJSW9X3V2SonAyHAL1y98/T/wz1OiY1T7YHfiVrFSrw8zzE7O4uVfhw630kQxglghgaRitpQ+mJYqIo0B+3AKatqgHS50CCwhaBBRbmwhKLsDFnZlTLQnwqYnvfKolFlntR2ogRhVA5tc2OZq5NpK5bplRaxlVpEdTdQnt72rlc7YIz5jlV6RIEkjtyCPOecc7zS4eGxyjh8+PCAKVXVcbTqQmoVEMYFwqimUx2obHZsjIOu48BAF5wpzHSTYctU8MAGBpXbK62pg0PVVqIa44TrGgmCSG/SgqhSXE9WfMcKVeMUGIinFV+OqolYpXZNCYq4Ettsjdrk5ORZO3H4bMSqEg4PDw8PDw+Plyde2q0MHh4eHh4eHmcFPOHw8PDw8PDwOO3whMPDw8PDw8PjtMMTDg8PDw8PD4/TDk84PDw8PDw8PE47POHw8PDw8PDwOO3whMPDw8PDw8PjtMMTDg8PDw8PD4/TDk84PDw8PDw8PE47POHw8PDw8PDwOO3whMPDw8PDw8PjtMMTDg8PDw8PD4/TDk84PDw8PDw8PE47POHw8PDw8PDwOO3whMPDw8PDw8PjtMMTDg8PDw8PD4/TDk84PDw8PDw8PE47POHw8PDw8PDwOO3whMPDw8PDw8PjtCM60xfg4eFxZiGlRFEUA7eFYYg4jkEIOeH+Qgg8/vjjaDQamJmZWa3L9PDwWOPwhMPD42WOBx98EF//+tehlAIAEEKQpilGRkZwwQUX4JJLLkEcx+7++/fvxxe/+EUMDQ3ht37rtxCG4aperxACSilEkQ9fHh5rCX7Feni8zLGwsIBer4fx8XFMTk6Cc47FxUU88cQTeOyxx3DPPffgPe95DzqdDgBgaGgIk5OTGB0dRRCsblaWMYabbroJlFL8yq/8CtI0XdXze3h4PH94wuHh4QEAuPDCC3HVVVcBADjn2Lt3L772ta/hwIED+Od//me8//3vByEE4+Pj+OAHP4ggCE6acgEwoJac7G+netwz3U8pBcYYKKXuHB4eHmsDnnB4eHicgCiKcN5552FoaAh/+Zd/ib1792Lfvn3YunUrGGO4+eabMTY2hle/+tUAgH6/j1tuuQXbt29HHMe46667QAjBG9/4RkxMTEAphUcffRQPPPAAer0e6vU6zj//fOzcuXOAVCil8MQTT+Dhhx/G3NwckiTBeeedhwsuuABPPfUU7r//fvT7fXDO8a//+q+IoghbtmzBjh07ztRL5eHh8SzhCYeHh8cpMT09jR07duCBBx7Anj17sHXrVuR5jh/+8IfYsGGDIxy9Xg933XUX9u/fj/n5eUgpIaXERRddhLGxMXz729/GnXfeiSRJ0Gg0cODAATzwwAPYv38/3va2tznS8f3vfx/f+c53oJRCo9EApRT3338/Xv/616Ner+Pee+9FURRQSuG+++4DIQSEEE84PDzWADzh8PDweFps2LABDzzwAI4fP/6M9z18+DAmJiZw7bXXQimF0dFR7Nu3Dz/84Q8xNjaG66+/HmNjYzh27Bi+/OUv46677sIll1yCmZkZHD9+HN/97ncBANdddx22bduGLMtw++23gzGG1772tdi2bRu++MUvglKKG264AWmaol6vn+ZXwMPD48WAJxweHh5Pi1arBUDXdTwTGo0Grr/+ekxMTLjbfvzjH0MIgTe+8Y0YHx8HAExMTOCyyy7DN77xDezZswczMzN46KGHQCnF7t27ceGFF7rjXXvtte5YnU4HYRgiCAJ0Oh3UarUX86l6eHicRnjC4eHh8bQQQgDAQGvsqTA1NTVANgA4ZeSuu+7C/fff725fWloa+H7s2DEAwObNm1/4RXt4eLzk4AmHh4fH0+LQoUMAgJGRkWe878m6T3q9HgCg2+2eYDC2YcMGbNy4EQBAKQUA3+rq4XGWwhMODw+PUyLLMjz44IMghGDbtm3P6xjtdhu9Xg/veMc7MD09fcLfrZdHu90GACwvLz/jMX1LrIfH2oOfpeLh4XFSZFmGr33ta1hcXMTU1BS2bt36vI4zPj4OIQQeeeQREEIQBIH7qmJsbAwA8JOf/ARSSnf78vIyDhw4AACuK4Ux5lI9Hh4eawNe4fDw8ACgLcvvuOMOcM4xPz+Pxx57DEtLSxgeHsa11177vC3Md+/ejQceeADf+973d3lo3gAAIABJREFUIKXE1q1bEQQBDh06hEceeQRve9vbMDk5iV27duHWW2/F/v378fd///fYuXMnFhcX8YMf/ACbN2/Ghg0bEMcxWq0Wjh8/jn/7t3/Dhg0bkCSJb4v18FgD8ITDw+NljjRNQQjB3r17sXfvXhBCEEURms0mXvnKV+LKK690tuZVVOs17M8nq+HYvHkzrr32Wtx888247bbbcPvtt7v7tdttV4xar9fxzne+E1/96lfxwAMP4IEHHgCgO1N27tzpjnfZZZdhdnYWd955J+68805cfvnlnnB4eKwBEOWToR4eL2tQSnHkyBFXFxEEAZIkQbvdPmkBp5QS+/btQ6PRwNTUFADdMrt//360Wi1MTk6e9DzdbhcHDx5Et9tFHMcYGRnBxMTECa2t3W4XTz75JPr9PlqtFjZs2IBmszlwnyNHjuDw4cMghGDLli2uddfDw+OlC084PDw8PDw8PE47fNGoh4eHh4eHx2mHJxweHh4eHh4epx2ecHh4eHh4eHicdnjC4eHh4eHh4XHa4QmHh4eHh4eHx2mHJxweHh4eHh4epx2ecHh4eHh4eHicdnjC4eHh4eHh4XHa4QmHh4eHh4eHx2nHqsxSOXp8Af/bJ28EzRYwMRxjfGwEjUYDaZoiTVNEUTTwFQQBwjBEEARuuuTJZjRIKaGUghACQghwzsEYQ57nyLIMvV4PC0t9LPMO0sYo0loTUVJDFKUIowRhFCMIYgRhhCAMEQQhSBCaiZQBYCZTAgCMH6tS+pxKSSgpIKSAEhxScHBOwVkBRjP0l48j7y+i3uwgSRqI0waiuIYgShBFMUgQ6vMGoT4XAAUFJSWUkpCcQQgGziiKbAkLx/ajvzyHvL8IKThGJjaj0R5HkjYQJzXzfFIEYYx3v2UHtq4/cfaFx9rHv9727/ibv/0XLM8fwORoDesmx9FqtZCmKZIkQRzHiOPYraUwDE+6lqrryZoNV9eSEAKUUlBKkec5+v2+WU899OUoaq1JJHY9xXo9RWFi1lJUvreDAIQE5j1OUF3GSilAKShIvZalPq8SDIIzcK7XUt5fRG/xKJJaE2l9CHHaRBTXEMUJwtCspSB069UeV0oBKTikYGCsQG/xMJbnD6PIu2B5F3m2jKTWwtjUdtQabcRpHVFc188njPHm12zDK3ae3Kbdw8PjuWNVCAdlAv/9/seRz+/F5pkhjI+PodVqodFooFarIU3TZwyUJwuS1QDJGHNko9vtYmlpCQsLi3jqGAVP1qMx1ENaH0JSayCK9Yd0FCWOeJAwRjgQJPV3ACAgUAAI9DmllJCSa6IhOQTXAZLRHIxlYEUfWfc4jh9+HGm9jUZrBGl9CGl9yAS0BGGYIIoTEEc6dKBUUkBKAcE0eeEsQ5F3sXR8HkcOPozl+VnEtSbG1wGNdg9pbUgH/rSOOK4hCBO8tb9tNf6tHmcAx+aW8OBjh7B46GEsratjaXEe7XYb9XrdEXhLPKok3q6lleupSjaklAPEnVKKLMvQ7XaxuLiI+fl5HJoTkPVNaHU40toQ4loDcdxAnKQIoxRRFCOIkkHSQex5BwVVfW7lyIaUHEJwCE7BaQHOctCih6K/hIVjByEFR7MziVqjrddSUtebhzBGEIZAECAgBPqwEkJwSEtcWI5seR5HDz6Ofvc4su4CGMswtm47jnRnUWtmSNImYkfgU7zqomL1/8EeHmcxVoVwEBAkaRNBPUKSxOWHq/vwlgM/SykHCEaVaASGBKxUN6oqhw2Y/SxHn6Wo1RO3w9JfGgolcSFWtVAEUASABKTS12oeowzhAKTZmSn3eBs8AQIQgiCMEUYJiv4S0loTnOWa2JDQBV8pQwSEQJrnqHdmEkoIcy125ycRJSnqzWF0Fw8jrTVBwghKmedgnkx5DR5nK5TUO/d6Ta8lAG7NABhYV9U1ZdeQUmqAdFTfv/a+K9eTJfP9jCIXDdSjBDobW90AVL+b96FZUwAp1w1WKit23SmnTKDyPiaEgAQhkloTi8cPIm0MgVO9UdDKiT2eApEBREDcgpBmQyClgJICQRAijFNAAVIK1OptJLWmUzXN0oWOWB5rHVIq/O6Nt53py3hZ49UXz+Caq85xv68K4VBQ4LSPJFQIw9DdXg2KQggEQeB+Bk4MjvYx9m8rg6MNjPZrYSmDRNspFYA6aZDTXwJKEihCTFxUQBBoAgICGwAdKVACSkpIQwzs8aA0GSEIkCR1LHXnwWhuCEgBEkTmueiAHSkFEioX4NxuT3AIwcyuj0EKoVWZuIY4qQ/uFu31KAklVRn9Pc46KCVBs2XEoAjDIUcaqmS9upYIIQPryd5/pcJxMrJRXUuUUix1KVQwqtU/fUR7VbBrCgMkXOq1FBBIeeII++r9qmto8AsAIQijBAoKRdbVqgZLtKrBAn0tSunflTm2lGYNGdIhNPGI4hTKXG9SH0IQxiAkMBxHOcKk4Mn72YCDh5fP9CW8rLGwnA/8vjqEQ0oU2TzqcUkwqikRG+iqgch+l1KesCOr/k1K6XZh1d1YnudY7nOEzbj8cHbBTVQCnICSARQhkNCBmQQKhGjVA2Rwt2MDpJQCUgmtRhiSMFDfAYUgjCEEB6MZojgFZ4WRmQNNgsyBQ6Ucp1FmZ6ZJhs4/C84gBAUt+ub6IrgHK2nOr78k4SZYepyNkJKD5ouoxeU6WJletKmTIDgxhUEIOUFBXElYquvIfhVFgeWMI2kn5rilGqHse9CsCyLsegKCAI7AK0c47AUN1i25dWTey1BSJzM160AYRqCFTo2GNNd1G0aNCEKFUEXlwW1KReq0iuAFBKeGXEiQIEQUpSVxGogHlQ2Eh4fHi4bVIRxKQtAeSEoGdlLVnPHKOg2llMs7VyXh8pg6yFZTKNWvbrcHyhTqxKoTJjBLQxakQCAFJAlAiCYaLjZCukK3akqlPK8wBWmisosShnSUZMYGP1ZkSGpNTRwYRRCY3DaICdiikvKREJxDCKpz2YxCCgrBGfL+4oDCYneVWjbW1wFCvMJxFoNzCk77QHwiUaiqGysLrU+mFlZJfPXxK9cTpRT9fgYmAqRBRaFUJdGWSiCQEpKYjQMHgsisJ6JAiKwUR1ehnFIobQG2WUdlulWrhkEQo8gWwWmu663CyB0zNGui3FzIsiZEUHDOwDmFkmatByFIQExataqu6McFMjrhSj08PF4YVo9w8AJSYEC25ZwjCAJwzlfcX5ONqvS7knBYqdgqG9VCt6Io0O31IFTkSIbbCUpdIyEDDllJS1j5NgikLj4LbJeKJQKVHaWUUJJrwiHLPHFZFc/NTk0HY1p0UWNtiDAGrxTRKQUESiKQodk16uAvODVBsnCkg7MCRbY8cA3unFKTFEKo4RvyOf+Psix7Xju657sLfDaPO9V9nu6xz+Uxz+Y2+/vQ0BCSJDnleVcLglFIwcwH6tOTjWptRvV2q3ycTOGwa8p2qNifu90epKyhmjJx1yA4giCElHrjIKxuwBVIIMtOLCJQ7VQp0xiWvJv1JFipTkim16vUMYIVmSYccYKA5dCFFzDXYlVSTdztZkAwCk5zCJaDcwohuK7bMIR/5doVJAQJmFZZngc456CUPufHPde1dDrW0LO9/dmuJ9sY4OEBrBLhAGBa3gZbWDnnrhulmme2we9kFfVV4iGlPCGVYgkHLQpIGUIXjwkIwRFKDqViSCXRTAK0mgnml5m9QuhgGoKoAEqepDUWcB/0yn3Yl4FKSgbpUiFl3linRSgEj8vWWxoiiqEDJQlcp4rueqGu88V+0bwLzqi5T9nuJwWHDDmICCCJrnp7PiRgeXkZCwsLp/7/PY9A9Gz+tvL70/3t6b6/0J+f6bbNmzdjx44dp3h1Vg/SEV15wlo6VUeXlPKEji/gxFqKVquFXq+n1w+l7oOzKArkBYUiDU0QLNm1CofU68vWJQWaSSBQCkRKKCJM55d+f7ZbCThX6OfMpVHkSdaTJt7CpReVElrh4QVCRh2RIYRARRJBqGtIAAwclzND3DkFK3pgeU/XclRrRyrnJSSADALI50HcAUAIgYMHD76o5Pfp1sfJbnu2a+Vkt72QdbLytnXr1uHiiy8+qa2Bx8sPq2P8pRRERa5dKdtyzhFFEd70pjeh1WoN7LCquyx73927d+M1r3mNC4xV0hHHMT74wQ9i565dhrwI96FfkgGBN7/2HHzkl19v6iOY++5qJrgmCZJTCGa/Cr1D4lVSYR4vKiTB/a53o5xrPw3BrGqhW/64PZ4owHkOxnIwmoHR3J1HKxw5iqyrr3+gfdBec0mABGPPS+HodDon5Pw9Shw8ePB57VpfbNg6Cc7LtWTXhyUeY2NjeN3rXocrr7wSl19+OTZt2jTgq1FdU/ZnIQSuv/567Nq1C0VRDKRUsiwDY8wQjZJkaOVBuPeklIZYi8E1JSprSnKKX75uB956xQwEKyprilaItl0nzP2d27Urhbu/XT/cKBecFeA0By/MGmKFIxuM5uC0QJF3ITirvJYSUtjUjYDg3K3Z57OOACBJEjSbzRfz375mcfToUfR6vTN9GR4vEayawiGEBKVsIAVS3XV1Oh284Q1vwJ49ezA3NzdgUmRhd2fWa6AoCmzcuBFvfetb8dnPfhbLy8sIggAjIyNIk8R94NtdoRAMhNOKWgJIyQAuoQIJKYOBXROIroDXSofZESjlgpOr45DM9PvrXZRgBRilYIZU6BZY7QdgjZDg5GSJoHJ8KyvbXSPnBWjRA6N9SCm0IsKZCe46OAeurc/sLp+HwpGmKRqNBrrd7ov3Tz+LQCnFgQMHsG3bmfU4UUpCSAnGykJpqxIyxkAIwfbt2/H6178ejz32GOr1Oq666ircc889+Jd/+ZcTUip2J2rXmVU1LJEpigJZloELDqG094wwX4HgCASDcHUTgArLdIsKQpBKurDMTCpACTCaA86HQ9eBaKXBkHOTShRmTXFWQLBcEw/OIGzx9YrnoF+n0pyPsQKcZqBFHzTvQgjqiJKS5aYhFBFIICC5TsvYeo/nCkIIRkZG/FqCVnv279+PnTt3nulL8XgJYJVqOJTZYZVKRdWMCAAY07sOq35MT0+j1+uh0WhgZGQEs7OzWF7WNQzf//73EYb6Q3Z6ehpTU1OYnp6GlBKPPfYYPvOZz+DBBx+CFBRJRHDhjk0YHh7B4ePLOHy8B8EBJbj5gGeuQp3IwBSRVmo3TjAckwN5X9fCasgGp7necdEMrMjAaIYkaWj1gTNDXnT9hlIKUsmS4Jj0jzum5OA0B817eneoBJSQ4Iwi5gwyYuaYulpfKYUgjJ73zswHyafHwYMHsXHjRsRxfMauQUkFISQKWioQVVMvQK+hpaUl/NVf/RU453jPe96D3bt34x//8R9d6mR6ehqcc8zOzjrlxhZhU0qhlEKn08HmzZsxOzuLH/3ox+h1KSbGhzA2PoknZxcgRIjpkRHU6g0cOtpFq5li68YxSEWwf3YJlBaAqVcaH21ieqKNA4cW9foRHJxlZh2UXSqyqojYVIhx72U0A+da5ROSg4gQhFETX5jpWgl0S7uC2xRwWoDRHDRfBqdFpVZEOMVTn1cXc0tCAEGedw0HANTrddRqNeR5/sx3PssxOzuL7du3I03TM30pHmcYq6pw5EbCLYrCWZhb2MJRu6v6+Z//eUgpMTEx4Vr1Pv3pT+PQoUO48sorMTY2hu9+97t485vfjFqthg984AN4+OGHceONN+KTn/wk/uAP/gDzt9yJz/+Xj2G400Y/KzC1bgw3fvbruPm2+yAEh1ISNO+5rhHtVFjmmsvvxpYZ5c5J2jZYE7ycpMtysCLXu6miC5b3ECd1SEEhgxBChCCcQteL6MI4a8sMJV1e3AZDHWj7WvUQ0qVYOK8hFAkCHjvjIgWFUIrnVcMBALVaDfV6HVmWvfB/+FmIXq+Hw4cPY8OGDWfsGpTSxZB5QV1KsaoUWtKglBpIRVrFYvv27Xjve9+LPM9Rq9WwtLSEP//zP0ev1xsgHFdddRXe9a534fDhwxgfH8f+/U/i+l/8D7jy8gvxoV/7Rfz6f/ozHF/I8L//x/fgznsex/d+tAf/8VfeDs4FkiRCt0/xqf/y33Bsvouffu35uOHdl4FSDhLodfXI44fBaO7IBqQm3zZNWU2bsKIPVvRBiz4ELzSREFyvJxjibpVDQpwjsDVJ4zQHo33QItOpTkNoLLkJBEXAQ6duKgCh8xV5/rAbpZc7GGM4cOAAtm/ffqYvxeMMY9WMv6QQyIw/hrVdBsoiI7vLskFSKYU0TfHHf/zHoJTiN3/zN7Fr1y7s27fPtdTefffdkFLiAx/4AD75yU/iqaeecsRFCIGst4g/+tPP4r6HDiKMa/jYR/4XvOE1u/C1b98FKZgOyjRzhZwBCV1xm2uvcwpHWVo/4AJqUhycm3xykYNSTTaKrAta9NFQCoJzBIGp5uemOl4EkAFHEIZ6p2fIgvP5EAKM9l0NiZTckRpOc4RRgiDQzq1QSrcGhvIFS8GecJwa+/btw/r1689YEZxNtWXGdjxJEqf22bUkhMDQ0BCuv/56DA8PY8OGDfjqV78KSine/va34+GHH8aXv/xlNJtNfOhDH8Lu3bvx7W9/2xGOLMvw4IMP4iMf+QgeeeQRbN68GX/yJ3+CCy84B3/3lW/hf3zzlfjV/+kaHJg9DkII/us/34b/9GvXYc++Q/i/P3szkiTG//W/Xo83Xr4df/f1u3H92y/BHXfvwV/+1ztw6UWb8Cvve51+bxcZqoZ5SklT88FdTQenFcJh6i8Eo+BBbp6zRCCl3g4MePWYDh3BdX1U0YNgeUk0XC2WTofKMILgOg7AtZu/MMLRbDaRJMlLovbnTOPJJ5/Epk2bzqg66HHmsToKh0lB8IIhyzThsI6jttreSo9FUaDf70NKiTvvvBN79uwBIQRHjhxBo9FAURSOcNgBbVJKLC4uYnFx0bUuSimR9Zbww7vuws9c8zNYv34G42NtxHECRjNTVa/Aaa4VgiAwhMMObyNlKQTBCtJR6dkXmgQIoQMhozkY7YHmPeT9JTCW60DOqDH7MqkPVfX60EZKVfMk7UnAQGnfFM1Rl7phNEcY58YlkQxI0iTkLyhQ+iD59Oh2uzh27BgmJibOyPmVmePDjTdGmqYIw3Cga8UqGouLi9iwYQMopfjRj36ENE0xOjqKfr+Pd77znfp4SmFiYgJ5njtVJM9zPPjggzj33HNx3XXXYXR0FADQqMVYmJ/DH9/4Rdx04+9g545N+D9v/HtwRjEzNYJDRxbwi+++AmbqEGYm2xjtpBhq1XDzbfdjcWkRt3zvfrz9ql0Qghkju9LS3DqCCmN8p+s49DwVO1NFSA5W9N1YgjBKEFqF0LTcKusWal4rRnPQInNt5oIzl/oMYzP3hUcgxLTvKuU2AC8EQRBgeHgYR44ceUHHORuQZRkOHTqEjRs3nulL8TiDWCXCAQheoKAUy12JJImND4Vy3SV2V22HRUkpHfkghIBSCikl8jwfIBxWDbETLYGytXZqagL/9P/9JWYPH8eP7nkQRV4gNm6FglPjgNpFEIZu4qQb3FYJYCc+H+WMiiS3rqDM5Jq19FtkS+gvHXWqhIbJU0d6eJuVl+GCnNQ1HIq7mg9OM3CzM3NFpHkXUZyAVubKSMEQhIkpUOUnuehnB6tyHD58+Hkf42yGUgqPP/44xsfHz4jKod9zWgVcXBKo1VK3lqouocvLy/jc5z6Her2OP/zDP8Sb3vQmfP3rX0cQBDh8+DD2798PQCs2jz76KPI8d23mWZbh/e9/P6655hrcfPPNWFpa0muVapVhcWnBkASgyDMoXiAMCA4fncPj+w6CBAGe2D+Lx/YfQQAOAiDr98CprtmQUhdwM9p3acrB9nJhCqILUNpHkS2jyLq6/qQ9iSipIyCBIQ9FqVC61GQ5ukAK5gbBcUZdiy0t+khopgfNuYnNuo5KKYnQrO8XiqGhIczNzZ3gNfRyxL59+zAzMzMw3sLj5YVVSqlIUKoXfFcUqKVahRBCIklTRFGCjGo5oeAhekUAKYGiYFhYXEIYBK6YNMsyt5PLsgxZpnd5QRC4fLaVlS+68EJMTa3Dz/3if8DcYo7/42MfwrnnbDHSbAGpJLL+IgIzKj4M7Jh6bZHsAljlmdghaTaPLCqeAdy0tRZZF1lvAUXeQ6M14jpQBGdaEudUD58KBhUOKUubdOsfoI+ZQ7AC0rQLqkwgimumWFR7M4go0dcNQIoXFtxarRbm5uZcIa/HII4fP47FxUUMDw+v+rl1vVABJSWETNDv586N17aXW3Le7fVw9OgxfOeWW/Dmn/5pfOlLX8LS0hK63S6+8pWvQCmFWq02UCjKOUee57jssstw66234uMf/zjOO+88vPvd7wZnOYjM8eHfvAF3/uh+SKXwyx94O371w3+MufklFEWBv/uXWyGEQqNegwJQSxMwJrD7gg24/yd7cO72DZiaHMZPHt6vlQoz/8d2Zrm2b17WL9G8BwWF6S0XozO63gxuI5BKgrMCNF9G1lvU91Oq4gWmi0nL9tii0gZPURR9hFGsu8Qqrr2h4AhF/ILXEQCEYYhOp4Pjx4+/4GOtdXS7XRw9ehRTU1Nn+lI8zhBWrUuF0wwEQFTrIKdAUg/RaEyjOb4VtdYEhmfWAwBa05ehs7QeQdJC0NwAMrQLNDsKoQLjeNgFY8ypHfv27QMhBB/96Edx//3349Of/jQAXQvy0EMPod/v4z//4ceQFxSv2L0Le/Y+CZYtQfICREnEqguiAoCH4BIQCACEethaGFdSLHAV9VYGVqaTRFQK3GwqBQrYvOMKDA2vMxMpdSusEFrOzfs2QErzN7O7clKwqNRrZKbwLdPtgUUfUazd+2zBahQmCOPUGRq9EIRhiHa77YPkKaCUwr59+7B79+5VP7dNN9RbI0hrQ6Cij16vp1U/RZAETaiwCRIkSIYvBK9z3Hb3IfzMNXXsfuXr8JWv/iv+51+6HjMzM1heXsa2bdvw+c9/HrfeeusA4XjooYfw+te/Hn/0R3+EXbt2oV6vQ0iF6999NV5xyU68+32/gTBM8IWbPoX3vON/wJf+7pv4yG98AFOTozg+t4jtW9fjb7/yHfzTN76Hm2/9EX7unVfiwvM3YvPGdQiItmjXqoWs1C7ZtApz731aZAAUpjbuwsjkFiRpQw9pq7gES8FBsy66S0exNPcUst48lFSmJoRWNgSFrocy6kmc1UGj1NRtwK07nSYNIfiLk1bsdDqYn59/wTUhax1WHfSE4+WL8GMf+9jHTvdJ5ufn8f/c9P9iqLMO7dEZrNt0Cdaf+1qMb/wptCe2odmeQlzrYKnHsW+2gAob6OcCTxwqkGEYaXs9urnEgw/vwxNPPIH5ucN45JGHsXfvXszNzeGee+7B8vIy7rzzTjz44IOYnZ3FHXfcgYcefgS3fPcOKBLi3nvvw9/+3T8j6y0jRB/jow30e0uoxQxbN45i80wH6yebmBhOkEQCjGbIsz4YKwbyyrbIzJkVsRyMmj7/vIciW4aSEus2XoDxmXPRGl6HenME9cYw6s3O/8/em0fZUV/3vp+a68w9j5pHJCFhMQfMEDBmCMZ2YiCOncRZxNd5yUvWi1feS/ySm7vWy8p11lu568Xrkjj2TXAcGxyT+NoYjG8wYDCDwViAQDIgCQ1IanWr1dPpM9T4q/fHr6pOne6WwKjV4FibddRNnTpVdarrt3/f397f/d3kip0UK70UK33Y+QpRFOE2qzED38sIj0myXODLckDfrUvAEfjkcya6pqIaeYqVPrr6V9M9sJbeoQ10D6zj2vduY7Cvclp/M8uymJmZedsVL//RbO59aDQa9Pf3L3mp33PPPc+PX9xDvtiFZliomomm5+js30DvqkvpXn4hWn6I49MBJxol8h3L8dUKx6eajNdsdrw6zYu7D+KHMHFinP/13Qd4/LHv4zgOU1NTvPDCCxw/fpwnn3ySo0ePMj09zd/+7d/xxFPP8pPXDlMoVbjv/n/nuR+/yNR0lVf3HGS6OsuD/+sHPPnMCziOw0y1yvcefZpHH/8hnlPn2R0vcfDQUWaqs3zp7vt5/KkdvLrnACMjxySvImzp10iOkgTYntdEURSGVp1H9+BarEIZw8yjmzl0w8Y0bdk5VrfQTQvLLmDlyyiKSrMxjduclVENPyMK5jfwfQclCtE0QNEzhNuYkxVHEi+7eCvnbjr9ygpVVdPqu593cxyH7u5ucrncGT9XFMG3v7/3jJ/nrJ3cVi/rYNvGvvT/lWgJZpSDhw7zizf8Kp19q+kZXEex0o+dL0nnYVhomiEbMWlJLpVMXX4gBYACB8+pUZsepXr8NeonXkMEjTR9klVOdF2XIIww7ArFcg/Lh3tZtXyAocE+ikVJiszqgGQlnpNj1etNxk5Mc+jIJGOTDUSkpaRPyVgTqQBSGOtveK7km/Qv30zXwBrsXBndtOX3ayO2xRLmvofn1qlNH2dibD/VqRFEEMSOz4+/t5vyOJQopFTKUenopdC1mlLvRspdQ1j5Mrpuo+kyIvPp37yErRtOn9R4/PjxVO78rco0n0yO+WTvna5Mc/LzdH9/s23J6jS7fdWqVWzZsmXB+3Km7It3fY3/9t//CQBdNyl1DtHZu5JipQcrfd5MNF2Po3NqqrcVCZGmEzy3jlOboDq+l+ljL+M3p1q8h5jLIcdTgGIUMfPdaLop33Pl82jaBXTDlo3UVA3TNOgo5+ko56iUchQKNrquoWsaoYhoOgG1ust0tcHkdAPHC+L7G2vQxOnEBMwbVo6B5efS2b8K0ypIX6EbqKrRXkoec5iCwMV36zj1KtWpYxw/+grViZG0DFaSRh0sQ6NSyhOh0HBVDLuMla+QL3aSK3RgWgU0M8cf/PYtfOiGSxbl7+a6LocPHybplD3X3mzbqcbHQtve6lhZaNvpjJO52xZ6DQ4Osn3Fh0gFAAAgAElEQVT79jPOgRIi4rf/84Nn9Bxn7dR2zaUr+fgHzk3/f0lSKppuMrT6PXT2rpID2i5gWAnYMNEMA1XV0/QFtCsFqmoGGCgqmmGjmiUmDz9PszYWkylbUukoBsXOAQb6+zhn3TKWLxugUMhjWVZakpuoMy7UdyIMQ3K5HOVykaH+Lg4fPc4r+44xOePE4VdZGRKmkQ6ZI9Y0g4GVW+mOwYZh5dB0S+p8aBkFU2Q/lFDz0HQdTTPRzRyGmeP4kZ/EMuaBPG7sfG1Lo6uzi0rvGsr9Wyh2LsPKlTASR6yZaFp8D9XFIWVVKhWq1erPfSj4ZHb48GHWr1+/pE3dNN3CtPKYdoGOnpWUOwex8iVMq4Bh5mSptGag6rrUlMlo3USR1GkRvo+mG2i6iW4WMPI9TBx+kekxKZaXtiAQCmZxALvYg6rJcsZIhGi6SbMmcBpVDNOnUi6xfFkXq5b309vdQT6fQ9cNdH1hQO+6HlPTsxwdnWT/G8eZmqkTJkA7boxoFzoYXLmVctcwhplDN0xZkRJzlTRNTwmiQoQILV4QIKvLilFIRITXrDM1foAg8FEQVIo5KuVCqn5q5osUezfS3b+GQrkH0y7FoEajUF68SqSzSr4tGxsbo1arUSqV3ulLOWtLbEsDODSDjp4V2PmKBBpmLg2FarohHWQMKqRwTyvEGSktQR/Jb4iI8iFR9ypQdEZf/yGz4wfi7pIRulWm1DnE6hUDbFw7RFdXB7lcLgUbSUnuQs2soFXhEoYhmqah6zqWZdLZUeDlVw6x/43jBKHUDWj1igjI5Sv0LdtER+/yNrCh6WYrgqNoaUVBFAm5TdWIUMhHAlgNwNHXd9CoTxKFASColHL09A5Q6t1IsWcjuWJXBrTFYWWj/RyLYZZlUSgUUoXXs9ZuQRBw6NAh1q9fv2TnVDWdfKmbSvcyiuVerHwJwyxgmLaMNuhG+ly1urRCIikuhECoSbQu0ZpZhqrZRIrO2KEdeI6DahTJdQxgFzrRDRtV1dIVqhZ6aJpO4EyxfLCTzZvW0dPdhW3bWJaFruvzlIQTE0KQy+UoFPL09Xayenkfrx88yu5XDzA9U5NgodLL4MqtFCt96IYklUtOlR6PJTmG5VeKWlFRLULTQzTDwjTz5Itd9A5vYGbqKHrk0dVRplwqyusySuQ611DsWU+u1ItlS+CuanGZrKqi64sLJM8q+UoLw5CDBw+ydevWd/pSztoS25IADkVVZfjVtFspFF06EFkVki1JjdMORESR7ICqAppuSPVNPUA3LAwzR77UQ9fwNmqzU7jVE9iFXood/axd2cuGNUNUKmVs205TKNnIxqkAR7aVd/JeT3cXF2wzMDR4+ZX9uK4X1+krFMo99A5vpNw1iGnl0eLVmK6b8fc0Yiemp70fhJBkUcmmF0RWiBWWqHQN4XtNmq89jRAenZUSHV19FHo3U+hajV3owLBycoLRpTPWjATUxGS6RQxVdnR0nAUcp7DDhw+zatWqJRM00g2bUucA+WIXhp2PQUa88tf01kvVMhHDVoRBVYR8PJIQtykrM/KlTrqXbSMIQsZH9mAVurBzFZleMMy0IkrqW1iYBYvVQ8MMD3ZTKhXT/kYniyDOFSbTNC1dABQKNl2dBX78/CtUHZ3ugbVYuVIchWmlhhJFYDWJZkRIGXNFQU2ioUnnZU1H001yxS46e1bgVQ9RLBQwTQujMECuexOFjmGsfLmVrtHMGLDF59MW1z3ato1t22eF9ZBy5+vWrVsSLsdZe/fY0gAOlHT1pcQlqC1Vz3Yp8VThM16WqUokmzRFcRt7VYtTFDqabpErdtM9fC6RsodcocKqZd2sWdFHoZBvAxoLgY2FAAe08vVz1VCLxQLnbl5DGLj8+IXdMnVT6aWrfzWFcncc0pY5dFU1UFQdVTXk/+t67MBk3hlVoAQQaQJV81E1HV03MKw8pY4B+oc34lcPUCxXyHVvJN+xHNMuphENVTOkQ46Bhvw+WtxwbvEAh23b5PP5sx0fT2L1ep1jx46xYsWKJTmfYeXI5TswTDtNnySptERPRkkF7Nqfb/kcg0BH1QRqpKMJA8PIIcIAO1+ha2gTgVDwnBpqHC2RE3FciioEBdNn9UCR7q4y+Xx+HtjIRjfmNmCMokiO4zhtk1zfyuXDlIpF9hysUvULLdAcT/yaZmSAdKtZW1wFG/uQ1n1KoqKqplOs9HN8ZkRW8ZRXke/ZRL4kOS+GlU9TUZqmy++c3LtF7p58Vsm3ZZ7ncfjwYTZs2PBOX8pZW0Jbmn7kitJaNWQ6m0oo0j45ziMaknQxibu3JmWq8QSrqBr5Yg+WXaK7bLJiuIt8PtcGNhLHlwUYye/Znyd7X4ZXdbkay+fZtHEt69esoFDqpFDuwc5XJFcjmfyTyI2myRVT2ypNbXWMjb+DKuny8fdT0XSTQscAoVZEyw9jFwfRzXycx5bkWlWNlRGT/i9xiFxZ5AiHoijviN7Ez5IdOHBgyXgummbEof8WeVLK8rfSke2mtP3eiji0xqN8XiWnw7QLVLql1gVR3KE5wwkqWiErejU6O4rYtt0GMrKgPjvmsq/kvWyEwzRNLMuio1Ji4+oK3UUBSU+geaRDESvytrrMpu+JCBF/Rr7k38S0i+h2B9jD2F0bsQudcWrXllFIdYHIUCoGtrhWLBbPNjGL7dChQ2cF0X7ObGkAB2RWDAnQiFUnItn3IHEsZB1L8h5kfma2xKscVdPo6e1j5bJu8jl7Xkg3u8paKIUy/1rb900+n3A6CoU8Wzavo7OjhJUrxWBKfkZVkpWl2uaw2qeBTJg7FhNLzxmfV9NMip0rsUpDsWOUuevWyjXuDpoAjDPI+E7kzs/awlatVpdMvroFEFoRwkTpKnmi5I9k7MioRryR7OOeAP8kDaGqGpqmY5p5LLuA7zvppE4UYagBfeWAcslOuVBzoxknA/DZ19z9EvBhWRbFQo5lPQq2Wk+F9ERMnJYqpDHICEOiRJk0VidNhLuSV9J1WVFVuvpW0T20WRKtDZnaTVKc6fVkhPjOBNhI7vlZAC/NcRyOHj36Tl/GWVtCW1LA0Zp2s+AiaYIWt2VPhIBi4R4y4CP5qSSlqcSAIQroruiUYkLYyfgZ2dBy1rJlXSe//paz1HWdjkqZtSt7UWmJFiUdW6Mo7iSbrsay1x93x0RA/H7mSuLFmbwfVr6MaRdi1ryeppzaHGLSOyJqNazKgrPFMEVR0n4aZ22+RVHE/v373/QZWhRLIg4LjKcoioXjIoFoA+4iU47ZDuwVIEpSmUos669pGHaBwGviuw3C0EWEDh12g3LRbCsrPxW4kJc7f1t2+0LAo1S06Ss2EO5U3Fq+Kau1wlaH17TJm2jp4yQCfFLHJu4IG0gp80K5V5aPGxaqbpC0LzhZRPBMVmyWSqWzTcxiO3DgwM9tlEPXVEzj3SHzrmntqc8zZUsGOICUKS8dYZhKGbckjUMiEaTyxnJ7MnGH8eSciYLEzZ400aBgkaZPFuJlpJdwirpxkQ3PLvBKLAEdPZ1FLNVJV1jyp1RKTGXK4xb2UboCy7afbwcmQgiEaDWtSnL0advtpIonBTZRC2iIVvO3RcYbgAwFn3WSJ7cTJ06kmiVn0hQyz3YMMJjzDBOPrbbxE2XHmAT26ViM91GUFhDQVMkRcuoziMDHVhuU8wqGYZyU/7QQsHhL32lO5EPXdSoli4I6hefMSmn/wJElu0HmlYjwxdLlQeAhAj8VEEsaHUKEYeWlcrCiZa5PmZe2aUWFzhx4TJR8z9rSRgcXwxQFCnmDUsGkVDAp5k0s8+1RIT/x4a38ySd/4R0HHR0lmz/7ncv4yPXnnPFzLU3zNohDngFCaCgiTDkcKgoiiqS8uLIwykon6ChM5YcjkYhuORhKDdO0U8eVOIuTpU/anHO8Xxo5mfP+qUCHZZl0lVRGa3VMuxArj/oyJxwGsvxQtCpvVHmyWNAsjEt5WwBLBH7cQ6JBGPhYOb0tFRPjtfboUBiiKApCBVUASjwJLbIlPSFOnDix6Mf+j2BRFPH6669z4YUXntnzkPz9M4AhFcmTwvwCObwEEYoiiGgfF20gNwXDki0ljw0ooJs5ZmaPUiiVKNs6plmcFz2cO76yr+w55+6THVtZS45pGAadRaieGCcwc+k5owhUEaZcrkgkYCpoKYr6rhQB8xw8tyZJoXFn5fbrbEV/FCGIVHldKgqoadvZM2KdnZ1MTk4uTVTsXWzJuBkcHFySFfbpWl9Xgf/yv78XI+l2Hgmmqy4vvDLGtx7Zg+O+9WhNR8mmuyN3RqNpb8V0XaW3M09n+cwXBiwR4IjSXKuiaiihLAcN40Gf8DtSzYA4T5BqECYplzCc18Lad2bIqR6qmp/n/BYCDEKItNkVtPM1spZ8Vggx7ziJqapKqWhybGqW0O8g0D20wEXTdMIM1yJx5K3uk63umElzqWw/lmZ9Jo5kqDI0Lr8QiNZEIZ2shqKEiDCmCsYlgmfKUSY9IcLw9Lto/ke0sbExqtXqmV29xhEJkQKNEDE3LRBFcjxFrYhYUvUVxSq5IpbxTqIepKm+VipTdmR10cJZbKs7TaGc/NIWjgouBOaz43Eu+EhAR842MaMpnGZH3JhQAg4t1psBWimkuCusFMuTMuauUycMfSy9AqrS2leECOEjwlgXRw2JhCaBFwoCGfo9E8A9sQTAL0VU7N1uU1NTTExM0NPT805fyptaztKxTZ3XDkzywiuj5G2DC7YM8P7LV2NbOl/+1ss/9yDyVLZEzdviltQiRAmDVNhL1eTkqahqGgloAw3xP1Ec2UjztnGL6cB3CZqTmB1qRlCr3ZFlgcNcQLIQvyOxhQDH3GNGUYRp6KjRDL7vopu2BA66iRImyoegRREkyojxd0qAU1apNAhcPLeO59awciVkqiSMJ4g4BSMCokiXk77ik4SAlUgQJau+M/TA67pOuVxmamrqjBz/Z9183+fgwYNs27btjJ1DNiTzZTdTNZDgOQUUscJXpIGIQXxCKFWUFLgmaZT0eWpLbSYTsiRoaqqKbfhpiXjrOk6eekzGWvKzPboyf3wuNK5AAvqiHVGtnkA3pF5DRIRINGcSHhdRHB308D03fjVxm1UJvmLOV9qJOQwQmh5/Rx1FhChKCGEciVSkLPaZjHCA1Lg5q+Qrfe3+/fvp7u7+mYhyALxxbIaHnjoAwA93HuU//2+Xc+76HvK2Tr0pu2wrCuRtg0LepFpz8bxQVlGdwjRVIZ8zyNsG1ZqLm/mMaUjxPT9oPS+6pqKqCn4Qpo+raWh0lCwaTkDT8QnF/HPmbJ1ywaLW8JY0wrKkEY4w8FImvZpwDxSBKmSJKDAHFICS9FhI2sEHnuz4GHr4To0omEVVi+lnEscVhmH6c6Gw71xiW9vVZtItYRjOewVBQBiGqWM0tRA3cFMwFAZuy9lnwtgt5nvrfsjVWNJYyqNZn067VCZ8jJQfogUyFaP6pCvWOP2nCIGihoDK6XaLPZV1dHQwMzPzc+8kT2ZvvPEGGzduPGOlj5ITFI8lVUYEtQgiLY54qBpCle0ACFvRDSWJHJKZ8GMAn/COwiBuThhHEIXwsW2bYiGfKoaeLEKRjLPkFYZh+pnsODsV4EjGV3abZWpE3jS+2xV/XiC0EE3TU/8QESFCHz/uqCzBxixuo4pdrEAkAYnQA8LAR1F1yatS4yoWRZEJz5SDKxdBrYjkmbGzSr4tO3bsGLOzsz+T3JZqzaVW97FMDVWVD1E+Z/DL79vAFReuwNBVPD9k56vHuec7u5mZXbiJ37aNfXz4fRtYPlhGVRTCMGLna2Pc9Y2XCELBf/3Dq1FV+Ksv/pDjkw1yts4f3/ELFPIG/8/fPUm96XPVRSv44DXrKRcthIg4MjrLl+97mQNHZCRNUxV+8ZKV/PJ1G7EtHc8Peer5I6ja0qCOJeNwhIELRHHZZzIPR6m0NyIpC5WlesmkKXPKMeEtDAlDL21A5TqzqFGwYColcWBzyW3ZFdhCoCMBEXMBRxAE6Su7TQiBrobUvQYiKBJqOoHqSXJa7A5lKDgBPmq6Sk3AU5BEODwHt1GNV2KtCheZjvIRoUEY+AuWQKpxCD1CPaMhPdM0zzrJU1gQBBw8eJCNGzeeoTPIdFwYBih+q316FAkiTRBFGoqQoENRWhGOFHTEHCARtVJ62aqOhIyZlKFapoZlyZLoBDAsFPFLXoklEceFxlfyyoKLLKD3fT8dW4qqoIg6rlND1QwZGRUBUajHfiI+VuDjew18zyHwmjj1acLQR0GJzyG/qxLqqKFOmEQgldb9kXgsjhCFCtECK8PFtrNKvtKEELz++uts3779nb6Ut2S6pmJbOqahcfn2ZfR05nhpz3EacXTj9hs3cdn2ZTz+3Bu8/NpxNqzu5vrLVyOiiC/e++KCPvqSbUO4Xsjd9++mWnO5bPsyzt88wIEjM3zn8X1894nX+bVf2swvX7eRL9z7Au+/bDUrhsp87Ts/Ybbuccm2IX7tlzaz99AU/3zfLjpKFrdcu4FP3badv/zCU8zWPbas7+X2GzczMd3k24/upbcrzxUXLkfXlqZ+ZIlSKtIhJMJDoCBVgyO5Mm9bAaWfSoldIpR/xJT3kHRndWqYmbLUhVZdc5tHZVddC70WOk4WbCSAI/uTKCTw6gSBmxEPks5Mi88lRKuUVYhQaguEYaYdvYfnNvC9ZppnzlYWhGGAGnikswby2PEXI4pkWopEyfQMWtIT4myucmE7ePAga9asOSNVPUIIQhFC6GeqVSDS43SEKiNdSqikJOxEbyMRBWtVS8VVHkHMIQo9giABG5JbZOnBPDCegAVN0+ZFEbWETBdzpeDkEcSFxlfSgNHzPIIgIBIRauThNGfRjRxRJFBDLeVIpXyowCfwHELfIfAdnOYsrXL01hhSAo+grY9MogukxAshmW6SYObMc5VyudxZJd/YRkZG2LhxI/l8/p2+lDe1S84bYtPaHvK2rFh5/Y0p7r5/N6GI6OnMcel5w+zaO87d9+8miiJe2jPOsv4S567vpbNsMzkzX232a9/5CU3XJwzlODtwZIZz1/WwckhGfX7w3Btcsm2IC7cOcuDINNddtpoDR6Z57EeH0DWV6y5fTbXu8YV7X0ijKLqu8qs3bWbj6m5+vOsYV1+0AkWBu/7nTvYcnATg2HiN22/avCT3bWkiHFFEGPqxSBXxKkughmEqvBMnmtMyT+KOrCIScS19SOJcgsDFc+qEvivfX2DFtRDYEEKkDnFuZYqiKG3OUjrlaB64CIIAz/NSp+j7Miwd+DIloqpmrFSYERuDVgVOJFKgkWiOJGRR15klDP1WSWMc1haBj1BVAlWVmgnygmPsESHUhHirQKTEJY9nzs7KnZ/a6vU6R44cYfXq1Yt+7EgIQj+JFia8jVaEQ6ixlkaq15IBG2nKIImStOtXBL6blpQGvkezNkm+HJMzMyA8+ZlNo7RdYwzss5HE7HtzFwVzx5brum0/FQKc+iS6VUCEQZtqsRYJCEMCEeAHHqHv4jZn8d06mm6m4CkMDMBp8TJi8iwAZsJxiVBVgYjvW7tGzpkxRZFy541G4+cewLuuy8GDB9m8eWkmv9OxyWmH/UemWb+yk1LB5PBolYlpCSKG+kromkrO0vmV97cinYW8gWVqVIrmgoCj1vColCxWDVfoquQo5k1EBLYlp2k/EHztO7v5P++4lNtv2ozrhdzzwG78QJCzdQZ7izhOwHWXtfxOT6fkPvV1SRA31F9iZtZl76HJdJ8XXz3Oh65dGon5pYlwEBH6XryOiAhjXkIqy5xp3Z4S2+KfQoSEvocQAUkZW+C7eF4jXv0vnPudm06Z6wTnsujbUi9CkK865Kca+IbKiYpFoJKuwDzPS1++7xP4Mt0hQk9qBfhSbjwl8slkc0qWlZEaP/49IPA9fN/Bd+uIsEXik2W/PqHmo/hS1l1TdblSU1QCkD0xlABUDVVRiBQVzrCjVBSplngWcJzc9u/fz4oVK1IQu1gWxUBBUdV0YoQYUKcAPqNCmkTvSBNwreMkaZTQI4gBRxCDD8+ZxXNrQGUeL2ou6MhGMpKxNDeVuVBKJYluLATmk5fruvi+TJ9aTg1hyLLzohC898gEl4zPYochu8s2DwxXGNUEbnOWwPdQVK3FHVM0IGoBsCwQiiKiMEz7EyVg7UxzOBIrFAoYhoHneW++839wO3DgABs2bJhHUn632Sv7T/C17/yEUsHk05+4mKsuWsEzO0fYe2iSUsFEUaC3M4+mtYPt1w5MMFNb+O980dZBPnrTZvI5g1rDw/cFhtGe6jg2Xmdy2mGor0it4TEyLrsPG7qGbUkZhY2r20Ua970xxZGxWRQFijmDqapzpvnQJ7Uli3D4vptI6kgCZaZ9thLEzimVPicGHVGaZ5YiWXIi9px6rIAY4AXePG5F4gSzEY4k/DsXbMhTtUikmutzzo8OcflzI3TM+oS6yr4VZR6+eiVjnXYb2HBdF9d1aToOvm+kHJOkzFdqJggJGDJaCEkFgCTCCsI4YhP4blqqmBU3CnwPkBLugarJVIoCaiRQwyAFbkJNSnDP/MoskTt33YUJUD/vNjMzw9jYGENDQ4t6XAnA3baeKbKaREsjayJTZp5MsKklIFsI+XwJCWpldMOT6qJeE6cxSxgEKahfCHQk4ykpk46i6E0bIyb7JWmZbIQjm05JxpfjOLiuS+DJhYaIQkoh3PaTQ9w+7lCIE4uXn6iybXSCP19foRo5MefJlOMnJooqqkoYyjGSLVdP76Euq3bS+7hEgENRpJLv6Ojokpzv3WyO43Do0CHWrl37Tl/KW7LZusf939/H733sAq69dCX73phietYliuAHOw5z3yN73tJxktRHKCI++8UfcmhkhnzO4C//j6va9rviguUM9hYZn2rQ05Hnul9Yzbe/vxfPD2k0fUbHa/zXLz59UkBRb/qUixa6phKEcp5Q1Z9erO/t2pJxOALfkSHMSCDiRklp0ynIhH2zX16u2rLaGyIM5ArGcyX48IM03xsEwSnbzs9dZc19LwoFax9/laufPUK3iHuHeCHb9k2gTc1y9wfW0bRU/IwzdByHZtMhUouEYYAWBoSqzBUnTj3ldcRk2ChdJcqUih/zUcLATwGWHyuNarqJGn+XIOleaURxKiWO4sT3MXGiS1FBkjjJY8eOnfFz/SxaFEXs2bPnDACOIFbPhEhJonNSZK71nLXE5pSUFJlcl/wnIY2mz5vnpBwit1mTPUzCAD8eW3NTi9nW81nAkYylueJgc8dbNkKSgI0swEjGluM4uI6LCJU03bj50DGuHp8mTyvXr6JwUcPjlw6M8vfDuZiv4RL4HpouuzEn5bGtUE+ElEeL0BLOVGigajItFYmlk9wulUpMTEzg+/6SnfPdaq+//jorV65810c5Entl/wnGTtTZurGPns4cR0dncb2AS88b4rEfHUr5FIauUi5aaeola6auUSla7Dk4yeFjVQBWD3eQs1r3YLC3yC3XrGdkfJb/75+e4/+641JuumotO3aPMjpR4/CxKquXdbB5bQ+790mBRkVR6KrYzMy6BKHg4NEZLjx3gAvPHeSZnUex47RPzl6aez3vLEIIvv71r9PR0cGNN954yg9/+9vfxnVdPvKRj7wJQopkqWdMyFKzgEPLdLpUWjlpSMhtLQ0OEYd95eTsSoflizjsKldHWcAhjxG1hXmTbdmfye/aTJ1lL72BLdq/iwIsm6jRtesII5t725xjo9Gg3miiF+R3DDQtBk/ElQIaapwCSfkrUhQgLk2UyqKB76SS6GFcsRIYNnpc/piEx1NnrcvSQJHtrRLfv2iJVmaJ3PlZJ7mwTUxMMDk5uah9aETMF0rGkjAs2VZd1VBCPwM+5wKO7HhIxlVCwvbx3aas8nDruM3ZONXi47hOWjWSgANd19tay6fXFhNF5xKxs5Yde0lKJYlqtAB8k0ajkf7edBz8QMX3HExFZWh6WqZpEegZ/RGfkBW1GupMg0CRYyC0ZJsAyckIJbk2+S8R0RNRXHIeoGp+K2IYLh3gOKvk27JqtcrY2BjDw8Pv9KW8JWs6ATt2H+OXrlrHxVsH+c7jr/PIMwe58cq1/N//6TL2HJxEiIiVwxUUBf7Lf39i3jFcL+CNY1XWrezkk7e9B1VR2LKuB0OPtZxUhY9cfw6WqfFv//4qkzNNvvXIHj5563u49cZzuPPuHXzn8X38/scv5Hc/egG7940z2/AY7CmybKDMX/79U4xN1HnsR4fYtrGPX//guVx63hBdHTk6y3abtseZtHmAY2RkhC996Uv88R//8Zt+WFVVvvzlL3PFFVcwMDBw0v2iKCL0nTj/7KXtoDUtbkqWWS2l4d84J91SQ0wco0ynJMx6zw9pNBppiD+78sqS05Kmbsn1JD/TaIAC6okZNMfBwSJPGIuRK0QIHALco2Mc7xbohkEQBBJs1Os0mi6lvCCMHRvEwCr+nlFS+hsDjaQkOInceE6NwJdNpyIREgQeWhziDg2vRUCNSbVChGiBQagbcWpK5u0hkX9eqlbpGh0dHYyPjy/6sX3fRwhxyi61vu+3kX0Xw6IownXdRakwSaIcl1xyyaKFLIUICXyHpLRVC31CzWhrr55EvZJS2Cgp0E6eu6S7ahimwML3ZaM2J45uhKF8Hhv1Op7nzqskWajcfG4pLCxcoZK8ssdrNpspgM+CDcdxqNXqYFqEvoMfgRd4TKNQwKOIhoqCQ8goHm+IJtNTs9TUkHypB9MuyHsgBLphxfctjjDqYVzhJdA0A6EFMQdG3sulSqkk1tHRweTk5NuOUEZRxNjYGCMjI9Trdbq7u1m1atU8TZhms8nBgweZmpqiVCoxNDQ0r4NtEAQcOXIk5etkfaZhGAwMDKAoCp7ncezYsfSas/t2dHRQLBZ5O7Znzx4GBwfTReK7xeqOzyv7Jzg6Vra8wwMAACAASURBVGvb/vhzh1mzrDMtL/3mw3sYOV7j4m1DrBgqI0TE2ESdZ3eOpJ85cHSGhuPL4gQR8YV7X+CD12xguK+I64d846HXGOgt4HohpYJJztL53tMHefk16W9/vOsY61Z0MNBbpFK02L3vBP/vPz7D+35hNQM9Bfp7ilRnHR54bC9TVRkVfWX/BJ//2vPceOUaujtyHJ9s8D/+9UVueO8ajo6d+fLseYDjoYceolwuc8kll7zph6+66ir+7u/+jscee4xf/dVfPfmOUYTnNlKnqGk6qjDkiiIOBSttqZWkPC0kTHqMhO2lo57bxHebeJ5PrRZQKDTaAAdIZcy5FSxzHWCbwqEImCZkEh8VsOL8cJ2AgziM+nLViqKg6zqu61KtVvF86biCwAdFk6BAD2X/BtHiqgCZ7rFxK+1AhsiFiPUPYlJg4DkEpkPgm6R6CiTVPRqh6qEF7RONnGTaIzdn2iqVCpOTkz+13Pldd93Fzp07+fSnP82KFSsAqXnyzDPP8OCDD3L8+HGiKGJgYICrr76aq6++GpBM9scff5ynn36a0dFRFEWhv7+fm266ife85z1tf9+nnnqKhx9+OL0fCUDavn0727dvbwMzY2NjfPe732Xfvn04jkMul2PTpk1cf/31pyVGdOzYMarVKpVK5W0fI2uRCAl8N1YK9Qk1DU2TTf60WIFTSdIqqpbF75momt8qMQ8Thc4GTmMGp1El8Jqy6irwaDR9mk2HfN5LW9InnV2zYEPTtHScnSyqkfyeTaUEQdAWLUxAhuM4KYHUdV1MXRD4Dt1OCIHHISAgIoeKh2CakEN4PKW7OIaOrlkYZg7dsNEMG0WBMAzAd1P13oScrUchQgvkeNV0VDVACTXCJUypgPRXSfuAn9Z83+fuu+/m0Ucfpdlspn+TgYEBPv3pTzM8PIwQgocffpj77ruPqampNCJVKBS49dZb0zEGsGvXLu68884FfUmlUuFP//RPKRaLPPPMM9x7770L7nfNNddw8803/9TfBWBycpITJ07Q19f3tj5/pmx8ssF/u+vZeYqhJ6Ya/PWXniXJ1wkR8cMXj/LMzqMY+nyFUID/+b1XyfKIxk7U+R//+gK6rhGJiCAUbeP3r+96Vs5T8eeDUHD3A7ul1kx8jP2Hp/ni4RfQdRVVUfADMe9v89Ke4+zeN46mqQSBbJPwD//24qLep5NZG+DwfZ9nnnmGLVu2UCgU2naMoogTJ05QKpWwbRuQIfVzzz2XJ598kttvv/2kq7goivBjwCFXEgaqHsiVhJo4xjl9GqIIEcXKmqEfpxmk9Les6JDkNj/wmK2FFAo1LMua5wjnRjiS95M/QkJai6IIr2ixr6LTMeniEmGh4BFxAp+disMu22S2VktJqUIIZqqzKGohrfGX5xaoQiD0ADVInH+rCqfVLVYy6H3fJfBkukjERFHPq6O7Viv3nOm/oqoaSrwCU8O4TbgqQUcUVwAtlb1dufORkRGOHDnSVunyve99j7vuugtN01izZg1RFLFv3z727dvHRRddRKFQ4L777uOb3/wmuq7T19fH9PQ0r732Gvv27eMP/uAP2oSDXnvtNQ4cOEC5XMa2bRqNBq+//jrPP/88559/Pp/85CdRVZWpqSk+97nPMTk5SU9PD8PDwxw7dowf/OAHVCoV3v/+97/t+xMEAfv37180QaMwDCRhWtVRdVlVIbQQVfPlNs1I+ULZKpVsKiURkmsjJnuuBPNOHc9rxs+iT4BBvd6kWHTbAMdCJefZtOWblcJmIyau66ZgI3keVqxYQW9vL6qqsm/ffg4emWTAi/iNQ1OIQPASHicIsFGpEXJUUzjY283Uxm1c2L+CQrkH0y6iaUZMWm/iNWvUZo5Tq46nejdRFHdx1mV6RRWCKNbQid6BnkFvV8n30Ucf5cEHH6RSqfCRj3yEUqnEK6+8wpNPPsnIyAjDw8M4jsO3vvUtwjDkuuuuo6uri+eee459+/Zx9913s2rVKlatWgVAo9HA931WrVqVPruJz8zn8+kckOy3fv36lOiZ7Hc64ndCCPbu3fuuAxzASeXJFwJdUYRckC64P7TXjsltfmb/7CEXOm+UpOjnWPAmKZJQRFLPZ4HznElrAxzj4+OMjIzw/ve/P3UYQgjuu+8+vvSlLzE7O4tpmtx222381m/9FqqqsnXrVv7t3/7tlM13okjgeU0JNvQQNZRlnnJ1HoONjANL0gaRiFL55YSXoOomhqKgGzZWWMK0C/jOLLW6h2nOZrpKSgeXRDkSoaLEYS6oB4Dgtfcsx3tmH6sbdQqouAgOG/B0j8VRMyRwksZxYZxWaVLs7JLXqWSiEGooq2+yOiOxJd1udVWg46GpLlg+RVMlDCwcF5ymQxg08BwVRQERhmi6QeDraLohpZ31AEXTCQMZBlbeAcAB0NXVxfT09GlFVnzf54EHHgDgM5/5DFu3bk1B7qOPPpo6uFwuxwc+8AFuvPFGKpUK9Xqdz33uc+zevZsHH3xwwYn9Yx/7GBdddBFCCF599VXuvPNOXnjhBXbv3s3WrVt55plnmJyc5IILLuATn/gEmqbh+z47duxYFKnlRO58MQSNROin0UItNGQlhuahqPK5kCkVvSWtD3FldpSWXBOPn3ypG8PMoWoaUaQgApcTo/uYnjgaN24L0A2LetOn0ainremzqZQsmD8V4MjyNbJ8kCSCkaRSNE1j69atrF+/nkKhgBCCoaEh1o2MkpuoIg49yy4CdvYWKDgBeqQjhs+B9e/BWraBFaVu9JjXoqhae4o2Lkf3nDrVqREmxw5Qr47juw0JwnQDXU9Avrbk4wjevtz5c889RxRF3HHHHVxyySVEUcRVV13F7bffnqZUTNPk137t19i+fTu5XI4oirj22mv58z//c0ZGRti9e3cKOBJbvXo1t9xyS1sqbCEO3ObNm7nhhhvm7Xc6PmFkZISZmZlFiw6etXfe2gDH6OgozWaTZcuWpdtefPFFvvCFL3D11VfzwQ9+kL179/LEE08QBAGmabJixQrq9TpjY2MnBRyablDpGpLhWt8hiIidk94q30sdpFyJSZAh866FUjf5cg92royqGwRek2Z9JhbbcvG9Bm5jhoY3iVqrt5W+Zldfc8XAklRKUurn+z5+0WD8PYMcHK9TPDpJ1HDwNq5m5VUXYE83OHzcw3FkvntqYgQnGEdTjTidIiMYQoQxGTZp4NYCIpoiyNsqPd15OioFcraJQkQzzlknqz7HdalW60zXfHy3EVe2mLG8c4gIdYLAiycYLQVuEdGSsusBDMOgVCpRrVbf9jFmZmao1+uYpsn69evT7T09Pdx6662AdHA33XRTG/m3UChwzTXXsHv3biYmJtp0Ieaaoihs2rSJrVu38txzzzEyMsLWrVsZGxsDYO3atei6ThRF6LrOxRdfvCjpKc/zFk3QKJlEE/AQBn6aUgtTwBEDeFokURQFw8xT7OgnX+zCypXRTVs+N7QiIMXOAU6M7KVeHadePUG9egLHqzFTrWGa1rzxkwCOBGxkQQfx+bNl63OBR1Ja3mg0cF2XtWvX0t/fn6a7WpwQwQFvlufXWQTaIFFnD5NaD8XudZR7V2DlKxhmPq7syqYY55PQdcPGypUodQ4xM3GE40d+gtuspZwqTTdR1aXncCTW2dn5UwOOZlNWPswlcCfcjOSZvvzyy9ue6Vwux7JlyxgZGUmP8W6xKIrYu3cvF1544Tt9KWdtkawNcExPT6Oqatuq7rHHHqNQKPC7v/u7lMtlNm3axM0335w6lUpFCgOdaoCYdpGtv3ArTmOG6uRRxkf2MDNxhMB3MxUWpL1Hokig6xalzn4q3cvJFzsxrDyabqEbplx9hD712iSN6gl8t4Ff7MJtdtOsjSGqsynQMAwDXdcXJLllyWuy9t/HCxSK3T0ULjiPyVf2IY6Mw7oB1q5czsq1Bj3HAia8PlTdwnMb1GeOMzV+iBPH9tGcnUSEoZwAwvbKEVWJKNgK/d1FurvKlEolLMtKr09RNZpOwGTVJ4hMhJqnJ9JwPZ9avYHvujRqE2lzqiByWympjO4CEKuyLq0lTvLtTtBJqq5Wq/HQQw9x8803L5iiS7gCWUv4I0lK7c2uIXGsuZxU4evu7gbgmWee4fzzzz8jDaRef/31RRE0GlhxLu9570dp1iaYmTzKzMRRnEZVll+nDd1k/japarLzZcpdQ5QqA9iFcjqWNM2QEThFjYGqwM5X0HSTiWP7sHJl7HyF6uQItcYJcrVaGh3MSpLruj4v1ZLV2ZDqwCFhKPADQRiKTHSjgdNs4jhNVFUln88jhKw8S6IgzWaT8fFx9u7bR6gIyp3LsbvOobN7JXahA8PKYxg2WlKxE0c3kvLgNIWapJUy++iGRS5fYfTwbmYmjqRpTlXV05YKS21vR+58/fr1vPbaa3z1q1+lXC5z7rnnviWichAEkpdGaxy8m+zw4cNs2rRpXor/rP1sWpv3S0ScEoZ+FEWMjIzQ29vb5oSzK5hkMj9VaaSiqOSKndj5MsWOfnqHNjJ5fD+H9/2Y6RNvyBb1sVNQVJViuY/uwbUUK31YuTKGlUPXrXTlkUyydqGDUrmP6tQIjdoUumGjmzma1eNMzExQ8gNsy1wwFJwVH/J8H9cDNTdAvmeIntIsuVwOf91KpnsqDAwMpGHJzrxLIwpQ7D4su0Sh1E1X/1qG15zP+NFXObr/BRq1qVR+HBRMHbq7cvT3dVIpl8nlcuRyObmKUw2cMEc9qBDqZbTeIoZmxoqHCR9F9nUIAw+3WZPh4NH9TJ04hOc2Mvl6mYtbynK+xBK581qt9uY7L2CWZfG+972Pr3/969xzzz3s2rWLD33oQ2zYsOGUTHUhBDt27AA4aQSh0WgwMzOD4zg8//zz7N69m1KpxJYtWwC49NJLeeyxx3jjjTf4q7/6K2644Qa2b9++qE6u0WgsiqCRnS/TM7gOIVYzuHIbzWaVybH9jB3axfTEkdZYAgzTprN3JZWe5RSKXZh2AT0mUkqSaUYfhhZRu6N7GSLwqE6OoMW8q+qUwVT1+JsCDshENcKIIDJQ9DKq1YFiFVA1CXRMRSX0XYzmDMr0CO74QUJvhjAMqdfrafVRGIZMTU1Rq9UIQ4FeWEahfzuFjgHpG8wYbOhmDDZalVstefdWvlxGezKluygo5V6GVp2HphmcOLaXQDigqLHg3tJbInf+0wCOD3zgA7z88sscOnSIz372s2zZsoUPfehDbNy48ZRVXHv37uXQoUPkcjm2bt067/1du3bx+c9/vg3Ef+hDH5rHrRgdHWXXrl1t+61cuTIF9W/XPM9j//79C17bWfvZszbAkc/niaIIx3HSbZqmnVJy13WlHkaSY1/IFEXBMG0iEcjcs27QZ2ymWOnnyOs7OLz3R3hODU0z6OhbRVf/Ggrlbky7iGHmMGIHqetmm0KprBaxMO0C1aljzE6PxoBEp1E1mJwdI+/UyNlGm0NUFCXlbfh+gNBK5Lo3UexagaU46MoMIBF/f39/CrbCMCQKXYLmOLo9gG6YCCFz5pquY9oXUO5expF9zzF6aBcilC2L+7sr9HR3UiwUsCwLy7JQNYO6n6MWdhJqnaim/K66LtMmstpAjaM+8l8hBFauTLHSS8/gemYmDnPk9eeZGN0Xd5GV/R+Wml2f3NPTARwgnWYQBHz729/mxRdfZNeuXZx33nl8/OMfZ3BwcMHP7NmzhxdeeAHTNLnyyisX3Odf//Vf+da3vpVWQ/T29vLxj3+cnp4eoiiit7eX3/md3+GrX/0qY2Nj/Mu//AuPPPIIN9xwAxdeeOGileaNjY2dNuBQNR3Dkk3MRGihmza5fIXO3lUcO7iTo/t30JidxLSLdPSsoKNnOblCB4adRzdtdMOKOQ5GvMrPqvsKhJBjq6NnJUHSLFCRxLTqRMDUjOzBkAUcWe0bIQRBqCD0DvTCELnyEFa+A8MqyuikqqdJDjkGPdzGDPmuw4zs/QEzM1UKhQJBEKCqKkEQMDk5yexsDb0wTPeKC8iXezGsvPweutHigqUlwVK4S7YKT/RAEs6BgqqCQEPVIjRDghA7X6Zv2Tn4bp3xkT2paN87Zfl8vo3c/mbW3d3Nn/7pn3LvvffyxBNPsHPnTn7yk59wxRVX8Bu/8RsL+mfP8/j6179OEARce+21C6bEJycn56VKr7nmmnmA49lnn+XZZ59t2/apT30qBfWnY6Ojo2cBx38QawMc3d3dRFHE8ePHATmJrFy5kpdeeok9e/awYcMGfN/nhRde4IILLkDTNMbGxjAMY14d91zTNENKb6sinkhVCqrKqk2XY+fK7N/9GPlSNx3dy7FyRRmtMMyYCKentfEJoSs7CaiaTmfvKnTDojo5kk7UDVVndnaUpjNDzlJl6iKTf/b9ECU3SMfAVgrlfqxcEcXzCX2ZbzZNE13X03yz53nUarM4jZBCJUyJmooSpimNUscgqzdfiWmXGNv/DD2dJh2VErZtoes6uq4TRjpT9RKu2othlzGsQmuVZphzFCPbG95JLoeBqpvohk2xMsDxI69w8JUnmZ0epdWRd2lNCHFaHA6QpLbbb7+dyy+/nAcffJAnnniCHTt2sHfvXv7iL/5inpOrVqt86UtfwvM8PvzhD7Ny5coFjzs8PEy5XObAgQM4jkNPT8+8xmrr1q3jM5/5DD/60Y94+OGHGRsb4ytf+QrT09Ncd911p/W9EluMZm6KoqHpJlL3IkRoOoqmU1R1Vm68lHLnIG/seRbdtCmUe+TzlIBYtcXxaBG2W51To0igqTLKaFKk3DWcKvqKUJbTVicCJqamqQQBtm2n0UMAESlgdJHv3ki5azl2oQPTKsTRyRbAURQ1JnHKYxqGhabbhIHLxPhOFGWUcrmULnampqaouxqVwa3kil3opp2JdiaS7rFPyDStS5R3M9zZ2FQUJUpLh1XdQBMmplWkb9km6tUTTI4deMdSKiCf7Z82PdnV1cWnPvUpbrnlFh544AEeffRRHn30UUzT5BOf+ETbvkII7rnnHvbt28eqVau49dZbFwQ4V1xxBb/+678OzFdoztr27dvZtm1b2/tzCahv19asWbMoxzlr77y1AY5kNb9//36uvfZaAG688UYefvhh/uzP/oyLLrqI/fv34zgOf//3f4+maezfv59SqXRK4S9Q5MCOFBTCLI0Looj+FVswcwVmJkYwTDsO9UpQkvAT1LR0trWKkcsWIBJoukGpcxBNM5gafwMhQuwoREQhjRlBc2YSU29iGjK8GIoIs7SCzsFtcsVk51F1A6ISzdkAx3HS/iuO4yCEoNlscnx8Ak8rU0pa0ANaZpLXRYhllxhatZWcpRHV9qZpJ1VVcQOdGaeDyOzGMgvoRjaq0QJVWcDRFhIWAkW0ymwVRWVg5TasfIm9L36PKIowraXPd9br9UXrqzI8PMxv//Zvc9111/E3f/M3jIyMcP/993PHHXek+zQaDT7/+c9z9OhRLrjgAm655ZaTrgjf9773cdFFFzE1NcWdd97JK6+8wiOPPDJPI8A0Td773vdy/vnn88ADD/DYY4/x2GOPcfHFF582r6Ozs5P+/v7TOgbIRYAsf46I2lID8Xn6VmNYOabHD8cNmOPeIShtPJ/k2clukzSHCBVA08kXu3BKM7J01vSx82WCoI/ZCY+JqRmKeRfbtuVEr1oUes6ho/8c8uVezFwp1sGwYp2QFsBREgG7SCBCCRYiFPqXb2HCMBk7+iLT00cxTVktNFt3KfSeh53vQNOtGDzN4WmQUVaFzE9i0b3EWn2TyAATNa7ysXIl+ldsoV49gW6eXjrg7ZoQ4m1pcSQ2ODjIHXfcwbJly/inf/onnnzySX7zN39zXuXhI488Ql9fH7/3e783TxwssUSmfq6WylxbsWIFl1566aJWqYDs2ZQtYjhrP9vWFitOlOlefvllgkCG5VevXs1nP/tZLr74YkZHR1m7di1/8id/gmVZCCF46aWXWL9+PaVS6eRnUciQG7W2VZamGxhWnkr3MipdQ2mVRxgk3WFlGJQ5jjVtwKTEjjQGJbliF519K7HzZXTDxrTyWPlOQrXMTM1ncnKaarWKYvZS6d+MXejENG30uEukapZw6WByaopqtUqtVqNarTI5Ocno6Cjjk00UqxtNlwNUURQULZZoj0sSVU1DN2wKnSvRiitBkQPWCzUmnA4CVV6bpieO2EjJbqoqq1vSe5SGh7U5q1OpwaCbFqaVo7N3JedccBN9yzahakvfg+B0HORClkTXPvzhDwNw9OjR1Hl5nsddd93FSy+9xMaNG/nkJz/5lsiYHR0d/Mqv/AoATzzxxElZ+blcjptuuonOzk5qtdpppYkSW7du3aKkZhLAkVUUlS0CDDTDxDBt8qUeyt1DqJou1WoDV7YGEFJzQnIZWk1FWjLkGUVbVUXTTEod/RhWLo6+yeoOq9CJH+pMTM4wPT2N40Gh91w6h7aSr/Rh5UqSW6FLsKHpBpqux3wQXaZVkmc93iZTo2W6+tfTteISZoMODh4eY/+Bg/hUsMv9EmzMIYMmPCkyUb3WryfTBUrezUCRBHhoBoVyL4Orz0PXT65yeyatXq+fdudYRVG44IILUiJ24s9B6t1885vfpFQq8fu///snTVe+G2z16tUnBUNn7WfP2ry0qqr84i/+In/7t3/L8ePH08ZTGzduXFDE5ciRI+zbt4/bbrvtLZ0sJUC2OTcJFHRdhoB9r0ngOWiaQeAbcbjTQI10CUDQ0lbbCklLbFJAoqoadr5MZ+9KKarlNtBNGytXxPea1Gcb5AtFKgObJcPdtFFjiXAtnqjtnm1UR55l9ugxbMsEIppNh5qrYndvpdS1LI1uJOTQKBPKTcCQphkoVh+16gyKGuGGZbR8ATuOaEiiW0xo1ZJyxlZr8ezxpEWgKqhRS1sgUiM03UQXIcVKH1Jh8PRluX8aSzQUTvcYjuPM6zuSgALLslAUhSAI+Id/+Aeefvpp1q9fzx/+4R9SKBTe8kpq06ZNDA8PMzIywosvvsgll1zC8ePH6e7ubktFJfwEVVVPu7KkUCikaqqnb8nzBUlqQFUioqSJn6ajGxZ2oYPQd6lXJ1DdBlr8vLVAsUCI+LNz7l0ykSsKGFaefLELtzErnzPdxLILuLkyNa9J3YkYPuciOgc2YOcrGGYuroCJRcj0diXcVjQiiqd7hUiV7QJAEIk8pY4BWHMRrh/Q9A9T7F4dRza0TESmPWqRtSgCRYl7U0cKKNGc/aIUdCRbEl+iqCqablCs9L0jwD2KIiYnJ3+qzzQaDf793/+d9773vW2VJrt27cJxHLq7uzEMgyiK+P73v89XvvIVisUif/RHf8Tq1asXpfT7TJiu66xbt+6dvoyTmqIo/Kfb3sMFW+ZH9/ccnOSv73p2gU/9fNu8EXX11Vfz5S9/me9///t87GMfO+WHH3roIQYHB99UBl1J/80M73Rh0grtaoZFrtDB1Pgb8arIRDc8Qs1MV/lS3ErJHJPU+aKoKGoEoYpu5ih1DuA2Z/HcOrpuYpg5QrtM9/AW7EKnjDKkJXRaem26VcTu287UyC6mp47LE2hdFHpW0dm/FsOUhC5Swl2UvpKVowRHoKg6nlJhsuFilfPosY5CmiZK885Kqp3QPqkkPxNHqsjvn6xK1eRYOppuYufLaEu8MluM6MaPfvQj7rnnHq688kouuugiSqUSr776Kt/4xjdQVZXLLruMKIr4xje+wVNPPYVt21xzzTUcOHAAaIV5h4eH31Qo6PLLL+fee+/lqaeeYsuWLdx555309vZy2WWXMTg4yOzsLA899BDVapUNGzacdvO1NWvWLF7nywR/Jqt0JQbwCTlSVdFUXQKDfBmnOYvbnG3xgxI+VBjEnyX9fFqpEkUoUUTcHQMrX0E3TFRXPqeaZsRaFhX6l22i0rMyLrU1ZfpEzYDnBDhnUoDpF1FBJSLSNIhavYd0w5QVYOUeFFXFypVSvZD0NszlZWTGHalctHy12gLMHaPt4zZq3VR0w8KwTl+o7ae1BHj/NDY7O8s999zD/fffz5YtW+jv72dsbIwdO3agqmq6IBwfH+ef//mfEUJQKBT47ne/2wY2LMvitttua6vOeuWVV/jHf/zH9P+jKMK2bW655ZbTrkB5M1u1an4fmHeTKQp0lm3CMOKJHYfxvJYcwdjEW68w+nmyeV6wXC7z2c9+9i01xLryyiu5+uqrT51OYe76I94SQRYwJM5St3KYVg6nMYumWwSeiRrngEUYtHgTiaNVMrLNUZT2KgEwrQLlrmFcZxbfraNqOqXOAYqV/lSNEFWLuSJJ+amIm6n55DtXY5eWoVv5lMhqmDlUVWuBBFR5vqglJJb0aEi7cUYaulHJ5J6l9oG0JDWUENwSxxzfnwVz0MiVWyZvnQCYJOy8VOa67qKkHIaHhwmCgPvuu4/77rsv3a7rOtdffz1XXHEFvu+zc+fOtJLqC1/4wrzj3HrrrW/av+H888/nO9/5Dnv37mV2dpaBgQF27tzJrl272vYbHBzkox/9KKZpvu2GWrZtn5TMupiWPi8kcuaSXGrlSjj1GTy3nomoJZVemQk8Bs8tvYq40aCI0DQdu1ChUZ9O91c1nc6+VfQMbZBgI04LKpk0j6JmIpm0QHJ6TlSEEkmwr4aZtI5MUeYKnXF3aYOkdDexhG+SpF3lTzUGHiJ+n3SsJDyopI9RlGlKlgKPKKKFOdR3JMLxdhR7e3t7+chHPsIjjzzC008/nW7v7+/nwx/+cFq9lfSmAdnj59ixY23HyeVy3HzzzRQKBSqVCqqqMjo6yujoaNt+hUKB66+/nlwul6YJF7vJmq7rp13RtVTmuAH3f38vs/U3T4MVcgZBKHC9hbWSNFWhmDepN32C8OQ+x7Z0dE2l1mg/ZyFnEIoIx136SsW3YguOqA0bNrylD7/V/YD23PG8lUZrv1vvjQAAIABJREFUP1WRK5padRzTzcmVlS8JlZraKuOTDc0CUtnwSE7LIj6XgnSilp2nWOnHqc+g/v/svWmMZNl5JXbuvW+JNSP3rfYqVlevbFHdIttkSxSp1YJa5owhDwQLFqAxTMv8YQhDy/5jA4YFy+OZgTw2oGUM2ZZljyQb4BC0NJZGsihRGi5DkRSbZFNF9l7dtWdlZmREvPfu6h93eS+yqqu7qzKjerkHiM6sXCJeZL9337nnO9/5KEV3bhlp1naJjb6sUx8jr8Yu+IeBpC2QtI0ky9FqD5w3oznfxE6SNW4QlJ3LoKwZTgoIXqAqhtBKgLV61nOReGl7384PU2XoKZD9afneQNpQjGpJeN9MmkPG9vb2HUmyP/7jP46HHnoolO3Onj2LX/3VX8VXv/pVvPTSSxBCYHV1Fe9973tx7NgxEEKQpil++qd/OiSDejRf/4EHHgiff/CDH8Tq6upN3SHLy8v42Z/9WVy7dg29Xg8f//jH8eyzz+L8+fMYDofo9XrY3NzEww8/fNfKxEFkEUzByhDTu/TGv/1UWH/j9tk01WSING1B+DZSxRokA7URGwjns/bE2RikedeaVQFoYxOAF5aPI806ddDWlInztc/nZolwv+kVwZdhY9zt9VYriTW50JYQuU2GphrQyprSiIGGAYGGmSpJAkF9bBIPl5iqtX3O4G15DQ/IYeFOybtXMT72sY/h+vXrGI1GmJ+fx2AwCOevMQZHjhzBb/3Wb4Xr5VYx5T6D6cEHHwz5G7f6ef9zH/3oR/GBD3zgwNWOjY2Nd0Sk+fGNOXzy5z+AP/jzZ/HgmWWcO7UEA4Nvffc6fucz38RwZI32jBL8wOPH8ZM/+B70uhm4UDj/whZ+7w+fwfUdW1b+uz9yDt/3yAb+8q8v4Cc+fAYJo/i13/0qvvGdq3j/I5v42A/fh4U52/5ccQVjgOcubIMSguObc/iVf/Z5XN+ufWv/yc98Lx44s4R/8A//7DXnvRw0ZkPh3W4EzQu9sVDW/3YueTf5sipHSPMuGKugkgyKsVDGICCghk0NtPGvAf+c2kYpp1kbrc4A5WQXad5tlC4s/A1aKcsWKUtqEkQQsgu8WdO39fkFTyuvaLjhWFJAyspOtS1HDaNso22vObDOP0I4UfMGUv/Xv0dzE3GrmbD3lMwCQog3HcHs8fjjj+Pxxx+fIguDwQAf+chHbloEmz/zvve975bfv9Xn999/f/Ae7SdFPi7Z//x9990XItUPymVPKT3wXdrNXQB+p44p4uFv5pQxZHkHw/EOBC+cDyO3ShvxXVaWRED7Xapx84KkjfvWVn1I0ty+htZoteeQtbqgjIZyzlT5D05hQPM8teqDJwDT5/D0/yOtNQQvwvVGUL+/aaKgQAiFUcRRDJuzAW2sAmqmDaXN59ANJdI4Q639O9x9d8Wd4E7Ju0eWZcEAeqtrhxCCPM/f0PVzq5/df00YY8LwxoP8exFC3tLejf0gxCoL4V5kgEkpYAyQJgztPMW/+6P3Y2evxJ98/gWcO7WIxx5ax43dAr/7h88AAD70vUfx7z/1EL7z0g18+v/7DjZXe/joEyfQa38P/tH/+iUopdHKEqwsdPB3fvg+fPelbQzHHGUlcXxjgJ/72CO4dmOC3/nMN3FsfQ4/8sFTuHRthK986zKWBi08ev8qvuf+NfzpF14EACwO2njwPcu4fG08M7IBzIpwwNjd/9SoeNWQNn03irtxEtjE0NENF7WcgkkOxVIQUk211RI3Qp6AuAVE14uJm4ppjCUdvk3PRjnDScaWoGglAANbZmlIqQYGSdZ2qkZzPoVtH6xLKG5WhJvCKQUHL8fg1QSt7jz8xFevRIDQ2szmnk8bDWoorCRMwsdasdi3w8P+heJW5avDw+7u7pseS/9uwtGjRw8hktmEGR/T5YTm5/V5QUDAkhSAQVWOkKQtSFGAsHrOiDGm9hP5c9HNFfEDz7RWSJI8EIS83QelCXyj25Ra6TcTWsNQR4i19WzAEQB7eLr+uYZqAfihjQKMZfDs3/6KDuuHNgpEU2inqmhCQGGgTT1W4CbTtQEM/PqgYBqkSrvrOKxNM7ya7oa8v9OwsrJy176pWWKul+O//cUfnPraL/3jz+L6dm2kv3pjjH/yv3wJO3sV2q0E//g/+yE8fHYFANBuJfixJ0/j6o0J/qf/4ysoSlv2ShOGjz5xAsfW+3jxVRtGSSnBV5+5gl/73a9Ca3t+/uiHTiFNGX7vXz6Dbz+/BUoJzp1aRKeV4ktffxWrS1382z9wBt/3yCY++6WXoLTBe+9bQaeV4vN/88oM/kI1Zlak9NKs35U0dxVTKgcAgICxxA1mK5GkOZSooFhat8EBAAxo2NHBqQ1+AbELh1J24eTVOHSx+IKuDourm0RLqb3RExI0BUqIXfSacMfpVQ2lJJSUUJ5syApKchRju2PxMysCfBXHkKDIWLXEJoUSCmjtZXE48uFf2tfWdcMzousF8i535W8UWmvs7Oy8/g++S8EYO5QadD1SHQCaN2tV3yj3kw5CQFkKXo6Qt/oQPA2+CHt+GRiWgGoazqFwDfkx9oK7yqUNzGJp5q5F73+oR71PlywUNCEgGiCmkYEBT5I1lN8cuDUCxkCKKoyH92Q8EG5PDJQrCbn1gMFAG1/acUqKe4/ElY4M9DRp8UqOktBaWLVS2a9jBteRx87OTiTvqNWNg/aEHCaKSuIzf/bd4JswxoRSicdXvnkZO3v2a0UpcfXGGIuDNgghmOvmWBy0cWVrjB94/Fj4nX7X3nfWlrqBcAip8f989tlANjwIgNRlTDFGkaUMQmpoA1y+PsazL2/jwTPLWF3q4sr1MR57eAPjQuDp89cO5W/yWpgZ4TBuMbE3SVVf2FpNqRzGGEBrEEKhlYDkBVSrYyejihKEEChnIGPGwFBdEwRj3E1fuI+OdEiBcjJ0OyunavhF0i061A/9CvZ3W+KgNA3qBOB3cv733cRMT3IUt4uz82+U4yGyVie0BcIpK17pAazRlRgFKAIKAg0FwIBSt7gGM2D4Szo5WdULuld2Qs7C4WM4HMYF8jZYWlo6lF2aL+H5z5vngFHS7tqbfiJ3rlHKUBQjyG6JJM0guJ0X0pwUq8m0h0O5QWZKcEjJw/9v79VAKE1oF+KloKmEpgxEq6nNQd3qPb1h8OetPW73udGQogybgeCRahAqOBXTqxj+TCTGgOp6XgqAKYIzdcxBxbGbBa3k1IZlVteS1hq7u7szea23Ol4/RPKtB84VPv+1V25rGt2/CeRchUp6u5W4ERhd/OD7p9vnL18fYXtYTj2PlNPn5Xdf2obSBj/71MP40omLOLrWx8ZKD3/w58+G1/3i37yKh8+u4Pse3sDn/voCzp1cxDefvTalwswCMyEclgjIsDvxC0ytREj3dQmjJbTbKdk6bgklBBQTkJQHqdQ+sYZy5jhCEMiF0dL+jrQEwE5YnSBJcxhtajnVLTpE2eekdJ+L3tXA/U0etJFkaRkOtFJQDaLhX7MqRpCyQovNNTwbtfxs1RcFQhR06BG2bYLKUBgvCzfaY+3vTnfC+EXSaFkb3w5ZCo7qxu1BCMF99913KOZdO0NFNtQsXV9L7lwIO3Z/XigJA0AqASkqSMGDh4MQ4pQBDZ+QoQPhaCp2VrVTSrouKHc+7rtx25s3nX7vxgRzNNzYAfeNm1RJ5dYHO8fE1KqDXzOYAtGebHjDOECZ/XtQRmEIBUDttw1p8hsAuiY5jWtIKQHduH7tOjIbwrG7uzsVzPVuxtmzZ99W6sZBoCgluFD4+t9ewW/8/tfe9O8/cHoJhFhy8r4H11BVEp/6k/P44796PvzM189fxXBU4fGHNyCkRpJQfP5rrx7k23hDmJmHQ0nhpNrmxe4XxoYiEerGloRIUboFIHV15rqX37iFz97MUS8c3kvh1A5ejuzzsbRRarHf97NQoEhYCG0Lno0ih4EjBtpKwu4d+XZcq6bUi7IUHFJUqIohjNHuWJ0RC76a42vkHIo0F0Qb5EUphTa0sUtrLt66cZNR090EWsEYeegllYOMMX8nYmFh4ZaDsA4CtoQnGl6L+hzwJEGHhwznp3FmZsFLJFmrDtFyvg3KlPM11WUarRSkrCBFBSVsiB6vRsHLMVU2ca/VjFL3fg5DNYhxreC69lVMKzSOGIVjtnVsS3JEuLapsmMCtFNMDCHQBoDyx9OIT9f7/RvThlEzRaws2QglJMlDqfUwEcl7jW63G7rW3k3YG3Pc2C1x/+klrC52cPWGVR0IIei0E0wm4rZbyKPrfWht8FdffQXXbkwwLgSKUkyVXSalwNfPX8UHv+cIfvTJU9jZq/C3z28d8ju7GTNSOOzCAVeLDdKpdouLrHcX0n/udmpSVK6ckjRaSG2jqG9PJZrWOyVPWNwNXfLStroqCdY0wTnCQVkCqhkMARRgF0bqvBOEWgXEaEtMXKiQr7BoNzI+qBvCKyolRDWpd0hBGjY23VFru7B68ygAMGfeg7Hqht4f3wy3ZtbtfPXNplmDPvza80HHmL/TcOrUqTeUY3MnsOpdVd+sjd+x10qDPyf9taOkPd+l5JbkCg4ZFDfrI6IqaXQ/1eeXlBxSlBCiRFXuQQoehscFH4R/SAnVMGt6YzZlCYhhTnmoFTtvfG56KZQWULKyCqQxULyEFKWbN5SAyqRx3K4bx2ibp+MIBAgFbV5bUy34jS6XYC4X4fqV/sFLey0dMg4ixvydghMnTiDL7k2c/N2g207x8X/vfVO5GZevj/F//dG339DvT0qBf/Wvn8d/8O88gk/+/SfwN9++gqIUOLYxh9NH5/Gf/5PPvmZuBwB89ZkreP8jm/iP/977wteKUuA7L27jdz7zTdzYLWAM8MWvX8SH3ncUg16Ov/zrCxhPZn/ezVDh4KGG2pQytW4qBHaxsYtcASkqsCQNuyc/R8EvjMzNP/E7s+Awd6UVKSrwamwnXrodUtgtSQnKeDCRMqRgAIyhMJqAUg0bteyyMnRj5+QWS7+btMqMex+iQlXsQcoqHKcvgSglwJSAYQxaM0ArQFZh58WYjW+vg8FqA2v4SzZMtvWuVtaLphSHqnDcSRLiuwmdTudQh00pJa3/onlumX0EXgko4ZQJWbkbaeWIhz0PqbTmSsCWIqknSM6MakmMhJQcvCrAywl4OQ7KYyiNSlvupCyBNgmIv0kb57FiCajRYSZQINChu0oHH5QtTQrwqrTfJ8QZx207byhLkulUVJYkzmxdlyFVIDa3agH1HpC6jT2Uj0QJIQpwPgkqy2HBGBPJu0OWZTh58uS9Pow3BWMMvvPiDWQpQ6c9PU5iNLHnTlEJvHJlOOXDAIBL18eQ2oS94ee+fAGTQuIjHziB955bBQEwHFf40y+8COE8G1s7BV65vIdqXxvre+9bgdIG//wPn8Glq3votlM8ev8a/q3vOYKnPvIe/PanvwEA+M4LW9jaKbC00MYXn744045Gj5l5OKwJDMHs1SyrKOGNaVVYYERVQPICebtX/5wSIMp6KjzBqOcqTBMZq45w8GrsPCLa7vYEh0oFmBbQKnG1YoROEZ+P4bs/QGulwYdqNTMAasOoDMfOq1HdcueHZjkpPCz2xJaHDAAFEUiJnajJnGTsyjxTqnBzZ+uldBnUISmqQzW73UkS4rsFhJBDVTcAWzYUogjEYL9x1JcGpLueBLedXoIXtkxg6vIHQOw5Rznq9Fx3Kbifa57TSlRBRbMf3TWkBKhM6mwPQgAl7PFpBcMS17pah4vVVUTvZ+LQkttuNFmGc0yKCqIqkKStRnaIT0StSzrEDU2k1JdR6qAw90oN02jdLVerQjY7R/ISwpEr+zc6PETyXuPYsWNotVr3+jDeFIwBPvUn5/GpPzn/mj9z8eoIv/wb//qmrpL//dPfCF1fAKCNwb/5xkV8+ZsX0cqscl9yOfV7/+rzz+NPv/ACVONrhBA8/vAGXr60i89+6cVAYF65sofHHlpHr1MrRnmeIM8TbO+W+O6Lb25ez0FhRsFfNsTHLkC1pOnlTCtjWunUko0JqnIEwQt3g5fBAW+9IC7wR1K3UCIsIs2FV1QTu7NTwi4swntCciiZTYUfeWOoH4BFDYVBLQ9bsaHOKZjuELGLli2ljCF5GZQH6WrQSgrQxBKc4EGBtlHTzCsWBMQlQNIgTTfH0+MWdeja9GaJW3VoZreDijF/pyLPcxw7duz1f/AuoLWE5DYtcH9Et/dDSacU+tKe4BOIamK9HF4Na0SZ1ymj/iaNcI3ZG77/fQGllHt+AZUIUJWCSFealGxfyJaGJgpUS3td+WutQaSNVze0rE2bgjsVwnad8XKEJMtrshHSQhWYVtCqHg5Hg8qBwGpqZbURCug6eKYIh6jAqwl4uYeqGELJw/Up3W3Q1zsFjLGb0oDfSVDq5v/H2tw6NMkY22Z7KxgDqH3nizEGWzsFjm/M4ad/7AG88OoOOq0UTz52DGnK8LVv16nMjz24jn4nw//7l8/dNjb9MDEzhUOUE/jFzKAmHM16sycbvByBF3vOKW6glN2BKd/epuudlM3OMKHt1t6AtcveGLkdk9+VKbuDSfM6MRS1NEuZse2xWsGwRhIoDFxmottVudfRakrpELwEryaNttzK1YI5lM5ARaNTxREVSe147npSbD1/wg++AnDLtERtFIxrL/blHM6LQzO7RXXj9pjFLk0rBcHLxg6/QUAbJlElOIQj8Jy7HbuwKhj1pNd5gjRpGjndyLbg4SghuCPukjc6OZxapwSoYtCSBf+Gk0gAZvMwtFb1eQ3U7bJOpfQbBaUEeFVASg6jJfx1V7rhc8Qdn/ehMBfTbifTJvXo+hDvT0I3GdAkaM1OFZehEwjaGFU5QjnedZukw0FVVRiP44AvAFhfX3/deVwRr43/+f/+G/ydHz6H9793E08+dhRSaezuVfjtf/E0vvh124lCCHD/6SVsD0v8m6cv3rNjnRHh0OHiDfkTWjd2Y1YCtjuxMXg5QjHesTKrEpC8ang3tJt0aXdlCo0yg9+xOOVEVEVoWQ1kw9WDfWtfU21hTNYLl2osXD4QNAQtNXMv6rY+KSzBUMqqGr6kIyqbyhgyD7SGTqSrnSfQitVD3aYWy+bAq0YrIeDilxsqUaMF2BwC4YhJiLcHY2wmNWgpOXg5glcjAvkMHSpWwRCCQ7pSCC/HKCe79vyoJsFHlSSZvZE3zjevAITSpIvobxpQ7b9LsDQDYwmUZOFmD3e9GGhQndSKA2mUUkhN8msvhTvuauzIjArkVpRjVInNw9FaQqctMCXApDOSumvWfpyeUTR13TQ7cIJvxJu9K0vQyjGqYg+TvRuHSjhiZ4oFpRSnT5++14fxtsbLl4b4p7/zZXRaKVo5Axcak0LsG/sB/O4fPgNKgOEbGDJ3WJhRScVA8Ikzeukgo/qH9R6UkGKCqhijnAwx3ttCkubgfGJDhbRszDTJQqkhkIYpb4jN4fALpV+IrdN+BJrUyZ/GODOnTMOoesqmJVqLfW18SgbSobRXTwoIXkIKHjphqmKEvDUC8UpMOFZPOJhNInU7M+rr3F52ti8NhHkVmKpDWym6SXAOR+GIMea3x5EjRw4hxvxmGCXBK3sjDCmhU+FzMhhLJR+DF6Mwz2ewdBStzsCei1qBVxMQXoI6ogvKphU8JSF5aR8uh0MrAVFK8NYkdIn54HHjPUaJcmQjQR34NV261KY5fE1BGwPlkoWVqMJmAzCQkmMy2oGBCYqEJTuZVTmoJxzMejkaWT3TWSgN0hF8YTKYa0VVoCr3UIx3Mdq9cmhKoRACw+HwUJ777Ybl5eW3VYz5WxmTUmBSvrbvaP9k2XuBmZVU7CLZ7PH3AUXWrKVEBV4VqCZDFONdGG3sHBV3M9ZaW7lV8CCh2ps0mRpL78mAVxuEKEO7qhQlyslumKdia8QSLEnCouUHrdmPqTUANuOYwzyYeoEPJZWqsOY8V8ZRSkIXQ1TtXhh1XUvfCRjjIJS5RZOBMAZK2NQibTeM+wKkmqZRVc+MkcKWdA5a4YhJiLfHrNQNAJZY8iKQVxgX0e/C83w6qA+7s2qIwebJR9Ff3ECS2EhyH8kvqjEmezfcVGMZbtRWufNBYbbTRUvhusoURFWAOeLvfsEphQJUpGBJMnUt1WpDU2mw569XOaSsr1O/WdBaAcagKobBsJ1mAonIQBM75JE60mE3DHZdqJUVr7jUQWmB9PvOGF9+qiZ2s7N7DeVk6GbFHDx2dnasnyQCp0+f3kcKI97JmF1JpRrbBQkGaHSTSMWhhc2u4OUIxWQXSdbGmUd+EJ3+EtKs7cofgJKWlJSTHZSToXWnNz0OjVq2FFYi9WUUIZxLX1Y2cdTYdkAmORhLkaQZ0rwDCkBpDYMKRtvWPNroULHvp5H06WPaBQfnhd0NujRH2znCkU2GYEkayi8scUmPYYqs25l58uGVlqYBDnbRJAZTWSZ+oqdyHT68mkDpg80PGA6HMQnxNlhaWsLCwsJMXkuKKsT01ybsWpGwN9AKklcQfAIQivVjD2Jh5YSbvJzUu3/YNtv+/DrGe1sY3riI0e5Vlz9hgjIoXfeILatYYluVe05tZK7UYVU7pjgIqVVCSt3mIJQ4fEOYm72yL+3TEw7pNhdK2i4vwYugCkrJkTofFg3dKUnwc9QdK3WZx1o5/GahTuj1JRUh7GTn8XALo90rdiPADn55VEpFdcOh3+9jZWXlXh9GxAwxM4WjKsfuc9vfX9eI6505L8dIsw7Wjj2EwdIRZHmnHk9N6vKCEhUmo20Mb1zE3s7l0M3in185KdguJBPwagLBSxCj0O93QFCBwKDVncfcwgb682vIO3NIs7b1ijhiIESJajLEeO8aytEOpG+h9bsluIXT5RUI7jttJs5oZwlPMboBylgwySZpjiTJwdLcPZsB0RLC7XqslyNxHSzMES6XWNqYO1N3yPiuhApVMTrQwKKYhHh7EEIOZUjba8ESju0wByV0engCKmvFkCUZNk4+aq+lVgfMjaWn1HoqPFFJszbSvINWZ4BWZw43rryA8d51F76lQst68G5AgShbfjBwJDrNoIRV6mjiS4T1/JRaQWy2tdbma+26VLxXJGwUKvuaUlbgfg1xpVN/HaGRZAwYgFB37SQN5bCeE2OvQxcM6MgUryYox7uY7F1Fv9fG5pEjWFqYO/D/f5G81zhz5sy7Lsb83Y6ZKRxVsQdCSZBem+UUyUtwXqDV6mP9xCOYW9xE1urZHRRtJIy6mHClpF0gu/Pozi1j6/JzGG5fsqFEDYVDNgxvCTWYn19Ab7CC9sJJzK+eQ29+DXm7jyTNQWgCRuswJL8YW5PcBMVoGzvXL2Dn+gVUhW0NJcS75pULDHJlHEc4lBRIW10kaRtaCmR5B/NLx9Ff3ES7O480a4cdp9baLXxjlONdjPauoSyGIIDdybHmLBY9vTN0bZC8KlAVewdKOGIS4u0xGAxmWoPu5BQ5UxhPJjbS2zeFNDJhpODI2z2sH3/EkQ17LVmzdBLOJa/UMZo2FAmGJG3hyoVvYefaBUhZhetUS45OnmCub+cD7RUjcBAkaY4s76HTX0TenkOWt4OyoJQIRkx/TUyVKIMfqdEi7/wUvKyJOzHAYGkTy5vnMFg6gt5gFVneBUszEFBobU3ik9ENTPa2MNq9inLiRnqztGHGNtObHWekLSe70HKM06eO4/jxE1haWsRgcLCdE8aYSN4d2u32225IW8TdY2Y5HLzYBUgdnCX9wDMn07Y789g8/T2YW9hAlneR5C0wlgVZ1i9StttO2Whmylw5JEeStXDtlfOoyqGrY9ezEea6ORYWF9GZP4X5jYfQHWwgb/eQZh0kaRbk2Lre3CybaKRZC2nWRaszQHewgq1Lz2H72gsQvAqtfV5yFtwmFRqt0ekvodNfxMLycSxvnsX88nG0uvNI0hZYYh3+Tck3TNxUAlU5wnh4DTvXXsbujVcBoxvGvkYngXufvgUyAUeeHUzwVFwgXx+HHfS1H8ePLuGHPnQ/Xr10HS9cuIor13YhhAydFzAK7d4SNk6+F/3BKrLcnuMsyep4cOdzMO7m62cUgRBoo9HRCqtHH4DgBa5dPA8lOSgBFgZd9HttMEZhwJB2++itnMPS2hl05haRZd26A8ylfGqtnYpp/VnDG5cw3LmMcmxbrH3TuR8yFzYKzg+ltcTi2mlsnnoUK5v3odNftkTd+TZAKSh88qh2OSVWVdy6+iKuvfod7G1fBGBACKs7zZwaxKsxeLmHdkZw4uxpHD9+HIPBAJ1O58BjtkejEYQ43DCxtwtOnDiBNE1f/wcj3lGYCeHIswQnNnp4/uVrkMqEllilBKA1+gsbWD16f9i1JFkLjOVT/fUgNkXQm+VIw9/Q0vNYXLXBMa8+/xXw8QhKSSQUWF7sY35xDa35M5hfvx/t7iKyVhdp3rG7PpbWr+PUBj+rxUq3JngqiJvPwJIcadbGlQvfwnh43U2arDtFKGPozW9gfuU4Vo6cw+LaKbQ6VtHwr0mTZLrGTBots1oizdpodQboz6+jf/0Crr7yDMa710IYWFByJHfx1RU6OcG59xzHXP9guiWKoohJiLdBu92e+bCpPMuwtrqE+UEfJ46t4rkXXsU3nnkeN3ZGMAboDVaxduxBdPuLYEHVcHkVSRp2+4AllIRQaPc5YxpJmiPNWmh15rC8cRa7W69AQWBxvo9er4skSUGzPtoLZ9FbOo12fwlZ3qvPa5ZMXZteAVSSI2/Pod1bxGDpKLavv4wbl59DMdltqHVunokzj7Z7C9g8+SjWjj+MTn/RbRBy153irsnG9NlAJlo9uzmYX8fK5n248vK38MpzX8Fo92og61bZGAOaY37Qw/Hjx7G5uYnBYIBut4tWq4UkObjlMZL3GnmeH2r8f8RbFzMhHEnC8OhDp0Gg8a2/fQFc2NHPlCUYLB3ByuaOLV+/AAAgAElEQVQ5tPuL1iCapGCJJwFp8DH4WrCXYH15RWuFNGtBtXqYm98A3ziHl/e+iFZGsbQwQHduGencabT6m8jbfWStDpKshTTNQ2td6OWfGjxlAJO60CLnIQnKgsT8ynGAAK8+9xXsXL8ApQSM0cjyLuYWNrCwehLrxx5Cb34NWavvyIbdaVJmXfyUNDpgiJ+uqWFMAs0UaGJNcCzJ0e7O48qFb+LKhWeglY1C90qO0RzzvQxnzxzF+trqgS2UMejr9jh58uTMa9BJkiDPczDGkKYJHro/w/JiH1//xndxeVtiYfUkslavYaC07aKMpiCkNnDCqws+C4Pq0N1hfzdF3pnDwsoJFNsCnU4baZYj7x9Fe+l+dAYbaLXnQlkjSTIQVrfC2mup2babgQl7XTOWgaUZ8lYP1179W2xdfs51pNiNiDYKC8vHcfKBJzFYPIKs00eWWQ9KkmZT763p72qWZ2wZMkWS2NeZW9zEd7/+J3j1ha+F1tssZVhaWsLRo0ewtraGXq+HTqeDdrt94IQjkvcam5ubb7sY84iDwUwIByEE3W4HD91/EoIX+Po3v4Mk7aC/sI755RNodeaQpm1HNFLnMk9C2cEbvwCEDArqJsQmrg0wSVKkeRv9xU2sHjkLVJfQ7i6A9U4i766g1Ru4WnbLGjYTRzYSZ85sGNoAAkr8DrDeP2mVgylhCU7WdrvJh23deLSNbn8ZvcEqFlZOYuXIOXTnlu1rZq3G66W1oY00R9B7GBhtExqbpjtCV3AkfQwsyfHS+c+jmuzZ8CZmsLrUw+mTR7G8vIx2u30gN0HOeYwxvw1ardY92aVRSpFlmcvOsOfG5sYqut0OvvviNq4XXeeVIrbc4Ig7oXVQmA3wdOYPP1U1nIIkqBOMJugN1jDcehlCAXNzp9FduR/t3jLyzhyyzJL3xJFo+1r1FNqwQWDuXKY+vbcewGjbxQkuvfh18GoMQinWjj2M4/d9AL3BCrJWb4ps1GsEm7o+AO8ZNTCUgfh0U2qPY2H1JB58/8dgDPD8t/4cCSNYWlrE+voaVlZW0O/30el00Gq10Gq1kOf5gZLJGGNuQSl9R8eYR9weMyMcWZah0+ng/vtOY3c4xtaIoDu3grzdA0uz0I1RRxU7lcPNeQhkoBHp7NtJCaEgLAFhtpWtO9jA7tVd0M4RZO1F5O0e2p1518bX2B1RanMvwo3fEw4fGGRgiLED3Ixv9XOteK4m3u7OY2XzPmxdeQGtzgBzCxtYXDuFdneANG/b2rl/L4l/b3XLXjPADHA7TmpbccP/IWOQGgO0NFaO3A9ejfHCNz+LjEksL/ZxdHMVg8EAeZ4jTdMD6WuPUyxvjyNHjiDP85m/LiFkyjPid/X9nsF7jhsklytsFcpmdLjZISEoDj67g4TU29DZsS+jwr4YkGQt5J0FJP1VtBfvQ95ZQJp3rELoTKgklCRZYwicTxY1MMaWPbxKaJOGXZml1cPi+mnwaoyLL/wNltZO48iZ70W7O+/IjCt7JmlQIm/Oq/GBeK6sYhoDDxmA1IaSdeeW8OD3/SQYBXYvfwODwQALCwvodDrI8xx5niPLMjDGwBg7MMJRliUmk8mBPNfbHevr6+h0Ovf6MCLuEWY0nh5OAk7R7/fwwLlTePr8NdeGaoN5CEhjHkKjUyRUaH2pA/VXXBozdXVcSx7soteZP46ss4Ss1QmLl//eVNcL8WOs6w3ffpAGCfHZGJTQsKvrzq1gvHsdeauHwfJx5O2+rZ+7cs1UeimpZeDmx/BaxLiMEIBQA2KYXdC1AktzZK0e1o89BDHZgtg5j4X5AXq9HtI0RZIkYIzdNeEQQkR14zZIkgTHjx+/J6/to+4ppWCMWVNzmkJrjW63jc0lgeryHgqZg3AGylKAEDBjrxzqg7Aa5clmx5OfQKxc6yghBItrpzC3eARZu480ayFJM0v0ncoSNgWeaLjSjHGvCRiAGlAwmCQFMxpMKav6pRnSrI355WMwRmP16ANod+YC2agzafZdQ1PheI1EXv8+qf+cwZgELNFIdQud/hLe8+iP4pUMyLGDNE0DwQhTod3f96Cwu7sb1Q3YdXpWAXkRb03MpADtL+AkSZBlGVaWF3B0vQdoEXZecN0rdgJqnTWBMMjEhH/X01IdHSG1mVQpjvHedWStHtK8E1oCfSqpN4U2NORaim28pmm8nj8Gf5z+YQxcp0zmykPH0Or07YwKn4TamOtwM9GoJ9HCf3TH1vy+/x1KGZIkQ9buY+3EY+gMjqDT6YTF0k/+vFvEGPPb417v0vbfGD35SNMU3U4La3McprwesixkIypcSlnPXNE2i8LOG7Ipolq6h/IPiU5vEa32XFAI/VDDm+b8kPrc9ccZvhzOaxoIBGONWHKaYHHtDNrdebAkb6iQLCic06/ZSBJ1ZaFbXTP+YTcIiVUle4tYO/UE0tYAQMP7Ea55TB3/3SDOIKqxuLiI+fn5e30YEfcQM3O8NRcCxhKsLPbA9NjlcbhF0AUA+Rt/c/y2DfhujIZ3sxj01AwVO6CNssS1A+Y12XBEg4Spr9MSso+JDpMk3fOjuRC5VMdac/HkRAcHPg315VpJCYOxPLF47b/Sa//d/HwVSoOhr7t8DlJTd7wmkI67QUxCvD0IIW/JXZo/T5IkQbeTo5/sQpRDSGENkr4rzBMPm+opptrHbfsqD9NgBS9gjEaad+r4/X1D0SxX996QmqA3b963OiUtWfJE2XaNZHm74adqkJqwQSA3x/zv2zw0v24a5B1+Wi213rB2fwVJ7wSkVFBKTQ2LuxX5uFPs7u7GGHPU102MMX93Y2YlFQDhAiaEoN3K0G8pDKsxdN6x804SAcoSGw4EAkootN/BAOGGWg+pcqOyhd+l2RZR26efgbEUnhbUwzUbJENraGIXA0qsXyMY0MIx14TG1radImO0izWXkC4u3WZ6sClyc/Pl5evldfkENQ1qvnL9NzP+X+45XQR61lvFZPyK27UqSCkD+bhT7O3txSTE22B5eRlzcwefQPlm8Fo3Q694pGmC+T7F8Np1CN4JOTbwgw5pAkLQGNGupq4f6Wax8HLkwunSupvK+OvYBGUQjWtKGwKib6EO7FML7QHbL0tRATB2cu0+8zZpkvXpJ3RP4YkOwe3PehLegx0hkCHrb6K8ejFcP/7asR1g6q4Jh5QykneHubk5LC8v3+vDiLjHmBnh2L9IMsYw10uxszWGUvNupDsHVfUcEa29e97WmeFMZz5/ohjdwGS0BV5OYGDctMdxSCi1P1/PHdFGgfrPnRxrS70UirrOkKZEjHr0t69v189VJ5pqJcBa/TpQKSyQpkFc/DhuZ0Q1No+EEApiJ8w0/la2XBSUnrCoNuVeCpa0gGwF48kFdDoSQggIIe54oYxZAbfHW0Hd2C//N3flHpRStPIMLbKNvckuEpbBpaCDpTk0ke6ccgRcqzCkTUpuZ/KUdkx8qzsPuDLd1Dnp22m1BogGofZ5YIwNpwu+Ck9SVMMzous4duOm1pK668a908Z/sc/cWiuLtUhbv38z9TMmKJqW5cM9KNK8hzJbhhDbgXBIKZEkyYEoHJG81zhx4kSMMY+Y3SyV5u7BS6V5lgDSLmw+ajhJJDQVkE3jKKu9GnCzUsrJLiZ7W3YGwmToxtuXkLxAlnfdIqNDgJdWCppJaM1AdK2aGK1tGx3VQS72sm0o4bhdYDM+WksrS/NqDKONm2oLu4tyu0ANAxp2gSb8HSisxFsTG3LT38veCKbLR83FFgAoIWDZHCa7GkIIpGkKKeUdL5Sj0SjGmN8Gc3Nz93yUtj+HdLhhT19b/kEpRbdFcGPnBkSr57xLNs22Nlpa0qFUnZRrB78VYTorQZ0/Y4etuY/GEnhimL0uJOx1ShmIMdac2lQ5jGkMHbTqYF0GLdxk1n15Gg1iUX/NdtkA7pIgtWra/BvV14wvy7rn0DWRoJSBZAuo+HVIKaced6twRPJeI8aYR3jcE4WjXhQJqLHTVZOs5SZFprC7FgJAg7kbfi2zGhddvO0SCW1duipHKEbb+8onaEjGElQJKOKHRwGGaVDCYIwGMRRE+44R27miGztA+xyN2rdLRSzHu0jSFgilgeQAbrcXFudaZTHObAoNGEJBiAmvN/23mv5drXW92PsFFHZORKEScM6R5zmEEHdUM44L5Ovj5MnZB33th792POHwO/P9D2MM0pSC8G3wcgkg1E1HFmEgoieuflChHWlfoCpGKMc7aPcW7WspWXeyhI4WBUIUCGrjN4UBNQaGUMcJvJkTDX+UHzjopxxbRSVv9RCCwnyZJiiKDZUSVpUEMdCkbivbTzjsxkTdfNxa1koMAJa2UY0phBDgnCPLMkgp7/g68tjb24sx5g7Hjx+fafx/xFsXMyMcfmHcv0BSSDs6XrShWArJqtp5DgAG0I1+e2MMyskupCiti94vXi4AjLLEERtPFKR136sESvqpqyQEDxlqQI0G0bReHKcUh+awp3r+i5/DIKoxslY37AbtzcA4M6sE1Qm0tu2FRBEYQqCNsS2v3mXv9e7GcUHrepGUsvFeVL0QO9IhdIKq4mi35R0rHDEJ8fbodrtYXV2914cR/AXN6+i1PgcAauxAP8pSmERBKwaWKDRbsW0kf2nnAPES5WQbSslg6LRkW4Gp+lrTlAHKnu+MOXbPLKkgqBN7/cfpc7p+HskrO2zQE/FAsJ2KopUN8dISRFmyocFAiJkqgQaCM6WMSDvxVkk3o0hOXzvGzlcROoWQdUkySZK7IhyRvNfI8xwbGxv3+jAi3iKYWUnFL5Le3OhlSxgFIQpkkkPJOsacEhoMYYTWWRVKCpTFsO5qcQuXH3lPKWuoAl7ZkCCkMVoeXmKwMeLGNIKKmgTAShZ2sdIyuPy90lGVI7sg+rkR9s3a11cKmmm3E5QNp72XnevMgv0Gu6Yi4hdo1chIsMSjfs/aMBRlhd5d7MxiEuLtcezYsbfELk1rHXw6TRK//7ry3yOQqIoh0qwD4wYA2rj+BHDFQ6UERFWGNtpyMoTxRDtcY1bZ8z4lwCAxxgZrAbB+JUvcm23fTr+zP9EYDa/cZkGK0pGLhmcjDDGUUFTYUqeqS5DEmHqGCmkYS8OhODXFEQ2l9l0v2hMP+7pCUwheBZXD59ncKeGI5L3G+vp6jDGPCJiZwuF3D82HUn4kdQHVtgtacz6CAWxgkVcPYCCqSTBq+kUp3JCVgKa2pqy0dDsyOxUyZAKEIzIwVINQayCtQ4tIzTXcz9l5JQpau3KK4BC8BC9HwWMRZOBQc9aOGFC3CNdmOGoMoK1JLuwAG0ZVhBLKtBTs36OdoeL/LWEMQVHaBZMxdkfEYdZDyA4Th0Gc3irtfE2i4R/7/QdCiEA8KDRkNYIQpSUcLAFR0kWKAzDGTht2ZKMqhuDVBCzJplQ1JQUoEyDSkg1/zidGA0hhTD2MsDmQEKgJh/dwKFlnf4hqDKNlo4xooI0B1darRaiwBm8HAjg1kkxdP0DdxeaNqd7orVymiF9vQoebku6hw9/Mk467IRydTgdnz5690//F9xwHef28Va6biLcGZqZwyIZkyTkPDykltLExx4qlIeQndHf47hTYHRKvJi43QIVFw5MPpSQoFUHxUEqCSg5NCJQjMUq59AxtQJmyi9ZUzHjd8+8XVr9I+ThmpThENYESHEZ7pUSHhc4udgqESusZIcySJ/uMVnYmFEb7yHYgUKFAVrSTlOuR9XUbcGUnxPoSj5YQigc5+E4WjHfSwvBOei/74QnGrRQOf9NsXmtaSwg+tq2n7kZOCAVlEnCtrdZHUUCKwnanOELSNEorJUAld81XzZu6AlOiEfs/Td4BhM2C74qx5649l4UoHXGSU4ZU402l3nfVKFna12Aw2pdtaMjMq42hdenGEwvtPV+SQ/qptKKEVhpSqqm/XZIkd+XheDufg2/nY494a2NmhMMTjaqqAtmoqgoV59CJIw+yqhcWdyMPigesm17wItRifTqiN45qJSEJtQFGUoBSDilqAhGM+c5MShUL0zRvtTPzznotZZBhQ9tgNaoXsqYSYWpFgigGSiW0suUhZayqoql2Lv6a4NQv2SAugXD4hbNeKKWoILjrzBEcytgFk3MeSyPvYHjC4Y2hvpQydU01H5xDcHuTh9GgrgRIlJ9NpCFl5cjGxJY4JIdmaSilaGW7siRow/ipoBMJpiWMzix5ZypMiiWUYbo0iUCmpcvO8V0xwRfiSx5K2em1Wlk1Q1nzpfWLMDfcUNVko6Ee1h1eKhCZ+vqpyYZyry1ECSEqyKTOsjkI02hERMTNmBnh8AugXxTLskRRFCgmJVjPqghSpSBUQIKAagUthRvWZOu1lljIuj3VLyCSW1KgbEqp4AWSJIMgqLtWYMIOiBkDTWktAav9cxnqBcwvrn4BU5JDVNbN7xUPKXhjYbZtvVrZXZgKi6KtPRu34GvaJBv2+2YqmMznHDQc/ULYRZKXEK4FWPACkk+gqF0sbX5JXCjfqfBKhicc/ubor6myLMO1VpYlyqKElJkL03PtomG4miW2UpaQVQleTVzSqABlVe3bYMKaOmEsoWZ+/EAdiEeVG6wWptiyYBpFIwvDGOVUBmnHxPuUYac+aCVhqHJ+CwaiLLFQ8OpFAkqV83DUKoonG3AdM4GwK1cKdW33zbh3T9hFNYHKpktSlNIY7x8RccCYGeEoiiLswoqiwGQywWQyQVGW6HScz4JWDe+GhqbM7sikL4Ooeoflukbq1lhh5VrB7SIiWvX8BXsQtQycSDCaQDf8Il7ZaDrsQwZHaNGzCkdVjiCrIsyb8OmMiSNIVDEowsLuy0/JpFTXX9ON14ULOGtkDfiSSvBxSGGVDV5A8hKyKiCqCXg1AS/30G7X8npUON652G8a9WTDE4wmmbdTSgsIrp05M6ljw31HlFYNpawMZUpwe05TYVVHf/6zpJ5Cq7UlH0opO8/HzUSpI9CbhACBcOhw8/ekXUBKp3ZkLWgmoRQDIRLakX/KmommzLWwO+9TON/rDhXvgTK+nd3Ftvv3KYS7fsoJBB9DKRYIh58UGwlHRMTBYuaEwy+Gk8kEo/EYFVdoaQ3Jy3o3pBU0swPQDHPSrFvgjN8l+Zt9UBdESP4UvESSlG5Udq1YeAJBZQLFEuu4dyUVgIBOhXE18zBq17wUJXhVh5VJwcHLMbJ2HyqtwFjiUktZ2JnB5SawpB7oBuzriEGdH+BDv7TRgOu0sUmQNrNEcnsMVTkCL/ZQFUOglYW+/0g43rlQSqGqqinfxmsRjqKYYDSZQLMcUlQgUrgR8vay94SDVxNLYmUFye2gN2MsESGENUp83l9kS4ZUpdBMgiYSujnVdWoiM0FzZJM3otpW3MoRAqca5iUS0XLXJYVS/tpwZUaqQZm9/tEkGo2OMgM02m918HL5vA8bDmhVjaocoir2IKsRpOyCcx5yVjx5j3h748EzMU79XmJjuTf175kQjk6ng6eeemrK2OaVjkoQtLvzjRHu9TTJ2lcB671oRBv7Om0wUjZKG0naco/GePgGCZgabb1/YQwKbSPtcIp4yPrGLyuIqkCatZG3e0hSO8OFMvde/BhtSuvP95EM+1r+g38t98VmWJKSjmjVmSOeXPHJNvq9FrIsA2Ms9r2/g3Hs2DF8+MMfnsrd2N8W2zSN7o0moGkXWd51YgMNN1V/HSlnum6SARggzTtI/PlMXcmkMX6eTJELFgj7tJHTfc0dv2mc07acUaAshkiSzL5e2rKvmSTuOfd1kDXaYT3hMM0eL7NvjQiqijeRus64cP0UUNUuup0W0jRFkiRIErsOnTlzZpb/ayMOGJQSfPLnP3CvDyOiAWLidjgiIiIiIiLikBGn6UREREREREQcOiLhiIiIiIiIiDh0RMIRERERERERceiIhCMiIiIiIiLi0BEJR0RERERERMShIxKOiIiIiIiIiENHJBwRERERERERh45IOCIiIiIiIiIOHZFwRERERERERBw6IuGIiIiIiIiIOHREwhERERERERFx6IiEIyIiIiIiIuLQEQlHRERERERExKEjEo6IiIiIiIiIQ0ckHBERERERERGHjkg4IiIiIiIiIg4dkXBEREREREREHDoi4YiIiIiIiIg4dETCEREREREREXHoiIQjIiIiIiIi4tCRzOJFRuMCf/jHn4PkBbptil63gyzLkCQJkiQBYwyU0qkHIeSmx34YY8JDaw2lFJRSkFJCCAHOOYqSo1QtJFkHSZKDJQkITUEZAyUMhDIQSkEIdR8JCAhACACCqZc1gIEBjIGBgTEaRhsYo2C0hlYSWisoycHLMaSokOYtsCQDYykoS0EpA6UM8K9HqX099wLhPWkF7R6iKlCMb0BUBaQooZVEu7eIvN1rPHcCSu37efT+NSwNWrP4XxsREREREfGGMBPCsTsc47//H/9PlMMLOLHRxerKMvr9PjqdDlqtFvI8R5qm4cEYC4/9BMTDkwytNaSUgWSUZYnxeIzhcIjd3V1cul6gIJvozK2g1ZlDmneQZh2kWQtJkoElOWiSgiUJKK1v2tSREGCacVhC4MmFhFYKSgooySFECcELiGqM8fAatq++jE5vEe3eAFm7j7zVR5K2kKQ5GEvBUk9CKADqCIwlGUpwSFFBiBK83MONKy/g+qVnMd69CpakWN68D73BKvJWH1mriyRrI81aYCzHymI3Eo6IiIiIiLcUZkI4CKFodQeg1UW08iwQh6ZC0VQqKKXh8+nnIeGj1hrGGCilbqluCCFQlBVGVYK0l4FQSx4IIYFDGHcMU8qCMYDR0JqAUg37w8T99K2OWVvVw8of9mcJQZLkoCxBWQyR5m1QVoEl2RSZoTqBJgqAAYFXTQyMe2/+WIwxaHXm0OrMYTy8hrw9B8ZSGNP82yAoLxERERHvdmht8Ml/9Gf3+jDe1Xjye4/i7/7IufDvmRAOAwOjJFoZkCQJCCFTBONWj/C7/sbr0CQrnmj4j17p8KRjd6+ANIvIaRLKFvYmbsJHQNsbPNWWPBjiuQW0pjeVcgLJMPtIgbbPZcmDJVlp1sJ4eB1SDECTFAnPQAhzag2DIgTMpNAsAYgGAaC1apRThFNRJLTWViFJcmR5B4Qy97eFVVwCSdGYYiIRERER71LsDMt7fQjvakxKMfXvmRAOGINqso0+vVnN8A+llCstWDDGYIwBIWSqpOLJR/P3lVJB1eCcg3OOsiwx3KtA2hkIrT0SmCIM9vcJcaQDCkHTIMY9blY4rOpgiYHRClppaOfj8OTDAGBpDikrCF6CJTkEK0FYrXBYsgCwhiphtIbWEkoJW65REkpyaCWgFAehFDRJUcs0/r1YkkK0CscaERERERHxVsFMCIc1Pu6BdnFLoiGlvKVHw/s3LCm4ldJgppQNTzqEEJhMJii4QatTmzKN9sTAmTyNBjH2a0QRRzYMKAxAKAx0TXTc96wwoqGV81ooBa2lJR5BabAqAyUUMICoJkjzNpRMoaQ1jhJiFQr7nCoQG/v3kdCKQylekw0pUE6GtdpjrJpijIFW7v04wmGiwhERERER8RbDbEoqxkDL8qZukqbvokk4PJloGkYBBIXD/1trDSHETWRDCIHRaAylrTLhSYCBCTdmrQWI8mTEllEoDIihMFrXnStB4ajfiy95GNeVorVslEJk/W/3Png1QS7noJiAFJX1b1AGQgBhTN25AgIDHUyoUlTOPMohJUc1GdZ/T62nlBolhe18aahAh4Xr16+jqqpDee57SZbezGu/0Z+9m/fzer/7Zp/7dj//Wt+72/f5Rn7/Vj/zRr82i995M3+3g/jZ1/u5N/J7d/Lct/udc+fOYXl5+Zbfj4h4o5hNScV5OJTCFMmQUoZOlCaJ8DdUxlj4ujeSArgt4fDllKIsoU0LxiC0lxqtG4RDgmoGFQ5RB5JDKAXx/g1CXLeKex9Omal9Fs5joSSUqj+3XxcwRkHyCZTkUMy24xJiCYYBQKmGpp6AEBitICW3pENYhUNJDlGOIEQBgNTERgn7oMyRIwpF6vLPYSHLMty4ceNQnvugCMedPM9BE46D+Jk7uZEfJLF4MzfxO7153+nX7uRn3uxz3M3z3enP3ulz3u3Pvd7nS0tLt4wniIh4o5iRhwNQRkOpm7tJmq2va2tr2NraAuccjDFIKcP3PAgh2NjYQJZleO65524yihpj8L73vQ97e2NcH00aPgsBpQQYS2C0xoe/7xS+9+ET+Ke//Xl7iMaVUgwDDAFBoxXXX2QG0F5VaCgaNdEQ0FKEz60Pw5IPKSowltrcD0IhHIkxiQbRBNqZSbUSkJLbko17Dik5qnIMLSUIpYHkKCmhEgnKFKhW0EpasWZfd89Bo9frIcsycM4P9XUiIiLeGrh69Sp2d3cxPz9/rw8l4m2MGSWNGiilIYQMioR/cM4hhEC328UnPvEJbG5u3lQiqaoKVVWFf7///e/Hk08+Cc45+v0+nnzySVBKwTlHq9XCL/zCL+Cxxx+rlQatGjdwDi0FBv0cR9fmoLUrX8gKUlSQ0pYxlLJlDCmroDJIWUFLrzoI933h/u1/3/2e4JC8ghTcmkqVdCWSyv1sAcFL+2/BIUUJUU1suBe3P6NcKUVUE/ByBNUkN1qG0ouS3H5dS2gprYfkEEEpxWAwONTXiIiIeOtAa41nn332Xh9GxNscM2qLBZRUoYMkyzKkaRrUDk86AAT1I8/zYBbNsgxFUQRp79Of/nQgGKurq/j+7/9+fPnLX7ZBX5cu4ROf+ASefe45aGWgJEc7T9DpZhDaQEphSxdKwcBYVcAYEB+6FbwbdW5H01viu1xs6Uc686ic8l1IUUJwGwImRYkkzZwiIezzUgLjWlSM0fb13N/J7CNIUlSWbEjujKkSUnAkqYBOrJmUUAoQm+RBqZ6JD2Jubg43btyAUur1fzgiIuJtj4sXL2I0GqHX693rQ4l4myJoOb8AACAASURBVGJmbbFKa1RcBHIhhAilEmNMIBxe3fi5n/s5bG1t4cSJExgMBrhw4QJ+7/d+D2VZ4sMf/jDm5+fxta99DU899RTa7TY+/vGP49lnn8Vv/uZv4hd/8Rfx67/+G9j6/NP4B5/4GXz/Bx9Hu5Xj6tYQv/bbf4znL1yHckRD8MIljFKbbeGizQmhzr/R9HB4Q6trozVquvThyUZVWFWiGoOXYyRJapUUnYAoBiKE7dB1PhDi/Bswxna6NFJMJS/Aq4nrhNHudUpo1YZSHFT6Mg2HMQBl6tAVDsC2Lc/NzWF7e/vQXysiIuLeQwiBF198EQ8//PC9PpSItylmUlIxsO2rRclDecQ/vOrhCYcvoczPz+OJJ57A008/jT/6oz/C2bNn8eijj6IsS3Q6HczNzeH8+fP4i7/4C1RVhU996lP4zGc+AyEENjc30em0kVCBVpbgv/sf/jf80n/960gTgp/52IcgqgJKCRijwcsxeDkCLyfg5RiinATCIKtJIA724wSC26/ZjwUkL2z8eONrvCoc2RiBV2MYY6CkgFEuyMsbQbn9Pcnta1TlCLwcuXh0T1wKW16RAkpZdUMKm+0Ryj3ClnOULKEEnwnhAID5+fkpf01ERMQ7G88//3z0bkXcMWZmGtVaoeQCRVEgTdMpdUMpFdosOeehfPJXf/VX+IM/+AMQQvDEE09gcXERZVmGUszW1haee+45CCHw9NNP4+LFi0jTFICtOe7cuI7/4r/6FZw4dQ7r6xt4/qWLOHlsA4LbAWjGGEhRufkpIuRjNLM3ADjFAy5D1OZwwGhoY7tvpGx0k/DSeS7GKIshpChdSUmAsgQg1GZ0uFIKVRKK2q+FVlqtXE6JsMTHeTmMllAuSCxJC7AkBSXMh6LDGA1K1aGbRj3SNEWv18NwOJzJ60VERNxbcM7x0ksv4ezZs/f6UCLehphZW6xWAhUXGI8nyLIstMIqpZCmKYqiAAAURYHxeAytNXZ3d1EUBQghmEwmAICqqqCUvTGXZRnYdlmWmEwmaLfboa223UrxD3/5l/CRH/x+XLx0DUuL87ixswdeja3iYAx4OQZlicvG8BNjWSPsq5690sgbtWmiWkG5UC77kTvj5wRVuYdibzuQEcEL10FiYBIFqtOQ82FTR22Cad3Ca82hvJrcpHCIaowkzWx2hwES1y3DZApCGLSWs/nfCmBhYQF7e3v3ND8jIiJidnj++edx8uTJsLmLiHijmFnwlzVQcgz3rGkUsCqEnQ6boN+3hGNSVBjuTaCURllV2N3dBWMsmEmLoggKR1EUqKoKlFI7rK0ognKilMLjjz+Gn/rJH8fH/t5/hBdevoZP/qd/H+9/7BGIahxMmOVkaIO3WOIebmw9IWHgmy0KkfCZVyO0amZwcEhuzaJVOUI53sF4eA1p3oGSVr0xWkMlAkmagaW5G01vSc402XDx5kJAigKc27KKlgJSlqgKgyRtgdIEIATaKDAlQGnq3vvsCEeWZeh2uxiNRjN7zYiIiHuHvb09XLp0CcePH7/XhxLxNsOMCIeG4AWUkmCshUnJ7Y097SLtrSPpLiNfPgUAyJceQb7WB0naMGyA0sxDF3uurVZgPB5DCAGtNcqyxPXr19FqtfDUU0/h29/+Nj73uc/ZUomUGI1GMMbgx37oQ9jdK/FTP/FhXLx8HeXYlTqMBi92nLJhyx2UOuJB0zDZtc7h8IPk/Ih6BRU8GbYFlldjVJM9CF5gaeMs5hY2kHf6QY2olZACNtKcOWLjn187c6grn4gSktuHEKXrhCmRpHb8vCUmHCxJQZz5Vc+QcBBCMBgMIuGIiHgX4dlnn8WxY8diEFjEm8LMulS0kuj0FtHuLqDbX8Dq5hkMVk6h019GknXQHfTwzHNbQGsTCxtdvHCxwFAuYfH0D4MXu3j+UoULF25gNOE4f/48tra2UBQFnn76afz+7/8+HnnkEQyHQ+zt7eELX/gCLly4gC9+8Yv4b375V/ATP/ET2Nkd4p///r/AsSPrOL7WAtVjXL3yKt7/8Kot7WigLDlGhcD2cIxxqaAMA2Vp6GKxb8VNZfVzWbyHQ3CnbuyBVxPMLx/DypH70e4OkKSt0PUCWKWjKkcYD69htHsFvNiDNs4hQohVO5SyZENU1pjKrSlVigopI5B8D4QmSNIcaauLTncB7d4CsnYfebs/k/+tHt1uF61WC2UZJzNGRLwbsL29jStXrmB9ff1eH0rE2wjEzKD4/sKLL+HJj/wU5haOYGnjDBZWT6LTW0Sad5CkLSRJFkoagTG7rIsQsCVKlONt7G29iL2r34YYX4YxKvg1tNYoigJlWbpOFw7QHK3eMlZXlrCxOo+TJ45ieWkBrVYLWZYiSZKpnA2ttS3blBW2d0Z45fI2Ll0bY1Jpq3iE1NHGTBZpPRzCBXdJUWF+5RjWjj2Edm8BadZuJIzauSyEWBOt5CXKYojd669g+9pLKIuhbZc12mVwuFwPPnHqRoVWxjA/P4+ss4ze8jksrp9Bd24ZWd4FSzIQmuCTP/9BvPfc2mH/b53CcDjE5cuX7/p5YrT5G/t+jDaP0eYH8Rx38/n6+jo+9KEPvWVVDq0N/sP/8l/e68N4V+OjT5zAzz5Vt1HPROFgLMPasYexvHkWvcEqslYPeauLJG2BJZnttmDJ1E3ZGA2qNWiSgorEdZJQUJYiac1j++I3Mbz6DCSfhJkqfpaKVBppewFzC6s4fXwD973nGBYXBmi32yF0rBmp3gz20lqj0+lgMNfH+uoitm7s4LsvXMbLF3fAFbFZHXCkwJEhJbkjBBJLayexfvxhtHuLyPIOWJqDMXv8aAyD01rZ955mSNM2snYf1149j53rLztfiGqkl1YgRmFx0MP80hrmVh/A4P9n782D5LjuO89Pvrzq7OoTfeAkToIHCF4gTZEURUqyLksa0esda2bl4Y7kcExodsZ22GuHdr0TE+uJiXGsQ7Eh27N2eCTbsqUdHSvJEiWaskiZkkhRoijeB0CCIA7iavRZRx7vvf3jvcyqagAkRBHdTSC/EYmqrsrK9zLRXe+bv9/39/2t2UG5PkIQ1vACex0tsRHuMmmBe1DYnRcocHHh6NGjhd15gZ8Jy0M4/IA163dSqQ0TlGoEoSEbnh/iegHC7eoletu0a6EQKhNx2pRG2ZSAwpU4boljLz1MuzlNmqbG9dLxqQ2uZXxiksu2rWVqcpRarUoYlvB9H983kY2MbPQSDuiW6WbVM2EYMNioMTF2jMeefplTc007P2ndRQ3pEMJlbGoba9Zdas+zguuFOREQwss70GYREul65nXHZQAMMXEERw8+Zfw7ZIpUCaEvGBsdozGykfrELqqNSYKyvY5BGc8L7HW0pM2SouVEZnd+4sSJZR+7QIECyw+tNc8//zx79uxZ6akUeJNgWQiHcASlch0/LNuohp8TjbwypCcCkLVY11qgHVOW6mIqQzyVooIyYblOfXQjUdRm8fnvEcdtvLBObXCKyYkxLt8+xdjoMJVKhSAI+8iG67p9XWqXhgSXkhHHcdi4fpJKKeRHP32Og0dOWEtz4zQalKqMTm5laM0llMr1nEh5XohwfRPBETZK47pGHKokjvC651oypa0jE1tI4jaH9z+KTDvUqmXGRkeojW6lNrqTysCYIW1BNx3l+mE+huOIFQtxFnbnBQpcXDhy5AgLCwvU68urGyvw5sTyxN4dgReU7d2+Z+/4TYokv+vPfDDo6iQcBxTgoBGuxvV8pDQVJK7n4/ll6sPrGZrYyczxlyjXhplYM8ylW8YZHmoQhmcmGtnmOE4uBu1Nq2Qko6+HCjA2Nsz1V29HJh1e2H8QcCjXBhlecwmNkXUEpYohG36AcAMc1+uer9ejUdEapWz/E+3juinK8/H8kKBcZ3hiM+3FaXTnKAMDdcpDW6iMbCesDOIHJjIkbFTDzUib6EnbsDKEw3VdGo3GeWtdX6BAgdWFJEnYv38/u3btWumpFHgTYFl8qR3HsTqGTKchbDSjl2DkO+efyX40C6hjzbmyyIQpYXU9n4GR9YSVBgO1kK2bRhls1M+o1VgauVj6eKbnruvieR6e5xEEAcNDg1y7+1LWjDYoVxvUGmuoNsbwMiLg+ghhCJUrXEsMuqTAmIq5eerDtREeHNPLxfU8fL/M0PglCL+KV52kPHQJQamOb7Ua3coZN48OOY4hb8L2g1kpNBqNwu68QIGLCPv378+dogsUeDUs28qQCUJ7y0Oha6RlvC20tQ3Pnmu6ouiu0bgGy0TM8Tw/pDE0xvrJBgP16hlTJ71Eojd60fu49Hkv8cjIh+/7DA0NcvWundQHBihXh0yVjXABxxIiSwIyEaxtCJePZ3Uq+dYjJnUccITADyoE9Sn82jr8sJqnZ5xMPNsTGerOfeXV4pndeYECBS4OZHbnBQq8FpaPcDgOOL1iRt31tMi7ryrrb6FsAzKdkw/7iTzlYV6whEQr1gxXGRsdOieNRi/yY79GeWJ2nIx0TEyMsWntCK7b7QnTTcHYFvE9mxG6dsmVY63MM4LVvSbmEaA6ME6pMtgjCO0SDRMl6SUv2edX3mJ8cHBw1ZbKFShQ4I3Hvn378gacBQqcDcsY+846kfQQDKXyFu3mNWnMtFTPplX+ns7EiNkirk3PEUe1qZdVnkI5UwQje657oifmUPqMW+972fPsWBnpmBpv4Ol2z/wNWVIqNWWzdu6ZXXn3/czC3DRpy4hU5u0h0wSZRLZkOLApEwfhCCCLhmRkS3evUU+EaCVRKpWoVqsrOocCBQosHxYXFzl8+PBKT+NNg3o14F/+0hVcd8XkSk+FrRuH+PD7LmdsuHLex1o2w4bTohiO7KZFrNmVs1TwmHuAmWqQbGFV1hTMeFXE+CwSBt5pJa5L77KXEgmlVE5Cssfs/cxMrJd09MJ1XcrlEo3KDDNxm6BUtR1jTddZKc2jUpJu+gSs65chFjK1pMmSD5mg0tSYiCURlVK15xyc/DBaZ9Eee02FQqssJePYaMrKYnBwsLA7L1DgIsK+ffvYsGHDBa3huv7KSW7bszG/fY4TyYsHZ3ngkYPMzp+703KtEvCWa9YBmh8/+cr5mu45YfO6Qe64cROPPXuME6da53WsZfvNUDJFqcSWk3abnqk0sZt5LmXPlmZb2h8VkGZxljIhjRcIRAfPc/sIxqtFMjIy8Wrb0v3PRDxcVzA4EKDiRdPjxPZUMedmeqYomdjy2QSZGAt0c05xvk/2s5QJaRoRteYxVTrCjNtzTnlEI4uY2MiPsh1jpZQrHuEAqFQqlEqllZ5GgQIFlgkzMzNviNvwasaOTSPs3DxCKfRwhcPEaJUP3rGd/+Pf3MzIYHmlp7fqsYy9VCxREAmOtKkN660hhIujBI5wuu3gtVUy9CywGclQMsmjG0nrFH6dnl4npxMFpZRpamYjGtlz4IypF6Dvs2cjJI7jUAp9HDVLmkR4fskQCtfvMflycDXoPtv2brdZKWPS1PZMSSLT2r49jx+W7a4q9+3IyJpQHkpJHNnNmQqtcbQRka4GHQeY1vWvvLKy7L1AgQLLA601e/fuZWpqaqWnct7x6S8/zqFj85QCj3/+3su45dr13HLder7y7ef79nOtzk5Kdc7H9lyBhp/pM70QjoNwHdL07J93hYmGp69zjNeL5ekWCzaqkSAdBzQI10OjEY5AK2UEkHKpwDPrWyLzFEQ3GhCTRE1UMofnZotzl2RkbqFSSoQQfWZUvV4b+UhLoiMZIcmOoZTqO2Y2jhACXySkSWQjMzEyDboVKnmEReUuo4AlGyaikcaGcMg0JmovmAZtYaWHPBmikelYlEhxpMivbeZcarrOOquGcFSr1cLuvECBiwjHjh1jdnb2orA71xraUcpPnjrKLdeuZ6TRjXCEgcsv3ryZK7aO4Tjwyskm33rgRY4cXzjr8XZcMsLN16xjcqyGBo5Pm88cPDqP77n8+q/sptVJ+Nw3nqYTpbjC4YNv387YcJXPfu1Jmq2YG65ay1uuWUe17HNytsVDPz3CT57uRp2EcLj5mnXcdPU6fE/wwsEZFlvLJ/ZdppSKtm3VzaIqVYKU3bRKN32SpRzivA17mnVMtc3LzBbni7Oj4tPIQ28kQkqZ255nW5qm+baUTPTu2/s8SZK+z/QSD99VpEm7x+rczjFJ8rnmc7dplDSNSJN2TjbSpEMSd2g3Z3PRaSYEVVLa65Xkn5cyttEeS8Js5EfKxFb4rDyEEBfFF0+BAgW6eO6551bNTc/5husKLt08AsCR40az5rmC3/y1Pbzvtq20OgnHT7W4ascafu9jv8DUmjNbBlRKPr991x62bRzi5EyLxWbMdVdM8u8+cj2Vsk8qFYutmJuvWc8dN24C4KpLx3n3rVuIE0mrk/CBO7bzr3/5KmoVn5dfmWdqTZ1/86vXcMu16/Nx3nPrFj7ywSsZG67QjlJu2r2OX3rbtvN7kXqwbCmVNDV3uZkPhXY1oNCO15PWMAWjDpnA00YsVGrSL1LmC2yaRMSdRTzkWfUZWXSj1y791fw4llaxZJGSXoKSEY7e5wKJjJvIdMD0R3HjPJ2SeYYonaVYMOmhNCa1GpaMbCVx2/RQsRUruZg0iw5JDxKRXyuwMSCtEFqhlUBj2tuvFtTrdU6dOkWapis9lQIFCiwDDh8+zOLi4gVtd/6+t22l3UmYHKuzeV2D/Ydm+adHXgaMsHTbxmG+8d19fOUfn0cpzeVbR/mtu27gbTds5G///qnTjhclKf/184/y3P5pmu0Ex3H41fdextt/YRMbJgZ4dv80X/3OXnbtWMN7bt3CU/tOcOc7d9BsJXz53ucYbpR4x1suYd+BU/zff/Nj2lHKcKPE733sJt5+0yYefuIIrhDcceMmFpsx//kvHuTkTIsNkw3+3Ueup1ELl+W6LVNKRRuiYE2/NOBZXYYjUlPumftJWL8K2zFWKdOVNS/7lKlZnKMWadLG1aovlZI97yUbGc7UrG2pwddS/UdvpCMjGVln2myTMiWJ26RJ3NOKPvPLAAlW0+HYiEVqIhbKlPVm0Z+400QmsU2hyK7OI00RwiVNY3tlABw8+0zYsmGcro5ltcB13bzHSoECBS58JEnCCy+8wO7du1d6KucNm9cNEvgu9WrAYivmL774GE2bmti5ZRSlFEeOL7Bl/RAAUmo6nZQNk40zHk9KzU+ePooQDo1aSKXiM79o3FvrtQCA2fkOX/6H5/if79zFb991A+XQ46+/+gSz8x2uv3KScuix//Ac6yYG8uOenGmxYWqAajlgqFGiVg34px+9nFejHDgyx70/2M8vv/PS83aterFMEQ6QqU19YBbMRCmEMAupyl0ze9SiDt10QhrbNIPRc6RJRBw1beVLN7VxLtEN1+2aj/UuzL225kophFSIToJ2NIkDUnUJRxzH+ZalWkzKw+o3bF+YrJRV6ywi4eSeIqYk1lSZZDqOqLOQV5tklS3ZJtOutbuUSU4uhFaI3AjMRDhWS0olw+DgIDMzM6uKCBUoUOD84cCBA1x66aUXbKXan33+Jxw72eRdt2zhPbdu5s537OBP/u4RHAdGBsu4ruB/ev8VqN6vPAfi5MyRXseBG3ZN8a5btjA2VEGj8aypZK+q8UdPvsIv3rKZdeN1Tpxq8dBjRwAYHTIeGrffsLEvheI40IlSQNOohbjC4fiS0tfXK059PVieCIfWpElELgLV2kQ2rP131z0zk5R0S1CVTEnTBK1SY6SlJHHcIo5aJrJgowW9uoqMbCwlHGfy1uhdBIUQOFozcmiGax88yMSxJnHJ4/GdIzxx5TipSx/RiKIo32Tq2XnEeV+U7MjKTQEH4TgorU1UQ0rQmdFXTBwbPYeUSe7JIdOEVMY4qUk7CddHSXMsc04KobrXMU/jqNVFODzPY2BggLm5uZWeSoECBZYBnU6Hl156iUsvXZ475+VGkiia7YSvfed5dm0fY/fOcabW1DhyfJFOlBInkk/93SOcmu335mi2zyzQ3DjV4K4PXcWxk03+8kuPcXKmxZXb13DnO3f07bd1wxDjI1W0huFGicu3jvLoM8dodwyR+ep39vKTp/pLk5NUMjPfYe24WftK4bLZb52GZUupJHEnd8J0XYlwXZSTNXKzDdqcfityQxLSPAWhbYohbi+Qxh2UlMRxQhwneaThbJbmva+pngV56V33mqcO8e5vPsfGTtesa9PLp2i8PM03b99IR0niOM6JRqfTod3uIHU5999wHBeZChPBSBNrS+4ajUqPPkNZL4006RC3F5BpYlJGMiWNO7iudRrNr4shZK714xBCoqToJxzO6otwgIlyLCws9F37AgUKXLjYu3cvW7duxfNWboE730hSxX0PH+AjH7iS2/Zs5O++/hSvnFjk6p3jDNVLPPPC9DkdZ+uGIXxP8PX79+VVJTsuGenbpxx6/Op7LyNJJX/2uZ/wsV/ZzT9/72U8t/8Ur5wwgtW1a2p864HWGaPJ07MtpNRcsW2Ur9+3F6k0YeCy+9Lxn/MqnDuWTTQq05i8xNXzbedYgXC7d+anNyDr2oJLq92QiS0dTSPjOJoqoijK0x1Lm7VlWPrzUiMvjUY0Iy753nOMdhKgK6JxgaueO8ZDEz7Tmxo54Wi327TbbVqtNk55yJa5mo6w0nGMV4ZwEWlqPEYcp8+OPDMyi+MWSdw2lSZKIlPjyeH6MV4aG/2HcPuImNbKdowVKEs0MkJi3E1XF8IwpFwu02w2V3oqBV4npJTn1JsoS18WuLjRarU4ePAgl1xyyUpP5bzisWePs/D2mGsvm+Dv79vLP/34ILffsJF//t7LaNRDXj66wEA1YNeONTy17yTfe+Tgacc4NWciIbdct47FVszWDUO88+budXMceNctW5haU+OL//AcP332GPf98ADvuXUL77ttK1/5x+fZ9/IMe3ZNEcWSx587jnAdtm8aoRy4fOYrT/DKiSYvHppl28YhPvLBK9l7YIabr1nHlvXLV0m4TNRTI9PIpBAscRCuj+t6OK6H6NNwZJLIrjmWyky/0oQkbpFErdyxM0kk7XaHKIoIgqAvwtGbRslez2e0xIkUB4KTs1RmFkgJoUeeCRqUxN1/hNlB4+GREY5Wq0Wz1aESKmQSdRd9rWzXWA+dt4xf4nxqzy+JmqQ9rqRpEpEkHby0jJQJTuouifqY69ht6JZFN0RetbIaMTQ0VBCOVYyHHnqIhx56iHe/+93s2GFCuVprfvKTn/DQQw9x4sQJPM9j8+bN3HHHHaxZsyb/7IEDB3jggQc4cOAAaZoyMTHBrbfemh8nw3e+8x327dsHGN2U53lMTk5y9dVX9x0PTLXDPffc0+ehk2FoaIgPfOADfZqsAqsPe/fuZcOGDRfM/1MWoVU9N6sz8x0ee+44N1+zjg2TAzy17yT/9f99lF95105++V0781Xk+KkW3//JISBrB6Zzjcfjzx/nwZ8e5oZdU1y+dYxOlPKDnx7m9hs2ojQM1ku88y2X8PIrC9z3Q9OZ91sPvMi1l09w254N3PfwAf7yi4/x4fddzq3Xb+BtN2wETArn3h/st2Nq/uorT/Drv7LbGJVdu57Dxxb40j88x//wrkuXxaDa0cug5Dt4+Cgf+NXfQng+jiNwXR/h+mZBdk3DtWyxzOs9e904VdcqPI5aJJ0mcdQijppEzRkaNcH4mjEajQaVSoUgCE5rUe95Xh8R6SUkZjiNf+A4t339p1wpQ8bwCTB/JBGS/XT4m1HNA1vruPa47Xabubk5jp9qMrxmi2kjH4SmXb3nm/MUHsJ1MZYn3eZqRo9i0kVxp0XcWSTqNIk6i0TteYKwRrk2RKlcxw/LeH6I64e4bmCvm4cQXg9pc3Pjrz/8Xz/M9bu3nu//1p8ZWmsOHTpEu91+1X3eqLHO52fOZd83Yp+zvf9qn3s972mt+eu//mvuvvtufv3Xf53bb78dpRT//b//d772ta/hui7Dw8NEUcTs7Cxbt27lD/7gD/A8jx//+Md86lOfIkkSarUaSZLQ6XTwfZ+PfvSjvOUtb8nH+d3f/V2OHDlCpVJBCEEURSRJQrlc5td+7de46aab8vnce++9fPazn8X3fYIg6Jvv2NgYv//7v3/a60vP72f9eelrP8/xXu++r/eYP+9+5+M5wC233LIi7qNKaT76v9/9hh7T8wSh79LqJH0LtOsKyqFHq5OgLItwhUO1EtCohSy2YuabcS7QdBzjvREnkiTtul7Xq2b/6dk27SilUvJoR6ZgolIOiJOUJOneUAa+i+8LWm2zj3AcwsBlZLBMnEhmFiLSRPZ113JdYRq1ac3JmTZKacplj3Y77SNSbwRuv3Ej//KXruhev6U73H///ezdu5e77rrrjLm3Y8eO8dBDD/HOd76TMAz50z/9U6655pr8i+JM0FoTRy1E6uG6PspNcT17hy5jpE2v9DVusxGO3PAqifPqlCTpkERtsyUxi4uKWrVJGIb5nM/ky7E0+gHkFS1aa5Kqz4HQYbQVI9EECFI0p0h4lg5P+x4Li4tIKXFdFykls3PzaO3bucY4iSlLcZVCezKvHsmrVrJ0irUpN1GaDmnWeyXNymxbeFFoCIXo+ndoT9rjebiej5JeTj6MUFWvOtFoBsdxGBwcfFXCUWD1YHZ2lrvvvptyuczHP/5xtm/fThzHPP744+zbty+Pus3NzbF+/Xo++MEPsmnTJqIo4tOf/jRPPfUUX/3qV7nxxhv77nCFEPz2b/82IyMjdDod7rnnHu6//37+9m//lquuuirvNJz9jb71rW/lPe95T9/cPM87jWwUWH3QWvP8889fMHbnaarOaBkurTFX32tKM78Y5eWtvdD6dAGp1qfv37tPs3W6Y3OcSOKkGwFUWtOOUg4dO7ujqZSKoyf6G2s2l8lttI9RtFot/uqv/ordu3efNQT2zDPP8MlPfpLrrruOqakpFhcX+cxnPsN1Ru4PpgAAIABJREFU11131i8ArTVJ3MZ1fbQnEdI1aRXhGg2H8GyVSjeFkXWW7dqZR7nhl0oTwFRtuH5IlLSYX1jMUyq943qel5OKLNqx1G8jL6v1Bc/uXIP304NskCllHCI0h0h4oCzZF0LcytxJDSFaXGxSro+bUtUksxu3PWKk9ePIyFSWFsnKYlWKkhEq6SBUTODGCF+BEoaExC1iq93QSiJdH5HEuL6PcD3TV8X1EanIoxxar04NR4ZarVbYnb9JcPjwYeI45pJLLsk9FSqVCrfccgu33HJLvt9tt93Gbbfd1peyvPPOO3n22Wc5evQoSZL0/V1mxHNkxIjiPvzhD/PEE09w8uRJjh49ypYtW/rmUS6XGRkZOafoRIHVh+PHjzM9PZ3/fxe4eNFHOJ544gkOHz7M7/zO77yqMCyD4zi84x3v4BOf+ARPP/30WY1eTEmnl1txZyLITPRoTLHcnmyKsguyAjSeX6Y+OEFYHkAIjyRuEcdtlLSOo+0Fks4ci80Wwl1cIq7sNm9b6s2x1LdDSsnCuiFORm2mDs7QWOyQyJT5DeOwZztrTs5yaj4y6ZxOi/bCDFIZ4iNliuMIUrCGZm6PtsIxFSrKuKt6QjFQ8RgcKFEOq2iVEscmtKyUIkkSWq02c/MtWnGbqGNIhOsFhrQpaQiHm3THsY9Km741qxXZYnP8+PGVnkqB18DAgDEQOnLkCPv37z+r+C8jE70EIAiCnNi/Vv6+V9B9oeT6C3ShlOL555/nxhtvPKd1pcCFiz7C8f3vf5/BwUG2b9/et5OUkunpaYaGhk47wKWXXkq1WuXBBx88K+EISzV2/cIvszB3nLkTLzN78iBJ3OohGubuP0upZK6iYbnGwPBa6o1xwsoAnh/i+aZ6JO40aS6cJGovksZt4qhF1DzFYvsEWi+eUTDa+8W21L48cw2Nohh37Qi1ay7j+OPP4718gnTHFDuv3sV24fP8IclcXEUIl+b8NDMnDjB/6hUW546TJhFCSZTycrKRnRuAJxRD9YCx4RrDQw0qlXKuNdFa02y2mFtokUqHVPuMJpqFZpv5hTapNOWzUsaGtNnqHpETjq6PyWqOcEBhd/5mwcTEBJs3b+bFF1/kv/yX/8IHP/hBbrvttnNKZTz33HMkScKWLVvOSCJ6//a++c1vMj09zdjYGBMTE6ft2263+5xqHceh0TizY2OB1YmLwe68wGujj3A89thj7Ny5s0+78b3vfY9PfvKTTE9PMzAwwK5du/oOUK1W2bx5M48//nguxlwK4XoMj29mcHQDExuuoDl/gqMHnuDYwaeIOgt5WWzW+9QPKgyv2URjZB3l2iB+WMH3S8aTwqYOyrVh6kMTNOdPsjh3nLizSFCq0mnVWVw4ipxrUqumhEGQi0eXlsUCOdnoRDGSCn51E2uGHYYnBjkhYGb9KKPja6hWqziOw7qRFqI9jBMMMTC8nvENVxC1F5mfPsSRA48xffRF0rjT9c1wHASagarHxJoGI8ODVKtVyuUygZ2bxCdWNXS9RlCtErolhFfGES4TjoNWGiUTOu152ounOHX8APPTh4na86RgfDqEqfDRYM3BVi8Ku/M3B8Iw5N/+23/Lpz71KV544QU+85nP8LWvfY33ve99vP3tbz+rv0Kz2eQb3/gGjuPw1re+9bQSWSklf/zHf4zrukxPT9NqtRgfH+djH/vYGZ0pv/3tb/Ptb387/9l1XT7xiU9c8OWWFxLSNGXv3r1cc801Kz2VAiuI/Buj2Wxy7Ngxbr311vzN+fl5/uiP/ojJyUn+4A/+gH379vHpT3/6tINs3LiRb3zjG3k0YSkcR+CHZZRKcT0f3y9Rrg4ztGYjB559kFPHXjSLpONQHRhjdGob9cFJSpU6QamG75cQXoDnBT3OpC6OHxKEFUrVQeanD9NaPGUrNwJa80eJZk9RK0eEVtvR26gti36kaUosBV51A7XRbZRDQVmYJjxrxscZW7OG4eHhbkqGDjo6jghH8APf6CiERxBWqA9PcvLI8xza92PmZ14BDa4LI0MVJsYbeRVNGIb4foAiZCaq09ZDaG8AL6gSeCHCsxU8QuQW5qCp1EdQI+sZm7qU1uIpThx+llcOPEF78VRXH6L1qiccwAVtBnQhYWJigk984hM8+OCD3H333Rw5coS/+Zu/4cUXX+RjH/sYvu/37S+l5HOf+xynTp1i586d3HzzzWc8ruM4dDqdXMtz8803nxZZzbB9+/Y+x0ohBKOjo2/QGRZYLnQ6ndfeqcAFjfxbf35+HqVUXzvxRx55hPn5ef7Df/gP7Nq1i127diGl5E//9E/7DtJoNOh0OnQ6nVxhvhSuLYOVjofjuiAEIxPbKFUG2f/0Axx+4RGqA6MMj2+hUhvGD8p4eVTDeHYI15aBWiFm5pNRrY8QBGVmThyguTCdu2425z1mFo5T8hYohVmaw3zGaCVSpFOmNnY59ZGNlKqDiOQkWpoSozAM88qXJEmI45hOu03UUpRqKZ4f2pRQN60xvv5yyrVh9j/9ADNHn2N4oMLYSINqtZpHNITrsRCFLKhR8IfwSzUCv4zr25Ja18sN0ZbavWsl8fwALyhRrg0xtGYTB/f+iGMHnzTuq7YKZjVDKVXYnL+JUC6Xuf3227npppu45557+OIXv8j3v/999uzZw3XXXde37ze/+U2++93vMjo6ykc/+tEzpl9c1+W3fuu3GBkZ4dFHH+VP/uRP+PrXv86uXbvOGLXYsWMHd955ZyEafRPDcZyzEsoCFw9ywhHHcV7VkeHYsWOUSiXWrVuXvzY2NnbaQbK7nLPn5I1oVGtltBrShP8doDowypYrbqNSH6bTnKNUrhlxpOf16BPcPnFkFuXIoLXAD6sMj2/G80PmT70CVgfSxGF+4SjN1gKlwMXzXDtXiRM0aExeTX1oHWG5huuHONTotFOiKMqjNUmSoLUmiiKmp6fppBOUHQfhuiaNJLrpE6019cEJtlzxVk7UyvjyKEHYjbBoXE42a3ScMYLyAEFoIjiebwShxr/DY2nHWfPdqq0gteu94Y6up1QZpNoY5YXH78P3AoKw8vp+G5YJrVaLKDq9VKzA6kapVOL9738/hw8f5oEHHuCFF17ICYfWmm9/+9t84QtfoFqt8u///b9nYmLiVUmB67pcd911vP3tb+db3/oW3/rWt/iN3/iNQlh4AWKNjRQXuLiRs4tyuYzjOH0eCZnXRC+RONMXSPaZs3YGdMjv1HOeoBXa9fE8RVgeYHz95cyeOEASd+zbCm01HZkeIhNhZhbojlXBO2iEAM8PGRieAsfJy2lL5ToyjWnNS1pzMwSuwnUFfmmYoTVXUh2YICxV8PzQkBh/gFYSMD8/j9aaIAiMj0gcs7i4yPHpBfzRHbieuXNzhMDRRvBq+sR4KNejVB5gaOpKolMCIYy7pkYw3a6TuEME5Yox8vIyEzS/x8DL7RGdip7qHY2259/7pRyWYWrTbjy/xNz04XxuqxUzMzMrPYUC54AkSXAc57SS1uzvvFeA/YMf/IDPfvazlEolPv7xj/9M+opbb72V+++/n0cffZTZ2dkzitMLvHnhOA7btm0r7O4LdAnH4OAgvu9z9Gi309yGDRtIkoSHH36YD3zgA7RaLb7zne+cdpCjR4/mnz8bzJeTbbfr6NwMSwmB63kEpSq1wTXMnjxkqj1cH9cLUF6A9gJrmGVb12udu46bqEHW/92UqNYHJ9BKciqNSeIWQalKGkcsxh1a8ycJw4D1G3ZSHRgnCCs2bWPKdBE+XuMyTh7/Ia1Wi3K5jNbauIrOt5ClTTQGpxDCfAk7gHYcyM29rMW4EHhBmbi8nnZrL56vaLYqqHCAsFRCuIF1DfVyN1Izhy7R6La4z+t3zM/CMb6lWoNnUihaVRmb2o4fVMx5rFK02+0il/smwd/93d9x5MgR3v3ud7N582Y8z+PRRx/lBz/4AZ7nccUVxkHwscce4y//8i+RUnLnnXcyNjbGsWPHAPM7Wq/XqVTOHnVbu3YtW7du5cknn+T73/8+73vf+/rez6pUem92PM8rKh7eJBgYGLhgjL96UQo9Pvy+ywn803WL33noJZ5/qRDFL0W+MgVBwMaNG3nhhRfyN6+55ho2b97Mn//5n/PUU0+xf//+0yoLtNbs37+frVu3njUU6uT/6v5XbeTDLK4eflilXB1kYeYorheYJmap0XA4wkVom5bJiIs9puMIEAqhBWjTzKxcG6Y21CLqLCLiFn5QIggqpHGVxvgWqo1J/LCM6/k2feHl8y8NTCLV9Zw49Ah6ehqNJlUufm0TI5NXUqkNd3u/OA6OzmMx9hy1TYE4OF5IWzVImhFubYCSa1vNC5FX3GQlrV3PjqwRm9MX4QAzpFJZZ93s2rkIz8fzS1QHRnD91RvhmJmZKXLvbxI0Gg3uuecennjiCcIwzIWeQgje//7350LO7373uzmJ/NznPsfnP//5vuPcfPPN3HXXXWcdx3Ecbr31Vp588kkefPBB3vnOd+L7fn5HfN999/G9732v7zO1Wo3/+B//I+Vy+Y085QLnAdu3b78goxtDAyVuvmYdrU7C3EJ/irhaWb3fwSuJvlvha6+9li9/+cvMzc3RaDTwfZ8//MM/5Ctf+Qr79+9nz5493HbbbXzpS1+iVqsBRudx5MgR3va2t/0MuVfntEezCHsEpRpCuMSdBavliJFegEg9lLCLdd5ZtiuoRHfTPdniX64OUh8cJ44WSVwX1w+oDozRGN1oyIbr92glunNPkw6IgNLoFSSdBVy/RFiuE1YalCoDOI6bd2fNIywqRWljVJZ3grURGemU0E4JT/j2s5nZmZMTDEQ3VdJbTWPOp/+6Ojh9qRVHCIRjOu96fgnhrs4IRxzHRfO2VYxLL72U+fl51q9fD8B73/te1q1bxyOPPMKxY8cQQjAxMcENN9zAZZddlv9+Xn/99dRqtbMSyd4KkxtuuIHp6en8+yPD7t27uf322/M0ru/7XHbZZdxxxx19/Y4yVKvVotLpTYBqtdqnAbwQ8eMnj/JXX3m877Wz3VN19XhnxzntY/9Zut+5fHYl0fcXe8stt/CFL3yBhx9+mHe84x2AKYv7jd/4jb4P/d7v/V7+/Mc//jFKqVfvpZL/q3te0fmVyZdTx8F1PUrVBnMnD+H7ZVIronRdHyWTvDrFUQJFaqMC5HoPZSs5AIRwqdRH6LTmiFrG76M+OEFYqhnNRG4E1l3Qk7hNErXQShOUqgSlKn5QNi6ndkHP+psYsmHOx6Q1JFplbedTZNoh6iwi0xi/0sD1fDwvMLoN0RvByCpuupvTw8kMpVlK5mwkxe7kOI4hHdYmfjWiiG6sbuzZs4c9e/bkP/u+z7XXXsu1117bt9/S/8ObbrqJm2666TUboQF86EMfOuPYpVKJf/Wv/lXf56ampvjIRz5y1mMVv0urH1u2bCEMw5WexvmF1mdd5G/YNcUl6wb57o9e5rY9G1g7XufkTIvvPHSAl1+Z79t3ak2NO27cxMRoldmFiGdemObBxw7nDd+uv3KSrRuG+OHjR3jXzZsJQ48v3fMsh44tcMW2MfZcOUWjHrLQjImiFA088fxxrrlsgn0vz/DdH72cj1Up+3zoHTs4fKzbfXY50Ec4tmzZwu7du/nHf/xH7rjjjtcMgymluPfee7n++uvZsGHDq+6buYcqpWyfFG2Wyx7Hz2wB9fwQjSbqLOKFZdwkQnjGKjlTnTrSwdEujtDmjp/uMTKdR0YGSpUGQblGpzVHWK6ZCEBGEXsiClKaxmmOcBFON23jeQF+ULJluUG3mZotP1UyRUtpIhtaom2L+ThqG2MzTFlwVn0ierbeKIeZRpaSMY9Oz795aaxN2XR/ybu/7UsFpasFSZKwuLj42jsWKFDggoDv+2zevHmlp3H+4fTcIEK+BAFs3TjMLdeuY8+uSVwhWGjG7LhkhCu3r+E//T8/YHrWFFxs2TDE//Ivr8Nx4IWXZ1k/OcCeXVNsmBrgc994Gq012zYMc+v167nhqrV4rkOaKoYbZabG69z1z3YxPdvmyPFFrtw2RrXic/xUi+dfOsXuneNctnWUHz52hE5sCkAu3zrK2/Zs4O/v37esl6qPcLiuy2/+5m+ec58Lx3G46667WLt27asvctqQk4x0aG0iASjbpt2mIvJV1HHwwwpRZ4GwMmAW6zRGZh4cNgog0AhcK6V0bJRBAQqtpekyKw3TK5UHaAen8IKSPQbd8WyzNa1MlQmu28dYvaCM6wU9qRfHjGOrZJRSSCVNB1iZItOYNI1JojZxp0lQqvUGUWxUxs01IGYqhkw4PeQLjF7FcSx10r2W7Nl5dgnbar7fm5+fR8rVbbleoECBNw6bNm06e+XiBYSrdqzhd//1jfnP+w/N8YV7nsnXkMB3OXh0nj/73KPMLnT4lXddyjvfspld29dw38MH8FzBh96+Hdd1+KP/9kMOHJ4jDFw+/i+u47brN3DvD/Zz4lQrP9bsQsQff+ZhFlsxaar47bv20O4k/Oe/eJD5xYhrLpvg4//iWr79g/089NhhLt08zM3XrmfH5mEee/Y4jgPXXT5JkioeffrYsl6r00IY4+PjXHnlleck8nEch927d5/Rm6Mf3QVdK9uZVUsTDbCEI4t6gCEPruuTRC3SuINMY2QSIaVZyGUao2SCShO7wKcmOmF/Vkrm4ynblTVNIuNb4fpk7enzsbUyDc8c8sZyruvmRmOuH5IxBhM8sZ+TEm1JhpLdOaRJhExjOs0ZpExys7IsVuE49BMeS7i6pKx3XjJ3RTWvydP2yYgcq5R0KKWYnZ1d6WkUKFBgmeB5Hlu3bl3paSwLlNJ0Yplvcdp/Y5Wkkr/56pOcmmujlObhJ15BaxgeNILnwXrIxqkGLx2eQ6aKteN1RocqvHBwBs8TrBvvVmNJpfns157k+HSTVjshTiSNWom5hYgF29b++Cmjk6tVjXD1wZ8eRivNDbvW4jhQKflcuX2Ml1+Z5+DR/rTO+cayqa60FVHmgkrZs+Ulr927dccRZvGO28iwRJrGiMSQBekINOC6pumZLXjBNIOy7ewzAqIMEei053Njrjx9kzV4s2mUribDydU3jvBsesWWpKJt11edkw8lJUolJqKSRnbeHdrNOVzPz11WM9KisnSSnbNWhrzgmgoUkZ2Qnc9pPWB0l7jpPEUl+8nHKkIR3ShQ4OLC5ORk3m34QscTzx/nM1954qzvKwVJ2nV/bndSQON75qa+Wgkol3x2XDLC7/96VwspBKSp8Y3KIKViZq7fVmD/4VmuvWyCt990CS+8PMO7b91iqkcPmZu8/YfmeOVEkyu3j1Ep+1yxdYxS6PHw46+g1PKuFctCOMzCnuaLa0Y4ZE80oi/iobrVHkncJkjrSDcmTWzpqtPVUAhH2hJR29Y+jQ3JyEiHTEjjiLjTxPW8vqhBJvSUUuA6Dkr36x8cK2LN5gKAAk32y2PTKTK245noi0xj4qhJErfwwxGj27BW5aaiReXXwVEy13EIB5S252UJSk6CHMcmBnXPORhxqiE8XQLCKopzFDbmBQpcXBBCFDbmr4KlN4RpaiLYT71wkv/v3udP2/fI8VfXvoW+kRX8j+/eiRAOSaq4+59e5Mm9JwGIE8nDTxzhQ+/YwVXb13Dt5ZN04pRHnzn6qsc9H1i2CIeUKdjUgFkYM7KRmvRIniIxUQllF+QksSkVz0ekUdejQoMjXJTj5GWqWpmohlbSEIA0RiYJcdREyhjXdW2aJRs3RdmyWCVtua0w0QyN8bfANnpztDZREOyC7gjQykZUYtI0QiYm5ZOmEZ3mnLUh70ZH8jJaS8CkNE6OOcXR2ohgtUBr1acZ6e5iIhzKakbMdUxtxMOc1yriGzSbzcLGvECBiwiFjfnPhsV2zGIrYXigzLGTzVzYeS4IA5fLt43x02eO8fX79+H7gpOnWiy04j4d4sNPHOGX3raNX7xlM0MDJZ59YZqZ+eU3YFwewqE1KjG9WpTupgCkTFGpiQ6oNLFRgrSHhEhkEpEmcbdpW15Gqq3fhCUJ2lSZ5BoOmeYpjrjTRKUpys0W59SM5yYm8qB6nOK0a3qj4Fh5hULpxJCNTGNiK1xMOia2mo0kj26kcUQctVBaGYGrxvpyZCJPm8ZxBDI3EDNyDoE21TeWrPSlebKqnl4tjMr0IzIna6upeVuh3ShQ4OLCxWZjPjlW49br1ve9tvfADK+cOLeqvPnFiJ88fZS33bCRX/tnV/LdH71Mu5OycWqAK7aN8Rdf+GlfSqYXSao4carJNZdPsGFqgCiWJInk2HST+x5+mRdeNm0kTs60ef6lU1y+dRSt4eEnlj+dAsuVUkGTpnFXqKlUX3TDiEGzBdsQDKOFiJCui5IJSRJ3fTNstYbrKhxhq0aslkLb6IiURrwZd0xqw0QU0m6aJU0QbpxbiedzVeaYQigEGqmlJRuWPNiIRB6lSGMrXDXzT5OIqLNImnTMuWZakSztISVKKByhcLI28la/IoRGaxfHUeYPVi3x5OitSNEyjxR1yYYhbqtFw9FqtQob8wIFLiI0Gg0mJydXehrLgiiWpKli26Zhtm3qj+h8/u5neOXEYp/dQ4asQ4fKjCo1fPne5yiFHtdePsENu4wNfCoVLx6czT+rrN9H79Fc4bDQTBhqSJ7eZ1IoI4Nlrr5sgt07x/k//+z7HD3ZRCnNgz89zGVbRml1Eh57dnmrUzIsW4RDJpFdfJcSjrRLNNKYNIlJkw5x1CaJO/hhJY9YyDTFEYk9pEJ5aY9pljH8UjK1JaoJqdVSyNREPWQWTZEp2pIPJzVkw9Uasi6tWuR6E4TInTzJUyKgdZqXwWZbmkakcYe4s2CrY2zaw2pTpCVXwnVxZOY0Sn4+wpV58zalbKM6uvtgf9n6r2FmMmbOLU2TVRPhmJ2dXTXkp0CBAucf27ZtW5U+QOcDM/Ntfvf/ug9xhvNttmMAvvadvfzjQy9x0pa1ApyYafG/ffKfWGhGPfsn/LcvPcYX/+FZRgfLCCE4NdtmdqFDaqMbf3//Xu57+EDfsXZuGWX7pmG+fO9zfOO7xlPDcRze+9YtfOgdO5gar3P0pKlamVuI0Frz2LPHaEfnnrZ5I7FsotEk6XQFkz2iRyVTo31IItKkQ2qdPo3oso3jOF2NgkyQqbBpBYkj027aIbvrl9mWkFrSolWKVsqOESGDGCUDVOqhHNekNcjEmtacSwvTlM0SA2ktxB27X9dRVOYlscbsq0UStXsIVYyUKSJNcD0fmSZGc0K/WYyJmHQJh+jrq9I1+eor581Jh4lspIkpH14NhKOwMS9Q4OLCxWBj3gutYfY1dBCLrZjFVtz3mlKaoydPT7dIpZmZ65xWhZKh2UpotpK+11xhFpH1E3VGBsssNGMmRqvs3jlOnEiOT5vvYMeBG6+awnHgoceOnPM5vtFYJsKhiDtNHEdjKkoz8ai0GghLOOI2sSUbcXsBmURG/yATlPCs3kF0xZiOSYlkBETTrYJRaWqjGyZyImViSEfcIfEDhPBz19Lsc0IrhDCLvl7aY6XHoIu8vDe1aQ2jR0njDknczLUkMjF6jkxbIVOrBSG7BilCeLnVueNY/UhfIzdhy34z8WjX+EvnGg5LsJKOJVgrTzgKG/MCBS4ubNmyhSAompYtJ57ad5JHnznG1ZdNcN0Vk9ZGARYWYz5/9zMcOroAmNLbqy8b59jJJvusrmMlsHwRjrhN5vmqsYul1VJIm0pJ4hZJ1CTuLNJpzXX1EUmE47i570VWYuoIgcTJCUxW5prd9cdRy6QaZJLbjSdx27ajtyW22eLtKYSSeQdXYQ3AHFuNovPF3s5dZ0ZmKo/UpElEErXzMdPEpHTCpJ6Ppy058pREyBTherZHTG9r+h6787znitO3gOf28NnYaWTPr4NSK+t5UdiYFyhwcSEMQzZu3LjS07joECeS//r5nzA+WmVsqEIYuszOdzh6stnXwTaOjfnY0ZOLdFYonQLLVharSWKTd+qt0uhqH7IIR4u40yRqL9BaOAWOQ5K0bQWHRqsE7YUI5ed3/mjH+GLopZqGhCRqWwGqqXgx2pBmN6IAKC1xVYorE1zh4bi2z0lWFZOrrZ2eyIa0Gg1ltRmm+sWkhDrIJM7FqVGnSdhp4mSRmNy4S+F6EqE8tLTaESH6+qtk4o2l3WPRXbdTqWRe6ZOmMXGnteKEozD6KlDg4sLGjRspl8srPY2LEqlUHD62wOFjC2fdJ04kP3x85VIpGZYtpZLE7Z5UgOwTXKa2IiWJWnRaC7QXZ2i35qgNjCFTk7NSVoPh+hGeF+DYVvWO43RLbVXWQyXN7/bTzMdDJiRJB9Gax/MCa6wFnpRIL85JhnAs2RBuTkBy4abGRjZ0n4+IzM4jbpPEbdI0yj1FovYCUbmWEw5lyZYrE9zUOJAKz7faDZNKWRrpyEXJTjelgtV8KEt2ZJogrYZEryDhkFIWRl8FClxEcF33orExL/DzYdlSKnGnmRMOrPZASmndOaPcDbTTmkMpxbot11JrrCEIq2axhlyjkMYtZLqYL9JdQaXKoyeZCNXs3yFN2sgkpp3O4PohGievXMmEmm628DumK61j271nKZzuCSlkr9mWlKg0sZU1bTO2JTlx3CZs1XBdH3DwlER5CTL18mMboap53ttRNkun9MJBm/Ko3rGtn0mSdoz/h1q5kNnCwgJpunLjFyhQYHkxNTVFrVZb6WkUeBNg+SIcUaubTrGLtTH+SnJtRdReQMqU0antjE5sISzX8y6tXdGmIu4ssjh7nIXZo0TthdyVs9sfJbXRjR4hatxGyYRS6KPiBRLh4vkBXlCmOjBKuTZEWKpbAqNRaUwct4nbi0TtedLE5MOMyVhWKdJND8k0ziMqadw2mx2/tTiNcF3rgBr26ER8hCu6VSk45j3X9l9xvVxLYk++f1zVU5GTRkjrAaLkyiyc9YASAAAQEklEQVT4RZO2AgUuLriuy7Zt21Z6GgXeJFgewqEUUXuh2zytx4PDVKgYUuDgML7+ckYmNlOqNPD8sKulcLp9TsJynXJtiPrQBHPTh5g5/hKdzmJXY2FLVHMhatxBq4RGvUJ9oIFXHqM+tp2hNZuoDowQhFWE69tIQ1Yiq63QtEOnNcfi7HHmTh2mtTBtFvQlBmCGNNmoStQijlqkSWT6p2iI2ot4fkBYaVAfHKdcGyYIK7ieiXyYsl2jMYnai0SdBWMG5np5ise4n9ooke51GTXC2yRq07GkbSXQbDaJ4/i1dyxQoMAFgdHR0cLGvMA5Y9kiHJ3WHEJ4RnuplLUxN6QgjTs4wmV8w+UMj2+mVKnjhxWEG1htRaajMFEMV0pcGwnw/BJBqcaJw88xN30oL0lNe1xLfaEZHB6i3phgYOIy6qObqdRGCMIKnl/qRhxc15SmOk5PeqZKUKpRqQ1TH5pg9sTLnDy6j/biKWsAZtNDSbdKJIlNdYwflChXh6jURxgcXc/Y2h3UBycJy/WcTOUiUasPUTIlidu0FqaZO3WExdmjtJuzuK6bV83ovpSKiRIliUmnpFET11n+clStdRHdKFDgIsPFZPRV4OfHshAO3xXUS5pT8/NonLy5mrJ35kGpxpp1Oxka20ipMoAflnG90JIKo3UwFSP2Dt/NfDhMNKKm1+TeFccOPWV0DDJF65RqKWRsbJRyYwMDE1dSG5wgKFUJwiqeH+K6QR5FEJ7XbZaWL+rKajuMzsL1AsLKACcOP8v00Rdyk6+uU2qEUpJSdYiBoUmGxzcxvv5y6oPj+GEVzyuZlvVWL4I9LyDvuRKWapQrQzRG1tJanOHE4eeYOfYiqdWbGCWHttcvyUtihU7YsmGUxkB1Of5b+9Butwsb8wIFLiIMDQ0xPj6+0tMo8CbCshCOMPTZc/UWfvzocxw6Oo20PU+0hkptiDVrL2VgeMqSgCBfkF3hIzxTOdLnKCrod/0MK6jqIMPjlxB3Fjly4HEEKcONOo2hYYKBTZQHN1IdGCMoVfGDCl5QwvOC3JPDVKh0u7MaC3EPoRVaZqWqZryKkoytvRRHuLyy/zE67fm8WsRxBANDkzRG1jGx/nKGxjZQqg6aMf0Q1zPnZ8jNEnOx7HyURHgpIvVw3ZAgrFJtjHH0pcdZmDmazyPTwMg0JvAUl2wY45JN61fEfKewMS9Q4OLCli1bLqombQV+fiwL4XAch5HhQa65aitx1OLAwSMI16faGGN4fDPVxpiJaviB1VKYiILwPCOetBUcOuuWqjVCmdSCp1KkF+P5IUGpxvD4ZtrNkwR6nkptAL+2gaA6RVgewA8r+H4Zzw9zsuF6vh2zWxXSJQC26RoOrgZPSbSfosIKKo0ZGtuITCJeeu5B0qRDWKpTHxxnYHgta9bvpDG8llJlAK+XbPiG4GTVKGYs0WNfrq2TalbBYtxHh93NhKU6B/f+kOOHn829RdApA1WPTRsmWLd2ikqlsuxfAlEUFTbmBQpcRKhWq6xfv/61dyxQoAfLRjiCIGBocIDdV25nsdkiUiXqgxNUasN4QcksxrYs1CzIvnlNuJB5VPRYeyuMjkNasiBcYxHuBWWGxjazeOIZ3PIkfnWCUsWITE2qxu8hMb0lqEujDQ6gcAQ4WuO4CtcNkG5sIzABflBiYHiKkYktzJ08SKU+Qm1wnLG126k3xglKFVxLboTrG7+NnGzYChSnW/pqhtamh4vTT3zQwMAI67ZeTxJ3eGX/owhHMdQos37tGBPjayiXy4RhuOw51SK6UaDAxYXNmzfjecvkG1nggsGy/cZ4nkcQhIyODnPFzi08s3+WUrlr+Q3Yu3rfikszemEeu51aNQ6mV0hWuZKTBSEQQphIRn0dfsX4eJSqDcJSNW/Mlrl6Ok7Wt8T0Kuldp03EwVkyjrCGY7bBmiVFgyPriNuL+GGFobGNlGvDeLkOxTeRilyPYoSpGdnISI6GvOoFHIQw7YiF8NCuxvUUnjYi1PVbryNunsCJjzI60mBoaIgwDPF9H8/zlpVwJEnCwsLZHe4KFChwYaFUKrFhw4aVnkaBNyGWJfbuOA6u61rSEbBu7TiTY3XzplagyY21suqQ3FHTdjHJbcFz6HxxdqwDpzmcor04Q7k6RFCqEZSrhNY8rHeBJ2+GZlIZGpWPZ15bOl73XPJHx3hk+EGZ6sCIidjUh/H9konU5JGTjGBkzdiy1I31F3Ec0+I47w5r0ywZKbFeHEJ4eH5IpT7K+h03U62PUqvV8DwvT6Nk4ywX5uaMUVuBAgUuDmzYsKGwMS/wurCsyX4hBK7rEgQBk2M1HNnqdo3tafVuyj57GrIBhnh0+5Ao1SUIua25kiRxG6lS/NAIQ4OgbKMj/V4etkdsX+fVvkdLerpEJ/O/0HkaxFIPACr1EepDE3hemPdjwbFpoN4UiW03nzehhTyS00uCuk1qnZ7N2J67XkB1YA21sUtxhAlSaa2XPZUipWR+fn5ZxyxQoMDKQQjBli1bVnoaBd6kWDbC0dvtVAhBrVqi4ncMQUgT0/AsTayZVWIISEYApLQko9t+vq8fi+1nIrOKjcD4axiX0m6FCZATCG2PpbXs6TTb82gJjCEfEiXta2RREFM2axxTEzwvxA9KRk9iCY5wsjRNlwjYmEo2GdsBl/yY3fey6ersAubt6oVwcf2AcGAd7cRHSmmJWy8RO/8obMwLFLi4sG7dOqrV5S+7L3BhYNk0HEsXQd93adQ8mnOLSDlgeqrIBCF9HJEYPYYSqNzSXJpUhHX2lGlC1DGN3uJO07h9xrYbrB/m3h3dKIZ1IdUKx5IILY0aRAhQaBxHdSMS+ZxNpYop41XWWVTlbqkyjUnTiFK5gev6xoY8JzhZDMSKPvNusRqlNEIYPUoW3XB6xszGomf+ORwHIVz8oErbG6HdPk65XCaOYzzPWxbCobVmZmbmvI9ToECB1YGiSVuBnxfLSjh6F07HEVRKPnq6adqryxCZxrhegBIJSrhIHKOvcBVZ6Shao2RKFC2yOHuMqLNAp7VgbdKNrXipNmTdO7PeKjYS4qYI5aKkyGMOjtbgKhxlW9H3tIW3E7dRl66zp84az6Wp6c4qJa7n97SVt+eLtvqQ/h4oaFMBo1Q3ZYLOfD7o2zcjKNmmu61jTcO5cJDm4isMpCmp3ZaDcCwuLpIkyXkfp0CBAqsDo6OjDA0NrfQ0CryJsWzdYntD/ZnWQLgCodqkaYzXkxJx7B2/1gpXGwOurtBTk6YxrYVT3XRMGhO15+m05k0Ew1Z9mMW6qw2RMsVxuhEIbaMaWlthpsrKVLspIJ1rRkzfkuw4SiZIGRO15myJq2uoQEYMdI8WpDfCoiQCG6zBVuHk1TDd9IpSql/Hopeke7SJiwivTCcRxHFMEAQkSXLeCUdhY16gwMWHrVu3FjbmBX4uLFuEo1djoJRCSmmak2nTS0UGZaTrkSYe4Jg8R155IvuaqkWdBZKoZZuWZUQlIe60jEFYz6KfaTyyniOyNwIhPIRQaO1asmF1En0t4bsREpnGJvWTRkgZmw63nUUqtRErEKWPGCiVopRnHUgdlHQQtqhXW/Gp4zhox8kzMGbqPd1glUSlaTeto6RJB2mZE4tY+URRRLlcXpYIR7vdpt1un9cxChQosHowPDzM2NjYSk+jwJscy0Y4pJT5lqZpTjocR5GmbWRaNSZebmyFkcKkOwDlOCYyASiVErXmkDJGS9t11m5aS6CnfbySSCURMjHi0YxI2EUd1+wnsvb2Dnl0pQtLOFRqyUacE5yovYhME1u+ChljUL3CVktW+ipQtIsjrGYkIypL7c21ytM4Oj9Hmc8lO7bWCoVHJ2qRJAmu6573MlUpJYODg+ft+CtlIvZGj3sux/t5xnw9n/1ZPvNq+57rcd6oa3C2fV7rs6/n/dd73j/rWK/nnM51vq9nnq82v8nJSVzXPesxCxQ4FyxbSiVNU5IkIUmS/LmUEi0TkrSNLMVI18dxu46fhhNoE3UQ5uc0bhNHbRu56KlUkTJPmXQJgkSkKVKkOMQYw498VoDGUQolpDH+Ela82bf4654oSZKncNIkIu4s0usZYnQbdEt3pcQRKVL2akM0jlaGdDg9Xhx9F8ymUmSXYGSVON2W9ClKmc64SkO7HS0b4ajX69Tr9fM6RoECBQoUuLCwbIQjIxtJkhDHMXEc5+RDahs1cJPcoKv7WZlXjmitiDtNZBrbRTexJbSZvsKITft+li4qFUgrzpSWyJh+LKprL26jKl3CkdmoK1uu202rpKlJpyRxx6Y2FKiubkPpbhWLIwVOVn3sAWgTUVE2umFJDpl5mcrSKd2S3ZxkWLLTW0Zs5qaJknhZRaMFChQoUKDAz4JlS6n0RjgywhFFhnRooaweIwKRVW1YgalM8rSDzIy9rF+HTO1dfppY8pGaCpfUEg6VkKZdN88scqFxTBRBpsYN1DXRBmWjDd20SpdwaFupYhb82JTiyqRbvaJk17vDplQcG+HI0jWkGi00SgiEY3QpjnT6Ihz9RmQZ4ZCnRVfSNCaNI6MnSROkSvMIR0E4ChQoUKDA/9/e2ey2DQNBeETJVpqi7c1ATn2BHnvy6/uNmkRaiuSqh11ScnLpJW4AzwcEgYHAopEDx/sz89m4WYUjxugiw36LCERmzCLovii0JOQyANlmLdQNtSx/xCoP9cLVOrvh3/qzf+vXkpEB5CTI6ehrH+/P0q9+6Qe3HC/Dm/ZGV4NNNoMxzVhVkUutbrxCS0HOiwme3SyJtT/2VupujuVCogsBeuV8ulU4qsuqDb7q9p71s6boP4KUZj/LjENXmqij4CCEEPLZuJngEJEmOOqWwzRNmGfBw7Eg5+TBaNu2h5aCEHJrO9RLvwqA/RBndSctJSMtguEwtmC2Kh7aeqoWhH6Aejx8h6WFwzXh4RUOq15oM/7KXt1IUXyGwkSAnSMj9LlVNUp7vw4Y6mZKaeu3m9V5bSHtBcf7wdOya+WkaEJjiROSPGMd7Zx1IJcQQgj5TNxEcKhqExwi0sTGNE2YJeH4raAksWqD56UEtSj3dR2AAtv+aCun3mIoW3Wj+BaHtRwEaRk9z8QVhxtwqRZof0DnlRNLq31bbQDqxsm24moipw6LlhRN+OTkbR5rb/QuZNSrG6UFxGl7Vj3TPifF/mbn39H8Nqz1Yy0U8cqGIMVXLPKCRV4Q5RnrsUNK6cpCnhBC7pYO+P3r6X+f4q75+fTj6nW33uB2mqYJl8vlai02pQSJETEqxsfv1t6ol7+nrIaW7GpcW32rz1dYpUO9tbJqRj+MlqXi0fCWtNrvhIUPioZrofHW1Gb/PKw1xyUj54icrLqSF7GQuPErhsNojqP1eT6QGkLNc9mSak3T+KBoe6CJIrRtl/pZC7YV2VrdscFRE0B/8PgwYBxHhBBwPp9xOp0++L9KCCGE/Ds3ERyEEEIIuW9uGk9PCCGEkPuEgoMQQgghHw4FByGEEEI+nL/PLqGgnOhtgQAAAABJRU5ErkJggg==)"
   ]
  },
  {
   "cell_type": "markdown",
   "metadata": {
    "id": "yWXsiZ5freTG"
   },
   "source": [
    "## Structure to Energy and Forces (S2EF) <a name=\"s2ef\"></a>\n",
    "\n",
    "The S2EF task takes an atomic system as input and predicts the energy of the entire system and forces on each atom. This is our most general task, ultimately serving as a surrogate to DFT. A model that can perform well on this task can accelerate other applications like molecular dynamics and transitions tate calculations.\n",
    "\n",
    "### Steps for training an S2EF model\n",
    "1) Define or load a configuration (config), which includes the following\n",
    "* task\n",
    "* model\n",
    "* optimizer\n",
    "* dataset\n",
    "* trainer\n",
    "\n",
    "2) Create a ForcesTrainer object\n",
    "\n",
    "3) Train the model\n",
    "\n",
    "4) Validate the model\n",
    "\n",
    "**For storage and compute reasons we use a very small subset of the OC20 S2EF dataset for this tutorial. Results will be considerably worse than presented in our paper.**"
   ]
  },
  {
   "cell_type": "markdown",
   "metadata": {
    "id": "2snWOAxnPPyd"
   },
   "source": [
    "### Imports"
   ]
  },
  {
   "cell_type": "code",
   "execution_count": null,
   "metadata": {},
   "outputs": [],
   "source": [
    "import torch\n",
    "import numpy as np"
   ]
  },
  {
   "cell_type": "code",
   "execution_count": null,
   "metadata": {},
   "outputs": [],
   "source": [
    "import ocpmodels"
   ]
  },
  {
   "cell_type": "code",
   "execution_count": null,
   "metadata": {},
   "outputs": [],
   "source": [
    "from ocpmodels.trainers import BaseTrainer"
   ]
  },
  {
   "cell_type": "code",
   "execution_count": null,
   "metadata": {},
   "outputs": [],
   "source": [
    "import ocpmodels.trainers"
   ]
  },
  {
   "cell_type": "code",
   "execution_count": null,
   "metadata": {
    "id": "l-1rNyuk_1Mo"
   },
   "outputs": [],
   "source": [
    "### March 2024, pt11kernel, python11 env, CSCC\n",
    "### April 2024, python9_kernel, python9 env, CSCC\n",
    "\n",
    "%load_ext autoreload\n",
    "%autoreload 2\n",
    "\n",
    "from ocpmodels.trainers import OCPTrainer\n",
    "from ocpmodels.datasets import LmdbDataset\n",
    "from ocpmodels import models\n",
    "from ocpmodels.common import logger\n",
    "from ocpmodels.common.utils import setup_logging, setup_imports\n",
    "setup_imports()\n",
    "setup_logging()\n",
    "\n",
    "import numpy as np\n",
    "import copy\n",
    "import os"
   ]
  },
  {
   "cell_type": "code",
   "execution_count": null,
   "metadata": {},
   "outputs": [],
   "source": []
  },
  {
   "cell_type": "markdown",
   "metadata": {
    "id": "OmkUDMQgP5he"
   },
   "source": [
    "### Dataset\n",
    "\n",
    "#### [done] Split into train/val - 80/20\n"
   ]
  },
  {
   "cell_type": "code",
   "execution_count": null,
   "metadata": {},
   "outputs": [],
   "source": [
    "train_size = int(0.8 * len(dataset))\n",
    "test_size = len(dataset) - train_size\n",
    "train_dataset, test_dataset = torch.utils.data.random_split(dataset, [train_size, test_size])"
   ]
  },
  {
   "cell_type": "code",
   "execution_count": null,
   "metadata": {},
   "outputs": [],
   "source": [
    "len(train_dataset),train_dataset[0]"
   ]
  },
  {
   "cell_type": "code",
   "execution_count": null,
   "metadata": {},
   "outputs": [],
   "source": [
    "\n",
    "from torch.utils.data import DataLoader, SubsetRandomSampler\n",
    "\n",
    "import torch_geometric.loader  \n",
    "indeces = list(range(len(train_dataset)))  ## create a list of indeces from which the batching can happen\n",
    "\n",
    "train_sampler = SubsetRandomSampler(indeces)\n",
    "\n",
    "loader = torch_geometric.loader.DataLoader(\n",
    "            train_dataset, batch_size=4, sampler=train_sampler\n",
    "        )"
   ]
  },
  {
   "cell_type": "code",
   "execution_count": null,
   "metadata": {},
   "outputs": [],
   "source": [
    "# for batch in loader:\n",
    "#     print(batch)"
   ]
  },
  {
   "cell_type": "code",
   "execution_count": null,
   "metadata": {
    "scrolled": false
   },
   "outputs": [],
   "source": [
    "batch.atomic_numbers\n"
   ]
  },
  {
   "cell_type": "code",
   "execution_count": null,
   "metadata": {},
   "outputs": [],
   "source": [
    "batch.tags"
   ]
  },
  {
   "cell_type": "code",
   "execution_count": null,
   "metadata": {},
   "outputs": [],
   "source": []
  },
  {
   "cell_type": "code",
   "execution_count": null,
   "metadata": {},
   "outputs": [],
   "source": [
    "dataset[1].tags\n"
   ]
  },
  {
   "cell_type": "code",
   "execution_count": null,
   "metadata": {},
   "outputs": [],
   "source": []
  },
  {
   "cell_type": "code",
   "execution_count": null,
   "metadata": {},
   "outputs": [],
   "source": []
  },
  {
   "cell_type": "code",
   "execution_count": null,
   "metadata": {},
   "outputs": [],
   "source": [
    "from torch_scatter import scatter, segment_coo\n",
    "import torch"
   ]
  },
  {
   "cell_type": "code",
   "execution_count": null,
   "metadata": {},
   "outputs": [],
   "source": [
    "# per_atom_energy = torch.tensor([[1.,10],[2.,10],[3.,50],[-1.,0],[-2,0]])\n",
    "# batch = torch.tensor([2,0,0,1,1]).long()\n",
    "\n",
    "# scatter(per_atom_energy, batch, dim=0)\n"
   ]
  },
  {
   "cell_type": "code",
   "execution_count": null,
   "metadata": {},
   "outputs": [],
   "source": [
    "# efermi_info = torch.tensor([[233, 1], [432, 1], [-123, -3], [-234, -4], [1, 1]]) \n",
    "\n",
    "# batch = torch.tensor([0,0,1,1,2]).long()\n",
    "# bulk_index = torch.tensor([[0,1],[0,1],[0,1],[0,1],[0,1]]).long()\n",
    "\n",
    "# scatter(efermi_info, batch, bulk_index)"
   ]
  },
  {
   "cell_type": "code",
   "execution_count": null,
   "metadata": {},
   "outputs": [],
   "source": []
  },
  {
   "cell_type": "code",
   "execution_count": null,
   "metadata": {},
   "outputs": [],
   "source": [
    "self.train_sampler = self.get_sampler(\n",
    "                self.train_dataset,\n",
    "                self.config[\"optim\"][\"batch_size\"],\n",
    "                shuffle=True,\n",
    "            )\n",
    "            self.train_loader = self.get_dataloader(\n",
    "                self.train_dataset,\n",
    "                self.train_sampler,\n",
    "            )"
   ]
  },
  {
   "cell_type": "code",
   "execution_count": null,
   "metadata": {},
   "outputs": [],
   "source": []
  },
  {
   "cell_type": "code",
   "execution_count": null,
   "metadata": {},
   "outputs": [],
   "source": []
  },
  {
   "cell_type": "code",
   "execution_count": null,
   "metadata": {},
   "outputs": [],
   "source": []
  },
  {
   "cell_type": "code",
   "execution_count": null,
   "metadata": {},
   "outputs": [],
   "source": []
  },
  {
   "cell_type": "code",
   "execution_count": null,
   "metadata": {
    "id": "1SHl_1eQP4mW"
   },
   "outputs": [],
   "source": [
    "# train_src = \"data/s2ef/train_100\"\n",
    "\n",
    "val_src = \"./data/s2ef/200k/train/output_lmdb\"\n",
    "\n",
    "train_src = \"./data/s2ef/200k/train/output_lmdb\""
   ]
  },
  {
   "cell_type": "markdown",
   "metadata": {
    "id": "ZUpFFV2OWyYJ"
   },
   "source": [
    "### [done] Normalize data\n",
    "\n",
    "If you wish to normalize the targets we must compute the mean and standard deviation for our energy values. Because forces are physically related by the negative gradient of energy, we use the same multiplicative energy factor for forces."
   ]
  },
  {
   "cell_type": "code",
   "execution_count": null,
   "metadata": {
    "id": "HAJ3x4SnXE1o"
   },
   "outputs": [],
   "source": [
    "train_dataset = LmdbDataset({\"src\": train_src})\n",
    "\n",
    "# energies = []\n",
    "# for data in train_dataset:\n",
    "#     energies.append(data.y)\n",
    "\n",
    "# mean = np.mean(energies)\n",
    "# stdev = np.std(energies)\n"
   ]
  },
  {
   "cell_type": "code",
   "execution_count": null,
   "metadata": {},
   "outputs": [],
   "source": [
    "stdev, mean \n",
    "## == (2.8471219290033876, -0.7877437496095779) for /output_lmdb/ full dataset\n",
    "## == (2.8412495666979143, -0.78793442576679)"
   ]
  },
  {
   "cell_type": "markdown",
   "metadata": {
    "id": "ruspSf6CQIk4"
   },
   "source": [
    "### [IP] Define the Config"
   ]
  },
  {
   "cell_type": "markdown",
   "metadata": {
    "id": "6R6IkYLCQPpH"
   },
   "source": [
    "For this example, we will explicitly define the config; however, a set of default configs can be found [here](https://github.com/Open-Catalyst-Project/ocp/tree/master/configs). Default config yaml files can easily be loaded with the following [utility](https://github.com/Open-Catalyst-Project/ocp/blob/aa8e44d50229fce887b3a94a5661c4f85cd73eed/ocpmodels/common/utils.py#L361-L400). Loading a yaml config is preferrable when launching jobs from the command line. We have included our best models' config files here for reference. \n",
    "\n",
    "**Note** - we only train for a single epoch with a reduced batch size (GPU memory constraints) for demonstration purposes, modify accordingly for full convergence."
   ]
  },
  {
   "cell_type": "code",
   "execution_count": null,
   "metadata": {},
   "outputs": [],
   "source": [
    "### Need to copy model's .yaml/.yml config file:\n",
    "\n",
    "import yaml\n",
    "\n",
    "# Model\n",
    "# /configs/oc22/s2ef/painn\n",
    "\n",
    "with open('configs/oc22/s2ef/painn/painn.yml', 'r') as file:\n",
    "    model = yaml.safe_load(file)\n",
    "\n",
    "model = model[\"model\"]\n",
    "model['name'] = 'ocpmodels.models.painn.painn.PaiNN'\n",
    "model"
   ]
  },
  {
   "cell_type": "code",
   "execution_count": null,
   "metadata": {},
   "outputs": [],
   "source": [
    "# Task\n",
    "task = {\n",
    "    'dataset': 'lmdb', # dataset used for the S2EF task\n",
    "    'description': 'Regressing to energies and forces for DFT trajectories from OCP',\n",
    "    'type': 'regression',\n",
    "    'metric': 'mae',\n",
    "    'labels': ['potential energy'],\n",
    "    'grad_input': 'atomic forces',\n",
    "    'train_on_free_atoms': True,\n",
    "    'eval_on_free_atoms': True\n",
    "}\n",
    "\n",
    "# Optimizer\n",
    "optimizer = {\n",
    "    'batch_size': 2,         # originally 32\n",
    "    'eval_batch_size': 2,    # originally 32\n",
    "    'num_workers': 2,\n",
    "    'lr_initial': 5.e-4,\n",
    "    'optimizer': 'AdamW',\n",
    "    'optimizer_params': {\"amsgrad\": True},\n",
    "    'scheduler': \"ReduceLROnPlateau\",\n",
    "    'mode': \"min\",\n",
    "    'factor': 0.8,\n",
    "    'patience': 3,\n",
    "    'max_epochs': 1,         # used for demonstration purposes\n",
    "    'force_coefficient': 100,\n",
    "    'ema_decay': 0.999,\n",
    "    'clip_grad_norm': 10,\n",
    "    'loss_energy': 'mae',\n",
    "    'loss_force': 'l2mae',\n",
    "}\n",
    "# Dataset\n",
    "dataset = [\n",
    "  {'src': train_src,\n",
    "   'normalize_labels': True,\n",
    "  #  \"target_mean\": mean,\n",
    "   \"target_mean\": -0.7877437496095779,\n",
    "  #  \"target_std\": stdev,\n",
    "   \"target_std\": 2.8471219290033876,\n",
    "   \"grad_target_mean\": 0.0,\n",
    "  #  \"grad_target_std\": stdev\n",
    "   \"grad_target_std\": 2.8471219290033876\n",
    "   }, # train set\n",
    "  {'src': val_src}, # val set (optional)\n",
    "]"
   ]
  },
  {
   "cell_type": "code",
   "execution_count": null,
   "metadata": {
    "colab": {
     "base_uri": "https://localhost:8080/"
    },
    "id": "0it4gs6gPGGz",
    "outputId": "e7a98c1d-6d4f-425b-878f-4a3a7b42b2ed"
   },
   "outputs": [],
   "source": [
    "trainer = OCPTrainer(\n",
    "    task=task,\n",
    "    model=copy.deepcopy(model), # copied for later use, not necessary in practice.\n",
    "    dataset=dataset,\n",
    "    optimizer=optimizer,\n",
    "    outputs={},\n",
    "    loss_fns={},\n",
    "    eval_metrics={},\n",
    "    name=\"s2ef\",\n",
    "    identifier=\"S2EF-example\",\n",
    "    run_dir=\".\", # directory to save results if is_debug=False. Prediction files are saved here so be careful not to override!\n",
    "    is_debug=False, # if True, do not save checkpoint, logs, or results\n",
    "    print_every=5,\n",
    "    seed=0, # random seed to use\n",
    "    logger=\"wandb\", # logger of choice (tensorboard and wandb supported)\n",
    "    local_rank=0,\n",
    "    amp=True, # use PyTorch Automatic Mixed Precision (faster training and less memory usage),\n",
    ")"
   ]
  },
  {
   "cell_type": "code",
   "execution_count": null,
   "metadata": {},
   "outputs": [],
   "source": [
    "tst_efermi = torch.FloatTensor([train_dataset[9].efermi])\n",
    "tst_efermi.dim(), tst_efermi.shape\n",
    "tst_efermi\n",
    "\n",
    "long_efermi = torch.FloatTensor([train_dataset[9].efermi, train_dataset[5].efermi, train_dataset[7].efermi])\n",
    "long_efermi.dim(), tst_efermi.shape\n",
    "long_efermi\n",
    "\n",
    "\n",
    "\n",
    "# asp=10\n",
    "# asp*tst_efermi\n"
   ]
  },
  {
   "cell_type": "code",
   "execution_count": null,
   "metadata": {},
   "outputs": [],
   "source": []
  },
  {
   "cell_type": "code",
   "execution_count": null,
   "metadata": {
    "colab": {
     "base_uri": "https://localhost:8080/"
    },
    "id": "WFmssq5oPFd_",
    "outputId": "a80e93f3-637a-4394-9ec8-4c38bac27461"
   },
   "outputs": [],
   "source": [
    "trainer.train()"
   ]
  },
  {
   "cell_type": "code",
   "execution_count": null,
   "metadata": {},
   "outputs": [],
   "source": []
  },
  {
   "cell_type": "code",
   "execution_count": null,
   "metadata": {},
   "outputs": [],
   "source": []
  },
  {
   "cell_type": "code",
   "execution_count": null,
   "metadata": {},
   "outputs": [],
   "source": [
    "####  PREVIOUS CODE   ####\n",
    "\n",
    "\n",
    "\"\"\"\n",
    "# Task\n",
    "task = {\n",
    "    'dataset': 'lmdb', # dataset used for the S2EF task\n",
    "    'description': 'Regressing to energies and forces for DFT trajectories from OCP',\n",
    "    'type': 'regression',\n",
    "    'metric': 'mae',\n",
    "    'labels': ['potential energy'],\n",
    "    'grad_input': 'atomic forces',\n",
    "    'train_on_free_atoms': True,\n",
    "    'eval_on_free_atoms': True\n",
    "}\n",
    "# Model\n",
    "\n",
    "painn_model_name = \"ocpmodels.models.painn.painn\"\n",
    "\n",
    "model = {\n",
    "#   \"name\": \"gemnet_oc\",\n",
    "  \"name\": painn_model_name,\n",
    "  \"num_spherical\": 7,\n",
    "  \"num_radial\": 128,\n",
    "  \"num_blocks\": 4,\n",
    "  \"emb_size_atom\": 64,\n",
    "  \"emb_size_edge\": 64,\n",
    "  \"emb_size_trip_in\": 64,\n",
    "  \"emb_size_trip_out\": 64,\n",
    "  \"emb_size_quad_in\": 32,\n",
    "  \"emb_size_quad_out\": 32,\n",
    "  \"emb_size_aint_in\": 64,\n",
    "  \"emb_size_aint_out\": 64,\n",
    "  \"emb_size_rbf\": 16,\n",
    "  \"emb_size_cbf\": 16,\n",
    "  \"emb_size_sbf\": 32,\n",
    "  \"num_before_skip\": 2,\n",
    "  \"num_after_skip\": 2,\n",
    "  \"num_concat\": 1,\n",
    "  \"num_atom\": 3,\n",
    "  \"num_output_afteratom\": 3,\n",
    "  \"cutoff\": 12.0,\n",
    "  \"cutoff_qint\": 12.0,\n",
    "  \"cutoff_aeaint\": 12.0,\n",
    "  \"cutoff_aint\": 12.0,\n",
    "  \"max_neighbors\": 30,\n",
    "  \"max_neighbors_qint\": 8,\n",
    "  \"max_neighbors_aeaint\": 20,\n",
    "  \"max_neighbors_aint\": 1000,\n",
    "  \"rbf\": {\n",
    "    \"name\": \"gaussian\"\n",
    "  },\n",
    "  \"envelope\": {\n",
    "    \"name\": \"polynomial\",\n",
    "    \"exponent\": 5\n",
    "  },\n",
    "  \"cbf\": {\"name\": \"spherical_harmonics\"},\n",
    "  \"sbf\": {\"name\": \"legendre_outer\"},\n",
    "  \"extensive\": True,\n",
    "  \"output_init\": \"HeOrthogonal\",\n",
    "  \"activation\": \"silu\",\n",
    "\n",
    "  \"regress_forces\": True,\n",
    "  \"direct_forces\": True,\n",
    "  \"forces_coupled\": False,\n",
    "\n",
    "  \"quad_interaction\": True,\n",
    "  \"atom_edge_interaction\": True,\n",
    "  \"edge_atom_interaction\": True,\n",
    "  \"atom_interaction\": True,\n",
    "    \n",
    "  \"num_atom_emb_layers\": 2,\n",
    "  \"num_global_out_layers\": 2,\n",
    "  \"qint_tags\": [1, 2],\n",
    "    \n",
    "  \"scale_file\": \"configs/s2ef/all/gemnet/scaling_factors/gemnet-oc.pt\",\n",
    "\"scale_file\": \"configs/s2ef/all/gemnet/scaling_factors/gemnet-oc.pt\",\n",
    "}\n",
    "\n",
    "# Optimizer\n",
    "optimizer = {\n",
    "    'batch_size': 1,         # originally 32\n",
    "    'eval_batch_size': 1,    # originally 32\n",
    "    'num_workers': 2,\n",
    "    'lr_initial': 5.e-4,\n",
    "    'optimizer': 'AdamW',\n",
    "    'optimizer_params': {\"amsgrad\": True},\n",
    "    'scheduler': \"ReduceLROnPlateau\",\n",
    "    'mode': \"min\",\n",
    "    'factor': 0.8,\n",
    "    'patience': 3,\n",
    "    'max_epochs': 1,         # used for demonstration purposes\n",
    "    'force_coefficient': 100,\n",
    "    'ema_decay': 0.999,\n",
    "    'clip_grad_norm': 10,\n",
    "    'loss_energy': 'mae',\n",
    "    'loss_force': 'l2mae',\n",
    "}\n",
    "# Dataset\n",
    "dataset = [\n",
    "  {'src': train_src,\n",
    "   'normalize_labels': True,\n",
    "   \"target_mean\": mean,\n",
    "   \"target_std\": stdev,\n",
    "   \"grad_target_mean\": 0.0,\n",
    "   \"grad_target_std\": stdev\n",
    "   }, # train set \n",
    "  {'src': val_src}, # val set (optional)\n",
    "]\n",
    "\n",
    "### Create the trainer\n",
    "\n",
    "\n",
    "\"\"\""
   ]
  },
  {
   "cell_type": "code",
   "execution_count": null,
   "metadata": {},
   "outputs": [],
   "source": [
    "from torch import Tensor as Tensor\n",
    "xxx=0\n",
    "ff=Tensor([xxx, xxx])\n",
    "ff"
   ]
  },
  {
   "cell_type": "code",
   "execution_count": null,
   "metadata": {},
   "outputs": [],
   "source": []
  },
  {
   "cell_type": "markdown",
   "metadata": {
    "id": "vA8nDKt4QqkO"
   },
   "source": [
    "### Train the model"
   ]
  },
  {
   "cell_type": "code",
   "execution_count": null,
   "metadata": {},
   "outputs": [],
   "source": [
    "# cc = 0\n",
    "\n",
    "# for iy in range(len(train_dataset)):\n",
    "#     if train_dataset[iy].efermi is not None:\n",
    "#         cc+=1\n",
    "# print(len(train_dataset), cc)"
   ]
  },
  {
   "cell_type": "markdown",
   "metadata": {
    "id": "ZHkrkULBQ1Xy"
   },
   "source": [
    "### Validate the model"
   ]
  },
  {
   "cell_type": "markdown",
   "metadata": {
    "id": "paYx3_FBQ8OE"
   },
   "source": [
    "#### Load the best checkpoint\n",
    "\n",
    "The `checkpoints` directory contains two checkpoint files:\n",
    "\n",
    "\n",
    "\n",
    "*   `best_checkpoint.pt` - Model parameters corresponding to the best val performance during training. Used for predictions.\n",
    "*   `checkpoint.pt` - Model parameters and optimizer settings for the latest checkpoint. Used to continue training.\n",
    "\n",
    "\n",
    "\n"
   ]
  },
  {
   "cell_type": "code",
   "execution_count": null,
   "metadata": {
    "colab": {
     "base_uri": "https://localhost:8080/",
     "height": 35
    },
    "id": "UW4ihgBdQ0Yt",
    "outputId": "8226c4d2-041d-46d3-c0d9-02ce85f8fc93"
   },
   "outputs": [],
   "source": [
    "# The `best_checpoint.pt` file contains the checkpoint with the best val performance\n",
    "checkpoint_path = os.path.join(trainer.config[\"cmd\"][\"checkpoint_dir\"], \"best_checkpoint.pt\")\n",
    "checkpoint_path"
   ]
  },
  {
   "cell_type": "code",
   "execution_count": null,
   "metadata": {
    "colab": {
     "base_uri": "https://localhost:8080/"
    },
    "id": "6jppgncMTivj",
    "outputId": "a15e13a5-4c1d-4fd4-c2c3-ef9fa210a9dd"
   },
   "outputs": [],
   "source": [
    "# Append the dataset with the test set. We use the same val set for demonstration.\n",
    "\n",
    "# Dataset\n",
    "dataset.append(\n",
    "  {'src': val_src}, # test set (optional)\n",
    ")\n",
    "dataset"
   ]
  },
  {
   "cell_type": "code",
   "execution_count": null,
   "metadata": {
    "colab": {
     "base_uri": "https://localhost:8080/"
    },
    "id": "MaVROfxzRLaj",
    "outputId": "0f143c63-1e1d-44c4-c641-34bac1706c2c"
   },
   "outputs": [],
   "source": [
    "pretrained_trainer = OCPTrainer(\n",
    "    task=task,\n",
    "    model=copy.deepcopy(model), # copied for later use, not necessary in practice.\n",
    "    dataset=dataset,\n",
    "    optimizer=optimizer,\n",
    "    outputs={},\n",
    "    loss_fns={},\n",
    "    eval_metrics={},\n",
    "    name=\"s2ef\",\n",
    "    identifier=\"S2EF-val-example\",\n",
    "    run_dir=\"./\", # directory to save results if is_debug=False. Prediction files are saved here so be careful not to override!\n",
    "    is_debug=False, # if True, do not save checkpoint, logs, or results\n",
    "    print_every=5,\n",
    "    seed=0, # random seed to use\n",
    "    logger=\"tensorboard\", # logger of choice (tensorboard and wandb supported)\n",
    "    local_rank=0,\n",
    "    amp=True, # use PyTorch Automatic Mixed Precision (faster training and less memory usage),\n",
    ")\n",
    "\n",
    "pretrained_trainer.load_checkpoint(checkpoint_path=checkpoint_path)"
   ]
  },
  {
   "cell_type": "markdown",
   "metadata": {
    "id": "kWetMgsmRBZS"
   },
   "source": [
    "#### Run on the test set"
   ]
  },
  {
   "cell_type": "code",
   "execution_count": null,
   "metadata": {
    "colab": {
     "base_uri": "https://localhost:8080/"
    },
    "id": "jbiPZNeJQ0WK",
    "outputId": "dd346bcd-f30a-4333-a1ca-e18c057cb238"
   },
   "outputs": [],
   "source": [
    "# make predictions on the existing test_loader\n",
    "predictions = pretrained_trainer.predict(pretrained_trainer.test_loader, results_file=\"s2ef_results\", disable_tqdm=False)"
   ]
  },
  {
   "cell_type": "code",
   "execution_count": null,
   "metadata": {
    "id": "zaZGqeyqNCXz"
   },
   "outputs": [],
   "source": [
    "energies = predictions[\"energy\"]\n",
    "forces = predictions[\"forces\"]"
   ]
  },
  {
   "cell_type": "markdown",
   "metadata": {
    "id": "o8L28axZ4NVj"
   },
   "source": [
    "## Initial Structure to Relaxed Energy (IS2RE) <a name=\"is2re\"></a>\n",
    "The IS2RE task predicts the relaxed energy (energy of the relaxed state) given the initial state of a system. One approach to this is by training a regression model mapping the initial structure to the relaxed energy. We call this the *direct* approach to the IS2RE task. \n",
    "\n",
    "An alternative is to perform a structure relaxation using an S2EF model to obtain the relaxed state and compute the energy of that state (see the IS2RS task below for details about relaxation).\n",
    "\n",
    "### Steps for training an IS2RE model\n",
    "1) Define or load a configuration (config), which includes the following\n",
    "* task\n",
    "* model\n",
    "* optimizer\n",
    "* dataset\n",
    "* trainer\n",
    "\n",
    "2) Create an EnergyTrainer object\n",
    "\n",
    "3) Train the model\n",
    "\n",
    "4) Validate the model"
   ]
  },
  {
   "cell_type": "markdown",
   "metadata": {
    "id": "kEPPcr0YYHpH"
   },
   "source": [
    "### Imports"
   ]
  },
  {
   "cell_type": "code",
   "execution_count": null,
   "metadata": {
    "id": "d-0GsaGDW16G"
   },
   "outputs": [],
   "source": [
    "from ocpmodels.trainers import OCPTrainer\n",
    "from ocpmodels.datasets import LmdbDataset\n",
    "from ocpmodels import models\n",
    "from ocpmodels.common import logger\n",
    "from ocpmodels.common.utils import setup_logging\n",
    "setup_logging()\n",
    "\n",
    "import numpy as np\n",
    "import copy\n",
    "import os"
   ]
  },
  {
   "cell_type": "markdown",
   "metadata": {
    "id": "w20BJZ_GYWat"
   },
   "source": [
    "### Dataset"
   ]
  },
  {
   "cell_type": "code",
   "execution_count": null,
   "metadata": {
    "id": "BlL5gGPQW1te"
   },
   "outputs": [],
   "source": [
    "train_src = \"data/is2re/train_100/data.lmdb\"\n",
    "val_src = \"data/is2re/val_20/data.lmdb\""
   ]
  },
  {
   "cell_type": "markdown",
   "metadata": {
    "id": "yT5qHT2wamPh"
   },
   "source": [
    "### Normalize data\n",
    "\n",
    "If you wish to normalize the targets we must compute the mean and standard deviation for our energy values."
   ]
  },
  {
   "cell_type": "code",
   "execution_count": null,
   "metadata": {
    "id": "vaY-ZUMaamPh"
   },
   "outputs": [],
   "source": [
    "train_dataset = LmdbDataset({\"src\": train_src})\n",
    "\n",
    "energies = []\n",
    "for data in train_dataset:\n",
    "    energies.append(data.y_relaxed)\n",
    "\n",
    "mean = np.mean(energies)\n",
    "stdev = np.std(energies)"
   ]
  },
  {
   "cell_type": "markdown",
   "metadata": {
    "id": "K4SSW0UGYeYM"
   },
   "source": [
    "### Define the Config\n",
    "\n",
    "For this example, we will explicitly define the config; however, a set of default configs can be found [here](https://github.com/Open-Catalyst-Project/ocp/tree/master/configs). Default config yaml files can easily be loaded with the following [utility](https://github.com/Open-Catalyst-Project/ocp/blob/aa8e44d50229fce887b3a94a5661c4f85cd73eed/ocpmodels/common/utils.py#L361-L400). Loading a yaml config is preferrable when launching jobs from the command line. We have included our best models' config files here for reference. \n",
    "\n",
    "**Note** - we only train for a single epoch with a reduced batch size (GPU memory constraints) for demonstration purposes, modify accordingly for full convergence."
   ]
  },
  {
   "cell_type": "code",
   "execution_count": null,
   "metadata": {
    "id": "TiHmkTm6W1do"
   },
   "outputs": [],
   "source": [
    "# Task\n",
    "task = {\n",
    "  \"dataset\": \"single_point_lmdb\",\n",
    "  \"description\": \"Relaxed state energy prediction from initial structure.\",\n",
    "  \"type\": \"regression\",\n",
    "  \"metric\": \"mae\",\n",
    "  \"labels\": [\"relaxed energy\"],\n",
    "}\n",
    "# Model\n",
    "model = {\n",
    "    'name': 'gemnet_t',\n",
    "    \"num_spherical\": 7,\n",
    "    \"num_radial\": 64,\n",
    "    \"num_blocks\": 5,\n",
    "    \"emb_size_atom\": 256,\n",
    "    \"emb_size_edge\": 512,\n",
    "    \"emb_size_trip\": 64,\n",
    "    \"emb_size_rbf\": 16,\n",
    "    \"emb_size_cbf\": 16,\n",
    "    \"emb_size_bil_trip\": 64,\n",
    "    \"num_before_skip\": 1,\n",
    "    \"num_after_skip\": 2,\n",
    "    \"num_concat\": 1,\n",
    "    \"num_atom\": 3,\n",
    "    \"cutoff\": 6.0,\n",
    "    \"max_neighbors\": 50,\n",
    "    \"rbf\": {\"name\": \"gaussian\"},\n",
    "    \"envelope\": {\n",
    "      \"name\": \"polynomial\",\n",
    "      \"exponent\": 5,\n",
    "    },\n",
    "    \"cbf\": {\"name\": \"spherical_harmonics\"},\n",
    "    \"extensive\": True,\n",
    "    \"otf_graph\": False,\n",
    "    \"output_init\": \"HeOrthogonal\",\n",
    "    \"activation\": \"silu\",\n",
    "    \"scale_file\": \"configs/s2ef/all/gemnet/scaling_factors/gemnet-dT.json\",\n",
    "    \"regress_forces\": False,\n",
    "    \"direct_forces\": False,\n",
    "}\n",
    "# Optimizer\n",
    "optimizer = {\n",
    "    'batch_size': 1,         # originally 32\n",
    "    'eval_batch_size': 1,    # originally 32\n",
    "    'num_workers': 2,\n",
    "    'lr_initial': 1.e-4,\n",
    "    'optimizer': 'AdamW',\n",
    "    'optimizer_params': {\"amsgrad\": True},\n",
    "    'scheduler': \"ReduceLROnPlateau\",\n",
    "    'mode': \"min\",\n",
    "    'factor': 0.8,\n",
    "    'patience': 3,\n",
    "    'max_epochs': 1,         # used for demonstration purposes\n",
    "    'ema_decay': 0.999,\n",
    "    'clip_grad_norm': 10,\n",
    "    'loss_energy': 'mae',\n",
    "}\n",
    "# Dataset\n",
    "dataset = [\n",
    "  {'src': train_src,\n",
    "   'normalize_labels': True,\n",
    "   'target_mean': mean,\n",
    "   'target_std': stdev,\n",
    "  }, # train set \n",
    "  {'src': val_src}, # val set (optional)\n",
    "]"
   ]
  },
  {
   "cell_type": "markdown",
   "metadata": {
    "id": "oG5w1sk-v1LI"
   },
   "source": [
    "###Create EnergyTrainer"
   ]
  },
  {
   "cell_type": "code",
   "execution_count": null,
   "metadata": {
    "colab": {
     "base_uri": "https://localhost:8080/"
    },
    "id": "ExmkV2K1W07H",
    "outputId": "4e875ed0-258b-43eb-e191-d00274400128"
   },
   "outputs": [],
   "source": [
    "energy_trainer = OCPTrainer(\n",
    "    task=task,\n",
    "    model=copy.deepcopy(model), # copied for later use, not necessary in practice.\n",
    "    dataset=dataset,\n",
    "    optimizer=optimizer,\n",
    "    outputs={},\n",
    "    loss_fns={},\n",
    "    eval_metrics={},\n",
    "    name=\"is2re\",\n",
    "    identifier=\"IS2RE-example\",\n",
    "    run_dir=\"./\", # directory to save results if is_debug=False. Prediction files are saved here so be careful not to override!\n",
    "    is_debug=False, # if True, do not save checkpoint, logs, or results\n",
    "    print_every=5,\n",
    "    seed=0, # random seed to use\n",
    "    logger=\"tensorboard\", # logger of choice (tensorboard and wandb supported)\n",
    "    local_rank=0,\n",
    "    amp=True, # use PyTorch Automatic Mixed Precision (faster training and less memory usage),\n",
    ")"
   ]
  },
  {
   "cell_type": "markdown",
   "metadata": {
    "id": "pto2SpJPwlz1"
   },
   "source": [
    "### Train the Model"
   ]
  },
  {
   "cell_type": "code",
   "execution_count": null,
   "metadata": {
    "colab": {
     "base_uri": "https://localhost:8080/"
    },
    "id": "iHMRkFplwsky",
    "outputId": "df58e36a-6bb9-411a-ce4a-b9258fc06a55"
   },
   "outputs": [],
   "source": [
    "energy_trainer.train()"
   ]
  },
  {
   "cell_type": "markdown",
   "metadata": {
    "id": "MkAd2MBmw8wO"
   },
   "source": [
    "### Validate the Model"
   ]
  },
  {
   "cell_type": "markdown",
   "metadata": {
    "id": "gaauxWdNw_-4"
   },
   "source": [
    "#### Load the best checkpoint"
   ]
  },
  {
   "cell_type": "code",
   "execution_count": null,
   "metadata": {
    "colab": {
     "base_uri": "https://localhost:8080/",
     "height": 35
    },
    "id": "xkj0Bslqws_N",
    "outputId": "2680bf59-c13e-4113-b3bd-15aa62c9007e"
   },
   "outputs": [],
   "source": [
    "# The `best_checpoint.pt` file contains the checkpoint with the best val performance\n",
    "checkpoint_path = os.path.join(energy_trainer.config[\"cmd\"][\"checkpoint_dir\"], \"best_checkpoint.pt\")\n",
    "checkpoint_path"
   ]
  },
  {
   "cell_type": "code",
   "execution_count": null,
   "metadata": {
    "colab": {
     "base_uri": "https://localhost:8080/"
    },
    "id": "BqmCqaFlbMZC",
    "outputId": "fd9f2409-1b51-4b6a-90ca-0a00a40d2dfe"
   },
   "outputs": [],
   "source": [
    "# Append the dataset with the test set. We use the same val set for demonstration.\n",
    "\n",
    "# Dataset\n",
    "dataset.append(\n",
    "  {'src': val_src}, # test set (optional)\n",
    ")\n",
    "dataset"
   ]
  },
  {
   "cell_type": "code",
   "execution_count": null,
   "metadata": {
    "colab": {
     "base_uri": "https://localhost:8080/"
    },
    "id": "IkcqadZIxXP-",
    "outputId": "5a07d5c7-cbdf-4901-80db-1fcf19c1c42b"
   },
   "outputs": [],
   "source": [
    "pretrained_energy_trainer = OCPTrainer(\n",
    "    task=task,\n",
    "    model=copy.deepcopy(model), # copied for later use, not necessary in practice.\n",
    "    dataset=dataset,\n",
    "    optimizer=optimizer,\n",
    "    outputs={},\n",
    "    loss_fns={},\n",
    "    eval_metrics={},\n",
    "    name=\"is2re\",\n",
    "    identifier=\"IS2RE-val-example\",\n",
    "    run_dir=\"./\", # directory to save results if is_debug=False. Prediction files are saved here so be careful not to override!\n",
    "    is_debug=False, # if True, do not save checkpoint, logs, or results\n",
    "    print_every=5,\n",
    "    seed=0, # random seed to use\n",
    "    logger=\"tensorboard\", # logger of choice (tensorboard and wandb supported)\n",
    "    local_rank=0,\n",
    "    amp=True, # use PyTorch Automatic Mixed Precision (faster training and less memory usage),\n",
    ")\n",
    "\n",
    "pretrained_energy_trainer.load_checkpoint(checkpoint_path=checkpoint_path)"
   ]
  },
  {
   "cell_type": "markdown",
   "metadata": {
    "id": "TcUvAI81xoSt"
   },
   "source": [
    "#### Test the model"
   ]
  },
  {
   "cell_type": "code",
   "execution_count": null,
   "metadata": {
    "colab": {
     "base_uri": "https://localhost:8080/"
    },
    "id": "VtCEFtXxxr3u",
    "outputId": "eadd2568-ac65-4d3a-b234-cafe99cee575"
   },
   "outputs": [],
   "source": [
    "# make predictions on the existing test_loader\n",
    "predictions = pretrained_energy_trainer.predict(pretrained_trainer.test_loader, results_file=\"is2re_results\", disable_tqdm=False)"
   ]
  },
  {
   "cell_type": "code",
   "execution_count": null,
   "metadata": {
    "id": "1UcfxFi4x4aD"
   },
   "outputs": [],
   "source": [
    "energies = predictions[\"energy\"]"
   ]
  },
  {
   "cell_type": "markdown",
   "metadata": {
    "id": "gM9Wqk0GIxyU"
   },
   "source": [
    "## Initial Structure to Relaxed Structure (IS2RS) <a name=\"is2rs\"></a>\n",
    "\n",
    "We approach the IS2RS task by using a pre-trained S2EF model to iteratively run a structure optimization to arrive at a relaxed structure. While the majority of approaches for this task do this iteratively, we note it's possible to train a model to directly predict relaxed structures.\n",
    "\n",
    "## Steps for making IS2RS predictions\n",
    "1) Define or load a configuration (config), which includes the following\n",
    "* task with relaxation dataset information\n",
    "* model\n",
    "* optimizer\n",
    "* dataset\n",
    "* trainer\n",
    "\n",
    "2) Create a ForcesTrainer object\n",
    "\n",
    "3) Train a S2EF model or load an existing S2EF checkpoint\n",
    "\n",
    "4) Run relaxations\n",
    "\n",
    "**Note** For this task we'll be using a publicly released pre-trained checkpoint of our best model to perform relaxations."
   ]
  },
  {
   "cell_type": "markdown",
   "metadata": {
    "id": "tNSI3hUAJAWc"
   },
   "source": [
    "#### Imports"
   ]
  },
  {
   "cell_type": "code",
   "execution_count": null,
   "metadata": {
    "id": "Z-WZXuRiI6Vo"
   },
   "outputs": [],
   "source": [
    "from ocpmodels.trainers import OCPTrainer\n",
    "from ocpmodels.datasets import LmdbDataset\n",
    "from ocpmodels import models\n",
    "from ocpmodels.common import logger\n",
    "from ocpmodels.common.utils import setup_logging\n",
    "setup_logging()\n",
    "\n",
    "import numpy as np"
   ]
  },
  {
   "cell_type": "markdown",
   "metadata": {
    "id": "XFLZTpRvldZE"
   },
   "source": [
    "### Dataset\n",
    "\n",
    "The IS2RS task requires an additional realxation dataset to be defined - `relax_dataset`. This dataset is read in similar to the IS2RE dataset - requiring an LMDB file. The same datasets are used for the IS2RE and IS2RS tasks."
   ]
  },
  {
   "cell_type": "code",
   "execution_count": null,
   "metadata": {
    "id": "irrPcbs4ldZF"
   },
   "outputs": [],
   "source": [
    "train_src = \"data/s2ef/train_100\"\n",
    "val_src = \"data/s2ef/val_20\"\n",
    "relax_dataset = \"data/is2re/val_20/data.lmdb\""
   ]
  },
  {
   "cell_type": "markdown",
   "metadata": {
    "id": "7gJ01gabd6BR"
   },
   "source": [
    "### Download pretrained checkpoint"
   ]
  },
  {
   "cell_type": "code",
   "execution_count": null,
   "metadata": {
    "id": "MiOeqFN-d-7K"
   },
   "outputs": [],
   "source": [
    "!wget -q https://dl.fbaipublicfiles.com/opencatalystproject/models/2021_08/s2ef/gemnet_t_direct_h512_all.pt\n",
    "checkpoint_path = \"/content/ocp/gemnet_t_direct_h512_all.pt\""
   ]
  },
  {
   "cell_type": "markdown",
   "metadata": {
    "id": "fp1Ab8TGltP6"
   },
   "source": [
    "### Define the Config"
   ]
  },
  {
   "cell_type": "markdown",
   "metadata": {
    "id": "JLOydGsmltP7"
   },
   "source": [
    "Running an iterative S2EF model for the IS2RS task can be run from any S2EF config given the following additions to the `task` portion of the config:\n",
    "\n",
    "* relax_dataset - IS2RE LMDB dataset\n",
    "* *write_pos* - Whether to save out relaxed positions\n",
    "* *relaxation_steps* - Number of optimization steps to run\n",
    "* *relax_opt* - Dictionary of optimizer settings. Currently only LBFGS supported\n",
    "  * *maxstep* - Maximum distance an optimization is allowed to make\n",
    "  * *memory* - Memory history to use for LBFGS\n",
    "  * *damping* - Calculated step is multiplied by this factor before updating positions\n",
    "  * *alpha* - Initial guess for the Hessian\n",
    "  * *traj_dir* - If specified, directory to save out the full ML relaxation as an ASE trajectory. Useful for debugging or visualizing results.\n",
    "* *num_relaxation_batches* - If specified, relaxations will only be run for a subset of the relaxation dataset. Useful for debugging or wanting to visualize a few systems.\n",
    "\n",
    "A sample relaxation config can be found [here](https://github.com/Open-Catalyst-Project/ocp/blob/1044e311182c1120c6e6d137ce6db3f445148973/configs/s2ef/2M/dimenet_plus_plus/dpp_relax.yml#L24-L33).\n",
    "   "
   ]
  },
  {
   "cell_type": "code",
   "execution_count": null,
   "metadata": {
    "id": "XU9DisuyltP8"
   },
   "outputs": [],
   "source": [
    "# Task\n",
    "task = {\n",
    "      'dataset': 'lmdb', # dataset used for the S2EF task\n",
    "      'description': 'Regressing to energies and forces for DFT trajectories from OCP',\n",
    "      'type': 'regression',\n",
    "      'metric': 'mae',\n",
    "      'labels': ['potential energy'],\n",
    "      'grad_input': 'atomic forces',\n",
    "      'train_on_free_atoms': True,\n",
    "      'eval_on_free_atoms': True,\n",
    "      'relax_dataset': {\"src\": relax_dataset},\n",
    "      'write_pos': True,\n",
    "      'relaxation_steps': 200,\n",
    "      'num_relaxation_batches': 1,\n",
    "      'relax_opt': {\n",
    "        'maxstep': 0.04,\n",
    "        'memory': 50,\n",
    "        'damping': 1.0,\n",
    "        'alpha': 70.0,\n",
    "        'traj_dir': \"ml-relaxations/is2rs-test\", \n",
    "    }\n",
    "}\n",
    "# Model\n",
    "model = {\n",
    "    'name': 'gemnet_t',\n",
    "    \"num_spherical\": 7,\n",
    "    \"num_radial\": 128,\n",
    "    \"num_blocks\": 3,\n",
    "    \"emb_size_atom\": 512,\n",
    "    \"emb_size_edge\": 512,\n",
    "    \"emb_size_trip\": 64,\n",
    "    \"emb_size_rbf\": 16,\n",
    "    \"emb_size_cbf\": 16,\n",
    "    \"emb_size_bil_trip\": 64,\n",
    "    \"num_before_skip\": 1,\n",
    "    \"num_after_skip\": 2,\n",
    "    \"num_concat\": 1,\n",
    "    \"num_atom\": 3,\n",
    "    \"cutoff\": 6.0,\n",
    "    \"max_neighbors\": 50,\n",
    "    \"rbf\": {\"name\": \"gaussian\"},\n",
    "    \"envelope\": {\n",
    "      \"name\": \"polynomial\",\n",
    "      \"exponent\": 5,\n",
    "    },\n",
    "    \"cbf\": {\"name\": \"spherical_harmonics\"},\n",
    "    \"extensive\": True,\n",
    "    \"otf_graph\": False,\n",
    "    \"output_init\": \"HeOrthogonal\",\n",
    "    \"activation\": \"silu\",\n",
    "    \"scale_file\": \"configs/s2ef/all/gemnet/scaling_factors/gemnet-dT.json\",\n",
    "    \"regress_forces\": True,\n",
    "    \"direct_forces\": True,\n",
    "}\n",
    "# Optimizer\n",
    "optimizer = {\n",
    "    'batch_size': 1,         # originally 32\n",
    "    'eval_batch_size': 1,    # originally 32\n",
    "    'num_workers': 2,\n",
    "    'lr_initial': 5.e-4,\n",
    "    'optimizer': 'AdamW',\n",
    "    'optimizer_params': {\"amsgrad\": True},\n",
    "    'scheduler': \"ReduceLROnPlateau\",\n",
    "    'mode': \"min\",\n",
    "    'factor': 0.8,\n",
    "    'ema_decay': 0.999,\n",
    "    'clip_grad_norm': 10,\n",
    "    'patience': 3,\n",
    "    'max_epochs': 1,         # used for demonstration purposes\n",
    "    'force_coefficient': 100,\n",
    "}\n",
    "# Dataset\n",
    "dataset = [\n",
    "  {'src': train_src, 'normalize_labels': False}, # train set \n",
    "  {'src': val_src}, # val set (optional)\n",
    "]"
   ]
  },
  {
   "cell_type": "markdown",
   "metadata": {
    "id": "IsOqQIjnogkQ"
   },
   "source": [
    "### Create the trainer"
   ]
  },
  {
   "cell_type": "code",
   "execution_count": null,
   "metadata": {
    "colab": {
     "base_uri": "https://localhost:8080/"
    },
    "id": "5KZvPu4hogkR",
    "outputId": "fdbbfa5c-0d7c-449f-8be5-ef2e5d17860d"
   },
   "outputs": [],
   "source": [
    "trainer = OCPTrainer(\n",
    "    task=task,\n",
    "    model=copy.deepcopy(model), # copied for later use, not necessary in practice.\n",
    "    dataset=dataset,\n",
    "    optimizer=optimizer,\n",
    "    outputs={},\n",
    "    loss_fns={},\n",
    "    eval_metrics={},\n",
    "    name=\"s2ef\",\n",
    "    identifier=\"is2rs-example\",\n",
    "    run_dir=\"./\", # directory to save results if is_debug=False. Prediction files are saved here so be careful not to override!\n",
    "    is_debug=False, # if True, do not save checkpoint, logs, or results\n",
    "    print_every=5,\n",
    "    seed=0, # random seed to use\n",
    "    logger=\"tensorboard\", # logger of choice (tensorboard and wandb supported)\n",
    "    local_rank=0,\n",
    "    amp=True, # use PyTorch Automatic Mixed Precision (faster training and less memory usage),\n",
    ")"
   ]
  },
  {
   "cell_type": "markdown",
   "metadata": {
    "id": "wtMn792WpC4X"
   },
   "source": [
    "### Load the best checkpoint\n"
   ]
  },
  {
   "cell_type": "code",
   "execution_count": null,
   "metadata": {
    "colab": {
     "base_uri": "https://localhost:8080/"
    },
    "id": "jFXQJBYxpC4Y",
    "outputId": "f35be368-a350-465d-fb32-5a5795317bac"
   },
   "outputs": [],
   "source": [
    "trainer.load_checkpoint(checkpoint_path=checkpoint_path)"
   ]
  },
  {
   "cell_type": "markdown",
   "metadata": {
    "id": "2rtga4JPot6i"
   },
   "source": [
    "### Run relaxations\n",
    "\n",
    "We run a full relaxation for a single batch of our relaxation dataset (`num_relaxation_batches=1`)."
   ]
  },
  {
   "cell_type": "code",
   "execution_count": null,
   "metadata": {
    "colab": {
     "base_uri": "https://localhost:8080/"
    },
    "id": "aQG-HEpuot6k",
    "outputId": "f91a9a2a-4ea8-4b60-c6a1-a1255e482119"
   },
   "outputs": [],
   "source": [
    "trainer.run_relaxations()"
   ]
  },
  {
   "cell_type": "markdown",
   "metadata": {
    "id": "j0JBID-2oB7S"
   },
   "source": [
    "### Visualize ML-driven relaxations\n",
    "\n",
    "Following our earlier [visualization steps](#data-description), we can plot our ML-generated relaxations."
   ]
  },
  {
   "cell_type": "code",
   "execution_count": null,
   "metadata": {
    "id": "k3z_fey3syg_"
   },
   "outputs": [],
   "source": [
    "import glob\n",
    "import ase.io\n",
    "from ase.visualize.plot import plot_atoms\n",
    "import matplotlib.pyplot as plt\n",
    "import random\n",
    "import matplotlib\n",
    "\n",
    "params = {\n",
    "   'axes.labelsize': 14,\n",
    "   'font.size': 14,\n",
    "   'font.family': ' DejaVu Sans',\n",
    "   'legend.fontsize': 20,\n",
    "   'xtick.labelsize': 20,\n",
    "   'ytick.labelsize': 20,\n",
    "   'axes.labelsize': 25,\n",
    "   'axes.titlesize': 25,\n",
    "   'text.usetex': False,\n",
    "   'figure.figsize': [12, 12]\n",
    "}\n",
    "matplotlib.rcParams.update(params)"
   ]
  },
  {
   "cell_type": "code",
   "execution_count": null,
   "metadata": {
    "colab": {
     "base_uri": "https://localhost:8080/",
     "height": 375
    },
    "id": "3yArIY59sskv",
    "outputId": "102ace01-5029-4261-cc18-c2f8634157c5"
   },
   "outputs": [],
   "source": [
    "system = glob.glob(\"ml-relaxations/is2rs-test/*.traj\")[0]\n",
    "ml_trajectory = ase.io.read(system, \":\")\n",
    "\n",
    "energies = [atom.get_potential_energy() for atom in ml_trajectory]\n",
    "\n",
    "plt.figure(figsize=(7, 5))\n",
    "plt.plot(range(len(energies)), energies)\n",
    "plt.xlabel(\"step\")\n",
    "plt.ylabel(\"energy, eV\")\n",
    "system"
   ]
  },
  {
   "cell_type": "markdown",
   "metadata": {
    "id": "CN9RC25hxLlp"
   },
   "source": [
    "Qualitatively, the ML relaxation is behaving as expected - decreasing energies over the course of the relaxation."
   ]
  },
  {
   "cell_type": "code",
   "execution_count": null,
   "metadata": {
    "colab": {
     "base_uri": "https://localhost:8080/",
     "height": 198
    },
    "id": "6kxJBkV1wZUw",
    "outputId": "f1f39a5f-feac-42bc-c208-c6c14aff88ef"
   },
   "outputs": [],
   "source": [
    "fig, ax = plt.subplots(1, 3)\n",
    "labels = ['ml-initial', 'ml-middle', 'ml-final']\n",
    "for i in range(3):\n",
    "    ax[i].axis('off')\n",
    "    ax[i].set_title(labels[i])\n",
    "\n",
    "ase.visualize.plot.plot_atoms(\n",
    "    ml_trajectory[0], \n",
    "    ax[0], \n",
    "    radii=0.8,\n",
    "    # rotation=(\"-75x, 45y, 10z\")) # uncomment to visualize at different angles\n",
    ")\n",
    "ase.visualize.plot.plot_atoms(\n",
    "    ml_trajectory[100], \n",
    "    ax[1], \n",
    "    radii=0.8, \n",
    "    # rotation=(\"-75x, 45y, 10z\") # uncomment to visualize at different angles\n",
    ")\n",
    "ase.visualize.plot.plot_atoms(\n",
    "    ml_trajectory[-1], \n",
    "    ax[2], \n",
    "    radii=0.8,\n",
    "    # rotation=(\"-75x, 45y, 10z\"), # uncomment to visualize at different angles\n",
    ")\n"
   ]
  },
  {
   "cell_type": "markdown",
   "metadata": {
    "id": "8LE2lrJwyblQ"
   },
   "source": [
    "Qualitatively, the generated structures seem reasonable with no obvious issues we had previously mentioned to look out for."
   ]
  },
  {
   "cell_type": "markdown",
   "metadata": {
    "id": "MymFuumcRd8r"
   },
   "source": [
    "# Model development <a name=\"model-dev\"></a>\n",
    "\n",
    "In this section, we will walk through how to develop a simple Graph Neural Network model on the S2EF-200k dataset.\n",
    "\n",
    "Let's begin by setting up some imports and boilerplate config parameters."
   ]
  },
  {
   "cell_type": "markdown",
   "metadata": {
    "id": "mk71_j2i96X4"
   },
   "source": [
    "## Imports"
   ]
  },
  {
   "cell_type": "code",
   "execution_count": null,
   "metadata": {
    "id": "vK49MKgd9ufL"
   },
   "outputs": [],
   "source": [
    "import torch\n",
    "\n",
    "from typing import Optional\n",
    "\n",
    "from ocpmodels.trainers import OCPTrainer\n",
    "from ocpmodels import models\n",
    "from ocpmodels.common import logger\n",
    "from ocpmodels.common.utils import setup_logging, get_pbc_distances\n",
    "from ocpmodels.common.registry import registry\n",
    "\n",
    "from ocpmodels.models.gemnet.layers.radial_basis import PolynomialEnvelope\n",
    "\n",
    "from torch_geometric.nn.models.schnet import GaussianSmearing\n",
    "from torch_scatter import scatter"
   ]
  },
  {
   "cell_type": "code",
   "execution_count": null,
   "metadata": {
    "id": "Xj9QvWby-AI6"
   },
   "outputs": [],
   "source": [
    "setup_logging()\n",
    "\n",
    "# Dataset paths\n",
    "train_src = \"data/s2ef/train_100\"\n",
    "val_src = \"data/s2ef/val_20\"\n",
    "\n",
    "# Configs\n",
    "task = {\n",
    "    'dataset': 'trajectory_lmdb', # dataset used for the S2EF task\n",
    "    'description': 'Regressing to energies and forces for DFT trajectories from OCP',\n",
    "    'type': 'regression',\n",
    "    'metric': 'mae',\n",
    "    'labels': ['potential energy'],\n",
    "    'grad_input': 'atomic forces',\n",
    "    'train_on_free_atoms': True,\n",
    "    'eval_on_free_atoms': True\n",
    "}\n",
    "\n",
    "# Optimizer\n",
    "optimizer = {\n",
    "    'batch_size': 16, # if hitting GPU memory issues, lower this\n",
    "    'eval_batch_size': 8,\n",
    "    'num_workers': 8,\n",
    "    'lr_initial': 0.0001,\n",
    "    'scheduler': \"ReduceLROnPlateau\",\n",
    "    'mode': \"min\",\n",
    "    'factor': 0.8,\n",
    "    'patience': 3,\n",
    "    'max_epochs': 80,\n",
    "    'max_epochs': 5,\n",
    "    'force_coefficient': 100,\n",
    "}\n",
    "\n",
    "# Dataset\n",
    "dataset = [\n",
    "  {'src': train_src, 'normalize_labels': True, 'target_mean':  -0.7554450631141663, 'target_std': 2.887317180633545, 'grad_target_mean': 0.0, 'grad_target_std': 2.887317180633545}, # train set\n",
    "  {'src': val_src},\n",
    "]"
   ]
  },
  {
   "cell_type": "markdown",
   "metadata": {
    "id": "bzp-Cyrm-JOE"
   },
   "source": [
    "## Atom and Edge Embeddings\n",
    "\n",
    "Each atom is represented as a node with its features computed using a simple `torch.nn.Embedding` layer on the atomic number.\n",
    "\n",
    "All pairs of atoms with a defined cutoff radius (=6A) are assumed to have edges between them, with their features computed as the concatenation of 1) a Gaussian expansion of the distance between the atoms, and the 2) source and 3) target\n",
    "node features.\n",
    "\n",
    "We will use the `GaussianSmearing` layer (reproduced below) from the PyTorch Geometric library for computing distance features:\n",
    "\n",
    "```\n",
    "class GaussianSmearing(torch.nn.Module):\n",
    "    def __init__(self, start=0.0, stop=5.0, num_gaussians=50):\n",
    "        super(GaussianSmearing, self).__init__()\n",
    "        offset = torch.linspace(start, stop, num_gaussians)\n",
    "        self.coeff = -0.5 / (offset[1] - offset[0]).item()**2\n",
    "        self.register_buffer('offset', offset)\n",
    "\n",
    "    def forward(self, dist):\n",
    "        dist = dist.view(-1, 1) - self.offset.view(1, -1)\n",
    "        return torch.exp(self.coeff * torch.pow(dist, 2))\n",
    "```"
   ]
  },
  {
   "cell_type": "code",
   "execution_count": null,
   "metadata": {
    "id": "dfMCS-pL-2X5"
   },
   "outputs": [],
   "source": [
    "class AtomEmbedding(torch.nn.Module):\n",
    "    def __init__(self, emb_size):\n",
    "        super().__init__()\n",
    "        self.embeddings = torch.nn.Embedding(83, emb_size) # We go up to Bi (83).\n",
    "\n",
    "    def forward(self, Z):\n",
    "        h = self.embeddings(Z - 1)  # -1 because Z.min()=1 (==Hydrogen)\n",
    "        return h\n",
    "\n",
    "class EdgeEmbedding(torch.nn.Module):\n",
    "    def __init__(self, atom_emb_size, edge_emb_size, out_size):\n",
    "        super().__init__()\n",
    "        in_features = 2 * atom_emb_size + edge_emb_size\n",
    "        self.dense = torch.nn.Sequential(\n",
    "            torch.nn.Linear(in_features, out_size, bias=False),\n",
    "            torch.nn.SiLU()\n",
    "        )\n",
    "\n",
    "    def forward(self, h, m_rbf, idx_s, idx_t,\n",
    "    ):\n",
    "        h_s = h[idx_s]  # indexing source node, shape=(num_edges, emb_size)\n",
    "        h_t = h[idx_t]  # indexing target node, shape=(num_edges, emb_size)\n",
    "\n",
    "        m_st = torch.cat([h_s, h_t, m_rbf], dim=-1)  # (num_edges, 2 * atom_emb_size + edge_emb_size)\n",
    "        m_st = self.dense(m_st)  # (num_edges, out_size)\n",
    "        return m_st\n",
    "\n",
    "class RadialBasis(torch.nn.Module):\n",
    "    def __init__(self, num_radial: int, cutoff: float, env_exponent: int = 5):\n",
    "        super().__init__()\n",
    "        self.inv_cutoff = 1 / cutoff\n",
    "        self.envelope = PolynomialEnvelope(env_exponent)\n",
    "        self.rbf = GaussianSmearing(start=0, stop=1, num_gaussians=num_radial)\n",
    "\n",
    "    def forward(self, d):\n",
    "        d_scaled = d * self.inv_cutoff\n",
    "        env = self.envelope(d_scaled)\n",
    "        return env[:, None] * self.rbf(d_scaled)  # (num_edges, num_radial)"
   ]
  },
  {
   "cell_type": "markdown",
   "metadata": {
    "id": "nhvCP4wzAE_K"
   },
   "source": [
    "## Message passing \n",
    "\n",
    "We start by implementing a very simple message-passing scheme to predict system energy and forces.\n",
    "\n",
    "Given the node and edge features, we sum up edge features for all edges $e_{ij}$ connecting node $i$ to its neighbors $j$, and pass the resultant vector through a fully-connected layer to project it down to a scalar. This gives us a scalar energy contribution for each node $i$ in the structure. We then sum up all node energy contributions to predict the overall system energy.\n",
    "\n",
    "Similarly, to predict forces, we pass edge features through a fully-connected layer to project it down to a scalar representing the force magnitude per edge $e_{ij}$. We can then sum up these force magnitudes based on the original edge directions to predict the resultant force vector per node $i$."
   ]
  },
  {
   "cell_type": "code",
   "execution_count": null,
   "metadata": {
    "id": "QMjBCLcSAQSp"
   },
   "outputs": [],
   "source": [
    "@registry.register_model(\"simple\")\n",
    "class SimpleAtomEdgeModel(torch.nn.Module):\n",
    "    def __init__(self, num_atoms, bond_feat_dim, num_targets, emb_size=64, num_radial=64, cutoff=6.0, env_exponent=5):\n",
    "        super().__init__()\n",
    "\n",
    "        self.radial_basis = RadialBasis(\n",
    "            num_radial=num_radial,\n",
    "            cutoff=cutoff,\n",
    "            env_exponent=env_exponent,\n",
    "        )\n",
    "\n",
    "        self.atom_emb = AtomEmbedding(emb_size)\n",
    "        self.edge_emb = EdgeEmbedding(emb_size, num_radial, emb_size)\n",
    "\n",
    "        self.out_energy = torch.nn.Linear(emb_size, 1)\n",
    "        self.out_forces = torch.nn.Linear(emb_size, 1)\n",
    "\n",
    "    def forward(self, data):\n",
    "        batch = data.batch\n",
    "        atomic_numbers = data.atomic_numbers.long()\n",
    "        edge_index = data.edge_index\n",
    "        cell_offsets = data.cell_offsets\n",
    "        neighbors = data.neighbors\n",
    "\n",
    "        # computing edges and distances taking periodic boundary conditions into account\n",
    "        out = get_pbc_distances(\n",
    "            data.pos,\n",
    "            edge_index,\n",
    "            data.cell,\n",
    "            cell_offsets,\n",
    "            neighbors,\n",
    "            return_offsets=True,\n",
    "            return_distance_vec=True,\n",
    "        )\n",
    "\n",
    "        edge_index = out[\"edge_index\"]\n",
    "        D_st = out[\"distances\"]\n",
    "        V_st = -out[\"distance_vec\"] / D_st[:, None]\n",
    "\n",
    "        idx_s, idx_t = edge_index\n",
    "\n",
    "        # embed atoms\n",
    "        h_atom = self.atom_emb(atomic_numbers)\n",
    "\n",
    "        # gaussian expansion of distances D_st\n",
    "        m_rbf = self.radial_basis(D_st)\n",
    "        # embed edges\n",
    "        m = self.edge_emb(h_atom, m_rbf, idx_s, idx_t)\n",
    "\n",
    "        # read out energy\n",
    "        # \n",
    "        # x_E_i = \\sum_j m_ji -- summing up edge features m_ji for all neighbors j\n",
    "        # of node i to predict node i's energy contribution.\n",
    "        x_E = scatter(m, idx_t, dim=0, dim_size=h_atom.shape[0], reduce=\"sum\")\n",
    "        x_E = self.out_energy(x_E)\n",
    "\n",
    "        # E = \\sum_i x_E_i\n",
    "        num_systems = torch.max(batch)+1\n",
    "        E = scatter(x_E, batch, dim=0, dim_size=num_systems, reduce=\"add\")\n",
    "        # (num_systems, 1)\n",
    "\n",
    "        # read out forces\n",
    "        # \n",
    "        # x_F is the force magnitude per edge, we multiply that by the direction of each edge ji,\n",
    "        # and sum up all the vectors to predict the resultant force on node i\n",
    "        x_F = self.out_forces(m)\n",
    "        F_st_vec = x_F[:, :, None] * V_st[:, None, :]\n",
    "        F = scatter(F_st_vec, idx_t, dim=0, dim_size=atomic_numbers.size(0), reduce=\"add\")\n",
    "        # (num_atoms, num_targets, 3)\n",
    "        F = F.squeeze(1)\n",
    "        \n",
    "        return {\"energy\": E, \"forces\": F}\n",
    "\n",
    "    @property\n",
    "    def num_params(self):\n",
    "        return sum(p.numel() for p in self.parameters())"
   ]
  },
  {
   "cell_type": "markdown",
   "metadata": {
    "id": "-Vl3WEqVAith"
   },
   "source": [
    "## Training the model"
   ]
  },
  {
   "cell_type": "code",
   "execution_count": null,
   "metadata": {
    "id": "u7E7pLiqAmnL"
   },
   "outputs": [],
   "source": [
    "model_params = {\n",
    "    'name': 'simple',\n",
    "    'emb_size': 256,\n",
    "    'num_radial': 128,\n",
    "    'cutoff': 6.0,\n",
    "    'env_exponent': 5,\n",
    "}\n",
    "\n",
    "trainer = OCPTrainer(\n",
    "    task=task,\n",
    "    model=model_params,\n",
    "    dataset=dataset,\n",
    "    optimizer=optimizer,\n",
    "    outputs={},\n",
    "    loss_fns={},\n",
    "    eval_metrics={},\n",
    "    name=\"s2ef\",\n",
    "    identifier=\"S2EF-simple\",\n",
    "    run_dir=\"./\", # directory to save results if is_debug=False. Prediction files are saved here so be careful not to override!\n",
    "    is_debug=False, # if True, do not save checkpoint, logs, or results\n",
    "    print_every=5,\n",
    "    seed=0, # random seed to use\n",
    "    logger=\"tensorboard\", # logger of choice (tensorboard and wandb supported)\n",
    "    local_rank=0,\n",
    "    amp=True, # use PyTorch Automatic Mixed Precision (faster training and less memory usage),\n",
    ")\n",
    "\n",
    "trainer.train()"
   ]
  },
  {
   "cell_type": "markdown",
   "metadata": {
    "id": "thF9lWK9Ay90"
   },
   "source": [
    "If you've wired everything up correctly, this model should be relatively small (~185k params) and achieve a force MAE of 0.0815, force cosine of 0.0321, energy MAE of 2.2772 in 2 epochs.\n",
    "\n",
    "We encourage the reader to try playing with the embedding size, cutoff radius, number of gaussian basis functions, and polynomial envelope exponent to see how it affects performance."
   ]
  },
  {
   "cell_type": "markdown",
   "metadata": {
    "id": "PSqVJXsxArvu"
   },
   "source": [
    "## Incorporating triplets and training GemNet-T\n",
    "\n",
    "Recall how this model computes edge embeddings based only on a Gaussian expansion of edge distances.\n",
    "\n",
    "To better capture 3D geometry, we should also embed angles formed by triplets or quadruplets of atoms. A model that incorporates this idea and works quite well is GemNet (Klicpera et al., NeurIPS 2021); see the following figure.\n",
    "\n",
    "![Screen Shot 2021-11-22 at 3.58.24 PM.png](data:image/png;base64,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)"
   ]
  },
  {
   "cell_type": "markdown",
   "metadata": {
    "id": "Twh6yIC5GTrW"
   },
   "source": [
    "You can train a GemNet-T (T = triplets) on S2EF-200k using the following config.\n",
    "\n",
    "Note that this is a significantly bulkier model (~3.4M params) than the one we developed above and will take longer to train."
   ]
  },
  {
   "cell_type": "code",
   "execution_count": null,
   "metadata": {
    "id": "LVbM_S0sGlOr"
   },
   "outputs": [],
   "source": [
    "model_params = {\n",
    "    'name': 'gemnet_t',\n",
    "    'num_spherical': 7,\n",
    "    'num_radial': 128,\n",
    "    'num_blocks': 1,\n",
    "    'emb_size_atom': 256,\n",
    "    'emb_size_edge': 256,\n",
    "    'emb_size_trip': 64,\n",
    "    'emb_size_rbf': 16,\n",
    "    'emb_size_cbf': 16,\n",
    "    'emb_size_bil_trip': 64,\n",
    "    'num_before_skip': 1,\n",
    "    'num_after_skip': 1,\n",
    "    'num_concat': 1,\n",
    "    'num_atom': 3,\n",
    "    'cutoff': 6.0,\n",
    "    'max_neighbors': 50,\n",
    "    'rbf': {'name': 'gaussian'},\n",
    "    'envelope': {'name': 'polynomial', 'exponent': 5},\n",
    "    'cbf': {'name': 'spherical_harmonics'},\n",
    "    'extensive': True,\n",
    "    'otf_graph': False,\n",
    "    'output_init': 'HeOrthogonal',\n",
    "    'activation': 'silu',\n",
    "    'scale_file': 'configs/s2ef/all/gemnet/scaling_factors/gemnet-dT.json',\n",
    "    'regress_forces': True,\n",
    "    'direct_forces': True,\n",
    "}\n",
    "\n",
    "trainer = OCPTrainer(\n",
    "    task=task,\n",
    "    model=model_params,\n",
    "    dataset=dataset,\n",
    "    optimizer=optimizer,\n",
    "    outputs={},\n",
    "    loss_fns={},\n",
    "    eval_metrics={},\n",
    "    name=\"s2ef\",\n",
    "    identifier=\"S2EF-gemnet-t\",\n",
    "    run_dir=\"./\", # directory to save results if is_debug=False. Prediction files are saved here so be careful not to override!\n",
    "    is_debug=False, # if True, do not save checkpoint, logs, or results\n",
    "    print_every=5,\n",
    "    seed=0, # random seed to use\n",
    "    logger=\"tensorboard\", # logger of choice (tensorboard and wandb supported)\n",
    "    local_rank=0,\n",
    "    amp=True, # use PyTorch Automatic Mixed Precision (faster training and less memory usage),\n",
    ")\n",
    "\n",
    "trainer.train()"
   ]
  },
  {
   "cell_type": "markdown",
   "metadata": {
    "id": "F-Pw3GCVHAwA"
   },
   "source": [
    "This model should achieve a force MAE of 0.0668, a force cosine of 0.1180, and an energy MAE of 0.8106 in 2 epochs, significantly better than our simple model.\n",
    "\n",
    "Again, we encourage the reader to try playing with no. of blocks, choice of basis functions, the various embedding sizes to develop intuition for the interplay between these hyperparameters."
   ]
  },
  {
   "cell_type": "markdown",
   "metadata": {
    "id": "Rzx0lArZJ6r0"
   },
   "source": [
    "# (Optional) OCP Calculator <a name=\"calc\"></a>\n",
    "\n",
    "For those interested in using our pretrained models for other applications, we provide an [ASE](https://wiki.fysik.dtu.dk/ase/#:~:text=The%20Atomic%20Simulation%20Environment%20(ASE,under%20the%20GNU%20LGPL%20license.)-compatible Calculator to interface with ASE's functionality."
   ]
  },
  {
   "cell_type": "markdown",
   "metadata": {
    "id": "QGaXyeS_8yHp"
   },
   "source": [
    "## Download pretrained checkpoint\n",
    "\n",
    "We have released checkpoints of all the models on the leaderboard [here](https://github.com/Open-Catalyst-Project/ocp/blob/master/MODELS.md). These trained models can be used as an ASE calculator for various calculations.\n",
    "\n",
    "For this tutorial we download our current best model checkpoint: GemNet-T"
   ]
  },
  {
   "cell_type": "code",
   "execution_count": null,
   "metadata": {
    "id": "MBCRi69284Ve"
   },
   "outputs": [],
   "source": [
    "!wget -q https://dl.fbaipublicfiles.com/opencatalystproject/models/2021_08/s2ef/gemnet_t_direct_h512_all.pt\n",
    "checkpoint_path = \"/content/ocp/gemnet_t_direct_h512_all.pt\""
   ]
  },
  {
   "cell_type": "markdown",
   "metadata": {
    "id": "TNQ1dNVG93kH"
   },
   "source": [
    "## Using the OCP Calculator\n"
   ]
  },
  {
   "cell_type": "code",
   "execution_count": null,
   "metadata": {
    "colab": {
     "base_uri": "https://localhost:8080/"
    },
    "id": "o_MHpzbhPKN_",
    "outputId": "fa4336cf-ba85-43b6-e608-551ffcf3763a"
   },
   "outputs": [],
   "source": [
    "from ocpmodels.common.relaxation.ase_utils import OCPCalculator\n",
    "import ase.io\n",
    "from ase.optimize import BFGS\n",
    "from ase.build import fcc100, add_adsorbate, molecule\n",
    "import os\n",
    "from ase.constraints import FixAtoms\n",
    "\n",
    "# Construct a sample structure\n",
    "adslab = fcc100(\"Cu\", size=(3, 3, 3))\n",
    "adsorbate = molecule(\"C3H8\")\n",
    "add_adsorbate(adslab, adsorbate, 3, offset=(1, 1))\n",
    "tags = np.zeros(len(adslab))\n",
    "tags[18:27] = 1\n",
    "tags[27:] = 2\n",
    "adslab.set_tags(tags)\n",
    "cons= FixAtoms(indices=[atom.index for atom in adslab if (atom.tag == 0)])\n",
    "adslab.set_constraint(cons)\n",
    "adslab.center(vacuum=13.0, axis=2)\n",
    "adslab.set_pbc(True)\n",
    "\n",
    "# Define the calculator\n",
    "calc = OCPCalculator(checkpoint_path=checkpoint_path)\n",
    "\n",
    "# Set up the calculator\n",
    "adslab.calc = calc\n",
    "\n",
    "os.makedirs(\"data/sample_ml_relax\", exist_ok=True)\n",
    "opt = BFGS(adslab, trajectory=\"data/sample_ml_relax/toy_c3h8_relax.traj\")\n",
    "\n",
    "opt.run(fmax=0.05, steps=100)"
   ]
  },
  {
   "cell_type": "markdown",
   "metadata": {
    "id": "TUH5BaaXo-ca"
   },
   "source": [
    "<a name=\"lmdb\"></a>\n",
    "# (Optional) Creating your own LMDBs for use in the OCP repository \n",
    "\n",
    "In order to interface with our repository, the data mustbe structured and organized in a specific format. Below we walk you through on how to create such datasets with your own non-OC20 data that may help with your research.\n",
    "\n",
    "For this tutorial we use the toy C3H8 trajectory we previously generated [here](#data-description)."
   ]
  },
  {
   "cell_type": "markdown",
   "metadata": {
    "id": "o7cG3WhLnuqg"
   },
   "source": [
    "\n",
    "\n",
    "#### Initial Structure to Relaxed Energy (IS2RE) LMDBs\n",
    "IS2RE/IS2RS LMDBs utilize the LmdbDataset dataset. This dataset expects the data to be contained in a **single** LMDB file. In addition to the attributes defined by AtomsToGraph, the following attributes must be added for the IS2RE/IS2RS tasks:\n",
    "\n",
    "- pos_relaxed: Relaxed adslab positions\n",
    "- sid: Unique system identifier, arbitrary\n",
    "- y_init: Initial adslab energy, formerly Data.y\n",
    "- y_relaxed: Relaxed adslab energy\n",
    "- tags (optional): 0 - subsurface, 1 - surface, 2 - adsorbate\n",
    "\n",
    "\n",
    "As a demo, we will use the above generated data to create an IS2R* LMDB file.\n"
   ]
  },
  {
   "cell_type": "code",
   "execution_count": null,
   "metadata": {
    "id": "nweCG0y5nxlw"
   },
   "outputs": [],
   "source": [
    "from ocpmodels.preprocessing import AtomsToGraphs\n",
    "\n",
    "\"\"\"\n",
    "args description:\n",
    "\n",
    "max neigh (int): maximum number of neighors to be considered while constructing a graph\n",
    "radius (int): Neighbors are considered only within this radius cutoff in Angstrom\n",
    "r_energy (bool): Stored energy value in the Data object; False for test data\n",
    "r_forces (bool): Stores forces value in the Data object; False for test data\n",
    "r_distances (bool): pre-calculates distances taking into account PBC and max neigh/radius\n",
    "  If you set it to False, make sure to add \"otf_graph = True\" under models in config for runs\n",
    "r_fixed (bools): True if you want to fix the subsurface atoms\n",
    "\"\"\"\n",
    "\n",
    "a2g = AtomsToGraphs(\n",
    "    max_neigh=50,\n",
    "    radius=6,\n",
    "    r_energy=True,    \n",
    "    r_forces=True,\n",
    "    r_distances=False, \n",
    "    r_fixed=True,\n",
    ")"
   ]
  },
  {
   "cell_type": "code",
   "execution_count": null,
   "metadata": {
    "id": "K16pPnQdnzro"
   },
   "outputs": [],
   "source": [
    "import lmdb\n",
    "\n",
    "\"\"\"\n",
    "For most cases one just needs to change the name of the lmdb as they require.\n",
    "Make sure to give the entire path in the config (with .lmdb) for IS2RE tasks\n",
    "\"\"\"\n",
    "\n",
    "db = lmdb.open(\n",
    "    \"data/toy_C3H8.lmdb\",\n",
    "    map_size=1099511627776 * 2,\n",
    "    subdir=False,\n",
    "    meminit=False,\n",
    "    map_async=True,\n",
    ")"
   ]
  },
  {
   "cell_type": "code",
   "execution_count": null,
   "metadata": {
    "id": "t_8oaE5qn1Za"
   },
   "outputs": [],
   "source": [
    "\"\"\"\n",
    "This method converts extracts all features from trajectory file and convert to Data Object\n",
    "\"\"\"\n",
    "\n",
    "def read_trajectory_extract_features(a2g, traj_path):\n",
    "    # Read the traj file\n",
    "    traj = ase.io.read(traj_path, \":\")\n",
    "\n",
    "    # Get tags if you had defined those in the atoms object, if not skip this line\n",
    "    tags = traj[0].get_tags()\n",
    "\n",
    "    # Collect only initial and final image as this is IS2RS task\n",
    "    images = [traj[0], traj[-1]]\n",
    "\n",
    "    # Converts a list of atoms object to a list of Data object using a2g defined above\n",
    "    data_objects = a2g.convert_all(images, disable_tqdm=True)\n",
    "\n",
    "    # Add tags to the data objects if you have them (we would suggest to do so), if not skip this\n",
    "    data_objects[0].tags = torch.LongTensor(tags)\n",
    "    data_objects[1].tags = torch.LongTensor(tags)\n",
    "\n",
    "    return data_objects"
   ]
  },
  {
   "cell_type": "code",
   "execution_count": null,
   "metadata": {
    "id": "qSfOagphn7yy"
   },
   "outputs": [],
   "source": [
    "import torch\n",
    "import pickle\n",
    "system_paths = [\"data/toy_c3h8_relax.traj\"] # specify list of trajectory files you wish to write to LMDBs\n",
    "idx = 0\n",
    "\n",
    "for system in system_paths:\n",
    "    # Extract Data object\n",
    "    data_objects = read_trajectory_extract_features(a2g, system)\n",
    "    initial_struc = data_objects[0]\n",
    "    relaxed_struc = data_objects[1]\n",
    "    \n",
    "    initial_struc.y_init = initial_struc.y # subtract off reference energy, if applicable\n",
    "    del initial_struc.y\n",
    "    initial_struc.y_relaxed = relaxed_struc.y # subtract off reference energy, if applicable\n",
    "    initial_struc.pos_relaxed = relaxed_struc.pos\n",
    "    \n",
    "    # Filter data if necessary\n",
    "    # OCP filters adsorption energies > |10| eV\n",
    "    \n",
    "    initial_struc.sid = idx  # arbitrary unique identifier \n",
    "    \n",
    "    # no neighbor edge case check\n",
    "    if initial_struc.edge_index.shape[1] == 0:\n",
    "        print(\"no neighbors\", traj_path)\n",
    "        continue\n",
    "    \n",
    "    # Write to LMDB\n",
    "    txn = db.begin(write=True)\n",
    "    txn.put(f\"{idx}\".encode(\"ascii\"), pickle.dumps(initial_struc, protocol=-1))\n",
    "    txn.commit()\n",
    "    db.sync()\n",
    "    idx += 1\n",
    "\n",
    "db.close()"
   ]
  },
  {
   "cell_type": "code",
   "execution_count": null,
   "metadata": {
    "colab": {
     "base_uri": "https://localhost:8080/"
    },
    "id": "p8ftTehrn9pG",
    "outputId": "74c95b8a-e260-4b6f-92c4-3544f28deda5"
   },
   "outputs": [],
   "source": [
    "from ocpmodels.datasets import LmdbDataset\n",
    "\n",
    "# LmdbDataset is out custom Dataset method to read the lmdbs as Data objects. Note that we need to give the entire path (including lmdb) for IS2RE\n",
    "dataset = LmdbDataset({\"src\": \"data/toy_C3H8.lmdb\"})\n",
    "\n",
    "print(\"Size of the dataset created:\", len(dataset))\n",
    "print(dataset[0])"
   ]
  },
  {
   "cell_type": "markdown",
   "metadata": {
    "id": "UWYBEis2n_ye"
   },
   "source": [
    "#### Structure to Energy and Forces (S2EF) LMDBs\n",
    "\n",
    "S2EF LMDBs utilize the LmdbDatset dataset. This dataset expects a directory of LMDB files. In addition to the attributes defined by AtomsToGraph, the following attributes must be added for the S2EF task:\n",
    "\n",
    "- tags (optional): 0 - subsurface, 1 - surface, 2 - adsorbate\n",
    "- fid: Frame index along the trajcetory\n",
    "- sid- sid: Unique system identifier, arbitrary\n",
    "\n",
    "Additionally, a \"length\" key must be added to each LMDB file.\n",
    "\n",
    "As a demo, we will use the above generated data to create an S2EF LMDB dataset"
   ]
  },
  {
   "cell_type": "code",
   "execution_count": null,
   "metadata": {
    "id": "k74bbQJuoBwy"
   },
   "outputs": [],
   "source": [
    "os.makedirs(\"data/s2ef\", exist_ok=True)\n",
    "db = lmdb.open(\n",
    "    \"data/s2ef/toy_C3H8.lmdb\",\n",
    "    map_size=1099511627776 * 2,\n",
    "    subdir=False,\n",
    "    meminit=False,\n",
    "    map_async=True,\n",
    ")"
   ]
  },
  {
   "cell_type": "code",
   "execution_count": null,
   "metadata": {
    "colab": {
     "base_uri": "https://localhost:8080/"
    },
    "id": "-6VuR1lBoDfY",
    "outputId": "0c3e104b-d22f-4376-85f3-0cd505c8914d"
   },
   "outputs": [],
   "source": [
    "from tqdm import tqdm\n",
    "tags = traj[0].get_tags()\n",
    "data_objects = a2g.convert_all(traj, disable_tqdm=True)\n",
    "\n",
    "\n",
    "for fid, data in tqdm(enumerate(data_objects), total=len(data_objects)):\n",
    "    #assign sid\n",
    "    data.sid = torch.LongTensor([0])\n",
    "    \n",
    "    #assign fid\n",
    "    data.fid = torch.LongTensor([fid])\n",
    "    \n",
    "    #assign tags, if available\n",
    "    data.tags = torch.LongTensor(tags)\n",
    "    \n",
    "    # Filter data if necessary\n",
    "    # OCP filters adsorption energies > |10| eV and forces > |50| eV/A\n",
    "\n",
    "    # no neighbor edge case check\n",
    "    if data.edge_index.shape[1] == 0:\n",
    "        print(\"no neighbors\", traj_path)\n",
    "        continue\n",
    "\n",
    "    txn = db.begin(write=True)\n",
    "    txn.put(f\"{fid}\".encode(\"ascii\"), pickle.dumps(data, protocol=-1))\n",
    "    txn.commit()\n",
    "    \n",
    "txn = db.begin(write=True)\n",
    "txn.put(f\"length\".encode(\"ascii\"), pickle.dumps(len(data_objects), protocol=-1))\n",
    "txn.commit()\n",
    "\n",
    "\n",
    "db.sync()\n",
    "db.close()"
   ]
  },
  {
   "cell_type": "markdown",
   "metadata": {
    "id": "rJ2ZXuBMH8xt"
   },
   "source": [
    "# Running on command line [Preferred way to train models] <a name=\"cmd\"></a>"
   ]
  },
  {
   "cell_type": "markdown",
   "metadata": {
    "id": "aj8HsmxjISED"
   },
   "source": [
    "The previous sections of this notebook are intended to demonstrate the inner workings of our codebase. For regular training, we suggest that you train and evaluate on command line.\n",
    "\n",
    "1. Clone our repo at https://github.com/Open-Catalyst-Project/ocp and set up the environment according to the readme.\n",
    "2. Download relevant data ([see above for info](https://colab.research.google.com/drive/1oGZcrakB4Pbj8Xq74lSvcRDUHw9L-Dh5#scrollTo=jXoiLncsU3pe)).\n"
   ]
  },
  {
   "cell_type": "markdown",
   "metadata": {
    "id": "lAdwlMNOKwYj"
   },
   "source": [
    "3. In the config file, modify the path of the data [train](https://github.com/Open-Catalyst-Project/ocp/blob/master/configs/is2re/10k/base.yml#L4) [val](https://github.com/Open-Catalyst-Project/ocp/blob/master/configs/is2re/10k/base.yml#L8), [normalization parameters](https://github.com/Open-Catalyst-Project/ocp/blob/master/configs/is2re/10k/base.yml#L5-L7)  as well as any other [model](https://github.com/Open-Catalyst-Project/ocp/blob/master/configs/is2re/10k/dimenet_plus_plus/dpp.yml#L4-L16) or [training](https://github.com/Open-Catalyst-Project/ocp/blob/master/configs/is2re/10k/dimenet_plus_plus/dpp.yml#L23-L35) args. \n",
    "\n",
    "For a simple example, we'll train DimeNet++ on IS2RE demo data: \\\n",
    "a. Modify the train data path in `/contents/ocp/configs/is2re/10k/base.yml` in \n",
    "Line 4 to `/contents/ocp/data/is2re/train_10k/data.lmdb` and val data path in Line 8 to `/contents/ocp/data/is2re/val_2k/data.lmdb`. \\\n",
    "b. Calculate the mean and std for train data and modify Lines 6-7 respectively \\\n",
    "c. We can change the model parameters in `/contents/ocp/configs/is2re/10k/dimenet_plus_plus/dpp.yml` and we suggest you to change the lr_milestones and warmup_steps as the data here is smaller (these need to be tuned for every dataset).\n"
   ]
  },
  {
   "cell_type": "markdown",
   "metadata": {
    "id": "HjWsAaojKzpH"
   },
   "source": [
    "4. Train: `python main.py --mode train --config-yml configs/is2re/10k/dimenet_plus_plus/dpp.yml --identifier dpp_is2re_sample`\n"
   ]
  },
  {
   "cell_type": "code",
   "execution_count": null,
   "metadata": {
    "id": "mCgs4eGSO-HM"
   },
   "outputs": [],
   "source": [
    "# Optional block to try command line training \n",
    "# Note that config args can be added in the command line. For example, --optim.batch_size=1"
   ]
  },
  {
   "cell_type": "markdown",
   "metadata": {
    "id": "q1xRtYWTO8Xb"
   },
   "source": [
    "5. Add a data path as a test set to `configs/is2re/10k/base.yml`\n",
    "6. Run predictions with the trained model: \n",
    "`python main.py --mode predict --config-yml configs/is2re/10k/dimenet_plus_plus/dpp.yml --checkpoint checkpoints/[datetime]-dpp_is2re_sample/checkpoint.pt`\n",
    "7. View energy predictions at `results/[datetime]/is2re_predictions.npz`\n",
    "\n",
    "For more information on how to train and evaluate, see [this readme](https://github.com/Open-Catalyst-Project/ocp/blob/master/TRAIN.md). For checkpoints of publicly available trained models, see [MODELS.md](https://github.com/Open-Catalyst-Project/ocp/blob/master/MODELS.md)."
   ]
  },
  {
   "cell_type": "markdown",
   "metadata": {
    "id": "oHIjM6eMwlXY"
   },
   "source": [
    "# Limitations <a name=\"limit\"></a>\n",
    "The OpenCatalyst project is motivated by the problems we face due to climate change, many of which require innovative solutions to reduce energy usage and replace traditional chemical feedstocks with renewable alternatives. For example, one of the most energy intensive chemical processes is the development of new electrochemical catalysts for ammonia fertilizer production that helped to feed the world’s growing population during the 20th century. This is also an illustrative example of possible unintended consequences as advancements in chemistry and materials may be used for numerous purposes. As ammonia fertilization increased in use, its overuse in today’s farming has led to ocean “dead zones” and its production is very carbon intensive. Knowledge and techniques used to create ammonia were also transferred to the creation of explosives during wartime. We hope to steer the use of ML for atomic simulations to societally-beneficial uses by training and testing our approaches on datasets, such as OC20, that were specifically designed to address chemical reactions useful for addressing climate change."
   ]
  },
  {
   "cell_type": "markdown",
   "metadata": {
    "id": "CLLCQpv14Gsx"
   },
   "source": [
    "# Next Steps <a name=\"steps\"></a>\n",
    "\n",
    "While progress has been well underway - https://opencatalystproject.org/leaderboard.html, a considerable gap still exists between state-of-the-art models and our target goals. We offer some some general thoughts as to next steps for the readers to ponder on or explore:\n",
    "\n",
    "* GNN depth has consistenly improved model performance. What limitations to depth are there? How far can we push deeper models for OC20? \n",
    "* Our best performing models have little to no physical biases encoded. Can we incorporate such biases to improve our models? Experiments with physically inspired embeddings have had no advantage vs. random initializations, are there better ways to incorporate this information into the models?\n",
    "* Uncertainty estimation will play an important role in later stages of the project when it comes to large scale screening. How can we get reliable uncertainty estimates from large scale GNNs?\n",
    "* Are we limited to message-passing GNNs? Can we leverage alternative architectures for similiar or better performance?\n",
    "* Trajectories are nothing more than sequential data points. How can we use sequential modeling techniques to model the full trajectory?\n",
    "\n",
    "OC20 is a large and diverse dataset with many splits. For those with limited resources but unsure where to start, we provide some general recommendations:\n",
    "\n",
    "* The IS2RE-direct task is a great place to start. With the largest training set containing ~460k data points, this task is easily accesible for those with even just a single GPU.\n",
    "* Those interested in the more general S2EF task don't need to train on the All set to get meaningful performance.\n",
    "    * Results on the 2M dataset are often sufficient to highlight model improvements.\n",
    "    * For a fixed compute budget (e.g. fixed number of steps), training on the All set often leads to better performance.\n",
    "* The S2EF 200k dataset is fairly noisy, trying to find meaningful trends using this dataset can be difficult.\n",
    "\n"
   ]
  },
  {
   "cell_type": "markdown",
   "metadata": {
    "id": "PkKqewK_-ZLD"
   },
   "source": [
    "<a name=\"references\"></a>\n",
    "# References\n",
    "\n",
    "* Open Catalyst codebase: https://github.com/Open-Catalyst-Project/ocp/\n",
    "* Open Catalyst webpage: https://opencatalystproject.org/\n",
    "* [Electrocatalysis white paper](https://arxiv.org/pdf/2010.09435.pdf): C. Lawrence Zitnick, Lowik Chanussot, Abhishek Das, Siddharth Goyal, Javier Heras-Domingo, Caleb Ho, Weihua Hu, Thibaut Lavril, Aini Palizhati, Morgane Riviere, Muhammed Shuaibi, Anuroop Sriram, Kevin Tran, Brandon Wood, Junwoong Yoon, Devi Parikh, Zachary Ulissi: “An Introduction to Electrocatalyst Design using Machine Learning for Renewable Energy Storage”, 2020; arXiv:2010.09435.\n",
    "* [OC20 dataset paper](https://arxiv.org/pdf/2010.09990.pdf): L. Chanussot, A. Das, S. Goyal, T. Lavril, M. Shuaibi, M. Riviere, K. Tran, J. Heras-Domingo, C. Ho, W. Hu, A. Palizhati, A. Sriram, B. Wood, J. Yoon, D. Parikh, C. L. Zitnick, and Z. Ulissi. The Open Catalyst 2020 (oc20) dataset and community challenges. ACS Catalysis, 2021.\n",
    "* [Gemnet model:](https://arxiv.org/abs/2106.08903) Johannes Klicpera, Florian Becker, and Stephan Günnemann. Gemnet: Universal directional graph neural networks for molecules, 2021.\n",
    "\n",
    "\n"
   ]
  }
 ],
 "metadata": {
  "accelerator": "GPU",
  "colab": {
   "collapsed_sections": [
    "PoF-BxSM5Jkc",
    "bSt6h_Q-oqjK",
    "pto2SpJPwlz1",
    "gaauxWdNw_-4",
    "TcUvAI81xoSt",
    "TUH5BaaXo-ca"
   ],
   "include_colab_link": true,
   "name": "CCAI - OCP Tutorial",
   "provenance": [],
   "toc_visible": true
  },
  "kernelspec": {
   "display_name": "python9_kernel",
   "language": "python",
   "name": "python9_kernel"
  },
  "language_info": {
   "codemirror_mode": {
    "name": "ipython",
    "version": 3
   },
   "file_extension": ".py",
   "mimetype": "text/x-python",
   "name": "python",
   "nbconvert_exporter": "python",
   "pygments_lexer": "ipython3",
   "version": "3.9.18"
  }
 },
 "nbformat": 4,
 "nbformat_minor": 4
}
