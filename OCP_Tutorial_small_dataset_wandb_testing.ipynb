{
 "cells": [
  {
   "cell_type": "markdown",
   "metadata": {
    "colab_type": "text",
    "id": "view-in-github"
   },
   "source": [
    "<a href=\"https://colab.research.google.com/github/Open-Catalyst-Project/ocp/blob/tutorials_01_11/tutorials/OCP_Tutorial.ipynb\" target=\"_parent\"><img src=\"https://colab.research.google.com/assets/colab-badge.svg\" alt=\"Open In Colab\"/></a>"
   ]
  },
  {
   "cell_type": "code",
   "execution_count": 1,
   "metadata": {},
   "outputs": [],
   "source": [
    "import os\n",
    "os.chdir(\"/l/users/elizaveta.starykh/OCP_project/ocp-git/\")"
   ]
  },
  {
   "cell_type": "code",
   "execution_count": 2,
   "metadata": {},
   "outputs": [],
   "source": [
    "%load_ext autoreload\n",
    "%autoreload 2"
   ]
  },
  {
   "cell_type": "code",
   "execution_count": 3,
   "metadata": {},
   "outputs": [
    {
     "name": "stdout",
     "output_type": "stream",
     "text": [
      "3.9.18 | packaged by conda-forge | (main, Aug 30 2023, 03:49:32) \n",
      "[GCC 12.3.0]\n",
      "2.0.1+cu118\n"
     ]
    }
   ],
   "source": [
    "import sys\n",
    "print(sys.version)\n",
    "import torch\n",
    "print(torch.__version__)"
   ]
  },
  {
   "cell_type": "code",
   "execution_count": 5,
   "metadata": {
    "id": "HodnfJpE8D0u"
   },
   "outputs": [],
   "source": [
    "import matplotlib\n",
    "matplotlib.use('Agg')\n",
    "\n",
    "import os\n",
    "import numpy as np\n",
    "\n",
    "import matplotlib.pyplot as plt\n",
    "%matplotlib inline\n",
    "\n",
    "params = {\n",
    "   'axes.labelsize': 14,\n",
    "   'font.size': 14,\n",
    "   'font.family': ' DejaVu Sans',\n",
    "   'legend.fontsize': 20,\n",
    "   'xtick.labelsize': 20,\n",
    "   'ytick.labelsize': 20,\n",
    "   'axes.labelsize': 25,\n",
    "   'axes.titlesize': 25,\n",
    "   'text.usetex': False,\n",
    "   'figure.figsize': [12, 12]\n",
    "}\n",
    "matplotlib.rcParams.update(params)\n",
    "\n",
    "\n",
    "import ase.io\n",
    "from ase.io.trajectory import Trajectory\n",
    "from ase.io import extxyz\n",
    "from ase.calculators.emt import EMT\n",
    "from ase.build import fcc100, add_adsorbate, molecule\n",
    "from ase.constraints import FixAtoms\n",
    "from ase.optimize import LBFGS\n",
    "from ase.visualize.plot import plot_atoms\n",
    "from ase import Atoms\n",
    "from IPython.display import Image\n",
    "\n",
    "\n",
    "from ocpmodels.trainers import OCPTrainer\n",
    "from ocpmodels.datasets import LmdbDataset\n",
    "from ocpmodels import models\n",
    "from ocpmodels.common import logger\n",
    "from ocpmodels.common.utils import setup_logging, setup_imports\n",
    "setup_logging()\n",
    "setup_imports()\n",
    "\n",
    "import numpy as np\n",
    "import copy\n",
    "import os\n",
    "\n",
    "import torch\n",
    "from ocpmodels.datasets import LmdbDataset"
   ]
  },
  {
   "cell_type": "markdown",
   "metadata": {
    "id": "uzDp10XsoHdo"
   },
   "source": [
    "### Interacting with the OC20 datasets\n",
    "\n",
    "The OC20 datasets are stored in LMDBs. Here we show how to interact with the datasets directly in order to better understand the data. We use [LmdbDataset](https://github.com/Open-Catalyst-Project/ocp/blob/main/ocpmodels/datasets/lmdb_dataset.py) to read in a directory of LMDB files or a single LMDB file."
   ]
  },
  {
   "cell_type": "code",
   "execution_count": 6,
   "metadata": {
    "colab": {
     "base_uri": "https://localhost:8080/"
    },
    "id": "7F7BjxNQoGLn",
    "outputId": "36fcd255-facc-43dd-efda-c238cac9c5d9",
    "scrolled": true
   },
   "outputs": [
    {
     "name": "stdout",
     "output_type": "stream",
     "text": [
      "Size of the dataset created: 100\n",
      "Data(edge_index=[2, 2964], y=6.282500615000004, pos=[86, 3], cell=[1, 3, 3], atomic_numbers=[86], natoms=86, cell_offsets=[2964, 3], force=[86, 3], fixed=[86], tags=[86], sid=[1], fid=[1], total_frames=74, id='0_0')\n"
     ]
    }
   ],
   "source": [
    "# LmdbDataset is our custom Dataset method to read the lmdbs as Data objects. Note that we need to give the path to the folder containing lmdbs for S2EF\n",
    "dataset = LmdbDataset({\"src\": \"./tutorial_data/s2ef/train_100/\"})\n",
    "\n",
    "print(\"Size of the dataset created:\", len(dataset))\n",
    "print(dataset[0])"
   ]
  },
  {
   "cell_type": "code",
   "execution_count": 5,
   "metadata": {
    "colab": {
     "base_uri": "https://localhost:8080/"
    },
    "id": "pD5B_TymoJ8S",
    "outputId": "72b21c2a-9472-4b08-afe9-c1bd28a5b399"
   },
   "outputs": [
    {
     "data": {
      "text/plain": [
       "Data(edge_index=[2, 2964], y=6.282500615000004, pos=[86, 3], cell=[1, 3, 3], atomic_numbers=[86], natoms=86, cell_offsets=[2964, 3], force=[86, 3], fixed=[86], tags=[86], sid=[1], fid=[1], total_frames=74, id='0_0')"
      ]
     },
     "execution_count": 5,
     "metadata": {},
     "output_type": "execute_result"
    }
   ],
   "source": [
    "data = dataset[0]\n",
    "data"
   ]
  },
  {
   "cell_type": "code",
   "execution_count": 6,
   "metadata": {
    "colab": {
     "base_uri": "https://localhost:8080/"
    },
    "id": "rL4u0glIoL8h",
    "outputId": "a29c8dfc-617f-48fa-9195-e851b23033e1"
   },
   "outputs": [
    {
     "data": {
      "text/plain": [
       "tensor([ 6.2825e+00,  4.1290e+00,  3.1451e+00,  3.0260e+00,  1.7921e+00,\n",
       "         1.6451e+00,  1.2257e+00,  1.2161e+00,  1.0712e+00,  7.4727e-01,\n",
       "         5.9575e-01,  5.7016e-01,  4.2819e-01,  3.1616e-01,  2.5283e-01,\n",
       "         2.2425e-01,  2.2346e-01,  2.0530e-01,  1.6090e-01,  1.1807e-01,\n",
       "         1.1691e-01,  9.1254e-02,  7.4997e-02,  6.3274e-02,  5.2782e-02,\n",
       "         4.8892e-02,  3.9609e-02,  3.1746e-02,  2.7179e-02,  2.7007e-02,\n",
       "         2.3709e-02,  1.8005e-02,  1.7676e-02,  1.4129e-02,  1.3162e-02,\n",
       "         1.1374e-02,  7.4124e-03,  7.7525e-03,  6.1224e-03,  5.2787e-03,\n",
       "         2.8587e-03,  1.1835e-04, -1.1200e-03, -1.3011e-03, -2.6812e-03,\n",
       "        -5.9202e-03, -6.1644e-03, -6.9261e-03, -9.1364e-03, -9.2114e-03,\n",
       "        -1.0665e-02, -1.3760e-02, -1.3588e-02, -1.4895e-02, -1.6190e-02,\n",
       "        -1.8660e-02, -1.4980e-02, -1.8880e-02, -2.0218e-02, -2.0559e-02,\n",
       "        -2.1013e-02, -2.2129e-02, -2.2748e-02, -2.3322e-02, -2.3382e-02,\n",
       "        -2.3865e-02, -2.3973e-02, -2.4196e-02, -2.4755e-02, -2.4951e-02,\n",
       "        -2.5078e-02, -2.5148e-02, -2.5257e-02, -2.5550e-02,  5.9721e+00,\n",
       "         9.5081e+00,  2.6373e+00,  4.0946e+00,  1.4385e+00,  1.2700e+00,\n",
       "         1.0081e+00,  5.3797e-01,  5.1462e-01,  2.8812e-01,  1.2429e-01,\n",
       "        -1.1352e-02, -2.2293e-01, -3.9102e-01, -4.3574e-01, -5.3142e-01,\n",
       "        -5.4777e-01, -6.3948e-01, -7.3816e-01, -8.2163e-01, -8.2526e-01,\n",
       "        -8.8313e-01, -8.8615e-01, -9.3446e-01, -9.5100e-01, -9.5168e-01])"
      ]
     },
     "execution_count": 6,
     "metadata": {},
     "output_type": "execute_result"
    }
   ],
   "source": [
    "energies = torch.tensor([data.y for data in dataset])\n",
    "energies"
   ]
  },
  {
   "cell_type": "code",
   "execution_count": 7,
   "metadata": {
    "colab": {
     "base_uri": "https://localhost:8080/",
     "height": 737
    },
    "id": "mkOm2roAoNY2",
    "outputId": "aed9b4de-99de-49ab-a21c-3a372166747a"
   },
   "outputs": [
    {
     "data": {
      "image/png": "[encoded data removed]",
      "text/plain": [
       "<Figure size 1200x1200 with 1 Axes>"
      ]
     },
     "metadata": {},
     "output_type": "display_data"
    }
   ],
   "source": [
    "plt.hist(energies, bins = 50)\n",
    "plt.yscale(\"log\")\n",
    "plt.xlabel(\"Energies\")\n",
    "plt.show()"
   ]
  },
  {
   "cell_type": "markdown",
   "metadata": {
    "id": "RtECvWIPCu0b"
   },
   "source": [
    "### Additional Resources\n",
    "\n",
    "More helpful resources, tutorials, and documentation can be found at ASE's webpage: https://wiki.fysik.dtu.dk/ase/index.html. We point to specific pages that may be of interest:\n",
    "\n",
    "* Interacting with Atoms Object: https://wiki.fysik.dtu.dk/ase/ase/atoms.html\n",
    "* Visualization: https://wiki.fysik.dtu.dk/ase/ase/visualize/visualize.html\n",
    "* Structure optimization: https://wiki.fysik.dtu.dk/ase/ase/optimize.html\n",
    "* More ASE Tutorials: https://wiki.fysik.dtu.dk/ase/tutorials/tutorials.html"
   ]
  },
  {
   "cell_type": "markdown",
   "metadata": {
    "id": "qa9Iuu2GU52Z"
   },
   "source": [
    "<a name=\"tasks\"></a>\n",
    "# Tasks\n",
    "\n"
   ]
  },
  {
   "cell_type": "markdown",
   "metadata": {
    "id": "yWXsiZ5freTG"
   },
   "source": [
    "## Structure to Energy and Forces (S2EF) <a name=\"s2ef\"></a>\n",
    "\n",
    "The S2EF task takes an atomic system as input and predicts the energy of the entire system and forces on each atom. This is our most general task, ultimately serving as a surrogate to DFT. A model that can perform well on this task can accelerate other applications like molecular dynamics and transitions tate calculations.\n",
    "\n",
    "### Steps for training an S2EF model\n",
    "1) Define or load a configuration (config), which includes the following\n",
    "* task\n",
    "* model\n",
    "* optimizer\n",
    "* dataset\n",
    "* trainer\n",
    "\n",
    "2) Create a ForcesTrainer object\n",
    "\n",
    "3) Train the model\n",
    "\n",
    "4) Validate the model\n",
    "\n",
    "**For storage and compute reasons we use a very small subset of the OC20 S2EF dataset for this tutorial. Results will be considerably worse than presented in our paper.**"
   ]
  },
  {
   "cell_type": "markdown",
   "metadata": {
    "id": "OmkUDMQgP5he"
   },
   "source": [
    "### Dataset"
   ]
  },
  {
   "cell_type": "code",
   "execution_count": 6,
   "metadata": {},
   "outputs": [
    {
     "name": "stdout",
     "output_type": "stream",
     "text": [
      "/l/users/elizaveta.starykh/OCP_project/ocp-git\n"
     ]
    }
   ],
   "source": [
    "!pwd"
   ]
  },
  {
   "cell_type": "code",
   "execution_count": 7,
   "metadata": {
    "id": "1SHl_1eQP4mW"
   },
   "outputs": [],
   "source": [
    "### Train on tutorial dataset - no efermi\n",
    "\n",
    "# train_src = \"tutorial_data/s2ef/train_100\"\n",
    "# val_src = \"tutorial_data/s2ef/val_20\"\n",
    "\n",
    "\n",
    "### Train on 170k, validation is on the subset of 20k, efermi included\n",
    "\n",
    "train_src = \"./data/s2ef/200k/train/output_lmdb/normalized_efermi\"\n",
    "val_src = \"./data/s2ef/200k/train/output_lmdb/normalized_efermi/train_20000_systems\"\n"
   ]
  },
  {
   "cell_type": "markdown",
   "metadata": {
    "id": "ZUpFFV2OWyYJ"
   },
   "source": [
    "### Normalize data\n",
    "\n",
    "If you wish to normalize the targets we must compute the mean and standard deviation for our energy values. Because forces are physically related by the negative gradient of energy, we use the same multiplicative energy factor for forces."
   ]
  },
  {
   "cell_type": "code",
   "execution_count": 8,
   "metadata": {
    "id": "HAJ3x4SnXE1o"
   },
   "outputs": [],
   "source": [
    "train_dataset = LmdbDataset({\"src\": train_src})\n"
   ]
  },
  {
   "cell_type": "code",
   "execution_count": 9,
   "metadata": {},
   "outputs": [],
   "source": [
    "\n",
    "energies = []\n",
    "for data in train_dataset:\n",
    "    energies.append(data.y)\n",
    "\n",
    "\n",
    "#### for tutorial_data/s2ef/train_100 dataset:\n",
    "#### mean  = 0.45158625849998374 \n",
    "#### stdev = 1.5156444102461508\n",
    "\n",
    "\n",
    "mean = np.mean(energies)\n",
    "stdev = np.std(energies)"
   ]
  },
  {
   "cell_type": "code",
   "execution_count": 10,
   "metadata": {},
   "outputs": [
    {
     "name": "stdout",
     "output_type": "stream",
     "text": [
      "-0.7877437496095779 2.8471219290033876\n"
     ]
    }
   ],
   "source": [
    "print(mean, stdev)"
   ]
  },
  {
   "cell_type": "markdown",
   "metadata": {
    "id": "ruspSf6CQIk4"
   },
   "source": [
    "### Define the Config"
   ]
  },
  {
   "cell_type": "markdown",
   "metadata": {
    "id": "6R6IkYLCQPpH"
   },
   "source": [
    "For this example, we will explicitly define the config; however, a set of default configs can be found [here](https://github.com/Open-Catalyst-Project/ocp/tree/master/configs). Default config yaml files can easily be loaded with the following [utility](https://github.com/Open-Catalyst-Project/ocp/blob/aa8e44d50229fce887b3a94a5661c4f85cd73eed/ocpmodels/common/utils.py#L361-L400). Loading a yaml config is preferrable when launching jobs from the command line. We have included our best models' config files here for reference. \n",
    "\n",
    "**Note** - we only train for a single epoch with a reduced batch size (GPU memory constraints) for demonstration purposes, modify accordingly for full convergence."
   ]
  },
  {
   "cell_type": "code",
   "execution_count": 8,
   "metadata": {},
   "outputs": [
    {
     "name": "stdout",
     "output_type": "stream",
     "text": [
      "{'method': 'random',\n",
      " 'metric': {'goal': 'minimize', 'name': 'loss'},\n",
      " 'name': 'sweep-PaiNN-train-170k',\n",
      " 'parameters': {'batch_size': {'values': [8, 16, 32, 64]},\n",
      "                'efermi_repr_length': {'values': [32, 64, 128, 256]},\n",
      "                'epochs': {'value': 1},\n",
      "                'lr': {'distribution': 'log_uniform_values',\n",
      "                       'max': 0.001,\n",
      "                       'min': 5e-05}}}\n"
     ]
    }
   ],
   "source": [
    "### Define sweep configuration\n",
    "from pprint import pprint\n",
    "import wandb\n",
    "\n",
    "sweep_configuration = {\n",
    "    \"method\": \"random\",\n",
    "    \"name\": \"sweep-PaiNN-train-170k\",\n",
    "    \"metric\": {\"goal\": \"minimize\", \"name\": \"loss\"},\n",
    "    \"parameters\": {\n",
    "        \"batch_size\": {\"values\": [8, 16, 32, 64]},  ### given\n",
    "        # \"batch_size\": {\"values\": [1, 2, 8]},\n",
    "        # \"batch_size\": {\"value\": 1},\n",
    "        # \"epochs\": {\"values\": [5, 10, 15]},   ### given\n",
    "        \"epochs\": {\"value\": 1},\n",
    "        # \"lr\" : {\"value\": 1}\n",
    "        \"lr\": {\n",
    "            \"distribution\": \"log_uniform_values\",\n",
    "            \"max\": 1e-3, \n",
    "            \"min\": 5e-5 },\n",
    "        \"efermi_repr_length\": { \"values\": [32, 64, 128, 256] },\n",
    "    },\n",
    "}\n",
    "\n",
    "\n",
    "pprint(sweep_configuration)"
   ]
  },
  {
   "cell_type": "code",
   "execution_count": 9,
   "metadata": {},
   "outputs": [
    {
     "name": "stderr",
     "output_type": "stream",
     "text": [
      "2024-05-28 22:51:12 (ERROR): Failed to detect the name of this notebook, you can set it manually with the WANDB_NOTEBOOK_NAME environment variable to enable code saving.\n"
     ]
    },
    {
     "name": "stdout",
     "output_type": "stream",
     "text": [
      "Create sweep with ID: 5i5pgmb2\n",
      "Sweep URL: https://wandb.ai/ml-mbzuai/PaiNN-170k-efermi/sweeps/5i5pgmb2\n"
     ]
    }
   ],
   "source": [
    "sweep_id = wandb.sweep(sweep=sweep_configuration, project=\"PaiNN-170k-efermi\")"
   ]
  },
  {
   "cell_type": "code",
   "execution_count": 10,
   "metadata": {},
   "outputs": [],
   "source": [
    "import yaml\n",
    "\n",
    "def sweep_model(hidden_channels_sweep = 512, efermi_repr_length_sweep=64):\n",
    "\n",
    "    with open('configs/oc22/s2ef/painn/painn.yml', 'r') as file:\n",
    "        model = yaml.safe_load(file)\n",
    "\n",
    "    model = model[\"model\"]\n",
    "    model['name'] = 'ocpmodels.models.painn.painn.PaiNN'\n",
    "    model['hidden_channels'] = hidden_channels_sweep\n",
    "    model['efermi_length'] = efermi_repr_length_sweep\n",
    "\n",
    "    return model\n"
   ]
  },
  {
   "cell_type": "code",
   "execution_count": 12,
   "metadata": {},
   "outputs": [
    {
     "name": "stdout",
     "output_type": "stream",
     "text": [
      "{'name': 'ocpmodels.models.painn.painn.PaiNN', 'hidden_channels': 512, 'num_layers': 6, 'num_rbf': 128, 'cutoff': 12.0, 'max_neighbors': 50, 'scale_file': 'configs/oc22/s2ef/painn/nb6_h512_n50_c12_oc22.pt', 'regress_forces': True, 'direct_forces': True, 'use_pbc': True, 'otf_graph': True, 'efermi_length': 256}\n"
     ]
    }
   ],
   "source": [
    "test_sweep_model = sweep_model(efermi_repr_length_sweep=256)\n",
    "print(test_sweep_model)"
   ]
  },
  {
   "cell_type": "code",
   "execution_count": 29,
   "metadata": {},
   "outputs": [
    {
     "data": {
      "text/plain": [
       "{'name': 'ocpmodels.models.painn.painn.PaiNN',\n",
       " 'hidden_channels': 512,\n",
       " 'num_layers': 6,\n",
       " 'num_rbf': 128,\n",
       " 'cutoff': 12.0,\n",
       " 'max_neighbors': 50,\n",
       " 'scale_file': 'configs/oc22/s2ef/painn/nb6_h512_n50_c12_oc22.pt',\n",
       " 'regress_forces': True,\n",
       " 'direct_forces': True,\n",
       " 'use_pbc': True,\n",
       " 'otf_graph': True}"
      ]
     },
     "execution_count": 29,
     "metadata": {},
     "output_type": "execute_result"
    }
   ],
   "source": [
    "import yaml\n",
    "\n",
    "# Model\n",
    "# /configs/oc22/s2ef/painn\n",
    "\n",
    "with open('configs/oc22/s2ef/painn/painn.yml', 'r') as file:\n",
    "    model = yaml.safe_load(file)\n",
    "\n",
    "model = model[\"model\"]\n",
    "model['name'] = 'ocpmodels.models.painn.painn.PaiNN'\n",
    "model['hidden_channels'] = 512\n",
    "# model['checkpoint_every'] = 1000\n",
    "model['efermi_length'] = 32\n",
    "\n",
    "model"
   ]
  },
  {
   "cell_type": "code",
   "execution_count": 11,
   "metadata": {},
   "outputs": [],
   "source": [
    "# Task\n",
    "task = {\n",
    "    'dataset': 'lmdb', # dataset used for the S2EF task\n",
    "    'description': 'Regressing to energies and forces for DFT trajectories from OCP',\n",
    "    'type': 'regression',\n",
    "    'metric': 'mae',\n",
    "    'labels': ['potential energy'],\n",
    "    'grad_input': 'atomic forces',\n",
    "    'train_on_free_atoms': True,\n",
    "    'eval_on_free_atoms': True\n",
    "}\n",
    "\n",
    "# Dataset\n",
    "# stdev, mean = (2.8471219290033876, -0.7877437496095779) -- for 170k+efermi dataset\n",
    "dataset = [\n",
    "    {'src': train_src,\n",
    "    'normalize_labels': True,\n",
    "    #  \"target_mean\": mean,\n",
    "    \"target_mean\": -0.7877437496095779,\n",
    "    #  \"target_std\": stdev,\n",
    "    \"target_std\": 2.8471219290033876,\n",
    "    \"grad_target_mean\": 0.0,\n",
    "    #  \"grad_target_std\": stdev\n",
    "    \"grad_target_std\": 2.8471219290033876\n",
    "    }, # train set\n",
    "    {'src': val_src}, # val set (optional)\n",
    "    ]\n",
    "# (-0.7877437496095779 2.8471219290033876)  -- for 170k+efermi dataset\n",
    "# (2.8392264933285123, -0.7946160068500009)  -- for tutorial_dataset 100 systems"
   ]
  },
  {
   "cell_type": "code",
   "execution_count": 12,
   "metadata": {},
   "outputs": [],
   "source": [
    "def sweep_optimizer(batch_size_sweep=1, epoch_sweep=1, learning_rate_sweep=5.e-4):\n",
    "\n",
    "  # Optimizer\n",
    "  optimizer = {\n",
    "      'batch_size': batch_size_sweep,         # originally 32\n",
    "      'eval_batch_size': batch_size_sweep,    # originally 32\n",
    "      'num_workers': 2,\n",
    "      'lr_initial': learning_rate_sweep,\n",
    "      'optimizer': 'AdamW',\n",
    "      'optimizer_params': {\"amsgrad\": True},\n",
    "      'scheduler': \"ReduceLROnPlateau\",\n",
    "      'mode': \"min\",\n",
    "      'factor': 0.8,\n",
    "      'patience': 3,\n",
    "      'max_epochs': epoch_sweep,         # used for demonstration purposes\n",
    "      'force_coefficient': 100,\n",
    "      'ema_decay': 0.999,\n",
    "      'clip_grad_norm': 10,\n",
    "      'loss_energy': 'mae',\n",
    "      'loss_force': 'l2mae',\n",
    "  }\n",
    "\n",
    "  return optimizer"
   ]
  },
  {
   "cell_type": "code",
   "execution_count": 47,
   "metadata": {},
   "outputs": [
    {
     "name": "stdout",
     "output_type": "stream",
     "text": [
      "{'batch_size': 1, 'eval_batch_size': 1, 'num_workers': 2, 'lr_initial': 0.0005, 'optimizer': 'AdamW', 'optimizer_params': {'amsgrad': True}, 'scheduler': 'ReduceLROnPlateau', 'mode': 'min', 'factor': 0.8, 'patience': 3, 'max_epochs': 2, 'force_coefficient': 100, 'ema_decay': 0.999, 'clip_grad_norm': 10, 'loss_energy': 'mae', 'loss_force': 'l2mae'}\n"
     ]
    }
   ],
   "source": [
    "test_sweep_optimizer = sweep_optimizer(epoch_sweep=2)\n",
    "print(test_sweep_optimizer)"
   ]
  },
  {
   "cell_type": "code",
   "execution_count": null,
   "metadata": {},
   "outputs": [],
   "source": [
    "# sweep_id_test = wandb.sweep(sweep=sweep_configuration, project=\"Trial-project\")\n",
    "\n",
    "# # def test_sweep():\n",
    "# #     with wandb.init(project=\"Trial-project\", config = sweep_configuration):\n",
    "# #         config_tst = wandb.config\n",
    "# #         for epoch in range(config_tst.epochs): \n",
    "# #             print(\"\\n\\tEPOCHS\\n\", epoch, '\\n')\n",
    "\n",
    "# run_test = wandb.init(config=sweep_configuration, id=sweep_id_test)\n",
    "\n",
    "# # wandb.agent(sweep_id, test_sweep, count=5)\n"
   ]
  },
  {
   "cell_type": "code",
   "execution_count": null,
   "metadata": {},
   "outputs": [],
   "source": [
    "# wandb.config.get(\"epochs\")"
   ]
  },
  {
   "cell_type": "code",
   "execution_count": 13,
   "metadata": {},
   "outputs": [],
   "source": [
    "def train_wandb(config=None):\n",
    "    with wandb.init(project=\"PaiNN-170k-efermi\", config = sweep_configuration):\n",
    "        config = wandb.config\n",
    "        \n",
    "        epoch = config.epochs\n",
    "        print(\"!*!*! epoch: \", epoch)\n",
    "        batch_size = config['batch_size']\n",
    "        learning_rate = config[\"lr\"]\n",
    "        efermi_length = config['efermi_repr_length']\n",
    "        optimizer = sweep_optimizer(batch_size_sweep=batch_size, \n",
    "                                    epoch_sweep=epoch, \n",
    "                                    learning_rate_sweep=learning_rate)\n",
    "        model = sweep_model(efermi_repr_length_sweep=efermi_length)\n",
    "        \n",
    "        # print(\"!!! epochs: \", epoch)\n",
    "\n",
    "        trainer = OCPTrainer(\n",
    "            task=task,\n",
    "            model=copy.deepcopy(model), # copied for later use, not necessary in practice.\n",
    "            dataset=dataset,\n",
    "            optimizer=optimizer,\n",
    "            # optimizer=sweep_optimizer(batch_size_sweep=batch_size, \n",
    "            #                     epoch_sweep=i, \n",
    "            #                     learning_rate_sweep=learning_rate),\n",
    "            outputs={},\n",
    "            loss_fns={},\n",
    "            eval_metrics={},\n",
    "            name=\"s2ef\",\n",
    "            identifier=\"S2EF-170k-efermi\",\n",
    "            run_dir=\".\", # directory to save results if is_debug=False. Prediction files are saved here so be careful not to override!\n",
    "            is_debug=False, # if True, do not save checkpoint, logs, or results\n",
    "            print_every=5,\n",
    "            seed=0, # random seed to use\n",
    "            logger=\"wandb\", # logger of choice (tensorboard and wandb supported)\n",
    "            local_rank=0,\n",
    "            amp=True, # use PyTorch Automatic Mixed Precision (faster training and less memory usage),\n",
    "        )\n",
    "        # print(\"!!!\\t In final config file: \", optimizer['max_epochs'])\n",
    "        trainer.train()\n",
    "\n",
    "        # avg_loss = trainer.final_loss\n",
    "        # avg_loss = trainer.metrics['loss']\n",
    "        # wandb.log({\"loss\": avg_loss, \"epoch\": epoch, \"learning rate\": learning_rate, \"batch size\": batch_size}) "
   ]
  },
  {
   "cell_type": "code",
   "execution_count": 14,
   "metadata": {},
   "outputs": [
    {
     "name": "stdout",
     "output_type": "stream",
     "text": [
      "2024-05-28 22:51:55 (INFO): Starting sweep agent: entity=None, project=None, count=30\n"
     ]
    },
    {
     "name": "stderr",
     "output_type": "stream",
     "text": [
      "\u001b[34m\u001b[1mwandb\u001b[0m: Agent Starting Run: ibva3wba with config:\n",
      "\u001b[34m\u001b[1mwandb\u001b[0m: \tbatch_size: 32\n",
      "\u001b[34m\u001b[1mwandb\u001b[0m: \tefermi_repr_length: 256\n",
      "\u001b[34m\u001b[1mwandb\u001b[0m: \tepochs: 1\n",
      "\u001b[34m\u001b[1mwandb\u001b[0m: \tlr: 0.0009559819585070726\n",
      "2024-05-28 22:51:56 (ERROR): Failed to detect the name of this notebook, you can set it manually with the WANDB_NOTEBOOK_NAME environment variable to enable code saving.\n",
      "\u001b[34m\u001b[1mwandb\u001b[0m: Currently logged in as: \u001b[33mml-mbzuai\u001b[0m (use `wandb login --relogin` to force relogin)\n",
      "\u001b[34m\u001b[1mwandb\u001b[0m: \u001b[33mWARNING\u001b[0m Ignored wandb.init() arg project when running a sweep\n",
      "\u001b[34m\u001b[1mwandb\u001b[0m: wandb version 0.17.0 is available!  To upgrade, please run:\n",
      "\u001b[34m\u001b[1mwandb\u001b[0m:  $ pip install wandb --upgrade\n"
     ]
    },
    {
     "data": {
      "text/html": [
       "\n",
       "                Tracking run with wandb version 0.11.2<br/>\n",
       "                Syncing run <strong style=\"color:#cdcd00\">ancient-sweep-1</strong> to <a href=\"https://wandb.ai\" target=\"_blank\">Weights & Biases</a> <a href=\"https://docs.wandb.com/integrations/jupyter.html\" target=\"_blank\">(Documentation)</a>.<br/>\n",
       "                Project page: <a href=\"https://wandb.ai/ml-mbzuai/PaiNN-170k-efermi\" target=\"_blank\">https://wandb.ai/ml-mbzuai/PaiNN-170k-efermi</a><br/>\n",
       "                Sweep page: <a href=\"https://wandb.ai/ml-mbzuai/PaiNN-170k-efermi/sweeps/5i5pgmb2\" target=\"_blank\">https://wandb.ai/ml-mbzuai/PaiNN-170k-efermi/sweeps/5i5pgmb2</a><br/>\n",
       "Run page: <a href=\"https://wandb.ai/ml-mbzuai/PaiNN-170k-efermi/runs/ibva3wba\" target=\"_blank\">https://wandb.ai/ml-mbzuai/PaiNN-170k-efermi/runs/ibva3wba</a><br/>\n",
       "                Run data is saved locally in <code>/l/users/elizaveta.starykh/OCP_project/ocp-git/wandb/run-20240528_225156-ibva3wba</code><br/><br/>\n",
       "            "
      ],
      "text/plain": [
       "<IPython.core.display.HTML object>"
      ]
     },
     "metadata": {},
     "output_type": "display_data"
    },
    {
     "name": "stdout",
     "output_type": "stream",
     "text": [
      "!*!*! epoch:  1\n"
     ]
    },
    {
     "name": "stderr",
     "output_type": "stream",
     "text": [
      "fatal: not a git repository (or any parent up to mount point /)\n",
      "Stopping at filesystem boundary (GIT_DISCOVERY_ACROSS_FILESYSTEM not set).\n",
      "2024-05-28 22:52:22 (WARNING): Detected old config, converting to new format. Consider updating to avoid potential incompatibilities.\n"
     ]
    },
    {
     "name": "stdout",
     "output_type": "stream",
     "text": [
      "2024-05-28 22:52:22 (INFO): amp: true\n",
      "cmd:\n",
      "  checkpoint_dir: ./checkpoints/2024-05-28-22-52-48-S2EF-170k-efermi\n",
      "  commit: null\n",
      "  identifier: S2EF-170k-efermi\n",
      "  logs_dir: ./logs/wandb/2024-05-28-22-52-48-S2EF-170k-efermi\n",
      "  print_every: 5\n",
      "  results_dir: ./results/2024-05-28-22-52-48-S2EF-170k-efermi\n",
      "  seed: 0\n",
      "  timestamp_id: 2024-05-28-22-52-48-S2EF-170k-efermi\n",
      "dataset:\n",
      "  format: lmdb\n",
      "  grad_target_mean: 0.0\n",
      "  grad_target_std: 2.8471219290033876\n",
      "  key_mapping:\n",
      "    force: forces\n",
      "    y: energy\n",
      "  normalize_labels: true\n",
      "  src: ./data/s2ef/200k/train/output_lmdb/normalized_efermi\n",
      "  target_mean: -0.7877437496095779\n",
      "  target_std: 2.8471219290033876\n",
      "  transforms:\n",
      "    normalizer:\n",
      "      energy:\n",
      "        mean: -0.7877437496095779\n",
      "        stdev: 2.8471219290033876\n",
      "      forces:\n",
      "        mean: 0.0\n",
      "        stdev: 2.8471219290033876\n",
      "eval_metrics:\n",
      "  metrics:\n",
      "    energy:\n",
      "    - mae\n",
      "    forces:\n",
      "    - forcesx_mae\n",
      "    - forcesy_mae\n",
      "    - forcesz_mae\n",
      "    - mae\n",
      "    - cosine_similarity\n",
      "    - magnitude_error\n",
      "    misc:\n",
      "    - energy_forces_within_threshold\n",
      "gpus: 1\n",
      "logger: wandb\n",
      "loss_fns:\n",
      "- energy:\n",
      "    coefficient: 1\n",
      "    fn: mae\n",
      "- forces:\n",
      "    coefficient: 100\n",
      "    fn: l2mae\n",
      "model: ocpmodels.models.painn.painn.PaiNN\n",
      "model_attributes:\n",
      "  cutoff: 12.0\n",
      "  direct_forces: true\n",
      "  efermi_length: 256\n",
      "  hidden_channels: 512\n",
      "  max_neighbors: 50\n",
      "  num_layers: 6\n",
      "  num_rbf: 128\n",
      "  otf_graph: true\n",
      "  regress_forces: true\n",
      "  scale_file: configs/oc22/s2ef/painn/nb6_h512_n50_c12_oc22.pt\n",
      "  use_pbc: true\n",
      "noddp: false\n",
      "optim:\n",
      "  batch_size: 32\n",
      "  clip_grad_norm: 10\n",
      "  ema_decay: 0.999\n",
      "  eval_batch_size: 32\n",
      "  factor: 0.8\n",
      "  force_coefficient: 100\n",
      "  loss_energy: mae\n",
      "  loss_force: l2mae\n",
      "  lr_initial: 0.0009559819585070726\n",
      "  max_epochs: 1\n",
      "  mode: min\n",
      "  num_workers: 2\n",
      "  optimizer: AdamW\n",
      "  optimizer_params:\n",
      "    amsgrad: true\n",
      "  patience: 3\n",
      "  scheduler: ReduceLROnPlateau\n",
      "outputs:\n",
      "  energy:\n",
      "    level: system\n",
      "  forces:\n",
      "    eval_on_free_atoms: true\n",
      "    level: atom\n",
      "    train_on_free_atoms: true\n",
      "slurm: {}\n",
      "task:\n",
      "  dataset: lmdb\n",
      "  description: Regressing to energies and forces for DFT trajectories from OCP\n",
      "  eval_on_free_atoms: true\n",
      "  grad_input: atomic forces\n",
      "  labels:\n",
      "  - potential energy\n",
      "  metric: mae\n",
      "  train_on_free_atoms: true\n",
      "  type: regression\n",
      "trainer: s2ef\n",
      "val_dataset:\n",
      "  src: ./data/s2ef/200k/train/output_lmdb/normalized_efermi/train_20000_systems\n",
      "\n"
     ]
    },
    {
     "name": "stderr",
     "output_type": "stream",
     "text": [
      "\u001b[34m\u001b[1mwandb\u001b[0m: \u001b[33mWARNING\u001b[0m Ignored wandb.init() arg id when running a sweep\n"
     ]
    },
    {
     "data": {
      "text/html": [
       "Finishing last run (ID:ibva3wba) before initializing another..."
      ],
      "text/plain": [
       "<IPython.core.display.HTML object>"
      ]
     },
     "metadata": {},
     "output_type": "display_data"
    },
    {
     "data": {
      "text/html": [
       "<br/>Waiting for W&B process to finish, PID 2163106<br/>Program ended successfully."
      ],
      "text/plain": [
       "<IPython.core.display.HTML object>"
      ]
     },
     "metadata": {},
     "output_type": "display_data"
    },
    {
     "data": {
      "text/html": [
       "Find user logs for this run at: <code>/l/users/elizaveta.starykh/OCP_project/ocp-git/wandb/run-20240528_225156-ibva3wba/logs/debug.log</code>"
      ],
      "text/plain": [
       "<IPython.core.display.HTML object>"
      ]
     },
     "metadata": {},
     "output_type": "display_data"
    },
    {
     "data": {
      "text/html": [
       "Find internal logs for this run at: <code>/l/users/elizaveta.starykh/OCP_project/ocp-git/wandb/run-20240528_225156-ibva3wba/logs/debug-internal.log</code>"
      ],
      "text/plain": [
       "<IPython.core.display.HTML object>"
      ]
     },
     "metadata": {},
     "output_type": "display_data"
    },
    {
     "data": {
      "text/html": [
       "Synced 6 W&B file(s), 0 media file(s), 0 artifact file(s) and 0 other file(s)"
      ],
      "text/plain": [
       "<IPython.core.display.HTML object>"
      ]
     },
     "metadata": {},
     "output_type": "display_data"
    },
    {
     "data": {
      "text/html": [
       "\n",
       "                    <br/>Synced <strong style=\"color:#cdcd00\">ancient-sweep-1</strong>: <a href=\"https://wandb.ai/ml-mbzuai/PaiNN-170k-efermi/runs/ibva3wba\" target=\"_blank\">https://wandb.ai/ml-mbzuai/PaiNN-170k-efermi/runs/ibva3wba</a><br/>\n",
       "                "
      ],
      "text/plain": [
       "<IPython.core.display.HTML object>"
      ]
     },
     "metadata": {},
     "output_type": "display_data"
    },
    {
     "data": {
      "text/html": [
       "...Successfully finished last run (ID:ibva3wba). Initializing new run:<br/><br/>"
      ],
      "text/plain": [
       "<IPython.core.display.HTML object>"
      ]
     },
     "metadata": {},
     "output_type": "display_data"
    },
    {
     "name": "stderr",
     "output_type": "stream",
     "text": [
      "\u001b[34m\u001b[1mwandb\u001b[0m: wandb version 0.17.0 is available!  To upgrade, please run:\n",
      "\u001b[34m\u001b[1mwandb\u001b[0m:  $ pip install wandb --upgrade\n"
     ]
    },
    {
     "data": {
      "text/html": [
       "\n",
       "                Tracking run with wandb version 0.11.2<br/>\n",
       "                Resuming run <strong style=\"color:#cdcd00\">S2EF-170k-efermi</strong> to <a href=\"https://wandb.ai\" target=\"_blank\">Weights & Biases</a> <a href=\"https://docs.wandb.com/integrations/jupyter.html\" target=\"_blank\">(Documentation)</a>.<br/>\n",
       "                Project page: <a href=\"https://wandb.ai/ml-mbzuai/PaiNN-170k-efermi\" target=\"_blank\">https://wandb.ai/ml-mbzuai/PaiNN-170k-efermi</a><br/>\n",
       "                Sweep page: <a href=\"https://wandb.ai/ml-mbzuai/PaiNN-170k-efermi/sweeps/5i5pgmb2\" target=\"_blank\">https://wandb.ai/ml-mbzuai/PaiNN-170k-efermi/sweeps/5i5pgmb2</a><br/>\n",
       "Run page: <a href=\"https://wandb.ai/ml-mbzuai/PaiNN-170k-efermi/runs/ibva3wba\" target=\"_blank\">https://wandb.ai/ml-mbzuai/PaiNN-170k-efermi/runs/ibva3wba</a><br/>\n",
       "                Run data is saved locally in <code>./logs/wandb/2024-05-28-22-52-48-S2EF-170k-efermi/wandb/run-20240528_225222-ibva3wba</code><br/><br/>\n",
       "            "
      ],
      "text/plain": [
       "<IPython.core.display.HTML object>"
      ]
     },
     "metadata": {},
     "output_type": "display_data"
    },
    {
     "name": "stdout",
     "output_type": "stream",
     "text": [
      "2024-05-28 22:52:29 (INFO): Loading dataset: lmdb\n",
      "2024-05-28 22:52:29 (INFO): Batch balancing is disabled for single GPU training.\n",
      "2024-05-28 22:52:30 (INFO): Batch balancing is disabled for single GPU training.\n",
      "2024-05-28 22:52:30 (INFO): Loading model: ocpmodels.models.painn.painn.PaiNN\n"
     ]
    },
    {
     "name": "stderr",
     "output_type": "stream",
     "text": [
      "/l/users/elizaveta.starykh/conda_envs/python9/lib/python3.9/site-packages/torch_geometric/nn/conv/message_passing.py:988: UserWarning: 'PaiNNMessage.jittable' is deprecated and a no-op. Please remove its usage.\n",
      "  warnings.warn(f\"'{self.__class__.__name__}.jittable' is deprecated \"\n"
     ]
    },
    {
     "name": "stdout",
     "output_type": "stream",
     "text": [
      "2024-05-28 22:52:31 (INFO): Loaded PaiNN with 20052745 parameters.\n",
      "2024-05-28 22:52:42 (INFO): energy_forces_within_threshold: 0.00e+00, energy_mae: 3.54e+02, forcesx_mae: 7.50e-02, forcesy_mae: 8.83e-02, forcesz_mae: 1.07e-01, forces_mae: 9.00e-02, forces_cosine_similarity: 1.10e-02, forces_magnitude_error: 1.40e-01, loss: 2.62e+02, lr: 9.56e-04, epoch: 9.09e-04, step: 5.00e+00\n",
      "2024-05-28 22:52:43 (INFO): energy_forces_within_threshold: 0.00e+00, energy_mae: 3.87e+02, forcesx_mae: 1.00e-01, forcesy_mae: 1.30e-01, forcesz_mae: 1.46e-01, forces_mae: 1.25e-01, forces_cosine_similarity: 2.64e-02, forces_magnitude_error: 2.09e-01, loss: 2.90e+02, lr: 9.56e-04, epoch: 1.82e-03, step: 1.00e+01\n",
      "2024-05-28 22:52:45 (INFO): energy_forces_within_threshold: 0.00e+00, energy_mae: 3.65e+03, forcesx_mae: 3.51e-01, forcesy_mae: 4.17e-01, forcesz_mae: 7.32e-01, forces_mae: 5.00e-01, forces_cosine_similarity: -1.38e-02, forces_magnitude_error: 9.18e-01, loss: 1.87e+03, lr: 9.56e-04, epoch: 2.73e-03, step: 1.50e+01\n",
      "2024-05-28 22:52:46 (INFO): energy_forces_within_threshold: 0.00e+00, energy_mae: 6.74e+02, forcesx_mae: 1.26e-01, forcesy_mae: 1.79e-01, forcesz_mae: 3.28e-01, forces_mae: 2.11e-01, forces_cosine_similarity: -4.50e-03, forces_magnitude_error: 3.61e-01, loss: 2.53e+02, lr: 9.56e-04, epoch: 3.64e-03, step: 2.00e+01\n",
      "2024-05-28 22:52:47 (INFO): energy_forces_within_threshold: 0.00e+00, energy_mae: 3.81e+02, forcesx_mae: 8.91e-02, forcesy_mae: 1.29e-01, forcesz_mae: 1.98e-01, forces_mae: 1.39e-01, forces_cosine_similarity: 3.49e-03, forces_magnitude_error: 2.20e-01, loss: 1.44e+02, lr: 9.56e-04, epoch: 4.54e-03, step: 2.50e+01\n",
      "2024-05-28 22:52:48 (INFO): energy_forces_within_threshold: 0.00e+00, energy_mae: 2.02e+02, forcesx_mae: 9.86e-02, forcesy_mae: 1.07e-01, forcesz_mae: 2.68e-01, forces_mae: 1.58e-01, forces_cosine_similarity: -3.45e-03, forces_magnitude_error: 3.08e-01, loss: 8.33e+01, lr: 9.56e-04, epoch: 5.45e-03, step: 3.00e+01\n",
      "2024-05-28 22:52:49 (INFO): energy_forces_within_threshold: 0.00e+00, energy_mae: 1.27e+02, forcesx_mae: 7.54e-02, forcesy_mae: 9.47e-02, forcesz_mae: 1.20e-01, forces_mae: 9.68e-02, forces_cosine_similarity: 7.99e-03, forces_magnitude_error: 1.67e-01, loss: 5.17e+01, lr: 9.56e-04, epoch: 6.36e-03, step: 3.50e+01\n",
      "2024-05-28 22:52:51 (INFO): energy_forces_within_threshold: 0.00e+00, energy_mae: 2.01e+02, forcesx_mae: 7.14e-02, forcesy_mae: 1.05e-01, forcesz_mae: 1.03e-01, forces_mae: 9.32e-02, forces_cosine_similarity: -1.13e-02, forces_magnitude_error: 1.67e-01, loss: 7.73e+01, lr: 9.56e-04, epoch: 7.27e-03, step: 4.00e+01\n",
      "2024-05-28 22:52:52 (INFO): energy_forces_within_threshold: 0.00e+00, energy_mae: 1.15e+02, forcesx_mae: 9.57e-02, forcesy_mae: 1.13e-01, forcesz_mae: 1.25e-01, forces_mae: 1.11e-01, forces_cosine_similarity: 1.36e-03, forces_magnitude_error: 2.05e-01, loss: 4.83e+01, lr: 9.56e-04, epoch: 8.18e-03, step: 4.50e+01\n",
      "2024-05-28 22:52:53 (INFO): energy_forces_within_threshold: 0.00e+00, energy_mae: 1.49e+02, forcesx_mae: 5.51e-02, forcesy_mae: 6.48e-02, forcesz_mae: 7.40e-02, forces_mae: 6.46e-02, forces_cosine_similarity: 3.81e-03, forces_magnitude_error: 1.10e-01, loss: 5.71e+01, lr: 9.56e-04, epoch: 9.09e-03, step: 5.00e+01\n",
      "2024-05-28 22:52:54 (INFO): energy_forces_within_threshold: 0.00e+00, energy_mae: 1.19e+02, forcesx_mae: 7.38e-02, forcesy_mae: 8.28e-02, forcesz_mae: 9.44e-02, forces_mae: 8.37e-02, forces_cosine_similarity: 1.70e-03, forces_magnitude_error: 1.44e-01, loss: 4.79e+01, lr: 9.56e-04, epoch: 1.00e-02, step: 5.50e+01\n",
      "2024-05-28 22:52:55 (INFO): energy_forces_within_threshold: 0.00e+00, energy_mae: 9.68e+01, forcesx_mae: 8.47e-02, forcesy_mae: 1.03e-01, forcesz_mae: 1.31e-01, forces_mae: 1.06e-01, forces_cosine_similarity: 2.36e-03, forces_magnitude_error: 2.02e-01, loss: 4.17e+01, lr: 9.56e-04, epoch: 1.09e-02, step: 6.00e+01\n",
      "2024-05-28 22:52:56 (INFO): energy_forces_within_threshold: 0.00e+00, energy_mae: 1.15e+02, forcesx_mae: 6.22e-02, forcesy_mae: 7.35e-02, forcesz_mae: 7.30e-02, forces_mae: 6.96e-02, forces_cosine_similarity: 1.44e-02, forces_magnitude_error: 1.30e-01, loss: 4.54e+01, lr: 9.56e-04, epoch: 1.18e-02, step: 6.50e+01\n",
      "2024-05-28 22:52:58 (INFO): energy_forces_within_threshold: 0.00e+00, energy_mae: 8.00e+01, forcesx_mae: 7.27e-02, forcesy_mae: 7.98e-02, forcesz_mae: 1.00e-01, forces_mae: 8.43e-02, forces_cosine_similarity: -1.49e-02, forces_magnitude_error: 1.56e-01, loss: 3.42e+01, lr: 9.56e-04, epoch: 1.27e-02, step: 7.00e+01\n",
      "2024-05-28 22:52:59 (INFO): energy_forces_within_threshold: 0.00e+00, energy_mae: 9.80e+01, forcesx_mae: 6.97e-02, forcesy_mae: 8.84e-02, forcesz_mae: 1.07e-01, forces_mae: 8.83e-02, forces_cosine_similarity: -1.24e-02, forces_magnitude_error: 1.52e-01, loss: 4.08e+01, lr: 9.56e-04, epoch: 1.36e-02, step: 7.50e+01\n",
      "2024-05-28 22:53:00 (INFO): energy_forces_within_threshold: 0.00e+00, energy_mae: 1.57e+02, forcesx_mae: 5.57e-02, forcesy_mae: 7.26e-02, forcesz_mae: 7.62e-02, forces_mae: 6.82e-02, forces_cosine_similarity: -1.68e-02, forces_magnitude_error: 1.18e-01, loss: 6.01e+01, lr: 9.56e-04, epoch: 1.45e-02, step: 8.00e+01\n",
      "2024-05-28 22:53:01 (INFO): energy_forces_within_threshold: 0.00e+00, energy_mae: 1.64e+02, forcesx_mae: 6.52e-02, forcesy_mae: 8.32e-02, forcesz_mae: 9.29e-02, forces_mae: 8.04e-02, forces_cosine_similarity: 6.38e-03, forces_magnitude_error: 1.54e-01, loss: 6.34e+01, lr: 9.56e-04, epoch: 1.55e-02, step: 8.50e+01\n",
      "2024-05-28 22:53:02 (INFO): energy_forces_within_threshold: 0.00e+00, energy_mae: 7.63e+01, forcesx_mae: 7.10e-02, forcesy_mae: 9.56e-02, forcesz_mae: 9.73e-02, forces_mae: 8.80e-02, forces_cosine_similarity: 1.16e-02, forces_magnitude_error: 1.72e-01, loss: 3.30e+01, lr: 9.56e-04, epoch: 1.64e-02, step: 9.00e+01\n",
      "2024-05-28 22:53:03 (INFO): energy_forces_within_threshold: 0.00e+00, energy_mae: 7.26e+01, forcesx_mae: 6.43e-02, forcesy_mae: 8.12e-02, forcesz_mae: 8.51e-02, forces_mae: 7.69e-02, forces_cosine_similarity: 1.48e-03, forces_magnitude_error: 1.53e-01, loss: 3.11e+01, lr: 9.56e-04, epoch: 1.73e-02, step: 9.50e+01\n",
      "2024-05-28 22:53:04 (INFO): energy_forces_within_threshold: 0.00e+00, energy_mae: 1.09e+02, forcesx_mae: 5.92e-02, forcesy_mae: 7.51e-02, forcesz_mae: 7.71e-02, forces_mae: 7.05e-02, forces_cosine_similarity: -1.11e-02, forces_magnitude_error: 1.38e-01, loss: 4.33e+01, lr: 9.56e-04, epoch: 1.82e-02, step: 1.00e+02\n",
      "2024-05-28 22:53:06 (INFO): energy_forces_within_threshold: 0.00e+00, energy_mae: 1.07e+02, forcesx_mae: 7.01e-02, forcesy_mae: 8.48e-02, forcesz_mae: 8.52e-02, forces_mae: 8.00e-02, forces_cosine_similarity: -5.53e-03, forces_magnitude_error: 1.58e-01, loss: 4.36e+01, lr: 9.56e-04, epoch: 1.91e-02, step: 1.05e+02\n",
      "2024-05-28 22:53:07 (INFO): energy_forces_within_threshold: 0.00e+00, energy_mae: 1.02e+02, forcesx_mae: 7.52e-02, forcesy_mae: 1.16e-01, forcesz_mae: 1.11e-01, forces_mae: 1.01e-01, forces_cosine_similarity: -3.62e-03, forces_magnitude_error: 2.01e-01, loss: 4.32e+01, lr: 9.56e-04, epoch: 2.00e-02, step: 1.10e+02\n",
      "2024-05-28 22:53:08 (INFO): energy_forces_within_threshold: 0.00e+00, energy_mae: 4.09e+01, forcesx_mae: 6.95e-02, forcesy_mae: 8.15e-02, forcesz_mae: 8.97e-02, forces_mae: 8.02e-02, forces_cosine_similarity: -1.05e-04, forces_magnitude_error: 1.55e-01, loss: 2.01e+01, lr: 9.56e-04, epoch: 2.09e-02, step: 1.15e+02\n",
      "2024-05-28 22:53:09 (INFO): energy_forces_within_threshold: 0.00e+00, energy_mae: 4.68e+01, forcesx_mae: 6.07e-02, forcesy_mae: 8.47e-02, forcesz_mae: 8.67e-02, forces_mae: 7.74e-02, forces_cosine_similarity: -6.95e-03, forces_magnitude_error: 1.50e-01, loss: 2.20e+01, lr: 9.56e-04, epoch: 2.18e-02, step: 1.20e+02\n",
      "2024-05-28 22:53:11 (INFO): energy_forces_within_threshold: 0.00e+00, energy_mae: 5.18e+01, forcesx_mae: 8.37e-02, forcesy_mae: 1.20e-01, forcesz_mae: 1.25e-01, forces_mae: 1.10e-01, forces_cosine_similarity: 3.61e-03, forces_magnitude_error: 2.16e-01, loss: 2.61e+01, lr: 9.56e-04, epoch: 2.27e-02, step: 1.25e+02\n",
      "2024-05-28 22:53:12 (INFO): energy_forces_within_threshold: 0.00e+00, energy_mae: 3.97e+01, forcesx_mae: 7.14e-02, forcesy_mae: 1.05e-01, forcesz_mae: 9.46e-02, forces_mae: 9.05e-02, forces_cosine_similarity: 6.00e-03, forces_magnitude_error: 1.82e-01, loss: 2.05e+01, lr: 9.56e-04, epoch: 2.36e-02, step: 1.30e+02\n",
      "2024-05-28 22:53:13 (INFO): energy_forces_within_threshold: 0.00e+00, energy_mae: 3.61e+01, forcesx_mae: 5.53e-02, forcesy_mae: 6.88e-02, forcesz_mae: 7.99e-02, forces_mae: 6.80e-02, forces_cosine_similarity: -1.42e-02, forces_magnitude_error: 1.36e-01, loss: 1.76e+01, lr: 9.56e-04, epoch: 2.45e-02, step: 1.35e+02\n",
      "2024-05-28 22:53:14 (INFO): energy_forces_within_threshold: 0.00e+00, energy_mae: 3.58e+01, forcesx_mae: 7.07e-02, forcesy_mae: 8.55e-02, forcesz_mae: 8.56e-02, forces_mae: 8.06e-02, forces_cosine_similarity: -7.13e-03, forces_magnitude_error: 1.60e-01, loss: 1.83e+01, lr: 9.56e-04, epoch: 2.54e-02, step: 1.40e+02\n",
      "2024-05-28 22:53:15 (INFO): energy_forces_within_threshold: 0.00e+00, energy_mae: 6.71e+01, forcesx_mae: 5.71e-02, forcesy_mae: 7.60e-02, forcesz_mae: 9.23e-02, forces_mae: 7.51e-02, forces_cosine_similarity: 1.18e-02, forces_magnitude_error: 1.55e-01, loss: 2.91e+01, lr: 9.56e-04, epoch: 2.64e-02, step: 1.45e+02\n",
      "2024-05-28 22:53:16 (INFO): energy_forces_within_threshold: 0.00e+00, energy_mae: 6.13e+01, forcesx_mae: 6.45e-02, forcesy_mae: 8.31e-02, forcesz_mae: 8.43e-02, forces_mae: 7.73e-02, forces_cosine_similarity: 6.26e-03, forces_magnitude_error: 1.56e-01, loss: 2.70e+01, lr: 9.56e-04, epoch: 2.73e-02, step: 1.50e+02\n",
      "2024-05-28 22:53:18 (INFO): energy_forces_within_threshold: 0.00e+00, energy_mae: 5.02e+01, forcesx_mae: 7.66e-02, forcesy_mae: 1.13e-01, forcesz_mae: 1.26e-01, forces_mae: 1.05e-01, forces_cosine_similarity: 2.74e-03, forces_magnitude_error: 2.15e-01, loss: 2.52e+01, lr: 9.56e-04, epoch: 2.82e-02, step: 1.55e+02\n",
      "2024-05-28 22:53:19 (INFO): energy_forces_within_threshold: 0.00e+00, energy_mae: 3.02e+01, forcesx_mae: 7.01e-02, forcesy_mae: 8.71e-02, forcesz_mae: 8.52e-02, forces_mae: 8.08e-02, forces_cosine_similarity: -2.46e-02, forces_magnitude_error: 1.64e-01, loss: 1.65e+01, lr: 9.56e-04, epoch: 2.91e-02, step: 1.60e+02\n",
      "2024-05-28 22:53:20 (INFO): energy_forces_within_threshold: 0.00e+00, energy_mae: 3.17e+01, forcesx_mae: 5.38e-02, forcesy_mae: 6.85e-02, forcesz_mae: 7.66e-02, forces_mae: 6.63e-02, forces_cosine_similarity: 1.93e-05, forces_magnitude_error: 1.34e-01, loss: 1.60e+01, lr: 9.56e-04, epoch: 3.00e-02, step: 1.65e+02\n",
      "2024-05-28 22:53:21 (INFO): energy_forces_within_threshold: 0.00e+00, energy_mae: 2.62e+01, forcesx_mae: 6.32e-02, forcesy_mae: 8.31e-02, forcesz_mae: 8.38e-02, forces_mae: 7.67e-02, forces_cosine_similarity: -1.51e-02, forces_magnitude_error: 1.56e-01, loss: 1.47e+01, lr: 9.56e-04, epoch: 3.09e-02, step: 1.70e+02\n",
      "2024-05-28 22:53:22 (INFO): energy_forces_within_threshold: 0.00e+00, energy_mae: 2.74e+01, forcesx_mae: 6.59e-02, forcesy_mae: 7.60e-02, forcesz_mae: 8.20e-02, forces_mae: 7.46e-02, forces_cosine_similarity: -1.83e-02, forces_magnitude_error: 1.51e-01, loss: 1.50e+01, lr: 9.56e-04, epoch: 3.18e-02, step: 1.75e+02\n",
      "2024-05-28 22:53:24 (INFO): energy_forces_within_threshold: 0.00e+00, energy_mae: 2.15e+01, forcesx_mae: 7.19e-02, forcesy_mae: 8.79e-02, forcesz_mae: 9.25e-02, forces_mae: 8.41e-02, forces_cosine_similarity: -3.63e-03, forces_magnitude_error: 1.69e-01, loss: 1.36e+01, lr: 9.56e-04, epoch: 3.27e-02, step: 1.80e+02\n",
      "2024-05-28 22:53:25 (INFO): energy_forces_within_threshold: 0.00e+00, energy_mae: 2.33e+01, forcesx_mae: 6.36e-02, forcesy_mae: 8.69e-02, forcesz_mae: 1.03e-01, forces_mae: 8.46e-02, forces_cosine_similarity: -3.72e-03, forces_magnitude_error: 1.74e-01, loss: 1.43e+01, lr: 9.56e-04, epoch: 3.36e-02, step: 1.85e+02\n",
      "2024-05-28 22:53:26 (INFO): energy_forces_within_threshold: 0.00e+00, energy_mae: 1.99e+01, forcesx_mae: 7.37e-02, forcesy_mae: 8.94e-02, forcesz_mae: 8.84e-02, forces_mae: 8.38e-02, forces_cosine_similarity: 4.07e-03, forces_magnitude_error: 1.68e-01, loss: 1.30e+01, lr: 9.56e-04, epoch: 3.45e-02, step: 1.90e+02\n",
      "2024-05-28 22:53:27 (INFO): energy_forces_within_threshold: 0.00e+00, energy_mae: 2.18e+01, forcesx_mae: 5.97e-02, forcesy_mae: 8.55e-02, forcesz_mae: 9.35e-02, forces_mae: 7.96e-02, forces_cosine_similarity: -1.05e-02, forces_magnitude_error: 1.64e-01, loss: 1.34e+01, lr: 9.56e-04, epoch: 3.54e-02, step: 1.95e+02\n",
      "2024-05-28 22:53:28 (INFO): energy_forces_within_threshold: 0.00e+00, energy_mae: 1.89e+01, forcesx_mae: 7.77e-02, forcesy_mae: 1.04e-01, forcesz_mae: 1.00e-01, forces_mae: 9.40e-02, forces_cosine_similarity: 1.20e-02, forces_magnitude_error: 1.88e-01, loss: 1.33e+01, lr: 9.56e-04, epoch: 3.64e-02, step: 2.00e+02\n",
      "2024-05-28 22:53:30 (INFO): energy_forces_within_threshold: 0.00e+00, energy_mae: 1.84e+01, forcesx_mae: 7.51e-02, forcesy_mae: 8.40e-02, forcesz_mae: 9.13e-02, forces_mae: 8.35e-02, forces_cosine_similarity: 1.27e-02, forces_magnitude_error: 1.68e-01, loss: 1.24e+01, lr: 9.56e-04, epoch: 3.73e-02, step: 2.05e+02\n",
      "2024-05-28 22:53:31 (INFO): energy_forces_within_threshold: 0.00e+00, energy_mae: 2.36e+01, forcesx_mae: 5.60e-02, forcesy_mae: 8.83e-02, forcesz_mae: 9.17e-02, forces_mae: 7.86e-02, forces_cosine_similarity: 8.24e-03, forces_magnitude_error: 1.63e-01, loss: 1.41e+01, lr: 9.56e-04, epoch: 3.82e-02, step: 2.10e+02\n",
      "2024-05-28 22:53:33 (INFO): energy_forces_within_threshold: 0.00e+00, energy_mae: 3.30e+01, forcesx_mae: 6.59e-02, forcesy_mae: 7.89e-02, forcesz_mae: 8.07e-02, forces_mae: 7.51e-02, forces_cosine_similarity: -2.34e-02, forces_magnitude_error: 1.52e-01, loss: 1.70e+01, lr: 9.56e-04, epoch: 3.91e-02, step: 2.15e+02\n",
      "2024-05-28 22:53:34 (INFO): energy_forces_within_threshold: 0.00e+00, energy_mae: 3.30e+01, forcesx_mae: 6.69e-02, forcesy_mae: 8.66e-02, forcesz_mae: 8.78e-02, forces_mae: 8.05e-02, forces_cosine_similarity: 1.26e-02, forces_magnitude_error: 1.62e-01, loss: 1.73e+01, lr: 9.56e-04, epoch: 4.00e-02, step: 2.20e+02\n",
      "2024-05-28 22:53:35 (INFO): energy_forces_within_threshold: 0.00e+00, energy_mae: 4.66e+01, forcesx_mae: 8.84e-02, forcesy_mae: 9.71e-02, forcesz_mae: 1.07e-01, forces_mae: 9.77e-02, forces_cosine_similarity: 2.29e-02, forces_magnitude_error: 1.96e-01, loss: 2.34e+01, lr: 9.56e-04, epoch: 4.09e-02, step: 2.25e+02\n",
      "2024-05-28 22:53:36 (INFO): energy_forces_within_threshold: 0.00e+00, energy_mae: 2.80e+01, forcesx_mae: 5.48e-02, forcesy_mae: 7.89e-02, forcesz_mae: 7.56e-02, forces_mae: 6.98e-02, forces_cosine_similarity: -5.14e-05, forces_magnitude_error: 1.41e-01, loss: 1.49e+01, lr: 9.56e-04, epoch: 4.18e-02, step: 2.30e+02\n",
      "2024-05-28 22:53:37 (INFO): energy_forces_within_threshold: 0.00e+00, energy_mae: 3.41e+01, forcesx_mae: 6.30e-02, forcesy_mae: 1.08e-01, forcesz_mae: 1.14e-01, forces_mae: 9.49e-02, forces_cosine_similarity: 1.62e-02, forces_magnitude_error: 1.95e-01, loss: 1.89e+01, lr: 9.56e-04, epoch: 4.27e-02, step: 2.35e+02\n",
      "2024-05-28 22:53:38 (INFO): energy_forces_within_threshold: 0.00e+00, energy_mae: 1.13e+01, forcesx_mae: 6.13e-02, forcesy_mae: 7.88e-02, forcesz_mae: 8.01e-02, forces_mae: 7.34e-02, forces_cosine_similarity: -6.66e-03, forces_magnitude_error: 1.50e-01, loss: 9.26e+00, lr: 9.56e-04, epoch: 4.36e-02, step: 2.40e+02\n",
      "2024-05-28 22:53:39 (INFO): energy_forces_within_threshold: 0.00e+00, energy_mae: 1.30e+01, forcesx_mae: 8.22e-02, forcesy_mae: 1.03e-01, forcesz_mae: 1.03e-01, forces_mae: 9.61e-02, forces_cosine_similarity: 2.04e-02, forces_magnitude_error: 1.98e-01, loss: 1.15e+01, lr: 9.56e-04, epoch: 4.45e-02, step: 2.45e+02\n",
      "2024-05-28 22:53:41 (INFO): energy_forces_within_threshold: 0.00e+00, energy_mae: 1.07e+01, forcesx_mae: 6.81e-02, forcesy_mae: 8.25e-02, forcesz_mae: 7.95e-02, forces_mae: 7.67e-02, forces_cosine_similarity: 2.11e-02, forces_magnitude_error: 1.52e-01, loss: 9.08e+00, lr: 9.56e-04, epoch: 4.54e-02, step: 2.50e+02\n",
      "2024-05-28 22:53:42 (INFO): energy_forces_within_threshold: 0.00e+00, energy_mae: 1.08e+01, forcesx_mae: 6.84e-02, forcesy_mae: 7.35e-02, forcesz_mae: 8.04e-02, forces_mae: 7.41e-02, forces_cosine_similarity: 3.03e-02, forces_magnitude_error: 1.48e-01, loss: 9.00e+00, lr: 9.56e-04, epoch: 4.64e-02, step: 2.55e+02\n",
      "2024-05-28 22:53:43 (INFO): energy_forces_within_threshold: 0.00e+00, energy_mae: 8.45e+00, forcesx_mae: 6.26e-02, forcesy_mae: 7.79e-02, forcesz_mae: 7.66e-02, forces_mae: 7.24e-02, forces_cosine_similarity: 1.40e-02, forces_magnitude_error: 1.47e-01, loss: 8.14e+00, lr: 9.56e-04, epoch: 4.73e-02, step: 2.60e+02\n",
      "2024-05-28 22:53:44 (INFO): energy_forces_within_threshold: 0.00e+00, energy_mae: 1.10e+01, forcesx_mae: 6.39e-02, forcesy_mae: 8.40e-02, forcesz_mae: 8.44e-02, forces_mae: 7.75e-02, forces_cosine_similarity: 2.22e-02, forces_magnitude_error: 1.56e-01, loss: 9.38e+00, lr: 9.56e-04, epoch: 4.82e-02, step: 2.65e+02\n",
      "2024-05-28 22:53:46 (INFO): energy_forces_within_threshold: 0.00e+00, energy_mae: 9.94e+00, forcesx_mae: 6.67e-02, forcesy_mae: 7.27e-02, forcesz_mae: 9.42e-02, forces_mae: 7.79e-02, forces_cosine_similarity: -3.41e-04, forces_magnitude_error: 1.59e-01, loss: 9.14e+00, lr: 9.56e-04, epoch: 4.91e-02, step: 2.70e+02\n",
      "2024-05-28 22:53:47 (INFO): energy_forces_within_threshold: 0.00e+00, energy_mae: 8.48e+00, forcesx_mae: 8.17e-02, forcesy_mae: 9.58e-02, forcesz_mae: 9.41e-02, forces_mae: 9.05e-02, forces_cosine_similarity: 1.27e-02, forces_magnitude_error: 1.82e-01, loss: 9.46e+00, lr: 9.56e-04, epoch: 5.00e-02, step: 2.75e+02\n",
      "2024-05-28 22:53:48 (INFO): energy_forces_within_threshold: 0.00e+00, energy_mae: 8.02e+00, forcesx_mae: 6.55e-02, forcesy_mae: 8.45e-02, forcesz_mae: 8.79e-02, forces_mae: 7.93e-02, forces_cosine_similarity: 3.82e-03, forces_magnitude_error: 1.60e-01, loss: 8.48e+00, lr: 9.56e-04, epoch: 5.09e-02, step: 2.80e+02\n",
      "2024-05-28 22:53:49 (INFO): energy_forces_within_threshold: 0.00e+00, energy_mae: 7.15e+00, forcesx_mae: 6.03e-02, forcesy_mae: 9.12e-02, forcesz_mae: 8.78e-02, forces_mae: 7.98e-02, forces_cosine_similarity: 1.58e-03, forces_magnitude_error: 1.63e-01, loss: 8.34e+00, lr: 9.56e-04, epoch: 5.18e-02, step: 2.85e+02\n",
      "2024-05-28 22:53:51 (INFO): energy_forces_within_threshold: 0.00e+00, energy_mae: 7.90e+00, forcesx_mae: 7.67e-02, forcesy_mae: 1.04e-01, forcesz_mae: 1.12e-01, forces_mae: 9.74e-02, forces_cosine_similarity: 3.16e-02, forces_magnitude_error: 1.97e-01, loss: 9.71e+00, lr: 9.56e-04, epoch: 5.27e-02, step: 2.90e+02\n",
      "2024-05-28 22:53:52 (INFO): energy_forces_within_threshold: 0.00e+00, energy_mae: 6.63e+00, forcesx_mae: 6.72e-02, forcesy_mae: 8.90e-02, forcesz_mae: 7.85e-02, forces_mae: 7.82e-02, forces_cosine_similarity: -9.97e-03, forces_magnitude_error: 1.58e-01, loss: 7.97e+00, lr: 9.56e-04, epoch: 5.36e-02, step: 2.95e+02\n",
      "2024-05-28 22:53:53 (INFO): energy_forces_within_threshold: 0.00e+00, energy_mae: 9.14e+00, forcesx_mae: 6.71e-02, forcesy_mae: 8.57e-02, forcesz_mae: 8.72e-02, forces_mae: 8.00e-02, forces_cosine_similarity: 1.18e-02, forces_magnitude_error: 1.62e-01, loss: 9.00e+00, lr: 9.56e-04, epoch: 5.45e-02, step: 3.00e+02\n",
      "2024-05-28 22:53:55 (INFO): energy_forces_within_threshold: 0.00e+00, energy_mae: 6.90e+00, forcesx_mae: 6.27e-02, forcesy_mae: 7.50e-02, forcesz_mae: 7.83e-02, forces_mae: 7.20e-02, forces_cosine_similarity: -3.66e-03, forces_magnitude_error: 1.47e-01, loss: 7.79e+00, lr: 9.56e-04, epoch: 5.54e-02, step: 3.05e+02\n",
      "2024-05-28 22:53:56 (INFO): energy_forces_within_threshold: 0.00e+00, energy_mae: 1.88e+01, forcesx_mae: 6.70e-02, forcesy_mae: 8.40e-02, forcesz_mae: 8.25e-02, forces_mae: 7.78e-02, forces_cosine_similarity: -5.90e-03, forces_magnitude_error: 1.60e-01, loss: 1.22e+01, lr: 9.56e-04, epoch: 5.64e-02, step: 3.10e+02\n",
      "2024-05-28 22:53:57 (INFO): energy_forces_within_threshold: 0.00e+00, energy_mae: 1.93e+01, forcesx_mae: 5.90e-02, forcesy_mae: 7.79e-02, forcesz_mae: 7.56e-02, forces_mae: 7.08e-02, forces_cosine_similarity: 2.60e-02, forces_magnitude_error: 1.41e-01, loss: 1.19e+01, lr: 9.56e-04, epoch: 5.73e-02, step: 3.15e+02\n",
      "2024-05-28 22:53:59 (INFO): energy_forces_within_threshold: 0.00e+00, energy_mae: 1.20e+01, forcesx_mae: 6.48e-02, forcesy_mae: 8.86e-02, forcesz_mae: 9.48e-02, forces_mae: 8.27e-02, forces_cosine_similarity: -7.62e-03, forces_magnitude_error: 1.65e-01, loss: 1.01e+01, lr: 9.56e-04, epoch: 5.82e-02, step: 3.20e+02\n",
      "2024-05-28 22:54:00 (INFO): energy_forces_within_threshold: 0.00e+00, energy_mae: 7.94e+00, forcesx_mae: 5.65e-02, forcesy_mae: 7.29e-02, forcesz_mae: 9.61e-02, forces_mae: 7.51e-02, forces_cosine_similarity: 2.96e-02, forces_magnitude_error: 1.60e-01, loss: 8.46e+00, lr: 9.56e-04, epoch: 5.91e-02, step: 3.25e+02\n",
      "2024-05-28 22:54:01 (INFO): energy_forces_within_threshold: 0.00e+00, energy_mae: 1.09e+01, forcesx_mae: 8.26e-02, forcesy_mae: 1.06e-01, forcesz_mae: 1.03e-01, forces_mae: 9.70e-02, forces_cosine_similarity: 1.12e-02, forces_magnitude_error: 1.96e-01, loss: 1.08e+01, lr: 9.56e-04, epoch: 6.00e-02, step: 3.30e+02\n",
      "2024-05-28 22:54:02 (INFO): energy_forces_within_threshold: 0.00e+00, energy_mae: 1.33e+01, forcesx_mae: 7.92e-02, forcesy_mae: 1.10e-01, forcesz_mae: 9.39e-02, forces_mae: 9.45e-02, forces_cosine_similarity: 2.06e-02, forces_magnitude_error: 1.97e-01, loss: 1.17e+01, lr: 9.56e-04, epoch: 6.09e-02, step: 3.35e+02\n",
      "2024-05-28 22:54:04 (INFO): energy_forces_within_threshold: 0.00e+00, energy_mae: 2.33e+01, forcesx_mae: 6.55e-02, forcesy_mae: 8.72e-02, forcesz_mae: 9.00e-02, forces_mae: 8.09e-02, forces_cosine_similarity: 1.54e-02, forces_magnitude_error: 1.64e-01, loss: 1.41e+01, lr: 9.56e-04, epoch: 6.18e-02, step: 3.40e+02\n",
      "2024-05-28 22:54:05 (INFO): energy_forces_within_threshold: 0.00e+00, energy_mae: 8.08e+00, forcesx_mae: 6.24e-02, forcesy_mae: 8.55e-02, forcesz_mae: 9.29e-02, forces_mae: 8.03e-02, forces_cosine_similarity: 2.99e-02, forces_magnitude_error: 1.64e-01, loss: 8.70e+00, lr: 9.56e-04, epoch: 6.27e-02, step: 3.45e+02\n",
      "2024-05-28 22:54:06 (INFO): energy_forces_within_threshold: 0.00e+00, energy_mae: 7.55e+00, forcesx_mae: 6.82e-02, forcesy_mae: 8.29e-02, forcesz_mae: 8.16e-02, forces_mae: 7.76e-02, forces_cosine_similarity: 1.44e-02, forces_magnitude_error: 1.56e-01, loss: 8.23e+00, lr: 9.56e-04, epoch: 6.36e-02, step: 3.50e+02\n",
      "2024-05-28 22:54:07 (INFO): energy_forces_within_threshold: 0.00e+00, energy_mae: 6.84e+00, forcesx_mae: 5.61e-02, forcesy_mae: 7.76e-02, forcesz_mae: 7.84e-02, forces_mae: 7.07e-02, forces_cosine_similarity: 9.87e-03, forces_magnitude_error: 1.45e-01, loss: 7.58e+00, lr: 9.56e-04, epoch: 6.45e-02, step: 3.55e+02\n",
      "2024-05-28 22:54:08 (INFO): energy_forces_within_threshold: 0.00e+00, energy_mae: 1.01e+01, forcesx_mae: 7.42e-02, forcesy_mae: 9.26e-02, forcesz_mae: 1.13e-01, forces_mae: 9.32e-02, forces_cosine_similarity: 1.17e-02, forces_magnitude_error: 1.91e-01, loss: 1.03e+01, lr: 9.56e-04, epoch: 6.54e-02, step: 3.60e+02\n",
      "2024-05-28 22:54:09 (INFO): energy_forces_within_threshold: 0.00e+00, energy_mae: 1.84e+01, forcesx_mae: 8.20e-02, forcesy_mae: 1.11e-01, forcesz_mae: 1.08e-01, forces_mae: 1.00e-01, forces_cosine_similarity: 4.77e-02, forces_magnitude_error: 1.98e-01, loss: 1.37e+01, lr: 9.56e-04, epoch: 6.64e-02, step: 3.65e+02\n",
      "2024-05-28 22:54:11 (INFO): energy_forces_within_threshold: 0.00e+00, energy_mae: 1.83e+01, forcesx_mae: 6.91e-02, forcesy_mae: 8.58e-02, forcesz_mae: 8.83e-02, forces_mae: 8.11e-02, forces_cosine_similarity: 3.50e-02, forces_magnitude_error: 1.60e-01, loss: 1.22e+01, lr: 9.56e-04, epoch: 6.73e-02, step: 3.70e+02\n",
      "2024-05-28 22:54:12 (INFO): energy_forces_within_threshold: 0.00e+00, energy_mae: 1.35e+01, forcesx_mae: 5.58e-02, forcesy_mae: 7.82e-02, forcesz_mae: 7.78e-02, forces_mae: 7.06e-02, forces_cosine_similarity: 1.84e-02, forces_magnitude_error: 1.44e-01, loss: 9.92e+00, lr: 9.56e-04, epoch: 6.82e-02, step: 3.75e+02\n",
      "2024-05-28 22:54:13 (INFO): energy_forces_within_threshold: 0.00e+00, energy_mae: 1.24e+01, forcesx_mae: 5.23e-02, forcesy_mae: 7.27e-02, forcesz_mae: 7.81e-02, forces_mae: 6.77e-02, forces_cosine_similarity: 5.29e-02, forces_magnitude_error: 1.36e-01, loss: 9.34e+00, lr: 9.56e-04, epoch: 6.91e-02, step: 3.80e+02\n",
      "2024-05-28 22:54:14 (INFO): energy_forces_within_threshold: 0.00e+00, energy_mae: 1.33e+01, forcesx_mae: 6.71e-02, forcesy_mae: 9.15e-02, forcesz_mae: 1.03e-01, forces_mae: 8.72e-02, forces_cosine_similarity: 4.96e-02, forces_magnitude_error: 1.73e-01, loss: 1.09e+01, lr: 9.56e-04, epoch: 7.00e-02, step: 3.85e+02\n",
      "2024-05-28 22:54:15 (INFO): energy_forces_within_threshold: 0.00e+00, energy_mae: 1.07e+01, forcesx_mae: 6.47e-02, forcesy_mae: 7.87e-02, forcesz_mae: 8.94e-02, forces_mae: 7.76e-02, forces_cosine_similarity: 7.21e-03, forces_magnitude_error: 1.58e-01, loss: 9.41e+00, lr: 9.56e-04, epoch: 7.09e-02, step: 3.90e+02\n",
      "2024-05-28 22:54:16 (INFO): energy_forces_within_threshold: 0.00e+00, energy_mae: 1.06e+01, forcesx_mae: 6.76e-02, forcesy_mae: 8.24e-02, forcesz_mae: 9.10e-02, forces_mae: 8.03e-02, forces_cosine_similarity: 3.54e-02, forces_magnitude_error: 1.62e-01, loss: 9.50e+00, lr: 9.56e-04, epoch: 7.18e-02, step: 3.95e+02\n",
      "2024-05-28 22:54:18 (INFO): energy_forces_within_threshold: 0.00e+00, energy_mae: 1.83e+01, forcesx_mae: 8.21e-02, forcesy_mae: 1.06e-01, forcesz_mae: 1.04e-01, forces_mae: 9.74e-02, forces_cosine_similarity: 3.63e-02, forces_magnitude_error: 1.94e-01, loss: 1.34e+01, lr: 9.56e-04, epoch: 7.27e-02, step: 4.00e+02\n",
      "2024-05-28 22:54:19 (INFO): energy_forces_within_threshold: 0.00e+00, energy_mae: 2.24e+01, forcesx_mae: 7.63e-02, forcesy_mae: 8.78e-02, forcesz_mae: 9.56e-02, forces_mae: 8.66e-02, forces_cosine_similarity: 4.50e-02, forces_magnitude_error: 1.70e-01, loss: 1.40e+01, lr: 9.56e-04, epoch: 7.36e-02, step: 4.05e+02\n",
      "2024-05-28 22:54:20 (INFO): energy_forces_within_threshold: 0.00e+00, energy_mae: 1.35e+01, forcesx_mae: 5.95e-02, forcesy_mae: 7.29e-02, forcesz_mae: 7.04e-02, forces_mae: 6.76e-02, forces_cosine_similarity: 2.94e-02, forces_magnitude_error: 1.34e-01, loss: 9.65e+00, lr: 9.56e-04, epoch: 7.45e-02, step: 4.10e+02\n",
      "2024-05-28 22:54:21 (INFO): energy_forces_within_threshold: 0.00e+00, energy_mae: 7.73e+00, forcesx_mae: 7.39e-02, forcesy_mae: 9.29e-02, forcesz_mae: 1.01e-01, forces_mae: 8.93e-02, forces_cosine_similarity: 1.26e-02, forces_magnitude_error: 1.79e-01, loss: 9.07e+00, lr: 9.56e-04, epoch: 7.54e-02, step: 4.15e+02\n",
      "2024-05-28 22:54:22 (INFO): energy_forces_within_threshold: 0.00e+00, energy_mae: 1.03e+01, forcesx_mae: 7.33e-02, forcesy_mae: 8.58e-02, forcesz_mae: 9.26e-02, forces_mae: 8.39e-02, forces_cosine_similarity: 3.30e-02, forces_magnitude_error: 1.67e-01, loss: 9.66e+00, lr: 9.56e-04, epoch: 7.63e-02, step: 4.20e+02\n",
      "2024-05-28 22:54:24 (INFO): energy_forces_within_threshold: 0.00e+00, energy_mae: 8.79e+00, forcesx_mae: 6.91e-02, forcesy_mae: 8.54e-02, forcesz_mae: 9.16e-02, forces_mae: 8.20e-02, forces_cosine_similarity: 9.06e-03, forces_magnitude_error: 1.66e-01, loss: 9.03e+00, lr: 9.56e-04, epoch: 7.73e-02, step: 4.25e+02\n",
      "2024-05-28 22:54:25 (INFO): energy_forces_within_threshold: 0.00e+00, energy_mae: 1.06e+01, forcesx_mae: 7.81e-02, forcesy_mae: 9.32e-02, forcesz_mae: 1.08e-01, forces_mae: 9.32e-02, forces_cosine_similarity: 2.84e-02, forces_magnitude_error: 1.89e-01, loss: 1.05e+01, lr: 9.56e-04, epoch: 7.82e-02, step: 4.30e+02\n",
      "2024-05-28 22:54:26 (INFO): energy_forces_within_threshold: 0.00e+00, energy_mae: 1.02e+01, forcesx_mae: 7.17e-02, forcesy_mae: 9.78e-02, forcesz_mae: 1.00e-01, forces_mae: 8.99e-02, forces_cosine_similarity: 4.08e-03, forces_magnitude_error: 1.80e-01, loss: 1.00e+01, lr: 9.56e-04, epoch: 7.91e-02, step: 4.35e+02\n",
      "2024-05-28 22:54:27 (INFO): energy_forces_within_threshold: 0.00e+00, energy_mae: 1.57e+01, forcesx_mae: 8.91e-02, forcesy_mae: 1.17e-01, forcesz_mae: 1.31e-01, forces_mae: 1.12e-01, forces_cosine_similarity: 1.47e-02, forces_magnitude_error: 2.25e-01, loss: 1.36e+01, lr: 9.56e-04, epoch: 8.00e-02, step: 4.40e+02\n",
      "2024-05-28 22:54:28 (INFO): energy_forces_within_threshold: 0.00e+00, energy_mae: 8.98e+00, forcesx_mae: 8.40e-02, forcesy_mae: 1.12e-01, forcesz_mae: 1.08e-01, forces_mae: 1.01e-01, forces_cosine_similarity: 3.79e-02, forces_magnitude_error: 2.07e-01, loss: 1.05e+01, lr: 9.56e-04, epoch: 8.09e-02, step: 4.45e+02\n",
      "2024-05-28 22:54:30 (INFO): energy_forces_within_threshold: 0.00e+00, energy_mae: 5.14e+00, forcesx_mae: 8.03e-02, forcesy_mae: 8.05e-02, forcesz_mae: 8.91e-02, forces_mae: 8.33e-02, forces_cosine_similarity: 4.11e-02, forces_magnitude_error: 1.65e-01, loss: 7.72e+00, lr: 9.56e-04, epoch: 8.18e-02, step: 4.50e+02\n",
      "2024-05-28 22:54:31 (INFO): energy_forces_within_threshold: 0.00e+00, energy_mae: 4.60e+00, forcesx_mae: 7.19e-02, forcesy_mae: 8.64e-02, forcesz_mae: 9.54e-02, forces_mae: 8.46e-02, forces_cosine_similarity: 1.55e-02, forces_magnitude_error: 1.70e-01, loss: 7.73e+00, lr: 9.56e-04, epoch: 8.27e-02, step: 4.55e+02\n",
      "2024-05-28 22:54:32 (INFO): energy_forces_within_threshold: 0.00e+00, energy_mae: 9.50e+00, forcesx_mae: 8.00e-02, forcesy_mae: 1.04e-01, forcesz_mae: 1.10e-01, forces_mae: 9.80e-02, forces_cosine_similarity: 1.89e-02, forces_magnitude_error: 1.96e-01, loss: 1.04e+01, lr: 9.56e-04, epoch: 8.36e-02, step: 4.60e+02\n",
      "2024-05-28 22:54:33 (INFO): energy_forces_within_threshold: 0.00e+00, energy_mae: 1.38e+01, forcesx_mae: 6.87e-02, forcesy_mae: 7.95e-02, forcesz_mae: 8.86e-02, forces_mae: 7.89e-02, forces_cosine_similarity: 2.51e-02, forces_magnitude_error: 1.57e-01, loss: 1.05e+01, lr: 9.56e-04, epoch: 8.45e-02, step: 4.65e+02\n",
      "2024-05-28 22:54:34 (INFO): energy_forces_within_threshold: 0.00e+00, energy_mae: 6.14e+00, forcesx_mae: 6.11e-02, forcesy_mae: 7.78e-02, forcesz_mae: 9.26e-02, forces_mae: 7.71e-02, forces_cosine_similarity: 1.07e-02, forces_magnitude_error: 1.56e-01, loss: 7.74e+00, lr: 9.56e-04, epoch: 8.54e-02, step: 4.70e+02\n",
      "2024-05-28 22:54:35 (INFO): energy_forces_within_threshold: 0.00e+00, energy_mae: 3.80e+00, forcesx_mae: 4.63e-02, forcesy_mae: 7.25e-02, forcesz_mae: 7.31e-02, forces_mae: 6.39e-02, forces_cosine_similarity: 2.85e-02, forces_magnitude_error: 1.27e-01, loss: 5.94e+00, lr: 9.56e-04, epoch: 8.63e-02, step: 4.75e+02\n",
      "2024-05-28 22:54:36 (INFO): energy_forces_within_threshold: 0.00e+00, energy_mae: 6.91e+00, forcesx_mae: 6.73e-02, forcesy_mae: 8.06e-02, forcesz_mae: 8.12e-02, forces_mae: 7.64e-02, forces_cosine_similarity: 3.50e-02, forces_magnitude_error: 1.51e-01, loss: 7.87e+00, lr: 9.56e-04, epoch: 8.73e-02, step: 4.80e+02\n",
      "2024-05-28 22:54:38 (INFO): energy_forces_within_threshold: 0.00e+00, energy_mae: 5.77e+00, forcesx_mae: 6.75e-02, forcesy_mae: 8.29e-02, forcesz_mae: 9.90e-02, forces_mae: 8.31e-02, forces_cosine_similarity: 2.43e-02, forces_magnitude_error: 1.69e-01, loss: 8.01e+00, lr: 9.56e-04, epoch: 8.82e-02, step: 4.85e+02\n",
      "2024-05-28 22:54:39 (INFO): energy_forces_within_threshold: 0.00e+00, energy_mae: 7.50e+00, forcesx_mae: 6.93e-02, forcesy_mae: 1.02e-01, forcesz_mae: 9.73e-02, forces_mae: 8.97e-02, forces_cosine_similarity: 9.13e-04, forces_magnitude_error: 1.80e-01, loss: 9.06e+00, lr: 9.56e-04, epoch: 8.91e-02, step: 4.90e+02\n",
      "2024-05-28 22:54:40 (INFO): energy_forces_within_threshold: 0.00e+00, energy_mae: 7.35e+00, forcesx_mae: 6.19e-02, forcesy_mae: 8.03e-02, forcesz_mae: 7.76e-02, forces_mae: 7.33e-02, forces_cosine_similarity: 1.37e-02, forces_magnitude_error: 1.48e-01, loss: 7.91e+00, lr: 9.56e-04, epoch: 9.00e-02, step: 4.95e+02\n",
      "2024-05-28 22:54:41 (INFO): energy_forces_within_threshold: 0.00e+00, energy_mae: 4.78e+00, forcesx_mae: 6.48e-02, forcesy_mae: 7.99e-02, forcesz_mae: 8.42e-02, forces_mae: 7.63e-02, forces_cosine_similarity: 2.08e-02, forces_magnitude_error: 1.56e-01, loss: 7.17e+00, lr: 9.56e-04, epoch: 9.09e-02, step: 5.00e+02\n",
      "2024-05-28 22:54:43 (INFO): energy_forces_within_threshold: 0.00e+00, energy_mae: 7.91e+00, forcesx_mae: 6.43e-02, forcesy_mae: 7.45e-02, forcesz_mae: 7.91e-02, forces_mae: 7.27e-02, forces_cosine_similarity: 2.87e-02, forces_magnitude_error: 1.44e-01, loss: 7.93e+00, lr: 9.56e-04, epoch: 9.18e-02, step: 5.05e+02\n",
      "2024-05-28 22:54:44 (INFO): energy_forces_within_threshold: 0.00e+00, energy_mae: 1.29e+01, forcesx_mae: 5.82e-02, forcesy_mae: 8.42e-02, forcesz_mae: 7.96e-02, forces_mae: 7.40e-02, forces_cosine_similarity: 2.27e-02, forces_magnitude_error: 1.47e-01, loss: 9.88e+00, lr: 9.56e-04, epoch: 9.27e-02, step: 5.10e+02\n",
      "2024-05-28 22:54:45 (INFO): energy_forces_within_threshold: 0.00e+00, energy_mae: 6.31e+00, forcesx_mae: 6.29e-02, forcesy_mae: 7.59e-02, forcesz_mae: 7.87e-02, forces_mae: 7.25e-02, forces_cosine_similarity: 2.64e-03, forces_magnitude_error: 1.44e-01, loss: 7.36e+00, lr: 9.56e-04, epoch: 9.36e-02, step: 5.15e+02\n",
      "2024-05-28 22:54:46 (INFO): energy_forces_within_threshold: 0.00e+00, energy_mae: 4.22e+00, forcesx_mae: 7.76e-02, forcesy_mae: 9.60e-02, forcesz_mae: 1.04e-01, forces_mae: 9.26e-02, forces_cosine_similarity: 4.46e-03, forces_magnitude_error: 1.86e-01, loss: 8.27e+00, lr: 9.56e-04, epoch: 9.45e-02, step: 5.20e+02\n",
      "2024-05-28 22:54:47 (INFO): energy_forces_within_threshold: 0.00e+00, energy_mae: 4.16e+00, forcesx_mae: 8.28e-02, forcesy_mae: 1.08e-01, forcesz_mae: 1.15e-01, forces_mae: 1.02e-01, forces_cosine_similarity: 3.45e-02, forces_magnitude_error: 2.06e-01, loss: 8.84e+00, lr: 9.56e-04, epoch: 9.54e-02, step: 5.25e+02\n",
      "2024-05-28 22:54:48 (INFO): energy_forces_within_threshold: 0.00e+00, energy_mae: 4.01e+00, forcesx_mae: 4.75e-02, forcesy_mae: 5.86e-02, forcesz_mae: 5.84e-02, forces_mae: 5.48e-02, forces_cosine_similarity: 1.77e-02, forces_magnitude_error: 1.05e-01, loss: 5.34e+00, lr: 9.56e-04, epoch: 9.63e-02, step: 5.30e+02\n",
      "2024-05-28 22:54:50 (INFO): energy_forces_within_threshold: 0.00e+00, energy_mae: 3.49e+00, forcesx_mae: 7.28e-02, forcesy_mae: 8.99e-02, forcesz_mae: 9.38e-02, forces_mae: 8.55e-02, forces_cosine_similarity: 3.97e-02, forces_magnitude_error: 1.70e-01, loss: 7.40e+00, lr: 9.56e-04, epoch: 9.73e-02, step: 5.35e+02\n",
      "2024-05-28 22:54:51 (INFO): energy_forces_within_threshold: 0.00e+00, energy_mae: 3.53e+00, forcesx_mae: 8.26e-02, forcesy_mae: 1.02e-01, forcesz_mae: 1.02e-01, forces_mae: 9.53e-02, forces_cosine_similarity: 2.37e-02, forces_magnitude_error: 1.92e-01, loss: 8.02e+00, lr: 9.56e-04, epoch: 9.82e-02, step: 5.40e+02\n",
      "2024-05-28 22:54:52 (INFO): energy_forces_within_threshold: 0.00e+00, energy_mae: 3.21e+00, forcesx_mae: 7.26e-02, forcesy_mae: 9.35e-02, forcesz_mae: 1.20e-01, forces_mae: 9.54e-02, forces_cosine_similarity: 1.56e-02, forces_magnitude_error: 1.94e-01, loss: 7.99e+00, lr: 9.56e-04, epoch: 9.91e-02, step: 5.45e+02\n",
      "2024-05-28 22:54:53 (INFO): energy_forces_within_threshold: 0.00e+00, energy_mae: 3.18e+00, forcesx_mae: 6.97e-02, forcesy_mae: 9.99e-02, forcesz_mae: 9.37e-02, forces_mae: 8.78e-02, forces_cosine_similarity: 3.87e-02, forces_magnitude_error: 1.79e-01, loss: 7.49e+00, lr: 9.56e-04, epoch: 1.00e-01, step: 5.50e+02\n",
      "2024-05-28 22:54:54 (INFO): energy_forces_within_threshold: 0.00e+00, energy_mae: 3.32e+00, forcesx_mae: 7.09e-02, forcesy_mae: 8.55e-02, forcesz_mae: 8.51e-02, forces_mae: 8.05e-02, forces_cosine_similarity: 3.49e-02, forces_magnitude_error: 1.60e-01, loss: 6.95e+00, lr: 9.56e-04, epoch: 1.01e-01, step: 5.55e+02\n",
      "2024-05-28 22:54:55 (INFO): energy_forces_within_threshold: 0.00e+00, energy_mae: 2.69e+00, forcesx_mae: 6.29e-02, forcesy_mae: 8.04e-02, forcesz_mae: 8.41e-02, forces_mae: 7.58e-02, forces_cosine_similarity: 3.45e-02, forces_magnitude_error: 1.50e-01, loss: 6.39e+00, lr: 9.56e-04, epoch: 1.02e-01, step: 5.60e+02\n",
      "2024-05-28 22:54:56 (INFO): energy_forces_within_threshold: 0.00e+00, energy_mae: 3.22e+00, forcesx_mae: 5.99e-02, forcesy_mae: 9.53e-02, forcesz_mae: 8.79e-02, forces_mae: 8.10e-02, forces_cosine_similarity: -5.66e-04, forces_magnitude_error: 1.67e-01, loss: 7.08e+00, lr: 9.56e-04, epoch: 1.03e-01, step: 5.65e+02\n",
      "2024-05-28 22:54:58 (INFO): energy_forces_within_threshold: 0.00e+00, energy_mae: 2.89e+00, forcesx_mae: 6.17e-02, forcesy_mae: 8.25e-02, forcesz_mae: 8.77e-02, forces_mae: 7.73e-02, forces_cosine_similarity: 3.77e-02, forces_magnitude_error: 1.53e-01, loss: 6.58e+00, lr: 9.56e-04, epoch: 1.04e-01, step: 5.70e+02\n",
      "2024-05-28 22:54:59 (INFO): energy_forces_within_threshold: 0.00e+00, energy_mae: 3.03e+00, forcesx_mae: 6.61e-02, forcesy_mae: 8.90e-02, forcesz_mae: 8.88e-02, forces_mae: 8.13e-02, forces_cosine_similarity: 4.25e-02, forces_magnitude_error: 1.60e-01, loss: 6.89e+00, lr: 9.56e-04, epoch: 1.05e-01, step: 5.75e+02\n",
      "2024-05-28 22:55:00 (INFO): energy_forces_within_threshold: 0.00e+00, energy_mae: 3.30e+00, forcesx_mae: 6.82e-02, forcesy_mae: 8.74e-02, forcesz_mae: 9.40e-02, forces_mae: 8.32e-02, forces_cosine_similarity: 2.41e-02, forces_magnitude_error: 1.66e-01, loss: 7.18e+00, lr: 9.56e-04, epoch: 1.05e-01, step: 5.80e+02\n",
      "2024-05-28 22:55:01 (INFO): energy_forces_within_threshold: 0.00e+00, energy_mae: 3.38e+00, forcesx_mae: 9.51e-02, forcesy_mae: 1.16e-01, forcesz_mae: 1.06e-01, forces_mae: 1.06e-01, forces_cosine_similarity: 1.94e-02, forces_magnitude_error: 2.09e-01, loss: 8.57e+00, lr: 9.56e-04, epoch: 1.06e-01, step: 5.85e+02\n",
      "2024-05-28 22:55:02 (INFO): energy_forces_within_threshold: 0.00e+00, energy_mae: 4.21e+00, forcesx_mae: 8.31e-02, forcesy_mae: 1.07e-01, forcesz_mae: 9.99e-02, forces_mae: 9.65e-02, forces_cosine_similarity: 3.45e-02, forces_magnitude_error: 1.85e-01, loss: 8.23e+00, lr: 9.56e-04, epoch: 1.07e-01, step: 5.90e+02\n",
      "2024-05-28 22:55:04 (INFO): energy_forces_within_threshold: 0.00e+00, energy_mae: 7.98e+00, forcesx_mae: 5.44e-02, forcesy_mae: 6.21e-02, forcesz_mae: 6.46e-02, forces_mae: 6.04e-02, forces_cosine_similarity: 1.46e-02, forces_magnitude_error: 1.18e-01, loss: 7.14e+00, lr: 9.56e-04, epoch: 1.08e-01, step: 5.95e+02\n",
      "2024-05-28 22:55:05 (INFO): energy_forces_within_threshold: 0.00e+00, energy_mae: 6.19e+00, forcesx_mae: 6.25e-02, forcesy_mae: 7.75e-02, forcesz_mae: 7.74e-02, forces_mae: 7.25e-02, forces_cosine_similarity: -1.86e-02, forces_magnitude_error: 1.45e-01, loss: 7.38e+00, lr: 9.56e-04, epoch: 1.09e-01, step: 6.00e+02\n",
      "2024-05-28 22:55:06 (INFO): energy_forces_within_threshold: 0.00e+00, energy_mae: 3.13e+00, forcesx_mae: 6.55e-02, forcesy_mae: 7.47e-02, forcesz_mae: 7.61e-02, forces_mae: 7.21e-02, forces_cosine_similarity: 3.40e-03, forces_magnitude_error: 1.42e-01, loss: 6.19e+00, lr: 9.56e-04, epoch: 1.10e-01, step: 6.05e+02\n",
      "2024-05-28 22:55:07 (INFO): energy_forces_within_threshold: 0.00e+00, energy_mae: 3.40e+00, forcesx_mae: 6.35e-02, forcesy_mae: 7.64e-02, forcesz_mae: 7.59e-02, forces_mae: 7.19e-02, forces_cosine_similarity: 1.99e-03, forces_magnitude_error: 1.44e-01, loss: 6.39e+00, lr: 9.56e-04, epoch: 1.11e-01, step: 6.10e+02\n",
      "2024-05-28 22:55:08 (INFO): energy_forces_within_threshold: 0.00e+00, energy_mae: 3.34e+00, forcesx_mae: 5.47e-02, forcesy_mae: 7.15e-02, forcesz_mae: 7.57e-02, forces_mae: 6.73e-02, forces_cosine_similarity: 2.57e-02, forces_magnitude_error: 1.36e-01, loss: 6.05e+00, lr: 9.56e-04, epoch: 1.12e-01, step: 6.15e+02\n",
      "2024-05-28 22:55:09 (INFO): energy_forces_within_threshold: 0.00e+00, energy_mae: 3.11e+00, forcesx_mae: 5.78e-02, forcesy_mae: 8.45e-02, forcesz_mae: 8.85e-02, forces_mae: 7.69e-02, forces_cosine_similarity: 2.62e-02, forces_magnitude_error: 1.58e-01, loss: 6.69e+00, lr: 9.56e-04, epoch: 1.13e-01, step: 6.20e+02\n",
      "2024-05-28 22:55:11 (INFO): energy_forces_within_threshold: 0.00e+00, energy_mae: 3.13e+00, forcesx_mae: 7.53e-02, forcesy_mae: 8.84e-02, forcesz_mae: 9.49e-02, forces_mae: 8.62e-02, forces_cosine_similarity: 9.19e-03, forces_magnitude_error: 1.72e-01, loss: 7.25e+00, lr: 9.56e-04, epoch: 1.14e-01, step: 6.25e+02\n",
      "2024-05-28 22:55:12 (INFO): energy_forces_within_threshold: 0.00e+00, energy_mae: 4.41e+00, forcesx_mae: 6.72e-02, forcesy_mae: 8.88e-02, forcesz_mae: 9.86e-02, forces_mae: 8.49e-02, forces_cosine_similarity: 1.19e-02, forces_magnitude_error: 1.70e-01, loss: 7.59e+00, lr: 9.56e-04, epoch: 1.15e-01, step: 6.30e+02\n",
      "2024-05-28 22:55:13 (INFO): energy_forces_within_threshold: 0.00e+00, energy_mae: 9.14e+00, forcesx_mae: 6.24e-02, forcesy_mae: 6.94e-02, forcesz_mae: 7.20e-02, forces_mae: 6.79e-02, forces_cosine_similarity: 5.12e-03, forces_magnitude_error: 1.37e-01, loss: 8.10e+00, lr: 9.56e-04, epoch: 1.15e-01, step: 6.35e+02\n",
      "2024-05-28 22:55:14 (INFO): energy_forces_within_threshold: 0.00e+00, energy_mae: 9.15e+00, forcesx_mae: 6.14e-02, forcesy_mae: 7.77e-02, forcesz_mae: 9.39e-02, forces_mae: 7.77e-02, forces_cosine_similarity: 8.69e-04, forces_magnitude_error: 1.58e-01, loss: 8.82e+00, lr: 9.56e-04, epoch: 1.16e-01, step: 6.40e+02\n",
      "2024-05-28 22:55:15 (INFO): energy_forces_within_threshold: 0.00e+00, energy_mae: 8.45e+00, forcesx_mae: 6.78e-02, forcesy_mae: 7.25e-02, forcesz_mae: 8.65e-02, forces_mae: 7.56e-02, forces_cosine_similarity: 2.05e-02, forces_magnitude_error: 1.47e-01, loss: 8.43e+00, lr: 9.56e-04, epoch: 1.17e-01, step: 6.45e+02\n",
      "2024-05-28 22:55:16 (INFO): energy_forces_within_threshold: 0.00e+00, energy_mae: 4.52e+00, forcesx_mae: 8.36e-02, forcesy_mae: 8.97e-02, forcesz_mae: 9.75e-02, forces_mae: 9.03e-02, forces_cosine_similarity: 4.93e-03, forces_magnitude_error: 1.79e-01, loss: 8.08e+00, lr: 9.56e-04, epoch: 1.18e-01, step: 6.50e+02\n",
      "2024-05-28 22:55:18 (INFO): energy_forces_within_threshold: 0.00e+00, energy_mae: 3.38e+00, forcesx_mae: 7.49e-02, forcesy_mae: 9.20e-02, forcesz_mae: 9.91e-02, forces_mae: 8.86e-02, forces_cosine_similarity: -8.70e-03, forces_magnitude_error: 1.79e-01, loss: 7.47e+00, lr: 9.56e-04, epoch: 1.19e-01, step: 6.55e+02\n",
      "2024-05-28 22:55:19 (INFO): energy_forces_within_threshold: 0.00e+00, energy_mae: 3.66e+00, forcesx_mae: 8.81e-02, forcesy_mae: 9.27e-02, forcesz_mae: 1.49e-01, forces_mae: 1.10e-01, forces_cosine_similarity: 5.66e-03, forces_magnitude_error: 2.26e-01, loss: 9.30e+00, lr: 9.56e-04, epoch: 1.20e-01, step: 6.60e+02\n",
      "2024-05-28 22:55:20 (INFO): energy_forces_within_threshold: 0.00e+00, energy_mae: 7.01e+00, forcesx_mae: 6.80e-02, forcesy_mae: 9.02e-02, forcesz_mae: 9.87e-02, forces_mae: 8.56e-02, forces_cosine_similarity: -4.93e-03, forces_magnitude_error: 1.68e-01, loss: 8.61e+00, lr: 9.56e-04, epoch: 1.21e-01, step: 6.65e+02\n",
      "2024-05-28 22:55:21 (INFO): energy_forces_within_threshold: 0.00e+00, energy_mae: 6.27e+00, forcesx_mae: 6.42e-02, forcesy_mae: 7.70e-02, forcesz_mae: 8.95e-02, forces_mae: 7.69e-02, forces_cosine_similarity: 1.08e-02, forces_magnitude_error: 1.50e-01, loss: 7.79e+00, lr: 9.56e-04, epoch: 1.22e-01, step: 6.70e+02\n",
      "2024-05-28 22:55:22 (INFO): energy_forces_within_threshold: 0.00e+00, energy_mae: 4.47e+00, forcesx_mae: 6.96e-02, forcesy_mae: 8.59e-02, forcesz_mae: 9.04e-02, forces_mae: 8.20e-02, forces_cosine_similarity: 1.79e-02, forces_magnitude_error: 1.63e-01, loss: 7.42e+00, lr: 9.56e-04, epoch: 1.23e-01, step: 6.75e+02\n",
      "2024-05-28 22:55:23 (INFO): energy_forces_within_threshold: 0.00e+00, energy_mae: 4.84e+00, forcesx_mae: 6.03e-02, forcesy_mae: 7.32e-02, forcesz_mae: 7.71e-02, forces_mae: 7.02e-02, forces_cosine_similarity: -1.60e-02, forces_magnitude_error: 1.39e-01, loss: 6.76e+00, lr: 9.56e-04, epoch: 1.24e-01, step: 6.80e+02\n",
      "2024-05-28 22:55:25 (INFO): energy_forces_within_threshold: 0.00e+00, energy_mae: 5.15e+00, forcesx_mae: 5.55e-02, forcesy_mae: 9.24e-02, forcesz_mae: 9.57e-02, forces_mae: 8.12e-02, forces_cosine_similarity: -1.76e-02, forces_magnitude_error: 1.70e-01, loss: 7.99e+00, lr: 9.56e-04, epoch: 1.25e-01, step: 6.85e+02\n",
      "2024-05-28 22:55:26 (INFO): energy_forces_within_threshold: 0.00e+00, energy_mae: 5.39e+00, forcesx_mae: 7.24e-02, forcesy_mae: 9.05e-02, forcesz_mae: 9.66e-02, forces_mae: 8.65e-02, forces_cosine_similarity: 1.44e-02, forces_magnitude_error: 1.73e-01, loss: 7.97e+00, lr: 9.56e-04, epoch: 1.25e-01, step: 6.90e+02\n",
      "2024-05-28 22:55:27 (INFO): energy_forces_within_threshold: 0.00e+00, energy_mae: 5.75e+00, forcesx_mae: 5.26e-02, forcesy_mae: 7.42e-02, forcesz_mae: 8.60e-02, forces_mae: 7.09e-02, forces_cosine_similarity: -1.73e-02, forces_magnitude_error: 1.47e-01, loss: 7.25e+00, lr: 9.56e-04, epoch: 1.26e-01, step: 6.95e+02\n",
      "2024-05-28 22:55:28 (INFO): energy_forces_within_threshold: 0.00e+00, energy_mae: 5.48e+00, forcesx_mae: 6.28e-02, forcesy_mae: 8.45e-02, forcesz_mae: 7.99e-02, forces_mae: 7.57e-02, forces_cosine_similarity: -1.11e-02, forces_magnitude_error: 1.56e-01, loss: 7.43e+00, lr: 9.56e-04, epoch: 1.27e-01, step: 7.00e+02\n",
      "2024-05-28 22:55:29 (INFO): energy_forces_within_threshold: 0.00e+00, energy_mae: 5.52e+00, forcesx_mae: 5.56e-02, forcesy_mae: 7.09e-02, forcesz_mae: 6.89e-02, forces_mae: 6.51e-02, forces_cosine_similarity: 4.68e-03, forces_magnitude_error: 1.34e-01, loss: 6.65e+00, lr: 9.56e-04, epoch: 1.28e-01, step: 7.05e+02\n",
      "2024-05-28 22:55:30 (INFO): energy_forces_within_threshold: 0.00e+00, energy_mae: 3.65e+00, forcesx_mae: 6.56e-02, forcesy_mae: 9.00e-02, forcesz_mae: 8.39e-02, forces_mae: 7.98e-02, forces_cosine_similarity: -1.63e-02, forces_magnitude_error: 1.62e-01, loss: 7.05e+00, lr: 9.56e-04, epoch: 1.29e-01, step: 7.10e+02\n",
      "2024-05-28 22:55:31 (INFO): energy_forces_within_threshold: 0.00e+00, energy_mae: 6.13e+00, forcesx_mae: 5.70e-02, forcesy_mae: 7.81e-02, forcesz_mae: 7.89e-02, forces_mae: 7.13e-02, forces_cosine_similarity: -1.34e-02, forces_magnitude_error: 1.47e-01, loss: 7.32e+00, lr: 9.56e-04, epoch: 1.30e-01, step: 7.15e+02\n",
      "2024-05-28 22:55:33 (INFO): energy_forces_within_threshold: 0.00e+00, energy_mae: 5.35e+00, forcesx_mae: 4.24e-02, forcesy_mae: 5.77e-02, forcesz_mae: 5.80e-02, forces_mae: 5.27e-02, forces_cosine_similarity: -8.22e-03, forces_magnitude_error: 1.07e-01, loss: 5.63e+00, lr: 9.56e-04, epoch: 1.31e-01, step: 7.20e+02\n",
      "2024-05-28 22:55:34 (INFO): energy_forces_within_threshold: 0.00e+00, energy_mae: 6.13e+00, forcesx_mae: 5.02e-02, forcesy_mae: 6.80e-02, forcesz_mae: 7.17e-02, forces_mae: 6.33e-02, forces_cosine_similarity: 6.74e-04, forces_magnitude_error: 1.29e-01, loss: 6.73e+00, lr: 9.56e-04, epoch: 1.32e-01, step: 7.25e+02\n",
      "2024-05-28 22:55:35 (INFO): energy_forces_within_threshold: 0.00e+00, energy_mae: 5.69e+00, forcesx_mae: 6.44e-02, forcesy_mae: 8.30e-02, forcesz_mae: 9.12e-02, forces_mae: 7.95e-02, forces_cosine_similarity: 8.67e-03, forces_magnitude_error: 1.62e-01, loss: 7.79e+00, lr: 9.56e-04, epoch: 1.33e-01, step: 7.30e+02\n",
      "2024-05-28 22:55:36 (INFO): energy_forces_within_threshold: 0.00e+00, energy_mae: 6.37e+00, forcesx_mae: 8.73e-02, forcesy_mae: 9.63e-02, forcesz_mae: 1.00e-01, forces_mae: 9.47e-02, forces_cosine_similarity: 3.85e-02, forces_magnitude_error: 1.87e-01, loss: 8.91e+00, lr: 9.56e-04, epoch: 1.34e-01, step: 7.35e+02\n",
      "2024-05-28 22:55:37 (INFO): energy_forces_within_threshold: 0.00e+00, energy_mae: 3.66e+00, forcesx_mae: 6.12e-02, forcesy_mae: 7.32e-02, forcesz_mae: 7.43e-02, forces_mae: 6.96e-02, forces_cosine_similarity: 3.05e-02, forces_magnitude_error: 1.40e-01, loss: 6.26e+00, lr: 9.56e-04, epoch: 1.35e-01, step: 7.40e+02\n",
      "2024-05-28 22:55:38 (INFO): energy_forces_within_threshold: 0.00e+00, energy_mae: 6.62e+00, forcesx_mae: 6.61e-02, forcesy_mae: 7.66e-02, forcesz_mae: 8.87e-02, forces_mae: 7.71e-02, forces_cosine_similarity: 4.17e-02, forces_magnitude_error: 1.56e-01, loss: 7.94e+00, lr: 9.56e-04, epoch: 1.35e-01, step: 7.45e+02\n",
      "2024-05-28 22:55:39 (INFO): energy_forces_within_threshold: 0.00e+00, energy_mae: 5.44e+00, forcesx_mae: 8.66e-02, forcesy_mae: 7.97e-02, forcesz_mae: 8.22e-02, forces_mae: 8.28e-02, forces_cosine_similarity: 1.96e-02, forces_magnitude_error: 1.68e-01, loss: 7.92e+00, lr: 9.56e-04, epoch: 1.36e-01, step: 7.50e+02\n",
      "2024-05-28 22:55:41 (INFO): energy_forces_within_threshold: 0.00e+00, energy_mae: 6.41e+00, forcesx_mae: 6.09e-02, forcesy_mae: 7.74e-02, forcesz_mae: 8.19e-02, forces_mae: 7.34e-02, forces_cosine_similarity: 9.43e-03, forces_magnitude_error: 1.49e-01, loss: 7.52e+00, lr: 9.56e-04, epoch: 1.37e-01, step: 7.55e+02\n",
      "2024-05-28 22:55:42 (INFO): energy_forces_within_threshold: 0.00e+00, energy_mae: 7.85e+00, forcesx_mae: 6.20e-02, forcesy_mae: 7.65e-02, forcesz_mae: 7.96e-02, forces_mae: 7.27e-02, forces_cosine_similarity: -9.97e-03, forces_magnitude_error: 1.46e-01, loss: 7.93e+00, lr: 9.56e-04, epoch: 1.38e-01, step: 7.60e+02\n",
      "2024-05-28 22:55:43 (INFO): energy_forces_within_threshold: 0.00e+00, energy_mae: 7.90e+00, forcesx_mae: 7.69e-02, forcesy_mae: 8.46e-02, forcesz_mae: 1.05e-01, forces_mae: 8.89e-02, forces_cosine_similarity: 5.08e-03, forces_magnitude_error: 1.83e-01, loss: 9.28e+00, lr: 9.56e-04, epoch: 1.39e-01, step: 7.65e+02\n",
      "2024-05-28 22:55:44 (INFO): energy_forces_within_threshold: 0.00e+00, energy_mae: 3.33e+00, forcesx_mae: 5.92e-02, forcesy_mae: 6.75e-02, forcesz_mae: 7.63e-02, forces_mae: 6.77e-02, forces_cosine_similarity: 3.36e-02, forces_magnitude_error: 1.37e-01, loss: 6.07e+00, lr: 9.56e-04, epoch: 1.40e-01, step: 7.70e+02\n",
      "2024-05-28 22:55:45 (INFO): energy_forces_within_threshold: 0.00e+00, energy_mae: 2.03e+00, forcesx_mae: 9.54e-02, forcesy_mae: 9.47e-02, forcesz_mae: 1.11e-01, forces_mae: 1.01e-01, forces_cosine_similarity: 1.23e-02, forces_magnitude_error: 1.92e-01, loss: 7.91e+00, lr: 9.56e-04, epoch: 1.41e-01, step: 7.75e+02\n",
      "2024-05-28 22:55:47 (INFO): energy_forces_within_threshold: 0.00e+00, energy_mae: 2.11e+00, forcesx_mae: 6.36e+00, forcesy_mae: 8.65e+00, forcesz_mae: 3.71e+01, forces_mae: 1.74e+01, forces_cosine_similarity: -4.82e-03, forces_magnitude_error: 4.00e+01, loss: 2.34e+03, lr: 9.56e-04, epoch: 1.42e-01, step: 7.80e+02\n",
      "2024-05-28 22:55:48 (INFO): energy_forces_within_threshold: 0.00e+00, energy_mae: 1.91e+01, forcesx_mae: 3.06e+00, forcesy_mae: 4.92e+00, forcesz_mae: 2.39e+01, forces_mae: 1.06e+01, forces_cosine_similarity: 2.33e-02, forces_magnitude_error: 2.51e+01, loss: 1.56e+03, lr: 9.56e-04, epoch: 1.43e-01, step: 7.85e+02\n"
     ]
    },
    {
     "name": "stderr",
     "output_type": "stream",
     "text": [
      "2024-05-28 22:55:49 (WARNING): Found nans while computing loss\n",
      "2024-05-28 22:55:49 (WARNING): Found nans while computing loss\n",
      "2024-05-28 22:55:49 (WARNING): Found nans while computing loss\n",
      "2024-05-28 22:55:49 (WARNING): Found nans while computing loss\n",
      "2024-05-28 22:55:49 (WARNING): Found nans while computing loss\n",
      "2024-05-28 22:55:49 (WARNING): Found nans while computing loss\n"
     ]
    },
    {
     "name": "stdout",
     "output_type": "stream",
     "text": [
      "2024-05-28 22:55:49 (INFO): energy_forces_within_threshold: 0.00e+00, energy_mae: nan, forcesx_mae: nan, forcesy_mae: nan, forcesz_mae: nan, forces_mae: nan, forces_cosine_similarity: nan, forces_magnitude_error: nan, loss: 2.43e+05, lr: 9.56e-04, epoch: 1.44e-01, step: 7.90e+02\n"
     ]
    },
    {
     "name": "stderr",
     "output_type": "stream",
     "text": [
      "2024-05-28 22:55:49 (WARNING): Found nans while computing loss\n",
      "2024-05-28 22:55:49 (WARNING): Found nans while computing loss\n",
      "2024-05-28 22:55:50 (WARNING): Found nans while computing loss\n",
      "2024-05-28 22:55:50 (WARNING): Found nans while computing loss\n",
      "2024-05-28 22:55:50 (WARNING): Found nans while computing loss\n",
      "2024-05-28 22:55:50 (WARNING): Found nans while computing loss\n",
      "2024-05-28 22:55:50 (WARNING): Found nans while computing loss\n",
      "2024-05-28 22:55:50 (WARNING): Found nans while computing loss\n",
      "2024-05-28 22:55:50 (WARNING): Found nans while computing loss\n",
      "2024-05-28 22:55:50 (WARNING): Found nans while computing loss\n"
     ]
    },
    {
     "name": "stdout",
     "output_type": "stream",
     "text": [
      "2024-05-28 22:55:50 (INFO): energy_forces_within_threshold: 0.00e+00, energy_mae: nan, forcesx_mae: nan, forcesy_mae: nan, forcesz_mae: nan, forces_mae: nan, forces_cosine_similarity: nan, forces_magnitude_error: nan, loss: 4.17e+05, lr: 9.56e-04, epoch: 1.45e-01, step: 7.95e+02\n"
     ]
    },
    {
     "name": "stderr",
     "output_type": "stream",
     "text": [
      "2024-05-28 22:55:51 (WARNING): Found nans while computing loss\n",
      "2024-05-28 22:55:51 (WARNING): Found nans while computing loss\n",
      "2024-05-28 22:55:51 (WARNING): Found nans while computing loss\n",
      "2024-05-28 22:55:51 (WARNING): Found nans while computing loss\n",
      "2024-05-28 22:55:51 (WARNING): Found nans while computing loss\n",
      "2024-05-28 22:55:51 (WARNING): Found nans while computing loss\n",
      "2024-05-28 22:55:51 (WARNING): Found nans while computing loss\n",
      "2024-05-28 22:55:51 (WARNING): Found nans while computing loss\n",
      "2024-05-28 22:55:51 (WARNING): Found nans while computing loss\n",
      "2024-05-28 22:55:51 (WARNING): Found nans while computing loss\n"
     ]
    },
    {
     "name": "stdout",
     "output_type": "stream",
     "text": [
      "2024-05-28 22:55:52 (INFO): energy_forces_within_threshold: 0.00e+00, energy_mae: nan, forcesx_mae: nan, forcesy_mae: nan, forcesz_mae: nan, forces_mae: nan, forces_cosine_similarity: nan, forces_magnitude_error: nan, loss: 3.00e+05, lr: 9.56e-04, epoch: 1.45e-01, step: 8.00e+02\n"
     ]
    },
    {
     "name": "stderr",
     "output_type": "stream",
     "text": [
      "2024-05-28 22:55:52 (WARNING): Found nans while computing loss\n",
      "2024-05-28 22:55:52 (WARNING): Found nans while computing loss\n",
      "2024-05-28 22:55:52 (WARNING): Found nans while computing loss\n",
      "2024-05-28 22:55:52 (WARNING): Found nans while computing loss\n",
      "2024-05-28 22:55:52 (WARNING): Found nans while computing loss\n",
      "2024-05-28 22:55:52 (WARNING): Found nans while computing loss\n",
      "2024-05-28 22:55:52 (WARNING): Found nans while computing loss\n",
      "2024-05-28 22:55:52 (WARNING): Found nans while computing loss\n",
      "2024-05-28 22:55:53 (WARNING): Found nans while computing loss\n",
      "2024-05-28 22:55:53 (WARNING): Found nans while computing loss\n"
     ]
    },
    {
     "name": "stdout",
     "output_type": "stream",
     "text": [
      "2024-05-28 22:55:53 (INFO): energy_forces_within_threshold: 0.00e+00, energy_mae: nan, forcesx_mae: nan, forcesy_mae: nan, forcesz_mae: nan, forces_mae: nan, forces_cosine_similarity: nan, forces_magnitude_error: nan, loss: 2.71e+05, lr: 9.56e-04, epoch: 1.46e-01, step: 8.05e+02\n"
     ]
    },
    {
     "name": "stderr",
     "output_type": "stream",
     "text": [
      "2024-05-28 22:55:53 (WARNING): Found nans while computing loss\n",
      "2024-05-28 22:55:53 (WARNING): Found nans while computing loss\n",
      "2024-05-28 22:55:53 (WARNING): Found nans while computing loss\n",
      "2024-05-28 22:55:53 (WARNING): Found nans while computing loss\n",
      "2024-05-28 22:55:53 (WARNING): Found nans while computing loss\n",
      "2024-05-28 22:55:53 (WARNING): Found nans while computing loss\n",
      "2024-05-28 22:55:54 (WARNING): Found nans while computing loss\n",
      "2024-05-28 22:55:54 (WARNING): Found nans while computing loss\n",
      "2024-05-28 22:55:54 (WARNING): Found nans while computing loss\n",
      "2024-05-28 22:55:54 (WARNING): Found nans while computing loss\n"
     ]
    },
    {
     "name": "stdout",
     "output_type": "stream",
     "text": [
      "2024-05-28 22:55:54 (INFO): energy_forces_within_threshold: 0.00e+00, energy_mae: nan, forcesx_mae: nan, forcesy_mae: nan, forcesz_mae: nan, forces_mae: nan, forces_cosine_similarity: nan, forces_magnitude_error: nan, loss: 4.15e+05, lr: 9.56e-04, epoch: 1.47e-01, step: 8.10e+02\n"
     ]
    },
    {
     "name": "stderr",
     "output_type": "stream",
     "text": [
      "2024-05-28 22:55:54 (WARNING): Found nans while computing loss\n",
      "2024-05-28 22:55:54 (WARNING): Found nans while computing loss\n",
      "2024-05-28 22:55:54 (WARNING): Found nans while computing loss\n",
      "2024-05-28 22:55:54 (WARNING): Found nans while computing loss\n",
      "2024-05-28 22:55:55 (WARNING): Found nans while computing loss\n",
      "2024-05-28 22:55:55 (WARNING): Found nans while computing loss\n",
      "2024-05-28 22:55:55 (WARNING): Found nans while computing loss\n",
      "2024-05-28 22:55:55 (WARNING): Found nans while computing loss\n",
      "2024-05-28 22:55:55 (WARNING): Found nans while computing loss\n",
      "2024-05-28 22:55:55 (WARNING): Found nans while computing loss\n"
     ]
    },
    {
     "name": "stdout",
     "output_type": "stream",
     "text": [
      "2024-05-28 22:55:55 (INFO): energy_forces_within_threshold: 0.00e+00, energy_mae: nan, forcesx_mae: nan, forcesy_mae: nan, forcesz_mae: nan, forces_mae: nan, forces_cosine_similarity: nan, forces_magnitude_error: nan, loss: 3.50e+05, lr: 9.56e-04, epoch: 1.48e-01, step: 8.15e+02\n"
     ]
    },
    {
     "name": "stderr",
     "output_type": "stream",
     "text": [
      "2024-05-28 22:55:55 (WARNING): Found nans while computing loss\n",
      "2024-05-28 22:55:55 (WARNING): Found nans while computing loss\n",
      "2024-05-28 22:55:55 (WARNING): Found nans while computing loss\n",
      "2024-05-28 22:55:55 (WARNING): Found nans while computing loss\n",
      "2024-05-28 22:55:56 (WARNING): Found nans while computing loss\n",
      "2024-05-28 22:55:56 (WARNING): Found nans while computing loss\n",
      "2024-05-28 22:55:56 (WARNING): Found nans while computing loss\n",
      "2024-05-28 22:55:56 (WARNING): Found nans while computing loss\n",
      "2024-05-28 22:55:56 (WARNING): Found nans while computing loss\n",
      "2024-05-28 22:55:56 (WARNING): Found nans while computing loss\n"
     ]
    },
    {
     "name": "stdout",
     "output_type": "stream",
     "text": [
      "2024-05-28 22:55:56 (INFO): energy_forces_within_threshold: 0.00e+00, energy_mae: nan, forcesx_mae: nan, forcesy_mae: nan, forcesz_mae: nan, forces_mae: nan, forces_cosine_similarity: nan, forces_magnitude_error: nan, loss: 3.55e+05, lr: 9.56e-04, epoch: 1.49e-01, step: 8.20e+02\n"
     ]
    },
    {
     "name": "stderr",
     "output_type": "stream",
     "text": [
      "2024-05-28 22:55:56 (WARNING): Found nans while computing loss\n",
      "2024-05-28 22:55:56 (WARNING): Found nans while computing loss\n",
      "2024-05-28 22:55:57 (WARNING): Found nans while computing loss\n",
      "2024-05-28 22:55:57 (WARNING): Found nans while computing loss\n",
      "2024-05-28 22:55:57 (WARNING): Found nans while computing loss\n",
      "2024-05-28 22:55:57 (WARNING): Found nans while computing loss\n",
      "2024-05-28 22:55:57 (WARNING): Found nans while computing loss\n",
      "2024-05-28 22:55:57 (WARNING): Found nans while computing loss\n",
      "2024-05-28 22:55:57 (WARNING): Found nans while computing loss\n",
      "2024-05-28 22:55:57 (WARNING): Found nans while computing loss\n"
     ]
    },
    {
     "name": "stdout",
     "output_type": "stream",
     "text": [
      "2024-05-28 22:55:58 (INFO): energy_forces_within_threshold: 0.00e+00, energy_mae: nan, forcesx_mae: nan, forcesy_mae: nan, forcesz_mae: nan, forces_mae: nan, forces_cosine_similarity: nan, forces_magnitude_error: nan, loss: 3.48e+05, lr: 9.56e-04, epoch: 1.50e-01, step: 8.25e+02\n"
     ]
    },
    {
     "name": "stderr",
     "output_type": "stream",
     "text": [
      "2024-05-28 22:55:58 (WARNING): Found nans while computing loss\n",
      "2024-05-28 22:55:58 (WARNING): Found nans while computing loss\n",
      "2024-05-28 22:55:58 (WARNING): Found nans while computing loss\n",
      "2024-05-28 22:55:58 (WARNING): Found nans while computing loss\n",
      "2024-05-28 22:55:58 (WARNING): Found nans while computing loss\n",
      "2024-05-28 22:55:58 (WARNING): Found nans while computing loss\n",
      "2024-05-28 22:55:58 (WARNING): Found nans while computing loss\n",
      "2024-05-28 22:55:58 (WARNING): Found nans while computing loss\n",
      "2024-05-28 22:55:59 (WARNING): Found nans while computing loss\n",
      "2024-05-28 22:55:59 (WARNING): Found nans while computing loss\n"
     ]
    },
    {
     "name": "stdout",
     "output_type": "stream",
     "text": [
      "2024-05-28 22:55:59 (INFO): energy_forces_within_threshold: 0.00e+00, energy_mae: nan, forcesx_mae: nan, forcesy_mae: nan, forcesz_mae: nan, forces_mae: nan, forces_cosine_similarity: nan, forces_magnitude_error: nan, loss: 3.78e+05, lr: 9.56e-04, epoch: 1.51e-01, step: 8.30e+02\n"
     ]
    },
    {
     "name": "stderr",
     "output_type": "stream",
     "text": [
      "2024-05-28 22:55:59 (WARNING): Found nans while computing loss\n",
      "2024-05-28 22:55:59 (WARNING): Found nans while computing loss\n",
      "2024-05-28 22:55:59 (WARNING): Found nans while computing loss\n",
      "2024-05-28 22:55:59 (WARNING): Found nans while computing loss\n",
      "2024-05-28 22:55:59 (WARNING): Found nans while computing loss\n",
      "2024-05-28 22:55:59 (WARNING): Found nans while computing loss\n",
      "2024-05-28 22:56:00 (WARNING): Found nans while computing loss\n",
      "2024-05-28 22:56:00 (WARNING): Found nans while computing loss\n",
      "2024-05-28 22:56:00 (WARNING): Found nans while computing loss\n",
      "2024-05-28 22:56:00 (WARNING): Found nans while computing loss\n"
     ]
    },
    {
     "name": "stdout",
     "output_type": "stream",
     "text": [
      "2024-05-28 22:56:00 (INFO): energy_forces_within_threshold: 0.00e+00, energy_mae: nan, forcesx_mae: nan, forcesy_mae: nan, forcesz_mae: nan, forces_mae: nan, forces_cosine_similarity: nan, forces_magnitude_error: nan, loss: 2.61e+05, lr: 9.56e-04, epoch: 1.52e-01, step: 8.35e+02\n"
     ]
    },
    {
     "name": "stderr",
     "output_type": "stream",
     "text": [
      "2024-05-28 22:56:00 (WARNING): Found nans while computing loss\n",
      "2024-05-28 22:56:00 (WARNING): Found nans while computing loss\n",
      "2024-05-28 22:56:00 (WARNING): Found nans while computing loss\n",
      "2024-05-28 22:56:00 (WARNING): Found nans while computing loss\n",
      "2024-05-28 22:56:00 (WARNING): Found nans while computing loss\n",
      "2024-05-28 22:56:00 (WARNING): Found nans while computing loss\n",
      "2024-05-28 22:56:01 (WARNING): Found nans while computing loss\n",
      "2024-05-28 22:56:01 (WARNING): Found nans while computing loss\n",
      "2024-05-28 22:56:01 (WARNING): Found nans while computing loss\n",
      "2024-05-28 22:56:01 (WARNING): Found nans while computing loss\n"
     ]
    },
    {
     "name": "stdout",
     "output_type": "stream",
     "text": [
      "2024-05-28 22:56:01 (INFO): energy_forces_within_threshold: 0.00e+00, energy_mae: nan, forcesx_mae: nan, forcesy_mae: nan, forcesz_mae: nan, forces_mae: nan, forces_cosine_similarity: nan, forces_magnitude_error: nan, loss: 3.64e+05, lr: 9.56e-04, epoch: 1.53e-01, step: 8.40e+02\n"
     ]
    },
    {
     "name": "stderr",
     "output_type": "stream",
     "text": [
      "2024-05-28 22:56:01 (WARNING): Found nans while computing loss\n",
      "2024-05-28 22:56:01 (WARNING): Found nans while computing loss\n",
      "2024-05-28 22:56:01 (WARNING): Found nans while computing loss\n",
      "2024-05-28 22:56:01 (WARNING): Found nans while computing loss\n",
      "2024-05-28 22:56:02 (WARNING): Found nans while computing loss\n",
      "2024-05-28 22:56:02 (WARNING): Found nans while computing loss\n",
      "2024-05-28 22:56:02 (WARNING): Found nans while computing loss\n",
      "2024-05-28 22:56:02 (WARNING): Found nans while computing loss\n",
      "2024-05-28 22:56:02 (WARNING): Found nans while computing loss\n",
      "2024-05-28 22:56:02 (WARNING): Found nans while computing loss\n"
     ]
    },
    {
     "name": "stdout",
     "output_type": "stream",
     "text": [
      "2024-05-28 22:56:02 (INFO): energy_forces_within_threshold: 0.00e+00, energy_mae: nan, forcesx_mae: nan, forcesy_mae: nan, forcesz_mae: nan, forces_mae: nan, forces_cosine_similarity: nan, forces_magnitude_error: nan, loss: 4.68e+05, lr: 9.56e-04, epoch: 1.54e-01, step: 8.45e+02\n"
     ]
    },
    {
     "name": "stderr",
     "output_type": "stream",
     "text": [
      "2024-05-28 22:56:02 (WARNING): Found nans while computing loss\n",
      "2024-05-28 22:56:02 (WARNING): Found nans while computing loss\n",
      "2024-05-28 22:56:03 (WARNING): Found nans while computing loss\n",
      "2024-05-28 22:56:03 (WARNING): Found nans while computing loss\n",
      "2024-05-28 22:56:03 (WARNING): Found nans while computing loss\n",
      "2024-05-28 22:56:03 (WARNING): Found nans while computing loss\n",
      "2024-05-28 22:56:03 (WARNING): Found nans while computing loss\n",
      "2024-05-28 22:56:03 (WARNING): Found nans while computing loss\n",
      "2024-05-28 22:56:03 (WARNING): Found nans while computing loss\n",
      "2024-05-28 22:56:03 (WARNING): Found nans while computing loss\n"
     ]
    },
    {
     "name": "stdout",
     "output_type": "stream",
     "text": [
      "2024-05-28 22:56:03 (INFO): energy_forces_within_threshold: 0.00e+00, energy_mae: nan, forcesx_mae: nan, forcesy_mae: nan, forcesz_mae: nan, forces_mae: nan, forces_cosine_similarity: nan, forces_magnitude_error: nan, loss: 3.15e+05, lr: 9.56e-04, epoch: 1.55e-01, step: 8.50e+02\n"
     ]
    },
    {
     "name": "stderr",
     "output_type": "stream",
     "text": [
      "2024-05-28 22:56:03 (WARNING): Found nans while computing loss\n",
      "2024-05-28 22:56:03 (WARNING): Found nans while computing loss\n",
      "2024-05-28 22:56:04 (WARNING): Found nans while computing loss\n",
      "2024-05-28 22:56:04 (WARNING): Found nans while computing loss\n",
      "2024-05-28 22:56:04 (WARNING): Found nans while computing loss\n",
      "2024-05-28 22:56:04 (WARNING): Found nans while computing loss\n",
      "2024-05-28 22:56:04 (WARNING): Found nans while computing loss\n",
      "2024-05-28 22:56:04 (WARNING): Found nans while computing loss\n",
      "2024-05-28 22:56:04 (WARNING): Found nans while computing loss\n",
      "2024-05-28 22:56:04 (WARNING): Found nans while computing loss\n"
     ]
    },
    {
     "name": "stdout",
     "output_type": "stream",
     "text": [
      "2024-05-28 22:56:05 (INFO): energy_forces_within_threshold: 0.00e+00, energy_mae: nan, forcesx_mae: nan, forcesy_mae: nan, forcesz_mae: nan, forces_mae: nan, forces_cosine_similarity: nan, forces_magnitude_error: nan, loss: 3.74e+05, lr: 9.56e-04, epoch: 1.55e-01, step: 8.55e+02\n"
     ]
    },
    {
     "name": "stderr",
     "output_type": "stream",
     "text": [
      "2024-05-28 22:56:05 (WARNING): Found nans while computing loss\n",
      "2024-05-28 22:56:05 (WARNING): Found nans while computing loss\n",
      "2024-05-28 22:56:05 (WARNING): Found nans while computing loss\n",
      "2024-05-28 22:56:05 (WARNING): Found nans while computing loss\n",
      "2024-05-28 22:56:05 (WARNING): Found nans while computing loss\n",
      "2024-05-28 22:56:05 (WARNING): Found nans while computing loss\n",
      "2024-05-28 22:56:05 (WARNING): Found nans while computing loss\n",
      "2024-05-28 22:56:05 (WARNING): Found nans while computing loss\n",
      "2024-05-28 22:56:06 (WARNING): Found nans while computing loss\n",
      "2024-05-28 22:56:06 (WARNING): Found nans while computing loss\n"
     ]
    },
    {
     "name": "stdout",
     "output_type": "stream",
     "text": [
      "2024-05-28 22:56:06 (INFO): energy_forces_within_threshold: 0.00e+00, energy_mae: nan, forcesx_mae: nan, forcesy_mae: nan, forcesz_mae: nan, forces_mae: nan, forces_cosine_similarity: nan, forces_magnitude_error: nan, loss: 3.50e+05, lr: 9.56e-04, epoch: 1.56e-01, step: 8.60e+02\n"
     ]
    },
    {
     "name": "stderr",
     "output_type": "stream",
     "text": [
      "2024-05-28 22:56:06 (WARNING): Found nans while computing loss\n",
      "2024-05-28 22:56:06 (WARNING): Found nans while computing loss\n",
      "2024-05-28 22:56:06 (WARNING): Found nans while computing loss\n",
      "2024-05-28 22:56:06 (WARNING): Found nans while computing loss\n",
      "2024-05-28 22:56:06 (WARNING): Found nans while computing loss\n",
      "2024-05-28 22:56:06 (WARNING): Found nans while computing loss\n",
      "2024-05-28 22:56:07 (WARNING): Found nans while computing loss\n",
      "2024-05-28 22:56:07 (WARNING): Found nans while computing loss\n",
      "2024-05-28 22:56:07 (WARNING): Found nans while computing loss\n",
      "2024-05-28 22:56:07 (WARNING): Found nans while computing loss\n"
     ]
    },
    {
     "name": "stdout",
     "output_type": "stream",
     "text": [
      "2024-05-28 22:56:07 (INFO): energy_forces_within_threshold: 0.00e+00, energy_mae: nan, forcesx_mae: nan, forcesy_mae: nan, forcesz_mae: nan, forces_mae: nan, forces_cosine_similarity: nan, forces_magnitude_error: nan, loss: 4.03e+05, lr: 9.56e-04, epoch: 1.57e-01, step: 8.65e+02\n"
     ]
    },
    {
     "name": "stderr",
     "output_type": "stream",
     "text": [
      "2024-05-28 22:56:07 (WARNING): Found nans while computing loss\n",
      "2024-05-28 22:56:07 (WARNING): Found nans while computing loss\n",
      "2024-05-28 22:56:07 (WARNING): Found nans while computing loss\n",
      "2024-05-28 22:56:07 (WARNING): Found nans while computing loss\n",
      "2024-05-28 22:56:08 (WARNING): Found nans while computing loss\n",
      "2024-05-28 22:56:08 (WARNING): Found nans while computing loss\n",
      "2024-05-28 22:56:08 (WARNING): Found nans while computing loss\n",
      "2024-05-28 22:56:08 (WARNING): Found nans while computing loss\n",
      "2024-05-28 22:56:08 (WARNING): Found nans while computing loss\n",
      "2024-05-28 22:56:08 (WARNING): Found nans while computing loss\n"
     ]
    },
    {
     "name": "stdout",
     "output_type": "stream",
     "text": [
      "2024-05-28 22:56:08 (INFO): energy_forces_within_threshold: 0.00e+00, energy_mae: nan, forcesx_mae: nan, forcesy_mae: nan, forcesz_mae: nan, forces_mae: nan, forces_cosine_similarity: nan, forces_magnitude_error: nan, loss: 3.33e+05, lr: 9.56e-04, epoch: 1.58e-01, step: 8.70e+02\n"
     ]
    },
    {
     "name": "stderr",
     "output_type": "stream",
     "text": [
      "2024-05-28 22:56:08 (WARNING): Found nans while computing loss\n",
      "2024-05-28 22:56:08 (WARNING): Found nans while computing loss\n",
      "2024-05-28 22:56:09 (WARNING): Found nans while computing loss\n",
      "2024-05-28 22:56:09 (WARNING): Found nans while computing loss\n",
      "2024-05-28 22:56:09 (WARNING): Found nans while computing loss\n",
      "2024-05-28 22:56:09 (WARNING): Found nans while computing loss\n",
      "2024-05-28 22:56:09 (WARNING): Found nans while computing loss\n",
      "2024-05-28 22:56:09 (WARNING): Found nans while computing loss\n",
      "2024-05-28 22:56:09 (WARNING): Found nans while computing loss\n",
      "2024-05-28 22:56:09 (WARNING): Found nans while computing loss\n"
     ]
    },
    {
     "name": "stdout",
     "output_type": "stream",
     "text": [
      "2024-05-28 22:56:09 (INFO): energy_forces_within_threshold: 0.00e+00, energy_mae: nan, forcesx_mae: nan, forcesy_mae: nan, forcesz_mae: nan, forces_mae: nan, forces_cosine_similarity: nan, forces_magnitude_error: nan, loss: 3.54e+05, lr: 9.56e-04, epoch: 1.59e-01, step: 8.75e+02\n"
     ]
    },
    {
     "name": "stderr",
     "output_type": "stream",
     "text": [
      "2024-05-28 22:56:10 (WARNING): Found nans while computing loss\n",
      "2024-05-28 22:56:10 (WARNING): Found nans while computing loss\n",
      "2024-05-28 22:56:10 (WARNING): Found nans while computing loss\n",
      "2024-05-28 22:56:10 (WARNING): Found nans while computing loss\n",
      "2024-05-28 22:56:10 (WARNING): Found nans while computing loss\n",
      "2024-05-28 22:56:10 (WARNING): Found nans while computing loss\n",
      "2024-05-28 22:56:10 (WARNING): Found nans while computing loss\n",
      "2024-05-28 22:56:10 (WARNING): Found nans while computing loss\n",
      "2024-05-28 22:56:10 (WARNING): Found nans while computing loss\n",
      "2024-05-28 22:56:10 (WARNING): Found nans while computing loss\n"
     ]
    },
    {
     "name": "stdout",
     "output_type": "stream",
     "text": [
      "2024-05-28 22:56:11 (INFO): energy_forces_within_threshold: 0.00e+00, energy_mae: nan, forcesx_mae: nan, forcesy_mae: nan, forcesz_mae: nan, forces_mae: nan, forces_cosine_similarity: nan, forces_magnitude_error: nan, loss: 3.94e+05, lr: 9.56e-04, epoch: 1.60e-01, step: 8.80e+02\n"
     ]
    },
    {
     "name": "stderr",
     "output_type": "stream",
     "text": [
      "2024-05-28 22:56:11 (WARNING): Found nans while computing loss\n",
      "2024-05-28 22:56:11 (WARNING): Found nans while computing loss\n",
      "2024-05-28 22:56:11 (WARNING): Found nans while computing loss\n",
      "2024-05-28 22:56:11 (WARNING): Found nans while computing loss\n",
      "2024-05-28 22:56:11 (WARNING): Found nans while computing loss\n",
      "2024-05-28 22:56:11 (WARNING): Found nans while computing loss\n",
      "2024-05-28 22:56:11 (WARNING): Found nans while computing loss\n",
      "2024-05-28 22:56:11 (WARNING): Found nans while computing loss\n",
      "2024-05-28 22:56:12 (WARNING): Found nans while computing loss\n",
      "2024-05-28 22:56:12 (WARNING): Found nans while computing loss\n"
     ]
    },
    {
     "name": "stdout",
     "output_type": "stream",
     "text": [
      "2024-05-28 22:56:12 (INFO): energy_forces_within_threshold: 0.00e+00, energy_mae: nan, forcesx_mae: nan, forcesy_mae: nan, forcesz_mae: nan, forces_mae: nan, forces_cosine_similarity: nan, forces_magnitude_error: nan, loss: 4.32e+05, lr: 9.56e-04, epoch: 1.61e-01, step: 8.85e+02\n"
     ]
    },
    {
     "name": "stderr",
     "output_type": "stream",
     "text": [
      "2024-05-28 22:56:12 (WARNING): Found nans while computing loss\n",
      "2024-05-28 22:56:12 (WARNING): Found nans while computing loss\n",
      "2024-05-28 22:56:12 (WARNING): Found nans while computing loss\n",
      "2024-05-28 22:56:12 (WARNING): Found nans while computing loss\n",
      "2024-05-28 22:56:12 (WARNING): Found nans while computing loss\n",
      "2024-05-28 22:56:12 (WARNING): Found nans while computing loss\n",
      "2024-05-28 22:56:13 (WARNING): Found nans while computing loss\n",
      "2024-05-28 22:56:13 (WARNING): Found nans while computing loss\n",
      "2024-05-28 22:56:13 (WARNING): Found nans while computing loss\n",
      "2024-05-28 22:56:13 (WARNING): Found nans while computing loss\n"
     ]
    },
    {
     "name": "stdout",
     "output_type": "stream",
     "text": [
      "2024-05-28 22:56:13 (INFO): energy_forces_within_threshold: 0.00e+00, energy_mae: nan, forcesx_mae: nan, forcesy_mae: nan, forcesz_mae: nan, forces_mae: nan, forces_cosine_similarity: nan, forces_magnitude_error: nan, loss: 3.87e+05, lr: 9.56e-04, epoch: 1.62e-01, step: 8.90e+02\n"
     ]
    },
    {
     "name": "stderr",
     "output_type": "stream",
     "text": [
      "2024-05-28 22:56:13 (WARNING): Found nans while computing loss\n",
      "2024-05-28 22:56:13 (WARNING): Found nans while computing loss\n",
      "2024-05-28 22:56:13 (WARNING): Found nans while computing loss\n",
      "2024-05-28 22:56:13 (WARNING): Found nans while computing loss\n",
      "2024-05-28 22:56:14 (WARNING): Found nans while computing loss\n",
      "2024-05-28 22:56:14 (WARNING): Found nans while computing loss\n",
      "2024-05-28 22:56:14 (WARNING): Found nans while computing loss\n",
      "2024-05-28 22:56:14 (WARNING): Found nans while computing loss\n",
      "2024-05-28 22:56:14 (WARNING): Found nans while computing loss\n",
      "2024-05-28 22:56:14 (WARNING): Found nans while computing loss\n"
     ]
    },
    {
     "name": "stdout",
     "output_type": "stream",
     "text": [
      "2024-05-28 22:56:14 (INFO): energy_forces_within_threshold: 0.00e+00, energy_mae: nan, forcesx_mae: nan, forcesy_mae: nan, forcesz_mae: nan, forces_mae: nan, forces_cosine_similarity: nan, forces_magnitude_error: nan, loss: 3.59e+05, lr: 9.56e-04, epoch: 1.63e-01, step: 8.95e+02\n"
     ]
    },
    {
     "name": "stderr",
     "output_type": "stream",
     "text": [
      "2024-05-28 22:56:14 (WARNING): Found nans while computing loss\n",
      "2024-05-28 22:56:14 (WARNING): Found nans while computing loss\n",
      "2024-05-28 22:56:15 (WARNING): Found nans while computing loss\n",
      "2024-05-28 22:56:15 (WARNING): Found nans while computing loss\n",
      "2024-05-28 22:56:15 (WARNING): Found nans while computing loss\n",
      "2024-05-28 22:56:15 (WARNING): Found nans while computing loss\n",
      "2024-05-28 22:56:15 (WARNING): Found nans while computing loss\n",
      "2024-05-28 22:56:15 (WARNING): Found nans while computing loss\n",
      "2024-05-28 22:56:15 (WARNING): Found nans while computing loss\n",
      "2024-05-28 22:56:15 (WARNING): Found nans while computing loss\n"
     ]
    },
    {
     "name": "stdout",
     "output_type": "stream",
     "text": [
      "2024-05-28 22:56:15 (INFO): energy_forces_within_threshold: 0.00e+00, energy_mae: nan, forcesx_mae: nan, forcesy_mae: nan, forcesz_mae: nan, forces_mae: nan, forces_cosine_similarity: nan, forces_magnitude_error: nan, loss: 2.32e+05, lr: 9.56e-04, epoch: 1.64e-01, step: 9.00e+02\n"
     ]
    },
    {
     "name": "stderr",
     "output_type": "stream",
     "text": [
      "2024-05-28 22:56:16 (WARNING): Found nans while computing loss\n",
      "2024-05-28 22:56:16 (WARNING): Found nans while computing loss\n",
      "2024-05-28 22:56:16 (WARNING): Found nans while computing loss\n",
      "2024-05-28 22:56:16 (WARNING): Found nans while computing loss\n",
      "2024-05-28 22:56:16 (WARNING): Found nans while computing loss\n",
      "2024-05-28 22:56:16 (WARNING): Found nans while computing loss\n",
      "2024-05-28 22:56:16 (WARNING): Found nans while computing loss\n",
      "2024-05-28 22:56:16 (WARNING): Found nans while computing loss\n",
      "2024-05-28 22:56:17 (WARNING): Found nans while computing loss\n",
      "2024-05-28 22:56:17 (WARNING): Found nans while computing loss\n"
     ]
    },
    {
     "name": "stdout",
     "output_type": "stream",
     "text": [
      "2024-05-28 22:56:17 (INFO): energy_forces_within_threshold: 0.00e+00, energy_mae: nan, forcesx_mae: nan, forcesy_mae: nan, forcesz_mae: nan, forces_mae: nan, forces_cosine_similarity: nan, forces_magnitude_error: nan, loss: 3.55e+05, lr: 9.56e-04, epoch: 1.65e-01, step: 9.05e+02\n"
     ]
    },
    {
     "name": "stderr",
     "output_type": "stream",
     "text": [
      "2024-05-28 22:56:17 (WARNING): Found nans while computing loss\n",
      "2024-05-28 22:56:17 (WARNING): Found nans while computing loss\n",
      "2024-05-28 22:56:17 (WARNING): Found nans while computing loss\n",
      "2024-05-28 22:56:17 (WARNING): Found nans while computing loss\n",
      "2024-05-28 22:56:17 (WARNING): Found nans while computing loss\n",
      "2024-05-28 22:56:17 (WARNING): Found nans while computing loss\n",
      "2024-05-28 22:56:17 (WARNING): Found nans while computing loss\n",
      "2024-05-28 22:56:18 (WARNING): Found nans while computing loss\n",
      "2024-05-28 22:56:18 (WARNING): Found nans while computing loss\n"
     ]
    },
    {
     "name": "stdout",
     "output_type": "stream",
     "text": [
      "2024-05-28 22:56:18 (INFO): energy_forces_within_threshold: 0.00e+00, energy_mae: nan, forcesx_mae: nan, forcesy_mae: nan, forcesz_mae: nan, forces_mae: nan, forces_cosine_similarity: nan, forces_magnitude_error: nan, loss: 3.43e+05, lr: 9.56e-04, epoch: 1.65e-01, step: 9.10e+02\n"
     ]
    },
    {
     "name": "stderr",
     "output_type": "stream",
     "text": [
      "2024-05-28 22:56:18 (WARNING): Found nans while computing loss\n",
      "2024-05-28 22:56:18 (WARNING): Found nans while computing loss\n",
      "2024-05-28 22:56:18 (WARNING): Found nans while computing loss\n",
      "2024-05-28 22:56:18 (WARNING): Found nans while computing loss\n",
      "2024-05-28 22:56:18 (WARNING): Found nans while computing loss\n",
      "2024-05-28 22:56:18 (WARNING): Found nans while computing loss\n",
      "2024-05-28 22:56:19 (WARNING): Found nans while computing loss\n",
      "2024-05-28 22:56:19 (WARNING): Found nans while computing loss\n",
      "2024-05-28 22:56:19 (WARNING): Found nans while computing loss\n",
      "2024-05-28 22:56:19 (WARNING): Found nans while computing loss\n"
     ]
    },
    {
     "name": "stdout",
     "output_type": "stream",
     "text": [
      "2024-05-28 22:56:19 (INFO): energy_forces_within_threshold: 0.00e+00, energy_mae: nan, forcesx_mae: nan, forcesy_mae: nan, forcesz_mae: nan, forces_mae: nan, forces_cosine_similarity: nan, forces_magnitude_error: nan, loss: 3.36e+05, lr: 9.56e-04, epoch: 1.66e-01, step: 9.15e+02\n"
     ]
    },
    {
     "name": "stderr",
     "output_type": "stream",
     "text": [
      "2024-05-28 22:56:19 (WARNING): Found nans while computing loss\n",
      "2024-05-28 22:56:19 (WARNING): Found nans while computing loss\n",
      "2024-05-28 22:56:19 (WARNING): Found nans while computing loss\n",
      "2024-05-28 22:56:19 (WARNING): Found nans while computing loss\n",
      "2024-05-28 22:56:19 (WARNING): Found nans while computing loss\n",
      "2024-05-28 22:56:19 (WARNING): Found nans while computing loss\n",
      "2024-05-28 22:56:20 (WARNING): Found nans while computing loss\n",
      "2024-05-28 22:56:20 (WARNING): Found nans while computing loss\n",
      "2024-05-28 22:56:20 (WARNING): Found nans while computing loss\n",
      "2024-05-28 22:56:20 (WARNING): Found nans while computing loss\n"
     ]
    },
    {
     "name": "stdout",
     "output_type": "stream",
     "text": [
      "2024-05-28 22:56:20 (INFO): energy_forces_within_threshold: 0.00e+00, energy_mae: nan, forcesx_mae: nan, forcesy_mae: nan, forcesz_mae: nan, forces_mae: nan, forces_cosine_similarity: nan, forces_magnitude_error: nan, loss: 2.77e+05, lr: 9.56e-04, epoch: 1.67e-01, step: 9.20e+02\n"
     ]
    },
    {
     "name": "stderr",
     "output_type": "stream",
     "text": [
      "2024-05-28 22:56:20 (WARNING): Found nans while computing loss\n",
      "2024-05-28 22:56:20 (WARNING): Found nans while computing loss\n",
      "2024-05-28 22:56:20 (WARNING): Found nans while computing loss\n",
      "2024-05-28 22:56:20 (WARNING): Found nans while computing loss\n",
      "2024-05-28 22:56:21 (WARNING): Found nans while computing loss\n",
      "2024-05-28 22:56:21 (WARNING): Found nans while computing loss\n",
      "2024-05-28 22:56:21 (WARNING): Found nans while computing loss\n",
      "2024-05-28 22:56:21 (WARNING): Found nans while computing loss\n",
      "2024-05-28 22:56:21 (WARNING): Found nans while computing loss\n",
      "2024-05-28 22:56:21 (WARNING): Found nans while computing loss\n"
     ]
    },
    {
     "name": "stdout",
     "output_type": "stream",
     "text": [
      "2024-05-28 22:56:21 (INFO): energy_forces_within_threshold: 0.00e+00, energy_mae: nan, forcesx_mae: nan, forcesy_mae: nan, forcesz_mae: nan, forces_mae: nan, forces_cosine_similarity: nan, forces_magnitude_error: nan, loss: 2.94e+05, lr: 9.56e-04, epoch: 1.68e-01, step: 9.25e+02\n"
     ]
    },
    {
     "name": "stderr",
     "output_type": "stream",
     "text": [
      "2024-05-28 22:56:21 (WARNING): Found nans while computing loss\n",
      "2024-05-28 22:56:21 (WARNING): Found nans while computing loss\n",
      "2024-05-28 22:56:22 (WARNING): Found nans while computing loss\n",
      "2024-05-28 22:56:22 (WARNING): Found nans while computing loss\n",
      "2024-05-28 22:56:22 (WARNING): Found nans while computing loss\n",
      "2024-05-28 22:56:22 (WARNING): Found nans while computing loss\n",
      "2024-05-28 22:56:22 (WARNING): Found nans while computing loss\n",
      "2024-05-28 22:56:22 (WARNING): Found nans while computing loss\n",
      "2024-05-28 22:56:22 (WARNING): Found nans while computing loss\n",
      "2024-05-28 22:56:22 (WARNING): Found nans while computing loss\n"
     ]
    },
    {
     "name": "stdout",
     "output_type": "stream",
     "text": [
      "2024-05-28 22:56:22 (INFO): energy_forces_within_threshold: 0.00e+00, energy_mae: nan, forcesx_mae: nan, forcesy_mae: nan, forcesz_mae: nan, forces_mae: nan, forces_cosine_similarity: nan, forces_magnitude_error: nan, loss: 2.98e+05, lr: 9.56e-04, epoch: 1.69e-01, step: 9.30e+02\n"
     ]
    },
    {
     "name": "stderr",
     "output_type": "stream",
     "text": [
      "2024-05-28 22:56:23 (WARNING): Found nans while computing loss\n",
      "2024-05-28 22:56:23 (WARNING): Found nans while computing loss\n",
      "2024-05-28 22:56:23 (WARNING): Found nans while computing loss\n",
      "2024-05-28 22:56:23 (WARNING): Found nans while computing loss\n",
      "2024-05-28 22:56:23 (WARNING): Found nans while computing loss\n",
      "2024-05-28 22:56:23 (WARNING): Found nans while computing loss\n",
      "2024-05-28 22:56:23 (WARNING): Found nans while computing loss\n",
      "2024-05-28 22:56:23 (WARNING): Found nans while computing loss\n",
      "2024-05-28 22:56:24 (WARNING): Found nans while computing loss\n",
      "2024-05-28 22:56:24 (WARNING): Found nans while computing loss\n"
     ]
    },
    {
     "name": "stdout",
     "output_type": "stream",
     "text": [
      "2024-05-28 22:56:24 (INFO): energy_forces_within_threshold: 0.00e+00, energy_mae: nan, forcesx_mae: nan, forcesy_mae: nan, forcesz_mae: nan, forces_mae: nan, forces_cosine_similarity: nan, forces_magnitude_error: nan, loss: 2.91e+05, lr: 9.56e-04, epoch: 1.70e-01, step: 9.35e+02\n"
     ]
    },
    {
     "name": "stderr",
     "output_type": "stream",
     "text": [
      "2024-05-28 22:56:24 (WARNING): Found nans while computing loss\n",
      "2024-05-28 22:56:24 (WARNING): Found nans while computing loss\n",
      "2024-05-28 22:56:24 (WARNING): Found nans while computing loss\n",
      "2024-05-28 22:56:24 (WARNING): Found nans while computing loss\n",
      "2024-05-28 22:56:24 (WARNING): Found nans while computing loss\n",
      "2024-05-28 22:56:24 (WARNING): Found nans while computing loss\n",
      "2024-05-28 22:56:25 (WARNING): Found nans while computing loss\n",
      "2024-05-28 22:56:25 (WARNING): Found nans while computing loss\n",
      "\u001b[34m\u001b[1mwandb\u001b[0m: \u001b[32m\u001b[41mERROR\u001b[0m Run ibva3wba errored: ZeroDivisionError('float division by zero')\n",
      "\u001b[34m\u001b[1mwandb\u001b[0m: Agent Starting Run: zniejjrx with config:\n",
      "\u001b[34m\u001b[1mwandb\u001b[0m: \tbatch_size: 8\n",
      "\u001b[34m\u001b[1mwandb\u001b[0m: \tefermi_repr_length: 64\n",
      "\u001b[34m\u001b[1mwandb\u001b[0m: \tepochs: 1\n",
      "\u001b[34m\u001b[1mwandb\u001b[0m: \tlr: 0.000402047921340136\n",
      "\u001b[34m\u001b[1mwandb\u001b[0m: \u001b[33mWARNING\u001b[0m Ignored wandb.init() arg project when running a sweep\n",
      "\u001b[34m\u001b[1mwandb\u001b[0m: wandb version 0.17.0 is available!  To upgrade, please run:\n",
      "\u001b[34m\u001b[1mwandb\u001b[0m:  $ pip install wandb --upgrade\n"
     ]
    },
    {
     "data": {
      "text/html": [
       "\n",
       "                Tracking run with wandb version 0.11.2<br/>\n",
       "                Syncing run <strong style=\"color:#cdcd00\">eternal-sweep-2</strong> to <a href=\"https://wandb.ai\" target=\"_blank\">Weights & Biases</a> <a href=\"https://docs.wandb.com/integrations/jupyter.html\" target=\"_blank\">(Documentation)</a>.<br/>\n",
       "                Project page: <a href=\"https://wandb.ai/ml-mbzuai/PaiNN-170k-efermi\" target=\"_blank\">https://wandb.ai/ml-mbzuai/PaiNN-170k-efermi</a><br/>\n",
       "                Sweep page: <a href=\"https://wandb.ai/ml-mbzuai/PaiNN-170k-efermi/sweeps/5i5pgmb2\" target=\"_blank\">https://wandb.ai/ml-mbzuai/PaiNN-170k-efermi/sweeps/5i5pgmb2</a><br/>\n",
       "Run page: <a href=\"https://wandb.ai/ml-mbzuai/PaiNN-170k-efermi/runs/zniejjrx\" target=\"_blank\">https://wandb.ai/ml-mbzuai/PaiNN-170k-efermi/runs/zniejjrx</a><br/>\n",
       "                Run data is saved locally in <code>/l/users/elizaveta.starykh/OCP_project/ocp-git/wandb/run-20240528_225626-zniejjrx</code><br/><br/>\n",
       "            "
      ],
      "text/plain": [
       "<IPython.core.display.HTML object>"
      ]
     },
     "metadata": {},
     "output_type": "display_data"
    },
    {
     "name": "stderr",
     "output_type": "stream",
     "text": [
      "fatal: not a git repository (or any parent up to mount point /)\n",
      "Stopping at filesystem boundary (GIT_DISCOVERY_ACROSS_FILESYSTEM not set).\n",
      "2024-05-28 22:56:34 (WARNING): Detected old config, converting to new format. Consider updating to avoid potential incompatibilities.\n"
     ]
    },
    {
     "name": "stdout",
     "output_type": "stream",
     "text": [
      "!*!*! epoch:  1\n",
      "2024-05-28 22:56:34 (INFO): amp: true\n",
      "cmd:\n",
      "  checkpoint_dir: ./checkpoints/2024-05-28-22-57-04-S2EF-170k-efermi\n",
      "  commit: null\n",
      "  identifier: S2EF-170k-efermi\n",
      "  logs_dir: ./logs/wandb/2024-05-28-22-57-04-S2EF-170k-efermi\n",
      "  print_every: 5\n",
      "  results_dir: ./results/2024-05-28-22-57-04-S2EF-170k-efermi\n",
      "  seed: 0\n",
      "  timestamp_id: 2024-05-28-22-57-04-S2EF-170k-efermi\n",
      "dataset:\n",
      "  format: lmdb\n",
      "  grad_target_mean: 0.0\n",
      "  grad_target_std: 2.8471219290033876\n",
      "  key_mapping:\n",
      "    force: forces\n",
      "    y: energy\n",
      "  normalize_labels: true\n",
      "  src: ./data/s2ef/200k/train/output_lmdb/normalized_efermi\n",
      "  target_mean: -0.7877437496095779\n",
      "  target_std: 2.8471219290033876\n",
      "  transforms:\n",
      "    normalizer:\n",
      "      energy:\n",
      "        mean: -0.7877437496095779\n",
      "        stdev: 2.8471219290033876\n",
      "      forces:\n",
      "        mean: 0.0\n",
      "        stdev: 2.8471219290033876\n",
      "eval_metrics:\n",
      "  metrics:\n",
      "    energy:\n",
      "    - mae\n",
      "    forces:\n",
      "    - forcesx_mae\n",
      "    - forcesy_mae\n",
      "    - forcesz_mae\n",
      "    - mae\n",
      "    - cosine_similarity\n",
      "    - magnitude_error\n",
      "    misc:\n",
      "    - energy_forces_within_threshold\n",
      "gpus: 1\n",
      "logger: wandb\n",
      "loss_fns:\n",
      "- energy:\n",
      "    coefficient: 1\n",
      "    fn: mae\n",
      "- forces:\n",
      "    coefficient: 100\n",
      "    fn: l2mae\n",
      "model: ocpmodels.models.painn.painn.PaiNN\n",
      "model_attributes:\n",
      "  cutoff: 12.0\n",
      "  direct_forces: true\n",
      "  efermi_length: 64\n",
      "  hidden_channels: 512\n",
      "  max_neighbors: 50\n",
      "  num_layers: 6\n",
      "  num_rbf: 128\n",
      "  otf_graph: true\n",
      "  regress_forces: true\n",
      "  scale_file: configs/oc22/s2ef/painn/nb6_h512_n50_c12_oc22.pt\n",
      "  use_pbc: true\n",
      "noddp: false\n",
      "optim:\n",
      "  batch_size: 8\n",
      "  clip_grad_norm: 10\n",
      "  ema_decay: 0.999\n",
      "  eval_batch_size: 8\n",
      "  factor: 0.8\n",
      "  force_coefficient: 100\n",
      "  loss_energy: mae\n",
      "  loss_force: l2mae\n",
      "  lr_initial: 0.000402047921340136\n",
      "  max_epochs: 1\n",
      "  mode: min\n",
      "  num_workers: 2\n",
      "  optimizer: AdamW\n",
      "  optimizer_params:\n",
      "    amsgrad: true\n",
      "  patience: 3\n",
      "  scheduler: ReduceLROnPlateau\n",
      "outputs:\n",
      "  energy:\n",
      "    level: system\n",
      "  forces:\n",
      "    eval_on_free_atoms: true\n",
      "    level: atom\n",
      "    train_on_free_atoms: true\n",
      "slurm: {}\n",
      "task:\n",
      "  dataset: lmdb\n",
      "  description: Regressing to energies and forces for DFT trajectories from OCP\n",
      "  eval_on_free_atoms: true\n",
      "  grad_input: atomic forces\n",
      "  labels:\n",
      "  - potential energy\n",
      "  metric: mae\n",
      "  train_on_free_atoms: true\n",
      "  type: regression\n",
      "trainer: s2ef\n",
      "val_dataset:\n",
      "  src: ./data/s2ef/200k/train/output_lmdb/normalized_efermi/train_20000_systems\n",
      "\n"
     ]
    },
    {
     "name": "stderr",
     "output_type": "stream",
     "text": [
      "\u001b[34m\u001b[1mwandb\u001b[0m: \u001b[33mWARNING\u001b[0m Ignored wandb.init() arg id when running a sweep\n"
     ]
    },
    {
     "data": {
      "text/html": [
       "Finishing last run (ID:zniejjrx) before initializing another..."
      ],
      "text/plain": [
       "<IPython.core.display.HTML object>"
      ]
     },
     "metadata": {},
     "output_type": "display_data"
    },
    {
     "data": {
      "text/html": [
       "<br/>Waiting for W&B process to finish, PID 2163559<br/>Program ended successfully."
      ],
      "text/plain": [
       "<IPython.core.display.HTML object>"
      ]
     },
     "metadata": {},
     "output_type": "display_data"
    },
    {
     "data": {
      "text/html": [
       "Find user logs for this run at: <code>/l/users/elizaveta.starykh/OCP_project/ocp-git/wandb/run-20240528_225626-zniejjrx/logs/debug.log</code>"
      ],
      "text/plain": [
       "<IPython.core.display.HTML object>"
      ]
     },
     "metadata": {},
     "output_type": "display_data"
    },
    {
     "data": {
      "text/html": [
       "Find internal logs for this run at: <code>/l/users/elizaveta.starykh/OCP_project/ocp-git/wandb/run-20240528_225626-zniejjrx/logs/debug-internal.log</code>"
      ],
      "text/plain": [
       "<IPython.core.display.HTML object>"
      ]
     },
     "metadata": {},
     "output_type": "display_data"
    },
    {
     "data": {
      "text/html": [
       "Synced 6 W&B file(s), 0 media file(s), 0 artifact file(s) and 0 other file(s)"
      ],
      "text/plain": [
       "<IPython.core.display.HTML object>"
      ]
     },
     "metadata": {},
     "output_type": "display_data"
    },
    {
     "data": {
      "text/html": [
       "\n",
       "                    <br/>Synced <strong style=\"color:#cdcd00\">eternal-sweep-2</strong>: <a href=\"https://wandb.ai/ml-mbzuai/PaiNN-170k-efermi/runs/zniejjrx\" target=\"_blank\">https://wandb.ai/ml-mbzuai/PaiNN-170k-efermi/runs/zniejjrx</a><br/>\n",
       "                "
      ],
      "text/plain": [
       "<IPython.core.display.HTML object>"
      ]
     },
     "metadata": {},
     "output_type": "display_data"
    },
    {
     "data": {
      "text/html": [
       "...Successfully finished last run (ID:zniejjrx). Initializing new run:<br/><br/>"
      ],
      "text/plain": [
       "<IPython.core.display.HTML object>"
      ]
     },
     "metadata": {},
     "output_type": "display_data"
    },
    {
     "name": "stderr",
     "output_type": "stream",
     "text": [
      "\u001b[34m\u001b[1mwandb\u001b[0m: wandb version 0.17.0 is available!  To upgrade, please run:\n",
      "\u001b[34m\u001b[1mwandb\u001b[0m:  $ pip install wandb --upgrade\n"
     ]
    },
    {
     "data": {
      "text/html": [
       "\n",
       "                Tracking run with wandb version 0.11.2<br/>\n",
       "                Resuming run <strong style=\"color:#cdcd00\">S2EF-170k-efermi</strong> to <a href=\"https://wandb.ai\" target=\"_blank\">Weights & Biases</a> <a href=\"https://docs.wandb.com/integrations/jupyter.html\" target=\"_blank\">(Documentation)</a>.<br/>\n",
       "                Project page: <a href=\"https://wandb.ai/ml-mbzuai/PaiNN-170k-efermi\" target=\"_blank\">https://wandb.ai/ml-mbzuai/PaiNN-170k-efermi</a><br/>\n",
       "                Sweep page: <a href=\"https://wandb.ai/ml-mbzuai/PaiNN-170k-efermi/sweeps/5i5pgmb2\" target=\"_blank\">https://wandb.ai/ml-mbzuai/PaiNN-170k-efermi/sweeps/5i5pgmb2</a><br/>\n",
       "Run page: <a href=\"https://wandb.ai/ml-mbzuai/PaiNN-170k-efermi/runs/zniejjrx\" target=\"_blank\">https://wandb.ai/ml-mbzuai/PaiNN-170k-efermi/runs/zniejjrx</a><br/>\n",
       "                Run data is saved locally in <code>./logs/wandb/2024-05-28-22-57-04-S2EF-170k-efermi/wandb/run-20240528_225634-zniejjrx</code><br/><br/>\n",
       "            "
      ],
      "text/plain": [
       "<IPython.core.display.HTML object>"
      ]
     },
     "metadata": {},
     "output_type": "display_data"
    },
    {
     "name": "stdout",
     "output_type": "stream",
     "text": [
      "2024-05-28 22:56:42 (INFO): Loading dataset: lmdb\n",
      "2024-05-28 22:56:42 (INFO): Batch balancing is disabled for single GPU training.\n",
      "2024-05-28 22:56:42 (INFO): Batch balancing is disabled for single GPU training.\n",
      "2024-05-28 22:56:42 (INFO): Loading model: ocpmodels.models.painn.painn.PaiNN\n"
     ]
    },
    {
     "name": "stderr",
     "output_type": "stream",
     "text": [
      "/l/users/elizaveta.starykh/conda_envs/python9/lib/python3.9/site-packages/torch_geometric/nn/conv/message_passing.py:988: UserWarning: 'PaiNNMessage.jittable' is deprecated and a no-op. Please remove its usage.\n",
      "  warnings.warn(f\"'{self.__class__.__name__}.jittable' is deprecated \"\n"
     ]
    },
    {
     "name": "stdout",
     "output_type": "stream",
     "text": [
      "2024-05-28 22:56:42 (INFO): Loaded PaiNN with 20068297 parameters.\n",
      "2024-05-28 22:56:43 (INFO): energy_forces_within_threshold: 0.00e+00, energy_mae: 3.25e+02, forcesx_mae: 7.28e-02, forcesy_mae: 9.47e-02, forcesz_mae: 1.08e-01, forces_mae: 9.18e-02, forces_cosine_similarity: 1.91e-02, forces_magnitude_error: 1.45e-01, loss: 2.41e+02, lr: 4.02e-04, epoch: 2.27e-04, step: 5.00e+00\n",
      "2024-05-28 22:56:43 (INFO): energy_forces_within_threshold: 0.00e+00, energy_mae: 3.58e+02, forcesx_mae: 7.52e-02, forcesy_mae: 9.49e-02, forcesz_mae: 1.00e-01, forces_mae: 9.00e-02, forces_cosine_similarity: -2.55e-02, forces_magnitude_error: 1.37e-01, loss: 2.33e+02, lr: 4.02e-04, epoch: 4.54e-04, step: 1.00e+01\n",
      "2024-05-28 22:56:44 (INFO): energy_forces_within_threshold: 0.00e+00, energy_mae: 1.25e+03, forcesx_mae: 7.36e-02, forcesy_mae: 9.20e-02, forcesz_mae: 1.14e-01, forces_mae: 9.32e-02, forces_cosine_similarity: -2.60e-02, forces_magnitude_error: 1.51e-01, loss: 6.03e+02, lr: 4.02e-04, epoch: 6.82e-04, step: 1.50e+01\n",
      "2024-05-28 22:56:44 (INFO): energy_forces_within_threshold: 0.00e+00, energy_mae: 4.38e+02, forcesx_mae: 1.15e-01, forcesy_mae: 1.21e-01, forcesz_mae: 1.45e-01, forces_mae: 1.27e-01, forces_cosine_similarity: 3.56e-02, forces_magnitude_error: 2.12e-01, loss: 1.63e+02, lr: 4.02e-04, epoch: 9.09e-04, step: 2.00e+01\n",
      "2024-05-28 22:56:45 (INFO): energy_forces_within_threshold: 0.00e+00, energy_mae: 3.72e+02, forcesx_mae: 1.04e-01, forcesy_mae: 1.24e-01, forcesz_mae: 1.66e-01, forces_mae: 1.31e-01, forces_cosine_similarity: -3.07e-03, forces_magnitude_error: 2.11e-01, loss: 1.40e+02, lr: 4.02e-04, epoch: 1.14e-03, step: 2.50e+01\n",
      "2024-05-28 22:56:45 (INFO): energy_forces_within_threshold: 0.00e+00, energy_mae: 4.03e+02, forcesx_mae: 1.18e-01, forcesy_mae: 1.75e-01, forcesz_mae: 2.93e-01, forces_mae: 1.95e-01, forces_cosine_similarity: -2.86e-02, forces_magnitude_error: 3.41e-01, loss: 1.56e+02, lr: 4.02e-04, epoch: 1.36e-03, step: 3.00e+01\n",
      "2024-05-28 22:56:46 (INFO): energy_forces_within_threshold: 0.00e+00, energy_mae: 3.29e+02, forcesx_mae: 1.98e-01, forcesy_mae: 2.86e-01, forcesz_mae: 3.55e-01, forces_mae: 2.80e-01, forces_cosine_similarity: -3.84e-03, forces_magnitude_error: 4.72e-01, loss: 1.36e+02, lr: 4.02e-04, epoch: 1.59e-03, step: 3.50e+01\n",
      "2024-05-28 22:56:46 (INFO): energy_forces_within_threshold: 0.00e+00, energy_mae: 5.53e+02, forcesx_mae: 1.11e-01, forcesy_mae: 1.43e-01, forcesz_mae: 1.54e-01, forces_mae: 1.36e-01, forces_cosine_similarity: 2.53e-02, forces_magnitude_error: 2.28e-01, loss: 3.08e+02, lr: 4.02e-04, epoch: 1.82e-03, step: 4.00e+01\n",
      "2024-05-28 22:56:47 (INFO): energy_forces_within_threshold: 0.00e+00, energy_mae: 5.93e+02, forcesx_mae: 1.65e-01, forcesy_mae: 2.26e-01, forcesz_mae: 1.81e-01, forces_mae: 1.91e-01, forces_cosine_similarity: -2.08e-02, forces_magnitude_error: 3.41e-01, loss: 2.21e+02, lr: 4.02e-04, epoch: 2.05e-03, step: 4.50e+01\n",
      "2024-05-28 22:56:47 (INFO): energy_forces_within_threshold: 0.00e+00, energy_mae: 7.25e+02, forcesx_mae: 7.77e-02, forcesy_mae: 1.01e-01, forcesz_mae: 1.11e-01, forces_mae: 9.64e-02, forces_cosine_similarity: 1.06e-02, forces_magnitude_error: 1.72e-01, loss: 2.62e+02, lr: 4.02e-04, epoch: 2.27e-03, step: 5.00e+01\n",
      "2024-05-28 22:56:48 (INFO): energy_forces_within_threshold: 0.00e+00, energy_mae: 2.30e+02, forcesx_mae: 1.14e-01, forcesy_mae: 1.20e-01, forcesz_mae: 1.48e-01, forces_mae: 1.27e-01, forces_cosine_similarity: -2.50e-02, forces_magnitude_error: 2.29e-01, loss: 9.00e+01, lr: 4.02e-04, epoch: 2.50e-03, step: 5.50e+01\n",
      "2024-05-28 22:56:48 (INFO): energy_forces_within_threshold: 0.00e+00, energy_mae: 2.35e+02, forcesx_mae: 5.52e-02, forcesy_mae: 7.75e-02, forcesz_mae: 1.10e-01, forces_mae: 8.10e-02, forces_cosine_similarity: 3.55e-02, forces_magnitude_error: 1.47e-01, loss: 8.83e+01, lr: 4.02e-04, epoch: 2.73e-03, step: 6.00e+01\n",
      "2024-05-28 22:56:49 (INFO): energy_forces_within_threshold: 0.00e+00, energy_mae: 3.40e+02, forcesx_mae: 4.92e-02, forcesy_mae: 6.55e-02, forcesz_mae: 9.02e-02, forces_mae: 6.83e-02, forces_cosine_similarity: 2.02e-02, forces_magnitude_error: 1.15e-01, loss: 1.24e+02, lr: 4.02e-04, epoch: 2.95e-03, step: 6.50e+01\n",
      "2024-05-28 22:56:49 (INFO): energy_forces_within_threshold: 0.00e+00, energy_mae: 2.26e+02, forcesx_mae: 9.09e-02, forcesy_mae: 1.40e-01, forcesz_mae: 1.47e-01, forces_mae: 1.26e-01, forces_cosine_similarity: 3.59e-02, forces_magnitude_error: 2.21e-01, loss: 8.84e+01, lr: 4.02e-04, epoch: 3.18e-03, step: 7.00e+01\n",
      "2024-05-28 22:56:49 (INFO): energy_forces_within_threshold: 0.00e+00, energy_mae: 1.07e+02, forcesx_mae: 1.15e-01, forcesy_mae: 1.38e-01, forcesz_mae: 2.06e-01, forces_mae: 1.53e-01, forces_cosine_similarity: -2.92e-02, forces_magnitude_error: 2.53e-01, loss: 4.88e+01, lr: 4.02e-04, epoch: 3.41e-03, step: 7.50e+01\n",
      "2024-05-28 22:56:50 (INFO): energy_forces_within_threshold: 0.00e+00, energy_mae: 2.18e+02, forcesx_mae: 1.12e-01, forcesy_mae: 1.60e-01, forcesz_mae: 2.65e-01, forces_mae: 1.79e-01, forces_cosine_similarity: 2.38e-02, forces_magnitude_error: 3.11e-01, loss: 8.97e+01, lr: 4.02e-04, epoch: 3.64e-03, step: 8.00e+01\n",
      "2024-05-28 22:56:50 (INFO): energy_forces_within_threshold: 0.00e+00, energy_mae: 1.57e+02, forcesx_mae: 1.13e-01, forcesy_mae: 1.89e-01, forcesz_mae: 2.20e-01, forces_mae: 1.74e-01, forces_cosine_similarity: -1.99e-02, forces_magnitude_error: 3.06e-01, loss: 6.81e+01, lr: 4.02e-04, epoch: 3.86e-03, step: 8.50e+01\n",
      "2024-05-28 22:56:51 (INFO): energy_forces_within_threshold: 0.00e+00, energy_mae: 1.46e+02, forcesx_mae: 1.00e-01, forcesy_mae: 1.27e-01, forcesz_mae: 2.16e-01, forces_mae: 1.48e-01, forces_cosine_similarity: 1.61e-02, forces_magnitude_error: 2.72e-01, loss: 6.26e+01, lr: 4.02e-04, epoch: 4.09e-03, step: 9.00e+01\n",
      "2024-05-28 22:56:51 (INFO): energy_forces_within_threshold: 0.00e+00, energy_mae: 1.73e+02, forcesx_mae: 6.71e-02, forcesy_mae: 1.01e-01, forcesz_mae: 1.19e-01, forces_mae: 9.56e-02, forces_cosine_similarity: -2.57e-02, forces_magnitude_error: 1.68e-01, loss: 6.79e+01, lr: 4.02e-04, epoch: 4.32e-03, step: 9.50e+01\n",
      "2024-05-28 22:56:52 (INFO): energy_forces_within_threshold: 0.00e+00, energy_mae: 1.68e+02, forcesx_mae: 7.13e-02, forcesy_mae: 1.00e-01, forcesz_mae: 1.31e-01, forces_mae: 1.01e-01, forces_cosine_similarity: -4.74e-02, forces_magnitude_error: 1.80e-01, loss: 6.63e+01, lr: 4.02e-04, epoch: 4.54e-03, step: 1.00e+02\n",
      "2024-05-28 22:56:52 (INFO): energy_forces_within_threshold: 0.00e+00, energy_mae: 9.61e+01, forcesx_mae: 4.26e-02, forcesy_mae: 4.12e-02, forcesz_mae: 5.94e-02, forces_mae: 4.77e-02, forces_cosine_similarity: 2.38e-02, forces_magnitude_error: 8.03e-02, loss: 3.71e+01, lr: 4.02e-04, epoch: 4.77e-03, step: 1.05e+02\n",
      "2024-05-28 22:56:53 (INFO): energy_forces_within_threshold: 0.00e+00, energy_mae: 1.19e+02, forcesx_mae: 1.08e-01, forcesy_mae: 1.05e-01, forcesz_mae: 1.51e-01, forces_mae: 1.21e-01, forces_cosine_similarity: 7.72e-03, forces_magnitude_error: 2.16e-01, loss: 5.06e+01, lr: 4.02e-04, epoch: 5.00e-03, step: 1.10e+02\n",
      "2024-05-28 22:56:53 (INFO): energy_forces_within_threshold: 0.00e+00, energy_mae: 1.17e+02, forcesx_mae: 8.66e-02, forcesy_mae: 1.03e-01, forcesz_mae: 1.12e-01, forces_mae: 1.00e-01, forces_cosine_similarity: -6.96e-03, forces_magnitude_error: 1.78e-01, loss: 4.85e+01, lr: 4.02e-04, epoch: 5.23e-03, step: 1.15e+02\n",
      "2024-05-28 22:56:54 (INFO): energy_forces_within_threshold: 0.00e+00, energy_mae: 1.40e+02, forcesx_mae: 8.23e-02, forcesy_mae: 8.87e-02, forcesz_mae: 1.78e-01, forces_mae: 1.16e-01, forces_cosine_similarity: -6.36e-03, forces_magnitude_error: 2.18e-01, loss: 5.82e+01, lr: 4.02e-04, epoch: 5.45e-03, step: 1.20e+02\n",
      "2024-05-28 22:56:54 (INFO): energy_forces_within_threshold: 0.00e+00, energy_mae: 9.33e+01, forcesx_mae: 8.07e-02, forcesy_mae: 8.44e-02, forcesz_mae: 1.21e-01, forces_mae: 9.55e-02, forces_cosine_similarity: -2.04e-04, forces_magnitude_error: 1.67e-01, loss: 3.96e+01, lr: 4.02e-04, epoch: 5.68e-03, step: 1.25e+02\n",
      "2024-05-28 22:56:55 (INFO): energy_forces_within_threshold: 0.00e+00, energy_mae: 6.53e+01, forcesx_mae: 8.52e-02, forcesy_mae: 1.05e-01, forcesz_mae: 1.50e-01, forces_mae: 1.14e-01, forces_cosine_similarity: -8.50e-03, forces_magnitude_error: 1.93e-01, loss: 3.13e+01, lr: 4.02e-04, epoch: 5.91e-03, step: 1.30e+02\n",
      "2024-05-28 22:56:55 (INFO): energy_forces_within_threshold: 0.00e+00, energy_mae: 6.36e+01, forcesx_mae: 7.91e-02, forcesy_mae: 1.33e-01, forcesz_mae: 1.19e-01, forces_mae: 1.10e-01, forces_cosine_similarity: -4.10e-02, forces_magnitude_error: 1.78e-01, loss: 3.01e+01, lr: 4.02e-04, epoch: 6.14e-03, step: 1.35e+02\n",
      "2024-05-28 22:56:56 (INFO): energy_forces_within_threshold: 0.00e+00, energy_mae: 8.47e+01, forcesx_mae: 7.27e-02, forcesy_mae: 7.52e-02, forcesz_mae: 9.71e-02, forces_mae: 8.16e-02, forces_cosine_similarity: 2.74e-02, forces_magnitude_error: 1.36e-01, loss: 3.57e+01, lr: 4.02e-04, epoch: 6.36e-03, step: 1.40e+02\n",
      "2024-05-28 22:56:56 (INFO): energy_forces_within_threshold: 0.00e+00, energy_mae: 1.20e+02, forcesx_mae: 4.90e-02, forcesy_mae: 6.18e-02, forcesz_mae: 6.77e-02, forces_mae: 5.95e-02, forces_cosine_similarity: 1.69e-03, forces_magnitude_error: 1.01e-01, loss: 4.63e+01, lr: 4.02e-04, epoch: 6.59e-03, step: 1.45e+02\n",
      "2024-05-28 22:56:57 (INFO): energy_forces_within_threshold: 0.00e+00, energy_mae: 1.16e+02, forcesx_mae: 6.14e-02, forcesy_mae: 9.02e-02, forcesz_mae: 8.46e-02, forces_mae: 7.88e-02, forces_cosine_similarity: -1.88e-02, forces_magnitude_error: 1.44e-01, loss: 4.66e+01, lr: 4.02e-04, epoch: 6.82e-03, step: 1.50e+02\n",
      "2024-05-28 22:56:57 (INFO): energy_forces_within_threshold: 0.00e+00, energy_mae: 8.68e+01, forcesx_mae: 1.23e-01, forcesy_mae: 1.91e-01, forcesz_mae: 1.52e-01, forces_mae: 1.55e-01, forces_cosine_similarity: 1.63e-02, forces_magnitude_error: 3.19e-01, loss: 4.18e+01, lr: 4.02e-04, epoch: 7.04e-03, step: 1.55e+02\n",
      "2024-05-28 22:56:57 (INFO): energy_forces_within_threshold: 0.00e+00, energy_mae: 4.25e+01, forcesx_mae: 3.66e-02, forcesy_mae: 5.39e-02, forcesz_mae: 5.57e-02, forces_mae: 4.87e-02, forces_cosine_similarity: -1.52e-02, forces_magnitude_error: 9.33e-02, loss: 1.86e+01, lr: 4.02e-04, epoch: 7.27e-03, step: 1.60e+02\n",
      "2024-05-28 22:56:58 (INFO): energy_forces_within_threshold: 0.00e+00, energy_mae: 3.91e+01, forcesx_mae: 7.72e-02, forcesy_mae: 9.19e-02, forcesz_mae: 9.02e-02, forces_mae: 8.64e-02, forces_cosine_similarity: 4.01e-02, forces_magnitude_error: 1.70e-01, loss: 1.99e+01, lr: 4.02e-04, epoch: 7.50e-03, step: 1.65e+02\n",
      "2024-05-28 22:56:59 (INFO): energy_forces_within_threshold: 0.00e+00, energy_mae: 7.48e+01, forcesx_mae: 6.79e-02, forcesy_mae: 7.98e-02, forcesz_mae: 7.99e-02, forces_mae: 7.58e-02, forces_cosine_similarity: 1.62e-02, forces_magnitude_error: 1.46e-01, loss: 3.19e+01, lr: 4.02e-04, epoch: 7.73e-03, step: 1.70e+02\n",
      "2024-05-28 22:56:59 (INFO): energy_forces_within_threshold: 0.00e+00, energy_mae: 1.30e+02, forcesx_mae: 8.91e-02, forcesy_mae: 1.14e-01, forcesz_mae: 1.21e-01, forces_mae: 1.08e-01, forces_cosine_similarity: 2.40e-03, forces_magnitude_error: 2.12e-01, loss: 5.35e+01, lr: 4.02e-04, epoch: 7.95e-03, step: 1.75e+02\n",
      "2024-05-28 22:57:00 (INFO): energy_forces_within_threshold: 0.00e+00, energy_mae: 9.50e+01, forcesx_mae: 1.28e-01, forcesy_mae: 1.46e-01, forcesz_mae: 1.61e-01, forces_mae: 1.45e-01, forces_cosine_similarity: -9.51e-03, forces_magnitude_error: 2.89e-01, loss: 4.40e+01, lr: 4.02e-04, epoch: 8.18e-03, step: 1.80e+02\n",
      "2024-05-28 22:57:00 (INFO): energy_forces_within_threshold: 0.00e+00, energy_mae: 8.28e+01, forcesx_mae: 6.17e-02, forcesy_mae: 7.03e-02, forcesz_mae: 8.03e-02, forces_mae: 7.08e-02, forces_cosine_similarity: 3.83e-03, forces_magnitude_error: 1.36e-01, loss: 3.42e+01, lr: 4.02e-04, epoch: 8.41e-03, step: 1.85e+02\n",
      "2024-05-28 22:57:01 (INFO): energy_forces_within_threshold: 0.00e+00, energy_mae: 7.35e+01, forcesx_mae: 6.00e-02, forcesy_mae: 7.16e-02, forcesz_mae: 7.32e-02, forces_mae: 6.83e-02, forces_cosine_similarity: 5.67e-02, forces_magnitude_error: 1.35e-01, loss: 3.08e+01, lr: 4.02e-04, epoch: 8.63e-03, step: 1.90e+02\n",
      "2024-05-28 22:57:01 (INFO): energy_forces_within_threshold: 0.00e+00, energy_mae: 5.80e+01, forcesx_mae: 4.66e-02, forcesy_mae: 4.95e-02, forcesz_mae: 5.34e-02, forces_mae: 4.98e-02, forces_cosine_similarity: -2.52e-02, forces_magnitude_error: 9.63e-02, loss: 2.39e+01, lr: 4.02e-04, epoch: 8.86e-03, step: 1.95e+02\n",
      "2024-05-28 22:57:01 (INFO): energy_forces_within_threshold: 0.00e+00, energy_mae: 5.56e+01, forcesx_mae: 3.91e-02, forcesy_mae: 4.93e-02, forcesz_mae: 4.90e-02, forces_mae: 4.58e-02, forces_cosine_similarity: 1.03e-02, forces_magnitude_error: 8.77e-02, loss: 2.30e+01, lr: 4.02e-04, epoch: 9.09e-03, step: 2.00e+02\n",
      "2024-05-28 22:57:02 (INFO): energy_forces_within_threshold: 0.00e+00, energy_mae: 6.34e+01, forcesx_mae: 9.59e-02, forcesy_mae: 9.66e-02, forcesz_mae: 1.30e-01, forces_mae: 1.08e-01, forces_cosine_similarity: 3.41e-02, forces_magnitude_error: 2.09e-01, loss: 2.99e+01, lr: 4.02e-04, epoch: 9.32e-03, step: 2.05e+02\n",
      "2024-05-28 22:57:02 (INFO): energy_forces_within_threshold: 0.00e+00, energy_mae: 7.57e+01, forcesx_mae: 6.16e-02, forcesy_mae: 6.76e-02, forcesz_mae: 7.27e-02, forces_mae: 6.73e-02, forces_cosine_similarity: 2.87e-02, forces_magnitude_error: 1.21e-01, loss: 3.14e+01, lr: 4.02e-04, epoch: 9.54e-03, step: 2.10e+02\n",
      "2024-05-28 22:57:03 (INFO): energy_forces_within_threshold: 0.00e+00, energy_mae: 5.24e+01, forcesx_mae: 6.54e-02, forcesy_mae: 7.29e-02, forcesz_mae: 7.67e-02, forces_mae: 7.17e-02, forces_cosine_similarity: 5.04e-03, forces_magnitude_error: 1.38e-01, loss: 2.36e+01, lr: 4.02e-04, epoch: 9.77e-03, step: 2.15e+02\n",
      "2024-05-28 22:57:03 (INFO): energy_forces_within_threshold: 0.00e+00, energy_mae: 5.93e+01, forcesx_mae: 6.21e-02, forcesy_mae: 7.97e-02, forcesz_mae: 7.53e-02, forces_mae: 7.24e-02, forces_cosine_similarity: 2.44e-02, forces_magnitude_error: 1.42e-01, loss: 2.59e+01, lr: 4.02e-04, epoch: 1.00e-02, step: 2.20e+02\n",
      "2024-05-28 22:57:04 (INFO): energy_forces_within_threshold: 0.00e+00, energy_mae: 2.32e+01, forcesx_mae: 7.59e-02, forcesy_mae: 9.45e-02, forcesz_mae: 1.03e-01, forces_mae: 9.12e-02, forces_cosine_similarity: -2.34e-02, forces_magnitude_error: 1.75e-01, loss: 1.44e+01, lr: 4.02e-04, epoch: 1.02e-02, step: 2.25e+02\n",
      "2024-05-28 22:57:04 (INFO): energy_forces_within_threshold: 0.00e+00, energy_mae: 4.08e+01, forcesx_mae: 6.23e-02, forcesy_mae: 8.17e-02, forcesz_mae: 9.34e-02, forces_mae: 7.92e-02, forces_cosine_similarity: 1.10e-02, forces_magnitude_error: 1.51e-01, loss: 2.00e+01, lr: 4.02e-04, epoch: 1.05e-02, step: 2.30e+02\n",
      "2024-05-28 22:57:05 (INFO): energy_forces_within_threshold: 0.00e+00, energy_mae: 3.47e+01, forcesx_mae: 1.26e-01, forcesy_mae: 1.57e-01, forcesz_mae: 1.95e-01, forces_mae: 1.59e-01, forces_cosine_similarity: -1.81e-03, forces_magnitude_error: 3.23e-01, loss: 2.35e+01, lr: 4.02e-04, epoch: 1.07e-02, step: 2.35e+02\n",
      "2024-05-28 22:57:05 (INFO): energy_forces_within_threshold: 0.00e+00, energy_mae: 5.38e+01, forcesx_mae: 6.30e-02, forcesy_mae: 6.82e-02, forcesz_mae: 8.75e-02, forces_mae: 7.29e-02, forces_cosine_similarity: -7.49e-03, forces_magnitude_error: 1.36e-01, loss: 2.43e+01, lr: 4.02e-04, epoch: 1.09e-02, step: 2.40e+02\n",
      "2024-05-28 22:57:06 (INFO): energy_forces_within_threshold: 0.00e+00, energy_mae: 5.13e+01, forcesx_mae: 5.01e-02, forcesy_mae: 6.34e-02, forcesz_mae: 6.41e-02, forces_mae: 5.92e-02, forces_cosine_similarity: 2.36e-02, forces_magnitude_error: 1.15e-01, loss: 2.23e+01, lr: 4.02e-04, epoch: 1.11e-02, step: 2.45e+02\n",
      "2024-05-28 22:57:06 (INFO): energy_forces_within_threshold: 0.00e+00, energy_mae: 3.44e+01, forcesx_mae: 4.48e-02, forcesy_mae: 6.27e-02, forcesz_mae: 5.79e-02, forces_mae: 5.51e-02, forces_cosine_similarity: 4.66e-02, forces_magnitude_error: 1.08e-01, loss: 1.62e+01, lr: 4.02e-04, epoch: 1.14e-02, step: 2.50e+02\n",
      "2024-05-28 22:57:07 (INFO): energy_forces_within_threshold: 0.00e+00, energy_mae: 2.26e+01, forcesx_mae: 9.56e-02, forcesy_mae: 1.03e-01, forcesz_mae: 1.07e-01, forces_mae: 1.02e-01, forces_cosine_similarity: 1.05e-02, forces_magnitude_error: 2.00e-01, loss: 1.52e+01, lr: 4.02e-04, epoch: 1.16e-02, step: 2.55e+02\n",
      "2024-05-28 22:57:07 (INFO): energy_forces_within_threshold: 0.00e+00, energy_mae: 3.21e+01, forcesx_mae: 5.48e-02, forcesy_mae: 6.06e-02, forcesz_mae: 5.59e-02, forces_mae: 5.71e-02, forces_cosine_similarity: 2.89e-02, forces_magnitude_error: 1.09e-01, loss: 1.54e+01, lr: 4.02e-04, epoch: 1.18e-02, step: 2.60e+02\n",
      "2024-05-28 22:57:08 (INFO): energy_forces_within_threshold: 0.00e+00, energy_mae: 3.38e+01, forcesx_mae: 6.14e-02, forcesy_mae: 7.53e-02, forcesz_mae: 9.41e-02, forces_mae: 7.70e-02, forces_cosine_similarity: 4.29e-02, forces_magnitude_error: 1.51e-01, loss: 1.75e+01, lr: 4.02e-04, epoch: 1.20e-02, step: 2.65e+02\n",
      "2024-05-28 22:57:08 (INFO): energy_forces_within_threshold: 0.00e+00, energy_mae: 6.26e+01, forcesx_mae: 6.26e-02, forcesy_mae: 6.69e-02, forcesz_mae: 7.15e-02, forces_mae: 6.70e-02, forces_cosine_similarity: 9.53e-03, forces_magnitude_error: 1.27e-01, loss: 2.68e+01, lr: 4.02e-04, epoch: 1.23e-02, step: 2.70e+02\n",
      "2024-05-28 22:57:09 (INFO): energy_forces_within_threshold: 0.00e+00, energy_mae: 3.87e+01, forcesx_mae: 8.67e-02, forcesy_mae: 9.76e-02, forcesz_mae: 1.36e-01, forces_mae: 1.07e-01, forces_cosine_similarity: 3.11e-02, forces_magnitude_error: 2.17e-01, loss: 2.18e+01, lr: 4.02e-04, epoch: 1.25e-02, step: 2.75e+02\n",
      "2024-05-28 22:57:09 (INFO): energy_forces_within_threshold: 0.00e+00, energy_mae: 2.26e+01, forcesx_mae: 6.69e-02, forcesy_mae: 6.64e-02, forcesz_mae: 7.28e-02, forces_mae: 6.87e-02, forces_cosine_similarity: 3.37e-03, forces_magnitude_error: 1.31e-01, loss: 1.29e+01, lr: 4.02e-04, epoch: 1.27e-02, step: 2.80e+02\n",
      "2024-05-28 22:57:10 (INFO): energy_forces_within_threshold: 0.00e+00, energy_mae: 4.01e+01, forcesx_mae: 5.19e-02, forcesy_mae: 5.88e-02, forcesz_mae: 7.66e-02, forces_mae: 6.24e-02, forces_cosine_similarity: -3.84e-02, forces_magnitude_error: 1.13e-01, loss: 1.86e+01, lr: 4.02e-04, epoch: 1.30e-02, step: 2.85e+02\n",
      "2024-05-28 22:57:10 (INFO): energy_forces_within_threshold: 0.00e+00, energy_mae: 4.02e+01, forcesx_mae: 5.12e-02, forcesy_mae: 7.79e-02, forcesz_mae: 7.10e-02, forces_mae: 6.67e-02, forces_cosine_similarity: 2.31e-02, forces_magnitude_error: 1.31e-01, loss: 1.93e+01, lr: 4.02e-04, epoch: 1.32e-02, step: 2.90e+02\n",
      "2024-05-28 22:57:11 (INFO): energy_forces_within_threshold: 0.00e+00, energy_mae: 3.27e+01, forcesx_mae: 6.99e-02, forcesy_mae: 8.17e-02, forcesz_mae: 8.95e-02, forces_mae: 8.04e-02, forces_cosine_similarity: 1.54e-03, forces_magnitude_error: 1.59e-01, loss: 1.72e+01, lr: 4.02e-04, epoch: 1.34e-02, step: 2.95e+02\n",
      "2024-05-28 22:57:11 (INFO): energy_forces_within_threshold: 0.00e+00, energy_mae: 1.47e+01, forcesx_mae: 8.35e-02, forcesy_mae: 1.03e-01, forcesz_mae: 1.34e-01, forces_mae: 1.07e-01, forces_cosine_similarity: -2.22e-02, forces_magnitude_error: 2.16e-01, loss: 1.29e+01, lr: 4.02e-04, epoch: 1.36e-02, step: 3.00e+02\n",
      "2024-05-28 22:57:11 (INFO): energy_forces_within_threshold: 0.00e+00, energy_mae: 2.20e+01, forcesx_mae: 4.18e-02, forcesy_mae: 5.76e-02, forcesz_mae: 5.77e-02, forces_mae: 5.24e-02, forces_cosine_similarity: 3.46e-02, forces_magnitude_error: 9.35e-02, loss: 1.15e+01, lr: 4.02e-04, epoch: 1.39e-02, step: 3.05e+02\n",
      "2024-05-28 22:57:12 (INFO): energy_forces_within_threshold: 0.00e+00, energy_mae: 1.65e+01, forcesx_mae: 5.67e-02, forcesy_mae: 7.64e-02, forcesz_mae: 7.87e-02, forces_mae: 7.06e-02, forces_cosine_similarity: -1.17e-02, forces_magnitude_error: 1.40e-01, loss: 1.09e+01, lr: 4.02e-04, epoch: 1.41e-02, step: 3.10e+02\n",
      "2024-05-28 22:57:12 (INFO): energy_forces_within_threshold: 0.00e+00, energy_mae: 1.40e+01, forcesx_mae: 6.43e-02, forcesy_mae: 8.12e-02, forcesz_mae: 8.82e-02, forces_mae: 7.79e-02, forces_cosine_similarity: -1.92e-02, forces_magnitude_error: 1.52e-01, loss: 1.03e+01, lr: 4.02e-04, epoch: 1.43e-02, step: 3.15e+02\n",
      "2024-05-28 22:57:13 (INFO): energy_forces_within_threshold: 0.00e+00, energy_mae: 2.61e+01, forcesx_mae: 5.47e-02, forcesy_mae: 6.85e-02, forcesz_mae: 6.15e-02, forces_mae: 6.16e-02, forces_cosine_similarity: -6.69e-04, forces_magnitude_error: 1.20e-01, loss: 1.35e+01, lr: 4.02e-04, epoch: 1.45e-02, step: 3.20e+02\n",
      "2024-05-28 22:57:13 (INFO): energy_forces_within_threshold: 0.00e+00, energy_mae: 2.03e+01, forcesx_mae: 6.03e-02, forcesy_mae: 7.20e-02, forcesz_mae: 7.79e-02, forces_mae: 7.01e-02, forces_cosine_similarity: -2.52e-04, forces_magnitude_error: 1.40e-01, loss: 1.23e+01, lr: 4.02e-04, epoch: 1.48e-02, step: 3.25e+02\n",
      "2024-05-28 22:57:14 (INFO): energy_forces_within_threshold: 0.00e+00, energy_mae: 1.70e+01, forcesx_mae: 7.00e-02, forcesy_mae: 1.03e-01, forcesz_mae: 9.54e-02, forces_mae: 8.96e-02, forces_cosine_similarity: 4.91e-02, forces_magnitude_error: 1.84e-01, loss: 1.27e+01, lr: 4.02e-04, epoch: 1.50e-02, step: 3.30e+02\n",
      "2024-05-28 22:57:14 (INFO): energy_forces_within_threshold: 0.00e+00, energy_mae: 4.77e+01, forcesx_mae: 6.96e-02, forcesy_mae: 8.16e-02, forcesz_mae: 1.15e-01, forces_mae: 8.89e-02, forces_cosine_similarity: -1.95e-02, forces_magnitude_error: 1.83e-01, loss: 2.34e+01, lr: 4.02e-04, epoch: 1.52e-02, step: 3.35e+02\n",
      "2024-05-28 22:57:15 (INFO): energy_forces_within_threshold: 0.00e+00, energy_mae: 3.21e+01, forcesx_mae: 5.89e-02, forcesy_mae: 7.21e-02, forcesz_mae: 7.64e-02, forces_mae: 6.91e-02, forces_cosine_similarity: -1.10e-02, forces_magnitude_error: 1.40e-01, loss: 1.63e+01, lr: 4.02e-04, epoch: 1.55e-02, step: 3.40e+02\n",
      "2024-05-28 22:57:15 (INFO): energy_forces_within_threshold: 0.00e+00, energy_mae: 3.16e+01, forcesx_mae: 6.90e-02, forcesy_mae: 1.13e-01, forcesz_mae: 1.07e-01, forces_mae: 9.63e-02, forces_cosine_similarity: -7.69e-03, forces_magnitude_error: 1.93e-01, loss: 1.80e+01, lr: 4.02e-04, epoch: 1.57e-02, step: 3.45e+02\n",
      "2024-05-28 22:57:16 (INFO): energy_forces_within_threshold: 0.00e+00, energy_mae: 3.50e+01, forcesx_mae: 7.95e-02, forcesy_mae: 1.08e-01, forcesz_mae: 1.19e-01, forces_mae: 1.02e-01, forces_cosine_similarity: 2.16e-02, forces_magnitude_error: 2.03e-01, loss: 1.92e+01, lr: 4.02e-04, epoch: 1.59e-02, step: 3.50e+02\n",
      "2024-05-28 22:57:16 (INFO): energy_forces_within_threshold: 0.00e+00, energy_mae: 2.11e+01, forcesx_mae: 5.31e-02, forcesy_mae: 6.45e-02, forcesz_mae: 7.07e-02, forces_mae: 6.28e-02, forces_cosine_similarity: 7.83e-03, forces_magnitude_error: 1.26e-01, loss: 1.19e+01, lr: 4.02e-04, epoch: 1.61e-02, step: 3.55e+02\n",
      "2024-05-28 22:57:16 (INFO): energy_forces_within_threshold: 0.00e+00, energy_mae: 1.38e+01, forcesx_mae: 8.12e-02, forcesy_mae: 9.33e-02, forcesz_mae: 8.89e-02, forces_mae: 8.78e-02, forces_cosine_similarity: -1.99e-03, forces_magnitude_error: 1.76e-01, loss: 1.15e+01, lr: 4.02e-04, epoch: 1.64e-02, step: 3.60e+02\n",
      "2024-05-28 22:57:17 (INFO): energy_forces_within_threshold: 0.00e+00, energy_mae: 1.07e+01, forcesx_mae: 5.74e-02, forcesy_mae: 8.56e-02, forcesz_mae: 8.71e-02, forces_mae: 7.67e-02, forces_cosine_similarity: 1.72e-02, forces_magnitude_error: 1.60e-01, loss: 9.47e+00, lr: 4.02e-04, epoch: 1.66e-02, step: 3.65e+02\n",
      "2024-05-28 22:57:17 (INFO): energy_forces_within_threshold: 0.00e+00, energy_mae: 1.91e+01, forcesx_mae: 6.21e-02, forcesy_mae: 6.79e-02, forcesz_mae: 6.48e-02, forces_mae: 6.49e-02, forces_cosine_similarity: 2.24e-02, forces_magnitude_error: 1.29e-01, loss: 1.15e+01, lr: 4.02e-04, epoch: 1.68e-02, step: 3.70e+02\n",
      "2024-05-28 22:57:18 (INFO): energy_forces_within_threshold: 0.00e+00, energy_mae: 2.33e+01, forcesx_mae: 6.36e-02, forcesy_mae: 8.50e-02, forcesz_mae: 9.41e-02, forces_mae: 8.09e-02, forces_cosine_similarity: 3.47e-03, forces_magnitude_error: 1.63e-01, loss: 1.38e+01, lr: 4.02e-04, epoch: 1.70e-02, step: 3.75e+02\n",
      "2024-05-28 22:57:18 (INFO): energy_forces_within_threshold: 0.00e+00, energy_mae: 2.82e+01, forcesx_mae: 7.26e-02, forcesy_mae: 8.49e-02, forcesz_mae: 9.11e-02, forces_mae: 8.29e-02, forces_cosine_similarity: -2.38e-02, forces_magnitude_error: 1.70e-01, loss: 1.59e+01, lr: 4.02e-04, epoch: 1.73e-02, step: 3.80e+02\n",
      "2024-05-28 22:57:19 (INFO): energy_forces_within_threshold: 0.00e+00, energy_mae: 2.22e+01, forcesx_mae: 8.16e-02, forcesy_mae: 1.12e-01, forcesz_mae: 1.23e-01, forces_mae: 1.06e-01, forces_cosine_similarity: -2.12e-03, forces_magnitude_error: 2.14e-01, loss: 1.55e+01, lr: 4.02e-04, epoch: 1.75e-02, step: 3.85e+02\n",
      "2024-05-28 22:57:19 (INFO): energy_forces_within_threshold: 0.00e+00, energy_mae: 2.24e+01, forcesx_mae: 5.96e-02, forcesy_mae: 7.14e-02, forcesz_mae: 6.76e-02, forces_mae: 6.62e-02, forces_cosine_similarity: 1.86e-03, forces_magnitude_error: 1.36e-01, loss: 1.28e+01, lr: 4.02e-04, epoch: 1.77e-02, step: 3.90e+02\n",
      "2024-05-28 22:57:20 (INFO): energy_forces_within_threshold: 0.00e+00, energy_mae: 1.24e+01, forcesx_mae: 5.23e-02, forcesy_mae: 5.85e-02, forcesz_mae: 5.43e-02, forces_mae: 5.50e-02, forces_cosine_similarity: 4.78e-03, forces_magnitude_error: 1.10e-01, loss: 8.32e+00, lr: 4.02e-04, epoch: 1.80e-02, step: 3.95e+02\n",
      "2024-05-28 22:57:20 (INFO): energy_forces_within_threshold: 0.00e+00, energy_mae: 8.68e+00, forcesx_mae: 4.07e-02, forcesy_mae: 5.50e-02, forcesz_mae: 5.75e-02, forces_mae: 5.11e-02, forces_cosine_similarity: -1.46e-02, forces_magnitude_error: 1.03e-01, loss: 6.77e+00, lr: 4.02e-04, epoch: 1.82e-02, step: 4.00e+02\n",
      "2024-05-28 22:57:21 (INFO): energy_forces_within_threshold: 0.00e+00, energy_mae: 2.36e+01, forcesx_mae: 5.68e-02, forcesy_mae: 6.12e-02, forcesz_mae: 6.87e-02, forces_mae: 6.22e-02, forces_cosine_similarity: -3.02e-02, forces_magnitude_error: 1.25e-01, loss: 1.28e+01, lr: 4.02e-04, epoch: 1.84e-02, step: 4.05e+02\n",
      "2024-05-28 22:57:21 (INFO): energy_forces_within_threshold: 0.00e+00, energy_mae: 1.27e+01, forcesx_mae: 9.25e-02, forcesy_mae: 1.03e-01, forcesz_mae: 1.01e-01, forces_mae: 9.89e-02, forces_cosine_similarity: 8.44e-03, forces_magnitude_error: 2.00e-01, loss: 1.18e+01, lr: 4.02e-04, epoch: 1.86e-02, step: 4.10e+02\n",
      "2024-05-28 22:57:22 (INFO): energy_forces_within_threshold: 0.00e+00, energy_mae: 1.72e+01, forcesx_mae: 7.71e-02, forcesy_mae: 8.01e-02, forcesz_mae: 9.88e-02, forces_mae: 8.53e-02, forces_cosine_similarity: -1.66e-02, forces_magnitude_error: 1.70e-01, loss: 1.21e+01, lr: 4.02e-04, epoch: 1.89e-02, step: 4.15e+02\n",
      "2024-05-28 22:57:22 (INFO): energy_forces_within_threshold: 0.00e+00, energy_mae: 1.45e+01, forcesx_mae: 5.47e-02, forcesy_mae: 9.71e-02, forcesz_mae: 7.06e-02, forces_mae: 7.41e-02, forces_cosine_similarity: 2.21e-02, forces_magnitude_error: 1.53e-01, loss: 1.05e+01, lr: 4.02e-04, epoch: 1.91e-02, step: 4.20e+02\n",
      "2024-05-28 22:57:22 (INFO): energy_forces_within_threshold: 0.00e+00, energy_mae: 1.75e+01, forcesx_mae: 5.55e-02, forcesy_mae: 6.06e-02, forcesz_mae: 5.60e-02, forces_mae: 5.74e-02, forces_cosine_similarity: 9.67e-03, forces_magnitude_error: 1.13e-01, loss: 1.02e+01, lr: 4.02e-04, epoch: 1.93e-02, step: 4.25e+02\n",
      "2024-05-28 22:57:23 (INFO): energy_forces_within_threshold: 0.00e+00, energy_mae: 2.11e+01, forcesx_mae: 6.33e-02, forcesy_mae: 1.35e-01, forcesz_mae: 1.39e-01, forces_mae: 1.12e-01, forces_cosine_similarity: -2.30e-02, forces_magnitude_error: 2.34e-01, loss: 1.56e+01, lr: 4.02e-04, epoch: 1.95e-02, step: 4.30e+02\n",
      "2024-05-28 22:57:23 (INFO): energy_forces_within_threshold: 0.00e+00, energy_mae: 2.24e+01, forcesx_mae: 8.05e-02, forcesy_mae: 1.37e-01, forcesz_mae: 1.21e-01, forces_mae: 1.13e-01, forces_cosine_similarity: -4.91e-02, forces_magnitude_error: 2.35e-01, loss: 1.62e+01, lr: 4.02e-04, epoch: 1.98e-02, step: 4.35e+02\n",
      "2024-05-28 22:57:24 (INFO): energy_forces_within_threshold: 0.00e+00, energy_mae: 1.51e+01, forcesx_mae: 1.00e-01, forcesy_mae: 1.29e-01, forcesz_mae: 1.28e-01, forces_mae: 1.19e-01, forces_cosine_similarity: 4.07e-02, forces_magnitude_error: 2.36e-01, loss: 1.34e+01, lr: 4.02e-04, epoch: 2.00e-02, step: 4.40e+02\n",
      "2024-05-28 22:57:24 (INFO): energy_forces_within_threshold: 0.00e+00, energy_mae: 1.50e+01, forcesx_mae: 6.27e-02, forcesy_mae: 7.22e-02, forcesz_mae: 7.72e-02, forces_mae: 7.07e-02, forces_cosine_similarity: -8.94e-03, forces_magnitude_error: 1.40e-01, loss: 1.01e+01, lr: 4.02e-04, epoch: 2.02e-02, step: 4.45e+02\n",
      "2024-05-28 22:57:25 (INFO): energy_forces_within_threshold: 0.00e+00, energy_mae: 2.20e+01, forcesx_mae: 7.41e-02, forcesy_mae: 8.65e-02, forcesz_mae: 9.97e-02, forces_mae: 8.68e-02, forces_cosine_similarity: -1.47e-02, forces_magnitude_error: 1.75e-01, loss: 1.43e+01, lr: 4.02e-04, epoch: 2.05e-02, step: 4.50e+02\n",
      "2024-05-28 22:57:25 (INFO): energy_forces_within_threshold: 0.00e+00, energy_mae: 1.67e+01, forcesx_mae: 6.72e-02, forcesy_mae: 7.44e-02, forcesz_mae: 8.19e-02, forces_mae: 7.45e-02, forces_cosine_similarity: 4.11e-02, forces_magnitude_error: 1.53e-01, loss: 1.13e+01, lr: 4.02e-04, epoch: 2.07e-02, step: 4.55e+02\n",
      "2024-05-28 22:57:26 (INFO): energy_forces_within_threshold: 0.00e+00, energy_mae: 1.35e+01, forcesx_mae: 7.10e-02, forcesy_mae: 8.86e-02, forcesz_mae: 9.30e-02, forces_mae: 8.42e-02, forces_cosine_similarity: -1.33e-02, forces_magnitude_error: 1.70e-01, loss: 1.08e+01, lr: 4.02e-04, epoch: 2.09e-02, step: 4.60e+02\n",
      "2024-05-28 22:57:26 (INFO): energy_forces_within_threshold: 0.00e+00, energy_mae: 1.21e+01, forcesx_mae: 6.72e-02, forcesy_mae: 7.53e-02, forcesz_mae: 7.69e-02, forces_mae: 7.32e-02, forces_cosine_similarity: -1.97e-02, forces_magnitude_error: 1.45e-01, loss: 9.40e+00, lr: 4.02e-04, epoch: 2.11e-02, step: 4.65e+02\n",
      "2024-05-28 22:57:27 (INFO): energy_forces_within_threshold: 0.00e+00, energy_mae: 1.10e+01, forcesx_mae: 5.52e-02, forcesy_mae: 7.22e-02, forcesz_mae: 7.89e-02, forces_mae: 6.87e-02, forces_cosine_similarity: 1.06e-02, forces_magnitude_error: 1.39e-01, loss: 8.76e+00, lr: 4.02e-04, epoch: 2.14e-02, step: 4.70e+02\n",
      "2024-05-28 22:57:27 (INFO): energy_forces_within_threshold: 0.00e+00, energy_mae: 1.68e+01, forcesx_mae: 6.67e-02, forcesy_mae: 1.04e-01, forcesz_mae: 9.63e-02, forces_mae: 8.89e-02, forces_cosine_similarity: 5.26e-02, forces_magnitude_error: 1.77e-01, loss: 1.22e+01, lr: 4.02e-04, epoch: 2.16e-02, step: 4.75e+02\n",
      "2024-05-28 22:57:28 (INFO): energy_forces_within_threshold: 0.00e+00, energy_mae: 1.45e+01, forcesx_mae: 5.26e-02, forcesy_mae: 8.30e-02, forcesz_mae: 8.84e-02, forces_mae: 7.47e-02, forces_cosine_similarity: -3.00e-02, forces_magnitude_error: 1.53e-01, loss: 1.06e+01, lr: 4.02e-04, epoch: 2.18e-02, step: 4.80e+02\n",
      "2024-05-28 22:57:28 (INFO): energy_forces_within_threshold: 0.00e+00, energy_mae: 9.22e+00, forcesx_mae: 6.90e-02, forcesy_mae: 8.60e-02, forcesz_mae: 9.44e-02, forces_mae: 8.31e-02, forces_cosine_similarity: -1.86e-02, forces_magnitude_error: 1.67e-01, loss: 9.14e+00, lr: 4.02e-04, epoch: 2.20e-02, step: 4.85e+02\n",
      "2024-05-28 22:57:28 (INFO): energy_forces_within_threshold: 0.00e+00, energy_mae: 2.00e+01, forcesx_mae: 1.01e-01, forcesy_mae: 1.68e-01, forcesz_mae: 1.86e-01, forces_mae: 1.52e-01, forces_cosine_similarity: -4.07e-02, forces_magnitude_error: 2.95e-01, loss: 1.78e+01, lr: 4.02e-04, epoch: 2.23e-02, step: 4.90e+02\n",
      "2024-05-28 22:57:29 (INFO): energy_forces_within_threshold: 0.00e+00, energy_mae: 9.37e+00, forcesx_mae: 5.89e-02, forcesy_mae: 1.07e-01, forcesz_mae: 1.10e-01, forces_mae: 9.19e-02, forces_cosine_similarity: 1.50e-02, forces_magnitude_error: 1.91e-01, loss: 9.83e+00, lr: 4.02e-04, epoch: 2.25e-02, step: 4.95e+02\n",
      "2024-05-28 22:57:29 (INFO): energy_forces_within_threshold: 0.00e+00, energy_mae: 1.12e+01, forcesx_mae: 1.05e-01, forcesy_mae: 1.20e-01, forcesz_mae: 1.10e-01, forces_mae: 1.11e-01, forces_cosine_similarity: -2.03e-02, forces_magnitude_error: 2.26e-01, loss: 1.18e+01, lr: 4.02e-04, epoch: 2.27e-02, step: 5.00e+02\n",
      "2024-05-28 22:57:30 (INFO): energy_forces_within_threshold: 0.00e+00, energy_mae: 9.47e+00, forcesx_mae: 7.27e-02, forcesy_mae: 1.10e-01, forcesz_mae: 1.15e-01, forces_mae: 9.91e-02, forces_cosine_similarity: 4.90e-03, forces_magnitude_error: 2.03e-01, loss: 1.05e+01, lr: 4.02e-04, epoch: 2.30e-02, step: 5.05e+02\n",
      "2024-05-28 22:57:30 (INFO): energy_forces_within_threshold: 0.00e+00, energy_mae: 7.61e+00, forcesx_mae: 7.14e-02, forcesy_mae: 6.89e-02, forcesz_mae: 7.56e-02, forces_mae: 7.20e-02, forces_cosine_similarity: 6.98e-03, forces_magnitude_error: 1.43e-01, loss: 7.71e+00, lr: 4.02e-04, epoch: 2.32e-02, step: 5.10e+02\n",
      "2024-05-28 22:57:31 (INFO): energy_forces_within_threshold: 0.00e+00, energy_mae: 7.58e+00, forcesx_mae: 7.50e-02, forcesy_mae: 1.59e-01, forcesz_mae: 1.01e-01, forces_mae: 1.11e-01, forces_cosine_similarity: -3.29e-03, forces_magnitude_error: 2.33e-01, loss: 1.12e+01, lr: 4.02e-04, epoch: 2.34e-02, step: 5.15e+02\n",
      "2024-05-28 22:57:31 (INFO): energy_forces_within_threshold: 0.00e+00, energy_mae: 9.65e+00, forcesx_mae: 6.62e-02, forcesy_mae: 8.12e-02, forcesz_mae: 8.33e-02, forces_mae: 7.69e-02, forces_cosine_similarity: 1.07e-02, forces_magnitude_error: 1.54e-01, loss: 8.91e+00, lr: 4.02e-04, epoch: 2.36e-02, step: 5.20e+02\n",
      "2024-05-28 22:57:32 (INFO): energy_forces_within_threshold: 0.00e+00, energy_mae: 2.12e+01, forcesx_mae: 5.16e-02, forcesy_mae: 6.25e-02, forcesz_mae: 8.85e-02, forces_mae: 6.75e-02, forces_cosine_similarity: -3.78e-02, forces_magnitude_error: 1.40e-01, loss: 1.25e+01, lr: 4.02e-04, epoch: 2.39e-02, step: 5.25e+02\n",
      "2024-05-28 22:57:32 (INFO): energy_forces_within_threshold: 0.00e+00, energy_mae: 1.52e+01, forcesx_mae: 5.99e-02, forcesy_mae: 8.07e-02, forcesz_mae: 7.96e-02, forces_mae: 7.34e-02, forces_cosine_similarity: -3.30e-02, forces_magnitude_error: 1.50e-01, loss: 1.05e+01, lr: 4.02e-04, epoch: 2.41e-02, step: 5.30e+02\n",
      "2024-05-28 22:57:32 (INFO): energy_forces_within_threshold: 0.00e+00, energy_mae: 1.20e+01, forcesx_mae: 5.30e-02, forcesy_mae: 5.96e-02, forcesz_mae: 6.57e-02, forces_mae: 5.95e-02, forces_cosine_similarity: 2.37e-02, forces_magnitude_error: 1.20e-01, loss: 8.40e+00, lr: 4.02e-04, epoch: 2.43e-02, step: 5.35e+02\n",
      "2024-05-28 22:57:33 (INFO): energy_forces_within_threshold: 0.00e+00, energy_mae: 1.50e+01, forcesx_mae: 5.62e-02, forcesy_mae: 7.21e-02, forcesz_mae: 8.51e-02, forces_mae: 7.11e-02, forces_cosine_similarity: -4.01e-03, forces_magnitude_error: 1.41e-01, loss: 1.03e+01, lr: 4.02e-04, epoch: 2.45e-02, step: 5.40e+02\n",
      "2024-05-28 22:57:33 (INFO): energy_forces_within_threshold: 0.00e+00, energy_mae: 1.89e+01, forcesx_mae: 5.70e-02, forcesy_mae: 6.57e-02, forcesz_mae: 5.99e-02, forces_mae: 6.09e-02, forces_cosine_similarity: -1.07e-02, forces_magnitude_error: 1.20e-01, loss: 1.14e+01, lr: 4.02e-04, epoch: 2.48e-02, step: 5.45e+02\n",
      "2024-05-28 22:57:34 (INFO): energy_forces_within_threshold: 0.00e+00, energy_mae: 2.55e+01, forcesx_mae: 7.00e-02, forcesy_mae: 9.93e-02, forcesz_mae: 9.85e-02, forces_mae: 8.93e-02, forces_cosine_similarity: 1.46e-02, forces_magnitude_error: 1.81e-01, loss: 1.55e+01, lr: 4.02e-04, epoch: 2.50e-02, step: 5.50e+02\n",
      "2024-05-28 22:57:34 (INFO): energy_forces_within_threshold: 0.00e+00, energy_mae: 2.20e+01, forcesx_mae: 6.11e-02, forcesy_mae: 7.09e-02, forcesz_mae: 7.56e-02, forces_mae: 6.92e-02, forces_cosine_similarity: 6.53e-03, forces_magnitude_error: 1.38e-01, loss: 1.28e+01, lr: 4.02e-04, epoch: 2.52e-02, step: 5.55e+02\n",
      "2024-05-28 22:57:35 (INFO): energy_forces_within_threshold: 0.00e+00, energy_mae: 2.03e+01, forcesx_mae: 9.20e-02, forcesy_mae: 1.02e-01, forcesz_mae: 1.04e-01, forces_mae: 9.96e-02, forces_cosine_similarity: 1.83e-02, forces_magnitude_error: 2.01e-01, loss: 1.42e+01, lr: 4.02e-04, epoch: 2.54e-02, step: 5.60e+02\n",
      "2024-05-28 22:57:35 (INFO): energy_forces_within_threshold: 0.00e+00, energy_mae: 2.22e+01, forcesx_mae: 6.29e-02, forcesy_mae: 9.18e-02, forcesz_mae: 1.05e-01, forces_mae: 8.65e-02, forces_cosine_similarity: -1.94e-02, forces_magnitude_error: 1.81e-01, loss: 1.41e+01, lr: 4.02e-04, epoch: 2.57e-02, step: 5.65e+02\n",
      "2024-05-28 22:57:36 (INFO): energy_forces_within_threshold: 0.00e+00, energy_mae: 2.12e+01, forcesx_mae: 5.28e-02, forcesy_mae: 5.30e-02, forcesz_mae: 6.82e-02, forces_mae: 5.80e-02, forces_cosine_similarity: -1.59e-02, forces_magnitude_error: 1.14e-01, loss: 1.17e+01, lr: 4.02e-04, epoch: 2.59e-02, step: 5.70e+02\n",
      "2024-05-28 22:57:36 (INFO): energy_forces_within_threshold: 0.00e+00, energy_mae: 1.74e+01, forcesx_mae: 6.75e-02, forcesy_mae: 1.10e-01, forcesz_mae: 1.47e-01, forces_mae: 1.08e-01, forces_cosine_similarity: -8.14e-03, forces_magnitude_error: 2.35e-01, loss: 1.49e+01, lr: 4.02e-04, epoch: 2.61e-02, step: 5.75e+02\n",
      "2024-05-28 22:57:37 (INFO): energy_forces_within_threshold: 0.00e+00, energy_mae: 2.54e+01, forcesx_mae: 4.65e-02, forcesy_mae: 5.46e-02, forcesz_mae: 5.69e-02, forces_mae: 5.27e-02, forces_cosine_similarity: -2.47e-02, forces_magnitude_error: 1.06e-01, loss: 1.27e+01, lr: 4.02e-04, epoch: 2.64e-02, step: 5.80e+02\n",
      "2024-05-28 22:57:37 (INFO): energy_forces_within_threshold: 0.00e+00, energy_mae: 1.63e+01, forcesx_mae: 4.67e-02, forcesy_mae: 4.93e-02, forcesz_mae: 6.11e-02, forces_mae: 5.24e-02, forces_cosine_similarity: -1.45e-02, forces_magnitude_error: 1.06e-01, loss: 9.39e+00, lr: 4.02e-04, epoch: 2.66e-02, step: 5.85e+02\n",
      "2024-05-28 22:57:38 (INFO): energy_forces_within_threshold: 0.00e+00, energy_mae: 9.76e+00, forcesx_mae: 8.12e-02, forcesy_mae: 9.18e-02, forcesz_mae: 9.19e-02, forces_mae: 8.83e-02, forces_cosine_similarity: -6.02e-03, forces_magnitude_error: 1.79e-01, loss: 9.97e+00, lr: 4.02e-04, epoch: 2.68e-02, step: 5.90e+02\n",
      "2024-05-28 22:57:38 (INFO): energy_forces_within_threshold: 0.00e+00, energy_mae: 6.69e+00, forcesx_mae: 6.09e-02, forcesy_mae: 7.99e-02, forcesz_mae: 8.38e-02, forces_mae: 7.49e-02, forces_cosine_similarity: 8.74e-04, forces_magnitude_error: 1.52e-01, loss: 7.57e+00, lr: 4.02e-04, epoch: 2.70e-02, step: 5.95e+02\n",
      "2024-05-28 22:57:38 (INFO): energy_forces_within_threshold: 0.00e+00, energy_mae: 6.67e+00, forcesx_mae: 6.85e-02, forcesy_mae: 1.10e-01, forcesz_mae: 9.96e-02, forces_mae: 9.29e-02, forces_cosine_similarity: 4.09e-03, forces_magnitude_error: 1.88e-01, loss: 9.44e+00, lr: 4.02e-04, epoch: 2.73e-02, step: 6.00e+02\n",
      "2024-05-28 22:57:39 (INFO): energy_forces_within_threshold: 0.00e+00, energy_mae: 5.44e+00, forcesx_mae: 7.19e-02, forcesy_mae: 6.42e-02, forcesz_mae: 7.70e-02, forces_mae: 7.11e-02, forces_cosine_similarity: 3.44e-02, forces_magnitude_error: 1.42e-01, loss: 6.86e+00, lr: 4.02e-04, epoch: 2.75e-02, step: 6.05e+02\n",
      "2024-05-28 22:57:39 (INFO): energy_forces_within_threshold: 0.00e+00, energy_mae: 9.13e+00, forcesx_mae: 1.05e-01, forcesy_mae: 1.95e-01, forcesz_mae: 2.00e-01, forces_mae: 1.67e-01, forces_cosine_similarity: 4.22e-02, forces_magnitude_error: 3.38e-01, loss: 1.47e+01, lr: 4.02e-04, epoch: 2.77e-02, step: 6.10e+02\n",
      "2024-05-28 22:57:40 (INFO): energy_forces_within_threshold: 0.00e+00, energy_mae: 7.09e+00, forcesx_mae: 5.98e-02, forcesy_mae: 7.07e-02, forcesz_mae: 7.29e-02, forces_mae: 6.78e-02, forces_cosine_similarity: 2.52e-02, forces_magnitude_error: 1.39e-01, loss: 7.51e+00, lr: 4.02e-04, epoch: 2.79e-02, step: 6.15e+02\n",
      "2024-05-28 22:57:40 (INFO): energy_forces_within_threshold: 0.00e+00, energy_mae: 8.07e+00, forcesx_mae: 6.97e-02, forcesy_mae: 1.23e-01, forcesz_mae: 1.54e-01, forces_mae: 1.15e-01, forces_cosine_similarity: -5.24e-03, forces_magnitude_error: 2.46e-01, loss: 1.17e+01, lr: 4.02e-04, epoch: 2.82e-02, step: 6.20e+02\n",
      "2024-05-28 22:57:41 (INFO): energy_forces_within_threshold: 0.00e+00, energy_mae: 1.31e+01, forcesx_mae: 6.78e-02, forcesy_mae: 9.76e-02, forcesz_mae: 8.27e-02, forces_mae: 8.27e-02, forces_cosine_similarity: 2.39e-03, forces_magnitude_error: 1.73e-01, loss: 1.08e+01, lr: 4.02e-04, epoch: 2.84e-02, step: 6.25e+02\n",
      "2024-05-28 22:57:41 (INFO): energy_forces_within_threshold: 0.00e+00, energy_mae: 7.93e+00, forcesx_mae: 8.78e-02, forcesy_mae: 1.02e-01, forcesz_mae: 1.09e-01, forces_mae: 9.94e-02, forces_cosine_similarity: 1.51e-02, forces_magnitude_error: 2.06e-01, loss: 1.00e+01, lr: 4.02e-04, epoch: 2.86e-02, step: 6.30e+02\n",
      "2024-05-28 22:57:42 (INFO): energy_forces_within_threshold: 0.00e+00, energy_mae: 9.76e+00, forcesx_mae: 4.74e-02, forcesy_mae: 5.57e-02, forcesz_mae: 5.87e-02, forces_mae: 5.39e-02, forces_cosine_similarity: -7.35e-02, forces_magnitude_error: 1.08e-01, loss: 7.36e+00, lr: 4.02e-04, epoch: 2.89e-02, step: 6.35e+02\n",
      "2024-05-28 22:57:42 (INFO): energy_forces_within_threshold: 0.00e+00, energy_mae: 8.09e+00, forcesx_mae: 7.80e-02, forcesy_mae: 9.46e-02, forcesz_mae: 9.12e-02, forces_mae: 8.79e-02, forces_cosine_similarity: -5.43e-03, forces_magnitude_error: 1.76e-01, loss: 8.99e+00, lr: 4.02e-04, epoch: 2.91e-02, step: 6.40e+02\n",
      "2024-05-28 22:57:43 (INFO): energy_forces_within_threshold: 0.00e+00, energy_mae: 8.10e+00, forcesx_mae: 6.04e-02, forcesy_mae: 6.10e-02, forcesz_mae: 8.77e-02, forces_mae: 6.97e-02, forces_cosine_similarity: 2.11e-02, forces_magnitude_error: 1.44e-01, loss: 7.68e+00, lr: 4.02e-04, epoch: 2.93e-02, step: 6.45e+02\n",
      "2024-05-28 22:57:43 (INFO): energy_forces_within_threshold: 0.00e+00, energy_mae: 1.15e+01, forcesx_mae: 6.20e-02, forcesy_mae: 7.47e-02, forcesz_mae: 7.92e-02, forces_mae: 7.20e-02, forces_cosine_similarity: -2.43e-02, forces_magnitude_error: 1.44e-01, loss: 9.10e+00, lr: 4.02e-04, epoch: 2.95e-02, step: 6.50e+02\n",
      "2024-05-28 22:57:43 (INFO): energy_forces_within_threshold: 0.00e+00, energy_mae: 9.03e+00, forcesx_mae: 5.62e-02, forcesy_mae: 9.75e-02, forcesz_mae: 9.02e-02, forces_mae: 8.13e-02, forces_cosine_similarity: 1.43e-02, forces_magnitude_error: 1.68e-01, loss: 9.12e+00, lr: 4.02e-04, epoch: 2.98e-02, step: 6.55e+02\n",
      "2024-05-28 22:57:44 (INFO): energy_forces_within_threshold: 0.00e+00, energy_mae: 1.51e+01, forcesx_mae: 3.99e-02, forcesy_mae: 4.64e-02, forcesz_mae: 5.48e-02, forces_mae: 4.70e-02, forces_cosine_similarity: -3.62e-02, forces_magnitude_error: 9.39e-02, loss: 8.66e+00, lr: 4.02e-04, epoch: 3.00e-02, step: 6.60e+02\n",
      "2024-05-28 22:57:44 (INFO): energy_forces_within_threshold: 0.00e+00, energy_mae: 1.62e+01, forcesx_mae: 8.16e-02, forcesy_mae: 1.07e-01, forcesz_mae: 9.63e-02, forces_mae: 9.50e-02, forces_cosine_similarity: 2.00e-02, forces_magnitude_error: 1.92e-01, loss: 1.26e+01, lr: 4.02e-04, epoch: 3.02e-02, step: 6.65e+02\n",
      "2024-05-28 22:57:45 (INFO): energy_forces_within_threshold: 0.00e+00, energy_mae: 9.87e+00, forcesx_mae: 4.61e-02, forcesy_mae: 6.92e-02, forcesz_mae: 7.08e-02, forces_mae: 6.20e-02, forces_cosine_similarity: 5.56e-02, forces_magnitude_error: 1.29e-01, loss: 8.04e+00, lr: 4.02e-04, epoch: 3.04e-02, step: 6.70e+02\n",
      "2024-05-28 22:57:45 (INFO): energy_forces_within_threshold: 0.00e+00, energy_mae: 1.24e+01, forcesx_mae: 7.72e-02, forcesy_mae: 8.95e-02, forcesz_mae: 9.69e-02, forces_mae: 8.79e-02, forces_cosine_similarity: 4.32e-02, forces_magnitude_error: 1.73e-01, loss: 1.04e+01, lr: 4.02e-04, epoch: 3.07e-02, step: 6.75e+02\n",
      "2024-05-28 22:57:46 (INFO): energy_forces_within_threshold: 0.00e+00, energy_mae: 9.65e+00, forcesx_mae: 4.67e-02, forcesy_mae: 6.56e-02, forcesz_mae: 6.96e-02, forces_mae: 6.06e-02, forces_cosine_similarity: 2.59e-02, forces_magnitude_error: 1.25e-01, loss: 8.11e+00, lr: 4.02e-04, epoch: 3.09e-02, step: 6.80e+02\n",
      "2024-05-28 22:57:46 (INFO): energy_forces_within_threshold: 0.00e+00, energy_mae: 1.00e+01, forcesx_mae: 9.12e-02, forcesy_mae: 9.93e-02, forcesz_mae: 1.09e-01, forces_mae: 9.98e-02, forces_cosine_similarity: -8.64e-04, forces_magnitude_error: 1.99e-01, loss: 1.09e+01, lr: 4.02e-04, epoch: 3.11e-02, step: 6.85e+02\n",
      "2024-05-28 22:57:47 (INFO): energy_forces_within_threshold: 0.00e+00, energy_mae: 1.33e+01, forcesx_mae: 4.09e-02, forcesy_mae: 4.54e-02, forcesz_mae: 4.79e-02, forces_mae: 4.47e-02, forces_cosine_similarity: -4.56e-03, forces_magnitude_error: 8.93e-02, loss: 8.13e+00, lr: 4.02e-04, epoch: 3.14e-02, step: 6.90e+02\n",
      "2024-05-28 22:57:47 (INFO): energy_forces_within_threshold: 0.00e+00, energy_mae: 9.01e+00, forcesx_mae: 7.06e-02, forcesy_mae: 7.26e-02, forcesz_mae: 6.98e-02, forces_mae: 7.10e-02, forces_cosine_similarity: -1.63e-03, forces_magnitude_error: 1.42e-01, loss: 8.19e+00, lr: 4.02e-04, epoch: 3.16e-02, step: 6.95e+02\n",
      "2024-05-28 22:57:48 (INFO): energy_forces_within_threshold: 0.00e+00, energy_mae: 9.33e+00, forcesx_mae: 6.24e-02, forcesy_mae: 9.00e-02, forcesz_mae: 1.06e-01, forces_mae: 8.60e-02, forces_cosine_similarity: 2.82e-02, forces_magnitude_error: 1.78e-01, loss: 9.49e+00, lr: 4.02e-04, epoch: 3.18e-02, step: 7.00e+02\n",
      "2024-05-28 22:57:48 (INFO): energy_forces_within_threshold: 0.00e+00, energy_mae: 7.96e+00, forcesx_mae: 9.16e-02, forcesy_mae: 1.02e-01, forcesz_mae: 1.07e-01, forces_mae: 9.99e-02, forces_cosine_similarity: -7.38e-03, forces_magnitude_error: 1.97e-01, loss: 9.84e+00, lr: 4.02e-04, epoch: 3.20e-02, step: 7.05e+02\n",
      "2024-05-28 22:57:49 (INFO): energy_forces_within_threshold: 0.00e+00, energy_mae: 1.08e+01, forcesx_mae: 7.45e-02, forcesy_mae: 1.01e-01, forcesz_mae: 9.55e-02, forces_mae: 9.02e-02, forces_cosine_similarity: -1.19e-02, forces_magnitude_error: 1.80e-01, loss: 1.01e+01, lr: 4.02e-04, epoch: 3.23e-02, step: 7.10e+02\n",
      "2024-05-28 22:57:49 (INFO): energy_forces_within_threshold: 0.00e+00, energy_mae: 1.16e+01, forcesx_mae: 5.86e-02, forcesy_mae: 6.22e-02, forcesz_mae: 6.90e-02, forces_mae: 6.33e-02, forces_cosine_similarity: -5.86e-03, forces_magnitude_error: 1.27e-01, loss: 8.67e+00, lr: 4.02e-04, epoch: 3.25e-02, step: 7.15e+02\n",
      "2024-05-28 22:57:50 (INFO): energy_forces_within_threshold: 0.00e+00, energy_mae: 9.77e+00, forcesx_mae: 6.53e-02, forcesy_mae: 8.88e-02, forcesz_mae: 1.02e-01, forces_mae: 8.54e-02, forces_cosine_similarity: -7.19e-03, forces_magnitude_error: 1.75e-01, loss: 1.01e+01, lr: 4.02e-04, epoch: 3.27e-02, step: 7.20e+02\n",
      "2024-05-28 22:57:50 (INFO): energy_forces_within_threshold: 0.00e+00, energy_mae: 9.62e+00, forcesx_mae: 9.22e-02, forcesy_mae: 1.79e-01, forcesz_mae: 2.02e-01, forces_mae: 1.58e-01, forces_cosine_similarity: 1.07e-02, forces_magnitude_error: 3.29e-01, loss: 1.41e+01, lr: 4.02e-04, epoch: 3.29e-02, step: 7.25e+02\n",
      "2024-05-28 22:57:51 (INFO): energy_forces_within_threshold: 0.00e+00, energy_mae: 8.91e+00, forcesx_mae: 5.82e-02, forcesy_mae: 6.23e-02, forcesz_mae: 9.38e-02, forces_mae: 7.15e-02, forces_cosine_similarity: 2.79e-02, forces_magnitude_error: 1.48e-01, loss: 8.29e+00, lr: 4.02e-04, epoch: 3.32e-02, step: 7.30e+02\n",
      "2024-05-28 22:57:51 (INFO): energy_forces_within_threshold: 0.00e+00, energy_mae: 6.22e+00, forcesx_mae: 5.88e-02, forcesy_mae: 6.05e-02, forcesz_mae: 7.17e-02, forces_mae: 6.37e-02, forces_cosine_similarity: 2.29e-02, forces_magnitude_error: 1.27e-01, loss: 6.63e+00, lr: 4.02e-04, epoch: 3.34e-02, step: 7.35e+02\n",
      "2024-05-28 22:57:52 (INFO): energy_forces_within_threshold: 0.00e+00, energy_mae: 1.03e+01, forcesx_mae: 4.64e-02, forcesy_mae: 4.93e-02, forcesz_mae: 4.88e-02, forces_mae: 4.82e-02, forces_cosine_similarity: 3.35e-02, forces_magnitude_error: 9.78e-02, loss: 7.20e+00, lr: 4.02e-04, epoch: 3.36e-02, step: 7.40e+02\n",
      "2024-05-28 22:57:52 (INFO): energy_forces_within_threshold: 0.00e+00, energy_mae: 1.41e+01, forcesx_mae: 7.09e-02, forcesy_mae: 9.50e-02, forcesz_mae: 9.06e-02, forces_mae: 8.55e-02, forces_cosine_similarity: 6.43e-03, forces_magnitude_error: 1.76e-01, loss: 1.12e+01, lr: 4.02e-04, epoch: 3.39e-02, step: 7.45e+02\n",
      "2024-05-28 22:57:52 (INFO): energy_forces_within_threshold: 0.00e+00, energy_mae: 1.05e+01, forcesx_mae: 7.61e-02, forcesy_mae: 8.17e-02, forcesz_mae: 8.27e-02, forces_mae: 8.02e-02, forces_cosine_similarity: 3.99e-03, forces_magnitude_error: 1.61e-01, loss: 9.50e+00, lr: 4.02e-04, epoch: 3.41e-02, step: 7.50e+02\n",
      "2024-05-28 22:57:53 (INFO): energy_forces_within_threshold: 0.00e+00, energy_mae: 1.17e+01, forcesx_mae: 8.51e-02, forcesy_mae: 1.18e-01, forcesz_mae: 1.17e-01, forces_mae: 1.07e-01, forces_cosine_similarity: 4.81e-02, forces_magnitude_error: 2.10e-01, loss: 1.21e+01, lr: 4.02e-04, epoch: 3.43e-02, step: 7.55e+02\n",
      "2024-05-28 22:57:53 (INFO): energy_forces_within_threshold: 0.00e+00, energy_mae: 1.10e+01, forcesx_mae: 6.24e-02, forcesy_mae: 6.35e-02, forcesz_mae: 6.37e-02, forces_mae: 6.32e-02, forces_cosine_similarity: 2.61e-02, forces_magnitude_error: 1.23e-01, loss: 8.52e+00, lr: 4.02e-04, epoch: 3.45e-02, step: 7.60e+02\n",
      "2024-05-28 22:57:54 (INFO): energy_forces_within_threshold: 0.00e+00, energy_mae: 6.96e+00, forcesx_mae: 6.79e-02, forcesy_mae: 1.14e-01, forcesz_mae: 1.07e-01, forces_mae: 9.61e-02, forces_cosine_similarity: 1.88e-02, forces_magnitude_error: 1.99e-01, loss: 9.64e+00, lr: 4.02e-04, epoch: 3.48e-02, step: 7.65e+02\n",
      "2024-05-28 22:57:54 (INFO): energy_forces_within_threshold: 0.00e+00, energy_mae: 9.78e+00, forcesx_mae: 4.50e-02, forcesy_mae: 6.43e-02, forcesz_mae: 6.16e-02, forces_mae: 5.70e-02, forces_cosine_similarity: 7.03e-03, forces_magnitude_error: 1.15e-01, loss: 7.60e+00, lr: 4.02e-04, epoch: 3.50e-02, step: 7.70e+02\n",
      "2024-05-28 22:57:55 (INFO): energy_forces_within_threshold: 0.00e+00, energy_mae: 7.10e+00, forcesx_mae: 6.07e-02, forcesy_mae: 6.90e-02, forcesz_mae: 9.34e-02, forces_mae: 7.44e-02, forces_cosine_similarity: 2.83e-02, forces_magnitude_error: 1.51e-01, loss: 7.94e+00, lr: 4.02e-04, epoch: 3.52e-02, step: 7.75e+02\n",
      "2024-05-28 22:57:55 (INFO): energy_forces_within_threshold: 0.00e+00, energy_mae: 1.22e+01, forcesx_mae: 6.44e-02, forcesy_mae: 9.29e-02, forcesz_mae: 1.11e-01, forces_mae: 8.93e-02, forces_cosine_similarity: 4.01e-02, forces_magnitude_error: 1.84e-01, loss: 1.06e+01, lr: 4.02e-04, epoch: 3.54e-02, step: 7.80e+02\n",
      "2024-05-28 22:57:56 (INFO): energy_forces_within_threshold: 0.00e+00, energy_mae: 6.37e+00, forcesx_mae: 4.84e-02, forcesy_mae: 5.92e-02, forcesz_mae: 5.82e-02, forces_mae: 5.53e-02, forces_cosine_similarity: 1.32e-02, forces_magnitude_error: 1.11e-01, loss: 6.21e+00, lr: 4.02e-04, epoch: 3.57e-02, step: 7.85e+02\n",
      "2024-05-28 22:57:56 (INFO): energy_forces_within_threshold: 0.00e+00, energy_mae: 5.95e+00, forcesx_mae: 1.30e-01, forcesy_mae: 1.96e-01, forcesz_mae: 1.84e-01, forces_mae: 1.70e-01, forces_cosine_similarity: 2.34e-02, forces_magnitude_error: 3.27e-01, loss: 1.32e+01, lr: 4.02e-04, epoch: 3.59e-02, step: 7.90e+02\n",
      "2024-05-28 22:57:57 (INFO): energy_forces_within_threshold: 0.00e+00, energy_mae: 1.23e+01, forcesx_mae: 6.65e-02, forcesy_mae: 8.15e-02, forcesz_mae: 8.54e-02, forces_mae: 7.78e-02, forces_cosine_similarity: -1.11e-02, forces_magnitude_error: 1.55e-01, loss: 9.87e+00, lr: 4.02e-04, epoch: 3.61e-02, step: 7.95e+02\n",
      "2024-05-28 22:57:57 (INFO): energy_forces_within_threshold: 0.00e+00, energy_mae: 9.14e+00, forcesx_mae: 7.23e-02, forcesy_mae: 9.05e-02, forcesz_mae: 8.26e-02, forces_mae: 8.18e-02, forces_cosine_similarity: 6.56e-03, forces_magnitude_error: 1.71e-01, loss: 9.21e+00, lr: 4.02e-04, epoch: 3.64e-02, step: 8.00e+02\n",
      "2024-05-28 22:57:57 (INFO): energy_forces_within_threshold: 0.00e+00, energy_mae: 4.86e+00, forcesx_mae: 5.27e-02, forcesy_mae: 6.15e-02, forcesz_mae: 6.23e-02, forces_mae: 5.88e-02, forces_cosine_similarity: 1.19e-02, forces_magnitude_error: 1.16e-01, loss: 5.85e+00, lr: 4.02e-04, epoch: 3.66e-02, step: 8.05e+02\n",
      "2024-05-28 22:57:58 (INFO): energy_forces_within_threshold: 0.00e+00, energy_mae: 5.35e+00, forcesx_mae: 7.25e-02, forcesy_mae: 7.75e-02, forcesz_mae: 9.46e-02, forces_mae: 8.15e-02, forces_cosine_similarity: 2.99e-03, forces_magnitude_error: 1.64e-01, loss: 7.59e+00, lr: 4.02e-04, epoch: 3.68e-02, step: 8.10e+02\n",
      "2024-05-28 22:57:58 (INFO): energy_forces_within_threshold: 0.00e+00, energy_mae: 5.57e+00, forcesx_mae: 8.72e-02, forcesy_mae: 1.02e-01, forcesz_mae: 1.10e-01, forces_mae: 9.96e-02, forces_cosine_similarity: 1.13e-02, forces_magnitude_error: 2.01e-01, loss: 9.46e+00, lr: 4.02e-04, epoch: 3.70e-02, step: 8.15e+02\n",
      "2024-05-28 22:57:59 (INFO): energy_forces_within_threshold: 0.00e+00, energy_mae: 7.16e+00, forcesx_mae: 8.80e-02, forcesy_mae: 9.55e-02, forcesz_mae: 9.89e-02, forces_mae: 9.41e-02, forces_cosine_similarity: 1.91e-02, forces_magnitude_error: 1.86e-01, loss: 9.23e+00, lr: 4.02e-04, epoch: 3.73e-02, step: 8.20e+02\n",
      "2024-05-28 22:57:59 (INFO): energy_forces_within_threshold: 0.00e+00, energy_mae: 1.05e+01, forcesx_mae: 4.92e-02, forcesy_mae: 7.91e-02, forcesz_mae: 5.70e-02, forces_mae: 6.18e-02, forces_cosine_similarity: -1.20e-02, forces_magnitude_error: 1.26e-01, loss: 8.35e+00, lr: 4.02e-04, epoch: 3.75e-02, step: 8.25e+02\n",
      "2024-05-28 22:58:00 (INFO): energy_forces_within_threshold: 0.00e+00, energy_mae: 5.22e+00, forcesx_mae: 5.36e-02, forcesy_mae: 6.87e-02, forcesz_mae: 6.35e-02, forces_mae: 6.20e-02, forces_cosine_similarity: 8.22e-03, forces_magnitude_error: 1.24e-01, loss: 6.17e+00, lr: 4.02e-04, epoch: 3.77e-02, step: 8.30e+02\n",
      "2024-05-28 22:58:00 (INFO): energy_forces_within_threshold: 0.00e+00, energy_mae: 3.90e+00, forcesx_mae: 6.77e-02, forcesy_mae: 1.22e-01, forcesz_mae: 1.74e-01, forces_mae: 1.21e-01, forces_cosine_similarity: 6.27e-03, forces_magnitude_error: 2.54e-01, loss: 1.03e+01, lr: 4.02e-04, epoch: 3.79e-02, step: 8.35e+02\n",
      "2024-05-28 22:58:01 (INFO): energy_forces_within_threshold: 0.00e+00, energy_mae: 8.52e+00, forcesx_mae: 5.42e-02, forcesy_mae: 8.34e-02, forcesz_mae: 7.58e-02, forces_mae: 7.11e-02, forces_cosine_similarity: -7.48e-04, forces_magnitude_error: 1.45e-01, loss: 8.19e+00, lr: 4.02e-04, epoch: 3.82e-02, step: 8.40e+02\n",
      "2024-05-28 22:58:01 (INFO): energy_forces_within_threshold: 0.00e+00, energy_mae: 8.10e+00, forcesx_mae: 7.24e-02, forcesy_mae: 8.42e-02, forcesz_mae: 7.83e-02, forces_mae: 7.83e-02, forces_cosine_similarity: -3.95e-02, forces_magnitude_error: 1.59e-01, loss: 8.69e+00, lr: 4.02e-04, epoch: 3.84e-02, step: 8.45e+02\n",
      "2024-05-28 22:58:02 (INFO): energy_forces_within_threshold: 0.00e+00, energy_mae: 1.49e+01, forcesx_mae: 6.50e-02, forcesy_mae: 6.97e-02, forcesz_mae: 7.72e-02, forces_mae: 7.06e-02, forces_cosine_similarity: -1.18e-02, forces_magnitude_error: 1.42e-01, loss: 1.05e+01, lr: 4.02e-04, epoch: 3.86e-02, step: 8.50e+02\n",
      "2024-05-28 22:58:02 (INFO): energy_forces_within_threshold: 0.00e+00, energy_mae: 6.39e+00, forcesx_mae: 8.63e-02, forcesy_mae: 9.77e-02, forcesz_mae: 1.05e-01, forces_mae: 9.63e-02, forces_cosine_similarity: -3.57e-03, forces_magnitude_error: 1.95e-01, loss: 9.29e+00, lr: 4.02e-04, epoch: 3.89e-02, step: 8.55e+02\n",
      "2024-05-28 22:58:02 (INFO): energy_forces_within_threshold: 0.00e+00, energy_mae: 3.34e+00, forcesx_mae: 3.91e-02, forcesy_mae: 6.40e-02, forcesz_mae: 6.21e-02, forces_mae: 5.51e-02, forces_cosine_similarity: -1.53e-02, forces_magnitude_error: 1.11e-01, loss: 5.19e+00, lr: 4.02e-04, epoch: 3.91e-02, step: 8.60e+02\n",
      "2024-05-28 22:58:03 (INFO): energy_forces_within_threshold: 0.00e+00, energy_mae: 4.21e+00, forcesx_mae: 5.97e-02, forcesy_mae: 7.39e-02, forcesz_mae: 7.13e-02, forces_mae: 6.83e-02, forces_cosine_similarity: 1.01e-02, forces_magnitude_error: 1.37e-01, loss: 6.39e+00, lr: 4.02e-04, epoch: 3.93e-02, step: 8.65e+02\n",
      "2024-05-28 22:58:03 (INFO): energy_forces_within_threshold: 0.00e+00, energy_mae: 5.53e+00, forcesx_mae: 7.93e-02, forcesy_mae: 9.77e-02, forcesz_mae: 9.23e-02, forces_mae: 8.98e-02, forces_cosine_similarity: 3.89e-02, forces_magnitude_error: 1.76e-01, loss: 8.20e+00, lr: 4.02e-04, epoch: 3.95e-02, step: 8.70e+02\n",
      "2024-05-28 22:58:04 (INFO): energy_forces_within_threshold: 0.00e+00, energy_mae: 7.65e+00, forcesx_mae: 4.87e-02, forcesy_mae: 6.16e-02, forcesz_mae: 6.68e-02, forces_mae: 5.90e-02, forces_cosine_similarity: 9.97e-03, forces_magnitude_error: 1.16e-01, loss: 6.83e+00, lr: 4.02e-04, epoch: 3.98e-02, step: 8.75e+02\n",
      "2024-05-28 22:58:04 (INFO): energy_forces_within_threshold: 0.00e+00, energy_mae: 1.25e+01, forcesx_mae: 7.86e-02, forcesy_mae: 1.10e-01, forcesz_mae: 1.18e-01, forces_mae: 1.02e-01, forces_cosine_similarity: 7.45e-03, forces_magnitude_error: 2.06e-01, loss: 1.16e+01, lr: 4.02e-04, epoch: 4.00e-02, step: 8.80e+02\n",
      "2024-05-28 22:58:05 (INFO): energy_forces_within_threshold: 0.00e+00, energy_mae: 5.37e+00, forcesx_mae: 5.94e-02, forcesy_mae: 6.72e-02, forcesz_mae: 6.88e-02, forces_mae: 6.51e-02, forces_cosine_similarity: -3.79e-03, forces_magnitude_error: 1.28e-01, loss: 6.57e+00, lr: 4.02e-04, epoch: 4.02e-02, step: 8.85e+02\n",
      "2024-05-28 22:58:05 (INFO): energy_forces_within_threshold: 0.00e+00, energy_mae: 4.54e+00, forcesx_mae: 9.10e-02, forcesy_mae: 1.21e-01, forcesz_mae: 1.33e-01, forces_mae: 1.15e-01, forces_cosine_similarity: 5.04e-03, forces_magnitude_error: 2.36e-01, loss: 1.02e+01, lr: 4.02e-04, epoch: 4.04e-02, step: 8.90e+02\n",
      "2024-05-28 22:58:06 (INFO): energy_forces_within_threshold: 0.00e+00, energy_mae: 4.62e+00, forcesx_mae: 1.18e-01, forcesy_mae: 1.18e-01, forcesz_mae: 1.34e-01, forces_mae: 1.23e-01, forces_cosine_similarity: -5.18e-03, forces_magnitude_error: 2.43e-01, loss: 1.02e+01, lr: 4.02e-04, epoch: 4.07e-02, step: 8.95e+02\n",
      "2024-05-28 22:58:06 (INFO): energy_forces_within_threshold: 0.00e+00, energy_mae: 5.20e+00, forcesx_mae: 8.81e-02, forcesy_mae: 8.40e-02, forcesz_mae: 9.69e-02, forces_mae: 8.97e-02, forces_cosine_similarity: 6.30e-03, forces_magnitude_error: 1.78e-01, loss: 8.15e+00, lr: 4.02e-04, epoch: 4.09e-02, step: 9.00e+02\n",
      "2024-05-28 22:58:07 (INFO): energy_forces_within_threshold: 0.00e+00, energy_mae: 5.54e+00, forcesx_mae: 5.65e-02, forcesy_mae: 8.33e-02, forcesz_mae: 7.51e-02, forces_mae: 7.16e-02, forces_cosine_similarity: -1.48e-02, forces_magnitude_error: 1.46e-01, loss: 7.17e+00, lr: 4.02e-04, epoch: 4.11e-02, step: 9.05e+02\n",
      "2024-05-28 22:58:07 (INFO): energy_forces_within_threshold: 0.00e+00, energy_mae: 6.77e+00, forcesx_mae: 6.79e-02, forcesy_mae: 9.50e-02, forcesz_mae: 8.67e-02, forces_mae: 8.32e-02, forces_cosine_similarity: 2.69e-02, forces_magnitude_error: 1.66e-01, loss: 8.11e+00, lr: 4.02e-04, epoch: 4.14e-02, step: 9.10e+02\n",
      "2024-05-28 22:58:08 (INFO): energy_forces_within_threshold: 0.00e+00, energy_mae: 4.10e+00, forcesx_mae: 3.79e-02, forcesy_mae: 7.11e-02, forcesz_mae: 7.23e-02, forces_mae: 6.04e-02, forces_cosine_similarity: -2.48e-03, forces_magnitude_error: 1.25e-01, loss: 5.70e+00, lr: 4.02e-04, epoch: 4.16e-02, step: 9.15e+02\n",
      "2024-05-28 22:58:08 (INFO): energy_forces_within_threshold: 0.00e+00, energy_mae: 3.36e+00, forcesx_mae: 5.74e-02, forcesy_mae: 6.56e-02, forcesz_mae: 6.79e-02, forces_mae: 6.36e-02, forces_cosine_similarity: -3.46e-03, forces_magnitude_error: 1.27e-01, loss: 5.93e+00, lr: 4.02e-04, epoch: 4.18e-02, step: 9.20e+02\n",
      "2024-05-28 22:58:09 (INFO): energy_forces_within_threshold: 0.00e+00, energy_mae: 4.67e+00, forcesx_mae: 3.59e-02, forcesy_mae: 9.84e-02, forcesz_mae: 1.57e-01, forces_mae: 9.71e-02, forces_cosine_similarity: 2.09e-03, forces_magnitude_error: 2.11e-01, loss: 9.18e+00, lr: 4.02e-04, epoch: 4.20e-02, step: 9.25e+02\n",
      "2024-05-28 22:58:09 (INFO): energy_forces_within_threshold: 0.00e+00, energy_mae: 5.01e+00, forcesx_mae: 6.86e-02, forcesy_mae: 7.11e-02, forcesz_mae: 6.98e-02, forces_mae: 6.98e-02, forces_cosine_similarity: -1.58e-02, forces_magnitude_error: 1.37e-01, loss: 6.66e+00, lr: 4.02e-04, epoch: 4.23e-02, step: 9.30e+02\n",
      "2024-05-28 22:58:10 (INFO): energy_forces_within_threshold: 0.00e+00, energy_mae: 5.38e+00, forcesx_mae: 7.22e-02, forcesy_mae: 1.29e-01, forcesz_mae: 1.11e-01, forces_mae: 1.04e-01, forces_cosine_similarity: 1.84e-02, forces_magnitude_error: 2.14e-01, loss: 9.16e+00, lr: 4.02e-04, epoch: 4.25e-02, step: 9.35e+02\n",
      "2024-05-28 22:58:10 (INFO): energy_forces_within_threshold: 0.00e+00, energy_mae: 5.78e+00, forcesx_mae: 7.50e-02, forcesy_mae: 1.34e-01, forcesz_mae: 1.19e-01, forces_mae: 1.09e-01, forces_cosine_similarity: 4.97e-02, forces_magnitude_error: 2.23e-01, loss: 9.52e+00, lr: 4.02e-04, epoch: 4.27e-02, step: 9.40e+02\n",
      "2024-05-28 22:58:10 (INFO): energy_forces_within_threshold: 0.00e+00, energy_mae: 7.58e+00, forcesx_mae: 7.23e-02, forcesy_mae: 1.02e-01, forcesz_mae: 8.22e-02, forces_mae: 8.56e-02, forces_cosine_similarity: -1.92e-02, forces_magnitude_error: 1.77e-01, loss: 8.79e+00, lr: 4.02e-04, epoch: 4.29e-02, step: 9.45e+02\n",
      "2024-05-28 22:58:11 (INFO): energy_forces_within_threshold: 0.00e+00, energy_mae: 1.13e+01, forcesx_mae: 4.55e-02, forcesy_mae: 6.22e-02, forcesz_mae: 6.69e-02, forces_mae: 5.82e-02, forces_cosine_similarity: -2.46e-02, forces_magnitude_error: 1.18e-01, loss: 8.03e+00, lr: 4.02e-04, epoch: 4.32e-02, step: 9.50e+02\n",
      "2024-05-28 22:58:11 (INFO): energy_forces_within_threshold: 0.00e+00, energy_mae: 5.88e+00, forcesx_mae: 5.50e-02, forcesy_mae: 7.41e-02, forcesz_mae: 8.46e-02, forces_mae: 7.12e-02, forces_cosine_similarity: 2.83e-02, forces_magnitude_error: 1.46e-01, loss: 7.29e+00, lr: 4.02e-04, epoch: 4.34e-02, step: 9.55e+02\n",
      "2024-05-28 22:58:12 (INFO): energy_forces_within_threshold: 0.00e+00, energy_mae: 5.26e+00, forcesx_mae: 7.18e-02, forcesy_mae: 7.43e-02, forcesz_mae: 8.73e-02, forces_mae: 7.78e-02, forces_cosine_similarity: -7.39e-03, forces_magnitude_error: 1.57e-01, loss: 7.42e+00, lr: 4.02e-04, epoch: 4.36e-02, step: 9.60e+02\n",
      "2024-05-28 22:58:12 (INFO): energy_forces_within_threshold: 0.00e+00, energy_mae: 4.00e+00, forcesx_mae: 4.39e-02, forcesy_mae: 5.59e-02, forcesz_mae: 6.27e-02, forces_mae: 5.42e-02, forces_cosine_similarity: 8.58e-03, forces_magnitude_error: 1.11e-01, loss: 5.33e+00, lr: 4.02e-04, epoch: 4.39e-02, step: 9.65e+02\n",
      "2024-05-28 22:58:13 (INFO): energy_forces_within_threshold: 0.00e+00, energy_mae: 3.82e+00, forcesx_mae: 8.59e-02, forcesy_mae: 1.01e-01, forcesz_mae: 9.77e-02, forces_mae: 9.50e-02, forces_cosine_similarity: 6.85e-02, forces_magnitude_error: 1.96e-01, loss: 8.44e+00, lr: 4.02e-04, epoch: 4.41e-02, step: 9.70e+02\n",
      "2024-05-28 22:58:13 (INFO): energy_forces_within_threshold: 0.00e+00, energy_mae: 4.34e+00, forcesx_mae: 8.90e-02, forcesy_mae: 1.18e-01, forcesz_mae: 8.62e-02, forces_mae: 9.78e-02, forces_cosine_similarity: 2.17e-02, forces_magnitude_error: 2.00e-01, loss: 8.89e+00, lr: 4.02e-04, epoch: 4.43e-02, step: 9.75e+02\n",
      "2024-05-28 22:58:14 (INFO): energy_forces_within_threshold: 0.00e+00, energy_mae: 4.74e+00, forcesx_mae: 1.07e-01, forcesy_mae: 1.34e-01, forcesz_mae: 1.63e-01, forces_mae: 1.35e-01, forces_cosine_similarity: 1.10e-02, forces_magnitude_error: 2.75e-01, loss: 1.16e+01, lr: 4.02e-04, epoch: 4.45e-02, step: 9.80e+02\n",
      "2024-05-28 22:58:14 (INFO): energy_forces_within_threshold: 0.00e+00, energy_mae: 4.29e+00, forcesx_mae: 7.81e-02, forcesy_mae: 1.03e-01, forcesz_mae: 1.11e-01, forces_mae: 9.71e-02, forces_cosine_similarity: 1.19e-02, forces_magnitude_error: 1.88e-01, loss: 8.65e+00, lr: 4.02e-04, epoch: 4.48e-02, step: 9.85e+02\n",
      "2024-05-28 22:58:15 (INFO): energy_forces_within_threshold: 0.00e+00, energy_mae: 5.55e+00, forcesx_mae: 7.39e-02, forcesy_mae: 8.53e-02, forcesz_mae: 7.78e-02, forces_mae: 7.90e-02, forces_cosine_similarity: -1.57e-02, forces_magnitude_error: 1.52e-01, loss: 7.41e+00, lr: 4.02e-04, epoch: 4.50e-02, step: 9.90e+02\n",
      "2024-05-28 22:58:15 (INFO): energy_forces_within_threshold: 0.00e+00, energy_mae: 3.22e+00, forcesx_mae: 6.45e-02, forcesy_mae: 7.75e-02, forcesz_mae: 6.80e-02, forces_mae: 7.00e-02, forces_cosine_similarity: 3.26e-02, forces_magnitude_error: 1.38e-01, loss: 6.05e+00, lr: 4.02e-04, epoch: 4.52e-02, step: 9.95e+02\n",
      "2024-05-28 22:58:16 (INFO): energy_forces_within_threshold: 0.00e+00, energy_mae: 2.38e+00, forcesx_mae: 5.38e-02, forcesy_mae: 6.13e-02, forcesz_mae: 5.87e-02, forces_mae: 5.79e-02, forces_cosine_similarity: 5.12e-02, forces_magnitude_error: 1.13e-01, loss: 4.96e+00, lr: 4.02e-04, epoch: 4.54e-02, step: 1.00e+03\n",
      "2024-05-28 22:58:16 (INFO): energy_forces_within_threshold: 0.00e+00, energy_mae: 3.67e+00, forcesx_mae: 5.63e-02, forcesy_mae: 6.15e-02, forcesz_mae: 5.84e-02, forces_mae: 5.87e-02, forces_cosine_similarity: 1.71e-02, forces_magnitude_error: 1.15e-01, loss: 5.68e+00, lr: 4.02e-04, epoch: 4.57e-02, step: 1.00e+03\n",
      "2024-05-28 22:58:17 (INFO): energy_forces_within_threshold: 0.00e+00, energy_mae: 6.70e+00, forcesx_mae: 9.13e-02, forcesy_mae: 9.40e-02, forcesz_mae: 1.06e-01, forces_mae: 9.72e-02, forces_cosine_similarity: 1.95e-02, forces_magnitude_error: 1.91e-01, loss: 8.98e+00, lr: 4.02e-04, epoch: 4.59e-02, step: 1.01e+03\n",
      "2024-05-28 22:58:17 (INFO): energy_forces_within_threshold: 0.00e+00, energy_mae: 8.30e+00, forcesx_mae: 6.28e-02, forcesy_mae: 7.42e-02, forcesz_mae: 8.20e-02, forces_mae: 7.30e-02, forces_cosine_similarity: -2.65e-02, forces_magnitude_error: 1.46e-01, loss: 8.22e+00, lr: 4.02e-04, epoch: 4.61e-02, step: 1.02e+03\n",
      "2024-05-28 22:58:18 (INFO): energy_forces_within_threshold: 0.00e+00, energy_mae: 1.09e+01, forcesx_mae: 5.90e-02, forcesy_mae: 6.01e-02, forcesz_mae: 6.92e-02, forces_mae: 6.28e-02, forces_cosine_similarity: 2.15e-02, forces_magnitude_error: 1.24e-01, loss: 8.31e+00, lr: 4.02e-04, epoch: 4.64e-02, step: 1.02e+03\n",
      "2024-05-28 22:58:18 (INFO): energy_forces_within_threshold: 0.00e+00, energy_mae: 1.37e+01, forcesx_mae: 5.19e-02, forcesy_mae: 8.06e-02, forcesz_mae: 7.47e-02, forces_mae: 6.91e-02, forces_cosine_similarity: 1.65e-02, forces_magnitude_error: 1.43e-01, loss: 9.91e+00, lr: 4.02e-04, epoch: 4.66e-02, step: 1.02e+03\n",
      "2024-05-28 22:58:19 (INFO): energy_forces_within_threshold: 0.00e+00, energy_mae: 3.79e+00, forcesx_mae: 7.60e-02, forcesy_mae: 9.39e-02, forcesz_mae: 8.71e-02, forces_mae: 8.57e-02, forces_cosine_similarity: 1.27e-02, forces_magnitude_error: 1.70e-01, loss: 7.70e+00, lr: 4.02e-04, epoch: 4.68e-02, step: 1.03e+03\n",
      "2024-05-28 22:58:19 (INFO): energy_forces_within_threshold: 0.00e+00, energy_mae: 4.50e+00, forcesx_mae: 7.23e-02, forcesy_mae: 7.59e-02, forcesz_mae: 8.34e-02, forces_mae: 7.72e-02, forces_cosine_similarity: 2.80e-02, forces_magnitude_error: 1.50e-01, loss: 7.08e+00, lr: 4.02e-04, epoch: 4.70e-02, step: 1.04e+03\n",
      "2024-05-28 22:58:20 (INFO): energy_forces_within_threshold: 0.00e+00, energy_mae: 5.27e+00, forcesx_mae: 4.94e-02, forcesy_mae: 5.87e-02, forcesz_mae: 6.01e-02, forces_mae: 5.61e-02, forces_cosine_similarity: 6.59e-02, forces_magnitude_error: 1.05e-01, loss: 5.79e+00, lr: 4.02e-04, epoch: 4.73e-02, step: 1.04e+03\n",
      "2024-05-28 22:58:20 (INFO): energy_forces_within_threshold: 0.00e+00, energy_mae: 7.91e+00, forcesx_mae: 6.75e-02, forcesy_mae: 1.03e-01, forcesz_mae: 1.01e-01, forces_mae: 9.05e-02, forces_cosine_similarity: 7.77e-02, forces_magnitude_error: 1.79e-01, loss: 9.38e+00, lr: 4.02e-04, epoch: 4.75e-02, step: 1.04e+03\n",
      "2024-05-28 22:58:21 (INFO): energy_forces_within_threshold: 0.00e+00, energy_mae: 7.39e+00, forcesx_mae: 6.92e-02, forcesy_mae: 9.03e-02, forcesz_mae: 8.09e-02, forces_mae: 8.01e-02, forces_cosine_similarity: 3.45e-02, forces_magnitude_error: 1.53e-01, loss: 7.99e+00, lr: 4.02e-04, epoch: 4.77e-02, step: 1.05e+03\n",
      "2024-05-28 22:58:21 (INFO): energy_forces_within_threshold: 0.00e+00, energy_mae: 7.96e+00, forcesx_mae: 5.91e-02, forcesy_mae: 7.13e-02, forcesz_mae: 8.75e-02, forces_mae: 7.26e-02, forces_cosine_similarity: 2.71e-02, forces_magnitude_error: 1.45e-01, loss: 8.06e+00, lr: 4.02e-04, epoch: 4.79e-02, step: 1.06e+03\n",
      "2024-05-28 22:58:22 (INFO): energy_forces_within_threshold: 0.00e+00, energy_mae: 1.12e+01, forcesx_mae: 5.92e-02, forcesy_mae: 6.98e-02, forcesz_mae: 6.75e-02, forces_mae: 6.55e-02, forces_cosine_similarity: -1.90e-02, forces_magnitude_error: 1.30e-01, loss: 8.72e+00, lr: 4.02e-04, epoch: 4.82e-02, step: 1.06e+03\n",
      "2024-05-28 22:58:22 (INFO): energy_forces_within_threshold: 0.00e+00, energy_mae: 5.81e+00, forcesx_mae: 5.65e-02, forcesy_mae: 7.42e-02, forcesz_mae: 8.23e-02, forces_mae: 7.10e-02, forces_cosine_similarity: 1.76e-02, forces_magnitude_error: 1.42e-01, loss: 7.14e+00, lr: 4.02e-04, epoch: 4.84e-02, step: 1.06e+03\n",
      "2024-05-28 22:58:23 (INFO): energy_forces_within_threshold: 0.00e+00, energy_mae: 5.59e+00, forcesx_mae: 8.77e-02, forcesy_mae: 8.52e-02, forcesz_mae: 1.54e-01, forces_mae: 1.09e-01, forces_cosine_similarity: 5.11e-03, forces_magnitude_error: 2.22e-01, loss: 9.88e+00, lr: 4.02e-04, epoch: 4.86e-02, step: 1.07e+03\n",
      "2024-05-28 22:58:23 (INFO): energy_forces_within_threshold: 0.00e+00, energy_mae: 6.02e+00, forcesx_mae: 4.85e-02, forcesy_mae: 6.31e-02, forcesz_mae: 6.11e-02, forces_mae: 5.76e-02, forces_cosine_similarity: 2.63e-02, forces_magnitude_error: 1.15e-01, loss: 6.20e+00, lr: 4.02e-04, epoch: 4.89e-02, step: 1.08e+03\n",
      "2024-05-28 22:58:24 (INFO): energy_forces_within_threshold: 0.00e+00, energy_mae: 5.72e+00, forcesx_mae: 7.33e-02, forcesy_mae: 6.78e-02, forcesz_mae: 7.74e-02, forces_mae: 7.28e-02, forces_cosine_similarity: 1.81e-02, forces_magnitude_error: 1.49e-01, loss: 7.48e+00, lr: 4.02e-04, epoch: 4.91e-02, step: 1.08e+03\n",
      "2024-05-28 22:58:24 (INFO): energy_forces_within_threshold: 0.00e+00, energy_mae: 6.77e+00, forcesx_mae: 7.73e-02, forcesy_mae: 9.85e-02, forcesz_mae: 7.96e-02, forces_mae: 8.51e-02, forces_cosine_similarity: -1.90e-02, forces_magnitude_error: 1.72e-01, loss: 8.61e+00, lr: 4.02e-04, epoch: 4.93e-02, step: 1.08e+03\n",
      "2024-05-28 22:58:25 (INFO): energy_forces_within_threshold: 0.00e+00, energy_mae: 8.20e+00, forcesx_mae: 1.04e-01, forcesy_mae: 1.04e-01, forcesz_mae: 1.19e-01, forces_mae: 1.09e-01, forces_cosine_similarity: 1.26e-02, forces_magnitude_error: 2.20e-01, loss: 1.04e+01, lr: 4.02e-04, epoch: 4.95e-02, step: 1.09e+03\n",
      "2024-05-28 22:58:25 (INFO): energy_forces_within_threshold: 0.00e+00, energy_mae: 7.31e+00, forcesx_mae: 8.00e-02, forcesy_mae: 9.22e-02, forcesz_mae: 9.31e-02, forces_mae: 8.85e-02, forces_cosine_similarity: -1.04e-02, forces_magnitude_error: 1.71e-01, loss: 8.41e+00, lr: 4.02e-04, epoch: 4.98e-02, step: 1.10e+03\n",
      "2024-05-28 22:58:26 (INFO): energy_forces_within_threshold: 0.00e+00, energy_mae: 4.73e+00, forcesx_mae: 6.52e-02, forcesy_mae: 8.82e-02, forcesz_mae: 8.55e-02, forces_mae: 7.96e-02, forces_cosine_similarity: 2.96e-02, forces_magnitude_error: 1.63e-01, loss: 7.55e+00, lr: 4.02e-04, epoch: 5.00e-02, step: 1.10e+03\n",
      "2024-05-28 22:58:26 (INFO): energy_forces_within_threshold: 0.00e+00, energy_mae: 4.13e+00, forcesx_mae: 7.03e-02, forcesy_mae: 7.16e-02, forcesz_mae: 8.26e-02, forces_mae: 7.48e-02, forces_cosine_similarity: -1.65e-02, forces_magnitude_error: 1.46e-01, loss: 6.88e+00, lr: 4.02e-04, epoch: 5.02e-02, step: 1.10e+03\n",
      "2024-05-28 22:58:26 (INFO): energy_forces_within_threshold: 0.00e+00, energy_mae: 3.87e+00, forcesx_mae: 6.51e-02, forcesy_mae: 7.89e-02, forcesz_mae: 8.99e-02, forces_mae: 7.80e-02, forces_cosine_similarity: 2.01e-02, forces_magnitude_error: 1.55e-01, loss: 7.15e+00, lr: 4.02e-04, epoch: 5.04e-02, step: 1.11e+03\n",
      "2024-05-28 22:58:27 (INFO): energy_forces_within_threshold: 0.00e+00, energy_mae: 3.28e+00, forcesx_mae: 4.68e-02, forcesy_mae: 6.02e-02, forcesz_mae: 7.33e-02, forces_mae: 6.01e-02, forces_cosine_similarity: 2.43e-02, forces_magnitude_error: 1.21e-01, loss: 5.56e+00, lr: 4.02e-04, epoch: 5.07e-02, step: 1.12e+03\n",
      "2024-05-28 22:58:27 (INFO): energy_forces_within_threshold: 0.00e+00, energy_mae: 5.64e+00, forcesx_mae: 7.79e-02, forcesy_mae: 1.22e-01, forcesz_mae: 1.04e-01, forces_mae: 1.01e-01, forces_cosine_similarity: 1.43e-02, forces_magnitude_error: 2.05e-01, loss: 1.02e+01, lr: 4.02e-04, epoch: 5.09e-02, step: 1.12e+03\n",
      "2024-05-28 22:58:28 (INFO): energy_forces_within_threshold: 0.00e+00, energy_mae: 2.86e+00, forcesx_mae: 7.45e-02, forcesy_mae: 9.15e-02, forcesz_mae: 1.11e-01, forces_mae: 9.24e-02, forces_cosine_similarity: 2.25e-02, forces_magnitude_error: 1.85e-01, loss: 7.70e+00, lr: 4.02e-04, epoch: 5.11e-02, step: 1.12e+03\n",
      "2024-05-28 22:58:28 (INFO): energy_forces_within_threshold: 0.00e+00, energy_mae: 3.28e+00, forcesx_mae: 7.66e-02, forcesy_mae: 8.28e-02, forcesz_mae: 8.78e-02, forces_mae: 8.24e-02, forces_cosine_similarity: 1.06e-02, forces_magnitude_error: 1.68e-01, loss: 7.18e+00, lr: 4.02e-04, epoch: 5.14e-02, step: 1.13e+03\n",
      "2024-05-28 22:58:29 (INFO): energy_forces_within_threshold: 0.00e+00, energy_mae: 5.41e+00, forcesx_mae: 4.75e-02, forcesy_mae: 5.98e-02, forcesz_mae: 6.29e-02, forces_mae: 5.67e-02, forces_cosine_similarity: 1.40e-02, forces_magnitude_error: 1.12e-01, loss: 5.84e+00, lr: 4.02e-04, epoch: 5.16e-02, step: 1.14e+03\n",
      "2024-05-28 22:58:29 (INFO): energy_forces_within_threshold: 0.00e+00, energy_mae: 5.42e+00, forcesx_mae: 4.40e-02, forcesy_mae: 1.29e-01, forcesz_mae: 8.97e-02, forces_mae: 8.76e-02, forces_cosine_similarity: 2.90e-02, forces_magnitude_error: 1.77e-01, loss: 9.79e+00, lr: 4.02e-04, epoch: 5.18e-02, step: 1.14e+03\n",
      "2024-05-28 22:58:30 (INFO): energy_forces_within_threshold: 0.00e+00, energy_mae: 4.14e+00, forcesx_mae: 7.87e-02, forcesy_mae: 1.21e-01, forcesz_mae: 1.21e-01, forces_mae: 1.07e-01, forces_cosine_similarity: 4.68e-02, forces_magnitude_error: 2.09e-01, loss: 9.43e+00, lr: 4.02e-04, epoch: 5.20e-02, step: 1.14e+03\n",
      "2024-05-28 22:58:30 (INFO): energy_forces_within_threshold: 0.00e+00, energy_mae: 5.81e+00, forcesx_mae: 4.26e-02, forcesy_mae: 7.88e-02, forcesz_mae: 7.64e-02, forces_mae: 6.59e-02, forces_cosine_similarity: 1.57e-02, forces_magnitude_error: 1.30e-01, loss: 6.65e+00, lr: 4.02e-04, epoch: 5.23e-02, step: 1.15e+03\n",
      "2024-05-28 22:58:31 (INFO): energy_forces_within_threshold: 0.00e+00, energy_mae: 5.90e+00, forcesx_mae: 7.87e-02, forcesy_mae: 8.98e-02, forcesz_mae: 1.05e-01, forces_mae: 9.12e-02, forces_cosine_similarity: 2.73e-02, forces_magnitude_error: 1.87e-01, loss: 8.88e+00, lr: 4.02e-04, epoch: 5.25e-02, step: 1.16e+03\n",
      "2024-05-28 22:58:31 (INFO): energy_forces_within_threshold: 0.00e+00, energy_mae: 3.65e+00, forcesx_mae: 1.07e-01, forcesy_mae: 1.29e-01, forcesz_mae: 1.48e-01, forces_mae: 1.28e-01, forces_cosine_similarity: -1.51e-02, forces_magnitude_error: 2.49e-01, loss: 1.03e+01, lr: 4.02e-04, epoch: 5.27e-02, step: 1.16e+03\n",
      "2024-05-28 22:58:32 (INFO): energy_forces_within_threshold: 0.00e+00, energy_mae: 3.14e+00, forcesx_mae: 5.41e-02, forcesy_mae: 6.78e-02, forcesz_mae: 6.72e-02, forces_mae: 6.30e-02, forces_cosine_similarity: 8.12e-03, forces_magnitude_error: 1.23e-01, loss: 5.66e+00, lr: 4.02e-04, epoch: 5.29e-02, step: 1.16e+03\n",
      "2024-05-28 22:58:32 (INFO): energy_forces_within_threshold: 0.00e+00, energy_mae: 2.94e+00, forcesx_mae: 8.90e-02, forcesy_mae: 1.38e-01, forcesz_mae: 1.09e-01, forces_mae: 1.12e-01, forces_cosine_similarity: 1.99e-02, forces_magnitude_error: 2.23e-01, loss: 8.97e+00, lr: 4.02e-04, epoch: 5.32e-02, step: 1.17e+03\n",
      "2024-05-28 22:58:33 (INFO): energy_forces_within_threshold: 0.00e+00, energy_mae: 4.35e+00, forcesx_mae: 5.40e-02, forcesy_mae: 7.11e-02, forcesz_mae: 6.52e-02, forces_mae: 6.35e-02, forces_cosine_similarity: 2.51e-02, forces_magnitude_error: 1.27e-01, loss: 6.20e+00, lr: 4.02e-04, epoch: 5.34e-02, step: 1.18e+03\n",
      "2024-05-28 22:58:33 (INFO): energy_forces_within_threshold: 0.00e+00, energy_mae: 4.42e+00, forcesx_mae: 7.25e-02, forcesy_mae: 7.95e-02, forcesz_mae: 7.33e-02, forces_mae: 7.51e-02, forces_cosine_similarity: -1.29e-02, forces_magnitude_error: 1.51e-01, loss: 7.01e+00, lr: 4.02e-04, epoch: 5.36e-02, step: 1.18e+03\n",
      "2024-05-28 22:58:34 (INFO): energy_forces_within_threshold: 0.00e+00, energy_mae: 6.45e+00, forcesx_mae: 4.31e-02, forcesy_mae: 7.33e-02, forcesz_mae: 6.47e-02, forces_mae: 6.04e-02, forces_cosine_similarity: 1.20e-02, forces_magnitude_error: 1.25e-01, loss: 6.72e+00, lr: 4.02e-04, epoch: 5.39e-02, step: 1.18e+03\n",
      "2024-05-28 22:58:34 (INFO): energy_forces_within_threshold: 0.00e+00, energy_mae: 8.08e+00, forcesx_mae: 5.66e-02, forcesy_mae: 7.01e-02, forcesz_mae: 7.86e-02, forces_mae: 6.84e-02, forces_cosine_similarity: -2.04e-03, forces_magnitude_error: 1.37e-01, loss: 7.69e+00, lr: 4.02e-04, epoch: 5.41e-02, step: 1.19e+03\n",
      "2024-05-28 22:58:35 (INFO): energy_forces_within_threshold: 0.00e+00, energy_mae: 1.00e+01, forcesx_mae: 4.86e-02, forcesy_mae: 6.28e-02, forcesz_mae: 6.44e-02, forces_mae: 5.86e-02, forces_cosine_similarity: 2.63e-02, forces_magnitude_error: 1.19e-01, loss: 7.95e+00, lr: 4.02e-04, epoch: 5.43e-02, step: 1.20e+03\n",
      "2024-05-28 22:58:35 (INFO): energy_forces_within_threshold: 0.00e+00, energy_mae: 9.09e+00, forcesx_mae: 1.19e-01, forcesy_mae: 1.35e-01, forcesz_mae: 1.40e-01, forces_mae: 1.31e-01, forces_cosine_similarity: 4.33e-02, forces_magnitude_error: 2.60e-01, loss: 1.27e+01, lr: 4.02e-04, epoch: 5.45e-02, step: 1.20e+03\n",
      "2024-05-28 22:58:36 (INFO): energy_forces_within_threshold: 0.00e+00, energy_mae: 6.53e+00, forcesx_mae: 3.76e-02, forcesy_mae: 4.46e-02, forcesz_mae: 4.02e-02, forces_mae: 4.08e-02, forces_cosine_similarity: 1.58e-02, forces_magnitude_error: 7.97e-02, loss: 5.27e+00, lr: 4.02e-04, epoch: 5.48e-02, step: 1.20e+03\n",
      "2024-05-28 22:58:36 (INFO): energy_forces_within_threshold: 0.00e+00, energy_mae: 4.58e+00, forcesx_mae: 8.58e-02, forcesy_mae: 8.78e-02, forcesz_mae: 9.78e-02, forces_mae: 9.05e-02, forces_cosine_similarity: 6.82e-03, forces_magnitude_error: 1.80e-01, loss: 8.17e+00, lr: 4.02e-04, epoch: 5.50e-02, step: 1.21e+03\n",
      "2024-05-28 22:58:37 (INFO): energy_forces_within_threshold: 0.00e+00, energy_mae: 6.22e+00, forcesx_mae: 7.70e-02, forcesy_mae: 1.04e-01, forcesz_mae: 1.06e-01, forces_mae: 9.58e-02, forces_cosine_similarity: 1.68e-02, forces_magnitude_error: 2.00e-01, loss: 9.47e+00, lr: 4.02e-04, epoch: 5.52e-02, step: 1.22e+03\n",
      "2024-05-28 22:58:37 (INFO): energy_forces_within_threshold: 0.00e+00, energy_mae: 4.58e+00, forcesx_mae: 5.43e-02, forcesy_mae: 6.77e-02, forcesz_mae: 7.43e-02, forces_mae: 6.54e-02, forces_cosine_similarity: 4.11e-03, forces_magnitude_error: 1.31e-01, loss: 6.58e+00, lr: 4.02e-04, epoch: 5.54e-02, step: 1.22e+03\n",
      "2024-05-28 22:58:38 (INFO): energy_forces_within_threshold: 0.00e+00, energy_mae: 5.85e+00, forcesx_mae: 1.04e-01, forcesy_mae: 1.38e-01, forcesz_mae: 1.08e-01, forces_mae: 1.17e-01, forces_cosine_similarity: 2.84e-02, forces_magnitude_error: 2.44e-01, loss: 1.16e+01, lr: 4.02e-04, epoch: 5.57e-02, step: 1.22e+03\n",
      "2024-05-28 22:58:39 (INFO): energy_forces_within_threshold: 0.00e+00, energy_mae: 4.31e+00, forcesx_mae: 4.51e-02, forcesy_mae: 5.69e-02, forcesz_mae: 6.52e-02, forces_mae: 5.58e-02, forces_cosine_similarity: 6.31e-02, forces_magnitude_error: 1.11e-01, loss: 5.48e+00, lr: 4.02e-04, epoch: 5.59e-02, step: 1.23e+03\n",
      "2024-05-28 22:58:39 (INFO): energy_forces_within_threshold: 0.00e+00, energy_mae: 3.22e+00, forcesx_mae: 6.11e-02, forcesy_mae: 7.20e-02, forcesz_mae: 8.69e-02, forces_mae: 7.33e-02, forces_cosine_similarity: 7.48e-03, forces_magnitude_error: 1.47e-01, loss: 6.53e+00, lr: 4.02e-04, epoch: 5.61e-02, step: 1.24e+03\n",
      "2024-05-28 22:58:40 (INFO): energy_forces_within_threshold: 0.00e+00, energy_mae: 3.81e+00, forcesx_mae: 5.44e-02, forcesy_mae: 6.58e-02, forcesz_mae: 6.74e-02, forces_mae: 6.25e-02, forces_cosine_similarity: 1.67e-02, forces_magnitude_error: 1.25e-01, loss: 5.84e+00, lr: 4.02e-04, epoch: 5.64e-02, step: 1.24e+03\n",
      "2024-05-28 22:58:40 (INFO): energy_forces_within_threshold: 0.00e+00, energy_mae: 3.29e+00, forcesx_mae: 6.33e-02, forcesy_mae: 7.97e-02, forcesz_mae: 6.91e-02, forces_mae: 7.07e-02, forces_cosine_similarity: 2.48e-03, forces_magnitude_error: 1.39e-01, loss: 6.04e+00, lr: 4.02e-04, epoch: 5.66e-02, step: 1.24e+03\n",
      "2024-05-28 22:58:41 (INFO): energy_forces_within_threshold: 0.00e+00, energy_mae: 2.13e+00, forcesx_mae: 6.94e-02, forcesy_mae: 1.01e-01, forcesz_mae: 9.16e-02, forces_mae: 8.73e-02, forces_cosine_similarity: 2.22e-02, forces_magnitude_error: 1.76e-01, loss: 7.46e+00, lr: 4.02e-04, epoch: 5.68e-02, step: 1.25e+03\n",
      "2024-05-28 22:58:41 (INFO): energy_forces_within_threshold: 0.00e+00, energy_mae: 3.78e+00, forcesx_mae: 5.60e-02, forcesy_mae: 7.60e-02, forcesz_mae: 8.37e-02, forces_mae: 7.19e-02, forces_cosine_similarity: 2.36e-02, forces_magnitude_error: 1.42e-01, loss: 6.42e+00, lr: 4.02e-04, epoch: 5.70e-02, step: 1.26e+03\n",
      "2024-05-28 22:58:42 (INFO): energy_forces_within_threshold: 0.00e+00, energy_mae: 4.97e+00, forcesx_mae: 4.86e-02, forcesy_mae: 5.73e-02, forcesz_mae: 6.02e-02, forces_mae: 5.54e-02, forces_cosine_similarity: 2.95e-02, forces_magnitude_error: 1.05e-01, loss: 5.70e+00, lr: 4.02e-04, epoch: 5.73e-02, step: 1.26e+03\n",
      "2024-05-28 22:58:42 (INFO): energy_forces_within_threshold: 0.00e+00, energy_mae: 5.90e+00, forcesx_mae: 7.64e-02, forcesy_mae: 1.03e-01, forcesz_mae: 9.90e-02, forces_mae: 9.28e-02, forces_cosine_similarity: 2.80e-02, forces_magnitude_error: 1.84e-01, loss: 8.53e+00, lr: 4.02e-04, epoch: 5.75e-02, step: 1.26e+03\n",
      "2024-05-28 22:58:43 (INFO): energy_forces_within_threshold: 0.00e+00, energy_mae: 4.96e+00, forcesx_mae: 4.89e-02, forcesy_mae: 6.22e-02, forcesz_mae: 6.62e-02, forces_mae: 5.91e-02, forces_cosine_similarity: 3.07e-02, forces_magnitude_error: 1.19e-01, loss: 6.10e+00, lr: 4.02e-04, epoch: 5.77e-02, step: 1.27e+03\n",
      "2024-05-28 22:58:43 (INFO): energy_forces_within_threshold: 0.00e+00, energy_mae: 4.49e+00, forcesx_mae: 6.73e-02, forcesy_mae: 1.00e-01, forcesz_mae: 1.18e-01, forces_mae: 9.50e-02, forces_cosine_similarity: 5.07e-02, forces_magnitude_error: 1.89e-01, loss: 8.04e+00, lr: 4.02e-04, epoch: 5.79e-02, step: 1.28e+03\n",
      "2024-05-28 22:58:44 (INFO): energy_forces_within_threshold: 0.00e+00, energy_mae: 2.62e+00, forcesx_mae: 6.51e-02, forcesy_mae: 8.74e-02, forcesz_mae: 9.32e-02, forces_mae: 8.19e-02, forces_cosine_similarity: 4.54e-02, forces_magnitude_error: 1.59e-01, loss: 6.65e+00, lr: 4.02e-04, epoch: 5.82e-02, step: 1.28e+03\n",
      "2024-05-28 22:58:44 (INFO): energy_forces_within_threshold: 0.00e+00, energy_mae: 3.13e+00, forcesx_mae: 6.18e-02, forcesy_mae: 7.43e-02, forcesz_mae: 8.80e-02, forces_mae: 7.47e-02, forces_cosine_similarity: 4.55e-02, forces_magnitude_error: 1.49e-01, loss: 6.70e+00, lr: 4.02e-04, epoch: 5.84e-02, step: 1.28e+03\n",
      "2024-05-28 22:58:45 (INFO): energy_forces_within_threshold: 0.00e+00, energy_mae: 3.08e+00, forcesx_mae: 6.44e-02, forcesy_mae: 8.87e-02, forcesz_mae: 1.74e-01, forces_mae: 1.09e-01, forces_cosine_similarity: 6.00e-02, forces_magnitude_error: 2.49e-01, loss: 1.01e+01, lr: 4.02e-04, epoch: 5.86e-02, step: 1.29e+03\n",
      "2024-05-28 22:58:45 (INFO): energy_forces_within_threshold: 0.00e+00, energy_mae: 2.74e+00, forcesx_mae: 5.41e-02, forcesy_mae: 7.56e-02, forcesz_mae: 6.74e-02, forces_mae: 6.57e-02, forces_cosine_similarity: 1.29e-02, forces_magnitude_error: 1.27e-01, loss: 5.65e+00, lr: 4.02e-04, epoch: 5.89e-02, step: 1.30e+03\n",
      "2024-05-28 22:58:46 (INFO): energy_forces_within_threshold: 0.00e+00, energy_mae: 4.43e+00, forcesx_mae: 4.58e-02, forcesy_mae: 5.23e-02, forcesz_mae: 5.88e-02, forces_mae: 5.23e-02, forces_cosine_similarity: 6.54e-03, forces_magnitude_error: 9.96e-02, loss: 5.33e+00, lr: 4.02e-04, epoch: 5.91e-02, step: 1.30e+03\n",
      "2024-05-28 22:58:46 (INFO): energy_forces_within_threshold: 0.00e+00, energy_mae: 5.70e+00, forcesx_mae: 9.15e-02, forcesy_mae: 1.06e-01, forcesz_mae: 1.18e-01, forces_mae: 1.05e-01, forces_cosine_similarity: 1.33e-02, forces_magnitude_error: 2.05e-01, loss: 9.53e+00, lr: 4.02e-04, epoch: 5.93e-02, step: 1.30e+03\n",
      "2024-05-28 22:58:47 (INFO): energy_forces_within_threshold: 0.00e+00, energy_mae: 3.68e+00, forcesx_mae: 3.97e-02, forcesy_mae: 5.16e-02, forcesz_mae: 5.36e-02, forces_mae: 4.83e-02, forces_cosine_similarity: 6.76e-04, forces_magnitude_error: 9.62e-02, loss: 4.96e+00, lr: 4.02e-04, epoch: 5.95e-02, step: 1.31e+03\n",
      "2024-05-28 22:58:47 (INFO): energy_forces_within_threshold: 0.00e+00, energy_mae: 5.03e+00, forcesx_mae: 1.27e-01, forcesy_mae: 1.60e-01, forcesz_mae: 1.38e-01, forces_mae: 1.42e-01, forces_cosine_similarity: 8.37e-02, forces_magnitude_error: 2.74e-01, loss: 1.24e+01, lr: 4.02e-04, epoch: 5.98e-02, step: 1.32e+03\n",
      "2024-05-28 22:58:48 (INFO): energy_forces_within_threshold: 0.00e+00, energy_mae: 5.18e+00, forcesx_mae: 7.32e-02, forcesy_mae: 1.06e-01, forcesz_mae: 1.03e-01, forces_mae: 9.40e-02, forces_cosine_similarity: 5.95e-02, forces_magnitude_error: 1.91e-01, loss: 8.71e+00, lr: 4.02e-04, epoch: 6.00e-02, step: 1.32e+03\n",
      "2024-05-28 22:58:48 (INFO): energy_forces_within_threshold: 0.00e+00, energy_mae: 2.89e+00, forcesx_mae: 1.46e-01, forcesy_mae: 1.75e-01, forcesz_mae: 9.32e-02, forces_mae: 1.38e-01, forces_cosine_similarity: 6.28e-02, forces_magnitude_error: 2.88e-01, loss: 1.17e+01, lr: 4.02e-04, epoch: 6.02e-02, step: 1.32e+03\n",
      "2024-05-28 22:58:49 (INFO): energy_forces_within_threshold: 0.00e+00, energy_mae: 2.65e+00, forcesx_mae: 5.45e-02, forcesy_mae: 1.11e-01, forcesz_mae: 9.58e-02, forces_mae: 8.70e-02, forces_cosine_similarity: 3.56e-02, forces_magnitude_error: 1.77e-01, loss: 7.35e+00, lr: 4.02e-04, epoch: 6.04e-02, step: 1.33e+03\n",
      "2024-05-28 22:58:49 (INFO): energy_forces_within_threshold: 0.00e+00, energy_mae: 4.25e+00, forcesx_mae: 5.57e-02, forcesy_mae: 6.92e-02, forcesz_mae: 7.57e-02, forces_mae: 6.68e-02, forces_cosine_similarity: 1.28e-02, forces_magnitude_error: 1.29e-01, loss: 6.20e+00, lr: 4.02e-04, epoch: 6.07e-02, step: 1.34e+03\n",
      "2024-05-28 22:58:50 (INFO): energy_forces_within_threshold: 0.00e+00, energy_mae: 4.40e+00, forcesx_mae: 6.12e-02, forcesy_mae: 8.74e-02, forcesz_mae: 1.11e-01, forces_mae: 8.65e-02, forces_cosine_similarity: 4.27e-02, forces_magnitude_error: 1.74e-01, loss: 7.93e+00, lr: 4.02e-04, epoch: 6.09e-02, step: 1.34e+03\n",
      "2024-05-28 22:58:50 (INFO): energy_forces_within_threshold: 0.00e+00, energy_mae: 3.07e+00, forcesx_mae: 6.72e-02, forcesy_mae: 9.98e-02, forcesz_mae: 8.56e-02, forces_mae: 8.42e-02, forces_cosine_similarity: 3.00e-02, forces_magnitude_error: 1.71e-01, loss: 7.45e+00, lr: 4.02e-04, epoch: 6.11e-02, step: 1.34e+03\n",
      "2024-05-28 22:58:51 (INFO): energy_forces_within_threshold: 0.00e+00, energy_mae: 4.51e+00, forcesx_mae: 7.72e-02, forcesy_mae: 9.11e-02, forcesz_mae: 1.04e-01, forces_mae: 9.07e-02, forces_cosine_similarity: -1.32e-02, forces_magnitude_error: 1.76e-01, loss: 8.05e+00, lr: 4.02e-04, epoch: 6.14e-02, step: 1.35e+03\n",
      "2024-05-28 22:58:51 (INFO): energy_forces_within_threshold: 0.00e+00, energy_mae: 3.54e+00, forcesx_mae: 6.22e-02, forcesy_mae: 7.60e-02, forcesz_mae: 8.37e-02, forces_mae: 7.40e-02, forces_cosine_similarity: 2.84e-02, forces_magnitude_error: 1.48e-01, loss: 6.76e+00, lr: 4.02e-04, epoch: 6.16e-02, step: 1.36e+03\n",
      "2024-05-28 22:58:51 (INFO): energy_forces_within_threshold: 0.00e+00, energy_mae: 3.56e+00, forcesx_mae: 5.55e-02, forcesy_mae: 8.12e-02, forcesz_mae: 8.52e-02, forces_mae: 7.40e-02, forces_cosine_similarity: 5.28e-02, forces_magnitude_error: 1.53e-01, loss: 6.74e+00, lr: 4.02e-04, epoch: 6.18e-02, step: 1.36e+03\n",
      "2024-05-28 22:58:52 (INFO): energy_forces_within_threshold: 0.00e+00, energy_mae: 5.09e+00, forcesx_mae: 6.20e-02, forcesy_mae: 8.61e-02, forcesz_mae: 7.47e-02, forces_mae: 7.43e-02, forces_cosine_similarity: 5.77e-02, forces_magnitude_error: 1.48e-01, loss: 7.09e+00, lr: 4.02e-04, epoch: 6.20e-02, step: 1.36e+03\n",
      "2024-05-28 22:58:52 (INFO): energy_forces_within_threshold: 0.00e+00, energy_mae: 4.43e+00, forcesx_mae: 7.60e-02, forcesy_mae: 1.05e-01, forcesz_mae: 1.01e-01, forces_mae: 9.40e-02, forces_cosine_similarity: 5.40e-02, forces_magnitude_error: 1.81e-01, loss: 8.38e+00, lr: 4.02e-04, epoch: 6.23e-02, step: 1.37e+03\n",
      "2024-05-28 22:58:53 (INFO): energy_forces_within_threshold: 0.00e+00, energy_mae: 1.52e+00, forcesx_mae: 4.01e-02, forcesy_mae: 6.86e-02, forcesz_mae: 7.21e-02, forces_mae: 6.03e-02, forces_cosine_similarity: 3.08e-02, forces_magnitude_error: 1.22e-01, loss: 5.00e+00, lr: 4.02e-04, epoch: 6.25e-02, step: 1.38e+03\n",
      "2024-05-28 22:58:53 (INFO): energy_forces_within_threshold: 0.00e+00, energy_mae: 2.76e+00, forcesx_mae: 6.85e-02, forcesy_mae: 8.09e-02, forcesz_mae: 1.22e-01, forces_mae: 9.04e-02, forces_cosine_similarity: 2.86e-02, forces_magnitude_error: 1.90e-01, loss: 8.07e+00, lr: 4.02e-04, epoch: 6.27e-02, step: 1.38e+03\n",
      "2024-05-28 22:58:54 (INFO): energy_forces_within_threshold: 0.00e+00, energy_mae: 2.75e+00, forcesx_mae: 6.09e-02, forcesy_mae: 6.90e-02, forcesz_mae: 7.34e-02, forces_mae: 6.78e-02, forces_cosine_similarity: 1.37e-02, forces_magnitude_error: 1.33e-01, loss: 5.84e+00, lr: 4.02e-04, epoch: 6.29e-02, step: 1.38e+03\n",
      "2024-05-28 22:58:54 (INFO): energy_forces_within_threshold: 0.00e+00, energy_mae: 2.84e+00, forcesx_mae: 6.30e-02, forcesy_mae: 7.84e-02, forcesz_mae: 7.11e-02, forces_mae: 7.08e-02, forces_cosine_similarity: 6.11e-02, forces_magnitude_error: 1.37e-01, loss: 6.16e+00, lr: 4.02e-04, epoch: 6.32e-02, step: 1.39e+03\n",
      "2024-05-28 22:58:55 (INFO): energy_forces_within_threshold: 0.00e+00, energy_mae: 2.20e+00, forcesx_mae: 7.32e-02, forcesy_mae: 8.91e-02, forcesz_mae: 8.19e-02, forces_mae: 8.14e-02, forces_cosine_similarity: -1.61e-02, forces_magnitude_error: 1.60e-01, loss: 6.73e+00, lr: 4.02e-04, epoch: 6.34e-02, step: 1.40e+03\n",
      "2024-05-28 22:58:55 (INFO): energy_forces_within_threshold: 0.00e+00, energy_mae: 3.64e+00, forcesx_mae: 7.30e-02, forcesy_mae: 9.29e-02, forcesz_mae: 9.66e-02, forces_mae: 8.75e-02, forces_cosine_similarity: 6.67e-02, forces_magnitude_error: 1.69e-01, loss: 7.74e+00, lr: 4.02e-04, epoch: 6.36e-02, step: 1.40e+03\n",
      "2024-05-28 22:58:56 (INFO): energy_forces_within_threshold: 0.00e+00, energy_mae: 2.09e+00, forcesx_mae: 6.64e-02, forcesy_mae: 9.25e-02, forcesz_mae: 9.65e-02, forces_mae: 8.51e-02, forces_cosine_similarity: 2.83e-02, forces_magnitude_error: 1.64e-01, loss: 6.92e+00, lr: 4.02e-04, epoch: 6.39e-02, step: 1.40e+03\n",
      "2024-05-28 22:58:56 (INFO): energy_forces_within_threshold: 0.00e+00, energy_mae: 2.72e+00, forcesx_mae: 4.36e-02, forcesy_mae: 6.89e-02, forcesz_mae: 6.44e-02, forces_mae: 5.89e-02, forces_cosine_similarity: 1.04e-02, forces_magnitude_error: 1.12e-01, loss: 5.25e+00, lr: 4.02e-04, epoch: 6.41e-02, step: 1.41e+03\n",
      "2024-05-28 22:58:57 (INFO): energy_forces_within_threshold: 0.00e+00, energy_mae: 2.19e+00, forcesx_mae: 6.09e-02, forcesy_mae: 8.77e-02, forcesz_mae: 8.75e-02, forces_mae: 7.87e-02, forces_cosine_similarity: 2.20e-02, forces_magnitude_error: 1.49e-01, loss: 6.64e+00, lr: 4.02e-04, epoch: 6.43e-02, step: 1.42e+03\n",
      "2024-05-28 22:58:57 (INFO): energy_forces_within_threshold: 0.00e+00, energy_mae: 2.59e+00, forcesx_mae: 5.56e-02, forcesy_mae: 6.56e-02, forcesz_mae: 6.76e-02, forces_mae: 6.29e-02, forces_cosine_similarity: -1.01e-02, forces_magnitude_error: 1.23e-01, loss: 5.46e+00, lr: 4.02e-04, epoch: 6.45e-02, step: 1.42e+03\n",
      "2024-05-28 22:58:58 (INFO): energy_forces_within_threshold: 0.00e+00, energy_mae: 2.45e+00, forcesx_mae: 8.31e-02, forcesy_mae: 9.74e-02, forcesz_mae: 1.14e-01, forces_mae: 9.83e-02, forces_cosine_similarity: -2.89e-03, forces_magnitude_error: 1.94e-01, loss: 8.12e+00, lr: 4.02e-04, epoch: 6.48e-02, step: 1.42e+03\n",
      "2024-05-28 22:58:58 (INFO): energy_forces_within_threshold: 0.00e+00, energy_mae: 2.37e+00, forcesx_mae: 9.28e-02, forcesy_mae: 1.04e-01, forcesz_mae: 1.59e-01, forces_mae: 1.19e-01, forces_cosine_similarity: -2.76e-02, forces_magnitude_error: 2.37e-01, loss: 1.02e+01, lr: 4.02e-04, epoch: 6.50e-02, step: 1.43e+03\n",
      "2024-05-28 22:58:59 (INFO): energy_forces_within_threshold: 0.00e+00, energy_mae: 2.70e+00, forcesx_mae: 6.95e-02, forcesy_mae: 7.75e-02, forcesz_mae: 9.94e-02, forces_mae: 8.21e-02, forces_cosine_similarity: -2.38e-02, forces_magnitude_error: 1.57e-01, loss: 6.64e+00, lr: 4.02e-04, epoch: 6.52e-02, step: 1.44e+03\n",
      "2024-05-28 22:58:59 (INFO): energy_forces_within_threshold: 0.00e+00, energy_mae: 2.40e+00, forcesx_mae: 5.60e-02, forcesy_mae: 9.41e-02, forcesz_mae: 8.64e-02, forces_mae: 7.88e-02, forces_cosine_similarity: 2.55e-04, forces_magnitude_error: 1.56e-01, loss: 6.59e+00, lr: 4.02e-04, epoch: 6.54e-02, step: 1.44e+03\n",
      "2024-05-28 22:59:00 (INFO): energy_forces_within_threshold: 0.00e+00, energy_mae: 2.91e+00, forcesx_mae: 6.83e-02, forcesy_mae: 7.77e-02, forcesz_mae: 7.60e-02, forces_mae: 7.40e-02, forces_cosine_similarity: 6.08e-03, forces_magnitude_error: 1.44e-01, loss: 6.17e+00, lr: 4.02e-04, epoch: 6.57e-02, step: 1.44e+03\n",
      "2024-05-28 22:59:00 (INFO): energy_forces_within_threshold: 0.00e+00, energy_mae: 2.93e+00, forcesx_mae: 5.20e-02, forcesy_mae: 6.45e-02, forcesz_mae: 6.97e-02, forces_mae: 6.21e-02, forces_cosine_similarity: -7.01e-03, forces_magnitude_error: 1.16e-01, loss: 5.52e+00, lr: 4.02e-04, epoch: 6.59e-02, step: 1.45e+03\n",
      "2024-05-28 22:59:01 (INFO): energy_forces_within_threshold: 0.00e+00, energy_mae: 3.05e+00, forcesx_mae: 1.58e-01, forcesy_mae: 2.37e-01, forcesz_mae: 2.23e-01, forces_mae: 2.06e-01, forces_cosine_similarity: -8.72e-03, forces_magnitude_error: 4.09e-01, loss: 1.47e+01, lr: 4.02e-04, epoch: 6.61e-02, step: 1.46e+03\n",
      "2024-05-28 22:59:01 (INFO): energy_forces_within_threshold: 0.00e+00, energy_mae: 2.15e+00, forcesx_mae: 5.61e-02, forcesy_mae: 7.60e-02, forcesz_mae: 7.40e-02, forces_mae: 6.87e-02, forces_cosine_similarity: 3.12e-02, forces_magnitude_error: 1.34e-01, loss: 5.64e+00, lr: 4.02e-04, epoch: 6.64e-02, step: 1.46e+03\n",
      "2024-05-28 22:59:02 (INFO): energy_forces_within_threshold: 0.00e+00, energy_mae: 1.64e+00, forcesx_mae: 6.96e-02, forcesy_mae: 8.16e-02, forcesz_mae: 8.16e-02, forces_mae: 7.76e-02, forces_cosine_similarity: 1.66e-02, forces_magnitude_error: 1.54e-01, loss: 6.20e+00, lr: 4.02e-04, epoch: 6.66e-02, step: 1.46e+03\n",
      "2024-05-28 22:59:02 (INFO): energy_forces_within_threshold: 0.00e+00, energy_mae: 2.63e+00, forcesx_mae: 6.00e-02, forcesy_mae: 7.38e-02, forcesz_mae: 7.57e-02, forces_mae: 6.99e-02, forces_cosine_similarity: 9.63e-03, forces_magnitude_error: 1.40e-01, loss: 5.95e+00, lr: 4.02e-04, epoch: 6.68e-02, step: 1.47e+03\n",
      "2024-05-28 22:59:03 (INFO): energy_forces_within_threshold: 0.00e+00, energy_mae: 3.06e+00, forcesx_mae: 8.71e-02, forcesy_mae: 1.03e-01, forcesz_mae: 9.73e-02, forces_mae: 9.57e-02, forces_cosine_similarity: 7.74e-03, forces_magnitude_error: 1.89e-01, loss: 7.91e+00, lr: 4.02e-04, epoch: 6.70e-02, step: 1.48e+03\n",
      "2024-05-28 22:59:03 (INFO): energy_forces_within_threshold: 0.00e+00, energy_mae: 2.75e+00, forcesx_mae: 6.06e-02, forcesy_mae: 8.63e-02, forcesz_mae: 9.95e-02, forces_mae: 8.21e-02, forces_cosine_similarity: 5.26e-02, forces_magnitude_error: 1.63e-01, loss: 6.85e+00, lr: 4.02e-04, epoch: 6.73e-02, step: 1.48e+03\n",
      "2024-05-28 22:59:04 (INFO): energy_forces_within_threshold: 0.00e+00, energy_mae: 2.20e+00, forcesx_mae: 3.69e-02, forcesy_mae: 6.35e-02, forcesz_mae: 5.55e-02, forces_mae: 5.19e-02, forces_cosine_similarity: 3.10e-02, forces_magnitude_error: 1.04e-01, loss: 4.65e+00, lr: 4.02e-04, epoch: 6.75e-02, step: 1.48e+03\n",
      "2024-05-28 22:59:04 (INFO): energy_forces_within_threshold: 0.00e+00, energy_mae: 1.89e+00, forcesx_mae: 6.70e-02, forcesy_mae: 7.55e-02, forcesz_mae: 9.10e-02, forces_mae: 7.78e-02, forces_cosine_similarity: 2.56e-02, forces_magnitude_error: 1.56e-01, loss: 6.28e+00, lr: 4.02e-04, epoch: 6.77e-02, step: 1.49e+03\n",
      "2024-05-28 22:59:05 (INFO): energy_forces_within_threshold: 0.00e+00, energy_mae: 2.15e+00, forcesx_mae: 6.40e-02, forcesy_mae: 1.05e-01, forcesz_mae: 9.66e-02, forces_mae: 8.87e-02, forces_cosine_similarity: -1.04e-02, forces_magnitude_error: 1.85e-01, loss: 7.35e+00, lr: 4.02e-04, epoch: 6.79e-02, step: 1.50e+03\n",
      "2024-05-28 22:59:05 (INFO): energy_forces_within_threshold: 0.00e+00, energy_mae: 2.03e+00, forcesx_mae: 5.58e-02, forcesy_mae: 7.10e-02, forcesz_mae: 6.71e-02, forces_mae: 6.46e-02, forces_cosine_similarity: 4.31e-02, forces_magnitude_error: 1.32e-01, loss: 5.44e+00, lr: 4.02e-04, epoch: 6.82e-02, step: 1.50e+03\n",
      "2024-05-28 22:59:06 (INFO): energy_forces_within_threshold: 0.00e+00, energy_mae: 2.21e+00, forcesx_mae: 3.72e-02, forcesy_mae: 6.50e-02, forcesz_mae: 5.54e-02, forces_mae: 5.26e-02, forces_cosine_similarity: -2.86e-03, forces_magnitude_error: 1.09e-01, loss: 4.74e+00, lr: 4.02e-04, epoch: 6.84e-02, step: 1.50e+03\n",
      "2024-05-28 22:59:06 (INFO): energy_forces_within_threshold: 0.00e+00, energy_mae: 4.61e+00, forcesx_mae: 7.36e-02, forcesy_mae: 9.71e-02, forcesz_mae: 1.03e-01, forces_mae: 9.12e-02, forces_cosine_similarity: -5.75e-03, forces_magnitude_error: 1.89e-01, loss: 8.29e+00, lr: 4.02e-04, epoch: 6.86e-02, step: 1.51e+03\n",
      "2024-05-28 22:59:07 (INFO): energy_forces_within_threshold: 0.00e+00, energy_mae: 5.47e+00, forcesx_mae: 5.68e-02, forcesy_mae: 6.25e-02, forcesz_mae: 7.92e-02, forces_mae: 6.61e-02, forces_cosine_similarity: 8.03e-03, forces_magnitude_error: 1.33e-01, loss: 6.62e+00, lr: 4.02e-04, epoch: 6.89e-02, step: 1.52e+03\n",
      "2024-05-28 22:59:07 (INFO): energy_forces_within_threshold: 0.00e+00, energy_mae: 4.39e+00, forcesx_mae: 4.35e-02, forcesy_mae: 6.96e-02, forcesz_mae: 7.72e-02, forces_mae: 6.34e-02, forces_cosine_similarity: 8.57e-03, forces_magnitude_error: 1.33e-01, loss: 6.27e+00, lr: 4.02e-04, epoch: 6.91e-02, step: 1.52e+03\n",
      "2024-05-28 22:59:08 (INFO): energy_forces_within_threshold: 0.00e+00, energy_mae: 3.78e+00, forcesx_mae: 6.60e-02, forcesy_mae: 8.45e-02, forcesz_mae: 9.24e-02, forces_mae: 8.10e-02, forces_cosine_similarity: 7.80e-03, forces_magnitude_error: 1.64e-01, loss: 7.27e+00, lr: 4.02e-04, epoch: 6.93e-02, step: 1.52e+03\n",
      "2024-05-28 22:59:08 (INFO): energy_forces_within_threshold: 0.00e+00, energy_mae: 3.47e+00, forcesx_mae: 6.18e-02, forcesy_mae: 8.50e-02, forcesz_mae: 1.15e-01, forces_mae: 8.72e-02, forces_cosine_similarity: -1.22e-02, forces_magnitude_error: 1.78e-01, loss: 7.66e+00, lr: 4.02e-04, epoch: 6.95e-02, step: 1.53e+03\n",
      "2024-05-28 22:59:09 (INFO): energy_forces_within_threshold: 0.00e+00, energy_mae: 2.56e+00, forcesx_mae: 8.67e-02, forcesy_mae: 1.25e-01, forcesz_mae: 1.36e-01, forces_mae: 1.16e-01, forces_cosine_similarity: -2.16e-03, forces_magnitude_error: 2.38e-01, loss: 9.36e+00, lr: 4.02e-04, epoch: 6.98e-02, step: 1.54e+03\n",
      "2024-05-28 22:59:09 (INFO): energy_forces_within_threshold: 0.00e+00, energy_mae: 1.54e+00, forcesx_mae: 5.33e-02, forcesy_mae: 6.95e-02, forcesz_mae: 6.50e-02, forces_mae: 6.26e-02, forces_cosine_similarity: -3.71e-02, forces_magnitude_error: 1.25e-01, loss: 5.13e+00, lr: 4.02e-04, epoch: 7.00e-02, step: 1.54e+03\n",
      "2024-05-28 22:59:10 (INFO): energy_forces_within_threshold: 0.00e+00, energy_mae: 3.17e+00, forcesx_mae: 5.96e-02, forcesy_mae: 7.74e-02, forcesz_mae: 7.38e-02, forces_mae: 7.02e-02, forces_cosine_similarity: 3.06e-02, forces_magnitude_error: 1.42e-01, loss: 6.22e+00, lr: 4.02e-04, epoch: 7.02e-02, step: 1.54e+03\n",
      "2024-05-28 22:59:10 (INFO): energy_forces_within_threshold: 0.00e+00, energy_mae: 1.98e+00, forcesx_mae: 6.81e-02, forcesy_mae: 8.11e-02, forcesz_mae: 1.06e-01, forces_mae: 8.49e-02, forces_cosine_similarity: -3.62e-02, forces_magnitude_error: 1.76e-01, loss: 6.91e+00, lr: 4.02e-04, epoch: 7.04e-02, step: 1.55e+03\n",
      "2024-05-28 22:59:11 (INFO): energy_forces_within_threshold: 0.00e+00, energy_mae: 3.24e+00, forcesx_mae: 6.27e-02, forcesy_mae: 7.48e-02, forcesz_mae: 9.52e-02, forces_mae: 7.76e-02, forces_cosine_similarity: 2.14e-04, forces_magnitude_error: 1.61e-01, loss: 6.99e+00, lr: 4.02e-04, epoch: 7.07e-02, step: 1.56e+03\n",
      "2024-05-28 22:59:11 (INFO): energy_forces_within_threshold: 0.00e+00, energy_mae: 2.44e+00, forcesx_mae: 6.87e-02, forcesy_mae: 8.20e-02, forcesz_mae: 8.25e-02, forces_mae: 7.77e-02, forces_cosine_similarity: -1.35e-02, forces_magnitude_error: 1.56e-01, loss: 6.40e+00, lr: 4.02e-04, epoch: 7.09e-02, step: 1.56e+03\n",
      "2024-05-28 22:59:12 (INFO): energy_forces_within_threshold: 0.00e+00, energy_mae: 2.26e+00, forcesx_mae: 8.39e-02, forcesy_mae: 8.56e-02, forcesz_mae: 9.63e-02, forces_mae: 8.86e-02, forces_cosine_similarity: 8.45e-02, forces_magnitude_error: 1.81e-01, loss: 7.15e+00, lr: 4.02e-04, epoch: 7.11e-02, step: 1.56e+03\n",
      "2024-05-28 22:59:12 (INFO): energy_forces_within_threshold: 0.00e+00, energy_mae: 1.56e+00, forcesx_mae: 6.59e-02, forcesy_mae: 8.70e-02, forcesz_mae: 9.64e-02, forces_mae: 8.31e-02, forces_cosine_similarity: 2.12e-02, forces_magnitude_error: 1.70e-01, loss: 6.68e+00, lr: 4.02e-04, epoch: 7.14e-02, step: 1.57e+03\n",
      "2024-05-28 22:59:13 (INFO): energy_forces_within_threshold: 0.00e+00, energy_mae: 2.32e+00, forcesx_mae: 6.98e-02, forcesy_mae: 8.10e-02, forcesz_mae: 9.95e-02, forces_mae: 8.34e-02, forces_cosine_similarity: -1.09e-02, forces_magnitude_error: 1.66e-01, loss: 6.67e+00, lr: 4.02e-04, epoch: 7.16e-02, step: 1.58e+03\n",
      "2024-05-28 22:59:13 (INFO): energy_forces_within_threshold: 0.00e+00, energy_mae: 3.69e+00, forcesx_mae: 5.29e-02, forcesy_mae: 7.63e-02, forcesz_mae: 7.31e-02, forces_mae: 6.74e-02, forces_cosine_similarity: -2.56e-02, forces_magnitude_error: 1.33e-01, loss: 6.23e+00, lr: 4.02e-04, epoch: 7.18e-02, step: 1.58e+03\n",
      "2024-05-28 22:59:14 (INFO): energy_forces_within_threshold: 0.00e+00, energy_mae: 2.84e+00, forcesx_mae: 8.77e-02, forcesy_mae: 9.08e-02, forcesz_mae: 8.15e-02, forces_mae: 8.67e-02, forces_cosine_similarity: -3.32e-03, forces_magnitude_error: 1.73e-01, loss: 7.35e+00, lr: 4.02e-04, epoch: 7.20e-02, step: 1.58e+03\n",
      "2024-05-28 22:59:14 (INFO): energy_forces_within_threshold: 0.00e+00, energy_mae: 3.23e+00, forcesx_mae: 1.04e-01, forcesy_mae: 1.72e-01, forcesz_mae: 1.72e-01, forces_mae: 1.49e-01, forces_cosine_similarity: 2.32e-02, forces_magnitude_error: 3.03e-01, loss: 1.15e+01, lr: 4.02e-04, epoch: 7.23e-02, step: 1.59e+03\n",
      "2024-05-28 22:59:15 (INFO): energy_forces_within_threshold: 0.00e+00, energy_mae: 2.31e+00, forcesx_mae: 7.35e-02, forcesy_mae: 7.99e-02, forcesz_mae: 7.73e-02, forces_mae: 7.69e-02, forces_cosine_similarity: 9.86e-03, forces_magnitude_error: 1.49e-01, loss: 6.25e+00, lr: 4.02e-04, epoch: 7.25e-02, step: 1.60e+03\n",
      "2024-05-28 22:59:15 (INFO): energy_forces_within_threshold: 0.00e+00, energy_mae: 2.37e+00, forcesx_mae: 6.33e-02, forcesy_mae: 7.97e-02, forcesz_mae: 8.53e-02, forces_mae: 7.61e-02, forces_cosine_similarity: 2.72e-02, forces_magnitude_error: 1.52e-01, loss: 6.44e+00, lr: 4.02e-04, epoch: 7.27e-02, step: 1.60e+03\n",
      "2024-05-28 22:59:16 (INFO): energy_forces_within_threshold: 0.00e+00, energy_mae: 2.85e+00, forcesx_mae: 1.05e-01, forcesy_mae: 1.10e-01, forcesz_mae: 1.17e-01, forces_mae: 1.11e-01, forces_cosine_similarity: 4.74e-02, forces_magnitude_error: 2.19e-01, loss: 8.86e+00, lr: 4.02e-04, epoch: 7.29e-02, step: 1.60e+03\n",
      "2024-05-28 22:59:16 (INFO): energy_forces_within_threshold: 0.00e+00, energy_mae: 2.20e+00, forcesx_mae: 5.01e-02, forcesy_mae: 5.87e-02, forcesz_mae: 6.54e-02, forces_mae: 5.80e-02, forces_cosine_similarity: 5.06e-02, forces_magnitude_error: 1.14e-01, loss: 4.97e+00, lr: 4.02e-04, epoch: 7.32e-02, step: 1.61e+03\n",
      "2024-05-28 22:59:17 (INFO): energy_forces_within_threshold: 0.00e+00, energy_mae: 2.49e+00, forcesx_mae: 7.52e-02, forcesy_mae: 9.51e-02, forcesz_mae: 1.03e-01, forces_mae: 9.10e-02, forces_cosine_similarity: 1.21e-03, forces_magnitude_error: 1.77e-01, loss: 7.61e+00, lr: 4.02e-04, epoch: 7.34e-02, step: 1.62e+03\n",
      "2024-05-28 22:59:17 (INFO): energy_forces_within_threshold: 0.00e+00, energy_mae: 3.15e+00, forcesx_mae: 7.40e-02, forcesy_mae: 8.54e-02, forcesz_mae: 9.61e-02, forces_mae: 8.52e-02, forces_cosine_similarity: 1.29e-02, forces_magnitude_error: 1.70e-01, loss: 7.21e+00, lr: 4.02e-04, epoch: 7.36e-02, step: 1.62e+03\n",
      "2024-05-28 22:59:18 (INFO): energy_forces_within_threshold: 0.00e+00, energy_mae: 3.80e+00, forcesx_mae: 6.01e-02, forcesy_mae: 6.61e-02, forcesz_mae: 7.18e-02, forces_mae: 6.60e-02, forces_cosine_similarity: 1.39e-02, forces_magnitude_error: 1.27e-01, loss: 6.14e+00, lr: 4.02e-04, epoch: 7.39e-02, step: 1.62e+03\n",
      "2024-05-28 22:59:18 (INFO): energy_forces_within_threshold: 0.00e+00, energy_mae: 3.02e+00, forcesx_mae: 6.02e-02, forcesy_mae: 9.53e-02, forcesz_mae: 7.93e-02, forces_mae: 7.83e-02, forces_cosine_similarity: -1.89e-02, forces_magnitude_error: 1.59e-01, loss: 6.93e+00, lr: 4.02e-04, epoch: 7.41e-02, step: 1.63e+03\n",
      "2024-05-28 22:59:18 (INFO): energy_forces_within_threshold: 0.00e+00, energy_mae: 2.86e+00, forcesx_mae: 4.67e-02, forcesy_mae: 5.19e-02, forcesz_mae: 4.98e-02, forces_mae: 4.94e-02, forces_cosine_similarity: -6.69e-03, forces_magnitude_error: 9.64e-02, loss: 4.67e+00, lr: 4.02e-04, epoch: 7.43e-02, step: 1.64e+03\n",
      "2024-05-28 22:59:19 (INFO): energy_forces_within_threshold: 0.00e+00, energy_mae: 2.67e+00, forcesx_mae: 7.29e-02, forcesy_mae: 7.92e-02, forcesz_mae: 8.09e-02, forces_mae: 7.77e-02, forces_cosine_similarity: 4.78e-02, forces_magnitude_error: 1.55e-01, loss: 6.54e+00, lr: 4.02e-04, epoch: 7.45e-02, step: 1.64e+03\n",
      "2024-05-28 22:59:19 (INFO): energy_forces_within_threshold: 0.00e+00, energy_mae: 2.76e+00, forcesx_mae: 7.00e-02, forcesy_mae: 8.34e-02, forcesz_mae: 8.68e-02, forces_mae: 8.01e-02, forces_cosine_similarity: 5.40e-02, forces_magnitude_error: 1.60e-01, loss: 6.76e+00, lr: 4.02e-04, epoch: 7.48e-02, step: 1.64e+03\n",
      "2024-05-28 22:59:20 (INFO): energy_forces_within_threshold: 0.00e+00, energy_mae: 2.32e+00, forcesx_mae: 1.04e-01, forcesy_mae: 1.44e-01, forcesz_mae: 1.52e-01, forces_mae: 1.34e-01, forces_cosine_similarity: 3.13e-02, forces_magnitude_error: 2.65e-01, loss: 1.07e+01, lr: 4.02e-04, epoch: 7.50e-02, step: 1.65e+03\n",
      "2024-05-28 22:59:20 (INFO): energy_forces_within_threshold: 0.00e+00, energy_mae: 1.70e+00, forcesx_mae: 5.35e-02, forcesy_mae: 6.24e-02, forcesz_mae: 7.33e-02, forces_mae: 6.31e-02, forces_cosine_similarity: 1.22e-02, forces_magnitude_error: 1.25e-01, loss: 5.07e+00, lr: 4.02e-04, epoch: 7.52e-02, step: 1.66e+03\n",
      "2024-05-28 22:59:21 (INFO): energy_forces_within_threshold: 0.00e+00, energy_mae: 2.74e+00, forcesx_mae: 6.65e-02, forcesy_mae: 7.81e-02, forcesz_mae: 8.99e-02, forces_mae: 7.81e-02, forces_cosine_similarity: 2.46e-02, forces_magnitude_error: 1.58e-01, loss: 6.55e+00, lr: 4.02e-04, epoch: 7.54e-02, step: 1.66e+03\n",
      "2024-05-28 22:59:21 (INFO): energy_forces_within_threshold: 0.00e+00, energy_mae: 2.35e+00, forcesx_mae: 7.05e-02, forcesy_mae: 9.25e-02, forcesz_mae: 9.80e-02, forces_mae: 8.70e-02, forces_cosine_similarity: -3.26e-02, forces_magnitude_error: 1.78e-01, loss: 7.33e+00, lr: 4.02e-04, epoch: 7.57e-02, step: 1.66e+03\n",
      "2024-05-28 22:59:22 (INFO): energy_forces_within_threshold: 0.00e+00, energy_mae: 2.54e+00, forcesx_mae: 6.24e-02, forcesy_mae: 7.48e-02, forcesz_mae: 6.46e-02, forces_mae: 6.73e-02, forces_cosine_similarity: -2.74e-02, forces_magnitude_error: 1.37e-01, loss: 5.95e+00, lr: 4.02e-04, epoch: 7.59e-02, step: 1.67e+03\n",
      "2024-05-28 22:59:22 (INFO): energy_forces_within_threshold: 0.00e+00, energy_mae: 2.25e+00, forcesx_mae: 7.17e-02, forcesy_mae: 8.14e-02, forcesz_mae: 9.53e-02, forces_mae: 8.28e-02, forces_cosine_similarity: 7.89e-03, forces_magnitude_error: 1.69e-01, loss: 6.93e+00, lr: 4.02e-04, epoch: 7.61e-02, step: 1.68e+03\n",
      "2024-05-28 22:59:23 (INFO): energy_forces_within_threshold: 0.00e+00, energy_mae: 2.12e+00, forcesx_mae: 8.80e-02, forcesy_mae: 9.32e-02, forcesz_mae: 1.09e-01, forces_mae: 9.68e-02, forces_cosine_similarity: -4.00e-02, forces_magnitude_error: 1.92e-01, loss: 7.37e+00, lr: 4.02e-04, epoch: 7.63e-02, step: 1.68e+03\n",
      "2024-05-28 22:59:23 (INFO): energy_forces_within_threshold: 0.00e+00, energy_mae: 2.02e+00, forcesx_mae: 4.87e-02, forcesy_mae: 4.98e-02, forcesz_mae: 6.11e-02, forces_mae: 5.32e-02, forces_cosine_similarity: -3.67e-02, forces_magnitude_error: 1.06e-01, loss: 4.71e+00, lr: 4.02e-04, epoch: 7.66e-02, step: 1.68e+03\n",
      "2024-05-28 22:59:24 (INFO): energy_forces_within_threshold: 0.00e+00, energy_mae: 2.14e+00, forcesx_mae: 8.09e-02, forcesy_mae: 1.01e-01, forcesz_mae: 1.07e-01, forces_mae: 9.62e-02, forces_cosine_similarity: 9.13e-03, forces_magnitude_error: 1.95e-01, loss: 7.92e+00, lr: 4.02e-04, epoch: 7.68e-02, step: 1.69e+03\n",
      "2024-05-28 22:59:24 (INFO): energy_forces_within_threshold: 0.00e+00, energy_mae: 1.98e+00, forcesx_mae: 6.62e-02, forcesy_mae: 1.04e-01, forcesz_mae: 8.95e-02, forces_mae: 8.65e-02, forces_cosine_similarity: 2.77e-02, forces_magnitude_error: 1.75e-01, loss: 6.97e+00, lr: 4.02e-04, epoch: 7.70e-02, step: 1.70e+03\n",
      "2024-05-28 22:59:25 (INFO): energy_forces_within_threshold: 0.00e+00, energy_mae: 2.13e+00, forcesx_mae: 8.02e-02, forcesy_mae: 8.82e-02, forcesz_mae: 1.07e-01, forces_mae: 9.18e-02, forces_cosine_similarity: 3.55e-02, forces_magnitude_error: 1.87e-01, loss: 7.56e+00, lr: 4.02e-04, epoch: 7.73e-02, step: 1.70e+03\n",
      "2024-05-28 22:59:25 (INFO): energy_forces_within_threshold: 0.00e+00, energy_mae: 2.15e+00, forcesx_mae: 5.34e-02, forcesy_mae: 6.48e-02, forcesz_mae: 6.90e-02, forces_mae: 6.24e-02, forces_cosine_similarity: 3.71e-02, forces_magnitude_error: 1.23e-01, loss: 5.31e+00, lr: 4.02e-04, epoch: 7.75e-02, step: 1.70e+03\n",
      "2024-05-28 22:59:26 (INFO): energy_forces_within_threshold: 0.00e+00, energy_mae: 2.91e+00, forcesx_mae: 7.12e-02, forcesy_mae: 1.02e-01, forcesz_mae: 1.23e-01, forces_mae: 9.89e-02, forces_cosine_similarity: 8.96e-04, forces_magnitude_error: 2.03e-01, loss: 8.00e+00, lr: 4.02e-04, epoch: 7.77e-02, step: 1.71e+03\n",
      "2024-05-28 22:59:26 (INFO): energy_forces_within_threshold: 0.00e+00, energy_mae: 1.23e+00, forcesx_mae: 7.00e-02, forcesy_mae: 9.36e-02, forcesz_mae: 8.97e-02, forces_mae: 8.44e-02, forces_cosine_similarity: -1.56e-02, forces_magnitude_error: 1.76e-01, loss: 6.89e+00, lr: 4.02e-04, epoch: 7.79e-02, step: 1.72e+03\n",
      "2024-05-28 22:59:27 (INFO): energy_forces_within_threshold: 0.00e+00, energy_mae: 1.95e+00, forcesx_mae: 1.19e-01, forcesy_mae: 1.15e-01, forcesz_mae: 1.54e-01, forces_mae: 1.29e-01, forces_cosine_similarity: 1.96e-02, forces_magnitude_error: 2.56e-01, loss: 9.60e+00, lr: 4.02e-04, epoch: 7.82e-02, step: 1.72e+03\n",
      "2024-05-28 22:59:27 (INFO): energy_forces_within_threshold: 0.00e+00, energy_mae: 2.55e+00, forcesx_mae: 7.59e-02, forcesy_mae: 1.05e-01, forcesz_mae: 1.08e-01, forces_mae: 9.63e-02, forces_cosine_similarity: 1.32e-02, forces_magnitude_error: 1.96e-01, loss: 8.08e+00, lr: 4.02e-04, epoch: 7.84e-02, step: 1.72e+03\n",
      "2024-05-28 22:59:28 (INFO): energy_forces_within_threshold: 0.00e+00, energy_mae: 1.71e+00, forcesx_mae: 8.32e-02, forcesy_mae: 1.14e-01, forcesz_mae: 1.25e-01, forces_mae: 1.08e-01, forces_cosine_similarity: 1.16e-02, forces_magnitude_error: 2.16e-01, loss: 8.53e+00, lr: 4.02e-04, epoch: 7.86e-02, step: 1.73e+03\n",
      "2024-05-28 22:59:28 (INFO): energy_forces_within_threshold: 0.00e+00, energy_mae: 2.27e+00, forcesx_mae: 7.98e-02, forcesy_mae: 1.08e-01, forcesz_mae: 1.03e-01, forces_mae: 9.69e-02, forces_cosine_similarity: 6.64e-03, forces_magnitude_error: 1.94e-01, loss: 7.75e+00, lr: 4.02e-04, epoch: 7.88e-02, step: 1.74e+03\n",
      "2024-05-28 22:59:29 (INFO): energy_forces_within_threshold: 0.00e+00, energy_mae: 1.66e+00, forcesx_mae: 4.63e-02, forcesy_mae: 6.10e-02, forcesz_mae: 6.40e-02, forces_mae: 5.71e-02, forces_cosine_similarity: -4.90e-03, forces_magnitude_error: 1.15e-01, loss: 4.67e+00, lr: 4.02e-04, epoch: 7.91e-02, step: 1.74e+03\n",
      "2024-05-28 22:59:29 (INFO): energy_forces_within_threshold: 0.00e+00, energy_mae: 1.88e+00, forcesx_mae: 7.45e-02, forcesy_mae: 9.30e-02, forcesz_mae: 1.09e-01, forces_mae: 9.21e-02, forces_cosine_similarity: -3.30e-02, forces_magnitude_error: 1.87e-01, loss: 6.98e+00, lr: 4.02e-04, epoch: 7.93e-02, step: 1.74e+03\n",
      "2024-05-28 22:59:30 (INFO): energy_forces_within_threshold: 0.00e+00, energy_mae: 2.36e+00, forcesx_mae: 1.31e-01, forcesy_mae: 1.60e-01, forcesz_mae: 1.97e-01, forces_mae: 1.63e-01, forces_cosine_similarity: -4.21e-02, forces_magnitude_error: 3.24e-01, loss: 1.25e+01, lr: 4.02e-04, epoch: 7.95e-02, step: 1.75e+03\n",
      "2024-05-28 22:59:30 (INFO): energy_forces_within_threshold: 0.00e+00, energy_mae: 2.46e+00, forcesx_mae: 8.16e-02, forcesy_mae: 1.30e-01, forcesz_mae: 1.41e-01, forces_mae: 1.18e-01, forces_cosine_similarity: 3.63e-02, forces_magnitude_error: 2.45e-01, loss: 9.43e+00, lr: 4.02e-04, epoch: 7.98e-02, step: 1.76e+03\n",
      "2024-05-28 22:59:31 (INFO): energy_forces_within_threshold: 0.00e+00, energy_mae: 1.95e+00, forcesx_mae: 6.93e-02, forcesy_mae: 8.68e-02, forcesz_mae: 7.74e-02, forces_mae: 7.78e-02, forces_cosine_similarity: 1.66e-03, forces_magnitude_error: 1.58e-01, loss: 6.22e+00, lr: 4.02e-04, epoch: 8.00e-02, step: 1.76e+03\n",
      "2024-05-28 22:59:31 (INFO): energy_forces_within_threshold: 0.00e+00, energy_mae: 2.49e+00, forcesx_mae: 1.35e-01, forcesy_mae: 1.62e-01, forcesz_mae: 1.41e-01, forces_mae: 1.46e-01, forces_cosine_similarity: 9.63e-03, forces_magnitude_error: 3.04e-01, loss: 1.14e+01, lr: 4.02e-04, epoch: 8.02e-02, step: 1.76e+03\n",
      "2024-05-28 22:59:32 (INFO): energy_forces_within_threshold: 0.00e+00, energy_mae: 2.72e+00, forcesx_mae: 6.89e-02, forcesy_mae: 1.17e-01, forcesz_mae: 1.17e-01, forces_mae: 1.01e-01, forces_cosine_similarity: 3.93e-02, forces_magnitude_error: 2.11e-01, loss: 8.32e+00, lr: 4.02e-04, epoch: 8.04e-02, step: 1.77e+03\n",
      "2024-05-28 22:59:32 (INFO): energy_forces_within_threshold: 0.00e+00, energy_mae: 2.42e+00, forcesx_mae: 6.58e-02, forcesy_mae: 9.21e-02, forcesz_mae: 9.36e-02, forces_mae: 8.39e-02, forces_cosine_similarity: 1.14e-02, forces_magnitude_error: 1.73e-01, loss: 7.33e+00, lr: 4.02e-04, epoch: 8.07e-02, step: 1.78e+03\n",
      "2024-05-28 22:59:33 (INFO): energy_forces_within_threshold: 0.00e+00, energy_mae: 2.68e+00, forcesx_mae: 6.61e-02, forcesy_mae: 7.63e-02, forcesz_mae: 7.91e-02, forces_mae: 7.38e-02, forces_cosine_similarity: 1.29e-02, forces_magnitude_error: 1.47e-01, loss: 6.41e+00, lr: 4.02e-04, epoch: 8.09e-02, step: 1.78e+03\n",
      "2024-05-28 22:59:33 (INFO): energy_forces_within_threshold: 0.00e+00, energy_mae: 1.83e+00, forcesx_mae: 6.71e-02, forcesy_mae: 8.35e-02, forcesz_mae: 8.29e-02, forces_mae: 7.79e-02, forces_cosine_similarity: -2.73e-02, forces_magnitude_error: 1.52e-01, loss: 6.25e+00, lr: 4.02e-04, epoch: 8.11e-02, step: 1.78e+03\n",
      "2024-05-28 22:59:34 (INFO): energy_forces_within_threshold: 0.00e+00, energy_mae: 2.62e+00, forcesx_mae: 9.95e-02, forcesy_mae: 7.93e-02, forcesz_mae: 8.89e-02, forces_mae: 8.93e-02, forces_cosine_similarity: -1.19e-02, forces_magnitude_error: 1.71e-01, loss: 7.27e+00, lr: 4.02e-04, epoch: 8.13e-02, step: 1.79e+03\n",
      "2024-05-28 22:59:34 (INFO): energy_forces_within_threshold: 0.00e+00, energy_mae: 2.56e+00, forcesx_mae: 6.76e-02, forcesy_mae: 6.82e-02, forcesz_mae: 6.81e-02, forces_mae: 6.80e-02, forces_cosine_similarity: -2.27e-02, forces_magnitude_error: 1.38e-01, loss: 5.85e+00, lr: 4.02e-04, epoch: 8.16e-02, step: 1.80e+03\n",
      "2024-05-28 22:59:35 (INFO): energy_forces_within_threshold: 0.00e+00, energy_mae: 1.84e+00, forcesx_mae: 8.84e-02, forcesy_mae: 9.38e-02, forcesz_mae: 1.24e-01, forces_mae: 1.02e-01, forces_cosine_similarity: -5.22e-02, forces_magnitude_error: 1.99e-01, loss: 8.57e+00, lr: 4.02e-04, epoch: 8.18e-02, step: 1.80e+03\n",
      "2024-05-28 22:59:35 (INFO): energy_forces_within_threshold: 0.00e+00, energy_mae: 2.02e+00, forcesx_mae: 6.88e-02, forcesy_mae: 8.36e-02, forcesz_mae: 9.66e-02, forces_mae: 8.30e-02, forces_cosine_similarity: 9.52e-03, forces_magnitude_error: 1.66e-01, loss: 6.89e+00, lr: 4.02e-04, epoch: 8.20e-02, step: 1.80e+03\n",
      "2024-05-28 22:59:36 (INFO): energy_forces_within_threshold: 0.00e+00, energy_mae: 1.44e+00, forcesx_mae: 5.70e-02, forcesy_mae: 6.46e-02, forcesz_mae: 7.43e-02, forces_mae: 6.53e-02, forces_cosine_similarity: 2.67e-02, forces_magnitude_error: 1.23e-01, loss: 5.02e+00, lr: 4.02e-04, epoch: 8.23e-02, step: 1.81e+03\n",
      "2024-05-28 22:59:36 (INFO): energy_forces_within_threshold: 0.00e+00, energy_mae: 2.32e+00, forcesx_mae: 9.51e-02, forcesy_mae: 1.24e-01, forcesz_mae: 1.44e-01, forces_mae: 1.21e-01, forces_cosine_similarity: -5.10e-03, forces_magnitude_error: 2.36e-01, loss: 9.72e+00, lr: 4.02e-04, epoch: 8.25e-02, step: 1.82e+03\n",
      "2024-05-28 22:59:37 (INFO): energy_forces_within_threshold: 0.00e+00, energy_mae: 2.70e+00, forcesx_mae: 8.16e-02, forcesy_mae: 9.31e-02, forcesz_mae: 1.34e-01, forces_mae: 1.03e-01, forces_cosine_similarity: 2.00e-02, forces_magnitude_error: 1.94e-01, loss: 8.69e+00, lr: 4.02e-04, epoch: 8.27e-02, step: 1.82e+03\n",
      "2024-05-28 22:59:37 (INFO): energy_forces_within_threshold: 0.00e+00, energy_mae: 2.83e+00, forcesx_mae: 7.06e-02, forcesy_mae: 7.68e-02, forcesz_mae: 1.27e-01, forces_mae: 9.15e-02, forces_cosine_similarity: -1.20e-02, forces_magnitude_error: 1.59e-01, loss: 7.56e+00, lr: 4.02e-04, epoch: 8.29e-02, step: 1.82e+03\n",
      "2024-05-28 22:59:38 (INFO): energy_forces_within_threshold: 0.00e+00, energy_mae: 2.62e+00, forcesx_mae: 7.09e-02, forcesy_mae: 9.08e-02, forcesz_mae: 1.17e-01, forces_mae: 9.30e-02, forces_cosine_similarity: 1.66e-03, forces_magnitude_error: 1.85e-01, loss: 7.71e+00, lr: 4.02e-04, epoch: 8.32e-02, step: 1.83e+03\n",
      "2024-05-28 22:59:38 (INFO): energy_forces_within_threshold: 0.00e+00, energy_mae: 5.02e+00, forcesx_mae: 1.09e-01, forcesy_mae: 1.67e-01, forcesz_mae: 1.47e-01, forces_mae: 1.41e-01, forces_cosine_similarity: -1.10e-02, forces_magnitude_error: 2.80e-01, loss: 1.24e+01, lr: 4.02e-04, epoch: 8.34e-02, step: 1.84e+03\n",
      "2024-05-28 22:59:39 (INFO): energy_forces_within_threshold: 0.00e+00, energy_mae: 2.37e+00, forcesx_mae: 7.72e-02, forcesy_mae: 9.04e-02, forcesz_mae: 9.87e-02, forces_mae: 8.88e-02, forces_cosine_similarity: 1.70e-02, forces_magnitude_error: 1.74e-01, loss: 7.09e+00, lr: 4.02e-04, epoch: 8.36e-02, step: 1.84e+03\n",
      "2024-05-28 22:59:39 (INFO): energy_forces_within_threshold: 0.00e+00, energy_mae: 2.07e+00, forcesx_mae: 5.72e-02, forcesy_mae: 7.80e-02, forcesz_mae: 8.49e-02, forces_mae: 7.33e-02, forces_cosine_similarity: 1.20e-02, forces_magnitude_error: 1.46e-01, loss: 6.19e+00, lr: 4.02e-04, epoch: 8.38e-02, step: 1.84e+03\n",
      "2024-05-28 22:59:39 (INFO): energy_forces_within_threshold: 0.00e+00, energy_mae: 2.09e+00, forcesx_mae: 9.31e-02, forcesy_mae: 1.06e-01, forcesz_mae: 1.04e-01, forces_mae: 1.01e-01, forces_cosine_similarity: -1.61e-03, forces_magnitude_error: 2.03e-01, loss: 7.95e+00, lr: 4.02e-04, epoch: 8.41e-02, step: 1.85e+03\n",
      "2024-05-28 22:59:40 (INFO): energy_forces_within_threshold: 0.00e+00, energy_mae: 1.62e+00, forcesx_mae: 7.58e-02, forcesy_mae: 7.78e-02, forcesz_mae: 1.03e-01, forces_mae: 8.57e-02, forces_cosine_similarity: 9.16e-03, forces_magnitude_error: 1.73e-01, loss: 6.82e+00, lr: 4.02e-04, epoch: 8.43e-02, step: 1.86e+03\n",
      "2024-05-28 22:59:40 (INFO): energy_forces_within_threshold: 0.00e+00, energy_mae: 1.90e+00, forcesx_mae: 5.15e-02, forcesy_mae: 5.92e-02, forcesz_mae: 6.51e-02, forces_mae: 5.86e-02, forces_cosine_similarity: 2.08e-02, forces_magnitude_error: 1.19e-01, loss: 4.90e+00, lr: 4.02e-04, epoch: 8.45e-02, step: 1.86e+03\n",
      "2024-05-28 22:59:41 (INFO): energy_forces_within_threshold: 0.00e+00, energy_mae: 1.78e+00, forcesx_mae: 5.63e-02, forcesy_mae: 5.30e-02, forcesz_mae: 6.51e-02, forces_mae: 5.81e-02, forces_cosine_similarity: -1.54e-02, forces_magnitude_error: 1.15e-01, loss: 4.84e+00, lr: 4.02e-04, epoch: 8.48e-02, step: 1.86e+03\n",
      "2024-05-28 22:59:41 (INFO): energy_forces_within_threshold: 0.00e+00, energy_mae: 2.43e+00, forcesx_mae: 5.92e-02, forcesy_mae: 6.86e-02, forcesz_mae: 7.29e-02, forces_mae: 6.69e-02, forces_cosine_similarity: -2.94e-04, forces_magnitude_error: 1.38e-01, loss: 5.68e+00, lr: 4.02e-04, epoch: 8.50e-02, step: 1.87e+03\n",
      "2024-05-28 22:59:42 (INFO): energy_forces_within_threshold: 0.00e+00, energy_mae: 2.18e+00, forcesx_mae: 6.73e-02, forcesy_mae: 1.08e-01, forcesz_mae: 1.32e-01, forces_mae: 1.02e-01, forces_cosine_similarity: -6.26e-03, forces_magnitude_error: 2.12e-01, loss: 8.46e+00, lr: 4.02e-04, epoch: 8.52e-02, step: 1.88e+03\n",
      "2024-05-28 22:59:42 (INFO): energy_forces_within_threshold: 0.00e+00, energy_mae: 1.79e+00, forcesx_mae: 6.28e-02, forcesy_mae: 8.12e-02, forcesz_mae: 1.02e-01, forces_mae: 8.20e-02, forces_cosine_similarity: 3.13e-03, forces_magnitude_error: 1.76e-01, loss: 6.77e+00, lr: 4.02e-04, epoch: 8.54e-02, step: 1.88e+03\n",
      "2024-05-28 22:59:43 (INFO): energy_forces_within_threshold: 0.00e+00, energy_mae: 2.12e+00, forcesx_mae: 5.17e-02, forcesy_mae: 6.01e-02, forcesz_mae: 6.96e-02, forces_mae: 6.05e-02, forces_cosine_similarity: -2.31e-02, forces_magnitude_error: 1.24e-01, loss: 5.35e+00, lr: 4.02e-04, epoch: 8.57e-02, step: 1.88e+03\n",
      "2024-05-28 22:59:43 (INFO): energy_forces_within_threshold: 0.00e+00, energy_mae: 2.83e+00, forcesx_mae: 4.85e-02, forcesy_mae: 1.07e-01, forcesz_mae: 9.95e-02, forces_mae: 8.49e-02, forces_cosine_similarity: -1.47e-03, forces_magnitude_error: 1.74e-01, loss: 6.83e+00, lr: 4.02e-04, epoch: 8.59e-02, step: 1.89e+03\n",
      "2024-05-28 22:59:44 (INFO): energy_forces_within_threshold: 0.00e+00, energy_mae: 1.92e+00, forcesx_mae: 5.13e-02, forcesy_mae: 7.36e-02, forcesz_mae: 6.79e-02, forces_mae: 6.42e-02, forces_cosine_similarity: -3.49e-02, forces_magnitude_error: 1.33e-01, loss: 5.37e+00, lr: 4.02e-04, epoch: 8.61e-02, step: 1.90e+03\n",
      "2024-05-28 22:59:44 (INFO): energy_forces_within_threshold: 0.00e+00, energy_mae: 2.68e+00, forcesx_mae: 3.38e-02, forcesy_mae: 5.11e-02, forcesz_mae: 5.51e-02, forces_mae: 4.67e-02, forces_cosine_similarity: -4.07e-03, forces_magnitude_error: 9.71e-02, loss: 4.49e+00, lr: 4.02e-04, epoch: 8.63e-02, step: 1.90e+03\n",
      "2024-05-28 22:59:45 (INFO): energy_forces_within_threshold: 0.00e+00, energy_mae: 4.97e+00, forcesx_mae: 8.32e-02, forcesy_mae: 9.28e-02, forcesz_mae: 9.98e-02, forces_mae: 9.19e-02, forces_cosine_similarity: -1.99e-03, forces_magnitude_error: 1.86e-01, loss: 8.37e+00, lr: 4.02e-04, epoch: 8.66e-02, step: 1.90e+03\n",
      "2024-05-28 22:59:45 (INFO): energy_forces_within_threshold: 0.00e+00, energy_mae: 1.92e+00, forcesx_mae: 6.05e-02, forcesy_mae: 7.62e-02, forcesz_mae: 7.55e-02, forces_mae: 7.07e-02, forces_cosine_similarity: -8.55e-03, forces_magnitude_error: 1.41e-01, loss: 5.71e+00, lr: 4.02e-04, epoch: 8.68e-02, step: 1.91e+03\n",
      "2024-05-28 22:59:46 (INFO): energy_forces_within_threshold: 0.00e+00, energy_mae: 1.39e+00, forcesx_mae: 5.82e-02, forcesy_mae: 7.20e-02, forcesz_mae: 7.12e-02, forces_mae: 6.71e-02, forces_cosine_similarity: 3.47e-02, forces_magnitude_error: 1.35e-01, loss: 5.28e+00, lr: 4.02e-04, epoch: 8.70e-02, step: 1.92e+03\n",
      "2024-05-28 22:59:46 (INFO): energy_forces_within_threshold: 0.00e+00, energy_mae: 2.74e+00, forcesx_mae: 6.83e-02, forcesy_mae: 8.19e-02, forcesz_mae: 7.93e-02, forces_mae: 7.65e-02, forces_cosine_similarity: -2.26e-02, forces_magnitude_error: 1.55e-01, loss: 6.76e+00, lr: 4.02e-04, epoch: 8.73e-02, step: 1.92e+03\n",
      "2024-05-28 22:59:47 (INFO): energy_forces_within_threshold: 0.00e+00, energy_mae: 2.45e+00, forcesx_mae: 8.49e-02, forcesy_mae: 1.15e-01, forcesz_mae: 1.76e-01, forces_mae: 1.26e-01, forces_cosine_similarity: 5.21e-03, forces_magnitude_error: 2.48e-01, loss: 9.78e+00, lr: 4.02e-04, epoch: 8.75e-02, step: 1.92e+03\n",
      "2024-05-28 22:59:47 (INFO): energy_forces_within_threshold: 0.00e+00, energy_mae: 2.41e+00, forcesx_mae: 5.36e-02, forcesy_mae: 5.65e-02, forcesz_mae: 7.16e-02, forces_mae: 6.06e-02, forces_cosine_similarity: 2.43e-02, forces_magnitude_error: 1.19e-01, loss: 5.27e+00, lr: 4.02e-04, epoch: 8.77e-02, step: 1.93e+03\n",
      "2024-05-28 22:59:48 (INFO): energy_forces_within_threshold: 0.00e+00, energy_mae: 2.23e+00, forcesx_mae: 7.39e-02, forcesy_mae: 9.36e-02, forcesz_mae: 8.39e-02, forces_mae: 8.38e-02, forces_cosine_similarity: -2.93e-02, forces_magnitude_error: 1.67e-01, loss: 6.82e+00, lr: 4.02e-04, epoch: 8.79e-02, step: 1.94e+03\n",
      "2024-05-28 22:59:48 (INFO): energy_forces_within_threshold: 0.00e+00, energy_mae: 2.07e+00, forcesx_mae: 5.87e-02, forcesy_mae: 6.82e-02, forcesz_mae: 7.25e-02, forces_mae: 6.65e-02, forces_cosine_similarity: -1.29e-03, forces_magnitude_error: 1.33e-01, loss: 5.45e+00, lr: 4.02e-04, epoch: 8.82e-02, step: 1.94e+03\n",
      "2024-05-28 22:59:49 (INFO): energy_forces_within_threshold: 0.00e+00, energy_mae: 2.44e+00, forcesx_mae: 8.51e-02, forcesy_mae: 1.02e-01, forcesz_mae: 1.22e-01, forces_mae: 1.03e-01, forces_cosine_similarity: 9.89e-03, forces_magnitude_error: 2.08e-01, loss: 8.71e+00, lr: 4.02e-04, epoch: 8.84e-02, step: 1.94e+03\n",
      "2024-05-28 22:59:49 (INFO): energy_forces_within_threshold: 0.00e+00, energy_mae: 2.24e+00, forcesx_mae: 7.80e-02, forcesy_mae: 1.35e-01, forcesz_mae: 8.67e-02, forces_mae: 1.00e-01, forces_cosine_similarity: 3.32e-02, forces_magnitude_error: 1.98e-01, loss: 7.53e+00, lr: 4.02e-04, epoch: 8.86e-02, step: 1.95e+03\n",
      "2024-05-28 22:59:50 (INFO): energy_forces_within_threshold: 0.00e+00, energy_mae: 3.85e+00, forcesx_mae: 5.99e-02, forcesy_mae: 7.40e-02, forcesz_mae: 8.14e-02, forces_mae: 7.18e-02, forces_cosine_similarity: -6.53e-03, forces_magnitude_error: 1.45e-01, loss: 6.53e+00, lr: 4.02e-04, epoch: 8.88e-02, step: 1.96e+03\n",
      "2024-05-28 22:59:50 (INFO): energy_forces_within_threshold: 0.00e+00, energy_mae: 2.31e+00, forcesx_mae: 5.34e-02, forcesy_mae: 9.97e-02, forcesz_mae: 9.90e-02, forces_mae: 8.40e-02, forces_cosine_similarity: 8.51e-03, forces_magnitude_error: 1.72e-01, loss: 6.31e+00, lr: 4.02e-04, epoch: 8.91e-02, step: 1.96e+03\n",
      "2024-05-28 22:59:51 (INFO): energy_forces_within_threshold: 0.00e+00, energy_mae: 2.00e+00, forcesx_mae: 3.89e-02, forcesy_mae: 4.47e-02, forcesz_mae: 4.77e-02, forces_mae: 4.38e-02, forces_cosine_similarity: 3.76e-02, forces_magnitude_error: 8.83e-02, loss: 3.91e+00, lr: 4.02e-04, epoch: 8.93e-02, step: 1.96e+03\n",
      "2024-05-28 22:59:51 (INFO): energy_forces_within_threshold: 0.00e+00, energy_mae: 2.69e+00, forcesx_mae: 1.02e-01, forcesy_mae: 1.50e-01, forcesz_mae: 1.27e-01, forces_mae: 1.26e-01, forces_cosine_similarity: -2.89e-02, forces_magnitude_error: 2.63e-01, loss: 1.09e+01, lr: 4.02e-04, epoch: 8.95e-02, step: 1.97e+03\n",
      "2024-05-28 22:59:52 (INFO): energy_forces_within_threshold: 0.00e+00, energy_mae: 1.87e+00, forcesx_mae: 5.39e-02, forcesy_mae: 6.80e-02, forcesz_mae: 6.39e-02, forces_mae: 6.19e-02, forces_cosine_similarity: 2.35e-02, forces_magnitude_error: 1.24e-01, loss: 4.98e+00, lr: 4.02e-04, epoch: 8.98e-02, step: 1.98e+03\n",
      "2024-05-28 22:59:52 (INFO): energy_forces_within_threshold: 0.00e+00, energy_mae: 2.14e+00, forcesx_mae: 5.68e-02, forcesy_mae: 6.50e-02, forcesz_mae: 7.53e-02, forces_mae: 6.57e-02, forces_cosine_similarity: -2.55e-02, forces_magnitude_error: 1.32e-01, loss: 5.60e+00, lr: 4.02e-04, epoch: 9.00e-02, step: 1.98e+03\n",
      "2024-05-28 22:59:53 (INFO): energy_forces_within_threshold: 0.00e+00, energy_mae: 2.28e+00, forcesx_mae: 4.70e-02, forcesy_mae: 6.32e-02, forcesz_mae: 8.02e-02, forces_mae: 6.34e-02, forces_cosine_similarity: -2.64e-03, forces_magnitude_error: 1.35e-01, loss: 5.49e+00, lr: 4.02e-04, epoch: 9.02e-02, step: 1.98e+03\n",
      "2024-05-28 22:59:53 (INFO): energy_forces_within_threshold: 0.00e+00, energy_mae: 1.56e+00, forcesx_mae: 5.74e-02, forcesy_mae: 6.60e-02, forcesz_mae: 6.70e-02, forces_mae: 6.35e-02, forces_cosine_similarity: -2.74e-02, forces_magnitude_error: 1.28e-01, loss: 4.96e+00, lr: 4.02e-04, epoch: 9.04e-02, step: 1.99e+03\n",
      "2024-05-28 22:59:54 (INFO): energy_forces_within_threshold: 0.00e+00, energy_mae: 2.53e+00, forcesx_mae: 9.88e-02, forcesy_mae: 1.21e-01, forcesz_mae: 1.23e-01, forces_mae: 1.14e-01, forces_cosine_similarity: -3.31e-02, forces_magnitude_error: 2.34e-01, loss: 8.90e+00, lr: 4.02e-04, epoch: 9.07e-02, step: 2.00e+03\n",
      "2024-05-28 22:59:54 (INFO): energy_forces_within_threshold: 0.00e+00, energy_mae: 1.95e+00, forcesx_mae: 5.24e-02, forcesy_mae: 6.56e-02, forcesz_mae: 6.29e-02, forces_mae: 6.03e-02, forces_cosine_similarity: -1.39e-02, forces_magnitude_error: 1.21e-01, loss: 4.99e+00, lr: 4.02e-04, epoch: 9.09e-02, step: 2.00e+03\n",
      "2024-05-28 22:59:55 (INFO): energy_forces_within_threshold: 0.00e+00, energy_mae: 1.58e+00, forcesx_mae: 5.61e-02, forcesy_mae: 6.74e-02, forcesz_mae: 6.42e-02, forces_mae: 6.26e-02, forces_cosine_similarity: -1.72e-02, forces_magnitude_error: 1.25e-01, loss: 5.00e+00, lr: 4.02e-04, epoch: 9.11e-02, step: 2.00e+03\n",
      "2024-05-28 22:59:55 (INFO): energy_forces_within_threshold: 0.00e+00, energy_mae: 1.88e+00, forcesx_mae: 5.13e-02, forcesy_mae: 5.75e-02, forcesz_mae: 6.44e-02, forces_mae: 5.77e-02, forces_cosine_similarity: -5.74e-03, forces_magnitude_error: 1.17e-01, loss: 4.79e+00, lr: 4.02e-04, epoch: 9.13e-02, step: 2.01e+03\n",
      "2024-05-28 22:59:56 (INFO): energy_forces_within_threshold: 0.00e+00, energy_mae: 1.82e+00, forcesx_mae: 6.54e-02, forcesy_mae: 7.58e-02, forcesz_mae: 9.10e-02, forces_mae: 7.74e-02, forces_cosine_similarity: -5.84e-03, forces_magnitude_error: 1.59e-01, loss: 6.74e+00, lr: 4.02e-04, epoch: 9.16e-02, step: 2.02e+03\n",
      "2024-05-28 22:59:56 (INFO): energy_forces_within_threshold: 0.00e+00, energy_mae: 4.30e+00, forcesx_mae: 8.34e-02, forcesy_mae: 9.62e-02, forcesz_mae: 9.50e-02, forces_mae: 9.15e-02, forces_cosine_similarity: -2.31e-02, forces_magnitude_error: 1.82e-01, loss: 8.30e+00, lr: 4.02e-04, epoch: 9.18e-02, step: 2.02e+03\n",
      "2024-05-28 22:59:57 (INFO): energy_forces_within_threshold: 0.00e+00, energy_mae: 1.84e+00, forcesx_mae: 6.64e-02, forcesy_mae: 8.10e-02, forcesz_mae: 7.65e-02, forces_mae: 7.46e-02, forces_cosine_similarity: 1.19e-02, forces_magnitude_error: 1.52e-01, loss: 5.99e+00, lr: 4.02e-04, epoch: 9.20e-02, step: 2.02e+03\n",
      "2024-05-28 22:59:57 (INFO): energy_forces_within_threshold: 0.00e+00, energy_mae: 1.92e+00, forcesx_mae: 6.02e-02, forcesy_mae: 7.00e-02, forcesz_mae: 7.05e-02, forces_mae: 6.69e-02, forces_cosine_similarity: -1.62e-02, forces_magnitude_error: 1.33e-01, loss: 5.55e+00, lr: 4.02e-04, epoch: 9.23e-02, step: 2.03e+03\n",
      "2024-05-28 22:59:58 (INFO): energy_forces_within_threshold: 0.00e+00, energy_mae: 2.03e+00, forcesx_mae: 6.37e-02, forcesy_mae: 1.21e-01, forcesz_mae: 1.18e-01, forces_mae: 1.01e-01, forces_cosine_similarity: 1.22e-02, forces_magnitude_error: 2.09e-01, loss: 8.30e+00, lr: 4.02e-04, epoch: 9.25e-02, step: 2.04e+03\n",
      "2024-05-28 22:59:58 (INFO): energy_forces_within_threshold: 0.00e+00, energy_mae: 2.13e+00, forcesx_mae: 4.28e-02, forcesy_mae: 6.44e-02, forcesz_mae: 5.40e-02, forces_mae: 5.37e-02, forces_cosine_similarity: 1.85e-03, forces_magnitude_error: 1.10e-01, loss: 4.43e+00, lr: 4.02e-04, epoch: 9.27e-02, step: 2.04e+03\n",
      "2024-05-28 22:59:59 (INFO): energy_forces_within_threshold: 0.00e+00, energy_mae: 1.92e+00, forcesx_mae: 5.84e-02, forcesy_mae: 6.43e-02, forcesz_mae: 7.73e-02, forces_mae: 6.67e-02, forces_cosine_similarity: 1.41e-02, forces_magnitude_error: 1.36e-01, loss: 5.44e+00, lr: 4.02e-04, epoch: 9.29e-02, step: 2.04e+03\n",
      "2024-05-28 22:59:59 (INFO): energy_forces_within_threshold: 0.00e+00, energy_mae: 1.89e+00, forcesx_mae: 5.11e-02, forcesy_mae: 6.11e-02, forcesz_mae: 6.20e-02, forces_mae: 5.81e-02, forces_cosine_similarity: 1.01e-02, forces_magnitude_error: 1.17e-01, loss: 4.77e+00, lr: 4.02e-04, epoch: 9.32e-02, step: 2.05e+03\n",
      "2024-05-28 23:00:00 (INFO): energy_forces_within_threshold: 0.00e+00, energy_mae: 1.69e+00, forcesx_mae: 5.80e-02, forcesy_mae: 7.48e-02, forcesz_mae: 8.57e-02, forces_mae: 7.28e-02, forces_cosine_similarity: 6.78e-03, forces_magnitude_error: 1.44e-01, loss: 5.86e+00, lr: 4.02e-04, epoch: 9.34e-02, step: 2.06e+03\n",
      "2024-05-28 23:00:00 (INFO): energy_forces_within_threshold: 0.00e+00, energy_mae: 2.42e+00, forcesx_mae: 8.36e-02, forcesy_mae: 1.02e-01, forcesz_mae: 9.64e-02, forces_mae: 9.41e-02, forces_cosine_similarity: 2.23e-02, forces_magnitude_error: 1.90e-01, loss: 7.47e+00, lr: 4.02e-04, epoch: 9.36e-02, step: 2.06e+03\n",
      "2024-05-28 23:00:01 (INFO): energy_forces_within_threshold: 0.00e+00, energy_mae: 2.56e+00, forcesx_mae: 1.12e-01, forcesy_mae: 1.36e-01, forcesz_mae: 1.53e-01, forces_mae: 1.34e-01, forces_cosine_similarity: -3.58e-03, forces_magnitude_error: 2.64e-01, loss: 1.07e+01, lr: 4.02e-04, epoch: 9.38e-02, step: 2.06e+03\n",
      "2024-05-28 23:00:01 (INFO): energy_forces_within_threshold: 0.00e+00, energy_mae: 1.73e+00, forcesx_mae: 7.39e-02, forcesy_mae: 9.72e-02, forcesz_mae: 1.14e-01, forces_mae: 9.51e-02, forces_cosine_similarity: -1.18e-03, forces_magnitude_error: 1.96e-01, loss: 7.78e+00, lr: 4.02e-04, epoch: 9.41e-02, step: 2.07e+03\n",
      "2024-05-28 23:00:02 (INFO): energy_forces_within_threshold: 0.00e+00, energy_mae: 1.93e+00, forcesx_mae: 4.24e-02, forcesy_mae: 5.68e-02, forcesz_mae: 5.99e-02, forces_mae: 5.31e-02, forces_cosine_similarity: -8.09e-04, forces_magnitude_error: 1.09e-01, loss: 4.59e+00, lr: 4.02e-04, epoch: 9.43e-02, step: 2.08e+03\n",
      "2024-05-28 23:00:02 (INFO): energy_forces_within_threshold: 0.00e+00, energy_mae: 2.79e+00, forcesx_mae: 8.71e-02, forcesy_mae: 1.00e-01, forcesz_mae: 9.65e-02, forces_mae: 9.46e-02, forces_cosine_similarity: 1.72e-02, forces_magnitude_error: 1.90e-01, loss: 7.86e+00, lr: 4.02e-04, epoch: 9.45e-02, step: 2.08e+03\n",
      "2024-05-28 23:00:03 (INFO): energy_forces_within_threshold: 0.00e+00, energy_mae: 2.66e+00, forcesx_mae: 1.13e-01, forcesy_mae: 1.29e-01, forcesz_mae: 1.35e-01, forces_mae: 1.25e-01, forces_cosine_similarity: -4.94e-02, forces_magnitude_error: 2.57e-01, loss: 1.00e+01, lr: 4.02e-04, epoch: 9.48e-02, step: 2.08e+03\n",
      "2024-05-28 23:00:03 (INFO): energy_forces_within_threshold: 0.00e+00, energy_mae: 1.92e+00, forcesx_mae: 5.99e-02, forcesy_mae: 7.18e-02, forcesz_mae: 7.36e-02, forces_mae: 6.84e-02, forces_cosine_similarity: 3.95e-02, forces_magnitude_error: 1.37e-01, loss: 5.52e+00, lr: 4.02e-04, epoch: 9.50e-02, step: 2.09e+03\n",
      "2024-05-28 23:00:04 (INFO): energy_forces_within_threshold: 0.00e+00, energy_mae: 4.03e+01, forcesx_mae: 4.41e-01, forcesy_mae: 9.73e-01, forcesz_mae: 2.09e+00, forces_mae: 1.17e+00, forces_cosine_similarity: 2.36e-02, forces_magnitude_error: 2.49e+00, loss: 2.00e+02, lr: 4.02e-04, epoch: 9.52e-02, step: 2.10e+03\n",
      "2024-05-28 23:00:04 (INFO): energy_forces_within_threshold: 0.00e+00, energy_mae: 1.59e+00, forcesx_mae: 8.47e-02, forcesy_mae: 1.21e-01, forcesz_mae: 1.13e-01, forces_mae: 1.06e-01, forces_cosine_similarity: 2.65e-02, forces_magnitude_error: 2.13e-01, loss: 7.82e+00, lr: 4.02e-04, epoch: 9.54e-02, step: 2.10e+03\n",
      "2024-05-28 23:00:05 (INFO): energy_forces_within_threshold: 0.00e+00, energy_mae: 1.43e+00, forcesx_mae: 4.55e-02, forcesy_mae: 5.62e-02, forcesz_mae: 5.82e-02, forces_mae: 5.33e-02, forces_cosine_similarity: 6.58e-03, forces_magnitude_error: 1.08e-01, loss: 4.45e+00, lr: 4.02e-04, epoch: 9.57e-02, step: 2.10e+03\n",
      "2024-05-28 23:00:05 (INFO): energy_forces_within_threshold: 0.00e+00, energy_mae: 1.37e+00, forcesx_mae: 4.92e-02, forcesy_mae: 5.84e-02, forcesz_mae: 5.83e-02, forces_mae: 5.53e-02, forces_cosine_similarity: -2.06e-02, forces_magnitude_error: 1.08e-01, loss: 4.35e+00, lr: 4.02e-04, epoch: 9.59e-02, step: 2.11e+03\n",
      "2024-05-28 23:00:06 (INFO): energy_forces_within_threshold: 0.00e+00, energy_mae: 2.42e+00, forcesx_mae: 4.82e-02, forcesy_mae: 5.61e-02, forcesz_mae: 5.55e-02, forces_mae: 5.32e-02, forces_cosine_similarity: -1.66e-03, forces_magnitude_error: 1.04e-01, loss: 4.50e+00, lr: 4.02e-04, epoch: 9.61e-02, step: 2.12e+03\n",
      "2024-05-28 23:00:06 (INFO): energy_forces_within_threshold: 0.00e+00, energy_mae: 1.78e+01, forcesx_mae: 4.70e-02, forcesy_mae: 6.25e-02, forcesz_mae: 6.17e-02, forces_mae: 5.71e-02, forces_cosine_similarity: 2.01e-02, forces_magnitude_error: 1.17e-01, loss: 1.05e+01, lr: 4.02e-04, epoch: 9.63e-02, step: 2.12e+03\n",
      "2024-05-28 23:00:07 (INFO): energy_forces_within_threshold: 0.00e+00, energy_mae: 1.28e+02, forcesx_mae: 6.59e-02, forcesy_mae: 7.57e-02, forcesz_mae: 8.63e-02, forces_mae: 7.59e-02, forces_cosine_similarity: 8.97e-03, forces_magnitude_error: 1.49e-01, loss: 5.03e+01, lr: 4.02e-04, epoch: 9.66e-02, step: 2.12e+03\n",
      "2024-05-28 23:00:07 (INFO): energy_forces_within_threshold: 0.00e+00, energy_mae: 2.06e+00, forcesx_mae: 1.21e-01, forcesy_mae: 1.43e-01, forcesz_mae: 1.33e-01, forces_mae: 1.32e-01, forces_cosine_similarity: -2.07e-02, forces_magnitude_error: 2.63e-01, loss: 9.94e+00, lr: 4.02e-04, epoch: 9.68e-02, step: 2.13e+03\n",
      "2024-05-28 23:00:08 (INFO): energy_forces_within_threshold: 0.00e+00, energy_mae: 2.11e+00, forcesx_mae: 4.40e-02, forcesy_mae: 7.43e-02, forcesz_mae: 8.09e-02, forces_mae: 6.64e-02, forces_cosine_similarity: 2.93e-03, forces_magnitude_error: 1.38e-01, loss: 5.57e+00, lr: 4.02e-04, epoch: 9.70e-02, step: 2.14e+03\n",
      "2024-05-28 23:00:08 (INFO): energy_forces_within_threshold: 0.00e+00, energy_mae: 1.36e+00, forcesx_mae: 6.39e-02, forcesy_mae: 6.96e-02, forcesz_mae: 7.86e-02, forces_mae: 7.07e-02, forces_cosine_similarity: 5.79e-03, forces_magnitude_error: 1.42e-01, loss: 5.72e+00, lr: 4.02e-04, epoch: 9.73e-02, step: 2.14e+03\n",
      "2024-05-28 23:00:09 (INFO): energy_forces_within_threshold: 0.00e+00, energy_mae: 2.01e+00, forcesx_mae: 5.74e-02, forcesy_mae: 7.24e-02, forcesz_mae: 6.37e-02, forces_mae: 6.45e-02, forces_cosine_similarity: -7.56e-03, forces_magnitude_error: 1.29e-01, loss: 5.43e+00, lr: 4.02e-04, epoch: 9.75e-02, step: 2.14e+03\n",
      "2024-05-28 23:00:09 (INFO): energy_forces_within_threshold: 0.00e+00, energy_mae: 1.83e+00, forcesx_mae: 9.81e-02, forcesy_mae: 9.82e-02, forcesz_mae: 1.22e-01, forces_mae: 1.06e-01, forces_cosine_similarity: 2.69e-02, forces_magnitude_error: 2.16e-01, loss: 8.14e+00, lr: 4.02e-04, epoch: 9.77e-02, step: 2.15e+03\n",
      "2024-05-28 23:00:10 (INFO): energy_forces_within_threshold: 0.00e+00, energy_mae: 2.97e+00, forcesx_mae: 1.09e-01, forcesy_mae: 1.51e-01, forcesz_mae: 1.40e-01, forces_mae: 1.34e-01, forces_cosine_similarity: 2.65e-02, forces_magnitude_error: 2.72e-01, loss: 1.09e+01, lr: 4.02e-04, epoch: 9.79e-02, step: 2.16e+03\n",
      "2024-05-28 23:00:10 (INFO): energy_forces_within_threshold: 0.00e+00, energy_mae: 1.79e+00, forcesx_mae: 6.46e-02, forcesy_mae: 8.36e-02, forcesz_mae: 7.85e-02, forces_mae: 7.56e-02, forces_cosine_similarity: 2.46e-03, forces_magnitude_error: 1.53e-01, loss: 6.13e+00, lr: 4.02e-04, epoch: 9.82e-02, step: 2.16e+03\n",
      "2024-05-28 23:00:11 (INFO): energy_forces_within_threshold: 0.00e+00, energy_mae: 1.92e+00, forcesx_mae: 4.93e-02, forcesy_mae: 5.51e-02, forcesz_mae: 6.92e-02, forces_mae: 5.78e-02, forces_cosine_similarity: 3.34e-03, forces_magnitude_error: 1.20e-01, loss: 5.15e+00, lr: 4.02e-04, epoch: 9.84e-02, step: 2.16e+03\n",
      "2024-05-28 23:00:11 (INFO): energy_forces_within_threshold: 0.00e+00, energy_mae: 2.09e+00, forcesx_mae: 1.30e-01, forcesy_mae: 1.39e-01, forcesz_mae: 2.15e-01, forces_mae: 1.62e-01, forces_cosine_similarity: 2.94e-02, forces_magnitude_error: 3.20e-01, loss: 1.29e+01, lr: 4.02e-04, epoch: 9.86e-02, step: 2.17e+03\n",
      "2024-05-28 23:00:12 (INFO): energy_forces_within_threshold: 0.00e+00, energy_mae: 1.86e+00, forcesx_mae: 5.58e-02, forcesy_mae: 1.09e-01, forcesz_mae: 1.19e-01, forces_mae: 9.45e-02, forces_cosine_similarity: 8.48e-03, forces_magnitude_error: 2.00e-01, loss: 7.93e+00, lr: 4.02e-04, epoch: 9.88e-02, step: 2.18e+03\n",
      "2024-05-28 23:00:12 (INFO): energy_forces_within_threshold: 0.00e+00, energy_mae: 1.80e+00, forcesx_mae: 5.56e-02, forcesy_mae: 6.80e-02, forcesz_mae: 7.44e-02, forces_mae: 6.60e-02, forces_cosine_similarity: -8.41e-03, forces_magnitude_error: 1.36e-01, loss: 5.54e+00, lr: 4.02e-04, epoch: 9.91e-02, step: 2.18e+03\n",
      "2024-05-28 23:00:13 (INFO): energy_forces_within_threshold: 0.00e+00, energy_mae: 2.44e+00, forcesx_mae: 7.89e-02, forcesy_mae: 8.58e-02, forcesz_mae: 9.62e-02, forces_mae: 8.69e-02, forces_cosine_similarity: 7.65e-03, forces_magnitude_error: 1.76e-01, loss: 7.10e+00, lr: 4.02e-04, epoch: 9.93e-02, step: 2.18e+03\n",
      "2024-05-28 23:00:13 (INFO): energy_forces_within_threshold: 0.00e+00, energy_mae: 1.79e+00, forcesx_mae: 8.31e-02, forcesy_mae: 1.41e-01, forcesz_mae: 9.50e-02, forces_mae: 1.06e-01, forces_cosine_similarity: 5.97e-02, forces_magnitude_error: 2.21e-01, loss: 8.47e+00, lr: 4.02e-04, epoch: 9.95e-02, step: 2.19e+03\n",
      "2024-05-28 23:00:14 (INFO): energy_forces_within_threshold: 0.00e+00, energy_mae: 2.04e+00, forcesx_mae: 5.68e-02, forcesy_mae: 8.87e-02, forcesz_mae: 8.96e-02, forces_mae: 7.84e-02, forces_cosine_similarity: 5.03e-02, forces_magnitude_error: 1.61e-01, loss: 6.45e+00, lr: 4.02e-04, epoch: 9.98e-02, step: 2.20e+03\n",
      "2024-05-28 23:00:14 (INFO): energy_forces_within_threshold: 0.00e+00, energy_mae: 1.89e+00, forcesx_mae: 6.14e-02, forcesy_mae: 8.78e-02, forcesz_mae: 9.52e-02, forces_mae: 8.15e-02, forces_cosine_similarity: 3.36e-02, forces_magnitude_error: 1.66e-01, loss: 6.50e+00, lr: 4.02e-04, epoch: 1.00e-01, step: 2.20e+03\n",
      "2024-05-28 23:00:15 (INFO): energy_forces_within_threshold: 0.00e+00, energy_mae: 1.98e+00, forcesx_mae: 9.66e-02, forcesy_mae: 1.32e-01, forcesz_mae: 1.12e-01, forces_mae: 1.13e-01, forces_cosine_similarity: -1.55e-02, forces_magnitude_error: 2.31e-01, loss: 8.60e+00, lr: 4.02e-04, epoch: 1.00e-01, step: 2.20e+03\n",
      "2024-05-28 23:00:15 (INFO): energy_forces_within_threshold: 0.00e+00, energy_mae: 1.82e+00, forcesx_mae: 7.07e-02, forcesy_mae: 7.26e-02, forcesz_mae: 7.41e-02, forces_mae: 7.25e-02, forces_cosine_similarity: -1.17e-02, forces_magnitude_error: 1.45e-01, loss: 5.88e+00, lr: 4.02e-04, epoch: 1.00e-01, step: 2.21e+03\n",
      "2024-05-28 23:00:16 (INFO): energy_forces_within_threshold: 0.00e+00, energy_mae: 1.79e+00, forcesx_mae: 6.01e-02, forcesy_mae: 7.26e-02, forcesz_mae: 8.68e-02, forces_mae: 7.32e-02, forces_cosine_similarity: 3.07e-02, forces_magnitude_error: 1.49e-01, loss: 5.86e+00, lr: 4.02e-04, epoch: 1.01e-01, step: 2.22e+03\n",
      "2024-05-28 23:00:16 (INFO): energy_forces_within_threshold: 0.00e+00, energy_mae: 2.13e+00, forcesx_mae: 5.80e-02, forcesy_mae: 6.70e-02, forcesz_mae: 6.98e-02, forces_mae: 6.49e-02, forces_cosine_similarity: -2.18e-02, forces_magnitude_error: 1.31e-01, loss: 5.42e+00, lr: 4.02e-04, epoch: 1.01e-01, step: 2.22e+03\n",
      "2024-05-28 23:00:17 (INFO): energy_forces_within_threshold: 0.00e+00, energy_mae: 2.37e+00, forcesx_mae: 5.77e-02, forcesy_mae: 6.49e-02, forcesz_mae: 8.07e-02, forces_mae: 6.78e-02, forces_cosine_similarity: 2.83e-02, forces_magnitude_error: 1.37e-01, loss: 5.90e+00, lr: 4.02e-04, epoch: 1.01e-01, step: 2.22e+03\n",
      "2024-05-28 23:00:17 (INFO): energy_forces_within_threshold: 0.00e+00, energy_mae: 1.55e+00, forcesx_mae: 7.69e-02, forcesy_mae: 8.37e-02, forcesz_mae: 8.70e-02, forces_mae: 8.25e-02, forces_cosine_similarity: 3.92e-03, forces_magnitude_error: 1.69e-01, loss: 6.55e+00, lr: 4.02e-04, epoch: 1.01e-01, step: 2.23e+03\n",
      "2024-05-28 23:00:18 (INFO): energy_forces_within_threshold: 0.00e+00, energy_mae: 2.08e+00, forcesx_mae: 6.01e-02, forcesy_mae: 8.79e-02, forcesz_mae: 8.75e-02, forces_mae: 7.85e-02, forces_cosine_similarity: 3.83e-02, forces_magnitude_error: 1.60e-01, loss: 6.40e+00, lr: 4.02e-04, epoch: 1.02e-01, step: 2.24e+03\n",
      "2024-05-28 23:00:18 (INFO): energy_forces_within_threshold: 0.00e+00, energy_mae: 1.71e+00, forcesx_mae: 5.79e-02, forcesy_mae: 8.30e-02, forcesz_mae: 8.14e-02, forces_mae: 7.41e-02, forces_cosine_similarity: -3.70e-02, forces_magnitude_error: 1.50e-01, loss: 5.68e+00, lr: 4.02e-04, epoch: 1.02e-01, step: 2.24e+03\n",
      "2024-05-28 23:00:19 (INFO): energy_forces_within_threshold: 0.00e+00, energy_mae: 1.96e+00, forcesx_mae: 5.12e-02, forcesy_mae: 7.01e-02, forcesz_mae: 6.63e-02, forces_mae: 6.25e-02, forces_cosine_similarity: -1.55e-02, forces_magnitude_error: 1.26e-01, loss: 5.22e+00, lr: 4.02e-04, epoch: 1.02e-01, step: 2.24e+03\n",
      "2024-05-28 23:00:19 (INFO): energy_forces_within_threshold: 0.00e+00, energy_mae: 2.12e+00, forcesx_mae: 7.23e-02, forcesy_mae: 1.45e-01, forcesz_mae: 9.93e-02, forces_mae: 1.06e-01, forces_cosine_similarity: -2.96e-02, forces_magnitude_error: 2.29e-01, loss: 8.32e+00, lr: 4.02e-04, epoch: 1.02e-01, step: 2.25e+03\n",
      "2024-05-28 23:00:20 (INFO): energy_forces_within_threshold: 0.00e+00, energy_mae: 2.38e+00, forcesx_mae: 5.40e-02, forcesy_mae: 8.51e-02, forcesz_mae: 7.58e-02, forces_mae: 7.16e-02, forces_cosine_similarity: -9.96e-03, forces_magnitude_error: 1.48e-01, loss: 6.45e+00, lr: 4.02e-04, epoch: 1.02e-01, step: 2.26e+03\n",
      "2024-05-28 23:00:20 (INFO): energy_forces_within_threshold: 0.00e+00, energy_mae: 2.68e+00, forcesx_mae: 6.25e-02, forcesy_mae: 7.82e-02, forcesz_mae: 1.08e-01, forces_mae: 8.28e-02, forces_cosine_similarity: -6.35e-04, forces_magnitude_error: 1.71e-01, loss: 7.18e+00, lr: 4.02e-04, epoch: 1.03e-01, step: 2.26e+03\n",
      "2024-05-28 23:00:21 (INFO): energy_forces_within_threshold: 0.00e+00, energy_mae: 2.54e+00, forcesx_mae: 6.08e-02, forcesy_mae: 7.04e-02, forcesz_mae: 7.18e-02, forces_mae: 6.76e-02, forces_cosine_similarity: -2.44e-02, forces_magnitude_error: 1.36e-01, loss: 5.74e+00, lr: 4.02e-04, epoch: 1.03e-01, step: 2.26e+03\n",
      "2024-05-28 23:00:21 (INFO): energy_forces_within_threshold: 0.00e+00, energy_mae: 2.26e+00, forcesx_mae: 6.56e-02, forcesy_mae: 7.91e-02, forcesz_mae: 7.73e-02, forces_mae: 7.40e-02, forces_cosine_similarity: -1.40e-02, forces_magnitude_error: 1.50e-01, loss: 6.06e+00, lr: 4.02e-04, epoch: 1.03e-01, step: 2.27e+03\n",
      "2024-05-28 23:00:22 (INFO): energy_forces_within_threshold: 0.00e+00, energy_mae: 2.28e+00, forcesx_mae: 6.66e-02, forcesy_mae: 1.03e-01, forcesz_mae: 1.11e-01, forces_mae: 9.35e-02, forces_cosine_similarity: 1.55e-03, forces_magnitude_error: 1.92e-01, loss: 7.68e+00, lr: 4.02e-04, epoch: 1.03e-01, step: 2.28e+03\n",
      "2024-05-28 23:00:22 (INFO): energy_forces_within_threshold: 0.00e+00, energy_mae: 1.71e+00, forcesx_mae: 5.53e-02, forcesy_mae: 7.85e-02, forcesz_mae: 9.28e-02, forces_mae: 7.55e-02, forces_cosine_similarity: 3.03e-02, forces_magnitude_error: 1.58e-01, loss: 6.26e+00, lr: 4.02e-04, epoch: 1.04e-01, step: 2.28e+03\n",
      "2024-05-28 23:00:23 (INFO): energy_forces_within_threshold: 0.00e+00, energy_mae: 2.05e+00, forcesx_mae: 5.57e-02, forcesy_mae: 9.74e-02, forcesz_mae: 7.92e-02, forces_mae: 7.74e-02, forces_cosine_similarity: -1.60e-02, forces_magnitude_error: 1.59e-01, loss: 6.23e+00, lr: 4.02e-04, epoch: 1.04e-01, step: 2.28e+03\n",
      "2024-05-28 23:00:23 (INFO): energy_forces_within_threshold: 0.00e+00, energy_mae: 2.62e+00, forcesx_mae: 9.06e-02, forcesy_mae: 1.17e-01, forcesz_mae: 1.03e-01, forces_mae: 1.03e-01, forces_cosine_similarity: 1.60e-02, forces_magnitude_error: 2.11e-01, loss: 7.99e+00, lr: 4.02e-04, epoch: 1.04e-01, step: 2.29e+03\n",
      "2024-05-28 23:00:24 (INFO): energy_forces_within_threshold: 0.00e+00, energy_mae: 1.64e+01, forcesx_mae: 4.54e-02, forcesy_mae: 6.05e-02, forcesz_mae: 7.49e-02, forces_mae: 6.03e-02, forces_cosine_similarity: 3.25e-02, forces_magnitude_error: 1.25e-01, loss: 1.03e+01, lr: 4.02e-04, epoch: 1.04e-01, step: 2.30e+03\n",
      "2024-05-28 23:00:24 (INFO): energy_forces_within_threshold: 0.00e+00, energy_mae: 4.60e+01, forcesx_mae: 7.82e-02, forcesy_mae: 8.67e-02, forcesz_mae: 1.00e-01, forces_mae: 8.84e-02, forces_cosine_similarity: 1.14e-03, forces_magnitude_error: 1.76e-01, loss: 2.24e+01, lr: 4.02e-04, epoch: 1.05e-01, step: 2.30e+03\n",
      "2024-05-28 23:00:25 (INFO): energy_forces_within_threshold: 0.00e+00, energy_mae: 2.06e+00, forcesx_mae: 5.50e-02, forcesy_mae: 7.39e-02, forcesz_mae: 7.17e-02, forces_mae: 6.69e-02, forces_cosine_similarity: -2.53e-02, forces_magnitude_error: 1.37e-01, loss: 5.57e+00, lr: 4.02e-04, epoch: 1.05e-01, step: 2.30e+03\n",
      "2024-05-28 23:00:25 (INFO): energy_forces_within_threshold: 0.00e+00, energy_mae: 1.99e+00, forcesx_mae: 6.91e-02, forcesy_mae: 7.11e-02, forcesz_mae: 8.65e-02, forces_mae: 7.56e-02, forces_cosine_similarity: 1.24e-02, forces_magnitude_error: 1.56e-01, loss: 6.10e+00, lr: 4.02e-04, epoch: 1.05e-01, step: 2.31e+03\n",
      "2024-05-28 23:00:26 (INFO): energy_forces_within_threshold: 0.00e+00, energy_mae: 1.87e+00, forcesx_mae: 5.95e-02, forcesy_mae: 7.33e-02, forcesz_mae: 7.93e-02, forces_mae: 7.07e-02, forces_cosine_similarity: -3.12e-02, forces_magnitude_error: 1.46e-01, loss: 5.95e+00, lr: 4.02e-04, epoch: 1.05e-01, step: 2.32e+03\n",
      "2024-05-28 23:00:26 (INFO): energy_forces_within_threshold: 0.00e+00, energy_mae: 2.49e+00, forcesx_mae: 9.38e-02, forcesy_mae: 1.36e-01, forcesz_mae: 1.45e-01, forces_mae: 1.25e-01, forces_cosine_similarity: -3.78e-02, forces_magnitude_error: 2.55e-01, loss: 9.91e+00, lr: 4.02e-04, epoch: 1.05e-01, step: 2.32e+03\n",
      "2024-05-28 23:00:27 (INFO): energy_forces_within_threshold: 0.00e+00, energy_mae: 2.48e+00, forcesx_mae: 1.74e-01, forcesy_mae: 2.29e-01, forcesz_mae: 1.83e-01, forces_mae: 1.95e-01, forces_cosine_similarity: 1.09e-03, forces_magnitude_error: 3.90e-01, loss: 1.46e+01, lr: 4.02e-04, epoch: 1.06e-01, step: 2.32e+03\n",
      "2024-05-28 23:00:27 (INFO): energy_forces_within_threshold: 0.00e+00, energy_mae: 3.20e+00, forcesx_mae: 7.10e-02, forcesy_mae: 7.33e-02, forcesz_mae: 7.97e-02, forces_mae: 7.46e-02, forces_cosine_similarity: -7.15e-04, forces_magnitude_error: 1.52e-01, loss: 6.56e+00, lr: 4.02e-04, epoch: 1.06e-01, step: 2.33e+03\n",
      "2024-05-28 23:00:28 (INFO): energy_forces_within_threshold: 0.00e+00, energy_mae: 3.39e+00, forcesx_mae: 6.56e-02, forcesy_mae: 7.42e-02, forcesz_mae: 7.47e-02, forces_mae: 7.15e-02, forces_cosine_similarity: 1.10e-02, forces_magnitude_error: 1.45e-01, loss: 6.20e+00, lr: 4.02e-04, epoch: 1.06e-01, step: 2.34e+03\n",
      "2024-05-28 23:00:28 (INFO): energy_forces_within_threshold: 0.00e+00, energy_mae: 1.63e+00, forcesx_mae: 6.98e-02, forcesy_mae: 8.53e-02, forcesz_mae: 8.95e-02, forces_mae: 8.15e-02, forces_cosine_similarity: 2.24e-02, forces_magnitude_error: 1.64e-01, loss: 6.38e+00, lr: 4.02e-04, epoch: 1.06e-01, step: 2.34e+03\n",
      "2024-05-28 23:00:29 (INFO): energy_forces_within_threshold: 0.00e+00, energy_mae: 2.16e+00, forcesx_mae: 1.11e-01, forcesy_mae: 1.27e-01, forcesz_mae: 1.18e-01, forces_mae: 1.19e-01, forces_cosine_similarity: 1.21e-02, forces_magnitude_error: 2.37e-01, loss: 8.93e+00, lr: 4.02e-04, epoch: 1.07e-01, step: 2.34e+03\n",
      "2024-05-28 23:00:29 (INFO): energy_forces_within_threshold: 0.00e+00, energy_mae: 1.60e+00, forcesx_mae: 8.07e-02, forcesy_mae: 1.10e-01, forcesz_mae: 9.02e-02, forces_mae: 9.37e-02, forces_cosine_similarity: 2.55e-02, forces_magnitude_error: 1.89e-01, loss: 7.21e+00, lr: 4.02e-04, epoch: 1.07e-01, step: 2.35e+03\n",
      "2024-05-28 23:00:30 (INFO): energy_forces_within_threshold: 0.00e+00, energy_mae: 1.49e+00, forcesx_mae: 4.52e-02, forcesy_mae: 5.40e-02, forcesz_mae: 5.46e-02, forces_mae: 5.13e-02, forces_cosine_similarity: 2.59e-03, forces_magnitude_error: 1.04e-01, loss: 4.31e+00, lr: 4.02e-04, epoch: 1.07e-01, step: 2.36e+03\n",
      "2024-05-28 23:00:30 (INFO): energy_forces_within_threshold: 0.00e+00, energy_mae: 2.76e+00, forcesx_mae: 9.64e-02, forcesy_mae: 1.34e-01, forcesz_mae: 1.36e-01, forces_mae: 1.22e-01, forces_cosine_similarity: -2.41e-02, forces_magnitude_error: 2.43e-01, loss: 9.57e+00, lr: 4.02e-04, epoch: 1.07e-01, step: 2.36e+03\n",
      "2024-05-28 23:00:31 (INFO): energy_forces_within_threshold: 0.00e+00, energy_mae: 1.83e+00, forcesx_mae: 5.04e-02, forcesy_mae: 5.80e-02, forcesz_mae: 6.44e-02, forces_mae: 5.76e-02, forces_cosine_similarity: -7.88e-03, forces_magnitude_error: 1.16e-01, loss: 4.81e+00, lr: 4.02e-04, epoch: 1.07e-01, step: 2.36e+03\n",
      "2024-05-28 23:00:31 (INFO): energy_forces_within_threshold: 0.00e+00, energy_mae: 3.70e+00, forcesx_mae: 4.56e-02, forcesy_mae: 5.77e-02, forcesz_mae: 5.74e-02, forces_mae: 5.36e-02, forces_cosine_similarity: 1.97e-02, forces_magnitude_error: 1.11e-01, loss: 5.27e+00, lr: 4.02e-04, epoch: 1.08e-01, step: 2.37e+03\n",
      "2024-05-28 23:00:32 (INFO): energy_forces_within_threshold: 0.00e+00, energy_mae: 3.56e+00, forcesx_mae: 6.43e-02, forcesy_mae: 7.57e-02, forcesz_mae: 7.42e-02, forces_mae: 7.14e-02, forces_cosine_similarity: 7.60e-03, forces_magnitude_error: 1.45e-01, loss: 6.49e+00, lr: 4.02e-04, epoch: 1.08e-01, step: 2.38e+03\n",
      "2024-05-28 23:00:32 (INFO): energy_forces_within_threshold: 0.00e+00, energy_mae: 1.98e+00, forcesx_mae: 5.76e-02, forcesy_mae: 5.83e-02, forcesz_mae: 6.26e-02, forces_mae: 5.95e-02, forces_cosine_similarity: 2.68e-02, forces_magnitude_error: 1.20e-01, loss: 4.99e+00, lr: 4.02e-04, epoch: 1.08e-01, step: 2.38e+03\n",
      "2024-05-28 23:00:33 (INFO): energy_forces_within_threshold: 0.00e+00, energy_mae: 1.83e+00, forcesx_mae: 5.98e-02, forcesy_mae: 7.57e-02, forcesz_mae: 6.67e-02, forces_mae: 6.74e-02, forces_cosine_similarity: 1.05e-02, forces_magnitude_error: 1.37e-01, loss: 5.37e+00, lr: 4.02e-04, epoch: 1.08e-01, step: 2.38e+03\n",
      "2024-05-28 23:00:33 (INFO): energy_forces_within_threshold: 0.00e+00, energy_mae: 2.45e+00, forcesx_mae: 5.55e-02, forcesy_mae: 6.53e-02, forcesz_mae: 6.62e-02, forces_mae: 6.23e-02, forces_cosine_similarity: 2.37e-02, forces_magnitude_error: 1.26e-01, loss: 5.37e+00, lr: 4.02e-04, epoch: 1.09e-01, step: 2.39e+03\n",
      "2024-05-28 23:00:34 (INFO): energy_forces_within_threshold: 0.00e+00, energy_mae: 2.50e+01, forcesx_mae: 7.01e-02, forcesy_mae: 7.67e-02, forcesz_mae: 7.10e-02, forces_mae: 7.26e-02, forces_cosine_similarity: -2.68e-03, forces_magnitude_error: 1.45e-01, loss: 2.01e+01, lr: 4.02e-04, epoch: 1.09e-01, step: 2.40e+03\n",
      "2024-05-28 23:00:34 (INFO): energy_forces_within_threshold: 0.00e+00, energy_mae: 1.76e+01, forcesx_mae: 6.44e-02, forcesy_mae: 9.25e-02, forcesz_mae: 1.05e-01, forces_mae: 8.74e-02, forces_cosine_similarity: 1.38e-02, forces_magnitude_error: 1.79e-01, loss: 1.27e+01, lr: 4.02e-04, epoch: 1.09e-01, step: 2.40e+03\n",
      "2024-05-28 23:00:35 (INFO): energy_forces_within_threshold: 0.00e+00, energy_mae: 1.76e+01, forcesx_mae: 6.49e-02, forcesy_mae: 6.67e-02, forcesz_mae: 7.53e-02, forces_mae: 6.90e-02, forces_cosine_similarity: -2.00e-02, forces_magnitude_error: 1.39e-01, loss: 1.10e+01, lr: 4.02e-04, epoch: 1.09e-01, step: 2.40e+03\n",
      "2024-05-28 23:00:35 (INFO): energy_forces_within_threshold: 0.00e+00, energy_mae: 1.45e+01, forcesx_mae: 7.03e-02, forcesy_mae: 8.39e-02, forcesz_mae: 7.95e-02, forces_mae: 7.79e-02, forces_cosine_similarity: 2.87e-02, forces_magnitude_error: 1.56e-01, loss: 1.08e+01, lr: 4.02e-04, epoch: 1.10e-01, step: 2.41e+03\n",
      "2024-05-28 23:00:36 (INFO): energy_forces_within_threshold: 0.00e+00, energy_mae: 7.80e+00, forcesx_mae: 6.98e-02, forcesy_mae: 7.34e-02, forcesz_mae: 7.14e-02, forces_mae: 7.15e-02, forces_cosine_similarity: 9.50e-03, forces_magnitude_error: 1.41e-01, loss: 7.68e+00, lr: 4.02e-04, epoch: 1.10e-01, step: 2.42e+03\n",
      "2024-05-28 23:00:36 (INFO): energy_forces_within_threshold: 0.00e+00, energy_mae: 6.05e+00, forcesx_mae: 5.65e-02, forcesy_mae: 7.37e-02, forcesz_mae: 7.75e-02, forces_mae: 6.92e-02, forces_cosine_similarity: -2.00e-02, forces_magnitude_error: 1.38e-01, loss: 7.08e+00, lr: 4.02e-04, epoch: 1.10e-01, step: 2.42e+03\n",
      "2024-05-28 23:00:37 (INFO): energy_forces_within_threshold: 0.00e+00, energy_mae: 4.63e+00, forcesx_mae: 6.75e-02, forcesy_mae: 6.39e-02, forcesz_mae: 6.25e-02, forces_mae: 6.46e-02, forces_cosine_similarity: -4.12e-02, forces_magnitude_error: 1.31e-01, loss: 6.17e+00, lr: 4.02e-04, epoch: 1.10e-01, step: 2.42e+03\n",
      "2024-05-28 23:00:37 (INFO): energy_forces_within_threshold: 0.00e+00, energy_mae: 2.42e+00, forcesx_mae: 7.44e-02, forcesy_mae: 6.89e-02, forcesz_mae: 6.55e-02, forces_mae: 6.96e-02, forces_cosine_similarity: -9.29e-03, forces_magnitude_error: 1.40e-01, loss: 5.83e+00, lr: 4.02e-04, epoch: 1.10e-01, step: 2.43e+03\n",
      "2024-05-28 23:00:38 (INFO): energy_forces_within_threshold: 0.00e+00, energy_mae: 3.59e+00, forcesx_mae: 4.88e-02, forcesy_mae: 7.55e-02, forcesz_mae: 6.81e-02, forces_mae: 6.41e-02, forces_cosine_similarity: 3.25e-02, forces_magnitude_error: 1.32e-01, loss: 6.04e+00, lr: 4.02e-04, epoch: 1.11e-01, step: 2.44e+03\n",
      "2024-05-28 23:00:38 (INFO): energy_forces_within_threshold: 0.00e+00, energy_mae: 2.49e+00, forcesx_mae: 6.42e-02, forcesy_mae: 9.88e-02, forcesz_mae: 1.10e-01, forces_mae: 9.10e-02, forces_cosine_similarity: 2.21e-02, forces_magnitude_error: 1.87e-01, loss: 7.56e+00, lr: 4.02e-04, epoch: 1.11e-01, step: 2.44e+03\n",
      "2024-05-28 23:00:39 (INFO): energy_forces_within_threshold: 0.00e+00, energy_mae: 2.03e+00, forcesx_mae: 5.50e-02, forcesy_mae: 7.61e-02, forcesz_mae: 7.61e-02, forces_mae: 6.91e-02, forces_cosine_similarity: 3.38e-02, forces_magnitude_error: 1.40e-01, loss: 5.73e+00, lr: 4.02e-04, epoch: 1.11e-01, step: 2.44e+03\n",
      "2024-05-28 23:00:39 (INFO): energy_forces_within_threshold: 0.00e+00, energy_mae: 3.42e+00, forcesx_mae: 4.53e-02, forcesy_mae: 6.41e-02, forcesz_mae: 7.31e-02, forces_mae: 6.08e-02, forces_cosine_similarity: 2.02e-02, forces_magnitude_error: 1.27e-01, loss: 5.63e+00, lr: 4.02e-04, epoch: 1.11e-01, step: 2.45e+03\n",
      "2024-05-28 23:00:40 (INFO): energy_forces_within_threshold: 0.00e+00, energy_mae: 2.97e+00, forcesx_mae: 5.92e-02, forcesy_mae: 5.64e-02, forcesz_mae: 6.45e-02, forces_mae: 6.00e-02, forces_cosine_similarity: -1.04e-02, forces_magnitude_error: 1.21e-01, loss: 5.40e+00, lr: 4.02e-04, epoch: 1.12e-01, step: 2.46e+03\n",
      "2024-05-28 23:00:40 (INFO): energy_forces_within_threshold: 0.00e+00, energy_mae: 2.45e+00, forcesx_mae: 5.99e-02, forcesy_mae: 8.90e-02, forcesz_mae: 8.88e-02, forces_mae: 7.92e-02, forces_cosine_similarity: 1.48e-02, forces_magnitude_error: 1.63e-01, loss: 6.51e+00, lr: 4.02e-04, epoch: 1.12e-01, step: 2.46e+03\n",
      "2024-05-28 23:00:41 (INFO): energy_forces_within_threshold: 0.00e+00, energy_mae: 2.67e+00, forcesx_mae: 6.41e-02, forcesy_mae: 8.50e-02, forcesz_mae: 9.29e-02, forces_mae: 8.07e-02, forces_cosine_similarity: 3.06e-02, forces_magnitude_error: 1.68e-01, loss: 6.87e+00, lr: 4.02e-04, epoch: 1.12e-01, step: 2.46e+03\n",
      "2024-05-28 23:00:41 (INFO): energy_forces_within_threshold: 0.00e+00, energy_mae: 2.06e+00, forcesx_mae: 6.16e-02, forcesy_mae: 7.85e-02, forcesz_mae: 9.51e-02, forces_mae: 7.84e-02, forces_cosine_similarity: 4.34e-02, forces_magnitude_error: 1.62e-01, loss: 6.20e+00, lr: 4.02e-04, epoch: 1.12e-01, step: 2.47e+03\n",
      "2024-05-28 23:00:42 (INFO): energy_forces_within_threshold: 0.00e+00, energy_mae: 2.87e+00, forcesx_mae: 4.69e-02, forcesy_mae: 9.18e-02, forcesz_mae: 8.24e-02, forces_mae: 7.37e-02, forces_cosine_similarity: 4.77e-02, forces_magnitude_error: 1.54e-01, loss: 6.84e+00, lr: 4.02e-04, epoch: 1.12e-01, step: 2.48e+03\n",
      "2024-05-28 23:00:42 (INFO): energy_forces_within_threshold: 0.00e+00, energy_mae: 2.49e+00, forcesx_mae: 5.97e-02, forcesy_mae: 8.20e-02, forcesz_mae: 8.44e-02, forces_mae: 7.53e-02, forces_cosine_similarity: 4.71e-02, forces_magnitude_error: 1.53e-01, loss: 6.29e+00, lr: 4.02e-04, epoch: 1.13e-01, step: 2.48e+03\n",
      "2024-05-28 23:00:43 (INFO): energy_forces_within_threshold: 0.00e+00, energy_mae: 2.96e+00, forcesx_mae: 7.61e-02, forcesy_mae: 7.34e-02, forcesz_mae: 7.83e-02, forces_mae: 7.59e-02, forces_cosine_similarity: -5.73e-04, forces_magnitude_error: 1.54e-01, loss: 6.50e+00, lr: 4.02e-04, epoch: 1.13e-01, step: 2.48e+03\n",
      "2024-05-28 23:00:43 (INFO): energy_forces_within_threshold: 0.00e+00, energy_mae: 1.83e+00, forcesx_mae: 5.08e-02, forcesy_mae: 5.81e-02, forcesz_mae: 6.32e-02, forces_mae: 5.73e-02, forces_cosine_similarity: -1.13e-03, forces_magnitude_error: 1.14e-01, loss: 4.80e+00, lr: 4.02e-04, epoch: 1.13e-01, step: 2.49e+03\n",
      "2024-05-28 23:00:44 (INFO): energy_forces_within_threshold: 0.00e+00, energy_mae: 2.40e+00, forcesx_mae: 8.74e-02, forcesy_mae: 9.77e-02, forcesz_mae: 1.13e-01, forces_mae: 9.93e-02, forces_cosine_similarity: -2.54e-03, forces_magnitude_error: 2.01e-01, loss: 7.81e+00, lr: 4.02e-04, epoch: 1.13e-01, step: 2.50e+03\n",
      "2024-05-28 23:00:44 (INFO): energy_forces_within_threshold: 0.00e+00, energy_mae: 2.38e+00, forcesx_mae: 8.64e-02, forcesy_mae: 1.24e-01, forcesz_mae: 1.25e-01, forces_mae: 1.12e-01, forces_cosine_similarity: 3.44e-02, forces_magnitude_error: 2.29e-01, loss: 8.86e+00, lr: 4.02e-04, epoch: 1.14e-01, step: 2.50e+03\n",
      "2024-05-28 23:00:45 (INFO): energy_forces_within_threshold: 0.00e+00, energy_mae: 2.30e+00, forcesx_mae: 7.70e-02, forcesy_mae: 1.04e-01, forcesz_mae: 1.11e-01, forces_mae: 9.75e-02, forces_cosine_similarity: 1.32e-02, forces_magnitude_error: 1.96e-01, loss: 7.45e+00, lr: 4.02e-04, epoch: 1.14e-01, step: 2.50e+03\n",
      "2024-05-28 23:00:46 (INFO): energy_forces_within_threshold: 0.00e+00, energy_mae: 2.11e+00, forcesx_mae: 6.03e-02, forcesy_mae: 8.19e-02, forcesz_mae: 8.45e-02, forces_mae: 7.55e-02, forces_cosine_similarity: -1.76e-02, forces_magnitude_error: 1.53e-01, loss: 6.35e+00, lr: 4.02e-04, epoch: 1.14e-01, step: 2.51e+03\n",
      "2024-05-28 23:00:46 (INFO): energy_forces_within_threshold: 0.00e+00, energy_mae: 2.10e+00, forcesx_mae: 6.23e-02, forcesy_mae: 8.10e-02, forcesz_mae: 9.56e-02, forces_mae: 7.96e-02, forces_cosine_similarity: 6.58e-03, forces_magnitude_error: 1.61e-01, loss: 6.43e+00, lr: 4.02e-04, epoch: 1.14e-01, step: 2.52e+03\n",
      "2024-05-28 23:00:47 (INFO): energy_forces_within_threshold: 0.00e+00, energy_mae: 1.83e+00, forcesx_mae: 6.90e-02, forcesy_mae: 8.62e-02, forcesz_mae: 1.04e-01, forces_mae: 8.63e-02, forces_cosine_similarity: 1.56e-02, forces_magnitude_error: 1.74e-01, loss: 6.69e+00, lr: 4.02e-04, epoch: 1.15e-01, step: 2.52e+03\n",
      "2024-05-28 23:00:47 (INFO): energy_forces_within_threshold: 0.00e+00, energy_mae: 4.43e+00, forcesx_mae: 8.29e-02, forcesy_mae: 7.88e-02, forcesz_mae: 8.38e-02, forces_mae: 8.18e-02, forces_cosine_similarity: 3.53e-02, forces_magnitude_error: 1.66e-01, loss: 7.39e+00, lr: 4.02e-04, epoch: 1.15e-01, step: 2.52e+03\n",
      "2024-05-28 23:00:47 (INFO): energy_forces_within_threshold: 0.00e+00, energy_mae: 1.97e+00, forcesx_mae: 7.16e-02, forcesy_mae: 1.03e-01, forcesz_mae: 9.10e-02, forces_mae: 8.86e-02, forces_cosine_similarity: -3.51e-03, forces_magnitude_error: 1.79e-01, loss: 6.98e+00, lr: 4.02e-04, epoch: 1.15e-01, step: 2.53e+03\n",
      "2024-05-28 23:00:48 (INFO): energy_forces_within_threshold: 0.00e+00, energy_mae: 1.34e+00, forcesx_mae: 4.22e-02, forcesy_mae: 4.24e-02, forcesz_mae: 4.62e-02, forces_mae: 4.36e-02, forces_cosine_similarity: 2.86e-02, forces_magnitude_error: 8.67e-02, loss: 3.61e+00, lr: 4.02e-04, epoch: 1.15e-01, step: 2.54e+03\n",
      "2024-05-28 23:00:49 (INFO): energy_forces_within_threshold: 0.00e+00, energy_mae: 2.19e+00, forcesx_mae: 5.34e-02, forcesy_mae: 5.50e-02, forcesz_mae: 6.88e-02, forces_mae: 5.91e-02, forces_cosine_similarity: -3.38e-03, forces_magnitude_error: 1.20e-01, loss: 5.30e+00, lr: 4.02e-04, epoch: 1.15e-01, step: 2.54e+03\n",
      "2024-05-28 23:00:49 (INFO): energy_forces_within_threshold: 0.00e+00, energy_mae: 1.67e+01, forcesx_mae: 8.46e-02, forcesy_mae: 1.06e-01, forcesz_mae: 1.49e-01, forces_mae: 1.13e-01, forces_cosine_similarity: -6.48e-03, forces_magnitude_error: 2.33e-01, loss: 1.40e+01, lr: 4.02e-04, epoch: 1.16e-01, step: 2.54e+03\n",
      "2024-05-28 23:00:49 (INFO): energy_forces_within_threshold: 0.00e+00, energy_mae: 7.16e+00, forcesx_mae: 4.44e-02, forcesy_mae: 7.25e-02, forcesz_mae: 7.69e-02, forces_mae: 6.46e-02, forces_cosine_similarity: -2.61e-02, forces_magnitude_error: 1.34e-01, loss: 7.23e+00, lr: 4.02e-04, epoch: 1.16e-01, step: 2.55e+03\n",
      "2024-05-28 23:00:50 (INFO): energy_forces_within_threshold: 0.00e+00, energy_mae: 9.72e+00, forcesx_mae: 7.10e-02, forcesy_mae: 7.04e-02, forcesz_mae: 9.10e-02, forces_mae: 7.75e-02, forces_cosine_similarity: 3.32e-02, forces_magnitude_error: 1.60e-01, loss: 9.13e+00, lr: 4.02e-04, epoch: 1.16e-01, step: 2.56e+03\n",
      "2024-05-28 23:00:50 (INFO): energy_forces_within_threshold: 0.00e+00, energy_mae: 3.34e+00, forcesx_mae: 4.51e-02, forcesy_mae: 6.10e-02, forcesz_mae: 5.71e-02, forces_mae: 5.44e-02, forces_cosine_similarity: -2.23e-03, forces_magnitude_error: 1.11e-01, loss: 5.11e+00, lr: 4.02e-04, epoch: 1.16e-01, step: 2.56e+03\n",
      "2024-05-28 23:00:51 (INFO): energy_forces_within_threshold: 0.00e+00, energy_mae: 2.01e+00, forcesx_mae: 7.66e-02, forcesy_mae: 7.95e-02, forcesz_mae: 8.76e-02, forces_mae: 8.12e-02, forces_cosine_similarity: -9.28e-03, forces_magnitude_error: 1.67e-01, loss: 6.61e+00, lr: 4.02e-04, epoch: 1.17e-01, step: 2.56e+03\n",
      "2024-05-28 23:00:51 (INFO): energy_forces_within_threshold: 0.00e+00, energy_mae: 2.42e+00, forcesx_mae: 5.56e-02, forcesy_mae: 6.39e-02, forcesz_mae: 8.91e-02, forces_mae: 6.95e-02, forces_cosine_similarity: -2.15e-02, forces_magnitude_error: 1.44e-01, loss: 5.74e+00, lr: 4.02e-04, epoch: 1.17e-01, step: 2.57e+03\n",
      "2024-05-28 23:00:52 (INFO): energy_forces_within_threshold: 0.00e+00, energy_mae: 2.05e+00, forcesx_mae: 7.94e-02, forcesy_mae: 7.98e-02, forcesz_mae: 9.33e-02, forces_mae: 8.42e-02, forces_cosine_similarity: 9.71e-03, forces_magnitude_error: 1.71e-01, loss: 6.84e+00, lr: 4.02e-04, epoch: 1.17e-01, step: 2.58e+03\n",
      "2024-05-28 23:00:52 (INFO): energy_forces_within_threshold: 0.00e+00, energy_mae: 2.77e+00, forcesx_mae: 6.08e-02, forcesy_mae: 6.66e-02, forcesz_mae: 7.48e-02, forces_mae: 6.74e-02, forces_cosine_similarity: 2.38e-02, forces_magnitude_error: 1.36e-01, loss: 5.67e+00, lr: 4.02e-04, epoch: 1.17e-01, step: 2.58e+03\n",
      "2024-05-28 23:00:53 (INFO): energy_forces_within_threshold: 0.00e+00, energy_mae: 2.43e+00, forcesx_mae: 9.52e-02, forcesy_mae: 1.12e-01, forcesz_mae: 1.13e-01, forces_mae: 1.07e-01, forces_cosine_similarity: -5.39e-02, forces_magnitude_error: 2.15e-01, loss: 8.37e+00, lr: 4.02e-04, epoch: 1.17e-01, step: 2.58e+03\n",
      "2024-05-28 23:00:53 (INFO): energy_forces_within_threshold: 0.00e+00, energy_mae: 1.75e+00, forcesx_mae: 5.98e-02, forcesy_mae: 5.46e-02, forcesz_mae: 8.28e-02, forces_mae: 6.57e-02, forces_cosine_similarity: -5.11e-03, forces_magnitude_error: 1.33e-01, loss: 5.24e+00, lr: 4.02e-04, epoch: 1.18e-01, step: 2.59e+03\n",
      "2024-05-28 23:00:54 (INFO): energy_forces_within_threshold: 0.00e+00, energy_mae: 2.74e+00, forcesx_mae: 9.74e-02, forcesy_mae: 1.13e-01, forcesz_mae: 1.12e-01, forces_mae: 1.08e-01, forces_cosine_similarity: 5.40e-02, forces_magnitude_error: 2.18e-01, loss: 8.52e+00, lr: 4.02e-04, epoch: 1.18e-01, step: 2.60e+03\n",
      "2024-05-28 23:00:54 (INFO): energy_forces_within_threshold: 0.00e+00, energy_mae: 1.84e+00, forcesx_mae: 8.40e-02, forcesy_mae: 8.29e-02, forcesz_mae: 8.27e-02, forces_mae: 8.32e-02, forces_cosine_similarity: 3.68e-02, forces_magnitude_error: 1.72e-01, loss: 6.65e+00, lr: 4.02e-04, epoch: 1.18e-01, step: 2.60e+03\n",
      "2024-05-28 23:00:55 (INFO): energy_forces_within_threshold: 0.00e+00, energy_mae: 2.35e+00, forcesx_mae: 4.79e-02, forcesy_mae: 5.10e-02, forcesz_mae: 4.72e-02, forces_mae: 4.87e-02, forces_cosine_similarity: -3.14e-03, forces_magnitude_error: 9.78e-02, loss: 4.22e+00, lr: 4.02e-04, epoch: 1.18e-01, step: 2.60e+03\n",
      "2024-05-28 23:00:56 (INFO): energy_forces_within_threshold: 0.00e+00, energy_mae: 1.57e+00, forcesx_mae: 8.19e-02, forcesy_mae: 9.60e-02, forcesz_mae: 1.01e-01, forces_mae: 9.31e-02, forces_cosine_similarity: 1.52e-02, forces_magnitude_error: 1.95e-01, loss: 7.16e+00, lr: 4.02e-04, epoch: 1.19e-01, step: 2.61e+03\n",
      "2024-05-28 23:00:56 (INFO): energy_forces_within_threshold: 0.00e+00, energy_mae: 2.20e+00, forcesx_mae: 8.59e-02, forcesy_mae: 1.08e-01, forcesz_mae: 1.24e-01, forces_mae: 1.06e-01, forces_cosine_similarity: 2.27e-02, forces_magnitude_error: 2.12e-01, loss: 7.74e+00, lr: 4.02e-04, epoch: 1.19e-01, step: 2.62e+03\n",
      "2024-05-28 23:00:57 (INFO): energy_forces_within_threshold: 0.00e+00, energy_mae: 2.37e+00, forcesx_mae: 8.17e-02, forcesy_mae: 1.11e-01, forcesz_mae: 1.20e-01, forces_mae: 1.04e-01, forces_cosine_similarity: 3.33e-02, forces_magnitude_error: 2.13e-01, loss: 8.82e+00, lr: 4.02e-04, epoch: 1.19e-01, step: 2.62e+03\n",
      "2024-05-28 23:00:57 (INFO): energy_forces_within_threshold: 0.00e+00, energy_mae: 1.98e+00, forcesx_mae: 1.11e-01, forcesy_mae: 8.32e-02, forcesz_mae: 1.75e-01, forces_mae: 1.23e-01, forces_cosine_similarity: 5.74e-03, forces_magnitude_error: 2.48e-01, loss: 9.94e+00, lr: 4.02e-04, epoch: 1.19e-01, step: 2.62e+03\n",
      "2024-05-28 23:00:58 (INFO): energy_forces_within_threshold: 0.00e+00, energy_mae: 2.03e+00, forcesx_mae: 9.67e-02, forcesy_mae: 1.11e-01, forcesz_mae: 2.06e-01, forces_mae: 1.38e-01, forces_cosine_similarity: -1.11e-02, forces_magnitude_error: 2.96e-01, loss: 1.09e+01, lr: 4.02e-04, epoch: 1.20e-01, step: 2.63e+03\n",
      "2024-05-28 23:00:58 (INFO): energy_forces_within_threshold: 0.00e+00, energy_mae: 1.74e+00, forcesx_mae: 5.25e-02, forcesy_mae: 8.72e-02, forcesz_mae: 1.22e-01, forces_mae: 8.71e-02, forces_cosine_similarity: -2.47e-02, forces_magnitude_error: 1.83e-01, loss: 7.37e+00, lr: 4.02e-04, epoch: 1.20e-01, step: 2.64e+03\n",
      "2024-05-28 23:00:59 (INFO): energy_forces_within_threshold: 0.00e+00, energy_mae: 2.08e+00, forcesx_mae: 9.27e-02, forcesy_mae: 9.02e-02, forcesz_mae: 9.23e-02, forces_mae: 9.17e-02, forces_cosine_similarity: 6.03e-02, forces_magnitude_error: 1.85e-01, loss: 7.29e+00, lr: 4.02e-04, epoch: 1.20e-01, step: 2.64e+03\n",
      "2024-05-28 23:00:59 (INFO): energy_forces_within_threshold: 0.00e+00, energy_mae: 1.83e+00, forcesx_mae: 6.67e-02, forcesy_mae: 8.29e-02, forcesz_mae: 9.38e-02, forces_mae: 8.11e-02, forces_cosine_similarity: -2.80e-02, forces_magnitude_error: 1.66e-01, loss: 6.48e+00, lr: 4.02e-04, epoch: 1.20e-01, step: 2.64e+03\n",
      "2024-05-28 23:01:00 (INFO): energy_forces_within_threshold: 0.00e+00, energy_mae: 2.35e+00, forcesx_mae: 6.10e-02, forcesy_mae: 7.49e-02, forcesz_mae: 8.32e-02, forces_mae: 7.30e-02, forces_cosine_similarity: 5.01e-02, forces_magnitude_error: 1.49e-01, loss: 6.27e+00, lr: 4.02e-04, epoch: 1.20e-01, step: 2.65e+03\n",
      "2024-05-28 23:01:00 (INFO): energy_forces_within_threshold: 0.00e+00, energy_mae: 2.16e+00, forcesx_mae: 6.88e-02, forcesy_mae: 8.73e-02, forcesz_mae: 1.05e-01, forces_mae: 8.69e-02, forces_cosine_similarity: 2.51e-02, forces_magnitude_error: 1.77e-01, loss: 6.98e+00, lr: 4.02e-04, epoch: 1.21e-01, step: 2.66e+03\n",
      "2024-05-28 23:01:01 (INFO): energy_forces_within_threshold: 0.00e+00, energy_mae: 2.06e+00, forcesx_mae: 7.50e-02, forcesy_mae: 1.14e-01, forcesz_mae: 1.10e-01, forces_mae: 9.98e-02, forces_cosine_similarity: 3.01e-03, forces_magnitude_error: 2.07e-01, loss: 7.77e+00, lr: 4.02e-04, epoch: 1.21e-01, step: 2.66e+03\n",
      "2024-05-28 23:01:01 (INFO): energy_forces_within_threshold: 0.00e+00, energy_mae: 1.83e+00, forcesx_mae: 9.61e-02, forcesy_mae: 1.21e-01, forcesz_mae: 1.62e-01, forces_mae: 1.26e-01, forces_cosine_similarity: 1.01e-02, forces_magnitude_error: 2.57e-01, loss: 9.72e+00, lr: 4.02e-04, epoch: 1.21e-01, step: 2.66e+03\n",
      "2024-05-28 23:01:01 (INFO): energy_forces_within_threshold: 0.00e+00, energy_mae: 2.34e+00, forcesx_mae: 6.69e-02, forcesy_mae: 6.83e-02, forcesz_mae: 8.20e-02, forces_mae: 7.24e-02, forces_cosine_similarity: 8.81e-03, forces_magnitude_error: 1.46e-01, loss: 6.37e+00, lr: 4.02e-04, epoch: 1.21e-01, step: 2.67e+03\n",
      "2024-05-28 23:01:02 (INFO): energy_forces_within_threshold: 0.00e+00, energy_mae: 1.89e+00, forcesx_mae: 5.32e-02, forcesy_mae: 5.97e-02, forcesz_mae: 6.02e-02, forces_mae: 5.77e-02, forces_cosine_similarity: 2.72e-02, forces_magnitude_error: 1.16e-01, loss: 4.85e+00, lr: 4.02e-04, epoch: 1.22e-01, step: 2.68e+03\n",
      "2024-05-28 23:01:02 (INFO): energy_forces_within_threshold: 0.00e+00, energy_mae: 2.34e+00, forcesx_mae: 4.41e-02, forcesy_mae: 6.23e-02, forcesz_mae: 6.01e-02, forces_mae: 5.55e-02, forces_cosine_similarity: 2.55e-02, forces_magnitude_error: 1.11e-01, loss: 4.80e+00, lr: 4.02e-04, epoch: 1.22e-01, step: 2.68e+03\n",
      "2024-05-28 23:01:03 (INFO): energy_forces_within_threshold: 0.00e+00, energy_mae: 1.80e+00, forcesx_mae: 6.43e-02, forcesy_mae: 6.64e-02, forcesz_mae: 6.86e-02, forces_mae: 6.64e-02, forces_cosine_similarity: 5.00e-02, forces_magnitude_error: 1.32e-01, loss: 5.34e+00, lr: 4.02e-04, epoch: 1.22e-01, step: 2.68e+03\n",
      "2024-05-28 23:01:03 (INFO): energy_forces_within_threshold: 0.00e+00, energy_mae: 2.00e+00, forcesx_mae: 5.92e-02, forcesy_mae: 9.23e-02, forcesz_mae: 9.59e-02, forces_mae: 8.25e-02, forces_cosine_similarity: 3.19e-02, forces_magnitude_error: 1.70e-01, loss: 6.55e+00, lr: 4.02e-04, epoch: 1.22e-01, step: 2.69e+03\n",
      "2024-05-28 23:01:04 (INFO): energy_forces_within_threshold: 0.00e+00, energy_mae: 2.41e+00, forcesx_mae: 1.02e-01, forcesy_mae: 1.18e-01, forcesz_mae: 1.28e-01, forces_mae: 1.16e-01, forces_cosine_similarity: 2.98e-02, forces_magnitude_error: 2.28e-01, loss: 8.72e+00, lr: 4.02e-04, epoch: 1.22e-01, step: 2.70e+03\n",
      "2024-05-28 23:01:04 (INFO): energy_forces_within_threshold: 0.00e+00, energy_mae: 2.27e+00, forcesx_mae: 5.45e-02, forcesy_mae: 6.89e-02, forcesz_mae: 7.09e-02, forces_mae: 6.48e-02, forces_cosine_similarity: 1.42e-02, forces_magnitude_error: 1.30e-01, loss: 5.42e+00, lr: 4.02e-04, epoch: 1.23e-01, step: 2.70e+03\n",
      "2024-05-28 23:01:05 (INFO): energy_forces_within_threshold: 0.00e+00, energy_mae: 1.61e+00, forcesx_mae: 5.27e-02, forcesy_mae: 5.75e-02, forcesz_mae: 6.82e-02, forces_mae: 5.95e-02, forces_cosine_similarity: 1.31e-02, forces_magnitude_error: 1.19e-01, loss: 4.77e+00, lr: 4.02e-04, epoch: 1.23e-01, step: 2.70e+03\n",
      "2024-05-28 23:01:05 (INFO): energy_forces_within_threshold: 0.00e+00, energy_mae: 2.12e+00, forcesx_mae: 5.54e-02, forcesy_mae: 8.22e-02, forcesz_mae: 8.59e-02, forces_mae: 7.45e-02, forces_cosine_similarity: 5.69e-02, forces_magnitude_error: 1.56e-01, loss: 6.30e+00, lr: 4.02e-04, epoch: 1.23e-01, step: 2.71e+03\n",
      "2024-05-28 23:01:06 (INFO): energy_forces_within_threshold: 0.00e+00, energy_mae: 1.68e+00, forcesx_mae: 5.15e-02, forcesy_mae: 6.25e-02, forcesz_mae: 7.69e-02, forces_mae: 6.36e-02, forces_cosine_similarity: 3.09e-02, forces_magnitude_error: 1.29e-01, loss: 5.16e+00, lr: 4.02e-04, epoch: 1.23e-01, step: 2.72e+03\n",
      "2024-05-28 23:01:06 (INFO): energy_forces_within_threshold: 0.00e+00, energy_mae: 2.21e+00, forcesx_mae: 8.20e-02, forcesy_mae: 9.12e-02, forcesz_mae: 7.62e-02, forces_mae: 8.31e-02, forces_cosine_similarity: -1.23e-02, forces_magnitude_error: 1.67e-01, loss: 6.57e+00, lr: 4.02e-04, epoch: 1.24e-01, step: 2.72e+03\n",
      "2024-05-28 23:01:07 (INFO): energy_forces_within_threshold: 0.00e+00, energy_mae: 1.92e+00, forcesx_mae: 5.64e-02, forcesy_mae: 1.40e-01, forcesz_mae: 1.43e-01, forces_mae: 1.13e-01, forces_cosine_similarity: 2.38e-02, forces_magnitude_error: 2.49e-01, loss: 9.64e+00, lr: 4.02e-04, epoch: 1.24e-01, step: 2.72e+03\n",
      "2024-05-28 23:01:07 (INFO): energy_forces_within_threshold: 0.00e+00, energy_mae: 1.75e+00, forcesx_mae: 6.12e-02, forcesy_mae: 8.50e-02, forcesz_mae: 8.16e-02, forces_mae: 7.60e-02, forces_cosine_similarity: 1.54e-02, forces_magnitude_error: 1.55e-01, loss: 6.01e+00, lr: 4.02e-04, epoch: 1.24e-01, step: 2.73e+03\n",
      "2024-05-28 23:01:08 (INFO): energy_forces_within_threshold: 0.00e+00, energy_mae: 1.86e+00, forcesx_mae: 5.63e-02, forcesy_mae: 6.67e-02, forcesz_mae: 7.68e-02, forces_mae: 6.66e-02, forces_cosine_similarity: 4.74e-02, forces_magnitude_error: 1.35e-01, loss: 5.37e+00, lr: 4.02e-04, epoch: 1.24e-01, step: 2.74e+03\n",
      "2024-05-28 23:01:08 (INFO): energy_forces_within_threshold: 0.00e+00, energy_mae: 2.21e+00, forcesx_mae: 4.79e-02, forcesy_mae: 8.28e-02, forcesz_mae: 8.55e-02, forces_mae: 7.21e-02, forces_cosine_similarity: -1.36e-02, forces_magnitude_error: 1.52e-01, loss: 6.26e+00, lr: 4.02e-04, epoch: 1.25e-01, step: 2.74e+03\n",
      "2024-05-28 23:01:09 (INFO): energy_forces_within_threshold: 0.00e+00, energy_mae: 2.11e+00, forcesx_mae: 5.84e-02, forcesy_mae: 8.95e-02, forcesz_mae: 1.09e-01, forces_mae: 8.56e-02, forces_cosine_similarity: -2.73e-02, forces_magnitude_error: 1.73e-01, loss: 6.84e+00, lr: 4.02e-04, epoch: 1.25e-01, step: 2.74e+03\n",
      "2024-05-28 23:01:09 (INFO): energy_forces_within_threshold: 0.00e+00, energy_mae: 2.25e+00, forcesx_mae: 9.33e-02, forcesy_mae: 1.26e-01, forcesz_mae: 1.19e-01, forces_mae: 1.13e-01, forces_cosine_similarity: 1.59e-02, forces_magnitude_error: 2.22e-01, loss: 8.62e+00, lr: 4.02e-04, epoch: 1.25e-01, step: 2.75e+03\n",
      "2024-05-28 23:01:10 (INFO): energy_forces_within_threshold: 0.00e+00, energy_mae: 1.42e+00, forcesx_mae: 5.40e-02, forcesy_mae: 6.64e-02, forcesz_mae: 7.17e-02, forces_mae: 6.40e-02, forces_cosine_similarity: 6.76e-03, forces_magnitude_error: 1.27e-01, loss: 4.99e+00, lr: 4.02e-04, epoch: 1.25e-01, step: 2.76e+03\n",
      "2024-05-28 23:01:10 (INFO): energy_forces_within_threshold: 0.00e+00, energy_mae: 1.49e+00, forcesx_mae: 8.27e-02, forcesy_mae: 8.09e-02, forcesz_mae: 8.75e-02, forces_mae: 8.37e-02, forces_cosine_similarity: 5.94e-02, forces_magnitude_error: 1.70e-01, loss: 6.35e+00, lr: 4.02e-04, epoch: 1.25e-01, step: 2.76e+03\n",
      "2024-05-28 23:01:11 (INFO): energy_forces_within_threshold: 0.00e+00, energy_mae: 2.18e+00, forcesx_mae: 5.46e-02, forcesy_mae: 7.30e-02, forcesz_mae: 1.31e-01, forces_mae: 8.62e-02, forces_cosine_similarity: 5.20e-02, forces_magnitude_error: 1.87e-01, loss: 7.23e+00, lr: 4.02e-04, epoch: 1.26e-01, step: 2.76e+03\n",
      "2024-05-28 23:01:11 (INFO): energy_forces_within_threshold: 0.00e+00, energy_mae: 2.46e+00, forcesx_mae: 6.23e-02, forcesy_mae: 8.68e-02, forcesz_mae: 9.31e-02, forces_mae: 8.07e-02, forces_cosine_similarity: 2.09e-02, forces_magnitude_error: 1.68e-01, loss: 6.76e+00, lr: 4.02e-04, epoch: 1.26e-01, step: 2.77e+03\n",
      "2024-05-28 23:01:12 (INFO): energy_forces_within_threshold: 0.00e+00, energy_mae: 1.56e+00, forcesx_mae: 3.91e-02, forcesy_mae: 5.95e-02, forcesz_mae: 5.51e-02, forces_mae: 5.13e-02, forces_cosine_similarity: 2.62e-02, forces_magnitude_error: 1.05e-01, loss: 4.34e+00, lr: 4.02e-04, epoch: 1.26e-01, step: 2.78e+03\n",
      "2024-05-28 23:01:12 (INFO): energy_forces_within_threshold: 0.00e+00, energy_mae: 1.99e+00, forcesx_mae: 5.42e-02, forcesy_mae: 7.66e-02, forcesz_mae: 6.50e-02, forces_mae: 6.53e-02, forces_cosine_similarity: 1.26e-02, forces_magnitude_error: 1.31e-01, loss: 5.51e+00, lr: 4.02e-04, epoch: 1.26e-01, step: 2.78e+03\n",
      "2024-05-28 23:01:13 (INFO): energy_forces_within_threshold: 0.00e+00, energy_mae: 1.57e+00, forcesx_mae: 5.09e-02, forcesy_mae: 5.82e-02, forcesz_mae: 6.11e-02, forces_mae: 5.68e-02, forces_cosine_similarity: 4.45e-02, forces_magnitude_error: 1.14e-01, loss: 4.68e+00, lr: 4.02e-04, epoch: 1.27e-01, step: 2.78e+03\n",
      "2024-05-28 23:01:13 (INFO): energy_forces_within_threshold: 0.00e+00, energy_mae: 2.23e+00, forcesx_mae: 7.11e-02, forcesy_mae: 9.50e-02, forcesz_mae: 8.22e-02, forces_mae: 8.28e-02, forces_cosine_similarity: 4.93e-02, forces_magnitude_error: 1.69e-01, loss: 6.91e+00, lr: 4.02e-04, epoch: 1.27e-01, step: 2.79e+03\n",
      "2024-05-28 23:01:14 (INFO): energy_forces_within_threshold: 0.00e+00, energy_mae: 1.80e+00, forcesx_mae: 5.72e-02, forcesy_mae: 8.60e-02, forcesz_mae: 8.12e-02, forces_mae: 7.48e-02, forces_cosine_similarity: 4.94e-03, forces_magnitude_error: 1.56e-01, loss: 6.11e+00, lr: 4.02e-04, epoch: 1.27e-01, step: 2.80e+03\n",
      "2024-05-28 23:01:14 (INFO): energy_forces_within_threshold: 0.00e+00, energy_mae: 1.96e+00, forcesx_mae: 7.12e-02, forcesy_mae: 9.63e-02, forcesz_mae: 9.29e-02, forces_mae: 8.68e-02, forces_cosine_similarity: 1.41e-02, forces_magnitude_error: 1.78e-01, loss: 7.00e+00, lr: 4.02e-04, epoch: 1.27e-01, step: 2.80e+03\n",
      "2024-05-28 23:01:15 (INFO): energy_forces_within_threshold: 0.00e+00, energy_mae: 1.79e+00, forcesx_mae: 4.91e-02, forcesy_mae: 6.40e-02, forcesz_mae: 6.43e-02, forces_mae: 5.92e-02, forces_cosine_similarity: 8.55e-03, forces_magnitude_error: 1.23e-01, loss: 4.94e+00, lr: 4.02e-04, epoch: 1.27e-01, step: 2.80e+03\n",
      "2024-05-28 23:01:15 (INFO): energy_forces_within_threshold: 0.00e+00, energy_mae: 1.71e+00, forcesx_mae: 5.35e-02, forcesy_mae: 5.79e-02, forcesz_mae: 5.25e-02, forces_mae: 5.46e-02, forces_cosine_similarity: 2.43e-02, forces_magnitude_error: 1.08e-01, loss: 4.44e+00, lr: 4.02e-04, epoch: 1.28e-01, step: 2.81e+03\n",
      "2024-05-28 23:01:16 (INFO): energy_forces_within_threshold: 0.00e+00, energy_mae: 1.60e+00, forcesx_mae: 5.63e-02, forcesy_mae: 7.75e-02, forcesz_mae: 7.64e-02, forces_mae: 7.00e-02, forces_cosine_similarity: 4.01e-03, forces_magnitude_error: 1.45e-01, loss: 5.64e+00, lr: 4.02e-04, epoch: 1.28e-01, step: 2.82e+03\n",
      "2024-05-28 23:01:16 (INFO): energy_forces_within_threshold: 0.00e+00, energy_mae: 1.89e+00, forcesx_mae: 6.34e-02, forcesy_mae: 8.48e-02, forcesz_mae: 8.28e-02, forces_mae: 7.70e-02, forces_cosine_similarity: 3.66e-03, forces_magnitude_error: 1.59e-01, loss: 6.39e+00, lr: 4.02e-04, epoch: 1.28e-01, step: 2.82e+03\n",
      "2024-05-28 23:01:17 (INFO): energy_forces_within_threshold: 0.00e+00, energy_mae: 1.66e+00, forcesx_mae: 7.15e-02, forcesy_mae: 9.02e-02, forcesz_mae: 8.92e-02, forces_mae: 8.36e-02, forces_cosine_similarity: 1.21e-02, forces_magnitude_error: 1.70e-01, loss: 6.59e+00, lr: 4.02e-04, epoch: 1.28e-01, step: 2.82e+03\n",
      "2024-05-28 23:01:17 (INFO): energy_forces_within_threshold: 0.00e+00, energy_mae: 2.04e+00, forcesx_mae: 8.38e-02, forcesy_mae: 1.03e-01, forcesz_mae: 8.60e-02, forces_mae: 9.09e-02, forces_cosine_similarity: -1.42e-02, forces_magnitude_error: 1.77e-01, loss: 7.90e+00, lr: 4.02e-04, epoch: 1.29e-01, step: 2.83e+03\n",
      "2024-05-28 23:01:18 (INFO): energy_forces_within_threshold: 0.00e+00, energy_mae: 2.13e+00, forcesx_mae: 7.24e-02, forcesy_mae: 1.21e-01, forcesz_mae: 1.14e-01, forces_mae: 1.02e-01, forces_cosine_similarity: 4.14e-02, forces_magnitude_error: 2.12e-01, loss: 8.19e+00, lr: 4.02e-04, epoch: 1.29e-01, step: 2.84e+03\n",
      "2024-05-28 23:01:18 (INFO): energy_forces_within_threshold: 0.00e+00, energy_mae: 1.85e+00, forcesx_mae: 3.91e-02, forcesy_mae: 5.27e-02, forcesz_mae: 5.16e-02, forces_mae: 4.78e-02, forces_cosine_similarity: 2.48e-02, forces_magnitude_error: 9.81e-02, loss: 4.03e+00, lr: 4.02e-04, epoch: 1.29e-01, step: 2.84e+03\n",
      "2024-05-28 23:01:19 (INFO): energy_forces_within_threshold: 0.00e+00, energy_mae: 2.03e+00, forcesx_mae: 6.40e-02, forcesy_mae: 8.94e-02, forcesz_mae: 1.11e-01, forces_mae: 8.81e-02, forces_cosine_similarity: 1.12e-02, forces_magnitude_error: 1.86e-01, loss: 7.25e+00, lr: 4.02e-04, epoch: 1.29e-01, step: 2.84e+03\n",
      "2024-05-28 23:01:19 (INFO): energy_forces_within_threshold: 0.00e+00, energy_mae: 1.66e+00, forcesx_mae: 4.60e-02, forcesy_mae: 6.64e-02, forcesz_mae: 6.53e-02, forces_mae: 5.93e-02, forces_cosine_similarity: 1.04e-03, forces_magnitude_error: 1.21e-01, loss: 4.86e+00, lr: 4.02e-04, epoch: 1.30e-01, step: 2.85e+03\n",
      "2024-05-28 23:01:20 (INFO): energy_forces_within_threshold: 0.00e+00, energy_mae: 2.19e+00, forcesx_mae: 4.90e-02, forcesy_mae: 7.01e-02, forcesz_mae: 5.80e-02, forces_mae: 5.90e-02, forces_cosine_similarity: 2.32e-02, forces_magnitude_error: 1.20e-01, loss: 5.03e+00, lr: 4.02e-04, epoch: 1.30e-01, step: 2.86e+03\n",
      "2024-05-28 23:01:20 (INFO): energy_forces_within_threshold: 0.00e+00, energy_mae: 1.90e+00, forcesx_mae: 6.99e-02, forcesy_mae: 8.76e-02, forcesz_mae: 8.31e-02, forces_mae: 8.02e-02, forces_cosine_similarity: 1.05e-02, forces_magnitude_error: 1.62e-01, loss: 6.35e+00, lr: 4.02e-04, epoch: 1.30e-01, step: 2.86e+03\n",
      "2024-05-28 23:01:21 (INFO): energy_forces_within_threshold: 0.00e+00, energy_mae: 1.36e+00, forcesx_mae: 4.69e-02, forcesy_mae: 6.28e-02, forcesz_mae: 6.57e-02, forces_mae: 5.84e-02, forces_cosine_similarity: 1.46e-02, forces_magnitude_error: 1.18e-01, loss: 4.60e+00, lr: 4.02e-04, epoch: 1.30e-01, step: 2.86e+03\n",
      "2024-05-28 23:01:21 (INFO): energy_forces_within_threshold: 0.00e+00, energy_mae: 2.28e+00, forcesx_mae: 4.24e-02, forcesy_mae: 7.36e-02, forcesz_mae: 6.98e-02, forces_mae: 6.19e-02, forces_cosine_similarity: -6.12e-03, forces_magnitude_error: 1.29e-01, loss: 5.23e+00, lr: 4.02e-04, epoch: 1.30e-01, step: 2.87e+03\n",
      "2024-05-28 23:01:22 (INFO): energy_forces_within_threshold: 0.00e+00, energy_mae: 1.80e+00, forcesx_mae: 3.62e-02, forcesy_mae: 4.45e-02, forcesz_mae: 4.93e-02, forces_mae: 4.34e-02, forces_cosine_similarity: -3.25e-02, forces_magnitude_error: 8.74e-02, loss: 3.76e+00, lr: 4.02e-04, epoch: 1.31e-01, step: 2.88e+03\n",
      "2024-05-28 23:01:22 (INFO): energy_forces_within_threshold: 0.00e+00, energy_mae: 1.69e+00, forcesx_mae: 4.36e-02, forcesy_mae: 4.84e-02, forcesz_mae: 4.65e-02, forces_mae: 4.62e-02, forces_cosine_similarity: 1.81e-02, forces_magnitude_error: 9.15e-02, loss: 3.73e+00, lr: 4.02e-04, epoch: 1.31e-01, step: 2.88e+03\n",
      "2024-05-28 23:01:23 (INFO): energy_forces_within_threshold: 0.00e+00, energy_mae: 1.95e+00, forcesx_mae: 4.20e-02, forcesy_mae: 6.74e-02, forcesz_mae: 6.99e-02, forces_mae: 5.98e-02, forces_cosine_similarity: 2.29e-03, forces_magnitude_error: 1.25e-01, loss: 5.25e+00, lr: 4.02e-04, epoch: 1.31e-01, step: 2.88e+03\n",
      "2024-05-28 23:01:23 (INFO): energy_forces_within_threshold: 0.00e+00, energy_mae: 1.87e+00, forcesx_mae: 6.50e-02, forcesy_mae: 8.89e-02, forcesz_mae: 1.05e-01, forces_mae: 8.64e-02, forces_cosine_similarity: 2.91e-02, forces_magnitude_error: 1.75e-01, loss: 6.63e+00, lr: 4.02e-04, epoch: 1.31e-01, step: 2.89e+03\n",
      "2024-05-28 23:01:24 (INFO): energy_forces_within_threshold: 0.00e+00, energy_mae: 1.36e+00, forcesx_mae: 6.24e-02, forcesy_mae: 7.54e-02, forcesz_mae: 7.05e-02, forces_mae: 6.94e-02, forces_cosine_similarity: 3.72e-02, forces_magnitude_error: 1.40e-01, loss: 5.50e+00, lr: 4.02e-04, epoch: 1.32e-01, step: 2.90e+03\n",
      "2024-05-28 23:01:24 (INFO): energy_forces_within_threshold: 0.00e+00, energy_mae: 2.08e+00, forcesx_mae: 3.35e-02, forcesy_mae: 4.26e-02, forcesz_mae: 4.44e-02, forces_mae: 4.02e-02, forces_cosine_similarity: 4.81e-03, forces_magnitude_error: 8.21e-02, loss: 3.62e+00, lr: 4.02e-04, epoch: 1.32e-01, step: 2.90e+03\n",
      "2024-05-28 23:01:25 (INFO): energy_forces_within_threshold: 0.00e+00, energy_mae: 1.94e+00, forcesx_mae: 4.36e-02, forcesy_mae: 5.52e-02, forcesz_mae: 5.34e-02, forces_mae: 5.07e-02, forces_cosine_similarity: 7.57e-03, forces_magnitude_error: 1.03e-01, loss: 4.41e+00, lr: 4.02e-04, epoch: 1.32e-01, step: 2.90e+03\n",
      "2024-05-28 23:01:25 (INFO): energy_forces_within_threshold: 0.00e+00, energy_mae: 2.01e+00, forcesx_mae: 7.30e-02, forcesy_mae: 9.94e-02, forcesz_mae: 1.06e-01, forces_mae: 9.27e-02, forces_cosine_similarity: 4.29e-02, forces_magnitude_error: 1.87e-01, loss: 7.26e+00, lr: 4.02e-04, epoch: 1.32e-01, step: 2.91e+03\n",
      "2024-05-28 23:01:26 (INFO): energy_forces_within_threshold: 0.00e+00, energy_mae: 2.63e+00, forcesx_mae: 7.19e-02, forcesy_mae: 7.85e-02, forcesz_mae: 9.15e-02, forces_mae: 8.06e-02, forces_cosine_similarity: 4.10e-02, forces_magnitude_error: 1.62e-01, loss: 6.73e+00, lr: 4.02e-04, epoch: 1.32e-01, step: 2.92e+03\n",
      "2024-05-28 23:01:26 (INFO): energy_forces_within_threshold: 0.00e+00, energy_mae: 1.94e+00, forcesx_mae: 7.03e-02, forcesy_mae: 1.01e-01, forcesz_mae: 1.17e-01, forces_mae: 9.59e-02, forces_cosine_similarity: 5.99e-02, forces_magnitude_error: 2.02e-01, loss: 7.98e+00, lr: 4.02e-04, epoch: 1.33e-01, step: 2.92e+03\n",
      "2024-05-28 23:01:27 (INFO): energy_forces_within_threshold: 0.00e+00, energy_mae: 2.23e+00, forcesx_mae: 6.88e-02, forcesy_mae: 9.17e-02, forcesz_mae: 1.09e-01, forces_mae: 8.98e-02, forces_cosine_similarity: 9.42e-02, forces_magnitude_error: 1.81e-01, loss: 7.42e+00, lr: 4.02e-04, epoch: 1.33e-01, step: 2.92e+03\n",
      "2024-05-28 23:01:27 (INFO): energy_forces_within_threshold: 0.00e+00, energy_mae: 2.23e+00, forcesx_mae: 1.91e-01, forcesy_mae: 1.77e-01, forcesz_mae: 1.58e-01, forces_mae: 1.75e-01, forces_cosine_similarity: 3.59e-02, forces_magnitude_error: 3.34e-01, loss: 1.41e+01, lr: 4.02e-04, epoch: 1.33e-01, step: 2.93e+03\n",
      "2024-05-28 23:01:28 (INFO): energy_forces_within_threshold: 0.00e+00, energy_mae: 1.97e+00, forcesx_mae: 4.95e-02, forcesy_mae: 5.60e-02, forcesz_mae: 5.93e-02, forces_mae: 5.49e-02, forces_cosine_similarity: 4.04e-02, forces_magnitude_error: 1.10e-01, loss: 4.52e+00, lr: 4.02e-04, epoch: 1.33e-01, step: 2.94e+03\n",
      "2024-05-28 23:01:28 (INFO): energy_forces_within_threshold: 0.00e+00, energy_mae: 2.32e+00, forcesx_mae: 4.86e-02, forcesy_mae: 6.67e-02, forcesz_mae: 7.99e-02, forces_mae: 6.51e-02, forces_cosine_similarity: 2.50e-02, forces_magnitude_error: 1.34e-01, loss: 5.57e+00, lr: 4.02e-04, epoch: 1.34e-01, step: 2.94e+03\n",
      "2024-05-28 23:01:29 (INFO): energy_forces_within_threshold: 0.00e+00, energy_mae: 1.69e+00, forcesx_mae: 4.33e-02, forcesy_mae: 5.59e-02, forcesz_mae: 6.66e-02, forces_mae: 5.53e-02, forces_cosine_similarity: 3.44e-02, forces_magnitude_error: 1.12e-01, loss: 4.53e+00, lr: 4.02e-04, epoch: 1.34e-01, step: 2.94e+03\n",
      "2024-05-28 23:01:29 (INFO): energy_forces_within_threshold: 0.00e+00, energy_mae: 2.10e+00, forcesx_mae: 5.69e-02, forcesy_mae: 7.58e-02, forcesz_mae: 6.73e-02, forces_mae: 6.67e-02, forces_cosine_similarity: 2.90e-02, forces_magnitude_error: 1.35e-01, loss: 5.65e+00, lr: 4.02e-04, epoch: 1.34e-01, step: 2.95e+03\n",
      "2024-05-28 23:01:30 (INFO): energy_forces_within_threshold: 0.00e+00, energy_mae: 2.12e+00, forcesx_mae: 5.64e-02, forcesy_mae: 7.07e-02, forcesz_mae: 6.94e-02, forces_mae: 6.55e-02, forces_cosine_similarity: 2.76e-02, forces_magnitude_error: 1.32e-01, loss: 5.61e+00, lr: 4.02e-04, epoch: 1.34e-01, step: 2.96e+03\n",
      "2024-05-28 23:01:30 (INFO): energy_forces_within_threshold: 0.00e+00, energy_mae: 2.70e+00, forcesx_mae: 8.70e-02, forcesy_mae: 8.92e-02, forcesz_mae: 9.30e-02, forces_mae: 8.97e-02, forces_cosine_similarity: 5.82e-02, forces_magnitude_error: 1.78e-01, loss: 7.21e+00, lr: 4.02e-04, epoch: 1.35e-01, step: 2.96e+03\n",
      "2024-05-28 23:01:31 (INFO): energy_forces_within_threshold: 0.00e+00, energy_mae: 1.50e+00, forcesx_mae: 6.47e-02, forcesy_mae: 7.50e-02, forcesz_mae: 7.21e-02, forces_mae: 7.06e-02, forces_cosine_similarity: 2.04e-02, forces_magnitude_error: 1.41e-01, loss: 5.55e+00, lr: 4.02e-04, epoch: 1.35e-01, step: 2.96e+03\n",
      "2024-05-28 23:01:31 (INFO): energy_forces_within_threshold: 0.00e+00, energy_mae: 2.29e+00, forcesx_mae: 6.89e-02, forcesy_mae: 7.36e-02, forcesz_mae: 7.89e-02, forces_mae: 7.38e-02, forces_cosine_similarity: 2.50e-02, forces_magnitude_error: 1.47e-01, loss: 6.44e+00, lr: 4.02e-04, epoch: 1.35e-01, step: 2.97e+03\n",
      "2024-05-28 23:01:32 (INFO): energy_forces_within_threshold: 0.00e+00, energy_mae: 2.47e+00, forcesx_mae: 7.29e-02, forcesy_mae: 8.38e-02, forcesz_mae: 1.31e-01, forces_mae: 9.59e-02, forces_cosine_similarity: 3.27e-02, forces_magnitude_error: 2.03e-01, loss: 7.96e+00, lr: 4.02e-04, epoch: 1.35e-01, step: 2.98e+03\n",
      "2024-05-28 23:01:32 (INFO): energy_forces_within_threshold: 0.00e+00, energy_mae: 2.40e+00, forcesx_mae: 5.70e-02, forcesy_mae: 7.32e-02, forcesz_mae: 6.84e-02, forces_mae: 6.62e-02, forces_cosine_similarity: 1.89e-02, forces_magnitude_error: 1.34e-01, loss: 5.70e+00, lr: 4.02e-04, epoch: 1.35e-01, step: 2.98e+03\n",
      "2024-05-28 23:01:33 (INFO): energy_forces_within_threshold: 0.00e+00, energy_mae: 2.50e+00, forcesx_mae: 5.54e-02, forcesy_mae: 7.08e-02, forcesz_mae: 7.95e-02, forces_mae: 6.86e-02, forces_cosine_similarity: 2.85e-02, forces_magnitude_error: 1.37e-01, loss: 5.71e+00, lr: 4.02e-04, epoch: 1.36e-01, step: 2.98e+03\n",
      "2024-05-28 23:01:33 (INFO): energy_forces_within_threshold: 0.00e+00, energy_mae: 1.78e+00, forcesx_mae: 5.71e-02, forcesy_mae: 8.67e-02, forcesz_mae: 7.88e-02, forces_mae: 7.42e-02, forces_cosine_similarity: 3.90e-02, forces_magnitude_error: 1.49e-01, loss: 6.03e+00, lr: 4.02e-04, epoch: 1.36e-01, step: 2.99e+03\n",
      "2024-05-28 23:01:34 (INFO): energy_forces_within_threshold: 0.00e+00, energy_mae: 2.17e+00, forcesx_mae: 1.62e-01, forcesy_mae: 8.58e-02, forcesz_mae: 9.69e-02, forces_mae: 1.15e-01, forces_cosine_similarity: 4.87e-02, forces_magnitude_error: 2.47e-01, loss: 9.72e+00, lr: 4.02e-04, epoch: 1.36e-01, step: 3.00e+03\n",
      "2024-05-28 23:01:34 (INFO): energy_forces_within_threshold: 0.00e+00, energy_mae: 1.90e+00, forcesx_mae: 6.76e-02, forcesy_mae: 7.44e-02, forcesz_mae: 7.24e-02, forces_mae: 7.15e-02, forces_cosine_similarity: 4.12e-02, forces_magnitude_error: 1.41e-01, loss: 5.71e+00, lr: 4.02e-04, epoch: 1.36e-01, step: 3.00e+03\n",
      "2024-05-28 23:01:35 (INFO): energy_forces_within_threshold: 0.00e+00, energy_mae: 2.28e+00, forcesx_mae: 5.02e-02, forcesy_mae: 6.93e-02, forcesz_mae: 7.80e-02, forces_mae: 6.58e-02, forces_cosine_similarity: -1.40e-02, forces_magnitude_error: 1.38e-01, loss: 5.63e+00, lr: 4.02e-04, epoch: 1.37e-01, step: 3.00e+03\n",
      "2024-05-28 23:01:35 (INFO): energy_forces_within_threshold: 0.00e+00, energy_mae: 2.32e+00, forcesx_mae: 5.40e-02, forcesy_mae: 7.43e-02, forcesz_mae: 8.24e-02, forces_mae: 7.03e-02, forces_cosine_similarity: 2.77e-02, forces_magnitude_error: 1.43e-01, loss: 5.92e+00, lr: 4.02e-04, epoch: 1.37e-01, step: 3.01e+03\n",
      "2024-05-28 23:01:36 (INFO): energy_forces_within_threshold: 0.00e+00, energy_mae: 1.61e+00, forcesx_mae: 7.16e-02, forcesy_mae: 7.70e-02, forcesz_mae: 8.31e-02, forces_mae: 7.72e-02, forces_cosine_similarity: -2.01e-02, forces_magnitude_error: 1.53e-01, loss: 6.05e+00, lr: 4.02e-04, epoch: 1.37e-01, step: 3.02e+03\n",
      "2024-05-28 23:01:36 (INFO): energy_forces_within_threshold: 0.00e+00, energy_mae: 1.84e+00, forcesx_mae: 6.62e-02, forcesy_mae: 8.82e-02, forcesz_mae: 8.39e-02, forces_mae: 7.94e-02, forces_cosine_similarity: 3.38e-02, forces_magnitude_error: 1.61e-01, loss: 6.26e+00, lr: 4.02e-04, epoch: 1.37e-01, step: 3.02e+03\n",
      "2024-05-28 23:01:37 (INFO): energy_forces_within_threshold: 0.00e+00, energy_mae: 2.61e+00, forcesx_mae: 3.69e-02, forcesy_mae: 4.93e-02, forcesz_mae: 3.89e-02, forces_mae: 4.17e-02, forces_cosine_similarity: 5.15e-02, forces_magnitude_error: 8.41e-02, loss: 3.94e+00, lr: 4.02e-04, epoch: 1.37e-01, step: 3.02e+03\n",
      "2024-05-28 23:01:37 (INFO): energy_forces_within_threshold: 0.00e+00, energy_mae: 1.97e+00, forcesx_mae: 8.64e-02, forcesy_mae: 1.06e-01, forcesz_mae: 9.45e-02, forces_mae: 9.58e-02, forces_cosine_similarity: 3.46e-02, forces_magnitude_error: 1.91e-01, loss: 7.63e+00, lr: 4.02e-04, epoch: 1.38e-01, step: 3.03e+03\n",
      "2024-05-28 23:01:38 (INFO): energy_forces_within_threshold: 0.00e+00, energy_mae: 1.85e+00, forcesx_mae: 7.47e-02, forcesy_mae: 9.46e-02, forcesz_mae: 1.18e-01, forces_mae: 9.57e-02, forces_cosine_similarity: 4.68e-02, forces_magnitude_error: 1.95e-01, loss: 7.33e+00, lr: 4.02e-04, epoch: 1.38e-01, step: 3.04e+03\n",
      "2024-05-28 23:01:38 (INFO): energy_forces_within_threshold: 0.00e+00, energy_mae: 1.62e+00, forcesx_mae: 5.13e-02, forcesy_mae: 5.80e-02, forcesz_mae: 7.02e-02, forces_mae: 5.98e-02, forces_cosine_similarity: 3.07e-03, forces_magnitude_error: 1.17e-01, loss: 4.60e+00, lr: 4.02e-04, epoch: 1.38e-01, step: 3.04e+03\n",
      "2024-05-28 23:01:39 (INFO): energy_forces_within_threshold: 0.00e+00, energy_mae: 2.01e+00, forcesx_mae: 8.24e-02, forcesy_mae: 9.16e-02, forcesz_mae: 9.93e-02, forces_mae: 9.11e-02, forces_cosine_similarity: 2.61e-02, forces_magnitude_error: 1.86e-01, loss: 7.32e+00, lr: 4.02e-04, epoch: 1.38e-01, step: 3.04e+03\n",
      "2024-05-28 23:01:39 (INFO): energy_forces_within_threshold: 0.00e+00, energy_mae: 1.76e+00, forcesx_mae: 6.95e-02, forcesy_mae: 9.08e-02, forcesz_mae: 9.15e-02, forces_mae: 8.39e-02, forces_cosine_similarity: 6.99e-02, forces_magnitude_error: 1.70e-01, loss: 6.74e+00, lr: 4.02e-04, epoch: 1.39e-01, step: 3.05e+03\n",
      "2024-05-28 23:01:40 (INFO): energy_forces_within_threshold: 0.00e+00, energy_mae: 1.67e+00, forcesx_mae: 7.26e-02, forcesy_mae: 7.42e-02, forcesz_mae: 8.55e-02, forces_mae: 7.75e-02, forces_cosine_similarity: 5.77e-02, forces_magnitude_error: 1.56e-01, loss: 6.22e+00, lr: 4.02e-04, epoch: 1.39e-01, step: 3.06e+03\n",
      "2024-05-28 23:01:40 (INFO): energy_forces_within_threshold: 0.00e+00, energy_mae: 2.39e+00, forcesx_mae: 8.31e-02, forcesy_mae: 8.20e-02, forcesz_mae: 1.46e-01, forces_mae: 1.04e-01, forces_cosine_similarity: 1.12e-02, forces_magnitude_error: 2.19e-01, loss: 8.78e+00, lr: 4.02e-04, epoch: 1.39e-01, step: 3.06e+03\n",
      "2024-05-28 23:01:41 (INFO): energy_forces_within_threshold: 0.00e+00, energy_mae: 1.99e+00, forcesx_mae: 4.81e-02, forcesy_mae: 5.56e-02, forcesz_mae: 7.07e-02, forces_mae: 5.81e-02, forces_cosine_similarity: 3.88e-02, forces_magnitude_error: 1.17e-01, loss: 5.00e+00, lr: 4.02e-04, epoch: 1.39e-01, step: 3.06e+03\n",
      "2024-05-28 23:01:41 (INFO): energy_forces_within_threshold: 0.00e+00, energy_mae: 2.12e+00, forcesx_mae: 7.36e-02, forcesy_mae: 7.42e-02, forcesz_mae: 8.37e-02, forces_mae: 7.71e-02, forces_cosine_similarity: 2.57e-02, forces_magnitude_error: 1.57e-01, loss: 6.51e+00, lr: 4.02e-04, epoch: 1.40e-01, step: 3.07e+03\n",
      "2024-05-28 23:01:42 (INFO): energy_forces_within_threshold: 0.00e+00, energy_mae: 1.70e+00, forcesx_mae: 5.27e-02, forcesy_mae: 6.25e-02, forcesz_mae: 6.22e-02, forces_mae: 5.91e-02, forces_cosine_similarity: 3.86e-02, forces_magnitude_error: 1.19e-01, loss: 4.86e+00, lr: 4.02e-04, epoch: 1.40e-01, step: 3.08e+03\n",
      "2024-05-28 23:01:43 (INFO): energy_forces_within_threshold: 0.00e+00, energy_mae: 1.78e+00, forcesx_mae: 6.13e-02, forcesy_mae: 7.80e-02, forcesz_mae: 8.86e-02, forces_mae: 7.60e-02, forces_cosine_similarity: 2.38e-03, forces_magnitude_error: 1.52e-01, loss: 6.27e+00, lr: 4.02e-04, epoch: 1.40e-01, step: 3.08e+03\n"
     ]
    },
    {
     "name": "stderr",
     "output_type": "stream",
     "text": [
      "2024-05-28 23:01:43 (WARNING): Found nans while computing loss\n",
      "2024-05-28 23:01:43 (WARNING): Found nans while computing loss\n"
     ]
    },
    {
     "name": "stdout",
     "output_type": "stream",
     "text": [
      "2024-05-28 23:01:43 (INFO): energy_forces_within_threshold: 0.00e+00, energy_mae: 3.37e+00, forcesx_mae: inf, forcesy_mae: inf, forcesz_mae: inf, forces_mae: inf, forces_cosine_similarity: nan, forces_magnitude_error: inf, loss: 8.79e+04, lr: 4.02e-04, epoch: 1.40e-01, step: 3.08e+03\n",
      "2024-05-28 23:01:44 (INFO): energy_forces_within_threshold: 0.00e+00, energy_mae: 2.36e+00, forcesx_mae: 1.30e-01, forcesy_mae: 9.89e-02, forcesz_mae: 1.38e-01, forces_mae: 1.22e-01, forces_cosine_similarity: 3.58e-02, forces_magnitude_error: 2.45e-01, loss: 9.47e+00, lr: 4.02e-04, epoch: 1.40e-01, step: 3.09e+03\n",
      "2024-05-28 23:01:44 (INFO): energy_forces_within_threshold: 0.00e+00, energy_mae: 2.19e+00, forcesx_mae: 1.13e-01, forcesy_mae: 1.24e-01, forcesz_mae: 1.32e-01, forces_mae: 1.23e-01, forces_cosine_similarity: 1.71e-02, forces_magnitude_error: 2.48e-01, loss: 9.78e+00, lr: 4.02e-04, epoch: 1.41e-01, step: 3.10e+03\n",
      "2024-05-28 23:01:45 (INFO): energy_forces_within_threshold: 0.00e+00, energy_mae: 1.58e+00, forcesx_mae: 6.84e-02, forcesy_mae: 7.09e-02, forcesz_mae: 7.71e-02, forces_mae: 7.21e-02, forces_cosine_similarity: 2.58e-02, forces_magnitude_error: 1.45e-01, loss: 5.57e+00, lr: 4.02e-04, epoch: 1.41e-01, step: 3.10e+03\n",
      "2024-05-28 23:01:45 (INFO): energy_forces_within_threshold: 0.00e+00, energy_mae: 2.30e+00, forcesx_mae: 9.03e-02, forcesy_mae: 1.41e-01, forcesz_mae: 1.39e-01, forces_mae: 1.24e-01, forces_cosine_similarity: 4.97e-02, forces_magnitude_error: 2.53e-01, loss: 9.58e+00, lr: 4.02e-04, epoch: 1.41e-01, step: 3.10e+03\n",
      "2024-05-28 23:01:46 (INFO): energy_forces_within_threshold: 0.00e+00, energy_mae: 1.98e+00, forcesx_mae: 4.60e-02, forcesy_mae: 5.66e-02, forcesz_mae: 5.44e-02, forces_mae: 5.23e-02, forces_cosine_similarity: 6.14e-02, forces_magnitude_error: 1.08e-01, loss: 4.57e+00, lr: 4.02e-04, epoch: 1.41e-01, step: 3.11e+03\n",
      "2024-05-28 23:01:46 (INFO): energy_forces_within_threshold: 0.00e+00, energy_mae: 2.16e+00, forcesx_mae: 4.56e-02, forcesy_mae: 5.29e-02, forcesz_mae: 5.61e-02, forces_mae: 5.15e-02, forces_cosine_similarity: 5.92e-03, forces_magnitude_error: 1.04e-01, loss: 4.47e+00, lr: 4.02e-04, epoch: 1.42e-01, step: 3.12e+03\n",
      "2024-05-28 23:01:47 (INFO): energy_forces_within_threshold: 0.00e+00, energy_mae: 1.87e+00, forcesx_mae: 5.94e-02, forcesy_mae: 7.24e-02, forcesz_mae: 8.19e-02, forces_mae: 7.12e-02, forces_cosine_similarity: 3.14e-02, forces_magnitude_error: 1.45e-01, loss: 5.86e+00, lr: 4.02e-04, epoch: 1.42e-01, step: 3.12e+03\n",
      "2024-05-28 23:01:47 (INFO): energy_forces_within_threshold: 0.00e+00, energy_mae: 2.38e+00, forcesx_mae: 6.01e-02, forcesy_mae: 5.75e-02, forcesz_mae: 5.74e-02, forces_mae: 5.83e-02, forces_cosine_similarity: 3.62e-02, forces_magnitude_error: 1.18e-01, loss: 5.11e+00, lr: 4.02e-04, epoch: 1.42e-01, step: 3.12e+03\n",
      "2024-05-28 23:01:48 (INFO): energy_forces_within_threshold: 0.00e+00, energy_mae: 2.30e+00, forcesx_mae: 6.31e-02, forcesy_mae: 1.66e-01, forcesz_mae: 9.57e-02, forces_mae: 1.08e-01, forces_cosine_similarity: 3.61e-02, forces_magnitude_error: 2.36e-01, loss: 8.87e+00, lr: 4.02e-04, epoch: 1.42e-01, step: 3.13e+03\n",
      "2024-05-28 23:01:48 (INFO): energy_forces_within_threshold: 0.00e+00, energy_mae: 1.56e+00, forcesx_mae: 5.03e-02, forcesy_mae: 7.50e-02, forcesz_mae: 6.84e-02, forces_mae: 6.45e-02, forces_cosine_similarity: 1.95e-02, forces_magnitude_error: 1.35e-01, loss: 5.34e+00, lr: 4.02e-04, epoch: 1.42e-01, step: 3.14e+03\n",
      "2024-05-28 23:01:49 (INFO): energy_forces_within_threshold: 0.00e+00, energy_mae: 2.13e+00, forcesx_mae: 5.55e-02, forcesy_mae: 6.94e-02, forcesz_mae: 6.91e-02, forces_mae: 6.46e-02, forces_cosine_similarity: 6.50e-02, forces_magnitude_error: 1.32e-01, loss: 5.44e+00, lr: 4.02e-04, epoch: 1.43e-01, step: 3.14e+03\n",
      "2024-05-28 23:01:49 (INFO): energy_forces_within_threshold: 0.00e+00, energy_mae: 2.11e+00, forcesx_mae: 1.30e-01, forcesy_mae: 1.34e-01, forcesz_mae: 1.11e-01, forces_mae: 1.25e-01, forces_cosine_similarity: 5.17e-02, forces_magnitude_error: 2.54e-01, loss: 9.69e+00, lr: 4.02e-04, epoch: 1.43e-01, step: 3.14e+03\n",
      "2024-05-28 23:01:50 (INFO): energy_forces_within_threshold: 0.00e+00, energy_mae: 1.61e+00, forcesx_mae: 7.37e-02, forcesy_mae: 6.72e-02, forcesz_mae: 8.01e-02, forces_mae: 7.37e-02, forces_cosine_similarity: 6.52e-03, forces_magnitude_error: 1.50e-01, loss: 5.74e+00, lr: 4.02e-04, epoch: 1.43e-01, step: 3.15e+03\n",
      "2024-05-28 23:01:50 (INFO): energy_forces_within_threshold: 0.00e+00, energy_mae: 1.92e+00, forcesx_mae: 9.16e-02, forcesy_mae: 1.12e-01, forcesz_mae: 1.35e-01, forces_mae: 1.13e-01, forces_cosine_similarity: 5.72e-02, forces_magnitude_error: 2.32e-01, loss: 8.92e+00, lr: 4.02e-04, epoch: 1.43e-01, step: 3.16e+03\n",
      "2024-05-28 23:01:51 (INFO): energy_forces_within_threshold: 0.00e+00, energy_mae: 1.75e+00, forcesx_mae: 6.02e-02, forcesy_mae: 7.84e-02, forcesz_mae: 8.44e-02, forces_mae: 7.43e-02, forces_cosine_similarity: -1.34e-02, forces_magnitude_error: 1.52e-01, loss: 5.91e+00, lr: 4.02e-04, epoch: 1.44e-01, step: 3.16e+03\n",
      "2024-05-28 23:01:51 (INFO): energy_forces_within_threshold: 0.00e+00, energy_mae: 2.27e+00, forcesx_mae: 9.56e-02, forcesy_mae: 1.30e-01, forcesz_mae: 1.37e-01, forces_mae: 1.21e-01, forces_cosine_similarity: 5.67e-02, forces_magnitude_error: 2.45e-01, loss: 9.46e+00, lr: 4.02e-04, epoch: 1.44e-01, step: 3.16e+03\n",
      "2024-05-28 23:01:52 (INFO): energy_forces_within_threshold: 0.00e+00, energy_mae: 1.79e+00, forcesx_mae: 6.16e-02, forcesy_mae: 7.71e-02, forcesz_mae: 6.87e-02, forces_mae: 6.92e-02, forces_cosine_similarity: 3.57e-02, forces_magnitude_error: 1.40e-01, loss: 5.50e+00, lr: 4.02e-04, epoch: 1.44e-01, step: 3.17e+03\n",
      "2024-05-28 23:01:52 (INFO): energy_forces_within_threshold: 0.00e+00, energy_mae: 2.20e+00, forcesx_mae: 5.24e-02, forcesy_mae: 7.93e-02, forcesz_mae: 7.82e-02, forces_mae: 6.99e-02, forces_cosine_similarity: 3.39e-02, forces_magnitude_error: 1.43e-01, loss: 5.84e+00, lr: 4.02e-04, epoch: 1.44e-01, step: 3.18e+03\n",
      "2024-05-28 23:01:53 (INFO): energy_forces_within_threshold: 0.00e+00, energy_mae: 2.12e+00, forcesx_mae: 5.55e-02, forcesy_mae: 6.52e-02, forcesz_mae: 7.10e-02, forces_mae: 6.39e-02, forces_cosine_similarity: 1.52e-02, forces_magnitude_error: 1.30e-01, loss: 5.28e+00, lr: 4.02e-04, epoch: 1.45e-01, step: 3.18e+03\n",
      "2024-05-28 23:01:53 (INFO): energy_forces_within_threshold: 0.00e+00, energy_mae: 2.01e+00, forcesx_mae: 8.61e-02, forcesy_mae: 8.09e-02, forcesz_mae: 9.14e-02, forces_mae: 8.61e-02, forces_cosine_similarity: -1.84e-02, forces_magnitude_error: 1.73e-01, loss: 6.82e+00, lr: 4.02e-04, epoch: 1.45e-01, step: 3.18e+03\n",
      "2024-05-28 23:01:54 (INFO): energy_forces_within_threshold: 0.00e+00, energy_mae: 1.94e+00, forcesx_mae: 6.26e-02, forcesy_mae: 6.15e-02, forcesz_mae: 6.62e-02, forces_mae: 6.34e-02, forces_cosine_similarity: 1.38e-02, forces_magnitude_error: 1.29e-01, loss: 5.36e+00, lr: 4.02e-04, epoch: 1.45e-01, step: 3.19e+03\n",
      "2024-05-28 23:01:54 (INFO): energy_forces_within_threshold: 0.00e+00, energy_mae: 2.82e+00, forcesx_mae: 1.07e-01, forcesy_mae: 1.41e-01, forcesz_mae: 1.78e-01, forces_mae: 1.42e-01, forces_cosine_similarity: 4.74e-02, forces_magnitude_error: 2.97e-01, loss: 1.13e+01, lr: 4.02e-04, epoch: 1.45e-01, step: 3.20e+03\n",
      "2024-05-28 23:01:55 (INFO): energy_forces_within_threshold: 0.00e+00, energy_mae: 2.03e+00, forcesx_mae: 4.26e-02, forcesy_mae: 6.43e-02, forcesz_mae: 5.96e-02, forces_mae: 5.55e-02, forces_cosine_similarity: 2.16e-02, forces_magnitude_error: 1.15e-01, loss: 4.80e+00, lr: 4.02e-04, epoch: 1.45e-01, step: 3.20e+03\n",
      "2024-05-28 23:01:55 (INFO): energy_forces_within_threshold: 0.00e+00, energy_mae: 2.12e+00, forcesx_mae: 5.56e-02, forcesy_mae: 6.54e-02, forcesz_mae: 7.30e-02, forces_mae: 6.47e-02, forces_cosine_similarity: 4.81e-02, forces_magnitude_error: 1.31e-01, loss: 5.37e+00, lr: 4.02e-04, epoch: 1.46e-01, step: 3.20e+03\n",
      "2024-05-28 23:01:56 (INFO): energy_forces_within_threshold: 0.00e+00, energy_mae: 1.83e+00, forcesx_mae: 6.75e-02, forcesy_mae: 9.34e-02, forcesz_mae: 9.82e-02, forces_mae: 8.63e-02, forces_cosine_similarity: 4.80e-02, forces_magnitude_error: 1.81e-01, loss: 6.76e+00, lr: 4.02e-04, epoch: 1.46e-01, step: 3.21e+03\n",
      "2024-05-28 23:01:56 (INFO): energy_forces_within_threshold: 0.00e+00, energy_mae: 2.66e+00, forcesx_mae: 7.95e-02, forcesy_mae: 9.82e-02, forcesz_mae: 9.71e-02, forces_mae: 9.16e-02, forces_cosine_similarity: -3.55e-04, forces_magnitude_error: 1.87e-01, loss: 7.72e+00, lr: 4.02e-04, epoch: 1.46e-01, step: 3.22e+03\n",
      "2024-05-28 23:01:57 (INFO): energy_forces_within_threshold: 0.00e+00, energy_mae: 1.82e+00, forcesx_mae: 6.04e-02, forcesy_mae: 8.55e-02, forcesz_mae: 8.80e-02, forces_mae: 7.79e-02, forces_cosine_similarity: 4.57e-02, forces_magnitude_error: 1.62e-01, loss: 6.38e+00, lr: 4.02e-04, epoch: 1.46e-01, step: 3.22e+03\n",
      "2024-05-28 23:01:58 (INFO): energy_forces_within_threshold: 0.00e+00, energy_mae: 1.97e+00, forcesx_mae: 8.17e-02, forcesy_mae: 9.75e-02, forcesz_mae: 1.22e-01, forces_mae: 1.00e-01, forces_cosine_similarity: 5.13e-02, forces_magnitude_error: 2.11e-01, loss: 7.96e+00, lr: 4.02e-04, epoch: 1.47e-01, step: 3.22e+03\n",
      "2024-05-28 23:01:58 (INFO): energy_forces_within_threshold: 0.00e+00, energy_mae: 2.04e+00, forcesx_mae: 7.45e-02, forcesy_mae: 9.21e-02, forcesz_mae: 8.33e-02, forces_mae: 8.33e-02, forces_cosine_similarity: 3.81e-02, forces_magnitude_error: 1.69e-01, loss: 6.73e+00, lr: 4.02e-04, epoch: 1.47e-01, step: 3.23e+03\n",
      "2024-05-28 23:01:58 (INFO): energy_forces_within_threshold: 0.00e+00, energy_mae: 1.97e+00, forcesx_mae: 6.56e-02, forcesy_mae: 1.12e-01, forcesz_mae: 1.06e-01, forces_mae: 9.45e-02, forces_cosine_similarity: -1.57e-02, forces_magnitude_error: 1.99e-01, loss: 7.67e+00, lr: 4.02e-04, epoch: 1.47e-01, step: 3.24e+03\n",
      "2024-05-28 23:01:59 (INFO): energy_forces_within_threshold: 0.00e+00, energy_mae: 1.70e+00, forcesx_mae: 6.81e-02, forcesy_mae: 7.32e-02, forcesz_mae: 7.62e-02, forces_mae: 7.25e-02, forces_cosine_similarity: 2.99e-02, forces_magnitude_error: 1.48e-01, loss: 5.89e+00, lr: 4.02e-04, epoch: 1.47e-01, step: 3.24e+03\n",
      "2024-05-28 23:01:59 (INFO): energy_forces_within_threshold: 0.00e+00, energy_mae: 1.35e+00, forcesx_mae: 8.62e-02, forcesy_mae: 8.86e-02, forcesz_mae: 8.43e-02, forces_mae: 8.64e-02, forces_cosine_similarity: 3.96e-02, forces_magnitude_error: 1.75e-01, loss: 6.88e+00, lr: 4.02e-04, epoch: 1.47e-01, step: 3.24e+03\n",
      "2024-05-28 23:02:00 (INFO): energy_forces_within_threshold: 0.00e+00, energy_mae: 1.69e+00, forcesx_mae: 6.58e-02, forcesy_mae: 7.58e-02, forcesz_mae: 1.09e-01, forces_mae: 8.34e-02, forces_cosine_similarity: 1.68e-02, forces_magnitude_error: 1.73e-01, loss: 6.69e+00, lr: 4.02e-04, epoch: 1.48e-01, step: 3.25e+03\n",
      "2024-05-28 23:02:00 (INFO): energy_forces_within_threshold: 0.00e+00, energy_mae: 1.67e+00, forcesx_mae: 7.63e-02, forcesy_mae: 8.55e-02, forcesz_mae: 9.51e-02, forces_mae: 8.57e-02, forces_cosine_similarity: 2.87e-02, forces_magnitude_error: 1.72e-01, loss: 6.59e+00, lr: 4.02e-04, epoch: 1.48e-01, step: 3.26e+03\n",
      "2024-05-28 23:02:01 (INFO): energy_forces_within_threshold: 0.00e+00, energy_mae: 1.93e+00, forcesx_mae: 9.12e-02, forcesy_mae: 1.15e-01, forcesz_mae: 1.25e-01, forces_mae: 1.10e-01, forces_cosine_similarity: 4.94e-02, forces_magnitude_error: 2.21e-01, loss: 8.52e+00, lr: 4.02e-04, epoch: 1.48e-01, step: 3.26e+03\n",
      "2024-05-28 23:02:01 (INFO): energy_forces_within_threshold: 0.00e+00, energy_mae: 1.43e+00, forcesx_mae: 5.38e-02, forcesy_mae: 7.40e-02, forcesz_mae: 8.75e-02, forces_mae: 7.18e-02, forces_cosine_similarity: 6.18e-02, forces_magnitude_error: 1.47e-01, loss: 5.71e+00, lr: 4.02e-04, epoch: 1.48e-01, step: 3.26e+03\n",
      "2024-05-28 23:02:02 (INFO): energy_forces_within_threshold: 0.00e+00, energy_mae: 2.19e+00, forcesx_mae: 7.60e-02, forcesy_mae: 8.95e-02, forcesz_mae: 8.91e-02, forces_mae: 8.49e-02, forces_cosine_similarity: 6.52e-02, forces_magnitude_error: 1.73e-01, loss: 7.01e+00, lr: 4.02e-04, epoch: 1.49e-01, step: 3.27e+03\n",
      "2024-05-28 23:02:02 (INFO): energy_forces_within_threshold: 0.00e+00, energy_mae: 1.67e+00, forcesx_mae: 9.05e-02, forcesy_mae: 9.28e-02, forcesz_mae: 1.08e-01, forces_mae: 9.71e-02, forces_cosine_similarity: 7.33e-02, forces_magnitude_error: 1.94e-01, loss: 7.39e+00, lr: 4.02e-04, epoch: 1.49e-01, step: 3.28e+03\n",
      "2024-05-28 23:02:03 (INFO): energy_forces_within_threshold: 0.00e+00, energy_mae: 1.55e+00, forcesx_mae: 7.31e-02, forcesy_mae: 9.05e-02, forcesz_mae: 1.11e-01, forces_mae: 9.15e-02, forces_cosine_similarity: 3.78e-02, forces_magnitude_error: 1.90e-01, loss: 7.32e+00, lr: 4.02e-04, epoch: 1.49e-01, step: 3.28e+03\n",
      "2024-05-28 23:02:03 (INFO): energy_forces_within_threshold: 0.00e+00, energy_mae: 2.10e+00, forcesx_mae: 3.51e-02, forcesy_mae: 4.08e-02, forcesz_mae: 4.45e-02, forces_mae: 4.01e-02, forces_cosine_similarity: 5.18e-02, forces_magnitude_error: 8.08e-02, loss: 3.60e+00, lr: 4.02e-04, epoch: 1.49e-01, step: 3.28e+03\n",
      "2024-05-28 23:02:04 (INFO): energy_forces_within_threshold: 0.00e+00, energy_mae: 2.00e+00, forcesx_mae: 3.77e-02, forcesy_mae: 4.57e-02, forcesz_mae: 4.70e-02, forces_mae: 4.35e-02, forces_cosine_similarity: 8.41e-02, forces_magnitude_error: 8.79e-02, loss: 3.90e+00, lr: 4.02e-04, epoch: 1.50e-01, step: 3.29e+03\n",
      "2024-05-28 23:02:04 (INFO): energy_forces_within_threshold: 0.00e+00, energy_mae: 1.89e+00, forcesx_mae: 4.23e-02, forcesy_mae: 5.87e-02, forcesz_mae: 8.39e-02, forces_mae: 6.16e-02, forces_cosine_similarity: 4.69e-02, forces_magnitude_error: 1.32e-01, loss: 5.62e+00, lr: 4.02e-04, epoch: 1.50e-01, step: 3.30e+03\n",
      "2024-05-28 23:02:05 (INFO): energy_forces_within_threshold: 0.00e+00, energy_mae: 1.97e+00, forcesx_mae: 6.18e-02, forcesy_mae: 7.42e-02, forcesz_mae: 7.60e-02, forces_mae: 7.07e-02, forces_cosine_similarity: -3.68e-03, forces_magnitude_error: 1.43e-01, loss: 5.79e+00, lr: 4.02e-04, epoch: 1.50e-01, step: 3.30e+03\n",
      "2024-05-28 23:02:05 (INFO): energy_forces_within_threshold: 0.00e+00, energy_mae: 1.69e+00, forcesx_mae: 4.25e-02, forcesy_mae: 5.10e-02, forcesz_mae: 4.88e-02, forces_mae: 4.74e-02, forces_cosine_similarity: 8.12e-02, forces_magnitude_error: 9.55e-02, loss: 3.97e+00, lr: 4.02e-04, epoch: 1.50e-01, step: 3.30e+03\n",
      "2024-05-28 23:02:06 (INFO): energy_forces_within_threshold: 0.00e+00, energy_mae: 1.72e+00, forcesx_mae: 4.13e-02, forcesy_mae: 4.43e-02, forcesz_mae: 5.00e-02, forces_mae: 4.52e-02, forces_cosine_similarity: 3.79e-03, forces_magnitude_error: 9.12e-02, loss: 3.95e+00, lr: 4.02e-04, epoch: 1.50e-01, step: 3.31e+03\n",
      "2024-05-28 23:02:06 (INFO): energy_forces_within_threshold: 0.00e+00, energy_mae: 1.81e+00, forcesx_mae: 4.16e-02, forcesy_mae: 5.58e-02, forcesz_mae: 5.87e-02, forces_mae: 5.20e-02, forces_cosine_similarity: 6.47e-02, forces_magnitude_error: 1.04e-01, loss: 4.36e+00, lr: 4.02e-04, epoch: 1.51e-01, step: 3.32e+03\n",
      "2024-05-28 23:02:07 (INFO): energy_forces_within_threshold: 0.00e+00, energy_mae: 2.24e+00, forcesx_mae: 7.41e-02, forcesy_mae: 1.19e-01, forcesz_mae: 1.24e-01, forces_mae: 1.06e-01, forces_cosine_similarity: 4.93e-02, forces_magnitude_error: 2.17e-01, loss: 8.49e+00, lr: 4.02e-04, epoch: 1.51e-01, step: 3.32e+03\n",
      "2024-05-28 23:02:07 (INFO): energy_forces_within_threshold: 0.00e+00, energy_mae: 1.70e+00, forcesx_mae: 5.40e-02, forcesy_mae: 1.13e-01, forcesz_mae: 1.03e-01, forces_mae: 9.02e-02, forces_cosine_similarity: 6.12e-02, forces_magnitude_error: 1.87e-01, loss: 7.23e+00, lr: 4.02e-04, epoch: 1.51e-01, step: 3.32e+03\n",
      "2024-05-28 23:02:08 (INFO): energy_forces_within_threshold: 0.00e+00, energy_mae: 2.19e+00, forcesx_mae: 5.97e-02, forcesy_mae: 1.58e-01, forcesz_mae: 1.50e-01, forces_mae: 1.23e-01, forces_cosine_similarity: 1.91e-02, forces_magnitude_error: 2.56e-01, loss: 9.76e+00, lr: 4.02e-04, epoch: 1.51e-01, step: 3.33e+03\n",
      "2024-05-28 23:02:08 (INFO): energy_forces_within_threshold: 0.00e+00, energy_mae: 1.92e+00, forcesx_mae: 5.52e-02, forcesy_mae: 5.99e-02, forcesz_mae: 7.51e-02, forces_mae: 6.34e-02, forces_cosine_similarity: -7.54e-03, forces_magnitude_error: 1.29e-01, loss: 5.22e+00, lr: 4.02e-04, epoch: 1.52e-01, step: 3.34e+03\n",
      "2024-05-28 23:02:09 (INFO): energy_forces_within_threshold: 0.00e+00, energy_mae: 2.35e+00, forcesx_mae: 7.59e-02, forcesy_mae: 1.03e-01, forcesz_mae: 8.50e-02, forces_mae: 8.79e-02, forces_cosine_similarity: 5.54e-02, forces_magnitude_error: 1.80e-01, loss: 7.61e+00, lr: 4.02e-04, epoch: 1.52e-01, step: 3.34e+03\n",
      "2024-05-28 23:02:09 (INFO): energy_forces_within_threshold: 0.00e+00, energy_mae: 2.32e+00, forcesx_mae: 8.11e-02, forcesy_mae: 1.51e-01, forcesz_mae: 8.74e-02, forces_mae: 1.07e-01, forces_cosine_similarity: 2.32e-02, forces_magnitude_error: 2.25e-01, loss: 8.47e+00, lr: 4.02e-04, epoch: 1.52e-01, step: 3.34e+03\n",
      "2024-05-28 23:02:10 (INFO): energy_forces_within_threshold: 0.00e+00, energy_mae: 2.54e+00, forcesx_mae: 8.40e-02, forcesy_mae: 1.23e-01, forcesz_mae: 1.22e-01, forces_mae: 1.10e-01, forces_cosine_similarity: 3.43e-02, forces_magnitude_error: 2.23e-01, loss: 8.53e+00, lr: 4.02e-04, epoch: 1.52e-01, step: 3.35e+03\n",
      "2024-05-28 23:02:10 (INFO): energy_forces_within_threshold: 0.00e+00, energy_mae: 1.59e+00, forcesx_mae: 7.14e-02, forcesy_mae: 8.72e-02, forcesz_mae: 8.17e-02, forces_mae: 8.01e-02, forces_cosine_similarity: 2.71e-03, forces_magnitude_error: 1.63e-01, loss: 6.20e+00, lr: 4.02e-04, epoch: 1.52e-01, step: 3.36e+03\n",
      "2024-05-28 23:02:11 (INFO): energy_forces_within_threshold: 0.00e+00, energy_mae: 1.88e+00, forcesx_mae: 4.11e-02, forcesy_mae: 4.17e-02, forcesz_mae: 4.57e-02, forces_mae: 4.28e-02, forces_cosine_similarity: 2.18e-02, forces_magnitude_error: 8.63e-02, loss: 3.77e+00, lr: 4.02e-04, epoch: 1.53e-01, step: 3.36e+03\n",
      "2024-05-28 23:02:11 (INFO): energy_forces_within_threshold: 0.00e+00, energy_mae: 2.44e+00, forcesx_mae: 5.84e-02, forcesy_mae: 6.32e-02, forcesz_mae: 7.53e-02, forces_mae: 6.56e-02, forces_cosine_similarity: 2.49e-02, forces_magnitude_error: 1.33e-01, loss: 5.54e+00, lr: 4.02e-04, epoch: 1.53e-01, step: 3.36e+03\n",
      "2024-05-28 23:02:12 (INFO): energy_forces_within_threshold: 0.00e+00, energy_mae: 1.81e+00, forcesx_mae: 6.14e-02, forcesy_mae: 6.84e-02, forcesz_mae: 6.43e-02, forces_mae: 6.47e-02, forces_cosine_similarity: 5.74e-02, forces_magnitude_error: 1.30e-01, loss: 5.19e+00, lr: 4.02e-04, epoch: 1.53e-01, step: 3.37e+03\n",
      "2024-05-28 23:02:12 (INFO): energy_forces_within_threshold: 0.00e+00, energy_mae: 1.73e+00, forcesx_mae: 8.09e-02, forcesy_mae: 1.04e-01, forcesz_mae: 1.04e-01, forces_mae: 9.63e-02, forces_cosine_similarity: 1.68e-02, forces_magnitude_error: 1.93e-01, loss: 7.80e+00, lr: 4.02e-04, epoch: 1.53e-01, step: 3.38e+03\n",
      "2024-05-28 23:02:13 (INFO): energy_forces_within_threshold: 0.00e+00, energy_mae: 1.63e+00, forcesx_mae: 8.76e-02, forcesy_mae: 9.58e-02, forcesz_mae: 9.80e-02, forces_mae: 9.38e-02, forces_cosine_similarity: 3.08e-02, forces_magnitude_error: 1.92e-01, loss: 7.32e+00, lr: 4.02e-04, epoch: 1.54e-01, step: 3.38e+03\n",
      "2024-05-28 23:02:13 (INFO): energy_forces_within_threshold: 0.00e+00, energy_mae: 2.52e+00, forcesx_mae: 7.79e-02, forcesy_mae: 1.07e-01, forcesz_mae: 1.16e-01, forces_mae: 1.00e-01, forces_cosine_similarity: 4.95e-03, forces_magnitude_error: 2.06e-01, loss: 8.31e+00, lr: 4.02e-04, epoch: 1.54e-01, step: 3.38e+03\n",
      "2024-05-28 23:02:14 (INFO): energy_forces_within_threshold: 0.00e+00, energy_mae: 1.65e+00, forcesx_mae: 5.15e-02, forcesy_mae: 5.55e-02, forcesz_mae: 5.96e-02, forces_mae: 5.55e-02, forces_cosine_similarity: 4.42e-02, forces_magnitude_error: 1.12e-01, loss: 4.63e+00, lr: 4.02e-04, epoch: 1.54e-01, step: 3.39e+03\n",
      "2024-05-28 23:02:14 (INFO): energy_forces_within_threshold: 0.00e+00, energy_mae: 2.36e+00, forcesx_mae: 7.45e-02, forcesy_mae: 9.17e-02, forcesz_mae: 1.05e-01, forces_mae: 9.02e-02, forces_cosine_similarity: -5.24e-03, forces_magnitude_error: 1.85e-01, loss: 7.30e+00, lr: 4.02e-04, epoch: 1.54e-01, step: 3.40e+03\n",
      "2024-05-28 23:02:15 (INFO): energy_forces_within_threshold: 0.00e+00, energy_mae: 2.00e+00, forcesx_mae: 6.65e-02, forcesy_mae: 8.37e-02, forcesz_mae: 1.02e-01, forces_mae: 8.40e-02, forces_cosine_similarity: 4.68e-02, forces_magnitude_error: 1.72e-01, loss: 6.94e+00, lr: 4.02e-04, epoch: 1.55e-01, step: 3.40e+03\n",
      "2024-05-28 23:02:15 (INFO): energy_forces_within_threshold: 0.00e+00, energy_mae: 1.45e+00, forcesx_mae: 5.78e-02, forcesy_mae: 8.24e-02, forcesz_mae: 1.14e-01, forces_mae: 8.46e-02, forces_cosine_similarity: 7.80e-02, forces_magnitude_error: 1.74e-01, loss: 6.48e+00, lr: 4.02e-04, epoch: 1.55e-01, step: 3.40e+03\n",
      "2024-05-28 23:02:16 (INFO): energy_forces_within_threshold: 0.00e+00, energy_mae: 2.71e+00, forcesx_mae: 7.48e-02, forcesy_mae: 8.52e-02, forcesz_mae: 1.12e-01, forces_mae: 9.08e-02, forces_cosine_similarity: 1.05e-02, forces_magnitude_error: 1.89e-01, loss: 7.51e+00, lr: 4.02e-04, epoch: 1.55e-01, step: 3.41e+03\n",
      "2024-05-28 23:02:16 (INFO): energy_forces_within_threshold: 0.00e+00, energy_mae: 2.22e+00, forcesx_mae: 4.18e-02, forcesy_mae: 4.67e-02, forcesz_mae: 4.87e-02, forces_mae: 4.57e-02, forces_cosine_similarity: -7.62e-03, forces_magnitude_error: 9.07e-02, loss: 4.10e+00, lr: 4.02e-04, epoch: 1.55e-01, step: 3.42e+03\n",
      "2024-05-28 23:02:17 (INFO): energy_forces_within_threshold: 0.00e+00, energy_mae: 2.22e+00, forcesx_mae: 5.19e-02, forcesy_mae: 7.01e-02, forcesz_mae: 9.57e-02, forces_mae: 7.26e-02, forces_cosine_similarity: 1.74e-02, forces_magnitude_error: 1.52e-01, loss: 6.11e+00, lr: 4.02e-04, epoch: 1.55e-01, step: 3.42e+03\n",
      "2024-05-28 23:02:17 (INFO): energy_forces_within_threshold: 0.00e+00, energy_mae: 2.22e+00, forcesx_mae: 1.23e-01, forcesy_mae: 1.18e-01, forcesz_mae: 1.44e-01, forces_mae: 1.28e-01, forces_cosine_similarity: 2.47e-02, forces_magnitude_error: 2.58e-01, loss: 1.02e+01, lr: 4.02e-04, epoch: 1.56e-01, step: 3.42e+03\n",
      "2024-05-28 23:02:18 (INFO): energy_forces_within_threshold: 0.00e+00, energy_mae: 2.44e+00, forcesx_mae: 6.61e-02, forcesy_mae: 9.15e-02, forcesz_mae: 8.99e-02, forces_mae: 8.25e-02, forces_cosine_similarity: 3.80e-02, forces_magnitude_error: 1.66e-01, loss: 6.66e+00, lr: 4.02e-04, epoch: 1.56e-01, step: 3.43e+03\n",
      "2024-05-28 23:02:18 (INFO): energy_forces_within_threshold: 0.00e+00, energy_mae: 2.03e+00, forcesx_mae: 5.97e-02, forcesy_mae: 7.17e-02, forcesz_mae: 8.38e-02, forces_mae: 7.17e-02, forces_cosine_similarity: 6.24e-02, forces_magnitude_error: 1.44e-01, loss: 5.78e+00, lr: 4.02e-04, epoch: 1.56e-01, step: 3.44e+03\n",
      "2024-05-28 23:02:19 (INFO): energy_forces_within_threshold: 0.00e+00, energy_mae: 2.16e+00, forcesx_mae: 6.49e-02, forcesy_mae: 8.04e-02, forcesz_mae: 9.54e-02, forces_mae: 8.02e-02, forces_cosine_similarity: 2.51e-02, forces_magnitude_error: 1.61e-01, loss: 6.51e+00, lr: 4.02e-04, epoch: 1.56e-01, step: 3.44e+03\n",
      "2024-05-28 23:02:19 (INFO): energy_forces_within_threshold: 0.00e+00, energy_mae: 2.53e+00, forcesx_mae: 7.36e-02, forcesy_mae: 8.71e-02, forcesz_mae: 9.79e-02, forces_mae: 8.62e-02, forces_cosine_similarity: 5.24e-02, forces_magnitude_error: 1.72e-01, loss: 7.15e+00, lr: 4.02e-04, epoch: 1.57e-01, step: 3.44e+03\n",
      "2024-05-28 23:02:20 (INFO): energy_forces_within_threshold: 0.00e+00, energy_mae: 1.78e+00, forcesx_mae: 4.80e-02, forcesy_mae: 6.26e-02, forcesz_mae: 6.65e-02, forces_mae: 5.91e-02, forces_cosine_similarity: 2.32e-02, forces_magnitude_error: 1.18e-01, loss: 4.86e+00, lr: 4.02e-04, epoch: 1.57e-01, step: 3.45e+03\n",
      "2024-05-28 23:02:20 (INFO): energy_forces_within_threshold: 0.00e+00, energy_mae: 1.85e+00, forcesx_mae: 5.18e-02, forcesy_mae: 6.53e-02, forcesz_mae: 6.97e-02, forces_mae: 6.23e-02, forces_cosine_similarity: 7.54e-02, forces_magnitude_error: 1.26e-01, loss: 4.94e+00, lr: 4.02e-04, epoch: 1.57e-01, step: 3.46e+03\n",
      "2024-05-28 23:02:21 (INFO): energy_forces_within_threshold: 0.00e+00, energy_mae: 1.82e+00, forcesx_mae: 5.38e-02, forcesy_mae: 7.17e-02, forcesz_mae: 7.94e-02, forces_mae: 6.83e-02, forces_cosine_similarity: 3.56e-02, forces_magnitude_error: 1.39e-01, loss: 5.64e+00, lr: 4.02e-04, epoch: 1.57e-01, step: 3.46e+03\n",
      "2024-05-28 23:02:21 (INFO): energy_forces_within_threshold: 0.00e+00, energy_mae: 2.13e+00, forcesx_mae: 6.58e-02, forcesy_mae: 9.74e-02, forcesz_mae: 8.84e-02, forces_mae: 8.38e-02, forces_cosine_similarity: 4.13e-02, forces_magnitude_error: 1.76e-01, loss: 7.11e+00, lr: 4.02e-04, epoch: 1.57e-01, step: 3.46e+03\n",
      "2024-05-28 23:02:22 (INFO): energy_forces_within_threshold: 0.00e+00, energy_mae: 3.11e+00, forcesx_mae: 1.02e-01, forcesy_mae: 1.52e-01, forcesz_mae: 1.48e-01, forces_mae: 1.34e-01, forces_cosine_similarity: 3.68e-02, forces_magnitude_error: 2.71e-01, loss: 1.02e+01, lr: 4.02e-04, epoch: 1.58e-01, step: 3.47e+03\n",
      "2024-05-28 23:02:22 (INFO): energy_forces_within_threshold: 0.00e+00, energy_mae: 2.02e+00, forcesx_mae: 6.29e-02, forcesy_mae: 7.77e-02, forcesz_mae: 7.52e-02, forces_mae: 7.19e-02, forces_cosine_similarity: 1.09e-02, forces_magnitude_error: 1.43e-01, loss: 5.87e+00, lr: 4.02e-04, epoch: 1.58e-01, step: 3.48e+03\n",
      "2024-05-28 23:02:23 (INFO): energy_forces_within_threshold: 0.00e+00, energy_mae: 1.83e+00, forcesx_mae: 8.29e-02, forcesy_mae: 9.88e-02, forcesz_mae: 1.01e-01, forces_mae: 9.42e-02, forces_cosine_similarity: 2.05e-02, forces_magnitude_error: 1.90e-01, loss: 7.60e+00, lr: 4.02e-04, epoch: 1.58e-01, step: 3.48e+03\n",
      "2024-05-28 23:02:23 (INFO): energy_forces_within_threshold: 0.00e+00, energy_mae: 2.55e+00, forcesx_mae: 8.45e-02, forcesy_mae: 1.09e-01, forcesz_mae: 1.50e-01, forces_mae: 1.15e-01, forces_cosine_similarity: 3.82e-02, forces_magnitude_error: 2.31e-01, loss: 9.52e+00, lr: 4.02e-04, epoch: 1.58e-01, step: 3.48e+03\n",
      "2024-05-28 23:02:24 (INFO): energy_forces_within_threshold: 0.00e+00, energy_mae: 2.24e+00, forcesx_mae: 6.52e-02, forcesy_mae: 7.92e-02, forcesz_mae: 7.89e-02, forces_mae: 7.44e-02, forces_cosine_similarity: 2.06e-02, forces_magnitude_error: 1.49e-01, loss: 6.34e+00, lr: 4.02e-04, epoch: 1.59e-01, step: 3.49e+03\n",
      "2024-05-28 23:02:24 (INFO): energy_forces_within_threshold: 0.00e+00, energy_mae: 2.10e+00, forcesx_mae: 4.43e-02, forcesy_mae: 5.77e-02, forcesz_mae: 6.79e-02, forces_mae: 5.66e-02, forces_cosine_similarity: 1.60e-02, forces_magnitude_error: 1.15e-01, loss: 4.89e+00, lr: 4.02e-04, epoch: 1.59e-01, step: 3.50e+03\n",
      "2024-05-28 23:02:25 (INFO): energy_forces_within_threshold: 0.00e+00, energy_mae: 1.91e+00, forcesx_mae: 9.80e-02, forcesy_mae: 1.08e-01, forcesz_mae: 1.02e-01, forces_mae: 1.02e-01, forces_cosine_similarity: 6.22e-04, forces_magnitude_error: 2.07e-01, loss: 8.22e+00, lr: 4.02e-04, epoch: 1.59e-01, step: 3.50e+03\n",
      "2024-05-28 23:02:25 (INFO): energy_forces_within_threshold: 0.00e+00, energy_mae: 1.72e+00, forcesx_mae: 4.91e-02, forcesy_mae: 6.33e-02, forcesz_mae: 6.32e-02, forces_mae: 5.85e-02, forces_cosine_similarity: 1.95e-02, forces_magnitude_error: 1.17e-01, loss: 4.80e+00, lr: 4.02e-04, epoch: 1.59e-01, step: 3.50e+03\n",
      "2024-05-28 23:02:26 (INFO): energy_forces_within_threshold: 0.00e+00, energy_mae: 1.50e+00, forcesx_mae: 5.23e-02, forcesy_mae: 6.75e-02, forcesz_mae: 6.65e-02, forces_mae: 6.21e-02, forces_cosine_similarity: 5.63e-02, forces_magnitude_error: 1.25e-01, loss: 5.03e+00, lr: 4.02e-04, epoch: 1.60e-01, step: 3.51e+03\n",
      "2024-05-28 23:02:26 (INFO): energy_forces_within_threshold: 0.00e+00, energy_mae: 2.13e+00, forcesx_mae: 5.73e-02, forcesy_mae: 5.91e-02, forcesz_mae: 7.07e-02, forces_mae: 6.24e-02, forces_cosine_similarity: 8.92e-02, forces_magnitude_error: 1.27e-01, loss: 5.21e+00, lr: 4.02e-04, epoch: 1.60e-01, step: 3.52e+03\n",
      "2024-05-28 23:02:27 (INFO): energy_forces_within_threshold: 0.00e+00, energy_mae: 1.87e+00, forcesx_mae: 6.76e-02, forcesy_mae: 8.24e-02, forcesz_mae: 9.66e-02, forces_mae: 8.22e-02, forces_cosine_similarity: 1.11e-02, forces_magnitude_error: 1.67e-01, loss: 6.64e+00, lr: 4.02e-04, epoch: 1.60e-01, step: 3.52e+03\n",
      "2024-05-28 23:02:28 (INFO): energy_forces_within_threshold: 0.00e+00, energy_mae: 2.11e+00, forcesx_mae: 7.84e-02, forcesy_mae: 8.84e-02, forcesz_mae: 8.98e-02, forces_mae: 8.55e-02, forces_cosine_similarity: 1.84e-02, forces_magnitude_error: 1.74e-01, loss: 6.96e+00, lr: 4.02e-04, epoch: 1.60e-01, step: 3.52e+03\n",
      "2024-05-28 23:02:28 (INFO): energy_forces_within_threshold: 0.00e+00, energy_mae: 2.20e+00, forcesx_mae: 6.69e-02, forcesy_mae: 8.02e-02, forcesz_mae: 8.80e-02, forces_mae: 7.84e-02, forces_cosine_similarity: -9.85e-03, forces_magnitude_error: 1.61e-01, loss: 6.65e+00, lr: 4.02e-04, epoch: 1.60e-01, step: 3.53e+03\n",
      "2024-05-28 23:02:29 (INFO): energy_forces_within_threshold: 0.00e+00, energy_mae: 1.57e+00, forcesx_mae: 6.75e-02, forcesy_mae: 7.96e-02, forcesz_mae: 8.78e-02, forces_mae: 7.83e-02, forces_cosine_similarity: 4.45e-02, forces_magnitude_error: 1.57e-01, loss: 6.15e+00, lr: 4.02e-04, epoch: 1.61e-01, step: 3.54e+03\n",
      "2024-05-28 23:02:29 (INFO): energy_forces_within_threshold: 0.00e+00, energy_mae: 1.64e+00, forcesx_mae: 1.15e-01, forcesy_mae: 1.24e-01, forcesz_mae: 1.97e-01, forces_mae: 1.45e-01, forces_cosine_similarity: 2.47e-02, forces_magnitude_error: 2.94e-01, loss: 1.07e+01, lr: 4.02e-04, epoch: 1.61e-01, step: 3.54e+03\n",
      "2024-05-28 23:02:30 (INFO): energy_forces_within_threshold: 0.00e+00, energy_mae: 2.35e+00, forcesx_mae: 7.44e-02, forcesy_mae: 1.26e-01, forcesz_mae: 1.62e-01, forces_mae: 1.21e-01, forces_cosine_similarity: 2.86e-02, forces_magnitude_error: 2.50e-01, loss: 9.83e+00, lr: 4.02e-04, epoch: 1.61e-01, step: 3.54e+03\n",
      "2024-05-28 23:02:30 (INFO): energy_forces_within_threshold: 0.00e+00, energy_mae: 2.33e+00, forcesx_mae: 4.16e-02, forcesy_mae: 6.56e-02, forcesz_mae: 7.17e-02, forces_mae: 5.96e-02, forces_cosine_similarity: 1.41e-03, forces_magnitude_error: 1.21e-01, loss: 5.35e+00, lr: 4.02e-04, epoch: 1.61e-01, step: 3.55e+03\n",
      "2024-05-28 23:02:31 (INFO): energy_forces_within_threshold: 0.00e+00, energy_mae: 2.73e+00, forcesx_mae: 9.72e-02, forcesy_mae: 1.27e-01, forcesz_mae: 1.46e-01, forces_mae: 1.23e-01, forces_cosine_similarity: 4.22e-02, forces_magnitude_error: 2.47e-01, loss: 9.86e+00, lr: 4.02e-04, epoch: 1.62e-01, step: 3.56e+03\n",
      "2024-05-28 23:02:31 (INFO): energy_forces_within_threshold: 0.00e+00, energy_mae: 1.76e+00, forcesx_mae: 5.98e-02, forcesy_mae: 7.01e-02, forcesz_mae: 7.98e-02, forces_mae: 6.99e-02, forces_cosine_similarity: 3.02e-02, forces_magnitude_error: 1.37e-01, loss: 5.69e+00, lr: 4.02e-04, epoch: 1.62e-01, step: 3.56e+03\n",
      "2024-05-28 23:02:32 (INFO): energy_forces_within_threshold: 0.00e+00, energy_mae: 2.47e+00, forcesx_mae: 8.84e-02, forcesy_mae: 1.84e-01, forcesz_mae: 1.79e-01, forces_mae: 1.51e-01, forces_cosine_similarity: 6.54e-02, forces_magnitude_error: 3.05e-01, loss: 1.19e+01, lr: 4.02e-04, epoch: 1.62e-01, step: 3.56e+03\n",
      "2024-05-28 23:02:32 (INFO): energy_forces_within_threshold: 0.00e+00, energy_mae: 1.98e+00, forcesx_mae: 7.72e-02, forcesy_mae: 1.04e-01, forcesz_mae: 1.25e-01, forces_mae: 1.02e-01, forces_cosine_similarity: 1.11e-02, forces_magnitude_error: 2.07e-01, loss: 7.94e+00, lr: 4.02e-04, epoch: 1.62e-01, step: 3.57e+03\n",
      "2024-05-28 23:02:33 (INFO): energy_forces_within_threshold: 0.00e+00, energy_mae: 2.20e+00, forcesx_mae: 1.06e-01, forcesy_mae: 1.68e-01, forcesz_mae: 1.62e-01, forces_mae: 1.45e-01, forces_cosine_similarity: 5.40e-02, forces_magnitude_error: 3.01e-01, loss: 1.06e+01, lr: 4.02e-04, epoch: 1.62e-01, step: 3.58e+03\n",
      "2024-05-28 23:02:33 (INFO): energy_forces_within_threshold: 0.00e+00, energy_mae: 2.39e+00, forcesx_mae: 4.66e-02, forcesy_mae: 4.99e-02, forcesz_mae: 5.30e-02, forces_mae: 4.98e-02, forces_cosine_similarity: 5.06e-02, forces_magnitude_error: 1.01e-01, loss: 4.45e+00, lr: 4.02e-04, epoch: 1.63e-01, step: 3.58e+03\n",
      "2024-05-28 23:02:34 (INFO): energy_forces_within_threshold: 0.00e+00, energy_mae: 1.84e+00, forcesx_mae: 7.94e-02, forcesy_mae: 7.97e-02, forcesz_mae: 8.44e-02, forces_mae: 8.12e-02, forces_cosine_similarity: 3.04e-02, forces_magnitude_error: 1.64e-01, loss: 6.56e+00, lr: 4.02e-04, epoch: 1.63e-01, step: 3.58e+03\n",
      "2024-05-28 23:02:34 (INFO): energy_forces_within_threshold: 0.00e+00, energy_mae: 2.35e+00, forcesx_mae: 7.18e-02, forcesy_mae: 1.00e-01, forcesz_mae: 8.79e-02, forces_mae: 8.67e-02, forces_cosine_similarity: 2.48e-02, forces_magnitude_error: 1.76e-01, loss: 7.21e+00, lr: 4.02e-04, epoch: 1.63e-01, step: 3.59e+03\n",
      "2024-05-28 23:02:35 (INFO): energy_forces_within_threshold: 0.00e+00, energy_mae: 2.06e+00, forcesx_mae: 6.29e-02, forcesy_mae: 7.20e-02, forcesz_mae: 7.02e-02, forces_mae: 6.84e-02, forces_cosine_similarity: 1.48e-02, forces_magnitude_error: 1.36e-01, loss: 5.55e+00, lr: 4.02e-04, epoch: 1.63e-01, step: 3.60e+03\n",
      "2024-05-28 23:02:35 (INFO): energy_forces_within_threshold: 0.00e+00, energy_mae: 2.04e+00, forcesx_mae: 4.78e-02, forcesy_mae: 5.54e-02, forcesz_mae: 8.53e-02, forces_mae: 6.28e-02, forces_cosine_similarity: 7.39e-02, forces_magnitude_error: 1.34e-01, loss: 5.47e+00, lr: 4.02e-04, epoch: 1.64e-01, step: 3.60e+03\n",
      "2024-05-28 23:02:36 (INFO): energy_forces_within_threshold: 0.00e+00, energy_mae: 1.98e+00, forcesx_mae: 7.49e-02, forcesy_mae: 1.10e-01, forcesz_mae: 1.15e-01, forces_mae: 1.00e-01, forces_cosine_similarity: 4.53e-02, forces_magnitude_error: 2.02e-01, loss: 7.85e+00, lr: 4.02e-04, epoch: 1.64e-01, step: 3.60e+03\n",
      "2024-05-28 23:02:36 (INFO): energy_forces_within_threshold: 0.00e+00, energy_mae: 2.03e+00, forcesx_mae: 4.65e-02, forcesy_mae: 7.35e-02, forcesz_mae: 7.43e-02, forces_mae: 6.48e-02, forces_cosine_similarity: 3.66e-02, forces_magnitude_error: 1.36e-01, loss: 5.73e+00, lr: 4.02e-04, epoch: 1.64e-01, step: 3.61e+03\n",
      "2024-05-28 23:02:37 (INFO): energy_forces_within_threshold: 0.00e+00, energy_mae: 1.60e+00, forcesx_mae: 6.60e-02, forcesy_mae: 9.33e-02, forcesz_mae: 9.89e-02, forces_mae: 8.61e-02, forces_cosine_similarity: 5.49e-02, forces_magnitude_error: 1.75e-01, loss: 6.76e+00, lr: 4.02e-04, epoch: 1.64e-01, step: 3.62e+03\n",
      "2024-05-28 23:02:37 (INFO): energy_forces_within_threshold: 0.00e+00, energy_mae: 2.20e+00, forcesx_mae: 7.63e-02, forcesy_mae: 9.07e-02, forcesz_mae: 8.67e-02, forces_mae: 8.45e-02, forces_cosine_similarity: 4.91e-02, forces_magnitude_error: 1.69e-01, loss: 6.96e+00, lr: 4.02e-04, epoch: 1.65e-01, step: 3.62e+03\n",
      "2024-05-28 23:02:38 (INFO): energy_forces_within_threshold: 0.00e+00, energy_mae: 1.99e+00, forcesx_mae: 4.70e-02, forcesy_mae: 7.18e-02, forcesz_mae: 8.12e-02, forces_mae: 6.67e-02, forces_cosine_similarity: 4.17e-02, forces_magnitude_error: 1.36e-01, loss: 5.64e+00, lr: 4.02e-04, epoch: 1.65e-01, step: 3.62e+03\n",
      "2024-05-28 23:02:38 (INFO): energy_forces_within_threshold: 0.00e+00, energy_mae: 1.96e+00, forcesx_mae: 9.77e-02, forcesy_mae: 8.34e-02, forcesz_mae: 1.12e-01, forces_mae: 9.76e-02, forces_cosine_similarity: 6.24e-02, forces_magnitude_error: 1.97e-01, loss: 7.65e+00, lr: 4.02e-04, epoch: 1.65e-01, step: 3.63e+03\n",
      "2024-05-28 23:02:39 (INFO): energy_forces_within_threshold: 0.00e+00, energy_mae: 2.15e+00, forcesx_mae: 7.70e-02, forcesy_mae: 8.47e-02, forcesz_mae: 9.38e-02, forces_mae: 8.52e-02, forces_cosine_similarity: 3.51e-02, forces_magnitude_error: 1.68e-01, loss: 6.80e+00, lr: 4.02e-04, epoch: 1.65e-01, step: 3.64e+03\n",
      "2024-05-28 23:02:39 (INFO): energy_forces_within_threshold: 0.00e+00, energy_mae: 2.27e+00, forcesx_mae: 1.11e-01, forcesy_mae: 1.38e-01, forcesz_mae: 1.69e-01, forces_mae: 1.39e-01, forces_cosine_similarity: 2.50e-02, forces_magnitude_error: 2.74e-01, loss: 1.05e+01, lr: 4.02e-04, epoch: 1.65e-01, step: 3.64e+03\n",
      "2024-05-28 23:02:40 (INFO): energy_forces_within_threshold: 0.00e+00, energy_mae: 1.83e+00, forcesx_mae: 6.32e-02, forcesy_mae: 7.21e-02, forcesz_mae: 7.55e-02, forces_mae: 7.03e-02, forces_cosine_similarity: 3.08e-02, forces_magnitude_error: 1.42e-01, loss: 5.59e+00, lr: 4.02e-04, epoch: 1.66e-01, step: 3.64e+03\n",
      "2024-05-28 23:02:40 (INFO): energy_forces_within_threshold: 0.00e+00, energy_mae: 2.01e+00, forcesx_mae: 4.67e-02, forcesy_mae: 6.09e-02, forcesz_mae: 6.35e-02, forces_mae: 5.70e-02, forces_cosine_similarity: 1.76e-02, forces_magnitude_error: 1.18e-01, loss: 4.91e+00, lr: 4.02e-04, epoch: 1.66e-01, step: 3.65e+03\n",
      "2024-05-28 23:02:41 (INFO): energy_forces_within_threshold: 0.00e+00, energy_mae: 1.78e+00, forcesx_mae: 4.78e-02, forcesy_mae: 5.86e-02, forcesz_mae: 6.27e-02, forces_mae: 5.64e-02, forces_cosine_similarity: 3.19e-02, forces_magnitude_error: 1.14e-01, loss: 4.58e+00, lr: 4.02e-04, epoch: 1.66e-01, step: 3.66e+03\n",
      "2024-05-28 23:02:41 (INFO): energy_forces_within_threshold: 0.00e+00, energy_mae: 1.92e+00, forcesx_mae: 8.79e-02, forcesy_mae: 1.02e-01, forcesz_mae: 1.15e-01, forces_mae: 1.02e-01, forces_cosine_similarity: 4.80e-02, forces_magnitude_error: 2.07e-01, loss: 8.40e+00, lr: 4.02e-04, epoch: 1.66e-01, step: 3.66e+03\n",
      "2024-05-28 23:02:42 (INFO): energy_forces_within_threshold: 0.00e+00, energy_mae: 2.05e+00, forcesx_mae: 5.33e-02, forcesy_mae: 7.15e-02, forcesz_mae: 8.51e-02, forces_mae: 7.00e-02, forces_cosine_similarity: -1.37e-02, forces_magnitude_error: 1.45e-01, loss: 5.91e+00, lr: 4.02e-04, epoch: 1.67e-01, step: 3.66e+03\n",
      "2024-05-28 23:02:42 (INFO): energy_forces_within_threshold: 0.00e+00, energy_mae: 2.23e+00, forcesx_mae: 6.28e-02, forcesy_mae: 8.01e-02, forcesz_mae: 8.44e-02, forces_mae: 7.58e-02, forces_cosine_similarity: 1.72e-02, forces_magnitude_error: 1.55e-01, loss: 6.26e+00, lr: 4.02e-04, epoch: 1.67e-01, step: 3.67e+03\n",
      "2024-05-28 23:02:43 (INFO): energy_forces_within_threshold: 0.00e+00, energy_mae: 1.79e+00, forcesx_mae: 7.11e-02, forcesy_mae: 7.73e-02, forcesz_mae: 7.68e-02, forces_mae: 7.50e-02, forces_cosine_similarity: 5.06e-03, forces_magnitude_error: 1.49e-01, loss: 5.85e+00, lr: 4.02e-04, epoch: 1.67e-01, step: 3.68e+03\n",
      "2024-05-28 23:02:43 (INFO): energy_forces_within_threshold: 0.00e+00, energy_mae: 2.47e+00, forcesx_mae: 5.79e-02, forcesy_mae: 9.38e-02, forcesz_mae: 7.56e-02, forces_mae: 7.57e-02, forces_cosine_similarity: 4.47e-02, forces_magnitude_error: 1.52e-01, loss: 6.22e+00, lr: 4.02e-04, epoch: 1.67e-01, step: 3.68e+03\n",
      "2024-05-28 23:02:44 (INFO): energy_forces_within_threshold: 0.00e+00, energy_mae: 1.47e+00, forcesx_mae: 4.91e-02, forcesy_mae: 6.12e-02, forcesz_mae: 6.78e-02, forces_mae: 5.93e-02, forces_cosine_similarity: 3.55e-02, forces_magnitude_error: 1.21e-01, loss: 4.94e+00, lr: 4.02e-04, epoch: 1.67e-01, step: 3.68e+03\n",
      "2024-05-28 23:02:44 (INFO): energy_forces_within_threshold: 0.00e+00, energy_mae: 2.01e+00, forcesx_mae: 4.04e-02, forcesy_mae: 4.67e-02, forcesz_mae: 4.43e-02, forces_mae: 4.38e-02, forces_cosine_similarity: -9.89e-03, forces_magnitude_error: 8.68e-02, loss: 3.82e+00, lr: 4.02e-04, epoch: 1.68e-01, step: 3.69e+03\n",
      "2024-05-28 23:02:45 (INFO): energy_forces_within_threshold: 0.00e+00, energy_mae: 2.38e+00, forcesx_mae: 3.76e-02, forcesy_mae: 4.23e-02, forcesz_mae: 4.55e-02, forces_mae: 4.18e-02, forces_cosine_similarity: 2.27e-02, forces_magnitude_error: 8.33e-02, loss: 3.84e+00, lr: 4.02e-04, epoch: 1.68e-01, step: 3.70e+03\n",
      "2024-05-28 23:02:45 (INFO): energy_forces_within_threshold: 0.00e+00, energy_mae: 1.89e+00, forcesx_mae: 9.54e-02, forcesy_mae: 1.13e-01, forcesz_mae: 1.22e-01, forces_mae: 1.10e-01, forces_cosine_similarity: 3.81e-02, forces_magnitude_error: 2.20e-01, loss: 8.46e+00, lr: 4.02e-04, epoch: 1.68e-01, step: 3.70e+03\n",
      "2024-05-28 23:02:46 (INFO): energy_forces_within_threshold: 0.00e+00, energy_mae: 2.34e+00, forcesx_mae: 8.29e-02, forcesy_mae: 1.06e-01, forcesz_mae: 1.03e-01, forces_mae: 9.71e-02, forces_cosine_similarity: 6.04e-02, forces_magnitude_error: 1.97e-01, loss: 7.48e+00, lr: 4.02e-04, epoch: 1.68e-01, step: 3.70e+03\n",
      "2024-05-28 23:02:46 (INFO): energy_forces_within_threshold: 0.00e+00, energy_mae: 1.82e+00, forcesx_mae: 5.46e-02, forcesy_mae: 5.78e-02, forcesz_mae: 6.14e-02, forces_mae: 5.79e-02, forces_cosine_similarity: 3.34e-03, forces_magnitude_error: 1.15e-01, loss: 4.70e+00, lr: 4.02e-04, epoch: 1.69e-01, step: 3.71e+03\n",
      "2024-05-28 23:02:47 (INFO): energy_forces_within_threshold: 0.00e+00, energy_mae: 2.02e+00, forcesx_mae: 4.70e-02, forcesy_mae: 6.22e-02, forcesz_mae: 6.25e-02, forces_mae: 5.72e-02, forces_cosine_similarity: 1.89e-02, forces_magnitude_error: 1.15e-01, loss: 4.84e+00, lr: 4.02e-04, epoch: 1.69e-01, step: 3.72e+03\n",
      "2024-05-28 23:02:48 (INFO): energy_forces_within_threshold: 0.00e+00, energy_mae: 1.87e+00, forcesx_mae: 6.01e-02, forcesy_mae: 8.38e-02, forcesz_mae: 1.12e-01, forces_mae: 8.54e-02, forces_cosine_similarity: 1.62e-02, forces_magnitude_error: 1.65e-01, loss: 7.18e+00, lr: 4.02e-04, epoch: 1.69e-01, step: 3.72e+03\n",
      "2024-05-28 23:02:48 (INFO): energy_forces_within_threshold: 0.00e+00, energy_mae: 1.48e+00, forcesx_mae: 5.99e-02, forcesy_mae: 8.20e-02, forcesz_mae: 8.42e-02, forces_mae: 7.54e-02, forces_cosine_similarity: 4.48e-02, forces_magnitude_error: 1.53e-01, loss: 5.99e+00, lr: 4.02e-04, epoch: 1.69e-01, step: 3.72e+03\n",
      "2024-05-28 23:02:49 (INFO): energy_forces_within_threshold: 0.00e+00, energy_mae: 1.82e+00, forcesx_mae: 6.72e-02, forcesy_mae: 8.74e-02, forcesz_mae: 7.94e-02, forces_mae: 7.80e-02, forces_cosine_similarity: 8.60e-03, forces_magnitude_error: 1.57e-01, loss: 6.31e+00, lr: 4.02e-04, epoch: 1.70e-01, step: 3.73e+03\n",
      "2024-05-28 23:02:49 (INFO): energy_forces_within_threshold: 0.00e+00, energy_mae: 1.77e+00, forcesx_mae: 4.48e-02, forcesy_mae: 8.13e-02, forcesz_mae: 9.18e-02, forces_mae: 7.26e-02, forces_cosine_similarity: 1.28e-02, forces_magnitude_error: 1.53e-01, loss: 5.83e+00, lr: 4.02e-04, epoch: 1.70e-01, step: 3.74e+03\n",
      "2024-05-28 23:02:50 (INFO): energy_forces_within_threshold: 0.00e+00, energy_mae: 2.21e+00, forcesx_mae: 5.26e-02, forcesy_mae: 6.70e-02, forcesz_mae: 7.82e-02, forces_mae: 6.59e-02, forces_cosine_similarity: 2.59e-02, forces_magnitude_error: 1.34e-01, loss: 5.59e+00, lr: 4.02e-04, epoch: 1.70e-01, step: 3.74e+03\n",
      "2024-05-28 23:02:50 (INFO): energy_forces_within_threshold: 0.00e+00, energy_mae: 1.58e+00, forcesx_mae: 4.61e-02, forcesy_mae: 6.32e-02, forcesz_mae: 6.64e-02, forces_mae: 5.86e-02, forces_cosine_similarity: 4.65e-03, forces_magnitude_error: 1.19e-01, loss: 4.76e+00, lr: 4.02e-04, epoch: 1.70e-01, step: 3.74e+03\n",
      "2024-05-28 23:02:51 (INFO): energy_forces_within_threshold: 0.00e+00, energy_mae: 2.17e+00, forcesx_mae: 5.70e-02, forcesy_mae: 7.56e-02, forcesz_mae: 8.58e-02, forces_mae: 7.28e-02, forces_cosine_similarity: 1.11e-02, forces_magnitude_error: 1.47e-01, loss: 6.37e+00, lr: 4.02e-04, epoch: 1.70e-01, step: 3.75e+03\n",
      "2024-05-28 23:02:51 (INFO): energy_forces_within_threshold: 0.00e+00, energy_mae: 1.89e+00, forcesx_mae: 6.70e-02, forcesy_mae: 9.42e-02, forcesz_mae: 1.29e-01, forces_mae: 9.66e-02, forces_cosine_similarity: 1.07e-02, forces_magnitude_error: 2.01e-01, loss: 7.48e+00, lr: 4.02e-04, epoch: 1.71e-01, step: 3.76e+03\n",
      "2024-05-28 23:02:52 (INFO): energy_forces_within_threshold: 0.00e+00, energy_mae: 2.12e+00, forcesx_mae: 6.51e-02, forcesy_mae: 6.35e-02, forcesz_mae: 9.00e-02, forces_mae: 7.29e-02, forces_cosine_similarity: 5.80e-02, forces_magnitude_error: 1.45e-01, loss: 5.85e+00, lr: 4.02e-04, epoch: 1.71e-01, step: 3.76e+03\n",
      "2024-05-28 23:02:52 (INFO): energy_forces_within_threshold: 0.00e+00, energy_mae: 1.82e+00, forcesx_mae: 4.80e-02, forcesy_mae: 6.94e-02, forcesz_mae: 7.50e-02, forces_mae: 6.41e-02, forces_cosine_similarity: 5.13e-02, forces_magnitude_error: 1.30e-01, loss: 5.11e+00, lr: 4.02e-04, epoch: 1.71e-01, step: 3.76e+03\n",
      "2024-05-28 23:02:53 (INFO): energy_forces_within_threshold: 0.00e+00, energy_mae: 3.11e+00, forcesx_mae: 8.38e-02, forcesy_mae: 8.53e-02, forcesz_mae: 1.02e-01, forces_mae: 9.04e-02, forces_cosine_similarity: 5.37e-02, forces_magnitude_error: 1.80e-01, loss: 7.55e+00, lr: 4.02e-04, epoch: 1.71e-01, step: 3.77e+03\n",
      "2024-05-28 23:02:53 (INFO): energy_forces_within_threshold: 0.00e+00, energy_mae: 1.84e+00, forcesx_mae: 4.63e-02, forcesy_mae: 6.68e-02, forcesz_mae: 8.61e-02, forces_mae: 6.64e-02, forces_cosine_similarity: 5.87e-02, forces_magnitude_error: 1.35e-01, loss: 5.97e+00, lr: 4.02e-04, epoch: 1.72e-01, step: 3.78e+03\n",
      "2024-05-28 23:02:54 (INFO): energy_forces_within_threshold: 0.00e+00, energy_mae: 2.19e+00, forcesx_mae: 7.89e-02, forcesy_mae: 1.01e-01, forcesz_mae: 1.23e-01, forces_mae: 1.01e-01, forces_cosine_similarity: -2.47e-04, forces_magnitude_error: 2.07e-01, loss: 8.25e+00, lr: 4.02e-04, epoch: 1.72e-01, step: 3.78e+03\n",
      "2024-05-28 23:02:54 (INFO): energy_forces_within_threshold: 0.00e+00, energy_mae: 1.77e+00, forcesx_mae: 6.87e-02, forcesy_mae: 8.40e-02, forcesz_mae: 9.59e-02, forces_mae: 8.29e-02, forces_cosine_similarity: -8.40e-03, forces_magnitude_error: 1.65e-01, loss: 6.48e+00, lr: 4.02e-04, epoch: 1.72e-01, step: 3.78e+03\n",
      "2024-05-28 23:02:55 (INFO): energy_forces_within_threshold: 0.00e+00, energy_mae: 2.04e+00, forcesx_mae: 5.88e-02, forcesy_mae: 7.49e-02, forcesz_mae: 6.54e-02, forces_mae: 6.64e-02, forces_cosine_similarity: 3.40e-02, forces_magnitude_error: 1.31e-01, loss: 5.47e+00, lr: 4.02e-04, epoch: 1.72e-01, step: 3.79e+03\n",
      "2024-05-28 23:02:55 (INFO): energy_forces_within_threshold: 0.00e+00, energy_mae: 3.92e+00, forcesx_mae: 8.00e-02, forcesy_mae: 8.46e-02, forcesz_mae: 9.28e-02, forces_mae: 8.58e-02, forces_cosine_similarity: 5.40e-02, forces_magnitude_error: 1.71e-01, loss: 7.38e+00, lr: 4.02e-04, epoch: 1.72e-01, step: 3.80e+03\n",
      "2024-05-28 23:02:55 (INFO): energy_forces_within_threshold: 0.00e+00, energy_mae: 2.34e+00, forcesx_mae: 7.40e-02, forcesy_mae: 1.12e-01, forcesz_mae: 9.40e-02, forces_mae: 9.33e-02, forces_cosine_similarity: 3.75e-02, forces_magnitude_error: 1.87e-01, loss: 7.28e+00, lr: 4.02e-04, epoch: 1.73e-01, step: 3.80e+03\n",
      "2024-05-28 23:02:56 (INFO): energy_forces_within_threshold: 0.00e+00, energy_mae: 2.01e+00, forcesx_mae: 7.67e-02, forcesy_mae: 8.43e-02, forcesz_mae: 1.07e-01, forces_mae: 8.94e-02, forces_cosine_similarity: 4.94e-02, forces_magnitude_error: 1.84e-01, loss: 7.26e+00, lr: 4.02e-04, epoch: 1.73e-01, step: 3.80e+03\n",
      "2024-05-28 23:02:56 (INFO): energy_forces_within_threshold: 0.00e+00, energy_mae: 2.64e+00, forcesx_mae: 5.09e-02, forcesy_mae: 7.50e-02, forcesz_mae: 8.24e-02, forces_mae: 6.95e-02, forces_cosine_similarity: 2.05e-02, forces_magnitude_error: 1.42e-01, loss: 6.10e+00, lr: 4.02e-04, epoch: 1.73e-01, step: 3.81e+03\n",
      "2024-05-28 23:02:57 (INFO): energy_forces_within_threshold: 0.00e+00, energy_mae: 1.98e+00, forcesx_mae: 5.68e-02, forcesy_mae: 8.96e-02, forcesz_mae: 1.04e-01, forces_mae: 8.35e-02, forces_cosine_similarity: 7.44e-03, forces_magnitude_error: 1.76e-01, loss: 7.19e+00, lr: 4.02e-04, epoch: 1.73e-01, step: 3.82e+03\n",
      "2024-05-28 23:02:57 (INFO): energy_forces_within_threshold: 0.00e+00, energy_mae: 2.23e+00, forcesx_mae: 7.16e-02, forcesy_mae: 9.87e-02, forcesz_mae: 8.04e-02, forces_mae: 8.35e-02, forces_cosine_similarity: -4.14e-02, forces_magnitude_error: 1.69e-01, loss: 7.16e+00, lr: 4.02e-04, epoch: 1.74e-01, step: 3.82e+03\n",
      "2024-05-28 23:02:58 (INFO): energy_forces_within_threshold: 0.00e+00, energy_mae: 2.28e+00, forcesx_mae: 6.39e-02, forcesy_mae: 8.18e-02, forcesz_mae: 1.04e-01, forces_mae: 8.34e-02, forces_cosine_similarity: -1.37e-03, forces_magnitude_error: 1.74e-01, loss: 7.04e+00, lr: 4.02e-04, epoch: 1.74e-01, step: 3.82e+03\n",
      "2024-05-28 23:02:58 (INFO): energy_forces_within_threshold: 0.00e+00, energy_mae: 1.39e+00, forcesx_mae: 4.75e-02, forcesy_mae: 7.68e-02, forcesz_mae: 7.35e-02, forces_mae: 6.59e-02, forces_cosine_similarity: -3.51e-03, forces_magnitude_error: 1.37e-01, loss: 5.26e+00, lr: 4.02e-04, epoch: 1.74e-01, step: 3.83e+03\n",
      "2024-05-28 23:02:59 (INFO): energy_forces_within_threshold: 0.00e+00, energy_mae: 2.22e+00, forcesx_mae: 6.62e-02, forcesy_mae: 7.79e-02, forcesz_mae: 7.55e-02, forces_mae: 7.32e-02, forces_cosine_similarity: 3.39e-02, forces_magnitude_error: 1.47e-01, loss: 6.05e+00, lr: 4.02e-04, epoch: 1.74e-01, step: 3.84e+03\n",
      "2024-05-28 23:02:59 (INFO): energy_forces_within_threshold: 0.00e+00, energy_mae: 1.76e+00, forcesx_mae: 5.00e-02, forcesy_mae: 5.06e-02, forcesz_mae: 4.81e-02, forces_mae: 4.96e-02, forces_cosine_similarity: 1.05e-02, forces_magnitude_error: 9.99e-02, loss: 4.24e+00, lr: 4.02e-04, epoch: 1.75e-01, step: 3.84e+03\n",
      "2024-05-28 23:03:00 (INFO): energy_forces_within_threshold: 0.00e+00, energy_mae: 1.87e+00, forcesx_mae: 7.94e-02, forcesy_mae: 8.83e-02, forcesz_mae: 8.38e-02, forces_mae: 8.38e-02, forces_cosine_similarity: 2.05e-02, forces_magnitude_error: 1.72e-01, loss: 6.83e+00, lr: 4.02e-04, epoch: 1.75e-01, step: 3.84e+03\n",
      "2024-05-28 23:03:00 (INFO): energy_forces_within_threshold: 0.00e+00, energy_mae: 1.71e+00, forcesx_mae: 9.27e-02, forcesy_mae: 9.13e-02, forcesz_mae: 1.28e-01, forces_mae: 1.04e-01, forces_cosine_similarity: 4.30e-02, forces_magnitude_error: 2.20e-01, loss: 8.37e+00, lr: 4.02e-04, epoch: 1.75e-01, step: 3.85e+03\n",
      "2024-05-28 23:03:01 (INFO): energy_forces_within_threshold: 0.00e+00, energy_mae: 2.72e+00, forcesx_mae: 5.36e-02, forcesy_mae: 6.06e-02, forcesz_mae: 6.23e-02, forces_mae: 5.89e-02, forces_cosine_similarity: 1.05e-03, forces_magnitude_error: 1.23e-01, loss: 5.43e+00, lr: 4.02e-04, epoch: 1.75e-01, step: 3.86e+03\n",
      "2024-05-28 23:03:01 (INFO): energy_forces_within_threshold: 0.00e+00, energy_mae: 1.99e+00, forcesx_mae: 8.46e-02, forcesy_mae: 1.01e-01, forcesz_mae: 1.32e-01, forces_mae: 1.06e-01, forces_cosine_similarity: 7.06e-03, forces_magnitude_error: 2.19e-01, loss: 8.59e+00, lr: 4.02e-04, epoch: 1.75e-01, step: 3.86e+03\n",
      "2024-05-28 23:03:02 (INFO): energy_forces_within_threshold: 0.00e+00, energy_mae: 2.05e+00, forcesx_mae: 5.14e-02, forcesy_mae: 5.95e-02, forcesz_mae: 6.68e-02, forces_mae: 5.92e-02, forces_cosine_similarity: 5.50e-03, forces_magnitude_error: 1.19e-01, loss: 5.03e+00, lr: 4.02e-04, epoch: 1.76e-01, step: 3.86e+03\n",
      "2024-05-28 23:03:02 (INFO): energy_forces_within_threshold: 0.00e+00, energy_mae: 2.13e+00, forcesx_mae: 8.74e-02, forcesy_mae: 9.24e-02, forcesz_mae: 1.14e-01, forces_mae: 9.79e-02, forces_cosine_similarity: 2.12e-02, forces_magnitude_error: 1.99e-01, loss: 8.05e+00, lr: 4.02e-04, epoch: 1.76e-01, step: 3.87e+03\n",
      "2024-05-28 23:03:03 (INFO): energy_forces_within_threshold: 0.00e+00, energy_mae: 1.98e+00, forcesx_mae: 8.31e-02, forcesy_mae: 1.10e-01, forcesz_mae: 1.08e-01, forces_mae: 1.01e-01, forces_cosine_similarity: 5.32e-03, forces_magnitude_error: 1.98e-01, loss: 7.74e+00, lr: 4.02e-04, epoch: 1.76e-01, step: 3.88e+03\n",
      "2024-05-28 23:03:03 (INFO): energy_forces_within_threshold: 0.00e+00, energy_mae: 1.76e+00, forcesx_mae: 3.92e-02, forcesy_mae: 4.02e-02, forcesz_mae: 4.33e-02, forces_mae: 4.09e-02, forces_cosine_similarity: -9.76e-03, forces_magnitude_error: 8.11e-02, loss: 3.52e+00, lr: 4.02e-04, epoch: 1.76e-01, step: 3.88e+03\n",
      "2024-05-28 23:03:04 (INFO): energy_forces_within_threshold: 0.00e+00, energy_mae: 1.56e+00, forcesx_mae: 5.57e-02, forcesy_mae: 5.94e-02, forcesz_mae: 6.21e-02, forces_mae: 5.91e-02, forces_cosine_similarity: 3.63e-02, forces_magnitude_error: 1.20e-01, loss: 4.73e+00, lr: 4.02e-04, epoch: 1.77e-01, step: 3.88e+03\n",
      "2024-05-28 23:03:04 (INFO): energy_forces_within_threshold: 0.00e+00, energy_mae: 2.52e+00, forcesx_mae: 1.01e-01, forcesy_mae: 1.48e-01, forcesz_mae: 1.64e-01, forces_mae: 1.37e-01, forces_cosine_similarity: 4.18e-02, forces_magnitude_error: 2.72e-01, loss: 1.02e+01, lr: 4.02e-04, epoch: 1.77e-01, step: 3.89e+03\n",
      "2024-05-28 23:03:05 (INFO): energy_forces_within_threshold: 0.00e+00, energy_mae: 2.21e+00, forcesx_mae: 6.02e-02, forcesy_mae: 6.59e-02, forcesz_mae: 6.91e-02, forces_mae: 6.51e-02, forces_cosine_similarity: 4.77e-02, forces_magnitude_error: 1.30e-01, loss: 5.25e+00, lr: 4.02e-04, epoch: 1.77e-01, step: 3.90e+03\n",
      "2024-05-28 23:03:05 (INFO): energy_forces_within_threshold: 0.00e+00, energy_mae: 2.49e+00, forcesx_mae: 7.89e-02, forcesy_mae: 1.12e-01, forcesz_mae: 1.12e-01, forces_mae: 1.01e-01, forces_cosine_similarity: 6.31e-02, forces_magnitude_error: 2.04e-01, loss: 7.97e+00, lr: 4.02e-04, epoch: 1.77e-01, step: 3.90e+03\n",
      "2024-05-28 23:03:06 (INFO): energy_forces_within_threshold: 0.00e+00, energy_mae: 1.70e+00, forcesx_mae: 4.15e-02, forcesy_mae: 5.00e-02, forcesz_mae: 5.33e-02, forces_mae: 4.83e-02, forces_cosine_similarity: 2.64e-02, forces_magnitude_error: 9.73e-02, loss: 4.07e+00, lr: 4.02e-04, epoch: 1.77e-01, step: 3.90e+03\n",
      "2024-05-28 23:03:06 (INFO): energy_forces_within_threshold: 0.00e+00, energy_mae: 2.28e+00, forcesx_mae: 4.27e-02, forcesy_mae: 5.99e-02, forcesz_mae: 6.67e-02, forces_mae: 5.65e-02, forces_cosine_similarity: 5.24e-02, forces_magnitude_error: 1.16e-01, loss: 4.96e+00, lr: 4.02e-04, epoch: 1.78e-01, step: 3.91e+03\n",
      "2024-05-28 23:03:07 (INFO): energy_forces_within_threshold: 0.00e+00, energy_mae: 2.57e+00, forcesx_mae: 8.43e-02, forcesy_mae: 8.39e-02, forcesz_mae: 1.06e-01, forces_mae: 9.13e-02, forces_cosine_similarity: 4.64e-03, forces_magnitude_error: 1.84e-01, loss: 7.86e+00, lr: 4.02e-04, epoch: 1.78e-01, step: 3.92e+03\n",
      "2024-05-28 23:03:07 (INFO): energy_forces_within_threshold: 0.00e+00, energy_mae: 1.99e+00, forcesx_mae: 6.46e-02, forcesy_mae: 8.03e-02, forcesz_mae: 9.70e-02, forces_mae: 8.07e-02, forces_cosine_similarity: 8.49e-02, forces_magnitude_error: 1.63e-01, loss: 6.40e+00, lr: 4.02e-04, epoch: 1.78e-01, step: 3.92e+03\n",
      "2024-05-28 23:03:08 (INFO): energy_forces_within_threshold: 0.00e+00, energy_mae: 2.65e+00, forcesx_mae: 5.78e-02, forcesy_mae: 6.38e-02, forcesz_mae: 1.07e-01, forces_mae: 7.62e-02, forces_cosine_similarity: 1.75e-02, forces_magnitude_error: 1.59e-01, loss: 6.95e+00, lr: 4.02e-04, epoch: 1.78e-01, step: 3.92e+03\n",
      "2024-05-28 23:03:08 (INFO): energy_forces_within_threshold: 0.00e+00, energy_mae: 2.24e+00, forcesx_mae: 6.01e-02, forcesy_mae: 8.23e-02, forcesz_mae: 8.24e-02, forces_mae: 7.49e-02, forces_cosine_similarity: 5.45e-02, forces_magnitude_error: 1.52e-01, loss: 6.21e+00, lr: 4.02e-04, epoch: 1.79e-01, step: 3.93e+03\n",
      "2024-05-28 23:03:09 (INFO): energy_forces_within_threshold: 0.00e+00, energy_mae: 2.24e+00, forcesx_mae: 1.17e-01, forcesy_mae: 1.06e-01, forcesz_mae: 1.19e-01, forces_mae: 1.14e-01, forces_cosine_similarity: 6.13e-02, forces_magnitude_error: 2.33e-01, loss: 9.22e+00, lr: 4.02e-04, epoch: 1.79e-01, step: 3.94e+03\n",
      "2024-05-28 23:03:09 (INFO): energy_forces_within_threshold: 0.00e+00, energy_mae: 2.10e+00, forcesx_mae: 3.92e-02, forcesy_mae: 6.45e-02, forcesz_mae: 7.15e-02, forces_mae: 5.84e-02, forces_cosine_similarity: 4.68e-02, forces_magnitude_error: 1.22e-01, loss: 5.11e+00, lr: 4.02e-04, epoch: 1.79e-01, step: 3.94e+03\n",
      "2024-05-28 23:03:10 (INFO): energy_forces_within_threshold: 0.00e+00, energy_mae: 1.97e+00, forcesx_mae: 8.24e-02, forcesy_mae: 9.05e-02, forcesz_mae: 7.63e-02, forces_mae: 8.31e-02, forces_cosine_similarity: 8.38e-02, forces_magnitude_error: 1.66e-01, loss: 6.74e+00, lr: 4.02e-04, epoch: 1.79e-01, step: 3.94e+03\n",
      "2024-05-28 23:03:10 (INFO): energy_forces_within_threshold: 0.00e+00, energy_mae: 2.21e+00, forcesx_mae: 7.69e-02, forcesy_mae: 9.32e-02, forcesz_mae: 1.01e-01, forces_mae: 9.05e-02, forces_cosine_similarity: 3.48e-02, forces_magnitude_error: 1.82e-01, loss: 7.25e+00, lr: 4.02e-04, epoch: 1.80e-01, step: 3.95e+03\n",
      "2024-05-28 23:03:11 (INFO): energy_forces_within_threshold: 0.00e+00, energy_mae: 1.74e+00, forcesx_mae: 7.88e-02, forcesy_mae: 7.72e-02, forcesz_mae: 8.96e-02, forces_mae: 8.18e-02, forces_cosine_similarity: 4.60e-02, forces_magnitude_error: 1.63e-01, loss: 6.63e+00, lr: 4.02e-04, epoch: 1.80e-01, step: 3.96e+03\n",
      "2024-05-28 23:03:11 (INFO): energy_forces_within_threshold: 0.00e+00, energy_mae: 1.78e+00, forcesx_mae: 6.44e-02, forcesy_mae: 7.29e-02, forcesz_mae: 6.85e-02, forces_mae: 6.86e-02, forces_cosine_similarity: 5.47e-02, forces_magnitude_error: 1.39e-01, loss: 5.33e+00, lr: 4.02e-04, epoch: 1.80e-01, step: 3.96e+03\n",
      "2024-05-28 23:03:12 (INFO): energy_forces_within_threshold: 0.00e+00, energy_mae: 1.17e+00, forcesx_mae: 4.08e-02, forcesy_mae: 6.45e-02, forcesz_mae: 6.63e-02, forces_mae: 5.72e-02, forces_cosine_similarity: 5.17e-03, forces_magnitude_error: 1.19e-01, loss: 4.58e+00, lr: 4.02e-04, epoch: 1.80e-01, step: 3.96e+03\n",
      "2024-05-28 23:03:12 (INFO): energy_forces_within_threshold: 0.00e+00, energy_mae: 1.87e+00, forcesx_mae: 6.24e-02, forcesy_mae: 6.88e-02, forcesz_mae: 7.18e-02, forces_mae: 6.77e-02, forces_cosine_similarity: 7.04e-02, forces_magnitude_error: 1.33e-01, loss: 5.31e+00, lr: 4.02e-04, epoch: 1.80e-01, step: 3.97e+03\n",
      "2024-05-28 23:03:12 (INFO): energy_forces_within_threshold: 0.00e+00, energy_mae: 2.05e+00, forcesx_mae: 6.23e-02, forcesy_mae: 7.65e-02, forcesz_mae: 7.31e-02, forces_mae: 7.07e-02, forces_cosine_similarity: 1.79e-02, forces_magnitude_error: 1.42e-01, loss: 5.76e+00, lr: 4.02e-04, epoch: 1.81e-01, step: 3.98e+03\n",
      "2024-05-28 23:03:13 (INFO): energy_forces_within_threshold: 0.00e+00, energy_mae: 1.57e+00, forcesx_mae: 3.65e-02, forcesy_mae: 5.81e-02, forcesz_mae: 6.68e-02, forces_mae: 5.38e-02, forces_cosine_similarity: 5.34e-02, forces_magnitude_error: 1.12e-01, loss: 4.42e+00, lr: 4.02e-04, epoch: 1.81e-01, step: 3.98e+03\n",
      "2024-05-28 23:03:13 (INFO): energy_forces_within_threshold: 0.00e+00, energy_mae: 2.12e+00, forcesx_mae: 7.07e-02, forcesy_mae: 7.85e-02, forcesz_mae: 8.91e-02, forces_mae: 7.94e-02, forces_cosine_similarity: 5.45e-02, forces_magnitude_error: 1.63e-01, loss: 6.44e+00, lr: 4.02e-04, epoch: 1.81e-01, step: 3.98e+03\n",
      "2024-05-28 23:03:14 (INFO): energy_forces_within_threshold: 0.00e+00, energy_mae: 2.24e+00, forcesx_mae: 5.66e-02, forcesy_mae: 6.83e-02, forcesz_mae: 1.06e-01, forces_mae: 7.69e-02, forces_cosine_similarity: 3.11e-02, forces_magnitude_error: 1.64e-01, loss: 6.79e+00, lr: 4.02e-04, epoch: 1.81e-01, step: 3.99e+03\n",
      "2024-05-28 23:03:15 (INFO): energy_forces_within_threshold: 0.00e+00, energy_mae: 1.85e+00, forcesx_mae: 5.58e-02, forcesy_mae: 5.52e-02, forcesz_mae: 7.23e-02, forces_mae: 6.11e-02, forces_cosine_similarity: -2.28e-03, forces_magnitude_error: 1.24e-01, loss: 5.56e+00, lr: 4.02e-04, epoch: 1.82e-01, step: 4.00e+03\n",
      "2024-05-28 23:03:15 (INFO): energy_forces_within_threshold: 0.00e+00, energy_mae: 1.97e+00, forcesx_mae: 7.20e-02, forcesy_mae: 9.20e-02, forcesz_mae: 9.87e-02, forces_mae: 8.75e-02, forces_cosine_similarity: 5.09e-02, forces_magnitude_error: 1.80e-01, loss: 7.27e+00, lr: 4.02e-04, epoch: 1.82e-01, step: 4.00e+03\n",
      "2024-05-28 23:03:16 (INFO): energy_forces_within_threshold: 0.00e+00, energy_mae: 2.46e+00, forcesx_mae: 1.14e-01, forcesy_mae: 1.42e-01, forcesz_mae: 1.37e-01, forces_mae: 1.31e-01, forces_cosine_similarity: 6.72e-02, forces_magnitude_error: 2.63e-01, loss: 1.00e+01, lr: 4.02e-04, epoch: 1.82e-01, step: 4.00e+03\n",
      "2024-05-28 23:03:16 (INFO): energy_forces_within_threshold: 0.00e+00, energy_mae: 2.41e+00, forcesx_mae: 1.20e-01, forcesy_mae: 1.42e-01, forcesz_mae: 1.19e-01, forces_mae: 1.27e-01, forces_cosine_similarity: 6.79e-02, forces_magnitude_error: 2.64e-01, loss: 1.05e+01, lr: 4.02e-04, epoch: 1.82e-01, step: 4.01e+03\n",
      "2024-05-28 23:03:17 (INFO): energy_forces_within_threshold: 0.00e+00, energy_mae: 1.87e+00, forcesx_mae: 4.52e-02, forcesy_mae: 5.19e-02, forcesz_mae: 5.62e-02, forces_mae: 5.11e-02, forces_cosine_similarity: 7.85e-03, forces_magnitude_error: 1.02e-01, loss: 4.21e+00, lr: 4.02e-04, epoch: 1.82e-01, step: 4.02e+03\n",
      "2024-05-28 23:03:17 (INFO): energy_forces_within_threshold: 0.00e+00, energy_mae: 1.74e+00, forcesx_mae: 4.31e-02, forcesy_mae: 5.62e-02, forcesz_mae: 5.47e-02, forces_mae: 5.13e-02, forces_cosine_similarity: 3.05e-03, forces_magnitude_error: 1.02e-01, loss: 4.32e+00, lr: 4.02e-04, epoch: 1.83e-01, step: 4.02e+03\n",
      "2024-05-28 23:03:18 (INFO): energy_forces_within_threshold: 0.00e+00, energy_mae: 1.98e+00, forcesx_mae: 7.65e-02, forcesy_mae: 8.77e-02, forcesz_mae: 8.79e-02, forces_mae: 8.40e-02, forces_cosine_similarity: 1.37e-02, forces_magnitude_error: 1.67e-01, loss: 6.55e+00, lr: 4.02e-04, epoch: 1.83e-01, step: 4.02e+03\n",
      "2024-05-28 23:03:18 (INFO): energy_forces_within_threshold: 0.00e+00, energy_mae: 2.27e+00, forcesx_mae: 7.95e-02, forcesy_mae: 8.40e-02, forcesz_mae: 9.31e-02, forces_mae: 8.55e-02, forces_cosine_similarity: -1.12e-02, forces_magnitude_error: 1.71e-01, loss: 6.80e+00, lr: 4.02e-04, epoch: 1.83e-01, step: 4.03e+03\n",
      "2024-05-28 23:03:19 (INFO): energy_forces_within_threshold: 0.00e+00, energy_mae: 1.53e+00, forcesx_mae: 4.08e-02, forcesy_mae: 5.12e-02, forcesz_mae: 4.71e-02, forces_mae: 4.64e-02, forces_cosine_similarity: -2.47e-02, forces_magnitude_error: 9.22e-02, loss: 3.87e+00, lr: 4.02e-04, epoch: 1.83e-01, step: 4.04e+03\n",
      "2024-05-28 23:03:19 (INFO): energy_forces_within_threshold: 0.00e+00, energy_mae: 1.72e+00, forcesx_mae: 8.90e-02, forcesy_mae: 1.07e-01, forcesz_mae: 1.22e-01, forces_mae: 1.06e-01, forces_cosine_similarity: 4.32e-02, forces_magnitude_error: 2.15e-01, loss: 8.12e+00, lr: 4.02e-04, epoch: 1.84e-01, step: 4.04e+03\n",
      "2024-05-28 23:03:20 (INFO): energy_forces_within_threshold: 0.00e+00, energy_mae: 1.80e+00, forcesx_mae: 6.24e-02, forcesy_mae: 9.33e-02, forcesz_mae: 7.99e-02, forces_mae: 7.85e-02, forces_cosine_similarity: 1.97e-02, forces_magnitude_error: 1.58e-01, loss: 6.53e+00, lr: 4.02e-04, epoch: 1.84e-01, step: 4.04e+03\n",
      "2024-05-28 23:03:20 (INFO): energy_forces_within_threshold: 0.00e+00, energy_mae: 1.63e+00, forcesx_mae: 3.93e-02, forcesy_mae: 5.63e-02, forcesz_mae: 5.32e-02, forces_mae: 4.96e-02, forces_cosine_similarity: 2.85e-02, forces_magnitude_error: 1.02e-01, loss: 4.19e+00, lr: 4.02e-04, epoch: 1.84e-01, step: 4.05e+03\n",
      "2024-05-28 23:03:21 (INFO): energy_forces_within_threshold: 0.00e+00, energy_mae: 1.68e+00, forcesx_mae: 4.61e-02, forcesy_mae: 5.10e-02, forcesz_mae: 5.09e-02, forces_mae: 4.93e-02, forces_cosine_similarity: 6.06e-02, forces_magnitude_error: 1.00e-01, loss: 4.15e+00, lr: 4.02e-04, epoch: 1.84e-01, step: 4.06e+03\n",
      "2024-05-28 23:03:21 (INFO): energy_forces_within_threshold: 0.00e+00, energy_mae: 1.51e+00, forcesx_mae: 5.10e-02, forcesy_mae: 8.33e-02, forcesz_mae: 8.03e-02, forces_mae: 7.15e-02, forces_cosine_similarity: 4.79e-02, forces_magnitude_error: 1.49e-01, loss: 5.93e+00, lr: 4.02e-04, epoch: 1.85e-01, step: 4.06e+03\n",
      "2024-05-28 23:03:22 (INFO): energy_forces_within_threshold: 0.00e+00, energy_mae: 1.30e+00, forcesx_mae: 7.63e-02, forcesy_mae: 1.00e-01, forcesz_mae: 1.05e-01, forces_mae: 9.38e-02, forces_cosine_similarity: 7.74e-02, forces_magnitude_error: 1.88e-01, loss: 7.38e+00, lr: 4.02e-04, epoch: 1.85e-01, step: 4.06e+03\n",
      "2024-05-28 23:03:22 (INFO): energy_forces_within_threshold: 0.00e+00, energy_mae: 2.57e+00, forcesx_mae: 8.62e-02, forcesy_mae: 9.90e-02, forcesz_mae: 1.08e-01, forces_mae: 9.77e-02, forces_cosine_similarity: 1.24e-03, forces_magnitude_error: 1.95e-01, loss: 7.81e+00, lr: 4.02e-04, epoch: 1.85e-01, step: 4.07e+03\n",
      "2024-05-28 23:03:23 (INFO): energy_forces_within_threshold: 0.00e+00, energy_mae: 1.77e+00, forcesx_mae: 7.28e-02, forcesy_mae: 8.47e-02, forcesz_mae: 8.74e-02, forces_mae: 8.16e-02, forces_cosine_similarity: 8.92e-03, forces_magnitude_error: 1.63e-01, loss: 6.47e+00, lr: 4.02e-04, epoch: 1.85e-01, step: 4.08e+03\n",
      "2024-05-28 23:03:23 (INFO): energy_forces_within_threshold: 0.00e+00, energy_mae: 2.14e+00, forcesx_mae: 4.91e-02, forcesy_mae: 5.86e-02, forcesz_mae: 6.57e-02, forces_mae: 5.78e-02, forces_cosine_similarity: 4.38e-02, forces_magnitude_error: 1.16e-01, loss: 4.85e+00, lr: 4.02e-04, epoch: 1.85e-01, step: 4.08e+03\n",
      "2024-05-28 23:03:23 (INFO): energy_forces_within_threshold: 0.00e+00, energy_mae: 2.17e+00, forcesx_mae: 8.93e-02, forcesy_mae: 1.31e-01, forcesz_mae: 1.29e-01, forces_mae: 1.16e-01, forces_cosine_similarity: 7.51e-02, forces_magnitude_error: 2.38e-01, loss: 9.51e+00, lr: 4.02e-04, epoch: 1.86e-01, step: 4.08e+03\n",
      "2024-05-28 23:03:24 (INFO): energy_forces_within_threshold: 0.00e+00, energy_mae: 2.61e+00, forcesx_mae: 7.50e-02, forcesy_mae: 1.40e-01, forcesz_mae: 1.32e-01, forces_mae: 1.16e-01, forces_cosine_similarity: 1.78e-02, forces_magnitude_error: 2.39e-01, loss: 9.58e+00, lr: 4.02e-04, epoch: 1.86e-01, step: 4.09e+03\n",
      "2024-05-28 23:03:25 (INFO): energy_forces_within_threshold: 0.00e+00, energy_mae: 1.73e+00, forcesx_mae: 5.59e-02, forcesy_mae: 7.42e-02, forcesz_mae: 8.97e-02, forces_mae: 7.33e-02, forces_cosine_similarity: 4.22e-02, forces_magnitude_error: 1.46e-01, loss: 6.14e+00, lr: 4.02e-04, epoch: 1.86e-01, step: 4.10e+03\n",
      "2024-05-28 23:03:25 (INFO): energy_forces_within_threshold: 0.00e+00, energy_mae: 1.85e+00, forcesx_mae: 6.88e-02, forcesy_mae: 7.64e-02, forcesz_mae: 8.04e-02, forces_mae: 7.52e-02, forces_cosine_similarity: 2.42e-02, forces_magnitude_error: 1.50e-01, loss: 6.09e+00, lr: 4.02e-04, epoch: 1.86e-01, step: 4.10e+03\n",
      "2024-05-28 23:03:26 (INFO): energy_forces_within_threshold: 0.00e+00, energy_mae: 2.11e+00, forcesx_mae: 5.80e-02, forcesy_mae: 6.98e-02, forcesz_mae: 8.41e-02, forces_mae: 7.06e-02, forces_cosine_similarity: 7.07e-03, forces_magnitude_error: 1.44e-01, loss: 5.74e+00, lr: 4.02e-04, epoch: 1.87e-01, step: 4.10e+03\n",
      "2024-05-28 23:03:26 (INFO): energy_forces_within_threshold: 0.00e+00, energy_mae: 2.27e+00, forcesx_mae: 4.49e-02, forcesy_mae: 5.09e-02, forcesz_mae: 5.48e-02, forces_mae: 5.02e-02, forces_cosine_similarity: 2.66e-02, forces_magnitude_error: 1.04e-01, loss: 4.49e+00, lr: 4.02e-04, epoch: 1.87e-01, step: 4.11e+03\n",
      "2024-05-28 23:03:27 (INFO): energy_forces_within_threshold: 0.00e+00, energy_mae: 2.34e+00, forcesx_mae: 6.19e-02, forcesy_mae: 1.05e-01, forcesz_mae: 1.03e-01, forces_mae: 9.02e-02, forces_cosine_similarity: 2.40e-02, forces_magnitude_error: 1.85e-01, loss: 7.61e+00, lr: 4.02e-04, epoch: 1.87e-01, step: 4.12e+03\n",
      "2024-05-28 23:03:27 (INFO): energy_forces_within_threshold: 0.00e+00, energy_mae: 2.61e+00, forcesx_mae: 6.49e-02, forcesy_mae: 7.60e-02, forcesz_mae: 8.96e-02, forces_mae: 7.68e-02, forces_cosine_similarity: 6.82e-03, forces_magnitude_error: 1.58e-01, loss: 6.49e+00, lr: 4.02e-04, epoch: 1.87e-01, step: 4.12e+03\n",
      "2024-05-28 23:03:28 (INFO): energy_forces_within_threshold: 0.00e+00, energy_mae: 2.13e+00, forcesx_mae: 6.54e-02, forcesy_mae: 7.26e-02, forcesz_mae: 9.04e-02, forces_mae: 7.61e-02, forces_cosine_similarity: 6.00e-02, forces_magnitude_error: 1.58e-01, loss: 6.39e+00, lr: 4.02e-04, epoch: 1.87e-01, step: 4.12e+03\n",
      "2024-05-28 23:03:28 (INFO): energy_forces_within_threshold: 0.00e+00, energy_mae: 1.96e+00, forcesx_mae: 5.84e-02, forcesy_mae: 6.14e-02, forcesz_mae: 6.34e-02, forces_mae: 6.11e-02, forces_cosine_similarity: 1.36e-02, forces_magnitude_error: 1.24e-01, loss: 5.07e+00, lr: 4.02e-04, epoch: 1.88e-01, step: 4.13e+03\n",
      "2024-05-28 23:03:29 (INFO): energy_forces_within_threshold: 0.00e+00, energy_mae: 2.30e+00, forcesx_mae: 7.47e-02, forcesy_mae: 9.17e-02, forcesz_mae: 9.85e-02, forces_mae: 8.83e-02, forces_cosine_similarity: -3.65e-02, forces_magnitude_error: 1.81e-01, loss: 7.13e+00, lr: 4.02e-04, epoch: 1.88e-01, step: 4.14e+03\n",
      "2024-05-28 23:03:29 (INFO): energy_forces_within_threshold: 0.00e+00, energy_mae: 2.08e+00, forcesx_mae: 5.64e-02, forcesy_mae: 9.10e-02, forcesz_mae: 7.56e-02, forces_mae: 7.43e-02, forces_cosine_similarity: 3.75e-02, forces_magnitude_error: 1.52e-01, loss: 6.25e+00, lr: 4.02e-04, epoch: 1.88e-01, step: 4.14e+03\n",
      "2024-05-28 23:03:30 (INFO): energy_forces_within_threshold: 0.00e+00, energy_mae: 2.00e+00, forcesx_mae: 6.27e-02, forcesy_mae: 1.44e-01, forcesz_mae: 1.16e-01, forces_mae: 1.07e-01, forces_cosine_similarity: 3.86e-02, forces_magnitude_error: 2.19e-01, loss: 8.36e+00, lr: 4.02e-04, epoch: 1.88e-01, step: 4.14e+03\n",
      "2024-05-28 23:03:30 (INFO): energy_forces_within_threshold: 0.00e+00, energy_mae: 1.77e+00, forcesx_mae: 7.70e-02, forcesy_mae: 1.05e-01, forcesz_mae: 1.10e-01, forces_mae: 9.72e-02, forces_cosine_similarity: 2.75e-03, forces_magnitude_error: 2.02e-01, loss: 7.86e+00, lr: 4.02e-04, epoch: 1.89e-01, step: 4.15e+03\n",
      "2024-05-28 23:03:31 (INFO): energy_forces_within_threshold: 0.00e+00, energy_mae: 1.82e+00, forcesx_mae: 8.06e-02, forcesy_mae: 1.02e-01, forcesz_mae: 9.28e-02, forces_mae: 9.18e-02, forces_cosine_similarity: 7.38e-03, forces_magnitude_error: 1.85e-01, loss: 7.13e+00, lr: 4.02e-04, epoch: 1.89e-01, step: 4.16e+03\n",
      "2024-05-28 23:03:31 (INFO): energy_forces_within_threshold: 0.00e+00, energy_mae: 1.74e+00, forcesx_mae: 6.32e-02, forcesy_mae: 8.17e-02, forcesz_mae: 8.38e-02, forces_mae: 7.62e-02, forces_cosine_similarity: 3.43e-02, forces_magnitude_error: 1.54e-01, loss: 6.19e+00, lr: 4.02e-04, epoch: 1.89e-01, step: 4.16e+03\n",
      "2024-05-28 23:03:32 (INFO): energy_forces_within_threshold: 0.00e+00, energy_mae: 1.93e+00, forcesx_mae: 8.98e-02, forcesy_mae: 1.00e-01, forcesz_mae: 9.76e-02, forces_mae: 9.59e-02, forces_cosine_similarity: 1.13e-02, forces_magnitude_error: 1.87e-01, loss: 7.23e+00, lr: 4.02e-04, epoch: 1.89e-01, step: 4.16e+03\n",
      "2024-05-28 23:03:32 (INFO): energy_forces_within_threshold: 0.00e+00, energy_mae: 3.69e+00, forcesx_mae: 8.20e-02, forcesy_mae: 1.21e-01, forcesz_mae: 1.37e-01, forces_mae: 1.13e-01, forces_cosine_similarity: 5.73e-02, forces_magnitude_error: 2.35e-01, loss: 9.56e+00, lr: 4.02e-04, epoch: 1.90e-01, step: 4.17e+03\n",
      "2024-05-28 23:03:33 (INFO): energy_forces_within_threshold: 0.00e+00, energy_mae: 7.66e+00, forcesx_mae: 9.08e-02, forcesy_mae: 1.37e-01, forcesz_mae: 1.68e-01, forces_mae: 1.32e-01, forces_cosine_similarity: 4.20e-02, forces_magnitude_error: 2.72e-01, loss: 1.26e+01, lr: 4.02e-04, epoch: 1.90e-01, step: 4.18e+03\n",
      "2024-05-28 23:03:33 (INFO): energy_forces_within_threshold: 0.00e+00, energy_mae: 2.01e+00, forcesx_mae: 9.78e-02, forcesy_mae: 1.35e-01, forcesz_mae: 1.18e-01, forces_mae: 1.17e-01, forces_cosine_similarity: 6.28e-02, forces_magnitude_error: 2.36e-01, loss: 9.37e+00, lr: 4.02e-04, epoch: 1.90e-01, step: 4.18e+03\n",
      "2024-05-28 23:03:33 (INFO): energy_forces_within_threshold: 0.00e+00, energy_mae: 1.84e+00, forcesx_mae: 5.82e-02, forcesy_mae: 8.59e-02, forcesz_mae: 9.67e-02, forces_mae: 8.02e-02, forces_cosine_similarity: 5.46e-02, forces_magnitude_error: 1.65e-01, loss: 6.41e+00, lr: 4.02e-04, epoch: 1.90e-01, step: 4.18e+03\n",
      "2024-05-28 23:03:34 (INFO): energy_forces_within_threshold: 0.00e+00, energy_mae: 1.76e+00, forcesx_mae: 7.89e-02, forcesy_mae: 8.62e-02, forcesz_mae: 8.48e-02, forces_mae: 8.33e-02, forces_cosine_similarity: 3.84e-02, forces_magnitude_error: 1.67e-01, loss: 6.49e+00, lr: 4.02e-04, epoch: 1.90e-01, step: 4.19e+03\n",
      "2024-05-28 23:03:35 (INFO): energy_forces_within_threshold: 0.00e+00, energy_mae: 1.79e+00, forcesx_mae: 6.18e-02, forcesy_mae: 8.73e-02, forcesz_mae: 8.61e-02, forces_mae: 7.84e-02, forces_cosine_similarity: 5.83e-02, forces_magnitude_error: 1.61e-01, loss: 6.28e+00, lr: 4.02e-04, epoch: 1.91e-01, step: 4.20e+03\n",
      "2024-05-28 23:03:35 (INFO): energy_forces_within_threshold: 0.00e+00, energy_mae: 1.66e+00, forcesx_mae: 5.69e-02, forcesy_mae: 6.02e-02, forcesz_mae: 6.65e-02, forces_mae: 6.12e-02, forces_cosine_similarity: -2.97e-03, forces_magnitude_error: 1.22e-01, loss: 4.87e+00, lr: 4.02e-04, epoch: 1.91e-01, step: 4.20e+03\n",
      "2024-05-28 23:03:36 (INFO): energy_forces_within_threshold: 0.00e+00, energy_mae: 2.07e+00, forcesx_mae: 5.61e-02, forcesy_mae: 7.93e-02, forcesz_mae: 7.54e-02, forces_mae: 7.02e-02, forces_cosine_similarity: 5.42e-02, forces_magnitude_error: 1.41e-01, loss: 5.54e+00, lr: 4.02e-04, epoch: 1.91e-01, step: 4.20e+03\n",
      "2024-05-28 23:03:36 (INFO): energy_forces_within_threshold: 0.00e+00, energy_mae: 2.08e+00, forcesx_mae: 5.06e-02, forcesy_mae: 6.54e-02, forcesz_mae: 6.94e-02, forces_mae: 6.18e-02, forces_cosine_similarity: 2.13e-02, forces_magnitude_error: 1.22e-01, loss: 4.96e+00, lr: 4.02e-04, epoch: 1.91e-01, step: 4.21e+03\n",
      "2024-05-28 23:03:37 (INFO): energy_forces_within_threshold: 0.00e+00, energy_mae: 1.84e+00, forcesx_mae: 4.58e-02, forcesy_mae: 5.24e-02, forcesz_mae: 6.64e-02, forces_mae: 5.48e-02, forces_cosine_similarity: 5.28e-02, forces_magnitude_error: 1.11e-01, loss: 4.53e+00, lr: 4.02e-04, epoch: 1.92e-01, step: 4.22e+03\n",
      "2024-05-28 23:03:37 (INFO): energy_forces_within_threshold: 0.00e+00, energy_mae: 1.63e+00, forcesx_mae: 5.49e-02, forcesy_mae: 7.20e-02, forcesz_mae: 8.20e-02, forces_mae: 6.96e-02, forces_cosine_similarity: 1.44e-02, forces_magnitude_error: 1.45e-01, loss: 5.82e+00, lr: 4.02e-04, epoch: 1.92e-01, step: 4.22e+03\n",
      "2024-05-28 23:03:38 (INFO): energy_forces_within_threshold: 0.00e+00, energy_mae: 1.90e+00, forcesx_mae: 6.64e-02, forcesy_mae: 7.45e-02, forcesz_mae: 8.92e-02, forces_mae: 7.67e-02, forces_cosine_similarity: 6.38e-02, forces_magnitude_error: 1.55e-01, loss: 6.19e+00, lr: 4.02e-04, epoch: 1.92e-01, step: 4.22e+03\n",
      "2024-05-28 23:03:38 (INFO): energy_forces_within_threshold: 0.00e+00, energy_mae: 1.98e+00, forcesx_mae: 4.94e-02, forcesy_mae: 7.50e-02, forcesz_mae: 7.78e-02, forces_mae: 6.74e-02, forces_cosine_similarity: 2.49e-02, forces_magnitude_error: 1.38e-01, loss: 5.73e+00, lr: 4.02e-04, epoch: 1.92e-01, step: 4.23e+03\n",
      "2024-05-28 23:03:38 (INFO): energy_forces_within_threshold: 0.00e+00, energy_mae: 2.09e+00, forcesx_mae: 6.98e-02, forcesy_mae: 6.86e-02, forcesz_mae: 8.80e-02, forces_mae: 7.54e-02, forces_cosine_similarity: 1.83e-02, forces_magnitude_error: 1.51e-01, loss: 5.78e+00, lr: 4.02e-04, epoch: 1.92e-01, step: 4.24e+03\n",
      "2024-05-28 23:03:39 (INFO): energy_forces_within_threshold: 0.00e+00, energy_mae: 2.10e+00, forcesx_mae: 6.86e-02, forcesy_mae: 9.07e-02, forcesz_mae: 1.09e-01, forces_mae: 8.95e-02, forces_cosine_similarity: 4.08e-02, forces_magnitude_error: 1.85e-01, loss: 7.52e+00, lr: 4.02e-04, epoch: 1.93e-01, step: 4.24e+03\n",
      "2024-05-28 23:03:40 (INFO): energy_forces_within_threshold: 0.00e+00, energy_mae: 2.68e+00, forcesx_mae: 5.83e-02, forcesy_mae: 1.37e-01, forcesz_mae: 1.10e-01, forces_mae: 1.02e-01, forces_cosine_similarity: 5.21e-02, forces_magnitude_error: 2.10e-01, loss: 8.30e+00, lr: 4.02e-04, epoch: 1.93e-01, step: 4.24e+03\n",
      "2024-05-28 23:03:40 (INFO): energy_forces_within_threshold: 0.00e+00, energy_mae: 1.95e+00, forcesx_mae: 4.11e-02, forcesy_mae: 4.42e-02, forcesz_mae: 5.05e-02, forces_mae: 4.53e-02, forces_cosine_similarity: -1.72e-02, forces_magnitude_error: 9.12e-02, loss: 4.00e+00, lr: 4.02e-04, epoch: 1.93e-01, step: 4.25e+03\n",
      "2024-05-28 23:03:41 (INFO): energy_forces_within_threshold: 0.00e+00, energy_mae: 1.79e+00, forcesx_mae: 5.67e-02, forcesy_mae: 6.89e-02, forcesz_mae: 6.24e-02, forces_mae: 6.26e-02, forces_cosine_similarity: 2.91e-02, forces_magnitude_error: 1.23e-01, loss: 4.99e+00, lr: 4.02e-04, epoch: 1.93e-01, step: 4.26e+03\n",
      "2024-05-28 23:03:41 (INFO): energy_forces_within_threshold: 0.00e+00, energy_mae: 2.43e+00, forcesx_mae: 8.52e-02, forcesy_mae: 9.19e-02, forcesz_mae: 9.91e-02, forces_mae: 9.21e-02, forces_cosine_similarity: 1.48e-02, forces_magnitude_error: 1.88e-01, loss: 7.92e+00, lr: 4.02e-04, epoch: 1.94e-01, step: 4.26e+03\n",
      "2024-05-28 23:03:42 (INFO): energy_forces_within_threshold: 0.00e+00, energy_mae: 1.87e+00, forcesx_mae: 6.28e-02, forcesy_mae: 8.61e-02, forcesz_mae: 8.92e-02, forces_mae: 7.94e-02, forces_cosine_similarity: 4.98e-02, forces_magnitude_error: 1.61e-01, loss: 6.59e+00, lr: 4.02e-04, epoch: 1.94e-01, step: 4.26e+03\n",
      "2024-05-28 23:03:42 (INFO): energy_forces_within_threshold: 0.00e+00, energy_mae: 2.39e+00, forcesx_mae: 8.25e-02, forcesy_mae: 1.15e-01, forcesz_mae: 1.34e-01, forces_mae: 1.10e-01, forces_cosine_similarity: 2.60e-03, forces_magnitude_error: 2.20e-01, loss: 8.79e+00, lr: 4.02e-04, epoch: 1.94e-01, step: 4.27e+03\n",
      "2024-05-28 23:03:43 (INFO): energy_forces_within_threshold: 0.00e+00, energy_mae: 1.81e+00, forcesx_mae: 5.47e-02, forcesy_mae: 7.10e-02, forcesz_mae: 7.52e-02, forces_mae: 6.70e-02, forces_cosine_similarity: 2.53e-02, forces_magnitude_error: 1.31e-01, loss: 5.53e+00, lr: 4.02e-04, epoch: 1.94e-01, step: 4.28e+03\n",
      "2024-05-28 23:03:43 (INFO): energy_forces_within_threshold: 0.00e+00, energy_mae: 1.81e+00, forcesx_mae: 6.23e-02, forcesy_mae: 7.38e-02, forcesz_mae: 8.93e-02, forces_mae: 7.51e-02, forces_cosine_similarity: 2.99e-02, forces_magnitude_error: 1.51e-01, loss: 6.26e+00, lr: 4.02e-04, epoch: 1.95e-01, step: 4.28e+03\n",
      "2024-05-28 23:03:44 (INFO): energy_forces_within_threshold: 0.00e+00, energy_mae: 2.09e+00, forcesx_mae: 6.14e-02, forcesy_mae: 7.18e-02, forcesz_mae: 7.87e-02, forces_mae: 7.06e-02, forces_cosine_similarity: 3.14e-02, forces_magnitude_error: 1.41e-01, loss: 5.74e+00, lr: 4.02e-04, epoch: 1.95e-01, step: 4.28e+03\n",
      "2024-05-28 23:03:44 (INFO): energy_forces_within_threshold: 0.00e+00, energy_mae: 2.31e+00, forcesx_mae: 9.34e-02, forcesy_mae: 1.31e-01, forcesz_mae: 1.32e-01, forces_mae: 1.19e-01, forces_cosine_similarity: 6.79e-02, forces_magnitude_error: 2.41e-01, loss: 9.56e+00, lr: 4.02e-04, epoch: 1.95e-01, step: 4.29e+03\n",
      "2024-05-28 23:03:45 (INFO): energy_forces_within_threshold: 0.00e+00, energy_mae: 1.53e+00, forcesx_mae: 7.44e-02, forcesy_mae: 8.43e-02, forcesz_mae: 9.06e-02, forces_mae: 8.31e-02, forces_cosine_similarity: 6.65e-02, forces_magnitude_error: 1.67e-01, loss: 6.40e+00, lr: 4.02e-04, epoch: 1.95e-01, step: 4.30e+03\n",
      "2024-05-28 23:03:45 (INFO): energy_forces_within_threshold: 0.00e+00, energy_mae: 2.15e+00, forcesx_mae: 7.12e-02, forcesy_mae: 8.39e-02, forcesz_mae: 9.73e-02, forces_mae: 8.41e-02, forces_cosine_similarity: 5.42e-02, forces_magnitude_error: 1.69e-01, loss: 7.22e+00, lr: 4.02e-04, epoch: 1.95e-01, step: 4.30e+03\n",
      "2024-05-28 23:03:46 (INFO): energy_forces_within_threshold: 0.00e+00, energy_mae: 1.52e+00, forcesx_mae: 5.24e-02, forcesy_mae: 6.38e-02, forcesz_mae: 6.73e-02, forces_mae: 6.12e-02, forces_cosine_similarity: 7.24e-02, forces_magnitude_error: 1.22e-01, loss: 5.01e+00, lr: 4.02e-04, epoch: 1.96e-01, step: 4.30e+03\n",
      "2024-05-28 23:03:46 (INFO): energy_forces_within_threshold: 0.00e+00, energy_mae: 2.22e+00, forcesx_mae: 5.93e-02, forcesy_mae: 5.72e-02, forcesz_mae: 5.88e-02, forces_mae: 5.84e-02, forces_cosine_similarity: 3.84e-02, forces_magnitude_error: 1.14e-01, loss: 5.11e+00, lr: 4.02e-04, epoch: 1.96e-01, step: 4.31e+03\n",
      "2024-05-28 23:03:46 (INFO): energy_forces_within_threshold: 0.00e+00, energy_mae: 2.14e+00, forcesx_mae: 5.20e-02, forcesy_mae: 6.07e-02, forcesz_mae: 7.25e-02, forces_mae: 6.17e-02, forces_cosine_similarity: 4.99e-02, forces_magnitude_error: 1.21e-01, loss: 5.18e+00, lr: 4.02e-04, epoch: 1.96e-01, step: 4.32e+03\n",
      "2024-05-28 23:03:47 (INFO): energy_forces_within_threshold: 0.00e+00, energy_mae: 1.86e+00, forcesx_mae: 7.03e-02, forcesy_mae: 8.30e-02, forcesz_mae: 9.39e-02, forces_mae: 8.24e-02, forces_cosine_similarity: 6.72e-02, forces_magnitude_error: 1.65e-01, loss: 6.38e+00, lr: 4.02e-04, epoch: 1.96e-01, step: 4.32e+03\n",
      "2024-05-28 23:03:48 (INFO): energy_forces_within_threshold: 0.00e+00, energy_mae: 1.75e+00, forcesx_mae: 6.08e-02, forcesy_mae: 6.65e-02, forcesz_mae: 8.41e-02, forces_mae: 7.05e-02, forces_cosine_similarity: 6.47e-02, forces_magnitude_error: 1.42e-01, loss: 5.63e+00, lr: 4.02e-04, epoch: 1.97e-01, step: 4.32e+03\n",
      "2024-05-28 23:03:48 (INFO): energy_forces_within_threshold: 0.00e+00, energy_mae: 2.35e+00, forcesx_mae: 7.69e-02, forcesy_mae: 9.72e-02, forcesz_mae: 1.34e-01, forces_mae: 1.03e-01, forces_cosine_similarity: -1.07e-02, forces_magnitude_error: 2.10e-01, loss: 8.48e+00, lr: 4.02e-04, epoch: 1.97e-01, step: 4.33e+03\n",
      "2024-05-28 23:03:49 (INFO): energy_forces_within_threshold: 0.00e+00, energy_mae: 1.93e+00, forcesx_mae: 5.75e-02, forcesy_mae: 6.61e-02, forcesz_mae: 7.23e-02, forces_mae: 6.53e-02, forces_cosine_similarity: 4.62e-02, forces_magnitude_error: 1.31e-01, loss: 5.68e+00, lr: 4.02e-04, epoch: 1.97e-01, step: 4.34e+03\n",
      "2024-05-28 23:03:49 (INFO): energy_forces_within_threshold: 0.00e+00, energy_mae: 2.29e+00, forcesx_mae: 8.41e-02, forcesy_mae: 9.69e-02, forcesz_mae: 1.02e-01, forces_mae: 9.42e-02, forces_cosine_similarity: 4.58e-02, forces_magnitude_error: 1.92e-01, loss: 7.65e+00, lr: 4.02e-04, epoch: 1.97e-01, step: 4.34e+03\n",
      "2024-05-28 23:03:50 (INFO): energy_forces_within_threshold: 0.00e+00, energy_mae: 1.94e+00, forcesx_mae: 6.79e-02, forcesy_mae: 8.24e-02, forcesz_mae: 8.05e-02, forces_mae: 7.69e-02, forces_cosine_similarity: 3.53e-02, forces_magnitude_error: 1.54e-01, loss: 6.13e+00, lr: 4.02e-04, epoch: 1.97e-01, step: 4.34e+03\n",
      "2024-05-28 23:03:50 (INFO): energy_forces_within_threshold: 0.00e+00, energy_mae: 1.65e+00, forcesx_mae: 5.70e-02, forcesy_mae: 8.51e-02, forcesz_mae: 1.01e-01, forces_mae: 8.10e-02, forces_cosine_similarity: 4.20e-02, forces_magnitude_error: 1.66e-01, loss: 6.23e+00, lr: 4.02e-04, epoch: 1.98e-01, step: 4.35e+03\n"
     ]
    },
    {
     "name": "stderr",
     "output_type": "stream",
     "text": [
      "2024-05-28 23:03:50 (WARNING): Found nans while computing loss\n",
      "2024-05-28 23:03:51 (WARNING): Found nans while computing loss\n"
     ]
    },
    {
     "name": "stdout",
     "output_type": "stream",
     "text": [
      "2024-05-28 23:03:51 (INFO): energy_forces_within_threshold: 0.00e+00, energy_mae: 6.62e+02, forcesx_mae: nan, forcesy_mae: nan, forcesz_mae: nan, forces_mae: nan, forces_cosine_similarity: nan, forces_magnitude_error: nan, loss: 1.41e+05, lr: 4.02e-04, epoch: 1.98e-01, step: 4.36e+03\n"
     ]
    },
    {
     "name": "stderr",
     "output_type": "stream",
     "text": [
      "2024-05-28 23:03:51 (WARNING): Found nans while computing loss\n",
      "2024-05-28 23:03:51 (WARNING): Found nans while computing loss\n",
      "2024-05-28 23:03:51 (WARNING): Found nans while computing loss\n"
     ]
    },
    {
     "name": "stdout",
     "output_type": "stream",
     "text": [
      "2024-05-28 23:03:51 (INFO): energy_forces_within_threshold: 0.00e+00, energy_mae: 2.76e+00, forcesx_mae: nan, forcesy_mae: nan, forcesz_mae: nan, forces_mae: nan, forces_cosine_similarity: nan, forces_magnitude_error: nan, loss: 1.13e+05, lr: 4.02e-04, epoch: 1.98e-01, step: 4.36e+03\n",
      "2024-05-28 23:03:51 (INFO): energy_forces_within_threshold: 0.00e+00, energy_mae: 2.15e+00, forcesx_mae: 4.81e-02, forcesy_mae: 8.85e-02, forcesz_mae: 7.47e-02, forces_mae: 7.05e-02, forces_cosine_similarity: 1.41e-02, forces_magnitude_error: 1.46e-01, loss: 5.71e+00, lr: 4.02e-04, epoch: 1.98e-01, step: 4.36e+03\n",
      "2024-05-28 23:03:52 (INFO): energy_forces_within_threshold: 0.00e+00, energy_mae: 2.27e+00, forcesx_mae: 6.61e-02, forcesy_mae: 9.50e-02, forcesz_mae: 9.48e-02, forces_mae: 8.53e-02, forces_cosine_similarity: 2.86e-02, forces_magnitude_error: 1.77e-01, loss: 7.11e+00, lr: 4.02e-04, epoch: 1.99e-01, step: 4.37e+03\n",
      "2024-05-28 23:03:52 (INFO): energy_forces_within_threshold: 0.00e+00, energy_mae: 1.91e+00, forcesx_mae: 9.15e-02, forcesy_mae: 7.51e-02, forcesz_mae: 1.06e-01, forces_mae: 9.08e-02, forces_cosine_similarity: 3.24e-02, forces_magnitude_error: 1.84e-01, loss: 6.75e+00, lr: 4.02e-04, epoch: 1.99e-01, step: 4.38e+03\n",
      "2024-05-28 23:03:53 (INFO): energy_forces_within_threshold: 0.00e+00, energy_mae: 1.87e+00, forcesx_mae: 6.45e-02, forcesy_mae: 7.36e-02, forcesz_mae: 7.63e-02, forces_mae: 7.15e-02, forces_cosine_similarity: 3.18e-02, forces_magnitude_error: 1.45e-01, loss: 5.59e+00, lr: 4.02e-04, epoch: 1.99e-01, step: 4.38e+03\n",
      "2024-05-28 23:03:53 (INFO): energy_forces_within_threshold: 0.00e+00, energy_mae: 1.78e+00, forcesx_mae: 6.04e-02, forcesy_mae: 7.97e-02, forcesz_mae: 7.43e-02, forces_mae: 7.15e-02, forces_cosine_similarity: 2.88e-02, forces_magnitude_error: 1.47e-01, loss: 5.87e+00, lr: 4.02e-04, epoch: 1.99e-01, step: 4.38e+03\n",
      "2024-05-28 23:03:54 (INFO): energy_forces_within_threshold: 0.00e+00, energy_mae: 2.49e+00, forcesx_mae: 9.66e-02, forcesy_mae: 1.06e-01, forcesz_mae: 1.36e-01, forces_mae: 1.13e-01, forces_cosine_similarity: 3.54e-02, forces_magnitude_error: 2.29e-01, loss: 8.96e+00, lr: 4.02e-04, epoch: 2.00e-01, step: 4.39e+03\n",
      "2024-05-28 23:03:54 (INFO): energy_forces_within_threshold: 0.00e+00, energy_mae: 1.64e+00, forcesx_mae: 5.35e-02, forcesy_mae: 6.93e-02, forcesz_mae: 7.22e-02, forces_mae: 6.50e-02, forces_cosine_similarity: -6.82e-03, forces_magnitude_error: 1.31e-01, loss: 5.52e+00, lr: 4.02e-04, epoch: 2.00e-01, step: 4.40e+03\n",
      "2024-05-28 23:03:55 (INFO): energy_forces_within_threshold: 0.00e+00, energy_mae: 2.47e+00, forcesx_mae: 1.24e-01, forcesy_mae: 1.28e-01, forcesz_mae: 1.42e-01, forces_mae: 1.31e-01, forces_cosine_similarity: 3.39e-02, forces_magnitude_error: 2.64e-01, loss: 1.03e+01, lr: 4.02e-04, epoch: 2.00e-01, step: 4.40e+03\n",
      "2024-05-28 23:03:55 (INFO): energy_forces_within_threshold: 0.00e+00, energy_mae: 2.16e+00, forcesx_mae: 8.23e-02, forcesy_mae: 1.00e-01, forcesz_mae: 1.05e-01, forces_mae: 9.57e-02, forces_cosine_similarity: 3.17e-02, forces_magnitude_error: 1.97e-01, loss: 7.81e+00, lr: 4.02e-04, epoch: 2.00e-01, step: 4.40e+03\n",
      "2024-05-28 23:03:56 (INFO): energy_forces_within_threshold: 0.00e+00, energy_mae: 1.84e+00, forcesx_mae: 3.99e-02, forcesy_mae: 4.92e-02, forcesz_mae: 8.27e-02, forces_mae: 5.73e-02, forces_cosine_similarity: 6.08e-02, forces_magnitude_error: 1.23e-01, loss: 4.94e+00, lr: 4.02e-04, epoch: 2.00e-01, step: 4.41e+03\n",
      "2024-05-28 23:03:56 (INFO): energy_forces_within_threshold: 0.00e+00, energy_mae: 1.67e+00, forcesx_mae: 3.82e-02, forcesy_mae: 4.70e-02, forcesz_mae: 4.46e-02, forces_mae: 4.32e-02, forces_cosine_similarity: 1.79e-02, forces_magnitude_error: 8.67e-02, loss: 3.77e+00, lr: 4.02e-04, epoch: 2.01e-01, step: 4.42e+03\n",
      "2024-05-28 23:03:57 (INFO): energy_forces_within_threshold: 0.00e+00, energy_mae: 2.21e+00, forcesx_mae: 6.66e-02, forcesy_mae: 8.61e-02, forcesz_mae: 8.96e-02, forces_mae: 8.08e-02, forces_cosine_similarity: 1.53e-02, forces_magnitude_error: 1.62e-01, loss: 6.57e+00, lr: 4.02e-04, epoch: 2.01e-01, step: 4.42e+03\n",
      "2024-05-28 23:03:57 (INFO): energy_forces_within_threshold: 0.00e+00, energy_mae: 2.07e+00, forcesx_mae: 8.20e-02, forcesy_mae: 9.43e-02, forcesz_mae: 9.55e-02, forces_mae: 9.06e-02, forces_cosine_similarity: 3.33e-02, forces_magnitude_error: 1.81e-01, loss: 7.37e+00, lr: 4.02e-04, epoch: 2.01e-01, step: 4.42e+03\n",
      "2024-05-28 23:03:58 (INFO): energy_forces_within_threshold: 0.00e+00, energy_mae: 1.99e+00, forcesx_mae: 3.80e-02, forcesy_mae: 5.00e-02, forcesz_mae: 6.22e-02, forces_mae: 5.01e-02, forces_cosine_similarity: 1.11e-02, forces_magnitude_error: 1.05e-01, loss: 4.38e+00, lr: 4.02e-04, epoch: 2.01e-01, step: 4.43e+03\n",
      "2024-05-28 23:03:58 (INFO): energy_forces_within_threshold: 0.00e+00, energy_mae: 1.84e+00, forcesx_mae: 7.53e-02, forcesy_mae: 1.06e-01, forcesz_mae: 8.49e-02, forces_mae: 8.88e-02, forces_cosine_similarity: 6.31e-02, forces_magnitude_error: 1.79e-01, loss: 6.75e+00, lr: 4.02e-04, epoch: 2.02e-01, step: 4.44e+03\n",
      "2024-05-28 23:03:59 (INFO): energy_forces_within_threshold: 0.00e+00, energy_mae: 1.99e+00, forcesx_mae: 4.74e-02, forcesy_mae: 6.08e-02, forcesz_mae: 9.55e-02, forces_mae: 6.79e-02, forces_cosine_similarity: 2.55e-02, forces_magnitude_error: 1.45e-01, loss: 5.76e+00, lr: 4.02e-04, epoch: 2.02e-01, step: 4.44e+03\n",
      "2024-05-28 23:03:59 (INFO): energy_forces_within_threshold: 0.00e+00, energy_mae: 1.62e+00, forcesx_mae: 5.85e-02, forcesy_mae: 6.84e-02, forcesz_mae: 6.50e-02, forces_mae: 6.40e-02, forces_cosine_similarity: 4.57e-02, forces_magnitude_error: 1.28e-01, loss: 5.11e+00, lr: 4.02e-04, epoch: 2.02e-01, step: 4.44e+03\n",
      "2024-05-28 23:04:00 (INFO): energy_forces_within_threshold: 0.00e+00, energy_mae: 2.00e+00, forcesx_mae: 4.99e-02, forcesy_mae: 5.33e-02, forcesz_mae: 5.27e-02, forces_mae: 5.20e-02, forces_cosine_similarity: 9.83e-03, forces_magnitude_error: 1.06e-01, loss: 4.52e+00, lr: 4.02e-04, epoch: 2.02e-01, step: 4.45e+03\n",
      "2024-05-28 23:04:00 (INFO): energy_forces_within_threshold: 0.00e+00, energy_mae: 2.10e+00, forcesx_mae: 6.67e-02, forcesy_mae: 8.61e-02, forcesz_mae: 8.09e-02, forces_mae: 7.79e-02, forces_cosine_similarity: 3.11e-02, forces_magnitude_error: 1.56e-01, loss: 6.22e+00, lr: 4.02e-04, epoch: 2.02e-01, step: 4.46e+03\n",
      "2024-05-28 23:04:01 (INFO): energy_forces_within_threshold: 0.00e+00, energy_mae: 1.67e+00, forcesx_mae: 6.64e-02, forcesy_mae: 1.03e-01, forcesz_mae: 1.00e-01, forces_mae: 8.97e-02, forces_cosine_similarity: 1.62e-02, forces_magnitude_error: 1.87e-01, loss: 7.15e+00, lr: 4.02e-04, epoch: 2.03e-01, step: 4.46e+03\n",
      "2024-05-28 23:04:01 (INFO): energy_forces_within_threshold: 0.00e+00, energy_mae: 1.97e+00, forcesx_mae: 6.55e-02, forcesy_mae: 7.83e-02, forcesz_mae: 9.39e-02, forces_mae: 7.92e-02, forces_cosine_similarity: 1.49e-02, forces_magnitude_error: 1.62e-01, loss: 6.80e+00, lr: 4.02e-04, epoch: 2.03e-01, step: 4.46e+03\n",
      "2024-05-28 23:04:02 (INFO): energy_forces_within_threshold: 0.00e+00, energy_mae: 2.27e+00, forcesx_mae: 7.77e-02, forcesy_mae: 7.91e-02, forcesz_mae: 7.07e-02, forces_mae: 7.58e-02, forces_cosine_similarity: -1.19e-03, forces_magnitude_error: 1.54e-01, loss: 6.08e+00, lr: 4.02e-04, epoch: 2.03e-01, step: 4.47e+03\n",
      "2024-05-28 23:04:02 (INFO): energy_forces_within_threshold: 0.00e+00, energy_mae: 1.95e+00, forcesx_mae: 6.66e-02, forcesy_mae: 7.35e-02, forcesz_mae: 7.54e-02, forces_mae: 7.19e-02, forces_cosine_similarity: 3.63e-02, forces_magnitude_error: 1.47e-01, loss: 5.91e+00, lr: 4.02e-04, epoch: 2.03e-01, step: 4.48e+03\n",
      "2024-05-28 23:04:03 (INFO): energy_forces_within_threshold: 0.00e+00, energy_mae: 2.32e+00, forcesx_mae: 7.18e-02, forcesy_mae: 1.30e-01, forcesz_mae: 1.21e-01, forces_mae: 1.07e-01, forces_cosine_similarity: 5.32e-03, forces_magnitude_error: 2.22e-01, loss: 8.54e+00, lr: 4.02e-04, epoch: 2.04e-01, step: 4.48e+03\n",
      "2024-05-28 23:04:03 (INFO): energy_forces_within_threshold: 0.00e+00, energy_mae: 2.14e+00, forcesx_mae: 6.67e-02, forcesy_mae: 6.71e-02, forcesz_mae: 1.03e-01, forces_mae: 7.90e-02, forces_cosine_similarity: 2.84e-02, forces_magnitude_error: 1.65e-01, loss: 6.52e+00, lr: 4.02e-04, epoch: 2.04e-01, step: 4.48e+03\n",
      "2024-05-28 23:04:04 (INFO): energy_forces_within_threshold: 0.00e+00, energy_mae: 2.66e+00, forcesx_mae: 5.74e-02, forcesy_mae: 6.05e-02, forcesz_mae: 6.19e-02, forces_mae: 5.99e-02, forces_cosine_similarity: 2.38e-02, forces_magnitude_error: 1.19e-01, loss: 5.13e+00, lr: 4.02e-04, epoch: 2.04e-01, step: 4.49e+03\n",
      "2024-05-28 23:04:04 (INFO): energy_forces_within_threshold: 0.00e+00, energy_mae: 1.61e+00, forcesx_mae: 5.95e-02, forcesy_mae: 7.31e-02, forcesz_mae: 8.47e-02, forces_mae: 7.25e-02, forces_cosine_similarity: 5.40e-02, forces_magnitude_error: 1.48e-01, loss: 5.60e+00, lr: 4.02e-04, epoch: 2.04e-01, step: 4.50e+03\n",
      "2024-05-28 23:04:05 (INFO): energy_forces_within_threshold: 0.00e+00, energy_mae: 2.33e+00, forcesx_mae: 9.17e-02, forcesy_mae: 1.36e-01, forcesz_mae: 1.16e-01, forces_mae: 1.15e-01, forces_cosine_similarity: 5.01e-02, forces_magnitude_error: 2.33e-01, loss: 9.16e+00, lr: 4.02e-04, epoch: 2.05e-01, step: 4.50e+03\n",
      "2024-05-28 23:04:05 (INFO): energy_forces_within_threshold: 0.00e+00, energy_mae: 1.35e+00, forcesx_mae: 4.30e-02, forcesy_mae: 5.39e-02, forcesz_mae: 6.11e-02, forces_mae: 5.27e-02, forces_cosine_similarity: 2.18e-02, forces_magnitude_error: 1.06e-01, loss: 4.28e+00, lr: 4.02e-04, epoch: 2.05e-01, step: 4.50e+03\n",
      "2024-05-28 23:04:06 (INFO): energy_forces_within_threshold: 0.00e+00, energy_mae: 1.96e+00, forcesx_mae: 7.91e-02, forcesy_mae: 9.98e-02, forcesz_mae: 1.09e-01, forces_mae: 9.60e-02, forces_cosine_similarity: 4.62e-02, forces_magnitude_error: 1.95e-01, loss: 7.45e+00, lr: 4.02e-04, epoch: 2.05e-01, step: 4.51e+03\n",
      "2024-05-28 23:04:06 (INFO): energy_forces_within_threshold: 0.00e+00, energy_mae: 2.00e+00, forcesx_mae: 6.15e-02, forcesy_mae: 6.82e-02, forcesz_mae: 7.41e-02, forces_mae: 6.80e-02, forces_cosine_similarity: 2.11e-02, forces_magnitude_error: 1.35e-01, loss: 5.60e+00, lr: 4.02e-04, epoch: 2.05e-01, step: 4.52e+03\n",
      "2024-05-28 23:04:07 (INFO): energy_forces_within_threshold: 0.00e+00, energy_mae: 1.77e+00, forcesx_mae: 6.74e-02, forcesy_mae: 9.17e-02, forcesz_mae: 8.29e-02, forces_mae: 8.07e-02, forces_cosine_similarity: 2.92e-02, forces_magnitude_error: 1.58e-01, loss: 6.13e+00, lr: 4.02e-04, epoch: 2.05e-01, step: 4.52e+03\n",
      "2024-05-28 23:04:07 (INFO): energy_forces_within_threshold: 0.00e+00, energy_mae: 2.40e+00, forcesx_mae: 8.74e-02, forcesy_mae: 1.28e-01, forcesz_mae: 8.99e-02, forces_mae: 1.02e-01, forces_cosine_similarity: 6.89e-02, forces_magnitude_error: 2.03e-01, loss: 8.47e+00, lr: 4.02e-04, epoch: 2.06e-01, step: 4.52e+03\n",
      "2024-05-28 23:04:08 (INFO): energy_forces_within_threshold: 0.00e+00, energy_mae: 2.22e+00, forcesx_mae: 6.11e-02, forcesy_mae: 7.19e-02, forcesz_mae: 9.37e-02, forces_mae: 7.56e-02, forces_cosine_similarity: 5.99e-02, forces_magnitude_error: 1.58e-01, loss: 6.54e+00, lr: 4.02e-04, epoch: 2.06e-01, step: 4.53e+03\n",
      "2024-05-28 23:04:08 (INFO): energy_forces_within_threshold: 0.00e+00, energy_mae: 1.99e+00, forcesx_mae: 1.06e-01, forcesy_mae: 1.14e-01, forcesz_mae: 1.38e-01, forces_mae: 1.19e-01, forces_cosine_similarity: 4.96e-02, forces_magnitude_error: 2.34e-01, loss: 8.83e+00, lr: 4.02e-04, epoch: 2.06e-01, step: 4.54e+03\n",
      "2024-05-28 23:04:09 (INFO): energy_forces_within_threshold: 0.00e+00, energy_mae: 2.30e+00, forcesx_mae: 8.18e-02, forcesy_mae: 9.43e-02, forcesz_mae: 1.16e-01, forces_mae: 9.75e-02, forces_cosine_similarity: 6.09e-02, forces_magnitude_error: 1.98e-01, loss: 7.43e+00, lr: 4.02e-04, epoch: 2.06e-01, step: 4.54e+03\n",
      "2024-05-28 23:04:09 (INFO): energy_forces_within_threshold: 0.00e+00, energy_mae: 2.23e+00, forcesx_mae: 5.84e-02, forcesy_mae: 7.78e-02, forcesz_mae: 8.77e-02, forces_mae: 7.46e-02, forces_cosine_similarity: 5.94e-02, forces_magnitude_error: 1.50e-01, loss: 5.99e+00, lr: 4.02e-04, epoch: 2.07e-01, step: 4.54e+03\n",
      "2024-05-28 23:04:10 (INFO): energy_forces_within_threshold: 0.00e+00, energy_mae: 2.06e+00, forcesx_mae: 4.92e-02, forcesy_mae: 6.86e-02, forcesz_mae: 7.95e-02, forces_mae: 6.58e-02, forces_cosine_similarity: 4.04e-02, forces_magnitude_error: 1.34e-01, loss: 5.46e+00, lr: 4.02e-04, epoch: 2.07e-01, step: 4.55e+03\n",
      "2024-05-28 23:04:10 (INFO): energy_forces_within_threshold: 0.00e+00, energy_mae: 2.10e+00, forcesx_mae: 3.71e-02, forcesy_mae: 3.91e-02, forcesz_mae: 3.89e-02, forces_mae: 3.84e-02, forces_cosine_similarity: 4.25e-02, forces_magnitude_error: 7.46e-02, loss: 3.44e+00, lr: 4.02e-04, epoch: 2.07e-01, step: 4.56e+03\n",
      "2024-05-28 23:04:11 (INFO): energy_forces_within_threshold: 0.00e+00, energy_mae: 2.24e+00, forcesx_mae: 6.90e-02, forcesy_mae: 7.87e-02, forcesz_mae: 8.46e-02, forces_mae: 7.74e-02, forces_cosine_similarity: 2.35e-02, forces_magnitude_error: 1.55e-01, loss: 6.36e+00, lr: 4.02e-04, epoch: 2.07e-01, step: 4.56e+03\n",
      "2024-05-28 23:04:11 (INFO): energy_forces_within_threshold: 0.00e+00, energy_mae: 1.80e+00, forcesx_mae: 5.09e-02, forcesy_mae: 5.30e-02, forcesz_mae: 5.44e-02, forces_mae: 5.28e-02, forces_cosine_similarity: 3.15e-02, forces_magnitude_error: 1.05e-01, loss: 4.37e+00, lr: 4.02e-04, epoch: 2.07e-01, step: 4.56e+03\n",
      "2024-05-28 23:04:12 (INFO): energy_forces_within_threshold: 0.00e+00, energy_mae: 2.05e+00, forcesx_mae: 5.82e-02, forcesy_mae: 6.09e-02, forcesz_mae: 8.59e-02, forces_mae: 6.83e-02, forces_cosine_similarity: 5.58e-02, forces_magnitude_error: 1.39e-01, loss: 5.66e+00, lr: 4.02e-04, epoch: 2.08e-01, step: 4.57e+03\n",
      "2024-05-28 23:04:12 (INFO): energy_forces_within_threshold: 0.00e+00, energy_mae: 2.76e+00, forcesx_mae: 8.29e-02, forcesy_mae: 1.06e-01, forcesz_mae: 1.36e-01, forces_mae: 1.08e-01, forces_cosine_similarity: 3.25e-02, forces_magnitude_error: 2.26e-01, loss: 9.13e+00, lr: 4.02e-04, epoch: 2.08e-01, step: 4.58e+03\n",
      "2024-05-28 23:04:13 (INFO): energy_forces_within_threshold: 0.00e+00, energy_mae: 2.12e+00, forcesx_mae: 5.38e-02, forcesy_mae: 6.31e-02, forcesz_mae: 5.89e-02, forces_mae: 5.86e-02, forces_cosine_similarity: 1.57e-02, forces_magnitude_error: 1.17e-01, loss: 4.93e+00, lr: 4.02e-04, epoch: 2.08e-01, step: 4.58e+03\n",
      "2024-05-28 23:04:13 (INFO): energy_forces_within_threshold: 0.00e+00, energy_mae: 2.18e+00, forcesx_mae: 8.97e-02, forcesy_mae: 1.36e-01, forcesz_mae: 1.63e-01, forces_mae: 1.30e-01, forces_cosine_similarity: 5.34e-02, forces_magnitude_error: 2.59e-01, loss: 1.01e+01, lr: 4.02e-04, epoch: 2.08e-01, step: 4.58e+03\n",
      "2024-05-28 23:04:13 (INFO): energy_forces_within_threshold: 0.00e+00, energy_mae: 2.62e+00, forcesx_mae: 7.40e-02, forcesy_mae: 1.24e-01, forcesz_mae: 1.38e-01, forces_mae: 1.12e-01, forces_cosine_similarity: 2.88e-03, forces_magnitude_error: 2.34e-01, loss: 9.34e+00, lr: 4.02e-04, epoch: 2.09e-01, step: 4.59e+03\n",
      "2024-05-28 23:04:14 (INFO): energy_forces_within_threshold: 0.00e+00, energy_mae: 1.67e+00, forcesx_mae: 4.97e-02, forcesy_mae: 6.47e-02, forcesz_mae: 6.61e-02, forces_mae: 6.01e-02, forces_cosine_similarity: 2.62e-02, forces_magnitude_error: 1.23e-01, loss: 4.99e+00, lr: 4.02e-04, epoch: 2.09e-01, step: 4.60e+03\n",
      "2024-05-28 23:04:14 (INFO): energy_forces_within_threshold: 0.00e+00, energy_mae: 1.80e+00, forcesx_mae: 6.61e-02, forcesy_mae: 7.17e-02, forcesz_mae: 9.40e-02, forces_mae: 7.73e-02, forces_cosine_similarity: 8.94e-02, forces_magnitude_error: 1.62e-01, loss: 6.45e+00, lr: 4.02e-04, epoch: 2.09e-01, step: 4.60e+03\n",
      "2024-05-28 23:04:15 (INFO): energy_forces_within_threshold: 0.00e+00, energy_mae: 2.18e+00, forcesx_mae: 5.87e-02, forcesy_mae: 6.21e-02, forcesz_mae: 1.07e-01, forces_mae: 7.60e-02, forces_cosine_similarity: 7.06e-02, forces_magnitude_error: 1.62e-01, loss: 6.47e+00, lr: 4.02e-04, epoch: 2.09e-01, step: 4.60e+03\n",
      "2024-05-28 23:04:15 (INFO): energy_forces_within_threshold: 0.00e+00, energy_mae: 2.40e+00, forcesx_mae: 4.75e-02, forcesy_mae: 5.84e-02, forcesz_mae: 6.25e-02, forces_mae: 5.62e-02, forces_cosine_similarity: 1.32e-03, forces_magnitude_error: 1.11e-01, loss: 4.97e+00, lr: 4.02e-04, epoch: 2.10e-01, step: 4.61e+03\n",
      "2024-05-28 23:04:16 (INFO): energy_forces_within_threshold: 0.00e+00, energy_mae: 2.14e+00, forcesx_mae: 7.51e-02, forcesy_mae: 1.74e-01, forcesz_mae: 1.27e-01, forces_mae: 1.25e-01, forces_cosine_similarity: 9.13e-02, forces_magnitude_error: 2.73e-01, loss: 1.04e+01, lr: 4.02e-04, epoch: 2.10e-01, step: 4.62e+03\n",
      "2024-05-28 23:04:16 (INFO): energy_forces_within_threshold: 0.00e+00, energy_mae: 1.64e+00, forcesx_mae: 7.72e-02, forcesy_mae: 1.11e-01, forcesz_mae: 1.19e-01, forces_mae: 1.02e-01, forces_cosine_similarity: 9.45e-02, forces_magnitude_error: 2.15e-01, loss: 8.68e+00, lr: 4.02e-04, epoch: 2.10e-01, step: 4.62e+03\n",
      "2024-05-28 23:04:17 (INFO): energy_forces_within_threshold: 0.00e+00, energy_mae: 2.22e+00, forcesx_mae: 9.05e-02, forcesy_mae: 1.07e-01, forcesz_mae: 1.05e-01, forces_mae: 1.01e-01, forces_cosine_similarity: 4.59e-02, forces_magnitude_error: 1.99e-01, loss: 7.95e+00, lr: 4.02e-04, epoch: 2.10e-01, step: 4.62e+03\n",
      "2024-05-28 23:04:17 (INFO): energy_forces_within_threshold: 0.00e+00, energy_mae: 1.81e+00, forcesx_mae: 5.46e-02, forcesy_mae: 7.39e-02, forcesz_mae: 9.40e-02, forces_mae: 7.42e-02, forces_cosine_similarity: 3.57e-02, forces_magnitude_error: 1.52e-01, loss: 6.11e+00, lr: 4.02e-04, epoch: 2.10e-01, step: 4.63e+03\n",
      "2024-05-28 23:04:18 (INFO): energy_forces_within_threshold: 0.00e+00, energy_mae: 2.28e+00, forcesx_mae: 6.31e-02, forcesy_mae: 7.36e-02, forcesz_mae: 7.04e-02, forces_mae: 6.90e-02, forces_cosine_similarity: 6.68e-02, forces_magnitude_error: 1.39e-01, loss: 5.72e+00, lr: 4.02e-04, epoch: 2.11e-01, step: 4.64e+03\n",
      "2024-05-28 23:04:18 (INFO): energy_forces_within_threshold: 0.00e+00, energy_mae: 1.93e+00, forcesx_mae: 1.11e-01, forcesy_mae: 1.33e-01, forcesz_mae: 1.52e-01, forces_mae: 1.32e-01, forces_cosine_similarity: 7.58e-02, forces_magnitude_error: 2.68e-01, loss: 1.03e+01, lr: 4.02e-04, epoch: 2.11e-01, step: 4.64e+03\n",
      "2024-05-28 23:04:19 (INFO): energy_forces_within_threshold: 0.00e+00, energy_mae: 1.79e+00, forcesx_mae: 6.44e-02, forcesy_mae: 8.10e-02, forcesz_mae: 8.38e-02, forces_mae: 7.64e-02, forces_cosine_similarity: 4.29e-02, forces_magnitude_error: 1.55e-01, loss: 6.23e+00, lr: 4.02e-04, epoch: 2.11e-01, step: 4.64e+03\n",
      "2024-05-28 23:04:19 (INFO): energy_forces_within_threshold: 0.00e+00, energy_mae: 1.83e+00, forcesx_mae: 7.74e-02, forcesy_mae: 1.13e-01, forcesz_mae: 1.06e-01, forces_mae: 9.88e-02, forces_cosine_similarity: 4.63e-02, forces_magnitude_error: 2.04e-01, loss: 8.25e+00, lr: 4.02e-04, epoch: 2.11e-01, step: 4.65e+03\n",
      "2024-05-28 23:04:20 (INFO): energy_forces_within_threshold: 0.00e+00, energy_mae: 2.50e+00, forcesx_mae: 8.18e-02, forcesy_mae: 9.97e-02, forcesz_mae: 1.14e-01, forces_mae: 9.84e-02, forces_cosine_similarity: 4.97e-02, forces_magnitude_error: 2.01e-01, loss: 7.74e+00, lr: 4.02e-04, epoch: 2.12e-01, step: 4.66e+03\n",
      "2024-05-28 23:04:20 (INFO): energy_forces_within_threshold: 0.00e+00, energy_mae: 2.38e+00, forcesx_mae: 8.95e-02, forcesy_mae: 1.30e-01, forcesz_mae: 1.10e-01, forces_mae: 1.10e-01, forces_cosine_similarity: 8.48e-02, forces_magnitude_error: 2.18e-01, loss: 8.52e+00, lr: 4.02e-04, epoch: 2.12e-01, step: 4.66e+03\n",
      "2024-05-28 23:04:21 (INFO): energy_forces_within_threshold: 0.00e+00, energy_mae: 1.73e+00, forcesx_mae: 9.42e-02, forcesy_mae: 7.20e-02, forcesz_mae: 1.15e-01, forces_mae: 9.36e-02, forces_cosine_similarity: 2.39e-03, forces_magnitude_error: 1.87e-01, loss: 7.16e+00, lr: 4.02e-04, epoch: 2.12e-01, step: 4.66e+03\n",
      "2024-05-28 23:04:21 (INFO): energy_forces_within_threshold: 0.00e+00, energy_mae: 1.73e+00, forcesx_mae: 6.74e-02, forcesy_mae: 8.76e-02, forcesz_mae: 1.07e-01, forces_mae: 8.74e-02, forces_cosine_similarity: 1.80e-02, forces_magnitude_error: 1.81e-01, loss: 6.91e+00, lr: 4.02e-04, epoch: 2.12e-01, step: 4.67e+03\n",
      "2024-05-28 23:04:22 (INFO): energy_forces_within_threshold: 0.00e+00, energy_mae: 2.02e+00, forcesx_mae: 5.68e-02, forcesy_mae: 7.86e-02, forcesz_mae: 8.72e-02, forces_mae: 7.42e-02, forces_cosine_similarity: 2.59e-02, forces_magnitude_error: 1.52e-01, loss: 6.32e+00, lr: 4.02e-04, epoch: 2.12e-01, step: 4.68e+03\n",
      "2024-05-28 23:04:22 (INFO): energy_forces_within_threshold: 0.00e+00, energy_mae: 2.29e+00, forcesx_mae: 7.80e-02, forcesy_mae: 8.75e-02, forcesz_mae: 1.09e-01, forces_mae: 9.13e-02, forces_cosine_similarity: 8.01e-02, forces_magnitude_error: 1.87e-01, loss: 7.42e+00, lr: 4.02e-04, epoch: 2.13e-01, step: 4.68e+03\n",
      "2024-05-28 23:04:23 (INFO): energy_forces_within_threshold: 0.00e+00, energy_mae: 2.02e+00, forcesx_mae: 8.06e-02, forcesy_mae: 9.79e-02, forcesz_mae: 1.02e-01, forces_mae: 9.36e-02, forces_cosine_similarity: 4.56e-02, forces_magnitude_error: 1.87e-01, loss: 7.34e+00, lr: 4.02e-04, epoch: 2.13e-01, step: 4.68e+03\n",
      "2024-05-28 23:04:23 (INFO): energy_forces_within_threshold: 0.00e+00, energy_mae: 2.34e+00, forcesx_mae: 8.71e-02, forcesy_mae: 9.49e-02, forcesz_mae: 9.61e-02, forces_mae: 9.27e-02, forces_cosine_similarity: 5.13e-02, forces_magnitude_error: 1.92e-01, loss: 7.55e+00, lr: 4.02e-04, epoch: 2.13e-01, step: 4.69e+03\n",
      "2024-05-28 23:04:24 (INFO): energy_forces_within_threshold: 0.00e+00, energy_mae: 1.81e+00, forcesx_mae: 5.44e-02, forcesy_mae: 6.81e-02, forcesz_mae: 6.87e-02, forces_mae: 6.37e-02, forces_cosine_similarity: 2.43e-02, forces_magnitude_error: 1.29e-01, loss: 5.26e+00, lr: 4.02e-04, epoch: 2.13e-01, step: 4.70e+03\n",
      "2024-05-28 23:04:24 (INFO): energy_forces_within_threshold: 0.00e+00, energy_mae: 2.31e+00, forcesx_mae: 5.58e-02, forcesy_mae: 7.11e-02, forcesz_mae: 6.84e-02, forces_mae: 6.51e-02, forces_cosine_similarity: 5.28e-02, forces_magnitude_error: 1.29e-01, loss: 5.46e+00, lr: 4.02e-04, epoch: 2.14e-01, step: 4.70e+03\n",
      "2024-05-28 23:04:25 (INFO): energy_forces_within_threshold: 0.00e+00, energy_mae: 1.87e+00, forcesx_mae: 7.19e-02, forcesy_mae: 8.77e-02, forcesz_mae: 9.78e-02, forces_mae: 8.58e-02, forces_cosine_similarity: 4.73e-02, forces_magnitude_error: 1.73e-01, loss: 7.09e+00, lr: 4.02e-04, epoch: 2.14e-01, step: 4.70e+03\n",
      "2024-05-28 23:04:25 (INFO): energy_forces_within_threshold: 0.00e+00, energy_mae: 1.85e+00, forcesx_mae: 7.16e-02, forcesy_mae: 8.15e-02, forcesz_mae: 9.08e-02, forces_mae: 8.13e-02, forces_cosine_similarity: 6.32e-02, forces_magnitude_error: 1.64e-01, loss: 6.38e+00, lr: 4.02e-04, epoch: 2.14e-01, step: 4.71e+03\n",
      "2024-05-28 23:04:26 (INFO): energy_forces_within_threshold: 0.00e+00, energy_mae: 1.79e+00, forcesx_mae: 4.56e-02, forcesy_mae: 8.03e-02, forcesz_mae: 6.84e-02, forces_mae: 6.48e-02, forces_cosine_similarity: 3.54e-02, forces_magnitude_error: 1.33e-01, loss: 5.42e+00, lr: 4.02e-04, epoch: 2.14e-01, step: 4.72e+03\n",
      "2024-05-28 23:04:26 (INFO): energy_forces_within_threshold: 0.00e+00, energy_mae: 2.15e+00, forcesx_mae: 6.46e-02, forcesy_mae: 9.06e-02, forcesz_mae: 1.12e-01, forces_mae: 8.89e-02, forces_cosine_similarity: 3.95e-02, forces_magnitude_error: 1.84e-01, loss: 7.38e+00, lr: 4.02e-04, epoch: 2.15e-01, step: 4.72e+03\n",
      "2024-05-28 23:04:27 (INFO): energy_forces_within_threshold: 0.00e+00, energy_mae: 1.80e+00, forcesx_mae: 5.89e-02, forcesy_mae: 7.57e-02, forcesz_mae: 1.31e-01, forces_mae: 8.85e-02, forces_cosine_similarity: 3.10e-02, forces_magnitude_error: 1.89e-01, loss: 7.59e+00, lr: 4.02e-04, epoch: 2.15e-01, step: 4.72e+03\n",
      "2024-05-28 23:04:27 (INFO): energy_forces_within_threshold: 0.00e+00, energy_mae: 1.72e+00, forcesx_mae: 5.49e-02, forcesy_mae: 6.79e-02, forcesz_mae: 7.70e-02, forces_mae: 6.66e-02, forces_cosine_similarity: 4.41e-02, forces_magnitude_error: 1.36e-01, loss: 5.46e+00, lr: 4.02e-04, epoch: 2.15e-01, step: 4.73e+03\n",
      "2024-05-28 23:04:28 (INFO): energy_forces_within_threshold: 0.00e+00, energy_mae: 1.60e+00, forcesx_mae: 6.14e-02, forcesy_mae: 7.75e-02, forcesz_mae: 7.85e-02, forces_mae: 7.25e-02, forces_cosine_similarity: 7.42e-02, forces_magnitude_error: 1.48e-01, loss: 5.83e+00, lr: 4.02e-04, epoch: 2.15e-01, step: 4.74e+03\n",
      "2024-05-28 23:04:28 (INFO): energy_forces_within_threshold: 0.00e+00, energy_mae: 1.94e+00, forcesx_mae: 4.15e-02, forcesy_mae: 4.80e-02, forcesz_mae: 5.03e-02, forces_mae: 4.66e-02, forces_cosine_similarity: 7.68e-02, forces_magnitude_error: 9.24e-02, loss: 4.04e+00, lr: 4.02e-04, epoch: 2.15e-01, step: 4.74e+03\n",
      "2024-05-28 23:04:29 (INFO): energy_forces_within_threshold: 0.00e+00, energy_mae: 2.08e+00, forcesx_mae: 5.91e-02, forcesy_mae: 8.10e-02, forcesz_mae: 9.06e-02, forces_mae: 7.69e-02, forces_cosine_similarity: 3.93e-02, forces_magnitude_error: 1.57e-01, loss: 6.58e+00, lr: 4.02e-04, epoch: 2.16e-01, step: 4.74e+03\n",
      "2024-05-28 23:04:29 (INFO): energy_forces_within_threshold: 0.00e+00, energy_mae: 2.48e+00, forcesx_mae: 9.01e-02, forcesy_mae: 9.91e-02, forcesz_mae: 1.25e-01, forces_mae: 1.05e-01, forces_cosine_similarity: 5.12e-02, forces_magnitude_error: 2.09e-01, loss: 8.49e+00, lr: 4.02e-04, epoch: 2.16e-01, step: 4.75e+03\n",
      "2024-05-28 23:04:30 (INFO): energy_forces_within_threshold: 0.00e+00, energy_mae: 2.21e+00, forcesx_mae: 5.03e-02, forcesy_mae: 6.27e-02, forcesz_mae: 6.60e-02, forces_mae: 5.97e-02, forces_cosine_similarity: 2.91e-02, forces_magnitude_error: 1.17e-01, loss: 5.12e+00, lr: 4.02e-04, epoch: 2.16e-01, step: 4.76e+03\n",
      "2024-05-28 23:04:30 (INFO): energy_forces_within_threshold: 0.00e+00, energy_mae: 2.01e+00, forcesx_mae: 1.03e-01, forcesy_mae: 1.28e-01, forcesz_mae: 1.32e-01, forces_mae: 1.21e-01, forces_cosine_similarity: 4.10e-02, forces_magnitude_error: 2.43e-01, loss: 9.49e+00, lr: 4.02e-04, epoch: 2.16e-01, step: 4.76e+03\n",
      "2024-05-28 23:04:31 (INFO): energy_forces_within_threshold: 0.00e+00, energy_mae: 2.12e+00, forcesx_mae: 6.68e-02, forcesy_mae: 6.87e-02, forcesz_mae: 8.26e-02, forces_mae: 7.27e-02, forces_cosine_similarity: 9.14e-02, forces_magnitude_error: 1.45e-01, loss: 6.07e+00, lr: 4.02e-04, epoch: 2.17e-01, step: 4.76e+03\n",
      "2024-05-28 23:04:31 (INFO): energy_forces_within_threshold: 0.00e+00, energy_mae: 1.79e+00, forcesx_mae: 6.15e-02, forcesy_mae: 6.38e-02, forcesz_mae: 8.83e-02, forces_mae: 7.12e-02, forces_cosine_similarity: 5.62e-02, forces_magnitude_error: 1.38e-01, loss: 5.81e+00, lr: 4.02e-04, epoch: 2.17e-01, step: 4.77e+03\n",
      "2024-05-28 23:04:32 (INFO): energy_forces_within_threshold: 0.00e+00, energy_mae: 2.13e+00, forcesx_mae: 4.73e-02, forcesy_mae: 5.07e-02, forcesz_mae: 6.00e-02, forces_mae: 5.27e-02, forces_cosine_similarity: 2.54e-02, forces_magnitude_error: 1.06e-01, loss: 4.64e+00, lr: 4.02e-04, epoch: 2.17e-01, step: 4.78e+03\n",
      "2024-05-28 23:04:32 (INFO): energy_forces_within_threshold: 0.00e+00, energy_mae: 2.21e+00, forcesx_mae: 7.32e-02, forcesy_mae: 9.34e-02, forcesz_mae: 9.44e-02, forces_mae: 8.70e-02, forces_cosine_similarity: 3.75e-03, forces_magnitude_error: 1.77e-01, loss: 7.00e+00, lr: 4.02e-04, epoch: 2.17e-01, step: 4.78e+03\n",
      "2024-05-28 23:04:33 (INFO): energy_forces_within_threshold: 0.00e+00, energy_mae: 1.82e+00, forcesx_mae: 5.19e-02, forcesy_mae: 6.34e-02, forcesz_mae: 8.71e-02, forces_mae: 6.74e-02, forces_cosine_similarity: 1.88e-02, forces_magnitude_error: 1.47e-01, loss: 6.08e+00, lr: 4.02e-04, epoch: 2.17e-01, step: 4.78e+03\n",
      "2024-05-28 23:04:33 (INFO): energy_forces_within_threshold: 0.00e+00, energy_mae: 1.84e+00, forcesx_mae: 5.71e-02, forcesy_mae: 6.63e-02, forcesz_mae: 7.19e-02, forces_mae: 6.51e-02, forces_cosine_similarity: 2.73e-02, forces_magnitude_error: 1.33e-01, loss: 5.40e+00, lr: 4.02e-04, epoch: 2.18e-01, step: 4.79e+03\n",
      "2024-05-28 23:04:34 (INFO): energy_forces_within_threshold: 0.00e+00, energy_mae: 1.91e+00, forcesx_mae: 3.84e-02, forcesy_mae: 4.67e-02, forcesz_mae: 5.59e-02, forces_mae: 4.70e-02, forces_cosine_similarity: -2.41e-02, forces_magnitude_error: 9.91e-02, loss: 4.59e+00, lr: 4.02e-04, epoch: 2.18e-01, step: 4.80e+03\n",
      "2024-05-28 23:04:34 (INFO): energy_forces_within_threshold: 0.00e+00, energy_mae: 1.85e+00, forcesx_mae: 7.41e-02, forcesy_mae: 8.56e-02, forcesz_mae: 8.31e-02, forces_mae: 8.09e-02, forces_cosine_similarity: 4.36e-02, forces_magnitude_error: 1.64e-01, loss: 6.43e+00, lr: 4.02e-04, epoch: 2.18e-01, step: 4.80e+03\n",
      "2024-05-28 23:04:35 (INFO): energy_forces_within_threshold: 0.00e+00, energy_mae: 2.22e+00, forcesx_mae: 1.23e-01, forcesy_mae: 1.11e-01, forcesz_mae: 1.25e-01, forces_mae: 1.20e-01, forces_cosine_similarity: 3.27e-02, forces_magnitude_error: 2.47e-01, loss: 9.24e+00, lr: 4.02e-04, epoch: 2.18e-01, step: 4.80e+03\n",
      "2024-05-28 23:04:35 (INFO): energy_forces_within_threshold: 0.00e+00, energy_mae: 3.45e+00, forcesx_mae: 9.88e-02, forcesy_mae: 1.29e-01, forcesz_mae: 1.43e-01, forces_mae: 1.23e-01, forces_cosine_similarity: -1.46e-03, forces_magnitude_error: 2.51e-01, loss: 1.00e+01, lr: 4.02e-04, epoch: 2.19e-01, step: 4.81e+03\n",
      "2024-05-28 23:04:36 (INFO): energy_forces_within_threshold: 0.00e+00, energy_mae: 1.76e+00, forcesx_mae: 6.58e-02, forcesy_mae: 1.00e-01, forcesz_mae: 1.10e-01, forces_mae: 9.22e-02, forces_cosine_similarity: 1.53e-02, forces_magnitude_error: 1.93e-01, loss: 7.16e+00, lr: 4.02e-04, epoch: 2.19e-01, step: 4.82e+03\n",
      "2024-05-28 23:04:36 (INFO): energy_forces_within_threshold: 0.00e+00, energy_mae: 2.04e+00, forcesx_mae: 8.17e-02, forcesy_mae: 1.03e-01, forcesz_mae: 1.03e-01, forces_mae: 9.57e-02, forces_cosine_similarity: 3.65e-02, forces_magnitude_error: 1.94e-01, loss: 7.46e+00, lr: 4.02e-04, epoch: 2.19e-01, step: 4.82e+03\n",
      "2024-05-28 23:04:37 (INFO): energy_forces_within_threshold: 0.00e+00, energy_mae: 2.10e+00, forcesx_mae: 5.62e-02, forcesy_mae: 6.57e-02, forcesz_mae: 9.57e-02, forces_mae: 7.26e-02, forces_cosine_similarity: 5.74e-02, forces_magnitude_error: 1.50e-01, loss: 6.39e+00, lr: 4.02e-04, epoch: 2.19e-01, step: 4.82e+03\n",
      "2024-05-28 23:04:37 (INFO): energy_forces_within_threshold: 0.00e+00, energy_mae: 2.25e+00, forcesx_mae: 3.90e-02, forcesy_mae: 4.02e-02, forcesz_mae: 4.44e-02, forces_mae: 4.12e-02, forces_cosine_similarity: 5.14e-02, forces_magnitude_error: 8.13e-02, loss: 3.84e+00, lr: 4.02e-04, epoch: 2.20e-01, step: 4.83e+03\n",
      "2024-05-28 23:04:38 (INFO): energy_forces_within_threshold: 0.00e+00, energy_mae: 1.81e+00, forcesx_mae: 6.62e-02, forcesy_mae: 8.49e-02, forcesz_mae: 9.38e-02, forces_mae: 8.16e-02, forces_cosine_similarity: 7.09e-02, forces_magnitude_error: 1.70e-01, loss: 6.66e+00, lr: 4.02e-04, epoch: 2.20e-01, step: 4.84e+03\n",
      "2024-05-28 23:04:38 (INFO): energy_forces_within_threshold: 0.00e+00, energy_mae: 2.38e+00, forcesx_mae: 3.31e-02, forcesy_mae: 4.23e-02, forcesz_mae: 4.56e-02, forces_mae: 4.03e-02, forces_cosine_similarity: 1.94e-02, forces_magnitude_error: 7.93e-02, loss: 3.68e+00, lr: 4.02e-04, epoch: 2.20e-01, step: 4.84e+03\n",
      "2024-05-28 23:04:39 (INFO): energy_forces_within_threshold: 0.00e+00, energy_mae: 1.35e+00, forcesx_mae: 7.36e-02, forcesy_mae: 1.05e-01, forcesz_mae: 8.82e-02, forces_mae: 8.90e-02, forces_cosine_similarity: 4.08e-02, forces_magnitude_error: 1.77e-01, loss: 6.78e+00, lr: 4.02e-04, epoch: 2.20e-01, step: 4.84e+03\n",
      "2024-05-28 23:04:39 (INFO): energy_forces_within_threshold: 0.00e+00, energy_mae: 1.68e+00, forcesx_mae: 6.87e-02, forcesy_mae: 7.51e-02, forcesz_mae: 1.18e-01, forces_mae: 8.74e-02, forces_cosine_similarity: 3.61e-02, forces_magnitude_error: 1.80e-01, loss: 7.01e+00, lr: 4.02e-04, epoch: 2.20e-01, step: 4.85e+03\n",
      "2024-05-28 23:04:40 (INFO): energy_forces_within_threshold: 0.00e+00, energy_mae: 1.74e+00, forcesx_mae: 5.83e-02, forcesy_mae: 8.04e-02, forcesz_mae: 8.55e-02, forces_mae: 7.47e-02, forces_cosine_similarity: 8.61e-02, forces_magnitude_error: 1.52e-01, loss: 6.16e+00, lr: 4.02e-04, epoch: 2.21e-01, step: 4.86e+03\n",
      "2024-05-28 23:04:40 (INFO): energy_forces_within_threshold: 0.00e+00, energy_mae: 1.60e+00, forcesx_mae: 7.33e-02, forcesy_mae: 7.98e-02, forcesz_mae: 8.13e-02, forces_mae: 7.81e-02, forces_cosine_similarity: 1.08e-02, forces_magnitude_error: 1.52e-01, loss: 5.97e+00, lr: 4.02e-04, epoch: 2.21e-01, step: 4.86e+03\n",
      "2024-05-28 23:04:41 (INFO): energy_forces_within_threshold: 0.00e+00, energy_mae: 2.37e+00, forcesx_mae: 8.77e-02, forcesy_mae: 8.93e-02, forcesz_mae: 1.05e-01, forces_mae: 9.40e-02, forces_cosine_similarity: 2.52e-02, forces_magnitude_error: 1.89e-01, loss: 7.80e+00, lr: 4.02e-04, epoch: 2.21e-01, step: 4.86e+03\n",
      "2024-05-28 23:04:41 (INFO): energy_forces_within_threshold: 0.00e+00, energy_mae: 1.82e+00, forcesx_mae: 5.25e-02, forcesy_mae: 6.88e-02, forcesz_mae: 7.91e-02, forces_mae: 6.68e-02, forces_cosine_similarity: 2.41e-02, forces_magnitude_error: 1.35e-01, loss: 5.59e+00, lr: 4.02e-04, epoch: 2.21e-01, step: 4.87e+03\n",
      "2024-05-28 23:04:42 (INFO): energy_forces_within_threshold: 0.00e+00, energy_mae: 1.58e+00, forcesx_mae: 5.69e-02, forcesy_mae: 7.25e-02, forcesz_mae: 7.21e-02, forces_mae: 6.72e-02, forces_cosine_similarity: 1.24e-02, forces_magnitude_error: 1.33e-01, loss: 5.36e+00, lr: 4.02e-04, epoch: 2.22e-01, step: 4.88e+03\n",
      "2024-05-28 23:04:42 (INFO): energy_forces_within_threshold: 0.00e+00, energy_mae: 1.73e+00, forcesx_mae: 6.79e-02, forcesy_mae: 1.02e-01, forcesz_mae: 1.07e-01, forces_mae: 9.24e-02, forces_cosine_similarity: 7.76e-02, forces_magnitude_error: 1.92e-01, loss: 7.86e+00, lr: 4.02e-04, epoch: 2.22e-01, step: 4.88e+03\n",
      "2024-05-28 23:04:43 (INFO): energy_forces_within_threshold: 0.00e+00, energy_mae: 2.30e+00, forcesx_mae: 5.63e-02, forcesy_mae: 7.98e-02, forcesz_mae: 1.08e-01, forces_mae: 8.15e-02, forces_cosine_similarity: 3.16e-02, forces_magnitude_error: 1.76e-01, loss: 7.03e+00, lr: 4.02e-04, epoch: 2.22e-01, step: 4.88e+03\n",
      "2024-05-28 23:04:43 (INFO): energy_forces_within_threshold: 0.00e+00, energy_mae: 1.78e+00, forcesx_mae: 5.91e-02, forcesy_mae: 8.93e-02, forcesz_mae: 1.03e-01, forces_mae: 8.38e-02, forces_cosine_similarity: 6.48e-02, forces_magnitude_error: 1.71e-01, loss: 6.93e+00, lr: 4.02e-04, epoch: 2.22e-01, step: 4.89e+03\n",
      "2024-05-28 23:04:44 (INFO): energy_forces_within_threshold: 0.00e+00, energy_mae: 1.25e+00, forcesx_mae: 6.21e-02, forcesy_mae: 8.39e-02, forcesz_mae: 8.01e-02, forces_mae: 7.54e-02, forces_cosine_similarity: 6.90e-02, forces_magnitude_error: 1.51e-01, loss: 5.98e+00, lr: 4.02e-04, epoch: 2.22e-01, step: 4.90e+03\n",
      "2024-05-28 23:04:44 (INFO): energy_forces_within_threshold: 0.00e+00, energy_mae: 2.19e+00, forcesx_mae: 3.91e-02, forcesy_mae: 5.53e-02, forcesz_mae: 7.00e-02, forces_mae: 5.48e-02, forces_cosine_similarity: 1.61e-02, forces_magnitude_error: 1.09e-01, loss: 4.87e+00, lr: 4.02e-04, epoch: 2.23e-01, step: 4.90e+03\n",
      "2024-05-28 23:04:44 (INFO): energy_forces_within_threshold: 0.00e+00, energy_mae: 2.01e+00, forcesx_mae: 8.34e-02, forcesy_mae: 7.96e-02, forcesz_mae: 1.10e-01, forces_mae: 9.09e-02, forces_cosine_similarity: 4.46e-02, forces_magnitude_error: 1.80e-01, loss: 7.23e+00, lr: 4.02e-04, epoch: 2.23e-01, step: 4.90e+03\n",
      "2024-05-28 23:04:45 (INFO): energy_forces_within_threshold: 0.00e+00, energy_mae: 2.56e+00, forcesx_mae: 1.06e-01, forcesy_mae: 1.04e-01, forcesz_mae: 1.28e-01, forces_mae: 1.13e-01, forces_cosine_similarity: 5.88e-02, forces_magnitude_error: 2.46e-01, loss: 1.02e+01, lr: 4.02e-04, epoch: 2.23e-01, step: 4.91e+03\n",
      "2024-05-28 23:04:45 (INFO): energy_forces_within_threshold: 0.00e+00, energy_mae: 1.60e+00, forcesx_mae: 5.90e-02, forcesy_mae: 6.80e-02, forcesz_mae: 8.41e-02, forces_mae: 7.04e-02, forces_cosine_similarity: 6.66e-02, forces_magnitude_error: 1.45e-01, loss: 5.66e+00, lr: 4.02e-04, epoch: 2.23e-01, step: 4.92e+03\n",
      "2024-05-28 23:04:46 (INFO): energy_forces_within_threshold: 0.00e+00, energy_mae: 1.73e+00, forcesx_mae: 8.69e-02, forcesy_mae: 8.22e-02, forcesz_mae: 9.14e-02, forces_mae: 8.68e-02, forces_cosine_similarity: 1.71e-02, forces_magnitude_error: 1.74e-01, loss: 6.75e+00, lr: 4.02e-04, epoch: 2.24e-01, step: 4.92e+03\n",
      "2024-05-28 23:04:46 (INFO): energy_forces_within_threshold: 0.00e+00, energy_mae: 1.85e+00, forcesx_mae: 7.02e-02, forcesy_mae: 8.29e-02, forcesz_mae: 1.03e-01, forces_mae: 8.55e-02, forces_cosine_similarity: 5.17e-02, forces_magnitude_error: 1.77e-01, loss: 7.09e+00, lr: 4.02e-04, epoch: 2.24e-01, step: 4.92e+03\n",
      "2024-05-28 23:04:47 (INFO): energy_forces_within_threshold: 0.00e+00, energy_mae: 2.08e+00, forcesx_mae: 6.39e-02, forcesy_mae: 8.15e-02, forcesz_mae: 8.21e-02, forces_mae: 7.58e-02, forces_cosine_similarity: 2.89e-02, forces_magnitude_error: 1.55e-01, loss: 6.30e+00, lr: 4.02e-04, epoch: 2.24e-01, step: 4.93e+03\n",
      "2024-05-28 23:04:47 (INFO): energy_forces_within_threshold: 0.00e+00, energy_mae: 1.82e+00, forcesx_mae: 5.79e-02, forcesy_mae: 6.76e-02, forcesz_mae: 6.40e-02, forces_mae: 6.32e-02, forces_cosine_similarity: 1.36e-02, forces_magnitude_error: 1.27e-01, loss: 5.20e+00, lr: 4.02e-04, epoch: 2.24e-01, step: 4.94e+03\n",
      "2024-05-28 23:04:48 (INFO): energy_forces_within_threshold: 0.00e+00, energy_mae: 2.18e+00, forcesx_mae: 7.42e-02, forcesy_mae: 9.72e-02, forcesz_mae: 8.41e-02, forces_mae: 8.52e-02, forces_cosine_similarity: 1.15e-02, forces_magnitude_error: 1.71e-01, loss: 6.88e+00, lr: 4.02e-04, epoch: 2.25e-01, step: 4.94e+03\n",
      "2024-05-28 23:04:48 (INFO): energy_forces_within_threshold: 0.00e+00, energy_mae: 1.70e+00, forcesx_mae: 5.26e-02, forcesy_mae: 6.36e-02, forcesz_mae: 6.53e-02, forces_mae: 6.05e-02, forces_cosine_similarity: 3.82e-02, forces_magnitude_error: 1.24e-01, loss: 5.05e+00, lr: 4.02e-04, epoch: 2.25e-01, step: 4.94e+03\n",
      "2024-05-28 23:04:49 (INFO): energy_forces_within_threshold: 0.00e+00, energy_mae: 2.20e+00, forcesx_mae: 5.17e-02, forcesy_mae: 6.78e-02, forcesz_mae: 6.47e-02, forces_mae: 6.14e-02, forces_cosine_similarity: 8.04e-03, forces_magnitude_error: 1.24e-01, loss: 5.10e+00, lr: 4.02e-04, epoch: 2.25e-01, step: 4.95e+03\n",
      "2024-05-28 23:04:49 (INFO): energy_forces_within_threshold: 0.00e+00, energy_mae: 1.84e+00, forcesx_mae: 7.15e-02, forcesy_mae: 7.95e-02, forcesz_mae: 8.68e-02, forces_mae: 7.93e-02, forces_cosine_similarity: 1.44e-02, forces_magnitude_error: 1.59e-01, loss: 6.31e+00, lr: 4.02e-04, epoch: 2.25e-01, step: 4.96e+03\n",
      "2024-05-28 23:04:50 (INFO): energy_forces_within_threshold: 0.00e+00, energy_mae: 1.92e+00, forcesx_mae: 4.71e-02, forcesy_mae: 5.99e-02, forcesz_mae: 6.72e-02, forces_mae: 5.80e-02, forces_cosine_similarity: 9.18e-03, forces_magnitude_error: 1.18e-01, loss: 4.84e+00, lr: 4.02e-04, epoch: 2.25e-01, step: 4.96e+03\n",
      "2024-05-28 23:04:50 (INFO): energy_forces_within_threshold: 0.00e+00, energy_mae: 2.66e+00, forcesx_mae: 7.36e-02, forcesy_mae: 9.90e-02, forcesz_mae: 1.45e-01, forces_mae: 1.06e-01, forces_cosine_similarity: 4.05e-02, forces_magnitude_error: 2.23e-01, loss: 8.81e+00, lr: 4.02e-04, epoch: 2.26e-01, step: 4.96e+03\n",
      "2024-05-28 23:04:51 (INFO): energy_forces_within_threshold: 0.00e+00, energy_mae: 1.49e+00, forcesx_mae: 4.46e-02, forcesy_mae: 5.17e-02, forcesz_mae: 5.46e-02, forces_mae: 5.03e-02, forces_cosine_similarity: 3.03e-02, forces_magnitude_error: 1.01e-01, loss: 4.11e+00, lr: 4.02e-04, epoch: 2.26e-01, step: 4.97e+03\n",
      "2024-05-28 23:04:51 (INFO): energy_forces_within_threshold: 0.00e+00, energy_mae: 1.76e+00, forcesx_mae: 4.30e-02, forcesy_mae: 5.58e-02, forcesz_mae: 6.60e-02, forces_mae: 5.49e-02, forces_cosine_similarity: 4.95e-02, forces_magnitude_error: 1.13e-01, loss: 4.70e+00, lr: 4.02e-04, epoch: 2.26e-01, step: 4.98e+03\n",
      "2024-05-28 23:04:52 (INFO): energy_forces_within_threshold: 0.00e+00, energy_mae: 1.53e+00, forcesx_mae: 7.05e-02, forcesy_mae: 9.94e-02, forcesz_mae: 8.65e-02, forces_mae: 8.55e-02, forces_cosine_similarity: 3.28e-02, forces_magnitude_error: 1.74e-01, loss: 6.65e+00, lr: 4.02e-04, epoch: 2.26e-01, step: 4.98e+03\n",
      "2024-05-28 23:04:52 (INFO): energy_forces_within_threshold: 0.00e+00, energy_mae: 2.24e+00, forcesx_mae: 8.33e-02, forcesy_mae: 9.57e-02, forcesz_mae: 1.09e-01, forces_mae: 9.59e-02, forces_cosine_similarity: -2.24e-03, forces_magnitude_error: 1.95e-01, loss: 7.92e+00, lr: 4.02e-04, epoch: 2.27e-01, step: 4.98e+03\n",
      "2024-05-28 23:04:53 (INFO): energy_forces_within_threshold: 0.00e+00, energy_mae: 2.30e+00, forcesx_mae: 8.00e-02, forcesy_mae: 9.12e-02, forcesz_mae: 1.00e-01, forces_mae: 9.04e-02, forces_cosine_similarity: 2.58e-02, forces_magnitude_error: 1.81e-01, loss: 7.24e+00, lr: 4.02e-04, epoch: 2.27e-01, step: 4.99e+03\n",
      "2024-05-28 23:04:53 (INFO): energy_forces_within_threshold: 0.00e+00, energy_mae: 1.96e+00, forcesx_mae: 5.82e-02, forcesy_mae: 8.15e-02, forcesz_mae: 9.41e-02, forces_mae: 7.80e-02, forces_cosine_similarity: 3.24e-02, forces_magnitude_error: 1.60e-01, loss: 6.35e+00, lr: 4.02e-04, epoch: 2.27e-01, step: 5.00e+03\n",
      "2024-05-28 23:04:54 (INFO): energy_forces_within_threshold: 0.00e+00, energy_mae: 1.30e+00, forcesx_mae: 6.44e-02, forcesy_mae: 7.47e-02, forcesz_mae: 8.14e-02, forces_mae: 7.35e-02, forces_cosine_similarity: 7.05e-02, forces_magnitude_error: 1.50e-01, loss: 5.90e+00, lr: 4.02e-04, epoch: 2.27e-01, step: 5.00e+03\n",
      "2024-05-28 23:04:54 (INFO): energy_forces_within_threshold: 0.00e+00, energy_mae: 2.43e+00, forcesx_mae: 8.95e-02, forcesy_mae: 1.02e-01, forcesz_mae: 9.33e-02, forces_mae: 9.49e-02, forces_cosine_similarity: 1.40e-02, forces_magnitude_error: 1.94e-01, loss: 8.29e+00, lr: 4.02e-04, epoch: 2.27e-01, step: 5.00e+03\n",
      "2024-05-28 23:04:55 (INFO): energy_forces_within_threshold: 0.00e+00, energy_mae: 1.96e+00, forcesx_mae: 6.53e-02, forcesy_mae: 8.29e-02, forcesz_mae: 9.04e-02, forces_mae: 7.95e-02, forces_cosine_similarity: 6.60e-02, forces_magnitude_error: 1.59e-01, loss: 6.47e+00, lr: 4.02e-04, epoch: 2.28e-01, step: 5.01e+03\n",
      "2024-05-28 23:04:55 (INFO): energy_forces_within_threshold: 0.00e+00, energy_mae: 2.03e+00, forcesx_mae: 7.83e-02, forcesy_mae: 7.03e-02, forcesz_mae: 7.98e-02, forces_mae: 7.61e-02, forces_cosine_similarity: 2.66e-02, forces_magnitude_error: 1.52e-01, loss: 6.01e+00, lr: 4.02e-04, epoch: 2.28e-01, step: 5.02e+03\n",
      "2024-05-28 23:04:56 (INFO): energy_forces_within_threshold: 0.00e+00, energy_mae: 2.61e+00, forcesx_mae: 1.04e-01, forcesy_mae: 1.39e-01, forcesz_mae: 1.33e-01, forces_mae: 1.25e-01, forces_cosine_similarity: -2.57e-02, forces_magnitude_error: 2.54e-01, loss: 1.01e+01, lr: 4.02e-04, epoch: 2.28e-01, step: 5.02e+03\n",
      "2024-05-28 23:04:56 (INFO): energy_forces_within_threshold: 0.00e+00, energy_mae: 1.82e+00, forcesx_mae: 9.53e-02, forcesy_mae: 1.39e-01, forcesz_mae: 1.18e-01, forces_mae: 1.18e-01, forces_cosine_similarity: 5.22e-02, forces_magnitude_error: 2.42e-01, loss: 8.99e+00, lr: 4.02e-04, epoch: 2.28e-01, step: 5.02e+03\n",
      "2024-05-28 23:04:57 (INFO): energy_forces_within_threshold: 0.00e+00, energy_mae: 1.60e+00, forcesx_mae: 4.85e-02, forcesy_mae: 5.01e-02, forcesz_mae: 5.38e-02, forces_mae: 5.08e-02, forces_cosine_similarity: 4.80e-02, forces_magnitude_error: 1.01e-01, loss: 4.27e+00, lr: 4.02e-04, epoch: 2.29e-01, step: 5.03e+03\n",
      "2024-05-28 23:04:58 (INFO): energy_forces_within_threshold: 0.00e+00, energy_mae: 2.24e+00, forcesx_mae: 6.17e-02, forcesy_mae: 8.13e-02, forcesz_mae: 8.62e-02, forces_mae: 7.64e-02, forces_cosine_similarity: -3.36e-02, forces_magnitude_error: 1.56e-01, loss: 6.49e+00, lr: 4.02e-04, epoch: 2.29e-01, step: 5.04e+03\n",
      "2024-05-28 23:04:58 (INFO): energy_forces_within_threshold: 0.00e+00, energy_mae: 2.36e+00, forcesx_mae: 4.62e-02, forcesy_mae: 5.19e-02, forcesz_mae: 4.78e-02, forces_mae: 4.86e-02, forces_cosine_similarity: -4.09e-03, forces_magnitude_error: 9.56e-02, loss: 4.37e+00, lr: 4.02e-04, epoch: 2.29e-01, step: 5.04e+03\n",
      "2024-05-28 23:04:58 (INFO): energy_forces_within_threshold: 0.00e+00, energy_mae: 1.99e+00, forcesx_mae: 5.03e-02, forcesy_mae: 5.63e-02, forcesz_mae: 4.99e-02, forces_mae: 5.21e-02, forces_cosine_similarity: 6.40e-02, forces_magnitude_error: 1.04e-01, loss: 4.48e+00, lr: 4.02e-04, epoch: 2.29e-01, step: 5.04e+03\n",
      "2024-05-28 23:04:59 (INFO): energy_forces_within_threshold: 0.00e+00, energy_mae: 2.31e+00, forcesx_mae: 8.30e-02, forcesy_mae: 1.40e-01, forcesz_mae: 1.64e-01, forces_mae: 1.29e-01, forces_cosine_similarity: 2.10e-02, forces_magnitude_error: 2.70e-01, loss: 1.05e+01, lr: 4.02e-04, epoch: 2.30e-01, step: 5.05e+03\n",
      "2024-05-28 23:04:59 (INFO): energy_forces_within_threshold: 0.00e+00, energy_mae: 1.83e+00, forcesx_mae: 6.03e-02, forcesy_mae: 8.25e-02, forcesz_mae: 9.22e-02, forces_mae: 7.83e-02, forces_cosine_similarity: 5.10e-02, forces_magnitude_error: 1.61e-01, loss: 6.31e+00, lr: 4.02e-04, epoch: 2.30e-01, step: 5.06e+03\n",
      "2024-05-28 23:05:00 (INFO): energy_forces_within_threshold: 0.00e+00, energy_mae: 1.80e+00, forcesx_mae: 5.02e-02, forcesy_mae: 5.44e-02, forcesz_mae: 6.93e-02, forces_mae: 5.80e-02, forces_cosine_similarity: 2.60e-02, forces_magnitude_error: 1.13e-01, loss: 4.83e+00, lr: 4.02e-04, epoch: 2.30e-01, step: 5.06e+03\n",
      "2024-05-28 23:05:00 (INFO): energy_forces_within_threshold: 0.00e+00, energy_mae: 2.07e+00, forcesx_mae: 7.11e-02, forcesy_mae: 7.97e-02, forcesz_mae: 9.37e-02, forces_mae: 8.15e-02, forces_cosine_similarity: 2.49e-02, forces_magnitude_error: 1.63e-01, loss: 6.60e+00, lr: 4.02e-04, epoch: 2.30e-01, step: 5.06e+03\n",
      "2024-05-28 23:05:01 (INFO): energy_forces_within_threshold: 0.00e+00, energy_mae: 1.76e+00, forcesx_mae: 8.07e-02, forcesy_mae: 8.72e-02, forcesz_mae: 8.05e-02, forces_mae: 8.28e-02, forces_cosine_similarity: -8.82e-03, forces_magnitude_error: 1.65e-01, loss: 6.46e+00, lr: 4.02e-04, epoch: 2.30e-01, step: 5.07e+03\n",
      "2024-05-28 23:05:01 (INFO): energy_forces_within_threshold: 0.00e+00, energy_mae: 1.93e+00, forcesx_mae: 1.09e+00, forcesy_mae: 1.44e+00, forcesz_mae: 2.43e+00, forces_mae: 1.65e+00, forces_cosine_similarity: 8.08e-02, forces_magnitude_error: 3.65e+00, loss: 1.29e+02, lr: 4.02e-04, epoch: 2.31e-01, step: 5.08e+03\n",
      "2024-05-28 23:05:02 (INFO): energy_forces_within_threshold: 0.00e+00, energy_mae: 1.32e+00, forcesx_mae: 5.65e-02, forcesy_mae: 7.39e-02, forcesz_mae: 1.05e-01, forces_mae: 7.83e-02, forces_cosine_similarity: 2.03e-02, forces_magnitude_error: 1.61e-01, loss: 6.27e+00, lr: 4.02e-04, epoch: 2.31e-01, step: 5.08e+03\n",
      "2024-05-28 23:05:02 (INFO): energy_forces_within_threshold: 0.00e+00, energy_mae: 2.03e+00, forcesx_mae: 5.85e-02, forcesy_mae: 7.01e-02, forcesz_mae: 7.98e-02, forces_mae: 6.95e-02, forces_cosine_similarity: 8.58e-02, forces_magnitude_error: 1.42e-01, loss: 5.87e+00, lr: 4.02e-04, epoch: 2.31e-01, step: 5.08e+03\n",
      "2024-05-28 23:05:03 (INFO): energy_forces_within_threshold: 0.00e+00, energy_mae: 2.05e+00, forcesx_mae: 5.89e-02, forcesy_mae: 6.71e-02, forcesz_mae: 6.59e-02, forces_mae: 6.40e-02, forces_cosine_similarity: 3.49e-02, forces_magnitude_error: 1.29e-01, loss: 5.15e+00, lr: 4.02e-04, epoch: 2.31e-01, step: 5.09e+03\n",
      "2024-05-28 23:05:03 (INFO): energy_forces_within_threshold: 0.00e+00, energy_mae: 1.89e+00, forcesx_mae: 5.21e-02, forcesy_mae: 5.51e-02, forcesz_mae: 5.44e-02, forces_mae: 5.38e-02, forces_cosine_similarity: 2.27e-02, forces_magnitude_error: 1.08e-01, loss: 4.51e+00, lr: 4.02e-04, epoch: 2.32e-01, step: 5.10e+03\n",
      "2024-05-28 23:05:04 (INFO): energy_forces_within_threshold: 0.00e+00, energy_mae: 1.63e+00, forcesx_mae: 6.18e-02, forcesy_mae: 9.26e-02, forcesz_mae: 9.65e-02, forces_mae: 8.36e-02, forces_cosine_similarity: 5.29e-02, forces_magnitude_error: 1.74e-01, loss: 6.81e+00, lr: 4.02e-04, epoch: 2.32e-01, step: 5.10e+03\n",
      "2024-05-28 23:05:04 (INFO): energy_forces_within_threshold: 0.00e+00, energy_mae: 1.93e+00, forcesx_mae: 4.37e-02, forcesy_mae: 5.70e-02, forcesz_mae: 5.56e-02, forces_mae: 5.21e-02, forces_cosine_similarity: 4.14e-02, forces_magnitude_error: 1.05e-01, loss: 4.45e+00, lr: 4.02e-04, epoch: 2.32e-01, step: 5.10e+03\n",
      "2024-05-28 23:05:05 (INFO): energy_forces_within_threshold: 0.00e+00, energy_mae: 1.60e+00, forcesx_mae: 8.13e-02, forcesy_mae: 9.57e-02, forcesz_mae: 1.20e-01, forces_mae: 9.92e-02, forces_cosine_similarity: 6.48e-02, forces_magnitude_error: 2.05e-01, loss: 7.70e+00, lr: 4.02e-04, epoch: 2.32e-01, step: 5.11e+03\n",
      "2024-05-28 23:05:05 (INFO): energy_forces_within_threshold: 0.00e+00, energy_mae: 1.80e+00, forcesx_mae: 8.00e-02, forcesy_mae: 1.18e-01, forcesz_mae: 1.25e-01, forces_mae: 1.08e-01, forces_cosine_similarity: 4.28e-02, forces_magnitude_error: 2.19e-01, loss: 8.28e+00, lr: 4.02e-04, epoch: 2.32e-01, step: 5.12e+03\n",
      "2024-05-28 23:05:06 (INFO): energy_forces_within_threshold: 0.00e+00, energy_mae: 1.71e+00, forcesx_mae: 8.55e-02, forcesy_mae: 8.80e-02, forcesz_mae: 1.07e-01, forces_mae: 9.34e-02, forces_cosine_similarity: 4.73e-02, forces_magnitude_error: 1.91e-01, loss: 7.26e+00, lr: 4.02e-04, epoch: 2.33e-01, step: 5.12e+03\n",
      "2024-05-28 23:05:06 (INFO): energy_forces_within_threshold: 0.00e+00, energy_mae: 2.80e+00, forcesx_mae: 9.98e-02, forcesy_mae: 1.10e-01, forcesz_mae: 1.30e-01, forces_mae: 1.13e-01, forces_cosine_similarity: 3.99e-02, forces_magnitude_error: 2.28e-01, loss: 8.98e+00, lr: 4.02e-04, epoch: 2.33e-01, step: 5.12e+03\n",
      "2024-05-28 23:05:07 (INFO): energy_forces_within_threshold: 0.00e+00, energy_mae: 2.18e+00, forcesx_mae: 7.12e-02, forcesy_mae: 8.44e-02, forcesz_mae: 9.01e-02, forces_mae: 8.19e-02, forces_cosine_similarity: 7.71e-02, forces_magnitude_error: 1.66e-01, loss: 6.81e+00, lr: 4.02e-04, epoch: 2.33e-01, step: 5.13e+03\n",
      "2024-05-28 23:05:07 (INFO): energy_forces_within_threshold: 0.00e+00, energy_mae: 2.47e+00, forcesx_mae: 6.79e-02, forcesy_mae: 8.11e-02, forcesz_mae: 8.78e-02, forces_mae: 7.89e-02, forces_cosine_similarity: 4.38e-02, forces_magnitude_error: 1.59e-01, loss: 6.60e+00, lr: 4.02e-04, epoch: 2.33e-01, step: 5.14e+03\n",
      "2024-05-28 23:05:08 (INFO): energy_forces_within_threshold: 0.00e+00, energy_mae: 1.76e+00, forcesx_mae: 4.96e-02, forcesy_mae: 5.08e-02, forcesz_mae: 5.43e-02, forces_mae: 5.16e-02, forces_cosine_similarity: 6.52e-02, forces_magnitude_error: 1.00e-01, loss: 4.25e+00, lr: 4.02e-04, epoch: 2.34e-01, step: 5.14e+03\n",
      "2024-05-28 23:05:08 (INFO): energy_forces_within_threshold: 0.00e+00, energy_mae: 1.95e+00, forcesx_mae: 6.94e-02, forcesy_mae: 8.20e-02, forcesz_mae: 1.31e-01, forces_mae: 9.42e-02, forces_cosine_similarity: 4.06e-02, forces_magnitude_error: 2.02e-01, loss: 8.18e+00, lr: 4.02e-04, epoch: 2.34e-01, step: 5.14e+03\n",
      "2024-05-28 23:05:09 (INFO): energy_forces_within_threshold: 0.00e+00, energy_mae: 2.11e+00, forcesx_mae: 6.63e-02, forcesy_mae: 6.78e-02, forcesz_mae: 8.71e-02, forces_mae: 7.37e-02, forces_cosine_similarity: 6.93e-02, forces_magnitude_error: 1.48e-01, loss: 6.00e+00, lr: 4.02e-04, epoch: 2.34e-01, step: 5.15e+03\n",
      "2024-05-28 23:05:09 (INFO): energy_forces_within_threshold: 0.00e+00, energy_mae: 2.27e+00, forcesx_mae: 5.98e-02, forcesy_mae: 1.05e-01, forcesz_mae: 1.26e-01, forces_mae: 9.69e-02, forces_cosine_similarity: 7.40e-02, forces_magnitude_error: 2.06e-01, loss: 8.64e+00, lr: 4.02e-04, epoch: 2.34e-01, step: 5.16e+03\n",
      "2024-05-28 23:05:10 (INFO): energy_forces_within_threshold: 0.00e+00, energy_mae: 2.28e+00, forcesx_mae: 5.36e-02, forcesy_mae: 6.88e-02, forcesz_mae: 9.05e-02, forces_mae: 7.10e-02, forces_cosine_similarity: 4.58e-02, forces_magnitude_error: 1.42e-01, loss: 5.91e+00, lr: 4.02e-04, epoch: 2.35e-01, step: 5.16e+03\n",
      "2024-05-28 23:05:10 (INFO): energy_forces_within_threshold: 0.00e+00, energy_mae: 1.71e+00, forcesx_mae: 5.06e-02, forcesy_mae: 6.40e-02, forcesz_mae: 6.59e-02, forces_mae: 6.02e-02, forces_cosine_similarity: -5.75e-04, forces_magnitude_error: 1.18e-01, loss: 4.94e+00, lr: 4.02e-04, epoch: 2.35e-01, step: 5.16e+03\n",
      "2024-05-28 23:05:11 (INFO): energy_forces_within_threshold: 0.00e+00, energy_mae: 2.48e+00, forcesx_mae: 5.87e-02, forcesy_mae: 6.23e-02, forcesz_mae: 6.37e-02, forces_mae: 6.15e-02, forces_cosine_similarity: 4.07e-02, forces_magnitude_error: 1.22e-01, loss: 5.25e+00, lr: 4.02e-04, epoch: 2.35e-01, step: 5.17e+03\n",
      "2024-05-28 23:05:11 (INFO): energy_forces_within_threshold: 0.00e+00, energy_mae: 1.94e+00, forcesx_mae: 5.06e-02, forcesy_mae: 5.62e-02, forcesz_mae: 6.17e-02, forces_mae: 5.62e-02, forces_cosine_similarity: 6.91e-02, forces_magnitude_error: 1.12e-01, loss: 4.74e+00, lr: 4.02e-04, epoch: 2.35e-01, step: 5.18e+03\n",
      "2024-05-28 23:05:12 (INFO): energy_forces_within_threshold: 0.00e+00, energy_mae: 2.13e+00, forcesx_mae: 8.58e-02, forcesy_mae: 8.96e-02, forcesz_mae: 1.20e-01, forces_mae: 9.84e-02, forces_cosine_similarity: 2.68e-02, forces_magnitude_error: 1.98e-01, loss: 7.75e+00, lr: 4.02e-04, epoch: 2.35e-01, step: 5.18e+03\n",
      "2024-05-28 23:05:12 (INFO): energy_forces_within_threshold: 0.00e+00, energy_mae: 1.85e+00, forcesx_mae: 5.91e-02, forcesy_mae: 6.13e-02, forcesz_mae: 7.21e-02, forces_mae: 6.42e-02, forces_cosine_similarity: 5.35e-02, forces_magnitude_error: 1.26e-01, loss: 5.27e+00, lr: 4.02e-04, epoch: 2.36e-01, step: 5.18e+03\n",
      "2024-05-28 23:05:13 (INFO): energy_forces_within_threshold: 0.00e+00, energy_mae: 1.71e+00, forcesx_mae: 9.73e-02, forcesy_mae: 1.07e-01, forcesz_mae: 1.40e-01, forces_mae: 1.15e-01, forces_cosine_similarity: 1.06e-01, forces_magnitude_error: 2.30e-01, loss: 8.40e+00, lr: 4.02e-04, epoch: 2.36e-01, step: 5.19e+03\n",
      "2024-05-28 23:05:13 (INFO): energy_forces_within_threshold: 0.00e+00, energy_mae: 1.53e+00, forcesx_mae: 5.81e-02, forcesy_mae: 5.57e-02, forcesz_mae: 6.53e-02, forces_mae: 5.97e-02, forces_cosine_similarity: 3.86e-02, forces_magnitude_error: 1.17e-01, loss: 4.79e+00, lr: 4.02e-04, epoch: 2.36e-01, step: 5.20e+03\n",
      "2024-05-28 23:05:14 (INFO): energy_forces_within_threshold: 0.00e+00, energy_mae: 2.42e+00, forcesx_mae: 8.07e-02, forcesy_mae: 1.14e-01, forcesz_mae: 1.18e-01, forces_mae: 1.04e-01, forces_cosine_similarity: 9.77e-02, forces_magnitude_error: 2.08e-01, loss: 8.46e+00, lr: 4.02e-04, epoch: 2.36e-01, step: 5.20e+03\n",
      "2024-05-28 23:05:14 (INFO): energy_forces_within_threshold: 0.00e+00, energy_mae: 2.13e+00, forcesx_mae: 8.89e-02, forcesy_mae: 8.33e-02, forcesz_mae: 9.97e-02, forces_mae: 9.06e-02, forces_cosine_similarity: 1.36e-02, forces_magnitude_error: 1.78e-01, loss: 7.14e+00, lr: 4.02e-04, epoch: 2.37e-01, step: 5.20e+03\n",
      "2024-05-28 23:05:15 (INFO): energy_forces_within_threshold: 0.00e+00, energy_mae: 2.41e+00, forcesx_mae: 6.02e-02, forcesy_mae: 7.13e-02, forcesz_mae: 8.20e-02, forces_mae: 7.12e-02, forces_cosine_similarity: -8.01e-03, forces_magnitude_error: 1.41e-01, loss: 5.88e+00, lr: 4.02e-04, epoch: 2.37e-01, step: 5.21e+03\n",
      "2024-05-28 23:05:15 (INFO): energy_forces_within_threshold: 0.00e+00, energy_mae: 2.20e+00, forcesx_mae: 1.02e-01, forcesy_mae: 1.32e-01, forcesz_mae: 1.47e-01, forces_mae: 1.27e-01, forces_cosine_similarity: -1.25e-02, forces_magnitude_error: 2.58e-01, loss: 9.84e+00, lr: 4.02e-04, epoch: 2.37e-01, step: 5.22e+03\n",
      "2024-05-28 23:05:16 (INFO): energy_forces_within_threshold: 0.00e+00, energy_mae: 2.51e+00, forcesx_mae: 6.30e-02, forcesy_mae: 8.78e-02, forcesz_mae: 7.88e-02, forces_mae: 7.65e-02, forces_cosine_similarity: -2.24e-03, forces_magnitude_error: 1.56e-01, loss: 6.46e+00, lr: 4.02e-04, epoch: 2.37e-01, step: 5.22e+03\n"
     ]
    },
    {
     "name": "stderr",
     "output_type": "stream",
     "text": [
      "2024-05-28 23:05:16 (WARNING): Found nans while computing loss\n"
     ]
    },
    {
     "name": "stdout",
     "output_type": "stream",
     "text": [
      "2024-05-28 23:05:16 (INFO): energy_forces_within_threshold: 0.00e+00, energy_mae: 7.93e+02, forcesx_mae: nan, forcesy_mae: nan, forcesz_mae: nan, forces_mae: nan, forces_cosine_similarity: nan, forces_magnitude_error: nan, loss: 4.00e+05, lr: 4.02e-04, epoch: 2.37e-01, step: 5.22e+03\n"
     ]
    },
    {
     "name": "stderr",
     "output_type": "stream",
     "text": [
      "2024-05-28 23:05:17 (WARNING): Found nans while computing loss\n",
      "2024-05-28 23:05:17 (WARNING): Found nans while computing loss\n"
     ]
    },
    {
     "name": "stdout",
     "output_type": "stream",
     "text": [
      "2024-05-28 23:05:17 (INFO): energy_forces_within_threshold: 0.00e+00, energy_mae: nan, forcesx_mae: nan, forcesy_mae: nan, forcesz_mae: nan, forces_mae: nan, forces_cosine_similarity: nan, forces_magnitude_error: nan, loss: 1.09e+01, lr: 4.02e-04, epoch: 2.38e-01, step: 5.23e+03\n",
      "2024-05-28 23:05:17 (INFO): energy_forces_within_threshold: 0.00e+00, energy_mae: 1.98e+00, forcesx_mae: 6.19e-02, forcesy_mae: 7.63e-02, forcesz_mae: 7.69e-02, forces_mae: 7.17e-02, forces_cosine_similarity: -1.38e-02, forces_magnitude_error: 1.43e-01, loss: 5.92e+00, lr: 4.02e-04, epoch: 2.38e-01, step: 5.24e+03\n",
      "2024-05-28 23:05:18 (INFO): energy_forces_within_threshold: 0.00e+00, energy_mae: 1.85e+00, forcesx_mae: 4.89e-02, forcesy_mae: 6.53e-02, forcesz_mae: 6.62e-02, forces_mae: 6.01e-02, forces_cosine_similarity: 3.71e-03, forces_magnitude_error: 1.21e-01, loss: 5.18e+00, lr: 4.02e-04, epoch: 2.38e-01, step: 5.24e+03\n"
     ]
    },
    {
     "name": "stderr",
     "output_type": "stream",
     "text": [
      "2024-05-28 23:05:18 (WARNING): Found nans while computing loss\n",
      "2024-05-28 23:05:18 (WARNING): Found nans while computing loss\n"
     ]
    },
    {
     "name": "stdout",
     "output_type": "stream",
     "text": [
      "2024-05-28 23:05:18 (INFO): energy_forces_within_threshold: 0.00e+00, energy_mae: nan, forcesx_mae: nan, forcesy_mae: nan, forcesz_mae: nan, forces_mae: nan, forces_cosine_similarity: nan, forces_magnitude_error: nan, loss: 8.18e+04, lr: 4.02e-04, epoch: 2.38e-01, step: 5.24e+03\n"
     ]
    },
    {
     "name": "stderr",
     "output_type": "stream",
     "text": [
      "2024-05-28 23:05:18 (WARNING): Found nans while computing loss\n",
      "2024-05-28 23:05:18 (WARNING): Found nans while computing loss\n"
     ]
    },
    {
     "name": "stdout",
     "output_type": "stream",
     "text": [
      "2024-05-28 23:05:19 (INFO): energy_forces_within_threshold: 0.00e+00, energy_mae: nan, forcesx_mae: nan, forcesy_mae: nan, forcesz_mae: nan, forces_mae: nan, forces_cosine_similarity: nan, forces_magnitude_error: nan, loss: 1.96e+05, lr: 4.02e-04, epoch: 2.39e-01, step: 5.25e+03\n",
      "2024-05-28 23:05:19 (INFO): energy_forces_within_threshold: 0.00e+00, energy_mae: 2.10e+00, forcesx_mae: 7.08e-02, forcesy_mae: 8.61e-02, forcesz_mae: 1.04e-01, forces_mae: 8.71e-02, forces_cosine_similarity: 9.11e-03, forces_magnitude_error: 1.80e-01, loss: 7.41e+00, lr: 4.02e-04, epoch: 2.39e-01, step: 5.26e+03\n",
      "2024-05-28 23:05:20 (INFO): energy_forces_within_threshold: 0.00e+00, energy_mae: 2.01e+00, forcesx_mae: 7.50e-02, forcesy_mae: 9.68e-02, forcesz_mae: 1.05e-01, forces_mae: 9.22e-02, forces_cosine_similarity: -3.49e-02, forces_magnitude_error: 1.93e-01, loss: 7.35e+00, lr: 4.02e-04, epoch: 2.39e-01, step: 5.26e+03\n",
      "2024-05-28 23:05:20 (INFO): energy_forces_within_threshold: 0.00e+00, energy_mae: 2.22e+00, forcesx_mae: 6.98e-02, forcesy_mae: 9.81e-02, forcesz_mae: 9.30e-02, forces_mae: 8.70e-02, forces_cosine_similarity: 1.67e-03, forces_magnitude_error: 1.78e-01, loss: 7.09e+00, lr: 4.02e-04, epoch: 2.39e-01, step: 5.26e+03\n",
      "2024-05-28 23:05:21 (INFO): energy_forces_within_threshold: 0.00e+00, energy_mae: 1.96e+00, forcesx_mae: 5.91e-02, forcesy_mae: 7.11e-02, forcesz_mae: 1.03e-01, forces_mae: 7.78e-02, forces_cosine_similarity: -3.44e-02, forces_magnitude_error: 1.63e-01, loss: 6.22e+00, lr: 4.02e-04, epoch: 2.40e-01, step: 5.27e+03\n",
      "2024-05-28 23:05:21 (INFO): energy_forces_within_threshold: 0.00e+00, energy_mae: 1.95e+00, forcesx_mae: 4.64e-02, forcesy_mae: 5.22e-02, forcesz_mae: 4.93e-02, forces_mae: 4.93e-02, forces_cosine_similarity: 9.07e-03, forces_magnitude_error: 9.88e-02, loss: 4.15e+00, lr: 4.02e-04, epoch: 2.40e-01, step: 5.28e+03\n",
      "2024-05-28 23:05:22 (INFO): energy_forces_within_threshold: 0.00e+00, energy_mae: 1.75e+00, forcesx_mae: 4.48e-02, forcesy_mae: 5.97e-02, forcesz_mae: 5.62e-02, forces_mae: 5.36e-02, forces_cosine_similarity: 6.86e-02, forces_magnitude_error: 1.08e-01, loss: 4.38e+00, lr: 4.02e-04, epoch: 2.40e-01, step: 5.28e+03\n",
      "2024-05-28 23:05:22 (INFO): energy_forces_within_threshold: 0.00e+00, energy_mae: 2.08e+00, forcesx_mae: 5.00e-02, forcesy_mae: 5.39e-02, forcesz_mae: 5.51e-02, forces_mae: 5.30e-02, forces_cosine_similarity: -3.80e-03, forces_magnitude_error: 1.08e-01, loss: 4.54e+00, lr: 4.02e-04, epoch: 2.40e-01, step: 5.28e+03\n",
      "2024-05-28 23:05:23 (INFO): energy_forces_within_threshold: 0.00e+00, energy_mae: 2.25e+00, forcesx_mae: 5.58e-02, forcesy_mae: 6.17e-02, forcesz_mae: 7.60e-02, forces_mae: 6.45e-02, forces_cosine_similarity: 6.94e-03, forces_magnitude_error: 1.30e-01, loss: 5.67e+00, lr: 4.02e-04, epoch: 2.40e-01, step: 5.29e+03\n",
      "2024-05-28 23:05:23 (INFO): energy_forces_within_threshold: 0.00e+00, energy_mae: 2.07e+00, forcesx_mae: 6.45e-02, forcesy_mae: 9.52e-02, forcesz_mae: 1.23e-01, forces_mae: 9.42e-02, forces_cosine_similarity: 6.56e-02, forces_magnitude_error: 2.00e-01, loss: 7.93e+00, lr: 4.02e-04, epoch: 2.41e-01, step: 5.30e+03\n",
      "2024-05-28 23:05:24 (INFO): energy_forces_within_threshold: 0.00e+00, energy_mae: 2.50e+00, forcesx_mae: 9.78e-02, forcesy_mae: 1.55e-01, forcesz_mae: 1.26e-01, forces_mae: 1.26e-01, forces_cosine_similarity: 1.08e-02, forces_magnitude_error: 2.54e-01, loss: 1.04e+01, lr: 4.02e-04, epoch: 2.41e-01, step: 5.30e+03\n",
      "2024-05-28 23:05:24 (INFO): energy_forces_within_threshold: 0.00e+00, energy_mae: 1.88e+00, forcesx_mae: 6.91e-02, forcesy_mae: 7.45e-02, forcesz_mae: 7.65e-02, forces_mae: 7.33e-02, forces_cosine_similarity: -9.35e-03, forces_magnitude_error: 1.48e-01, loss: 5.78e+00, lr: 4.02e-04, epoch: 2.41e-01, step: 5.30e+03\n",
      "2024-05-28 23:05:25 (INFO): energy_forces_within_threshold: 0.00e+00, energy_mae: 1.54e+00, forcesx_mae: 4.43e-02, forcesy_mae: 5.30e-02, forcesz_mae: 4.57e-02, forces_mae: 4.77e-02, forces_cosine_similarity: 3.61e-03, forces_magnitude_error: 9.76e-02, loss: 3.96e+00, lr: 4.02e-04, epoch: 2.41e-01, step: 5.31e+03\n",
      "2024-05-28 23:05:25 (INFO): energy_forces_within_threshold: 0.00e+00, energy_mae: 1.81e+00, forcesx_mae: 5.80e-02, forcesy_mae: 7.19e-02, forcesz_mae: 6.58e-02, forces_mae: 6.52e-02, forces_cosine_similarity: 4.64e-02, forces_magnitude_error: 1.33e-01, loss: 5.33e+00, lr: 4.02e-04, epoch: 2.42e-01, step: 5.32e+03\n",
      "2024-05-28 23:05:26 (INFO): energy_forces_within_threshold: 0.00e+00, energy_mae: 2.25e+00, forcesx_mae: 6.92e-02, forcesy_mae: 8.28e-02, forcesz_mae: 8.65e-02, forces_mae: 7.95e-02, forces_cosine_similarity: 3.72e-02, forces_magnitude_error: 1.62e-01, loss: 6.41e+00, lr: 4.02e-04, epoch: 2.42e-01, step: 5.32e+03\n",
      "2024-05-28 23:05:26 (INFO): energy_forces_within_threshold: 0.00e+00, energy_mae: 2.09e+00, forcesx_mae: 1.27e-01, forcesy_mae: 9.45e-02, forcesz_mae: 1.39e-01, forces_mae: 1.20e-01, forces_cosine_similarity: 5.12e-04, forces_magnitude_error: 2.38e-01, loss: 9.80e+00, lr: 4.02e-04, epoch: 2.42e-01, step: 5.32e+03\n"
     ]
    },
    {
     "name": "stderr",
     "output_type": "stream",
     "text": [
      "2024-05-28 23:05:27 (WARNING): Found nans while computing loss\n"
     ]
    },
    {
     "name": "stdout",
     "output_type": "stream",
     "text": [
      "2024-05-28 23:05:27 (INFO): energy_forces_within_threshold: 0.00e+00, energy_mae: 2.40e+01, forcesx_mae: nan, forcesy_mae: nan, forcesz_mae: nan, forces_mae: nan, forces_cosine_similarity: nan, forces_magnitude_error: nan, loss: 3.63e+04, lr: 4.02e-04, epoch: 2.42e-01, step: 5.33e+03\n",
      "2024-05-28 23:05:27 (INFO): energy_forces_within_threshold: 0.00e+00, energy_mae: 6.84e+00, forcesx_mae: 7.99e-02, forcesy_mae: 9.59e-02, forcesz_mae: 1.14e-01, forces_mae: 9.66e-02, forces_cosine_similarity: 5.51e-02, forces_magnitude_error: 1.97e-01, loss: 1.19e+01, lr: 4.02e-04, epoch: 2.42e-01, step: 5.34e+03\n",
      "2024-05-28 23:05:28 (INFO): energy_forces_within_threshold: 0.00e+00, energy_mae: 2.53e+00, forcesx_mae: 8.84e-02, forcesy_mae: 1.05e-01, forcesz_mae: 1.12e-01, forces_mae: 1.02e-01, forces_cosine_similarity: 2.90e-02, forces_magnitude_error: 2.08e-01, loss: 8.22e+00, lr: 4.02e-04, epoch: 2.43e-01, step: 5.34e+03\n",
      "2024-05-28 23:05:28 (INFO): energy_forces_within_threshold: 0.00e+00, energy_mae: 2.41e+00, forcesx_mae: 8.65e-02, forcesy_mae: 1.18e-01, forcesz_mae: 1.37e-01, forces_mae: 1.14e-01, forces_cosine_similarity: 3.73e-02, forces_magnitude_error: 2.36e-01, loss: 9.19e+00, lr: 4.02e-04, epoch: 2.43e-01, step: 5.34e+03\n",
      "2024-05-28 23:05:29 (INFO): energy_forces_within_threshold: 0.00e+00, energy_mae: 1.97e+00, forcesx_mae: 7.12e-02, forcesy_mae: 7.04e-02, forcesz_mae: 8.97e-02, forces_mae: 7.71e-02, forces_cosine_similarity: 5.11e-02, forces_magnitude_error: 1.55e-01, loss: 6.18e+00, lr: 4.02e-04, epoch: 2.43e-01, step: 5.35e+03\n",
      "2024-05-28 23:05:29 (INFO): energy_forces_within_threshold: 0.00e+00, energy_mae: 2.06e+00, forcesx_mae: 4.56e-02, forcesy_mae: 5.06e-02, forcesz_mae: 5.26e-02, forces_mae: 4.96e-02, forces_cosine_similarity: 4.08e-02, forces_magnitude_error: 9.98e-02, loss: 4.29e+00, lr: 4.02e-04, epoch: 2.43e-01, step: 5.36e+03\n",
      "2024-05-28 23:05:30 (INFO): energy_forces_within_threshold: 0.00e+00, energy_mae: 1.32e+00, forcesx_mae: 7.42e-02, forcesy_mae: 9.25e-02, forcesz_mae: 8.61e-02, forces_mae: 8.42e-02, forces_cosine_similarity: 2.48e-02, forces_magnitude_error: 1.68e-01, loss: 6.49e+00, lr: 4.02e-04, epoch: 2.44e-01, step: 5.36e+03\n",
      "2024-05-28 23:05:30 (INFO): energy_forces_within_threshold: 0.00e+00, energy_mae: 1.69e+00, forcesx_mae: 4.64e-02, forcesy_mae: 6.35e-02, forcesz_mae: 7.03e-02, forces_mae: 6.00e-02, forces_cosine_similarity: 5.66e-02, forces_magnitude_error: 1.26e-01, loss: 5.02e+00, lr: 4.02e-04, epoch: 2.44e-01, step: 5.36e+03\n",
      "2024-05-28 23:05:31 (INFO): energy_forces_within_threshold: 0.00e+00, energy_mae: 2.56e+00, forcesx_mae: 5.83e-02, forcesy_mae: 7.64e-02, forcesz_mae: 1.08e-01, forces_mae: 8.09e-02, forces_cosine_similarity: -2.57e-03, forces_magnitude_error: 1.75e-01, loss: 7.11e+00, lr: 4.02e-04, epoch: 2.44e-01, step: 5.37e+03\n",
      "2024-05-28 23:05:31 (INFO): energy_forces_within_threshold: 0.00e+00, energy_mae: 2.47e+00, forcesx_mae: 5.92e-02, forcesy_mae: 7.01e-02, forcesz_mae: 6.47e-02, forces_mae: 6.47e-02, forces_cosine_similarity: 3.10e-02, forces_magnitude_error: 1.28e-01, loss: 5.36e+00, lr: 4.02e-04, epoch: 2.44e-01, step: 5.38e+03\n",
      "2024-05-28 23:05:32 (INFO): energy_forces_within_threshold: 0.00e+00, energy_mae: 2.18e+00, forcesx_mae: 6.82e-02, forcesy_mae: 7.70e-02, forcesz_mae: 8.98e-02, forces_mae: 7.83e-02, forces_cosine_similarity: 6.14e-02, forces_magnitude_error: 1.58e-01, loss: 6.54e+00, lr: 4.02e-04, epoch: 2.45e-01, step: 5.38e+03\n",
      "2024-05-28 23:05:32 (INFO): energy_forces_within_threshold: 0.00e+00, energy_mae: 2.34e+00, forcesx_mae: 1.01e-01, forcesy_mae: 1.14e-01, forcesz_mae: 1.28e-01, forces_mae: 1.14e-01, forces_cosine_similarity: 3.95e-02, forces_magnitude_error: 2.31e-01, loss: 8.98e+00, lr: 4.02e-04, epoch: 2.45e-01, step: 5.38e+03\n",
      "2024-05-28 23:05:33 (INFO): energy_forces_within_threshold: 0.00e+00, energy_mae: 2.12e+00, forcesx_mae: 4.22e-02, forcesy_mae: 6.95e-02, forcesz_mae: 7.03e-02, forces_mae: 6.07e-02, forces_cosine_similarity: -6.07e-03, forces_magnitude_error: 1.29e-01, loss: 5.32e+00, lr: 4.02e-04, epoch: 2.45e-01, step: 5.39e+03\n",
      "2024-05-28 23:05:33 (INFO): energy_forces_within_threshold: 0.00e+00, energy_mae: 2.51e+00, forcesx_mae: 1.14e-01, forcesy_mae: 1.52e-01, forcesz_mae: 1.89e-01, forces_mae: 1.52e-01, forces_cosine_similarity: 4.84e-02, forces_magnitude_error: 3.18e-01, loss: 1.29e+01, lr: 4.02e-04, epoch: 2.45e-01, step: 5.40e+03\n",
      "2024-05-28 23:05:33 (INFO): energy_forces_within_threshold: 0.00e+00, energy_mae: 1.38e+00, forcesx_mae: 5.39e-02, forcesy_mae: 6.21e-02, forcesz_mae: 6.92e-02, forces_mae: 6.17e-02, forces_cosine_similarity: 4.47e-02, forces_magnitude_error: 1.26e-01, loss: 4.91e+00, lr: 4.02e-04, epoch: 2.45e-01, step: 5.40e+03\n",
      "2024-05-28 23:05:34 (INFO): energy_forces_within_threshold: 0.00e+00, energy_mae: 2.97e+00, forcesx_mae: 1.22e-01, forcesy_mae: 1.03e-01, forcesz_mae: 1.43e-01, forces_mae: 1.23e-01, forces_cosine_similarity: 1.83e-02, forces_magnitude_error: 2.40e-01, loss: 9.40e+00, lr: 4.02e-04, epoch: 2.46e-01, step: 5.40e+03\n",
      "2024-05-28 23:05:34 (INFO): energy_forces_within_threshold: 0.00e+00, energy_mae: 2.16e+00, forcesx_mae: 8.94e-02, forcesy_mae: 1.21e-01, forcesz_mae: 1.24e-01, forces_mae: 1.12e-01, forces_cosine_similarity: 5.20e-02, forces_magnitude_error: 2.24e-01, loss: 9.26e+00, lr: 4.02e-04, epoch: 2.46e-01, step: 5.41e+03\n",
      "2024-05-28 23:05:35 (INFO): energy_forces_within_threshold: 0.00e+00, energy_mae: 2.08e+00, forcesx_mae: 6.07e-02, forcesy_mae: 7.85e-02, forcesz_mae: 9.19e-02, forces_mae: 7.70e-02, forces_cosine_similarity: -9.71e-03, forces_magnitude_error: 1.59e-01, loss: 6.32e+00, lr: 4.02e-04, epoch: 2.46e-01, step: 5.42e+03\n",
      "2024-05-28 23:05:35 (INFO): energy_forces_within_threshold: 0.00e+00, energy_mae: 2.69e+00, forcesx_mae: 7.25e-02, forcesy_mae: 7.36e-02, forcesz_mae: 6.66e-02, forces_mae: 7.09e-02, forces_cosine_similarity: 5.08e-02, forces_magnitude_error: 1.47e-01, loss: 6.15e+00, lr: 4.02e-04, epoch: 2.46e-01, step: 5.42e+03\n"
     ]
    },
    {
     "name": "stderr",
     "output_type": "stream",
     "text": [
      "2024-05-28 23:05:36 (WARNING): Found nans while computing loss\n"
     ]
    },
    {
     "name": "stdout",
     "output_type": "stream",
     "text": [
      "2024-05-28 23:05:36 (INFO): energy_forces_within_threshold: 0.00e+00, energy_mae: 2.27e+00, forcesx_mae: 9.31e+01, forcesy_mae: inf, forcesz_mae: inf, forces_mae: inf, forces_cosine_similarity: nan, forces_magnitude_error: inf, loss: 1.56e+04, lr: 4.02e-04, epoch: 2.47e-01, step: 5.42e+03\n",
      "2024-05-28 23:05:36 (INFO): energy_forces_within_threshold: 0.00e+00, energy_mae: 2.11e+00, forcesx_mae: 5.48e-02, forcesy_mae: 6.66e-02, forcesz_mae: 7.31e-02, forces_mae: 6.49e-02, forces_cosine_similarity: -9.67e-03, forces_magnitude_error: 1.32e-01, loss: 5.47e+00, lr: 4.02e-04, epoch: 2.47e-01, step: 5.43e+03\n",
      "2024-05-28 23:05:37 (INFO): energy_forces_within_threshold: 0.00e+00, energy_mae: 1.81e+00, forcesx_mae: 7.72e-02, forcesy_mae: 9.21e-02, forcesz_mae: 1.04e-01, forces_mae: 9.10e-02, forces_cosine_similarity: 3.80e-02, forces_magnitude_error: 1.89e-01, loss: 7.02e+00, lr: 4.02e-04, epoch: 2.47e-01, step: 5.44e+03\n",
      "2024-05-28 23:05:37 (INFO): energy_forces_within_threshold: 0.00e+00, energy_mae: 1.96e+00, forcesx_mae: 8.81e-02, forcesy_mae: 1.60e-01, forcesz_mae: 1.49e-01, forces_mae: 1.32e-01, forces_cosine_similarity: 3.96e-02, forces_magnitude_error: 2.90e-01, loss: 1.13e+01, lr: 4.02e-04, epoch: 2.47e-01, step: 5.44e+03\n",
      "2024-05-28 23:05:38 (INFO): energy_forces_within_threshold: 0.00e+00, energy_mae: 2.23e+00, forcesx_mae: 4.11e-02, forcesy_mae: 4.56e-02, forcesz_mae: 4.97e-02, forces_mae: 4.55e-02, forces_cosine_similarity: 5.48e-02, forces_magnitude_error: 9.16e-02, loss: 3.95e+00, lr: 4.02e-04, epoch: 2.47e-01, step: 5.44e+03\n",
      "2024-05-28 23:05:38 (INFO): energy_forces_within_threshold: 0.00e+00, energy_mae: 1.55e+00, forcesx_mae: 7.10e-02, forcesy_mae: 7.97e-02, forcesz_mae: 7.69e-02, forces_mae: 7.59e-02, forces_cosine_similarity: 5.35e-02, forces_magnitude_error: 1.54e-01, loss: 5.99e+00, lr: 4.02e-04, epoch: 2.48e-01, step: 5.45e+03\n"
     ]
    },
    {
     "name": "stderr",
     "output_type": "stream",
     "text": [
      "2024-05-28 23:05:39 (WARNING): Found nans while computing loss\n"
     ]
    },
    {
     "name": "stdout",
     "output_type": "stream",
     "text": [
      "2024-05-28 23:05:39 (INFO): energy_forces_within_threshold: 0.00e+00, energy_mae: 5.55e+01, forcesx_mae: nan, forcesy_mae: nan, forcesz_mae: nan, forces_mae: nan, forces_cosine_similarity: nan, forces_magnitude_error: nan, loss: 4.90e+01, lr: 4.02e-04, epoch: 2.48e-01, step: 5.46e+03\n",
      "2024-05-28 23:05:39 (INFO): energy_forces_within_threshold: 0.00e+00, energy_mae: 2.04e+00, forcesx_mae: 9.31e-02, forcesy_mae: 1.24e-01, forcesz_mae: 1.32e-01, forces_mae: 1.16e-01, forces_cosine_similarity: 3.69e-02, forces_magnitude_error: 2.42e-01, loss: 9.29e+00, lr: 4.02e-04, epoch: 2.48e-01, step: 5.46e+03\n"
     ]
    },
    {
     "name": "stderr",
     "output_type": "stream",
     "text": [
      "2024-05-28 23:05:39 (WARNING): Found nans while computing loss\n",
      "2024-05-28 23:05:39 (WARNING): Found nans while computing loss\n",
      "2024-05-28 23:05:39 (WARNING): Found nans while computing loss\n",
      "2024-05-28 23:05:39 (WARNING): Found nans while computing loss\n"
     ]
    },
    {
     "name": "stdout",
     "output_type": "stream",
     "text": [
      "2024-05-28 23:05:40 (INFO): energy_forces_within_threshold: 0.00e+00, energy_mae: nan, forcesx_mae: nan, forcesy_mae: nan, forcesz_mae: nan, forces_mae: nan, forces_cosine_similarity: nan, forces_magnitude_error: nan, loss: 4.08e+04, lr: 4.02e-04, epoch: 2.48e-01, step: 5.46e+03\n",
      "2024-05-28 23:05:40 (INFO): energy_forces_within_threshold: 0.00e+00, energy_mae: 2.34e+00, forcesx_mae: 6.28e-02, forcesy_mae: 8.01e-02, forcesz_mae: 9.23e-02, forces_mae: 7.84e-02, forces_cosine_similarity: 1.29e-02, forces_magnitude_error: 1.63e-01, loss: 6.60e+00, lr: 4.02e-04, epoch: 2.49e-01, step: 5.47e+03\n",
      "2024-05-28 23:05:41 (INFO): energy_forces_within_threshold: 0.00e+00, energy_mae: 1.78e+00, forcesx_mae: 7.68e-02, forcesy_mae: 9.50e-02, forcesz_mae: 9.28e-02, forces_mae: 8.82e-02, forces_cosine_similarity: 2.20e-02, forces_magnitude_error: 1.82e-01, loss: 7.43e+00, lr: 4.02e-04, epoch: 2.49e-01, step: 5.48e+03\n"
     ]
    },
    {
     "name": "stderr",
     "output_type": "stream",
     "text": [
      "2024-05-28 23:05:41 (WARNING): Found nans while computing loss\n",
      "2024-05-28 23:05:41 (WARNING): Found nans while computing loss\n"
     ]
    },
    {
     "name": "stdout",
     "output_type": "stream",
     "text": [
      "2024-05-28 23:05:41 (INFO): energy_forces_within_threshold: 0.00e+00, energy_mae: nan, forcesx_mae: nan, forcesy_mae: nan, forcesz_mae: nan, forces_mae: nan, forces_cosine_similarity: nan, forces_magnitude_error: nan, loss: 1.21e+01, lr: 4.02e-04, epoch: 2.49e-01, step: 5.48e+03\n"
     ]
    },
    {
     "name": "stderr",
     "output_type": "stream",
     "text": [
      "2024-05-28 23:05:41 (WARNING): Found nans while computing loss\n",
      "2024-05-28 23:05:41 (WARNING): Found nans while computing loss\n"
     ]
    },
    {
     "name": "stdout",
     "output_type": "stream",
     "text": [
      "2024-05-28 23:05:42 (INFO): energy_forces_within_threshold: 0.00e+00, energy_mae: nan, forcesx_mae: nan, forcesy_mae: nan, forcesz_mae: nan, forces_mae: nan, forces_cosine_similarity: nan, forces_magnitude_error: nan, loss: 9.02e+04, lr: 4.02e-04, epoch: 2.49e-01, step: 5.48e+03\n"
     ]
    },
    {
     "name": "stderr",
     "output_type": "stream",
     "text": [
      "2024-05-28 23:05:42 (WARNING): Found nans while computing loss\n",
      "2024-05-28 23:05:42 (WARNING): Found nans while computing loss\n"
     ]
    },
    {
     "name": "stdout",
     "output_type": "stream",
     "text": [
      "2024-05-28 23:05:42 (INFO): energy_forces_within_threshold: 0.00e+00, energy_mae: nan, forcesx_mae: nan, forcesy_mae: nan, forcesz_mae: nan, forces_mae: nan, forces_cosine_similarity: nan, forces_magnitude_error: nan, loss: 4.95e+00, lr: 4.02e-04, epoch: 2.50e-01, step: 5.49e+03\n",
      "2024-05-28 23:05:43 (INFO): energy_forces_within_threshold: 0.00e+00, energy_mae: 1.54e+00, forcesx_mae: 3.56e-02, forcesy_mae: 4.56e-02, forcesz_mae: 4.65e-02, forces_mae: 4.26e-02, forces_cosine_similarity: 6.96e-02, forces_magnitude_error: 8.61e-02, loss: 3.58e+00, lr: 4.02e-04, epoch: 2.50e-01, step: 5.50e+03\n",
      "2024-05-28 23:05:43 (INFO): energy_forces_within_threshold: 0.00e+00, energy_mae: 1.76e+00, forcesx_mae: 7.70e-02, forcesy_mae: 8.45e-02, forcesz_mae: 8.49e-02, forces_mae: 8.21e-02, forces_cosine_similarity: 2.36e-02, forces_magnitude_error: 1.67e-01, loss: 6.52e+00, lr: 4.02e-04, epoch: 2.50e-01, step: 5.50e+03\n"
     ]
    },
    {
     "name": "stderr",
     "output_type": "stream",
     "text": [
      "2024-05-28 23:05:44 (WARNING): Found nans while computing loss\n",
      "2024-05-28 23:05:44 (WARNING): Found nans while computing loss\n"
     ]
    },
    {
     "name": "stdout",
     "output_type": "stream",
     "text": [
      "2024-05-28 23:05:44 (INFO): energy_forces_within_threshold: 0.00e+00, energy_mae: nan, forcesx_mae: nan, forcesy_mae: nan, forcesz_mae: nan, forces_mae: nan, forces_cosine_similarity: nan, forces_magnitude_error: nan, loss: 4.35e+05, lr: 4.02e-04, epoch: 2.50e-01, step: 5.50e+03\n",
      "2024-05-28 23:05:44 (INFO): energy_forces_within_threshold: 0.00e+00, energy_mae: 2.24e+00, forcesx_mae: 5.21e-02, forcesy_mae: 7.13e-02, forcesz_mae: 7.94e-02, forces_mae: 6.76e-02, forces_cosine_similarity: 2.42e-02, forces_magnitude_error: 1.39e-01, loss: 5.89e+00, lr: 4.02e-04, epoch: 2.50e-01, step: 5.51e+03\n"
     ]
    },
    {
     "name": "stderr",
     "output_type": "stream",
     "text": [
      "2024-05-28 23:05:44 (WARNING): Found nans while computing loss\n",
      "2024-05-28 23:05:44 (WARNING): Found nans while computing loss\n"
     ]
    },
    {
     "name": "stdout",
     "output_type": "stream",
     "text": [
      "2024-05-28 23:05:45 (INFO): energy_forces_within_threshold: 0.00e+00, energy_mae: nan, forcesx_mae: nan, forcesy_mae: nan, forcesz_mae: nan, forces_mae: nan, forces_cosine_similarity: nan, forces_magnitude_error: nan, loss: 8.97e+00, lr: 4.02e-04, epoch: 2.51e-01, step: 5.52e+03\n",
      "2024-05-28 23:05:45 (INFO): energy_forces_within_threshold: 0.00e+00, energy_mae: 2.22e+00, forcesx_mae: 9.01e-02, forcesy_mae: 1.29e-01, forcesz_mae: 1.74e-01, forces_mae: 1.31e-01, forces_cosine_similarity: 7.65e-02, forces_magnitude_error: 2.73e-01, loss: 1.02e+01, lr: 4.02e-04, epoch: 2.51e-01, step: 5.52e+03\n",
      "2024-05-28 23:05:46 (INFO): energy_forces_within_threshold: 0.00e+00, energy_mae: 1.83e+00, forcesx_mae: 7.05e-02, forcesy_mae: 8.62e-02, forcesz_mae: 1.59e-01, forces_mae: 1.05e-01, forces_cosine_similarity: 5.36e-02, forces_magnitude_error: 2.29e-01, loss: 8.67e+00, lr: 4.02e-04, epoch: 2.51e-01, step: 5.52e+03\n"
     ]
    },
    {
     "name": "stderr",
     "output_type": "stream",
     "text": [
      "2024-05-28 23:05:46 (WARNING): Found nans while computing loss\n",
      "2024-05-28 23:05:46 (WARNING): Found nans while computing loss\n"
     ]
    },
    {
     "name": "stdout",
     "output_type": "stream",
     "text": [
      "2024-05-28 23:05:46 (INFO): energy_forces_within_threshold: 0.00e+00, energy_mae: nan, forcesx_mae: nan, forcesy_mae: nan, forcesz_mae: nan, forces_mae: nan, forces_cosine_similarity: nan, forces_magnitude_error: nan, loss: 6.88e+00, lr: 4.02e-04, epoch: 2.51e-01, step: 5.53e+03\n",
      "2024-05-28 23:05:47 (INFO): energy_forces_within_threshold: 0.00e+00, energy_mae: 1.75e+00, forcesx_mae: 4.11e-02, forcesy_mae: 5.33e-02, forcesz_mae: 5.50e-02, forces_mae: 4.98e-02, forces_cosine_similarity: 2.32e-02, forces_magnitude_error: 1.01e-01, loss: 4.09e+00, lr: 4.02e-04, epoch: 2.52e-01, step: 5.54e+03\n",
      "2024-05-28 23:05:47 (INFO): energy_forces_within_threshold: 0.00e+00, energy_mae: 1.73e+00, forcesx_mae: 5.53e-02, forcesy_mae: 7.32e-02, forcesz_mae: 7.15e-02, forces_mae: 6.67e-02, forces_cosine_similarity: 2.51e-02, forces_magnitude_error: 1.35e-01, loss: 5.41e+00, lr: 4.02e-04, epoch: 2.52e-01, step: 5.54e+03\n",
      "2024-05-28 23:05:48 (INFO): energy_forces_within_threshold: 0.00e+00, energy_mae: 2.00e+00, forcesx_mae: 6.68e-02, forcesy_mae: 9.90e-02, forcesz_mae: 8.84e-02, forces_mae: 8.47e-02, forces_cosine_similarity: 2.25e-02, forces_magnitude_error: 1.74e-01, loss: 6.89e+00, lr: 4.02e-04, epoch: 2.52e-01, step: 5.54e+03\n"
     ]
    },
    {
     "name": "stderr",
     "output_type": "stream",
     "text": [
      "2024-05-28 23:05:48 (WARNING): Found nans while computing loss\n",
      "2024-05-28 23:05:48 (WARNING): Found nans while computing loss\n"
     ]
    },
    {
     "name": "stdout",
     "output_type": "stream",
     "text": [
      "2024-05-28 23:05:48 (INFO): energy_forces_within_threshold: 0.00e+00, energy_mae: nan, forcesx_mae: nan, forcesy_mae: nan, forcesz_mae: nan, forces_mae: nan, forces_cosine_similarity: nan, forces_magnitude_error: nan, loss: 9.11e+00, lr: 4.02e-04, epoch: 2.52e-01, step: 5.55e+03\n",
      "2024-05-28 23:05:49 (INFO): energy_forces_within_threshold: 0.00e+00, energy_mae: 2.18e+00, forcesx_mae: 6.55e-02, forcesy_mae: 5.98e-02, forcesz_mae: 7.35e-02, forces_mae: 6.63e-02, forces_cosine_similarity: 1.43e-02, forces_magnitude_error: 1.33e-01, loss: 5.42e+00, lr: 4.02e-04, epoch: 2.52e-01, step: 5.56e+03\n",
      "2024-05-28 23:05:49 (INFO): energy_forces_within_threshold: 0.00e+00, energy_mae: 1.94e+00, forcesx_mae: 5.18e-02, forcesy_mae: 7.01e-02, forcesz_mae: 6.07e-02, forces_mae: 6.08e-02, forces_cosine_similarity: 5.35e-03, forces_magnitude_error: 1.25e-01, loss: 5.12e+00, lr: 4.02e-04, epoch: 2.53e-01, step: 5.56e+03\n"
     ]
    },
    {
     "name": "stderr",
     "output_type": "stream",
     "text": [
      "2024-05-28 23:05:49 (WARNING): Found nans while computing loss\n"
     ]
    },
    {
     "name": "stdout",
     "output_type": "stream",
     "text": [
      "2024-05-28 23:05:49 (INFO): energy_forces_within_threshold: 0.00e+00, energy_mae: 2.65e+01, forcesx_mae: nan, forcesy_mae: nan, forcesz_mae: nan, forces_mae: nan, forces_cosine_similarity: nan, forces_magnitude_error: nan, loss: 4.72e+04, lr: 4.02e-04, epoch: 2.53e-01, step: 5.56e+03\n"
     ]
    },
    {
     "name": "stderr",
     "output_type": "stream",
     "text": [
      "2024-05-28 23:05:50 (WARNING): Found nans while computing loss\n"
     ]
    },
    {
     "name": "stdout",
     "output_type": "stream",
     "text": [
      "2024-05-28 23:05:50 (INFO): energy_forces_within_threshold: 0.00e+00, energy_mae: 2.46e+01, forcesx_mae: nan, forcesy_mae: nan, forcesz_mae: nan, forces_mae: nan, forces_cosine_similarity: nan, forces_magnitude_error: nan, loss: 2.25e+01, lr: 4.02e-04, epoch: 2.53e-01, step: 5.57e+03\n"
     ]
    },
    {
     "name": "stderr",
     "output_type": "stream",
     "text": [
      "2024-05-28 23:05:50 (WARNING): Found nans while computing loss\n",
      "2024-05-28 23:05:50 (WARNING): Found nans while computing loss\n"
     ]
    },
    {
     "name": "stdout",
     "output_type": "stream",
     "text": [
      "2024-05-28 23:05:50 (INFO): energy_forces_within_threshold: 0.00e+00, energy_mae: nan, forcesx_mae: nan, forcesy_mae: nan, forcesz_mae: nan, forces_mae: nan, forces_cosine_similarity: nan, forces_magnitude_error: nan, loss: 6.25e+00, lr: 4.02e-04, epoch: 2.53e-01, step: 5.58e+03\n",
      "2024-05-28 23:05:51 (INFO): energy_forces_within_threshold: 0.00e+00, energy_mae: 2.02e+00, forcesx_mae: 6.14e-02, forcesy_mae: 6.96e-02, forcesz_mae: 8.65e-02, forces_mae: 7.25e-02, forces_cosine_similarity: 2.67e-02, forces_magnitude_error: 1.49e-01, loss: 6.01e+00, lr: 4.02e-04, epoch: 2.54e-01, step: 5.58e+03\n",
      "2024-05-28 23:05:51 (INFO): energy_forces_within_threshold: 0.00e+00, energy_mae: 2.20e+00, forcesx_mae: 3.96e-02, forcesy_mae: 4.73e-02, forcesz_mae: 5.30e-02, forces_mae: 4.67e-02, forces_cosine_similarity: -2.02e-02, forces_magnitude_error: 9.39e-02, loss: 4.12e+00, lr: 4.02e-04, epoch: 2.54e-01, step: 5.58e+03\n"
     ]
    },
    {
     "name": "stderr",
     "output_type": "stream",
     "text": [
      "2024-05-28 23:05:52 (WARNING): Found nans while computing loss\n",
      "2024-05-28 23:05:52 (WARNING): Found nans while computing loss\n"
     ]
    },
    {
     "name": "stdout",
     "output_type": "stream",
     "text": [
      "2024-05-28 23:05:52 (INFO): energy_forces_within_threshold: 0.00e+00, energy_mae: nan, forcesx_mae: nan, forcesy_mae: nan, forcesz_mae: nan, forces_mae: nan, forces_cosine_similarity: nan, forces_magnitude_error: nan, loss: 7.93e+04, lr: 4.02e-04, epoch: 2.54e-01, step: 5.59e+03\n"
     ]
    },
    {
     "name": "stderr",
     "output_type": "stream",
     "text": [
      "2024-05-28 23:05:52 (WARNING): Found nans while computing loss\n",
      "2024-05-28 23:05:52 (WARNING): Found nans while computing loss\n",
      "2024-05-28 23:05:52 (WARNING): Found nans while computing loss\n"
     ]
    },
    {
     "name": "stdout",
     "output_type": "stream",
     "text": [
      "2024-05-28 23:05:52 (INFO): energy_forces_within_threshold: 0.00e+00, energy_mae: nan, forcesx_mae: nan, forcesy_mae: nan, forcesz_mae: nan, forces_mae: nan, forces_cosine_similarity: nan, forces_magnitude_error: nan, loss: 1.64e+01, lr: 4.02e-04, epoch: 2.54e-01, step: 5.60e+03\n",
      "2024-05-28 23:05:53 (INFO): energy_forces_within_threshold: 0.00e+00, energy_mae: 1.75e+00, forcesx_mae: 5.87e-02, forcesy_mae: 7.41e-02, forcesz_mae: 7.27e-02, forces_mae: 6.85e-02, forces_cosine_similarity: 5.54e-02, forces_magnitude_error: 1.41e-01, loss: 5.76e+00, lr: 4.02e-04, epoch: 2.54e-01, step: 5.60e+03\n",
      "2024-05-28 23:05:53 (INFO): energy_forces_within_threshold: 0.00e+00, energy_mae: 1.98e+00, forcesx_mae: 5.58e-02, forcesy_mae: 6.32e-02, forcesz_mae: 6.00e-02, forces_mae: 5.97e-02, forces_cosine_similarity: 2.44e-02, forces_magnitude_error: 1.19e-01, loss: 4.88e+00, lr: 4.02e-04, epoch: 2.55e-01, step: 5.60e+03\n",
      "2024-05-28 23:05:54 (INFO): energy_forces_within_threshold: 0.00e+00, energy_mae: 2.26e+00, forcesx_mae: 4.81e-02, forcesy_mae: 5.91e-02, forcesz_mae: 6.14e-02, forces_mae: 5.62e-02, forces_cosine_similarity: 3.26e-02, forces_magnitude_error: 1.14e-01, loss: 4.79e+00, lr: 4.02e-04, epoch: 2.55e-01, step: 5.61e+03\n"
     ]
    },
    {
     "name": "stderr",
     "output_type": "stream",
     "text": [
      "2024-05-28 23:05:54 (WARNING): Found nans while computing loss\n"
     ]
    },
    {
     "name": "stdout",
     "output_type": "stream",
     "text": [
      "2024-05-28 23:05:54 (INFO): energy_forces_within_threshold: 0.00e+00, energy_mae: 9.18e+00, forcesx_mae: nan, forcesy_mae: nan, forcesz_mae: nan, forces_mae: nan, forces_cosine_similarity: nan, forces_magnitude_error: nan, loss: 1.10e+01, lr: 4.02e-04, epoch: 2.55e-01, step: 5.62e+03\n",
      "2024-05-28 23:05:55 (INFO): energy_forces_within_threshold: 0.00e+00, energy_mae: 3.03e+00, forcesx_mae: 5.24e-02, forcesy_mae: 6.25e-02, forcesz_mae: 6.95e-02, forces_mae: 6.15e-02, forces_cosine_similarity: 3.79e-02, forces_magnitude_error: 1.26e-01, loss: 5.71e+00, lr: 4.02e-04, epoch: 2.55e-01, step: 5.62e+03\n",
      "2024-05-28 23:05:55 (INFO): energy_forces_within_threshold: 0.00e+00, energy_mae: 1.87e+00, forcesx_mae: 8.02e-02, forcesy_mae: 1.20e-01, forcesz_mae: 1.07e-01, forces_mae: 1.02e-01, forces_cosine_similarity: 7.40e-02, forces_magnitude_error: 2.09e-01, loss: 8.16e+00, lr: 4.02e-04, epoch: 2.56e-01, step: 5.62e+03\n",
      "2024-05-28 23:05:56 (INFO): energy_forces_within_threshold: 0.00e+00, energy_mae: 1.90e+00, forcesx_mae: 4.71e-02, forcesy_mae: 6.24e-02, forcesz_mae: 6.20e-02, forces_mae: 5.72e-02, forces_cosine_similarity: 5.27e-02, forces_magnitude_error: 1.16e-01, loss: 4.71e+00, lr: 4.02e-04, epoch: 2.56e-01, step: 5.63e+03\n"
     ]
    },
    {
     "name": "stderr",
     "output_type": "stream",
     "text": [
      "2024-05-28 23:05:56 (WARNING): Found nans while computing loss\n",
      "2024-05-28 23:05:56 (WARNING): Found nans while computing loss\n",
      "2024-05-28 23:05:56 (WARNING): Found nans while computing loss\n"
     ]
    },
    {
     "name": "stdout",
     "output_type": "stream",
     "text": [
      "2024-05-28 23:05:56 (INFO): energy_forces_within_threshold: 0.00e+00, energy_mae: nan, forcesx_mae: nan, forcesy_mae: nan, forcesz_mae: nan, forces_mae: nan, forces_cosine_similarity: nan, forces_magnitude_error: nan, loss: 1.11e+04, lr: 4.02e-04, epoch: 2.56e-01, step: 5.64e+03\n"
     ]
    },
    {
     "name": "stderr",
     "output_type": "stream",
     "text": [
      "2024-05-28 23:05:56 (WARNING): Found nans while computing loss\n",
      "2024-05-28 23:05:56 (WARNING): Found nans while computing loss\n",
      "2024-05-28 23:05:57 (WARNING): Found nans while computing loss\n",
      "2024-05-28 23:05:57 (WARNING): Found nans while computing loss\n"
     ]
    },
    {
     "name": "stdout",
     "output_type": "stream",
     "text": [
      "2024-05-28 23:05:57 (INFO): energy_forces_within_threshold: 0.00e+00, energy_mae: nan, forcesx_mae: nan, forcesy_mae: nan, forcesz_mae: nan, forces_mae: nan, forces_cosine_similarity: nan, forces_magnitude_error: nan, loss: 5.89e+00, lr: 4.02e-04, epoch: 2.56e-01, step: 5.64e+03\n"
     ]
    },
    {
     "name": "stderr",
     "output_type": "stream",
     "text": [
      "2024-05-28 23:05:57 (WARNING): Found nans while computing loss\n"
     ]
    },
    {
     "name": "stdout",
     "output_type": "stream",
     "text": [
      "2024-05-28 23:05:57 (INFO): energy_forces_within_threshold: 0.00e+00, energy_mae: 1.73e+02, forcesx_mae: nan, forcesy_mae: nan, forcesz_mae: nan, forces_mae: nan, forces_cosine_similarity: nan, forces_magnitude_error: nan, loss: 1.81e+04, lr: 4.02e-04, epoch: 2.57e-01, step: 5.64e+03\n",
      "2024-05-28 23:05:58 (INFO): energy_forces_within_threshold: 0.00e+00, energy_mae: 1.84e+00, forcesx_mae: 4.97e-02, forcesy_mae: 5.89e-02, forcesz_mae: 6.14e-02, forces_mae: 5.67e-02, forces_cosine_similarity: 1.25e-02, forces_magnitude_error: 1.15e-01, loss: 4.82e+00, lr: 4.02e-04, epoch: 2.57e-01, step: 5.65e+03\n"
     ]
    },
    {
     "name": "stderr",
     "output_type": "stream",
     "text": [
      "2024-05-28 23:05:58 (WARNING): Found nans while computing loss\n",
      "2024-05-28 23:05:58 (WARNING): Found nans while computing loss\n",
      "2024-05-28 23:05:58 (WARNING): Found nans while computing loss\n",
      "2024-05-28 23:05:58 (WARNING): Found nans while computing loss\n"
     ]
    },
    {
     "name": "stdout",
     "output_type": "stream",
     "text": [
      "2024-05-28 23:05:58 (INFO): energy_forces_within_threshold: 0.00e+00, energy_mae: nan, forcesx_mae: nan, forcesy_mae: nan, forcesz_mae: nan, forces_mae: nan, forces_cosine_similarity: nan, forces_magnitude_error: nan, loss: 2.73e+05, lr: 4.02e-04, epoch: 2.57e-01, step: 5.66e+03\n",
      "2024-05-28 23:05:59 (INFO): energy_forces_within_threshold: 0.00e+00, energy_mae: 2.46e+00, forcesx_mae: 1.10e-01, forcesy_mae: 1.28e-01, forcesz_mae: 1.49e-01, forces_mae: 1.29e-01, forces_cosine_similarity: 3.45e-03, forces_magnitude_error: 2.67e-01, loss: 1.01e+01, lr: 4.02e-04, epoch: 2.57e-01, step: 5.66e+03\n"
     ]
    },
    {
     "name": "stderr",
     "output_type": "stream",
     "text": [
      "2024-05-28 23:05:59 (WARNING): Found nans while computing loss\n",
      "2024-05-28 23:05:59 (WARNING): Found nans while computing loss\n"
     ]
    },
    {
     "name": "stdout",
     "output_type": "stream",
     "text": [
      "2024-05-28 23:05:59 (INFO): energy_forces_within_threshold: 0.00e+00, energy_mae: nan, forcesx_mae: nan, forcesy_mae: nan, forcesz_mae: nan, forces_mae: nan, forces_cosine_similarity: nan, forces_magnitude_error: nan, loss: 9.97e+00, lr: 4.02e-04, epoch: 2.57e-01, step: 5.66e+03\n",
      "2024-05-28 23:06:00 (INFO): energy_forces_within_threshold: 0.00e+00, energy_mae: 2.05e+00, forcesx_mae: 6.82e-02, forcesy_mae: 7.26e-02, forcesz_mae: 9.75e-02, forces_mae: 7.94e-02, forces_cosine_similarity: -1.85e-03, forces_magnitude_error: 1.63e-01, loss: 6.64e+00, lr: 4.02e-04, epoch: 2.58e-01, step: 5.67e+03\n",
      "2024-05-28 23:06:00 (INFO): energy_forces_within_threshold: 0.00e+00, energy_mae: 2.09e+00, forcesx_mae: 8.72e-02, forcesy_mae: 1.04e-01, forcesz_mae: 1.11e-01, forces_mae: 1.01e-01, forces_cosine_similarity: 2.69e-02, forces_magnitude_error: 2.03e-01, loss: 7.57e+00, lr: 4.02e-04, epoch: 2.58e-01, step: 5.68e+03\n"
     ]
    },
    {
     "name": "stderr",
     "output_type": "stream",
     "text": [
      "2024-05-28 23:06:00 (WARNING): Found nans while computing loss\n",
      "2024-05-28 23:06:00 (WARNING): Found nans while computing loss\n"
     ]
    },
    {
     "name": "stdout",
     "output_type": "stream",
     "text": [
      "2024-05-28 23:06:01 (INFO): energy_forces_within_threshold: 0.00e+00, energy_mae: nan, forcesx_mae: nan, forcesy_mae: nan, forcesz_mae: nan, forces_mae: nan, forces_cosine_similarity: nan, forces_magnitude_error: nan, loss: 8.56e+00, lr: 4.02e-04, epoch: 2.58e-01, step: 5.68e+03\n"
     ]
    },
    {
     "name": "stderr",
     "output_type": "stream",
     "text": [
      "2024-05-28 23:06:01 (WARNING): Found nans while computing loss\n",
      "2024-05-28 23:06:01 (WARNING): Found nans while computing loss\n"
     ]
    },
    {
     "name": "stdout",
     "output_type": "stream",
     "text": [
      "2024-05-28 23:06:01 (INFO): energy_forces_within_threshold: 0.00e+00, energy_mae: nan, forcesx_mae: nan, forcesy_mae: nan, forcesz_mae: nan, forces_mae: nan, forces_cosine_similarity: nan, forces_magnitude_error: nan, loss: 7.19e+00, lr: 4.02e-04, epoch: 2.58e-01, step: 5.68e+03\n"
     ]
    },
    {
     "name": "stderr",
     "output_type": "stream",
     "text": [
      "2024-05-28 23:06:02 (WARNING): Found nans while computing loss\n"
     ]
    },
    {
     "name": "stdout",
     "output_type": "stream",
     "text": [
      "2024-05-28 23:06:02 (INFO): energy_forces_within_threshold: 0.00e+00, energy_mae: 1.09e+01, forcesx_mae: inf, forcesy_mae: inf, forcesz_mae: inf, forces_mae: inf, forces_cosine_similarity: nan, forces_magnitude_error: inf, loss: 2.91e+04, lr: 4.02e-04, epoch: 2.59e-01, step: 5.69e+03\n",
      "2024-05-28 23:06:02 (INFO): energy_forces_within_threshold: 0.00e+00, energy_mae: 1.85e+00, forcesx_mae: 6.66e-02, forcesy_mae: 8.00e-02, forcesz_mae: 7.34e-02, forces_mae: 7.33e-02, forces_cosine_similarity: -1.74e-02, forces_magnitude_error: 1.52e-01, loss: 6.04e+00, lr: 4.02e-04, epoch: 2.59e-01, step: 5.70e+03\n"
     ]
    },
    {
     "name": "stderr",
     "output_type": "stream",
     "text": [
      "2024-05-28 23:06:03 (WARNING): Found nans while computing loss\n",
      "2024-05-28 23:06:03 (WARNING): Found nans while computing loss\n"
     ]
    },
    {
     "name": "stdout",
     "output_type": "stream",
     "text": [
      "2024-05-28 23:06:03 (INFO): energy_forces_within_threshold: 0.00e+00, energy_mae: nan, forcesx_mae: nan, forcesy_mae: nan, forcesz_mae: nan, forces_mae: nan, forces_cosine_similarity: nan, forces_magnitude_error: nan, loss: 6.36e+04, lr: 4.02e-04, epoch: 2.59e-01, step: 5.70e+03\n"
     ]
    },
    {
     "name": "stderr",
     "output_type": "stream",
     "text": [
      "2024-05-28 23:06:03 (WARNING): Found nans while computing loss\n",
      "2024-05-28 23:06:03 (WARNING): Found nans while computing loss\n"
     ]
    },
    {
     "name": "stdout",
     "output_type": "stream",
     "text": [
      "2024-05-28 23:06:03 (INFO): energy_forces_within_threshold: 0.00e+00, energy_mae: nan, forcesx_mae: nan, forcesy_mae: nan, forcesz_mae: nan, forces_mae: nan, forces_cosine_similarity: nan, forces_magnitude_error: nan, loss: 6.28e+04, lr: 4.02e-04, epoch: 2.59e-01, step: 5.70e+03\n"
     ]
    },
    {
     "name": "stderr",
     "output_type": "stream",
     "text": [
      "2024-05-28 23:06:03 (WARNING): Found nans while computing loss\n",
      "2024-05-28 23:06:03 (WARNING): Found nans while computing loss\n"
     ]
    },
    {
     "name": "stdout",
     "output_type": "stream",
     "text": [
      "2024-05-28 23:06:04 (INFO): energy_forces_within_threshold: 0.00e+00, energy_mae: nan, forcesx_mae: nan, forcesy_mae: nan, forcesz_mae: nan, forces_mae: nan, forces_cosine_similarity: nan, forces_magnitude_error: nan, loss: 3.55e+05, lr: 4.02e-04, epoch: 2.59e-01, step: 5.71e+03\n"
     ]
    },
    {
     "name": "stderr",
     "output_type": "stream",
     "text": [
      "2024-05-28 23:06:04 (WARNING): Found nans while computing loss\n",
      "2024-05-28 23:06:04 (WARNING): Found nans while computing loss\n"
     ]
    },
    {
     "name": "stdout",
     "output_type": "stream",
     "text": [
      "2024-05-28 23:06:04 (INFO): energy_forces_within_threshold: 0.00e+00, energy_mae: nan, forcesx_mae: nan, forcesy_mae: nan, forcesz_mae: nan, forces_mae: nan, forces_cosine_similarity: nan, forces_magnitude_error: nan, loss: 3.65e+01, lr: 4.02e-04, epoch: 2.60e-01, step: 5.72e+03\n",
      "2024-05-28 23:06:05 (INFO): energy_forces_within_threshold: 0.00e+00, energy_mae: 1.45e+00, forcesx_mae: 7.12e-02, forcesy_mae: 7.67e-02, forcesz_mae: 7.03e-02, forces_mae: 7.27e-02, forces_cosine_similarity: -5.35e-04, forces_magnitude_error: 1.47e-01, loss: 5.81e+00, lr: 4.02e-04, epoch: 2.60e-01, step: 5.72e+03\n"
     ]
    },
    {
     "name": "stderr",
     "output_type": "stream",
     "text": [
      "2024-05-28 23:06:05 (WARNING): Found nans while computing loss\n",
      "2024-05-28 23:06:05 (WARNING): Found nans while computing loss\n"
     ]
    },
    {
     "name": "stdout",
     "output_type": "stream",
     "text": [
      "2024-05-28 23:06:05 (INFO): energy_forces_within_threshold: 0.00e+00, energy_mae: nan, forcesx_mae: nan, forcesy_mae: nan, forcesz_mae: nan, forces_mae: nan, forces_cosine_similarity: nan, forces_magnitude_error: nan, loss: 4.07e+05, lr: 4.02e-04, epoch: 2.60e-01, step: 5.72e+03\n"
     ]
    },
    {
     "name": "stderr",
     "output_type": "stream",
     "text": [
      "2024-05-28 23:06:05 (WARNING): Found nans while computing loss\n"
     ]
    },
    {
     "name": "stdout",
     "output_type": "stream",
     "text": [
      "2024-05-28 23:06:06 (INFO): energy_forces_within_threshold: 0.00e+00, energy_mae: 7.34e+00, forcesx_mae: inf, forcesy_mae: inf, forcesz_mae: inf, forces_mae: inf, forces_cosine_similarity: nan, forces_magnitude_error: inf, loss: 1.30e+04, lr: 4.02e-04, epoch: 2.60e-01, step: 5.73e+03\n",
      "2024-05-28 23:06:06 (INFO): energy_forces_within_threshold: 0.00e+00, energy_mae: 1.32e+00, forcesx_mae: 5.95e-02, forcesy_mae: 6.81e-02, forcesz_mae: 7.13e-02, forces_mae: 6.63e-02, forces_cosine_similarity: 4.61e-02, forces_magnitude_error: 1.33e-01, loss: 5.15e+00, lr: 4.02e-04, epoch: 2.61e-01, step: 5.74e+03\n",
      "2024-05-28 23:06:07 (INFO): energy_forces_within_threshold: 0.00e+00, energy_mae: 2.20e+00, forcesx_mae: 8.44e-02, forcesy_mae: 9.08e-02, forcesz_mae: 7.88e-02, forces_mae: 8.47e-02, forces_cosine_similarity: 1.52e-02, forces_magnitude_error: 1.68e-01, loss: 6.60e+00, lr: 4.02e-04, epoch: 2.61e-01, step: 5.74e+03\n",
      "2024-05-28 23:06:07 (INFO): energy_forces_within_threshold: 0.00e+00, energy_mae: 1.77e+00, forcesx_mae: 8.21e-02, forcesy_mae: 1.04e-01, forcesz_mae: 1.24e-01, forces_mae: 1.03e-01, forces_cosine_similarity: 6.07e-02, forces_magnitude_error: 2.11e-01, loss: 8.04e+00, lr: 4.02e-04, epoch: 2.61e-01, step: 5.74e+03\n",
      "2024-05-28 23:06:08 (INFO): energy_forces_within_threshold: 0.00e+00, energy_mae: 2.41e+00, forcesx_mae: 8.09e-02, forcesy_mae: 1.23e-01, forcesz_mae: 1.20e-01, forces_mae: 1.08e-01, forces_cosine_similarity: 3.74e-02, forces_magnitude_error: 2.23e-01, loss: 9.01e+00, lr: 4.02e-04, epoch: 2.61e-01, step: 5.75e+03\n"
     ]
    },
    {
     "name": "stderr",
     "output_type": "stream",
     "text": [
      "2024-05-28 23:06:08 (WARNING): Found nans while computing loss\n",
      "2024-05-28 23:06:08 (WARNING): Found nans while computing loss\n",
      "2024-05-28 23:06:08 (WARNING): Found nans while computing loss\n",
      "2024-05-28 23:06:08 (WARNING): Found nans while computing loss\n",
      "2024-05-28 23:06:08 (WARNING): Found nans while computing loss\n",
      "2024-05-28 23:06:08 (WARNING): Found nans while computing loss\n"
     ]
    },
    {
     "name": "stdout",
     "output_type": "stream",
     "text": [
      "2024-05-28 23:06:08 (INFO): energy_forces_within_threshold: 0.00e+00, energy_mae: nan, forcesx_mae: nan, forcesy_mae: nan, forcesz_mae: nan, forces_mae: nan, forces_cosine_similarity: nan, forces_magnitude_error: nan, loss: 6.72e+05, lr: 4.02e-04, epoch: 2.62e-01, step: 5.76e+03\n",
      "2024-05-28 23:06:09 (INFO): energy_forces_within_threshold: 0.00e+00, energy_mae: 2.34e+00, forcesx_mae: 8.71e-02, forcesy_mae: 1.09e-01, forcesz_mae: 1.30e-01, forces_mae: 1.09e-01, forces_cosine_similarity: 4.31e-02, forces_magnitude_error: 2.20e-01, loss: 8.09e+00, lr: 4.02e-04, epoch: 2.62e-01, step: 5.76e+03\n",
      "2024-05-28 23:06:09 (INFO): energy_forces_within_threshold: 0.00e+00, energy_mae: 2.02e+00, forcesx_mae: 7.19e-02, forcesy_mae: 7.94e-02, forcesz_mae: 8.69e-02, forces_mae: 7.94e-02, forces_cosine_similarity: 6.70e-02, forces_magnitude_error: 1.61e-01, loss: 6.40e+00, lr: 4.02e-04, epoch: 2.62e-01, step: 5.76e+03\n",
      "2024-05-28 23:06:10 (INFO): energy_forces_within_threshold: 0.00e+00, energy_mae: 2.00e+00, forcesx_mae: 8.83e-02, forcesy_mae: 1.21e-01, forcesz_mae: 1.29e-01, forces_mae: 1.13e-01, forces_cosine_similarity: 1.91e-02, forces_magnitude_error: 2.34e-01, loss: 8.94e+00, lr: 4.02e-04, epoch: 2.62e-01, step: 5.77e+03\n",
      "2024-05-28 23:06:10 (INFO): energy_forces_within_threshold: 0.00e+00, energy_mae: 1.66e+00, forcesx_mae: 5.47e-02, forcesy_mae: 6.70e-02, forcesz_mae: 7.61e-02, forces_mae: 6.59e-02, forces_cosine_similarity: 4.55e-03, forces_magnitude_error: 1.35e-01, loss: 5.37e+00, lr: 4.02e-04, epoch: 2.62e-01, step: 5.78e+03\n"
     ]
    },
    {
     "name": "stderr",
     "output_type": "stream",
     "text": [
      "2024-05-28 23:06:10 (WARNING): Found nans while computing loss\n"
     ]
    },
    {
     "name": "stdout",
     "output_type": "stream",
     "text": [
      "2024-05-28 23:06:10 (INFO): energy_forces_within_threshold: 0.00e+00, energy_mae: 2.83e+01, forcesx_mae: nan, forcesy_mae: nan, forcesz_mae: nan, forces_mae: nan, forces_cosine_similarity: nan, forces_magnitude_error: nan, loss: 2.47e+01, lr: 4.02e-04, epoch: 2.63e-01, step: 5.78e+03\n",
      "2024-05-28 23:06:11 (INFO): energy_forces_within_threshold: 0.00e+00, energy_mae: 2.62e+00, forcesx_mae: 9.03e-02, forcesy_mae: 1.10e-01, forcesz_mae: 1.05e-01, forces_mae: 1.02e-01, forces_cosine_similarity: 2.71e-02, forces_magnitude_error: 2.10e-01, loss: 8.38e+00, lr: 4.02e-04, epoch: 2.63e-01, step: 5.78e+03\n",
      "2024-05-28 23:06:11 (INFO): energy_forces_within_threshold: 0.00e+00, energy_mae: 1.97e+00, forcesx_mae: 5.41e-02, forcesy_mae: 6.86e-02, forcesz_mae: 7.52e-02, forces_mae: 6.60e-02, forces_cosine_similarity: -2.32e-02, forces_magnitude_error: 1.37e-01, loss: 5.71e+00, lr: 4.02e-04, epoch: 2.63e-01, step: 5.79e+03\n",
      "2024-05-28 23:06:12 (INFO): energy_forces_within_threshold: 0.00e+00, energy_mae: 2.21e+00, forcesx_mae: 8.03e-02, forcesy_mae: 1.04e-01, forcesz_mae: 1.27e-01, forces_mae: 1.04e-01, forces_cosine_similarity: -4.02e-02, forces_magnitude_error: 2.15e-01, loss: 8.19e+00, lr: 4.02e-04, epoch: 2.63e-01, step: 5.80e+03\n"
     ]
    },
    {
     "name": "stderr",
     "output_type": "stream",
     "text": [
      "2024-05-28 23:06:12 (WARNING): Found nans while computing loss\n"
     ]
    },
    {
     "name": "stdout",
     "output_type": "stream",
     "text": [
      "2024-05-28 23:06:12 (INFO): energy_forces_within_threshold: 0.00e+00, energy_mae: 3.58e+01, forcesx_mae: nan, forcesy_mae: nan, forcesz_mae: nan, forces_mae: nan, forces_cosine_similarity: nan, forces_magnitude_error: nan, loss: 2.93e+01, lr: 4.02e-04, epoch: 2.64e-01, step: 5.80e+03\n",
      "2024-05-28 23:06:13 (INFO): energy_forces_within_threshold: 0.00e+00, energy_mae: 2.34e+00, forcesx_mae: 1.04e-01, forcesy_mae: 1.02e-01, forcesz_mae: 1.46e-01, forces_mae: 1.18e-01, forces_cosine_similarity: 3.83e-02, forces_magnitude_error: 2.37e-01, loss: 9.37e+00, lr: 4.02e-04, epoch: 2.64e-01, step: 5.80e+03\n",
      "2024-05-28 23:06:13 (INFO): energy_forces_within_threshold: 0.00e+00, energy_mae: 2.33e+00, forcesx_mae: 3.91e-02, forcesy_mae: 5.71e-02, forcesz_mae: 7.01e-02, forces_mae: 5.54e-02, forces_cosine_similarity: -3.18e-02, forces_magnitude_error: 1.13e-01, loss: 4.64e+00, lr: 4.02e-04, epoch: 2.64e-01, step: 5.81e+03\n"
     ]
    },
    {
     "name": "stderr",
     "output_type": "stream",
     "text": [
      "2024-05-28 23:06:14 (WARNING): Found nans while computing loss\n",
      "2024-05-28 23:06:14 (WARNING): Found nans while computing loss\n"
     ]
    },
    {
     "name": "stdout",
     "output_type": "stream",
     "text": [
      "2024-05-28 23:06:14 (INFO): energy_forces_within_threshold: 0.00e+00, energy_mae: nan, forcesx_mae: nan, forcesy_mae: nan, forcesz_mae: nan, forces_mae: nan, forces_cosine_similarity: nan, forces_magnitude_error: nan, loss: 8.89e+00, lr: 4.02e-04, epoch: 2.64e-01, step: 5.82e+03\n",
      "2024-05-28 23:06:14 (INFO): energy_forces_within_threshold: 0.00e+00, energy_mae: 3.01e+00, forcesx_mae: 1.09e-01, forcesy_mae: 1.21e-01, forcesz_mae: 1.15e-01, forces_mae: 1.15e-01, forces_cosine_similarity: 4.88e-02, forces_magnitude_error: 2.27e-01, loss: 9.57e+00, lr: 4.02e-04, epoch: 2.64e-01, step: 5.82e+03\n",
      "2024-05-28 23:06:15 (INFO): energy_forces_within_threshold: 0.00e+00, energy_mae: 2.77e+00, forcesx_mae: 8.68e-02, forcesy_mae: 1.36e-01, forcesz_mae: 1.24e-01, forces_mae: 1.16e-01, forces_cosine_similarity: 2.61e-02, forces_magnitude_error: 2.38e-01, loss: 9.70e+00, lr: 4.02e-04, epoch: 2.65e-01, step: 5.82e+03\n"
     ]
    },
    {
     "name": "stderr",
     "output_type": "stream",
     "text": [
      "2024-05-28 23:06:15 (WARNING): Found nans while computing loss\n"
     ]
    },
    {
     "name": "stdout",
     "output_type": "stream",
     "text": [
      "2024-05-28 23:06:15 (INFO): energy_forces_within_threshold: 0.00e+00, energy_mae: 2.74e+00, forcesx_mae: 6.22e+01, forcesy_mae: inf, forcesz_mae: inf, forces_mae: inf, forces_cosine_similarity: nan, forces_magnitude_error: inf, loss: 9.47e+03, lr: 4.02e-04, epoch: 2.65e-01, step: 5.83e+03\n",
      "2024-05-28 23:06:16 (INFO): energy_forces_within_threshold: 0.00e+00, energy_mae: 2.10e+00, forcesx_mae: 4.70e-02, forcesy_mae: 6.56e-02, forcesz_mae: 5.85e-02, forces_mae: 5.70e-02, forces_cosine_similarity: 2.90e-02, forces_magnitude_error: 1.17e-01, loss: 4.85e+00, lr: 4.02e-04, epoch: 2.65e-01, step: 5.84e+03\n",
      "2024-05-28 23:06:16 (INFO): energy_forces_within_threshold: 0.00e+00, energy_mae: 2.15e+00, forcesx_mae: 4.38e-02, forcesy_mae: 4.70e-02, forcesz_mae: 5.64e-02, forces_mae: 4.90e-02, forces_cosine_similarity: -9.74e-03, forces_magnitude_error: 9.77e-02, loss: 4.22e+00, lr: 4.02e-04, epoch: 2.65e-01, step: 5.84e+03\n"
     ]
    },
    {
     "name": "stderr",
     "output_type": "stream",
     "text": [
      "2024-05-28 23:06:16 (WARNING): Found nans while computing loss\n",
      "2024-05-28 23:06:16 (WARNING): Found nans while computing loss\n",
      "2024-05-28 23:06:17 (WARNING): Found nans while computing loss\n",
      "2024-05-28 23:06:17 (WARNING): Found nans while computing loss\n"
     ]
    },
    {
     "name": "stdout",
     "output_type": "stream",
     "text": [
      "2024-05-28 23:06:17 (INFO): energy_forces_within_threshold: 0.00e+00, energy_mae: nan, forcesx_mae: nan, forcesy_mae: nan, forcesz_mae: nan, forces_mae: nan, forces_cosine_similarity: nan, forces_magnitude_error: nan, loss: 2.23e+04, lr: 4.02e-04, epoch: 2.66e-01, step: 5.84e+03\n",
      "2024-05-28 23:06:17 (INFO): energy_forces_within_threshold: 0.00e+00, energy_mae: 1.90e+00, forcesx_mae: 5.52e-02, forcesy_mae: 6.73e-02, forcesz_mae: 7.45e-02, forces_mae: 6.57e-02, forces_cosine_similarity: 5.69e-02, forces_magnitude_error: 1.34e-01, loss: 5.44e+00, lr: 4.02e-04, epoch: 2.66e-01, step: 5.85e+03\n",
      "2024-05-28 23:06:18 (INFO): energy_forces_within_threshold: 0.00e+00, energy_mae: 2.40e+00, forcesx_mae: 4.21e-02, forcesy_mae: 6.23e-02, forcesz_mae: 6.07e-02, forces_mae: 5.50e-02, forces_cosine_similarity: -6.61e-03, forces_magnitude_error: 1.13e-01, loss: 4.77e+00, lr: 4.02e-04, epoch: 2.66e-01, step: 5.86e+03\n",
      "2024-05-28 23:06:18 (INFO): energy_forces_within_threshold: 0.00e+00, energy_mae: 1.98e+00, forcesx_mae: 5.04e-02, forcesy_mae: 6.57e-02, forcesz_mae: 6.81e-02, forces_mae: 6.14e-02, forces_cosine_similarity: 9.78e-03, forces_magnitude_error: 1.25e-01, loss: 5.24e+00, lr: 4.02e-04, epoch: 2.66e-01, step: 5.86e+03\n"
     ]
    },
    {
     "name": "stderr",
     "output_type": "stream",
     "text": [
      "2024-05-28 23:06:18 (WARNING): Found nans while computing loss\n",
      "2024-05-28 23:06:18 (WARNING): Found nans while computing loss\n"
     ]
    },
    {
     "name": "stdout",
     "output_type": "stream",
     "text": [
      "2024-05-28 23:06:19 (INFO): energy_forces_within_threshold: 0.00e+00, energy_mae: nan, forcesx_mae: nan, forcesy_mae: nan, forcesz_mae: nan, forces_mae: nan, forces_cosine_similarity: nan, forces_magnitude_error: nan, loss: 9.36e+00, lr: 4.02e-04, epoch: 2.67e-01, step: 5.86e+03\n"
     ]
    },
    {
     "name": "stderr",
     "output_type": "stream",
     "text": [
      "2024-05-28 23:06:19 (WARNING): Found nans while computing loss\n"
     ]
    },
    {
     "name": "stdout",
     "output_type": "stream",
     "text": [
      "2024-05-28 23:06:19 (INFO): energy_forces_within_threshold: 0.00e+00, energy_mae: 4.65e+00, forcesx_mae: inf, forcesy_mae: inf, forcesz_mae: inf, forces_mae: inf, forces_cosine_similarity: nan, forces_magnitude_error: inf, loss: 3.83e+04, lr: 4.02e-04, epoch: 2.67e-01, step: 5.87e+03\n",
      "2024-05-28 23:06:20 (INFO): energy_forces_within_threshold: 0.00e+00, energy_mae: 2.03e+00, forcesx_mae: 1.04e-01, forcesy_mae: 1.19e-01, forcesz_mae: 9.62e-02, forces_mae: 1.06e-01, forces_cosine_similarity: 4.38e-02, forces_magnitude_error: 2.15e-01, loss: 8.31e+00, lr: 4.02e-04, epoch: 2.67e-01, step: 5.88e+03\n"
     ]
    },
    {
     "name": "stderr",
     "output_type": "stream",
     "text": [
      "2024-05-28 23:06:20 (WARNING): Found nans while computing loss\n",
      "2024-05-28 23:06:20 (WARNING): Found nans while computing loss\n",
      "2024-05-28 23:06:20 (WARNING): Found nans while computing loss\n",
      "2024-05-28 23:06:20 (WARNING): Found nans while computing loss\n"
     ]
    },
    {
     "name": "stdout",
     "output_type": "stream",
     "text": [
      "2024-05-28 23:06:20 (INFO): energy_forces_within_threshold: 0.00e+00, energy_mae: nan, forcesx_mae: nan, forcesy_mae: nan, forcesz_mae: nan, forces_mae: nan, forces_cosine_similarity: nan, forces_magnitude_error: nan, loss: 4.65e+05, lr: 4.02e-04, epoch: 2.67e-01, step: 5.88e+03\n",
      "2024-05-28 23:06:21 (INFO): energy_forces_within_threshold: 0.00e+00, energy_mae: 2.25e+00, forcesx_mae: 6.03e-02, forcesy_mae: 9.85e-02, forcesz_mae: 8.82e-02, forces_mae: 8.23e-02, forces_cosine_similarity: 2.57e-03, forces_magnitude_error: 1.70e-01, loss: 6.61e+00, lr: 4.02e-04, epoch: 2.67e-01, step: 5.88e+03\n",
      "2024-05-28 23:06:21 (INFO): energy_forces_within_threshold: 0.00e+00, energy_mae: 1.61e+00, forcesx_mae: 6.69e-02, forcesy_mae: 7.66e-02, forcesz_mae: 6.87e-02, forces_mae: 7.07e-02, forces_cosine_similarity: 3.41e-02, forces_magnitude_error: 1.41e-01, loss: 5.58e+00, lr: 4.02e-04, epoch: 2.68e-01, step: 5.89e+03\n",
      "2024-05-28 23:06:22 (INFO): energy_forces_within_threshold: 0.00e+00, energy_mae: 1.77e+00, forcesx_mae: 5.92e-02, forcesy_mae: 5.43e-02, forcesz_mae: 4.84e-02, forces_mae: 5.40e-02, forces_cosine_similarity: 3.74e-03, forces_magnitude_error: 1.08e-01, loss: 4.50e+00, lr: 4.02e-04, epoch: 2.68e-01, step: 5.90e+03\n"
     ]
    },
    {
     "name": "stderr",
     "output_type": "stream",
     "text": [
      "2024-05-28 23:06:22 (WARNING): Found nans while computing loss\n",
      "2024-05-28 23:06:22 (WARNING): Found nans while computing loss\n"
     ]
    },
    {
     "name": "stdout",
     "output_type": "stream",
     "text": [
      "2024-05-28 23:06:22 (INFO): energy_forces_within_threshold: 0.00e+00, energy_mae: nan, forcesx_mae: nan, forcesy_mae: nan, forcesz_mae: nan, forces_mae: nan, forces_cosine_similarity: nan, forces_magnitude_error: nan, loss: 7.76e+00, lr: 4.02e-04, epoch: 2.68e-01, step: 5.90e+03\n",
      "2024-05-28 23:06:23 (INFO): energy_forces_within_threshold: 0.00e+00, energy_mae: 2.02e+00, forcesx_mae: 6.64e-02, forcesy_mae: 7.34e-02, forcesz_mae: 7.78e-02, forces_mae: 7.25e-02, forces_cosine_similarity: 6.48e-02, forces_magnitude_error: 1.44e-01, loss: 5.65e+00, lr: 4.02e-04, epoch: 2.68e-01, step: 5.90e+03\n",
      "2024-05-28 23:06:23 (INFO): energy_forces_within_threshold: 0.00e+00, energy_mae: 2.88e+00, forcesx_mae: 5.47e-02, forcesy_mae: 5.81e-02, forcesz_mae: 6.34e-02, forces_mae: 5.87e-02, forces_cosine_similarity: 2.77e-02, forces_magnitude_error: 1.18e-01, loss: 5.32e+00, lr: 4.02e-04, epoch: 2.69e-01, step: 5.91e+03\n"
     ]
    },
    {
     "name": "stderr",
     "output_type": "stream",
     "text": [
      "2024-05-28 23:06:23 (WARNING): Found nans while computing loss\n",
      "2024-05-28 23:06:23 (WARNING): Found nans while computing loss\n"
     ]
    },
    {
     "name": "stdout",
     "output_type": "stream",
     "text": [
      "2024-05-28 23:06:24 (INFO): energy_forces_within_threshold: 0.00e+00, energy_mae: nan, forcesx_mae: nan, forcesy_mae: nan, forcesz_mae: nan, forces_mae: nan, forces_cosine_similarity: nan, forces_magnitude_error: nan, loss: 2.07e+04, lr: 4.02e-04, epoch: 2.69e-01, step: 5.92e+03\n",
      "2024-05-28 23:06:24 (INFO): energy_forces_within_threshold: 0.00e+00, energy_mae: 1.65e+00, forcesx_mae: 6.34e-02, forcesy_mae: 7.85e-02, forcesz_mae: 9.01e-02, forces_mae: 7.73e-02, forces_cosine_similarity: 8.29e-02, forces_magnitude_error: 1.60e-01, loss: 6.20e+00, lr: 4.02e-04, epoch: 2.69e-01, step: 5.92e+03\n",
      "2024-05-28 23:06:25 (INFO): energy_forces_within_threshold: 0.00e+00, energy_mae: 2.85e+00, forcesx_mae: 7.45e-02, forcesy_mae: 1.81e-01, forcesz_mae: 1.63e-01, forces_mae: 1.40e-01, forces_cosine_similarity: 3.52e-02, forces_magnitude_error: 2.91e-01, loss: 1.02e+01, lr: 4.02e-04, epoch: 2.69e-01, step: 5.92e+03\n"
     ]
    },
    {
     "name": "stderr",
     "output_type": "stream",
     "text": [
      "2024-05-28 23:06:25 (WARNING): Found nans while computing loss\n",
      "2024-05-28 23:06:25 (WARNING): Found nans while computing loss\n",
      "2024-05-28 23:06:25 (WARNING): Found nans while computing loss\n"
     ]
    },
    {
     "name": "stdout",
     "output_type": "stream",
     "text": [
      "2024-05-28 23:06:25 (INFO): energy_forces_within_threshold: 0.00e+00, energy_mae: nan, forcesx_mae: nan, forcesy_mae: nan, forcesz_mae: nan, forces_mae: nan, forces_cosine_similarity: nan, forces_magnitude_error: nan, loss: 5.09e+05, lr: 4.02e-04, epoch: 2.69e-01, step: 5.93e+03\n"
     ]
    },
    {
     "name": "stderr",
     "output_type": "stream",
     "text": [
      "2024-05-28 23:06:25 (WARNING): Found nans while computing loss\n",
      "2024-05-28 23:06:25 (WARNING): Found nans while computing loss\n"
     ]
    },
    {
     "name": "stdout",
     "output_type": "stream",
     "text": [
      "2024-05-28 23:06:26 (INFO): energy_forces_within_threshold: 0.00e+00, energy_mae: nan, forcesx_mae: nan, forcesy_mae: nan, forcesz_mae: nan, forces_mae: nan, forces_cosine_similarity: nan, forces_magnitude_error: nan, loss: 6.53e+04, lr: 4.02e-04, epoch: 2.70e-01, step: 5.94e+03\n"
     ]
    },
    {
     "name": "stderr",
     "output_type": "stream",
     "text": [
      "2024-05-28 23:06:26 (WARNING): Found nans while computing loss\n",
      "2024-05-28 23:06:26 (WARNING): Found nans while computing loss\n",
      "2024-05-28 23:06:26 (WARNING): Found nans while computing loss\n",
      "2024-05-28 23:06:26 (WARNING): Found nans while computing loss\n"
     ]
    },
    {
     "name": "stdout",
     "output_type": "stream",
     "text": [
      "2024-05-28 23:06:26 (INFO): energy_forces_within_threshold: 0.00e+00, energy_mae: nan, forcesx_mae: nan, forcesy_mae: nan, forcesz_mae: nan, forces_mae: nan, forces_cosine_similarity: nan, forces_magnitude_error: nan, loss: 1.80e+04, lr: 4.02e-04, epoch: 2.70e-01, step: 5.94e+03\n",
      "2024-05-28 23:06:26 (INFO): energy_forces_within_threshold: 0.00e+00, energy_mae: 2.07e+00, forcesx_mae: 6.85e-02, forcesy_mae: 8.92e-02, forcesz_mae: 7.98e-02, forces_mae: 7.92e-02, forces_cosine_similarity: 5.60e-02, forces_magnitude_error: 1.60e-01, loss: 6.29e+00, lr: 4.02e-04, epoch: 2.70e-01, step: 5.94e+03\n"
     ]
    },
    {
     "name": "stderr",
     "output_type": "stream",
     "text": [
      "2024-05-28 23:06:27 (WARNING): Found nans while computing loss\n"
     ]
    },
    {
     "name": "stdout",
     "output_type": "stream",
     "text": [
      "2024-05-28 23:06:27 (INFO): energy_forces_within_threshold: 0.00e+00, energy_mae: 2.88e+00, forcesx_mae: nan, forcesy_mae: nan, forcesz_mae: nan, forces_mae: nan, forces_cosine_similarity: nan, forces_magnitude_error: nan, loss: 5.67e+00, lr: 4.02e-04, epoch: 2.70e-01, step: 5.95e+03\n"
     ]
    },
    {
     "name": "stderr",
     "output_type": "stream",
     "text": [
      "2024-05-28 23:06:28 (WARNING): Found nans while computing loss\n",
      "2024-05-28 23:06:28 (WARNING): Found nans while computing loss\n"
     ]
    },
    {
     "name": "stdout",
     "output_type": "stream",
     "text": [
      "2024-05-28 23:06:28 (INFO): energy_forces_within_threshold: 0.00e+00, energy_mae: nan, forcesx_mae: nan, forcesy_mae: nan, forcesz_mae: nan, forces_mae: nan, forces_cosine_similarity: nan, forces_magnitude_error: nan, loss: 1.11e+05, lr: 4.02e-04, epoch: 2.71e-01, step: 5.96e+03\n"
     ]
    },
    {
     "name": "stderr",
     "output_type": "stream",
     "text": [
      "2024-05-28 23:06:28 (WARNING): Found nans while computing loss\n",
      "2024-05-28 23:06:28 (WARNING): Found nans while computing loss\n"
     ]
    },
    {
     "name": "stdout",
     "output_type": "stream",
     "text": [
      "2024-05-28 23:06:28 (INFO): energy_forces_within_threshold: 0.00e+00, energy_mae: nan, forcesx_mae: nan, forcesy_mae: nan, forcesz_mae: nan, forces_mae: nan, forces_cosine_similarity: nan, forces_magnitude_error: nan, loss: 3.93e+05, lr: 4.02e-04, epoch: 2.71e-01, step: 5.96e+03\n"
     ]
    },
    {
     "name": "stderr",
     "output_type": "stream",
     "text": [
      "2024-05-28 23:06:28 (WARNING): Found nans while computing loss\n",
      "2024-05-28 23:06:28 (WARNING): Found nans while computing loss\n",
      "2024-05-28 23:06:29 (WARNING): Found nans while computing loss\n"
     ]
    },
    {
     "name": "stdout",
     "output_type": "stream",
     "text": [
      "2024-05-28 23:06:29 (INFO): energy_forces_within_threshold: 0.00e+00, energy_mae: nan, forcesx_mae: nan, forcesy_mae: nan, forcesz_mae: nan, forces_mae: nan, forces_cosine_similarity: nan, forces_magnitude_error: nan, loss: 9.16e+03, lr: 4.02e-04, epoch: 2.71e-01, step: 5.96e+03\n",
      "2024-05-28 23:06:29 (INFO): energy_forces_within_threshold: 0.00e+00, energy_mae: 1.69e+00, forcesx_mae: 4.03e-02, forcesy_mae: 5.57e-02, forcesz_mae: 4.94e-02, forces_mae: 4.85e-02, forces_cosine_similarity: 4.52e-03, forces_magnitude_error: 9.68e-02, loss: 4.03e+00, lr: 4.02e-04, epoch: 2.71e-01, step: 5.97e+03\n",
      "2024-05-28 23:06:30 (INFO): energy_forces_within_threshold: 0.00e+00, energy_mae: 3.17e+00, forcesx_mae: 7.95e-02, forcesy_mae: 1.04e-01, forcesz_mae: 1.06e-01, forces_mae: 9.63e-02, forces_cosine_similarity: 2.68e-02, forces_magnitude_error: 1.95e-01, loss: 7.95e+00, lr: 4.02e-04, epoch: 2.72e-01, step: 5.98e+03\n"
     ]
    },
    {
     "name": "stderr",
     "output_type": "stream",
     "text": [
      "2024-05-28 23:06:30 (WARNING): Found nans while computing loss\n",
      "2024-05-28 23:06:30 (WARNING): Found nans while computing loss\n"
     ]
    },
    {
     "name": "stdout",
     "output_type": "stream",
     "text": [
      "2024-05-28 23:06:30 (INFO): energy_forces_within_threshold: 0.00e+00, energy_mae: nan, forcesx_mae: nan, forcesy_mae: nan, forcesz_mae: nan, forces_mae: nan, forces_cosine_similarity: nan, forces_magnitude_error: nan, loss: 2.74e+05, lr: 4.02e-04, epoch: 2.72e-01, step: 5.98e+03\n",
      "2024-05-28 23:06:31 (INFO): energy_forces_within_threshold: 0.00e+00, energy_mae: 1.97e+00, forcesx_mae: 6.10e-02, forcesy_mae: 5.71e-02, forcesz_mae: 6.07e-02, forces_mae: 5.96e-02, forces_cosine_similarity: 1.98e-02, forces_magnitude_error: 1.18e-01, loss: 4.83e+00, lr: 4.02e-04, epoch: 2.72e-01, step: 5.98e+03\n"
     ]
    },
    {
     "name": "stderr",
     "output_type": "stream",
     "text": [
      "2024-05-28 23:06:31 (WARNING): Found nans while computing loss\n",
      "2024-05-28 23:06:31 (WARNING): Found nans while computing loss\n",
      "2024-05-28 23:06:31 (WARNING): Found nans while computing loss\n",
      "2024-05-28 23:06:31 (WARNING): Found nans while computing loss\n"
     ]
    },
    {
     "name": "stdout",
     "output_type": "stream",
     "text": [
      "2024-05-28 23:06:31 (INFO): energy_forces_within_threshold: 0.00e+00, energy_mae: nan, forcesx_mae: nan, forcesy_mae: nan, forcesz_mae: nan, forces_mae: nan, forces_cosine_similarity: nan, forces_magnitude_error: nan, loss: 2.54e+04, lr: 4.02e-04, epoch: 2.72e-01, step: 5.99e+03\n",
      "2024-05-28 23:06:32 (INFO): energy_forces_within_threshold: 0.00e+00, energy_mae: 1.96e+00, forcesx_mae: 5.11e-02, forcesy_mae: 6.66e-02, forcesz_mae: 7.65e-02, forces_mae: 6.47e-02, forces_cosine_similarity: 1.44e-02, forces_magnitude_error: 1.35e-01, loss: 5.48e+00, lr: 4.02e-04, epoch: 2.72e-01, step: 6.00e+03\n"
     ]
    },
    {
     "name": "stderr",
     "output_type": "stream",
     "text": [
      "2024-05-28 23:06:32 (WARNING): Found nans while computing loss\n",
      "2024-05-28 23:06:32 (WARNING): Found nans while computing loss\n"
     ]
    },
    {
     "name": "stdout",
     "output_type": "stream",
     "text": [
      "2024-05-28 23:06:32 (INFO): energy_forces_within_threshold: 0.00e+00, energy_mae: nan, forcesx_mae: nan, forcesy_mae: nan, forcesz_mae: nan, forces_mae: nan, forces_cosine_similarity: nan, forces_magnitude_error: nan, loss: 3.14e+05, lr: 4.02e-04, epoch: 2.73e-01, step: 6.00e+03\n",
      "2024-05-28 23:06:33 (INFO): energy_forces_within_threshold: 0.00e+00, energy_mae: 1.69e+00, forcesx_mae: 3.72e-02, forcesy_mae: 4.79e-02, forcesz_mae: 4.81e-02, forces_mae: 4.44e-02, forces_cosine_similarity: 6.56e-02, forces_magnitude_error: 8.93e-02, loss: 3.70e+00, lr: 4.02e-04, epoch: 2.73e-01, step: 6.00e+03\n",
      "2024-05-28 23:06:33 (INFO): energy_forces_within_threshold: 0.00e+00, energy_mae: 2.01e+00, forcesx_mae: 8.48e-02, forcesy_mae: 9.52e-02, forcesz_mae: 9.65e-02, forces_mae: 9.22e-02, forces_cosine_similarity: 6.30e-02, forces_magnitude_error: 1.87e-01, loss: 7.00e+00, lr: 4.02e-04, epoch: 2.73e-01, step: 6.01e+03\n"
     ]
    },
    {
     "name": "stderr",
     "output_type": "stream",
     "text": [
      "2024-05-28 23:06:33 (WARNING): Found nans while computing loss\n",
      "2024-05-28 23:06:33 (WARNING): Found nans while computing loss\n",
      "2024-05-28 23:06:33 (WARNING): Found nans while computing loss\n",
      "2024-05-28 23:06:33 (WARNING): Found nans while computing loss\n"
     ]
    },
    {
     "name": "stdout",
     "output_type": "stream",
     "text": [
      "2024-05-28 23:06:33 (INFO): energy_forces_within_threshold: 0.00e+00, energy_mae: nan, forcesx_mae: nan, forcesy_mae: nan, forcesz_mae: nan, forces_mae: nan, forces_cosine_similarity: nan, forces_magnitude_error: nan, loss: 2.11e+04, lr: 4.02e-04, epoch: 2.73e-01, step: 6.02e+03\n"
     ]
    },
    {
     "name": "stderr",
     "output_type": "stream",
     "text": [
      "2024-05-28 23:06:34 (WARNING): Found nans while computing loss\n",
      "2024-05-28 23:06:34 (WARNING): Found nans while computing loss\n"
     ]
    },
    {
     "name": "stdout",
     "output_type": "stream",
     "text": [
      "2024-05-28 23:06:34 (INFO): energy_forces_within_threshold: 0.00e+00, energy_mae: nan, forcesx_mae: nan, forcesy_mae: nan, forcesz_mae: nan, forces_mae: nan, forces_cosine_similarity: nan, forces_magnitude_error: nan, loss: 9.67e+00, lr: 4.02e-04, epoch: 2.74e-01, step: 6.02e+03\n"
     ]
    },
    {
     "name": "stderr",
     "output_type": "stream",
     "text": [
      "2024-05-28 23:06:34 (WARNING): Found nans while computing loss\n"
     ]
    },
    {
     "name": "stdout",
     "output_type": "stream",
     "text": [
      "2024-05-28 23:06:34 (INFO): energy_forces_within_threshold: 0.00e+00, energy_mae: 2.53e+00, forcesx_mae: inf, forcesy_mae: inf, forcesz_mae: inf, forces_mae: inf, forces_cosine_similarity: nan, forces_magnitude_error: inf, loss: 1.81e+04, lr: 4.02e-04, epoch: 2.74e-01, step: 6.02e+03\n",
      "2024-05-28 23:06:35 (INFO): energy_forces_within_threshold: 0.00e+00, energy_mae: 1.98e+00, forcesx_mae: 9.81e-02, forcesy_mae: 1.92e-01, forcesz_mae: 1.73e-01, forces_mae: 1.54e-01, forces_cosine_similarity: 2.02e-03, forces_magnitude_error: 3.19e-01, loss: 1.20e+01, lr: 4.02e-04, epoch: 2.74e-01, step: 6.03e+03\n",
      "2024-05-28 23:06:35 (INFO): energy_forces_within_threshold: 0.00e+00, energy_mae: 7.64e+00, forcesx_mae: 5.31e-02, forcesy_mae: 6.51e-02, forcesz_mae: 6.74e-02, forces_mae: 6.19e-02, forces_cosine_similarity: 1.55e-02, forces_magnitude_error: 1.26e-01, loss: 1.02e+01, lr: 4.02e-04, epoch: 2.74e-01, step: 6.04e+03\n"
     ]
    },
    {
     "name": "stderr",
     "output_type": "stream",
     "text": [
      "2024-05-28 23:06:35 (WARNING): Found nans while computing loss\n",
      "2024-05-28 23:06:35 (WARNING): Found nans while computing loss\n"
     ]
    },
    {
     "name": "stdout",
     "output_type": "stream",
     "text": [
      "2024-05-28 23:06:36 (INFO): energy_forces_within_threshold: 0.00e+00, energy_mae: nan, forcesx_mae: nan, forcesy_mae: nan, forcesz_mae: nan, forces_mae: nan, forces_cosine_similarity: nan, forces_magnitude_error: nan, loss: 8.02e+00, lr: 4.02e-04, epoch: 2.74e-01, step: 6.04e+03\n",
      "2024-05-28 23:06:36 (INFO): energy_forces_within_threshold: 0.00e+00, energy_mae: 1.62e+00, forcesx_mae: 5.24e-02, forcesy_mae: 7.90e-02, forcesz_mae: 1.08e-01, forces_mae: 7.99e-02, forces_cosine_similarity: 7.07e-03, forces_magnitude_error: 1.72e-01, loss: 6.67e+00, lr: 4.02e-04, epoch: 2.75e-01, step: 6.04e+03\n",
      "2024-05-28 23:06:37 (INFO): energy_forces_within_threshold: 0.00e+00, energy_mae: 2.50e+00, forcesx_mae: 7.50e-02, forcesy_mae: 1.69e-01, forcesz_mae: 1.04e-01, forces_mae: 1.16e-01, forces_cosine_similarity: -2.04e-03, forces_magnitude_error: 2.42e-01, loss: 9.11e+00, lr: 4.02e-04, epoch: 2.75e-01, step: 6.05e+03\n"
     ]
    },
    {
     "name": "stderr",
     "output_type": "stream",
     "text": [
      "2024-05-28 23:06:37 (WARNING): Found nans while computing loss\n",
      "2024-05-28 23:06:37 (WARNING): Found nans while computing loss\n",
      "2024-05-28 23:06:37 (WARNING): Found nans while computing loss\n",
      "2024-05-28 23:06:37 (WARNING): Found nans while computing loss\n"
     ]
    },
    {
     "name": "stdout",
     "output_type": "stream",
     "text": [
      "2024-05-28 23:06:37 (INFO): energy_forces_within_threshold: 0.00e+00, energy_mae: nan, forcesx_mae: nan, forcesy_mae: nan, forcesz_mae: nan, forces_mae: nan, forces_cosine_similarity: nan, forces_magnitude_error: nan, loss: 1.83e+05, lr: 4.02e-04, epoch: 2.75e-01, step: 6.06e+03\n"
     ]
    },
    {
     "name": "stderr",
     "output_type": "stream",
     "text": [
      "2024-05-28 23:06:37 (WARNING): Found nans while computing loss\n",
      "2024-05-28 23:06:37 (WARNING): Found nans while computing loss\n"
     ]
    },
    {
     "name": "stdout",
     "output_type": "stream",
     "text": [
      "2024-05-28 23:06:38 (INFO): energy_forces_within_threshold: 0.00e+00, energy_mae: nan, forcesx_mae: nan, forcesy_mae: nan, forcesz_mae: nan, forces_mae: nan, forces_cosine_similarity: nan, forces_magnitude_error: nan, loss: 2.01e+04, lr: 4.02e-04, epoch: 2.75e-01, step: 6.06e+03\n"
     ]
    },
    {
     "name": "stderr",
     "output_type": "stream",
     "text": [
      "2024-05-28 23:06:38 (WARNING): Found nans while computing loss\n",
      "2024-05-28 23:06:38 (WARNING): Found nans while computing loss\n"
     ]
    },
    {
     "name": "stdout",
     "output_type": "stream",
     "text": [
      "2024-05-28 23:06:38 (INFO): energy_forces_within_threshold: 0.00e+00, energy_mae: nan, forcesx_mae: nan, forcesy_mae: nan, forcesz_mae: nan, forces_mae: nan, forces_cosine_similarity: nan, forces_magnitude_error: nan, loss: 3.13e+05, lr: 4.02e-04, epoch: 2.76e-01, step: 6.06e+03\n",
      "2024-05-28 23:06:39 (INFO): energy_forces_within_threshold: 0.00e+00, energy_mae: 1.70e+00, forcesx_mae: 6.38e-02, forcesy_mae: 7.41e-02, forcesz_mae: 8.34e-02, forces_mae: 7.38e-02, forces_cosine_similarity: 5.00e-02, forces_magnitude_error: 1.50e-01, loss: 5.99e+00, lr: 4.02e-04, epoch: 2.76e-01, step: 6.07e+03\n"
     ]
    },
    {
     "name": "stderr",
     "output_type": "stream",
     "text": [
      "2024-05-28 23:06:39 (WARNING): Found nans while computing loss\n",
      "2024-05-28 23:06:39 (WARNING): Found nans while computing loss\n"
     ]
    },
    {
     "name": "stdout",
     "output_type": "stream",
     "text": [
      "2024-05-28 23:06:39 (INFO): energy_forces_within_threshold: 0.00e+00, energy_mae: nan, forcesx_mae: nan, forcesy_mae: nan, forcesz_mae: nan, forces_mae: nan, forces_cosine_similarity: nan, forces_magnitude_error: nan, loss: 6.03e+00, lr: 4.02e-04, epoch: 2.76e-01, step: 6.08e+03\n"
     ]
    },
    {
     "name": "stderr",
     "output_type": "stream",
     "text": [
      "2024-05-28 23:06:39 (WARNING): Found nans while computing loss\n",
      "2024-05-28 23:06:39 (WARNING): Found nans while computing loss\n"
     ]
    },
    {
     "name": "stdout",
     "output_type": "stream",
     "text": [
      "2024-05-28 23:06:39 (INFO): energy_forces_within_threshold: 0.00e+00, energy_mae: nan, forcesx_mae: nan, forcesy_mae: nan, forcesz_mae: nan, forces_mae: nan, forces_cosine_similarity: nan, forces_magnitude_error: nan, loss: 8.83e+00, lr: 4.02e-04, epoch: 2.76e-01, step: 6.08e+03\n",
      "2024-05-28 23:06:40 (INFO): energy_forces_within_threshold: 0.00e+00, energy_mae: 2.04e+00, forcesx_mae: 5.08e-02, forcesy_mae: 6.09e-02, forcesz_mae: 5.60e-02, forces_mae: 5.59e-02, forces_cosine_similarity: 2.63e-02, forces_magnitude_error: 1.13e-01, loss: 4.76e+00, lr: 4.02e-04, epoch: 2.77e-01, step: 6.08e+03\n"
     ]
    },
    {
     "name": "stderr",
     "output_type": "stream",
     "text": [
      "2024-05-28 23:06:40 (WARNING): Found nans while computing loss\n",
      "2024-05-28 23:06:40 (WARNING): Found nans while computing loss\n",
      "2024-05-28 23:06:40 (WARNING): Found nans while computing loss\n",
      "2024-05-28 23:06:40 (WARNING): Found nans while computing loss\n"
     ]
    },
    {
     "name": "stdout",
     "output_type": "stream",
     "text": [
      "2024-05-28 23:06:40 (INFO): energy_forces_within_threshold: 0.00e+00, energy_mae: nan, forcesx_mae: nan, forcesy_mae: nan, forcesz_mae: nan, forces_mae: nan, forces_cosine_similarity: nan, forces_magnitude_error: nan, loss: 2.40e+05, lr: 4.02e-04, epoch: 2.77e-01, step: 6.09e+03\n",
      "2024-05-28 23:06:41 (INFO): energy_forces_within_threshold: 0.00e+00, energy_mae: 1.82e+00, forcesx_mae: 5.77e-02, forcesy_mae: 7.12e-02, forcesz_mae: 7.89e-02, forces_mae: 6.93e-02, forces_cosine_similarity: 6.97e-02, forces_magnitude_error: 1.40e-01, loss: 5.60e+00, lr: 4.02e-04, epoch: 2.77e-01, step: 6.10e+03\n"
     ]
    },
    {
     "name": "stderr",
     "output_type": "stream",
     "text": [
      "2024-05-28 23:06:41 (WARNING): Found nans while computing loss\n",
      "2024-05-28 23:06:41 (WARNING): Found nans while computing loss\n"
     ]
    },
    {
     "name": "stdout",
     "output_type": "stream",
     "text": [
      "2024-05-28 23:06:41 (INFO): energy_forces_within_threshold: 0.00e+00, energy_mae: nan, forcesx_mae: nan, forcesy_mae: nan, forcesz_mae: nan, forces_mae: nan, forces_cosine_similarity: nan, forces_magnitude_error: nan, loss: 4.83e+04, lr: 4.02e-04, epoch: 2.77e-01, step: 6.10e+03\n"
     ]
    },
    {
     "name": "stderr",
     "output_type": "stream",
     "text": [
      "2024-05-28 23:06:41 (WARNING): Found nans while computing loss\n"
     ]
    },
    {
     "name": "stdout",
     "output_type": "stream",
     "text": [
      "2024-05-28 23:06:42 (INFO): energy_forces_within_threshold: 0.00e+00, energy_mae: 1.37e+01, forcesx_mae: inf, forcesy_mae: inf, forcesz_mae: inf, forces_mae: inf, forces_cosine_similarity: nan, forces_magnitude_error: inf, loss: 4.66e+04, lr: 4.02e-04, epoch: 2.77e-01, step: 6.10e+03\n"
     ]
    },
    {
     "name": "stderr",
     "output_type": "stream",
     "text": [
      "2024-05-28 23:06:42 (WARNING): Found nans while computing loss\n",
      "2024-05-28 23:06:42 (WARNING): Found nans while computing loss\n"
     ]
    },
    {
     "name": "stdout",
     "output_type": "stream",
     "text": [
      "2024-05-28 23:06:42 (INFO): energy_forces_within_threshold: 0.00e+00, energy_mae: nan, forcesx_mae: nan, forcesy_mae: nan, forcesz_mae: nan, forces_mae: nan, forces_cosine_similarity: nan, forces_magnitude_error: nan, loss: 1.22e+01, lr: 4.02e-04, epoch: 2.78e-01, step: 6.11e+03\n",
      "2024-05-28 23:06:43 (INFO): energy_forces_within_threshold: 0.00e+00, energy_mae: 1.83e+00, forcesx_mae: 6.34e-02, forcesy_mae: 6.17e-02, forcesz_mae: 7.50e-02, forces_mae: 6.67e-02, forces_cosine_similarity: 2.34e-02, forces_magnitude_error: 1.35e-01, loss: 5.35e+00, lr: 4.02e-04, epoch: 2.78e-01, step: 6.12e+03\n",
      "2024-05-28 23:06:43 (INFO): energy_forces_within_threshold: 0.00e+00, energy_mae: 2.21e+00, forcesx_mae: 5.58e-02, forcesy_mae: 9.97e-02, forcesz_mae: 1.02e-01, forces_mae: 8.59e-02, forces_cosine_similarity: 7.24e-02, forces_magnitude_error: 1.77e-01, loss: 7.14e+00, lr: 4.02e-04, epoch: 2.78e-01, step: 6.12e+03\n",
      "2024-05-28 23:06:44 (INFO): energy_forces_within_threshold: 0.00e+00, energy_mae: 2.20e+00, forcesx_mae: 6.20e-02, forcesy_mae: 6.02e-02, forcesz_mae: 7.41e-02, forces_mae: 6.54e-02, forces_cosine_similarity: -2.25e-02, forces_magnitude_error: 1.30e-01, loss: 5.37e+00, lr: 4.02e-04, epoch: 2.78e-01, step: 6.12e+03\n"
     ]
    },
    {
     "name": "stderr",
     "output_type": "stream",
     "text": [
      "2024-05-28 23:06:44 (WARNING): Found nans while computing loss\n",
      "2024-05-28 23:06:44 (WARNING): Found nans while computing loss\n"
     ]
    },
    {
     "name": "stdout",
     "output_type": "stream",
     "text": [
      "2024-05-28 23:06:44 (INFO): energy_forces_within_threshold: 0.00e+00, energy_mae: nan, forcesx_mae: nan, forcesy_mae: nan, forcesz_mae: nan, forces_mae: nan, forces_cosine_similarity: nan, forces_magnitude_error: nan, loss: 7.37e+00, lr: 4.02e-04, epoch: 2.79e-01, step: 6.13e+03\n"
     ]
    },
    {
     "name": "stderr",
     "output_type": "stream",
     "text": [
      "2024-05-28 23:06:44 (WARNING): Found nans while computing loss\n"
     ]
    },
    {
     "name": "stdout",
     "output_type": "stream",
     "text": [
      "2024-05-28 23:06:45 (INFO): energy_forces_within_threshold: 0.00e+00, energy_mae: 4.19e+02, forcesx_mae: nan, forcesy_mae: nan, forcesz_mae: nan, forces_mae: nan, forces_cosine_similarity: nan, forces_magnitude_error: nan, loss: 3.73e+04, lr: 4.02e-04, epoch: 2.79e-01, step: 6.14e+03\n",
      "2024-05-28 23:06:45 (INFO): energy_forces_within_threshold: 0.00e+00, energy_mae: 1.78e+00, forcesx_mae: 7.12e-02, forcesy_mae: 7.04e-02, forcesz_mae: 8.03e-02, forces_mae: 7.40e-02, forces_cosine_similarity: 3.85e-02, forces_magnitude_error: 1.51e-01, loss: 5.89e+00, lr: 4.02e-04, epoch: 2.79e-01, step: 6.14e+03\n"
     ]
    },
    {
     "name": "stderr",
     "output_type": "stream",
     "text": [
      "2024-05-28 23:06:45 (WARNING): Found nans while computing loss\n",
      "2024-05-28 23:06:45 (WARNING): Found nans while computing loss\n"
     ]
    },
    {
     "name": "stdout",
     "output_type": "stream",
     "text": [
      "2024-05-28 23:06:46 (INFO): energy_forces_within_threshold: 0.00e+00, energy_mae: nan, forcesx_mae: nan, forcesy_mae: nan, forcesz_mae: nan, forces_mae: nan, forces_cosine_similarity: nan, forces_magnitude_error: nan, loss: 6.32e+00, lr: 4.02e-04, epoch: 2.79e-01, step: 6.14e+03\n",
      "2024-05-28 23:06:46 (INFO): energy_forces_within_threshold: 0.00e+00, energy_mae: 2.09e+00, forcesx_mae: 6.22e-02, forcesy_mae: 7.49e-02, forcesz_mae: 7.39e-02, forces_mae: 7.04e-02, forces_cosine_similarity: -4.17e-03, forces_magnitude_error: 1.42e-01, loss: 5.72e+00, lr: 4.02e-04, epoch: 2.79e-01, step: 6.15e+03\n",
      "2024-05-28 23:06:47 (INFO): energy_forces_within_threshold: 0.00e+00, energy_mae: 2.13e+00, forcesx_mae: 1.04e-01, forcesy_mae: 9.38e-02, forcesz_mae: 1.05e-01, forces_mae: 1.01e-01, forces_cosine_similarity: 1.11e-02, forces_magnitude_error: 2.04e-01, loss: 7.59e+00, lr: 4.02e-04, epoch: 2.80e-01, step: 6.16e+03\n",
      "2024-05-28 23:06:47 (INFO): energy_forces_within_threshold: 0.00e+00, energy_mae: 2.00e+00, forcesx_mae: 8.82e-02, forcesy_mae: 9.02e-02, forcesz_mae: 1.11e-01, forces_mae: 9.63e-02, forces_cosine_similarity: 4.60e-02, forces_magnitude_error: 1.99e-01, loss: 7.83e+00, lr: 4.02e-04, epoch: 2.80e-01, step: 6.16e+03\n"
     ]
    },
    {
     "name": "stderr",
     "output_type": "stream",
     "text": [
      "2024-05-28 23:06:47 (WARNING): Found nans while computing loss\n",
      "2024-05-28 23:06:47 (WARNING): Found nans while computing loss\n",
      "2024-05-28 23:06:47 (WARNING): Found nans while computing loss\n",
      "2024-05-28 23:06:47 (WARNING): Found nans while computing loss\n"
     ]
    },
    {
     "name": "stdout",
     "output_type": "stream",
     "text": [
      "2024-05-28 23:06:47 (INFO): energy_forces_within_threshold: 0.00e+00, energy_mae: nan, forcesx_mae: nan, forcesy_mae: nan, forcesz_mae: nan, forces_mae: nan, forces_cosine_similarity: nan, forces_magnitude_error: nan, loss: 2.74e+03, lr: 4.02e-04, epoch: 2.80e-01, step: 6.16e+03\n",
      "2024-05-28 23:06:48 (INFO): energy_forces_within_threshold: 0.00e+00, energy_mae: 2.02e+00, forcesx_mae: 7.13e-02, forcesy_mae: 7.76e-02, forcesz_mae: 7.96e-02, forces_mae: 7.62e-02, forces_cosine_similarity: 1.71e-02, forces_magnitude_error: 1.53e-01, loss: 6.06e+00, lr: 4.02e-04, epoch: 2.80e-01, step: 6.17e+03\n",
      "2024-05-28 23:06:48 (INFO): energy_forces_within_threshold: 0.00e+00, energy_mae: 1.99e+00, forcesx_mae: 5.86e-02, forcesy_mae: 7.52e-02, forcesz_mae: 9.00e-02, forces_mae: 7.46e-02, forces_cosine_similarity: 3.31e-02, forces_magnitude_error: 1.54e-01, loss: 5.73e+00, lr: 4.02e-04, epoch: 2.81e-01, step: 6.18e+03\n"
     ]
    },
    {
     "name": "stderr",
     "output_type": "stream",
     "text": [
      "2024-05-28 23:06:49 (WARNING): Found nans while computing loss\n",
      "2024-05-28 23:06:49 (WARNING): Found nans while computing loss\n"
     ]
    },
    {
     "name": "stdout",
     "output_type": "stream",
     "text": [
      "2024-05-28 23:06:49 (INFO): energy_forces_within_threshold: 0.00e+00, energy_mae: nan, forcesx_mae: nan, forcesy_mae: nan, forcesz_mae: nan, forces_mae: nan, forces_cosine_similarity: nan, forces_magnitude_error: nan, loss: 4.95e+04, lr: 4.02e-04, epoch: 2.81e-01, step: 6.18e+03\n",
      "2024-05-28 23:06:49 (INFO): energy_forces_within_threshold: 0.00e+00, energy_mae: 2.18e+00, forcesx_mae: 5.87e-02, forcesy_mae: 7.12e-02, forcesz_mae: 5.97e-02, forces_mae: 6.32e-02, forces_cosine_similarity: 3.26e-03, forces_magnitude_error: 1.28e-01, loss: 5.36e+00, lr: 4.02e-04, epoch: 2.81e-01, step: 6.18e+03\n"
     ]
    },
    {
     "name": "stderr",
     "output_type": "stream",
     "text": [
      "2024-05-28 23:06:50 (WARNING): Found nans while computing loss\n",
      "2024-05-28 23:06:50 (WARNING): Found nans while computing loss\n"
     ]
    },
    {
     "name": "stdout",
     "output_type": "stream",
     "text": [
      "2024-05-28 23:06:50 (INFO): energy_forces_within_threshold: 0.00e+00, energy_mae: nan, forcesx_mae: nan, forcesy_mae: nan, forcesz_mae: nan, forces_mae: nan, forces_cosine_similarity: nan, forces_magnitude_error: nan, loss: 4.30e+05, lr: 4.02e-04, epoch: 2.81e-01, step: 6.19e+03\n"
     ]
    },
    {
     "name": "stderr",
     "output_type": "stream",
     "text": [
      "2024-05-28 23:06:50 (WARNING): Found nans while computing loss\n",
      "2024-05-28 23:06:50 (WARNING): Found nans while computing loss\n"
     ]
    },
    {
     "name": "stdout",
     "output_type": "stream",
     "text": [
      "2024-05-28 23:06:50 (INFO): energy_forces_within_threshold: 0.00e+00, energy_mae: nan, forcesx_mae: nan, forcesy_mae: nan, forcesz_mae: nan, forces_mae: nan, forces_cosine_similarity: nan, forces_magnitude_error: nan, loss: 3.83e+05, lr: 4.02e-04, epoch: 2.82e-01, step: 6.20e+03\n"
     ]
    },
    {
     "name": "stderr",
     "output_type": "stream",
     "text": [
      "2024-05-28 23:06:50 (WARNING): Found nans while computing loss\n",
      "2024-05-28 23:06:50 (WARNING): Found nans while computing loss\n",
      "2024-05-28 23:06:51 (WARNING): Found nans while computing loss\n",
      "2024-05-28 23:06:51 (WARNING): Found nans while computing loss\n"
     ]
    },
    {
     "name": "stdout",
     "output_type": "stream",
     "text": [
      "2024-05-28 23:06:51 (INFO): energy_forces_within_threshold: 0.00e+00, energy_mae: nan, forcesx_mae: nan, forcesy_mae: nan, forcesz_mae: nan, forces_mae: nan, forces_cosine_similarity: nan, forces_magnitude_error: nan, loss: 4.54e+04, lr: 4.02e-04, epoch: 2.82e-01, step: 6.20e+03\n",
      "2024-05-28 23:06:51 (INFO): energy_forces_within_threshold: 0.00e+00, energy_mae: 2.33e+00, forcesx_mae: 6.51e-02, forcesy_mae: 8.16e-02, forcesz_mae: 8.99e-02, forces_mae: 7.89e-02, forces_cosine_similarity: 6.23e-04, forces_magnitude_error: 1.61e-01, loss: 6.51e+00, lr: 4.02e-04, epoch: 2.82e-01, step: 6.20e+03\n",
      "2024-05-28 23:06:52 (INFO): energy_forces_within_threshold: 0.00e+00, energy_mae: 1.66e+00, forcesx_mae: 4.57e-02, forcesy_mae: 6.03e-02, forcesz_mae: 7.34e-02, forces_mae: 5.98e-02, forces_cosine_similarity: 1.00e-02, forces_magnitude_error: 1.24e-01, loss: 4.97e+00, lr: 4.02e-04, epoch: 2.82e-01, step: 6.21e+03\n",
      "2024-05-28 23:06:52 (INFO): energy_forces_within_threshold: 0.00e+00, energy_mae: 1.98e+00, forcesx_mae: 6.86e-02, forcesy_mae: 1.04e-01, forcesz_mae: 9.79e-02, forces_mae: 9.01e-02, forces_cosine_similarity: 5.32e-02, forces_magnitude_error: 1.88e-01, loss: 7.18e+00, lr: 4.02e-04, epoch: 2.82e-01, step: 6.22e+03\n"
     ]
    },
    {
     "name": "stderr",
     "output_type": "stream",
     "text": [
      "2024-05-28 23:06:53 (WARNING): Found nans while computing loss\n"
     ]
    },
    {
     "name": "stdout",
     "output_type": "stream",
     "text": [
      "2024-05-28 23:06:53 (INFO): energy_forces_within_threshold: 0.00e+00, energy_mae: 2.32e+01, forcesx_mae: nan, forcesy_mae: nan, forcesz_mae: nan, forces_mae: nan, forces_cosine_similarity: nan, forces_magnitude_error: nan, loss: 2.39e+01, lr: 4.02e-04, epoch: 2.83e-01, step: 6.22e+03\n",
      "2024-05-28 23:06:53 (INFO): energy_forces_within_threshold: 0.00e+00, energy_mae: 2.18e+00, forcesx_mae: 5.82e-02, forcesy_mae: 6.03e-02, forcesz_mae: 6.69e-02, forces_mae: 6.18e-02, forces_cosine_similarity: 3.66e-02, forces_magnitude_error: 1.26e-01, loss: 5.27e+00, lr: 4.02e-04, epoch: 2.83e-01, step: 6.22e+03\n",
      "2024-05-28 23:06:54 (INFO): energy_forces_within_threshold: 0.00e+00, energy_mae: 2.00e+00, forcesx_mae: 7.51e-02, forcesy_mae: 8.72e-02, forcesz_mae: 1.24e-01, forces_mae: 9.54e-02, forces_cosine_similarity: 2.29e-02, forces_magnitude_error: 1.93e-01, loss: 7.67e+00, lr: 4.02e-04, epoch: 2.83e-01, step: 6.23e+03\n"
     ]
    },
    {
     "name": "stderr",
     "output_type": "stream",
     "text": [
      "2024-05-28 23:06:54 (WARNING): Found nans while computing loss\n",
      "2024-05-28 23:06:54 (WARNING): Found nans while computing loss\n"
     ]
    },
    {
     "name": "stdout",
     "output_type": "stream",
     "text": [
      "2024-05-28 23:06:54 (INFO): energy_forces_within_threshold: 0.00e+00, energy_mae: nan, forcesx_mae: nan, forcesy_mae: nan, forcesz_mae: nan, forces_mae: nan, forces_cosine_similarity: nan, forces_magnitude_error: nan, loss: 6.05e+00, lr: 4.02e-04, epoch: 2.83e-01, step: 6.24e+03\n",
      "2024-05-28 23:06:54 (INFO): energy_forces_within_threshold: 0.00e+00, energy_mae: 2.11e+00, forcesx_mae: 5.86e-02, forcesy_mae: 6.73e-02, forcesz_mae: 6.18e-02, forces_mae: 6.25e-02, forces_cosine_similarity: 2.22e-02, forces_magnitude_error: 1.28e-01, loss: 5.33e+00, lr: 4.02e-04, epoch: 2.84e-01, step: 6.24e+03\n"
     ]
    },
    {
     "name": "stderr",
     "output_type": "stream",
     "text": [
      "2024-05-28 23:06:54 (WARNING): Found nans while computing loss\n",
      "2024-05-28 23:06:54 (WARNING): Found nans while computing loss\n"
     ]
    },
    {
     "name": "stdout",
     "output_type": "stream",
     "text": [
      "2024-05-28 23:06:55 (INFO): energy_forces_within_threshold: 0.00e+00, energy_mae: nan, forcesx_mae: nan, forcesy_mae: nan, forcesz_mae: nan, forces_mae: nan, forces_cosine_similarity: nan, forces_magnitude_error: nan, loss: 6.74e+04, lr: 4.02e-04, epoch: 2.84e-01, step: 6.24e+03\n",
      "2024-05-28 23:06:55 (INFO): energy_forces_within_threshold: 0.00e+00, energy_mae: 2.23e+00, forcesx_mae: 5.67e-02, forcesy_mae: 7.72e-02, forcesz_mae: 8.16e-02, forces_mae: 7.18e-02, forces_cosine_similarity: 3.35e-02, forces_magnitude_error: 1.45e-01, loss: 5.95e+00, lr: 4.02e-04, epoch: 2.84e-01, step: 6.25e+03\n"
     ]
    },
    {
     "name": "stderr",
     "output_type": "stream",
     "text": [
      "2024-05-28 23:06:55 (WARNING): Found nans while computing loss\n"
     ]
    },
    {
     "name": "stdout",
     "output_type": "stream",
     "text": [
      "2024-05-28 23:06:56 (INFO): energy_forces_within_threshold: 0.00e+00, energy_mae: 5.47e+00, forcesx_mae: 2.54e+01, forcesy_mae: inf, forcesz_mae: inf, forces_mae: inf, forces_cosine_similarity: nan, forces_magnitude_error: inf, loss: 7.45e+03, lr: 4.02e-04, epoch: 2.84e-01, step: 6.26e+03\n"
     ]
    },
    {
     "name": "stderr",
     "output_type": "stream",
     "text": [
      "2024-05-28 23:06:56 (WARNING): Found nans while computing loss\n"
     ]
    },
    {
     "name": "stdout",
     "output_type": "stream",
     "text": [
      "2024-05-28 23:06:56 (INFO): energy_forces_within_threshold: 0.00e+00, energy_mae: 5.51e+00, forcesx_mae: inf, forcesy_mae: inf, forcesz_mae: inf, forces_mae: inf, forces_cosine_similarity: nan, forces_magnitude_error: inf, loss: 1.07e+04, lr: 4.02e-04, epoch: 2.84e-01, step: 6.26e+03\n"
     ]
    },
    {
     "name": "stderr",
     "output_type": "stream",
     "text": [
      "2024-05-28 23:06:56 (WARNING): Found nans while computing loss\n",
      "2024-05-28 23:06:56 (WARNING): Found nans while computing loss\n",
      "2024-05-28 23:06:56 (WARNING): Found nans while computing loss\n"
     ]
    },
    {
     "name": "stdout",
     "output_type": "stream",
     "text": [
      "2024-05-28 23:06:57 (INFO): energy_forces_within_threshold: 0.00e+00, energy_mae: nan, forcesx_mae: nan, forcesy_mae: nan, forcesz_mae: nan, forces_mae: nan, forces_cosine_similarity: nan, forces_magnitude_error: nan, loss: 2.02e+05, lr: 4.02e-04, epoch: 2.85e-01, step: 6.26e+03\n"
     ]
    },
    {
     "name": "stderr",
     "output_type": "stream",
     "text": [
      "2024-05-28 23:06:57 (WARNING): Found nans while computing loss\n",
      "2024-05-28 23:06:57 (WARNING): Found nans while computing loss\n",
      "2024-05-28 23:06:57 (WARNING): Found nans while computing loss\n"
     ]
    },
    {
     "name": "stdout",
     "output_type": "stream",
     "text": [
      "2024-05-28 23:06:57 (INFO): energy_forces_within_threshold: 0.00e+00, energy_mae: nan, forcesx_mae: nan, forcesy_mae: nan, forcesz_mae: nan, forces_mae: nan, forces_cosine_similarity: nan, forces_magnitude_error: nan, loss: 5.16e+04, lr: 4.02e-04, epoch: 2.85e-01, step: 6.27e+03\n"
     ]
    },
    {
     "name": "stderr",
     "output_type": "stream",
     "text": [
      "2024-05-28 23:06:57 (WARNING): Found nans while computing loss\n",
      "2024-05-28 23:06:57 (WARNING): Found nans while computing loss\n",
      "2024-05-28 23:06:57 (WARNING): Found nans while computing loss\n",
      "2024-05-28 23:06:57 (WARNING): Found nans while computing loss\n"
     ]
    },
    {
     "name": "stdout",
     "output_type": "stream",
     "text": [
      "2024-05-28 23:06:58 (INFO): energy_forces_within_threshold: 0.00e+00, energy_mae: nan, forcesx_mae: nan, forcesy_mae: nan, forcesz_mae: nan, forces_mae: nan, forces_cosine_similarity: nan, forces_magnitude_error: nan, loss: 8.57e+00, lr: 4.02e-04, epoch: 2.85e-01, step: 6.28e+03\n",
      "2024-05-28 23:06:58 (INFO): energy_forces_within_threshold: 0.00e+00, energy_mae: 1.26e+00, forcesx_mae: 5.93e-02, forcesy_mae: 6.51e-02, forcesz_mae: 6.08e-02, forces_mae: 6.18e-02, forces_cosine_similarity: -7.70e-03, forces_magnitude_error: 1.22e-01, loss: 4.65e+00, lr: 4.02e-04, epoch: 2.85e-01, step: 6.28e+03\n",
      "2024-05-28 23:06:58 (INFO): energy_forces_within_threshold: 0.00e+00, energy_mae: 2.19e+00, forcesx_mae: 8.38e-02, forcesy_mae: 8.45e-02, forcesz_mae: 6.89e-02, forces_mae: 7.91e-02, forces_cosine_similarity: 6.02e-02, forces_magnitude_error: 1.69e-01, loss: 6.66e+00, lr: 4.02e-04, epoch: 2.86e-01, step: 6.28e+03\n"
     ]
    },
    {
     "name": "stderr",
     "output_type": "stream",
     "text": [
      "2024-05-28 23:06:59 (WARNING): Found nans while computing loss\n",
      "2024-05-28 23:06:59 (WARNING): Found nans while computing loss\n",
      "2024-05-28 23:06:59 (WARNING): Found nans while computing loss\n",
      "2024-05-28 23:06:59 (WARNING): Found nans while computing loss\n"
     ]
    },
    {
     "name": "stdout",
     "output_type": "stream",
     "text": [
      "2024-05-28 23:06:59 (INFO): energy_forces_within_threshold: 0.00e+00, energy_mae: nan, forcesx_mae: nan, forcesy_mae: nan, forcesz_mae: nan, forces_mae: nan, forces_cosine_similarity: nan, forces_magnitude_error: nan, loss: 4.71e+05, lr: 4.02e-04, epoch: 2.86e-01, step: 6.29e+03\n",
      "2024-05-28 23:06:59 (INFO): energy_forces_within_threshold: 0.00e+00, energy_mae: 2.11e+00, forcesx_mae: 9.87e-02, forcesy_mae: 9.50e-02, forcesz_mae: 1.24e-01, forces_mae: 1.06e-01, forces_cosine_similarity: 5.54e-02, forces_magnitude_error: 2.13e-01, loss: 8.28e+00, lr: 4.02e-04, epoch: 2.86e-01, step: 6.30e+03\n"
     ]
    },
    {
     "name": "stderr",
     "output_type": "stream",
     "text": [
      "2024-05-28 23:07:00 (WARNING): Found nans while computing loss\n",
      "2024-05-28 23:07:00 (WARNING): Found nans while computing loss\n"
     ]
    },
    {
     "name": "stdout",
     "output_type": "stream",
     "text": [
      "2024-05-28 23:07:00 (INFO): energy_forces_within_threshold: 0.00e+00, energy_mae: nan, forcesx_mae: nan, forcesy_mae: nan, forcesz_mae: nan, forces_mae: nan, forces_cosine_similarity: nan, forces_magnitude_error: nan, loss: 2.32e+05, lr: 4.02e-04, epoch: 2.86e-01, step: 6.30e+03\n",
      "2024-05-28 23:07:00 (INFO): energy_forces_within_threshold: 0.00e+00, energy_mae: 1.78e+00, forcesx_mae: 6.31e-02, forcesy_mae: 7.50e-02, forcesz_mae: 7.32e-02, forces_mae: 7.04e-02, forces_cosine_similarity: 2.47e-02, forces_magnitude_error: 1.41e-01, loss: 5.63e+00, lr: 4.02e-04, epoch: 2.87e-01, step: 6.30e+03\n",
      "2024-05-28 23:07:01 (INFO): energy_forces_within_threshold: 0.00e+00, energy_mae: 3.18e+00, forcesx_mae: 9.83e-02, forcesy_mae: 1.20e-01, forcesz_mae: 1.09e-01, forces_mae: 1.09e-01, forces_cosine_similarity: 7.01e-02, forces_magnitude_error: 2.21e-01, loss: 8.69e+00, lr: 4.02e-04, epoch: 2.87e-01, step: 6.31e+03\n",
      "2024-05-28 23:07:01 (INFO): energy_forces_within_threshold: 0.00e+00, energy_mae: 2.25e+00, forcesx_mae: 4.76e-02, forcesy_mae: 6.01e-02, forcesz_mae: 6.12e-02, forces_mae: 5.63e-02, forces_cosine_similarity: 2.18e-02, forces_magnitude_error: 1.12e-01, loss: 4.92e+00, lr: 4.02e-04, epoch: 2.87e-01, step: 6.32e+03\n",
      "2024-05-28 23:07:02 (INFO): energy_forces_within_threshold: 0.00e+00, energy_mae: 2.66e+00, forcesx_mae: 6.34e-02, forcesy_mae: 7.03e-02, forcesz_mae: 6.48e-02, forces_mae: 6.62e-02, forces_cosine_similarity: 3.44e-02, forces_magnitude_error: 1.34e-01, loss: 5.68e+00, lr: 4.02e-04, epoch: 2.87e-01, step: 6.32e+03\n",
      "2024-05-28 23:07:02 (INFO): energy_forces_within_threshold: 0.00e+00, energy_mae: 2.31e+00, forcesx_mae: 1.57e+00, forcesy_mae: 2.14e-01, forcesz_mae: 2.31e+00, forces_mae: 1.36e+00, forces_cosine_similarity: 3.09e-02, forces_magnitude_error: 2.83e+00, loss: 8.70e+01, lr: 4.02e-04, epoch: 2.87e-01, step: 6.32e+03\n",
      "2024-05-28 23:07:03 (INFO): energy_forces_within_threshold: 0.00e+00, energy_mae: 1.95e+00, forcesx_mae: 3.99e-02, forcesy_mae: 5.02e-02, forcesz_mae: 4.81e-02, forces_mae: 4.61e-02, forces_cosine_similarity: 4.25e-02, forces_magnitude_error: 9.37e-02, loss: 4.02e+00, lr: 4.02e-04, epoch: 2.88e-01, step: 6.33e+03\n"
     ]
    },
    {
     "name": "stderr",
     "output_type": "stream",
     "text": [
      "2024-05-28 23:07:03 (WARNING): Found nans while computing loss\n"
     ]
    },
    {
     "name": "stdout",
     "output_type": "stream",
     "text": [
      "2024-05-28 23:07:03 (INFO): energy_forces_within_threshold: 0.00e+00, energy_mae: 3.20e+02, forcesx_mae: nan, forcesy_mae: nan, forcesz_mae: nan, forces_mae: nan, forces_cosine_similarity: nan, forces_magnitude_error: nan, loss: 7.91e+03, lr: 4.02e-04, epoch: 2.88e-01, step: 6.34e+03\n",
      "2024-05-28 23:07:04 (INFO): energy_forces_within_threshold: 0.00e+00, energy_mae: 2.57e+00, forcesx_mae: 5.69e-02, forcesy_mae: 8.47e-02, forcesz_mae: 9.31e-02, forces_mae: 7.82e-02, forces_cosine_similarity: 9.23e-04, forces_magnitude_error: 1.63e-01, loss: 6.66e+00, lr: 4.02e-04, epoch: 2.88e-01, step: 6.34e+03\n",
      "2024-05-28 23:07:04 (INFO): energy_forces_within_threshold: 0.00e+00, energy_mae: 1.88e+00, forcesx_mae: 6.25e-02, forcesy_mae: 8.47e-02, forcesz_mae: 8.67e-02, forces_mae: 7.80e-02, forces_cosine_similarity: 6.53e-02, forces_magnitude_error: 1.62e-01, loss: 6.49e+00, lr: 4.02e-04, epoch: 2.88e-01, step: 6.34e+03\n",
      "2024-05-28 23:07:05 (INFO): energy_forces_within_threshold: 0.00e+00, energy_mae: 2.01e+00, forcesx_mae: 5.60e-02, forcesy_mae: 6.75e-02, forcesz_mae: 1.39e-01, forces_mae: 8.76e-02, forces_cosine_similarity: 1.17e-02, forces_magnitude_error: 2.01e-01, loss: 8.07e+00, lr: 4.02e-04, epoch: 2.89e-01, step: 6.35e+03\n"
     ]
    },
    {
     "name": "stderr",
     "output_type": "stream",
     "text": [
      "2024-05-28 23:07:05 (WARNING): Found nans while computing loss\n",
      "2024-05-28 23:07:05 (WARNING): Found nans while computing loss\n"
     ]
    },
    {
     "name": "stdout",
     "output_type": "stream",
     "text": [
      "2024-05-28 23:07:05 (INFO): energy_forces_within_threshold: 0.00e+00, energy_mae: nan, forcesx_mae: nan, forcesy_mae: nan, forcesz_mae: nan, forces_mae: nan, forces_cosine_similarity: nan, forces_magnitude_error: nan, loss: 4.58e+00, lr: 4.02e-04, epoch: 2.89e-01, step: 6.36e+03\n"
     ]
    },
    {
     "name": "stderr",
     "output_type": "stream",
     "text": [
      "2024-05-28 23:07:05 (WARNING): Found nans while computing loss\n",
      "2024-05-28 23:07:05 (WARNING): Found nans while computing loss\n"
     ]
    },
    {
     "name": "stdout",
     "output_type": "stream",
     "text": [
      "2024-05-28 23:07:06 (INFO): energy_forces_within_threshold: 0.00e+00, energy_mae: nan, forcesx_mae: nan, forcesy_mae: nan, forcesz_mae: nan, forces_mae: nan, forces_cosine_similarity: nan, forces_magnitude_error: nan, loss: 9.21e+00, lr: 4.02e-04, epoch: 2.89e-01, step: 6.36e+03\n",
      "2024-05-28 23:07:06 (INFO): energy_forces_within_threshold: 0.00e+00, energy_mae: 2.62e+00, forcesx_mae: 8.47e-02, forcesy_mae: 9.66e-02, forcesz_mae: 1.09e-01, forces_mae: 9.66e-02, forces_cosine_similarity: 4.12e-02, forces_magnitude_error: 1.98e-01, loss: 7.81e+00, lr: 4.02e-04, epoch: 2.89e-01, step: 6.36e+03\n"
     ]
    },
    {
     "name": "stderr",
     "output_type": "stream",
     "text": [
      "2024-05-28 23:07:06 (WARNING): Found nans while computing loss\n"
     ]
    },
    {
     "name": "stdout",
     "output_type": "stream",
     "text": [
      "2024-05-28 23:07:07 (INFO): energy_forces_within_threshold: 0.00e+00, energy_mae: 1.41e+01, forcesx_mae: nan, forcesy_mae: nan, forcesz_mae: nan, forces_mae: nan, forces_cosine_similarity: nan, forces_magnitude_error: nan, loss: 1.55e+01, lr: 4.02e-04, epoch: 2.89e-01, step: 6.37e+03\n",
      "2024-05-28 23:07:07 (INFO): energy_forces_within_threshold: 0.00e+00, energy_mae: 2.12e+00, forcesx_mae: 6.64e-02, forcesy_mae: 6.96e-02, forcesz_mae: 8.67e-02, forces_mae: 7.42e-02, forces_cosine_similarity: 6.02e-02, forces_magnitude_error: 1.53e-01, loss: 6.13e+00, lr: 4.02e-04, epoch: 2.90e-01, step: 6.38e+03\n"
     ]
    },
    {
     "name": "stderr",
     "output_type": "stream",
     "text": [
      "2024-05-28 23:07:07 (WARNING): Found nans while computing loss\n",
      "2024-05-28 23:07:07 (WARNING): Found nans while computing loss\n",
      "2024-05-28 23:07:07 (WARNING): Found nans while computing loss\n"
     ]
    },
    {
     "name": "stdout",
     "output_type": "stream",
     "text": [
      "2024-05-28 23:07:07 (INFO): energy_forces_within_threshold: 0.00e+00, energy_mae: nan, forcesx_mae: nan, forcesy_mae: nan, forcesz_mae: nan, forces_mae: nan, forces_cosine_similarity: nan, forces_magnitude_error: nan, loss: 1.00e+04, lr: 4.02e-04, epoch: 2.90e-01, step: 6.38e+03\n"
     ]
    },
    {
     "name": "stderr",
     "output_type": "stream",
     "text": [
      "2024-05-28 23:07:08 (WARNING): Found nans while computing loss\n"
     ]
    },
    {
     "name": "stdout",
     "output_type": "stream",
     "text": [
      "2024-05-28 23:07:08 (INFO): energy_forces_within_threshold: 0.00e+00, energy_mae: 3.03e+00, forcesx_mae: inf, forcesy_mae: inf, forcesz_mae: inf, forces_mae: inf, forces_cosine_similarity: nan, forces_magnitude_error: inf, loss: 2.08e+04, lr: 4.02e-04, epoch: 2.90e-01, step: 6.38e+03\n"
     ]
    },
    {
     "name": "stderr",
     "output_type": "stream",
     "text": [
      "2024-05-28 23:07:08 (WARNING): Found nans while computing loss\n",
      "2024-05-28 23:07:08 (WARNING): Found nans while computing loss\n"
     ]
    },
    {
     "name": "stdout",
     "output_type": "stream",
     "text": [
      "2024-05-28 23:07:08 (INFO): energy_forces_within_threshold: 0.00e+00, energy_mae: nan, forcesx_mae: nan, forcesy_mae: nan, forcesz_mae: nan, forces_mae: nan, forces_cosine_similarity: nan, forces_magnitude_error: nan, loss: 4.21e+04, lr: 4.02e-04, epoch: 2.90e-01, step: 6.39e+03\n",
      "2024-05-28 23:07:09 (INFO): energy_forces_within_threshold: 0.00e+00, energy_mae: 2.10e+00, forcesx_mae: 7.38e-02, forcesy_mae: 1.11e-01, forcesz_mae: 1.37e-01, forces_mae: 1.07e-01, forces_cosine_similarity: 1.04e-03, forces_magnitude_error: 2.25e-01, loss: 8.57e+00, lr: 4.02e-04, epoch: 2.91e-01, step: 6.40e+03\n",
      "2024-05-28 23:07:09 (INFO): energy_forces_within_threshold: 0.00e+00, energy_mae: 2.31e+00, forcesx_mae: 5.31e-02, forcesy_mae: 7.76e-02, forcesz_mae: 1.14e-01, forces_mae: 8.16e-02, forces_cosine_similarity: 3.35e-02, forces_magnitude_error: 1.74e-01, loss: 6.83e+00, lr: 4.02e-04, epoch: 2.91e-01, step: 6.40e+03\n",
      "2024-05-28 23:07:10 (INFO): energy_forces_within_threshold: 0.00e+00, energy_mae: 2.06e+00, forcesx_mae: 4.04e-02, forcesy_mae: 5.89e-02, forcesz_mae: 7.21e-02, forces_mae: 5.71e-02, forces_cosine_similarity: 1.29e-02, forces_magnitude_error: 1.22e-01, loss: 5.01e+00, lr: 4.02e-04, epoch: 2.91e-01, step: 6.40e+03\n",
      "2024-05-28 23:07:10 (INFO): energy_forces_within_threshold: 0.00e+00, energy_mae: 1.73e+00, forcesx_mae: 3.83e-02, forcesy_mae: 4.70e-02, forcesz_mae: 4.32e-02, forces_mae: 4.28e-02, forces_cosine_similarity: 6.03e-03, forces_magnitude_error: 8.66e-02, loss: 3.66e+00, lr: 4.02e-04, epoch: 2.91e-01, step: 6.41e+03\n",
      "2024-05-28 23:07:11 (INFO): energy_forces_within_threshold: 0.00e+00, energy_mae: 2.44e+00, forcesx_mae: 6.99e-02, forcesy_mae: 9.25e-02, forcesz_mae: 1.04e-01, forces_mae: 8.89e-02, forces_cosine_similarity: 6.04e-02, forces_magnitude_error: 1.81e-01, loss: 7.27e+00, lr: 4.02e-04, epoch: 2.92e-01, step: 6.42e+03\n",
      "2024-05-28 23:07:11 (INFO): energy_forces_within_threshold: 0.00e+00, energy_mae: 2.67e+00, forcesx_mae: 9.14e-02, forcesy_mae: 1.06e-01, forcesz_mae: 1.01e-01, forces_mae: 9.95e-02, forces_cosine_similarity: 3.54e-02, forces_magnitude_error: 2.01e-01, loss: 8.55e+00, lr: 4.02e-04, epoch: 2.92e-01, step: 6.42e+03\n",
      "2024-05-28 23:07:12 (INFO): energy_forces_within_threshold: 0.00e+00, energy_mae: 1.99e+00, forcesx_mae: 5.82e-02, forcesy_mae: 7.05e-02, forcesz_mae: 6.52e-02, forces_mae: 6.46e-02, forces_cosine_similarity: 1.31e-02, forces_magnitude_error: 1.32e-01, loss: 5.37e+00, lr: 4.02e-04, epoch: 2.92e-01, step: 6.42e+03\n",
      "2024-05-28 23:07:12 (INFO): energy_forces_within_threshold: 0.00e+00, energy_mae: 1.91e+00, forcesx_mae: 3.21e-02, forcesy_mae: 4.70e-02, forcesz_mae: 4.77e-02, forces_mae: 4.23e-02, forces_cosine_similarity: 2.11e-02, forces_magnitude_error: 8.72e-02, loss: 3.88e+00, lr: 4.02e-04, epoch: 2.92e-01, step: 6.43e+03\n"
     ]
    },
    {
     "name": "stderr",
     "output_type": "stream",
     "text": [
      "2024-05-28 23:07:12 (WARNING): Found nans while computing loss\n",
      "2024-05-28 23:07:12 (WARNING): Found nans while computing loss\n"
     ]
    },
    {
     "name": "stdout",
     "output_type": "stream",
     "text": [
      "2024-05-28 23:07:13 (INFO): energy_forces_within_threshold: 0.00e+00, energy_mae: nan, forcesx_mae: nan, forcesy_mae: nan, forcesz_mae: nan, forces_mae: nan, forces_cosine_similarity: nan, forces_magnitude_error: nan, loss: 6.70e+00, lr: 4.02e-04, epoch: 2.92e-01, step: 6.44e+03\n",
      "2024-05-28 23:07:13 (INFO): energy_forces_within_threshold: 0.00e+00, energy_mae: 1.89e+00, forcesx_mae: 6.11e-02, forcesy_mae: 9.99e-02, forcesz_mae: 1.05e-01, forces_mae: 8.86e-02, forces_cosine_similarity: -5.75e-03, forces_magnitude_error: 1.83e-01, loss: 7.23e+00, lr: 4.02e-04, epoch: 2.93e-01, step: 6.44e+03\n"
     ]
    },
    {
     "name": "stderr",
     "output_type": "stream",
     "text": [
      "2024-05-28 23:07:13 (WARNING): Found nans while computing loss\n",
      "2024-05-28 23:07:13 (WARNING): Found nans while computing loss\n",
      "2024-05-28 23:07:13 (WARNING): Found nans while computing loss\n"
     ]
    },
    {
     "name": "stdout",
     "output_type": "stream",
     "text": [
      "2024-05-28 23:07:13 (INFO): energy_forces_within_threshold: 0.00e+00, energy_mae: nan, forcesx_mae: nan, forcesy_mae: nan, forcesz_mae: nan, forces_mae: nan, forces_cosine_similarity: nan, forces_magnitude_error: nan, loss: 3.35e+04, lr: 4.02e-04, epoch: 2.93e-01, step: 6.44e+03\n"
     ]
    },
    {
     "name": "stderr",
     "output_type": "stream",
     "text": [
      "2024-05-28 23:07:14 (WARNING): Found nans while computing loss\n"
     ]
    },
    {
     "name": "stdout",
     "output_type": "stream",
     "text": [
      "2024-05-28 23:07:14 (INFO): energy_forces_within_threshold: 0.00e+00, energy_mae: 5.59e+00, forcesx_mae: inf, forcesy_mae: inf, forcesz_mae: inf, forces_mae: inf, forces_cosine_similarity: nan, forces_magnitude_error: inf, loss: 1.18e+04, lr: 4.02e-04, epoch: 2.93e-01, step: 6.45e+03\n",
      "2024-05-28 23:07:14 (INFO): energy_forces_within_threshold: 0.00e+00, energy_mae: 1.84e+00, forcesx_mae: 6.32e-02, forcesy_mae: 7.65e-02, forcesz_mae: 7.18e-02, forces_mae: 7.05e-02, forces_cosine_similarity: 3.25e-02, forces_magnitude_error: 1.42e-01, loss: 5.66e+00, lr: 4.02e-04, epoch: 2.93e-01, step: 6.46e+03\n"
     ]
    },
    {
     "name": "stderr",
     "output_type": "stream",
     "text": [
      "2024-05-28 23:07:15 (WARNING): Found nans while computing loss\n",
      "2024-05-28 23:07:15 (WARNING): Found nans while computing loss\n"
     ]
    },
    {
     "name": "stdout",
     "output_type": "stream",
     "text": [
      "2024-05-28 23:07:15 (INFO): energy_forces_within_threshold: 0.00e+00, energy_mae: nan, forcesx_mae: nan, forcesy_mae: nan, forcesz_mae: nan, forces_mae: nan, forces_cosine_similarity: nan, forces_magnitude_error: nan, loss: 7.76e+00, lr: 4.02e-04, epoch: 2.94e-01, step: 6.46e+03\n",
      "2024-05-28 23:07:15 (INFO): energy_forces_within_threshold: 0.00e+00, energy_mae: 2.08e+00, forcesx_mae: 5.50e-02, forcesy_mae: 1.03e-01, forcesz_mae: 1.08e-01, forces_mae: 8.88e-02, forces_cosine_similarity: 2.51e-02, forces_magnitude_error: 1.81e-01, loss: 6.80e+00, lr: 4.02e-04, epoch: 2.94e-01, step: 6.46e+03\n",
      "2024-05-28 23:07:16 (INFO): energy_forces_within_threshold: 0.00e+00, energy_mae: 2.11e+00, forcesx_mae: 7.18e-02, forcesy_mae: 9.10e-02, forcesz_mae: 9.04e-02, forces_mae: 8.44e-02, forces_cosine_similarity: 8.38e-03, forces_magnitude_error: 1.73e-01, loss: 6.87e+00, lr: 4.02e-04, epoch: 2.94e-01, step: 6.47e+03\n"
     ]
    },
    {
     "name": "stderr",
     "output_type": "stream",
     "text": [
      "2024-05-28 23:07:16 (WARNING): Found nans while computing loss\n",
      "2024-05-28 23:07:16 (WARNING): Found nans while computing loss\n"
     ]
    },
    {
     "name": "stdout",
     "output_type": "stream",
     "text": [
      "2024-05-28 23:07:16 (INFO): energy_forces_within_threshold: 0.00e+00, energy_mae: nan, forcesx_mae: nan, forcesy_mae: nan, forcesz_mae: nan, forces_mae: nan, forces_cosine_similarity: nan, forces_magnitude_error: nan, loss: 1.24e+05, lr: 4.02e-04, epoch: 2.94e-01, step: 6.48e+03\n"
     ]
    },
    {
     "name": "stderr",
     "output_type": "stream",
     "text": [
      "2024-05-28 23:07:17 (WARNING): Found nans while computing loss\n"
     ]
    },
    {
     "name": "stdout",
     "output_type": "stream",
     "text": [
      "2024-05-28 23:07:17 (INFO): energy_forces_within_threshold: 0.00e+00, energy_mae: 1.54e+01, forcesx_mae: nan, forcesy_mae: nan, forcesz_mae: nan, forces_mae: nan, forces_cosine_similarity: nan, forces_magnitude_error: nan, loss: 1.69e+01, lr: 4.02e-04, epoch: 2.94e-01, step: 6.48e+03\n",
      "2024-05-28 23:07:17 (INFO): energy_forces_within_threshold: 0.00e+00, energy_mae: 1.88e+00, forcesx_mae: 6.71e-02, forcesy_mae: 6.91e-02, forcesz_mae: 7.67e-02, forces_mae: 7.10e-02, forces_cosine_similarity: 3.32e-02, forces_magnitude_error: 1.43e-01, loss: 5.71e+00, lr: 4.02e-04, epoch: 2.95e-01, step: 6.48e+03\n",
      "2024-05-28 23:07:18 (INFO): energy_forces_within_threshold: 0.00e+00, energy_mae: 2.13e+00, forcesx_mae: 1.07e-01, forcesy_mae: 1.21e-01, forcesz_mae: 1.17e-01, forces_mae: 1.15e-01, forces_cosine_similarity: 2.70e-02, forces_magnitude_error: 2.35e-01, loss: 9.61e+00, lr: 4.02e-04, epoch: 2.95e-01, step: 6.49e+03\n"
     ]
    },
    {
     "name": "stderr",
     "output_type": "stream",
     "text": [
      "2024-05-28 23:07:18 (WARNING): Found nans while computing loss\n",
      "2024-05-28 23:07:18 (WARNING): Found nans while computing loss\n"
     ]
    },
    {
     "name": "stdout",
     "output_type": "stream",
     "text": [
      "2024-05-28 23:07:18 (INFO): energy_forces_within_threshold: 0.00e+00, energy_mae: nan, forcesx_mae: nan, forcesy_mae: nan, forcesz_mae: nan, forces_mae: nan, forces_cosine_similarity: nan, forces_magnitude_error: nan, loss: 2.21e+04, lr: 4.02e-04, epoch: 2.95e-01, step: 6.50e+03\n",
      "2024-05-28 23:07:18 (INFO): energy_forces_within_threshold: 0.00e+00, energy_mae: 2.28e+00, forcesx_mae: 7.17e-02, forcesy_mae: 7.66e-02, forcesz_mae: 9.45e-02, forces_mae: 8.10e-02, forces_cosine_similarity: 5.79e-02, forces_magnitude_error: 1.67e-01, loss: 6.83e+00, lr: 4.02e-04, epoch: 2.95e-01, step: 6.50e+03\n",
      "2024-05-28 23:07:19 (INFO): energy_forces_within_threshold: 0.00e+00, energy_mae: 2.04e+00, forcesx_mae: 6.64e-02, forcesy_mae: 8.99e-02, forcesz_mae: 1.22e-01, forces_mae: 9.29e-02, forces_cosine_similarity: 4.25e-02, forces_magnitude_error: 1.96e-01, loss: 7.79e+00, lr: 4.02e-04, epoch: 2.96e-01, step: 6.50e+03\n",
      "2024-05-28 23:07:19 (INFO): energy_forces_within_threshold: 0.00e+00, energy_mae: 1.76e+00, forcesx_mae: 4.62e-02, forcesy_mae: 6.15e-02, forcesz_mae: 1.33e-01, forces_mae: 8.03e-02, forces_cosine_similarity: 1.98e-03, forces_magnitude_error: 1.77e-01, loss: 6.97e+00, lr: 4.02e-04, epoch: 2.96e-01, step: 6.51e+03\n"
     ]
    },
    {
     "name": "stderr",
     "output_type": "stream",
     "text": [
      "2024-05-28 23:07:20 (WARNING): Found nans while computing loss\n",
      "2024-05-28 23:07:20 (WARNING): Found nans while computing loss\n"
     ]
    },
    {
     "name": "stdout",
     "output_type": "stream",
     "text": [
      "2024-05-28 23:07:20 (INFO): energy_forces_within_threshold: 0.00e+00, energy_mae: nan, forcesx_mae: nan, forcesy_mae: nan, forcesz_mae: nan, forces_mae: nan, forces_cosine_similarity: nan, forces_magnitude_error: nan, loss: 7.58e+00, lr: 4.02e-04, epoch: 2.96e-01, step: 6.52e+03\n"
     ]
    },
    {
     "name": "stderr",
     "output_type": "stream",
     "text": [
      "2024-05-28 23:07:20 (WARNING): Found nans while computing loss\n",
      "2024-05-28 23:07:20 (WARNING): Found nans while computing loss\n"
     ]
    },
    {
     "name": "stdout",
     "output_type": "stream",
     "text": [
      "2024-05-28 23:07:20 (INFO): energy_forces_within_threshold: 0.00e+00, energy_mae: nan, forcesx_mae: nan, forcesy_mae: nan, forcesz_mae: nan, forces_mae: nan, forces_cosine_similarity: nan, forces_magnitude_error: nan, loss: 2.35e+04, lr: 4.02e-04, epoch: 2.96e-01, step: 6.52e+03\n",
      "2024-05-28 23:07:21 (INFO): energy_forces_within_threshold: 0.00e+00, energy_mae: 2.05e+00, forcesx_mae: 6.76e-02, forcesy_mae: 9.20e-02, forcesz_mae: 9.59e-02, forces_mae: 8.52e-02, forces_cosine_similarity: -1.69e-02, forces_magnitude_error: 1.74e-01, loss: 6.92e+00, lr: 4.02e-04, epoch: 2.97e-01, step: 6.52e+03\n",
      "2024-05-28 23:07:21 (INFO): energy_forces_within_threshold: 0.00e+00, energy_mae: 2.07e+00, forcesx_mae: 5.15e-02, forcesy_mae: 8.17e-02, forcesz_mae: 1.05e-01, forces_mae: 7.94e-02, forces_cosine_similarity: 5.04e-03, forces_magnitude_error: 1.69e-01, loss: 6.60e+00, lr: 4.02e-04, epoch: 2.97e-01, step: 6.53e+03\n",
      "2024-05-28 23:07:22 (INFO): energy_forces_within_threshold: 0.00e+00, energy_mae: 1.55e+00, forcesx_mae: 5.96e-02, forcesy_mae: 8.95e-02, forcesz_mae: 7.81e-02, forces_mae: 7.57e-02, forces_cosine_similarity: 5.64e-02, forces_magnitude_error: 1.55e-01, loss: 6.01e+00, lr: 4.02e-04, epoch: 2.97e-01, step: 6.54e+03\n",
      "2024-05-28 23:07:22 (INFO): energy_forces_within_threshold: 0.00e+00, energy_mae: 1.99e+00, forcesx_mae: 6.12e-02, forcesy_mae: 7.76e-02, forcesz_mae: 7.92e-02, forces_mae: 7.27e-02, forces_cosine_similarity: 2.57e-02, forces_magnitude_error: 1.47e-01, loss: 5.96e+00, lr: 4.02e-04, epoch: 2.97e-01, step: 6.54e+03\n",
      "2024-05-28 23:07:23 (INFO): energy_forces_within_threshold: 0.00e+00, energy_mae: 2.13e+00, forcesx_mae: 5.23e-02, forcesy_mae: 7.82e-02, forcesz_mae: 8.02e-02, forces_mae: 7.02e-02, forces_cosine_similarity: 2.01e-03, forces_magnitude_error: 1.43e-01, loss: 5.67e+00, lr: 4.02e-04, epoch: 2.97e-01, step: 6.54e+03\n",
      "2024-05-28 23:07:23 (INFO): energy_forces_within_threshold: 0.00e+00, energy_mae: 2.03e+00, forcesx_mae: 6.47e-02, forcesy_mae: 7.63e-02, forcesz_mae: 7.62e-02, forces_mae: 7.24e-02, forces_cosine_similarity: 2.96e-02, forces_magnitude_error: 1.48e-01, loss: 5.99e+00, lr: 4.02e-04, epoch: 2.98e-01, step: 6.55e+03\n"
     ]
    },
    {
     "name": "stderr",
     "output_type": "stream",
     "text": [
      "2024-05-28 23:07:23 (WARNING): Found nans while computing loss\n",
      "2024-05-28 23:07:23 (WARNING): Found nans while computing loss\n",
      "2024-05-28 23:07:23 (WARNING): Found nans while computing loss\n",
      "2024-05-28 23:07:23 (WARNING): Found nans while computing loss\n"
     ]
    },
    {
     "name": "stdout",
     "output_type": "stream",
     "text": [
      "2024-05-28 23:07:24 (INFO): energy_forces_within_threshold: 0.00e+00, energy_mae: nan, forcesx_mae: nan, forcesy_mae: nan, forcesz_mae: nan, forces_mae: nan, forces_cosine_similarity: nan, forces_magnitude_error: nan, loss: 1.48e+05, lr: 4.02e-04, epoch: 2.98e-01, step: 6.56e+03\n",
      "2024-05-28 23:07:24 (INFO): energy_forces_within_threshold: 0.00e+00, energy_mae: 1.79e+00, forcesx_mae: 1.23e-01, forcesy_mae: 1.94e-01, forcesz_mae: 2.11e-01, forces_mae: 1.76e-01, forces_cosine_similarity: 9.25e-02, forces_magnitude_error: 3.56e-01, loss: 1.22e+01, lr: 4.02e-04, epoch: 2.98e-01, step: 6.56e+03\n",
      "2024-05-28 23:07:25 (INFO): energy_forces_within_threshold: 0.00e+00, energy_mae: 2.46e+00, forcesx_mae: 7.39e-02, forcesy_mae: 1.20e-01, forcesz_mae: 1.43e-01, forces_mae: 1.12e-01, forces_cosine_similarity: 3.16e-02, forces_magnitude_error: 2.36e-01, loss: 8.83e+00, lr: 4.02e-04, epoch: 2.98e-01, step: 6.56e+03\n",
      "2024-05-28 23:07:25 (INFO): energy_forces_within_threshold: 0.00e+00, energy_mae: 1.74e+00, forcesx_mae: 5.35e-02, forcesy_mae: 6.11e-02, forcesz_mae: 6.32e-02, forces_mae: 5.93e-02, forces_cosine_similarity: 5.88e-02, forces_magnitude_error: 1.20e-01, loss: 4.81e+00, lr: 4.02e-04, epoch: 2.99e-01, step: 6.57e+03\n"
     ]
    },
    {
     "name": "stderr",
     "output_type": "stream",
     "text": [
      "2024-05-28 23:07:25 (WARNING): Found nans while computing loss\n"
     ]
    },
    {
     "name": "stdout",
     "output_type": "stream",
     "text": [
      "2024-05-28 23:07:25 (INFO): energy_forces_within_threshold: 0.00e+00, energy_mae: 2.42e+00, forcesx_mae: inf, forcesy_mae: 4.91e+00, forcesz_mae: inf, forces_mae: inf, forces_cosine_similarity: nan, forces_magnitude_error: inf, loss: 8.89e+03, lr: 4.02e-04, epoch: 2.99e-01, step: 6.58e+03\n",
      "2024-05-28 23:07:26 (INFO): energy_forces_within_threshold: 0.00e+00, energy_mae: 1.85e+00, forcesx_mae: 6.74e-02, forcesy_mae: 6.84e-02, forcesz_mae: 7.96e-02, forces_mae: 7.18e-02, forces_cosine_similarity: 3.74e-02, forces_magnitude_error: 1.45e-01, loss: 5.90e+00, lr: 4.02e-04, epoch: 2.99e-01, step: 6.58e+03\n",
      "2024-05-28 23:07:26 (INFO): energy_forces_within_threshold: 0.00e+00, energy_mae: 2.28e+00, forcesx_mae: 4.53e-02, forcesy_mae: 7.61e-02, forcesz_mae: 1.01e-01, forces_mae: 7.40e-02, forces_cosine_similarity: 3.04e-02, forces_magnitude_error: 1.55e-01, loss: 6.52e+00, lr: 4.02e-04, epoch: 2.99e-01, step: 6.58e+03\n"
     ]
    },
    {
     "name": "stderr",
     "output_type": "stream",
     "text": [
      "2024-05-28 23:07:27 (WARNING): Found nans while computing loss\n"
     ]
    },
    {
     "name": "stdout",
     "output_type": "stream",
     "text": [
      "2024-05-28 23:07:27 (INFO): energy_forces_within_threshold: 0.00e+00, energy_mae: 6.32e+00, forcesx_mae: inf, forcesy_mae: inf, forcesz_mae: inf, forces_mae: inf, forces_cosine_similarity: nan, forces_magnitude_error: inf, loss: 2.70e+04, lr: 4.02e-04, epoch: 2.99e-01, step: 6.59e+03\n"
     ]
    },
    {
     "name": "stderr",
     "output_type": "stream",
     "text": [
      "2024-05-28 23:07:27 (WARNING): Found nans while computing loss\n",
      "2024-05-28 23:07:27 (WARNING): Found nans while computing loss\n"
     ]
    },
    {
     "name": "stdout",
     "output_type": "stream",
     "text": [
      "2024-05-28 23:07:27 (INFO): energy_forces_within_threshold: 0.00e+00, energy_mae: nan, forcesx_mae: nan, forcesy_mae: nan, forcesz_mae: nan, forces_mae: nan, forces_cosine_similarity: nan, forces_magnitude_error: nan, loss: 6.80e+00, lr: 4.02e-04, epoch: 3.00e-01, step: 6.60e+03\n"
     ]
    },
    {
     "name": "stderr",
     "output_type": "stream",
     "text": [
      "2024-05-28 23:07:27 (WARNING): Found nans while computing loss\n",
      "2024-05-28 23:07:27 (WARNING): Found nans while computing loss\n",
      "2024-05-28 23:07:27 (WARNING): Found nans while computing loss\n",
      "2024-05-28 23:07:27 (WARNING): Found nans while computing loss\n"
     ]
    },
    {
     "name": "stdout",
     "output_type": "stream",
     "text": [
      "2024-05-28 23:07:28 (INFO): energy_forces_within_threshold: 0.00e+00, energy_mae: nan, forcesx_mae: nan, forcesy_mae: nan, forcesz_mae: nan, forces_mae: nan, forces_cosine_similarity: nan, forces_magnitude_error: nan, loss: 5.36e+05, lr: 4.02e-04, epoch: 3.00e-01, step: 6.60e+03\n",
      "2024-05-28 23:07:28 (INFO): energy_forces_within_threshold: 0.00e+00, energy_mae: 1.77e+00, forcesx_mae: 5.50e-02, forcesy_mae: 7.03e-02, forcesz_mae: 6.64e-02, forces_mae: 6.39e-02, forces_cosine_similarity: 4.44e-02, forces_magnitude_error: 1.30e-01, loss: 5.18e+00, lr: 4.02e-04, epoch: 3.00e-01, step: 6.60e+03\n",
      "2024-05-28 23:07:29 (INFO): energy_forces_within_threshold: 0.00e+00, energy_mae: 2.15e+00, forcesx_mae: 7.14e-02, forcesy_mae: 9.71e-02, forcesz_mae: 1.13e-01, forces_mae: 9.39e-02, forces_cosine_similarity: -1.25e-02, forces_magnitude_error: 1.86e-01, loss: 7.52e+00, lr: 4.02e-04, epoch: 3.00e-01, step: 6.61e+03\n"
     ]
    },
    {
     "name": "stderr",
     "output_type": "stream",
     "text": [
      "2024-05-28 23:07:29 (WARNING): Found nans while computing loss\n",
      "2024-05-28 23:07:29 (WARNING): Found nans while computing loss\n"
     ]
    },
    {
     "name": "stdout",
     "output_type": "stream",
     "text": [
      "2024-05-28 23:07:29 (INFO): energy_forces_within_threshold: 0.00e+00, energy_mae: nan, forcesx_mae: nan, forcesy_mae: nan, forcesz_mae: nan, forces_mae: nan, forces_cosine_similarity: nan, forces_magnitude_error: nan, loss: 5.95e+00, lr: 4.02e-04, epoch: 3.01e-01, step: 6.62e+03\n",
      "2024-05-28 23:07:30 (INFO): energy_forces_within_threshold: 0.00e+00, energy_mae: 2.02e+00, forcesx_mae: 9.45e-02, forcesy_mae: 1.04e-01, forcesz_mae: 1.30e-01, forces_mae: 1.09e-01, forces_cosine_similarity: 6.70e-02, forces_magnitude_error: 2.23e-01, loss: 8.60e+00, lr: 4.02e-04, epoch: 3.01e-01, step: 6.62e+03\n",
      "2024-05-28 23:07:30 (INFO): energy_forces_within_threshold: 0.00e+00, energy_mae: 2.26e+00, forcesx_mae: 7.70e-02, forcesy_mae: 8.49e-02, forcesz_mae: 9.91e-02, forces_mae: 8.70e-02, forces_cosine_similarity: -7.73e-03, forces_magnitude_error: 1.81e-01, loss: 7.38e+00, lr: 4.02e-04, epoch: 3.01e-01, step: 6.62e+03\n",
      "2024-05-28 23:07:31 (INFO): energy_forces_within_threshold: 0.00e+00, energy_mae: 1.93e+00, forcesx_mae: 6.08e-02, forcesy_mae: 7.44e-02, forcesz_mae: 7.31e-02, forces_mae: 6.94e-02, forces_cosine_similarity: -1.85e-02, forces_magnitude_error: 1.39e-01, loss: 5.54e+00, lr: 4.02e-04, epoch: 3.01e-01, step: 6.63e+03\n",
      "2024-05-28 23:07:31 (INFO): energy_forces_within_threshold: 0.00e+00, energy_mae: 1.99e+00, forcesx_mae: 5.47e-02, forcesy_mae: 7.51e-02, forcesz_mae: 7.42e-02, forces_mae: 6.80e-02, forces_cosine_similarity: 6.06e-02, forces_magnitude_error: 1.37e-01, loss: 5.55e+00, lr: 4.02e-04, epoch: 3.02e-01, step: 6.64e+03\n",
      "2024-05-28 23:07:32 (INFO): energy_forces_within_threshold: 0.00e+00, energy_mae: 1.86e+00, forcesx_mae: 8.30e-02, forcesy_mae: 9.67e-02, forcesz_mae: 1.07e-01, forces_mae: 9.55e-02, forces_cosine_similarity: 5.65e-02, forces_magnitude_error: 1.94e-01, loss: 7.44e+00, lr: 4.02e-04, epoch: 3.02e-01, step: 6.64e+03\n",
      "2024-05-28 23:07:32 (INFO): energy_forces_within_threshold: 0.00e+00, energy_mae: 2.23e+00, forcesx_mae: 6.46e-02, forcesy_mae: 7.81e-02, forcesz_mae: 8.32e-02, forces_mae: 7.53e-02, forces_cosine_similarity: -2.25e-02, forces_magnitude_error: 1.52e-01, loss: 6.23e+00, lr: 4.02e-04, epoch: 3.02e-01, step: 6.64e+03\n",
      "2024-05-28 23:07:32 (INFO): energy_forces_within_threshold: 0.00e+00, energy_mae: 2.22e+00, forcesx_mae: 6.10e-02, forcesy_mae: 9.17e-02, forcesz_mae: 1.04e-01, forces_mae: 8.55e-02, forces_cosine_similarity: 1.02e-02, forces_magnitude_error: 1.72e-01, loss: 6.90e+00, lr: 4.02e-04, epoch: 3.02e-01, step: 6.65e+03\n",
      "2024-05-28 23:07:33 (INFO): energy_forces_within_threshold: 0.00e+00, energy_mae: 2.04e+00, forcesx_mae: 8.82e-02, forcesy_mae: 1.19e-01, forcesz_mae: 1.16e-01, forces_mae: 1.08e-01, forces_cosine_similarity: 5.34e-02, forces_magnitude_error: 2.18e-01, loss: 8.46e+00, lr: 4.02e-04, epoch: 3.02e-01, step: 6.66e+03\n",
      "2024-05-28 23:07:33 (INFO): energy_forces_within_threshold: 0.00e+00, energy_mae: 2.19e+00, forcesx_mae: 7.12e-02, forcesy_mae: 8.93e-02, forcesz_mae: 1.27e-01, forces_mae: 9.58e-02, forces_cosine_similarity: 3.65e-02, forces_magnitude_error: 2.01e-01, loss: 8.01e+00, lr: 4.02e-04, epoch: 3.03e-01, step: 6.66e+03\n",
      "2024-05-28 23:07:34 (INFO): energy_forces_within_threshold: 0.00e+00, energy_mae: 2.52e+00, forcesx_mae: 8.95e-02, forcesy_mae: 1.15e-01, forcesz_mae: 1.54e-01, forces_mae: 1.20e-01, forces_cosine_similarity: -5.90e-03, forces_magnitude_error: 2.47e-01, loss: 9.81e+00, lr: 4.02e-04, epoch: 3.03e-01, step: 6.66e+03\n"
     ]
    },
    {
     "name": "stderr",
     "output_type": "stream",
     "text": [
      "2024-05-28 23:07:34 (WARNING): Found nans while computing loss\n",
      "2024-05-28 23:07:34 (WARNING): Found nans while computing loss\n",
      "2024-05-28 23:07:34 (WARNING): Found nans while computing loss\n",
      "2024-05-28 23:07:34 (WARNING): Found nans while computing loss\n"
     ]
    },
    {
     "name": "stdout",
     "output_type": "stream",
     "text": [
      "2024-05-28 23:07:34 (INFO): energy_forces_within_threshold: 0.00e+00, energy_mae: nan, forcesx_mae: nan, forcesy_mae: nan, forcesz_mae: nan, forces_mae: nan, forces_cosine_similarity: nan, forces_magnitude_error: nan, loss: 3.40e+05, lr: 4.02e-04, epoch: 3.03e-01, step: 6.67e+03\n"
     ]
    },
    {
     "name": "stderr",
     "output_type": "stream",
     "text": [
      "2024-05-28 23:07:34 (WARNING): Found nans while computing loss\n",
      "2024-05-28 23:07:34 (WARNING): Found nans while computing loss\n",
      "2024-05-28 23:07:35 (WARNING): Found nans while computing loss\n",
      "2024-05-28 23:07:35 (WARNING): Found nans while computing loss\n",
      "2024-05-28 23:07:35 (WARNING): Found nans while computing loss\n",
      "2024-05-28 23:07:35 (WARNING): Found nans while computing loss\n",
      "2024-05-28 23:07:35 (WARNING): Found nans while computing loss\n",
      "2024-05-28 23:07:35 (WARNING): Found nans while computing loss\n",
      "2024-05-28 23:07:35 (WARNING): Found nans while computing loss\n",
      "2024-05-28 23:07:35 (WARNING): Found nans while computing loss\n"
     ]
    },
    {
     "name": "stdout",
     "output_type": "stream",
     "text": [
      "2024-05-28 23:07:35 (INFO): energy_forces_within_threshold: 0.00e+00, energy_mae: nan, forcesx_mae: nan, forcesy_mae: nan, forcesz_mae: nan, forces_mae: nan, forces_cosine_similarity: nan, forces_magnitude_error: nan, loss: 1.24e+01, lr: 4.02e-04, epoch: 3.03e-01, step: 6.68e+03\n"
     ]
    },
    {
     "name": "stderr",
     "output_type": "stream",
     "text": [
      "2024-05-28 23:07:35 (WARNING): Found nans while computing loss\n",
      "2024-05-28 23:07:35 (WARNING): Found nans while computing loss\n",
      "2024-05-28 23:07:35 (WARNING): Found nans while computing loss\n",
      "2024-05-28 23:07:35 (WARNING): Found nans while computing loss\n",
      "2024-05-28 23:07:35 (WARNING): Found nans while computing loss\n",
      "2024-05-28 23:07:35 (WARNING): Found nans while computing loss\n",
      "2024-05-28 23:07:35 (WARNING): Found nans while computing loss\n",
      "2024-05-28 23:07:35 (WARNING): Found nans while computing loss\n",
      "2024-05-28 23:07:35 (WARNING): Found nans while computing loss\n",
      "2024-05-28 23:07:35 (WARNING): Found nans while computing loss\n"
     ]
    },
    {
     "name": "stdout",
     "output_type": "stream",
     "text": [
      "2024-05-28 23:07:35 (INFO): energy_forces_within_threshold: 0.00e+00, energy_mae: nan, forcesx_mae: nan, forcesy_mae: nan, forcesz_mae: nan, forces_mae: nan, forces_cosine_similarity: nan, forces_magnitude_error: nan, loss: 9.25e+00, lr: 4.02e-04, epoch: 3.04e-01, step: 6.68e+03\n"
     ]
    },
    {
     "name": "stderr",
     "output_type": "stream",
     "text": [
      "2024-05-28 23:07:35 (WARNING): Found nans while computing loss\n",
      "2024-05-28 23:07:35 (WARNING): Found nans while computing loss\n",
      "2024-05-28 23:07:35 (WARNING): Found nans while computing loss\n",
      "2024-05-28 23:07:35 (WARNING): Found nans while computing loss\n",
      "2024-05-28 23:07:36 (WARNING): Found nans while computing loss\n",
      "2024-05-28 23:07:36 (WARNING): Found nans while computing loss\n",
      "2024-05-28 23:07:36 (WARNING): Found nans while computing loss\n",
      "2024-05-28 23:07:36 (WARNING): Found nans while computing loss\n",
      "2024-05-28 23:07:36 (WARNING): Found nans while computing loss\n",
      "2024-05-28 23:07:36 (WARNING): Found nans while computing loss\n"
     ]
    },
    {
     "name": "stdout",
     "output_type": "stream",
     "text": [
      "2024-05-28 23:07:36 (INFO): energy_forces_within_threshold: 0.00e+00, energy_mae: nan, forcesx_mae: nan, forcesy_mae: nan, forcesz_mae: nan, forces_mae: nan, forces_cosine_similarity: nan, forces_magnitude_error: nan, loss: 1.01e+01, lr: 4.02e-04, epoch: 3.04e-01, step: 6.68e+03\n"
     ]
    },
    {
     "name": "stderr",
     "output_type": "stream",
     "text": [
      "2024-05-28 23:07:36 (WARNING): Found nans while computing loss\n",
      "2024-05-28 23:07:36 (WARNING): Found nans while computing loss\n",
      "2024-05-28 23:07:36 (WARNING): Found nans while computing loss\n",
      "2024-05-28 23:07:36 (WARNING): Found nans while computing loss\n",
      "2024-05-28 23:07:36 (WARNING): Found nans while computing loss\n",
      "2024-05-28 23:07:36 (WARNING): Found nans while computing loss\n",
      "2024-05-28 23:07:36 (WARNING): Found nans while computing loss\n",
      "2024-05-28 23:07:36 (WARNING): Found nans while computing loss\n",
      "2024-05-28 23:07:36 (WARNING): Found nans while computing loss\n",
      "2024-05-28 23:07:36 (WARNING): Found nans while computing loss\n"
     ]
    },
    {
     "name": "stdout",
     "output_type": "stream",
     "text": [
      "2024-05-28 23:07:36 (INFO): energy_forces_within_threshold: 0.00e+00, energy_mae: nan, forcesx_mae: nan, forcesy_mae: nan, forcesz_mae: nan, forces_mae: nan, forces_cosine_similarity: nan, forces_magnitude_error: nan, loss: 9.44e+00, lr: 4.02e-04, epoch: 3.04e-01, step: 6.69e+03\n"
     ]
    },
    {
     "name": "stderr",
     "output_type": "stream",
     "text": [
      "2024-05-28 23:07:36 (WARNING): Found nans while computing loss\n",
      "2024-05-28 23:07:36 (WARNING): Found nans while computing loss\n",
      "\u001b[34m\u001b[1mwandb\u001b[0m: \u001b[32m\u001b[41mERROR\u001b[0m Run zniejjrx errored: ZeroDivisionError('float division by zero')\n",
      "\u001b[34m\u001b[1mwandb\u001b[0m: Agent Starting Run: zn5w0de5 with config:\n",
      "\u001b[34m\u001b[1mwandb\u001b[0m: \tbatch_size: 32\n",
      "\u001b[34m\u001b[1mwandb\u001b[0m: \tefermi_repr_length: 64\n",
      "\u001b[34m\u001b[1mwandb\u001b[0m: \tepochs: 1\n",
      "\u001b[34m\u001b[1mwandb\u001b[0m: \tlr: 8.792190076125796e-05\n",
      "\u001b[34m\u001b[1mwandb\u001b[0m: \u001b[33mWARNING\u001b[0m Ignored wandb.init() arg project when running a sweep\n",
      "\u001b[34m\u001b[1mwandb\u001b[0m: wandb version 0.17.0 is available!  To upgrade, please run:\n",
      "\u001b[34m\u001b[1mwandb\u001b[0m:  $ pip install wandb --upgrade\n"
     ]
    },
    {
     "data": {
      "text/html": [
       "\n",
       "                Tracking run with wandb version 0.11.2<br/>\n",
       "                Syncing run <strong style=\"color:#cdcd00\">good-sweep-3</strong> to <a href=\"https://wandb.ai\" target=\"_blank\">Weights & Biases</a> <a href=\"https://docs.wandb.com/integrations/jupyter.html\" target=\"_blank\">(Documentation)</a>.<br/>\n",
       "                Project page: <a href=\"https://wandb.ai/ml-mbzuai/PaiNN-170k-efermi\" target=\"_blank\">https://wandb.ai/ml-mbzuai/PaiNN-170k-efermi</a><br/>\n",
       "                Sweep page: <a href=\"https://wandb.ai/ml-mbzuai/PaiNN-170k-efermi/sweeps/5i5pgmb2\" target=\"_blank\">https://wandb.ai/ml-mbzuai/PaiNN-170k-efermi/sweeps/5i5pgmb2</a><br/>\n",
       "Run page: <a href=\"https://wandb.ai/ml-mbzuai/PaiNN-170k-efermi/runs/zn5w0de5\" target=\"_blank\">https://wandb.ai/ml-mbzuai/PaiNN-170k-efermi/runs/zn5w0de5</a><br/>\n",
       "                Run data is saved locally in <code>/l/users/elizaveta.starykh/OCP_project/ocp-git/wandb/run-20240528_230737-zn5w0de5</code><br/><br/>\n",
       "            "
      ],
      "text/plain": [
       "<IPython.core.display.HTML object>"
      ]
     },
     "metadata": {},
     "output_type": "display_data"
    },
    {
     "name": "stderr",
     "output_type": "stream",
     "text": [
      "fatal: not a git repository (or any parent up to mount point /)\n",
      "Stopping at filesystem boundary (GIT_DISCOVERY_ACROSS_FILESYSTEM not set).\n",
      "2024-05-28 23:07:44 (WARNING): Detected old config, converting to new format. Consider updating to avoid potential incompatibilities.\n"
     ]
    },
    {
     "name": "stdout",
     "output_type": "stream",
     "text": [
      "!*!*! epoch:  1\n",
      "2024-05-28 23:07:44 (INFO): amp: true\n",
      "cmd:\n",
      "  checkpoint_dir: ./checkpoints/2024-05-28-23-07-44-S2EF-170k-efermi\n",
      "  commit: null\n",
      "  identifier: S2EF-170k-efermi\n",
      "  logs_dir: ./logs/wandb/2024-05-28-23-07-44-S2EF-170k-efermi\n",
      "  print_every: 5\n",
      "  results_dir: ./results/2024-05-28-23-07-44-S2EF-170k-efermi\n",
      "  seed: 0\n",
      "  timestamp_id: 2024-05-28-23-07-44-S2EF-170k-efermi\n",
      "dataset:\n",
      "  format: lmdb\n",
      "  grad_target_mean: 0.0\n",
      "  grad_target_std: 2.8471219290033876\n",
      "  key_mapping:\n",
      "    force: forces\n",
      "    y: energy\n",
      "  normalize_labels: true\n",
      "  src: ./data/s2ef/200k/train/output_lmdb/normalized_efermi\n",
      "  target_mean: -0.7877437496095779\n",
      "  target_std: 2.8471219290033876\n",
      "  transforms:\n",
      "    normalizer:\n",
      "      energy:\n",
      "        mean: -0.7877437496095779\n",
      "        stdev: 2.8471219290033876\n",
      "      forces:\n",
      "        mean: 0.0\n",
      "        stdev: 2.8471219290033876\n",
      "eval_metrics:\n",
      "  metrics:\n",
      "    energy:\n",
      "    - mae\n",
      "    forces:\n",
      "    - forcesx_mae\n",
      "    - forcesy_mae\n",
      "    - forcesz_mae\n",
      "    - mae\n",
      "    - cosine_similarity\n",
      "    - magnitude_error\n",
      "    misc:\n",
      "    - energy_forces_within_threshold\n",
      "gpus: 1\n",
      "logger: wandb\n",
      "loss_fns:\n",
      "- energy:\n",
      "    coefficient: 1\n",
      "    fn: mae\n",
      "- forces:\n",
      "    coefficient: 100\n",
      "    fn: l2mae\n",
      "model: ocpmodels.models.painn.painn.PaiNN\n",
      "model_attributes:\n",
      "  cutoff: 12.0\n",
      "  direct_forces: true\n",
      "  efermi_length: 64\n",
      "  hidden_channels: 512\n",
      "  max_neighbors: 50\n",
      "  num_layers: 6\n",
      "  num_rbf: 128\n",
      "  otf_graph: true\n",
      "  regress_forces: true\n",
      "  scale_file: configs/oc22/s2ef/painn/nb6_h512_n50_c12_oc22.pt\n",
      "  use_pbc: true\n",
      "noddp: false\n",
      "optim:\n",
      "  batch_size: 32\n",
      "  clip_grad_norm: 10\n",
      "  ema_decay: 0.999\n",
      "  eval_batch_size: 32\n",
      "  factor: 0.8\n",
      "  force_coefficient: 100\n",
      "  loss_energy: mae\n",
      "  loss_force: l2mae\n",
      "  lr_initial: 8.792190076125796e-05\n",
      "  max_epochs: 1\n",
      "  mode: min\n",
      "  num_workers: 2\n",
      "  optimizer: AdamW\n",
      "  optimizer_params:\n",
      "    amsgrad: true\n",
      "  patience: 3\n",
      "  scheduler: ReduceLROnPlateau\n",
      "outputs:\n",
      "  energy:\n",
      "    level: system\n",
      "  forces:\n",
      "    eval_on_free_atoms: true\n",
      "    level: atom\n",
      "    train_on_free_atoms: true\n",
      "slurm: {}\n",
      "task:\n",
      "  dataset: lmdb\n",
      "  description: Regressing to energies and forces for DFT trajectories from OCP\n",
      "  eval_on_free_atoms: true\n",
      "  grad_input: atomic forces\n",
      "  labels:\n",
      "  - potential energy\n",
      "  metric: mae\n",
      "  train_on_free_atoms: true\n",
      "  type: regression\n",
      "trainer: s2ef\n",
      "val_dataset:\n",
      "  src: ./data/s2ef/200k/train/output_lmdb/normalized_efermi/train_20000_systems\n",
      "\n"
     ]
    },
    {
     "name": "stderr",
     "output_type": "stream",
     "text": [
      "\u001b[34m\u001b[1mwandb\u001b[0m: \u001b[33mWARNING\u001b[0m Ignored wandb.init() arg id when running a sweep\n"
     ]
    },
    {
     "data": {
      "text/html": [
       "Finishing last run (ID:zn5w0de5) before initializing another..."
      ],
      "text/plain": [
       "<IPython.core.display.HTML object>"
      ]
     },
     "metadata": {},
     "output_type": "display_data"
    },
    {
     "data": {
      "text/html": [
       "<br/>Waiting for W&B process to finish, PID 2164163<br/>Program ended successfully."
      ],
      "text/plain": [
       "<IPython.core.display.HTML object>"
      ]
     },
     "metadata": {},
     "output_type": "display_data"
    },
    {
     "data": {
      "text/html": [
       "Find user logs for this run at: <code>/l/users/elizaveta.starykh/OCP_project/ocp-git/wandb/run-20240528_230737-zn5w0de5/logs/debug.log</code>"
      ],
      "text/plain": [
       "<IPython.core.display.HTML object>"
      ]
     },
     "metadata": {},
     "output_type": "display_data"
    },
    {
     "data": {
      "text/html": [
       "Find internal logs for this run at: <code>/l/users/elizaveta.starykh/OCP_project/ocp-git/wandb/run-20240528_230737-zn5w0de5/logs/debug-internal.log</code>"
      ],
      "text/plain": [
       "<IPython.core.display.HTML object>"
      ]
     },
     "metadata": {},
     "output_type": "display_data"
    },
    {
     "data": {
      "text/html": [
       "Synced 6 W&B file(s), 0 media file(s), 0 artifact file(s) and 0 other file(s)"
      ],
      "text/plain": [
       "<IPython.core.display.HTML object>"
      ]
     },
     "metadata": {},
     "output_type": "display_data"
    },
    {
     "data": {
      "text/html": [
       "\n",
       "                    <br/>Synced <strong style=\"color:#cdcd00\">good-sweep-3</strong>: <a href=\"https://wandb.ai/ml-mbzuai/PaiNN-170k-efermi/runs/zn5w0de5\" target=\"_blank\">https://wandb.ai/ml-mbzuai/PaiNN-170k-efermi/runs/zn5w0de5</a><br/>\n",
       "                "
      ],
      "text/plain": [
       "<IPython.core.display.HTML object>"
      ]
     },
     "metadata": {},
     "output_type": "display_data"
    },
    {
     "data": {
      "text/html": [
       "...Successfully finished last run (ID:zn5w0de5). Initializing new run:<br/><br/>"
      ],
      "text/plain": [
       "<IPython.core.display.HTML object>"
      ]
     },
     "metadata": {},
     "output_type": "display_data"
    },
    {
     "name": "stderr",
     "output_type": "stream",
     "text": [
      "\u001b[34m\u001b[1mwandb\u001b[0m: wandb version 0.17.0 is available!  To upgrade, please run:\n",
      "\u001b[34m\u001b[1mwandb\u001b[0m:  $ pip install wandb --upgrade\n"
     ]
    },
    {
     "data": {
      "text/html": [
       "\n",
       "                Tracking run with wandb version 0.11.2<br/>\n",
       "                Resuming run <strong style=\"color:#cdcd00\">S2EF-170k-efermi</strong> to <a href=\"https://wandb.ai\" target=\"_blank\">Weights & Biases</a> <a href=\"https://docs.wandb.com/integrations/jupyter.html\" target=\"_blank\">(Documentation)</a>.<br/>\n",
       "                Project page: <a href=\"https://wandb.ai/ml-mbzuai/PaiNN-170k-efermi\" target=\"_blank\">https://wandb.ai/ml-mbzuai/PaiNN-170k-efermi</a><br/>\n",
       "                Sweep page: <a href=\"https://wandb.ai/ml-mbzuai/PaiNN-170k-efermi/sweeps/5i5pgmb2\" target=\"_blank\">https://wandb.ai/ml-mbzuai/PaiNN-170k-efermi/sweeps/5i5pgmb2</a><br/>\n",
       "Run page: <a href=\"https://wandb.ai/ml-mbzuai/PaiNN-170k-efermi/runs/zn5w0de5\" target=\"_blank\">https://wandb.ai/ml-mbzuai/PaiNN-170k-efermi/runs/zn5w0de5</a><br/>\n",
       "                Run data is saved locally in <code>./logs/wandb/2024-05-28-23-07-44-S2EF-170k-efermi/wandb/run-20240528_230744-zn5w0de5</code><br/><br/>\n",
       "            "
      ],
      "text/plain": [
       "<IPython.core.display.HTML object>"
      ]
     },
     "metadata": {},
     "output_type": "display_data"
    },
    {
     "name": "stdout",
     "output_type": "stream",
     "text": [
      "2024-05-28 23:07:50 (INFO): Loading dataset: lmdb\n",
      "2024-05-28 23:07:50 (INFO): Batch balancing is disabled for single GPU training.\n",
      "2024-05-28 23:07:50 (INFO): Batch balancing is disabled for single GPU training.\n",
      "2024-05-28 23:07:50 (INFO): Loading model: ocpmodels.models.painn.painn.PaiNN\n"
     ]
    },
    {
     "name": "stderr",
     "output_type": "stream",
     "text": [
      "/l/users/elizaveta.starykh/conda_envs/python9/lib/python3.9/site-packages/torch_geometric/nn/conv/message_passing.py:988: UserWarning: 'PaiNNMessage.jittable' is deprecated and a no-op. Please remove its usage.\n",
      "  warnings.warn(f\"'{self.__class__.__name__}.jittable' is deprecated \"\n"
     ]
    },
    {
     "name": "stdout",
     "output_type": "stream",
     "text": [
      "2024-05-28 23:07:51 (INFO): Loaded PaiNN with 20068297 parameters.\n",
      "2024-05-28 23:07:52 (INFO): energy_forces_within_threshold: 0.00e+00, energy_mae: 3.21e+02, forcesx_mae: 8.31e-02, forcesy_mae: 9.86e-02, forcesz_mae: 1.13e-01, forces_mae: 9.82e-02, forces_cosine_similarity: -6.92e-03, forces_magnitude_error: 1.49e-01, loss: 2.40e+02, lr: 8.79e-05, epoch: 9.09e-04, step: 5.00e+00\n",
      "2024-05-28 23:07:53 (INFO): energy_forces_within_threshold: 0.00e+00, energy_mae: 2.81e+02, forcesx_mae: 1.08e-01, forcesy_mae: 1.42e-01, forcesz_mae: 1.59e-01, forces_mae: 1.36e-01, forces_cosine_similarity: 4.58e-03, forces_magnitude_error: 2.14e-01, loss: 1.97e+02, lr: 8.79e-05, epoch: 1.82e-03, step: 1.00e+01\n",
      "2024-05-28 23:07:54 (INFO): energy_forces_within_threshold: 0.00e+00, energy_mae: 2.79e+02, forcesx_mae: 1.02e-01, forcesy_mae: 1.33e-01, forcesz_mae: 1.37e-01, forces_mae: 1.24e-01, forces_cosine_similarity: 1.16e-03, forces_magnitude_error: 2.18e-01, loss: 1.07e+02, lr: 8.79e-05, epoch: 2.73e-03, step: 1.50e+01\n",
      "2024-05-28 23:07:56 (INFO): energy_forces_within_threshold: 0.00e+00, energy_mae: 2.96e+02, forcesx_mae: 7.23e-02, forcesy_mae: 1.01e-01, forcesz_mae: 1.16e-01, forces_mae: 9.63e-02, forces_cosine_similarity: 1.44e-02, forces_magnitude_error: 1.66e-01, loss: 1.11e+02, lr: 8.79e-05, epoch: 3.64e-03, step: 2.00e+01\n",
      "2024-05-28 23:07:57 (INFO): energy_forces_within_threshold: 0.00e+00, energy_mae: 2.17e+02, forcesx_mae: 7.02e-02, forcesy_mae: 9.81e-02, forcesz_mae: 1.11e-01, forces_mae: 9.32e-02, forces_cosine_similarity: 1.13e-02, forces_magnitude_error: 1.67e-01, loss: 8.32e+01, lr: 8.79e-05, epoch: 4.54e-03, step: 2.50e+01\n",
      "2024-05-28 23:07:58 (INFO): energy_forces_within_threshold: 0.00e+00, energy_mae: 1.92e+02, forcesx_mae: 7.62e-02, forcesy_mae: 8.25e-02, forcesz_mae: 1.04e-01, forces_mae: 8.74e-02, forces_cosine_similarity: -1.30e-02, forces_magnitude_error: 1.52e-01, loss: 7.38e+01, lr: 8.79e-05, epoch: 5.45e-03, step: 3.00e+01\n",
      "2024-05-28 23:07:59 (INFO): energy_forces_within_threshold: 0.00e+00, energy_mae: 1.99e+02, forcesx_mae: 7.08e-02, forcesy_mae: 8.88e-02, forcesz_mae: 9.81e-02, forces_mae: 8.59e-02, forces_cosine_similarity: 6.63e-03, forces_magnitude_error: 1.53e-01, loss: 7.62e+01, lr: 8.79e-05, epoch: 6.36e-03, step: 3.50e+01\n",
      "2024-05-28 23:08:00 (INFO): energy_forces_within_threshold: 0.00e+00, energy_mae: 1.77e+02, forcesx_mae: 7.04e-02, forcesy_mae: 1.03e-01, forcesz_mae: 9.46e-02, forces_mae: 8.95e-02, forces_cosine_similarity: 4.14e-03, forces_magnitude_error: 1.66e-01, loss: 6.87e+01, lr: 8.79e-05, epoch: 7.27e-03, step: 4.00e+01\n",
      "2024-05-28 23:08:02 (INFO): energy_forces_within_threshold: 0.00e+00, energy_mae: 1.51e+02, forcesx_mae: 9.38e-02, forcesy_mae: 1.12e-01, forcesz_mae: 1.20e-01, forces_mae: 1.08e-01, forces_cosine_similarity: 3.91e-03, forces_magnitude_error: 2.00e-01, loss: 6.09e+01, lr: 8.79e-05, epoch: 8.18e-03, step: 4.50e+01\n",
      "2024-05-28 23:08:03 (INFO): energy_forces_within_threshold: 0.00e+00, energy_mae: 1.44e+02, forcesx_mae: 5.51e-02, forcesy_mae: 6.36e-02, forcesz_mae: 7.08e-02, forces_mae: 6.32e-02, forces_cosine_similarity: -2.72e-03, forces_magnitude_error: 1.11e-01, loss: 5.51e+01, lr: 8.79e-05, epoch: 9.09e-03, step: 5.00e+01\n",
      "2024-05-28 23:08:04 (INFO): energy_forces_within_threshold: 0.00e+00, energy_mae: 1.59e+02, forcesx_mae: 7.20e-02, forcesy_mae: 8.01e-02, forcesz_mae: 8.95e-02, forces_mae: 8.06e-02, forces_cosine_similarity: -4.82e-03, forces_magnitude_error: 1.45e-01, loss: 6.16e+01, lr: 8.79e-05, epoch: 1.00e-02, step: 5.50e+01\n",
      "2024-05-28 23:08:05 (INFO): energy_forces_within_threshold: 0.00e+00, energy_mae: 1.49e+02, forcesx_mae: 8.44e-02, forcesy_mae: 1.04e-01, forcesz_mae: 1.26e-01, forces_mae: 1.05e-01, forces_cosine_similarity: -6.00e-03, forces_magnitude_error: 1.96e-01, loss: 6.00e+01, lr: 8.79e-05, epoch: 1.09e-02, step: 6.00e+01\n",
      "2024-05-28 23:08:06 (INFO): energy_forces_within_threshold: 0.00e+00, energy_mae: 1.13e+02, forcesx_mae: 6.37e-02, forcesy_mae: 7.60e-02, forcesz_mae: 7.62e-02, forces_mae: 7.20e-02, forces_cosine_similarity: 1.55e-02, forces_magnitude_error: 1.29e-01, loss: 4.49e+01, lr: 8.79e-05, epoch: 1.18e-02, step: 6.50e+01\n",
      "2024-05-28 23:08:08 (INFO): energy_forces_within_threshold: 0.00e+00, energy_mae: 1.28e+02, forcesx_mae: 7.10e-02, forcesy_mae: 7.86e-02, forcesz_mae: 9.70e-02, forces_mae: 8.22e-02, forces_cosine_similarity: -5.26e-04, forces_magnitude_error: 1.52e-01, loss: 5.08e+01, lr: 8.79e-05, epoch: 1.27e-02, step: 7.00e+01\n",
      "2024-05-28 23:08:09 (INFO): energy_forces_within_threshold: 0.00e+00, energy_mae: 1.17e+02, forcesx_mae: 6.53e-02, forcesy_mae: 8.21e-02, forcesz_mae: 9.45e-02, forces_mae: 8.06e-02, forces_cosine_similarity: 1.10e-02, forces_magnitude_error: 1.50e-01, loss: 4.70e+01, lr: 8.79e-05, epoch: 1.36e-02, step: 7.50e+01\n",
      "2024-05-28 23:08:10 (INFO): energy_forces_within_threshold: 0.00e+00, energy_mae: 1.25e+02, forcesx_mae: 5.58e-02, forcesy_mae: 7.28e-02, forcesz_mae: 7.44e-02, forces_mae: 6.77e-02, forces_cosine_similarity: 1.83e-02, forces_magnitude_error: 1.23e-01, loss: 4.87e+01, lr: 8.79e-05, epoch: 1.45e-02, step: 8.00e+01\n",
      "2024-05-28 23:08:11 (INFO): energy_forces_within_threshold: 0.00e+00, energy_mae: 1.06e+02, forcesx_mae: 6.67e-02, forcesy_mae: 8.47e-02, forcesz_mae: 9.70e-02, forces_mae: 8.28e-02, forces_cosine_similarity: -2.32e-02, forces_magnitude_error: 1.56e-01, loss: 4.32e+01, lr: 8.79e-05, epoch: 1.55e-02, step: 8.50e+01\n",
      "2024-05-28 23:08:12 (INFO): energy_forces_within_threshold: 0.00e+00, energy_mae: 1.08e+02, forcesx_mae: 7.23e-02, forcesy_mae: 9.79e-02, forcesz_mae: 1.01e-01, forces_mae: 9.05e-02, forces_cosine_similarity: 2.82e-03, forces_magnitude_error: 1.69e-01, loss: 4.45e+01, lr: 8.79e-05, epoch: 1.64e-02, step: 9.00e+01\n",
      "2024-05-28 23:08:13 (INFO): energy_forces_within_threshold: 0.00e+00, energy_mae: 8.11e+01, forcesx_mae: 6.59e-02, forcesy_mae: 8.35e-02, forcesz_mae: 8.81e-02, forces_mae: 7.92e-02, forces_cosine_similarity: -2.71e-02, forces_magnitude_error: 1.50e-01, loss: 3.42e+01, lr: 8.79e-05, epoch: 1.73e-02, step: 9.50e+01\n",
      "2024-05-28 23:08:15 (INFO): energy_forces_within_threshold: 0.00e+00, energy_mae: 9.40e+01, forcesx_mae: 6.05e-02, forcesy_mae: 7.62e-02, forcesz_mae: 8.00e-02, forces_mae: 7.22e-02, forces_cosine_similarity: -1.07e-02, forces_magnitude_error: 1.34e-01, loss: 3.83e+01, lr: 8.79e-05, epoch: 1.82e-02, step: 1.00e+02\n",
      "2024-05-28 23:08:16 (INFO): energy_forces_within_threshold: 0.00e+00, energy_mae: 1.02e+02, forcesx_mae: 7.16e-02, forcesy_mae: 8.63e-02, forcesz_mae: 8.98e-02, forces_mae: 8.26e-02, forces_cosine_similarity: 3.58e-03, forces_magnitude_error: 1.57e-01, loss: 4.19e+01, lr: 8.79e-05, epoch: 1.91e-02, step: 1.05e+02\n",
      "2024-05-28 23:08:17 (INFO): energy_forces_within_threshold: 0.00e+00, energy_mae: 7.52e+01, forcesx_mae: 7.64e-02, forcesy_mae: 1.17e-01, forcesz_mae: 1.14e-01, forces_mae: 1.02e-01, forces_cosine_similarity: 2.48e-03, forces_magnitude_error: 1.99e-01, loss: 3.38e+01, lr: 8.79e-05, epoch: 2.00e-02, step: 1.10e+02\n",
      "2024-05-28 23:08:18 (INFO): energy_forces_within_threshold: 0.00e+00, energy_mae: 7.81e+01, forcesx_mae: 7.07e-02, forcesy_mae: 8.30e-02, forcesz_mae: 9.33e-02, forces_mae: 8.23e-02, forces_cosine_similarity: -1.64e-02, forces_magnitude_error: 1.55e-01, loss: 3.33e+01, lr: 8.79e-05, epoch: 2.09e-02, step: 1.15e+02\n",
      "2024-05-28 23:08:19 (INFO): energy_forces_within_threshold: 0.00e+00, energy_mae: 8.72e+01, forcesx_mae: 6.17e-02, forcesy_mae: 8.60e-02, forcesz_mae: 8.92e-02, forces_mae: 7.90e-02, forces_cosine_similarity: 9.91e-03, forces_magnitude_error: 1.49e-01, loss: 3.63e+01, lr: 8.79e-05, epoch: 2.18e-02, step: 1.20e+02\n",
      "2024-05-28 23:08:21 (INFO): energy_forces_within_threshold: 0.00e+00, energy_mae: 5.90e+01, forcesx_mae: 8.50e-02, forcesy_mae: 1.22e-01, forcesz_mae: 1.28e-01, forces_mae: 1.11e-01, forces_cosine_similarity: -9.88e-03, forces_magnitude_error: 2.13e-01, loss: 2.87e+01, lr: 8.79e-05, epoch: 2.27e-02, step: 1.25e+02\n",
      "2024-05-28 23:08:22 (INFO): energy_forces_within_threshold: 0.00e+00, energy_mae: 5.47e+01, forcesx_mae: 7.31e-02, forcesy_mae: 1.08e-01, forcesz_mae: 9.86e-02, forces_mae: 9.32e-02, forces_cosine_similarity: -2.59e-03, forces_magnitude_error: 1.76e-01, loss: 2.60e+01, lr: 8.79e-05, epoch: 2.36e-02, step: 1.30e+02\n",
      "2024-05-28 23:08:23 (INFO): energy_forces_within_threshold: 0.00e+00, energy_mae: 5.31e+01, forcesx_mae: 5.71e-02, forcesy_mae: 7.13e-02, forcesz_mae: 8.32e-02, forces_mae: 7.05e-02, forces_cosine_similarity: -7.29e-03, forces_magnitude_error: 1.29e-01, loss: 2.38e+01, lr: 8.79e-05, epoch: 2.45e-02, step: 1.35e+02\n",
      "2024-05-28 23:08:24 (INFO): energy_forces_within_threshold: 0.00e+00, energy_mae: 4.25e+01, forcesx_mae: 7.15e-02, forcesy_mae: 8.70e-02, forcesz_mae: 8.81e-02, forces_mae: 8.22e-02, forces_cosine_similarity: -2.64e-03, forces_magnitude_error: 1.54e-01, loss: 2.08e+01, lr: 8.79e-05, epoch: 2.54e-02, step: 1.40e+02\n",
      "2024-05-28 23:08:25 (INFO): energy_forces_within_threshold: 0.00e+00, energy_mae: 4.55e+01, forcesx_mae: 5.85e-02, forcesy_mae: 7.76e-02, forcesz_mae: 9.69e-02, forces_mae: 7.77e-02, forces_cosine_similarity: 1.42e-02, forces_magnitude_error: 1.52e-01, loss: 2.18e+01, lr: 8.79e-05, epoch: 2.64e-02, step: 1.45e+02\n",
      "2024-05-28 23:08:27 (INFO): energy_forces_within_threshold: 0.00e+00, energy_mae: 4.09e+01, forcesx_mae: 6.58e-02, forcesy_mae: 8.49e-02, forcesz_mae: 8.82e-02, forces_mae: 7.96e-02, forces_cosine_similarity: -2.79e-03, forces_magnitude_error: 1.51e-01, loss: 2.00e+01, lr: 8.79e-05, epoch: 2.73e-02, step: 1.50e+02\n",
      "2024-05-28 23:08:28 (INFO): energy_forces_within_threshold: 0.00e+00, energy_mae: 4.15e+01, forcesx_mae: 7.75e-02, forcesy_mae: 1.14e-01, forcesz_mae: 1.29e-01, forces_mae: 1.07e-01, forces_cosine_similarity: 1.38e-02, forces_magnitude_error: 2.09e-01, loss: 2.75e+01, lr: 8.79e-05, epoch: 2.82e-02, step: 1.55e+02\n",
      "2024-05-28 23:08:29 (INFO): energy_forces_within_threshold: 0.00e+00, energy_mae: 4.34e+01, forcesx_mae: 7.11e-02, forcesy_mae: 8.88e-02, forcesz_mae: 8.76e-02, forces_mae: 8.25e-02, forces_cosine_similarity: -8.64e-03, forces_magnitude_error: 1.59e-01, loss: 2.12e+01, lr: 8.79e-05, epoch: 2.91e-02, step: 1.60e+02\n",
      "2024-05-28 23:08:30 (INFO): energy_forces_within_threshold: 0.00e+00, energy_mae: 3.47e+01, forcesx_mae: 5.51e-02, forcesy_mae: 7.02e-02, forcesz_mae: 8.10e-02, forces_mae: 6.88e-02, forces_cosine_similarity: -1.18e-02, forces_magnitude_error: 1.31e-01, loss: 1.73e+01, lr: 8.79e-05, epoch: 3.00e-02, step: 1.65e+02\n",
      "2024-05-28 23:08:31 (INFO): energy_forces_within_threshold: 0.00e+00, energy_mae: 3.57e+01, forcesx_mae: 6.40e-02, forcesy_mae: 8.41e-02, forcesz_mae: 8.60e-02, forces_mae: 7.80e-02, forces_cosine_similarity: 3.39e-03, forces_magnitude_error: 1.51e-01, loss: 1.82e+01, lr: 8.79e-05, epoch: 3.09e-02, step: 1.70e+02\n",
      "2024-05-28 23:08:33 (INFO): energy_forces_within_threshold: 0.00e+00, energy_mae: 3.31e+01, forcesx_mae: 6.67e-02, forcesy_mae: 7.71e-02, forcesz_mae: 8.39e-02, forces_mae: 7.59e-02, forces_cosine_similarity: -4.62e-03, forces_magnitude_error: 1.46e-01, loss: 1.71e+01, lr: 8.79e-05, epoch: 3.18e-02, step: 1.75e+02\n",
      "2024-05-28 23:08:34 (INFO): energy_forces_within_threshold: 0.00e+00, energy_mae: 3.07e+01, forcesx_mae: 7.23e-02, forcesy_mae: 8.86e-02, forcesz_mae: 9.38e-02, forces_mae: 8.49e-02, forces_cosine_similarity: 2.32e-03, forces_magnitude_error: 1.64e-01, loss: 1.68e+01, lr: 8.79e-05, epoch: 3.27e-02, step: 1.80e+02\n",
      "2024-05-28 23:08:35 (INFO): energy_forces_within_threshold: 0.00e+00, energy_mae: 3.56e+01, forcesx_mae: 6.44e-02, forcesy_mae: 8.79e-02, forcesz_mae: 1.05e-01, forces_mae: 8.58e-02, forces_cosine_similarity: -2.12e-03, forces_magnitude_error: 1.70e-01, loss: 1.87e+01, lr: 8.79e-05, epoch: 3.36e-02, step: 1.85e+02\n",
      "2024-05-28 23:08:36 (INFO): energy_forces_within_threshold: 0.00e+00, energy_mae: 3.09e+01, forcesx_mae: 7.43e-02, forcesy_mae: 9.01e-02, forcesz_mae: 9.04e-02, forces_mae: 8.50e-02, forces_cosine_similarity: 6.83e-03, forces_magnitude_error: 1.63e-01, loss: 1.70e+01, lr: 8.79e-05, epoch: 3.45e-02, step: 1.90e+02\n",
      "2024-05-28 23:08:37 (INFO): energy_forces_within_threshold: 0.00e+00, energy_mae: 3.12e+01, forcesx_mae: 6.01e-02, forcesy_mae: 8.62e-02, forcesz_mae: 9.51e-02, forces_mae: 8.04e-02, forces_cosine_similarity: 9.18e-03, forces_magnitude_error: 1.59e-01, loss: 1.68e+01, lr: 8.79e-05, epoch: 3.54e-02, step: 1.95e+02\n",
      "2024-05-28 23:08:39 (INFO): energy_forces_within_threshold: 0.00e+00, energy_mae: 2.65e+01, forcesx_mae: 7.81e-02, forcesy_mae: 1.05e-01, forcesz_mae: 1.02e-01, forces_mae: 9.48e-02, forces_cosine_similarity: 1.03e-02, forces_magnitude_error: 1.82e-01, loss: 1.60e+01, lr: 8.79e-05, epoch: 3.64e-02, step: 2.00e+02\n",
      "2024-05-28 23:08:40 (INFO): energy_forces_within_threshold: 0.00e+00, energy_mae: 2.90e+01, forcesx_mae: 7.58e-02, forcesy_mae: 8.49e-02, forcesz_mae: 9.30e-02, forces_mae: 8.46e-02, forces_cosine_similarity: 2.50e-02, forces_magnitude_error: 1.64e-01, loss: 1.62e+01, lr: 8.79e-05, epoch: 3.73e-02, step: 2.05e+02\n",
      "2024-05-28 23:08:41 (INFO): energy_forces_within_threshold: 0.00e+00, energy_mae: 2.21e+01, forcesx_mae: 5.71e-02, forcesy_mae: 8.98e-02, forcesz_mae: 9.43e-02, forces_mae: 8.04e-02, forces_cosine_similarity: -2.93e-04, forces_magnitude_error: 1.58e-01, loss: 1.37e+01, lr: 8.79e-05, epoch: 3.82e-02, step: 2.10e+02\n",
      "2024-05-28 23:08:42 (INFO): energy_forces_within_threshold: 0.00e+00, energy_mae: 1.98e+01, forcesx_mae: 6.64e-02, forcesy_mae: 8.00e-02, forcesz_mae: 8.26e-02, forces_mae: 7.64e-02, forces_cosine_similarity: 1.09e-02, forces_magnitude_error: 1.47e-01, loss: 1.24e+01, lr: 8.79e-05, epoch: 3.91e-02, step: 2.15e+02\n",
      "2024-05-28 23:08:43 (INFO): energy_forces_within_threshold: 0.00e+00, energy_mae: 2.14e+01, forcesx_mae: 6.77e-02, forcesy_mae: 8.79e-02, forcesz_mae: 9.03e-02, forces_mae: 8.20e-02, forces_cosine_similarity: -5.80e-04, forces_magnitude_error: 1.55e-01, loss: 1.33e+01, lr: 8.79e-05, epoch: 4.00e-02, step: 2.20e+02\n",
      "2024-05-28 23:08:45 (INFO): energy_forces_within_threshold: 0.00e+00, energy_mae: 2.48e+01, forcesx_mae: 8.95e-02, forcesy_mae: 9.84e-02, forcesz_mae: 1.10e-01, forces_mae: 9.92e-02, forces_cosine_similarity: 2.35e-02, forces_magnitude_error: 1.88e-01, loss: 1.58e+01, lr: 8.79e-05, epoch: 4.09e-02, step: 2.25e+02\n",
      "2024-05-28 23:08:46 (INFO): energy_forces_within_threshold: 0.00e+00, energy_mae: 3.42e+01, forcesx_mae: 5.56e-02, forcesy_mae: 8.01e-02, forcesz_mae: 7.76e-02, forces_mae: 7.11e-02, forces_cosine_similarity: -1.15e-03, forces_magnitude_error: 1.37e-01, loss: 1.72e+01, lr: 8.79e-05, epoch: 4.18e-02, step: 2.30e+02\n",
      "2024-05-28 23:08:47 (INFO): energy_forces_within_threshold: 0.00e+00, energy_mae: 2.66e+01, forcesx_mae: 6.34e-02, forcesy_mae: 1.08e-01, forcesz_mae: 1.15e-01, forces_mae: 9.57e-02, forces_cosine_similarity: -8.00e-03, forces_magnitude_error: 1.92e-01, loss: 1.63e+01, lr: 8.79e-05, epoch: 4.27e-02, step: 2.35e+02\n",
      "2024-05-28 23:08:48 (INFO): energy_forces_within_threshold: 0.00e+00, energy_mae: 3.15e+01, forcesx_mae: 6.17e-02, forcesy_mae: 7.96e-02, forcesz_mae: 8.14e-02, forces_mae: 7.42e-02, forces_cosine_similarity: -1.73e-02, forces_magnitude_error: 1.46e-01, loss: 2.04e+01, lr: 8.79e-05, epoch: 4.36e-02, step: 2.40e+02\n",
      "2024-05-28 23:08:49 (INFO): energy_forces_within_threshold: 0.00e+00, energy_mae: 2.36e+01, forcesx_mae: 8.24e-02, forcesy_mae: 1.03e-01, forcesz_mae: 1.04e-01, forces_mae: 9.65e-02, forces_cosine_similarity: 1.18e-02, forces_magnitude_error: 1.95e-01, loss: 1.53e+01, lr: 8.79e-05, epoch: 4.45e-02, step: 2.45e+02\n",
      "2024-05-28 23:08:51 (INFO): energy_forces_within_threshold: 0.00e+00, energy_mae: 1.66e+01, forcesx_mae: 6.82e-02, forcesy_mae: 8.28e-02, forcesz_mae: 8.00e-02, forces_mae: 7.70e-02, forces_cosine_similarity: 6.90e-03, forces_magnitude_error: 1.49e-01, loss: 1.12e+01, lr: 8.79e-05, epoch: 4.54e-02, step: 2.50e+02\n",
      "2024-05-28 23:08:52 (INFO): energy_forces_within_threshold: 0.00e+00, energy_mae: 2.18e+01, forcesx_mae: 6.87e-02, forcesy_mae: 7.38e-02, forcesz_mae: 8.13e-02, forces_mae: 7.46e-02, forces_cosine_similarity: 3.76e-03, forces_magnitude_error: 1.45e-01, loss: 1.29e+01, lr: 8.79e-05, epoch: 4.64e-02, step: 2.55e+02\n",
      "2024-05-28 23:08:53 (INFO): energy_forces_within_threshold: 0.00e+00, energy_mae: 1.77e+01, forcesx_mae: 6.28e-02, forcesy_mae: 7.83e-02, forcesz_mae: 7.76e-02, forces_mae: 7.29e-02, forces_cosine_similarity: 2.87e-02, forces_magnitude_error: 1.41e-01, loss: 1.14e+01, lr: 8.79e-05, epoch: 4.73e-02, step: 2.60e+02\n",
      "2024-05-28 23:08:54 (INFO): energy_forces_within_threshold: 0.00e+00, energy_mae: 1.78e+01, forcesx_mae: 6.43e-02, forcesy_mae: 8.46e-02, forcesz_mae: 8.55e-02, forces_mae: 7.81e-02, forces_cosine_similarity: 9.38e-03, forces_magnitude_error: 1.52e-01, loss: 1.18e+01, lr: 8.79e-05, epoch: 4.82e-02, step: 2.65e+02\n",
      "2024-05-28 23:08:55 (INFO): energy_forces_within_threshold: 0.00e+00, energy_mae: 1.94e+01, forcesx_mae: 6.71e-02, forcesy_mae: 7.33e-02, forcesz_mae: 9.56e-02, forces_mae: 7.87e-02, forces_cosine_similarity: 1.75e-03, forces_magnitude_error: 1.54e-01, loss: 1.25e+01, lr: 8.79e-05, epoch: 4.91e-02, step: 2.70e+02\n",
      "2024-05-28 23:08:57 (INFO): energy_forces_within_threshold: 0.00e+00, energy_mae: 1.87e+01, forcesx_mae: 8.19e-02, forcesy_mae: 9.61e-02, forcesz_mae: 9.46e-02, forces_mae: 9.09e-02, forces_cosine_similarity: 2.16e-03, forces_magnitude_error: 1.80e-01, loss: 1.31e+01, lr: 8.79e-05, epoch: 5.00e-02, step: 2.75e+02\n",
      "2024-05-28 23:08:58 (INFO): energy_forces_within_threshold: 0.00e+00, energy_mae: 2.70e+01, forcesx_mae: 6.57e-02, forcesy_mae: 8.49e-02, forcesz_mae: 8.86e-02, forces_mae: 7.97e-02, forces_cosine_similarity: -1.45e-02, forces_magnitude_error: 1.57e-01, loss: 1.52e+01, lr: 8.79e-05, epoch: 5.09e-02, step: 2.80e+02\n",
      "2024-05-28 23:08:59 (INFO): energy_forces_within_threshold: 0.00e+00, energy_mae: 2.03e+01, forcesx_mae: 6.06e-02, forcesy_mae: 9.17e-02, forcesz_mae: 8.86e-02, forces_mae: 8.03e-02, forces_cosine_similarity: -3.04e-03, forces_magnitude_error: 1.61e-01, loss: 1.30e+01, lr: 8.79e-05, epoch: 5.18e-02, step: 2.85e+02\n",
      "2024-05-28 23:09:00 (INFO): energy_forces_within_threshold: 0.00e+00, energy_mae: 2.03e+01, forcesx_mae: 7.70e-02, forcesy_mae: 1.04e-01, forcesz_mae: 1.13e-01, forces_mae: 9.81e-02, forces_cosine_similarity: -3.98e-03, forces_magnitude_error: 1.94e-01, loss: 1.41e+01, lr: 8.79e-05, epoch: 5.27e-02, step: 2.90e+02\n",
      "2024-05-28 23:09:01 (INFO): energy_forces_within_threshold: 0.00e+00, energy_mae: 1.94e+01, forcesx_mae: 6.75e-02, forcesy_mae: 8.94e-02, forcesz_mae: 7.91e-02, forces_mae: 7.86e-02, forces_cosine_similarity: -5.04e-03, forces_magnitude_error: 1.56e-01, loss: 1.25e+01, lr: 8.79e-05, epoch: 5.36e-02, step: 2.95e+02\n",
      "2024-05-28 23:09:02 (INFO): energy_forces_within_threshold: 0.00e+00, energy_mae: 1.50e+01, forcesx_mae: 6.74e-02, forcesy_mae: 8.60e-02, forcesz_mae: 8.80e-02, forces_mae: 8.05e-02, forces_cosine_similarity: 1.27e-02, forces_magnitude_error: 1.60e-01, loss: 1.11e+01, lr: 8.79e-05, epoch: 5.45e-02, step: 3.00e+02\n",
      "2024-05-28 23:09:04 (INFO): energy_forces_within_threshold: 0.00e+00, energy_mae: 1.46e+01, forcesx_mae: 6.29e-02, forcesy_mae: 7.53e-02, forcesz_mae: 7.90e-02, forces_mae: 7.24e-02, forces_cosine_similarity: -8.51e-03, forces_magnitude_error: 1.44e-01, loss: 1.05e+01, lr: 8.79e-05, epoch: 5.54e-02, step: 3.05e+02\n",
      "2024-05-28 23:09:05 (INFO): energy_forces_within_threshold: 0.00e+00, energy_mae: 1.45e+01, forcesx_mae: 6.73e-02, forcesy_mae: 8.42e-02, forcesz_mae: 8.36e-02, forces_mae: 7.84e-02, forces_cosine_similarity: -5.93e-03, forces_magnitude_error: 1.57e-01, loss: 1.07e+01, lr: 8.79e-05, epoch: 5.64e-02, step: 3.10e+02\n",
      "2024-05-28 23:09:06 (INFO): energy_forces_within_threshold: 0.00e+00, energy_mae: 1.61e+01, forcesx_mae: 5.93e-02, forcesy_mae: 7.83e-02, forcesz_mae: 7.61e-02, forces_mae: 7.12e-02, forces_cosine_similarity: -4.20e-03, forces_magnitude_error: 1.40e-01, loss: 1.08e+01, lr: 8.79e-05, epoch: 5.73e-02, step: 3.15e+02\n",
      "2024-05-28 23:09:07 (INFO): energy_forces_within_threshold: 0.00e+00, energy_mae: 1.96e+01, forcesx_mae: 6.49e-02, forcesy_mae: 8.92e-02, forcesz_mae: 9.57e-02, forces_mae: 8.33e-02, forces_cosine_similarity: 2.09e-02, forces_magnitude_error: 1.64e-01, loss: 1.28e+01, lr: 8.79e-05, epoch: 5.82e-02, step: 3.20e+02\n",
      "2024-05-28 23:09:08 (INFO): energy_forces_within_threshold: 0.00e+00, energy_mae: 1.91e+01, forcesx_mae: 5.66e-02, forcesy_mae: 7.31e-02, forcesz_mae: 9.66e-02, forces_mae: 7.55e-02, forces_cosine_similarity: -4.18e-03, forces_magnitude_error: 1.57e-01, loss: 1.24e+01, lr: 8.79e-05, epoch: 5.91e-02, step: 3.25e+02\n",
      "2024-05-28 23:09:10 (INFO): energy_forces_within_threshold: 0.00e+00, energy_mae: 1.78e+01, forcesx_mae: 8.27e-02, forcesy_mae: 1.06e-01, forcesz_mae: 1.03e-01, forces_mae: 9.72e-02, forces_cosine_similarity: 1.08e-02, forces_magnitude_error: 1.94e-01, loss: 1.32e+01, lr: 8.79e-05, epoch: 6.00e-02, step: 3.30e+02\n",
      "2024-05-28 23:09:11 (INFO): energy_forces_within_threshold: 0.00e+00, energy_mae: 1.37e+01, forcesx_mae: 7.93e-02, forcesy_mae: 1.11e-01, forcesz_mae: 9.43e-02, forces_mae: 9.48e-02, forces_cosine_similarity: -4.47e-03, forces_magnitude_error: 1.95e-01, loss: 1.19e+01, lr: 8.79e-05, epoch: 6.09e-02, step: 3.35e+02\n",
      "2024-05-28 23:09:12 (INFO): energy_forces_within_threshold: 0.00e+00, energy_mae: 8.97e+00, forcesx_mae: 6.58e-02, forcesy_mae: 8.77e-02, forcesz_mae: 9.05e-02, forces_mae: 8.13e-02, forces_cosine_similarity: -1.41e-02, forces_magnitude_error: 1.65e-01, loss: 9.10e+00, lr: 8.79e-05, epoch: 6.18e-02, step: 3.40e+02\n",
      "2024-05-28 23:09:13 (INFO): energy_forces_within_threshold: 0.00e+00, energy_mae: 1.44e+01, forcesx_mae: 6.30e-02, forcesy_mae: 8.64e-02, forcesz_mae: 9.41e-02, forces_mae: 8.12e-02, forces_cosine_similarity: 1.37e-02, forces_magnitude_error: 1.60e-01, loss: 1.10e+01, lr: 8.79e-05, epoch: 6.27e-02, step: 3.45e+02\n",
      "2024-05-28 23:09:14 (INFO): energy_forces_within_threshold: 0.00e+00, energy_mae: 1.97e+01, forcesx_mae: 6.89e-02, forcesy_mae: 8.35e-02, forcesz_mae: 8.28e-02, forces_mae: 7.84e-02, forces_cosine_similarity: 9.38e-03, forces_magnitude_error: 1.51e-01, loss: 1.25e+01, lr: 8.79e-05, epoch: 6.36e-02, step: 3.50e+02\n",
      "2024-05-28 23:09:15 (INFO): energy_forces_within_threshold: 0.00e+00, energy_mae: 2.14e+01, forcesx_mae: 5.66e-02, forcesy_mae: 7.82e-02, forcesz_mae: 7.94e-02, forces_mae: 7.14e-02, forces_cosine_similarity: 1.04e-02, forces_magnitude_error: 1.42e-01, loss: 1.27e+01, lr: 8.79e-05, epoch: 6.45e-02, step: 3.55e+02\n",
      "2024-05-28 23:09:17 (INFO): energy_forces_within_threshold: 0.00e+00, energy_mae: 1.26e+01, forcesx_mae: 7.46e-02, forcesy_mae: 9.31e-02, forcesz_mae: 1.14e-01, forces_mae: 9.38e-02, forces_cosine_similarity: -1.02e-02, forces_magnitude_error: 1.90e-01, loss: 1.12e+01, lr: 8.79e-05, epoch: 6.54e-02, step: 3.60e+02\n",
      "2024-05-28 23:09:18 (INFO): energy_forces_within_threshold: 0.00e+00, energy_mae: 1.39e+01, forcesx_mae: 8.23e-02, forcesy_mae: 1.12e-01, forcesz_mae: 1.08e-01, forces_mae: 1.01e-01, forces_cosine_similarity: 1.70e-02, forces_magnitude_error: 2.00e-01, loss: 1.21e+01, lr: 8.79e-05, epoch: 6.64e-02, step: 3.65e+02\n",
      "2024-05-28 23:09:19 (INFO): energy_forces_within_threshold: 0.00e+00, energy_mae: 1.45e+01, forcesx_mae: 6.93e-02, forcesy_mae: 8.61e-02, forcesz_mae: 8.86e-02, forces_mae: 8.13e-02, forces_cosine_similarity: 1.91e-02, forces_magnitude_error: 1.62e-01, loss: 1.09e+01, lr: 8.79e-05, epoch: 6.73e-02, step: 3.70e+02\n",
      "2024-05-28 23:09:20 (INFO): energy_forces_within_threshold: 0.00e+00, energy_mae: 1.74e+01, forcesx_mae: 5.59e-02, forcesy_mae: 7.86e-02, forcesz_mae: 7.77e-02, forces_mae: 7.07e-02, forces_cosine_similarity: -8.95e-03, forces_magnitude_error: 1.43e-01, loss: 1.13e+01, lr: 8.79e-05, epoch: 6.82e-02, step: 3.75e+02\n",
      "2024-05-28 23:09:21 (INFO): energy_forces_within_threshold: 0.00e+00, energy_mae: 1.53e+01, forcesx_mae: 5.27e-02, forcesy_mae: 7.31e-02, forcesz_mae: 7.89e-02, forces_mae: 6.82e-02, forces_cosine_similarity: 1.12e-02, forces_magnitude_error: 1.39e-01, loss: 1.04e+01, lr: 8.79e-05, epoch: 6.91e-02, step: 3.80e+02\n",
      "2024-05-28 23:09:22 (INFO): energy_forces_within_threshold: 0.00e+00, energy_mae: 9.71e+00, forcesx_mae: 6.76e-02, forcesy_mae: 9.19e-02, forcesz_mae: 1.03e-01, forces_mae: 8.76e-02, forces_cosine_similarity: -4.29e-03, forces_magnitude_error: 1.76e-01, loss: 9.72e+00, lr: 8.79e-05, epoch: 7.00e-02, step: 3.85e+02\n",
      "2024-05-28 23:09:24 (INFO): energy_forces_within_threshold: 0.00e+00, energy_mae: 1.66e+01, forcesx_mae: 6.49e-02, forcesy_mae: 7.90e-02, forcesz_mae: 8.96e-02, forces_mae: 7.79e-02, forces_cosine_similarity: 2.54e-03, forces_magnitude_error: 1.57e-01, loss: 1.15e+01, lr: 8.79e-05, epoch: 7.09e-02, step: 3.90e+02\n",
      "2024-05-28 23:09:25 (INFO): energy_forces_within_threshold: 0.00e+00, energy_mae: 1.43e+01, forcesx_mae: 6.79e-02, forcesy_mae: 8.26e-02, forcesz_mae: 9.17e-02, forces_mae: 8.07e-02, forces_cosine_similarity: -1.53e-02, forces_magnitude_error: 1.61e-01, loss: 1.08e+01, lr: 8.79e-05, epoch: 7.18e-02, step: 3.95e+02\n",
      "2024-05-28 23:09:26 (INFO): energy_forces_within_threshold: 0.00e+00, energy_mae: 1.56e+01, forcesx_mae: 8.24e-02, forcesy_mae: 1.06e-01, forcesz_mae: 1.05e-01, forces_mae: 9.78e-02, forces_cosine_similarity: 8.46e-03, forces_magnitude_error: 1.95e-01, loss: 1.24e+01, lr: 8.79e-05, epoch: 7.27e-02, step: 4.00e+02\n",
      "2024-05-28 23:09:27 (INFO): energy_forces_within_threshold: 0.00e+00, energy_mae: 1.15e+01, forcesx_mae: 7.66e-02, forcesy_mae: 8.81e-02, forcesz_mae: 9.62e-02, forces_mae: 8.70e-02, forces_cosine_similarity: 1.61e-02, forces_magnitude_error: 1.72e-01, loss: 1.02e+01, lr: 8.79e-05, epoch: 7.36e-02, step: 4.05e+02\n",
      "2024-05-28 23:09:28 (INFO): energy_forces_within_threshold: 0.00e+00, energy_mae: 1.22e+01, forcesx_mae: 5.98e-02, forcesy_mae: 7.33e-02, forcesz_mae: 7.06e-02, forces_mae: 6.79e-02, forces_cosine_similarity: 1.32e-02, forces_magnitude_error: 1.36e-01, loss: 9.21e+00, lr: 8.79e-05, epoch: 7.45e-02, step: 4.10e+02\n",
      "2024-05-28 23:09:29 (INFO): energy_forces_within_threshold: 0.00e+00, energy_mae: 1.26e+01, forcesx_mae: 7.42e-02, forcesy_mae: 9.31e-02, forcesz_mae: 1.02e-01, forces_mae: 8.96e-02, forces_cosine_similarity: -7.88e-04, forces_magnitude_error: 1.78e-01, loss: 1.08e+01, lr: 8.79e-05, epoch: 7.54e-02, step: 4.15e+02\n",
      "2024-05-28 23:09:31 (INFO): energy_forces_within_threshold: 0.00e+00, energy_mae: 1.29e+01, forcesx_mae: 7.35e-02, forcesy_mae: 8.60e-02, forcesz_mae: 9.26e-02, forces_mae: 8.40e-02, forces_cosine_similarity: 1.65e-02, forces_magnitude_error: 1.69e-01, loss: 1.06e+01, lr: 8.79e-05, epoch: 7.63e-02, step: 4.20e+02\n",
      "2024-05-28 23:09:32 (INFO): energy_forces_within_threshold: 0.00e+00, energy_mae: 9.77e+00, forcesx_mae: 6.93e-02, forcesy_mae: 8.56e-02, forcesz_mae: 9.16e-02, forces_mae: 8.21e-02, forces_cosine_similarity: 4.47e-03, forces_magnitude_error: 1.65e-01, loss: 9.38e+00, lr: 8.79e-05, epoch: 7.73e-02, step: 4.25e+02\n",
      "2024-05-28 23:09:33 (INFO): energy_forces_within_threshold: 0.00e+00, energy_mae: 8.83e+00, forcesx_mae: 7.82e-02, forcesy_mae: 9.35e-02, forcesz_mae: 1.09e-01, forces_mae: 9.35e-02, forces_cosine_similarity: 1.88e-03, forces_magnitude_error: 1.88e-01, loss: 9.86e+00, lr: 8.79e-05, epoch: 7.82e-02, step: 4.30e+02\n",
      "2024-05-28 23:09:34 (INFO): energy_forces_within_threshold: 0.00e+00, energy_mae: 1.67e+01, forcesx_mae: 7.18e-02, forcesy_mae: 9.80e-02, forcesz_mae: 1.01e-01, forces_mae: 9.01e-02, forces_cosine_similarity: -3.88e-03, forces_magnitude_error: 1.80e-01, loss: 1.23e+01, lr: 8.79e-05, epoch: 7.91e-02, step: 4.35e+02\n",
      "2024-05-28 23:09:35 (INFO): energy_forces_within_threshold: 0.00e+00, energy_mae: 1.79e+01, forcesx_mae: 8.92e-02, forcesy_mae: 1.17e-01, forcesz_mae: 1.31e-01, forces_mae: 1.12e-01, forces_cosine_similarity: -3.16e-03, forces_magnitude_error: 2.26e-01, loss: 1.44e+01, lr: 8.79e-05, epoch: 8.00e-02, step: 4.40e+02\n",
      "2024-05-28 23:09:36 (INFO): energy_forces_within_threshold: 0.00e+00, energy_mae: 1.13e+01, forcesx_mae: 8.42e-02, forcesy_mae: 1.12e-01, forcesz_mae: 1.08e-01, forces_mae: 1.02e-01, forces_cosine_similarity: -3.67e-03, forces_magnitude_error: 2.07e-01, loss: 1.14e+01, lr: 8.79e-05, epoch: 8.09e-02, step: 4.45e+02\n",
      "2024-05-28 23:09:38 (INFO): energy_forces_within_threshold: 0.00e+00, energy_mae: 8.31e+00, forcesx_mae: 8.06e-02, forcesy_mae: 8.07e-02, forcesz_mae: 8.96e-02, forces_mae: 8.36e-02, forces_cosine_similarity: 3.24e-03, forces_magnitude_error: 1.65e-01, loss: 8.86e+00, lr: 8.79e-05, epoch: 8.18e-02, step: 4.50e+02\n",
      "2024-05-28 23:09:39 (INFO): energy_forces_within_threshold: 0.00e+00, energy_mae: 1.47e+01, forcesx_mae: 7.21e-02, forcesy_mae: 8.66e-02, forcesz_mae: 9.60e-02, forces_mae: 8.49e-02, forces_cosine_similarity: 1.22e-02, forces_magnitude_error: 1.71e-01, loss: 1.13e+01, lr: 8.79e-05, epoch: 8.27e-02, step: 4.55e+02\n",
      "2024-05-28 23:09:40 (INFO): energy_forces_within_threshold: 0.00e+00, energy_mae: 1.89e+01, forcesx_mae: 8.03e-02, forcesy_mae: 1.05e-01, forcesz_mae: 1.10e-01, forces_mae: 9.83e-02, forces_cosine_similarity: 7.16e-03, forces_magnitude_error: 1.96e-01, loss: 1.37e+01, lr: 8.79e-05, epoch: 8.36e-02, step: 4.60e+02\n",
      "2024-05-28 23:09:41 (INFO): energy_forces_within_threshold: 0.00e+00, energy_mae: 1.15e+01, forcesx_mae: 6.87e-02, forcesy_mae: 7.99e-02, forcesz_mae: 8.91e-02, forces_mae: 7.93e-02, forces_cosine_similarity: -3.79e-03, forces_magnitude_error: 1.59e-01, loss: 9.70e+00, lr: 8.79e-05, epoch: 8.45e-02, step: 4.65e+02\n",
      "2024-05-28 23:09:42 (INFO): energy_forces_within_threshold: 0.00e+00, energy_mae: 1.26e+01, forcesx_mae: 6.15e-02, forcesy_mae: 7.79e-02, forcesz_mae: 9.29e-02, forces_mae: 7.74e-02, forces_cosine_similarity: 1.30e-03, forces_magnitude_error: 1.57e-01, loss: 1.00e+01, lr: 8.79e-05, epoch: 8.54e-02, step: 4.70e+02\n",
      "2024-05-28 23:09:43 (INFO): energy_forces_within_threshold: 0.00e+00, energy_mae: 1.18e+01, forcesx_mae: 4.64e-02, forcesy_mae: 7.26e-02, forcesz_mae: 7.29e-02, forces_mae: 6.39e-02, forces_cosine_similarity: 1.29e-02, forces_magnitude_error: 1.29e-01, loss: 8.75e+00, lr: 8.79e-05, epoch: 8.63e-02, step: 4.75e+02\n",
      "2024-05-28 23:09:45 (INFO): energy_forces_within_threshold: 0.00e+00, energy_mae: 1.31e+01, forcesx_mae: 6.75e-02, forcesy_mae: 8.07e-02, forcesz_mae: 8.14e-02, forces_mae: 7.65e-02, forces_cosine_similarity: 1.22e-02, forces_magnitude_error: 1.52e-01, loss: 1.01e+01, lr: 8.79e-05, epoch: 8.73e-02, step: 4.80e+02\n",
      "2024-05-28 23:09:46 (INFO): energy_forces_within_threshold: 0.00e+00, energy_mae: 1.33e+01, forcesx_mae: 6.76e-02, forcesy_mae: 8.30e-02, forcesz_mae: 9.91e-02, forces_mae: 8.32e-02, forces_cosine_similarity: 2.78e-02, forces_magnitude_error: 1.67e-01, loss: 1.07e+01, lr: 8.79e-05, epoch: 8.82e-02, step: 4.85e+02\n",
      "2024-05-28 23:09:47 (INFO): energy_forces_within_threshold: 0.00e+00, energy_mae: 1.32e+01, forcesx_mae: 6.93e-02, forcesy_mae: 1.03e-01, forcesz_mae: 9.74e-02, forces_mae: 8.97e-02, forces_cosine_similarity: 1.18e-02, forces_magnitude_error: 1.80e-01, loss: 1.11e+01, lr: 8.79e-05, epoch: 8.91e-02, step: 4.90e+02\n",
      "2024-05-28 23:09:48 (INFO): energy_forces_within_threshold: 0.00e+00, energy_mae: 1.31e+01, forcesx_mae: 6.20e-02, forcesy_mae: 8.04e-02, forcesz_mae: 7.82e-02, forces_mae: 7.35e-02, forces_cosine_similarity: 1.90e-02, forces_magnitude_error: 1.48e-01, loss: 9.95e+00, lr: 8.79e-05, epoch: 9.00e-02, step: 4.95e+02\n",
      "2024-05-28 23:09:49 (INFO): energy_forces_within_threshold: 0.00e+00, energy_mae: 1.20e+01, forcesx_mae: 6.49e-02, forcesy_mae: 8.01e-02, forcesz_mae: 8.44e-02, forces_mae: 7.65e-02, forces_cosine_similarity: 2.81e-02, forces_magnitude_error: 1.53e-01, loss: 9.72e+00, lr: 8.79e-05, epoch: 9.09e-02, step: 5.00e+02\n",
      "2024-05-28 23:09:51 (INFO): energy_forces_within_threshold: 0.00e+00, energy_mae: 1.63e+01, forcesx_mae: 6.45e-02, forcesy_mae: 7.48e-02, forcesz_mae: 7.93e-02, forces_mae: 7.29e-02, forces_cosine_similarity: 3.86e-03, forces_magnitude_error: 1.44e-01, loss: 1.09e+01, lr: 8.79e-05, epoch: 9.18e-02, step: 5.05e+02\n",
      "2024-05-28 23:09:52 (INFO): energy_forces_within_threshold: 0.00e+00, energy_mae: 1.69e+01, forcesx_mae: 5.83e-02, forcesy_mae: 8.43e-02, forcesz_mae: 7.96e-02, forces_mae: 7.41e-02, forces_cosine_similarity: 5.23e-03, forces_magnitude_error: 1.49e-01, loss: 1.13e+01, lr: 8.79e-05, epoch: 9.27e-02, step: 5.10e+02\n",
      "2024-05-28 23:09:53 (INFO): energy_forces_within_threshold: 0.00e+00, energy_mae: 8.60e+00, forcesx_mae: 6.30e-02, forcesy_mae: 7.59e-02, forcesz_mae: 7.92e-02, forces_mae: 7.27e-02, forces_cosine_similarity: 2.06e-02, forces_magnitude_error: 1.45e-01, loss: 8.18e+00, lr: 8.79e-05, epoch: 9.36e-02, step: 5.15e+02\n",
      "2024-05-28 23:09:54 (INFO): energy_forces_within_threshold: 0.00e+00, energy_mae: 1.39e+01, forcesx_mae: 7.77e-02, forcesy_mae: 9.61e-02, forcesz_mae: 1.04e-01, forces_mae: 9.27e-02, forces_cosine_similarity: 1.68e-02, forces_magnitude_error: 1.85e-01, loss: 1.17e+01, lr: 8.79e-05, epoch: 9.45e-02, step: 5.20e+02\n",
      "2024-05-28 23:09:55 (INFO): energy_forces_within_threshold: 0.00e+00, energy_mae: 1.76e+01, forcesx_mae: 8.30e-02, forcesy_mae: 1.08e-01, forcesz_mae: 1.15e-01, forces_mae: 1.02e-01, forces_cosine_similarity: 1.34e-02, forces_magnitude_error: 2.07e-01, loss: 1.36e+01, lr: 8.79e-05, epoch: 9.54e-02, step: 5.25e+02\n",
      "2024-05-28 23:09:57 (INFO): energy_forces_within_threshold: 0.00e+00, energy_mae: 1.15e+01, forcesx_mae: 4.74e-02, forcesy_mae: 5.84e-02, forcesz_mae: 5.84e-02, forces_mae: 5.48e-02, forces_cosine_similarity: 1.99e-02, forces_magnitude_error: 1.09e-01, loss: 7.95e+00, lr: 8.79e-05, epoch: 9.63e-02, step: 5.30e+02\n",
      "2024-05-28 23:09:58 (INFO): energy_forces_within_threshold: 0.00e+00, energy_mae: 1.38e+01, forcesx_mae: 7.30e-02, forcesy_mae: 9.00e-02, forcesz_mae: 9.39e-02, forces_mae: 8.56e-02, forces_cosine_similarity: 1.92e-02, forces_magnitude_error: 1.72e-01, loss: 1.10e+01, lr: 8.79e-05, epoch: 9.73e-02, step: 5.35e+02\n",
      "2024-05-28 23:09:59 (INFO): energy_forces_within_threshold: 0.00e+00, energy_mae: 1.08e+01, forcesx_mae: 8.27e-02, forcesy_mae: 1.02e-01, forcesz_mae: 1.02e-01, forces_mae: 9.55e-02, forces_cosine_similarity: 2.71e-02, forces_magnitude_error: 1.93e-01, loss: 1.06e+01, lr: 8.79e-05, epoch: 9.82e-02, step: 5.40e+02\n",
      "2024-05-28 23:10:00 (INFO): energy_forces_within_threshold: 0.00e+00, energy_mae: 1.14e+01, forcesx_mae: 7.28e-02, forcesy_mae: 9.36e-02, forcesz_mae: 1.20e-01, forces_mae: 9.55e-02, forces_cosine_similarity: 1.94e-02, forces_magnitude_error: 1.94e-01, loss: 1.09e+01, lr: 8.79e-05, epoch: 9.91e-02, step: 5.45e+02\n",
      "2024-05-28 23:10:01 (INFO): energy_forces_within_threshold: 0.00e+00, energy_mae: 1.27e+01, forcesx_mae: 6.99e-02, forcesy_mae: 1.00e-01, forcesz_mae: 9.40e-02, forces_mae: 8.80e-02, forces_cosine_similarity: 1.43e-02, forces_magnitude_error: 1.79e-01, loss: 1.08e+01, lr: 8.79e-05, epoch: 1.00e-01, step: 5.50e+02\n",
      "2024-05-28 23:10:02 (INFO): energy_forces_within_threshold: 0.00e+00, energy_mae: 1.32e+01, forcesx_mae: 7.13e-02, forcesy_mae: 8.57e-02, forcesz_mae: 8.54e-02, forces_mae: 8.08e-02, forces_cosine_similarity: 1.10e-02, forces_magnitude_error: 1.63e-01, loss: 1.04e+01, lr: 8.79e-05, epoch: 1.01e-01, step: 5.55e+02\n",
      "2024-05-28 23:10:04 (INFO): energy_forces_within_threshold: 0.00e+00, energy_mae: 9.00e+00, forcesx_mae: 6.33e-02, forcesy_mae: 8.06e-02, forcesz_mae: 8.44e-02, forces_mae: 7.61e-02, forces_cosine_similarity: 2.79e-02, forces_magnitude_error: 1.52e-01, loss: 8.62e+00, lr: 8.79e-05, epoch: 1.02e-01, step: 5.60e+02\n",
      "2024-05-28 23:10:05 (INFO): energy_forces_within_threshold: 0.00e+00, energy_mae: 1.16e+01, forcesx_mae: 6.04e-02, forcesy_mae: 9.56e-02, forcesz_mae: 8.82e-02, forces_mae: 8.14e-02, forces_cosine_similarity: 2.46e-03, forces_magnitude_error: 1.69e-01, loss: 1.01e+01, lr: 8.79e-05, epoch: 1.03e-01, step: 5.65e+02\n",
      "2024-05-28 23:10:06 (INFO): energy_forces_within_threshold: 0.00e+00, energy_mae: 8.65e+00, forcesx_mae: 6.21e-02, forcesy_mae: 8.30e-02, forcesz_mae: 8.82e-02, forces_mae: 7.77e-02, forces_cosine_similarity: 6.44e-03, forces_magnitude_error: 1.56e-01, loss: 8.64e+00, lr: 8.79e-05, epoch: 1.04e-01, step: 5.70e+02\n",
      "2024-05-28 23:10:07 (INFO): energy_forces_within_threshold: 0.00e+00, energy_mae: 1.05e+01, forcesx_mae: 6.69e-02, forcesy_mae: 8.97e-02, forcesz_mae: 8.89e-02, forces_mae: 8.19e-02, forces_cosine_similarity: 2.25e-02, forces_magnitude_error: 1.64e-01, loss: 9.54e+00, lr: 8.79e-05, epoch: 1.05e-01, step: 5.75e+02\n",
      "2024-05-28 23:10:08 (INFO): energy_forces_within_threshold: 0.00e+00, energy_mae: 1.46e+01, forcesx_mae: 6.88e-02, forcesy_mae: 8.79e-02, forcesz_mae: 9.46e-02, forces_mae: 8.38e-02, forces_cosine_similarity: 1.44e-02, forces_magnitude_error: 1.70e-01, loss: 1.12e+01, lr: 8.79e-05, epoch: 1.05e-01, step: 5.80e+02\n",
      "2024-05-28 23:10:09 (INFO): energy_forces_within_threshold: 0.00e+00, energy_mae: 2.01e+01, forcesx_mae: 9.55e-02, forcesy_mae: 1.16e-01, forcesz_mae: 1.07e-01, forces_mae: 1.06e-01, forces_cosine_similarity: 2.82e-02, forces_magnitude_error: 2.11e-01, loss: 1.45e+01, lr: 8.79e-05, epoch: 1.06e-01, step: 5.85e+02\n",
      "2024-05-28 23:10:11 (INFO): energy_forces_within_threshold: 0.00e+00, energy_mae: 9.42e+00, forcesx_mae: 8.40e-02, forcesy_mae: 1.07e-01, forcesz_mae: 1.01e-01, forces_mae: 9.71e-02, forces_cosine_similarity: 1.32e-02, forces_magnitude_error: 1.91e-01, loss: 1.01e+01, lr: 8.79e-05, epoch: 1.07e-01, step: 5.90e+02\n",
      "2024-05-28 23:10:12 (INFO): energy_forces_within_threshold: 0.00e+00, energy_mae: 7.07e+00, forcesx_mae: 5.43e-02, forcesy_mae: 6.20e-02, forcesz_mae: 6.45e-02, forces_mae: 6.03e-02, forces_cosine_similarity: 7.12e-03, forces_magnitude_error: 1.21e-01, loss: 6.81e+00, lr: 8.79e-05, epoch: 1.08e-01, step: 5.95e+02\n",
      "2024-05-28 23:10:13 (INFO): energy_forces_within_threshold: 0.00e+00, energy_mae: 1.21e+01, forcesx_mae: 6.26e-02, forcesy_mae: 7.75e-02, forcesz_mae: 7.74e-02, forces_mae: 7.25e-02, forces_cosine_similarity: 1.03e-02, forces_magnitude_error: 1.45e-01, loss: 9.47e+00, lr: 8.79e-05, epoch: 1.09e-01, step: 6.00e+02\n",
      "2024-05-28 23:10:14 (INFO): energy_forces_within_threshold: 0.00e+00, energy_mae: 6.46e+00, forcesx_mae: 6.55e-02, forcesy_mae: 7.47e-02, forcesz_mae: 7.60e-02, forces_mae: 7.21e-02, forces_cosine_similarity: 3.17e-03, forces_magnitude_error: 1.42e-01, loss: 7.36e+00, lr: 8.79e-05, epoch: 1.10e-01, step: 6.05e+02\n",
      "2024-05-28 23:10:15 (INFO): energy_forces_within_threshold: 0.00e+00, energy_mae: 1.15e+01, forcesx_mae: 6.35e-02, forcesy_mae: 7.64e-02, forcesz_mae: 7.58e-02, forces_mae: 7.19e-02, forces_cosine_similarity: 6.35e-03, forces_magnitude_error: 1.45e-01, loss: 9.24e+00, lr: 8.79e-05, epoch: 1.11e-01, step: 6.10e+02\n",
      "2024-05-28 23:10:17 (INFO): energy_forces_within_threshold: 0.00e+00, energy_mae: 1.64e+01, forcesx_mae: 5.47e-02, forcesy_mae: 7.15e-02, forcesz_mae: 7.57e-02, forces_mae: 6.73e-02, forces_cosine_similarity: 1.47e-02, forces_magnitude_error: 1.36e-01, loss: 1.06e+01, lr: 8.79e-05, epoch: 1.12e-01, step: 6.15e+02\n",
      "2024-05-28 23:10:18 (INFO): energy_forces_within_threshold: 0.00e+00, energy_mae: 1.01e+01, forcesx_mae: 5.79e-02, forcesy_mae: 8.45e-02, forcesz_mae: 8.86e-02, forces_mae: 7.70e-02, forces_cosine_similarity: 2.85e-02, forces_magnitude_error: 1.57e-01, loss: 9.14e+00, lr: 8.79e-05, epoch: 1.13e-01, step: 6.20e+02\n",
      "2024-05-28 23:10:19 (INFO): energy_forces_within_threshold: 0.00e+00, energy_mae: 1.65e+01, forcesx_mae: 7.53e-02, forcesy_mae: 8.84e-02, forcesz_mae: 9.50e-02, forces_mae: 8.62e-02, forces_cosine_similarity: 1.84e-02, forces_magnitude_error: 1.73e-01, loss: 1.20e+01, lr: 8.79e-05, epoch: 1.14e-01, step: 6.25e+02\n",
      "2024-05-28 23:10:20 (INFO): energy_forces_within_threshold: 0.00e+00, energy_mae: 1.41e+01, forcesx_mae: 6.73e-02, forcesy_mae: 8.88e-02, forcesz_mae: 9.87e-02, forces_mae: 8.49e-02, forces_cosine_similarity: 1.67e-02, forces_magnitude_error: 1.70e-01, loss: 1.10e+01, lr: 8.79e-05, epoch: 1.15e-01, step: 6.30e+02\n",
      "2024-05-28 23:10:21 (INFO): energy_forces_within_threshold: 0.00e+00, energy_mae: 1.12e+01, forcesx_mae: 6.24e-02, forcesy_mae: 6.94e-02, forcesz_mae: 7.20e-02, forces_mae: 6.79e-02, forces_cosine_similarity: 2.46e-02, forces_magnitude_error: 1.37e-01, loss: 8.81e+00, lr: 8.79e-05, epoch: 1.15e-01, step: 6.35e+02\n",
      "2024-05-28 23:10:23 (INFO): energy_forces_within_threshold: 0.00e+00, energy_mae: 1.31e+01, forcesx_mae: 6.14e-02, forcesy_mae: 7.77e-02, forcesz_mae: 9.40e-02, forces_mae: 7.77e-02, forces_cosine_similarity: 9.57e-03, forces_magnitude_error: 1.58e-01, loss: 1.02e+01, lr: 8.79e-05, epoch: 1.16e-01, step: 6.40e+02\n",
      "2024-05-28 23:10:24 (INFO): energy_forces_within_threshold: 0.00e+00, energy_mae: 1.28e+01, forcesx_mae: 6.78e-02, forcesy_mae: 7.23e-02, forcesz_mae: 8.61e-02, forces_mae: 7.54e-02, forces_cosine_similarity: 9.09e-03, forces_magnitude_error: 1.52e-01, loss: 9.93e+00, lr: 8.79e-05, epoch: 1.17e-01, step: 6.45e+02\n",
      "2024-05-28 23:10:25 (INFO): energy_forces_within_threshold: 0.00e+00, energy_mae: 1.38e+01, forcesx_mae: 8.34e-02, forcesy_mae: 8.96e-02, forcesz_mae: 9.72e-02, forces_mae: 9.00e-02, forces_cosine_similarity: 1.69e-02, forces_magnitude_error: 1.81e-01, loss: 1.13e+01, lr: 8.79e-05, epoch: 1.18e-01, step: 6.50e+02\n",
      "2024-05-28 23:10:26 (INFO): energy_forces_within_threshold: 0.00e+00, energy_mae: 1.22e+01, forcesx_mae: 7.49e-02, forcesy_mae: 9.19e-02, forcesz_mae: 9.89e-02, forces_mae: 8.86e-02, forces_cosine_similarity: 1.79e-02, forces_magnitude_error: 1.79e-01, loss: 1.06e+01, lr: 8.79e-05, epoch: 1.19e-01, step: 6.55e+02\n",
      "2024-05-28 23:10:27 (INFO): energy_forces_within_threshold: 0.00e+00, energy_mae: 1.19e+01, forcesx_mae: 8.81e-02, forcesy_mae: 9.27e-02, forcesz_mae: 1.49e-01, forces_mae: 1.10e-01, forces_cosine_similarity: 2.06e-02, forces_magnitude_error: 2.26e-01, loss: 1.22e+01, lr: 8.79e-05, epoch: 1.20e-01, step: 6.60e+02\n",
      "2024-05-28 23:10:29 (INFO): energy_forces_within_threshold: 0.00e+00, energy_mae: 1.33e+01, forcesx_mae: 6.79e-02, forcesy_mae: 9.00e-02, forcesz_mae: 9.80e-02, forces_mae: 8.53e-02, forces_cosine_similarity: 1.06e-02, forces_magnitude_error: 1.73e-01, loss: 1.08e+01, lr: 8.79e-05, epoch: 1.21e-01, step: 6.65e+02\n",
      "2024-05-28 23:10:30 (INFO): energy_forces_within_threshold: 0.00e+00, energy_mae: 1.28e+01, forcesx_mae: 6.41e-02, forcesy_mae: 7.69e-02, forcesz_mae: 8.93e-02, forces_mae: 7.68e-02, forces_cosine_similarity: 1.91e-02, forces_magnitude_error: 1.53e-01, loss: 1.01e+01, lr: 8.79e-05, epoch: 1.22e-01, step: 6.70e+02\n",
      "2024-05-28 23:10:31 (INFO): energy_forces_within_threshold: 0.00e+00, energy_mae: 9.72e+00, forcesx_mae: 6.96e-02, forcesy_mae: 8.59e-02, forcesz_mae: 9.04e-02, forces_mae: 8.20e-02, forces_cosine_similarity: 3.38e-02, forces_magnitude_error: 1.63e-01, loss: 9.26e+00, lr: 8.79e-05, epoch: 1.23e-01, step: 6.75e+02\n",
      "2024-05-28 23:10:32 (INFO): energy_forces_within_threshold: 0.00e+00, energy_mae: 1.31e+01, forcesx_mae: 6.02e-02, forcesy_mae: 7.31e-02, forcesz_mae: 7.67e-02, forces_mae: 7.00e-02, forces_cosine_similarity: 3.91e-03, forces_magnitude_error: 1.41e-01, loss: 9.63e+00, lr: 8.79e-05, epoch: 1.24e-01, step: 6.80e+02\n",
      "2024-05-28 23:10:33 (INFO): energy_forces_within_threshold: 0.00e+00, energy_mae: 1.30e+01, forcesx_mae: 5.54e-02, forcesy_mae: 9.24e-02, forcesz_mae: 9.57e-02, forces_mae: 8.12e-02, forces_cosine_similarity: -3.54e-03, forces_magnitude_error: 1.69e-01, loss: 1.07e+01, lr: 8.79e-05, epoch: 1.25e-01, step: 6.85e+02\n",
      "2024-05-28 23:10:35 (INFO): energy_forces_within_threshold: 0.00e+00, energy_mae: 1.19e+01, forcesx_mae: 7.24e-02, forcesy_mae: 9.05e-02, forcesz_mae: 9.65e-02, forces_mae: 8.65e-02, forces_cosine_similarity: 9.21e-03, forces_magnitude_error: 1.71e-01, loss: 1.02e+01, lr: 8.79e-05, epoch: 1.25e-01, step: 6.90e+02\n",
      "2024-05-28 23:10:36 (INFO): energy_forces_within_threshold: 0.00e+00, energy_mae: 5.59e+00, forcesx_mae: 5.26e-02, forcesy_mae: 7.41e-02, forcesz_mae: 8.60e-02, forces_mae: 7.09e-02, forces_cosine_similarity: 1.84e-02, forces_magnitude_error: 1.47e-01, loss: 7.19e+00, lr: 8.79e-05, epoch: 1.26e-01, step: 6.95e+02\n",
      "2024-05-28 23:10:37 (INFO): energy_forces_within_threshold: 0.00e+00, energy_mae: 1.15e+01, forcesx_mae: 6.28e-02, forcesy_mae: 8.45e-02, forcesz_mae: 7.98e-02, forces_mae: 7.57e-02, forces_cosine_similarity: 3.33e-02, forces_magnitude_error: 1.55e-01, loss: 9.54e+00, lr: 8.79e-05, epoch: 1.27e-01, step: 7.00e+02\n",
      "2024-05-28 23:10:38 (INFO): energy_forces_within_threshold: 0.00e+00, energy_mae: 1.57e+01, forcesx_mae: 5.56e-02, forcesy_mae: 7.09e-02, forcesz_mae: 6.89e-02, forces_mae: 6.51e-02, forces_cosine_similarity: -2.59e-03, forces_magnitude_error: 1.32e-01, loss: 1.02e+01, lr: 8.79e-05, epoch: 1.28e-01, step: 7.05e+02\n",
      "2024-05-28 23:10:39 (INFO): energy_forces_within_threshold: 0.00e+00, energy_mae: 8.14e+00, forcesx_mae: 6.56e-02, forcesy_mae: 8.99e-02, forcesz_mae: 8.39e-02, forces_mae: 7.98e-02, forces_cosine_similarity: 2.83e-02, forces_magnitude_error: 1.60e-01, loss: 8.63e+00, lr: 8.79e-05, epoch: 1.29e-01, step: 7.10e+02\n",
      "2024-05-28 23:10:40 (INFO): energy_forces_within_threshold: 0.00e+00, energy_mae: 1.08e+01, forcesx_mae: 5.70e-02, forcesy_mae: 7.80e-02, forcesz_mae: 7.89e-02, forces_mae: 7.13e-02, forces_cosine_similarity: 1.18e-02, forces_magnitude_error: 1.44e-01, loss: 8.95e+00, lr: 8.79e-05, epoch: 1.30e-01, step: 7.15e+02\n",
      "2024-05-28 23:10:41 (INFO): energy_forces_within_threshold: 0.00e+00, energy_mae: 6.67e+00, forcesx_mae: 4.24e-02, forcesy_mae: 5.76e-02, forcesz_mae: 5.81e-02, forces_mae: 5.27e-02, forces_cosine_similarity: 4.41e-03, forces_magnitude_error: 1.05e-01, loss: 6.09e+00, lr: 8.79e-05, epoch: 1.31e-01, step: 7.20e+02\n",
      "2024-05-28 23:10:42 (INFO): energy_forces_within_threshold: 0.00e+00, energy_mae: 1.33e+01, forcesx_mae: 5.03e-02, forcesy_mae: 6.80e-02, forcesz_mae: 7.17e-02, forces_mae: 6.33e-02, forces_cosine_similarity: 6.36e-03, forces_magnitude_error: 1.27e-01, loss: 9.24e+00, lr: 8.79e-05, epoch: 1.32e-01, step: 7.25e+02\n",
      "2024-05-28 23:10:44 (INFO): energy_forces_within_threshold: 0.00e+00, energy_mae: 1.38e+01, forcesx_mae: 6.44e-02, forcesy_mae: 8.29e-02, forcesz_mae: 9.13e-02, forces_mae: 7.96e-02, forces_cosine_similarity: 3.17e-02, forces_magnitude_error: 1.60e-01, loss: 1.06e+01, lr: 8.79e-05, epoch: 1.33e-01, step: 7.30e+02\n",
      "2024-05-28 23:10:45 (INFO): energy_forces_within_threshold: 0.00e+00, energy_mae: 1.62e+01, forcesx_mae: 8.73e-02, forcesy_mae: 9.63e-02, forcesz_mae: 1.00e-01, forces_mae: 9.47e-02, forces_cosine_similarity: -5.90e-03, forces_magnitude_error: 1.85e-01, loss: 1.24e+01, lr: 8.79e-05, epoch: 1.34e-01, step: 7.35e+02\n",
      "2024-05-28 23:10:46 (INFO): energy_forces_within_threshold: 0.00e+00, energy_mae: 9.67e+00, forcesx_mae: 6.13e-02, forcesy_mae: 7.32e-02, forcesz_mae: 7.43e-02, forces_mae: 6.96e-02, forces_cosine_similarity: 7.66e-03, forces_magnitude_error: 1.39e-01, loss: 8.37e+00, lr: 8.79e-05, epoch: 1.35e-01, step: 7.40e+02\n",
      "2024-05-28 23:10:47 (INFO): energy_forces_within_threshold: 0.00e+00, energy_mae: 8.36e+00, forcesx_mae: 6.62e-02, forcesy_mae: 7.66e-02, forcesz_mae: 8.87e-02, forces_mae: 7.72e-02, forces_cosine_similarity: 1.45e-02, forces_magnitude_error: 1.58e-01, loss: 8.55e+00, lr: 8.79e-05, epoch: 1.35e-01, step: 7.45e+02\n",
      "2024-05-28 23:10:48 (INFO): energy_forces_within_threshold: 0.00e+00, energy_mae: 7.67e+00, forcesx_mae: 8.66e-02, forcesy_mae: 7.96e-02, forcesz_mae: 8.23e-02, forces_mae: 8.28e-02, forces_cosine_similarity: 9.03e-03, forces_magnitude_error: 1.69e-01, loss: 8.70e+00, lr: 8.79e-05, epoch: 1.36e-01, step: 7.50e+02\n",
      "2024-05-28 23:10:49 (INFO): energy_forces_within_threshold: 0.00e+00, energy_mae: 1.14e+01, forcesx_mae: 6.09e-02, forcesy_mae: 7.74e-02, forcesz_mae: 8.19e-02, forces_mae: 7.34e-02, forces_cosine_similarity: -7.03e-03, forces_magnitude_error: 1.48e-01, loss: 9.27e+00, lr: 8.79e-05, epoch: 1.37e-01, step: 7.55e+02\n",
      "2024-05-28 23:10:51 (INFO): energy_forces_within_threshold: 0.00e+00, energy_mae: 7.76e+00, forcesx_mae: 6.20e-02, forcesy_mae: 7.65e-02, forcesz_mae: 7.95e-02, forces_mae: 7.27e-02, forces_cosine_similarity: 2.69e-02, forces_magnitude_error: 1.45e-01, loss: 7.89e+00, lr: 8.79e-05, epoch: 1.38e-01, step: 7.60e+02\n",
      "2024-05-28 23:10:52 (INFO): energy_forces_within_threshold: 0.00e+00, energy_mae: 9.73e+00, forcesx_mae: 7.69e-02, forcesy_mae: 8.46e-02, forcesz_mae: 1.05e-01, forces_mae: 8.89e-02, forces_cosine_similarity: -1.20e-02, forces_magnitude_error: 1.81e-01, loss: 9.93e+00, lr: 8.79e-05, epoch: 1.39e-01, step: 7.65e+02\n",
      "2024-05-28 23:10:53 (INFO): energy_forces_within_threshold: 0.00e+00, energy_mae: 9.20e+00, forcesx_mae: 5.92e-02, forcesy_mae: 6.76e-02, forcesz_mae: 7.63e-02, forces_mae: 6.77e-02, forces_cosine_similarity: 1.56e-02, forces_magnitude_error: 1.36e-01, loss: 8.14e+00, lr: 8.79e-05, epoch: 1.40e-01, step: 7.70e+02\n",
      "2024-05-28 23:10:54 (INFO): energy_forces_within_threshold: 0.00e+00, energy_mae: 8.77e+00, forcesx_mae: 9.52e-02, forcesy_mae: 9.43e-02, forcesz_mae: 1.09e-01, forces_mae: 9.95e-02, forces_cosine_similarity: 4.18e-02, forces_magnitude_error: 1.99e-01, loss: 1.02e+01, lr: 8.79e-05, epoch: 1.41e-01, step: 7.75e+02\n",
      "2024-05-28 23:10:56 (INFO): energy_forces_within_threshold: 0.00e+00, energy_mae: 1.28e+01, forcesx_mae: 5.97e-02, forcesy_mae: 7.96e-02, forcesz_mae: 8.18e-02, forces_mae: 7.37e-02, forces_cosine_similarity: 2.54e-02, forces_magnitude_error: 1.49e-01, loss: 9.82e+00, lr: 8.79e-05, epoch: 1.42e-01, step: 7.80e+02\n",
      "2024-05-28 23:10:57 (INFO): energy_forces_within_threshold: 0.00e+00, energy_mae: 9.34e+00, forcesx_mae: 5.73e-02, forcesy_mae: 9.17e-02, forcesz_mae: 7.25e-02, forces_mae: 7.38e-02, forces_cosine_similarity: 2.59e-02, forces_magnitude_error: 1.53e-01, loss: 8.75e+00, lr: 8.79e-05, epoch: 1.43e-01, step: 7.85e+02\n",
      "2024-05-28 23:10:58 (INFO): energy_forces_within_threshold: 0.00e+00, energy_mae: 8.71e+00, forcesx_mae: 8.96e-02, forcesy_mae: 9.84e-02, forcesz_mae: 1.02e-01, forces_mae: 9.67e-02, forces_cosine_similarity: 1.45e-02, forces_magnitude_error: 1.95e-01, loss: 9.97e+00, lr: 8.79e-05, epoch: 1.44e-01, step: 7.90e+02\n",
      "2024-05-28 23:10:59 (INFO): energy_forces_within_threshold: 0.00e+00, energy_mae: 1.09e+01, forcesx_mae: 6.54e-02, forcesy_mae: 8.63e-02, forcesz_mae: 8.74e-02, forces_mae: 7.97e-02, forces_cosine_similarity: 7.75e-03, forces_magnitude_error: 1.59e-01, loss: 9.64e+00, lr: 8.79e-05, epoch: 1.45e-01, step: 7.95e+02\n",
      "2024-05-28 23:11:01 (INFO): energy_forces_within_threshold: 0.00e+00, energy_mae: 1.66e+01, forcesx_mae: 7.34e-02, forcesy_mae: 8.59e-02, forcesz_mae: 9.73e-02, forces_mae: 8.55e-02, forces_cosine_similarity: 1.89e-02, forces_magnitude_error: 1.73e-01, loss: 1.20e+01, lr: 8.79e-05, epoch: 1.45e-01, step: 8.00e+02\n",
      "2024-05-28 23:11:02 (INFO): energy_forces_within_threshold: 0.00e+00, energy_mae: 1.33e+01, forcesx_mae: 6.56e-02, forcesy_mae: 8.56e-02, forcesz_mae: 8.90e-02, forces_mae: 8.01e-02, forces_cosine_similarity: 5.76e-03, forces_magnitude_error: 1.62e-01, loss: 1.05e+01, lr: 8.79e-05, epoch: 1.46e-01, step: 8.05e+02\n"
     ]
    }
   ],
   "source": [
    "wandb.agent(sweep_id, train_wandb, count=30)"
   ]
  },
  {
   "cell_type": "code",
   "execution_count": null,
   "metadata": {},
   "outputs": [],
   "source": [
    "!pwd"
   ]
  },
  {
   "cell_type": "code",
   "execution_count": 56,
   "metadata": {
    "id": "j6Z_XbkiPGR9"
   },
   "outputs": [],
   "source": [
    "# Task\n",
    "task = {\n",
    "    'dataset': 'lmdb', # dataset used for the S2EF task\n",
    "    'description': 'Regressing to energies and forces for DFT trajectories from OCP',\n",
    "    'type': 'regression',\n",
    "    'metric': 'mae',\n",
    "    'labels': ['potential energy'],\n",
    "    'grad_input': 'atomic forces',\n",
    "    'train_on_free_atoms': True,\n",
    "    'eval_on_free_atoms': True\n",
    "}\n",
    "# # Model\n",
    "# model = {\n",
    "#   \"name\": \"gemnet_oc\",\n",
    "#   \"num_spherical\": 7,\n",
    "#   \"num_radial\": 128,\n",
    "#   \"num_blocks\": 4,\n",
    "#   \"emb_size_atom\": 64,\n",
    "#   \"emb_size_edge\": 64,\n",
    "#   \"emb_size_trip_in\": 64,\n",
    "#   \"emb_size_trip_out\": 64,\n",
    "#   \"emb_size_quad_in\": 32,\n",
    "#   \"emb_size_quad_out\": 32,\n",
    "#   \"emb_size_aint_in\": 64,\n",
    "#   \"emb_size_aint_out\": 64,\n",
    "#   \"emb_size_rbf\": 16,\n",
    "#   \"emb_size_cbf\": 16,\n",
    "#   \"emb_size_sbf\": 32,\n",
    "#   \"num_before_skip\": 2,\n",
    "#   \"num_after_skip\": 2,\n",
    "#   \"num_concat\": 1,\n",
    "#   \"num_atom\": 3,\n",
    "#   \"num_output_afteratom\": 3,\n",
    "#   \"cutoff\": 12.0,\n",
    "#   \"cutoff_qint\": 12.0,\n",
    "#   \"cutoff_aeaint\": 12.0,\n",
    "#   \"cutoff_aint\": 12.0,\n",
    "#   \"max_neighbors\": 30,\n",
    "#   \"max_neighbors_qint\": 8,\n",
    "#   \"max_neighbors_aeaint\": 20,\n",
    "#   \"max_neighbors_aint\": 1000,\n",
    "#   \"rbf\": {\n",
    "#     \"name\": \"gaussian\"\n",
    "#   },\n",
    "#   \"envelope\": {\n",
    "#     \"name\": \"polynomial\",\n",
    "#     \"exponent\": 5\n",
    "#   },\n",
    "#   \"cbf\": {\"name\": \"spherical_harmonics\"},\n",
    "#   \"sbf\": {\"name\": \"legendre_outer\"},\n",
    "#   \"extensive\": True,\n",
    "#   \"output_init\": \"HeOrthogonal\",\n",
    "#   \"activation\": \"silu\",\n",
    "\n",
    "#   \"regress_forces\": True,\n",
    "#   \"direct_forces\": True,\n",
    "#   \"forces_coupled\": False,\n",
    "\n",
    "#   \"quad_interaction\": True,\n",
    "#   \"atom_edge_interaction\": True,\n",
    "#   \"edge_atom_interaction\": True,\n",
    "#   \"atom_interaction\": True,\n",
    "    \n",
    "#   \"num_atom_emb_layers\": 2,\n",
    "#   \"num_global_out_layers\": 2,\n",
    "#   \"qint_tags\": [1, 2],\n",
    "    \n",
    "#   \"scale_file\": \"configs/s2ef/all/gemnet/scaling_factors/gemnet-oc.pt\",\n",
    "# }\n",
    "\n",
    "# Optimizer\n",
    "optimizer = {\n",
    "    'batch_size': 1,         # originally 32\n",
    "    'eval_batch_size': 1,    # originally 32\n",
    "    'num_workers': 2,\n",
    "    'lr_initial': 5.e-4,\n",
    "    'optimizer': 'AdamW',\n",
    "    'optimizer_params': {\"amsgrad\": True},\n",
    "    'scheduler': \"ReduceLROnPlateau\",\n",
    "    'mode': \"min\",\n",
    "    'factor': 0.8,\n",
    "    'patience': 3,\n",
    "    'max_epochs': 1,         # used for demonstration purposes\n",
    "    'force_coefficient': 100,\n",
    "    'ema_decay': 0.999,\n",
    "    'clip_grad_norm': 10,\n",
    "    'loss_energy': 'mae',\n",
    "    'loss_force': 'l2mae',\n",
    "}\n",
    "# Dataset\n",
    "dataset = [\n",
    "  {'src': train_src,\n",
    "   'normalize_labels': True,\n",
    "   \"target_mean\": mean,\n",
    "   \"target_std\": stdev,\n",
    "   \"grad_target_mean\": 0.0,\n",
    "   \"grad_target_std\": stdev\n",
    "   }, # train set \n",
    "  {'src': val_src}, # val set (optional)\n",
    "]"
   ]
  },
  {
   "cell_type": "markdown",
   "metadata": {
    "id": "8AsZpLjIQg-W"
   },
   "source": [
    "### Create the trainer"
   ]
  },
  {
   "cell_type": "code",
   "execution_count": null,
   "metadata": {
    "colab": {
     "base_uri": "https://localhost:8080/"
    },
    "id": "0it4gs6gPGGz",
    "outputId": "e7a98c1d-6d4f-425b-878f-4a3a7b42b2ed"
   },
   "outputs": [],
   "source": [
    "trainer = OCPTrainer(\n",
    "    task=task,\n",
    "    model=copy.deepcopy(model), # copied for later use, not necessary in practice.\n",
    "    dataset=dataset,\n",
    "    optimizer=optimizer,\n",
    "    outputs={},\n",
    "    loss_fns={},\n",
    "    eval_metrics={},\n",
    "    name=\"s2ef\",\n",
    "    identifier=\"S2EF-100systems-wandb-internal-test\",\n",
    "    run_dir=\".\", # directory to save results if is_debug=False. Prediction files are saved here so be careful not to override!\n",
    "    is_debug=False, # if True, do not save checkpoint, logs, or results\n",
    "    print_every=5,\n",
    "    seed=0, # random seed to use\n",
    "    logger=\"wandb\", # logger of choice (tensorboard and wandb supported)\n",
    "    local_rank=0,\n",
    "    amp=True, # use PyTorch Automatic Mixed Precision (faster training and less memory usage),\n",
    ")"
   ]
  },
  {
   "cell_type": "markdown",
   "metadata": {
    "id": "vA8nDKt4QqkO"
   },
   "source": [
    "### Train the model"
   ]
  },
  {
   "cell_type": "code",
   "execution_count": null,
   "metadata": {},
   "outputs": [],
   "source": [
    "%load_ext autoreload\n",
    "%autoreload 2\n"
   ]
  },
  {
   "cell_type": "code",
   "execution_count": null,
   "metadata": {
    "colab": {
     "base_uri": "https://localhost:8080/"
    },
    "id": "WFmssq5oPFd_",
    "outputId": "a80e93f3-637a-4394-9ec8-4c38bac27461"
   },
   "outputs": [
    {
     "name": "stderr",
     "output_type": "stream",
     "text": [
      "/l/users/elizaveta.starykh/conda_envs/python9/lib/python3.9/site-packages/torch/amp/autocast_mode.py:204: UserWarning: User provided device_type of 'cuda', but CUDA is not available. Disabling\n",
      "  warnings.warn('User provided device_type of \\'cuda\\', but CUDA is not available. Disabling')\n"
     ]
    },
    {
     "name": "stdout",
     "output_type": "stream",
     "text": [
      "2024-05-22 12:57:05 (INFO): energy_forces_within_threshold: 0.00e+00, energy_mae: 1.91e+03, forcesx_mae: 2.62e-01, forcesy_mae: 4.42e-01, forcesz_mae: 7.09e-01, forces_mae: 4.71e-01, forces_cosine_similarity: -4.72e-02, forces_magnitude_error: 9.33e-01, loss: 1.33e+03, lr: 5.00e-04, epoch: 5.00e-02, step: 5.00e+00\n",
      "2024-05-22 12:57:10 (INFO): energy_forces_within_threshold: 0.00e+00, energy_mae: 7.20e+02, forcesx_mae: 4.28e-01, forcesy_mae: 1.14e+00, forcesz_mae: 1.68e+00, forces_mae: 1.08e+00, forces_cosine_similarity: -1.66e-02, forces_magnitude_error: 2.39e+00, loss: 6.47e+02, lr: 5.00e-04, epoch: 1.00e-01, step: 1.00e+01\n",
      "2024-05-22 12:57:14 (INFO): energy_forces_within_threshold: 0.00e+00, energy_mae: 7.07e+02, forcesx_mae: 2.98e-01, forcesy_mae: 9.02e-01, forcesz_mae: 5.04e-01, forces_mae: 5.68e-01, forces_cosine_similarity: -4.53e-02, forces_magnitude_error: 7.72e-01, loss: 5.42e+02, lr: 5.00e-04, epoch: 1.50e-01, step: 1.50e+01\n",
      "2024-05-22 12:57:19 (INFO): energy_forces_within_threshold: 0.00e+00, energy_mae: 6.54e+02, forcesx_mae: 2.09e-01, forcesy_mae: 4.77e-01, forcesz_mae: 3.06e-01, forces_mae: 3.31e-01, forces_cosine_similarity: -2.20e-02, forces_magnitude_error: 5.30e-01, loss: 4.71e+02, lr: 5.00e-04, epoch: 2.00e-01, step: 2.00e+01\n",
      "2024-05-22 12:57:24 (INFO): energy_forces_within_threshold: 0.00e+00, energy_mae: 5.47e+02, forcesx_mae: 1.21e-01, forcesy_mae: 2.40e-01, forcesz_mae: 1.86e-01, forces_mae: 1.82e-01, forces_cosine_similarity: 1.43e-02, forces_magnitude_error: 2.67e-01, loss: 3.85e+02, lr: 5.00e-04, epoch: 2.50e-01, step: 2.50e+01\n",
      "2024-05-22 12:57:28 (INFO): energy_forces_within_threshold: 0.00e+00, energy_mae: 4.81e+02, forcesx_mae: 1.17e-01, forcesy_mae: 4.65e-01, forcesz_mae: 1.70e-01, forces_mae: 2.51e-01, forces_cosine_similarity: -1.93e-02, forces_magnitude_error: 4.94e-01, loss: 3.51e+02, lr: 5.00e-04, epoch: 3.00e-01, step: 3.00e+01\n",
      "2024-05-22 12:57:33 (INFO): energy_forces_within_threshold: 0.00e+00, energy_mae: 8.30e+01, forcesx_mae: 3.20e-02, forcesy_mae: 3.81e-02, forcesz_mae: 4.46e-02, forces_mae: 3.82e-02, forces_cosine_similarity: 2.85e-02, forces_magnitude_error: 4.17e-02, loss: 5.98e+01, lr: 5.00e-04, epoch: 3.50e-01, step: 3.50e+01\n",
      "2024-05-22 12:57:37 (INFO): energy_forces_within_threshold: 0.00e+00, energy_mae: 2.31e+02, forcesx_mae: 1.05e-01, forcesy_mae: 2.52e-01, forcesz_mae: 1.51e-01, forces_mae: 1.69e-01, forces_cosine_similarity: -1.05e-01, forces_magnitude_error: 3.05e-01, loss: 1.74e+02, lr: 5.00e-04, epoch: 4.00e-01, step: 4.00e+01\n",
      "2024-05-22 12:57:42 (INFO): energy_forces_within_threshold: 0.00e+00, energy_mae: 2.39e+02, forcesx_mae: 1.35e-01, forcesy_mae: 2.23e-01, forcesz_mae: 2.25e-01, forces_mae: 1.94e-01, forces_cosine_similarity: 5.37e-02, forces_magnitude_error: 3.58e-01, loss: 1.82e+02, lr: 5.00e-04, epoch: 4.50e-01, step: 4.50e+01\n",
      "2024-05-22 12:57:47 (INFO): energy_forces_within_threshold: 0.00e+00, energy_mae: 1.32e+02, forcesx_mae: 7.91e-02, forcesy_mae: 9.21e-02, forcesz_mae: 1.36e-01, forces_mae: 1.02e-01, forces_cosine_similarity: -2.65e-02, forces_magnitude_error: 1.88e-01, loss: 1.00e+02, lr: 5.00e-04, epoch: 5.00e-01, step: 5.00e+01\n",
      "2024-05-22 12:57:51 (INFO): energy_forces_within_threshold: 0.00e+00, energy_mae: 1.15e+02, forcesx_mae: 1.78e-01, forcesy_mae: 1.80e-01, forcesz_mae: 2.82e-01, forces_mae: 2.13e-01, forces_cosine_similarity: -1.10e-01, forces_magnitude_error: 4.13e-01, loss: 1.04e+02, lr: 5.00e-04, epoch: 5.50e-01, step: 5.50e+01\n",
      "2024-05-22 12:57:56 (INFO): energy_forces_within_threshold: 0.00e+00, energy_mae: 1.04e+02, forcesx_mae: 1.37e-02, forcesy_mae: 1.53e-02, forcesz_mae: 1.74e-02, forces_mae: 1.55e-02, forces_cosine_similarity: 5.69e-02, forces_magnitude_error: 2.35e-02, loss: 7.09e+01, lr: 5.00e-04, epoch: 6.00e-01, step: 6.00e+01\n",
      "2024-05-22 12:58:00 (INFO): energy_forces_within_threshold: 0.00e+00, energy_mae: 6.12e+02, forcesx_mae: 3.26e-01, forcesy_mae: 5.21e-01, forcesz_mae: 4.09e-01, forces_mae: 4.19e-01, forces_cosine_similarity: 1.68e-01, forces_magnitude_error: 8.20e-01, loss: 4.53e+02, lr: 5.00e-04, epoch: 6.50e-01, step: 6.50e+01\n",
      "2024-05-22 12:58:05 (INFO): energy_forces_within_threshold: 0.00e+00, energy_mae: 7.85e+01, forcesx_mae: 1.54e-01, forcesy_mae: 1.65e-01, forcesz_mae: 2.62e-01, forces_mae: 1.94e-01, forces_cosine_similarity: -1.14e-02, forces_magnitude_error: 3.43e-01, loss: 7.81e+01, lr: 5.00e-04, epoch: 7.00e-01, step: 7.00e+01\n",
      "2024-05-22 12:58:10 (INFO): energy_forces_within_threshold: 0.00e+00, energy_mae: 2.78e+02, forcesx_mae: 5.90e-02, forcesy_mae: 1.23e-01, forcesz_mae: 7.00e-02, forces_mae: 8.39e-02, forces_cosine_similarity: -9.75e-02, forces_magnitude_error: 8.96e-02, loss: 1.93e+02, lr: 5.00e-04, epoch: 7.50e-01, step: 7.50e+01\n",
      "2024-05-22 12:58:14 (INFO): energy_forces_within_threshold: 0.00e+00, energy_mae: 2.70e+02, forcesx_mae: 1.31e-01, forcesy_mae: 2.99e-01, forcesz_mae: 2.49e-01, forces_mae: 2.27e-01, forces_cosine_similarity: 1.62e-01, forces_magnitude_error: 3.89e-01, loss: 2.08e+02, lr: 5.00e-04, epoch: 8.00e-01, step: 8.00e+01\n",
      "2024-05-22 12:58:19 (INFO): energy_forces_within_threshold: 0.00e+00, energy_mae: 2.12e+02, forcesx_mae: 2.30e-01, forcesy_mae: 8.75e-01, forcesz_mae: 3.46e-01, forces_mae: 4.84e-01, forces_cosine_similarity: 2.55e-02, forces_magnitude_error: 1.02e+00, loss: 1.95e+02, lr: 5.00e-04, epoch: 8.50e-01, step: 8.50e+01\n",
      "2024-05-22 12:58:24 (INFO): energy_forces_within_threshold: 0.00e+00, energy_mae: 1.21e+02, forcesx_mae: 5.23e-02, forcesy_mae: 1.03e-01, forcesz_mae: 6.31e-02, forces_mae: 7.27e-02, forces_cosine_similarity: -3.41e-02, forces_magnitude_error: 1.06e-01, loss: 8.84e+01, lr: 5.00e-04, epoch: 9.00e-01, step: 9.00e+01\n",
      "2024-05-22 12:58:28 (INFO): energy_forces_within_threshold: 0.00e+00, energy_mae: 1.87e+02, forcesx_mae: 3.70e-02, forcesy_mae: 4.38e-02, forcesz_mae: 6.32e-02, forces_mae: 4.80e-02, forces_cosine_similarity: 1.14e-02, forces_magnitude_error: 7.58e-02, loss: 1.30e+02, lr: 5.00e-04, epoch: 9.50e-01, step: 9.50e+01\n",
      "2024-05-22 12:58:33 (INFO): energy_forces_within_threshold: 0.00e+00, energy_mae: 5.53e+02, forcesx_mae: 1.84e-01, forcesy_mae: 2.60e-01, forcesz_mae: 2.44e-01, forces_mae: 2.29e-01, forces_cosine_similarity: 4.03e-02, forces_magnitude_error: 3.80e-01, loss: 3.90e+02, lr: 5.00e-04, epoch: 1.00e+00, step: 1.00e+02\n",
      "2024-05-22 12:58:33 (INFO): Evaluating on val.\n"
     ]
    },
    {
     "name": "stderr",
     "output_type": "stream",
     "text": [
      "device 0: 100%|██████████████████████████████████████████████████████████████████████████████████████████████████████████████████████████████████████████████████████████████████████████████████████████████| 20/20 [00:03<00:00,  5.18it/s]"
     ]
    },
    {
     "name": "stdout",
     "output_type": "stream",
     "text": [
      "2024-05-22 12:58:38 (INFO): energy_forces_within_threshold: 0.0000, energy_mae: 42.8882, forcesx_mae: 0.1064, forcesy_mae: 0.0755, forcesz_mae: 0.1302, forces_mae: 0.1040, forces_cosine_similarity: 0.1698, forces_magnitude_error: 0.1971, loss: 42.3253, epoch: 1.0000\n"
     ]
    },
    {
     "name": "stderr",
     "output_type": "stream",
     "text": [
      "\n"
     ]
    }
   ],
   "source": [
    "trainer.train()"
   ]
  },
  {
   "cell_type": "markdown",
   "metadata": {
    "id": "ZHkrkULBQ1Xy"
   },
   "source": [
    "### Validate the model"
   ]
  },
  {
   "cell_type": "markdown",
   "metadata": {
    "id": "paYx3_FBQ8OE"
   },
   "source": [
    "#### Load the best checkpoint\n",
    "\n",
    "The `checkpoints` directory contains two checkpoint files:\n",
    "\n",
    "\n",
    "\n",
    "*   `best_checkpoint.pt` - Model parameters corresponding to the best val performance during training. Used for predictions.\n",
    "*   `checkpoint.pt` - Model parameters and optimizer settings for the latest checkpoint. Used to continue training.\n",
    "\n",
    "\n",
    "\n"
   ]
  },
  {
   "cell_type": "code",
   "execution_count": null,
   "metadata": {
    "colab": {
     "base_uri": "https://localhost:8080/",
     "height": 35
    },
    "id": "UW4ihgBdQ0Yt",
    "outputId": "8226c4d2-041d-46d3-c0d9-02ce85f8fc93"
   },
   "outputs": [],
   "source": [
    "# The `best_checpoint.pt` file contains the checkpoint with the best val performance\n",
    "checkpoint_path = os.path.join(trainer.config[\"cmd\"][\"checkpoint_dir\"], \"best_checkpoint.pt\")\n",
    "checkpoint_path"
   ]
  },
  {
   "cell_type": "code",
   "execution_count": null,
   "metadata": {
    "colab": {
     "base_uri": "https://localhost:8080/"
    },
    "id": "6jppgncMTivj",
    "outputId": "a15e13a5-4c1d-4fd4-c2c3-ef9fa210a9dd"
   },
   "outputs": [],
   "source": [
    "# Append the dataset with the test set. We use the same val set for demonstration.\n",
    "\n",
    "# Dataset\n",
    "dataset.append(\n",
    "  {'src': val_src}, # test set (optional)\n",
    ")\n",
    "dataset"
   ]
  },
  {
   "cell_type": "code",
   "execution_count": null,
   "metadata": {
    "colab": {
     "base_uri": "https://localhost:8080/"
    },
    "id": "MaVROfxzRLaj",
    "outputId": "0f143c63-1e1d-44c4-c641-34bac1706c2c"
   },
   "outputs": [],
   "source": [
    "pretrained_trainer = OCPTrainer(\n",
    "    task=task,\n",
    "    model=copy.deepcopy(model), # copied for later use, not necessary in practice.\n",
    "    dataset=dataset,\n",
    "    optimizer=optimizer,\n",
    "    outputs={},\n",
    "    loss_fns={},\n",
    "    eval_metrics={},\n",
    "    name=\"s2ef\",\n",
    "    identifier=\"S2EF-val-example\",\n",
    "    run_dir=\"./\", # directory to save results if is_debug=False. Prediction files are saved here so be careful not to override!\n",
    "    is_debug=False, # if True, do not save checkpoint, logs, or results\n",
    "    print_every=5,\n",
    "    seed=0, # random seed to use\n",
    "    logger=\"tensorboard\", # logger of choice (tensorboard and wandb supported)\n",
    "    local_rank=0,\n",
    "    amp=True, # use PyTorch Automatic Mixed Precision (faster training and less memory usage),\n",
    ")\n",
    "\n",
    "pretrained_trainer.load_checkpoint(checkpoint_path=checkpoint_path)"
   ]
  },
  {
   "cell_type": "markdown",
   "metadata": {
    "id": "kWetMgsmRBZS"
   },
   "source": [
    "#### Run on the test set"
   ]
  },
  {
   "cell_type": "code",
   "execution_count": null,
   "metadata": {
    "colab": {
     "base_uri": "https://localhost:8080/"
    },
    "id": "jbiPZNeJQ0WK",
    "outputId": "dd346bcd-f30a-4333-a1ca-e18c057cb238"
   },
   "outputs": [],
   "source": [
    "# make predictions on the existing test_loader\n",
    "predictions = pretrained_trainer.predict(pretrained_trainer.test_loader, results_file=\"s2ef_results\", disable_tqdm=False)"
   ]
  },
  {
   "cell_type": "code",
   "execution_count": null,
   "metadata": {
    "id": "zaZGqeyqNCXz"
   },
   "outputs": [],
   "source": [
    "energies = predictions[\"energy\"]\n",
    "forces = predictions[\"forces\"]"
   ]
  },
  {
   "cell_type": "markdown",
   "metadata": {
    "id": "o8L28axZ4NVj"
   },
   "source": [
    "## Initial Structure to Relaxed Energy (IS2RE) <a name=\"is2re\"></a>\n",
    "The IS2RE task predicts the relaxed energy (energy of the relaxed state) given the initial state of a system. One approach to this is by training a regression model mapping the initial structure to the relaxed energy. We call this the *direct* approach to the IS2RE task. \n",
    "\n",
    "An alternative is to perform a structure relaxation using an S2EF model to obtain the relaxed state and compute the energy of that state (see the IS2RS task below for details about relaxation).\n",
    "\n",
    "### Steps for training an IS2RE model\n",
    "1) Define or load a configuration (config), which includes the following\n",
    "* task\n",
    "* model\n",
    "* optimizer\n",
    "* dataset\n",
    "* trainer\n",
    "\n",
    "2) Create an EnergyTrainer object\n",
    "\n",
    "3) Train the model\n",
    "\n",
    "4) Validate the model"
   ]
  },
  {
   "cell_type": "markdown",
   "metadata": {
    "id": "kEPPcr0YYHpH"
   },
   "source": [
    "### Imports"
   ]
  },
  {
   "cell_type": "code",
   "execution_count": null,
   "metadata": {
    "id": "d-0GsaGDW16G"
   },
   "outputs": [],
   "source": [
    "from ocpmodels.trainers import OCPTrainer\n",
    "from ocpmodels.datasets import LmdbDataset\n",
    "from ocpmodels import models\n",
    "from ocpmodels.common import logger\n",
    "from ocpmodels.common.utils import setup_logging\n",
    "setup_logging()\n",
    "\n",
    "import numpy as np\n",
    "import copy\n",
    "import os"
   ]
  },
  {
   "cell_type": "markdown",
   "metadata": {
    "id": "w20BJZ_GYWat"
   },
   "source": [
    "### Dataset"
   ]
  },
  {
   "cell_type": "code",
   "execution_count": null,
   "metadata": {
    "id": "BlL5gGPQW1te"
   },
   "outputs": [],
   "source": [
    "train_src = \"data/is2re/train_100/data.lmdb\"\n",
    "val_src = \"data/is2re/val_20/data.lmdb\""
   ]
  },
  {
   "cell_type": "markdown",
   "metadata": {
    "id": "yT5qHT2wamPh"
   },
   "source": [
    "### Normalize data\n",
    "\n",
    "If you wish to normalize the targets we must compute the mean and standard deviation for our energy values."
   ]
  },
  {
   "cell_type": "code",
   "execution_count": null,
   "metadata": {
    "id": "vaY-ZUMaamPh"
   },
   "outputs": [],
   "source": [
    "train_dataset = LmdbDataset({\"src\": train_src})\n",
    "\n",
    "energies = []\n",
    "for data in train_dataset:\n",
    "    energies.append(data.y_relaxed)\n",
    "\n",
    "mean = np.mean(energies)\n",
    "stdev = np.std(energies)"
   ]
  },
  {
   "cell_type": "markdown",
   "metadata": {
    "id": "K4SSW0UGYeYM"
   },
   "source": [
    "### Define the Config\n",
    "\n",
    "For this example, we will explicitly define the config; however, a set of default configs can be found [here](https://github.com/Open-Catalyst-Project/ocp/tree/master/configs). Default config yaml files can easily be loaded with the following [utility](https://github.com/Open-Catalyst-Project/ocp/blob/aa8e44d50229fce887b3a94a5661c4f85cd73eed/ocpmodels/common/utils.py#L361-L400). Loading a yaml config is preferrable when launching jobs from the command line. We have included our best models' config files here for reference. \n",
    "\n",
    "**Note** - we only train for a single epoch with a reduced batch size (GPU memory constraints) for demonstration purposes, modify accordingly for full convergence."
   ]
  },
  {
   "cell_type": "code",
   "execution_count": null,
   "metadata": {
    "id": "TiHmkTm6W1do"
   },
   "outputs": [],
   "source": [
    "# Task\n",
    "task = {\n",
    "  \"dataset\": \"single_point_lmdb\",\n",
    "  \"description\": \"Relaxed state energy prediction from initial structure.\",\n",
    "  \"type\": \"regression\",\n",
    "  \"metric\": \"mae\",\n",
    "  \"labels\": [\"relaxed energy\"],\n",
    "}\n",
    "# Model\n",
    "model = {\n",
    "    'name': 'gemnet_t',\n",
    "    \"num_spherical\": 7,\n",
    "    \"num_radial\": 64,\n",
    "    \"num_blocks\": 5,\n",
    "    \"emb_size_atom\": 256,\n",
    "    \"emb_size_edge\": 512,\n",
    "    \"emb_size_trip\": 64,\n",
    "    \"emb_size_rbf\": 16,\n",
    "    \"emb_size_cbf\": 16,\n",
    "    \"emb_size_bil_trip\": 64,\n",
    "    \"num_before_skip\": 1,\n",
    "    \"num_after_skip\": 2,\n",
    "    \"num_concat\": 1,\n",
    "    \"num_atom\": 3,\n",
    "    \"cutoff\": 6.0,\n",
    "    \"max_neighbors\": 50,\n",
    "    \"rbf\": {\"name\": \"gaussian\"},\n",
    "    \"envelope\": {\n",
    "      \"name\": \"polynomial\",\n",
    "      \"exponent\": 5,\n",
    "    },\n",
    "    \"cbf\": {\"name\": \"spherical_harmonics\"},\n",
    "    \"extensive\": True,\n",
    "    \"otf_graph\": False,\n",
    "    \"output_init\": \"HeOrthogonal\",\n",
    "    \"activation\": \"silu\",\n",
    "    \"scale_file\": \"configs/s2ef/all/gemnet/scaling_factors/gemnet-dT.json\",\n",
    "    \"regress_forces\": False,\n",
    "    \"direct_forces\": False,\n",
    "}\n",
    "# Optimizer\n",
    "optimizer = {\n",
    "    'batch_size': 1,         # originally 32\n",
    "    'eval_batch_size': 1,    # originally 32\n",
    "    'num_workers': 2,\n",
    "    'lr_initial': 1.e-4,\n",
    "    'optimizer': 'AdamW',\n",
    "    'optimizer_params': {\"amsgrad\": True},\n",
    "    'scheduler': \"ReduceLROnPlateau\",\n",
    "    'mode': \"min\",\n",
    "    'factor': 0.8,\n",
    "    'patience': 3,\n",
    "    'max_epochs': 1,         # used for demonstration purposes\n",
    "    'ema_decay': 0.999,\n",
    "    'clip_grad_norm': 10,\n",
    "    'loss_energy': 'mae',\n",
    "}\n",
    "# Dataset\n",
    "dataset = [\n",
    "  {'src': train_src,\n",
    "   'normalize_labels': True,\n",
    "   'target_mean': mean,\n",
    "   'target_std': stdev,\n",
    "  }, # train set \n",
    "  {'src': val_src}, # val set (optional)\n",
    "]"
   ]
  },
  {
   "cell_type": "markdown",
   "metadata": {
    "id": "oG5w1sk-v1LI"
   },
   "source": [
    "### Create EnergyTrainer"
   ]
  },
  {
   "cell_type": "code",
   "execution_count": null,
   "metadata": {
    "colab": {
     "base_uri": "https://localhost:8080/"
    },
    "id": "ExmkV2K1W07H",
    "outputId": "4e875ed0-258b-43eb-e191-d00274400128"
   },
   "outputs": [],
   "source": [
    "energy_trainer = OCPTrainer(\n",
    "    task=task,\n",
    "    model=copy.deepcopy(model), # copied for later use, not necessary in practice.\n",
    "    dataset=dataset,\n",
    "    optimizer=optimizer,\n",
    "    outputs={},\n",
    "    loss_fns={},\n",
    "    eval_metrics={},\n",
    "    name=\"is2re\",\n",
    "    identifier=\"IS2RE-example\",\n",
    "    run_dir=\"./\", # directory to save results if is_debug=False. Prediction files are saved here so be careful not to override!\n",
    "    is_debug=False, # if True, do not save checkpoint, logs, or results\n",
    "    print_every=5,\n",
    "    seed=0, # random seed to use\n",
    "    logger=\"tensorboard\", # logger of choice (tensorboard and wandb supported)\n",
    "    local_rank=0,\n",
    "    amp=True, # use PyTorch Automatic Mixed Precision (faster training and less memory usage),\n",
    ")"
   ]
  },
  {
   "cell_type": "markdown",
   "metadata": {
    "id": "pto2SpJPwlz1"
   },
   "source": [
    "### Train the Model"
   ]
  },
  {
   "cell_type": "code",
   "execution_count": null,
   "metadata": {
    "colab": {
     "base_uri": "https://localhost:8080/"
    },
    "id": "iHMRkFplwsky",
    "outputId": "df58e36a-6bb9-411a-ce4a-b9258fc06a55"
   },
   "outputs": [],
   "source": [
    "energy_trainer.train()"
   ]
  },
  {
   "cell_type": "markdown",
   "metadata": {
    "id": "MkAd2MBmw8wO"
   },
   "source": [
    "### Validate the Model"
   ]
  },
  {
   "cell_type": "markdown",
   "metadata": {
    "id": "gaauxWdNw_-4"
   },
   "source": [
    "#### Load the best checkpoint"
   ]
  },
  {
   "cell_type": "code",
   "execution_count": null,
   "metadata": {
    "colab": {
     "base_uri": "https://localhost:8080/",
     "height": 35
    },
    "id": "xkj0Bslqws_N",
    "outputId": "2680bf59-c13e-4113-b3bd-15aa62c9007e"
   },
   "outputs": [],
   "source": [
    "# The `best_checpoint.pt` file contains the checkpoint with the best val performance\n",
    "checkpoint_path = os.path.join(energy_trainer.config[\"cmd\"][\"checkpoint_dir\"], \"best_checkpoint.pt\")\n",
    "checkpoint_path"
   ]
  },
  {
   "cell_type": "code",
   "execution_count": null,
   "metadata": {
    "colab": {
     "base_uri": "https://localhost:8080/"
    },
    "id": "BqmCqaFlbMZC",
    "outputId": "fd9f2409-1b51-4b6a-90ca-0a00a40d2dfe"
   },
   "outputs": [],
   "source": [
    "# Append the dataset with the test set. We use the same val set for demonstration.\n",
    "\n",
    "# Dataset\n",
    "dataset.append(\n",
    "  {'src': val_src}, # test set (optional)\n",
    ")\n",
    "dataset"
   ]
  },
  {
   "cell_type": "code",
   "execution_count": null,
   "metadata": {
    "colab": {
     "base_uri": "https://localhost:8080/"
    },
    "id": "IkcqadZIxXP-",
    "outputId": "5a07d5c7-cbdf-4901-80db-1fcf19c1c42b"
   },
   "outputs": [],
   "source": [
    "pretrained_energy_trainer = OCPTrainer(\n",
    "    task=task,\n",
    "    model=copy.deepcopy(model), # copied for later use, not necessary in practice.\n",
    "    dataset=dataset,\n",
    "    optimizer=optimizer,\n",
    "    outputs={},\n",
    "    loss_fns={},\n",
    "    eval_metrics={},\n",
    "    name=\"is2re\",\n",
    "    identifier=\"IS2RE-val-example\",\n",
    "    run_dir=\"./\", # directory to save results if is_debug=False. Prediction files are saved here so be careful not to override!\n",
    "    is_debug=False, # if True, do not save checkpoint, logs, or results\n",
    "    print_every=5,\n",
    "    seed=0, # random seed to use\n",
    "    logger=\"tensorboard\", # logger of choice (tensorboard and wandb supported)\n",
    "    local_rank=0,\n",
    "    amp=True, # use PyTorch Automatic Mixed Precision (faster training and less memory usage),\n",
    ")\n",
    "\n",
    "pretrained_energy_trainer.load_checkpoint(checkpoint_path=checkpoint_path)"
   ]
  },
  {
   "cell_type": "markdown",
   "metadata": {
    "id": "TcUvAI81xoSt"
   },
   "source": [
    "#### Test the model"
   ]
  },
  {
   "cell_type": "code",
   "execution_count": null,
   "metadata": {
    "colab": {
     "base_uri": "https://localhost:8080/"
    },
    "id": "VtCEFtXxxr3u",
    "outputId": "eadd2568-ac65-4d3a-b234-cafe99cee575"
   },
   "outputs": [],
   "source": [
    "# make predictions on the existing test_loader\n",
    "predictions = pretrained_energy_trainer.predict(pretrained_trainer.test_loader, results_file=\"is2re_results\", disable_tqdm=False)"
   ]
  },
  {
   "cell_type": "code",
   "execution_count": null,
   "metadata": {
    "id": "1UcfxFi4x4aD"
   },
   "outputs": [],
   "source": [
    "energies = predictions[\"energy\"]"
   ]
  },
  {
   "cell_type": "markdown",
   "metadata": {
    "id": "gM9Wqk0GIxyU"
   },
   "source": [
    "## Initial Structure to Relaxed Structure (IS2RS) <a name=\"is2rs\"></a>\n",
    "\n",
    "We approach the IS2RS task by using a pre-trained S2EF model to iteratively run a structure optimization to arrive at a relaxed structure. While the majority of approaches for this task do this iteratively, we note it's possible to train a model to directly predict relaxed structures.\n",
    "\n",
    "## Steps for making IS2RS predictions\n",
    "1) Define or load a configuration (config), which includes the following\n",
    "* task with relaxation dataset information\n",
    "* model\n",
    "* optimizer\n",
    "* dataset\n",
    "* trainer\n",
    "\n",
    "2) Create a ForcesTrainer object\n",
    "\n",
    "3) Train a S2EF model or load an existing S2EF checkpoint\n",
    "\n",
    "4) Run relaxations\n",
    "\n",
    "**Note** For this task we'll be using a publicly released pre-trained checkpoint of our best model to perform relaxations."
   ]
  },
  {
   "cell_type": "markdown",
   "metadata": {
    "id": "tNSI3hUAJAWc"
   },
   "source": [
    "#### Imports"
   ]
  },
  {
   "cell_type": "code",
   "execution_count": null,
   "metadata": {
    "id": "Z-WZXuRiI6Vo"
   },
   "outputs": [],
   "source": [
    "from ocpmodels.trainers import OCPTrainer\n",
    "from ocpmodels.datasets import LmdbDataset\n",
    "from ocpmodels import models\n",
    "from ocpmodels.common import logger\n",
    "from ocpmodels.common.utils import setup_logging\n",
    "setup_logging()\n",
    "\n",
    "import numpy as np"
   ]
  },
  {
   "cell_type": "markdown",
   "metadata": {
    "id": "XFLZTpRvldZE"
   },
   "source": [
    "### Dataset\n",
    "\n",
    "The IS2RS task requires an additional realxation dataset to be defined - `relax_dataset`. This dataset is read in similar to the IS2RE dataset - requiring an LMDB file. The same datasets are used for the IS2RE and IS2RS tasks."
   ]
  },
  {
   "cell_type": "code",
   "execution_count": null,
   "metadata": {
    "id": "irrPcbs4ldZF"
   },
   "outputs": [],
   "source": [
    "train_src = \"data/s2ef/train_100\"\n",
    "val_src = \"data/s2ef/val_20\"\n",
    "relax_dataset = \"data/is2re/val_20/data.lmdb\""
   ]
  },
  {
   "cell_type": "markdown",
   "metadata": {
    "id": "7gJ01gabd6BR"
   },
   "source": [
    "### Download pretrained checkpoint"
   ]
  },
  {
   "cell_type": "code",
   "execution_count": null,
   "metadata": {
    "id": "MiOeqFN-d-7K"
   },
   "outputs": [],
   "source": [
    "!wget -q https://dl.fbaipublicfiles.com/opencatalystproject/models/2021_08/s2ef/gemnet_t_direct_h512_all.pt\n",
    "checkpoint_path = \"/content/ocp/gemnet_t_direct_h512_all.pt\""
   ]
  },
  {
   "cell_type": "markdown",
   "metadata": {
    "id": "fp1Ab8TGltP6"
   },
   "source": [
    "### Define the Config"
   ]
  },
  {
   "cell_type": "markdown",
   "metadata": {
    "id": "JLOydGsmltP7"
   },
   "source": [
    "Running an iterative S2EF model for the IS2RS task can be run from any S2EF config given the following additions to the `task` portion of the config:\n",
    "\n",
    "* relax_dataset - IS2RE LMDB dataset\n",
    "* *write_pos* - Whether to save out relaxed positions\n",
    "* *relaxation_steps* - Number of optimization steps to run\n",
    "* *relax_opt* - Dictionary of optimizer settings. Currently only LBFGS supported\n",
    "  * *maxstep* - Maximum distance an optimization is allowed to make\n",
    "  * *memory* - Memory history to use for LBFGS\n",
    "  * *damping* - Calculated step is multiplied by this factor before updating positions\n",
    "  * *alpha* - Initial guess for the Hessian\n",
    "  * *traj_dir* - If specified, directory to save out the full ML relaxation as an ASE trajectory. Useful for debugging or visualizing results.\n",
    "* *num_relaxation_batches* - If specified, relaxations will only be run for a subset of the relaxation dataset. Useful for debugging or wanting to visualize a few systems.\n",
    "\n",
    "A sample relaxation config can be found [here](https://github.com/Open-Catalyst-Project/ocp/blob/1044e311182c1120c6e6d137ce6db3f445148973/configs/s2ef/2M/dimenet_plus_plus/dpp_relax.yml#L24-L33).\n",
    "   "
   ]
  },
  {
   "cell_type": "code",
   "execution_count": null,
   "metadata": {
    "id": "XU9DisuyltP8"
   },
   "outputs": [],
   "source": [
    "# Task\n",
    "task = {\n",
    "      'dataset': 'lmdb', # dataset used for the S2EF task\n",
    "      'description': 'Regressing to energies and forces for DFT trajectories from OCP',\n",
    "      'type': 'regression',\n",
    "      'metric': 'mae',\n",
    "      'labels': ['potential energy'],\n",
    "      'grad_input': 'atomic forces',\n",
    "      'train_on_free_atoms': True,\n",
    "      'eval_on_free_atoms': True,\n",
    "      'relax_dataset': {\"src\": relax_dataset},\n",
    "      'write_pos': True,\n",
    "      'relaxation_steps': 200,\n",
    "      'num_relaxation_batches': 1,\n",
    "      'relax_opt': {\n",
    "        'maxstep': 0.04,\n",
    "        'memory': 50,\n",
    "        'damping': 1.0,\n",
    "        'alpha': 70.0,\n",
    "        'traj_dir': \"ml-relaxations/is2rs-test\", \n",
    "    }\n",
    "}\n",
    "# Model\n",
    "model = {\n",
    "    'name': 'gemnet_t',\n",
    "    \"num_spherical\": 7,\n",
    "    \"num_radial\": 128,\n",
    "    \"num_blocks\": 3,\n",
    "    \"emb_size_atom\": 512,\n",
    "    \"emb_size_edge\": 512,\n",
    "    \"emb_size_trip\": 64,\n",
    "    \"emb_size_rbf\": 16,\n",
    "    \"emb_size_cbf\": 16,\n",
    "    \"emb_size_bil_trip\": 64,\n",
    "    \"num_before_skip\": 1,\n",
    "    \"num_after_skip\": 2,\n",
    "    \"num_concat\": 1,\n",
    "    \"num_atom\": 3,\n",
    "    \"cutoff\": 6.0,\n",
    "    \"max_neighbors\": 50,\n",
    "    \"rbf\": {\"name\": \"gaussian\"},\n",
    "    \"envelope\": {\n",
    "      \"name\": \"polynomial\",\n",
    "      \"exponent\": 5,\n",
    "    },\n",
    "    \"cbf\": {\"name\": \"spherical_harmonics\"},\n",
    "    \"extensive\": True,\n",
    "    \"otf_graph\": False,\n",
    "    \"output_init\": \"HeOrthogonal\",\n",
    "    \"activation\": \"silu\",\n",
    "    \"scale_file\": \"configs/s2ef/all/gemnet/scaling_factors/gemnet-dT.json\",\n",
    "    \"regress_forces\": True,\n",
    "    \"direct_forces\": True,\n",
    "}\n",
    "# Optimizer\n",
    "optimizer = {\n",
    "    'batch_size': 1,         # originally 32\n",
    "    'eval_batch_size': 1,    # originally 32\n",
    "    'num_workers': 2,\n",
    "    'lr_initial': 5.e-4,\n",
    "    'optimizer': 'AdamW',\n",
    "    'optimizer_params': {\"amsgrad\": True},\n",
    "    'scheduler': \"ReduceLROnPlateau\",\n",
    "    'mode': \"min\",\n",
    "    'factor': 0.8,\n",
    "    'ema_decay': 0.999,\n",
    "    'clip_grad_norm': 10,\n",
    "    'patience': 3,\n",
    "    'max_epochs': 1,         # used for demonstration purposes\n",
    "    'force_coefficient': 100,\n",
    "}\n",
    "# Dataset\n",
    "dataset = [\n",
    "  {'src': train_src, 'normalize_labels': False}, # train set \n",
    "  {'src': val_src}, # val set (optional)\n",
    "]"
   ]
  },
  {
   "cell_type": "markdown",
   "metadata": {
    "id": "IsOqQIjnogkQ"
   },
   "source": [
    "### Create the trainer"
   ]
  },
  {
   "cell_type": "code",
   "execution_count": null,
   "metadata": {
    "colab": {
     "base_uri": "https://localhost:8080/"
    },
    "id": "5KZvPu4hogkR",
    "outputId": "fdbbfa5c-0d7c-449f-8be5-ef2e5d17860d"
   },
   "outputs": [],
   "source": [
    "trainer = OCPTrainer(\n",
    "    task=task,\n",
    "    model=copy.deepcopy(model), # copied for later use, not necessary in practice.\n",
    "    dataset=dataset,\n",
    "    optimizer=optimizer,\n",
    "    outputs={},\n",
    "    loss_fns={},\n",
    "    eval_metrics={},\n",
    "    name=\"s2ef\",\n",
    "    identifier=\"is2rs-example\",\n",
    "    run_dir=\"./\", # directory to save results if is_debug=False. Prediction files are saved here so be careful not to override!\n",
    "    is_debug=False, # if True, do not save checkpoint, logs, or results\n",
    "    print_every=5,\n",
    "    seed=0, # random seed to use\n",
    "    logger=\"tensorboard\", # logger of choice (tensorboard and wandb supported)\n",
    "    local_rank=0,\n",
    "    amp=True, # use PyTorch Automatic Mixed Precision (faster training and less memory usage),\n",
    ")"
   ]
  },
  {
   "cell_type": "markdown",
   "metadata": {
    "id": "wtMn792WpC4X"
   },
   "source": [
    "### Load the best checkpoint\n"
   ]
  },
  {
   "cell_type": "code",
   "execution_count": null,
   "metadata": {
    "colab": {
     "base_uri": "https://localhost:8080/"
    },
    "id": "jFXQJBYxpC4Y",
    "outputId": "f35be368-a350-465d-fb32-5a5795317bac"
   },
   "outputs": [],
   "source": [
    "trainer.load_checkpoint(checkpoint_path=checkpoint_path)"
   ]
  },
  {
   "cell_type": "markdown",
   "metadata": {
    "id": "2rtga4JPot6i"
   },
   "source": [
    "### Run relaxations\n",
    "\n",
    "We run a full relaxation for a single batch of our relaxation dataset (`num_relaxation_batches=1`)."
   ]
  },
  {
   "cell_type": "code",
   "execution_count": null,
   "metadata": {
    "colab": {
     "base_uri": "https://localhost:8080/"
    },
    "id": "aQG-HEpuot6k",
    "outputId": "f91a9a2a-4ea8-4b60-c6a1-a1255e482119"
   },
   "outputs": [],
   "source": [
    "trainer.run_relaxations()"
   ]
  },
  {
   "cell_type": "markdown",
   "metadata": {
    "id": "j0JBID-2oB7S"
   },
   "source": [
    "### Visualize ML-driven relaxations\n",
    "\n",
    "Following our earlier [visualization steps](#data-description), we can plot our ML-generated relaxations."
   ]
  },
  {
   "cell_type": "code",
   "execution_count": null,
   "metadata": {
    "id": "k3z_fey3syg_"
   },
   "outputs": [],
   "source": [
    "import glob\n",
    "import ase.io\n",
    "from ase.visualize.plot import plot_atoms\n",
    "import matplotlib.pyplot as plt\n",
    "import random\n",
    "import matplotlib\n",
    "\n",
    "params = {\n",
    "   'axes.labelsize': 14,\n",
    "   'font.size': 14,\n",
    "   'font.family': ' DejaVu Sans',\n",
    "   'legend.fontsize': 20,\n",
    "   'xtick.labelsize': 20,\n",
    "   'ytick.labelsize': 20,\n",
    "   'axes.labelsize': 25,\n",
    "   'axes.titlesize': 25,\n",
    "   'text.usetex': False,\n",
    "   'figure.figsize': [12, 12]\n",
    "}\n",
    "matplotlib.rcParams.update(params)"
   ]
  },
  {
   "cell_type": "code",
   "execution_count": null,
   "metadata": {
    "colab": {
     "base_uri": "https://localhost:8080/",
     "height": 375
    },
    "id": "3yArIY59sskv",
    "outputId": "102ace01-5029-4261-cc18-c2f8634157c5"
   },
   "outputs": [],
   "source": [
    "system = glob.glob(\"ml-relaxations/is2rs-test/*.traj\")[0]\n",
    "ml_trajectory = ase.io.read(system, \":\")\n",
    "\n",
    "energies = [atom.get_potential_energy() for atom in ml_trajectory]\n",
    "\n",
    "plt.figure(figsize=(7, 5))\n",
    "plt.plot(range(len(energies)), energies)\n",
    "plt.xlabel(\"step\")\n",
    "plt.ylabel(\"energy, eV\")\n",
    "system"
   ]
  },
  {
   "cell_type": "markdown",
   "metadata": {
    "id": "CN9RC25hxLlp"
   },
   "source": [
    "Qualitatively, the ML relaxation is behaving as expected - decreasing energies over the course of the relaxation."
   ]
  },
  {
   "cell_type": "code",
   "execution_count": null,
   "metadata": {
    "colab": {
     "base_uri": "https://localhost:8080/",
     "height": 198
    },
    "id": "6kxJBkV1wZUw",
    "outputId": "f1f39a5f-feac-42bc-c208-c6c14aff88ef"
   },
   "outputs": [],
   "source": [
    "fig, ax = plt.subplots(1, 3)\n",
    "labels = ['ml-initial', 'ml-middle', 'ml-final']\n",
    "for i in range(3):\n",
    "    ax[i].axis('off')\n",
    "    ax[i].set_title(labels[i])\n",
    "\n",
    "ase.visualize.plot.plot_atoms(\n",
    "    ml_trajectory[0], \n",
    "    ax[0], \n",
    "    radii=0.8,\n",
    "    # rotation=(\"-75x, 45y, 10z\")) # uncomment to visualize at different angles\n",
    ")\n",
    "ase.visualize.plot.plot_atoms(\n",
    "    ml_trajectory[100], \n",
    "    ax[1], \n",
    "    radii=0.8, \n",
    "    # rotation=(\"-75x, 45y, 10z\") # uncomment to visualize at different angles\n",
    ")\n",
    "ase.visualize.plot.plot_atoms(\n",
    "    ml_trajectory[-1], \n",
    "    ax[2], \n",
    "    radii=0.8,\n",
    "    # rotation=(\"-75x, 45y, 10z\"), # uncomment to visualize at different angles\n",
    ")\n"
   ]
  },
  {
   "cell_type": "markdown",
   "metadata": {
    "id": "8LE2lrJwyblQ"
   },
   "source": [
    "Qualitatively, the generated structures seem reasonable with no obvious issues we had previously mentioned to look out for."
   ]
  },
  {
   "cell_type": "markdown",
   "metadata": {
    "id": "MymFuumcRd8r"
   },
   "source": [
    "# Model development <a name=\"model-dev\"></a>\n",
    "\n",
    "In this section, we will walk through how to develop a simple Graph Neural Network model on the S2EF-200k dataset.\n",
    "\n",
    "Let's begin by setting up some imports and boilerplate config parameters."
   ]
  },
  {
   "cell_type": "markdown",
   "metadata": {
    "id": "mk71_j2i96X4"
   },
   "source": [
    "## Imports"
   ]
  },
  {
   "cell_type": "code",
   "execution_count": null,
   "metadata": {
    "id": "vK49MKgd9ufL"
   },
   "outputs": [],
   "source": [
    "import torch\n",
    "\n",
    "from typing import Optional\n",
    "\n",
    "from ocpmodels.trainers import OCPTrainer\n",
    "from ocpmodels import models\n",
    "from ocpmodels.common import logger\n",
    "from ocpmodels.common.utils import setup_logging, get_pbc_distances\n",
    "from ocpmodels.common.registry import registry\n",
    "\n",
    "from ocpmodels.models.gemnet.layers.radial_basis import PolynomialEnvelope\n",
    "\n",
    "from torch_geometric.nn.models.schnet import GaussianSmearing\n",
    "from torch_scatter import scatter"
   ]
  },
  {
   "cell_type": "code",
   "execution_count": null,
   "metadata": {
    "id": "Xj9QvWby-AI6"
   },
   "outputs": [],
   "source": [
    "setup_logging()\n",
    "\n",
    "# Dataset paths\n",
    "train_src = \"data/s2ef/train_100\"\n",
    "val_src = \"data/s2ef/val_20\"\n",
    "\n",
    "# Configs\n",
    "task = {\n",
    "    'dataset': 'trajectory_lmdb', # dataset used for the S2EF task\n",
    "    'description': 'Regressing to energies and forces for DFT trajectories from OCP',\n",
    "    'type': 'regression',\n",
    "    'metric': 'mae',\n",
    "    'labels': ['potential energy'],\n",
    "    'grad_input': 'atomic forces',\n",
    "    'train_on_free_atoms': True,\n",
    "    'eval_on_free_atoms': True\n",
    "}\n",
    "\n",
    "# Optimizer\n",
    "optimizer = {\n",
    "    'batch_size': 16, # if hitting GPU memory issues, lower this\n",
    "    'eval_batch_size': 8,\n",
    "    'num_workers': 8,\n",
    "    'lr_initial': 0.0001,\n",
    "    'scheduler': \"ReduceLROnPlateau\",\n",
    "    'mode': \"min\",\n",
    "    'factor': 0.8,\n",
    "    'patience': 3,\n",
    "    'max_epochs': 80,\n",
    "    'max_epochs': 5,\n",
    "    'force_coefficient': 100,\n",
    "}\n",
    "\n",
    "# Dataset\n",
    "dataset = [\n",
    "  {'src': train_src, 'normalize_labels': True, 'target_mean':  -0.7554450631141663, 'target_std': 2.887317180633545, 'grad_target_mean': 0.0, 'grad_target_std': 2.887317180633545}, # train set\n",
    "  {'src': val_src},\n",
    "]"
   ]
  },
  {
   "cell_type": "markdown",
   "metadata": {
    "id": "bzp-Cyrm-JOE"
   },
   "source": [
    "## Atom and Edge Embeddings\n",
    "\n",
    "Each atom is represented as a node with its features computed using a simple `torch.nn.Embedding` layer on the atomic number.\n",
    "\n",
    "All pairs of atoms with a defined cutoff radius (=6A) are assumed to have edges between them, with their features computed as the concatenation of 1) a Gaussian expansion of the distance between the atoms, and the 2) source and 3) target\n",
    "node features.\n",
    "\n",
    "We will use the `GaussianSmearing` layer (reproduced below) from the PyTorch Geometric library for computing distance features:\n",
    "\n",
    "```\n",
    "class GaussianSmearing(torch.nn.Module):\n",
    "    def __init__(self, start=0.0, stop=5.0, num_gaussians=50):\n",
    "        super(GaussianSmearing, self).__init__()\n",
    "        offset = torch.linspace(start, stop, num_gaussians)\n",
    "        self.coeff = -0.5 / (offset[1] - offset[0]).item()**2\n",
    "        self.register_buffer('offset', offset)\n",
    "\n",
    "    def forward(self, dist):\n",
    "        dist = dist.view(-1, 1) - self.offset.view(1, -1)\n",
    "        return torch.exp(self.coeff * torch.pow(dist, 2))\n",
    "```"
   ]
  },
  {
   "cell_type": "code",
   "execution_count": null,
   "metadata": {
    "id": "dfMCS-pL-2X5"
   },
   "outputs": [],
   "source": [
    "class AtomEmbedding(torch.nn.Module):\n",
    "    def __init__(self, emb_size):\n",
    "        super().__init__()\n",
    "        self.embeddings = torch.nn.Embedding(83, emb_size) # We go up to Bi (83).\n",
    "\n",
    "    def forward(self, Z):\n",
    "        h = self.embeddings(Z - 1)  # -1 because Z.min()=1 (==Hydrogen)\n",
    "        return h\n",
    "\n",
    "class EdgeEmbedding(torch.nn.Module):\n",
    "    def __init__(self, atom_emb_size, edge_emb_size, out_size):\n",
    "        super().__init__()\n",
    "        in_features = 2 * atom_emb_size + edge_emb_size\n",
    "        self.dense = torch.nn.Sequential(\n",
    "            torch.nn.Linear(in_features, out_size, bias=False),\n",
    "            torch.nn.SiLU()\n",
    "        )\n",
    "\n",
    "    def forward(self, h, m_rbf, idx_s, idx_t,\n",
    "    ):\n",
    "        h_s = h[idx_s]  # indexing source node, shape=(num_edges, emb_size)\n",
    "        h_t = h[idx_t]  # indexing target node, shape=(num_edges, emb_size)\n",
    "\n",
    "        m_st = torch.cat([h_s, h_t, m_rbf], dim=-1)  # (num_edges, 2 * atom_emb_size + edge_emb_size)\n",
    "        m_st = self.dense(m_st)  # (num_edges, out_size)\n",
    "        return m_st\n",
    "\n",
    "class RadialBasis(torch.nn.Module):\n",
    "    def __init__(self, num_radial: int, cutoff: float, env_exponent: int = 5):\n",
    "        super().__init__()\n",
    "        self.inv_cutoff = 1 / cutoff\n",
    "        self.envelope = PolynomialEnvelope(env_exponent)\n",
    "        self.rbf = GaussianSmearing(start=0, stop=1, num_gaussians=num_radial)\n",
    "\n",
    "    def forward(self, d):\n",
    "        d_scaled = d * self.inv_cutoff\n",
    "        env = self.envelope(d_scaled)\n",
    "        return env[:, None] * self.rbf(d_scaled)  # (num_edges, num_radial)"
   ]
  },
  {
   "cell_type": "markdown",
   "metadata": {
    "id": "nhvCP4wzAE_K"
   },
   "source": [
    "## Message passing \n",
    "\n",
    "We start by implementing a very simple message-passing scheme to predict system energy and forces.\n",
    "\n",
    "Given the node and edge features, we sum up edge features for all edges $e_{ij}$ connecting node $i$ to its neighbors $j$, and pass the resultant vector through a fully-connected layer to project it down to a scalar. This gives us a scalar energy contribution for each node $i$ in the structure. We then sum up all node energy contributions to predict the overall system energy.\n",
    "\n",
    "Similarly, to predict forces, we pass edge features through a fully-connected layer to project it down to a scalar representing the force magnitude per edge $e_{ij}$. We can then sum up these force magnitudes based on the original edge directions to predict the resultant force vector per node $i$."
   ]
  },
  {
   "cell_type": "code",
   "execution_count": null,
   "metadata": {
    "id": "QMjBCLcSAQSp"
   },
   "outputs": [],
   "source": [
    "@registry.register_model(\"simple\")\n",
    "class SimpleAtomEdgeModel(torch.nn.Module):\n",
    "    def __init__(self, num_atoms, bond_feat_dim, num_targets, emb_size=64, num_radial=64, cutoff=6.0, env_exponent=5):\n",
    "        super().__init__()\n",
    "\n",
    "        self.radial_basis = RadialBasis(\n",
    "            num_radial=num_radial,\n",
    "            cutoff=cutoff,\n",
    "            env_exponent=env_exponent,\n",
    "        )\n",
    "\n",
    "        self.atom_emb = AtomEmbedding(emb_size)\n",
    "        self.edge_emb = EdgeEmbedding(emb_size, num_radial, emb_size)\n",
    "\n",
    "        self.out_energy = torch.nn.Linear(emb_size, 1)\n",
    "        self.out_forces = torch.nn.Linear(emb_size, 1)\n",
    "\n",
    "    def forward(self, data):\n",
    "        batch = data.batch\n",
    "        atomic_numbers = data.atomic_numbers.long()\n",
    "        edge_index = data.edge_index\n",
    "        cell_offsets = data.cell_offsets\n",
    "        neighbors = data.neighbors\n",
    "\n",
    "        # computing edges and distances taking periodic boundary conditions into account\n",
    "        out = get_pbc_distances(\n",
    "            data.pos,\n",
    "            edge_index,\n",
    "            data.cell,\n",
    "            cell_offsets,\n",
    "            neighbors,\n",
    "            return_offsets=True,\n",
    "            return_distance_vec=True,\n",
    "        )\n",
    "\n",
    "        edge_index = out[\"edge_index\"]\n",
    "        D_st = out[\"distances\"]\n",
    "        V_st = -out[\"distance_vec\"] / D_st[:, None]\n",
    "\n",
    "        idx_s, idx_t = edge_index\n",
    "\n",
    "        # embed atoms\n",
    "        h_atom = self.atom_emb(atomic_numbers)\n",
    "\n",
    "        # gaussian expansion of distances D_st\n",
    "        m_rbf = self.radial_basis(D_st)\n",
    "        # embed edges\n",
    "        m = self.edge_emb(h_atom, m_rbf, idx_s, idx_t)\n",
    "\n",
    "        # read out energy\n",
    "        # \n",
    "        # x_E_i = \\sum_j m_ji -- summing up edge features m_ji for all neighbors j\n",
    "        # of node i to predict node i's energy contribution.\n",
    "        x_E = scatter(m, idx_t, dim=0, dim_size=h_atom.shape[0], reduce=\"sum\")\n",
    "        x_E = self.out_energy(x_E)\n",
    "\n",
    "        # E = \\sum_i x_E_i\n",
    "        num_systems = torch.max(batch)+1\n",
    "        E = scatter(x_E, batch, dim=0, dim_size=num_systems, reduce=\"add\")\n",
    "        # (num_systems, 1)\n",
    "\n",
    "        # read out forces\n",
    "        # \n",
    "        # x_F is the force magnitude per edge, we multiply that by the direction of each edge ji,\n",
    "        # and sum up all the vectors to predict the resultant force on node i\n",
    "        x_F = self.out_forces(m)\n",
    "        F_st_vec = x_F[:, :, None] * V_st[:, None, :]\n",
    "        F = scatter(F_st_vec, idx_t, dim=0, dim_size=atomic_numbers.size(0), reduce=\"add\")\n",
    "        # (num_atoms, num_targets, 3)\n",
    "        F = F.squeeze(1)\n",
    "        \n",
    "        return {\"energy\": E, \"forces\": F}\n",
    "\n",
    "    @property\n",
    "    def num_params(self):\n",
    "        return sum(p.numel() for p in self.parameters())"
   ]
  },
  {
   "cell_type": "markdown",
   "metadata": {
    "id": "-Vl3WEqVAith"
   },
   "source": [
    "## Training the model"
   ]
  },
  {
   "cell_type": "code",
   "execution_count": null,
   "metadata": {
    "id": "u7E7pLiqAmnL"
   },
   "outputs": [],
   "source": [
    "model_params = {\n",
    "    'name': 'simple',\n",
    "    'emb_size': 256,\n",
    "    'num_radial': 128,\n",
    "    'cutoff': 6.0,\n",
    "    'env_exponent': 5,\n",
    "}\n",
    "\n",
    "trainer = OCPTrainer(\n",
    "    task=task,\n",
    "    model=model_params,\n",
    "    dataset=dataset,\n",
    "    optimizer=optimizer,\n",
    "    outputs={},\n",
    "    loss_fns={},\n",
    "    eval_metrics={},\n",
    "    name=\"s2ef\",\n",
    "    identifier=\"S2EF-simple\",\n",
    "    run_dir=\"./\", # directory to save results if is_debug=False. Prediction files are saved here so be careful not to override!\n",
    "    is_debug=False, # if True, do not save checkpoint, logs, or results\n",
    "    print_every=5,\n",
    "    seed=0, # random seed to use\n",
    "    logger=\"tensorboard\", # logger of choice (tensorboard and wandb supported)\n",
    "    local_rank=0,\n",
    "    amp=True, # use PyTorch Automatic Mixed Precision (faster training and less memory usage),\n",
    ")\n",
    "\n",
    "trainer.train()"
   ]
  },
  {
   "cell_type": "markdown",
   "metadata": {
    "id": "thF9lWK9Ay90"
   },
   "source": [
    "If you've wired everything up correctly, this model should be relatively small (~185k params) and achieve a force MAE of 0.0815, force cosine of 0.0321, energy MAE of 2.2772 in 2 epochs.\n",
    "\n",
    "We encourage the reader to try playing with the embedding size, cutoff radius, number of gaussian basis functions, and polynomial envelope exponent to see how it affects performance."
   ]
  },
  {
   "cell_type": "markdown",
   "metadata": {
    "id": "PSqVJXsxArvu"
   },
   "source": [
    "## Incorporating triplets and training GemNet-T\n",
    "\n",
    "Recall how this model computes edge embeddings based only on a Gaussian expansion of edge distances.\n",
    "\n",
    "To better capture 3D geometry, we should also embed angles formed by triplets or quadruplets of atoms. A model that incorporates this idea and works quite well is GemNet (Klicpera et al., NeurIPS 2021); see the following figure.\n",
    "\n",
    "![Screen Shot 2021-11-22 at 3.58.24 PM.png](data:image/png;base64,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)"
   ]
  },
  {
   "cell_type": "markdown",
   "metadata": {
    "id": "Twh6yIC5GTrW"
   },
   "source": [
    "You can train a GemNet-T (T = triplets) on S2EF-200k using the following config.\n",
    "\n",
    "Note that this is a significantly bulkier model (~3.4M params) than the one we developed above and will take longer to train."
   ]
  },
  {
   "cell_type": "code",
   "execution_count": null,
   "metadata": {
    "id": "LVbM_S0sGlOr"
   },
   "outputs": [],
   "source": [
    "model_params = {\n",
    "    'name': 'gemnet_t',\n",
    "    'num_spherical': 7,\n",
    "    'num_radial': 128,\n",
    "    'num_blocks': 1,\n",
    "    'emb_size_atom': 256,\n",
    "    'emb_size_edge': 256,\n",
    "    'emb_size_trip': 64,\n",
    "    'emb_size_rbf': 16,\n",
    "    'emb_size_cbf': 16,\n",
    "    'emb_size_bil_trip': 64,\n",
    "    'num_before_skip': 1,\n",
    "    'num_after_skip': 1,\n",
    "    'num_concat': 1,\n",
    "    'num_atom': 3,\n",
    "    'cutoff': 6.0,\n",
    "    'max_neighbors': 50,\n",
    "    'rbf': {'name': 'gaussian'},\n",
    "    'envelope': {'name': 'polynomial', 'exponent': 5},\n",
    "    'cbf': {'name': 'spherical_harmonics'},\n",
    "    'extensive': True,\n",
    "    'otf_graph': False,\n",
    "    'output_init': 'HeOrthogonal',\n",
    "    'activation': 'silu',\n",
    "    'scale_file': 'configs/s2ef/all/gemnet/scaling_factors/gemnet-dT.json',\n",
    "    'regress_forces': True,\n",
    "    'direct_forces': True,\n",
    "}\n",
    "\n",
    "trainer = OCPTrainer(\n",
    "    task=task,\n",
    "    model=model_params,\n",
    "    dataset=dataset,\n",
    "    optimizer=optimizer,\n",
    "    outputs={},\n",
    "    loss_fns={},\n",
    "    eval_metrics={},\n",
    "    name=\"s2ef\",\n",
    "    identifier=\"S2EF-gemnet-t\",\n",
    "    run_dir=\"./\", # directory to save results if is_debug=False. Prediction files are saved here so be careful not to override!\n",
    "    is_debug=False, # if True, do not save checkpoint, logs, or results\n",
    "    print_every=5,\n",
    "    seed=0, # random seed to use\n",
    "    logger=\"tensorboard\", # logger of choice (tensorboard and wandb supported)\n",
    "    local_rank=0,\n",
    "    amp=True, # use PyTorch Automatic Mixed Precision (faster training and less memory usage),\n",
    ")\n",
    "\n",
    "trainer.train()"
   ]
  },
  {
   "cell_type": "markdown",
   "metadata": {
    "id": "F-Pw3GCVHAwA"
   },
   "source": [
    "This model should achieve a force MAE of 0.0668, a force cosine of 0.1180, and an energy MAE of 0.8106 in 2 epochs, significantly better than our simple model.\n",
    "\n",
    "Again, we encourage the reader to try playing with no. of blocks, choice of basis functions, the various embedding sizes to develop intuition for the interplay between these hyperparameters."
   ]
  },
  {
   "cell_type": "markdown",
   "metadata": {
    "id": "Rzx0lArZJ6r0"
   },
   "source": [
    "# (Optional) OCP Calculator <a name=\"calc\"></a>\n",
    "\n",
    "For those interested in using our pretrained models for other applications, we provide an [ASE](https://wiki.fysik.dtu.dk/ase/#:~:text=The%20Atomic%20Simulation%20Environment%20(ASE,under%20the%20GNU%20LGPL%20license.)-compatible Calculator to interface with ASE's functionality."
   ]
  },
  {
   "cell_type": "markdown",
   "metadata": {
    "id": "QGaXyeS_8yHp"
   },
   "source": [
    "## Download pretrained checkpoint\n",
    "\n",
    "We have released checkpoints of all the models on the leaderboard [here](https://github.com/Open-Catalyst-Project/ocp/blob/master/MODELS.md). These trained models can be used as an ASE calculator for various calculations.\n",
    "\n",
    "For this tutorial we download our current best model checkpoint: GemNet-T"
   ]
  },
  {
   "cell_type": "code",
   "execution_count": null,
   "metadata": {
    "id": "MBCRi69284Ve"
   },
   "outputs": [],
   "source": [
    "!wget -q https://dl.fbaipublicfiles.com/opencatalystproject/models/2021_08/s2ef/gemnet_t_direct_h512_all.pt\n",
    "checkpoint_path = \"/content/ocp/gemnet_t_direct_h512_all.pt\""
   ]
  },
  {
   "cell_type": "markdown",
   "metadata": {
    "id": "TNQ1dNVG93kH"
   },
   "source": [
    "## Using the OCP Calculator\n"
   ]
  },
  {
   "cell_type": "code",
   "execution_count": null,
   "metadata": {
    "colab": {
     "base_uri": "https://localhost:8080/"
    },
    "id": "o_MHpzbhPKN_",
    "outputId": "fa4336cf-ba85-43b6-e608-551ffcf3763a"
   },
   "outputs": [],
   "source": [
    "from ocpmodels.common.relaxation.ase_utils import OCPCalculator\n",
    "import ase.io\n",
    "from ase.optimize import BFGS\n",
    "from ase.build import fcc100, add_adsorbate, molecule\n",
    "import os\n",
    "from ase.constraints import FixAtoms\n",
    "\n",
    "# Construct a sample structure\n",
    "adslab = fcc100(\"Cu\", size=(3, 3, 3))\n",
    "adsorbate = molecule(\"C3H8\")\n",
    "add_adsorbate(adslab, adsorbate, 3, offset=(1, 1))\n",
    "tags = np.zeros(len(adslab))\n",
    "tags[18:27] = 1\n",
    "tags[27:] = 2\n",
    "adslab.set_tags(tags)\n",
    "cons= FixAtoms(indices=[atom.index for atom in adslab if (atom.tag == 0)])\n",
    "adslab.set_constraint(cons)\n",
    "adslab.center(vacuum=13.0, axis=2)\n",
    "adslab.set_pbc(True)\n",
    "\n",
    "# Define the calculator\n",
    "calc = OCPCalculator(checkpoint_path=checkpoint_path)\n",
    "\n",
    "# Set up the calculator\n",
    "adslab.calc = calc\n",
    "\n",
    "os.makedirs(\"data/sample_ml_relax\", exist_ok=True)\n",
    "opt = BFGS(adslab, trajectory=\"data/sample_ml_relax/toy_c3h8_relax.traj\")\n",
    "\n",
    "opt.run(fmax=0.05, steps=100)"
   ]
  },
  {
   "cell_type": "markdown",
   "metadata": {
    "id": "TUH5BaaXo-ca"
   },
   "source": [
    "<a name=\"lmdb\"></a>\n",
    "# (Optional) Creating your own LMDBs for use in the OCP repository \n",
    "\n",
    "In order to interface with our repository, the data mustbe structured and organized in a specific format. Below we walk you through on how to create such datasets with your own non-OC20 data that may help with your research.\n",
    "\n",
    "For this tutorial we use the toy C3H8 trajectory we previously generated [here](#data-description)."
   ]
  },
  {
   "cell_type": "markdown",
   "metadata": {
    "id": "o7cG3WhLnuqg"
   },
   "source": [
    "\n",
    "\n",
    "#### Initial Structure to Relaxed Energy (IS2RE) LMDBs\n",
    "IS2RE/IS2RS LMDBs utilize the LmdbDataset dataset. This dataset expects the data to be contained in a **single** LMDB file. In addition to the attributes defined by AtomsToGraph, the following attributes must be added for the IS2RE/IS2RS tasks:\n",
    "\n",
    "- pos_relaxed: Relaxed adslab positions\n",
    "- sid: Unique system identifier, arbitrary\n",
    "- y_init: Initial adslab energy, formerly Data.y\n",
    "- y_relaxed: Relaxed adslab energy\n",
    "- tags (optional): 0 - subsurface, 1 - surface, 2 - adsorbate\n",
    "\n",
    "\n",
    "As a demo, we will use the above generated data to create an IS2R* LMDB file.\n"
   ]
  },
  {
   "cell_type": "code",
   "execution_count": null,
   "metadata": {
    "id": "nweCG0y5nxlw"
   },
   "outputs": [],
   "source": [
    "from ocpmodels.preprocessing import AtomsToGraphs\n",
    "\n",
    "\"\"\"\n",
    "args description:\n",
    "\n",
    "max neigh (int): maximum number of neighors to be considered while constructing a graph\n",
    "radius (int): Neighbors are considered only within this radius cutoff in Angstrom\n",
    "r_energy (bool): Stored energy value in the Data object; False for test data\n",
    "r_forces (bool): Stores forces value in the Data object; False for test data\n",
    "r_distances (bool): pre-calculates distances taking into account PBC and max neigh/radius\n",
    "  If you set it to False, make sure to add \"otf_graph = True\" under models in config for runs\n",
    "r_fixed (bools): True if you want to fix the subsurface atoms\n",
    "\"\"\"\n",
    "\n",
    "a2g = AtomsToGraphs(\n",
    "    max_neigh=50,\n",
    "    radius=6,\n",
    "    r_energy=True,    \n",
    "    r_forces=True,\n",
    "    r_distances=False, \n",
    "    r_fixed=True,\n",
    ")"
   ]
  },
  {
   "cell_type": "code",
   "execution_count": null,
   "metadata": {
    "id": "K16pPnQdnzro"
   },
   "outputs": [],
   "source": [
    "import lmdb\n",
    "\n",
    "\"\"\"\n",
    "For most cases one just needs to change the name of the lmdb as they require.\n",
    "Make sure to give the entire path in the config (with .lmdb) for IS2RE tasks\n",
    "\"\"\"\n",
    "\n",
    "db = lmdb.open(\n",
    "    \"data/toy_C3H8.lmdb\",\n",
    "    map_size=1099511627776 * 2,\n",
    "    subdir=False,\n",
    "    meminit=False,\n",
    "    map_async=True,\n",
    ")"
   ]
  },
  {
   "cell_type": "code",
   "execution_count": null,
   "metadata": {
    "id": "t_8oaE5qn1Za"
   },
   "outputs": [],
   "source": [
    "\"\"\"\n",
    "This method converts extracts all features from trajectory file and convert to Data Object\n",
    "\"\"\"\n",
    "\n",
    "def read_trajectory_extract_features(a2g, traj_path):\n",
    "    # Read the traj file\n",
    "    traj = ase.io.read(traj_path, \":\")\n",
    "\n",
    "    # Get tags if you had defined those in the atoms object, if not skip this line\n",
    "    tags = traj[0].get_tags()\n",
    "\n",
    "    # Collect only initial and final image as this is IS2RS task\n",
    "    images = [traj[0], traj[-1]]\n",
    "\n",
    "    # Converts a list of atoms object to a list of Data object using a2g defined above\n",
    "    data_objects = a2g.convert_all(images, disable_tqdm=True)\n",
    "\n",
    "    # Add tags to the data objects if you have them (we would suggest to do so), if not skip this\n",
    "    data_objects[0].tags = torch.LongTensor(tags)\n",
    "    data_objects[1].tags = torch.LongTensor(tags)\n",
    "\n",
    "    return data_objects"
   ]
  },
  {
   "cell_type": "code",
   "execution_count": null,
   "metadata": {
    "id": "qSfOagphn7yy"
   },
   "outputs": [],
   "source": [
    "import torch\n",
    "import pickle\n",
    "system_paths = [\"data/toy_c3h8_relax.traj\"] # specify list of trajectory files you wish to write to LMDBs\n",
    "idx = 0\n",
    "\n",
    "for system in system_paths:\n",
    "    # Extract Data object\n",
    "    data_objects = read_trajectory_extract_features(a2g, system)\n",
    "    initial_struc = data_objects[0]\n",
    "    relaxed_struc = data_objects[1]\n",
    "    \n",
    "    initial_struc.y_init = initial_struc.y # subtract off reference energy, if applicable\n",
    "    del initial_struc.y\n",
    "    initial_struc.y_relaxed = relaxed_struc.y # subtract off reference energy, if applicable\n",
    "    initial_struc.pos_relaxed = relaxed_struc.pos\n",
    "    \n",
    "    # Filter data if necessary\n",
    "    # OCP filters adsorption energies > |10| eV\n",
    "    \n",
    "    initial_struc.sid = idx  # arbitrary unique identifier \n",
    "    \n",
    "    # no neighbor edge case check\n",
    "    if initial_struc.edge_index.shape[1] == 0:\n",
    "        print(\"no neighbors\", traj_path)\n",
    "        continue\n",
    "    \n",
    "    # Write to LMDB\n",
    "    txn = db.begin(write=True)\n",
    "    txn.put(f\"{idx}\".encode(\"ascii\"), pickle.dumps(initial_struc, protocol=-1))\n",
    "    txn.commit()\n",
    "    db.sync()\n",
    "    idx += 1\n",
    "\n",
    "db.close()"
   ]
  },
  {
   "cell_type": "code",
   "execution_count": null,
   "metadata": {
    "colab": {
     "base_uri": "https://localhost:8080/"
    },
    "id": "p8ftTehrn9pG",
    "outputId": "74c95b8a-e260-4b6f-92c4-3544f28deda5"
   },
   "outputs": [],
   "source": [
    "from ocpmodels.datasets import LmdbDataset\n",
    "\n",
    "# LmdbDataset is out custom Dataset method to read the lmdbs as Data objects. Note that we need to give the entire path (including lmdb) for IS2RE\n",
    "dataset = LmdbDataset({\"src\": \"data/toy_C3H8.lmdb\"})\n",
    "\n",
    "print(\"Size of the dataset created:\", len(dataset))\n",
    "print(dataset[0])"
   ]
  },
  {
   "cell_type": "markdown",
   "metadata": {
    "id": "UWYBEis2n_ye"
   },
   "source": [
    "#### Structure to Energy and Forces (S2EF) LMDBs\n",
    "\n",
    "S2EF LMDBs utilize the LmdbDatset dataset. This dataset expects a directory of LMDB files. In addition to the attributes defined by AtomsToGraph, the following attributes must be added for the S2EF task:\n",
    "\n",
    "- tags (optional): 0 - subsurface, 1 - surface, 2 - adsorbate\n",
    "- fid: Frame index along the trajcetory\n",
    "- sid- sid: Unique system identifier, arbitrary\n",
    "\n",
    "Additionally, a \"length\" key must be added to each LMDB file.\n",
    "\n",
    "As a demo, we will use the above generated data to create an S2EF LMDB dataset"
   ]
  },
  {
   "cell_type": "code",
   "execution_count": null,
   "metadata": {
    "id": "k74bbQJuoBwy"
   },
   "outputs": [],
   "source": [
    "os.makedirs(\"data/s2ef\", exist_ok=True)\n",
    "db = lmdb.open(\n",
    "    \"data/s2ef/toy_C3H8.lmdb\",\n",
    "    map_size=1099511627776 * 2,\n",
    "    subdir=False,\n",
    "    meminit=False,\n",
    "    map_async=True,\n",
    ")"
   ]
  },
  {
   "cell_type": "code",
   "execution_count": null,
   "metadata": {
    "colab": {
     "base_uri": "https://localhost:8080/"
    },
    "id": "-6VuR1lBoDfY",
    "outputId": "0c3e104b-d22f-4376-85f3-0cd505c8914d"
   },
   "outputs": [],
   "source": [
    "from tqdm import tqdm\n",
    "tags = traj[0].get_tags()\n",
    "data_objects = a2g.convert_all(traj, disable_tqdm=True)\n",
    "\n",
    "\n",
    "for fid, data in tqdm(enumerate(data_objects), total=len(data_objects)):\n",
    "    #assign sid\n",
    "    data.sid = torch.LongTensor([0])\n",
    "    \n",
    "    #assign fid\n",
    "    data.fid = torch.LongTensor([fid])\n",
    "    \n",
    "    #assign tags, if available\n",
    "    data.tags = torch.LongTensor(tags)\n",
    "    \n",
    "    # Filter data if necessary\n",
    "    # OCP filters adsorption energies > |10| eV and forces > |50| eV/A\n",
    "\n",
    "    # no neighbor edge case check\n",
    "    if data.edge_index.shape[1] == 0:\n",
    "        print(\"no neighbors\", traj_path)\n",
    "        continue\n",
    "\n",
    "    txn = db.begin(write=True)\n",
    "    txn.put(f\"{fid}\".encode(\"ascii\"), pickle.dumps(data, protocol=-1))\n",
    "    txn.commit()\n",
    "    \n",
    "txn = db.begin(write=True)\n",
    "txn.put(f\"length\".encode(\"ascii\"), pickle.dumps(len(data_objects), protocol=-1))\n",
    "txn.commit()\n",
    "\n",
    "\n",
    "db.sync()\n",
    "db.close()"
   ]
  },
  {
   "cell_type": "markdown",
   "metadata": {
    "id": "rJ2ZXuBMH8xt"
   },
   "source": [
    "# Running on command line [Preferred way to train models] <a name=\"cmd\"></a>"
   ]
  },
  {
   "cell_type": "markdown",
   "metadata": {
    "id": "aj8HsmxjISED"
   },
   "source": [
    "The previous sections of this notebook are intended to demonstrate the inner workings of our codebase. For regular training, we suggest that you train and evaluate on command line.\n",
    "\n",
    "1. Clone our repo at https://github.com/Open-Catalyst-Project/ocp and set up the environment according to the readme.\n",
    "2. Download relevant data ([see above for info](https://colab.research.google.com/drive/1oGZcrakB4Pbj8Xq74lSvcRDUHw9L-Dh5#scrollTo=jXoiLncsU3pe)).\n"
   ]
  },
  {
   "cell_type": "markdown",
   "metadata": {
    "id": "lAdwlMNOKwYj"
   },
   "source": [
    "3. In the config file, modify the path of the data [train](https://github.com/Open-Catalyst-Project/ocp/blob/master/configs/is2re/10k/base.yml#L4) [val](https://github.com/Open-Catalyst-Project/ocp/blob/master/configs/is2re/10k/base.yml#L8), [normalization parameters](https://github.com/Open-Catalyst-Project/ocp/blob/master/configs/is2re/10k/base.yml#L5-L7)  as well as any other [model](https://github.com/Open-Catalyst-Project/ocp/blob/master/configs/is2re/10k/dimenet_plus_plus/dpp.yml#L4-L16) or [training](https://github.com/Open-Catalyst-Project/ocp/blob/master/configs/is2re/10k/dimenet_plus_plus/dpp.yml#L23-L35) args. \n",
    "\n",
    "For a simple example, we'll train DimeNet++ on IS2RE demo data: \\\n",
    "a. Modify the train data path in `/contents/ocp/configs/is2re/10k/base.yml` in \n",
    "Line 4 to `/contents/ocp/data/is2re/train_10k/data.lmdb` and val data path in Line 8 to `/contents/ocp/data/is2re/val_2k/data.lmdb`. \\\n",
    "b. Calculate the mean and std for train data and modify Lines 6-7 respectively \\\n",
    "c. We can change the model parameters in `/contents/ocp/configs/is2re/10k/dimenet_plus_plus/dpp.yml` and we suggest you to change the lr_milestones and warmup_steps as the data here is smaller (these need to be tuned for every dataset).\n"
   ]
  },
  {
   "cell_type": "markdown",
   "metadata": {
    "id": "HjWsAaojKzpH"
   },
   "source": [
    "4. Train: `python main.py --mode train --config-yml configs/is2re/10k/dimenet_plus_plus/dpp.yml --identifier dpp_is2re_sample`\n"
   ]
  },
  {
   "cell_type": "code",
   "execution_count": null,
   "metadata": {
    "id": "mCgs4eGSO-HM"
   },
   "outputs": [],
   "source": [
    "# Optional block to try command line training \n",
    "# Note that config args can be added in the command line. For example, --optim.batch_size=1"
   ]
  },
  {
   "cell_type": "markdown",
   "metadata": {
    "id": "q1xRtYWTO8Xb"
   },
   "source": [
    "5. Add a data path as a test set to `configs/is2re/10k/base.yml`\n",
    "6. Run predictions with the trained model: \n",
    "`python main.py --mode predict --config-yml configs/is2re/10k/dimenet_plus_plus/dpp.yml --checkpoint checkpoints/[datetime]-dpp_is2re_sample/checkpoint.pt`\n",
    "7. View energy predictions at `results/[datetime]/is2re_predictions.npz`\n",
    "\n",
    "For more information on how to train and evaluate, see [this readme](https://github.com/Open-Catalyst-Project/ocp/blob/master/TRAIN.md). For checkpoints of publicly available trained models, see [MODELS.md](https://github.com/Open-Catalyst-Project/ocp/blob/master/MODELS.md)."
   ]
  },
  {
   "cell_type": "markdown",
   "metadata": {
    "id": "oHIjM6eMwlXY"
   },
   "source": [
    "# Limitations <a name=\"limit\"></a>\n",
    "The OpenCatalyst project is motivated by the problems we face due to climate change, many of which require innovative solutions to reduce energy usage and replace traditional chemical feedstocks with renewable alternatives. For example, one of the most energy intensive chemical processes is the development of new electrochemical catalysts for ammonia fertilizer production that helped to feed the world’s growing population during the 20th century. This is also an illustrative example of possible unintended consequences as advancements in chemistry and materials may be used for numerous purposes. As ammonia fertilization increased in use, its overuse in today’s farming has led to ocean “dead zones” and its production is very carbon intensive. Knowledge and techniques used to create ammonia were also transferred to the creation of explosives during wartime. We hope to steer the use of ML for atomic simulations to societally-beneficial uses by training and testing our approaches on datasets, such as OC20, that were specifically designed to address chemical reactions useful for addressing climate change."
   ]
  },
  {
   "cell_type": "markdown",
   "metadata": {
    "id": "CLLCQpv14Gsx"
   },
   "source": [
    "# Next Steps <a name=\"steps\"></a>\n",
    "\n",
    "While progress has been well underway - https://opencatalystproject.org/leaderboard.html, a considerable gap still exists between state-of-the-art models and our target goals. We offer some some general thoughts as to next steps for the readers to ponder on or explore:\n",
    "\n",
    "* GNN depth has consistenly improved model performance. What limitations to depth are there? How far can we push deeper models for OC20? \n",
    "* Our best performing models have little to no physical biases encoded. Can we incorporate such biases to improve our models? Experiments with physically inspired embeddings have had no advantage vs. random initializations, are there better ways to incorporate this information into the models?\n",
    "* Uncertainty estimation will play an important role in later stages of the project when it comes to large scale screening. How can we get reliable uncertainty estimates from large scale GNNs?\n",
    "* Are we limited to message-passing GNNs? Can we leverage alternative architectures for similiar or better performance?\n",
    "* Trajectories are nothing more than sequential data points. How can we use sequential modeling techniques to model the full trajectory?\n",
    "\n",
    "OC20 is a large and diverse dataset with many splits. For those with limited resources but unsure where to start, we provide some general recommendations:\n",
    "\n",
    "* The IS2RE-direct task is a great place to start. With the largest training set containing ~460k data points, this task is easily accesible for those with even just a single GPU.\n",
    "* Those interested in the more general S2EF task don't need to train on the All set to get meaningful performance.\n",
    "    * Results on the 2M dataset are often sufficient to highlight model improvements.\n",
    "    * For a fixed compute budget (e.g. fixed number of steps), training on the All set often leads to better performance.\n",
    "* The S2EF 200k dataset is fairly noisy, trying to find meaningful trends using this dataset can be difficult.\n",
    "\n"
   ]
  },
  {
   "cell_type": "markdown",
   "metadata": {
    "id": "PkKqewK_-ZLD"
   },
   "source": [
    "<a name=\"references\"></a>\n",
    "# References\n",
    "\n",
    "* Open Catalyst codebase: https://github.com/Open-Catalyst-Project/ocp/\n",
    "* Open Catalyst webpage: https://opencatalystproject.org/\n",
    "* [Electrocatalysis white paper](https://arxiv.org/pdf/2010.09435.pdf): C. Lawrence Zitnick, Lowik Chanussot, Abhishek Das, Siddharth Goyal, Javier Heras-Domingo, Caleb Ho, Weihua Hu, Thibaut Lavril, Aini Palizhati, Morgane Riviere, Muhammed Shuaibi, Anuroop Sriram, Kevin Tran, Brandon Wood, Junwoong Yoon, Devi Parikh, Zachary Ulissi: “An Introduction to Electrocatalyst Design using Machine Learning for Renewable Energy Storage”, 2020; arXiv:2010.09435.\n",
    "* [OC20 dataset paper](https://arxiv.org/pdf/2010.09990.pdf): L. Chanussot, A. Das, S. Goyal, T. Lavril, M. Shuaibi, M. Riviere, K. Tran, J. Heras-Domingo, C. Ho, W. Hu, A. Palizhati, A. Sriram, B. Wood, J. Yoon, D. Parikh, C. L. Zitnick, and Z. Ulissi. The Open Catalyst 2020 (oc20) dataset and community challenges. ACS Catalysis, 2021.\n",
    "* [Gemnet model:](https://arxiv.org/abs/2106.08903) Johannes Klicpera, Florian Becker, and Stephan Günnemann. Gemnet: Universal directional graph neural networks for molecules, 2021.\n",
    "\n",
    "\n"
   ]
  }
 ],
 "metadata": {
  "accelerator": "GPU",
  "colab": {
   "collapsed_sections": [
    "PoF-BxSM5Jkc",
    "bSt6h_Q-oqjK",
    "pto2SpJPwlz1",
    "gaauxWdNw_-4",
    "TcUvAI81xoSt",
    "TUH5BaaXo-ca"
   ],
   "include_colab_link": true,
   "name": "CCAI - OCP Tutorial",
   "provenance": [],
   "toc_visible": true
  },
  "kernelspec": {
   "display_name": "python9_kernel",
   "language": "python",
   "name": "python9_kernel"
  },
  "language_info": {
   "codemirror_mode": {
    "name": "ipython",
    "version": 3
   },
   "file_extension": ".py",
   "mimetype": "text/x-python",
   "name": "python",
   "nbconvert_exporter": "python",
   "pygments_lexer": "ipython3",
   "version": "3.9.18"
  }
 },
 "nbformat": 4,
 "nbformat_minor": 4
}
